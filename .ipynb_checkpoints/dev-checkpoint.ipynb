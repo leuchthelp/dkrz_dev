{
 "cells": [
  {
   "cell_type": "code",
   "execution_count": 1,
   "id": "initial_id",
   "metadata": {
    "ExecuteTime": {
     "end_time": "2024-11-04T14:57:22.208645Z",
     "start_time": "2024-11-04T14:57:21.344624Z"
    }
   },
   "outputs": [],
   "source": [
    "import zarr, h5py, xarray as xr\n",
    "from mpi4py import MPI\n",
    "from netCDF4 import Dataset\n"
   ]
  },
  {
   "cell_type": "code",
   "execution_count": 2,
   "id": "8ad470974e80e00a",
   "metadata": {
    "ExecuteTime": {
     "end_time": "2024-11-04T14:57:22.409257Z",
     "start_time": "2024-11-04T14:57:22.224702Z"
    }
   },
   "outputs": [
    {
     "name": "stdout",
     "output_type": "stream",
     "text": [
      "NETCDF4\n"
     ]
    },
    {
     "ename": "AttributeError",
     "evalue": "NetCDF: Not a valid ID",
     "output_type": "error",
     "traceback": [
      "\u001b[0;31m---------------------------------------------------------------------------\u001b[0m",
      "\u001b[0;31mAttributeError\u001b[0m                            Traceback (most recent call last)",
      "Cell \u001b[0;32mIn[2], line 15\u001b[0m\n\u001b[1;32m     13\u001b[0m \u001b[38;5;66;03m#Todo import netcdf data through hdf5 to zarr (for now)\u001b[39;00m\n\u001b[1;32m     14\u001b[0m dest_zarr \u001b[38;5;241m=\u001b[39m zarr\u001b[38;5;241m.\u001b[39mopen_group(\u001b[38;5;124m'\u001b[39m\u001b[38;5;124mdata/example2.zarr\u001b[39m\u001b[38;5;124m'\u001b[39m, mode\u001b[38;5;241m=\u001b[39m\u001b[38;5;124m'\u001b[39m\u001b[38;5;124mw\u001b[39m\u001b[38;5;124m'\u001b[39m)\n\u001b[0;32m---> 15\u001b[0m \u001b[43mzarr\u001b[49m\u001b[38;5;241;43m.\u001b[39;49m\u001b[43mcopy_all\u001b[49m\u001b[43m(\u001b[49m\u001b[43mdest_hdf\u001b[49m\u001b[43m,\u001b[49m\u001b[43m \u001b[49m\u001b[43mdest_zarr\u001b[49m\u001b[43m)\u001b[49m\n\u001b[1;32m     16\u001b[0m dest_zarr\u001b[38;5;241m.\u001b[39mtree()\n\u001b[1;32m     18\u001b[0m \u001b[38;5;66;03m#Todo conversion to netcdf\u001b[39;00m\n\u001b[1;32m     19\u001b[0m \n\u001b[1;32m     20\u001b[0m \u001b[38;5;66;03m#for hdf5 nothing needs to be done\u001b[39;00m\n\u001b[0;32m   (...)\u001b[0m\n\u001b[1;32m     36\u001b[0m \n\u001b[1;32m     37\u001b[0m \u001b[38;5;66;03m#Todo setup benchmark for parallel with subfileing and async / I/O\u001b[39;00m\n",
      "File \u001b[0;32m~/dkrz_dev/venv/lib/python3.12/site-packages/zarr/convenience.py:1202\u001b[0m, in \u001b[0;36mcopy_all\u001b[0;34m(source, dest, shallow, without_attrs, log, if_exists, dry_run, **create_kws)\u001b[0m\n\u001b[1;32m   1200\u001b[0m \u001b[38;5;66;03m# setup logging\u001b[39;00m\n\u001b[1;32m   1201\u001b[0m \u001b[38;5;28;01mwith\u001b[39;00m _LogWriter(log) \u001b[38;5;28;01mas\u001b[39;00m log:\n\u001b[0;32m-> 1202\u001b[0m     \u001b[38;5;28;01mfor\u001b[39;00m k \u001b[38;5;129;01min\u001b[39;00m \u001b[43msource\u001b[49m\u001b[38;5;241;43m.\u001b[39;49m\u001b[43mkeys\u001b[49m():\n\u001b[1;32m   1203\u001b[0m         c, s, b \u001b[38;5;241m=\u001b[39m _copy(\n\u001b[1;32m   1204\u001b[0m             log,\n\u001b[1;32m   1205\u001b[0m             source[k],\n\u001b[0;32m   (...)\u001b[0m\n\u001b[1;32m   1213\u001b[0m             \u001b[38;5;241m*\u001b[39m\u001b[38;5;241m*\u001b[39mcreate_kws,\n\u001b[1;32m   1214\u001b[0m         )\n\u001b[1;32m   1215\u001b[0m         n_copied \u001b[38;5;241m+\u001b[39m\u001b[38;5;241m=\u001b[39m c\n",
      "File \u001b[0;32msrc/netCDF4/_netCDF4.pyx:3182\u001b[0m, in \u001b[0;36mnetCDF4._netCDF4.Dataset.__getattr__\u001b[0;34m()\u001b[0m\n",
      "File \u001b[0;32msrc/netCDF4/_netCDF4.pyx:3127\u001b[0m, in \u001b[0;36mnetCDF4._netCDF4.Dataset.getncattr\u001b[0;34m()\u001b[0m\n",
      "File \u001b[0;32msrc/netCDF4/_netCDF4.pyx:1667\u001b[0m, in \u001b[0;36mnetCDF4._netCDF4._get_att\u001b[0;34m()\u001b[0m\n",
      "File \u001b[0;32msrc/netCDF4/_netCDF4.pyx:2164\u001b[0m, in \u001b[0;36mnetCDF4._netCDF4._ensure_nc_success\u001b[0;34m()\u001b[0m\n",
      "\u001b[0;31mAttributeError\u001b[0m: NetCDF: Not a valid ID"
     ]
    }
   ],
   "source": [
    "if __name__ == '__main__':\n",
    "\n",
    "    #Todo read up on hdf5, zarr, netcdf, xarray, mpi, lustre, ceph\n",
    "    # and check back with dkrz their structure, code conventions, datasets\n",
    "\n",
    "    # Todo setup test cases proactively to ensure proper comparability and best practice\n",
    "\n",
    "    #Todo use netcdf dataset for testing (for now) should already bet hdf5\n",
    "    ds = xr.\n",
    "\n",
    "    #Todo import netcdf data through hdf5 to zarr (for now)\n",
    "    dest_zarr = zarr.open_group('data/example2.zarr', mode='w')\n",
    "    zarr.copy_all(dest_hdf, dest_zarr)\n",
    "    dest_zarr.tree()\n",
    "\n",
    "    #Todo conversion to netcdf\n",
    "\n",
    "    #for hdf5 nothing needs to be done\n",
    "\n",
    "    #for zarr (wip). netcdf is developing its own implementation\n",
    "    # but that isn't available yet so I will work on something myself in the meantime\n",
    "\n",
    "    \n",
    "\n",
    "\n",
    "\n",
    "    #Todo setup Lustre and Ceph (need info on that)\n",
    "\n",
    "    #Todo setup benchmark (prob compression, filesize, access-time, r/w-time) for sequential access\n",
    "\n",
    "    #Todo setup benchmark for parallel access\n",
    "\n",
    "    #Todo setup benchmark for random access\n",
    "\n",
    "    #Todo setup benchmark for parallel with subfileing and async / I/O\n"
   ]
  }
 ],
 "metadata": {
  "kernelspec": {
   "display_name": "Python 3 (ipykernel)",
   "language": "python",
   "name": "python3"
  },
  "language_info": {
   "codemirror_mode": {
    "name": "ipython",
    "version": 3
   },
   "file_extension": ".py",
   "mimetype": "text/x-python",
   "name": "python",
   "nbconvert_exporter": "python",
   "pygments_lexer": "ipython3",
   "version": "3.12.3"
  }
 },
 "nbformat": 4,
 "nbformat_minor": 5
}

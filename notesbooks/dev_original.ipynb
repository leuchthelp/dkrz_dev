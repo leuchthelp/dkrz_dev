{
 "cells": [
  {
   "cell_type": "code",
   "execution_count": 6,
   "id": "c6729ccd",
   "metadata": {},
   "outputs": [
    {
     "ename": "ModuleNotFoundError",
     "evalue": "No module named 'func'",
     "output_type": "error",
     "traceback": [
      "\u001b[0;31m---------------------------------------------------------------------------\u001b[0m",
      "\u001b[0;31mModuleNotFoundError\u001b[0m                       Traceback (most recent call last)",
      "Cell \u001b[0;32mIn[6], line 1\u001b[0m\n\u001b[0;32m----> 1\u001b[0m \u001b[38;5;28;01mimport\u001b[39;00m\u001b[38;5;250m \u001b[39m\u001b[38;5;21;01mfunc\u001b[39;00m\u001b[38;5;21;01m.\u001b[39;00m\u001b[38;5;21;01mdatastruct\u001b[39;00m\n\u001b[1;32m      4\u001b[0m new \u001b[38;5;241m=\u001b[39m ds\u001b[38;5;241m.\u001b[39mDatastruct()\n\u001b[1;32m      5\u001b[0m \u001b[38;5;66;03m#new.create(path=\"data/test_dataset.zarr\", shape=(512, 512, 512), chunks=(512, 512, 8), mode=\"r+\", engine=\"zarr\")\u001b[39;00m\n",
      "\u001b[0;31mModuleNotFoundError\u001b[0m: No module named 'func'"
     ]
    }
   ],
   "source": [
    "import func.datastruct as ds\n",
    "        \n",
    "\n",
    "new = ds.Datastruct()\n",
    "#new.create(path=\"data/test_dataset.zarr\", shape=(512, 512, 512), chunks=(512, 512, 8), mode=\"r+\", engine=\"zarr\")\n",
    "\n",
    "new.create(path=\"data/test_dataset.h5\", shape=(512, 512, 512), chunks=(512, 512, 8), mode=\"r+\", engine=\"hdf5\")\n"
   ]
  }
 ],
 "metadata": {
  "kernelspec": {
   "display_name": "Python 3",
   "language": "python",
   "name": "python3"
  },
  "language_info": {
   "codemirror_mode": {
    "name": "ipython",
    "version": 3
   },
   "file_extension": ".py",
   "mimetype": "text/x-python",
   "name": "python",
   "nbconvert_exporter": "python",
   "pygments_lexer": "ipython3",
   "version": "3.12.8"
  }
 },
 "nbformat": 4,
 "nbformat_minor": 5
}

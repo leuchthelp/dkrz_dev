{
 "cells": [
  {
   "cell_type": "code",
   "execution_count": 4,
   "id": "649c4b76",
   "metadata": {},
   "outputs": [],
   "source": [
    "import pandas as pd\n",
    "import numpy as np\n",
    "\n",
    "df_bench = pd.DataFrame()\n",
    "df_bench.insert(0, \"bench zarr\", ds_zarr.log)\n",
    "df_bench.insert(1, \"bench hdf5\", ds_hdf5.log)\n",
    "df_bench.insert(2, \"bench netcdf4\", ds_netcdf4.log)\n",
    "\n",
    "def filter_outliers(df) -> pd.DataFrame:\n",
    "    cols = df.select_dtypes('number').columns\n",
    "    df_sub = df.loc[:, cols]\n",
    "    \n",
    "    iqr = df_sub.quantile(0.75, numeric_only=False) - df_sub.quantile(0.25, numeric_only=False)\n",
    "    lim = np.abs((df_sub - df_sub.median()) / iqr) < 2.22\n",
    "    df.loc[:, cols] = df_sub.where(lim, np.nan)\n",
    "    df.dropna(inplace=True)\n",
    "    \n",
    "    return df\n",
    "\n",
    "if False:\n",
    "    \n",
    "    df_bench = filter_outliers(df_bench)"
   ]
  },
  {
   "cell_type": "code",
   "execution_count": null,
   "id": "af09a2f3",
   "metadata": {},
   "outputs": [],
   "source": [
    "import func.datastruct as ds\n",
    "\n",
    "form = {\"X\": ([512, 512, 512], [512, 512, 1]), \"Y\": ([10, 10], [2, 2])}\n",
    "\n",
    "ds_test = ds.Datastruct()\n",
    "ds_test.create(path=\"test.h5\", form=form, engine=\"hdf5\")"
   ]
  },
  {
   "cell_type": "code",
   "execution_count": null,
   "id": "f23fc3f6",
   "metadata": {},
   "outputs": [],
   "source": [
    "import func.datastruct as ds\n",
    "ds_test = ds.Datastruct()\n",
    "ds_test.open(mode=\"r+\", engine=\"hdf5\", path=\"test.h5\")\n",
    "print(ds_test.dataset[\"X\"][:])"
   ]
  },
  {
   "cell_type": "code",
   "execution_count": null,
   "id": "c4c20ce3",
   "metadata": {},
   "outputs": [],
   "source": [
    "import func.datastruct as ds\n",
    "\n",
    "form = {\"X\": ([512, 512, 512], [512, 512, 1]), \"Y\": ([10, 10], [2, 2])}\n",
    "\n",
    "\n",
    "ds_test = ds.Datastruct()\n",
    "ds_test.create(path=\"test.nc\", form=form, engine=\"netcdf4\")"
   ]
  },
  {
   "cell_type": "code",
   "execution_count": null,
   "id": "959d4519",
   "metadata": {},
   "outputs": [],
   "source": [
    "ds_test.open(mode=\"r+\", engine=\"netcdf4\", path=\"test.nc\")\n",
    "print(ds_test.dataset.variables[\"Y\"])"
   ]
  },
  {
   "cell_type": "code",
   "execution_count": 59,
   "id": "069c0b5c",
   "metadata": {},
   "outputs": [],
   "source": [
    "%%script false --no-raise-error\n",
    "import pandas as pd\n",
    "\n",
    "df_bench = pd.read_json(\"data/plotting/plotting_bench(1).json\")"
   ]
  },
  {
   "cell_type": "code",
   "execution_count": 17,
   "id": "b5e9077d",
   "metadata": {},
   "outputs": [],
   "source": [
    "#%%script false --no-raise-error\n",
    "import pandas as pd\n",
    "\n",
    "df_bench = pd.read_json(\"data/plotting/plotting_bench_variable.json\")"
   ]
  },
  {
   "cell_type": "code",
   "execution_count": 8,
   "id": "cc7ccdea",
   "metadata": {},
   "outputs": [
    {
     "data": {
      "application/vnd.plotly.v1+json": {
       "config": {
        "plotlyServerURL": "https://plot.ly"
       },
       "data": [
        {
         "alignmentgroup": "True",
         "hovertemplate": "variable=%{x}<br>value=%{y}<extra></extra>",
         "legendgroup": "",
         "marker": {
          "color": "#636efa"
         },
         "name": "",
         "notched": false,
         "offsetgroup": "",
         "orientation": "v",
         "showlegend": false,
         "type": "box",
         "x": [
          "hdf5-c-read",
          "hdf5-c-read",
          "hdf5-c-read",
          "hdf5-c-read",
          "hdf5-c-read",
          "hdf5-c-read",
          "hdf5-c-read",
          "hdf5-c-read",
          "hdf5-c-read",
          "hdf5-c-read",
          "hdf5-c-read",
          "hdf5-c-read",
          "hdf5-c-read",
          "hdf5-c-read",
          "hdf5-c-read",
          "hdf5-c-read",
          "hdf5-c-read",
          "hdf5-c-read",
          "hdf5-c-read",
          "hdf5-c-read",
          "hdf5-c-read",
          "hdf5-c-read",
          "hdf5-c-read",
          "hdf5-c-read",
          "hdf5-c-read",
          "hdf5-c-read",
          "hdf5-c-read",
          "hdf5-c-read",
          "hdf5-c-read",
          "hdf5-c-read",
          "hdf5-c-read",
          "hdf5-c-read",
          "hdf5-c-read",
          "hdf5-c-read",
          "hdf5-c-read",
          "hdf5-c-read",
          "hdf5-c-read",
          "hdf5-c-read",
          "hdf5-c-read",
          "hdf5-c-read",
          "hdf5-c-read",
          "hdf5-c-read",
          "hdf5-c-read",
          "hdf5-c-read",
          "hdf5-c-read",
          "hdf5-c-read",
          "hdf5-c-read",
          "hdf5-c-read",
          "hdf5-c-read",
          "hdf5-c-read",
          "hdf5-c-read",
          "hdf5-c-read",
          "hdf5-c-read",
          "hdf5-c-read",
          "hdf5-c-read",
          "hdf5-c-read",
          "hdf5-c-read",
          "hdf5-c-read",
          "hdf5-c-read",
          "hdf5-c-read",
          "hdf5-c-read",
          "hdf5-c-read",
          "hdf5-c-read",
          "hdf5-c-read",
          "hdf5-c-read",
          "hdf5-c-read",
          "hdf5-c-read",
          "hdf5-c-read",
          "hdf5-c-read",
          "hdf5-c-read",
          "hdf5-c-read",
          "hdf5-c-read",
          "hdf5-c-read",
          "hdf5-c-read",
          "hdf5-c-read",
          "hdf5-c-read",
          "hdf5-c-read",
          "hdf5-c-read",
          "hdf5-c-read",
          "hdf5-c-read",
          "hdf5-c-read",
          "hdf5-c-read",
          "hdf5-c-read",
          "hdf5-c-read",
          "hdf5-c-read",
          "hdf5-c-read",
          "hdf5-c-read",
          "hdf5-c-read",
          "hdf5-c-read",
          "hdf5-c-read",
          "hdf5-c-read",
          "hdf5-c-read",
          "hdf5-c-read",
          "hdf5-c-read",
          "hdf5-c-read",
          "hdf5-c-read",
          "hdf5-c-read",
          "hdf5-c-read",
          "hdf5-c-read",
          "hdf5-c-read",
          "hdf5-c-read",
          "hdf5-c-read",
          "hdf5-c-read",
          "hdf5-c-read",
          "hdf5-c-read",
          "hdf5-c-read",
          "hdf5-c-read",
          "hdf5-c-read",
          "hdf5-c-read",
          "hdf5-c-read",
          "hdf5-c-read",
          "hdf5-c-read",
          "hdf5-c-read",
          "hdf5-c-read",
          "hdf5-c-read",
          "hdf5-c-read",
          "hdf5-c-read",
          "hdf5-c-read",
          "hdf5-c-read",
          "hdf5-c-read",
          "hdf5-c-read",
          "hdf5-c-read",
          "hdf5-c-read",
          "hdf5-c-read",
          "hdf5-c-read",
          "hdf5-c-read",
          "hdf5-c-read",
          "hdf5-c-read",
          "hdf5-c-read",
          "hdf5-c-read",
          "hdf5-c-read",
          "hdf5-c-read",
          "hdf5-c-read",
          "hdf5-c-read",
          "hdf5-c-read",
          "hdf5-c-read",
          "hdf5-c-read",
          "hdf5-c-read",
          "hdf5-c-read",
          "hdf5-c-read",
          "hdf5-c-read",
          "hdf5-c-read",
          "hdf5-c-read",
          "hdf5-c-read",
          "hdf5-c-read",
          "hdf5-c-read",
          "hdf5-c-read",
          "hdf5-c-read",
          "hdf5-c-read",
          "hdf5-c-read",
          "hdf5-c-read",
          "hdf5-c-read",
          "hdf5-c-read",
          "hdf5-c-read",
          "hdf5-c-read",
          "hdf5-c-read",
          "hdf5-c-read",
          "hdf5-c-read",
          "hdf5-c-read",
          "hdf5-c-read",
          "hdf5-c-read",
          "hdf5-c-read",
          "hdf5-c-read",
          "hdf5-c-read",
          "hdf5-c-read",
          "hdf5-c-read",
          "hdf5-c-read",
          "hdf5-c-read",
          "hdf5-c-read",
          "hdf5-c-read",
          "hdf5-c-read",
          "hdf5-c-read",
          "hdf5-c-read",
          "hdf5-c-read",
          "hdf5-c-read",
          "hdf5-c-read",
          "hdf5-c-read",
          "hdf5-c-read",
          "hdf5-c-read",
          "hdf5-c-read",
          "hdf5-c-read",
          "hdf5-c-read",
          "hdf5-c-read",
          "hdf5-c-read",
          "hdf5-c-read",
          "hdf5-c-read",
          "hdf5-c-read",
          "hdf5-c-read",
          "hdf5-c-read",
          "hdf5-c-read",
          "hdf5-c-read",
          "hdf5-c-read",
          "hdf5-c-read",
          "hdf5-c-read",
          "hdf5-c-read",
          "hdf5-c-read",
          "hdf5-c-read",
          "hdf5-c-read",
          "hdf5-c-read",
          "hdf5-c-read",
          "hdf5-subfiling-read",
          "hdf5-subfiling-read",
          "hdf5-subfiling-read",
          "hdf5-subfiling-read",
          "hdf5-subfiling-read",
          "hdf5-subfiling-read",
          "hdf5-subfiling-read",
          "hdf5-subfiling-read",
          "hdf5-subfiling-read",
          "hdf5-subfiling-read",
          "hdf5-subfiling-read",
          "hdf5-subfiling-read",
          "hdf5-subfiling-read",
          "hdf5-subfiling-read",
          "hdf5-subfiling-read",
          "hdf5-subfiling-read",
          "hdf5-subfiling-read",
          "hdf5-subfiling-read",
          "hdf5-subfiling-read",
          "hdf5-subfiling-read",
          "hdf5-subfiling-read",
          "hdf5-subfiling-read",
          "hdf5-subfiling-read",
          "hdf5-subfiling-read",
          "hdf5-subfiling-read",
          "hdf5-subfiling-read",
          "hdf5-subfiling-read",
          "hdf5-subfiling-read",
          "hdf5-subfiling-read",
          "hdf5-subfiling-read",
          "hdf5-subfiling-read",
          "hdf5-subfiling-read",
          "hdf5-subfiling-read",
          "hdf5-subfiling-read",
          "hdf5-subfiling-read",
          "hdf5-subfiling-read",
          "hdf5-subfiling-read",
          "hdf5-subfiling-read",
          "hdf5-subfiling-read",
          "hdf5-subfiling-read",
          "hdf5-subfiling-read",
          "hdf5-subfiling-read",
          "hdf5-subfiling-read",
          "hdf5-subfiling-read",
          "hdf5-subfiling-read",
          "hdf5-subfiling-read",
          "hdf5-subfiling-read",
          "hdf5-subfiling-read",
          "hdf5-subfiling-read",
          "hdf5-subfiling-read",
          "hdf5-subfiling-read",
          "hdf5-subfiling-read",
          "hdf5-subfiling-read",
          "hdf5-subfiling-read",
          "hdf5-subfiling-read",
          "hdf5-subfiling-read",
          "hdf5-subfiling-read",
          "hdf5-subfiling-read",
          "hdf5-subfiling-read",
          "hdf5-subfiling-read",
          "hdf5-subfiling-read",
          "hdf5-subfiling-read",
          "hdf5-subfiling-read",
          "hdf5-subfiling-read",
          "hdf5-subfiling-read",
          "hdf5-subfiling-read",
          "hdf5-subfiling-read",
          "hdf5-subfiling-read",
          "hdf5-subfiling-read",
          "hdf5-subfiling-read",
          "hdf5-subfiling-read",
          "hdf5-subfiling-read",
          "hdf5-subfiling-read",
          "hdf5-subfiling-read",
          "hdf5-subfiling-read",
          "hdf5-subfiling-read",
          "hdf5-subfiling-read",
          "hdf5-subfiling-read",
          "hdf5-subfiling-read",
          "hdf5-subfiling-read",
          "hdf5-subfiling-read",
          "hdf5-subfiling-read",
          "hdf5-subfiling-read",
          "hdf5-subfiling-read",
          "hdf5-subfiling-read",
          "hdf5-subfiling-read",
          "hdf5-subfiling-read",
          "hdf5-subfiling-read",
          "hdf5-subfiling-read",
          "hdf5-subfiling-read",
          "hdf5-subfiling-read",
          "hdf5-subfiling-read",
          "hdf5-subfiling-read",
          "hdf5-subfiling-read",
          "hdf5-subfiling-read",
          "hdf5-subfiling-read",
          "hdf5-subfiling-read",
          "hdf5-subfiling-read",
          "hdf5-subfiling-read",
          "hdf5-subfiling-read",
          "hdf5-subfiling-read",
          "hdf5-subfiling-read",
          "hdf5-subfiling-read",
          "hdf5-subfiling-read",
          "hdf5-subfiling-read",
          "hdf5-subfiling-read",
          "hdf5-subfiling-read",
          "hdf5-subfiling-read",
          "hdf5-subfiling-read",
          "hdf5-subfiling-read",
          "hdf5-subfiling-read",
          "hdf5-subfiling-read",
          "hdf5-subfiling-read",
          "hdf5-subfiling-read",
          "hdf5-subfiling-read",
          "hdf5-subfiling-read",
          "hdf5-subfiling-read",
          "hdf5-subfiling-read",
          "hdf5-subfiling-read",
          "hdf5-subfiling-read",
          "hdf5-subfiling-read",
          "hdf5-subfiling-read",
          "hdf5-subfiling-read",
          "hdf5-subfiling-read",
          "hdf5-subfiling-read",
          "hdf5-subfiling-read",
          "hdf5-subfiling-read",
          "hdf5-subfiling-read",
          "hdf5-subfiling-read",
          "hdf5-subfiling-read",
          "hdf5-subfiling-read",
          "hdf5-subfiling-read",
          "hdf5-subfiling-read",
          "hdf5-subfiling-read",
          "hdf5-subfiling-read",
          "hdf5-subfiling-read",
          "hdf5-subfiling-read",
          "hdf5-subfiling-read",
          "hdf5-subfiling-read",
          "hdf5-subfiling-read",
          "hdf5-subfiling-read",
          "hdf5-subfiling-read",
          "hdf5-subfiling-read",
          "hdf5-subfiling-read",
          "hdf5-subfiling-read",
          "hdf5-subfiling-read",
          "hdf5-subfiling-read",
          "hdf5-subfiling-read",
          "hdf5-subfiling-read",
          "hdf5-subfiling-read",
          "hdf5-subfiling-read",
          "hdf5-subfiling-read",
          "hdf5-subfiling-read",
          "hdf5-subfiling-read",
          "hdf5-subfiling-read",
          "hdf5-subfiling-read",
          "hdf5-subfiling-read",
          "hdf5-subfiling-read",
          "hdf5-subfiling-read",
          "hdf5-subfiling-read",
          "hdf5-subfiling-read",
          "hdf5-subfiling-read",
          "hdf5-subfiling-read",
          "hdf5-subfiling-read",
          "hdf5-subfiling-read",
          "hdf5-subfiling-read",
          "hdf5-subfiling-read",
          "hdf5-subfiling-read",
          "hdf5-subfiling-read",
          "hdf5-subfiling-read",
          "hdf5-subfiling-read",
          "hdf5-subfiling-read",
          "hdf5-subfiling-read",
          "hdf5-subfiling-read",
          "hdf5-subfiling-read",
          "hdf5-subfiling-read",
          "hdf5-subfiling-read",
          "hdf5-subfiling-read",
          "hdf5-subfiling-read",
          "hdf5-subfiling-read",
          "hdf5-subfiling-read",
          "hdf5-subfiling-read",
          "hdf5-subfiling-read",
          "hdf5-subfiling-read",
          "hdf5-subfiling-read",
          "hdf5-subfiling-read",
          "hdf5-subfiling-read",
          "hdf5-subfiling-read",
          "hdf5-subfiling-read",
          "hdf5-subfiling-read",
          "hdf5-subfiling-read",
          "hdf5-subfiling-read",
          "hdf5-subfiling-read",
          "hdf5-subfiling-read",
          "hdf5-subfiling-read",
          "hdf5-subfiling-read",
          "hdf5-subfiling-read",
          "hdf5-subfiling-read",
          "hdf5-subfiling-read",
          "hdf5-subfiling-read"
         ],
         "x0": " ",
         "xaxis": "x",
         "y": [
          0.13107,
          0.155406,
          0.180289,
          0.121277,
          0.121483,
          0.12141099999999999,
          0.121544,
          0.12221399999999999,
          0.12433599999999999,
          0.12321299999999999,
          0.122958,
          0.12325699999999999,
          0.127113,
          0.12425499999999999,
          0.125807,
          0.126156,
          0.126137,
          0.12494999999999999,
          0.12389199999999999,
          0.149222,
          0.12131399999999999,
          0.12107899999999999,
          0.12229599999999999,
          0.12240699999999999,
          0.122223,
          0.121376,
          0.121226,
          0.121059,
          0.12202299999999999,
          0.12132899999999999,
          0.12123099999999999,
          0.121141,
          0.12371,
          0.122666,
          0.122958,
          0.123555,
          0.128585,
          0.12296499999999999,
          0.12339,
          0.122656,
          0.122791,
          0.123538,
          0.123759,
          0.121222,
          0.121803,
          0.121754,
          0.121582,
          0.121234,
          0.121338,
          0.12242499999999999,
          0.124716,
          0.12486399999999999,
          0.139125,
          0.157283,
          0.12249199999999999,
          0.122183,
          0.122156,
          0.121635,
          0.12186899999999999,
          0.12239,
          0.122163,
          0.128599,
          0.123898,
          0.122815,
          0.12294799999999999,
          0.126387,
          0.124398,
          0.123235,
          0.122725,
          0.127401,
          0.134848,
          0.12414499999999999,
          0.124098,
          0.12653699999999998,
          0.12161599999999999,
          0.12142299999999999,
          0.12125,
          0.122111,
          0.12474199999999999,
          0.126418,
          0.12340799999999999,
          0.12121,
          0.121046,
          0.123025,
          0.12566,
          0.124511,
          0.12379499999999999,
          0.142353,
          0.122608,
          0.12670299999999998,
          0.125894,
          0.12402999999999999,
          0.131041,
          0.131295,
          0.127949,
          0.127504,
          0.132248,
          0.129696,
          0.12465499999999999,
          0.125886,
          null,
          null,
          null,
          null,
          null,
          null,
          null,
          null,
          null,
          null,
          null,
          null,
          null,
          null,
          null,
          null,
          null,
          null,
          null,
          null,
          null,
          null,
          null,
          null,
          null,
          null,
          null,
          null,
          null,
          null,
          null,
          null,
          null,
          null,
          null,
          null,
          null,
          null,
          null,
          null,
          null,
          null,
          null,
          null,
          null,
          null,
          null,
          null,
          null,
          null,
          null,
          null,
          null,
          null,
          null,
          null,
          null,
          null,
          null,
          null,
          null,
          null,
          null,
          null,
          null,
          null,
          null,
          null,
          null,
          null,
          null,
          null,
          null,
          null,
          null,
          null,
          null,
          null,
          null,
          null,
          null,
          null,
          null,
          null,
          null,
          null,
          null,
          null,
          null,
          null,
          null,
          null,
          null,
          null,
          null,
          null,
          null,
          null,
          null,
          null,
          null,
          null,
          null,
          null,
          null,
          null,
          null,
          null,
          null,
          null,
          null,
          null,
          null,
          null,
          null,
          null,
          null,
          null,
          null,
          null,
          null,
          null,
          null,
          null,
          null,
          null,
          null,
          null,
          null,
          null,
          null,
          null,
          null,
          null,
          null,
          null,
          null,
          null,
          null,
          null,
          null,
          null,
          null,
          null,
          null,
          null,
          null,
          null,
          null,
          null,
          null,
          null,
          null,
          null,
          null,
          null,
          null,
          null,
          null,
          null,
          null,
          null,
          null,
          null,
          null,
          null,
          null,
          null,
          null,
          null,
          null,
          null,
          null,
          null,
          null,
          null,
          null,
          null,
          null,
          null,
          null,
          null,
          null,
          null,
          null,
          null,
          null,
          null,
          null,
          null,
          null,
          null,
          null,
          null,
          null,
          null,
          null,
          null,
          null,
          null,
          0.27305999999999997,
          0.280698,
          0.27904599999999996,
          0.263065,
          0.276584,
          0.274371,
          0.287612,
          0.302101,
          0.324764,
          0.275754,
          0.271205,
          0.276638,
          0.27233999999999997,
          0.269885,
          0.277039,
          0.286916,
          0.29059399999999996,
          0.281906,
          0.277744,
          0.270303,
          0.272603,
          0.26176499999999997,
          0.280057,
          0.26325,
          0.31021099999999996,
          0.272707,
          0.281728,
          0.28173,
          0.275802,
          0.27652699999999997,
          0.26234199999999996,
          0.274243,
          0.313791,
          0.29662,
          0.275912,
          0.282621,
          0.27097499999999997,
          0.275391,
          0.277089,
          0.288037,
          0.323596,
          0.309931,
          0.277488,
          0.28753999999999996,
          0.278516,
          0.28071999999999997,
          0.292207,
          0.27030499999999996,
          0.29211,
          0.263002,
          0.281385,
          0.25485399999999997,
          0.260058,
          0.273571,
          0.28035299999999996,
          0.270406,
          0.282798,
          0.259911,
          0.262129,
          0.265424,
          0.264019,
          0.256318,
          0.25920299999999996,
          0.258022,
          0.257515,
          0.259866,
          0.256531,
          0.253866,
          0.255443,
          0.25486,
          0.24737499999999998,
          0.254423,
          0.266054,
          0.30516299999999996,
          0.261879,
          0.26456199999999996,
          0.262658,
          0.24716,
          0.261046,
          0.25678999999999996,
          0.261687,
          0.264874,
          0.262884,
          0.256656,
          0.262399,
          0.28218499999999996,
          0.280213,
          0.26875,
          0.26603899999999997,
          0.286707,
          0.30274799999999996,
          0.253485,
          0.25643099999999996,
          0.254533,
          0.2688,
          0.294981,
          0.256371,
          0.276235,
          0.258165,
          0.259807
         ],
         "y0": " ",
         "yaxis": "y"
        }
       ],
       "layout": {
        "boxmode": "group",
        "legend": {
         "tracegroupgap": 0
        },
        "margin": {
         "t": 60
        },
        "template": {
         "data": {
          "bar": [
           {
            "error_x": {
             "color": "#2a3f5f"
            },
            "error_y": {
             "color": "#2a3f5f"
            },
            "marker": {
             "line": {
              "color": "#E5ECF6",
              "width": 0.5
             },
             "pattern": {
              "fillmode": "overlay",
              "size": 10,
              "solidity": 0.2
             }
            },
            "type": "bar"
           }
          ],
          "barpolar": [
           {
            "marker": {
             "line": {
              "color": "#E5ECF6",
              "width": 0.5
             },
             "pattern": {
              "fillmode": "overlay",
              "size": 10,
              "solidity": 0.2
             }
            },
            "type": "barpolar"
           }
          ],
          "carpet": [
           {
            "aaxis": {
             "endlinecolor": "#2a3f5f",
             "gridcolor": "white",
             "linecolor": "white",
             "minorgridcolor": "white",
             "startlinecolor": "#2a3f5f"
            },
            "baxis": {
             "endlinecolor": "#2a3f5f",
             "gridcolor": "white",
             "linecolor": "white",
             "minorgridcolor": "white",
             "startlinecolor": "#2a3f5f"
            },
            "type": "carpet"
           }
          ],
          "choropleth": [
           {
            "colorbar": {
             "outlinewidth": 0,
             "ticks": ""
            },
            "type": "choropleth"
           }
          ],
          "contour": [
           {
            "colorbar": {
             "outlinewidth": 0,
             "ticks": ""
            },
            "colorscale": [
             [
              0,
              "#0d0887"
             ],
             [
              0.1111111111111111,
              "#46039f"
             ],
             [
              0.2222222222222222,
              "#7201a8"
             ],
             [
              0.3333333333333333,
              "#9c179e"
             ],
             [
              0.4444444444444444,
              "#bd3786"
             ],
             [
              0.5555555555555556,
              "#d8576b"
             ],
             [
              0.6666666666666666,
              "#ed7953"
             ],
             [
              0.7777777777777778,
              "#fb9f3a"
             ],
             [
              0.8888888888888888,
              "#fdca26"
             ],
             [
              1,
              "#f0f921"
             ]
            ],
            "type": "contour"
           }
          ],
          "contourcarpet": [
           {
            "colorbar": {
             "outlinewidth": 0,
             "ticks": ""
            },
            "type": "contourcarpet"
           }
          ],
          "heatmap": [
           {
            "colorbar": {
             "outlinewidth": 0,
             "ticks": ""
            },
            "colorscale": [
             [
              0,
              "#0d0887"
             ],
             [
              0.1111111111111111,
              "#46039f"
             ],
             [
              0.2222222222222222,
              "#7201a8"
             ],
             [
              0.3333333333333333,
              "#9c179e"
             ],
             [
              0.4444444444444444,
              "#bd3786"
             ],
             [
              0.5555555555555556,
              "#d8576b"
             ],
             [
              0.6666666666666666,
              "#ed7953"
             ],
             [
              0.7777777777777778,
              "#fb9f3a"
             ],
             [
              0.8888888888888888,
              "#fdca26"
             ],
             [
              1,
              "#f0f921"
             ]
            ],
            "type": "heatmap"
           }
          ],
          "heatmapgl": [
           {
            "colorbar": {
             "outlinewidth": 0,
             "ticks": ""
            },
            "colorscale": [
             [
              0,
              "#0d0887"
             ],
             [
              0.1111111111111111,
              "#46039f"
             ],
             [
              0.2222222222222222,
              "#7201a8"
             ],
             [
              0.3333333333333333,
              "#9c179e"
             ],
             [
              0.4444444444444444,
              "#bd3786"
             ],
             [
              0.5555555555555556,
              "#d8576b"
             ],
             [
              0.6666666666666666,
              "#ed7953"
             ],
             [
              0.7777777777777778,
              "#fb9f3a"
             ],
             [
              0.8888888888888888,
              "#fdca26"
             ],
             [
              1,
              "#f0f921"
             ]
            ],
            "type": "heatmapgl"
           }
          ],
          "histogram": [
           {
            "marker": {
             "pattern": {
              "fillmode": "overlay",
              "size": 10,
              "solidity": 0.2
             }
            },
            "type": "histogram"
           }
          ],
          "histogram2d": [
           {
            "colorbar": {
             "outlinewidth": 0,
             "ticks": ""
            },
            "colorscale": [
             [
              0,
              "#0d0887"
             ],
             [
              0.1111111111111111,
              "#46039f"
             ],
             [
              0.2222222222222222,
              "#7201a8"
             ],
             [
              0.3333333333333333,
              "#9c179e"
             ],
             [
              0.4444444444444444,
              "#bd3786"
             ],
             [
              0.5555555555555556,
              "#d8576b"
             ],
             [
              0.6666666666666666,
              "#ed7953"
             ],
             [
              0.7777777777777778,
              "#fb9f3a"
             ],
             [
              0.8888888888888888,
              "#fdca26"
             ],
             [
              1,
              "#f0f921"
             ]
            ],
            "type": "histogram2d"
           }
          ],
          "histogram2dcontour": [
           {
            "colorbar": {
             "outlinewidth": 0,
             "ticks": ""
            },
            "colorscale": [
             [
              0,
              "#0d0887"
             ],
             [
              0.1111111111111111,
              "#46039f"
             ],
             [
              0.2222222222222222,
              "#7201a8"
             ],
             [
              0.3333333333333333,
              "#9c179e"
             ],
             [
              0.4444444444444444,
              "#bd3786"
             ],
             [
              0.5555555555555556,
              "#d8576b"
             ],
             [
              0.6666666666666666,
              "#ed7953"
             ],
             [
              0.7777777777777778,
              "#fb9f3a"
             ],
             [
              0.8888888888888888,
              "#fdca26"
             ],
             [
              1,
              "#f0f921"
             ]
            ],
            "type": "histogram2dcontour"
           }
          ],
          "mesh3d": [
           {
            "colorbar": {
             "outlinewidth": 0,
             "ticks": ""
            },
            "type": "mesh3d"
           }
          ],
          "parcoords": [
           {
            "line": {
             "colorbar": {
              "outlinewidth": 0,
              "ticks": ""
             }
            },
            "type": "parcoords"
           }
          ],
          "pie": [
           {
            "automargin": true,
            "type": "pie"
           }
          ],
          "scatter": [
           {
            "fillpattern": {
             "fillmode": "overlay",
             "size": 10,
             "solidity": 0.2
            },
            "type": "scatter"
           }
          ],
          "scatter3d": [
           {
            "line": {
             "colorbar": {
              "outlinewidth": 0,
              "ticks": ""
             }
            },
            "marker": {
             "colorbar": {
              "outlinewidth": 0,
              "ticks": ""
             }
            },
            "type": "scatter3d"
           }
          ],
          "scattercarpet": [
           {
            "marker": {
             "colorbar": {
              "outlinewidth": 0,
              "ticks": ""
             }
            },
            "type": "scattercarpet"
           }
          ],
          "scattergeo": [
           {
            "marker": {
             "colorbar": {
              "outlinewidth": 0,
              "ticks": ""
             }
            },
            "type": "scattergeo"
           }
          ],
          "scattergl": [
           {
            "marker": {
             "colorbar": {
              "outlinewidth": 0,
              "ticks": ""
             }
            },
            "type": "scattergl"
           }
          ],
          "scattermapbox": [
           {
            "marker": {
             "colorbar": {
              "outlinewidth": 0,
              "ticks": ""
             }
            },
            "type": "scattermapbox"
           }
          ],
          "scatterpolar": [
           {
            "marker": {
             "colorbar": {
              "outlinewidth": 0,
              "ticks": ""
             }
            },
            "type": "scatterpolar"
           }
          ],
          "scatterpolargl": [
           {
            "marker": {
             "colorbar": {
              "outlinewidth": 0,
              "ticks": ""
             }
            },
            "type": "scatterpolargl"
           }
          ],
          "scatterternary": [
           {
            "marker": {
             "colorbar": {
              "outlinewidth": 0,
              "ticks": ""
             }
            },
            "type": "scatterternary"
           }
          ],
          "surface": [
           {
            "colorbar": {
             "outlinewidth": 0,
             "ticks": ""
            },
            "colorscale": [
             [
              0,
              "#0d0887"
             ],
             [
              0.1111111111111111,
              "#46039f"
             ],
             [
              0.2222222222222222,
              "#7201a8"
             ],
             [
              0.3333333333333333,
              "#9c179e"
             ],
             [
              0.4444444444444444,
              "#bd3786"
             ],
             [
              0.5555555555555556,
              "#d8576b"
             ],
             [
              0.6666666666666666,
              "#ed7953"
             ],
             [
              0.7777777777777778,
              "#fb9f3a"
             ],
             [
              0.8888888888888888,
              "#fdca26"
             ],
             [
              1,
              "#f0f921"
             ]
            ],
            "type": "surface"
           }
          ],
          "table": [
           {
            "cells": {
             "fill": {
              "color": "#EBF0F8"
             },
             "line": {
              "color": "white"
             }
            },
            "header": {
             "fill": {
              "color": "#C8D4E3"
             },
             "line": {
              "color": "white"
             }
            },
            "type": "table"
           }
          ]
         },
         "layout": {
          "annotationdefaults": {
           "arrowcolor": "#2a3f5f",
           "arrowhead": 0,
           "arrowwidth": 1
          },
          "autotypenumbers": "strict",
          "coloraxis": {
           "colorbar": {
            "outlinewidth": 0,
            "ticks": ""
           }
          },
          "colorscale": {
           "diverging": [
            [
             0,
             "#8e0152"
            ],
            [
             0.1,
             "#c51b7d"
            ],
            [
             0.2,
             "#de77ae"
            ],
            [
             0.3,
             "#f1b6da"
            ],
            [
             0.4,
             "#fde0ef"
            ],
            [
             0.5,
             "#f7f7f7"
            ],
            [
             0.6,
             "#e6f5d0"
            ],
            [
             0.7,
             "#b8e186"
            ],
            [
             0.8,
             "#7fbc41"
            ],
            [
             0.9,
             "#4d9221"
            ],
            [
             1,
             "#276419"
            ]
           ],
           "sequential": [
            [
             0,
             "#0d0887"
            ],
            [
             0.1111111111111111,
             "#46039f"
            ],
            [
             0.2222222222222222,
             "#7201a8"
            ],
            [
             0.3333333333333333,
             "#9c179e"
            ],
            [
             0.4444444444444444,
             "#bd3786"
            ],
            [
             0.5555555555555556,
             "#d8576b"
            ],
            [
             0.6666666666666666,
             "#ed7953"
            ],
            [
             0.7777777777777778,
             "#fb9f3a"
            ],
            [
             0.8888888888888888,
             "#fdca26"
            ],
            [
             1,
             "#f0f921"
            ]
           ],
           "sequentialminus": [
            [
             0,
             "#0d0887"
            ],
            [
             0.1111111111111111,
             "#46039f"
            ],
            [
             0.2222222222222222,
             "#7201a8"
            ],
            [
             0.3333333333333333,
             "#9c179e"
            ],
            [
             0.4444444444444444,
             "#bd3786"
            ],
            [
             0.5555555555555556,
             "#d8576b"
            ],
            [
             0.6666666666666666,
             "#ed7953"
            ],
            [
             0.7777777777777778,
             "#fb9f3a"
            ],
            [
             0.8888888888888888,
             "#fdca26"
            ],
            [
             1,
             "#f0f921"
            ]
           ]
          },
          "colorway": [
           "#636efa",
           "#EF553B",
           "#00cc96",
           "#ab63fa",
           "#FFA15A",
           "#19d3f3",
           "#FF6692",
           "#B6E880",
           "#FF97FF",
           "#FECB52"
          ],
          "font": {
           "color": "#2a3f5f"
          },
          "geo": {
           "bgcolor": "white",
           "lakecolor": "white",
           "landcolor": "#E5ECF6",
           "showlakes": true,
           "showland": true,
           "subunitcolor": "white"
          },
          "hoverlabel": {
           "align": "left"
          },
          "hovermode": "closest",
          "mapbox": {
           "style": "light"
          },
          "paper_bgcolor": "white",
          "plot_bgcolor": "#E5ECF6",
          "polar": {
           "angularaxis": {
            "gridcolor": "white",
            "linecolor": "white",
            "ticks": ""
           },
           "bgcolor": "#E5ECF6",
           "radialaxis": {
            "gridcolor": "white",
            "linecolor": "white",
            "ticks": ""
           }
          },
          "scene": {
           "xaxis": {
            "backgroundcolor": "#E5ECF6",
            "gridcolor": "white",
            "gridwidth": 2,
            "linecolor": "white",
            "showbackground": true,
            "ticks": "",
            "zerolinecolor": "white"
           },
           "yaxis": {
            "backgroundcolor": "#E5ECF6",
            "gridcolor": "white",
            "gridwidth": 2,
            "linecolor": "white",
            "showbackground": true,
            "ticks": "",
            "zerolinecolor": "white"
           },
           "zaxis": {
            "backgroundcolor": "#E5ECF6",
            "gridcolor": "white",
            "gridwidth": 2,
            "linecolor": "white",
            "showbackground": true,
            "ticks": "",
            "zerolinecolor": "white"
           }
          },
          "shapedefaults": {
           "line": {
            "color": "#2a3f5f"
           }
          },
          "ternary": {
           "aaxis": {
            "gridcolor": "white",
            "linecolor": "white",
            "ticks": ""
           },
           "baxis": {
            "gridcolor": "white",
            "linecolor": "white",
            "ticks": ""
           },
           "bgcolor": "#E5ECF6",
           "caxis": {
            "gridcolor": "white",
            "linecolor": "white",
            "ticks": ""
           }
          },
          "title": {
           "x": 0.05
          },
          "xaxis": {
           "automargin": true,
           "gridcolor": "white",
           "linecolor": "white",
           "ticks": "",
           "title": {
            "standoff": 15
           },
           "zerolinecolor": "white",
           "zerolinewidth": 2
          },
          "yaxis": {
           "automargin": true,
           "gridcolor": "white",
           "linecolor": "white",
           "ticks": "",
           "title": {
            "standoff": 15
           },
           "zerolinecolor": "white",
           "zerolinewidth": 2
          }
         }
        },
        "xaxis": {
         "anchor": "y",
         "domain": [
          0,
          1
         ],
         "title": {
          "text": "variable"
         }
        },
        "yaxis": {
         "anchor": "x",
         "domain": [
          0,
          1
         ],
         "title": {
          "text": "value"
         },
         "type": "log"
        }
       }
      },
      "text/html": [
       "<div>                            <div id=\"12cfb788-0c39-4455-bb21-40fde751efc5\" class=\"plotly-graph-div\" style=\"height:525px; width:100%;\"></div>            <script type=\"text/javascript\">                require([\"plotly\"], function(Plotly) {                    window.PLOTLYENV=window.PLOTLYENV || {};                                    if (document.getElementById(\"12cfb788-0c39-4455-bb21-40fde751efc5\")) {                    Plotly.newPlot(                        \"12cfb788-0c39-4455-bb21-40fde751efc5\",                        [{\"alignmentgroup\":\"True\",\"hovertemplate\":\"variable=%{x}\\u003cbr\\u003evalue=%{y}\\u003cextra\\u003e\\u003c\\u002fextra\\u003e\",\"legendgroup\":\"\",\"marker\":{\"color\":\"#636efa\"},\"name\":\"\",\"notched\":false,\"offsetgroup\":\"\",\"orientation\":\"v\",\"showlegend\":false,\"x\":[\"hdf5-c-read\",\"hdf5-c-read\",\"hdf5-c-read\",\"hdf5-c-read\",\"hdf5-c-read\",\"hdf5-c-read\",\"hdf5-c-read\",\"hdf5-c-read\",\"hdf5-c-read\",\"hdf5-c-read\",\"hdf5-c-read\",\"hdf5-c-read\",\"hdf5-c-read\",\"hdf5-c-read\",\"hdf5-c-read\",\"hdf5-c-read\",\"hdf5-c-read\",\"hdf5-c-read\",\"hdf5-c-read\",\"hdf5-c-read\",\"hdf5-c-read\",\"hdf5-c-read\",\"hdf5-c-read\",\"hdf5-c-read\",\"hdf5-c-read\",\"hdf5-c-read\",\"hdf5-c-read\",\"hdf5-c-read\",\"hdf5-c-read\",\"hdf5-c-read\",\"hdf5-c-read\",\"hdf5-c-read\",\"hdf5-c-read\",\"hdf5-c-read\",\"hdf5-c-read\",\"hdf5-c-read\",\"hdf5-c-read\",\"hdf5-c-read\",\"hdf5-c-read\",\"hdf5-c-read\",\"hdf5-c-read\",\"hdf5-c-read\",\"hdf5-c-read\",\"hdf5-c-read\",\"hdf5-c-read\",\"hdf5-c-read\",\"hdf5-c-read\",\"hdf5-c-read\",\"hdf5-c-read\",\"hdf5-c-read\",\"hdf5-c-read\",\"hdf5-c-read\",\"hdf5-c-read\",\"hdf5-c-read\",\"hdf5-c-read\",\"hdf5-c-read\",\"hdf5-c-read\",\"hdf5-c-read\",\"hdf5-c-read\",\"hdf5-c-read\",\"hdf5-c-read\",\"hdf5-c-read\",\"hdf5-c-read\",\"hdf5-c-read\",\"hdf5-c-read\",\"hdf5-c-read\",\"hdf5-c-read\",\"hdf5-c-read\",\"hdf5-c-read\",\"hdf5-c-read\",\"hdf5-c-read\",\"hdf5-c-read\",\"hdf5-c-read\",\"hdf5-c-read\",\"hdf5-c-read\",\"hdf5-c-read\",\"hdf5-c-read\",\"hdf5-c-read\",\"hdf5-c-read\",\"hdf5-c-read\",\"hdf5-c-read\",\"hdf5-c-read\",\"hdf5-c-read\",\"hdf5-c-read\",\"hdf5-c-read\",\"hdf5-c-read\",\"hdf5-c-read\",\"hdf5-c-read\",\"hdf5-c-read\",\"hdf5-c-read\",\"hdf5-c-read\",\"hdf5-c-read\",\"hdf5-c-read\",\"hdf5-c-read\",\"hdf5-c-read\",\"hdf5-c-read\",\"hdf5-c-read\",\"hdf5-c-read\",\"hdf5-c-read\",\"hdf5-c-read\",\"hdf5-c-read\",\"hdf5-c-read\",\"hdf5-c-read\",\"hdf5-c-read\",\"hdf5-c-read\",\"hdf5-c-read\",\"hdf5-c-read\",\"hdf5-c-read\",\"hdf5-c-read\",\"hdf5-c-read\",\"hdf5-c-read\",\"hdf5-c-read\",\"hdf5-c-read\",\"hdf5-c-read\",\"hdf5-c-read\",\"hdf5-c-read\",\"hdf5-c-read\",\"hdf5-c-read\",\"hdf5-c-read\",\"hdf5-c-read\",\"hdf5-c-read\",\"hdf5-c-read\",\"hdf5-c-read\",\"hdf5-c-read\",\"hdf5-c-read\",\"hdf5-c-read\",\"hdf5-c-read\",\"hdf5-c-read\",\"hdf5-c-read\",\"hdf5-c-read\",\"hdf5-c-read\",\"hdf5-c-read\",\"hdf5-c-read\",\"hdf5-c-read\",\"hdf5-c-read\",\"hdf5-c-read\",\"hdf5-c-read\",\"hdf5-c-read\",\"hdf5-c-read\",\"hdf5-c-read\",\"hdf5-c-read\",\"hdf5-c-read\",\"hdf5-c-read\",\"hdf5-c-read\",\"hdf5-c-read\",\"hdf5-c-read\",\"hdf5-c-read\",\"hdf5-c-read\",\"hdf5-c-read\",\"hdf5-c-read\",\"hdf5-c-read\",\"hdf5-c-read\",\"hdf5-c-read\",\"hdf5-c-read\",\"hdf5-c-read\",\"hdf5-c-read\",\"hdf5-c-read\",\"hdf5-c-read\",\"hdf5-c-read\",\"hdf5-c-read\",\"hdf5-c-read\",\"hdf5-c-read\",\"hdf5-c-read\",\"hdf5-c-read\",\"hdf5-c-read\",\"hdf5-c-read\",\"hdf5-c-read\",\"hdf5-c-read\",\"hdf5-c-read\",\"hdf5-c-read\",\"hdf5-c-read\",\"hdf5-c-read\",\"hdf5-c-read\",\"hdf5-c-read\",\"hdf5-c-read\",\"hdf5-c-read\",\"hdf5-c-read\",\"hdf5-c-read\",\"hdf5-c-read\",\"hdf5-c-read\",\"hdf5-c-read\",\"hdf5-c-read\",\"hdf5-c-read\",\"hdf5-c-read\",\"hdf5-c-read\",\"hdf5-c-read\",\"hdf5-c-read\",\"hdf5-c-read\",\"hdf5-c-read\",\"hdf5-c-read\",\"hdf5-c-read\",\"hdf5-c-read\",\"hdf5-c-read\",\"hdf5-c-read\",\"hdf5-c-read\",\"hdf5-c-read\",\"hdf5-c-read\",\"hdf5-c-read\",\"hdf5-c-read\",\"hdf5-c-read\",\"hdf5-subfiling-read\",\"hdf5-subfiling-read\",\"hdf5-subfiling-read\",\"hdf5-subfiling-read\",\"hdf5-subfiling-read\",\"hdf5-subfiling-read\",\"hdf5-subfiling-read\",\"hdf5-subfiling-read\",\"hdf5-subfiling-read\",\"hdf5-subfiling-read\",\"hdf5-subfiling-read\",\"hdf5-subfiling-read\",\"hdf5-subfiling-read\",\"hdf5-subfiling-read\",\"hdf5-subfiling-read\",\"hdf5-subfiling-read\",\"hdf5-subfiling-read\",\"hdf5-subfiling-read\",\"hdf5-subfiling-read\",\"hdf5-subfiling-read\",\"hdf5-subfiling-read\",\"hdf5-subfiling-read\",\"hdf5-subfiling-read\",\"hdf5-subfiling-read\",\"hdf5-subfiling-read\",\"hdf5-subfiling-read\",\"hdf5-subfiling-read\",\"hdf5-subfiling-read\",\"hdf5-subfiling-read\",\"hdf5-subfiling-read\",\"hdf5-subfiling-read\",\"hdf5-subfiling-read\",\"hdf5-subfiling-read\",\"hdf5-subfiling-read\",\"hdf5-subfiling-read\",\"hdf5-subfiling-read\",\"hdf5-subfiling-read\",\"hdf5-subfiling-read\",\"hdf5-subfiling-read\",\"hdf5-subfiling-read\",\"hdf5-subfiling-read\",\"hdf5-subfiling-read\",\"hdf5-subfiling-read\",\"hdf5-subfiling-read\",\"hdf5-subfiling-read\",\"hdf5-subfiling-read\",\"hdf5-subfiling-read\",\"hdf5-subfiling-read\",\"hdf5-subfiling-read\",\"hdf5-subfiling-read\",\"hdf5-subfiling-read\",\"hdf5-subfiling-read\",\"hdf5-subfiling-read\",\"hdf5-subfiling-read\",\"hdf5-subfiling-read\",\"hdf5-subfiling-read\",\"hdf5-subfiling-read\",\"hdf5-subfiling-read\",\"hdf5-subfiling-read\",\"hdf5-subfiling-read\",\"hdf5-subfiling-read\",\"hdf5-subfiling-read\",\"hdf5-subfiling-read\",\"hdf5-subfiling-read\",\"hdf5-subfiling-read\",\"hdf5-subfiling-read\",\"hdf5-subfiling-read\",\"hdf5-subfiling-read\",\"hdf5-subfiling-read\",\"hdf5-subfiling-read\",\"hdf5-subfiling-read\",\"hdf5-subfiling-read\",\"hdf5-subfiling-read\",\"hdf5-subfiling-read\",\"hdf5-subfiling-read\",\"hdf5-subfiling-read\",\"hdf5-subfiling-read\",\"hdf5-subfiling-read\",\"hdf5-subfiling-read\",\"hdf5-subfiling-read\",\"hdf5-subfiling-read\",\"hdf5-subfiling-read\",\"hdf5-subfiling-read\",\"hdf5-subfiling-read\",\"hdf5-subfiling-read\",\"hdf5-subfiling-read\",\"hdf5-subfiling-read\",\"hdf5-subfiling-read\",\"hdf5-subfiling-read\",\"hdf5-subfiling-read\",\"hdf5-subfiling-read\",\"hdf5-subfiling-read\",\"hdf5-subfiling-read\",\"hdf5-subfiling-read\",\"hdf5-subfiling-read\",\"hdf5-subfiling-read\",\"hdf5-subfiling-read\",\"hdf5-subfiling-read\",\"hdf5-subfiling-read\",\"hdf5-subfiling-read\",\"hdf5-subfiling-read\",\"hdf5-subfiling-read\",\"hdf5-subfiling-read\",\"hdf5-subfiling-read\",\"hdf5-subfiling-read\",\"hdf5-subfiling-read\",\"hdf5-subfiling-read\",\"hdf5-subfiling-read\",\"hdf5-subfiling-read\",\"hdf5-subfiling-read\",\"hdf5-subfiling-read\",\"hdf5-subfiling-read\",\"hdf5-subfiling-read\",\"hdf5-subfiling-read\",\"hdf5-subfiling-read\",\"hdf5-subfiling-read\",\"hdf5-subfiling-read\",\"hdf5-subfiling-read\",\"hdf5-subfiling-read\",\"hdf5-subfiling-read\",\"hdf5-subfiling-read\",\"hdf5-subfiling-read\",\"hdf5-subfiling-read\",\"hdf5-subfiling-read\",\"hdf5-subfiling-read\",\"hdf5-subfiling-read\",\"hdf5-subfiling-read\",\"hdf5-subfiling-read\",\"hdf5-subfiling-read\",\"hdf5-subfiling-read\",\"hdf5-subfiling-read\",\"hdf5-subfiling-read\",\"hdf5-subfiling-read\",\"hdf5-subfiling-read\",\"hdf5-subfiling-read\",\"hdf5-subfiling-read\",\"hdf5-subfiling-read\",\"hdf5-subfiling-read\",\"hdf5-subfiling-read\",\"hdf5-subfiling-read\",\"hdf5-subfiling-read\",\"hdf5-subfiling-read\",\"hdf5-subfiling-read\",\"hdf5-subfiling-read\",\"hdf5-subfiling-read\",\"hdf5-subfiling-read\",\"hdf5-subfiling-read\",\"hdf5-subfiling-read\",\"hdf5-subfiling-read\",\"hdf5-subfiling-read\",\"hdf5-subfiling-read\",\"hdf5-subfiling-read\",\"hdf5-subfiling-read\",\"hdf5-subfiling-read\",\"hdf5-subfiling-read\",\"hdf5-subfiling-read\",\"hdf5-subfiling-read\",\"hdf5-subfiling-read\",\"hdf5-subfiling-read\",\"hdf5-subfiling-read\",\"hdf5-subfiling-read\",\"hdf5-subfiling-read\",\"hdf5-subfiling-read\",\"hdf5-subfiling-read\",\"hdf5-subfiling-read\",\"hdf5-subfiling-read\",\"hdf5-subfiling-read\",\"hdf5-subfiling-read\",\"hdf5-subfiling-read\",\"hdf5-subfiling-read\",\"hdf5-subfiling-read\",\"hdf5-subfiling-read\",\"hdf5-subfiling-read\",\"hdf5-subfiling-read\",\"hdf5-subfiling-read\",\"hdf5-subfiling-read\",\"hdf5-subfiling-read\",\"hdf5-subfiling-read\",\"hdf5-subfiling-read\",\"hdf5-subfiling-read\",\"hdf5-subfiling-read\",\"hdf5-subfiling-read\",\"hdf5-subfiling-read\",\"hdf5-subfiling-read\",\"hdf5-subfiling-read\",\"hdf5-subfiling-read\",\"hdf5-subfiling-read\",\"hdf5-subfiling-read\",\"hdf5-subfiling-read\",\"hdf5-subfiling-read\",\"hdf5-subfiling-read\",\"hdf5-subfiling-read\",\"hdf5-subfiling-read\",\"hdf5-subfiling-read\",\"hdf5-subfiling-read\",\"hdf5-subfiling-read\",\"hdf5-subfiling-read\",\"hdf5-subfiling-read\",\"hdf5-subfiling-read\",\"hdf5-subfiling-read\"],\"x0\":\" \",\"xaxis\":\"x\",\"y\":[0.13107,0.155406,0.180289,0.121277,0.121483,0.12141099999999999,0.121544,0.12221399999999999,0.12433599999999999,0.12321299999999999,0.122958,0.12325699999999999,0.127113,0.12425499999999999,0.125807,0.126156,0.126137,0.12494999999999999,0.12389199999999999,0.149222,0.12131399999999999,0.12107899999999999,0.12229599999999999,0.12240699999999999,0.122223,0.121376,0.121226,0.121059,0.12202299999999999,0.12132899999999999,0.12123099999999999,0.121141,0.12371,0.122666,0.122958,0.123555,0.128585,0.12296499999999999,0.12339,0.122656,0.122791,0.123538,0.123759,0.121222,0.121803,0.121754,0.121582,0.121234,0.121338,0.12242499999999999,0.124716,0.12486399999999999,0.139125,0.157283,0.12249199999999999,0.122183,0.122156,0.121635,0.12186899999999999,0.12239,0.122163,0.128599,0.123898,0.122815,0.12294799999999999,0.126387,0.124398,0.123235,0.122725,0.127401,0.134848,0.12414499999999999,0.124098,0.12653699999999998,0.12161599999999999,0.12142299999999999,0.12125,0.122111,0.12474199999999999,0.126418,0.12340799999999999,0.12121,0.121046,0.123025,0.12566,0.124511,0.12379499999999999,0.142353,0.122608,0.12670299999999998,0.125894,0.12402999999999999,0.131041,0.131295,0.127949,0.127504,0.132248,0.129696,0.12465499999999999,0.125886,null,null,null,null,null,null,null,null,null,null,null,null,null,null,null,null,null,null,null,null,null,null,null,null,null,null,null,null,null,null,null,null,null,null,null,null,null,null,null,null,null,null,null,null,null,null,null,null,null,null,null,null,null,null,null,null,null,null,null,null,null,null,null,null,null,null,null,null,null,null,null,null,null,null,null,null,null,null,null,null,null,null,null,null,null,null,null,null,null,null,null,null,null,null,null,null,null,null,null,null,null,null,null,null,null,null,null,null,null,null,null,null,null,null,null,null,null,null,null,null,null,null,null,null,null,null,null,null,null,null,null,null,null,null,null,null,null,null,null,null,null,null,null,null,null,null,null,null,null,null,null,null,null,null,null,null,null,null,null,null,null,null,null,null,null,null,null,null,null,null,null,null,null,null,null,null,null,null,null,null,null,null,null,null,null,null,null,null,null,null,null,null,null,null,null,null,null,null,null,null,0.27305999999999997,0.280698,0.27904599999999996,0.263065,0.276584,0.274371,0.287612,0.302101,0.324764,0.275754,0.271205,0.276638,0.27233999999999997,0.269885,0.277039,0.286916,0.29059399999999996,0.281906,0.277744,0.270303,0.272603,0.26176499999999997,0.280057,0.26325,0.31021099999999996,0.272707,0.281728,0.28173,0.275802,0.27652699999999997,0.26234199999999996,0.274243,0.313791,0.29662,0.275912,0.282621,0.27097499999999997,0.275391,0.277089,0.288037,0.323596,0.309931,0.277488,0.28753999999999996,0.278516,0.28071999999999997,0.292207,0.27030499999999996,0.29211,0.263002,0.281385,0.25485399999999997,0.260058,0.273571,0.28035299999999996,0.270406,0.282798,0.259911,0.262129,0.265424,0.264019,0.256318,0.25920299999999996,0.258022,0.257515,0.259866,0.256531,0.253866,0.255443,0.25486,0.24737499999999998,0.254423,0.266054,0.30516299999999996,0.261879,0.26456199999999996,0.262658,0.24716,0.261046,0.25678999999999996,0.261687,0.264874,0.262884,0.256656,0.262399,0.28218499999999996,0.280213,0.26875,0.26603899999999997,0.286707,0.30274799999999996,0.253485,0.25643099999999996,0.254533,0.2688,0.294981,0.256371,0.276235,0.258165,0.259807],\"y0\":\" \",\"yaxis\":\"y\",\"type\":\"box\"}],                        {\"template\":{\"data\":{\"histogram2dcontour\":[{\"type\":\"histogram2dcontour\",\"colorbar\":{\"outlinewidth\":0,\"ticks\":\"\"},\"colorscale\":[[0.0,\"#0d0887\"],[0.1111111111111111,\"#46039f\"],[0.2222222222222222,\"#7201a8\"],[0.3333333333333333,\"#9c179e\"],[0.4444444444444444,\"#bd3786\"],[0.5555555555555556,\"#d8576b\"],[0.6666666666666666,\"#ed7953\"],[0.7777777777777778,\"#fb9f3a\"],[0.8888888888888888,\"#fdca26\"],[1.0,\"#f0f921\"]]}],\"choropleth\":[{\"type\":\"choropleth\",\"colorbar\":{\"outlinewidth\":0,\"ticks\":\"\"}}],\"histogram2d\":[{\"type\":\"histogram2d\",\"colorbar\":{\"outlinewidth\":0,\"ticks\":\"\"},\"colorscale\":[[0.0,\"#0d0887\"],[0.1111111111111111,\"#46039f\"],[0.2222222222222222,\"#7201a8\"],[0.3333333333333333,\"#9c179e\"],[0.4444444444444444,\"#bd3786\"],[0.5555555555555556,\"#d8576b\"],[0.6666666666666666,\"#ed7953\"],[0.7777777777777778,\"#fb9f3a\"],[0.8888888888888888,\"#fdca26\"],[1.0,\"#f0f921\"]]}],\"heatmap\":[{\"type\":\"heatmap\",\"colorbar\":{\"outlinewidth\":0,\"ticks\":\"\"},\"colorscale\":[[0.0,\"#0d0887\"],[0.1111111111111111,\"#46039f\"],[0.2222222222222222,\"#7201a8\"],[0.3333333333333333,\"#9c179e\"],[0.4444444444444444,\"#bd3786\"],[0.5555555555555556,\"#d8576b\"],[0.6666666666666666,\"#ed7953\"],[0.7777777777777778,\"#fb9f3a\"],[0.8888888888888888,\"#fdca26\"],[1.0,\"#f0f921\"]]}],\"heatmapgl\":[{\"type\":\"heatmapgl\",\"colorbar\":{\"outlinewidth\":0,\"ticks\":\"\"},\"colorscale\":[[0.0,\"#0d0887\"],[0.1111111111111111,\"#46039f\"],[0.2222222222222222,\"#7201a8\"],[0.3333333333333333,\"#9c179e\"],[0.4444444444444444,\"#bd3786\"],[0.5555555555555556,\"#d8576b\"],[0.6666666666666666,\"#ed7953\"],[0.7777777777777778,\"#fb9f3a\"],[0.8888888888888888,\"#fdca26\"],[1.0,\"#f0f921\"]]}],\"contourcarpet\":[{\"type\":\"contourcarpet\",\"colorbar\":{\"outlinewidth\":0,\"ticks\":\"\"}}],\"contour\":[{\"type\":\"contour\",\"colorbar\":{\"outlinewidth\":0,\"ticks\":\"\"},\"colorscale\":[[0.0,\"#0d0887\"],[0.1111111111111111,\"#46039f\"],[0.2222222222222222,\"#7201a8\"],[0.3333333333333333,\"#9c179e\"],[0.4444444444444444,\"#bd3786\"],[0.5555555555555556,\"#d8576b\"],[0.6666666666666666,\"#ed7953\"],[0.7777777777777778,\"#fb9f3a\"],[0.8888888888888888,\"#fdca26\"],[1.0,\"#f0f921\"]]}],\"surface\":[{\"type\":\"surface\",\"colorbar\":{\"outlinewidth\":0,\"ticks\":\"\"},\"colorscale\":[[0.0,\"#0d0887\"],[0.1111111111111111,\"#46039f\"],[0.2222222222222222,\"#7201a8\"],[0.3333333333333333,\"#9c179e\"],[0.4444444444444444,\"#bd3786\"],[0.5555555555555556,\"#d8576b\"],[0.6666666666666666,\"#ed7953\"],[0.7777777777777778,\"#fb9f3a\"],[0.8888888888888888,\"#fdca26\"],[1.0,\"#f0f921\"]]}],\"mesh3d\":[{\"type\":\"mesh3d\",\"colorbar\":{\"outlinewidth\":0,\"ticks\":\"\"}}],\"scatter\":[{\"fillpattern\":{\"fillmode\":\"overlay\",\"size\":10,\"solidity\":0.2},\"type\":\"scatter\"}],\"parcoords\":[{\"type\":\"parcoords\",\"line\":{\"colorbar\":{\"outlinewidth\":0,\"ticks\":\"\"}}}],\"scatterpolargl\":[{\"type\":\"scatterpolargl\",\"marker\":{\"colorbar\":{\"outlinewidth\":0,\"ticks\":\"\"}}}],\"bar\":[{\"error_x\":{\"color\":\"#2a3f5f\"},\"error_y\":{\"color\":\"#2a3f5f\"},\"marker\":{\"line\":{\"color\":\"#E5ECF6\",\"width\":0.5},\"pattern\":{\"fillmode\":\"overlay\",\"size\":10,\"solidity\":0.2}},\"type\":\"bar\"}],\"scattergeo\":[{\"type\":\"scattergeo\",\"marker\":{\"colorbar\":{\"outlinewidth\":0,\"ticks\":\"\"}}}],\"scatterpolar\":[{\"type\":\"scatterpolar\",\"marker\":{\"colorbar\":{\"outlinewidth\":0,\"ticks\":\"\"}}}],\"histogram\":[{\"marker\":{\"pattern\":{\"fillmode\":\"overlay\",\"size\":10,\"solidity\":0.2}},\"type\":\"histogram\"}],\"scattergl\":[{\"type\":\"scattergl\",\"marker\":{\"colorbar\":{\"outlinewidth\":0,\"ticks\":\"\"}}}],\"scatter3d\":[{\"type\":\"scatter3d\",\"line\":{\"colorbar\":{\"outlinewidth\":0,\"ticks\":\"\"}},\"marker\":{\"colorbar\":{\"outlinewidth\":0,\"ticks\":\"\"}}}],\"scattermapbox\":[{\"type\":\"scattermapbox\",\"marker\":{\"colorbar\":{\"outlinewidth\":0,\"ticks\":\"\"}}}],\"scatterternary\":[{\"type\":\"scatterternary\",\"marker\":{\"colorbar\":{\"outlinewidth\":0,\"ticks\":\"\"}}}],\"scattercarpet\":[{\"type\":\"scattercarpet\",\"marker\":{\"colorbar\":{\"outlinewidth\":0,\"ticks\":\"\"}}}],\"carpet\":[{\"aaxis\":{\"endlinecolor\":\"#2a3f5f\",\"gridcolor\":\"white\",\"linecolor\":\"white\",\"minorgridcolor\":\"white\",\"startlinecolor\":\"#2a3f5f\"},\"baxis\":{\"endlinecolor\":\"#2a3f5f\",\"gridcolor\":\"white\",\"linecolor\":\"white\",\"minorgridcolor\":\"white\",\"startlinecolor\":\"#2a3f5f\"},\"type\":\"carpet\"}],\"table\":[{\"cells\":{\"fill\":{\"color\":\"#EBF0F8\"},\"line\":{\"color\":\"white\"}},\"header\":{\"fill\":{\"color\":\"#C8D4E3\"},\"line\":{\"color\":\"white\"}},\"type\":\"table\"}],\"barpolar\":[{\"marker\":{\"line\":{\"color\":\"#E5ECF6\",\"width\":0.5},\"pattern\":{\"fillmode\":\"overlay\",\"size\":10,\"solidity\":0.2}},\"type\":\"barpolar\"}],\"pie\":[{\"automargin\":true,\"type\":\"pie\"}]},\"layout\":{\"autotypenumbers\":\"strict\",\"colorway\":[\"#636efa\",\"#EF553B\",\"#00cc96\",\"#ab63fa\",\"#FFA15A\",\"#19d3f3\",\"#FF6692\",\"#B6E880\",\"#FF97FF\",\"#FECB52\"],\"font\":{\"color\":\"#2a3f5f\"},\"hovermode\":\"closest\",\"hoverlabel\":{\"align\":\"left\"},\"paper_bgcolor\":\"white\",\"plot_bgcolor\":\"#E5ECF6\",\"polar\":{\"bgcolor\":\"#E5ECF6\",\"angularaxis\":{\"gridcolor\":\"white\",\"linecolor\":\"white\",\"ticks\":\"\"},\"radialaxis\":{\"gridcolor\":\"white\",\"linecolor\":\"white\",\"ticks\":\"\"}},\"ternary\":{\"bgcolor\":\"#E5ECF6\",\"aaxis\":{\"gridcolor\":\"white\",\"linecolor\":\"white\",\"ticks\":\"\"},\"baxis\":{\"gridcolor\":\"white\",\"linecolor\":\"white\",\"ticks\":\"\"},\"caxis\":{\"gridcolor\":\"white\",\"linecolor\":\"white\",\"ticks\":\"\"}},\"coloraxis\":{\"colorbar\":{\"outlinewidth\":0,\"ticks\":\"\"}},\"colorscale\":{\"sequential\":[[0.0,\"#0d0887\"],[0.1111111111111111,\"#46039f\"],[0.2222222222222222,\"#7201a8\"],[0.3333333333333333,\"#9c179e\"],[0.4444444444444444,\"#bd3786\"],[0.5555555555555556,\"#d8576b\"],[0.6666666666666666,\"#ed7953\"],[0.7777777777777778,\"#fb9f3a\"],[0.8888888888888888,\"#fdca26\"],[1.0,\"#f0f921\"]],\"sequentialminus\":[[0.0,\"#0d0887\"],[0.1111111111111111,\"#46039f\"],[0.2222222222222222,\"#7201a8\"],[0.3333333333333333,\"#9c179e\"],[0.4444444444444444,\"#bd3786\"],[0.5555555555555556,\"#d8576b\"],[0.6666666666666666,\"#ed7953\"],[0.7777777777777778,\"#fb9f3a\"],[0.8888888888888888,\"#fdca26\"],[1.0,\"#f0f921\"]],\"diverging\":[[0,\"#8e0152\"],[0.1,\"#c51b7d\"],[0.2,\"#de77ae\"],[0.3,\"#f1b6da\"],[0.4,\"#fde0ef\"],[0.5,\"#f7f7f7\"],[0.6,\"#e6f5d0\"],[0.7,\"#b8e186\"],[0.8,\"#7fbc41\"],[0.9,\"#4d9221\"],[1,\"#276419\"]]},\"xaxis\":{\"gridcolor\":\"white\",\"linecolor\":\"white\",\"ticks\":\"\",\"title\":{\"standoff\":15},\"zerolinecolor\":\"white\",\"automargin\":true,\"zerolinewidth\":2},\"yaxis\":{\"gridcolor\":\"white\",\"linecolor\":\"white\",\"ticks\":\"\",\"title\":{\"standoff\":15},\"zerolinecolor\":\"white\",\"automargin\":true,\"zerolinewidth\":2},\"scene\":{\"xaxis\":{\"backgroundcolor\":\"#E5ECF6\",\"gridcolor\":\"white\",\"linecolor\":\"white\",\"showbackground\":true,\"ticks\":\"\",\"zerolinecolor\":\"white\",\"gridwidth\":2},\"yaxis\":{\"backgroundcolor\":\"#E5ECF6\",\"gridcolor\":\"white\",\"linecolor\":\"white\",\"showbackground\":true,\"ticks\":\"\",\"zerolinecolor\":\"white\",\"gridwidth\":2},\"zaxis\":{\"backgroundcolor\":\"#E5ECF6\",\"gridcolor\":\"white\",\"linecolor\":\"white\",\"showbackground\":true,\"ticks\":\"\",\"zerolinecolor\":\"white\",\"gridwidth\":2}},\"shapedefaults\":{\"line\":{\"color\":\"#2a3f5f\"}},\"annotationdefaults\":{\"arrowcolor\":\"#2a3f5f\",\"arrowhead\":0,\"arrowwidth\":1},\"geo\":{\"bgcolor\":\"white\",\"landcolor\":\"#E5ECF6\",\"subunitcolor\":\"white\",\"showland\":true,\"showlakes\":true,\"lakecolor\":\"white\"},\"title\":{\"x\":0.05},\"mapbox\":{\"style\":\"light\"}}},\"xaxis\":{\"anchor\":\"y\",\"domain\":[0.0,1.0],\"title\":{\"text\":\"variable\"}},\"yaxis\":{\"anchor\":\"x\",\"domain\":[0.0,1.0],\"title\":{\"text\":\"value\"},\"type\":\"log\"},\"legend\":{\"tracegroupgap\":0},\"margin\":{\"t\":60},\"boxmode\":\"group\"},                        {\"responsive\": true}                    ).then(function(){\n",
       "                            \n",
       "var gd = document.getElementById('12cfb788-0c39-4455-bb21-40fde751efc5');\n",
       "var x = new MutationObserver(function (mutations, observer) {{\n",
       "        var display = window.getComputedStyle(gd).display;\n",
       "        if (!display || display === 'none') {{\n",
       "            console.log([gd, 'removed!']);\n",
       "            Plotly.purge(gd);\n",
       "            observer.disconnect();\n",
       "        }}\n",
       "}});\n",
       "\n",
       "// Listen for the removal of the full notebook cells\n",
       "var notebookContainer = gd.closest('#notebook-container');\n",
       "if (notebookContainer) {{\n",
       "    x.observe(notebookContainer, {childList: true});\n",
       "}}\n",
       "\n",
       "// Listen for the clearing of the current output cell\n",
       "var outputEl = gd.closest('.output');\n",
       "if (outputEl) {{\n",
       "    x.observe(outputEl, {childList: true});\n",
       "}}\n",
       "\n",
       "                        })                };                });            </script>        </div>"
      ]
     },
     "metadata": {},
     "output_type": "display_data"
    }
   ],
   "source": [
    "#%%script false --no-raise-error\n",
    "import pandas as pd\n",
    "\n",
    "import plotly.express as px\n",
    "\n",
    "df_hdf5_c = pd.read_json(\"/home/dev/dkrz_dev/c-stuff/test_hdf5-c.json\")\n",
    "df_hdf5_subfiling = pd.read_json(\"/home/dev/dkrz_dev/c-stuff/test_hdf5_subfiling.json\")\n",
    "\n",
    "df = pd.concat([df_hdf5_c, df_hdf5_subfiling], ignore_index=True)\n",
    "\n",
    "fig =  fig = px.box(data_frame=df, log_y=True)\n",
    "fig.show()"
   ]
  },
  {
   "cell_type": "code",
   "execution_count": 21,
   "id": "f827fcd7",
   "metadata": {},
   "outputs": [
    {
     "data": {
      "application/vnd.plotly.v1+json": {
       "config": {
        "plotlyServerURL": "https://plot.ly"
       },
       "data": [
        {
         "customdata": [
          [
           "zarr-[512, 512, 512]-[512, 512, 1]"
          ],
          [
           "zarr-[512, 512, 512]-[512, 512, 8]"
          ],
          [
           "zarr-[512, 512, 512]-[512, 512, 16]"
          ],
          [
           "zarr-[512, 512, 512]-[512, 512, 32]"
          ],
          [
           "zarr-[512, 512, 512]-[512, 512, 64]"
          ],
          [
           "zarr-[512, 512, 512]-[512, 512, 128]"
          ],
          [
           "zarr-[512, 512, 512]-[512, 512, 256]"
          ],
          [
           "zarr-[512, 512, 512]-[512, 512, 512]"
          ]
         ],
         "hovertemplate": "engine=zarr<br>filesize per chunk=%{x}<br>mean time=%{y}<br>format=%{customdata[0]}<extra></extra>",
         "legendgroup": "zarr",
         "line": {
          "color": "#636efa",
          "dash": "solid"
         },
         "marker": {
          "symbol": "circle"
         },
         "mode": "lines+markers",
         "name": "zarr",
         "orientation": "v",
         "showlegend": true,
         "type": "scatter",
         "x": [
          "2.0 MB",
          "16.0 MB",
          "32.0 MB",
          "64.0 MB",
          "128.0 MB",
          "256.0 MB",
          "512.0 MB",
          "1024.0 MB"
         ],
         "xaxis": "x",
         "y": [
          1.2761732284,
          0.4795103894,
          0.3316660512,
          0.32257602280000003,
          0.2771062188,
          0.37355541080000004,
          0.5067777335000001,
          0.8510765822999999
         ],
         "yaxis": "y"
        },
        {
         "customdata": [
          [
           "netcdf4-[512, 512, 512]-[512, 512, 1]"
          ],
          [
           "netcdf4-[512, 512, 512]-[512, 512, 8]"
          ],
          [
           "netcdf4-[512, 512, 512]-[512, 512, 16]"
          ],
          [
           "netcdf4-[512, 512, 512]-[512, 512, 32]"
          ],
          [
           "netcdf4-[512, 512, 512]-[512, 512, 64]"
          ],
          [
           "netcdf4-[512, 512, 512]-[512, 512, 128]"
          ],
          [
           "netcdf4-[512, 512, 512]-[512, 512, 256]"
          ],
          [
           "netcdf4-[512, 512, 512]-[512, 512, 512]"
          ]
         ],
         "hovertemplate": "engine=netcdf4<br>filesize per chunk=%{x}<br>mean time=%{y}<br>format=%{customdata[0]}<extra></extra>",
         "legendgroup": "netcdf4",
         "line": {
          "color": "#EF553B",
          "dash": "solid"
         },
         "marker": {
          "symbol": "circle"
         },
         "mode": "lines+markers",
         "name": "netcdf4",
         "orientation": "v",
         "showlegend": true,
         "type": "scatter",
         "x": [
          "2.0 MB",
          "16.0 MB",
          "32.0 MB",
          "64.0 MB",
          "128.0 MB",
          "256.0 MB",
          "512.0 MB",
          "1024.0 MB"
         ],
         "xaxis": "x",
         "y": [
          1.1040387016,
          0.34806224760000004,
          0.3182106903,
          0.2873884112,
          0.8901181291,
          0.5441506326000001,
          0.40924939699999996,
          0.11994267830000002
         ],
         "yaxis": "y"
        },
        {
         "customdata": [
          [
           "hdf5-[512, 512, 512]-[512, 512, 1]"
          ],
          [
           "hdf5-[512, 512, 512]-[512, 512, 8]"
          ],
          [
           "hdf5-[512, 512, 512]-[512, 512, 16]"
          ],
          [
           "hdf5-[512, 512, 512]-[512, 512, 32]"
          ],
          [
           "hdf5-[512, 512, 512]-[512, 512, 64]"
          ],
          [
           "hdf5-[512, 512, 512]-[512, 512, 128]"
          ],
          [
           "hdf5-[512, 512, 512]-[512, 512, 256]"
          ],
          [
           "hdf5-[512, 512, 512]-[512, 512, 512]"
          ]
         ],
         "hovertemplate": "engine=hdf5<br>filesize per chunk=%{x}<br>mean time=%{y}<br>format=%{customdata[0]}<extra></extra>",
         "legendgroup": "hdf5",
         "line": {
          "color": "#00cc96",
          "dash": "solid"
         },
         "marker": {
          "symbol": "circle"
         },
         "mode": "lines+markers",
         "name": "hdf5",
         "orientation": "v",
         "showlegend": true,
         "type": "scatter",
         "x": [
          "2.0 MB",
          "16.0 MB",
          "32.0 MB",
          "64.0 MB",
          "128.0 MB",
          "256.0 MB",
          "512.0 MB",
          "1024.0 MB"
         ],
         "xaxis": "x",
         "y": [
          45.8777699307,
          6.1550144078,
          3.1232346501,
          1.6651496934,
          0.8630406456999999,
          0.5376039714,
          0.31868146470000003,
          0.1068964867
         ],
         "yaxis": "y"
        }
       ],
       "layout": {
        "legend": {
         "title": {
          "text": "engine"
         },
         "tracegroupgap": 0
        },
        "template": {
         "data": {
          "bar": [
           {
            "error_x": {
             "color": "#2a3f5f"
            },
            "error_y": {
             "color": "#2a3f5f"
            },
            "marker": {
             "line": {
              "color": "#E5ECF6",
              "width": 0.5
             },
             "pattern": {
              "fillmode": "overlay",
              "size": 10,
              "solidity": 0.2
             }
            },
            "type": "bar"
           }
          ],
          "barpolar": [
           {
            "marker": {
             "line": {
              "color": "#E5ECF6",
              "width": 0.5
             },
             "pattern": {
              "fillmode": "overlay",
              "size": 10,
              "solidity": 0.2
             }
            },
            "type": "barpolar"
           }
          ],
          "carpet": [
           {
            "aaxis": {
             "endlinecolor": "#2a3f5f",
             "gridcolor": "white",
             "linecolor": "white",
             "minorgridcolor": "white",
             "startlinecolor": "#2a3f5f"
            },
            "baxis": {
             "endlinecolor": "#2a3f5f",
             "gridcolor": "white",
             "linecolor": "white",
             "minorgridcolor": "white",
             "startlinecolor": "#2a3f5f"
            },
            "type": "carpet"
           }
          ],
          "choropleth": [
           {
            "colorbar": {
             "outlinewidth": 0,
             "ticks": ""
            },
            "type": "choropleth"
           }
          ],
          "contour": [
           {
            "colorbar": {
             "outlinewidth": 0,
             "ticks": ""
            },
            "colorscale": [
             [
              0,
              "#0d0887"
             ],
             [
              0.1111111111111111,
              "#46039f"
             ],
             [
              0.2222222222222222,
              "#7201a8"
             ],
             [
              0.3333333333333333,
              "#9c179e"
             ],
             [
              0.4444444444444444,
              "#bd3786"
             ],
             [
              0.5555555555555556,
              "#d8576b"
             ],
             [
              0.6666666666666666,
              "#ed7953"
             ],
             [
              0.7777777777777778,
              "#fb9f3a"
             ],
             [
              0.8888888888888888,
              "#fdca26"
             ],
             [
              1,
              "#f0f921"
             ]
            ],
            "type": "contour"
           }
          ],
          "contourcarpet": [
           {
            "colorbar": {
             "outlinewidth": 0,
             "ticks": ""
            },
            "type": "contourcarpet"
           }
          ],
          "heatmap": [
           {
            "colorbar": {
             "outlinewidth": 0,
             "ticks": ""
            },
            "colorscale": [
             [
              0,
              "#0d0887"
             ],
             [
              0.1111111111111111,
              "#46039f"
             ],
             [
              0.2222222222222222,
              "#7201a8"
             ],
             [
              0.3333333333333333,
              "#9c179e"
             ],
             [
              0.4444444444444444,
              "#bd3786"
             ],
             [
              0.5555555555555556,
              "#d8576b"
             ],
             [
              0.6666666666666666,
              "#ed7953"
             ],
             [
              0.7777777777777778,
              "#fb9f3a"
             ],
             [
              0.8888888888888888,
              "#fdca26"
             ],
             [
              1,
              "#f0f921"
             ]
            ],
            "type": "heatmap"
           }
          ],
          "heatmapgl": [
           {
            "colorbar": {
             "outlinewidth": 0,
             "ticks": ""
            },
            "colorscale": [
             [
              0,
              "#0d0887"
             ],
             [
              0.1111111111111111,
              "#46039f"
             ],
             [
              0.2222222222222222,
              "#7201a8"
             ],
             [
              0.3333333333333333,
              "#9c179e"
             ],
             [
              0.4444444444444444,
              "#bd3786"
             ],
             [
              0.5555555555555556,
              "#d8576b"
             ],
             [
              0.6666666666666666,
              "#ed7953"
             ],
             [
              0.7777777777777778,
              "#fb9f3a"
             ],
             [
              0.8888888888888888,
              "#fdca26"
             ],
             [
              1,
              "#f0f921"
             ]
            ],
            "type": "heatmapgl"
           }
          ],
          "histogram": [
           {
            "marker": {
             "pattern": {
              "fillmode": "overlay",
              "size": 10,
              "solidity": 0.2
             }
            },
            "type": "histogram"
           }
          ],
          "histogram2d": [
           {
            "colorbar": {
             "outlinewidth": 0,
             "ticks": ""
            },
            "colorscale": [
             [
              0,
              "#0d0887"
             ],
             [
              0.1111111111111111,
              "#46039f"
             ],
             [
              0.2222222222222222,
              "#7201a8"
             ],
             [
              0.3333333333333333,
              "#9c179e"
             ],
             [
              0.4444444444444444,
              "#bd3786"
             ],
             [
              0.5555555555555556,
              "#d8576b"
             ],
             [
              0.6666666666666666,
              "#ed7953"
             ],
             [
              0.7777777777777778,
              "#fb9f3a"
             ],
             [
              0.8888888888888888,
              "#fdca26"
             ],
             [
              1,
              "#f0f921"
             ]
            ],
            "type": "histogram2d"
           }
          ],
          "histogram2dcontour": [
           {
            "colorbar": {
             "outlinewidth": 0,
             "ticks": ""
            },
            "colorscale": [
             [
              0,
              "#0d0887"
             ],
             [
              0.1111111111111111,
              "#46039f"
             ],
             [
              0.2222222222222222,
              "#7201a8"
             ],
             [
              0.3333333333333333,
              "#9c179e"
             ],
             [
              0.4444444444444444,
              "#bd3786"
             ],
             [
              0.5555555555555556,
              "#d8576b"
             ],
             [
              0.6666666666666666,
              "#ed7953"
             ],
             [
              0.7777777777777778,
              "#fb9f3a"
             ],
             [
              0.8888888888888888,
              "#fdca26"
             ],
             [
              1,
              "#f0f921"
             ]
            ],
            "type": "histogram2dcontour"
           }
          ],
          "mesh3d": [
           {
            "colorbar": {
             "outlinewidth": 0,
             "ticks": ""
            },
            "type": "mesh3d"
           }
          ],
          "parcoords": [
           {
            "line": {
             "colorbar": {
              "outlinewidth": 0,
              "ticks": ""
             }
            },
            "type": "parcoords"
           }
          ],
          "pie": [
           {
            "automargin": true,
            "type": "pie"
           }
          ],
          "scatter": [
           {
            "fillpattern": {
             "fillmode": "overlay",
             "size": 10,
             "solidity": 0.2
            },
            "type": "scatter"
           }
          ],
          "scatter3d": [
           {
            "line": {
             "colorbar": {
              "outlinewidth": 0,
              "ticks": ""
             }
            },
            "marker": {
             "colorbar": {
              "outlinewidth": 0,
              "ticks": ""
             }
            },
            "type": "scatter3d"
           }
          ],
          "scattercarpet": [
           {
            "marker": {
             "colorbar": {
              "outlinewidth": 0,
              "ticks": ""
             }
            },
            "type": "scattercarpet"
           }
          ],
          "scattergeo": [
           {
            "marker": {
             "colorbar": {
              "outlinewidth": 0,
              "ticks": ""
             }
            },
            "type": "scattergeo"
           }
          ],
          "scattergl": [
           {
            "marker": {
             "colorbar": {
              "outlinewidth": 0,
              "ticks": ""
             }
            },
            "type": "scattergl"
           }
          ],
          "scattermapbox": [
           {
            "marker": {
             "colorbar": {
              "outlinewidth": 0,
              "ticks": ""
             }
            },
            "type": "scattermapbox"
           }
          ],
          "scatterpolar": [
           {
            "marker": {
             "colorbar": {
              "outlinewidth": 0,
              "ticks": ""
             }
            },
            "type": "scatterpolar"
           }
          ],
          "scatterpolargl": [
           {
            "marker": {
             "colorbar": {
              "outlinewidth": 0,
              "ticks": ""
             }
            },
            "type": "scatterpolargl"
           }
          ],
          "scatterternary": [
           {
            "marker": {
             "colorbar": {
              "outlinewidth": 0,
              "ticks": ""
             }
            },
            "type": "scatterternary"
           }
          ],
          "surface": [
           {
            "colorbar": {
             "outlinewidth": 0,
             "ticks": ""
            },
            "colorscale": [
             [
              0,
              "#0d0887"
             ],
             [
              0.1111111111111111,
              "#46039f"
             ],
             [
              0.2222222222222222,
              "#7201a8"
             ],
             [
              0.3333333333333333,
              "#9c179e"
             ],
             [
              0.4444444444444444,
              "#bd3786"
             ],
             [
              0.5555555555555556,
              "#d8576b"
             ],
             [
              0.6666666666666666,
              "#ed7953"
             ],
             [
              0.7777777777777778,
              "#fb9f3a"
             ],
             [
              0.8888888888888888,
              "#fdca26"
             ],
             [
              1,
              "#f0f921"
             ]
            ],
            "type": "surface"
           }
          ],
          "table": [
           {
            "cells": {
             "fill": {
              "color": "#EBF0F8"
             },
             "line": {
              "color": "white"
             }
            },
            "header": {
             "fill": {
              "color": "#C8D4E3"
             },
             "line": {
              "color": "white"
             }
            },
            "type": "table"
           }
          ]
         },
         "layout": {
          "annotationdefaults": {
           "arrowcolor": "#2a3f5f",
           "arrowhead": 0,
           "arrowwidth": 1
          },
          "autotypenumbers": "strict",
          "coloraxis": {
           "colorbar": {
            "outlinewidth": 0,
            "ticks": ""
           }
          },
          "colorscale": {
           "diverging": [
            [
             0,
             "#8e0152"
            ],
            [
             0.1,
             "#c51b7d"
            ],
            [
             0.2,
             "#de77ae"
            ],
            [
             0.3,
             "#f1b6da"
            ],
            [
             0.4,
             "#fde0ef"
            ],
            [
             0.5,
             "#f7f7f7"
            ],
            [
             0.6,
             "#e6f5d0"
            ],
            [
             0.7,
             "#b8e186"
            ],
            [
             0.8,
             "#7fbc41"
            ],
            [
             0.9,
             "#4d9221"
            ],
            [
             1,
             "#276419"
            ]
           ],
           "sequential": [
            [
             0,
             "#0d0887"
            ],
            [
             0.1111111111111111,
             "#46039f"
            ],
            [
             0.2222222222222222,
             "#7201a8"
            ],
            [
             0.3333333333333333,
             "#9c179e"
            ],
            [
             0.4444444444444444,
             "#bd3786"
            ],
            [
             0.5555555555555556,
             "#d8576b"
            ],
            [
             0.6666666666666666,
             "#ed7953"
            ],
            [
             0.7777777777777778,
             "#fb9f3a"
            ],
            [
             0.8888888888888888,
             "#fdca26"
            ],
            [
             1,
             "#f0f921"
            ]
           ],
           "sequentialminus": [
            [
             0,
             "#0d0887"
            ],
            [
             0.1111111111111111,
             "#46039f"
            ],
            [
             0.2222222222222222,
             "#7201a8"
            ],
            [
             0.3333333333333333,
             "#9c179e"
            ],
            [
             0.4444444444444444,
             "#bd3786"
            ],
            [
             0.5555555555555556,
             "#d8576b"
            ],
            [
             0.6666666666666666,
             "#ed7953"
            ],
            [
             0.7777777777777778,
             "#fb9f3a"
            ],
            [
             0.8888888888888888,
             "#fdca26"
            ],
            [
             1,
             "#f0f921"
            ]
           ]
          },
          "colorway": [
           "#636efa",
           "#EF553B",
           "#00cc96",
           "#ab63fa",
           "#FFA15A",
           "#19d3f3",
           "#FF6692",
           "#B6E880",
           "#FF97FF",
           "#FECB52"
          ],
          "font": {
           "color": "#2a3f5f"
          },
          "geo": {
           "bgcolor": "white",
           "lakecolor": "white",
           "landcolor": "#E5ECF6",
           "showlakes": true,
           "showland": true,
           "subunitcolor": "white"
          },
          "hoverlabel": {
           "align": "left"
          },
          "hovermode": "closest",
          "mapbox": {
           "style": "light"
          },
          "paper_bgcolor": "white",
          "plot_bgcolor": "#E5ECF6",
          "polar": {
           "angularaxis": {
            "gridcolor": "white",
            "linecolor": "white",
            "ticks": ""
           },
           "bgcolor": "#E5ECF6",
           "radialaxis": {
            "gridcolor": "white",
            "linecolor": "white",
            "ticks": ""
           }
          },
          "scene": {
           "xaxis": {
            "backgroundcolor": "#E5ECF6",
            "gridcolor": "white",
            "gridwidth": 2,
            "linecolor": "white",
            "showbackground": true,
            "ticks": "",
            "zerolinecolor": "white"
           },
           "yaxis": {
            "backgroundcolor": "#E5ECF6",
            "gridcolor": "white",
            "gridwidth": 2,
            "linecolor": "white",
            "showbackground": true,
            "ticks": "",
            "zerolinecolor": "white"
           },
           "zaxis": {
            "backgroundcolor": "#E5ECF6",
            "gridcolor": "white",
            "gridwidth": 2,
            "linecolor": "white",
            "showbackground": true,
            "ticks": "",
            "zerolinecolor": "white"
           }
          },
          "shapedefaults": {
           "line": {
            "color": "#2a3f5f"
           }
          },
          "ternary": {
           "aaxis": {
            "gridcolor": "white",
            "linecolor": "white",
            "ticks": ""
           },
           "baxis": {
            "gridcolor": "white",
            "linecolor": "white",
            "ticks": ""
           },
           "bgcolor": "#E5ECF6",
           "caxis": {
            "gridcolor": "white",
            "linecolor": "white",
            "ticks": ""
           }
          },
          "title": {
           "x": 0.05
          },
          "xaxis": {
           "automargin": true,
           "gridcolor": "white",
           "linecolor": "white",
           "ticks": "",
           "title": {
            "standoff": 15
           },
           "zerolinecolor": "white",
           "zerolinewidth": 2
          },
          "yaxis": {
           "automargin": true,
           "gridcolor": "white",
           "linecolor": "white",
           "ticks": "",
           "title": {
            "standoff": 15
           },
           "zerolinecolor": "white",
           "zerolinewidth": 2
          }
         }
        },
        "title": {
         "text": "loading complete dataset with varying chunksizes"
        },
        "xaxis": {
         "anchor": "y",
         "domain": [
          0,
          1
         ],
         "title": {
          "text": "filesize per chunk"
         }
        },
        "yaxis": {
         "anchor": "x",
         "domain": [
          0,
          1
         ],
         "title": {
          "text": "mean time"
         },
         "type": "log"
        }
       }
      },
      "text/html": [
       "<div>                            <div id=\"91811145-8094-4dfe-a05f-a0e36d13b6dc\" class=\"plotly-graph-div\" style=\"height:525px; width:100%;\"></div>            <script type=\"text/javascript\">                require([\"plotly\"], function(Plotly) {                    window.PLOTLYENV=window.PLOTLYENV || {};                                    if (document.getElementById(\"91811145-8094-4dfe-a05f-a0e36d13b6dc\")) {                    Plotly.newPlot(                        \"91811145-8094-4dfe-a05f-a0e36d13b6dc\",                        [{\"customdata\":[[\"zarr-[512, 512, 512]-[512, 512, 1]\"],[\"zarr-[512, 512, 512]-[512, 512, 8]\"],[\"zarr-[512, 512, 512]-[512, 512, 16]\"],[\"zarr-[512, 512, 512]-[512, 512, 32]\"],[\"zarr-[512, 512, 512]-[512, 512, 64]\"],[\"zarr-[512, 512, 512]-[512, 512, 128]\"],[\"zarr-[512, 512, 512]-[512, 512, 256]\"],[\"zarr-[512, 512, 512]-[512, 512, 512]\"]],\"hovertemplate\":\"engine=zarr\\u003cbr\\u003efilesize per chunk=%{x}\\u003cbr\\u003emean time=%{y}\\u003cbr\\u003eformat=%{customdata[0]}\\u003cextra\\u003e\\u003c\\u002fextra\\u003e\",\"legendgroup\":\"zarr\",\"line\":{\"color\":\"#636efa\",\"dash\":\"solid\"},\"marker\":{\"symbol\":\"circle\"},\"mode\":\"lines+markers\",\"name\":\"zarr\",\"orientation\":\"v\",\"showlegend\":true,\"x\":[\"2.0 MB\",\"16.0 MB\",\"32.0 MB\",\"64.0 MB\",\"128.0 MB\",\"256.0 MB\",\"512.0 MB\",\"1024.0 MB\"],\"xaxis\":\"x\",\"y\":[1.2761732284,0.4795103894,0.3316660512,0.32257602280000003,0.2771062188,0.37355541080000004,0.5067777335000001,0.8510765822999999],\"yaxis\":\"y\",\"type\":\"scatter\"},{\"customdata\":[[\"netcdf4-[512, 512, 512]-[512, 512, 1]\"],[\"netcdf4-[512, 512, 512]-[512, 512, 8]\"],[\"netcdf4-[512, 512, 512]-[512, 512, 16]\"],[\"netcdf4-[512, 512, 512]-[512, 512, 32]\"],[\"netcdf4-[512, 512, 512]-[512, 512, 64]\"],[\"netcdf4-[512, 512, 512]-[512, 512, 128]\"],[\"netcdf4-[512, 512, 512]-[512, 512, 256]\"],[\"netcdf4-[512, 512, 512]-[512, 512, 512]\"]],\"hovertemplate\":\"engine=netcdf4\\u003cbr\\u003efilesize per chunk=%{x}\\u003cbr\\u003emean time=%{y}\\u003cbr\\u003eformat=%{customdata[0]}\\u003cextra\\u003e\\u003c\\u002fextra\\u003e\",\"legendgroup\":\"netcdf4\",\"line\":{\"color\":\"#EF553B\",\"dash\":\"solid\"},\"marker\":{\"symbol\":\"circle\"},\"mode\":\"lines+markers\",\"name\":\"netcdf4\",\"orientation\":\"v\",\"showlegend\":true,\"x\":[\"2.0 MB\",\"16.0 MB\",\"32.0 MB\",\"64.0 MB\",\"128.0 MB\",\"256.0 MB\",\"512.0 MB\",\"1024.0 MB\"],\"xaxis\":\"x\",\"y\":[1.1040387016,0.34806224760000004,0.3182106903,0.2873884112,0.8901181291,0.5441506326000001,0.40924939699999996,0.11994267830000002],\"yaxis\":\"y\",\"type\":\"scatter\"},{\"customdata\":[[\"hdf5-[512, 512, 512]-[512, 512, 1]\"],[\"hdf5-[512, 512, 512]-[512, 512, 8]\"],[\"hdf5-[512, 512, 512]-[512, 512, 16]\"],[\"hdf5-[512, 512, 512]-[512, 512, 32]\"],[\"hdf5-[512, 512, 512]-[512, 512, 64]\"],[\"hdf5-[512, 512, 512]-[512, 512, 128]\"],[\"hdf5-[512, 512, 512]-[512, 512, 256]\"],[\"hdf5-[512, 512, 512]-[512, 512, 512]\"]],\"hovertemplate\":\"engine=hdf5\\u003cbr\\u003efilesize per chunk=%{x}\\u003cbr\\u003emean time=%{y}\\u003cbr\\u003eformat=%{customdata[0]}\\u003cextra\\u003e\\u003c\\u002fextra\\u003e\",\"legendgroup\":\"hdf5\",\"line\":{\"color\":\"#00cc96\",\"dash\":\"solid\"},\"marker\":{\"symbol\":\"circle\"},\"mode\":\"lines+markers\",\"name\":\"hdf5\",\"orientation\":\"v\",\"showlegend\":true,\"x\":[\"2.0 MB\",\"16.0 MB\",\"32.0 MB\",\"64.0 MB\",\"128.0 MB\",\"256.0 MB\",\"512.0 MB\",\"1024.0 MB\"],\"xaxis\":\"x\",\"y\":[45.8777699307,6.1550144078,3.1232346501,1.6651496934,0.8630406456999999,0.5376039714,0.31868146470000003,0.1068964867],\"yaxis\":\"y\",\"type\":\"scatter\"}],                        {\"template\":{\"data\":{\"histogram2dcontour\":[{\"type\":\"histogram2dcontour\",\"colorbar\":{\"outlinewidth\":0,\"ticks\":\"\"},\"colorscale\":[[0.0,\"#0d0887\"],[0.1111111111111111,\"#46039f\"],[0.2222222222222222,\"#7201a8\"],[0.3333333333333333,\"#9c179e\"],[0.4444444444444444,\"#bd3786\"],[0.5555555555555556,\"#d8576b\"],[0.6666666666666666,\"#ed7953\"],[0.7777777777777778,\"#fb9f3a\"],[0.8888888888888888,\"#fdca26\"],[1.0,\"#f0f921\"]]}],\"choropleth\":[{\"type\":\"choropleth\",\"colorbar\":{\"outlinewidth\":0,\"ticks\":\"\"}}],\"histogram2d\":[{\"type\":\"histogram2d\",\"colorbar\":{\"outlinewidth\":0,\"ticks\":\"\"},\"colorscale\":[[0.0,\"#0d0887\"],[0.1111111111111111,\"#46039f\"],[0.2222222222222222,\"#7201a8\"],[0.3333333333333333,\"#9c179e\"],[0.4444444444444444,\"#bd3786\"],[0.5555555555555556,\"#d8576b\"],[0.6666666666666666,\"#ed7953\"],[0.7777777777777778,\"#fb9f3a\"],[0.8888888888888888,\"#fdca26\"],[1.0,\"#f0f921\"]]}],\"heatmap\":[{\"type\":\"heatmap\",\"colorbar\":{\"outlinewidth\":0,\"ticks\":\"\"},\"colorscale\":[[0.0,\"#0d0887\"],[0.1111111111111111,\"#46039f\"],[0.2222222222222222,\"#7201a8\"],[0.3333333333333333,\"#9c179e\"],[0.4444444444444444,\"#bd3786\"],[0.5555555555555556,\"#d8576b\"],[0.6666666666666666,\"#ed7953\"],[0.7777777777777778,\"#fb9f3a\"],[0.8888888888888888,\"#fdca26\"],[1.0,\"#f0f921\"]]}],\"heatmapgl\":[{\"type\":\"heatmapgl\",\"colorbar\":{\"outlinewidth\":0,\"ticks\":\"\"},\"colorscale\":[[0.0,\"#0d0887\"],[0.1111111111111111,\"#46039f\"],[0.2222222222222222,\"#7201a8\"],[0.3333333333333333,\"#9c179e\"],[0.4444444444444444,\"#bd3786\"],[0.5555555555555556,\"#d8576b\"],[0.6666666666666666,\"#ed7953\"],[0.7777777777777778,\"#fb9f3a\"],[0.8888888888888888,\"#fdca26\"],[1.0,\"#f0f921\"]]}],\"contourcarpet\":[{\"type\":\"contourcarpet\",\"colorbar\":{\"outlinewidth\":0,\"ticks\":\"\"}}],\"contour\":[{\"type\":\"contour\",\"colorbar\":{\"outlinewidth\":0,\"ticks\":\"\"},\"colorscale\":[[0.0,\"#0d0887\"],[0.1111111111111111,\"#46039f\"],[0.2222222222222222,\"#7201a8\"],[0.3333333333333333,\"#9c179e\"],[0.4444444444444444,\"#bd3786\"],[0.5555555555555556,\"#d8576b\"],[0.6666666666666666,\"#ed7953\"],[0.7777777777777778,\"#fb9f3a\"],[0.8888888888888888,\"#fdca26\"],[1.0,\"#f0f921\"]]}],\"surface\":[{\"type\":\"surface\",\"colorbar\":{\"outlinewidth\":0,\"ticks\":\"\"},\"colorscale\":[[0.0,\"#0d0887\"],[0.1111111111111111,\"#46039f\"],[0.2222222222222222,\"#7201a8\"],[0.3333333333333333,\"#9c179e\"],[0.4444444444444444,\"#bd3786\"],[0.5555555555555556,\"#d8576b\"],[0.6666666666666666,\"#ed7953\"],[0.7777777777777778,\"#fb9f3a\"],[0.8888888888888888,\"#fdca26\"],[1.0,\"#f0f921\"]]}],\"mesh3d\":[{\"type\":\"mesh3d\",\"colorbar\":{\"outlinewidth\":0,\"ticks\":\"\"}}],\"scatter\":[{\"fillpattern\":{\"fillmode\":\"overlay\",\"size\":10,\"solidity\":0.2},\"type\":\"scatter\"}],\"parcoords\":[{\"type\":\"parcoords\",\"line\":{\"colorbar\":{\"outlinewidth\":0,\"ticks\":\"\"}}}],\"scatterpolargl\":[{\"type\":\"scatterpolargl\",\"marker\":{\"colorbar\":{\"outlinewidth\":0,\"ticks\":\"\"}}}],\"bar\":[{\"error_x\":{\"color\":\"#2a3f5f\"},\"error_y\":{\"color\":\"#2a3f5f\"},\"marker\":{\"line\":{\"color\":\"#E5ECF6\",\"width\":0.5},\"pattern\":{\"fillmode\":\"overlay\",\"size\":10,\"solidity\":0.2}},\"type\":\"bar\"}],\"scattergeo\":[{\"type\":\"scattergeo\",\"marker\":{\"colorbar\":{\"outlinewidth\":0,\"ticks\":\"\"}}}],\"scatterpolar\":[{\"type\":\"scatterpolar\",\"marker\":{\"colorbar\":{\"outlinewidth\":0,\"ticks\":\"\"}}}],\"histogram\":[{\"marker\":{\"pattern\":{\"fillmode\":\"overlay\",\"size\":10,\"solidity\":0.2}},\"type\":\"histogram\"}],\"scattergl\":[{\"type\":\"scattergl\",\"marker\":{\"colorbar\":{\"outlinewidth\":0,\"ticks\":\"\"}}}],\"scatter3d\":[{\"type\":\"scatter3d\",\"line\":{\"colorbar\":{\"outlinewidth\":0,\"ticks\":\"\"}},\"marker\":{\"colorbar\":{\"outlinewidth\":0,\"ticks\":\"\"}}}],\"scattermapbox\":[{\"type\":\"scattermapbox\",\"marker\":{\"colorbar\":{\"outlinewidth\":0,\"ticks\":\"\"}}}],\"scatterternary\":[{\"type\":\"scatterternary\",\"marker\":{\"colorbar\":{\"outlinewidth\":0,\"ticks\":\"\"}}}],\"scattercarpet\":[{\"type\":\"scattercarpet\",\"marker\":{\"colorbar\":{\"outlinewidth\":0,\"ticks\":\"\"}}}],\"carpet\":[{\"aaxis\":{\"endlinecolor\":\"#2a3f5f\",\"gridcolor\":\"white\",\"linecolor\":\"white\",\"minorgridcolor\":\"white\",\"startlinecolor\":\"#2a3f5f\"},\"baxis\":{\"endlinecolor\":\"#2a3f5f\",\"gridcolor\":\"white\",\"linecolor\":\"white\",\"minorgridcolor\":\"white\",\"startlinecolor\":\"#2a3f5f\"},\"type\":\"carpet\"}],\"table\":[{\"cells\":{\"fill\":{\"color\":\"#EBF0F8\"},\"line\":{\"color\":\"white\"}},\"header\":{\"fill\":{\"color\":\"#C8D4E3\"},\"line\":{\"color\":\"white\"}},\"type\":\"table\"}],\"barpolar\":[{\"marker\":{\"line\":{\"color\":\"#E5ECF6\",\"width\":0.5},\"pattern\":{\"fillmode\":\"overlay\",\"size\":10,\"solidity\":0.2}},\"type\":\"barpolar\"}],\"pie\":[{\"automargin\":true,\"type\":\"pie\"}]},\"layout\":{\"autotypenumbers\":\"strict\",\"colorway\":[\"#636efa\",\"#EF553B\",\"#00cc96\",\"#ab63fa\",\"#FFA15A\",\"#19d3f3\",\"#FF6692\",\"#B6E880\",\"#FF97FF\",\"#FECB52\"],\"font\":{\"color\":\"#2a3f5f\"},\"hovermode\":\"closest\",\"hoverlabel\":{\"align\":\"left\"},\"paper_bgcolor\":\"white\",\"plot_bgcolor\":\"#E5ECF6\",\"polar\":{\"bgcolor\":\"#E5ECF6\",\"angularaxis\":{\"gridcolor\":\"white\",\"linecolor\":\"white\",\"ticks\":\"\"},\"radialaxis\":{\"gridcolor\":\"white\",\"linecolor\":\"white\",\"ticks\":\"\"}},\"ternary\":{\"bgcolor\":\"#E5ECF6\",\"aaxis\":{\"gridcolor\":\"white\",\"linecolor\":\"white\",\"ticks\":\"\"},\"baxis\":{\"gridcolor\":\"white\",\"linecolor\":\"white\",\"ticks\":\"\"},\"caxis\":{\"gridcolor\":\"white\",\"linecolor\":\"white\",\"ticks\":\"\"}},\"coloraxis\":{\"colorbar\":{\"outlinewidth\":0,\"ticks\":\"\"}},\"colorscale\":{\"sequential\":[[0.0,\"#0d0887\"],[0.1111111111111111,\"#46039f\"],[0.2222222222222222,\"#7201a8\"],[0.3333333333333333,\"#9c179e\"],[0.4444444444444444,\"#bd3786\"],[0.5555555555555556,\"#d8576b\"],[0.6666666666666666,\"#ed7953\"],[0.7777777777777778,\"#fb9f3a\"],[0.8888888888888888,\"#fdca26\"],[1.0,\"#f0f921\"]],\"sequentialminus\":[[0.0,\"#0d0887\"],[0.1111111111111111,\"#46039f\"],[0.2222222222222222,\"#7201a8\"],[0.3333333333333333,\"#9c179e\"],[0.4444444444444444,\"#bd3786\"],[0.5555555555555556,\"#d8576b\"],[0.6666666666666666,\"#ed7953\"],[0.7777777777777778,\"#fb9f3a\"],[0.8888888888888888,\"#fdca26\"],[1.0,\"#f0f921\"]],\"diverging\":[[0,\"#8e0152\"],[0.1,\"#c51b7d\"],[0.2,\"#de77ae\"],[0.3,\"#f1b6da\"],[0.4,\"#fde0ef\"],[0.5,\"#f7f7f7\"],[0.6,\"#e6f5d0\"],[0.7,\"#b8e186\"],[0.8,\"#7fbc41\"],[0.9,\"#4d9221\"],[1,\"#276419\"]]},\"xaxis\":{\"gridcolor\":\"white\",\"linecolor\":\"white\",\"ticks\":\"\",\"title\":{\"standoff\":15},\"zerolinecolor\":\"white\",\"automargin\":true,\"zerolinewidth\":2},\"yaxis\":{\"gridcolor\":\"white\",\"linecolor\":\"white\",\"ticks\":\"\",\"title\":{\"standoff\":15},\"zerolinecolor\":\"white\",\"automargin\":true,\"zerolinewidth\":2},\"scene\":{\"xaxis\":{\"backgroundcolor\":\"#E5ECF6\",\"gridcolor\":\"white\",\"linecolor\":\"white\",\"showbackground\":true,\"ticks\":\"\",\"zerolinecolor\":\"white\",\"gridwidth\":2},\"yaxis\":{\"backgroundcolor\":\"#E5ECF6\",\"gridcolor\":\"white\",\"linecolor\":\"white\",\"showbackground\":true,\"ticks\":\"\",\"zerolinecolor\":\"white\",\"gridwidth\":2},\"zaxis\":{\"backgroundcolor\":\"#E5ECF6\",\"gridcolor\":\"white\",\"linecolor\":\"white\",\"showbackground\":true,\"ticks\":\"\",\"zerolinecolor\":\"white\",\"gridwidth\":2}},\"shapedefaults\":{\"line\":{\"color\":\"#2a3f5f\"}},\"annotationdefaults\":{\"arrowcolor\":\"#2a3f5f\",\"arrowhead\":0,\"arrowwidth\":1},\"geo\":{\"bgcolor\":\"white\",\"landcolor\":\"#E5ECF6\",\"subunitcolor\":\"white\",\"showland\":true,\"showlakes\":true,\"lakecolor\":\"white\"},\"title\":{\"x\":0.05},\"mapbox\":{\"style\":\"light\"}}},\"xaxis\":{\"anchor\":\"y\",\"domain\":[0.0,1.0],\"title\":{\"text\":\"filesize per chunk\"}},\"yaxis\":{\"anchor\":\"x\",\"domain\":[0.0,1.0],\"title\":{\"text\":\"mean time\"},\"type\":\"log\"},\"legend\":{\"title\":{\"text\":\"engine\"},\"tracegroupgap\":0},\"title\":{\"text\":\"loading complete dataset with varying chunksizes\"}},                        {\"responsive\": true}                    ).then(function(){\n",
       "                            \n",
       "var gd = document.getElementById('91811145-8094-4dfe-a05f-a0e36d13b6dc');\n",
       "var x = new MutationObserver(function (mutations, observer) {{\n",
       "        var display = window.getComputedStyle(gd).display;\n",
       "        if (!display || display === 'none') {{\n",
       "            console.log([gd, 'removed!']);\n",
       "            Plotly.purge(gd);\n",
       "            observer.disconnect();\n",
       "        }}\n",
       "}});\n",
       "\n",
       "// Listen for the removal of the full notebook cells\n",
       "var notebookContainer = gd.closest('#notebook-container');\n",
       "if (notebookContainer) {{\n",
       "    x.observe(notebookContainer, {childList: true});\n",
       "}}\n",
       "\n",
       "// Listen for the clearing of the current output cell\n",
       "var outputEl = gd.closest('.output');\n",
       "if (outputEl) {{\n",
       "    x.observe(outputEl, {childList: true});\n",
       "}}\n",
       "\n",
       "                        })                };                });            </script>        </div>"
      ]
     },
     "metadata": {},
     "output_type": "display_data"
    },
    {
     "data": {
      "application/vnd.plotly.v1+json": {
       "config": {
        "plotlyServerURL": "https://plot.ly"
       },
       "data": [
        {
         "alignmentgroup": "True",
         "customdata": [
          [
           "zarr-[512, 512, 512]-[512, 512, 1]"
          ],
          [
           "zarr-[512, 512, 512]-[512, 512, 1]"
          ],
          [
           "zarr-[512, 512, 512]-[512, 512, 1]"
          ],
          [
           "zarr-[512, 512, 512]-[512, 512, 1]"
          ],
          [
           "zarr-[512, 512, 512]-[512, 512, 1]"
          ],
          [
           "zarr-[512, 512, 512]-[512, 512, 1]"
          ],
          [
           "zarr-[512, 512, 512]-[512, 512, 1]"
          ],
          [
           "zarr-[512, 512, 512]-[512, 512, 1]"
          ],
          [
           "zarr-[512, 512, 512]-[512, 512, 1]"
          ],
          [
           "zarr-[512, 512, 512]-[512, 512, 1]"
          ],
          [
           "netcdf4-[512, 512, 512]-[512, 512, 1]"
          ],
          [
           "netcdf4-[512, 512, 512]-[512, 512, 1]"
          ],
          [
           "netcdf4-[512, 512, 512]-[512, 512, 1]"
          ],
          [
           "netcdf4-[512, 512, 512]-[512, 512, 1]"
          ],
          [
           "netcdf4-[512, 512, 512]-[512, 512, 1]"
          ],
          [
           "netcdf4-[512, 512, 512]-[512, 512, 1]"
          ],
          [
           "netcdf4-[512, 512, 512]-[512, 512, 1]"
          ],
          [
           "netcdf4-[512, 512, 512]-[512, 512, 1]"
          ],
          [
           "netcdf4-[512, 512, 512]-[512, 512, 1]"
          ],
          [
           "netcdf4-[512, 512, 512]-[512, 512, 1]"
          ],
          [
           "hdf5-[512, 512, 512]-[512, 512, 1]"
          ],
          [
           "hdf5-[512, 512, 512]-[512, 512, 1]"
          ],
          [
           "hdf5-[512, 512, 512]-[512, 512, 1]"
          ],
          [
           "hdf5-[512, 512, 512]-[512, 512, 1]"
          ],
          [
           "hdf5-[512, 512, 512]-[512, 512, 1]"
          ],
          [
           "hdf5-[512, 512, 512]-[512, 512, 1]"
          ],
          [
           "hdf5-[512, 512, 512]-[512, 512, 1]"
          ],
          [
           "hdf5-[512, 512, 512]-[512, 512, 1]"
          ],
          [
           "hdf5-[512, 512, 512]-[512, 512, 1]"
          ],
          [
           "hdf5-[512, 512, 512]-[512, 512, 1]"
          ]
         ],
         "hovertemplate": "run=0<br>engine=%{x}<br>time taken=%{y}<br>format=%{customdata[0]}<extra></extra>",
         "legendgroup": "0",
         "marker": {
          "color": "#636efa"
         },
         "name": "0",
         "notched": false,
         "offsetgroup": "0",
         "orientation": "v",
         "showlegend": true,
         "type": "box",
         "x": [
          "zarr",
          "zarr",
          "zarr",
          "zarr",
          "zarr",
          "zarr",
          "zarr",
          "zarr",
          "zarr",
          "zarr",
          "netcdf4",
          "netcdf4",
          "netcdf4",
          "netcdf4",
          "netcdf4",
          "netcdf4",
          "netcdf4",
          "netcdf4",
          "netcdf4",
          "netcdf4",
          "hdf5",
          "hdf5",
          "hdf5",
          "hdf5",
          "hdf5",
          "hdf5",
          "hdf5",
          "hdf5",
          "hdf5",
          "hdf5"
         ],
         "x0": " ",
         "xaxis": "x",
         "y": [
          1.254719685,
          1.248066141,
          1.292569566,
          1.314146394,
          1.313602982,
          1.289282074,
          1.254550035,
          1.266733049,
          1.267689895,
          1.260372463,
          1.066638576,
          1.101389066,
          1.097299316,
          1.046411391,
          1.165832655,
          1.076762198,
          1.208166825,
          1.104800169,
          1.121934926,
          1.051151894,
          46.14103127,
          45.923445485,
          46.01607336,
          46.124263398,
          45.799555882,
          45.748027634,
          45.644547842,
          45.573779377,
          46.374598791,
          45.432376268
         ],
         "y0": " ",
         "yaxis": "y"
        },
        {
         "alignmentgroup": "True",
         "customdata": [
          [
           "zarr-[512, 512, 512]-[512, 512, 8]"
          ],
          [
           "zarr-[512, 512, 512]-[512, 512, 8]"
          ],
          [
           "zarr-[512, 512, 512]-[512, 512, 8]"
          ],
          [
           "zarr-[512, 512, 512]-[512, 512, 8]"
          ],
          [
           "zarr-[512, 512, 512]-[512, 512, 8]"
          ],
          [
           "zarr-[512, 512, 512]-[512, 512, 8]"
          ],
          [
           "zarr-[512, 512, 512]-[512, 512, 8]"
          ],
          [
           "zarr-[512, 512, 512]-[512, 512, 8]"
          ],
          [
           "zarr-[512, 512, 512]-[512, 512, 8]"
          ],
          [
           "zarr-[512, 512, 512]-[512, 512, 8]"
          ],
          [
           "netcdf4-[512, 512, 512]-[512, 512, 8]"
          ],
          [
           "netcdf4-[512, 512, 512]-[512, 512, 8]"
          ],
          [
           "netcdf4-[512, 512, 512]-[512, 512, 8]"
          ],
          [
           "netcdf4-[512, 512, 512]-[512, 512, 8]"
          ],
          [
           "netcdf4-[512, 512, 512]-[512, 512, 8]"
          ],
          [
           "netcdf4-[512, 512, 512]-[512, 512, 8]"
          ],
          [
           "netcdf4-[512, 512, 512]-[512, 512, 8]"
          ],
          [
           "netcdf4-[512, 512, 512]-[512, 512, 8]"
          ],
          [
           "netcdf4-[512, 512, 512]-[512, 512, 8]"
          ],
          [
           "netcdf4-[512, 512, 512]-[512, 512, 8]"
          ],
          [
           "hdf5-[512, 512, 512]-[512, 512, 8]"
          ],
          [
           "hdf5-[512, 512, 512]-[512, 512, 8]"
          ],
          [
           "hdf5-[512, 512, 512]-[512, 512, 8]"
          ],
          [
           "hdf5-[512, 512, 512]-[512, 512, 8]"
          ],
          [
           "hdf5-[512, 512, 512]-[512, 512, 8]"
          ],
          [
           "hdf5-[512, 512, 512]-[512, 512, 8]"
          ],
          [
           "hdf5-[512, 512, 512]-[512, 512, 8]"
          ],
          [
           "hdf5-[512, 512, 512]-[512, 512, 8]"
          ],
          [
           "hdf5-[512, 512, 512]-[512, 512, 8]"
          ],
          [
           "hdf5-[512, 512, 512]-[512, 512, 8]"
          ]
         ],
         "hovertemplate": "run=1<br>engine=%{x}<br>time taken=%{y}<br>format=%{customdata[0]}<extra></extra>",
         "legendgroup": "1",
         "marker": {
          "color": "#EF553B"
         },
         "name": "1",
         "notched": false,
         "offsetgroup": "1",
         "orientation": "v",
         "showlegend": true,
         "type": "box",
         "x": [
          "zarr",
          "zarr",
          "zarr",
          "zarr",
          "zarr",
          "zarr",
          "zarr",
          "zarr",
          "zarr",
          "zarr",
          "netcdf4",
          "netcdf4",
          "netcdf4",
          "netcdf4",
          "netcdf4",
          "netcdf4",
          "netcdf4",
          "netcdf4",
          "netcdf4",
          "netcdf4",
          "hdf5",
          "hdf5",
          "hdf5",
          "hdf5",
          "hdf5",
          "hdf5",
          "hdf5",
          "hdf5",
          "hdf5",
          "hdf5"
         ],
         "x0": " ",
         "xaxis": "x",
         "y": [
          0.47734869999999996,
          0.47810641600000003,
          0.475131742,
          0.49847422,
          0.471999887,
          0.49030078200000005,
          0.47879551000000004,
          0.479558588,
          0.47660526900000005,
          0.46878278,
          0.35543492200000004,
          0.36908632900000005,
          0.343790335,
          0.347241096,
          0.34522847100000004,
          0.340736661,
          0.34947300800000003,
          0.34388356600000003,
          0.34354955600000003,
          0.342198532,
          5.981869041,
          6.38684548,
          6.240656416,
          6.24766756,
          6.025542604,
          6.253911342,
          6.376845099,
          5.976641,
          6.032766631,
          6.027398905
         ],
         "y0": " ",
         "yaxis": "y"
        },
        {
         "alignmentgroup": "True",
         "customdata": [
          [
           "zarr-[512, 512, 512]-[512, 512, 16]"
          ],
          [
           "zarr-[512, 512, 512]-[512, 512, 16]"
          ],
          [
           "zarr-[512, 512, 512]-[512, 512, 16]"
          ],
          [
           "zarr-[512, 512, 512]-[512, 512, 16]"
          ],
          [
           "zarr-[512, 512, 512]-[512, 512, 16]"
          ],
          [
           "zarr-[512, 512, 512]-[512, 512, 16]"
          ],
          [
           "zarr-[512, 512, 512]-[512, 512, 16]"
          ],
          [
           "zarr-[512, 512, 512]-[512, 512, 16]"
          ],
          [
           "zarr-[512, 512, 512]-[512, 512, 16]"
          ],
          [
           "zarr-[512, 512, 512]-[512, 512, 16]"
          ],
          [
           "netcdf4-[512, 512, 512]-[512, 512, 16]"
          ],
          [
           "netcdf4-[512, 512, 512]-[512, 512, 16]"
          ],
          [
           "netcdf4-[512, 512, 512]-[512, 512, 16]"
          ],
          [
           "netcdf4-[512, 512, 512]-[512, 512, 16]"
          ],
          [
           "netcdf4-[512, 512, 512]-[512, 512, 16]"
          ],
          [
           "netcdf4-[512, 512, 512]-[512, 512, 16]"
          ],
          [
           "netcdf4-[512, 512, 512]-[512, 512, 16]"
          ],
          [
           "netcdf4-[512, 512, 512]-[512, 512, 16]"
          ],
          [
           "netcdf4-[512, 512, 512]-[512, 512, 16]"
          ],
          [
           "netcdf4-[512, 512, 512]-[512, 512, 16]"
          ],
          [
           "hdf5-[512, 512, 512]-[512, 512, 16]"
          ],
          [
           "hdf5-[512, 512, 512]-[512, 512, 16]"
          ],
          [
           "hdf5-[512, 512, 512]-[512, 512, 16]"
          ],
          [
           "hdf5-[512, 512, 512]-[512, 512, 16]"
          ],
          [
           "hdf5-[512, 512, 512]-[512, 512, 16]"
          ],
          [
           "hdf5-[512, 512, 512]-[512, 512, 16]"
          ],
          [
           "hdf5-[512, 512, 512]-[512, 512, 16]"
          ],
          [
           "hdf5-[512, 512, 512]-[512, 512, 16]"
          ],
          [
           "hdf5-[512, 512, 512]-[512, 512, 16]"
          ],
          [
           "hdf5-[512, 512, 512]-[512, 512, 16]"
          ]
         ],
         "hovertemplate": "run=2<br>engine=%{x}<br>time taken=%{y}<br>format=%{customdata[0]}<extra></extra>",
         "legendgroup": "2",
         "marker": {
          "color": "#00cc96"
         },
         "name": "2",
         "notched": false,
         "offsetgroup": "2",
         "orientation": "v",
         "showlegend": true,
         "type": "box",
         "x": [
          "zarr",
          "zarr",
          "zarr",
          "zarr",
          "zarr",
          "zarr",
          "zarr",
          "zarr",
          "zarr",
          "zarr",
          "netcdf4",
          "netcdf4",
          "netcdf4",
          "netcdf4",
          "netcdf4",
          "netcdf4",
          "netcdf4",
          "netcdf4",
          "netcdf4",
          "netcdf4",
          "hdf5",
          "hdf5",
          "hdf5",
          "hdf5",
          "hdf5",
          "hdf5",
          "hdf5",
          "hdf5",
          "hdf5",
          "hdf5"
         ],
         "x0": " ",
         "xaxis": "x",
         "y": [
          0.341167112,
          0.346485843,
          0.337719557,
          0.326252441,
          0.317186783,
          0.32556866900000003,
          0.322510964,
          0.325034704,
          0.352799583,
          0.32193485600000005,
          0.30870316800000003,
          0.32929330700000004,
          0.30866935900000003,
          0.310044934,
          0.327120401,
          0.325595063,
          0.318164857,
          0.320311499,
          0.31708172300000004,
          0.31712259200000004,
          3.189988007,
          3.1049804930000002,
          3.1164612,
          3.267687763,
          3.174135172,
          3.071354912,
          3.069019151,
          3.082908319,
          3.0678748750000002,
          3.0879366089999998
         ],
         "y0": " ",
         "yaxis": "y"
        },
        {
         "alignmentgroup": "True",
         "customdata": [
          [
           "zarr-[512, 512, 512]-[512, 512, 32]"
          ],
          [
           "zarr-[512, 512, 512]-[512, 512, 32]"
          ],
          [
           "zarr-[512, 512, 512]-[512, 512, 32]"
          ],
          [
           "zarr-[512, 512, 512]-[512, 512, 32]"
          ],
          [
           "zarr-[512, 512, 512]-[512, 512, 32]"
          ],
          [
           "zarr-[512, 512, 512]-[512, 512, 32]"
          ],
          [
           "zarr-[512, 512, 512]-[512, 512, 32]"
          ],
          [
           "zarr-[512, 512, 512]-[512, 512, 32]"
          ],
          [
           "zarr-[512, 512, 512]-[512, 512, 32]"
          ],
          [
           "zarr-[512, 512, 512]-[512, 512, 32]"
          ],
          [
           "netcdf4-[512, 512, 512]-[512, 512, 32]"
          ],
          [
           "netcdf4-[512, 512, 512]-[512, 512, 32]"
          ],
          [
           "netcdf4-[512, 512, 512]-[512, 512, 32]"
          ],
          [
           "netcdf4-[512, 512, 512]-[512, 512, 32]"
          ],
          [
           "netcdf4-[512, 512, 512]-[512, 512, 32]"
          ],
          [
           "netcdf4-[512, 512, 512]-[512, 512, 32]"
          ],
          [
           "netcdf4-[512, 512, 512]-[512, 512, 32]"
          ],
          [
           "netcdf4-[512, 512, 512]-[512, 512, 32]"
          ],
          [
           "netcdf4-[512, 512, 512]-[512, 512, 32]"
          ],
          [
           "netcdf4-[512, 512, 512]-[512, 512, 32]"
          ],
          [
           "hdf5-[512, 512, 512]-[512, 512, 32]"
          ],
          [
           "hdf5-[512, 512, 512]-[512, 512, 32]"
          ],
          [
           "hdf5-[512, 512, 512]-[512, 512, 32]"
          ],
          [
           "hdf5-[512, 512, 512]-[512, 512, 32]"
          ],
          [
           "hdf5-[512, 512, 512]-[512, 512, 32]"
          ],
          [
           "hdf5-[512, 512, 512]-[512, 512, 32]"
          ],
          [
           "hdf5-[512, 512, 512]-[512, 512, 32]"
          ],
          [
           "hdf5-[512, 512, 512]-[512, 512, 32]"
          ],
          [
           "hdf5-[512, 512, 512]-[512, 512, 32]"
          ],
          [
           "hdf5-[512, 512, 512]-[512, 512, 32]"
          ]
         ],
         "hovertemplate": "run=3<br>engine=%{x}<br>time taken=%{y}<br>format=%{customdata[0]}<extra></extra>",
         "legendgroup": "3",
         "marker": {
          "color": "#ab63fa"
         },
         "name": "3",
         "notched": false,
         "offsetgroup": "3",
         "orientation": "v",
         "showlegend": true,
         "type": "box",
         "x": [
          "zarr",
          "zarr",
          "zarr",
          "zarr",
          "zarr",
          "zarr",
          "zarr",
          "zarr",
          "zarr",
          "zarr",
          "netcdf4",
          "netcdf4",
          "netcdf4",
          "netcdf4",
          "netcdf4",
          "netcdf4",
          "netcdf4",
          "netcdf4",
          "netcdf4",
          "netcdf4",
          "hdf5",
          "hdf5",
          "hdf5",
          "hdf5",
          "hdf5",
          "hdf5",
          "hdf5",
          "hdf5",
          "hdf5",
          "hdf5"
         ],
         "x0": " ",
         "xaxis": "x",
         "y": [
          0.300894643,
          0.462857507,
          0.30194046700000005,
          0.299499148,
          0.30833920800000003,
          0.31830092,
          0.30179614600000004,
          0.309152392,
          0.31024292600000003,
          0.312736871,
          0.284299354,
          0.309089053,
          0.284274168,
          0.275440571,
          0.278493058,
          0.28027144400000004,
          0.30230928300000004,
          0.28593648800000004,
          0.28593570700000004,
          0.287834986,
          1.693819472,
          1.7279579260000002,
          1.693208435,
          1.688626962,
          1.6460844680000002,
          1.7795740150000001,
          1.612152327,
          1.602602136,
          1.6046489620000002,
          1.602822231
         ],
         "y0": " ",
         "yaxis": "y"
        },
        {
         "alignmentgroup": "True",
         "customdata": [
          [
           "zarr-[512, 512, 512]-[512, 512, 64]"
          ],
          [
           "zarr-[512, 512, 512]-[512, 512, 64]"
          ],
          [
           "zarr-[512, 512, 512]-[512, 512, 64]"
          ],
          [
           "zarr-[512, 512, 512]-[512, 512, 64]"
          ],
          [
           "zarr-[512, 512, 512]-[512, 512, 64]"
          ],
          [
           "zarr-[512, 512, 512]-[512, 512, 64]"
          ],
          [
           "zarr-[512, 512, 512]-[512, 512, 64]"
          ],
          [
           "zarr-[512, 512, 512]-[512, 512, 64]"
          ],
          [
           "zarr-[512, 512, 512]-[512, 512, 64]"
          ],
          [
           "zarr-[512, 512, 512]-[512, 512, 64]"
          ],
          [
           "netcdf4-[512, 512, 512]-[512, 512, 64]"
          ],
          [
           "netcdf4-[512, 512, 512]-[512, 512, 64]"
          ],
          [
           "netcdf4-[512, 512, 512]-[512, 512, 64]"
          ],
          [
           "netcdf4-[512, 512, 512]-[512, 512, 64]"
          ],
          [
           "netcdf4-[512, 512, 512]-[512, 512, 64]"
          ],
          [
           "netcdf4-[512, 512, 512]-[512, 512, 64]"
          ],
          [
           "netcdf4-[512, 512, 512]-[512, 512, 64]"
          ],
          [
           "netcdf4-[512, 512, 512]-[512, 512, 64]"
          ],
          [
           "netcdf4-[512, 512, 512]-[512, 512, 64]"
          ],
          [
           "netcdf4-[512, 512, 512]-[512, 512, 64]"
          ],
          [
           "hdf5-[512, 512, 512]-[512, 512, 64]"
          ],
          [
           "hdf5-[512, 512, 512]-[512, 512, 64]"
          ],
          [
           "hdf5-[512, 512, 512]-[512, 512, 64]"
          ],
          [
           "hdf5-[512, 512, 512]-[512, 512, 64]"
          ],
          [
           "hdf5-[512, 512, 512]-[512, 512, 64]"
          ],
          [
           "hdf5-[512, 512, 512]-[512, 512, 64]"
          ],
          [
           "hdf5-[512, 512, 512]-[512, 512, 64]"
          ],
          [
           "hdf5-[512, 512, 512]-[512, 512, 64]"
          ],
          [
           "hdf5-[512, 512, 512]-[512, 512, 64]"
          ],
          [
           "hdf5-[512, 512, 512]-[512, 512, 64]"
          ]
         ],
         "hovertemplate": "run=4<br>engine=%{x}<br>time taken=%{y}<br>format=%{customdata[0]}<extra></extra>",
         "legendgroup": "4",
         "marker": {
          "color": "#FFA15A"
         },
         "name": "4",
         "notched": false,
         "offsetgroup": "4",
         "orientation": "v",
         "showlegend": true,
         "type": "box",
         "x": [
          "zarr",
          "zarr",
          "zarr",
          "zarr",
          "zarr",
          "zarr",
          "zarr",
          "zarr",
          "zarr",
          "zarr",
          "netcdf4",
          "netcdf4",
          "netcdf4",
          "netcdf4",
          "netcdf4",
          "netcdf4",
          "netcdf4",
          "netcdf4",
          "netcdf4",
          "netcdf4",
          "hdf5",
          "hdf5",
          "hdf5",
          "hdf5",
          "hdf5",
          "hdf5",
          "hdf5",
          "hdf5",
          "hdf5",
          "hdf5"
         ],
         "x0": " ",
         "xaxis": "x",
         "y": [
          0.302416801,
          0.269407463,
          0.268864951,
          0.27021970500000003,
          0.26755000300000004,
          0.27700697700000004,
          0.270246684,
          0.278290395,
          0.27775366700000004,
          0.289305542,
          0.8994026220000001,
          0.910529531,
          0.8986453980000001,
          0.8828881270000001,
          0.875781392,
          0.9091029700000001,
          0.8770661930000001,
          0.88689352,
          0.87807879,
          0.8827927480000001,
          0.853270268,
          0.9284074010000001,
          0.87903606,
          0.846973504,
          0.8496726480000001,
          0.881298659,
          0.848622796,
          0.8538614250000001,
          0.844450825,
          0.844812871
         ],
         "y0": " ",
         "yaxis": "y"
        },
        {
         "alignmentgroup": "True",
         "customdata": [
          [
           "zarr-[512, 512, 512]-[512, 512, 128]"
          ],
          [
           "zarr-[512, 512, 512]-[512, 512, 128]"
          ],
          [
           "zarr-[512, 512, 512]-[512, 512, 128]"
          ],
          [
           "zarr-[512, 512, 512]-[512, 512, 128]"
          ],
          [
           "zarr-[512, 512, 512]-[512, 512, 128]"
          ],
          [
           "zarr-[512, 512, 512]-[512, 512, 128]"
          ],
          [
           "zarr-[512, 512, 512]-[512, 512, 128]"
          ],
          [
           "zarr-[512, 512, 512]-[512, 512, 128]"
          ],
          [
           "zarr-[512, 512, 512]-[512, 512, 128]"
          ],
          [
           "zarr-[512, 512, 512]-[512, 512, 128]"
          ],
          [
           "netcdf4-[512, 512, 512]-[512, 512, 128]"
          ],
          [
           "netcdf4-[512, 512, 512]-[512, 512, 128]"
          ],
          [
           "netcdf4-[512, 512, 512]-[512, 512, 128]"
          ],
          [
           "netcdf4-[512, 512, 512]-[512, 512, 128]"
          ],
          [
           "netcdf4-[512, 512, 512]-[512, 512, 128]"
          ],
          [
           "netcdf4-[512, 512, 512]-[512, 512, 128]"
          ],
          [
           "netcdf4-[512, 512, 512]-[512, 512, 128]"
          ],
          [
           "netcdf4-[512, 512, 512]-[512, 512, 128]"
          ],
          [
           "netcdf4-[512, 512, 512]-[512, 512, 128]"
          ],
          [
           "netcdf4-[512, 512, 512]-[512, 512, 128]"
          ],
          [
           "hdf5-[512, 512, 512]-[512, 512, 128]"
          ],
          [
           "hdf5-[512, 512, 512]-[512, 512, 128]"
          ],
          [
           "hdf5-[512, 512, 512]-[512, 512, 128]"
          ],
          [
           "hdf5-[512, 512, 512]-[512, 512, 128]"
          ],
          [
           "hdf5-[512, 512, 512]-[512, 512, 128]"
          ],
          [
           "hdf5-[512, 512, 512]-[512, 512, 128]"
          ],
          [
           "hdf5-[512, 512, 512]-[512, 512, 128]"
          ],
          [
           "hdf5-[512, 512, 512]-[512, 512, 128]"
          ],
          [
           "hdf5-[512, 512, 512]-[512, 512, 128]"
          ],
          [
           "hdf5-[512, 512, 512]-[512, 512, 128]"
          ]
         ],
         "hovertemplate": "run=5<br>engine=%{x}<br>time taken=%{y}<br>format=%{customdata[0]}<extra></extra>",
         "legendgroup": "5",
         "marker": {
          "color": "#19d3f3"
         },
         "name": "5",
         "notched": false,
         "offsetgroup": "5",
         "orientation": "v",
         "showlegend": true,
         "type": "box",
         "x": [
          "zarr",
          "zarr",
          "zarr",
          "zarr",
          "zarr",
          "zarr",
          "zarr",
          "zarr",
          "zarr",
          "zarr",
          "netcdf4",
          "netcdf4",
          "netcdf4",
          "netcdf4",
          "netcdf4",
          "netcdf4",
          "netcdf4",
          "netcdf4",
          "netcdf4",
          "netcdf4",
          "hdf5",
          "hdf5",
          "hdf5",
          "hdf5",
          "hdf5",
          "hdf5",
          "hdf5",
          "hdf5",
          "hdf5",
          "hdf5"
         ],
         "x0": " ",
         "xaxis": "x",
         "y": [
          0.35860182500000004,
          0.404696704,
          0.6036628110000001,
          0.349247028,
          0.32979555400000005,
          0.327063043,
          0.341437916,
          0.329447303,
          0.359248818,
          0.332353106,
          0.527823544,
          0.5717007780000001,
          0.540869111,
          0.532881676,
          0.526184161,
          0.5494407290000001,
          0.548037165,
          0.570734611,
          0.5497473420000001,
          0.524087209,
          0.5759470990000001,
          0.573102656,
          0.534317182,
          0.5741216100000001,
          0.5407160670000001,
          0.540359447,
          0.536311689,
          0.527317577,
          0.5020722910000001,
          0.47177409600000003
         ],
         "y0": " ",
         "yaxis": "y"
        },
        {
         "alignmentgroup": "True",
         "customdata": [
          [
           "zarr-[512, 512, 512]-[512, 512, 256]"
          ],
          [
           "zarr-[512, 512, 512]-[512, 512, 256]"
          ],
          [
           "zarr-[512, 512, 512]-[512, 512, 256]"
          ],
          [
           "zarr-[512, 512, 512]-[512, 512, 256]"
          ],
          [
           "zarr-[512, 512, 512]-[512, 512, 256]"
          ],
          [
           "zarr-[512, 512, 512]-[512, 512, 256]"
          ],
          [
           "zarr-[512, 512, 512]-[512, 512, 256]"
          ],
          [
           "zarr-[512, 512, 512]-[512, 512, 256]"
          ],
          [
           "zarr-[512, 512, 512]-[512, 512, 256]"
          ],
          [
           "zarr-[512, 512, 512]-[512, 512, 256]"
          ],
          [
           "netcdf4-[512, 512, 512]-[512, 512, 256]"
          ],
          [
           "netcdf4-[512, 512, 512]-[512, 512, 256]"
          ],
          [
           "netcdf4-[512, 512, 512]-[512, 512, 256]"
          ],
          [
           "netcdf4-[512, 512, 512]-[512, 512, 256]"
          ],
          [
           "netcdf4-[512, 512, 512]-[512, 512, 256]"
          ],
          [
           "netcdf4-[512, 512, 512]-[512, 512, 256]"
          ],
          [
           "netcdf4-[512, 512, 512]-[512, 512, 256]"
          ],
          [
           "netcdf4-[512, 512, 512]-[512, 512, 256]"
          ],
          [
           "netcdf4-[512, 512, 512]-[512, 512, 256]"
          ],
          [
           "netcdf4-[512, 512, 512]-[512, 512, 256]"
          ],
          [
           "hdf5-[512, 512, 512]-[512, 512, 256]"
          ],
          [
           "hdf5-[512, 512, 512]-[512, 512, 256]"
          ],
          [
           "hdf5-[512, 512, 512]-[512, 512, 256]"
          ],
          [
           "hdf5-[512, 512, 512]-[512, 512, 256]"
          ],
          [
           "hdf5-[512, 512, 512]-[512, 512, 256]"
          ],
          [
           "hdf5-[512, 512, 512]-[512, 512, 256]"
          ],
          [
           "hdf5-[512, 512, 512]-[512, 512, 256]"
          ],
          [
           "hdf5-[512, 512, 512]-[512, 512, 256]"
          ],
          [
           "hdf5-[512, 512, 512]-[512, 512, 256]"
          ],
          [
           "hdf5-[512, 512, 512]-[512, 512, 256]"
          ]
         ],
         "hovertemplate": "run=6<br>engine=%{x}<br>time taken=%{y}<br>format=%{customdata[0]}<extra></extra>",
         "legendgroup": "6",
         "marker": {
          "color": "#FF6692"
         },
         "name": "6",
         "notched": false,
         "offsetgroup": "6",
         "orientation": "v",
         "showlegend": true,
         "type": "box",
         "x": [
          "zarr",
          "zarr",
          "zarr",
          "zarr",
          "zarr",
          "zarr",
          "zarr",
          "zarr",
          "zarr",
          "zarr",
          "netcdf4",
          "netcdf4",
          "netcdf4",
          "netcdf4",
          "netcdf4",
          "netcdf4",
          "netcdf4",
          "netcdf4",
          "netcdf4",
          "netcdf4",
          "hdf5",
          "hdf5",
          "hdf5",
          "hdf5",
          "hdf5",
          "hdf5",
          "hdf5",
          "hdf5",
          "hdf5",
          "hdf5"
         ],
         "x0": " ",
         "xaxis": "x",
         "y": [
          0.726337961,
          0.523674849,
          0.480964775,
          0.46715677400000005,
          0.48670843700000005,
          0.47968150200000004,
          0.46848868800000004,
          0.468050658,
          0.481170835,
          0.485542856,
          0.523326996,
          0.34771836300000003,
          0.315980998,
          0.344455308,
          0.35278539400000003,
          0.5349046350000001,
          0.697091731,
          0.348696324,
          0.313698507,
          0.31383571400000004,
          0.42915156800000004,
          0.36907727700000004,
          0.28373204,
          0.292041284,
          0.282439316,
          0.312224021,
          0.34645431200000004,
          0.291772024,
          0.28979580800000004,
          0.290126997
         ],
         "y0": " ",
         "yaxis": "y"
        },
        {
         "alignmentgroup": "True",
         "customdata": [
          [
           "zarr-[512, 512, 512]-[512, 512, 512]"
          ],
          [
           "zarr-[512, 512, 512]-[512, 512, 512]"
          ],
          [
           "zarr-[512, 512, 512]-[512, 512, 512]"
          ],
          [
           "zarr-[512, 512, 512]-[512, 512, 512]"
          ],
          [
           "zarr-[512, 512, 512]-[512, 512, 512]"
          ],
          [
           "zarr-[512, 512, 512]-[512, 512, 512]"
          ],
          [
           "zarr-[512, 512, 512]-[512, 512, 512]"
          ],
          [
           "zarr-[512, 512, 512]-[512, 512, 512]"
          ],
          [
           "zarr-[512, 512, 512]-[512, 512, 512]"
          ],
          [
           "zarr-[512, 512, 512]-[512, 512, 512]"
          ],
          [
           "netcdf4-[512, 512, 512]-[512, 512, 512]"
          ],
          [
           "netcdf4-[512, 512, 512]-[512, 512, 512]"
          ],
          [
           "netcdf4-[512, 512, 512]-[512, 512, 512]"
          ],
          [
           "netcdf4-[512, 512, 512]-[512, 512, 512]"
          ],
          [
           "netcdf4-[512, 512, 512]-[512, 512, 512]"
          ],
          [
           "netcdf4-[512, 512, 512]-[512, 512, 512]"
          ],
          [
           "netcdf4-[512, 512, 512]-[512, 512, 512]"
          ],
          [
           "netcdf4-[512, 512, 512]-[512, 512, 512]"
          ],
          [
           "netcdf4-[512, 512, 512]-[512, 512, 512]"
          ],
          [
           "netcdf4-[512, 512, 512]-[512, 512, 512]"
          ],
          [
           "hdf5-[512, 512, 512]-[512, 512, 512]"
          ],
          [
           "hdf5-[512, 512, 512]-[512, 512, 512]"
          ],
          [
           "hdf5-[512, 512, 512]-[512, 512, 512]"
          ],
          [
           "hdf5-[512, 512, 512]-[512, 512, 512]"
          ],
          [
           "hdf5-[512, 512, 512]-[512, 512, 512]"
          ],
          [
           "hdf5-[512, 512, 512]-[512, 512, 512]"
          ],
          [
           "hdf5-[512, 512, 512]-[512, 512, 512]"
          ],
          [
           "hdf5-[512, 512, 512]-[512, 512, 512]"
          ],
          [
           "hdf5-[512, 512, 512]-[512, 512, 512]"
          ],
          [
           "hdf5-[512, 512, 512]-[512, 512, 512]"
          ]
         ],
         "hovertemplate": "run=7<br>engine=%{x}<br>time taken=%{y}<br>format=%{customdata[0]}<extra></extra>",
         "legendgroup": "7",
         "marker": {
          "color": "#B6E880"
         },
         "name": "7",
         "notched": false,
         "offsetgroup": "7",
         "orientation": "v",
         "showlegend": true,
         "type": "box",
         "x": [
          "zarr",
          "zarr",
          "zarr",
          "zarr",
          "zarr",
          "zarr",
          "zarr",
          "zarr",
          "zarr",
          "zarr",
          "netcdf4",
          "netcdf4",
          "netcdf4",
          "netcdf4",
          "netcdf4",
          "netcdf4",
          "netcdf4",
          "netcdf4",
          "netcdf4",
          "netcdf4",
          "hdf5",
          "hdf5",
          "hdf5",
          "hdf5",
          "hdf5",
          "hdf5",
          "hdf5",
          "hdf5",
          "hdf5",
          "hdf5"
         ],
         "x0": " ",
         "xaxis": "x",
         "y": [
          0.8950659540000001,
          0.9446840860000001,
          0.94388729,
          0.8315148790000001,
          0.819262417,
          0.8176201470000001,
          0.817028666,
          0.819191114,
          0.811937299,
          0.8105739710000001,
          0.11527150400000001,
          0.141838884,
          0.12016710200000001,
          0.11868851100000001,
          0.11912513,
          0.117110691,
          0.11892630200000001,
          0.11607412,
          0.11663060200000001,
          0.11559393700000001,
          0.183353216,
          0.10336550600000001,
          0.09283052700000001,
          0.09067678300000001,
          0.110553382,
          0.097830052,
          0.100210216,
          0.096511632,
          0.095306263,
          0.09832729
         ],
         "y0": " ",
         "yaxis": "y"
        }
       ],
       "layout": {
        "boxmode": "group",
        "legend": {
         "title": {
          "text": "run"
         },
         "tracegroupgap": 0
        },
        "margin": {
         "t": 60
        },
        "template": {
         "data": {
          "bar": [
           {
            "error_x": {
             "color": "#2a3f5f"
            },
            "error_y": {
             "color": "#2a3f5f"
            },
            "marker": {
             "line": {
              "color": "#E5ECF6",
              "width": 0.5
             },
             "pattern": {
              "fillmode": "overlay",
              "size": 10,
              "solidity": 0.2
             }
            },
            "type": "bar"
           }
          ],
          "barpolar": [
           {
            "marker": {
             "line": {
              "color": "#E5ECF6",
              "width": 0.5
             },
             "pattern": {
              "fillmode": "overlay",
              "size": 10,
              "solidity": 0.2
             }
            },
            "type": "barpolar"
           }
          ],
          "carpet": [
           {
            "aaxis": {
             "endlinecolor": "#2a3f5f",
             "gridcolor": "white",
             "linecolor": "white",
             "minorgridcolor": "white",
             "startlinecolor": "#2a3f5f"
            },
            "baxis": {
             "endlinecolor": "#2a3f5f",
             "gridcolor": "white",
             "linecolor": "white",
             "minorgridcolor": "white",
             "startlinecolor": "#2a3f5f"
            },
            "type": "carpet"
           }
          ],
          "choropleth": [
           {
            "colorbar": {
             "outlinewidth": 0,
             "ticks": ""
            },
            "type": "choropleth"
           }
          ],
          "contour": [
           {
            "colorbar": {
             "outlinewidth": 0,
             "ticks": ""
            },
            "colorscale": [
             [
              0,
              "#0d0887"
             ],
             [
              0.1111111111111111,
              "#46039f"
             ],
             [
              0.2222222222222222,
              "#7201a8"
             ],
             [
              0.3333333333333333,
              "#9c179e"
             ],
             [
              0.4444444444444444,
              "#bd3786"
             ],
             [
              0.5555555555555556,
              "#d8576b"
             ],
             [
              0.6666666666666666,
              "#ed7953"
             ],
             [
              0.7777777777777778,
              "#fb9f3a"
             ],
             [
              0.8888888888888888,
              "#fdca26"
             ],
             [
              1,
              "#f0f921"
             ]
            ],
            "type": "contour"
           }
          ],
          "contourcarpet": [
           {
            "colorbar": {
             "outlinewidth": 0,
             "ticks": ""
            },
            "type": "contourcarpet"
           }
          ],
          "heatmap": [
           {
            "colorbar": {
             "outlinewidth": 0,
             "ticks": ""
            },
            "colorscale": [
             [
              0,
              "#0d0887"
             ],
             [
              0.1111111111111111,
              "#46039f"
             ],
             [
              0.2222222222222222,
              "#7201a8"
             ],
             [
              0.3333333333333333,
              "#9c179e"
             ],
             [
              0.4444444444444444,
              "#bd3786"
             ],
             [
              0.5555555555555556,
              "#d8576b"
             ],
             [
              0.6666666666666666,
              "#ed7953"
             ],
             [
              0.7777777777777778,
              "#fb9f3a"
             ],
             [
              0.8888888888888888,
              "#fdca26"
             ],
             [
              1,
              "#f0f921"
             ]
            ],
            "type": "heatmap"
           }
          ],
          "heatmapgl": [
           {
            "colorbar": {
             "outlinewidth": 0,
             "ticks": ""
            },
            "colorscale": [
             [
              0,
              "#0d0887"
             ],
             [
              0.1111111111111111,
              "#46039f"
             ],
             [
              0.2222222222222222,
              "#7201a8"
             ],
             [
              0.3333333333333333,
              "#9c179e"
             ],
             [
              0.4444444444444444,
              "#bd3786"
             ],
             [
              0.5555555555555556,
              "#d8576b"
             ],
             [
              0.6666666666666666,
              "#ed7953"
             ],
             [
              0.7777777777777778,
              "#fb9f3a"
             ],
             [
              0.8888888888888888,
              "#fdca26"
             ],
             [
              1,
              "#f0f921"
             ]
            ],
            "type": "heatmapgl"
           }
          ],
          "histogram": [
           {
            "marker": {
             "pattern": {
              "fillmode": "overlay",
              "size": 10,
              "solidity": 0.2
             }
            },
            "type": "histogram"
           }
          ],
          "histogram2d": [
           {
            "colorbar": {
             "outlinewidth": 0,
             "ticks": ""
            },
            "colorscale": [
             [
              0,
              "#0d0887"
             ],
             [
              0.1111111111111111,
              "#46039f"
             ],
             [
              0.2222222222222222,
              "#7201a8"
             ],
             [
              0.3333333333333333,
              "#9c179e"
             ],
             [
              0.4444444444444444,
              "#bd3786"
             ],
             [
              0.5555555555555556,
              "#d8576b"
             ],
             [
              0.6666666666666666,
              "#ed7953"
             ],
             [
              0.7777777777777778,
              "#fb9f3a"
             ],
             [
              0.8888888888888888,
              "#fdca26"
             ],
             [
              1,
              "#f0f921"
             ]
            ],
            "type": "histogram2d"
           }
          ],
          "histogram2dcontour": [
           {
            "colorbar": {
             "outlinewidth": 0,
             "ticks": ""
            },
            "colorscale": [
             [
              0,
              "#0d0887"
             ],
             [
              0.1111111111111111,
              "#46039f"
             ],
             [
              0.2222222222222222,
              "#7201a8"
             ],
             [
              0.3333333333333333,
              "#9c179e"
             ],
             [
              0.4444444444444444,
              "#bd3786"
             ],
             [
              0.5555555555555556,
              "#d8576b"
             ],
             [
              0.6666666666666666,
              "#ed7953"
             ],
             [
              0.7777777777777778,
              "#fb9f3a"
             ],
             [
              0.8888888888888888,
              "#fdca26"
             ],
             [
              1,
              "#f0f921"
             ]
            ],
            "type": "histogram2dcontour"
           }
          ],
          "mesh3d": [
           {
            "colorbar": {
             "outlinewidth": 0,
             "ticks": ""
            },
            "type": "mesh3d"
           }
          ],
          "parcoords": [
           {
            "line": {
             "colorbar": {
              "outlinewidth": 0,
              "ticks": ""
             }
            },
            "type": "parcoords"
           }
          ],
          "pie": [
           {
            "automargin": true,
            "type": "pie"
           }
          ],
          "scatter": [
           {
            "fillpattern": {
             "fillmode": "overlay",
             "size": 10,
             "solidity": 0.2
            },
            "type": "scatter"
           }
          ],
          "scatter3d": [
           {
            "line": {
             "colorbar": {
              "outlinewidth": 0,
              "ticks": ""
             }
            },
            "marker": {
             "colorbar": {
              "outlinewidth": 0,
              "ticks": ""
             }
            },
            "type": "scatter3d"
           }
          ],
          "scattercarpet": [
           {
            "marker": {
             "colorbar": {
              "outlinewidth": 0,
              "ticks": ""
             }
            },
            "type": "scattercarpet"
           }
          ],
          "scattergeo": [
           {
            "marker": {
             "colorbar": {
              "outlinewidth": 0,
              "ticks": ""
             }
            },
            "type": "scattergeo"
           }
          ],
          "scattergl": [
           {
            "marker": {
             "colorbar": {
              "outlinewidth": 0,
              "ticks": ""
             }
            },
            "type": "scattergl"
           }
          ],
          "scattermapbox": [
           {
            "marker": {
             "colorbar": {
              "outlinewidth": 0,
              "ticks": ""
             }
            },
            "type": "scattermapbox"
           }
          ],
          "scatterpolar": [
           {
            "marker": {
             "colorbar": {
              "outlinewidth": 0,
              "ticks": ""
             }
            },
            "type": "scatterpolar"
           }
          ],
          "scatterpolargl": [
           {
            "marker": {
             "colorbar": {
              "outlinewidth": 0,
              "ticks": ""
             }
            },
            "type": "scatterpolargl"
           }
          ],
          "scatterternary": [
           {
            "marker": {
             "colorbar": {
              "outlinewidth": 0,
              "ticks": ""
             }
            },
            "type": "scatterternary"
           }
          ],
          "surface": [
           {
            "colorbar": {
             "outlinewidth": 0,
             "ticks": ""
            },
            "colorscale": [
             [
              0,
              "#0d0887"
             ],
             [
              0.1111111111111111,
              "#46039f"
             ],
             [
              0.2222222222222222,
              "#7201a8"
             ],
             [
              0.3333333333333333,
              "#9c179e"
             ],
             [
              0.4444444444444444,
              "#bd3786"
             ],
             [
              0.5555555555555556,
              "#d8576b"
             ],
             [
              0.6666666666666666,
              "#ed7953"
             ],
             [
              0.7777777777777778,
              "#fb9f3a"
             ],
             [
              0.8888888888888888,
              "#fdca26"
             ],
             [
              1,
              "#f0f921"
             ]
            ],
            "type": "surface"
           }
          ],
          "table": [
           {
            "cells": {
             "fill": {
              "color": "#EBF0F8"
             },
             "line": {
              "color": "white"
             }
            },
            "header": {
             "fill": {
              "color": "#C8D4E3"
             },
             "line": {
              "color": "white"
             }
            },
            "type": "table"
           }
          ]
         },
         "layout": {
          "annotationdefaults": {
           "arrowcolor": "#2a3f5f",
           "arrowhead": 0,
           "arrowwidth": 1
          },
          "autotypenumbers": "strict",
          "coloraxis": {
           "colorbar": {
            "outlinewidth": 0,
            "ticks": ""
           }
          },
          "colorscale": {
           "diverging": [
            [
             0,
             "#8e0152"
            ],
            [
             0.1,
             "#c51b7d"
            ],
            [
             0.2,
             "#de77ae"
            ],
            [
             0.3,
             "#f1b6da"
            ],
            [
             0.4,
             "#fde0ef"
            ],
            [
             0.5,
             "#f7f7f7"
            ],
            [
             0.6,
             "#e6f5d0"
            ],
            [
             0.7,
             "#b8e186"
            ],
            [
             0.8,
             "#7fbc41"
            ],
            [
             0.9,
             "#4d9221"
            ],
            [
             1,
             "#276419"
            ]
           ],
           "sequential": [
            [
             0,
             "#0d0887"
            ],
            [
             0.1111111111111111,
             "#46039f"
            ],
            [
             0.2222222222222222,
             "#7201a8"
            ],
            [
             0.3333333333333333,
             "#9c179e"
            ],
            [
             0.4444444444444444,
             "#bd3786"
            ],
            [
             0.5555555555555556,
             "#d8576b"
            ],
            [
             0.6666666666666666,
             "#ed7953"
            ],
            [
             0.7777777777777778,
             "#fb9f3a"
            ],
            [
             0.8888888888888888,
             "#fdca26"
            ],
            [
             1,
             "#f0f921"
            ]
           ],
           "sequentialminus": [
            [
             0,
             "#0d0887"
            ],
            [
             0.1111111111111111,
             "#46039f"
            ],
            [
             0.2222222222222222,
             "#7201a8"
            ],
            [
             0.3333333333333333,
             "#9c179e"
            ],
            [
             0.4444444444444444,
             "#bd3786"
            ],
            [
             0.5555555555555556,
             "#d8576b"
            ],
            [
             0.6666666666666666,
             "#ed7953"
            ],
            [
             0.7777777777777778,
             "#fb9f3a"
            ],
            [
             0.8888888888888888,
             "#fdca26"
            ],
            [
             1,
             "#f0f921"
            ]
           ]
          },
          "colorway": [
           "#636efa",
           "#EF553B",
           "#00cc96",
           "#ab63fa",
           "#FFA15A",
           "#19d3f3",
           "#FF6692",
           "#B6E880",
           "#FF97FF",
           "#FECB52"
          ],
          "font": {
           "color": "#2a3f5f"
          },
          "geo": {
           "bgcolor": "white",
           "lakecolor": "white",
           "landcolor": "#E5ECF6",
           "showlakes": true,
           "showland": true,
           "subunitcolor": "white"
          },
          "hoverlabel": {
           "align": "left"
          },
          "hovermode": "closest",
          "mapbox": {
           "style": "light"
          },
          "paper_bgcolor": "white",
          "plot_bgcolor": "#E5ECF6",
          "polar": {
           "angularaxis": {
            "gridcolor": "white",
            "linecolor": "white",
            "ticks": ""
           },
           "bgcolor": "#E5ECF6",
           "radialaxis": {
            "gridcolor": "white",
            "linecolor": "white",
            "ticks": ""
           }
          },
          "scene": {
           "xaxis": {
            "backgroundcolor": "#E5ECF6",
            "gridcolor": "white",
            "gridwidth": 2,
            "linecolor": "white",
            "showbackground": true,
            "ticks": "",
            "zerolinecolor": "white"
           },
           "yaxis": {
            "backgroundcolor": "#E5ECF6",
            "gridcolor": "white",
            "gridwidth": 2,
            "linecolor": "white",
            "showbackground": true,
            "ticks": "",
            "zerolinecolor": "white"
           },
           "zaxis": {
            "backgroundcolor": "#E5ECF6",
            "gridcolor": "white",
            "gridwidth": 2,
            "linecolor": "white",
            "showbackground": true,
            "ticks": "",
            "zerolinecolor": "white"
           }
          },
          "shapedefaults": {
           "line": {
            "color": "#2a3f5f"
           }
          },
          "ternary": {
           "aaxis": {
            "gridcolor": "white",
            "linecolor": "white",
            "ticks": ""
           },
           "baxis": {
            "gridcolor": "white",
            "linecolor": "white",
            "ticks": ""
           },
           "bgcolor": "#E5ECF6",
           "caxis": {
            "gridcolor": "white",
            "linecolor": "white",
            "ticks": ""
           }
          },
          "title": {
           "x": 0.05
          },
          "xaxis": {
           "automargin": true,
           "gridcolor": "white",
           "linecolor": "white",
           "ticks": "",
           "title": {
            "standoff": 15
           },
           "zerolinecolor": "white",
           "zerolinewidth": 2
          },
          "yaxis": {
           "automargin": true,
           "gridcolor": "white",
           "linecolor": "white",
           "ticks": "",
           "title": {
            "standoff": 15
           },
           "zerolinecolor": "white",
           "zerolinewidth": 2
          }
         }
        },
        "xaxis": {
         "anchor": "y",
         "domain": [
          0,
          1
         ],
         "title": {
          "text": "engine"
         }
        },
        "yaxis": {
         "anchor": "x",
         "domain": [
          0,
          1
         ],
         "title": {
          "text": "time taken"
         },
         "type": "log"
        }
       }
      },
      "text/html": [
       "<div>                            <div id=\"546b9233-fb01-4391-a54d-ccc1ecbc5a44\" class=\"plotly-graph-div\" style=\"height:525px; width:100%;\"></div>            <script type=\"text/javascript\">                require([\"plotly\"], function(Plotly) {                    window.PLOTLYENV=window.PLOTLYENV || {};                                    if (document.getElementById(\"546b9233-fb01-4391-a54d-ccc1ecbc5a44\")) {                    Plotly.newPlot(                        \"546b9233-fb01-4391-a54d-ccc1ecbc5a44\",                        [{\"alignmentgroup\":\"True\",\"customdata\":[[\"zarr-[512, 512, 512]-[512, 512, 1]\"],[\"zarr-[512, 512, 512]-[512, 512, 1]\"],[\"zarr-[512, 512, 512]-[512, 512, 1]\"],[\"zarr-[512, 512, 512]-[512, 512, 1]\"],[\"zarr-[512, 512, 512]-[512, 512, 1]\"],[\"zarr-[512, 512, 512]-[512, 512, 1]\"],[\"zarr-[512, 512, 512]-[512, 512, 1]\"],[\"zarr-[512, 512, 512]-[512, 512, 1]\"],[\"zarr-[512, 512, 512]-[512, 512, 1]\"],[\"zarr-[512, 512, 512]-[512, 512, 1]\"],[\"netcdf4-[512, 512, 512]-[512, 512, 1]\"],[\"netcdf4-[512, 512, 512]-[512, 512, 1]\"],[\"netcdf4-[512, 512, 512]-[512, 512, 1]\"],[\"netcdf4-[512, 512, 512]-[512, 512, 1]\"],[\"netcdf4-[512, 512, 512]-[512, 512, 1]\"],[\"netcdf4-[512, 512, 512]-[512, 512, 1]\"],[\"netcdf4-[512, 512, 512]-[512, 512, 1]\"],[\"netcdf4-[512, 512, 512]-[512, 512, 1]\"],[\"netcdf4-[512, 512, 512]-[512, 512, 1]\"],[\"netcdf4-[512, 512, 512]-[512, 512, 1]\"],[\"hdf5-[512, 512, 512]-[512, 512, 1]\"],[\"hdf5-[512, 512, 512]-[512, 512, 1]\"],[\"hdf5-[512, 512, 512]-[512, 512, 1]\"],[\"hdf5-[512, 512, 512]-[512, 512, 1]\"],[\"hdf5-[512, 512, 512]-[512, 512, 1]\"],[\"hdf5-[512, 512, 512]-[512, 512, 1]\"],[\"hdf5-[512, 512, 512]-[512, 512, 1]\"],[\"hdf5-[512, 512, 512]-[512, 512, 1]\"],[\"hdf5-[512, 512, 512]-[512, 512, 1]\"],[\"hdf5-[512, 512, 512]-[512, 512, 1]\"]],\"hovertemplate\":\"run=0\\u003cbr\\u003eengine=%{x}\\u003cbr\\u003etime taken=%{y}\\u003cbr\\u003eformat=%{customdata[0]}\\u003cextra\\u003e\\u003c\\u002fextra\\u003e\",\"legendgroup\":\"0\",\"marker\":{\"color\":\"#636efa\"},\"name\":\"0\",\"notched\":false,\"offsetgroup\":\"0\",\"orientation\":\"v\",\"showlegend\":true,\"x\":[\"zarr\",\"zarr\",\"zarr\",\"zarr\",\"zarr\",\"zarr\",\"zarr\",\"zarr\",\"zarr\",\"zarr\",\"netcdf4\",\"netcdf4\",\"netcdf4\",\"netcdf4\",\"netcdf4\",\"netcdf4\",\"netcdf4\",\"netcdf4\",\"netcdf4\",\"netcdf4\",\"hdf5\",\"hdf5\",\"hdf5\",\"hdf5\",\"hdf5\",\"hdf5\",\"hdf5\",\"hdf5\",\"hdf5\",\"hdf5\"],\"x0\":\" \",\"xaxis\":\"x\",\"y\":[1.254719685,1.248066141,1.292569566,1.314146394,1.313602982,1.289282074,1.254550035,1.266733049,1.267689895,1.260372463,1.066638576,1.101389066,1.097299316,1.046411391,1.165832655,1.076762198,1.208166825,1.104800169,1.121934926,1.051151894,46.14103127,45.923445485,46.01607336,46.124263398,45.799555882,45.748027634,45.644547842,45.573779377,46.374598791,45.432376268],\"y0\":\" \",\"yaxis\":\"y\",\"type\":\"box\"},{\"alignmentgroup\":\"True\",\"customdata\":[[\"zarr-[512, 512, 512]-[512, 512, 8]\"],[\"zarr-[512, 512, 512]-[512, 512, 8]\"],[\"zarr-[512, 512, 512]-[512, 512, 8]\"],[\"zarr-[512, 512, 512]-[512, 512, 8]\"],[\"zarr-[512, 512, 512]-[512, 512, 8]\"],[\"zarr-[512, 512, 512]-[512, 512, 8]\"],[\"zarr-[512, 512, 512]-[512, 512, 8]\"],[\"zarr-[512, 512, 512]-[512, 512, 8]\"],[\"zarr-[512, 512, 512]-[512, 512, 8]\"],[\"zarr-[512, 512, 512]-[512, 512, 8]\"],[\"netcdf4-[512, 512, 512]-[512, 512, 8]\"],[\"netcdf4-[512, 512, 512]-[512, 512, 8]\"],[\"netcdf4-[512, 512, 512]-[512, 512, 8]\"],[\"netcdf4-[512, 512, 512]-[512, 512, 8]\"],[\"netcdf4-[512, 512, 512]-[512, 512, 8]\"],[\"netcdf4-[512, 512, 512]-[512, 512, 8]\"],[\"netcdf4-[512, 512, 512]-[512, 512, 8]\"],[\"netcdf4-[512, 512, 512]-[512, 512, 8]\"],[\"netcdf4-[512, 512, 512]-[512, 512, 8]\"],[\"netcdf4-[512, 512, 512]-[512, 512, 8]\"],[\"hdf5-[512, 512, 512]-[512, 512, 8]\"],[\"hdf5-[512, 512, 512]-[512, 512, 8]\"],[\"hdf5-[512, 512, 512]-[512, 512, 8]\"],[\"hdf5-[512, 512, 512]-[512, 512, 8]\"],[\"hdf5-[512, 512, 512]-[512, 512, 8]\"],[\"hdf5-[512, 512, 512]-[512, 512, 8]\"],[\"hdf5-[512, 512, 512]-[512, 512, 8]\"],[\"hdf5-[512, 512, 512]-[512, 512, 8]\"],[\"hdf5-[512, 512, 512]-[512, 512, 8]\"],[\"hdf5-[512, 512, 512]-[512, 512, 8]\"]],\"hovertemplate\":\"run=1\\u003cbr\\u003eengine=%{x}\\u003cbr\\u003etime taken=%{y}\\u003cbr\\u003eformat=%{customdata[0]}\\u003cextra\\u003e\\u003c\\u002fextra\\u003e\",\"legendgroup\":\"1\",\"marker\":{\"color\":\"#EF553B\"},\"name\":\"1\",\"notched\":false,\"offsetgroup\":\"1\",\"orientation\":\"v\",\"showlegend\":true,\"x\":[\"zarr\",\"zarr\",\"zarr\",\"zarr\",\"zarr\",\"zarr\",\"zarr\",\"zarr\",\"zarr\",\"zarr\",\"netcdf4\",\"netcdf4\",\"netcdf4\",\"netcdf4\",\"netcdf4\",\"netcdf4\",\"netcdf4\",\"netcdf4\",\"netcdf4\",\"netcdf4\",\"hdf5\",\"hdf5\",\"hdf5\",\"hdf5\",\"hdf5\",\"hdf5\",\"hdf5\",\"hdf5\",\"hdf5\",\"hdf5\"],\"x0\":\" \",\"xaxis\":\"x\",\"y\":[0.47734869999999996,0.47810641600000003,0.475131742,0.49847422,0.471999887,0.49030078200000005,0.47879551000000004,0.479558588,0.47660526900000005,0.46878278,0.35543492200000004,0.36908632900000005,0.343790335,0.347241096,0.34522847100000004,0.340736661,0.34947300800000003,0.34388356600000003,0.34354955600000003,0.342198532,5.981869041,6.38684548,6.240656416,6.24766756,6.025542604,6.253911342,6.376845099,5.976641,6.032766631,6.027398905],\"y0\":\" \",\"yaxis\":\"y\",\"type\":\"box\"},{\"alignmentgroup\":\"True\",\"customdata\":[[\"zarr-[512, 512, 512]-[512, 512, 16]\"],[\"zarr-[512, 512, 512]-[512, 512, 16]\"],[\"zarr-[512, 512, 512]-[512, 512, 16]\"],[\"zarr-[512, 512, 512]-[512, 512, 16]\"],[\"zarr-[512, 512, 512]-[512, 512, 16]\"],[\"zarr-[512, 512, 512]-[512, 512, 16]\"],[\"zarr-[512, 512, 512]-[512, 512, 16]\"],[\"zarr-[512, 512, 512]-[512, 512, 16]\"],[\"zarr-[512, 512, 512]-[512, 512, 16]\"],[\"zarr-[512, 512, 512]-[512, 512, 16]\"],[\"netcdf4-[512, 512, 512]-[512, 512, 16]\"],[\"netcdf4-[512, 512, 512]-[512, 512, 16]\"],[\"netcdf4-[512, 512, 512]-[512, 512, 16]\"],[\"netcdf4-[512, 512, 512]-[512, 512, 16]\"],[\"netcdf4-[512, 512, 512]-[512, 512, 16]\"],[\"netcdf4-[512, 512, 512]-[512, 512, 16]\"],[\"netcdf4-[512, 512, 512]-[512, 512, 16]\"],[\"netcdf4-[512, 512, 512]-[512, 512, 16]\"],[\"netcdf4-[512, 512, 512]-[512, 512, 16]\"],[\"netcdf4-[512, 512, 512]-[512, 512, 16]\"],[\"hdf5-[512, 512, 512]-[512, 512, 16]\"],[\"hdf5-[512, 512, 512]-[512, 512, 16]\"],[\"hdf5-[512, 512, 512]-[512, 512, 16]\"],[\"hdf5-[512, 512, 512]-[512, 512, 16]\"],[\"hdf5-[512, 512, 512]-[512, 512, 16]\"],[\"hdf5-[512, 512, 512]-[512, 512, 16]\"],[\"hdf5-[512, 512, 512]-[512, 512, 16]\"],[\"hdf5-[512, 512, 512]-[512, 512, 16]\"],[\"hdf5-[512, 512, 512]-[512, 512, 16]\"],[\"hdf5-[512, 512, 512]-[512, 512, 16]\"]],\"hovertemplate\":\"run=2\\u003cbr\\u003eengine=%{x}\\u003cbr\\u003etime taken=%{y}\\u003cbr\\u003eformat=%{customdata[0]}\\u003cextra\\u003e\\u003c\\u002fextra\\u003e\",\"legendgroup\":\"2\",\"marker\":{\"color\":\"#00cc96\"},\"name\":\"2\",\"notched\":false,\"offsetgroup\":\"2\",\"orientation\":\"v\",\"showlegend\":true,\"x\":[\"zarr\",\"zarr\",\"zarr\",\"zarr\",\"zarr\",\"zarr\",\"zarr\",\"zarr\",\"zarr\",\"zarr\",\"netcdf4\",\"netcdf4\",\"netcdf4\",\"netcdf4\",\"netcdf4\",\"netcdf4\",\"netcdf4\",\"netcdf4\",\"netcdf4\",\"netcdf4\",\"hdf5\",\"hdf5\",\"hdf5\",\"hdf5\",\"hdf5\",\"hdf5\",\"hdf5\",\"hdf5\",\"hdf5\",\"hdf5\"],\"x0\":\" \",\"xaxis\":\"x\",\"y\":[0.341167112,0.346485843,0.337719557,0.326252441,0.317186783,0.32556866900000003,0.322510964,0.325034704,0.352799583,0.32193485600000005,0.30870316800000003,0.32929330700000004,0.30866935900000003,0.310044934,0.327120401,0.325595063,0.318164857,0.320311499,0.31708172300000004,0.31712259200000004,3.189988007,3.1049804930000002,3.1164612,3.267687763,3.174135172,3.071354912,3.069019151,3.082908319,3.0678748750000002,3.0879366089999998],\"y0\":\" \",\"yaxis\":\"y\",\"type\":\"box\"},{\"alignmentgroup\":\"True\",\"customdata\":[[\"zarr-[512, 512, 512]-[512, 512, 32]\"],[\"zarr-[512, 512, 512]-[512, 512, 32]\"],[\"zarr-[512, 512, 512]-[512, 512, 32]\"],[\"zarr-[512, 512, 512]-[512, 512, 32]\"],[\"zarr-[512, 512, 512]-[512, 512, 32]\"],[\"zarr-[512, 512, 512]-[512, 512, 32]\"],[\"zarr-[512, 512, 512]-[512, 512, 32]\"],[\"zarr-[512, 512, 512]-[512, 512, 32]\"],[\"zarr-[512, 512, 512]-[512, 512, 32]\"],[\"zarr-[512, 512, 512]-[512, 512, 32]\"],[\"netcdf4-[512, 512, 512]-[512, 512, 32]\"],[\"netcdf4-[512, 512, 512]-[512, 512, 32]\"],[\"netcdf4-[512, 512, 512]-[512, 512, 32]\"],[\"netcdf4-[512, 512, 512]-[512, 512, 32]\"],[\"netcdf4-[512, 512, 512]-[512, 512, 32]\"],[\"netcdf4-[512, 512, 512]-[512, 512, 32]\"],[\"netcdf4-[512, 512, 512]-[512, 512, 32]\"],[\"netcdf4-[512, 512, 512]-[512, 512, 32]\"],[\"netcdf4-[512, 512, 512]-[512, 512, 32]\"],[\"netcdf4-[512, 512, 512]-[512, 512, 32]\"],[\"hdf5-[512, 512, 512]-[512, 512, 32]\"],[\"hdf5-[512, 512, 512]-[512, 512, 32]\"],[\"hdf5-[512, 512, 512]-[512, 512, 32]\"],[\"hdf5-[512, 512, 512]-[512, 512, 32]\"],[\"hdf5-[512, 512, 512]-[512, 512, 32]\"],[\"hdf5-[512, 512, 512]-[512, 512, 32]\"],[\"hdf5-[512, 512, 512]-[512, 512, 32]\"],[\"hdf5-[512, 512, 512]-[512, 512, 32]\"],[\"hdf5-[512, 512, 512]-[512, 512, 32]\"],[\"hdf5-[512, 512, 512]-[512, 512, 32]\"]],\"hovertemplate\":\"run=3\\u003cbr\\u003eengine=%{x}\\u003cbr\\u003etime taken=%{y}\\u003cbr\\u003eformat=%{customdata[0]}\\u003cextra\\u003e\\u003c\\u002fextra\\u003e\",\"legendgroup\":\"3\",\"marker\":{\"color\":\"#ab63fa\"},\"name\":\"3\",\"notched\":false,\"offsetgroup\":\"3\",\"orientation\":\"v\",\"showlegend\":true,\"x\":[\"zarr\",\"zarr\",\"zarr\",\"zarr\",\"zarr\",\"zarr\",\"zarr\",\"zarr\",\"zarr\",\"zarr\",\"netcdf4\",\"netcdf4\",\"netcdf4\",\"netcdf4\",\"netcdf4\",\"netcdf4\",\"netcdf4\",\"netcdf4\",\"netcdf4\",\"netcdf4\",\"hdf5\",\"hdf5\",\"hdf5\",\"hdf5\",\"hdf5\",\"hdf5\",\"hdf5\",\"hdf5\",\"hdf5\",\"hdf5\"],\"x0\":\" \",\"xaxis\":\"x\",\"y\":[0.300894643,0.462857507,0.30194046700000005,0.299499148,0.30833920800000003,0.31830092,0.30179614600000004,0.309152392,0.31024292600000003,0.312736871,0.284299354,0.309089053,0.284274168,0.275440571,0.278493058,0.28027144400000004,0.30230928300000004,0.28593648800000004,0.28593570700000004,0.287834986,1.693819472,1.7279579260000002,1.693208435,1.688626962,1.6460844680000002,1.7795740150000001,1.612152327,1.602602136,1.6046489620000002,1.602822231],\"y0\":\" \",\"yaxis\":\"y\",\"type\":\"box\"},{\"alignmentgroup\":\"True\",\"customdata\":[[\"zarr-[512, 512, 512]-[512, 512, 64]\"],[\"zarr-[512, 512, 512]-[512, 512, 64]\"],[\"zarr-[512, 512, 512]-[512, 512, 64]\"],[\"zarr-[512, 512, 512]-[512, 512, 64]\"],[\"zarr-[512, 512, 512]-[512, 512, 64]\"],[\"zarr-[512, 512, 512]-[512, 512, 64]\"],[\"zarr-[512, 512, 512]-[512, 512, 64]\"],[\"zarr-[512, 512, 512]-[512, 512, 64]\"],[\"zarr-[512, 512, 512]-[512, 512, 64]\"],[\"zarr-[512, 512, 512]-[512, 512, 64]\"],[\"netcdf4-[512, 512, 512]-[512, 512, 64]\"],[\"netcdf4-[512, 512, 512]-[512, 512, 64]\"],[\"netcdf4-[512, 512, 512]-[512, 512, 64]\"],[\"netcdf4-[512, 512, 512]-[512, 512, 64]\"],[\"netcdf4-[512, 512, 512]-[512, 512, 64]\"],[\"netcdf4-[512, 512, 512]-[512, 512, 64]\"],[\"netcdf4-[512, 512, 512]-[512, 512, 64]\"],[\"netcdf4-[512, 512, 512]-[512, 512, 64]\"],[\"netcdf4-[512, 512, 512]-[512, 512, 64]\"],[\"netcdf4-[512, 512, 512]-[512, 512, 64]\"],[\"hdf5-[512, 512, 512]-[512, 512, 64]\"],[\"hdf5-[512, 512, 512]-[512, 512, 64]\"],[\"hdf5-[512, 512, 512]-[512, 512, 64]\"],[\"hdf5-[512, 512, 512]-[512, 512, 64]\"],[\"hdf5-[512, 512, 512]-[512, 512, 64]\"],[\"hdf5-[512, 512, 512]-[512, 512, 64]\"],[\"hdf5-[512, 512, 512]-[512, 512, 64]\"],[\"hdf5-[512, 512, 512]-[512, 512, 64]\"],[\"hdf5-[512, 512, 512]-[512, 512, 64]\"],[\"hdf5-[512, 512, 512]-[512, 512, 64]\"]],\"hovertemplate\":\"run=4\\u003cbr\\u003eengine=%{x}\\u003cbr\\u003etime taken=%{y}\\u003cbr\\u003eformat=%{customdata[0]}\\u003cextra\\u003e\\u003c\\u002fextra\\u003e\",\"legendgroup\":\"4\",\"marker\":{\"color\":\"#FFA15A\"},\"name\":\"4\",\"notched\":false,\"offsetgroup\":\"4\",\"orientation\":\"v\",\"showlegend\":true,\"x\":[\"zarr\",\"zarr\",\"zarr\",\"zarr\",\"zarr\",\"zarr\",\"zarr\",\"zarr\",\"zarr\",\"zarr\",\"netcdf4\",\"netcdf4\",\"netcdf4\",\"netcdf4\",\"netcdf4\",\"netcdf4\",\"netcdf4\",\"netcdf4\",\"netcdf4\",\"netcdf4\",\"hdf5\",\"hdf5\",\"hdf5\",\"hdf5\",\"hdf5\",\"hdf5\",\"hdf5\",\"hdf5\",\"hdf5\",\"hdf5\"],\"x0\":\" \",\"xaxis\":\"x\",\"y\":[0.302416801,0.269407463,0.268864951,0.27021970500000003,0.26755000300000004,0.27700697700000004,0.270246684,0.278290395,0.27775366700000004,0.289305542,0.8994026220000001,0.910529531,0.8986453980000001,0.8828881270000001,0.875781392,0.9091029700000001,0.8770661930000001,0.88689352,0.87807879,0.8827927480000001,0.853270268,0.9284074010000001,0.87903606,0.846973504,0.8496726480000001,0.881298659,0.848622796,0.8538614250000001,0.844450825,0.844812871],\"y0\":\" \",\"yaxis\":\"y\",\"type\":\"box\"},{\"alignmentgroup\":\"True\",\"customdata\":[[\"zarr-[512, 512, 512]-[512, 512, 128]\"],[\"zarr-[512, 512, 512]-[512, 512, 128]\"],[\"zarr-[512, 512, 512]-[512, 512, 128]\"],[\"zarr-[512, 512, 512]-[512, 512, 128]\"],[\"zarr-[512, 512, 512]-[512, 512, 128]\"],[\"zarr-[512, 512, 512]-[512, 512, 128]\"],[\"zarr-[512, 512, 512]-[512, 512, 128]\"],[\"zarr-[512, 512, 512]-[512, 512, 128]\"],[\"zarr-[512, 512, 512]-[512, 512, 128]\"],[\"zarr-[512, 512, 512]-[512, 512, 128]\"],[\"netcdf4-[512, 512, 512]-[512, 512, 128]\"],[\"netcdf4-[512, 512, 512]-[512, 512, 128]\"],[\"netcdf4-[512, 512, 512]-[512, 512, 128]\"],[\"netcdf4-[512, 512, 512]-[512, 512, 128]\"],[\"netcdf4-[512, 512, 512]-[512, 512, 128]\"],[\"netcdf4-[512, 512, 512]-[512, 512, 128]\"],[\"netcdf4-[512, 512, 512]-[512, 512, 128]\"],[\"netcdf4-[512, 512, 512]-[512, 512, 128]\"],[\"netcdf4-[512, 512, 512]-[512, 512, 128]\"],[\"netcdf4-[512, 512, 512]-[512, 512, 128]\"],[\"hdf5-[512, 512, 512]-[512, 512, 128]\"],[\"hdf5-[512, 512, 512]-[512, 512, 128]\"],[\"hdf5-[512, 512, 512]-[512, 512, 128]\"],[\"hdf5-[512, 512, 512]-[512, 512, 128]\"],[\"hdf5-[512, 512, 512]-[512, 512, 128]\"],[\"hdf5-[512, 512, 512]-[512, 512, 128]\"],[\"hdf5-[512, 512, 512]-[512, 512, 128]\"],[\"hdf5-[512, 512, 512]-[512, 512, 128]\"],[\"hdf5-[512, 512, 512]-[512, 512, 128]\"],[\"hdf5-[512, 512, 512]-[512, 512, 128]\"]],\"hovertemplate\":\"run=5\\u003cbr\\u003eengine=%{x}\\u003cbr\\u003etime taken=%{y}\\u003cbr\\u003eformat=%{customdata[0]}\\u003cextra\\u003e\\u003c\\u002fextra\\u003e\",\"legendgroup\":\"5\",\"marker\":{\"color\":\"#19d3f3\"},\"name\":\"5\",\"notched\":false,\"offsetgroup\":\"5\",\"orientation\":\"v\",\"showlegend\":true,\"x\":[\"zarr\",\"zarr\",\"zarr\",\"zarr\",\"zarr\",\"zarr\",\"zarr\",\"zarr\",\"zarr\",\"zarr\",\"netcdf4\",\"netcdf4\",\"netcdf4\",\"netcdf4\",\"netcdf4\",\"netcdf4\",\"netcdf4\",\"netcdf4\",\"netcdf4\",\"netcdf4\",\"hdf5\",\"hdf5\",\"hdf5\",\"hdf5\",\"hdf5\",\"hdf5\",\"hdf5\",\"hdf5\",\"hdf5\",\"hdf5\"],\"x0\":\" \",\"xaxis\":\"x\",\"y\":[0.35860182500000004,0.404696704,0.6036628110000001,0.349247028,0.32979555400000005,0.327063043,0.341437916,0.329447303,0.359248818,0.332353106,0.527823544,0.5717007780000001,0.540869111,0.532881676,0.526184161,0.5494407290000001,0.548037165,0.570734611,0.5497473420000001,0.524087209,0.5759470990000001,0.573102656,0.534317182,0.5741216100000001,0.5407160670000001,0.540359447,0.536311689,0.527317577,0.5020722910000001,0.47177409600000003],\"y0\":\" \",\"yaxis\":\"y\",\"type\":\"box\"},{\"alignmentgroup\":\"True\",\"customdata\":[[\"zarr-[512, 512, 512]-[512, 512, 256]\"],[\"zarr-[512, 512, 512]-[512, 512, 256]\"],[\"zarr-[512, 512, 512]-[512, 512, 256]\"],[\"zarr-[512, 512, 512]-[512, 512, 256]\"],[\"zarr-[512, 512, 512]-[512, 512, 256]\"],[\"zarr-[512, 512, 512]-[512, 512, 256]\"],[\"zarr-[512, 512, 512]-[512, 512, 256]\"],[\"zarr-[512, 512, 512]-[512, 512, 256]\"],[\"zarr-[512, 512, 512]-[512, 512, 256]\"],[\"zarr-[512, 512, 512]-[512, 512, 256]\"],[\"netcdf4-[512, 512, 512]-[512, 512, 256]\"],[\"netcdf4-[512, 512, 512]-[512, 512, 256]\"],[\"netcdf4-[512, 512, 512]-[512, 512, 256]\"],[\"netcdf4-[512, 512, 512]-[512, 512, 256]\"],[\"netcdf4-[512, 512, 512]-[512, 512, 256]\"],[\"netcdf4-[512, 512, 512]-[512, 512, 256]\"],[\"netcdf4-[512, 512, 512]-[512, 512, 256]\"],[\"netcdf4-[512, 512, 512]-[512, 512, 256]\"],[\"netcdf4-[512, 512, 512]-[512, 512, 256]\"],[\"netcdf4-[512, 512, 512]-[512, 512, 256]\"],[\"hdf5-[512, 512, 512]-[512, 512, 256]\"],[\"hdf5-[512, 512, 512]-[512, 512, 256]\"],[\"hdf5-[512, 512, 512]-[512, 512, 256]\"],[\"hdf5-[512, 512, 512]-[512, 512, 256]\"],[\"hdf5-[512, 512, 512]-[512, 512, 256]\"],[\"hdf5-[512, 512, 512]-[512, 512, 256]\"],[\"hdf5-[512, 512, 512]-[512, 512, 256]\"],[\"hdf5-[512, 512, 512]-[512, 512, 256]\"],[\"hdf5-[512, 512, 512]-[512, 512, 256]\"],[\"hdf5-[512, 512, 512]-[512, 512, 256]\"]],\"hovertemplate\":\"run=6\\u003cbr\\u003eengine=%{x}\\u003cbr\\u003etime taken=%{y}\\u003cbr\\u003eformat=%{customdata[0]}\\u003cextra\\u003e\\u003c\\u002fextra\\u003e\",\"legendgroup\":\"6\",\"marker\":{\"color\":\"#FF6692\"},\"name\":\"6\",\"notched\":false,\"offsetgroup\":\"6\",\"orientation\":\"v\",\"showlegend\":true,\"x\":[\"zarr\",\"zarr\",\"zarr\",\"zarr\",\"zarr\",\"zarr\",\"zarr\",\"zarr\",\"zarr\",\"zarr\",\"netcdf4\",\"netcdf4\",\"netcdf4\",\"netcdf4\",\"netcdf4\",\"netcdf4\",\"netcdf4\",\"netcdf4\",\"netcdf4\",\"netcdf4\",\"hdf5\",\"hdf5\",\"hdf5\",\"hdf5\",\"hdf5\",\"hdf5\",\"hdf5\",\"hdf5\",\"hdf5\",\"hdf5\"],\"x0\":\" \",\"xaxis\":\"x\",\"y\":[0.726337961,0.523674849,0.480964775,0.46715677400000005,0.48670843700000005,0.47968150200000004,0.46848868800000004,0.468050658,0.481170835,0.485542856,0.523326996,0.34771836300000003,0.315980998,0.344455308,0.35278539400000003,0.5349046350000001,0.697091731,0.348696324,0.313698507,0.31383571400000004,0.42915156800000004,0.36907727700000004,0.28373204,0.292041284,0.282439316,0.312224021,0.34645431200000004,0.291772024,0.28979580800000004,0.290126997],\"y0\":\" \",\"yaxis\":\"y\",\"type\":\"box\"},{\"alignmentgroup\":\"True\",\"customdata\":[[\"zarr-[512, 512, 512]-[512, 512, 512]\"],[\"zarr-[512, 512, 512]-[512, 512, 512]\"],[\"zarr-[512, 512, 512]-[512, 512, 512]\"],[\"zarr-[512, 512, 512]-[512, 512, 512]\"],[\"zarr-[512, 512, 512]-[512, 512, 512]\"],[\"zarr-[512, 512, 512]-[512, 512, 512]\"],[\"zarr-[512, 512, 512]-[512, 512, 512]\"],[\"zarr-[512, 512, 512]-[512, 512, 512]\"],[\"zarr-[512, 512, 512]-[512, 512, 512]\"],[\"zarr-[512, 512, 512]-[512, 512, 512]\"],[\"netcdf4-[512, 512, 512]-[512, 512, 512]\"],[\"netcdf4-[512, 512, 512]-[512, 512, 512]\"],[\"netcdf4-[512, 512, 512]-[512, 512, 512]\"],[\"netcdf4-[512, 512, 512]-[512, 512, 512]\"],[\"netcdf4-[512, 512, 512]-[512, 512, 512]\"],[\"netcdf4-[512, 512, 512]-[512, 512, 512]\"],[\"netcdf4-[512, 512, 512]-[512, 512, 512]\"],[\"netcdf4-[512, 512, 512]-[512, 512, 512]\"],[\"netcdf4-[512, 512, 512]-[512, 512, 512]\"],[\"netcdf4-[512, 512, 512]-[512, 512, 512]\"],[\"hdf5-[512, 512, 512]-[512, 512, 512]\"],[\"hdf5-[512, 512, 512]-[512, 512, 512]\"],[\"hdf5-[512, 512, 512]-[512, 512, 512]\"],[\"hdf5-[512, 512, 512]-[512, 512, 512]\"],[\"hdf5-[512, 512, 512]-[512, 512, 512]\"],[\"hdf5-[512, 512, 512]-[512, 512, 512]\"],[\"hdf5-[512, 512, 512]-[512, 512, 512]\"],[\"hdf5-[512, 512, 512]-[512, 512, 512]\"],[\"hdf5-[512, 512, 512]-[512, 512, 512]\"],[\"hdf5-[512, 512, 512]-[512, 512, 512]\"]],\"hovertemplate\":\"run=7\\u003cbr\\u003eengine=%{x}\\u003cbr\\u003etime taken=%{y}\\u003cbr\\u003eformat=%{customdata[0]}\\u003cextra\\u003e\\u003c\\u002fextra\\u003e\",\"legendgroup\":\"7\",\"marker\":{\"color\":\"#B6E880\"},\"name\":\"7\",\"notched\":false,\"offsetgroup\":\"7\",\"orientation\":\"v\",\"showlegend\":true,\"x\":[\"zarr\",\"zarr\",\"zarr\",\"zarr\",\"zarr\",\"zarr\",\"zarr\",\"zarr\",\"zarr\",\"zarr\",\"netcdf4\",\"netcdf4\",\"netcdf4\",\"netcdf4\",\"netcdf4\",\"netcdf4\",\"netcdf4\",\"netcdf4\",\"netcdf4\",\"netcdf4\",\"hdf5\",\"hdf5\",\"hdf5\",\"hdf5\",\"hdf5\",\"hdf5\",\"hdf5\",\"hdf5\",\"hdf5\",\"hdf5\"],\"x0\":\" \",\"xaxis\":\"x\",\"y\":[0.8950659540000001,0.9446840860000001,0.94388729,0.8315148790000001,0.819262417,0.8176201470000001,0.817028666,0.819191114,0.811937299,0.8105739710000001,0.11527150400000001,0.141838884,0.12016710200000001,0.11868851100000001,0.11912513,0.117110691,0.11892630200000001,0.11607412,0.11663060200000001,0.11559393700000001,0.183353216,0.10336550600000001,0.09283052700000001,0.09067678300000001,0.110553382,0.097830052,0.100210216,0.096511632,0.095306263,0.09832729],\"y0\":\" \",\"yaxis\":\"y\",\"type\":\"box\"}],                        {\"template\":{\"data\":{\"histogram2dcontour\":[{\"type\":\"histogram2dcontour\",\"colorbar\":{\"outlinewidth\":0,\"ticks\":\"\"},\"colorscale\":[[0.0,\"#0d0887\"],[0.1111111111111111,\"#46039f\"],[0.2222222222222222,\"#7201a8\"],[0.3333333333333333,\"#9c179e\"],[0.4444444444444444,\"#bd3786\"],[0.5555555555555556,\"#d8576b\"],[0.6666666666666666,\"#ed7953\"],[0.7777777777777778,\"#fb9f3a\"],[0.8888888888888888,\"#fdca26\"],[1.0,\"#f0f921\"]]}],\"choropleth\":[{\"type\":\"choropleth\",\"colorbar\":{\"outlinewidth\":0,\"ticks\":\"\"}}],\"histogram2d\":[{\"type\":\"histogram2d\",\"colorbar\":{\"outlinewidth\":0,\"ticks\":\"\"},\"colorscale\":[[0.0,\"#0d0887\"],[0.1111111111111111,\"#46039f\"],[0.2222222222222222,\"#7201a8\"],[0.3333333333333333,\"#9c179e\"],[0.4444444444444444,\"#bd3786\"],[0.5555555555555556,\"#d8576b\"],[0.6666666666666666,\"#ed7953\"],[0.7777777777777778,\"#fb9f3a\"],[0.8888888888888888,\"#fdca26\"],[1.0,\"#f0f921\"]]}],\"heatmap\":[{\"type\":\"heatmap\",\"colorbar\":{\"outlinewidth\":0,\"ticks\":\"\"},\"colorscale\":[[0.0,\"#0d0887\"],[0.1111111111111111,\"#46039f\"],[0.2222222222222222,\"#7201a8\"],[0.3333333333333333,\"#9c179e\"],[0.4444444444444444,\"#bd3786\"],[0.5555555555555556,\"#d8576b\"],[0.6666666666666666,\"#ed7953\"],[0.7777777777777778,\"#fb9f3a\"],[0.8888888888888888,\"#fdca26\"],[1.0,\"#f0f921\"]]}],\"heatmapgl\":[{\"type\":\"heatmapgl\",\"colorbar\":{\"outlinewidth\":0,\"ticks\":\"\"},\"colorscale\":[[0.0,\"#0d0887\"],[0.1111111111111111,\"#46039f\"],[0.2222222222222222,\"#7201a8\"],[0.3333333333333333,\"#9c179e\"],[0.4444444444444444,\"#bd3786\"],[0.5555555555555556,\"#d8576b\"],[0.6666666666666666,\"#ed7953\"],[0.7777777777777778,\"#fb9f3a\"],[0.8888888888888888,\"#fdca26\"],[1.0,\"#f0f921\"]]}],\"contourcarpet\":[{\"type\":\"contourcarpet\",\"colorbar\":{\"outlinewidth\":0,\"ticks\":\"\"}}],\"contour\":[{\"type\":\"contour\",\"colorbar\":{\"outlinewidth\":0,\"ticks\":\"\"},\"colorscale\":[[0.0,\"#0d0887\"],[0.1111111111111111,\"#46039f\"],[0.2222222222222222,\"#7201a8\"],[0.3333333333333333,\"#9c179e\"],[0.4444444444444444,\"#bd3786\"],[0.5555555555555556,\"#d8576b\"],[0.6666666666666666,\"#ed7953\"],[0.7777777777777778,\"#fb9f3a\"],[0.8888888888888888,\"#fdca26\"],[1.0,\"#f0f921\"]]}],\"surface\":[{\"type\":\"surface\",\"colorbar\":{\"outlinewidth\":0,\"ticks\":\"\"},\"colorscale\":[[0.0,\"#0d0887\"],[0.1111111111111111,\"#46039f\"],[0.2222222222222222,\"#7201a8\"],[0.3333333333333333,\"#9c179e\"],[0.4444444444444444,\"#bd3786\"],[0.5555555555555556,\"#d8576b\"],[0.6666666666666666,\"#ed7953\"],[0.7777777777777778,\"#fb9f3a\"],[0.8888888888888888,\"#fdca26\"],[1.0,\"#f0f921\"]]}],\"mesh3d\":[{\"type\":\"mesh3d\",\"colorbar\":{\"outlinewidth\":0,\"ticks\":\"\"}}],\"scatter\":[{\"fillpattern\":{\"fillmode\":\"overlay\",\"size\":10,\"solidity\":0.2},\"type\":\"scatter\"}],\"parcoords\":[{\"type\":\"parcoords\",\"line\":{\"colorbar\":{\"outlinewidth\":0,\"ticks\":\"\"}}}],\"scatterpolargl\":[{\"type\":\"scatterpolargl\",\"marker\":{\"colorbar\":{\"outlinewidth\":0,\"ticks\":\"\"}}}],\"bar\":[{\"error_x\":{\"color\":\"#2a3f5f\"},\"error_y\":{\"color\":\"#2a3f5f\"},\"marker\":{\"line\":{\"color\":\"#E5ECF6\",\"width\":0.5},\"pattern\":{\"fillmode\":\"overlay\",\"size\":10,\"solidity\":0.2}},\"type\":\"bar\"}],\"scattergeo\":[{\"type\":\"scattergeo\",\"marker\":{\"colorbar\":{\"outlinewidth\":0,\"ticks\":\"\"}}}],\"scatterpolar\":[{\"type\":\"scatterpolar\",\"marker\":{\"colorbar\":{\"outlinewidth\":0,\"ticks\":\"\"}}}],\"histogram\":[{\"marker\":{\"pattern\":{\"fillmode\":\"overlay\",\"size\":10,\"solidity\":0.2}},\"type\":\"histogram\"}],\"scattergl\":[{\"type\":\"scattergl\",\"marker\":{\"colorbar\":{\"outlinewidth\":0,\"ticks\":\"\"}}}],\"scatter3d\":[{\"type\":\"scatter3d\",\"line\":{\"colorbar\":{\"outlinewidth\":0,\"ticks\":\"\"}},\"marker\":{\"colorbar\":{\"outlinewidth\":0,\"ticks\":\"\"}}}],\"scattermapbox\":[{\"type\":\"scattermapbox\",\"marker\":{\"colorbar\":{\"outlinewidth\":0,\"ticks\":\"\"}}}],\"scatterternary\":[{\"type\":\"scatterternary\",\"marker\":{\"colorbar\":{\"outlinewidth\":0,\"ticks\":\"\"}}}],\"scattercarpet\":[{\"type\":\"scattercarpet\",\"marker\":{\"colorbar\":{\"outlinewidth\":0,\"ticks\":\"\"}}}],\"carpet\":[{\"aaxis\":{\"endlinecolor\":\"#2a3f5f\",\"gridcolor\":\"white\",\"linecolor\":\"white\",\"minorgridcolor\":\"white\",\"startlinecolor\":\"#2a3f5f\"},\"baxis\":{\"endlinecolor\":\"#2a3f5f\",\"gridcolor\":\"white\",\"linecolor\":\"white\",\"minorgridcolor\":\"white\",\"startlinecolor\":\"#2a3f5f\"},\"type\":\"carpet\"}],\"table\":[{\"cells\":{\"fill\":{\"color\":\"#EBF0F8\"},\"line\":{\"color\":\"white\"}},\"header\":{\"fill\":{\"color\":\"#C8D4E3\"},\"line\":{\"color\":\"white\"}},\"type\":\"table\"}],\"barpolar\":[{\"marker\":{\"line\":{\"color\":\"#E5ECF6\",\"width\":0.5},\"pattern\":{\"fillmode\":\"overlay\",\"size\":10,\"solidity\":0.2}},\"type\":\"barpolar\"}],\"pie\":[{\"automargin\":true,\"type\":\"pie\"}]},\"layout\":{\"autotypenumbers\":\"strict\",\"colorway\":[\"#636efa\",\"#EF553B\",\"#00cc96\",\"#ab63fa\",\"#FFA15A\",\"#19d3f3\",\"#FF6692\",\"#B6E880\",\"#FF97FF\",\"#FECB52\"],\"font\":{\"color\":\"#2a3f5f\"},\"hovermode\":\"closest\",\"hoverlabel\":{\"align\":\"left\"},\"paper_bgcolor\":\"white\",\"plot_bgcolor\":\"#E5ECF6\",\"polar\":{\"bgcolor\":\"#E5ECF6\",\"angularaxis\":{\"gridcolor\":\"white\",\"linecolor\":\"white\",\"ticks\":\"\"},\"radialaxis\":{\"gridcolor\":\"white\",\"linecolor\":\"white\",\"ticks\":\"\"}},\"ternary\":{\"bgcolor\":\"#E5ECF6\",\"aaxis\":{\"gridcolor\":\"white\",\"linecolor\":\"white\",\"ticks\":\"\"},\"baxis\":{\"gridcolor\":\"white\",\"linecolor\":\"white\",\"ticks\":\"\"},\"caxis\":{\"gridcolor\":\"white\",\"linecolor\":\"white\",\"ticks\":\"\"}},\"coloraxis\":{\"colorbar\":{\"outlinewidth\":0,\"ticks\":\"\"}},\"colorscale\":{\"sequential\":[[0.0,\"#0d0887\"],[0.1111111111111111,\"#46039f\"],[0.2222222222222222,\"#7201a8\"],[0.3333333333333333,\"#9c179e\"],[0.4444444444444444,\"#bd3786\"],[0.5555555555555556,\"#d8576b\"],[0.6666666666666666,\"#ed7953\"],[0.7777777777777778,\"#fb9f3a\"],[0.8888888888888888,\"#fdca26\"],[1.0,\"#f0f921\"]],\"sequentialminus\":[[0.0,\"#0d0887\"],[0.1111111111111111,\"#46039f\"],[0.2222222222222222,\"#7201a8\"],[0.3333333333333333,\"#9c179e\"],[0.4444444444444444,\"#bd3786\"],[0.5555555555555556,\"#d8576b\"],[0.6666666666666666,\"#ed7953\"],[0.7777777777777778,\"#fb9f3a\"],[0.8888888888888888,\"#fdca26\"],[1.0,\"#f0f921\"]],\"diverging\":[[0,\"#8e0152\"],[0.1,\"#c51b7d\"],[0.2,\"#de77ae\"],[0.3,\"#f1b6da\"],[0.4,\"#fde0ef\"],[0.5,\"#f7f7f7\"],[0.6,\"#e6f5d0\"],[0.7,\"#b8e186\"],[0.8,\"#7fbc41\"],[0.9,\"#4d9221\"],[1,\"#276419\"]]},\"xaxis\":{\"gridcolor\":\"white\",\"linecolor\":\"white\",\"ticks\":\"\",\"title\":{\"standoff\":15},\"zerolinecolor\":\"white\",\"automargin\":true,\"zerolinewidth\":2},\"yaxis\":{\"gridcolor\":\"white\",\"linecolor\":\"white\",\"ticks\":\"\",\"title\":{\"standoff\":15},\"zerolinecolor\":\"white\",\"automargin\":true,\"zerolinewidth\":2},\"scene\":{\"xaxis\":{\"backgroundcolor\":\"#E5ECF6\",\"gridcolor\":\"white\",\"linecolor\":\"white\",\"showbackground\":true,\"ticks\":\"\",\"zerolinecolor\":\"white\",\"gridwidth\":2},\"yaxis\":{\"backgroundcolor\":\"#E5ECF6\",\"gridcolor\":\"white\",\"linecolor\":\"white\",\"showbackground\":true,\"ticks\":\"\",\"zerolinecolor\":\"white\",\"gridwidth\":2},\"zaxis\":{\"backgroundcolor\":\"#E5ECF6\",\"gridcolor\":\"white\",\"linecolor\":\"white\",\"showbackground\":true,\"ticks\":\"\",\"zerolinecolor\":\"white\",\"gridwidth\":2}},\"shapedefaults\":{\"line\":{\"color\":\"#2a3f5f\"}},\"annotationdefaults\":{\"arrowcolor\":\"#2a3f5f\",\"arrowhead\":0,\"arrowwidth\":1},\"geo\":{\"bgcolor\":\"white\",\"landcolor\":\"#E5ECF6\",\"subunitcolor\":\"white\",\"showland\":true,\"showlakes\":true,\"lakecolor\":\"white\"},\"title\":{\"x\":0.05},\"mapbox\":{\"style\":\"light\"}}},\"xaxis\":{\"anchor\":\"y\",\"domain\":[0.0,1.0],\"title\":{\"text\":\"engine\"}},\"yaxis\":{\"anchor\":\"x\",\"domain\":[0.0,1.0],\"title\":{\"text\":\"time taken\"},\"type\":\"log\"},\"legend\":{\"title\":{\"text\":\"run\"},\"tracegroupgap\":0},\"margin\":{\"t\":60},\"boxmode\":\"group\"},                        {\"responsive\": true}                    ).then(function(){\n",
       "                            \n",
       "var gd = document.getElementById('546b9233-fb01-4391-a54d-ccc1ecbc5a44');\n",
       "var x = new MutationObserver(function (mutations, observer) {{\n",
       "        var display = window.getComputedStyle(gd).display;\n",
       "        if (!display || display === 'none') {{\n",
       "            console.log([gd, 'removed!']);\n",
       "            Plotly.purge(gd);\n",
       "            observer.disconnect();\n",
       "        }}\n",
       "}});\n",
       "\n",
       "// Listen for the removal of the full notebook cells\n",
       "var notebookContainer = gd.closest('#notebook-container');\n",
       "if (notebookContainer) {{\n",
       "    x.observe(notebookContainer, {childList: true});\n",
       "}}\n",
       "\n",
       "// Listen for the clearing of the current output cell\n",
       "var outputEl = gd.closest('.output');\n",
       "if (outputEl) {{\n",
       "    x.observe(outputEl, {childList: true});\n",
       "}}\n",
       "\n",
       "                        })                };                });            </script>        </div>"
      ]
     },
     "metadata": {},
     "output_type": "display_data"
    },
    {
     "data": {
      "application/vnd.plotly.v1+json": {
       "config": {
        "plotlyServerURL": "https://plot.ly"
       },
       "data": [
        {
         "alignmentgroup": "True",
         "customdata": [
          [
           "zarr-[512, 512, 512]-[512, 512, 1]"
          ],
          [
           "zarr-[512, 512, 512]-[512, 512, 1]"
          ],
          [
           "zarr-[512, 512, 512]-[512, 512, 1]"
          ],
          [
           "zarr-[512, 512, 512]-[512, 512, 1]"
          ],
          [
           "zarr-[512, 512, 512]-[512, 512, 1]"
          ],
          [
           "zarr-[512, 512, 512]-[512, 512, 1]"
          ],
          [
           "zarr-[512, 512, 512]-[512, 512, 1]"
          ],
          [
           "zarr-[512, 512, 512]-[512, 512, 1]"
          ],
          [
           "zarr-[512, 512, 512]-[512, 512, 1]"
          ],
          [
           "zarr-[512, 512, 512]-[512, 512, 1]"
          ],
          [
           "zarr-[512, 512, 512]-[512, 512, 8]"
          ],
          [
           "zarr-[512, 512, 512]-[512, 512, 8]"
          ],
          [
           "zarr-[512, 512, 512]-[512, 512, 8]"
          ],
          [
           "zarr-[512, 512, 512]-[512, 512, 8]"
          ],
          [
           "zarr-[512, 512, 512]-[512, 512, 8]"
          ],
          [
           "zarr-[512, 512, 512]-[512, 512, 8]"
          ],
          [
           "zarr-[512, 512, 512]-[512, 512, 8]"
          ],
          [
           "zarr-[512, 512, 512]-[512, 512, 8]"
          ],
          [
           "zarr-[512, 512, 512]-[512, 512, 8]"
          ],
          [
           "zarr-[512, 512, 512]-[512, 512, 8]"
          ],
          [
           "zarr-[512, 512, 512]-[512, 512, 16]"
          ],
          [
           "zarr-[512, 512, 512]-[512, 512, 16]"
          ],
          [
           "zarr-[512, 512, 512]-[512, 512, 16]"
          ],
          [
           "zarr-[512, 512, 512]-[512, 512, 16]"
          ],
          [
           "zarr-[512, 512, 512]-[512, 512, 16]"
          ],
          [
           "zarr-[512, 512, 512]-[512, 512, 16]"
          ],
          [
           "zarr-[512, 512, 512]-[512, 512, 16]"
          ],
          [
           "zarr-[512, 512, 512]-[512, 512, 16]"
          ],
          [
           "zarr-[512, 512, 512]-[512, 512, 16]"
          ],
          [
           "zarr-[512, 512, 512]-[512, 512, 16]"
          ],
          [
           "zarr-[512, 512, 512]-[512, 512, 32]"
          ],
          [
           "zarr-[512, 512, 512]-[512, 512, 32]"
          ],
          [
           "zarr-[512, 512, 512]-[512, 512, 32]"
          ],
          [
           "zarr-[512, 512, 512]-[512, 512, 32]"
          ],
          [
           "zarr-[512, 512, 512]-[512, 512, 32]"
          ],
          [
           "zarr-[512, 512, 512]-[512, 512, 32]"
          ],
          [
           "zarr-[512, 512, 512]-[512, 512, 32]"
          ],
          [
           "zarr-[512, 512, 512]-[512, 512, 32]"
          ],
          [
           "zarr-[512, 512, 512]-[512, 512, 32]"
          ],
          [
           "zarr-[512, 512, 512]-[512, 512, 32]"
          ],
          [
           "zarr-[512, 512, 512]-[512, 512, 64]"
          ],
          [
           "zarr-[512, 512, 512]-[512, 512, 64]"
          ],
          [
           "zarr-[512, 512, 512]-[512, 512, 64]"
          ],
          [
           "zarr-[512, 512, 512]-[512, 512, 64]"
          ],
          [
           "zarr-[512, 512, 512]-[512, 512, 64]"
          ],
          [
           "zarr-[512, 512, 512]-[512, 512, 64]"
          ],
          [
           "zarr-[512, 512, 512]-[512, 512, 64]"
          ],
          [
           "zarr-[512, 512, 512]-[512, 512, 64]"
          ],
          [
           "zarr-[512, 512, 512]-[512, 512, 64]"
          ],
          [
           "zarr-[512, 512, 512]-[512, 512, 64]"
          ],
          [
           "zarr-[512, 512, 512]-[512, 512, 128]"
          ],
          [
           "zarr-[512, 512, 512]-[512, 512, 128]"
          ],
          [
           "zarr-[512, 512, 512]-[512, 512, 128]"
          ],
          [
           "zarr-[512, 512, 512]-[512, 512, 128]"
          ],
          [
           "zarr-[512, 512, 512]-[512, 512, 128]"
          ],
          [
           "zarr-[512, 512, 512]-[512, 512, 128]"
          ],
          [
           "zarr-[512, 512, 512]-[512, 512, 128]"
          ],
          [
           "zarr-[512, 512, 512]-[512, 512, 128]"
          ],
          [
           "zarr-[512, 512, 512]-[512, 512, 128]"
          ],
          [
           "zarr-[512, 512, 512]-[512, 512, 128]"
          ],
          [
           "zarr-[512, 512, 512]-[512, 512, 256]"
          ],
          [
           "zarr-[512, 512, 512]-[512, 512, 256]"
          ],
          [
           "zarr-[512, 512, 512]-[512, 512, 256]"
          ],
          [
           "zarr-[512, 512, 512]-[512, 512, 256]"
          ],
          [
           "zarr-[512, 512, 512]-[512, 512, 256]"
          ],
          [
           "zarr-[512, 512, 512]-[512, 512, 256]"
          ],
          [
           "zarr-[512, 512, 512]-[512, 512, 256]"
          ],
          [
           "zarr-[512, 512, 512]-[512, 512, 256]"
          ],
          [
           "zarr-[512, 512, 512]-[512, 512, 256]"
          ],
          [
           "zarr-[512, 512, 512]-[512, 512, 256]"
          ],
          [
           "zarr-[512, 512, 512]-[512, 512, 512]"
          ],
          [
           "zarr-[512, 512, 512]-[512, 512, 512]"
          ],
          [
           "zarr-[512, 512, 512]-[512, 512, 512]"
          ],
          [
           "zarr-[512, 512, 512]-[512, 512, 512]"
          ],
          [
           "zarr-[512, 512, 512]-[512, 512, 512]"
          ],
          [
           "zarr-[512, 512, 512]-[512, 512, 512]"
          ],
          [
           "zarr-[512, 512, 512]-[512, 512, 512]"
          ],
          [
           "zarr-[512, 512, 512]-[512, 512, 512]"
          ],
          [
           "zarr-[512, 512, 512]-[512, 512, 512]"
          ],
          [
           "zarr-[512, 512, 512]-[512, 512, 512]"
          ]
         ],
         "hovertemplate": "engine=zarr<br>filesize per chunk=%{x}<br>time taken=%{y}<br>format=%{customdata[0]}<extra></extra>",
         "legendgroup": "zarr",
         "marker": {
          "color": "#636efa"
         },
         "name": "zarr",
         "notched": false,
         "offsetgroup": "zarr",
         "orientation": "v",
         "showlegend": true,
         "type": "box",
         "x": [
          "2.0 MB",
          "2.0 MB",
          "2.0 MB",
          "2.0 MB",
          "2.0 MB",
          "2.0 MB",
          "2.0 MB",
          "2.0 MB",
          "2.0 MB",
          "2.0 MB",
          "16.0 MB",
          "16.0 MB",
          "16.0 MB",
          "16.0 MB",
          "16.0 MB",
          "16.0 MB",
          "16.0 MB",
          "16.0 MB",
          "16.0 MB",
          "16.0 MB",
          "32.0 MB",
          "32.0 MB",
          "32.0 MB",
          "32.0 MB",
          "32.0 MB",
          "32.0 MB",
          "32.0 MB",
          "32.0 MB",
          "32.0 MB",
          "32.0 MB",
          "64.0 MB",
          "64.0 MB",
          "64.0 MB",
          "64.0 MB",
          "64.0 MB",
          "64.0 MB",
          "64.0 MB",
          "64.0 MB",
          "64.0 MB",
          "64.0 MB",
          "128.0 MB",
          "128.0 MB",
          "128.0 MB",
          "128.0 MB",
          "128.0 MB",
          "128.0 MB",
          "128.0 MB",
          "128.0 MB",
          "128.0 MB",
          "128.0 MB",
          "256.0 MB",
          "256.0 MB",
          "256.0 MB",
          "256.0 MB",
          "256.0 MB",
          "256.0 MB",
          "256.0 MB",
          "256.0 MB",
          "256.0 MB",
          "256.0 MB",
          "512.0 MB",
          "512.0 MB",
          "512.0 MB",
          "512.0 MB",
          "512.0 MB",
          "512.0 MB",
          "512.0 MB",
          "512.0 MB",
          "512.0 MB",
          "512.0 MB",
          "1024.0 MB",
          "1024.0 MB",
          "1024.0 MB",
          "1024.0 MB",
          "1024.0 MB",
          "1024.0 MB",
          "1024.0 MB",
          "1024.0 MB",
          "1024.0 MB",
          "1024.0 MB"
         ],
         "x0": " ",
         "xaxis": "x",
         "y": [
          1.254719685,
          1.248066141,
          1.292569566,
          1.314146394,
          1.313602982,
          1.289282074,
          1.254550035,
          1.266733049,
          1.267689895,
          1.260372463,
          0.47734869999999996,
          0.47810641600000003,
          0.475131742,
          0.49847422,
          0.471999887,
          0.49030078200000005,
          0.47879551000000004,
          0.479558588,
          0.47660526900000005,
          0.46878278,
          0.341167112,
          0.346485843,
          0.337719557,
          0.326252441,
          0.317186783,
          0.32556866900000003,
          0.322510964,
          0.325034704,
          0.352799583,
          0.32193485600000005,
          0.300894643,
          0.462857507,
          0.30194046700000005,
          0.299499148,
          0.30833920800000003,
          0.31830092,
          0.30179614600000004,
          0.309152392,
          0.31024292600000003,
          0.312736871,
          0.302416801,
          0.269407463,
          0.268864951,
          0.27021970500000003,
          0.26755000300000004,
          0.27700697700000004,
          0.270246684,
          0.278290395,
          0.27775366700000004,
          0.289305542,
          0.35860182500000004,
          0.404696704,
          0.6036628110000001,
          0.349247028,
          0.32979555400000005,
          0.327063043,
          0.341437916,
          0.329447303,
          0.359248818,
          0.332353106,
          0.726337961,
          0.523674849,
          0.480964775,
          0.46715677400000005,
          0.48670843700000005,
          0.47968150200000004,
          0.46848868800000004,
          0.468050658,
          0.481170835,
          0.485542856,
          0.8950659540000001,
          0.9446840860000001,
          0.94388729,
          0.8315148790000001,
          0.819262417,
          0.8176201470000001,
          0.817028666,
          0.819191114,
          0.811937299,
          0.8105739710000001
         ],
         "y0": " ",
         "yaxis": "y"
        },
        {
         "alignmentgroup": "True",
         "customdata": [
          [
           "netcdf4-[512, 512, 512]-[512, 512, 1]"
          ],
          [
           "netcdf4-[512, 512, 512]-[512, 512, 1]"
          ],
          [
           "netcdf4-[512, 512, 512]-[512, 512, 1]"
          ],
          [
           "netcdf4-[512, 512, 512]-[512, 512, 1]"
          ],
          [
           "netcdf4-[512, 512, 512]-[512, 512, 1]"
          ],
          [
           "netcdf4-[512, 512, 512]-[512, 512, 1]"
          ],
          [
           "netcdf4-[512, 512, 512]-[512, 512, 1]"
          ],
          [
           "netcdf4-[512, 512, 512]-[512, 512, 1]"
          ],
          [
           "netcdf4-[512, 512, 512]-[512, 512, 1]"
          ],
          [
           "netcdf4-[512, 512, 512]-[512, 512, 1]"
          ],
          [
           "netcdf4-[512, 512, 512]-[512, 512, 8]"
          ],
          [
           "netcdf4-[512, 512, 512]-[512, 512, 8]"
          ],
          [
           "netcdf4-[512, 512, 512]-[512, 512, 8]"
          ],
          [
           "netcdf4-[512, 512, 512]-[512, 512, 8]"
          ],
          [
           "netcdf4-[512, 512, 512]-[512, 512, 8]"
          ],
          [
           "netcdf4-[512, 512, 512]-[512, 512, 8]"
          ],
          [
           "netcdf4-[512, 512, 512]-[512, 512, 8]"
          ],
          [
           "netcdf4-[512, 512, 512]-[512, 512, 8]"
          ],
          [
           "netcdf4-[512, 512, 512]-[512, 512, 8]"
          ],
          [
           "netcdf4-[512, 512, 512]-[512, 512, 8]"
          ],
          [
           "netcdf4-[512, 512, 512]-[512, 512, 16]"
          ],
          [
           "netcdf4-[512, 512, 512]-[512, 512, 16]"
          ],
          [
           "netcdf4-[512, 512, 512]-[512, 512, 16]"
          ],
          [
           "netcdf4-[512, 512, 512]-[512, 512, 16]"
          ],
          [
           "netcdf4-[512, 512, 512]-[512, 512, 16]"
          ],
          [
           "netcdf4-[512, 512, 512]-[512, 512, 16]"
          ],
          [
           "netcdf4-[512, 512, 512]-[512, 512, 16]"
          ],
          [
           "netcdf4-[512, 512, 512]-[512, 512, 16]"
          ],
          [
           "netcdf4-[512, 512, 512]-[512, 512, 16]"
          ],
          [
           "netcdf4-[512, 512, 512]-[512, 512, 16]"
          ],
          [
           "netcdf4-[512, 512, 512]-[512, 512, 32]"
          ],
          [
           "netcdf4-[512, 512, 512]-[512, 512, 32]"
          ],
          [
           "netcdf4-[512, 512, 512]-[512, 512, 32]"
          ],
          [
           "netcdf4-[512, 512, 512]-[512, 512, 32]"
          ],
          [
           "netcdf4-[512, 512, 512]-[512, 512, 32]"
          ],
          [
           "netcdf4-[512, 512, 512]-[512, 512, 32]"
          ],
          [
           "netcdf4-[512, 512, 512]-[512, 512, 32]"
          ],
          [
           "netcdf4-[512, 512, 512]-[512, 512, 32]"
          ],
          [
           "netcdf4-[512, 512, 512]-[512, 512, 32]"
          ],
          [
           "netcdf4-[512, 512, 512]-[512, 512, 32]"
          ],
          [
           "netcdf4-[512, 512, 512]-[512, 512, 64]"
          ],
          [
           "netcdf4-[512, 512, 512]-[512, 512, 64]"
          ],
          [
           "netcdf4-[512, 512, 512]-[512, 512, 64]"
          ],
          [
           "netcdf4-[512, 512, 512]-[512, 512, 64]"
          ],
          [
           "netcdf4-[512, 512, 512]-[512, 512, 64]"
          ],
          [
           "netcdf4-[512, 512, 512]-[512, 512, 64]"
          ],
          [
           "netcdf4-[512, 512, 512]-[512, 512, 64]"
          ],
          [
           "netcdf4-[512, 512, 512]-[512, 512, 64]"
          ],
          [
           "netcdf4-[512, 512, 512]-[512, 512, 64]"
          ],
          [
           "netcdf4-[512, 512, 512]-[512, 512, 64]"
          ],
          [
           "netcdf4-[512, 512, 512]-[512, 512, 128]"
          ],
          [
           "netcdf4-[512, 512, 512]-[512, 512, 128]"
          ],
          [
           "netcdf4-[512, 512, 512]-[512, 512, 128]"
          ],
          [
           "netcdf4-[512, 512, 512]-[512, 512, 128]"
          ],
          [
           "netcdf4-[512, 512, 512]-[512, 512, 128]"
          ],
          [
           "netcdf4-[512, 512, 512]-[512, 512, 128]"
          ],
          [
           "netcdf4-[512, 512, 512]-[512, 512, 128]"
          ],
          [
           "netcdf4-[512, 512, 512]-[512, 512, 128]"
          ],
          [
           "netcdf4-[512, 512, 512]-[512, 512, 128]"
          ],
          [
           "netcdf4-[512, 512, 512]-[512, 512, 128]"
          ],
          [
           "netcdf4-[512, 512, 512]-[512, 512, 256]"
          ],
          [
           "netcdf4-[512, 512, 512]-[512, 512, 256]"
          ],
          [
           "netcdf4-[512, 512, 512]-[512, 512, 256]"
          ],
          [
           "netcdf4-[512, 512, 512]-[512, 512, 256]"
          ],
          [
           "netcdf4-[512, 512, 512]-[512, 512, 256]"
          ],
          [
           "netcdf4-[512, 512, 512]-[512, 512, 256]"
          ],
          [
           "netcdf4-[512, 512, 512]-[512, 512, 256]"
          ],
          [
           "netcdf4-[512, 512, 512]-[512, 512, 256]"
          ],
          [
           "netcdf4-[512, 512, 512]-[512, 512, 256]"
          ],
          [
           "netcdf4-[512, 512, 512]-[512, 512, 256]"
          ],
          [
           "netcdf4-[512, 512, 512]-[512, 512, 512]"
          ],
          [
           "netcdf4-[512, 512, 512]-[512, 512, 512]"
          ],
          [
           "netcdf4-[512, 512, 512]-[512, 512, 512]"
          ],
          [
           "netcdf4-[512, 512, 512]-[512, 512, 512]"
          ],
          [
           "netcdf4-[512, 512, 512]-[512, 512, 512]"
          ],
          [
           "netcdf4-[512, 512, 512]-[512, 512, 512]"
          ],
          [
           "netcdf4-[512, 512, 512]-[512, 512, 512]"
          ],
          [
           "netcdf4-[512, 512, 512]-[512, 512, 512]"
          ],
          [
           "netcdf4-[512, 512, 512]-[512, 512, 512]"
          ],
          [
           "netcdf4-[512, 512, 512]-[512, 512, 512]"
          ]
         ],
         "hovertemplate": "engine=netcdf4<br>filesize per chunk=%{x}<br>time taken=%{y}<br>format=%{customdata[0]}<extra></extra>",
         "legendgroup": "netcdf4",
         "marker": {
          "color": "#EF553B"
         },
         "name": "netcdf4",
         "notched": false,
         "offsetgroup": "netcdf4",
         "orientation": "v",
         "showlegend": true,
         "type": "box",
         "x": [
          "2.0 MB",
          "2.0 MB",
          "2.0 MB",
          "2.0 MB",
          "2.0 MB",
          "2.0 MB",
          "2.0 MB",
          "2.0 MB",
          "2.0 MB",
          "2.0 MB",
          "16.0 MB",
          "16.0 MB",
          "16.0 MB",
          "16.0 MB",
          "16.0 MB",
          "16.0 MB",
          "16.0 MB",
          "16.0 MB",
          "16.0 MB",
          "16.0 MB",
          "32.0 MB",
          "32.0 MB",
          "32.0 MB",
          "32.0 MB",
          "32.0 MB",
          "32.0 MB",
          "32.0 MB",
          "32.0 MB",
          "32.0 MB",
          "32.0 MB",
          "64.0 MB",
          "64.0 MB",
          "64.0 MB",
          "64.0 MB",
          "64.0 MB",
          "64.0 MB",
          "64.0 MB",
          "64.0 MB",
          "64.0 MB",
          "64.0 MB",
          "128.0 MB",
          "128.0 MB",
          "128.0 MB",
          "128.0 MB",
          "128.0 MB",
          "128.0 MB",
          "128.0 MB",
          "128.0 MB",
          "128.0 MB",
          "128.0 MB",
          "256.0 MB",
          "256.0 MB",
          "256.0 MB",
          "256.0 MB",
          "256.0 MB",
          "256.0 MB",
          "256.0 MB",
          "256.0 MB",
          "256.0 MB",
          "256.0 MB",
          "512.0 MB",
          "512.0 MB",
          "512.0 MB",
          "512.0 MB",
          "512.0 MB",
          "512.0 MB",
          "512.0 MB",
          "512.0 MB",
          "512.0 MB",
          "512.0 MB",
          "1024.0 MB",
          "1024.0 MB",
          "1024.0 MB",
          "1024.0 MB",
          "1024.0 MB",
          "1024.0 MB",
          "1024.0 MB",
          "1024.0 MB",
          "1024.0 MB",
          "1024.0 MB"
         ],
         "x0": " ",
         "xaxis": "x",
         "y": [
          1.066638576,
          1.101389066,
          1.097299316,
          1.046411391,
          1.165832655,
          1.076762198,
          1.208166825,
          1.104800169,
          1.121934926,
          1.051151894,
          0.35543492200000004,
          0.36908632900000005,
          0.343790335,
          0.347241096,
          0.34522847100000004,
          0.340736661,
          0.34947300800000003,
          0.34388356600000003,
          0.34354955600000003,
          0.342198532,
          0.30870316800000003,
          0.32929330700000004,
          0.30866935900000003,
          0.310044934,
          0.327120401,
          0.325595063,
          0.318164857,
          0.320311499,
          0.31708172300000004,
          0.31712259200000004,
          0.284299354,
          0.309089053,
          0.284274168,
          0.275440571,
          0.278493058,
          0.28027144400000004,
          0.30230928300000004,
          0.28593648800000004,
          0.28593570700000004,
          0.287834986,
          0.8994026220000001,
          0.910529531,
          0.8986453980000001,
          0.8828881270000001,
          0.875781392,
          0.9091029700000001,
          0.8770661930000001,
          0.88689352,
          0.87807879,
          0.8827927480000001,
          0.527823544,
          0.5717007780000001,
          0.540869111,
          0.532881676,
          0.526184161,
          0.5494407290000001,
          0.548037165,
          0.570734611,
          0.5497473420000001,
          0.524087209,
          0.523326996,
          0.34771836300000003,
          0.315980998,
          0.344455308,
          0.35278539400000003,
          0.5349046350000001,
          0.697091731,
          0.348696324,
          0.313698507,
          0.31383571400000004,
          0.11527150400000001,
          0.141838884,
          0.12016710200000001,
          0.11868851100000001,
          0.11912513,
          0.117110691,
          0.11892630200000001,
          0.11607412,
          0.11663060200000001,
          0.11559393700000001
         ],
         "y0": " ",
         "yaxis": "y"
        },
        {
         "alignmentgroup": "True",
         "customdata": [
          [
           "hdf5-[512, 512, 512]-[512, 512, 1]"
          ],
          [
           "hdf5-[512, 512, 512]-[512, 512, 1]"
          ],
          [
           "hdf5-[512, 512, 512]-[512, 512, 1]"
          ],
          [
           "hdf5-[512, 512, 512]-[512, 512, 1]"
          ],
          [
           "hdf5-[512, 512, 512]-[512, 512, 1]"
          ],
          [
           "hdf5-[512, 512, 512]-[512, 512, 1]"
          ],
          [
           "hdf5-[512, 512, 512]-[512, 512, 1]"
          ],
          [
           "hdf5-[512, 512, 512]-[512, 512, 1]"
          ],
          [
           "hdf5-[512, 512, 512]-[512, 512, 1]"
          ],
          [
           "hdf5-[512, 512, 512]-[512, 512, 1]"
          ],
          [
           "hdf5-[512, 512, 512]-[512, 512, 8]"
          ],
          [
           "hdf5-[512, 512, 512]-[512, 512, 8]"
          ],
          [
           "hdf5-[512, 512, 512]-[512, 512, 8]"
          ],
          [
           "hdf5-[512, 512, 512]-[512, 512, 8]"
          ],
          [
           "hdf5-[512, 512, 512]-[512, 512, 8]"
          ],
          [
           "hdf5-[512, 512, 512]-[512, 512, 8]"
          ],
          [
           "hdf5-[512, 512, 512]-[512, 512, 8]"
          ],
          [
           "hdf5-[512, 512, 512]-[512, 512, 8]"
          ],
          [
           "hdf5-[512, 512, 512]-[512, 512, 8]"
          ],
          [
           "hdf5-[512, 512, 512]-[512, 512, 8]"
          ],
          [
           "hdf5-[512, 512, 512]-[512, 512, 16]"
          ],
          [
           "hdf5-[512, 512, 512]-[512, 512, 16]"
          ],
          [
           "hdf5-[512, 512, 512]-[512, 512, 16]"
          ],
          [
           "hdf5-[512, 512, 512]-[512, 512, 16]"
          ],
          [
           "hdf5-[512, 512, 512]-[512, 512, 16]"
          ],
          [
           "hdf5-[512, 512, 512]-[512, 512, 16]"
          ],
          [
           "hdf5-[512, 512, 512]-[512, 512, 16]"
          ],
          [
           "hdf5-[512, 512, 512]-[512, 512, 16]"
          ],
          [
           "hdf5-[512, 512, 512]-[512, 512, 16]"
          ],
          [
           "hdf5-[512, 512, 512]-[512, 512, 16]"
          ],
          [
           "hdf5-[512, 512, 512]-[512, 512, 32]"
          ],
          [
           "hdf5-[512, 512, 512]-[512, 512, 32]"
          ],
          [
           "hdf5-[512, 512, 512]-[512, 512, 32]"
          ],
          [
           "hdf5-[512, 512, 512]-[512, 512, 32]"
          ],
          [
           "hdf5-[512, 512, 512]-[512, 512, 32]"
          ],
          [
           "hdf5-[512, 512, 512]-[512, 512, 32]"
          ],
          [
           "hdf5-[512, 512, 512]-[512, 512, 32]"
          ],
          [
           "hdf5-[512, 512, 512]-[512, 512, 32]"
          ],
          [
           "hdf5-[512, 512, 512]-[512, 512, 32]"
          ],
          [
           "hdf5-[512, 512, 512]-[512, 512, 32]"
          ],
          [
           "hdf5-[512, 512, 512]-[512, 512, 64]"
          ],
          [
           "hdf5-[512, 512, 512]-[512, 512, 64]"
          ],
          [
           "hdf5-[512, 512, 512]-[512, 512, 64]"
          ],
          [
           "hdf5-[512, 512, 512]-[512, 512, 64]"
          ],
          [
           "hdf5-[512, 512, 512]-[512, 512, 64]"
          ],
          [
           "hdf5-[512, 512, 512]-[512, 512, 64]"
          ],
          [
           "hdf5-[512, 512, 512]-[512, 512, 64]"
          ],
          [
           "hdf5-[512, 512, 512]-[512, 512, 64]"
          ],
          [
           "hdf5-[512, 512, 512]-[512, 512, 64]"
          ],
          [
           "hdf5-[512, 512, 512]-[512, 512, 64]"
          ],
          [
           "hdf5-[512, 512, 512]-[512, 512, 128]"
          ],
          [
           "hdf5-[512, 512, 512]-[512, 512, 128]"
          ],
          [
           "hdf5-[512, 512, 512]-[512, 512, 128]"
          ],
          [
           "hdf5-[512, 512, 512]-[512, 512, 128]"
          ],
          [
           "hdf5-[512, 512, 512]-[512, 512, 128]"
          ],
          [
           "hdf5-[512, 512, 512]-[512, 512, 128]"
          ],
          [
           "hdf5-[512, 512, 512]-[512, 512, 128]"
          ],
          [
           "hdf5-[512, 512, 512]-[512, 512, 128]"
          ],
          [
           "hdf5-[512, 512, 512]-[512, 512, 128]"
          ],
          [
           "hdf5-[512, 512, 512]-[512, 512, 128]"
          ],
          [
           "hdf5-[512, 512, 512]-[512, 512, 256]"
          ],
          [
           "hdf5-[512, 512, 512]-[512, 512, 256]"
          ],
          [
           "hdf5-[512, 512, 512]-[512, 512, 256]"
          ],
          [
           "hdf5-[512, 512, 512]-[512, 512, 256]"
          ],
          [
           "hdf5-[512, 512, 512]-[512, 512, 256]"
          ],
          [
           "hdf5-[512, 512, 512]-[512, 512, 256]"
          ],
          [
           "hdf5-[512, 512, 512]-[512, 512, 256]"
          ],
          [
           "hdf5-[512, 512, 512]-[512, 512, 256]"
          ],
          [
           "hdf5-[512, 512, 512]-[512, 512, 256]"
          ],
          [
           "hdf5-[512, 512, 512]-[512, 512, 256]"
          ],
          [
           "hdf5-[512, 512, 512]-[512, 512, 512]"
          ],
          [
           "hdf5-[512, 512, 512]-[512, 512, 512]"
          ],
          [
           "hdf5-[512, 512, 512]-[512, 512, 512]"
          ],
          [
           "hdf5-[512, 512, 512]-[512, 512, 512]"
          ],
          [
           "hdf5-[512, 512, 512]-[512, 512, 512]"
          ],
          [
           "hdf5-[512, 512, 512]-[512, 512, 512]"
          ],
          [
           "hdf5-[512, 512, 512]-[512, 512, 512]"
          ],
          [
           "hdf5-[512, 512, 512]-[512, 512, 512]"
          ],
          [
           "hdf5-[512, 512, 512]-[512, 512, 512]"
          ],
          [
           "hdf5-[512, 512, 512]-[512, 512, 512]"
          ]
         ],
         "hovertemplate": "engine=hdf5<br>filesize per chunk=%{x}<br>time taken=%{y}<br>format=%{customdata[0]}<extra></extra>",
         "legendgroup": "hdf5",
         "marker": {
          "color": "#00cc96"
         },
         "name": "hdf5",
         "notched": false,
         "offsetgroup": "hdf5",
         "orientation": "v",
         "showlegend": true,
         "type": "box",
         "x": [
          "2.0 MB",
          "2.0 MB",
          "2.0 MB",
          "2.0 MB",
          "2.0 MB",
          "2.0 MB",
          "2.0 MB",
          "2.0 MB",
          "2.0 MB",
          "2.0 MB",
          "16.0 MB",
          "16.0 MB",
          "16.0 MB",
          "16.0 MB",
          "16.0 MB",
          "16.0 MB",
          "16.0 MB",
          "16.0 MB",
          "16.0 MB",
          "16.0 MB",
          "32.0 MB",
          "32.0 MB",
          "32.0 MB",
          "32.0 MB",
          "32.0 MB",
          "32.0 MB",
          "32.0 MB",
          "32.0 MB",
          "32.0 MB",
          "32.0 MB",
          "64.0 MB",
          "64.0 MB",
          "64.0 MB",
          "64.0 MB",
          "64.0 MB",
          "64.0 MB",
          "64.0 MB",
          "64.0 MB",
          "64.0 MB",
          "64.0 MB",
          "128.0 MB",
          "128.0 MB",
          "128.0 MB",
          "128.0 MB",
          "128.0 MB",
          "128.0 MB",
          "128.0 MB",
          "128.0 MB",
          "128.0 MB",
          "128.0 MB",
          "256.0 MB",
          "256.0 MB",
          "256.0 MB",
          "256.0 MB",
          "256.0 MB",
          "256.0 MB",
          "256.0 MB",
          "256.0 MB",
          "256.0 MB",
          "256.0 MB",
          "512.0 MB",
          "512.0 MB",
          "512.0 MB",
          "512.0 MB",
          "512.0 MB",
          "512.0 MB",
          "512.0 MB",
          "512.0 MB",
          "512.0 MB",
          "512.0 MB",
          "1024.0 MB",
          "1024.0 MB",
          "1024.0 MB",
          "1024.0 MB",
          "1024.0 MB",
          "1024.0 MB",
          "1024.0 MB",
          "1024.0 MB",
          "1024.0 MB",
          "1024.0 MB"
         ],
         "x0": " ",
         "xaxis": "x",
         "y": [
          46.14103127,
          45.923445485,
          46.01607336,
          46.124263398,
          45.799555882,
          45.748027634,
          45.644547842,
          45.573779377,
          46.374598791,
          45.432376268,
          5.981869041,
          6.38684548,
          6.240656416,
          6.24766756,
          6.025542604,
          6.253911342,
          6.376845099,
          5.976641,
          6.032766631,
          6.027398905,
          3.189988007,
          3.1049804930000002,
          3.1164612,
          3.267687763,
          3.174135172,
          3.071354912,
          3.069019151,
          3.082908319,
          3.0678748750000002,
          3.0879366089999998,
          1.693819472,
          1.7279579260000002,
          1.693208435,
          1.688626962,
          1.6460844680000002,
          1.7795740150000001,
          1.612152327,
          1.602602136,
          1.6046489620000002,
          1.602822231,
          0.853270268,
          0.9284074010000001,
          0.87903606,
          0.846973504,
          0.8496726480000001,
          0.881298659,
          0.848622796,
          0.8538614250000001,
          0.844450825,
          0.844812871,
          0.5759470990000001,
          0.573102656,
          0.534317182,
          0.5741216100000001,
          0.5407160670000001,
          0.540359447,
          0.536311689,
          0.527317577,
          0.5020722910000001,
          0.47177409600000003,
          0.42915156800000004,
          0.36907727700000004,
          0.28373204,
          0.292041284,
          0.282439316,
          0.312224021,
          0.34645431200000004,
          0.291772024,
          0.28979580800000004,
          0.290126997,
          0.183353216,
          0.10336550600000001,
          0.09283052700000001,
          0.09067678300000001,
          0.110553382,
          0.097830052,
          0.100210216,
          0.096511632,
          0.095306263,
          0.09832729
         ],
         "y0": " ",
         "yaxis": "y"
        }
       ],
       "layout": {
        "boxmode": "group",
        "legend": {
         "title": {
          "text": "engine"
         },
         "tracegroupgap": 0
        },
        "template": {
         "data": {
          "bar": [
           {
            "error_x": {
             "color": "#2a3f5f"
            },
            "error_y": {
             "color": "#2a3f5f"
            },
            "marker": {
             "line": {
              "color": "#E5ECF6",
              "width": 0.5
             },
             "pattern": {
              "fillmode": "overlay",
              "size": 10,
              "solidity": 0.2
             }
            },
            "type": "bar"
           }
          ],
          "barpolar": [
           {
            "marker": {
             "line": {
              "color": "#E5ECF6",
              "width": 0.5
             },
             "pattern": {
              "fillmode": "overlay",
              "size": 10,
              "solidity": 0.2
             }
            },
            "type": "barpolar"
           }
          ],
          "carpet": [
           {
            "aaxis": {
             "endlinecolor": "#2a3f5f",
             "gridcolor": "white",
             "linecolor": "white",
             "minorgridcolor": "white",
             "startlinecolor": "#2a3f5f"
            },
            "baxis": {
             "endlinecolor": "#2a3f5f",
             "gridcolor": "white",
             "linecolor": "white",
             "minorgridcolor": "white",
             "startlinecolor": "#2a3f5f"
            },
            "type": "carpet"
           }
          ],
          "choropleth": [
           {
            "colorbar": {
             "outlinewidth": 0,
             "ticks": ""
            },
            "type": "choropleth"
           }
          ],
          "contour": [
           {
            "colorbar": {
             "outlinewidth": 0,
             "ticks": ""
            },
            "colorscale": [
             [
              0,
              "#0d0887"
             ],
             [
              0.1111111111111111,
              "#46039f"
             ],
             [
              0.2222222222222222,
              "#7201a8"
             ],
             [
              0.3333333333333333,
              "#9c179e"
             ],
             [
              0.4444444444444444,
              "#bd3786"
             ],
             [
              0.5555555555555556,
              "#d8576b"
             ],
             [
              0.6666666666666666,
              "#ed7953"
             ],
             [
              0.7777777777777778,
              "#fb9f3a"
             ],
             [
              0.8888888888888888,
              "#fdca26"
             ],
             [
              1,
              "#f0f921"
             ]
            ],
            "type": "contour"
           }
          ],
          "contourcarpet": [
           {
            "colorbar": {
             "outlinewidth": 0,
             "ticks": ""
            },
            "type": "contourcarpet"
           }
          ],
          "heatmap": [
           {
            "colorbar": {
             "outlinewidth": 0,
             "ticks": ""
            },
            "colorscale": [
             [
              0,
              "#0d0887"
             ],
             [
              0.1111111111111111,
              "#46039f"
             ],
             [
              0.2222222222222222,
              "#7201a8"
             ],
             [
              0.3333333333333333,
              "#9c179e"
             ],
             [
              0.4444444444444444,
              "#bd3786"
             ],
             [
              0.5555555555555556,
              "#d8576b"
             ],
             [
              0.6666666666666666,
              "#ed7953"
             ],
             [
              0.7777777777777778,
              "#fb9f3a"
             ],
             [
              0.8888888888888888,
              "#fdca26"
             ],
             [
              1,
              "#f0f921"
             ]
            ],
            "type": "heatmap"
           }
          ],
          "heatmapgl": [
           {
            "colorbar": {
             "outlinewidth": 0,
             "ticks": ""
            },
            "colorscale": [
             [
              0,
              "#0d0887"
             ],
             [
              0.1111111111111111,
              "#46039f"
             ],
             [
              0.2222222222222222,
              "#7201a8"
             ],
             [
              0.3333333333333333,
              "#9c179e"
             ],
             [
              0.4444444444444444,
              "#bd3786"
             ],
             [
              0.5555555555555556,
              "#d8576b"
             ],
             [
              0.6666666666666666,
              "#ed7953"
             ],
             [
              0.7777777777777778,
              "#fb9f3a"
             ],
             [
              0.8888888888888888,
              "#fdca26"
             ],
             [
              1,
              "#f0f921"
             ]
            ],
            "type": "heatmapgl"
           }
          ],
          "histogram": [
           {
            "marker": {
             "pattern": {
              "fillmode": "overlay",
              "size": 10,
              "solidity": 0.2
             }
            },
            "type": "histogram"
           }
          ],
          "histogram2d": [
           {
            "colorbar": {
             "outlinewidth": 0,
             "ticks": ""
            },
            "colorscale": [
             [
              0,
              "#0d0887"
             ],
             [
              0.1111111111111111,
              "#46039f"
             ],
             [
              0.2222222222222222,
              "#7201a8"
             ],
             [
              0.3333333333333333,
              "#9c179e"
             ],
             [
              0.4444444444444444,
              "#bd3786"
             ],
             [
              0.5555555555555556,
              "#d8576b"
             ],
             [
              0.6666666666666666,
              "#ed7953"
             ],
             [
              0.7777777777777778,
              "#fb9f3a"
             ],
             [
              0.8888888888888888,
              "#fdca26"
             ],
             [
              1,
              "#f0f921"
             ]
            ],
            "type": "histogram2d"
           }
          ],
          "histogram2dcontour": [
           {
            "colorbar": {
             "outlinewidth": 0,
             "ticks": ""
            },
            "colorscale": [
             [
              0,
              "#0d0887"
             ],
             [
              0.1111111111111111,
              "#46039f"
             ],
             [
              0.2222222222222222,
              "#7201a8"
             ],
             [
              0.3333333333333333,
              "#9c179e"
             ],
             [
              0.4444444444444444,
              "#bd3786"
             ],
             [
              0.5555555555555556,
              "#d8576b"
             ],
             [
              0.6666666666666666,
              "#ed7953"
             ],
             [
              0.7777777777777778,
              "#fb9f3a"
             ],
             [
              0.8888888888888888,
              "#fdca26"
             ],
             [
              1,
              "#f0f921"
             ]
            ],
            "type": "histogram2dcontour"
           }
          ],
          "mesh3d": [
           {
            "colorbar": {
             "outlinewidth": 0,
             "ticks": ""
            },
            "type": "mesh3d"
           }
          ],
          "parcoords": [
           {
            "line": {
             "colorbar": {
              "outlinewidth": 0,
              "ticks": ""
             }
            },
            "type": "parcoords"
           }
          ],
          "pie": [
           {
            "automargin": true,
            "type": "pie"
           }
          ],
          "scatter": [
           {
            "fillpattern": {
             "fillmode": "overlay",
             "size": 10,
             "solidity": 0.2
            },
            "type": "scatter"
           }
          ],
          "scatter3d": [
           {
            "line": {
             "colorbar": {
              "outlinewidth": 0,
              "ticks": ""
             }
            },
            "marker": {
             "colorbar": {
              "outlinewidth": 0,
              "ticks": ""
             }
            },
            "type": "scatter3d"
           }
          ],
          "scattercarpet": [
           {
            "marker": {
             "colorbar": {
              "outlinewidth": 0,
              "ticks": ""
             }
            },
            "type": "scattercarpet"
           }
          ],
          "scattergeo": [
           {
            "marker": {
             "colorbar": {
              "outlinewidth": 0,
              "ticks": ""
             }
            },
            "type": "scattergeo"
           }
          ],
          "scattergl": [
           {
            "marker": {
             "colorbar": {
              "outlinewidth": 0,
              "ticks": ""
             }
            },
            "type": "scattergl"
           }
          ],
          "scattermapbox": [
           {
            "marker": {
             "colorbar": {
              "outlinewidth": 0,
              "ticks": ""
             }
            },
            "type": "scattermapbox"
           }
          ],
          "scatterpolar": [
           {
            "marker": {
             "colorbar": {
              "outlinewidth": 0,
              "ticks": ""
             }
            },
            "type": "scatterpolar"
           }
          ],
          "scatterpolargl": [
           {
            "marker": {
             "colorbar": {
              "outlinewidth": 0,
              "ticks": ""
             }
            },
            "type": "scatterpolargl"
           }
          ],
          "scatterternary": [
           {
            "marker": {
             "colorbar": {
              "outlinewidth": 0,
              "ticks": ""
             }
            },
            "type": "scatterternary"
           }
          ],
          "surface": [
           {
            "colorbar": {
             "outlinewidth": 0,
             "ticks": ""
            },
            "colorscale": [
             [
              0,
              "#0d0887"
             ],
             [
              0.1111111111111111,
              "#46039f"
             ],
             [
              0.2222222222222222,
              "#7201a8"
             ],
             [
              0.3333333333333333,
              "#9c179e"
             ],
             [
              0.4444444444444444,
              "#bd3786"
             ],
             [
              0.5555555555555556,
              "#d8576b"
             ],
             [
              0.6666666666666666,
              "#ed7953"
             ],
             [
              0.7777777777777778,
              "#fb9f3a"
             ],
             [
              0.8888888888888888,
              "#fdca26"
             ],
             [
              1,
              "#f0f921"
             ]
            ],
            "type": "surface"
           }
          ],
          "table": [
           {
            "cells": {
             "fill": {
              "color": "#EBF0F8"
             },
             "line": {
              "color": "white"
             }
            },
            "header": {
             "fill": {
              "color": "#C8D4E3"
             },
             "line": {
              "color": "white"
             }
            },
            "type": "table"
           }
          ]
         },
         "layout": {
          "annotationdefaults": {
           "arrowcolor": "#2a3f5f",
           "arrowhead": 0,
           "arrowwidth": 1
          },
          "autotypenumbers": "strict",
          "coloraxis": {
           "colorbar": {
            "outlinewidth": 0,
            "ticks": ""
           }
          },
          "colorscale": {
           "diverging": [
            [
             0,
             "#8e0152"
            ],
            [
             0.1,
             "#c51b7d"
            ],
            [
             0.2,
             "#de77ae"
            ],
            [
             0.3,
             "#f1b6da"
            ],
            [
             0.4,
             "#fde0ef"
            ],
            [
             0.5,
             "#f7f7f7"
            ],
            [
             0.6,
             "#e6f5d0"
            ],
            [
             0.7,
             "#b8e186"
            ],
            [
             0.8,
             "#7fbc41"
            ],
            [
             0.9,
             "#4d9221"
            ],
            [
             1,
             "#276419"
            ]
           ],
           "sequential": [
            [
             0,
             "#0d0887"
            ],
            [
             0.1111111111111111,
             "#46039f"
            ],
            [
             0.2222222222222222,
             "#7201a8"
            ],
            [
             0.3333333333333333,
             "#9c179e"
            ],
            [
             0.4444444444444444,
             "#bd3786"
            ],
            [
             0.5555555555555556,
             "#d8576b"
            ],
            [
             0.6666666666666666,
             "#ed7953"
            ],
            [
             0.7777777777777778,
             "#fb9f3a"
            ],
            [
             0.8888888888888888,
             "#fdca26"
            ],
            [
             1,
             "#f0f921"
            ]
           ],
           "sequentialminus": [
            [
             0,
             "#0d0887"
            ],
            [
             0.1111111111111111,
             "#46039f"
            ],
            [
             0.2222222222222222,
             "#7201a8"
            ],
            [
             0.3333333333333333,
             "#9c179e"
            ],
            [
             0.4444444444444444,
             "#bd3786"
            ],
            [
             0.5555555555555556,
             "#d8576b"
            ],
            [
             0.6666666666666666,
             "#ed7953"
            ],
            [
             0.7777777777777778,
             "#fb9f3a"
            ],
            [
             0.8888888888888888,
             "#fdca26"
            ],
            [
             1,
             "#f0f921"
            ]
           ]
          },
          "colorway": [
           "#636efa",
           "#EF553B",
           "#00cc96",
           "#ab63fa",
           "#FFA15A",
           "#19d3f3",
           "#FF6692",
           "#B6E880",
           "#FF97FF",
           "#FECB52"
          ],
          "font": {
           "color": "#2a3f5f"
          },
          "geo": {
           "bgcolor": "white",
           "lakecolor": "white",
           "landcolor": "#E5ECF6",
           "showlakes": true,
           "showland": true,
           "subunitcolor": "white"
          },
          "hoverlabel": {
           "align": "left"
          },
          "hovermode": "closest",
          "mapbox": {
           "style": "light"
          },
          "paper_bgcolor": "white",
          "plot_bgcolor": "#E5ECF6",
          "polar": {
           "angularaxis": {
            "gridcolor": "white",
            "linecolor": "white",
            "ticks": ""
           },
           "bgcolor": "#E5ECF6",
           "radialaxis": {
            "gridcolor": "white",
            "linecolor": "white",
            "ticks": ""
           }
          },
          "scene": {
           "xaxis": {
            "backgroundcolor": "#E5ECF6",
            "gridcolor": "white",
            "gridwidth": 2,
            "linecolor": "white",
            "showbackground": true,
            "ticks": "",
            "zerolinecolor": "white"
           },
           "yaxis": {
            "backgroundcolor": "#E5ECF6",
            "gridcolor": "white",
            "gridwidth": 2,
            "linecolor": "white",
            "showbackground": true,
            "ticks": "",
            "zerolinecolor": "white"
           },
           "zaxis": {
            "backgroundcolor": "#E5ECF6",
            "gridcolor": "white",
            "gridwidth": 2,
            "linecolor": "white",
            "showbackground": true,
            "ticks": "",
            "zerolinecolor": "white"
           }
          },
          "shapedefaults": {
           "line": {
            "color": "#2a3f5f"
           }
          },
          "ternary": {
           "aaxis": {
            "gridcolor": "white",
            "linecolor": "white",
            "ticks": ""
           },
           "baxis": {
            "gridcolor": "white",
            "linecolor": "white",
            "ticks": ""
           },
           "bgcolor": "#E5ECF6",
           "caxis": {
            "gridcolor": "white",
            "linecolor": "white",
            "ticks": ""
           }
          },
          "title": {
           "x": 0.05
          },
          "xaxis": {
           "automargin": true,
           "gridcolor": "white",
           "linecolor": "white",
           "ticks": "",
           "title": {
            "standoff": 15
           },
           "zerolinecolor": "white",
           "zerolinewidth": 2
          },
          "yaxis": {
           "automargin": true,
           "gridcolor": "white",
           "linecolor": "white",
           "ticks": "",
           "title": {
            "standoff": 15
           },
           "zerolinecolor": "white",
           "zerolinewidth": 2
          }
         }
        },
        "title": {
         "text": "filesize per chunk"
        },
        "xaxis": {
         "anchor": "y",
         "domain": [
          0,
          1
         ],
         "title": {
          "text": "filesize per chunk"
         }
        },
        "yaxis": {
         "anchor": "x",
         "domain": [
          0,
          1
         ],
         "title": {
          "text": "time taken"
         },
         "type": "log"
        }
       }
      },
      "text/html": [
       "<div>                            <div id=\"c2d5d31a-f0dd-4ec4-a892-05906cf7b287\" class=\"plotly-graph-div\" style=\"height:525px; width:100%;\"></div>            <script type=\"text/javascript\">                require([\"plotly\"], function(Plotly) {                    window.PLOTLYENV=window.PLOTLYENV || {};                                    if (document.getElementById(\"c2d5d31a-f0dd-4ec4-a892-05906cf7b287\")) {                    Plotly.newPlot(                        \"c2d5d31a-f0dd-4ec4-a892-05906cf7b287\",                        [{\"alignmentgroup\":\"True\",\"customdata\":[[\"zarr-[512, 512, 512]-[512, 512, 1]\"],[\"zarr-[512, 512, 512]-[512, 512, 1]\"],[\"zarr-[512, 512, 512]-[512, 512, 1]\"],[\"zarr-[512, 512, 512]-[512, 512, 1]\"],[\"zarr-[512, 512, 512]-[512, 512, 1]\"],[\"zarr-[512, 512, 512]-[512, 512, 1]\"],[\"zarr-[512, 512, 512]-[512, 512, 1]\"],[\"zarr-[512, 512, 512]-[512, 512, 1]\"],[\"zarr-[512, 512, 512]-[512, 512, 1]\"],[\"zarr-[512, 512, 512]-[512, 512, 1]\"],[\"zarr-[512, 512, 512]-[512, 512, 8]\"],[\"zarr-[512, 512, 512]-[512, 512, 8]\"],[\"zarr-[512, 512, 512]-[512, 512, 8]\"],[\"zarr-[512, 512, 512]-[512, 512, 8]\"],[\"zarr-[512, 512, 512]-[512, 512, 8]\"],[\"zarr-[512, 512, 512]-[512, 512, 8]\"],[\"zarr-[512, 512, 512]-[512, 512, 8]\"],[\"zarr-[512, 512, 512]-[512, 512, 8]\"],[\"zarr-[512, 512, 512]-[512, 512, 8]\"],[\"zarr-[512, 512, 512]-[512, 512, 8]\"],[\"zarr-[512, 512, 512]-[512, 512, 16]\"],[\"zarr-[512, 512, 512]-[512, 512, 16]\"],[\"zarr-[512, 512, 512]-[512, 512, 16]\"],[\"zarr-[512, 512, 512]-[512, 512, 16]\"],[\"zarr-[512, 512, 512]-[512, 512, 16]\"],[\"zarr-[512, 512, 512]-[512, 512, 16]\"],[\"zarr-[512, 512, 512]-[512, 512, 16]\"],[\"zarr-[512, 512, 512]-[512, 512, 16]\"],[\"zarr-[512, 512, 512]-[512, 512, 16]\"],[\"zarr-[512, 512, 512]-[512, 512, 16]\"],[\"zarr-[512, 512, 512]-[512, 512, 32]\"],[\"zarr-[512, 512, 512]-[512, 512, 32]\"],[\"zarr-[512, 512, 512]-[512, 512, 32]\"],[\"zarr-[512, 512, 512]-[512, 512, 32]\"],[\"zarr-[512, 512, 512]-[512, 512, 32]\"],[\"zarr-[512, 512, 512]-[512, 512, 32]\"],[\"zarr-[512, 512, 512]-[512, 512, 32]\"],[\"zarr-[512, 512, 512]-[512, 512, 32]\"],[\"zarr-[512, 512, 512]-[512, 512, 32]\"],[\"zarr-[512, 512, 512]-[512, 512, 32]\"],[\"zarr-[512, 512, 512]-[512, 512, 64]\"],[\"zarr-[512, 512, 512]-[512, 512, 64]\"],[\"zarr-[512, 512, 512]-[512, 512, 64]\"],[\"zarr-[512, 512, 512]-[512, 512, 64]\"],[\"zarr-[512, 512, 512]-[512, 512, 64]\"],[\"zarr-[512, 512, 512]-[512, 512, 64]\"],[\"zarr-[512, 512, 512]-[512, 512, 64]\"],[\"zarr-[512, 512, 512]-[512, 512, 64]\"],[\"zarr-[512, 512, 512]-[512, 512, 64]\"],[\"zarr-[512, 512, 512]-[512, 512, 64]\"],[\"zarr-[512, 512, 512]-[512, 512, 128]\"],[\"zarr-[512, 512, 512]-[512, 512, 128]\"],[\"zarr-[512, 512, 512]-[512, 512, 128]\"],[\"zarr-[512, 512, 512]-[512, 512, 128]\"],[\"zarr-[512, 512, 512]-[512, 512, 128]\"],[\"zarr-[512, 512, 512]-[512, 512, 128]\"],[\"zarr-[512, 512, 512]-[512, 512, 128]\"],[\"zarr-[512, 512, 512]-[512, 512, 128]\"],[\"zarr-[512, 512, 512]-[512, 512, 128]\"],[\"zarr-[512, 512, 512]-[512, 512, 128]\"],[\"zarr-[512, 512, 512]-[512, 512, 256]\"],[\"zarr-[512, 512, 512]-[512, 512, 256]\"],[\"zarr-[512, 512, 512]-[512, 512, 256]\"],[\"zarr-[512, 512, 512]-[512, 512, 256]\"],[\"zarr-[512, 512, 512]-[512, 512, 256]\"],[\"zarr-[512, 512, 512]-[512, 512, 256]\"],[\"zarr-[512, 512, 512]-[512, 512, 256]\"],[\"zarr-[512, 512, 512]-[512, 512, 256]\"],[\"zarr-[512, 512, 512]-[512, 512, 256]\"],[\"zarr-[512, 512, 512]-[512, 512, 256]\"],[\"zarr-[512, 512, 512]-[512, 512, 512]\"],[\"zarr-[512, 512, 512]-[512, 512, 512]\"],[\"zarr-[512, 512, 512]-[512, 512, 512]\"],[\"zarr-[512, 512, 512]-[512, 512, 512]\"],[\"zarr-[512, 512, 512]-[512, 512, 512]\"],[\"zarr-[512, 512, 512]-[512, 512, 512]\"],[\"zarr-[512, 512, 512]-[512, 512, 512]\"],[\"zarr-[512, 512, 512]-[512, 512, 512]\"],[\"zarr-[512, 512, 512]-[512, 512, 512]\"],[\"zarr-[512, 512, 512]-[512, 512, 512]\"]],\"hovertemplate\":\"engine=zarr\\u003cbr\\u003efilesize per chunk=%{x}\\u003cbr\\u003etime taken=%{y}\\u003cbr\\u003eformat=%{customdata[0]}\\u003cextra\\u003e\\u003c\\u002fextra\\u003e\",\"legendgroup\":\"zarr\",\"marker\":{\"color\":\"#636efa\"},\"name\":\"zarr\",\"notched\":false,\"offsetgroup\":\"zarr\",\"orientation\":\"v\",\"showlegend\":true,\"x\":[\"2.0 MB\",\"2.0 MB\",\"2.0 MB\",\"2.0 MB\",\"2.0 MB\",\"2.0 MB\",\"2.0 MB\",\"2.0 MB\",\"2.0 MB\",\"2.0 MB\",\"16.0 MB\",\"16.0 MB\",\"16.0 MB\",\"16.0 MB\",\"16.0 MB\",\"16.0 MB\",\"16.0 MB\",\"16.0 MB\",\"16.0 MB\",\"16.0 MB\",\"32.0 MB\",\"32.0 MB\",\"32.0 MB\",\"32.0 MB\",\"32.0 MB\",\"32.0 MB\",\"32.0 MB\",\"32.0 MB\",\"32.0 MB\",\"32.0 MB\",\"64.0 MB\",\"64.0 MB\",\"64.0 MB\",\"64.0 MB\",\"64.0 MB\",\"64.0 MB\",\"64.0 MB\",\"64.0 MB\",\"64.0 MB\",\"64.0 MB\",\"128.0 MB\",\"128.0 MB\",\"128.0 MB\",\"128.0 MB\",\"128.0 MB\",\"128.0 MB\",\"128.0 MB\",\"128.0 MB\",\"128.0 MB\",\"128.0 MB\",\"256.0 MB\",\"256.0 MB\",\"256.0 MB\",\"256.0 MB\",\"256.0 MB\",\"256.0 MB\",\"256.0 MB\",\"256.0 MB\",\"256.0 MB\",\"256.0 MB\",\"512.0 MB\",\"512.0 MB\",\"512.0 MB\",\"512.0 MB\",\"512.0 MB\",\"512.0 MB\",\"512.0 MB\",\"512.0 MB\",\"512.0 MB\",\"512.0 MB\",\"1024.0 MB\",\"1024.0 MB\",\"1024.0 MB\",\"1024.0 MB\",\"1024.0 MB\",\"1024.0 MB\",\"1024.0 MB\",\"1024.0 MB\",\"1024.0 MB\",\"1024.0 MB\"],\"x0\":\" \",\"xaxis\":\"x\",\"y\":[1.254719685,1.248066141,1.292569566,1.314146394,1.313602982,1.289282074,1.254550035,1.266733049,1.267689895,1.260372463,0.47734869999999996,0.47810641600000003,0.475131742,0.49847422,0.471999887,0.49030078200000005,0.47879551000000004,0.479558588,0.47660526900000005,0.46878278,0.341167112,0.346485843,0.337719557,0.326252441,0.317186783,0.32556866900000003,0.322510964,0.325034704,0.352799583,0.32193485600000005,0.300894643,0.462857507,0.30194046700000005,0.299499148,0.30833920800000003,0.31830092,0.30179614600000004,0.309152392,0.31024292600000003,0.312736871,0.302416801,0.269407463,0.268864951,0.27021970500000003,0.26755000300000004,0.27700697700000004,0.270246684,0.278290395,0.27775366700000004,0.289305542,0.35860182500000004,0.404696704,0.6036628110000001,0.349247028,0.32979555400000005,0.327063043,0.341437916,0.329447303,0.359248818,0.332353106,0.726337961,0.523674849,0.480964775,0.46715677400000005,0.48670843700000005,0.47968150200000004,0.46848868800000004,0.468050658,0.481170835,0.485542856,0.8950659540000001,0.9446840860000001,0.94388729,0.8315148790000001,0.819262417,0.8176201470000001,0.817028666,0.819191114,0.811937299,0.8105739710000001],\"y0\":\" \",\"yaxis\":\"y\",\"type\":\"box\"},{\"alignmentgroup\":\"True\",\"customdata\":[[\"netcdf4-[512, 512, 512]-[512, 512, 1]\"],[\"netcdf4-[512, 512, 512]-[512, 512, 1]\"],[\"netcdf4-[512, 512, 512]-[512, 512, 1]\"],[\"netcdf4-[512, 512, 512]-[512, 512, 1]\"],[\"netcdf4-[512, 512, 512]-[512, 512, 1]\"],[\"netcdf4-[512, 512, 512]-[512, 512, 1]\"],[\"netcdf4-[512, 512, 512]-[512, 512, 1]\"],[\"netcdf4-[512, 512, 512]-[512, 512, 1]\"],[\"netcdf4-[512, 512, 512]-[512, 512, 1]\"],[\"netcdf4-[512, 512, 512]-[512, 512, 1]\"],[\"netcdf4-[512, 512, 512]-[512, 512, 8]\"],[\"netcdf4-[512, 512, 512]-[512, 512, 8]\"],[\"netcdf4-[512, 512, 512]-[512, 512, 8]\"],[\"netcdf4-[512, 512, 512]-[512, 512, 8]\"],[\"netcdf4-[512, 512, 512]-[512, 512, 8]\"],[\"netcdf4-[512, 512, 512]-[512, 512, 8]\"],[\"netcdf4-[512, 512, 512]-[512, 512, 8]\"],[\"netcdf4-[512, 512, 512]-[512, 512, 8]\"],[\"netcdf4-[512, 512, 512]-[512, 512, 8]\"],[\"netcdf4-[512, 512, 512]-[512, 512, 8]\"],[\"netcdf4-[512, 512, 512]-[512, 512, 16]\"],[\"netcdf4-[512, 512, 512]-[512, 512, 16]\"],[\"netcdf4-[512, 512, 512]-[512, 512, 16]\"],[\"netcdf4-[512, 512, 512]-[512, 512, 16]\"],[\"netcdf4-[512, 512, 512]-[512, 512, 16]\"],[\"netcdf4-[512, 512, 512]-[512, 512, 16]\"],[\"netcdf4-[512, 512, 512]-[512, 512, 16]\"],[\"netcdf4-[512, 512, 512]-[512, 512, 16]\"],[\"netcdf4-[512, 512, 512]-[512, 512, 16]\"],[\"netcdf4-[512, 512, 512]-[512, 512, 16]\"],[\"netcdf4-[512, 512, 512]-[512, 512, 32]\"],[\"netcdf4-[512, 512, 512]-[512, 512, 32]\"],[\"netcdf4-[512, 512, 512]-[512, 512, 32]\"],[\"netcdf4-[512, 512, 512]-[512, 512, 32]\"],[\"netcdf4-[512, 512, 512]-[512, 512, 32]\"],[\"netcdf4-[512, 512, 512]-[512, 512, 32]\"],[\"netcdf4-[512, 512, 512]-[512, 512, 32]\"],[\"netcdf4-[512, 512, 512]-[512, 512, 32]\"],[\"netcdf4-[512, 512, 512]-[512, 512, 32]\"],[\"netcdf4-[512, 512, 512]-[512, 512, 32]\"],[\"netcdf4-[512, 512, 512]-[512, 512, 64]\"],[\"netcdf4-[512, 512, 512]-[512, 512, 64]\"],[\"netcdf4-[512, 512, 512]-[512, 512, 64]\"],[\"netcdf4-[512, 512, 512]-[512, 512, 64]\"],[\"netcdf4-[512, 512, 512]-[512, 512, 64]\"],[\"netcdf4-[512, 512, 512]-[512, 512, 64]\"],[\"netcdf4-[512, 512, 512]-[512, 512, 64]\"],[\"netcdf4-[512, 512, 512]-[512, 512, 64]\"],[\"netcdf4-[512, 512, 512]-[512, 512, 64]\"],[\"netcdf4-[512, 512, 512]-[512, 512, 64]\"],[\"netcdf4-[512, 512, 512]-[512, 512, 128]\"],[\"netcdf4-[512, 512, 512]-[512, 512, 128]\"],[\"netcdf4-[512, 512, 512]-[512, 512, 128]\"],[\"netcdf4-[512, 512, 512]-[512, 512, 128]\"],[\"netcdf4-[512, 512, 512]-[512, 512, 128]\"],[\"netcdf4-[512, 512, 512]-[512, 512, 128]\"],[\"netcdf4-[512, 512, 512]-[512, 512, 128]\"],[\"netcdf4-[512, 512, 512]-[512, 512, 128]\"],[\"netcdf4-[512, 512, 512]-[512, 512, 128]\"],[\"netcdf4-[512, 512, 512]-[512, 512, 128]\"],[\"netcdf4-[512, 512, 512]-[512, 512, 256]\"],[\"netcdf4-[512, 512, 512]-[512, 512, 256]\"],[\"netcdf4-[512, 512, 512]-[512, 512, 256]\"],[\"netcdf4-[512, 512, 512]-[512, 512, 256]\"],[\"netcdf4-[512, 512, 512]-[512, 512, 256]\"],[\"netcdf4-[512, 512, 512]-[512, 512, 256]\"],[\"netcdf4-[512, 512, 512]-[512, 512, 256]\"],[\"netcdf4-[512, 512, 512]-[512, 512, 256]\"],[\"netcdf4-[512, 512, 512]-[512, 512, 256]\"],[\"netcdf4-[512, 512, 512]-[512, 512, 256]\"],[\"netcdf4-[512, 512, 512]-[512, 512, 512]\"],[\"netcdf4-[512, 512, 512]-[512, 512, 512]\"],[\"netcdf4-[512, 512, 512]-[512, 512, 512]\"],[\"netcdf4-[512, 512, 512]-[512, 512, 512]\"],[\"netcdf4-[512, 512, 512]-[512, 512, 512]\"],[\"netcdf4-[512, 512, 512]-[512, 512, 512]\"],[\"netcdf4-[512, 512, 512]-[512, 512, 512]\"],[\"netcdf4-[512, 512, 512]-[512, 512, 512]\"],[\"netcdf4-[512, 512, 512]-[512, 512, 512]\"],[\"netcdf4-[512, 512, 512]-[512, 512, 512]\"]],\"hovertemplate\":\"engine=netcdf4\\u003cbr\\u003efilesize per chunk=%{x}\\u003cbr\\u003etime taken=%{y}\\u003cbr\\u003eformat=%{customdata[0]}\\u003cextra\\u003e\\u003c\\u002fextra\\u003e\",\"legendgroup\":\"netcdf4\",\"marker\":{\"color\":\"#EF553B\"},\"name\":\"netcdf4\",\"notched\":false,\"offsetgroup\":\"netcdf4\",\"orientation\":\"v\",\"showlegend\":true,\"x\":[\"2.0 MB\",\"2.0 MB\",\"2.0 MB\",\"2.0 MB\",\"2.0 MB\",\"2.0 MB\",\"2.0 MB\",\"2.0 MB\",\"2.0 MB\",\"2.0 MB\",\"16.0 MB\",\"16.0 MB\",\"16.0 MB\",\"16.0 MB\",\"16.0 MB\",\"16.0 MB\",\"16.0 MB\",\"16.0 MB\",\"16.0 MB\",\"16.0 MB\",\"32.0 MB\",\"32.0 MB\",\"32.0 MB\",\"32.0 MB\",\"32.0 MB\",\"32.0 MB\",\"32.0 MB\",\"32.0 MB\",\"32.0 MB\",\"32.0 MB\",\"64.0 MB\",\"64.0 MB\",\"64.0 MB\",\"64.0 MB\",\"64.0 MB\",\"64.0 MB\",\"64.0 MB\",\"64.0 MB\",\"64.0 MB\",\"64.0 MB\",\"128.0 MB\",\"128.0 MB\",\"128.0 MB\",\"128.0 MB\",\"128.0 MB\",\"128.0 MB\",\"128.0 MB\",\"128.0 MB\",\"128.0 MB\",\"128.0 MB\",\"256.0 MB\",\"256.0 MB\",\"256.0 MB\",\"256.0 MB\",\"256.0 MB\",\"256.0 MB\",\"256.0 MB\",\"256.0 MB\",\"256.0 MB\",\"256.0 MB\",\"512.0 MB\",\"512.0 MB\",\"512.0 MB\",\"512.0 MB\",\"512.0 MB\",\"512.0 MB\",\"512.0 MB\",\"512.0 MB\",\"512.0 MB\",\"512.0 MB\",\"1024.0 MB\",\"1024.0 MB\",\"1024.0 MB\",\"1024.0 MB\",\"1024.0 MB\",\"1024.0 MB\",\"1024.0 MB\",\"1024.0 MB\",\"1024.0 MB\",\"1024.0 MB\"],\"x0\":\" \",\"xaxis\":\"x\",\"y\":[1.066638576,1.101389066,1.097299316,1.046411391,1.165832655,1.076762198,1.208166825,1.104800169,1.121934926,1.051151894,0.35543492200000004,0.36908632900000005,0.343790335,0.347241096,0.34522847100000004,0.340736661,0.34947300800000003,0.34388356600000003,0.34354955600000003,0.342198532,0.30870316800000003,0.32929330700000004,0.30866935900000003,0.310044934,0.327120401,0.325595063,0.318164857,0.320311499,0.31708172300000004,0.31712259200000004,0.284299354,0.309089053,0.284274168,0.275440571,0.278493058,0.28027144400000004,0.30230928300000004,0.28593648800000004,0.28593570700000004,0.287834986,0.8994026220000001,0.910529531,0.8986453980000001,0.8828881270000001,0.875781392,0.9091029700000001,0.8770661930000001,0.88689352,0.87807879,0.8827927480000001,0.527823544,0.5717007780000001,0.540869111,0.532881676,0.526184161,0.5494407290000001,0.548037165,0.570734611,0.5497473420000001,0.524087209,0.523326996,0.34771836300000003,0.315980998,0.344455308,0.35278539400000003,0.5349046350000001,0.697091731,0.348696324,0.313698507,0.31383571400000004,0.11527150400000001,0.141838884,0.12016710200000001,0.11868851100000001,0.11912513,0.117110691,0.11892630200000001,0.11607412,0.11663060200000001,0.11559393700000001],\"y0\":\" \",\"yaxis\":\"y\",\"type\":\"box\"},{\"alignmentgroup\":\"True\",\"customdata\":[[\"hdf5-[512, 512, 512]-[512, 512, 1]\"],[\"hdf5-[512, 512, 512]-[512, 512, 1]\"],[\"hdf5-[512, 512, 512]-[512, 512, 1]\"],[\"hdf5-[512, 512, 512]-[512, 512, 1]\"],[\"hdf5-[512, 512, 512]-[512, 512, 1]\"],[\"hdf5-[512, 512, 512]-[512, 512, 1]\"],[\"hdf5-[512, 512, 512]-[512, 512, 1]\"],[\"hdf5-[512, 512, 512]-[512, 512, 1]\"],[\"hdf5-[512, 512, 512]-[512, 512, 1]\"],[\"hdf5-[512, 512, 512]-[512, 512, 1]\"],[\"hdf5-[512, 512, 512]-[512, 512, 8]\"],[\"hdf5-[512, 512, 512]-[512, 512, 8]\"],[\"hdf5-[512, 512, 512]-[512, 512, 8]\"],[\"hdf5-[512, 512, 512]-[512, 512, 8]\"],[\"hdf5-[512, 512, 512]-[512, 512, 8]\"],[\"hdf5-[512, 512, 512]-[512, 512, 8]\"],[\"hdf5-[512, 512, 512]-[512, 512, 8]\"],[\"hdf5-[512, 512, 512]-[512, 512, 8]\"],[\"hdf5-[512, 512, 512]-[512, 512, 8]\"],[\"hdf5-[512, 512, 512]-[512, 512, 8]\"],[\"hdf5-[512, 512, 512]-[512, 512, 16]\"],[\"hdf5-[512, 512, 512]-[512, 512, 16]\"],[\"hdf5-[512, 512, 512]-[512, 512, 16]\"],[\"hdf5-[512, 512, 512]-[512, 512, 16]\"],[\"hdf5-[512, 512, 512]-[512, 512, 16]\"],[\"hdf5-[512, 512, 512]-[512, 512, 16]\"],[\"hdf5-[512, 512, 512]-[512, 512, 16]\"],[\"hdf5-[512, 512, 512]-[512, 512, 16]\"],[\"hdf5-[512, 512, 512]-[512, 512, 16]\"],[\"hdf5-[512, 512, 512]-[512, 512, 16]\"],[\"hdf5-[512, 512, 512]-[512, 512, 32]\"],[\"hdf5-[512, 512, 512]-[512, 512, 32]\"],[\"hdf5-[512, 512, 512]-[512, 512, 32]\"],[\"hdf5-[512, 512, 512]-[512, 512, 32]\"],[\"hdf5-[512, 512, 512]-[512, 512, 32]\"],[\"hdf5-[512, 512, 512]-[512, 512, 32]\"],[\"hdf5-[512, 512, 512]-[512, 512, 32]\"],[\"hdf5-[512, 512, 512]-[512, 512, 32]\"],[\"hdf5-[512, 512, 512]-[512, 512, 32]\"],[\"hdf5-[512, 512, 512]-[512, 512, 32]\"],[\"hdf5-[512, 512, 512]-[512, 512, 64]\"],[\"hdf5-[512, 512, 512]-[512, 512, 64]\"],[\"hdf5-[512, 512, 512]-[512, 512, 64]\"],[\"hdf5-[512, 512, 512]-[512, 512, 64]\"],[\"hdf5-[512, 512, 512]-[512, 512, 64]\"],[\"hdf5-[512, 512, 512]-[512, 512, 64]\"],[\"hdf5-[512, 512, 512]-[512, 512, 64]\"],[\"hdf5-[512, 512, 512]-[512, 512, 64]\"],[\"hdf5-[512, 512, 512]-[512, 512, 64]\"],[\"hdf5-[512, 512, 512]-[512, 512, 64]\"],[\"hdf5-[512, 512, 512]-[512, 512, 128]\"],[\"hdf5-[512, 512, 512]-[512, 512, 128]\"],[\"hdf5-[512, 512, 512]-[512, 512, 128]\"],[\"hdf5-[512, 512, 512]-[512, 512, 128]\"],[\"hdf5-[512, 512, 512]-[512, 512, 128]\"],[\"hdf5-[512, 512, 512]-[512, 512, 128]\"],[\"hdf5-[512, 512, 512]-[512, 512, 128]\"],[\"hdf5-[512, 512, 512]-[512, 512, 128]\"],[\"hdf5-[512, 512, 512]-[512, 512, 128]\"],[\"hdf5-[512, 512, 512]-[512, 512, 128]\"],[\"hdf5-[512, 512, 512]-[512, 512, 256]\"],[\"hdf5-[512, 512, 512]-[512, 512, 256]\"],[\"hdf5-[512, 512, 512]-[512, 512, 256]\"],[\"hdf5-[512, 512, 512]-[512, 512, 256]\"],[\"hdf5-[512, 512, 512]-[512, 512, 256]\"],[\"hdf5-[512, 512, 512]-[512, 512, 256]\"],[\"hdf5-[512, 512, 512]-[512, 512, 256]\"],[\"hdf5-[512, 512, 512]-[512, 512, 256]\"],[\"hdf5-[512, 512, 512]-[512, 512, 256]\"],[\"hdf5-[512, 512, 512]-[512, 512, 256]\"],[\"hdf5-[512, 512, 512]-[512, 512, 512]\"],[\"hdf5-[512, 512, 512]-[512, 512, 512]\"],[\"hdf5-[512, 512, 512]-[512, 512, 512]\"],[\"hdf5-[512, 512, 512]-[512, 512, 512]\"],[\"hdf5-[512, 512, 512]-[512, 512, 512]\"],[\"hdf5-[512, 512, 512]-[512, 512, 512]\"],[\"hdf5-[512, 512, 512]-[512, 512, 512]\"],[\"hdf5-[512, 512, 512]-[512, 512, 512]\"],[\"hdf5-[512, 512, 512]-[512, 512, 512]\"],[\"hdf5-[512, 512, 512]-[512, 512, 512]\"]],\"hovertemplate\":\"engine=hdf5\\u003cbr\\u003efilesize per chunk=%{x}\\u003cbr\\u003etime taken=%{y}\\u003cbr\\u003eformat=%{customdata[0]}\\u003cextra\\u003e\\u003c\\u002fextra\\u003e\",\"legendgroup\":\"hdf5\",\"marker\":{\"color\":\"#00cc96\"},\"name\":\"hdf5\",\"notched\":false,\"offsetgroup\":\"hdf5\",\"orientation\":\"v\",\"showlegend\":true,\"x\":[\"2.0 MB\",\"2.0 MB\",\"2.0 MB\",\"2.0 MB\",\"2.0 MB\",\"2.0 MB\",\"2.0 MB\",\"2.0 MB\",\"2.0 MB\",\"2.0 MB\",\"16.0 MB\",\"16.0 MB\",\"16.0 MB\",\"16.0 MB\",\"16.0 MB\",\"16.0 MB\",\"16.0 MB\",\"16.0 MB\",\"16.0 MB\",\"16.0 MB\",\"32.0 MB\",\"32.0 MB\",\"32.0 MB\",\"32.0 MB\",\"32.0 MB\",\"32.0 MB\",\"32.0 MB\",\"32.0 MB\",\"32.0 MB\",\"32.0 MB\",\"64.0 MB\",\"64.0 MB\",\"64.0 MB\",\"64.0 MB\",\"64.0 MB\",\"64.0 MB\",\"64.0 MB\",\"64.0 MB\",\"64.0 MB\",\"64.0 MB\",\"128.0 MB\",\"128.0 MB\",\"128.0 MB\",\"128.0 MB\",\"128.0 MB\",\"128.0 MB\",\"128.0 MB\",\"128.0 MB\",\"128.0 MB\",\"128.0 MB\",\"256.0 MB\",\"256.0 MB\",\"256.0 MB\",\"256.0 MB\",\"256.0 MB\",\"256.0 MB\",\"256.0 MB\",\"256.0 MB\",\"256.0 MB\",\"256.0 MB\",\"512.0 MB\",\"512.0 MB\",\"512.0 MB\",\"512.0 MB\",\"512.0 MB\",\"512.0 MB\",\"512.0 MB\",\"512.0 MB\",\"512.0 MB\",\"512.0 MB\",\"1024.0 MB\",\"1024.0 MB\",\"1024.0 MB\",\"1024.0 MB\",\"1024.0 MB\",\"1024.0 MB\",\"1024.0 MB\",\"1024.0 MB\",\"1024.0 MB\",\"1024.0 MB\"],\"x0\":\" \",\"xaxis\":\"x\",\"y\":[46.14103127,45.923445485,46.01607336,46.124263398,45.799555882,45.748027634,45.644547842,45.573779377,46.374598791,45.432376268,5.981869041,6.38684548,6.240656416,6.24766756,6.025542604,6.253911342,6.376845099,5.976641,6.032766631,6.027398905,3.189988007,3.1049804930000002,3.1164612,3.267687763,3.174135172,3.071354912,3.069019151,3.082908319,3.0678748750000002,3.0879366089999998,1.693819472,1.7279579260000002,1.693208435,1.688626962,1.6460844680000002,1.7795740150000001,1.612152327,1.602602136,1.6046489620000002,1.602822231,0.853270268,0.9284074010000001,0.87903606,0.846973504,0.8496726480000001,0.881298659,0.848622796,0.8538614250000001,0.844450825,0.844812871,0.5759470990000001,0.573102656,0.534317182,0.5741216100000001,0.5407160670000001,0.540359447,0.536311689,0.527317577,0.5020722910000001,0.47177409600000003,0.42915156800000004,0.36907727700000004,0.28373204,0.292041284,0.282439316,0.312224021,0.34645431200000004,0.291772024,0.28979580800000004,0.290126997,0.183353216,0.10336550600000001,0.09283052700000001,0.09067678300000001,0.110553382,0.097830052,0.100210216,0.096511632,0.095306263,0.09832729],\"y0\":\" \",\"yaxis\":\"y\",\"type\":\"box\"}],                        {\"template\":{\"data\":{\"histogram2dcontour\":[{\"type\":\"histogram2dcontour\",\"colorbar\":{\"outlinewidth\":0,\"ticks\":\"\"},\"colorscale\":[[0.0,\"#0d0887\"],[0.1111111111111111,\"#46039f\"],[0.2222222222222222,\"#7201a8\"],[0.3333333333333333,\"#9c179e\"],[0.4444444444444444,\"#bd3786\"],[0.5555555555555556,\"#d8576b\"],[0.6666666666666666,\"#ed7953\"],[0.7777777777777778,\"#fb9f3a\"],[0.8888888888888888,\"#fdca26\"],[1.0,\"#f0f921\"]]}],\"choropleth\":[{\"type\":\"choropleth\",\"colorbar\":{\"outlinewidth\":0,\"ticks\":\"\"}}],\"histogram2d\":[{\"type\":\"histogram2d\",\"colorbar\":{\"outlinewidth\":0,\"ticks\":\"\"},\"colorscale\":[[0.0,\"#0d0887\"],[0.1111111111111111,\"#46039f\"],[0.2222222222222222,\"#7201a8\"],[0.3333333333333333,\"#9c179e\"],[0.4444444444444444,\"#bd3786\"],[0.5555555555555556,\"#d8576b\"],[0.6666666666666666,\"#ed7953\"],[0.7777777777777778,\"#fb9f3a\"],[0.8888888888888888,\"#fdca26\"],[1.0,\"#f0f921\"]]}],\"heatmap\":[{\"type\":\"heatmap\",\"colorbar\":{\"outlinewidth\":0,\"ticks\":\"\"},\"colorscale\":[[0.0,\"#0d0887\"],[0.1111111111111111,\"#46039f\"],[0.2222222222222222,\"#7201a8\"],[0.3333333333333333,\"#9c179e\"],[0.4444444444444444,\"#bd3786\"],[0.5555555555555556,\"#d8576b\"],[0.6666666666666666,\"#ed7953\"],[0.7777777777777778,\"#fb9f3a\"],[0.8888888888888888,\"#fdca26\"],[1.0,\"#f0f921\"]]}],\"heatmapgl\":[{\"type\":\"heatmapgl\",\"colorbar\":{\"outlinewidth\":0,\"ticks\":\"\"},\"colorscale\":[[0.0,\"#0d0887\"],[0.1111111111111111,\"#46039f\"],[0.2222222222222222,\"#7201a8\"],[0.3333333333333333,\"#9c179e\"],[0.4444444444444444,\"#bd3786\"],[0.5555555555555556,\"#d8576b\"],[0.6666666666666666,\"#ed7953\"],[0.7777777777777778,\"#fb9f3a\"],[0.8888888888888888,\"#fdca26\"],[1.0,\"#f0f921\"]]}],\"contourcarpet\":[{\"type\":\"contourcarpet\",\"colorbar\":{\"outlinewidth\":0,\"ticks\":\"\"}}],\"contour\":[{\"type\":\"contour\",\"colorbar\":{\"outlinewidth\":0,\"ticks\":\"\"},\"colorscale\":[[0.0,\"#0d0887\"],[0.1111111111111111,\"#46039f\"],[0.2222222222222222,\"#7201a8\"],[0.3333333333333333,\"#9c179e\"],[0.4444444444444444,\"#bd3786\"],[0.5555555555555556,\"#d8576b\"],[0.6666666666666666,\"#ed7953\"],[0.7777777777777778,\"#fb9f3a\"],[0.8888888888888888,\"#fdca26\"],[1.0,\"#f0f921\"]]}],\"surface\":[{\"type\":\"surface\",\"colorbar\":{\"outlinewidth\":0,\"ticks\":\"\"},\"colorscale\":[[0.0,\"#0d0887\"],[0.1111111111111111,\"#46039f\"],[0.2222222222222222,\"#7201a8\"],[0.3333333333333333,\"#9c179e\"],[0.4444444444444444,\"#bd3786\"],[0.5555555555555556,\"#d8576b\"],[0.6666666666666666,\"#ed7953\"],[0.7777777777777778,\"#fb9f3a\"],[0.8888888888888888,\"#fdca26\"],[1.0,\"#f0f921\"]]}],\"mesh3d\":[{\"type\":\"mesh3d\",\"colorbar\":{\"outlinewidth\":0,\"ticks\":\"\"}}],\"scatter\":[{\"fillpattern\":{\"fillmode\":\"overlay\",\"size\":10,\"solidity\":0.2},\"type\":\"scatter\"}],\"parcoords\":[{\"type\":\"parcoords\",\"line\":{\"colorbar\":{\"outlinewidth\":0,\"ticks\":\"\"}}}],\"scatterpolargl\":[{\"type\":\"scatterpolargl\",\"marker\":{\"colorbar\":{\"outlinewidth\":0,\"ticks\":\"\"}}}],\"bar\":[{\"error_x\":{\"color\":\"#2a3f5f\"},\"error_y\":{\"color\":\"#2a3f5f\"},\"marker\":{\"line\":{\"color\":\"#E5ECF6\",\"width\":0.5},\"pattern\":{\"fillmode\":\"overlay\",\"size\":10,\"solidity\":0.2}},\"type\":\"bar\"}],\"scattergeo\":[{\"type\":\"scattergeo\",\"marker\":{\"colorbar\":{\"outlinewidth\":0,\"ticks\":\"\"}}}],\"scatterpolar\":[{\"type\":\"scatterpolar\",\"marker\":{\"colorbar\":{\"outlinewidth\":0,\"ticks\":\"\"}}}],\"histogram\":[{\"marker\":{\"pattern\":{\"fillmode\":\"overlay\",\"size\":10,\"solidity\":0.2}},\"type\":\"histogram\"}],\"scattergl\":[{\"type\":\"scattergl\",\"marker\":{\"colorbar\":{\"outlinewidth\":0,\"ticks\":\"\"}}}],\"scatter3d\":[{\"type\":\"scatter3d\",\"line\":{\"colorbar\":{\"outlinewidth\":0,\"ticks\":\"\"}},\"marker\":{\"colorbar\":{\"outlinewidth\":0,\"ticks\":\"\"}}}],\"scattermapbox\":[{\"type\":\"scattermapbox\",\"marker\":{\"colorbar\":{\"outlinewidth\":0,\"ticks\":\"\"}}}],\"scatterternary\":[{\"type\":\"scatterternary\",\"marker\":{\"colorbar\":{\"outlinewidth\":0,\"ticks\":\"\"}}}],\"scattercarpet\":[{\"type\":\"scattercarpet\",\"marker\":{\"colorbar\":{\"outlinewidth\":0,\"ticks\":\"\"}}}],\"carpet\":[{\"aaxis\":{\"endlinecolor\":\"#2a3f5f\",\"gridcolor\":\"white\",\"linecolor\":\"white\",\"minorgridcolor\":\"white\",\"startlinecolor\":\"#2a3f5f\"},\"baxis\":{\"endlinecolor\":\"#2a3f5f\",\"gridcolor\":\"white\",\"linecolor\":\"white\",\"minorgridcolor\":\"white\",\"startlinecolor\":\"#2a3f5f\"},\"type\":\"carpet\"}],\"table\":[{\"cells\":{\"fill\":{\"color\":\"#EBF0F8\"},\"line\":{\"color\":\"white\"}},\"header\":{\"fill\":{\"color\":\"#C8D4E3\"},\"line\":{\"color\":\"white\"}},\"type\":\"table\"}],\"barpolar\":[{\"marker\":{\"line\":{\"color\":\"#E5ECF6\",\"width\":0.5},\"pattern\":{\"fillmode\":\"overlay\",\"size\":10,\"solidity\":0.2}},\"type\":\"barpolar\"}],\"pie\":[{\"automargin\":true,\"type\":\"pie\"}]},\"layout\":{\"autotypenumbers\":\"strict\",\"colorway\":[\"#636efa\",\"#EF553B\",\"#00cc96\",\"#ab63fa\",\"#FFA15A\",\"#19d3f3\",\"#FF6692\",\"#B6E880\",\"#FF97FF\",\"#FECB52\"],\"font\":{\"color\":\"#2a3f5f\"},\"hovermode\":\"closest\",\"hoverlabel\":{\"align\":\"left\"},\"paper_bgcolor\":\"white\",\"plot_bgcolor\":\"#E5ECF6\",\"polar\":{\"bgcolor\":\"#E5ECF6\",\"angularaxis\":{\"gridcolor\":\"white\",\"linecolor\":\"white\",\"ticks\":\"\"},\"radialaxis\":{\"gridcolor\":\"white\",\"linecolor\":\"white\",\"ticks\":\"\"}},\"ternary\":{\"bgcolor\":\"#E5ECF6\",\"aaxis\":{\"gridcolor\":\"white\",\"linecolor\":\"white\",\"ticks\":\"\"},\"baxis\":{\"gridcolor\":\"white\",\"linecolor\":\"white\",\"ticks\":\"\"},\"caxis\":{\"gridcolor\":\"white\",\"linecolor\":\"white\",\"ticks\":\"\"}},\"coloraxis\":{\"colorbar\":{\"outlinewidth\":0,\"ticks\":\"\"}},\"colorscale\":{\"sequential\":[[0.0,\"#0d0887\"],[0.1111111111111111,\"#46039f\"],[0.2222222222222222,\"#7201a8\"],[0.3333333333333333,\"#9c179e\"],[0.4444444444444444,\"#bd3786\"],[0.5555555555555556,\"#d8576b\"],[0.6666666666666666,\"#ed7953\"],[0.7777777777777778,\"#fb9f3a\"],[0.8888888888888888,\"#fdca26\"],[1.0,\"#f0f921\"]],\"sequentialminus\":[[0.0,\"#0d0887\"],[0.1111111111111111,\"#46039f\"],[0.2222222222222222,\"#7201a8\"],[0.3333333333333333,\"#9c179e\"],[0.4444444444444444,\"#bd3786\"],[0.5555555555555556,\"#d8576b\"],[0.6666666666666666,\"#ed7953\"],[0.7777777777777778,\"#fb9f3a\"],[0.8888888888888888,\"#fdca26\"],[1.0,\"#f0f921\"]],\"diverging\":[[0,\"#8e0152\"],[0.1,\"#c51b7d\"],[0.2,\"#de77ae\"],[0.3,\"#f1b6da\"],[0.4,\"#fde0ef\"],[0.5,\"#f7f7f7\"],[0.6,\"#e6f5d0\"],[0.7,\"#b8e186\"],[0.8,\"#7fbc41\"],[0.9,\"#4d9221\"],[1,\"#276419\"]]},\"xaxis\":{\"gridcolor\":\"white\",\"linecolor\":\"white\",\"ticks\":\"\",\"title\":{\"standoff\":15},\"zerolinecolor\":\"white\",\"automargin\":true,\"zerolinewidth\":2},\"yaxis\":{\"gridcolor\":\"white\",\"linecolor\":\"white\",\"ticks\":\"\",\"title\":{\"standoff\":15},\"zerolinecolor\":\"white\",\"automargin\":true,\"zerolinewidth\":2},\"scene\":{\"xaxis\":{\"backgroundcolor\":\"#E5ECF6\",\"gridcolor\":\"white\",\"linecolor\":\"white\",\"showbackground\":true,\"ticks\":\"\",\"zerolinecolor\":\"white\",\"gridwidth\":2},\"yaxis\":{\"backgroundcolor\":\"#E5ECF6\",\"gridcolor\":\"white\",\"linecolor\":\"white\",\"showbackground\":true,\"ticks\":\"\",\"zerolinecolor\":\"white\",\"gridwidth\":2},\"zaxis\":{\"backgroundcolor\":\"#E5ECF6\",\"gridcolor\":\"white\",\"linecolor\":\"white\",\"showbackground\":true,\"ticks\":\"\",\"zerolinecolor\":\"white\",\"gridwidth\":2}},\"shapedefaults\":{\"line\":{\"color\":\"#2a3f5f\"}},\"annotationdefaults\":{\"arrowcolor\":\"#2a3f5f\",\"arrowhead\":0,\"arrowwidth\":1},\"geo\":{\"bgcolor\":\"white\",\"landcolor\":\"#E5ECF6\",\"subunitcolor\":\"white\",\"showland\":true,\"showlakes\":true,\"lakecolor\":\"white\"},\"title\":{\"x\":0.05},\"mapbox\":{\"style\":\"light\"}}},\"xaxis\":{\"anchor\":\"y\",\"domain\":[0.0,1.0],\"title\":{\"text\":\"filesize per chunk\"}},\"yaxis\":{\"anchor\":\"x\",\"domain\":[0.0,1.0],\"title\":{\"text\":\"time taken\"},\"type\":\"log\"},\"legend\":{\"title\":{\"text\":\"engine\"},\"tracegroupgap\":0},\"title\":{\"text\":\"filesize per chunk\"},\"boxmode\":\"group\"},                        {\"responsive\": true}                    ).then(function(){\n",
       "                            \n",
       "var gd = document.getElementById('c2d5d31a-f0dd-4ec4-a892-05906cf7b287');\n",
       "var x = new MutationObserver(function (mutations, observer) {{\n",
       "        var display = window.getComputedStyle(gd).display;\n",
       "        if (!display || display === 'none') {{\n",
       "            console.log([gd, 'removed!']);\n",
       "            Plotly.purge(gd);\n",
       "            observer.disconnect();\n",
       "        }}\n",
       "}});\n",
       "\n",
       "// Listen for the removal of the full notebook cells\n",
       "var notebookContainer = gd.closest('#notebook-container');\n",
       "if (notebookContainer) {{\n",
       "    x.observe(notebookContainer, {childList: true});\n",
       "}}\n",
       "\n",
       "// Listen for the clearing of the current output cell\n",
       "var outputEl = gd.closest('.output');\n",
       "if (outputEl) {{\n",
       "    x.observe(outputEl, {childList: true});\n",
       "}}\n",
       "\n",
       "                        })                };                });            </script>        </div>"
      ]
     },
     "metadata": {},
     "output_type": "display_data"
    },
    {
     "data": {
      "application/vnd.plotly.v1+json": {
       "config": {
        "plotlyServerURL": "https://plot.ly"
       },
       "data": [
        {
         "alignmentgroup": "True",
         "hovertemplate": "filesize per chunk=2.0 MB<br>engine=%{x}<br>time taken=%{y}<extra></extra>",
         "legendgroup": "2.0 MB",
         "marker": {
          "color": "#636efa"
         },
         "name": "2.0 MB",
         "notched": false,
         "offsetgroup": "2.0 MB",
         "orientation": "v",
         "showlegend": true,
         "type": "box",
         "x": [
          "zarr",
          "zarr",
          "zarr",
          "zarr",
          "zarr",
          "zarr",
          "zarr",
          "zarr",
          "zarr",
          "zarr"
         ],
         "x0": " ",
         "xaxis": "x",
         "y": [
          1.254719685,
          1.248066141,
          1.292569566,
          1.314146394,
          1.313602982,
          1.289282074,
          1.254550035,
          1.266733049,
          1.267689895,
          1.260372463
         ],
         "y0": " ",
         "yaxis": "y"
        },
        {
         "alignmentgroup": "True",
         "hovertemplate": "filesize per chunk=16.0 MB<br>engine=%{x}<br>time taken=%{y}<extra></extra>",
         "legendgroup": "16.0 MB",
         "marker": {
          "color": "#EF553B"
         },
         "name": "16.0 MB",
         "notched": false,
         "offsetgroup": "16.0 MB",
         "orientation": "v",
         "showlegend": true,
         "type": "box",
         "x": [
          "zarr",
          "zarr",
          "zarr",
          "zarr",
          "zarr",
          "zarr",
          "zarr",
          "zarr",
          "zarr",
          "zarr"
         ],
         "x0": " ",
         "xaxis": "x",
         "y": [
          0.47734869999999996,
          0.47810641600000003,
          0.475131742,
          0.49847422,
          0.471999887,
          0.49030078200000005,
          0.47879551000000004,
          0.479558588,
          0.47660526900000005,
          0.46878278
         ],
         "y0": " ",
         "yaxis": "y"
        },
        {
         "alignmentgroup": "True",
         "hovertemplate": "filesize per chunk=32.0 MB<br>engine=%{x}<br>time taken=%{y}<extra></extra>",
         "legendgroup": "32.0 MB",
         "marker": {
          "color": "#00cc96"
         },
         "name": "32.0 MB",
         "notched": false,
         "offsetgroup": "32.0 MB",
         "orientation": "v",
         "showlegend": true,
         "type": "box",
         "x": [
          "zarr",
          "zarr",
          "zarr",
          "zarr",
          "zarr",
          "zarr",
          "zarr",
          "zarr",
          "zarr",
          "zarr"
         ],
         "x0": " ",
         "xaxis": "x",
         "y": [
          0.341167112,
          0.346485843,
          0.337719557,
          0.326252441,
          0.317186783,
          0.32556866900000003,
          0.322510964,
          0.325034704,
          0.352799583,
          0.32193485600000005
         ],
         "y0": " ",
         "yaxis": "y"
        },
        {
         "alignmentgroup": "True",
         "hovertemplate": "filesize per chunk=64.0 MB<br>engine=%{x}<br>time taken=%{y}<extra></extra>",
         "legendgroup": "64.0 MB",
         "marker": {
          "color": "#ab63fa"
         },
         "name": "64.0 MB",
         "notched": false,
         "offsetgroup": "64.0 MB",
         "orientation": "v",
         "showlegend": true,
         "type": "box",
         "x": [
          "zarr",
          "zarr",
          "zarr",
          "zarr",
          "zarr",
          "zarr",
          "zarr",
          "zarr",
          "zarr",
          "zarr"
         ],
         "x0": " ",
         "xaxis": "x",
         "y": [
          0.300894643,
          0.462857507,
          0.30194046700000005,
          0.299499148,
          0.30833920800000003,
          0.31830092,
          0.30179614600000004,
          0.309152392,
          0.31024292600000003,
          0.312736871
         ],
         "y0": " ",
         "yaxis": "y"
        },
        {
         "alignmentgroup": "True",
         "hovertemplate": "filesize per chunk=128.0 MB<br>engine=%{x}<br>time taken=%{y}<extra></extra>",
         "legendgroup": "128.0 MB",
         "marker": {
          "color": "#FFA15A"
         },
         "name": "128.0 MB",
         "notched": false,
         "offsetgroup": "128.0 MB",
         "orientation": "v",
         "showlegend": true,
         "type": "box",
         "x": [
          "zarr",
          "zarr",
          "zarr",
          "zarr",
          "zarr",
          "zarr",
          "zarr",
          "zarr",
          "zarr",
          "zarr"
         ],
         "x0": " ",
         "xaxis": "x",
         "y": [
          0.302416801,
          0.269407463,
          0.268864951,
          0.27021970500000003,
          0.26755000300000004,
          0.27700697700000004,
          0.270246684,
          0.278290395,
          0.27775366700000004,
          0.289305542
         ],
         "y0": " ",
         "yaxis": "y"
        },
        {
         "alignmentgroup": "True",
         "hovertemplate": "filesize per chunk=256.0 MB<br>engine=%{x}<br>time taken=%{y}<extra></extra>",
         "legendgroup": "256.0 MB",
         "marker": {
          "color": "#19d3f3"
         },
         "name": "256.0 MB",
         "notched": false,
         "offsetgroup": "256.0 MB",
         "orientation": "v",
         "showlegend": true,
         "type": "box",
         "x": [
          "zarr",
          "zarr",
          "zarr",
          "zarr",
          "zarr",
          "zarr",
          "zarr",
          "zarr",
          "zarr",
          "zarr"
         ],
         "x0": " ",
         "xaxis": "x",
         "y": [
          0.35860182500000004,
          0.404696704,
          0.6036628110000001,
          0.349247028,
          0.32979555400000005,
          0.327063043,
          0.341437916,
          0.329447303,
          0.359248818,
          0.332353106
         ],
         "y0": " ",
         "yaxis": "y"
        },
        {
         "alignmentgroup": "True",
         "hovertemplate": "filesize per chunk=512.0 MB<br>engine=%{x}<br>time taken=%{y}<extra></extra>",
         "legendgroup": "512.0 MB",
         "marker": {
          "color": "#FF6692"
         },
         "name": "512.0 MB",
         "notched": false,
         "offsetgroup": "512.0 MB",
         "orientation": "v",
         "showlegend": true,
         "type": "box",
         "x": [
          "zarr",
          "zarr",
          "zarr",
          "zarr",
          "zarr",
          "zarr",
          "zarr",
          "zarr",
          "zarr",
          "zarr"
         ],
         "x0": " ",
         "xaxis": "x",
         "y": [
          0.726337961,
          0.523674849,
          0.480964775,
          0.46715677400000005,
          0.48670843700000005,
          0.47968150200000004,
          0.46848868800000004,
          0.468050658,
          0.481170835,
          0.485542856
         ],
         "y0": " ",
         "yaxis": "y"
        },
        {
         "alignmentgroup": "True",
         "hovertemplate": "filesize per chunk=1024.0 MB<br>engine=%{x}<br>time taken=%{y}<extra></extra>",
         "legendgroup": "1024.0 MB",
         "marker": {
          "color": "#B6E880"
         },
         "name": "1024.0 MB",
         "notched": false,
         "offsetgroup": "1024.0 MB",
         "orientation": "v",
         "showlegend": true,
         "type": "box",
         "x": [
          "zarr",
          "zarr",
          "zarr",
          "zarr",
          "zarr",
          "zarr",
          "zarr",
          "zarr",
          "zarr",
          "zarr"
         ],
         "x0": " ",
         "xaxis": "x",
         "y": [
          0.8950659540000001,
          0.9446840860000001,
          0.94388729,
          0.8315148790000001,
          0.819262417,
          0.8176201470000001,
          0.817028666,
          0.819191114,
          0.811937299,
          0.8105739710000001
         ],
         "y0": " ",
         "yaxis": "y"
        }
       ],
       "layout": {
        "boxmode": "group",
        "legend": {
         "title": {
          "text": "filesize per chunk"
         },
         "tracegroupgap": 0
        },
        "margin": {
         "t": 60
        },
        "template": {
         "data": {
          "bar": [
           {
            "error_x": {
             "color": "#2a3f5f"
            },
            "error_y": {
             "color": "#2a3f5f"
            },
            "marker": {
             "line": {
              "color": "#E5ECF6",
              "width": 0.5
             },
             "pattern": {
              "fillmode": "overlay",
              "size": 10,
              "solidity": 0.2
             }
            },
            "type": "bar"
           }
          ],
          "barpolar": [
           {
            "marker": {
             "line": {
              "color": "#E5ECF6",
              "width": 0.5
             },
             "pattern": {
              "fillmode": "overlay",
              "size": 10,
              "solidity": 0.2
             }
            },
            "type": "barpolar"
           }
          ],
          "carpet": [
           {
            "aaxis": {
             "endlinecolor": "#2a3f5f",
             "gridcolor": "white",
             "linecolor": "white",
             "minorgridcolor": "white",
             "startlinecolor": "#2a3f5f"
            },
            "baxis": {
             "endlinecolor": "#2a3f5f",
             "gridcolor": "white",
             "linecolor": "white",
             "minorgridcolor": "white",
             "startlinecolor": "#2a3f5f"
            },
            "type": "carpet"
           }
          ],
          "choropleth": [
           {
            "colorbar": {
             "outlinewidth": 0,
             "ticks": ""
            },
            "type": "choropleth"
           }
          ],
          "contour": [
           {
            "colorbar": {
             "outlinewidth": 0,
             "ticks": ""
            },
            "colorscale": [
             [
              0,
              "#0d0887"
             ],
             [
              0.1111111111111111,
              "#46039f"
             ],
             [
              0.2222222222222222,
              "#7201a8"
             ],
             [
              0.3333333333333333,
              "#9c179e"
             ],
             [
              0.4444444444444444,
              "#bd3786"
             ],
             [
              0.5555555555555556,
              "#d8576b"
             ],
             [
              0.6666666666666666,
              "#ed7953"
             ],
             [
              0.7777777777777778,
              "#fb9f3a"
             ],
             [
              0.8888888888888888,
              "#fdca26"
             ],
             [
              1,
              "#f0f921"
             ]
            ],
            "type": "contour"
           }
          ],
          "contourcarpet": [
           {
            "colorbar": {
             "outlinewidth": 0,
             "ticks": ""
            },
            "type": "contourcarpet"
           }
          ],
          "heatmap": [
           {
            "colorbar": {
             "outlinewidth": 0,
             "ticks": ""
            },
            "colorscale": [
             [
              0,
              "#0d0887"
             ],
             [
              0.1111111111111111,
              "#46039f"
             ],
             [
              0.2222222222222222,
              "#7201a8"
             ],
             [
              0.3333333333333333,
              "#9c179e"
             ],
             [
              0.4444444444444444,
              "#bd3786"
             ],
             [
              0.5555555555555556,
              "#d8576b"
             ],
             [
              0.6666666666666666,
              "#ed7953"
             ],
             [
              0.7777777777777778,
              "#fb9f3a"
             ],
             [
              0.8888888888888888,
              "#fdca26"
             ],
             [
              1,
              "#f0f921"
             ]
            ],
            "type": "heatmap"
           }
          ],
          "heatmapgl": [
           {
            "colorbar": {
             "outlinewidth": 0,
             "ticks": ""
            },
            "colorscale": [
             [
              0,
              "#0d0887"
             ],
             [
              0.1111111111111111,
              "#46039f"
             ],
             [
              0.2222222222222222,
              "#7201a8"
             ],
             [
              0.3333333333333333,
              "#9c179e"
             ],
             [
              0.4444444444444444,
              "#bd3786"
             ],
             [
              0.5555555555555556,
              "#d8576b"
             ],
             [
              0.6666666666666666,
              "#ed7953"
             ],
             [
              0.7777777777777778,
              "#fb9f3a"
             ],
             [
              0.8888888888888888,
              "#fdca26"
             ],
             [
              1,
              "#f0f921"
             ]
            ],
            "type": "heatmapgl"
           }
          ],
          "histogram": [
           {
            "marker": {
             "pattern": {
              "fillmode": "overlay",
              "size": 10,
              "solidity": 0.2
             }
            },
            "type": "histogram"
           }
          ],
          "histogram2d": [
           {
            "colorbar": {
             "outlinewidth": 0,
             "ticks": ""
            },
            "colorscale": [
             [
              0,
              "#0d0887"
             ],
             [
              0.1111111111111111,
              "#46039f"
             ],
             [
              0.2222222222222222,
              "#7201a8"
             ],
             [
              0.3333333333333333,
              "#9c179e"
             ],
             [
              0.4444444444444444,
              "#bd3786"
             ],
             [
              0.5555555555555556,
              "#d8576b"
             ],
             [
              0.6666666666666666,
              "#ed7953"
             ],
             [
              0.7777777777777778,
              "#fb9f3a"
             ],
             [
              0.8888888888888888,
              "#fdca26"
             ],
             [
              1,
              "#f0f921"
             ]
            ],
            "type": "histogram2d"
           }
          ],
          "histogram2dcontour": [
           {
            "colorbar": {
             "outlinewidth": 0,
             "ticks": ""
            },
            "colorscale": [
             [
              0,
              "#0d0887"
             ],
             [
              0.1111111111111111,
              "#46039f"
             ],
             [
              0.2222222222222222,
              "#7201a8"
             ],
             [
              0.3333333333333333,
              "#9c179e"
             ],
             [
              0.4444444444444444,
              "#bd3786"
             ],
             [
              0.5555555555555556,
              "#d8576b"
             ],
             [
              0.6666666666666666,
              "#ed7953"
             ],
             [
              0.7777777777777778,
              "#fb9f3a"
             ],
             [
              0.8888888888888888,
              "#fdca26"
             ],
             [
              1,
              "#f0f921"
             ]
            ],
            "type": "histogram2dcontour"
           }
          ],
          "mesh3d": [
           {
            "colorbar": {
             "outlinewidth": 0,
             "ticks": ""
            },
            "type": "mesh3d"
           }
          ],
          "parcoords": [
           {
            "line": {
             "colorbar": {
              "outlinewidth": 0,
              "ticks": ""
             }
            },
            "type": "parcoords"
           }
          ],
          "pie": [
           {
            "automargin": true,
            "type": "pie"
           }
          ],
          "scatter": [
           {
            "fillpattern": {
             "fillmode": "overlay",
             "size": 10,
             "solidity": 0.2
            },
            "type": "scatter"
           }
          ],
          "scatter3d": [
           {
            "line": {
             "colorbar": {
              "outlinewidth": 0,
              "ticks": ""
             }
            },
            "marker": {
             "colorbar": {
              "outlinewidth": 0,
              "ticks": ""
             }
            },
            "type": "scatter3d"
           }
          ],
          "scattercarpet": [
           {
            "marker": {
             "colorbar": {
              "outlinewidth": 0,
              "ticks": ""
             }
            },
            "type": "scattercarpet"
           }
          ],
          "scattergeo": [
           {
            "marker": {
             "colorbar": {
              "outlinewidth": 0,
              "ticks": ""
             }
            },
            "type": "scattergeo"
           }
          ],
          "scattergl": [
           {
            "marker": {
             "colorbar": {
              "outlinewidth": 0,
              "ticks": ""
             }
            },
            "type": "scattergl"
           }
          ],
          "scattermapbox": [
           {
            "marker": {
             "colorbar": {
              "outlinewidth": 0,
              "ticks": ""
             }
            },
            "type": "scattermapbox"
           }
          ],
          "scatterpolar": [
           {
            "marker": {
             "colorbar": {
              "outlinewidth": 0,
              "ticks": ""
             }
            },
            "type": "scatterpolar"
           }
          ],
          "scatterpolargl": [
           {
            "marker": {
             "colorbar": {
              "outlinewidth": 0,
              "ticks": ""
             }
            },
            "type": "scatterpolargl"
           }
          ],
          "scatterternary": [
           {
            "marker": {
             "colorbar": {
              "outlinewidth": 0,
              "ticks": ""
             }
            },
            "type": "scatterternary"
           }
          ],
          "surface": [
           {
            "colorbar": {
             "outlinewidth": 0,
             "ticks": ""
            },
            "colorscale": [
             [
              0,
              "#0d0887"
             ],
             [
              0.1111111111111111,
              "#46039f"
             ],
             [
              0.2222222222222222,
              "#7201a8"
             ],
             [
              0.3333333333333333,
              "#9c179e"
             ],
             [
              0.4444444444444444,
              "#bd3786"
             ],
             [
              0.5555555555555556,
              "#d8576b"
             ],
             [
              0.6666666666666666,
              "#ed7953"
             ],
             [
              0.7777777777777778,
              "#fb9f3a"
             ],
             [
              0.8888888888888888,
              "#fdca26"
             ],
             [
              1,
              "#f0f921"
             ]
            ],
            "type": "surface"
           }
          ],
          "table": [
           {
            "cells": {
             "fill": {
              "color": "#EBF0F8"
             },
             "line": {
              "color": "white"
             }
            },
            "header": {
             "fill": {
              "color": "#C8D4E3"
             },
             "line": {
              "color": "white"
             }
            },
            "type": "table"
           }
          ]
         },
         "layout": {
          "annotationdefaults": {
           "arrowcolor": "#2a3f5f",
           "arrowhead": 0,
           "arrowwidth": 1
          },
          "autotypenumbers": "strict",
          "coloraxis": {
           "colorbar": {
            "outlinewidth": 0,
            "ticks": ""
           }
          },
          "colorscale": {
           "diverging": [
            [
             0,
             "#8e0152"
            ],
            [
             0.1,
             "#c51b7d"
            ],
            [
             0.2,
             "#de77ae"
            ],
            [
             0.3,
             "#f1b6da"
            ],
            [
             0.4,
             "#fde0ef"
            ],
            [
             0.5,
             "#f7f7f7"
            ],
            [
             0.6,
             "#e6f5d0"
            ],
            [
             0.7,
             "#b8e186"
            ],
            [
             0.8,
             "#7fbc41"
            ],
            [
             0.9,
             "#4d9221"
            ],
            [
             1,
             "#276419"
            ]
           ],
           "sequential": [
            [
             0,
             "#0d0887"
            ],
            [
             0.1111111111111111,
             "#46039f"
            ],
            [
             0.2222222222222222,
             "#7201a8"
            ],
            [
             0.3333333333333333,
             "#9c179e"
            ],
            [
             0.4444444444444444,
             "#bd3786"
            ],
            [
             0.5555555555555556,
             "#d8576b"
            ],
            [
             0.6666666666666666,
             "#ed7953"
            ],
            [
             0.7777777777777778,
             "#fb9f3a"
            ],
            [
             0.8888888888888888,
             "#fdca26"
            ],
            [
             1,
             "#f0f921"
            ]
           ],
           "sequentialminus": [
            [
             0,
             "#0d0887"
            ],
            [
             0.1111111111111111,
             "#46039f"
            ],
            [
             0.2222222222222222,
             "#7201a8"
            ],
            [
             0.3333333333333333,
             "#9c179e"
            ],
            [
             0.4444444444444444,
             "#bd3786"
            ],
            [
             0.5555555555555556,
             "#d8576b"
            ],
            [
             0.6666666666666666,
             "#ed7953"
            ],
            [
             0.7777777777777778,
             "#fb9f3a"
            ],
            [
             0.8888888888888888,
             "#fdca26"
            ],
            [
             1,
             "#f0f921"
            ]
           ]
          },
          "colorway": [
           "#636efa",
           "#EF553B",
           "#00cc96",
           "#ab63fa",
           "#FFA15A",
           "#19d3f3",
           "#FF6692",
           "#B6E880",
           "#FF97FF",
           "#FECB52"
          ],
          "font": {
           "color": "#2a3f5f"
          },
          "geo": {
           "bgcolor": "white",
           "lakecolor": "white",
           "landcolor": "#E5ECF6",
           "showlakes": true,
           "showland": true,
           "subunitcolor": "white"
          },
          "hoverlabel": {
           "align": "left"
          },
          "hovermode": "closest",
          "mapbox": {
           "style": "light"
          },
          "paper_bgcolor": "white",
          "plot_bgcolor": "#E5ECF6",
          "polar": {
           "angularaxis": {
            "gridcolor": "white",
            "linecolor": "white",
            "ticks": ""
           },
           "bgcolor": "#E5ECF6",
           "radialaxis": {
            "gridcolor": "white",
            "linecolor": "white",
            "ticks": ""
           }
          },
          "scene": {
           "xaxis": {
            "backgroundcolor": "#E5ECF6",
            "gridcolor": "white",
            "gridwidth": 2,
            "linecolor": "white",
            "showbackground": true,
            "ticks": "",
            "zerolinecolor": "white"
           },
           "yaxis": {
            "backgroundcolor": "#E5ECF6",
            "gridcolor": "white",
            "gridwidth": 2,
            "linecolor": "white",
            "showbackground": true,
            "ticks": "",
            "zerolinecolor": "white"
           },
           "zaxis": {
            "backgroundcolor": "#E5ECF6",
            "gridcolor": "white",
            "gridwidth": 2,
            "linecolor": "white",
            "showbackground": true,
            "ticks": "",
            "zerolinecolor": "white"
           }
          },
          "shapedefaults": {
           "line": {
            "color": "#2a3f5f"
           }
          },
          "ternary": {
           "aaxis": {
            "gridcolor": "white",
            "linecolor": "white",
            "ticks": ""
           },
           "baxis": {
            "gridcolor": "white",
            "linecolor": "white",
            "ticks": ""
           },
           "bgcolor": "#E5ECF6",
           "caxis": {
            "gridcolor": "white",
            "linecolor": "white",
            "ticks": ""
           }
          },
          "title": {
           "x": 0.05
          },
          "xaxis": {
           "automargin": true,
           "gridcolor": "white",
           "linecolor": "white",
           "ticks": "",
           "title": {
            "standoff": 15
           },
           "zerolinecolor": "white",
           "zerolinewidth": 2
          },
          "yaxis": {
           "automargin": true,
           "gridcolor": "white",
           "linecolor": "white",
           "ticks": "",
           "title": {
            "standoff": 15
           },
           "zerolinecolor": "white",
           "zerolinewidth": 2
          }
         }
        },
        "xaxis": {
         "anchor": "y",
         "domain": [
          0,
          1
         ],
         "title": {
          "text": "engine"
         }
        },
        "yaxis": {
         "anchor": "x",
         "domain": [
          0,
          1
         ],
         "title": {
          "text": "time taken"
         },
         "type": "log"
        }
       }
      },
      "text/html": [
       "<div>                            <div id=\"2e4912b6-1141-4b45-8f46-a3d4b06ad402\" class=\"plotly-graph-div\" style=\"height:525px; width:100%;\"></div>            <script type=\"text/javascript\">                require([\"plotly\"], function(Plotly) {                    window.PLOTLYENV=window.PLOTLYENV || {};                                    if (document.getElementById(\"2e4912b6-1141-4b45-8f46-a3d4b06ad402\")) {                    Plotly.newPlot(                        \"2e4912b6-1141-4b45-8f46-a3d4b06ad402\",                        [{\"alignmentgroup\":\"True\",\"hovertemplate\":\"filesize per chunk=2.0 MB\\u003cbr\\u003eengine=%{x}\\u003cbr\\u003etime taken=%{y}\\u003cextra\\u003e\\u003c\\u002fextra\\u003e\",\"legendgroup\":\"2.0 MB\",\"marker\":{\"color\":\"#636efa\"},\"name\":\"2.0 MB\",\"notched\":false,\"offsetgroup\":\"2.0 MB\",\"orientation\":\"v\",\"showlegend\":true,\"x\":[\"zarr\",\"zarr\",\"zarr\",\"zarr\",\"zarr\",\"zarr\",\"zarr\",\"zarr\",\"zarr\",\"zarr\"],\"x0\":\" \",\"xaxis\":\"x\",\"y\":[1.254719685,1.248066141,1.292569566,1.314146394,1.313602982,1.289282074,1.254550035,1.266733049,1.267689895,1.260372463],\"y0\":\" \",\"yaxis\":\"y\",\"type\":\"box\"},{\"alignmentgroup\":\"True\",\"hovertemplate\":\"filesize per chunk=16.0 MB\\u003cbr\\u003eengine=%{x}\\u003cbr\\u003etime taken=%{y}\\u003cextra\\u003e\\u003c\\u002fextra\\u003e\",\"legendgroup\":\"16.0 MB\",\"marker\":{\"color\":\"#EF553B\"},\"name\":\"16.0 MB\",\"notched\":false,\"offsetgroup\":\"16.0 MB\",\"orientation\":\"v\",\"showlegend\":true,\"x\":[\"zarr\",\"zarr\",\"zarr\",\"zarr\",\"zarr\",\"zarr\",\"zarr\",\"zarr\",\"zarr\",\"zarr\"],\"x0\":\" \",\"xaxis\":\"x\",\"y\":[0.47734869999999996,0.47810641600000003,0.475131742,0.49847422,0.471999887,0.49030078200000005,0.47879551000000004,0.479558588,0.47660526900000005,0.46878278],\"y0\":\" \",\"yaxis\":\"y\",\"type\":\"box\"},{\"alignmentgroup\":\"True\",\"hovertemplate\":\"filesize per chunk=32.0 MB\\u003cbr\\u003eengine=%{x}\\u003cbr\\u003etime taken=%{y}\\u003cextra\\u003e\\u003c\\u002fextra\\u003e\",\"legendgroup\":\"32.0 MB\",\"marker\":{\"color\":\"#00cc96\"},\"name\":\"32.0 MB\",\"notched\":false,\"offsetgroup\":\"32.0 MB\",\"orientation\":\"v\",\"showlegend\":true,\"x\":[\"zarr\",\"zarr\",\"zarr\",\"zarr\",\"zarr\",\"zarr\",\"zarr\",\"zarr\",\"zarr\",\"zarr\"],\"x0\":\" \",\"xaxis\":\"x\",\"y\":[0.341167112,0.346485843,0.337719557,0.326252441,0.317186783,0.32556866900000003,0.322510964,0.325034704,0.352799583,0.32193485600000005],\"y0\":\" \",\"yaxis\":\"y\",\"type\":\"box\"},{\"alignmentgroup\":\"True\",\"hovertemplate\":\"filesize per chunk=64.0 MB\\u003cbr\\u003eengine=%{x}\\u003cbr\\u003etime taken=%{y}\\u003cextra\\u003e\\u003c\\u002fextra\\u003e\",\"legendgroup\":\"64.0 MB\",\"marker\":{\"color\":\"#ab63fa\"},\"name\":\"64.0 MB\",\"notched\":false,\"offsetgroup\":\"64.0 MB\",\"orientation\":\"v\",\"showlegend\":true,\"x\":[\"zarr\",\"zarr\",\"zarr\",\"zarr\",\"zarr\",\"zarr\",\"zarr\",\"zarr\",\"zarr\",\"zarr\"],\"x0\":\" \",\"xaxis\":\"x\",\"y\":[0.300894643,0.462857507,0.30194046700000005,0.299499148,0.30833920800000003,0.31830092,0.30179614600000004,0.309152392,0.31024292600000003,0.312736871],\"y0\":\" \",\"yaxis\":\"y\",\"type\":\"box\"},{\"alignmentgroup\":\"True\",\"hovertemplate\":\"filesize per chunk=128.0 MB\\u003cbr\\u003eengine=%{x}\\u003cbr\\u003etime taken=%{y}\\u003cextra\\u003e\\u003c\\u002fextra\\u003e\",\"legendgroup\":\"128.0 MB\",\"marker\":{\"color\":\"#FFA15A\"},\"name\":\"128.0 MB\",\"notched\":false,\"offsetgroup\":\"128.0 MB\",\"orientation\":\"v\",\"showlegend\":true,\"x\":[\"zarr\",\"zarr\",\"zarr\",\"zarr\",\"zarr\",\"zarr\",\"zarr\",\"zarr\",\"zarr\",\"zarr\"],\"x0\":\" \",\"xaxis\":\"x\",\"y\":[0.302416801,0.269407463,0.268864951,0.27021970500000003,0.26755000300000004,0.27700697700000004,0.270246684,0.278290395,0.27775366700000004,0.289305542],\"y0\":\" \",\"yaxis\":\"y\",\"type\":\"box\"},{\"alignmentgroup\":\"True\",\"hovertemplate\":\"filesize per chunk=256.0 MB\\u003cbr\\u003eengine=%{x}\\u003cbr\\u003etime taken=%{y}\\u003cextra\\u003e\\u003c\\u002fextra\\u003e\",\"legendgroup\":\"256.0 MB\",\"marker\":{\"color\":\"#19d3f3\"},\"name\":\"256.0 MB\",\"notched\":false,\"offsetgroup\":\"256.0 MB\",\"orientation\":\"v\",\"showlegend\":true,\"x\":[\"zarr\",\"zarr\",\"zarr\",\"zarr\",\"zarr\",\"zarr\",\"zarr\",\"zarr\",\"zarr\",\"zarr\"],\"x0\":\" \",\"xaxis\":\"x\",\"y\":[0.35860182500000004,0.404696704,0.6036628110000001,0.349247028,0.32979555400000005,0.327063043,0.341437916,0.329447303,0.359248818,0.332353106],\"y0\":\" \",\"yaxis\":\"y\",\"type\":\"box\"},{\"alignmentgroup\":\"True\",\"hovertemplate\":\"filesize per chunk=512.0 MB\\u003cbr\\u003eengine=%{x}\\u003cbr\\u003etime taken=%{y}\\u003cextra\\u003e\\u003c\\u002fextra\\u003e\",\"legendgroup\":\"512.0 MB\",\"marker\":{\"color\":\"#FF6692\"},\"name\":\"512.0 MB\",\"notched\":false,\"offsetgroup\":\"512.0 MB\",\"orientation\":\"v\",\"showlegend\":true,\"x\":[\"zarr\",\"zarr\",\"zarr\",\"zarr\",\"zarr\",\"zarr\",\"zarr\",\"zarr\",\"zarr\",\"zarr\"],\"x0\":\" \",\"xaxis\":\"x\",\"y\":[0.726337961,0.523674849,0.480964775,0.46715677400000005,0.48670843700000005,0.47968150200000004,0.46848868800000004,0.468050658,0.481170835,0.485542856],\"y0\":\" \",\"yaxis\":\"y\",\"type\":\"box\"},{\"alignmentgroup\":\"True\",\"hovertemplate\":\"filesize per chunk=1024.0 MB\\u003cbr\\u003eengine=%{x}\\u003cbr\\u003etime taken=%{y}\\u003cextra\\u003e\\u003c\\u002fextra\\u003e\",\"legendgroup\":\"1024.0 MB\",\"marker\":{\"color\":\"#B6E880\"},\"name\":\"1024.0 MB\",\"notched\":false,\"offsetgroup\":\"1024.0 MB\",\"orientation\":\"v\",\"showlegend\":true,\"x\":[\"zarr\",\"zarr\",\"zarr\",\"zarr\",\"zarr\",\"zarr\",\"zarr\",\"zarr\",\"zarr\",\"zarr\"],\"x0\":\" \",\"xaxis\":\"x\",\"y\":[0.8950659540000001,0.9446840860000001,0.94388729,0.8315148790000001,0.819262417,0.8176201470000001,0.817028666,0.819191114,0.811937299,0.8105739710000001],\"y0\":\" \",\"yaxis\":\"y\",\"type\":\"box\"}],                        {\"template\":{\"data\":{\"histogram2dcontour\":[{\"type\":\"histogram2dcontour\",\"colorbar\":{\"outlinewidth\":0,\"ticks\":\"\"},\"colorscale\":[[0.0,\"#0d0887\"],[0.1111111111111111,\"#46039f\"],[0.2222222222222222,\"#7201a8\"],[0.3333333333333333,\"#9c179e\"],[0.4444444444444444,\"#bd3786\"],[0.5555555555555556,\"#d8576b\"],[0.6666666666666666,\"#ed7953\"],[0.7777777777777778,\"#fb9f3a\"],[0.8888888888888888,\"#fdca26\"],[1.0,\"#f0f921\"]]}],\"choropleth\":[{\"type\":\"choropleth\",\"colorbar\":{\"outlinewidth\":0,\"ticks\":\"\"}}],\"histogram2d\":[{\"type\":\"histogram2d\",\"colorbar\":{\"outlinewidth\":0,\"ticks\":\"\"},\"colorscale\":[[0.0,\"#0d0887\"],[0.1111111111111111,\"#46039f\"],[0.2222222222222222,\"#7201a8\"],[0.3333333333333333,\"#9c179e\"],[0.4444444444444444,\"#bd3786\"],[0.5555555555555556,\"#d8576b\"],[0.6666666666666666,\"#ed7953\"],[0.7777777777777778,\"#fb9f3a\"],[0.8888888888888888,\"#fdca26\"],[1.0,\"#f0f921\"]]}],\"heatmap\":[{\"type\":\"heatmap\",\"colorbar\":{\"outlinewidth\":0,\"ticks\":\"\"},\"colorscale\":[[0.0,\"#0d0887\"],[0.1111111111111111,\"#46039f\"],[0.2222222222222222,\"#7201a8\"],[0.3333333333333333,\"#9c179e\"],[0.4444444444444444,\"#bd3786\"],[0.5555555555555556,\"#d8576b\"],[0.6666666666666666,\"#ed7953\"],[0.7777777777777778,\"#fb9f3a\"],[0.8888888888888888,\"#fdca26\"],[1.0,\"#f0f921\"]]}],\"heatmapgl\":[{\"type\":\"heatmapgl\",\"colorbar\":{\"outlinewidth\":0,\"ticks\":\"\"},\"colorscale\":[[0.0,\"#0d0887\"],[0.1111111111111111,\"#46039f\"],[0.2222222222222222,\"#7201a8\"],[0.3333333333333333,\"#9c179e\"],[0.4444444444444444,\"#bd3786\"],[0.5555555555555556,\"#d8576b\"],[0.6666666666666666,\"#ed7953\"],[0.7777777777777778,\"#fb9f3a\"],[0.8888888888888888,\"#fdca26\"],[1.0,\"#f0f921\"]]}],\"contourcarpet\":[{\"type\":\"contourcarpet\",\"colorbar\":{\"outlinewidth\":0,\"ticks\":\"\"}}],\"contour\":[{\"type\":\"contour\",\"colorbar\":{\"outlinewidth\":0,\"ticks\":\"\"},\"colorscale\":[[0.0,\"#0d0887\"],[0.1111111111111111,\"#46039f\"],[0.2222222222222222,\"#7201a8\"],[0.3333333333333333,\"#9c179e\"],[0.4444444444444444,\"#bd3786\"],[0.5555555555555556,\"#d8576b\"],[0.6666666666666666,\"#ed7953\"],[0.7777777777777778,\"#fb9f3a\"],[0.8888888888888888,\"#fdca26\"],[1.0,\"#f0f921\"]]}],\"surface\":[{\"type\":\"surface\",\"colorbar\":{\"outlinewidth\":0,\"ticks\":\"\"},\"colorscale\":[[0.0,\"#0d0887\"],[0.1111111111111111,\"#46039f\"],[0.2222222222222222,\"#7201a8\"],[0.3333333333333333,\"#9c179e\"],[0.4444444444444444,\"#bd3786\"],[0.5555555555555556,\"#d8576b\"],[0.6666666666666666,\"#ed7953\"],[0.7777777777777778,\"#fb9f3a\"],[0.8888888888888888,\"#fdca26\"],[1.0,\"#f0f921\"]]}],\"mesh3d\":[{\"type\":\"mesh3d\",\"colorbar\":{\"outlinewidth\":0,\"ticks\":\"\"}}],\"scatter\":[{\"fillpattern\":{\"fillmode\":\"overlay\",\"size\":10,\"solidity\":0.2},\"type\":\"scatter\"}],\"parcoords\":[{\"type\":\"parcoords\",\"line\":{\"colorbar\":{\"outlinewidth\":0,\"ticks\":\"\"}}}],\"scatterpolargl\":[{\"type\":\"scatterpolargl\",\"marker\":{\"colorbar\":{\"outlinewidth\":0,\"ticks\":\"\"}}}],\"bar\":[{\"error_x\":{\"color\":\"#2a3f5f\"},\"error_y\":{\"color\":\"#2a3f5f\"},\"marker\":{\"line\":{\"color\":\"#E5ECF6\",\"width\":0.5},\"pattern\":{\"fillmode\":\"overlay\",\"size\":10,\"solidity\":0.2}},\"type\":\"bar\"}],\"scattergeo\":[{\"type\":\"scattergeo\",\"marker\":{\"colorbar\":{\"outlinewidth\":0,\"ticks\":\"\"}}}],\"scatterpolar\":[{\"type\":\"scatterpolar\",\"marker\":{\"colorbar\":{\"outlinewidth\":0,\"ticks\":\"\"}}}],\"histogram\":[{\"marker\":{\"pattern\":{\"fillmode\":\"overlay\",\"size\":10,\"solidity\":0.2}},\"type\":\"histogram\"}],\"scattergl\":[{\"type\":\"scattergl\",\"marker\":{\"colorbar\":{\"outlinewidth\":0,\"ticks\":\"\"}}}],\"scatter3d\":[{\"type\":\"scatter3d\",\"line\":{\"colorbar\":{\"outlinewidth\":0,\"ticks\":\"\"}},\"marker\":{\"colorbar\":{\"outlinewidth\":0,\"ticks\":\"\"}}}],\"scattermapbox\":[{\"type\":\"scattermapbox\",\"marker\":{\"colorbar\":{\"outlinewidth\":0,\"ticks\":\"\"}}}],\"scatterternary\":[{\"type\":\"scatterternary\",\"marker\":{\"colorbar\":{\"outlinewidth\":0,\"ticks\":\"\"}}}],\"scattercarpet\":[{\"type\":\"scattercarpet\",\"marker\":{\"colorbar\":{\"outlinewidth\":0,\"ticks\":\"\"}}}],\"carpet\":[{\"aaxis\":{\"endlinecolor\":\"#2a3f5f\",\"gridcolor\":\"white\",\"linecolor\":\"white\",\"minorgridcolor\":\"white\",\"startlinecolor\":\"#2a3f5f\"},\"baxis\":{\"endlinecolor\":\"#2a3f5f\",\"gridcolor\":\"white\",\"linecolor\":\"white\",\"minorgridcolor\":\"white\",\"startlinecolor\":\"#2a3f5f\"},\"type\":\"carpet\"}],\"table\":[{\"cells\":{\"fill\":{\"color\":\"#EBF0F8\"},\"line\":{\"color\":\"white\"}},\"header\":{\"fill\":{\"color\":\"#C8D4E3\"},\"line\":{\"color\":\"white\"}},\"type\":\"table\"}],\"barpolar\":[{\"marker\":{\"line\":{\"color\":\"#E5ECF6\",\"width\":0.5},\"pattern\":{\"fillmode\":\"overlay\",\"size\":10,\"solidity\":0.2}},\"type\":\"barpolar\"}],\"pie\":[{\"automargin\":true,\"type\":\"pie\"}]},\"layout\":{\"autotypenumbers\":\"strict\",\"colorway\":[\"#636efa\",\"#EF553B\",\"#00cc96\",\"#ab63fa\",\"#FFA15A\",\"#19d3f3\",\"#FF6692\",\"#B6E880\",\"#FF97FF\",\"#FECB52\"],\"font\":{\"color\":\"#2a3f5f\"},\"hovermode\":\"closest\",\"hoverlabel\":{\"align\":\"left\"},\"paper_bgcolor\":\"white\",\"plot_bgcolor\":\"#E5ECF6\",\"polar\":{\"bgcolor\":\"#E5ECF6\",\"angularaxis\":{\"gridcolor\":\"white\",\"linecolor\":\"white\",\"ticks\":\"\"},\"radialaxis\":{\"gridcolor\":\"white\",\"linecolor\":\"white\",\"ticks\":\"\"}},\"ternary\":{\"bgcolor\":\"#E5ECF6\",\"aaxis\":{\"gridcolor\":\"white\",\"linecolor\":\"white\",\"ticks\":\"\"},\"baxis\":{\"gridcolor\":\"white\",\"linecolor\":\"white\",\"ticks\":\"\"},\"caxis\":{\"gridcolor\":\"white\",\"linecolor\":\"white\",\"ticks\":\"\"}},\"coloraxis\":{\"colorbar\":{\"outlinewidth\":0,\"ticks\":\"\"}},\"colorscale\":{\"sequential\":[[0.0,\"#0d0887\"],[0.1111111111111111,\"#46039f\"],[0.2222222222222222,\"#7201a8\"],[0.3333333333333333,\"#9c179e\"],[0.4444444444444444,\"#bd3786\"],[0.5555555555555556,\"#d8576b\"],[0.6666666666666666,\"#ed7953\"],[0.7777777777777778,\"#fb9f3a\"],[0.8888888888888888,\"#fdca26\"],[1.0,\"#f0f921\"]],\"sequentialminus\":[[0.0,\"#0d0887\"],[0.1111111111111111,\"#46039f\"],[0.2222222222222222,\"#7201a8\"],[0.3333333333333333,\"#9c179e\"],[0.4444444444444444,\"#bd3786\"],[0.5555555555555556,\"#d8576b\"],[0.6666666666666666,\"#ed7953\"],[0.7777777777777778,\"#fb9f3a\"],[0.8888888888888888,\"#fdca26\"],[1.0,\"#f0f921\"]],\"diverging\":[[0,\"#8e0152\"],[0.1,\"#c51b7d\"],[0.2,\"#de77ae\"],[0.3,\"#f1b6da\"],[0.4,\"#fde0ef\"],[0.5,\"#f7f7f7\"],[0.6,\"#e6f5d0\"],[0.7,\"#b8e186\"],[0.8,\"#7fbc41\"],[0.9,\"#4d9221\"],[1,\"#276419\"]]},\"xaxis\":{\"gridcolor\":\"white\",\"linecolor\":\"white\",\"ticks\":\"\",\"title\":{\"standoff\":15},\"zerolinecolor\":\"white\",\"automargin\":true,\"zerolinewidth\":2},\"yaxis\":{\"gridcolor\":\"white\",\"linecolor\":\"white\",\"ticks\":\"\",\"title\":{\"standoff\":15},\"zerolinecolor\":\"white\",\"automargin\":true,\"zerolinewidth\":2},\"scene\":{\"xaxis\":{\"backgroundcolor\":\"#E5ECF6\",\"gridcolor\":\"white\",\"linecolor\":\"white\",\"showbackground\":true,\"ticks\":\"\",\"zerolinecolor\":\"white\",\"gridwidth\":2},\"yaxis\":{\"backgroundcolor\":\"#E5ECF6\",\"gridcolor\":\"white\",\"linecolor\":\"white\",\"showbackground\":true,\"ticks\":\"\",\"zerolinecolor\":\"white\",\"gridwidth\":2},\"zaxis\":{\"backgroundcolor\":\"#E5ECF6\",\"gridcolor\":\"white\",\"linecolor\":\"white\",\"showbackground\":true,\"ticks\":\"\",\"zerolinecolor\":\"white\",\"gridwidth\":2}},\"shapedefaults\":{\"line\":{\"color\":\"#2a3f5f\"}},\"annotationdefaults\":{\"arrowcolor\":\"#2a3f5f\",\"arrowhead\":0,\"arrowwidth\":1},\"geo\":{\"bgcolor\":\"white\",\"landcolor\":\"#E5ECF6\",\"subunitcolor\":\"white\",\"showland\":true,\"showlakes\":true,\"lakecolor\":\"white\"},\"title\":{\"x\":0.05},\"mapbox\":{\"style\":\"light\"}}},\"xaxis\":{\"anchor\":\"y\",\"domain\":[0.0,1.0],\"title\":{\"text\":\"engine\"}},\"yaxis\":{\"anchor\":\"x\",\"domain\":[0.0,1.0],\"title\":{\"text\":\"time taken\"},\"type\":\"log\"},\"legend\":{\"title\":{\"text\":\"filesize per chunk\"},\"tracegroupgap\":0},\"margin\":{\"t\":60},\"boxmode\":\"group\"},                        {\"responsive\": true}                    ).then(function(){\n",
       "                            \n",
       "var gd = document.getElementById('2e4912b6-1141-4b45-8f46-a3d4b06ad402');\n",
       "var x = new MutationObserver(function (mutations, observer) {{\n",
       "        var display = window.getComputedStyle(gd).display;\n",
       "        if (!display || display === 'none') {{\n",
       "            console.log([gd, 'removed!']);\n",
       "            Plotly.purge(gd);\n",
       "            observer.disconnect();\n",
       "        }}\n",
       "}});\n",
       "\n",
       "// Listen for the removal of the full notebook cells\n",
       "var notebookContainer = gd.closest('#notebook-container');\n",
       "if (notebookContainer) {{\n",
       "    x.observe(notebookContainer, {childList: true});\n",
       "}}\n",
       "\n",
       "// Listen for the clearing of the current output cell\n",
       "var outputEl = gd.closest('.output');\n",
       "if (outputEl) {{\n",
       "    x.observe(outputEl, {childList: true});\n",
       "}}\n",
       "\n",
       "                        })                };                });            </script>        </div>"
      ]
     },
     "metadata": {},
     "output_type": "display_data"
    },
    {
     "data": {
      "application/vnd.plotly.v1+json": {
       "config": {
        "plotlyServerURL": "https://plot.ly"
       },
       "data": [
        {
         "alignmentgroup": "True",
         "hovertemplate": "filesize per chunk=2.0 MB<br>engine=%{x}<br>time taken=%{y}<extra></extra>",
         "legendgroup": "2.0 MB",
         "marker": {
          "color": "#636efa"
         },
         "name": "2.0 MB",
         "notched": false,
         "offsetgroup": "2.0 MB",
         "orientation": "v",
         "showlegend": true,
         "type": "box",
         "x": [
          "netcdf4",
          "netcdf4",
          "netcdf4",
          "netcdf4",
          "netcdf4",
          "netcdf4",
          "netcdf4",
          "netcdf4",
          "netcdf4",
          "netcdf4"
         ],
         "x0": " ",
         "xaxis": "x",
         "y": [
          1.066638576,
          1.101389066,
          1.097299316,
          1.046411391,
          1.165832655,
          1.076762198,
          1.208166825,
          1.104800169,
          1.121934926,
          1.051151894
         ],
         "y0": " ",
         "yaxis": "y"
        },
        {
         "alignmentgroup": "True",
         "hovertemplate": "filesize per chunk=16.0 MB<br>engine=%{x}<br>time taken=%{y}<extra></extra>",
         "legendgroup": "16.0 MB",
         "marker": {
          "color": "#EF553B"
         },
         "name": "16.0 MB",
         "notched": false,
         "offsetgroup": "16.0 MB",
         "orientation": "v",
         "showlegend": true,
         "type": "box",
         "x": [
          "netcdf4",
          "netcdf4",
          "netcdf4",
          "netcdf4",
          "netcdf4",
          "netcdf4",
          "netcdf4",
          "netcdf4",
          "netcdf4",
          "netcdf4"
         ],
         "x0": " ",
         "xaxis": "x",
         "y": [
          0.35543492200000004,
          0.36908632900000005,
          0.343790335,
          0.347241096,
          0.34522847100000004,
          0.340736661,
          0.34947300800000003,
          0.34388356600000003,
          0.34354955600000003,
          0.342198532
         ],
         "y0": " ",
         "yaxis": "y"
        },
        {
         "alignmentgroup": "True",
         "hovertemplate": "filesize per chunk=32.0 MB<br>engine=%{x}<br>time taken=%{y}<extra></extra>",
         "legendgroup": "32.0 MB",
         "marker": {
          "color": "#00cc96"
         },
         "name": "32.0 MB",
         "notched": false,
         "offsetgroup": "32.0 MB",
         "orientation": "v",
         "showlegend": true,
         "type": "box",
         "x": [
          "netcdf4",
          "netcdf4",
          "netcdf4",
          "netcdf4",
          "netcdf4",
          "netcdf4",
          "netcdf4",
          "netcdf4",
          "netcdf4",
          "netcdf4"
         ],
         "x0": " ",
         "xaxis": "x",
         "y": [
          0.30870316800000003,
          0.32929330700000004,
          0.30866935900000003,
          0.310044934,
          0.327120401,
          0.325595063,
          0.318164857,
          0.320311499,
          0.31708172300000004,
          0.31712259200000004
         ],
         "y0": " ",
         "yaxis": "y"
        },
        {
         "alignmentgroup": "True",
         "hovertemplate": "filesize per chunk=64.0 MB<br>engine=%{x}<br>time taken=%{y}<extra></extra>",
         "legendgroup": "64.0 MB",
         "marker": {
          "color": "#ab63fa"
         },
         "name": "64.0 MB",
         "notched": false,
         "offsetgroup": "64.0 MB",
         "orientation": "v",
         "showlegend": true,
         "type": "box",
         "x": [
          "netcdf4",
          "netcdf4",
          "netcdf4",
          "netcdf4",
          "netcdf4",
          "netcdf4",
          "netcdf4",
          "netcdf4",
          "netcdf4",
          "netcdf4"
         ],
         "x0": " ",
         "xaxis": "x",
         "y": [
          0.284299354,
          0.309089053,
          0.284274168,
          0.275440571,
          0.278493058,
          0.28027144400000004,
          0.30230928300000004,
          0.28593648800000004,
          0.28593570700000004,
          0.287834986
         ],
         "y0": " ",
         "yaxis": "y"
        },
        {
         "alignmentgroup": "True",
         "hovertemplate": "filesize per chunk=128.0 MB<br>engine=%{x}<br>time taken=%{y}<extra></extra>",
         "legendgroup": "128.0 MB",
         "marker": {
          "color": "#FFA15A"
         },
         "name": "128.0 MB",
         "notched": false,
         "offsetgroup": "128.0 MB",
         "orientation": "v",
         "showlegend": true,
         "type": "box",
         "x": [
          "netcdf4",
          "netcdf4",
          "netcdf4",
          "netcdf4",
          "netcdf4",
          "netcdf4",
          "netcdf4",
          "netcdf4",
          "netcdf4",
          "netcdf4"
         ],
         "x0": " ",
         "xaxis": "x",
         "y": [
          0.8994026220000001,
          0.910529531,
          0.8986453980000001,
          0.8828881270000001,
          0.875781392,
          0.9091029700000001,
          0.8770661930000001,
          0.88689352,
          0.87807879,
          0.8827927480000001
         ],
         "y0": " ",
         "yaxis": "y"
        },
        {
         "alignmentgroup": "True",
         "hovertemplate": "filesize per chunk=256.0 MB<br>engine=%{x}<br>time taken=%{y}<extra></extra>",
         "legendgroup": "256.0 MB",
         "marker": {
          "color": "#19d3f3"
         },
         "name": "256.0 MB",
         "notched": false,
         "offsetgroup": "256.0 MB",
         "orientation": "v",
         "showlegend": true,
         "type": "box",
         "x": [
          "netcdf4",
          "netcdf4",
          "netcdf4",
          "netcdf4",
          "netcdf4",
          "netcdf4",
          "netcdf4",
          "netcdf4",
          "netcdf4",
          "netcdf4"
         ],
         "x0": " ",
         "xaxis": "x",
         "y": [
          0.527823544,
          0.5717007780000001,
          0.540869111,
          0.532881676,
          0.526184161,
          0.5494407290000001,
          0.548037165,
          0.570734611,
          0.5497473420000001,
          0.524087209
         ],
         "y0": " ",
         "yaxis": "y"
        },
        {
         "alignmentgroup": "True",
         "hovertemplate": "filesize per chunk=512.0 MB<br>engine=%{x}<br>time taken=%{y}<extra></extra>",
         "legendgroup": "512.0 MB",
         "marker": {
          "color": "#FF6692"
         },
         "name": "512.0 MB",
         "notched": false,
         "offsetgroup": "512.0 MB",
         "orientation": "v",
         "showlegend": true,
         "type": "box",
         "x": [
          "netcdf4",
          "netcdf4",
          "netcdf4",
          "netcdf4",
          "netcdf4",
          "netcdf4",
          "netcdf4",
          "netcdf4",
          "netcdf4",
          "netcdf4"
         ],
         "x0": " ",
         "xaxis": "x",
         "y": [
          0.523326996,
          0.34771836300000003,
          0.315980998,
          0.344455308,
          0.35278539400000003,
          0.5349046350000001,
          0.697091731,
          0.348696324,
          0.313698507,
          0.31383571400000004
         ],
         "y0": " ",
         "yaxis": "y"
        },
        {
         "alignmentgroup": "True",
         "hovertemplate": "filesize per chunk=1024.0 MB<br>engine=%{x}<br>time taken=%{y}<extra></extra>",
         "legendgroup": "1024.0 MB",
         "marker": {
          "color": "#B6E880"
         },
         "name": "1024.0 MB",
         "notched": false,
         "offsetgroup": "1024.0 MB",
         "orientation": "v",
         "showlegend": true,
         "type": "box",
         "x": [
          "netcdf4",
          "netcdf4",
          "netcdf4",
          "netcdf4",
          "netcdf4",
          "netcdf4",
          "netcdf4",
          "netcdf4",
          "netcdf4",
          "netcdf4"
         ],
         "x0": " ",
         "xaxis": "x",
         "y": [
          0.11527150400000001,
          0.141838884,
          0.12016710200000001,
          0.11868851100000001,
          0.11912513,
          0.117110691,
          0.11892630200000001,
          0.11607412,
          0.11663060200000001,
          0.11559393700000001
         ],
         "y0": " ",
         "yaxis": "y"
        }
       ],
       "layout": {
        "boxmode": "group",
        "legend": {
         "title": {
          "text": "filesize per chunk"
         },
         "tracegroupgap": 0
        },
        "margin": {
         "t": 60
        },
        "template": {
         "data": {
          "bar": [
           {
            "error_x": {
             "color": "#2a3f5f"
            },
            "error_y": {
             "color": "#2a3f5f"
            },
            "marker": {
             "line": {
              "color": "#E5ECF6",
              "width": 0.5
             },
             "pattern": {
              "fillmode": "overlay",
              "size": 10,
              "solidity": 0.2
             }
            },
            "type": "bar"
           }
          ],
          "barpolar": [
           {
            "marker": {
             "line": {
              "color": "#E5ECF6",
              "width": 0.5
             },
             "pattern": {
              "fillmode": "overlay",
              "size": 10,
              "solidity": 0.2
             }
            },
            "type": "barpolar"
           }
          ],
          "carpet": [
           {
            "aaxis": {
             "endlinecolor": "#2a3f5f",
             "gridcolor": "white",
             "linecolor": "white",
             "minorgridcolor": "white",
             "startlinecolor": "#2a3f5f"
            },
            "baxis": {
             "endlinecolor": "#2a3f5f",
             "gridcolor": "white",
             "linecolor": "white",
             "minorgridcolor": "white",
             "startlinecolor": "#2a3f5f"
            },
            "type": "carpet"
           }
          ],
          "choropleth": [
           {
            "colorbar": {
             "outlinewidth": 0,
             "ticks": ""
            },
            "type": "choropleth"
           }
          ],
          "contour": [
           {
            "colorbar": {
             "outlinewidth": 0,
             "ticks": ""
            },
            "colorscale": [
             [
              0,
              "#0d0887"
             ],
             [
              0.1111111111111111,
              "#46039f"
             ],
             [
              0.2222222222222222,
              "#7201a8"
             ],
             [
              0.3333333333333333,
              "#9c179e"
             ],
             [
              0.4444444444444444,
              "#bd3786"
             ],
             [
              0.5555555555555556,
              "#d8576b"
             ],
             [
              0.6666666666666666,
              "#ed7953"
             ],
             [
              0.7777777777777778,
              "#fb9f3a"
             ],
             [
              0.8888888888888888,
              "#fdca26"
             ],
             [
              1,
              "#f0f921"
             ]
            ],
            "type": "contour"
           }
          ],
          "contourcarpet": [
           {
            "colorbar": {
             "outlinewidth": 0,
             "ticks": ""
            },
            "type": "contourcarpet"
           }
          ],
          "heatmap": [
           {
            "colorbar": {
             "outlinewidth": 0,
             "ticks": ""
            },
            "colorscale": [
             [
              0,
              "#0d0887"
             ],
             [
              0.1111111111111111,
              "#46039f"
             ],
             [
              0.2222222222222222,
              "#7201a8"
             ],
             [
              0.3333333333333333,
              "#9c179e"
             ],
             [
              0.4444444444444444,
              "#bd3786"
             ],
             [
              0.5555555555555556,
              "#d8576b"
             ],
             [
              0.6666666666666666,
              "#ed7953"
             ],
             [
              0.7777777777777778,
              "#fb9f3a"
             ],
             [
              0.8888888888888888,
              "#fdca26"
             ],
             [
              1,
              "#f0f921"
             ]
            ],
            "type": "heatmap"
           }
          ],
          "heatmapgl": [
           {
            "colorbar": {
             "outlinewidth": 0,
             "ticks": ""
            },
            "colorscale": [
             [
              0,
              "#0d0887"
             ],
             [
              0.1111111111111111,
              "#46039f"
             ],
             [
              0.2222222222222222,
              "#7201a8"
             ],
             [
              0.3333333333333333,
              "#9c179e"
             ],
             [
              0.4444444444444444,
              "#bd3786"
             ],
             [
              0.5555555555555556,
              "#d8576b"
             ],
             [
              0.6666666666666666,
              "#ed7953"
             ],
             [
              0.7777777777777778,
              "#fb9f3a"
             ],
             [
              0.8888888888888888,
              "#fdca26"
             ],
             [
              1,
              "#f0f921"
             ]
            ],
            "type": "heatmapgl"
           }
          ],
          "histogram": [
           {
            "marker": {
             "pattern": {
              "fillmode": "overlay",
              "size": 10,
              "solidity": 0.2
             }
            },
            "type": "histogram"
           }
          ],
          "histogram2d": [
           {
            "colorbar": {
             "outlinewidth": 0,
             "ticks": ""
            },
            "colorscale": [
             [
              0,
              "#0d0887"
             ],
             [
              0.1111111111111111,
              "#46039f"
             ],
             [
              0.2222222222222222,
              "#7201a8"
             ],
             [
              0.3333333333333333,
              "#9c179e"
             ],
             [
              0.4444444444444444,
              "#bd3786"
             ],
             [
              0.5555555555555556,
              "#d8576b"
             ],
             [
              0.6666666666666666,
              "#ed7953"
             ],
             [
              0.7777777777777778,
              "#fb9f3a"
             ],
             [
              0.8888888888888888,
              "#fdca26"
             ],
             [
              1,
              "#f0f921"
             ]
            ],
            "type": "histogram2d"
           }
          ],
          "histogram2dcontour": [
           {
            "colorbar": {
             "outlinewidth": 0,
             "ticks": ""
            },
            "colorscale": [
             [
              0,
              "#0d0887"
             ],
             [
              0.1111111111111111,
              "#46039f"
             ],
             [
              0.2222222222222222,
              "#7201a8"
             ],
             [
              0.3333333333333333,
              "#9c179e"
             ],
             [
              0.4444444444444444,
              "#bd3786"
             ],
             [
              0.5555555555555556,
              "#d8576b"
             ],
             [
              0.6666666666666666,
              "#ed7953"
             ],
             [
              0.7777777777777778,
              "#fb9f3a"
             ],
             [
              0.8888888888888888,
              "#fdca26"
             ],
             [
              1,
              "#f0f921"
             ]
            ],
            "type": "histogram2dcontour"
           }
          ],
          "mesh3d": [
           {
            "colorbar": {
             "outlinewidth": 0,
             "ticks": ""
            },
            "type": "mesh3d"
           }
          ],
          "parcoords": [
           {
            "line": {
             "colorbar": {
              "outlinewidth": 0,
              "ticks": ""
             }
            },
            "type": "parcoords"
           }
          ],
          "pie": [
           {
            "automargin": true,
            "type": "pie"
           }
          ],
          "scatter": [
           {
            "fillpattern": {
             "fillmode": "overlay",
             "size": 10,
             "solidity": 0.2
            },
            "type": "scatter"
           }
          ],
          "scatter3d": [
           {
            "line": {
             "colorbar": {
              "outlinewidth": 0,
              "ticks": ""
             }
            },
            "marker": {
             "colorbar": {
              "outlinewidth": 0,
              "ticks": ""
             }
            },
            "type": "scatter3d"
           }
          ],
          "scattercarpet": [
           {
            "marker": {
             "colorbar": {
              "outlinewidth": 0,
              "ticks": ""
             }
            },
            "type": "scattercarpet"
           }
          ],
          "scattergeo": [
           {
            "marker": {
             "colorbar": {
              "outlinewidth": 0,
              "ticks": ""
             }
            },
            "type": "scattergeo"
           }
          ],
          "scattergl": [
           {
            "marker": {
             "colorbar": {
              "outlinewidth": 0,
              "ticks": ""
             }
            },
            "type": "scattergl"
           }
          ],
          "scattermapbox": [
           {
            "marker": {
             "colorbar": {
              "outlinewidth": 0,
              "ticks": ""
             }
            },
            "type": "scattermapbox"
           }
          ],
          "scatterpolar": [
           {
            "marker": {
             "colorbar": {
              "outlinewidth": 0,
              "ticks": ""
             }
            },
            "type": "scatterpolar"
           }
          ],
          "scatterpolargl": [
           {
            "marker": {
             "colorbar": {
              "outlinewidth": 0,
              "ticks": ""
             }
            },
            "type": "scatterpolargl"
           }
          ],
          "scatterternary": [
           {
            "marker": {
             "colorbar": {
              "outlinewidth": 0,
              "ticks": ""
             }
            },
            "type": "scatterternary"
           }
          ],
          "surface": [
           {
            "colorbar": {
             "outlinewidth": 0,
             "ticks": ""
            },
            "colorscale": [
             [
              0,
              "#0d0887"
             ],
             [
              0.1111111111111111,
              "#46039f"
             ],
             [
              0.2222222222222222,
              "#7201a8"
             ],
             [
              0.3333333333333333,
              "#9c179e"
             ],
             [
              0.4444444444444444,
              "#bd3786"
             ],
             [
              0.5555555555555556,
              "#d8576b"
             ],
             [
              0.6666666666666666,
              "#ed7953"
             ],
             [
              0.7777777777777778,
              "#fb9f3a"
             ],
             [
              0.8888888888888888,
              "#fdca26"
             ],
             [
              1,
              "#f0f921"
             ]
            ],
            "type": "surface"
           }
          ],
          "table": [
           {
            "cells": {
             "fill": {
              "color": "#EBF0F8"
             },
             "line": {
              "color": "white"
             }
            },
            "header": {
             "fill": {
              "color": "#C8D4E3"
             },
             "line": {
              "color": "white"
             }
            },
            "type": "table"
           }
          ]
         },
         "layout": {
          "annotationdefaults": {
           "arrowcolor": "#2a3f5f",
           "arrowhead": 0,
           "arrowwidth": 1
          },
          "autotypenumbers": "strict",
          "coloraxis": {
           "colorbar": {
            "outlinewidth": 0,
            "ticks": ""
           }
          },
          "colorscale": {
           "diverging": [
            [
             0,
             "#8e0152"
            ],
            [
             0.1,
             "#c51b7d"
            ],
            [
             0.2,
             "#de77ae"
            ],
            [
             0.3,
             "#f1b6da"
            ],
            [
             0.4,
             "#fde0ef"
            ],
            [
             0.5,
             "#f7f7f7"
            ],
            [
             0.6,
             "#e6f5d0"
            ],
            [
             0.7,
             "#b8e186"
            ],
            [
             0.8,
             "#7fbc41"
            ],
            [
             0.9,
             "#4d9221"
            ],
            [
             1,
             "#276419"
            ]
           ],
           "sequential": [
            [
             0,
             "#0d0887"
            ],
            [
             0.1111111111111111,
             "#46039f"
            ],
            [
             0.2222222222222222,
             "#7201a8"
            ],
            [
             0.3333333333333333,
             "#9c179e"
            ],
            [
             0.4444444444444444,
             "#bd3786"
            ],
            [
             0.5555555555555556,
             "#d8576b"
            ],
            [
             0.6666666666666666,
             "#ed7953"
            ],
            [
             0.7777777777777778,
             "#fb9f3a"
            ],
            [
             0.8888888888888888,
             "#fdca26"
            ],
            [
             1,
             "#f0f921"
            ]
           ],
           "sequentialminus": [
            [
             0,
             "#0d0887"
            ],
            [
             0.1111111111111111,
             "#46039f"
            ],
            [
             0.2222222222222222,
             "#7201a8"
            ],
            [
             0.3333333333333333,
             "#9c179e"
            ],
            [
             0.4444444444444444,
             "#bd3786"
            ],
            [
             0.5555555555555556,
             "#d8576b"
            ],
            [
             0.6666666666666666,
             "#ed7953"
            ],
            [
             0.7777777777777778,
             "#fb9f3a"
            ],
            [
             0.8888888888888888,
             "#fdca26"
            ],
            [
             1,
             "#f0f921"
            ]
           ]
          },
          "colorway": [
           "#636efa",
           "#EF553B",
           "#00cc96",
           "#ab63fa",
           "#FFA15A",
           "#19d3f3",
           "#FF6692",
           "#B6E880",
           "#FF97FF",
           "#FECB52"
          ],
          "font": {
           "color": "#2a3f5f"
          },
          "geo": {
           "bgcolor": "white",
           "lakecolor": "white",
           "landcolor": "#E5ECF6",
           "showlakes": true,
           "showland": true,
           "subunitcolor": "white"
          },
          "hoverlabel": {
           "align": "left"
          },
          "hovermode": "closest",
          "mapbox": {
           "style": "light"
          },
          "paper_bgcolor": "white",
          "plot_bgcolor": "#E5ECF6",
          "polar": {
           "angularaxis": {
            "gridcolor": "white",
            "linecolor": "white",
            "ticks": ""
           },
           "bgcolor": "#E5ECF6",
           "radialaxis": {
            "gridcolor": "white",
            "linecolor": "white",
            "ticks": ""
           }
          },
          "scene": {
           "xaxis": {
            "backgroundcolor": "#E5ECF6",
            "gridcolor": "white",
            "gridwidth": 2,
            "linecolor": "white",
            "showbackground": true,
            "ticks": "",
            "zerolinecolor": "white"
           },
           "yaxis": {
            "backgroundcolor": "#E5ECF6",
            "gridcolor": "white",
            "gridwidth": 2,
            "linecolor": "white",
            "showbackground": true,
            "ticks": "",
            "zerolinecolor": "white"
           },
           "zaxis": {
            "backgroundcolor": "#E5ECF6",
            "gridcolor": "white",
            "gridwidth": 2,
            "linecolor": "white",
            "showbackground": true,
            "ticks": "",
            "zerolinecolor": "white"
           }
          },
          "shapedefaults": {
           "line": {
            "color": "#2a3f5f"
           }
          },
          "ternary": {
           "aaxis": {
            "gridcolor": "white",
            "linecolor": "white",
            "ticks": ""
           },
           "baxis": {
            "gridcolor": "white",
            "linecolor": "white",
            "ticks": ""
           },
           "bgcolor": "#E5ECF6",
           "caxis": {
            "gridcolor": "white",
            "linecolor": "white",
            "ticks": ""
           }
          },
          "title": {
           "x": 0.05
          },
          "xaxis": {
           "automargin": true,
           "gridcolor": "white",
           "linecolor": "white",
           "ticks": "",
           "title": {
            "standoff": 15
           },
           "zerolinecolor": "white",
           "zerolinewidth": 2
          },
          "yaxis": {
           "automargin": true,
           "gridcolor": "white",
           "linecolor": "white",
           "ticks": "",
           "title": {
            "standoff": 15
           },
           "zerolinecolor": "white",
           "zerolinewidth": 2
          }
         }
        },
        "xaxis": {
         "anchor": "y",
         "domain": [
          0,
          1
         ],
         "title": {
          "text": "engine"
         }
        },
        "yaxis": {
         "anchor": "x",
         "domain": [
          0,
          1
         ],
         "title": {
          "text": "time taken"
         },
         "type": "log"
        }
       }
      },
      "text/html": [
       "<div>                            <div id=\"7d82e428-f9a0-4307-85f9-bca20d0ce7c6\" class=\"plotly-graph-div\" style=\"height:525px; width:100%;\"></div>            <script type=\"text/javascript\">                require([\"plotly\"], function(Plotly) {                    window.PLOTLYENV=window.PLOTLYENV || {};                                    if (document.getElementById(\"7d82e428-f9a0-4307-85f9-bca20d0ce7c6\")) {                    Plotly.newPlot(                        \"7d82e428-f9a0-4307-85f9-bca20d0ce7c6\",                        [{\"alignmentgroup\":\"True\",\"hovertemplate\":\"filesize per chunk=2.0 MB\\u003cbr\\u003eengine=%{x}\\u003cbr\\u003etime taken=%{y}\\u003cextra\\u003e\\u003c\\u002fextra\\u003e\",\"legendgroup\":\"2.0 MB\",\"marker\":{\"color\":\"#636efa\"},\"name\":\"2.0 MB\",\"notched\":false,\"offsetgroup\":\"2.0 MB\",\"orientation\":\"v\",\"showlegend\":true,\"x\":[\"netcdf4\",\"netcdf4\",\"netcdf4\",\"netcdf4\",\"netcdf4\",\"netcdf4\",\"netcdf4\",\"netcdf4\",\"netcdf4\",\"netcdf4\"],\"x0\":\" \",\"xaxis\":\"x\",\"y\":[1.066638576,1.101389066,1.097299316,1.046411391,1.165832655,1.076762198,1.208166825,1.104800169,1.121934926,1.051151894],\"y0\":\" \",\"yaxis\":\"y\",\"type\":\"box\"},{\"alignmentgroup\":\"True\",\"hovertemplate\":\"filesize per chunk=16.0 MB\\u003cbr\\u003eengine=%{x}\\u003cbr\\u003etime taken=%{y}\\u003cextra\\u003e\\u003c\\u002fextra\\u003e\",\"legendgroup\":\"16.0 MB\",\"marker\":{\"color\":\"#EF553B\"},\"name\":\"16.0 MB\",\"notched\":false,\"offsetgroup\":\"16.0 MB\",\"orientation\":\"v\",\"showlegend\":true,\"x\":[\"netcdf4\",\"netcdf4\",\"netcdf4\",\"netcdf4\",\"netcdf4\",\"netcdf4\",\"netcdf4\",\"netcdf4\",\"netcdf4\",\"netcdf4\"],\"x0\":\" \",\"xaxis\":\"x\",\"y\":[0.35543492200000004,0.36908632900000005,0.343790335,0.347241096,0.34522847100000004,0.340736661,0.34947300800000003,0.34388356600000003,0.34354955600000003,0.342198532],\"y0\":\" \",\"yaxis\":\"y\",\"type\":\"box\"},{\"alignmentgroup\":\"True\",\"hovertemplate\":\"filesize per chunk=32.0 MB\\u003cbr\\u003eengine=%{x}\\u003cbr\\u003etime taken=%{y}\\u003cextra\\u003e\\u003c\\u002fextra\\u003e\",\"legendgroup\":\"32.0 MB\",\"marker\":{\"color\":\"#00cc96\"},\"name\":\"32.0 MB\",\"notched\":false,\"offsetgroup\":\"32.0 MB\",\"orientation\":\"v\",\"showlegend\":true,\"x\":[\"netcdf4\",\"netcdf4\",\"netcdf4\",\"netcdf4\",\"netcdf4\",\"netcdf4\",\"netcdf4\",\"netcdf4\",\"netcdf4\",\"netcdf4\"],\"x0\":\" \",\"xaxis\":\"x\",\"y\":[0.30870316800000003,0.32929330700000004,0.30866935900000003,0.310044934,0.327120401,0.325595063,0.318164857,0.320311499,0.31708172300000004,0.31712259200000004],\"y0\":\" \",\"yaxis\":\"y\",\"type\":\"box\"},{\"alignmentgroup\":\"True\",\"hovertemplate\":\"filesize per chunk=64.0 MB\\u003cbr\\u003eengine=%{x}\\u003cbr\\u003etime taken=%{y}\\u003cextra\\u003e\\u003c\\u002fextra\\u003e\",\"legendgroup\":\"64.0 MB\",\"marker\":{\"color\":\"#ab63fa\"},\"name\":\"64.0 MB\",\"notched\":false,\"offsetgroup\":\"64.0 MB\",\"orientation\":\"v\",\"showlegend\":true,\"x\":[\"netcdf4\",\"netcdf4\",\"netcdf4\",\"netcdf4\",\"netcdf4\",\"netcdf4\",\"netcdf4\",\"netcdf4\",\"netcdf4\",\"netcdf4\"],\"x0\":\" \",\"xaxis\":\"x\",\"y\":[0.284299354,0.309089053,0.284274168,0.275440571,0.278493058,0.28027144400000004,0.30230928300000004,0.28593648800000004,0.28593570700000004,0.287834986],\"y0\":\" \",\"yaxis\":\"y\",\"type\":\"box\"},{\"alignmentgroup\":\"True\",\"hovertemplate\":\"filesize per chunk=128.0 MB\\u003cbr\\u003eengine=%{x}\\u003cbr\\u003etime taken=%{y}\\u003cextra\\u003e\\u003c\\u002fextra\\u003e\",\"legendgroup\":\"128.0 MB\",\"marker\":{\"color\":\"#FFA15A\"},\"name\":\"128.0 MB\",\"notched\":false,\"offsetgroup\":\"128.0 MB\",\"orientation\":\"v\",\"showlegend\":true,\"x\":[\"netcdf4\",\"netcdf4\",\"netcdf4\",\"netcdf4\",\"netcdf4\",\"netcdf4\",\"netcdf4\",\"netcdf4\",\"netcdf4\",\"netcdf4\"],\"x0\":\" \",\"xaxis\":\"x\",\"y\":[0.8994026220000001,0.910529531,0.8986453980000001,0.8828881270000001,0.875781392,0.9091029700000001,0.8770661930000001,0.88689352,0.87807879,0.8827927480000001],\"y0\":\" \",\"yaxis\":\"y\",\"type\":\"box\"},{\"alignmentgroup\":\"True\",\"hovertemplate\":\"filesize per chunk=256.0 MB\\u003cbr\\u003eengine=%{x}\\u003cbr\\u003etime taken=%{y}\\u003cextra\\u003e\\u003c\\u002fextra\\u003e\",\"legendgroup\":\"256.0 MB\",\"marker\":{\"color\":\"#19d3f3\"},\"name\":\"256.0 MB\",\"notched\":false,\"offsetgroup\":\"256.0 MB\",\"orientation\":\"v\",\"showlegend\":true,\"x\":[\"netcdf4\",\"netcdf4\",\"netcdf4\",\"netcdf4\",\"netcdf4\",\"netcdf4\",\"netcdf4\",\"netcdf4\",\"netcdf4\",\"netcdf4\"],\"x0\":\" \",\"xaxis\":\"x\",\"y\":[0.527823544,0.5717007780000001,0.540869111,0.532881676,0.526184161,0.5494407290000001,0.548037165,0.570734611,0.5497473420000001,0.524087209],\"y0\":\" \",\"yaxis\":\"y\",\"type\":\"box\"},{\"alignmentgroup\":\"True\",\"hovertemplate\":\"filesize per chunk=512.0 MB\\u003cbr\\u003eengine=%{x}\\u003cbr\\u003etime taken=%{y}\\u003cextra\\u003e\\u003c\\u002fextra\\u003e\",\"legendgroup\":\"512.0 MB\",\"marker\":{\"color\":\"#FF6692\"},\"name\":\"512.0 MB\",\"notched\":false,\"offsetgroup\":\"512.0 MB\",\"orientation\":\"v\",\"showlegend\":true,\"x\":[\"netcdf4\",\"netcdf4\",\"netcdf4\",\"netcdf4\",\"netcdf4\",\"netcdf4\",\"netcdf4\",\"netcdf4\",\"netcdf4\",\"netcdf4\"],\"x0\":\" \",\"xaxis\":\"x\",\"y\":[0.523326996,0.34771836300000003,0.315980998,0.344455308,0.35278539400000003,0.5349046350000001,0.697091731,0.348696324,0.313698507,0.31383571400000004],\"y0\":\" \",\"yaxis\":\"y\",\"type\":\"box\"},{\"alignmentgroup\":\"True\",\"hovertemplate\":\"filesize per chunk=1024.0 MB\\u003cbr\\u003eengine=%{x}\\u003cbr\\u003etime taken=%{y}\\u003cextra\\u003e\\u003c\\u002fextra\\u003e\",\"legendgroup\":\"1024.0 MB\",\"marker\":{\"color\":\"#B6E880\"},\"name\":\"1024.0 MB\",\"notched\":false,\"offsetgroup\":\"1024.0 MB\",\"orientation\":\"v\",\"showlegend\":true,\"x\":[\"netcdf4\",\"netcdf4\",\"netcdf4\",\"netcdf4\",\"netcdf4\",\"netcdf4\",\"netcdf4\",\"netcdf4\",\"netcdf4\",\"netcdf4\"],\"x0\":\" \",\"xaxis\":\"x\",\"y\":[0.11527150400000001,0.141838884,0.12016710200000001,0.11868851100000001,0.11912513,0.117110691,0.11892630200000001,0.11607412,0.11663060200000001,0.11559393700000001],\"y0\":\" \",\"yaxis\":\"y\",\"type\":\"box\"}],                        {\"template\":{\"data\":{\"histogram2dcontour\":[{\"type\":\"histogram2dcontour\",\"colorbar\":{\"outlinewidth\":0,\"ticks\":\"\"},\"colorscale\":[[0.0,\"#0d0887\"],[0.1111111111111111,\"#46039f\"],[0.2222222222222222,\"#7201a8\"],[0.3333333333333333,\"#9c179e\"],[0.4444444444444444,\"#bd3786\"],[0.5555555555555556,\"#d8576b\"],[0.6666666666666666,\"#ed7953\"],[0.7777777777777778,\"#fb9f3a\"],[0.8888888888888888,\"#fdca26\"],[1.0,\"#f0f921\"]]}],\"choropleth\":[{\"type\":\"choropleth\",\"colorbar\":{\"outlinewidth\":0,\"ticks\":\"\"}}],\"histogram2d\":[{\"type\":\"histogram2d\",\"colorbar\":{\"outlinewidth\":0,\"ticks\":\"\"},\"colorscale\":[[0.0,\"#0d0887\"],[0.1111111111111111,\"#46039f\"],[0.2222222222222222,\"#7201a8\"],[0.3333333333333333,\"#9c179e\"],[0.4444444444444444,\"#bd3786\"],[0.5555555555555556,\"#d8576b\"],[0.6666666666666666,\"#ed7953\"],[0.7777777777777778,\"#fb9f3a\"],[0.8888888888888888,\"#fdca26\"],[1.0,\"#f0f921\"]]}],\"heatmap\":[{\"type\":\"heatmap\",\"colorbar\":{\"outlinewidth\":0,\"ticks\":\"\"},\"colorscale\":[[0.0,\"#0d0887\"],[0.1111111111111111,\"#46039f\"],[0.2222222222222222,\"#7201a8\"],[0.3333333333333333,\"#9c179e\"],[0.4444444444444444,\"#bd3786\"],[0.5555555555555556,\"#d8576b\"],[0.6666666666666666,\"#ed7953\"],[0.7777777777777778,\"#fb9f3a\"],[0.8888888888888888,\"#fdca26\"],[1.0,\"#f0f921\"]]}],\"heatmapgl\":[{\"type\":\"heatmapgl\",\"colorbar\":{\"outlinewidth\":0,\"ticks\":\"\"},\"colorscale\":[[0.0,\"#0d0887\"],[0.1111111111111111,\"#46039f\"],[0.2222222222222222,\"#7201a8\"],[0.3333333333333333,\"#9c179e\"],[0.4444444444444444,\"#bd3786\"],[0.5555555555555556,\"#d8576b\"],[0.6666666666666666,\"#ed7953\"],[0.7777777777777778,\"#fb9f3a\"],[0.8888888888888888,\"#fdca26\"],[1.0,\"#f0f921\"]]}],\"contourcarpet\":[{\"type\":\"contourcarpet\",\"colorbar\":{\"outlinewidth\":0,\"ticks\":\"\"}}],\"contour\":[{\"type\":\"contour\",\"colorbar\":{\"outlinewidth\":0,\"ticks\":\"\"},\"colorscale\":[[0.0,\"#0d0887\"],[0.1111111111111111,\"#46039f\"],[0.2222222222222222,\"#7201a8\"],[0.3333333333333333,\"#9c179e\"],[0.4444444444444444,\"#bd3786\"],[0.5555555555555556,\"#d8576b\"],[0.6666666666666666,\"#ed7953\"],[0.7777777777777778,\"#fb9f3a\"],[0.8888888888888888,\"#fdca26\"],[1.0,\"#f0f921\"]]}],\"surface\":[{\"type\":\"surface\",\"colorbar\":{\"outlinewidth\":0,\"ticks\":\"\"},\"colorscale\":[[0.0,\"#0d0887\"],[0.1111111111111111,\"#46039f\"],[0.2222222222222222,\"#7201a8\"],[0.3333333333333333,\"#9c179e\"],[0.4444444444444444,\"#bd3786\"],[0.5555555555555556,\"#d8576b\"],[0.6666666666666666,\"#ed7953\"],[0.7777777777777778,\"#fb9f3a\"],[0.8888888888888888,\"#fdca26\"],[1.0,\"#f0f921\"]]}],\"mesh3d\":[{\"type\":\"mesh3d\",\"colorbar\":{\"outlinewidth\":0,\"ticks\":\"\"}}],\"scatter\":[{\"fillpattern\":{\"fillmode\":\"overlay\",\"size\":10,\"solidity\":0.2},\"type\":\"scatter\"}],\"parcoords\":[{\"type\":\"parcoords\",\"line\":{\"colorbar\":{\"outlinewidth\":0,\"ticks\":\"\"}}}],\"scatterpolargl\":[{\"type\":\"scatterpolargl\",\"marker\":{\"colorbar\":{\"outlinewidth\":0,\"ticks\":\"\"}}}],\"bar\":[{\"error_x\":{\"color\":\"#2a3f5f\"},\"error_y\":{\"color\":\"#2a3f5f\"},\"marker\":{\"line\":{\"color\":\"#E5ECF6\",\"width\":0.5},\"pattern\":{\"fillmode\":\"overlay\",\"size\":10,\"solidity\":0.2}},\"type\":\"bar\"}],\"scattergeo\":[{\"type\":\"scattergeo\",\"marker\":{\"colorbar\":{\"outlinewidth\":0,\"ticks\":\"\"}}}],\"scatterpolar\":[{\"type\":\"scatterpolar\",\"marker\":{\"colorbar\":{\"outlinewidth\":0,\"ticks\":\"\"}}}],\"histogram\":[{\"marker\":{\"pattern\":{\"fillmode\":\"overlay\",\"size\":10,\"solidity\":0.2}},\"type\":\"histogram\"}],\"scattergl\":[{\"type\":\"scattergl\",\"marker\":{\"colorbar\":{\"outlinewidth\":0,\"ticks\":\"\"}}}],\"scatter3d\":[{\"type\":\"scatter3d\",\"line\":{\"colorbar\":{\"outlinewidth\":0,\"ticks\":\"\"}},\"marker\":{\"colorbar\":{\"outlinewidth\":0,\"ticks\":\"\"}}}],\"scattermapbox\":[{\"type\":\"scattermapbox\",\"marker\":{\"colorbar\":{\"outlinewidth\":0,\"ticks\":\"\"}}}],\"scatterternary\":[{\"type\":\"scatterternary\",\"marker\":{\"colorbar\":{\"outlinewidth\":0,\"ticks\":\"\"}}}],\"scattercarpet\":[{\"type\":\"scattercarpet\",\"marker\":{\"colorbar\":{\"outlinewidth\":0,\"ticks\":\"\"}}}],\"carpet\":[{\"aaxis\":{\"endlinecolor\":\"#2a3f5f\",\"gridcolor\":\"white\",\"linecolor\":\"white\",\"minorgridcolor\":\"white\",\"startlinecolor\":\"#2a3f5f\"},\"baxis\":{\"endlinecolor\":\"#2a3f5f\",\"gridcolor\":\"white\",\"linecolor\":\"white\",\"minorgridcolor\":\"white\",\"startlinecolor\":\"#2a3f5f\"},\"type\":\"carpet\"}],\"table\":[{\"cells\":{\"fill\":{\"color\":\"#EBF0F8\"},\"line\":{\"color\":\"white\"}},\"header\":{\"fill\":{\"color\":\"#C8D4E3\"},\"line\":{\"color\":\"white\"}},\"type\":\"table\"}],\"barpolar\":[{\"marker\":{\"line\":{\"color\":\"#E5ECF6\",\"width\":0.5},\"pattern\":{\"fillmode\":\"overlay\",\"size\":10,\"solidity\":0.2}},\"type\":\"barpolar\"}],\"pie\":[{\"automargin\":true,\"type\":\"pie\"}]},\"layout\":{\"autotypenumbers\":\"strict\",\"colorway\":[\"#636efa\",\"#EF553B\",\"#00cc96\",\"#ab63fa\",\"#FFA15A\",\"#19d3f3\",\"#FF6692\",\"#B6E880\",\"#FF97FF\",\"#FECB52\"],\"font\":{\"color\":\"#2a3f5f\"},\"hovermode\":\"closest\",\"hoverlabel\":{\"align\":\"left\"},\"paper_bgcolor\":\"white\",\"plot_bgcolor\":\"#E5ECF6\",\"polar\":{\"bgcolor\":\"#E5ECF6\",\"angularaxis\":{\"gridcolor\":\"white\",\"linecolor\":\"white\",\"ticks\":\"\"},\"radialaxis\":{\"gridcolor\":\"white\",\"linecolor\":\"white\",\"ticks\":\"\"}},\"ternary\":{\"bgcolor\":\"#E5ECF6\",\"aaxis\":{\"gridcolor\":\"white\",\"linecolor\":\"white\",\"ticks\":\"\"},\"baxis\":{\"gridcolor\":\"white\",\"linecolor\":\"white\",\"ticks\":\"\"},\"caxis\":{\"gridcolor\":\"white\",\"linecolor\":\"white\",\"ticks\":\"\"}},\"coloraxis\":{\"colorbar\":{\"outlinewidth\":0,\"ticks\":\"\"}},\"colorscale\":{\"sequential\":[[0.0,\"#0d0887\"],[0.1111111111111111,\"#46039f\"],[0.2222222222222222,\"#7201a8\"],[0.3333333333333333,\"#9c179e\"],[0.4444444444444444,\"#bd3786\"],[0.5555555555555556,\"#d8576b\"],[0.6666666666666666,\"#ed7953\"],[0.7777777777777778,\"#fb9f3a\"],[0.8888888888888888,\"#fdca26\"],[1.0,\"#f0f921\"]],\"sequentialminus\":[[0.0,\"#0d0887\"],[0.1111111111111111,\"#46039f\"],[0.2222222222222222,\"#7201a8\"],[0.3333333333333333,\"#9c179e\"],[0.4444444444444444,\"#bd3786\"],[0.5555555555555556,\"#d8576b\"],[0.6666666666666666,\"#ed7953\"],[0.7777777777777778,\"#fb9f3a\"],[0.8888888888888888,\"#fdca26\"],[1.0,\"#f0f921\"]],\"diverging\":[[0,\"#8e0152\"],[0.1,\"#c51b7d\"],[0.2,\"#de77ae\"],[0.3,\"#f1b6da\"],[0.4,\"#fde0ef\"],[0.5,\"#f7f7f7\"],[0.6,\"#e6f5d0\"],[0.7,\"#b8e186\"],[0.8,\"#7fbc41\"],[0.9,\"#4d9221\"],[1,\"#276419\"]]},\"xaxis\":{\"gridcolor\":\"white\",\"linecolor\":\"white\",\"ticks\":\"\",\"title\":{\"standoff\":15},\"zerolinecolor\":\"white\",\"automargin\":true,\"zerolinewidth\":2},\"yaxis\":{\"gridcolor\":\"white\",\"linecolor\":\"white\",\"ticks\":\"\",\"title\":{\"standoff\":15},\"zerolinecolor\":\"white\",\"automargin\":true,\"zerolinewidth\":2},\"scene\":{\"xaxis\":{\"backgroundcolor\":\"#E5ECF6\",\"gridcolor\":\"white\",\"linecolor\":\"white\",\"showbackground\":true,\"ticks\":\"\",\"zerolinecolor\":\"white\",\"gridwidth\":2},\"yaxis\":{\"backgroundcolor\":\"#E5ECF6\",\"gridcolor\":\"white\",\"linecolor\":\"white\",\"showbackground\":true,\"ticks\":\"\",\"zerolinecolor\":\"white\",\"gridwidth\":2},\"zaxis\":{\"backgroundcolor\":\"#E5ECF6\",\"gridcolor\":\"white\",\"linecolor\":\"white\",\"showbackground\":true,\"ticks\":\"\",\"zerolinecolor\":\"white\",\"gridwidth\":2}},\"shapedefaults\":{\"line\":{\"color\":\"#2a3f5f\"}},\"annotationdefaults\":{\"arrowcolor\":\"#2a3f5f\",\"arrowhead\":0,\"arrowwidth\":1},\"geo\":{\"bgcolor\":\"white\",\"landcolor\":\"#E5ECF6\",\"subunitcolor\":\"white\",\"showland\":true,\"showlakes\":true,\"lakecolor\":\"white\"},\"title\":{\"x\":0.05},\"mapbox\":{\"style\":\"light\"}}},\"xaxis\":{\"anchor\":\"y\",\"domain\":[0.0,1.0],\"title\":{\"text\":\"engine\"}},\"yaxis\":{\"anchor\":\"x\",\"domain\":[0.0,1.0],\"title\":{\"text\":\"time taken\"},\"type\":\"log\"},\"legend\":{\"title\":{\"text\":\"filesize per chunk\"},\"tracegroupgap\":0},\"margin\":{\"t\":60},\"boxmode\":\"group\"},                        {\"responsive\": true}                    ).then(function(){\n",
       "                            \n",
       "var gd = document.getElementById('7d82e428-f9a0-4307-85f9-bca20d0ce7c6');\n",
       "var x = new MutationObserver(function (mutations, observer) {{\n",
       "        var display = window.getComputedStyle(gd).display;\n",
       "        if (!display || display === 'none') {{\n",
       "            console.log([gd, 'removed!']);\n",
       "            Plotly.purge(gd);\n",
       "            observer.disconnect();\n",
       "        }}\n",
       "}});\n",
       "\n",
       "// Listen for the removal of the full notebook cells\n",
       "var notebookContainer = gd.closest('#notebook-container');\n",
       "if (notebookContainer) {{\n",
       "    x.observe(notebookContainer, {childList: true});\n",
       "}}\n",
       "\n",
       "// Listen for the clearing of the current output cell\n",
       "var outputEl = gd.closest('.output');\n",
       "if (outputEl) {{\n",
       "    x.observe(outputEl, {childList: true});\n",
       "}}\n",
       "\n",
       "                        })                };                });            </script>        </div>"
      ]
     },
     "metadata": {},
     "output_type": "display_data"
    },
    {
     "data": {
      "application/vnd.plotly.v1+json": {
       "config": {
        "plotlyServerURL": "https://plot.ly"
       },
       "data": [
        {
         "alignmentgroup": "True",
         "hovertemplate": "filesize per chunk=2.0 MB<br>engine=%{x}<br>time taken=%{y}<extra></extra>",
         "legendgroup": "2.0 MB",
         "marker": {
          "color": "#636efa"
         },
         "name": "2.0 MB",
         "notched": false,
         "offsetgroup": "2.0 MB",
         "orientation": "v",
         "showlegend": true,
         "type": "box",
         "x": [
          "hdf5",
          "hdf5",
          "hdf5",
          "hdf5",
          "hdf5",
          "hdf5",
          "hdf5",
          "hdf5",
          "hdf5",
          "hdf5"
         ],
         "x0": " ",
         "xaxis": "x",
         "y": [
          46.14103127,
          45.923445485,
          46.01607336,
          46.124263398,
          45.799555882,
          45.748027634,
          45.644547842,
          45.573779377,
          46.374598791,
          45.432376268
         ],
         "y0": " ",
         "yaxis": "y"
        },
        {
         "alignmentgroup": "True",
         "hovertemplate": "filesize per chunk=16.0 MB<br>engine=%{x}<br>time taken=%{y}<extra></extra>",
         "legendgroup": "16.0 MB",
         "marker": {
          "color": "#EF553B"
         },
         "name": "16.0 MB",
         "notched": false,
         "offsetgroup": "16.0 MB",
         "orientation": "v",
         "showlegend": true,
         "type": "box",
         "x": [
          "hdf5",
          "hdf5",
          "hdf5",
          "hdf5",
          "hdf5",
          "hdf5",
          "hdf5",
          "hdf5",
          "hdf5",
          "hdf5"
         ],
         "x0": " ",
         "xaxis": "x",
         "y": [
          5.981869041,
          6.38684548,
          6.240656416,
          6.24766756,
          6.025542604,
          6.253911342,
          6.376845099,
          5.976641,
          6.032766631,
          6.027398905
         ],
         "y0": " ",
         "yaxis": "y"
        },
        {
         "alignmentgroup": "True",
         "hovertemplate": "filesize per chunk=32.0 MB<br>engine=%{x}<br>time taken=%{y}<extra></extra>",
         "legendgroup": "32.0 MB",
         "marker": {
          "color": "#00cc96"
         },
         "name": "32.0 MB",
         "notched": false,
         "offsetgroup": "32.0 MB",
         "orientation": "v",
         "showlegend": true,
         "type": "box",
         "x": [
          "hdf5",
          "hdf5",
          "hdf5",
          "hdf5",
          "hdf5",
          "hdf5",
          "hdf5",
          "hdf5",
          "hdf5",
          "hdf5"
         ],
         "x0": " ",
         "xaxis": "x",
         "y": [
          3.189988007,
          3.1049804930000002,
          3.1164612,
          3.267687763,
          3.174135172,
          3.071354912,
          3.069019151,
          3.082908319,
          3.0678748750000002,
          3.0879366089999998
         ],
         "y0": " ",
         "yaxis": "y"
        },
        {
         "alignmentgroup": "True",
         "hovertemplate": "filesize per chunk=64.0 MB<br>engine=%{x}<br>time taken=%{y}<extra></extra>",
         "legendgroup": "64.0 MB",
         "marker": {
          "color": "#ab63fa"
         },
         "name": "64.0 MB",
         "notched": false,
         "offsetgroup": "64.0 MB",
         "orientation": "v",
         "showlegend": true,
         "type": "box",
         "x": [
          "hdf5",
          "hdf5",
          "hdf5",
          "hdf5",
          "hdf5",
          "hdf5",
          "hdf5",
          "hdf5",
          "hdf5",
          "hdf5"
         ],
         "x0": " ",
         "xaxis": "x",
         "y": [
          1.693819472,
          1.7279579260000002,
          1.693208435,
          1.688626962,
          1.6460844680000002,
          1.7795740150000001,
          1.612152327,
          1.602602136,
          1.6046489620000002,
          1.602822231
         ],
         "y0": " ",
         "yaxis": "y"
        },
        {
         "alignmentgroup": "True",
         "hovertemplate": "filesize per chunk=128.0 MB<br>engine=%{x}<br>time taken=%{y}<extra></extra>",
         "legendgroup": "128.0 MB",
         "marker": {
          "color": "#FFA15A"
         },
         "name": "128.0 MB",
         "notched": false,
         "offsetgroup": "128.0 MB",
         "orientation": "v",
         "showlegend": true,
         "type": "box",
         "x": [
          "hdf5",
          "hdf5",
          "hdf5",
          "hdf5",
          "hdf5",
          "hdf5",
          "hdf5",
          "hdf5",
          "hdf5",
          "hdf5"
         ],
         "x0": " ",
         "xaxis": "x",
         "y": [
          0.853270268,
          0.9284074010000001,
          0.87903606,
          0.846973504,
          0.8496726480000001,
          0.881298659,
          0.848622796,
          0.8538614250000001,
          0.844450825,
          0.844812871
         ],
         "y0": " ",
         "yaxis": "y"
        },
        {
         "alignmentgroup": "True",
         "hovertemplate": "filesize per chunk=256.0 MB<br>engine=%{x}<br>time taken=%{y}<extra></extra>",
         "legendgroup": "256.0 MB",
         "marker": {
          "color": "#19d3f3"
         },
         "name": "256.0 MB",
         "notched": false,
         "offsetgroup": "256.0 MB",
         "orientation": "v",
         "showlegend": true,
         "type": "box",
         "x": [
          "hdf5",
          "hdf5",
          "hdf5",
          "hdf5",
          "hdf5",
          "hdf5",
          "hdf5",
          "hdf5",
          "hdf5",
          "hdf5"
         ],
         "x0": " ",
         "xaxis": "x",
         "y": [
          0.5759470990000001,
          0.573102656,
          0.534317182,
          0.5741216100000001,
          0.5407160670000001,
          0.540359447,
          0.536311689,
          0.527317577,
          0.5020722910000001,
          0.47177409600000003
         ],
         "y0": " ",
         "yaxis": "y"
        },
        {
         "alignmentgroup": "True",
         "hovertemplate": "filesize per chunk=512.0 MB<br>engine=%{x}<br>time taken=%{y}<extra></extra>",
         "legendgroup": "512.0 MB",
         "marker": {
          "color": "#FF6692"
         },
         "name": "512.0 MB",
         "notched": false,
         "offsetgroup": "512.0 MB",
         "orientation": "v",
         "showlegend": true,
         "type": "box",
         "x": [
          "hdf5",
          "hdf5",
          "hdf5",
          "hdf5",
          "hdf5",
          "hdf5",
          "hdf5",
          "hdf5",
          "hdf5",
          "hdf5"
         ],
         "x0": " ",
         "xaxis": "x",
         "y": [
          0.42915156800000004,
          0.36907727700000004,
          0.28373204,
          0.292041284,
          0.282439316,
          0.312224021,
          0.34645431200000004,
          0.291772024,
          0.28979580800000004,
          0.290126997
         ],
         "y0": " ",
         "yaxis": "y"
        },
        {
         "alignmentgroup": "True",
         "hovertemplate": "filesize per chunk=1024.0 MB<br>engine=%{x}<br>time taken=%{y}<extra></extra>",
         "legendgroup": "1024.0 MB",
         "marker": {
          "color": "#B6E880"
         },
         "name": "1024.0 MB",
         "notched": false,
         "offsetgroup": "1024.0 MB",
         "orientation": "v",
         "showlegend": true,
         "type": "box",
         "x": [
          "hdf5",
          "hdf5",
          "hdf5",
          "hdf5",
          "hdf5",
          "hdf5",
          "hdf5",
          "hdf5",
          "hdf5",
          "hdf5"
         ],
         "x0": " ",
         "xaxis": "x",
         "y": [
          0.183353216,
          0.10336550600000001,
          0.09283052700000001,
          0.09067678300000001,
          0.110553382,
          0.097830052,
          0.100210216,
          0.096511632,
          0.095306263,
          0.09832729
         ],
         "y0": " ",
         "yaxis": "y"
        }
       ],
       "layout": {
        "boxmode": "group",
        "legend": {
         "title": {
          "text": "filesize per chunk"
         },
         "tracegroupgap": 0
        },
        "margin": {
         "t": 60
        },
        "template": {
         "data": {
          "bar": [
           {
            "error_x": {
             "color": "#2a3f5f"
            },
            "error_y": {
             "color": "#2a3f5f"
            },
            "marker": {
             "line": {
              "color": "#E5ECF6",
              "width": 0.5
             },
             "pattern": {
              "fillmode": "overlay",
              "size": 10,
              "solidity": 0.2
             }
            },
            "type": "bar"
           }
          ],
          "barpolar": [
           {
            "marker": {
             "line": {
              "color": "#E5ECF6",
              "width": 0.5
             },
             "pattern": {
              "fillmode": "overlay",
              "size": 10,
              "solidity": 0.2
             }
            },
            "type": "barpolar"
           }
          ],
          "carpet": [
           {
            "aaxis": {
             "endlinecolor": "#2a3f5f",
             "gridcolor": "white",
             "linecolor": "white",
             "minorgridcolor": "white",
             "startlinecolor": "#2a3f5f"
            },
            "baxis": {
             "endlinecolor": "#2a3f5f",
             "gridcolor": "white",
             "linecolor": "white",
             "minorgridcolor": "white",
             "startlinecolor": "#2a3f5f"
            },
            "type": "carpet"
           }
          ],
          "choropleth": [
           {
            "colorbar": {
             "outlinewidth": 0,
             "ticks": ""
            },
            "type": "choropleth"
           }
          ],
          "contour": [
           {
            "colorbar": {
             "outlinewidth": 0,
             "ticks": ""
            },
            "colorscale": [
             [
              0,
              "#0d0887"
             ],
             [
              0.1111111111111111,
              "#46039f"
             ],
             [
              0.2222222222222222,
              "#7201a8"
             ],
             [
              0.3333333333333333,
              "#9c179e"
             ],
             [
              0.4444444444444444,
              "#bd3786"
             ],
             [
              0.5555555555555556,
              "#d8576b"
             ],
             [
              0.6666666666666666,
              "#ed7953"
             ],
             [
              0.7777777777777778,
              "#fb9f3a"
             ],
             [
              0.8888888888888888,
              "#fdca26"
             ],
             [
              1,
              "#f0f921"
             ]
            ],
            "type": "contour"
           }
          ],
          "contourcarpet": [
           {
            "colorbar": {
             "outlinewidth": 0,
             "ticks": ""
            },
            "type": "contourcarpet"
           }
          ],
          "heatmap": [
           {
            "colorbar": {
             "outlinewidth": 0,
             "ticks": ""
            },
            "colorscale": [
             [
              0,
              "#0d0887"
             ],
             [
              0.1111111111111111,
              "#46039f"
             ],
             [
              0.2222222222222222,
              "#7201a8"
             ],
             [
              0.3333333333333333,
              "#9c179e"
             ],
             [
              0.4444444444444444,
              "#bd3786"
             ],
             [
              0.5555555555555556,
              "#d8576b"
             ],
             [
              0.6666666666666666,
              "#ed7953"
             ],
             [
              0.7777777777777778,
              "#fb9f3a"
             ],
             [
              0.8888888888888888,
              "#fdca26"
             ],
             [
              1,
              "#f0f921"
             ]
            ],
            "type": "heatmap"
           }
          ],
          "heatmapgl": [
           {
            "colorbar": {
             "outlinewidth": 0,
             "ticks": ""
            },
            "colorscale": [
             [
              0,
              "#0d0887"
             ],
             [
              0.1111111111111111,
              "#46039f"
             ],
             [
              0.2222222222222222,
              "#7201a8"
             ],
             [
              0.3333333333333333,
              "#9c179e"
             ],
             [
              0.4444444444444444,
              "#bd3786"
             ],
             [
              0.5555555555555556,
              "#d8576b"
             ],
             [
              0.6666666666666666,
              "#ed7953"
             ],
             [
              0.7777777777777778,
              "#fb9f3a"
             ],
             [
              0.8888888888888888,
              "#fdca26"
             ],
             [
              1,
              "#f0f921"
             ]
            ],
            "type": "heatmapgl"
           }
          ],
          "histogram": [
           {
            "marker": {
             "pattern": {
              "fillmode": "overlay",
              "size": 10,
              "solidity": 0.2
             }
            },
            "type": "histogram"
           }
          ],
          "histogram2d": [
           {
            "colorbar": {
             "outlinewidth": 0,
             "ticks": ""
            },
            "colorscale": [
             [
              0,
              "#0d0887"
             ],
             [
              0.1111111111111111,
              "#46039f"
             ],
             [
              0.2222222222222222,
              "#7201a8"
             ],
             [
              0.3333333333333333,
              "#9c179e"
             ],
             [
              0.4444444444444444,
              "#bd3786"
             ],
             [
              0.5555555555555556,
              "#d8576b"
             ],
             [
              0.6666666666666666,
              "#ed7953"
             ],
             [
              0.7777777777777778,
              "#fb9f3a"
             ],
             [
              0.8888888888888888,
              "#fdca26"
             ],
             [
              1,
              "#f0f921"
             ]
            ],
            "type": "histogram2d"
           }
          ],
          "histogram2dcontour": [
           {
            "colorbar": {
             "outlinewidth": 0,
             "ticks": ""
            },
            "colorscale": [
             [
              0,
              "#0d0887"
             ],
             [
              0.1111111111111111,
              "#46039f"
             ],
             [
              0.2222222222222222,
              "#7201a8"
             ],
             [
              0.3333333333333333,
              "#9c179e"
             ],
             [
              0.4444444444444444,
              "#bd3786"
             ],
             [
              0.5555555555555556,
              "#d8576b"
             ],
             [
              0.6666666666666666,
              "#ed7953"
             ],
             [
              0.7777777777777778,
              "#fb9f3a"
             ],
             [
              0.8888888888888888,
              "#fdca26"
             ],
             [
              1,
              "#f0f921"
             ]
            ],
            "type": "histogram2dcontour"
           }
          ],
          "mesh3d": [
           {
            "colorbar": {
             "outlinewidth": 0,
             "ticks": ""
            },
            "type": "mesh3d"
           }
          ],
          "parcoords": [
           {
            "line": {
             "colorbar": {
              "outlinewidth": 0,
              "ticks": ""
             }
            },
            "type": "parcoords"
           }
          ],
          "pie": [
           {
            "automargin": true,
            "type": "pie"
           }
          ],
          "scatter": [
           {
            "fillpattern": {
             "fillmode": "overlay",
             "size": 10,
             "solidity": 0.2
            },
            "type": "scatter"
           }
          ],
          "scatter3d": [
           {
            "line": {
             "colorbar": {
              "outlinewidth": 0,
              "ticks": ""
             }
            },
            "marker": {
             "colorbar": {
              "outlinewidth": 0,
              "ticks": ""
             }
            },
            "type": "scatter3d"
           }
          ],
          "scattercarpet": [
           {
            "marker": {
             "colorbar": {
              "outlinewidth": 0,
              "ticks": ""
             }
            },
            "type": "scattercarpet"
           }
          ],
          "scattergeo": [
           {
            "marker": {
             "colorbar": {
              "outlinewidth": 0,
              "ticks": ""
             }
            },
            "type": "scattergeo"
           }
          ],
          "scattergl": [
           {
            "marker": {
             "colorbar": {
              "outlinewidth": 0,
              "ticks": ""
             }
            },
            "type": "scattergl"
           }
          ],
          "scattermapbox": [
           {
            "marker": {
             "colorbar": {
              "outlinewidth": 0,
              "ticks": ""
             }
            },
            "type": "scattermapbox"
           }
          ],
          "scatterpolar": [
           {
            "marker": {
             "colorbar": {
              "outlinewidth": 0,
              "ticks": ""
             }
            },
            "type": "scatterpolar"
           }
          ],
          "scatterpolargl": [
           {
            "marker": {
             "colorbar": {
              "outlinewidth": 0,
              "ticks": ""
             }
            },
            "type": "scatterpolargl"
           }
          ],
          "scatterternary": [
           {
            "marker": {
             "colorbar": {
              "outlinewidth": 0,
              "ticks": ""
             }
            },
            "type": "scatterternary"
           }
          ],
          "surface": [
           {
            "colorbar": {
             "outlinewidth": 0,
             "ticks": ""
            },
            "colorscale": [
             [
              0,
              "#0d0887"
             ],
             [
              0.1111111111111111,
              "#46039f"
             ],
             [
              0.2222222222222222,
              "#7201a8"
             ],
             [
              0.3333333333333333,
              "#9c179e"
             ],
             [
              0.4444444444444444,
              "#bd3786"
             ],
             [
              0.5555555555555556,
              "#d8576b"
             ],
             [
              0.6666666666666666,
              "#ed7953"
             ],
             [
              0.7777777777777778,
              "#fb9f3a"
             ],
             [
              0.8888888888888888,
              "#fdca26"
             ],
             [
              1,
              "#f0f921"
             ]
            ],
            "type": "surface"
           }
          ],
          "table": [
           {
            "cells": {
             "fill": {
              "color": "#EBF0F8"
             },
             "line": {
              "color": "white"
             }
            },
            "header": {
             "fill": {
              "color": "#C8D4E3"
             },
             "line": {
              "color": "white"
             }
            },
            "type": "table"
           }
          ]
         },
         "layout": {
          "annotationdefaults": {
           "arrowcolor": "#2a3f5f",
           "arrowhead": 0,
           "arrowwidth": 1
          },
          "autotypenumbers": "strict",
          "coloraxis": {
           "colorbar": {
            "outlinewidth": 0,
            "ticks": ""
           }
          },
          "colorscale": {
           "diverging": [
            [
             0,
             "#8e0152"
            ],
            [
             0.1,
             "#c51b7d"
            ],
            [
             0.2,
             "#de77ae"
            ],
            [
             0.3,
             "#f1b6da"
            ],
            [
             0.4,
             "#fde0ef"
            ],
            [
             0.5,
             "#f7f7f7"
            ],
            [
             0.6,
             "#e6f5d0"
            ],
            [
             0.7,
             "#b8e186"
            ],
            [
             0.8,
             "#7fbc41"
            ],
            [
             0.9,
             "#4d9221"
            ],
            [
             1,
             "#276419"
            ]
           ],
           "sequential": [
            [
             0,
             "#0d0887"
            ],
            [
             0.1111111111111111,
             "#46039f"
            ],
            [
             0.2222222222222222,
             "#7201a8"
            ],
            [
             0.3333333333333333,
             "#9c179e"
            ],
            [
             0.4444444444444444,
             "#bd3786"
            ],
            [
             0.5555555555555556,
             "#d8576b"
            ],
            [
             0.6666666666666666,
             "#ed7953"
            ],
            [
             0.7777777777777778,
             "#fb9f3a"
            ],
            [
             0.8888888888888888,
             "#fdca26"
            ],
            [
             1,
             "#f0f921"
            ]
           ],
           "sequentialminus": [
            [
             0,
             "#0d0887"
            ],
            [
             0.1111111111111111,
             "#46039f"
            ],
            [
             0.2222222222222222,
             "#7201a8"
            ],
            [
             0.3333333333333333,
             "#9c179e"
            ],
            [
             0.4444444444444444,
             "#bd3786"
            ],
            [
             0.5555555555555556,
             "#d8576b"
            ],
            [
             0.6666666666666666,
             "#ed7953"
            ],
            [
             0.7777777777777778,
             "#fb9f3a"
            ],
            [
             0.8888888888888888,
             "#fdca26"
            ],
            [
             1,
             "#f0f921"
            ]
           ]
          },
          "colorway": [
           "#636efa",
           "#EF553B",
           "#00cc96",
           "#ab63fa",
           "#FFA15A",
           "#19d3f3",
           "#FF6692",
           "#B6E880",
           "#FF97FF",
           "#FECB52"
          ],
          "font": {
           "color": "#2a3f5f"
          },
          "geo": {
           "bgcolor": "white",
           "lakecolor": "white",
           "landcolor": "#E5ECF6",
           "showlakes": true,
           "showland": true,
           "subunitcolor": "white"
          },
          "hoverlabel": {
           "align": "left"
          },
          "hovermode": "closest",
          "mapbox": {
           "style": "light"
          },
          "paper_bgcolor": "white",
          "plot_bgcolor": "#E5ECF6",
          "polar": {
           "angularaxis": {
            "gridcolor": "white",
            "linecolor": "white",
            "ticks": ""
           },
           "bgcolor": "#E5ECF6",
           "radialaxis": {
            "gridcolor": "white",
            "linecolor": "white",
            "ticks": ""
           }
          },
          "scene": {
           "xaxis": {
            "backgroundcolor": "#E5ECF6",
            "gridcolor": "white",
            "gridwidth": 2,
            "linecolor": "white",
            "showbackground": true,
            "ticks": "",
            "zerolinecolor": "white"
           },
           "yaxis": {
            "backgroundcolor": "#E5ECF6",
            "gridcolor": "white",
            "gridwidth": 2,
            "linecolor": "white",
            "showbackground": true,
            "ticks": "",
            "zerolinecolor": "white"
           },
           "zaxis": {
            "backgroundcolor": "#E5ECF6",
            "gridcolor": "white",
            "gridwidth": 2,
            "linecolor": "white",
            "showbackground": true,
            "ticks": "",
            "zerolinecolor": "white"
           }
          },
          "shapedefaults": {
           "line": {
            "color": "#2a3f5f"
           }
          },
          "ternary": {
           "aaxis": {
            "gridcolor": "white",
            "linecolor": "white",
            "ticks": ""
           },
           "baxis": {
            "gridcolor": "white",
            "linecolor": "white",
            "ticks": ""
           },
           "bgcolor": "#E5ECF6",
           "caxis": {
            "gridcolor": "white",
            "linecolor": "white",
            "ticks": ""
           }
          },
          "title": {
           "x": 0.05
          },
          "xaxis": {
           "automargin": true,
           "gridcolor": "white",
           "linecolor": "white",
           "ticks": "",
           "title": {
            "standoff": 15
           },
           "zerolinecolor": "white",
           "zerolinewidth": 2
          },
          "yaxis": {
           "automargin": true,
           "gridcolor": "white",
           "linecolor": "white",
           "ticks": "",
           "title": {
            "standoff": 15
           },
           "zerolinecolor": "white",
           "zerolinewidth": 2
          }
         }
        },
        "xaxis": {
         "anchor": "y",
         "domain": [
          0,
          1
         ],
         "title": {
          "text": "engine"
         }
        },
        "yaxis": {
         "anchor": "x",
         "domain": [
          0,
          1
         ],
         "title": {
          "text": "time taken"
         },
         "type": "log"
        }
       }
      },
      "text/html": [
       "<div>                            <div id=\"be72725d-d182-4034-98ea-2a769547310d\" class=\"plotly-graph-div\" style=\"height:525px; width:100%;\"></div>            <script type=\"text/javascript\">                require([\"plotly\"], function(Plotly) {                    window.PLOTLYENV=window.PLOTLYENV || {};                                    if (document.getElementById(\"be72725d-d182-4034-98ea-2a769547310d\")) {                    Plotly.newPlot(                        \"be72725d-d182-4034-98ea-2a769547310d\",                        [{\"alignmentgroup\":\"True\",\"hovertemplate\":\"filesize per chunk=2.0 MB\\u003cbr\\u003eengine=%{x}\\u003cbr\\u003etime taken=%{y}\\u003cextra\\u003e\\u003c\\u002fextra\\u003e\",\"legendgroup\":\"2.0 MB\",\"marker\":{\"color\":\"#636efa\"},\"name\":\"2.0 MB\",\"notched\":false,\"offsetgroup\":\"2.0 MB\",\"orientation\":\"v\",\"showlegend\":true,\"x\":[\"hdf5\",\"hdf5\",\"hdf5\",\"hdf5\",\"hdf5\",\"hdf5\",\"hdf5\",\"hdf5\",\"hdf5\",\"hdf5\"],\"x0\":\" \",\"xaxis\":\"x\",\"y\":[46.14103127,45.923445485,46.01607336,46.124263398,45.799555882,45.748027634,45.644547842,45.573779377,46.374598791,45.432376268],\"y0\":\" \",\"yaxis\":\"y\",\"type\":\"box\"},{\"alignmentgroup\":\"True\",\"hovertemplate\":\"filesize per chunk=16.0 MB\\u003cbr\\u003eengine=%{x}\\u003cbr\\u003etime taken=%{y}\\u003cextra\\u003e\\u003c\\u002fextra\\u003e\",\"legendgroup\":\"16.0 MB\",\"marker\":{\"color\":\"#EF553B\"},\"name\":\"16.0 MB\",\"notched\":false,\"offsetgroup\":\"16.0 MB\",\"orientation\":\"v\",\"showlegend\":true,\"x\":[\"hdf5\",\"hdf5\",\"hdf5\",\"hdf5\",\"hdf5\",\"hdf5\",\"hdf5\",\"hdf5\",\"hdf5\",\"hdf5\"],\"x0\":\" \",\"xaxis\":\"x\",\"y\":[5.981869041,6.38684548,6.240656416,6.24766756,6.025542604,6.253911342,6.376845099,5.976641,6.032766631,6.027398905],\"y0\":\" \",\"yaxis\":\"y\",\"type\":\"box\"},{\"alignmentgroup\":\"True\",\"hovertemplate\":\"filesize per chunk=32.0 MB\\u003cbr\\u003eengine=%{x}\\u003cbr\\u003etime taken=%{y}\\u003cextra\\u003e\\u003c\\u002fextra\\u003e\",\"legendgroup\":\"32.0 MB\",\"marker\":{\"color\":\"#00cc96\"},\"name\":\"32.0 MB\",\"notched\":false,\"offsetgroup\":\"32.0 MB\",\"orientation\":\"v\",\"showlegend\":true,\"x\":[\"hdf5\",\"hdf5\",\"hdf5\",\"hdf5\",\"hdf5\",\"hdf5\",\"hdf5\",\"hdf5\",\"hdf5\",\"hdf5\"],\"x0\":\" \",\"xaxis\":\"x\",\"y\":[3.189988007,3.1049804930000002,3.1164612,3.267687763,3.174135172,3.071354912,3.069019151,3.082908319,3.0678748750000002,3.0879366089999998],\"y0\":\" \",\"yaxis\":\"y\",\"type\":\"box\"},{\"alignmentgroup\":\"True\",\"hovertemplate\":\"filesize per chunk=64.0 MB\\u003cbr\\u003eengine=%{x}\\u003cbr\\u003etime taken=%{y}\\u003cextra\\u003e\\u003c\\u002fextra\\u003e\",\"legendgroup\":\"64.0 MB\",\"marker\":{\"color\":\"#ab63fa\"},\"name\":\"64.0 MB\",\"notched\":false,\"offsetgroup\":\"64.0 MB\",\"orientation\":\"v\",\"showlegend\":true,\"x\":[\"hdf5\",\"hdf5\",\"hdf5\",\"hdf5\",\"hdf5\",\"hdf5\",\"hdf5\",\"hdf5\",\"hdf5\",\"hdf5\"],\"x0\":\" \",\"xaxis\":\"x\",\"y\":[1.693819472,1.7279579260000002,1.693208435,1.688626962,1.6460844680000002,1.7795740150000001,1.612152327,1.602602136,1.6046489620000002,1.602822231],\"y0\":\" \",\"yaxis\":\"y\",\"type\":\"box\"},{\"alignmentgroup\":\"True\",\"hovertemplate\":\"filesize per chunk=128.0 MB\\u003cbr\\u003eengine=%{x}\\u003cbr\\u003etime taken=%{y}\\u003cextra\\u003e\\u003c\\u002fextra\\u003e\",\"legendgroup\":\"128.0 MB\",\"marker\":{\"color\":\"#FFA15A\"},\"name\":\"128.0 MB\",\"notched\":false,\"offsetgroup\":\"128.0 MB\",\"orientation\":\"v\",\"showlegend\":true,\"x\":[\"hdf5\",\"hdf5\",\"hdf5\",\"hdf5\",\"hdf5\",\"hdf5\",\"hdf5\",\"hdf5\",\"hdf5\",\"hdf5\"],\"x0\":\" \",\"xaxis\":\"x\",\"y\":[0.853270268,0.9284074010000001,0.87903606,0.846973504,0.8496726480000001,0.881298659,0.848622796,0.8538614250000001,0.844450825,0.844812871],\"y0\":\" \",\"yaxis\":\"y\",\"type\":\"box\"},{\"alignmentgroup\":\"True\",\"hovertemplate\":\"filesize per chunk=256.0 MB\\u003cbr\\u003eengine=%{x}\\u003cbr\\u003etime taken=%{y}\\u003cextra\\u003e\\u003c\\u002fextra\\u003e\",\"legendgroup\":\"256.0 MB\",\"marker\":{\"color\":\"#19d3f3\"},\"name\":\"256.0 MB\",\"notched\":false,\"offsetgroup\":\"256.0 MB\",\"orientation\":\"v\",\"showlegend\":true,\"x\":[\"hdf5\",\"hdf5\",\"hdf5\",\"hdf5\",\"hdf5\",\"hdf5\",\"hdf5\",\"hdf5\",\"hdf5\",\"hdf5\"],\"x0\":\" \",\"xaxis\":\"x\",\"y\":[0.5759470990000001,0.573102656,0.534317182,0.5741216100000001,0.5407160670000001,0.540359447,0.536311689,0.527317577,0.5020722910000001,0.47177409600000003],\"y0\":\" \",\"yaxis\":\"y\",\"type\":\"box\"},{\"alignmentgroup\":\"True\",\"hovertemplate\":\"filesize per chunk=512.0 MB\\u003cbr\\u003eengine=%{x}\\u003cbr\\u003etime taken=%{y}\\u003cextra\\u003e\\u003c\\u002fextra\\u003e\",\"legendgroup\":\"512.0 MB\",\"marker\":{\"color\":\"#FF6692\"},\"name\":\"512.0 MB\",\"notched\":false,\"offsetgroup\":\"512.0 MB\",\"orientation\":\"v\",\"showlegend\":true,\"x\":[\"hdf5\",\"hdf5\",\"hdf5\",\"hdf5\",\"hdf5\",\"hdf5\",\"hdf5\",\"hdf5\",\"hdf5\",\"hdf5\"],\"x0\":\" \",\"xaxis\":\"x\",\"y\":[0.42915156800000004,0.36907727700000004,0.28373204,0.292041284,0.282439316,0.312224021,0.34645431200000004,0.291772024,0.28979580800000004,0.290126997],\"y0\":\" \",\"yaxis\":\"y\",\"type\":\"box\"},{\"alignmentgroup\":\"True\",\"hovertemplate\":\"filesize per chunk=1024.0 MB\\u003cbr\\u003eengine=%{x}\\u003cbr\\u003etime taken=%{y}\\u003cextra\\u003e\\u003c\\u002fextra\\u003e\",\"legendgroup\":\"1024.0 MB\",\"marker\":{\"color\":\"#B6E880\"},\"name\":\"1024.0 MB\",\"notched\":false,\"offsetgroup\":\"1024.0 MB\",\"orientation\":\"v\",\"showlegend\":true,\"x\":[\"hdf5\",\"hdf5\",\"hdf5\",\"hdf5\",\"hdf5\",\"hdf5\",\"hdf5\",\"hdf5\",\"hdf5\",\"hdf5\"],\"x0\":\" \",\"xaxis\":\"x\",\"y\":[0.183353216,0.10336550600000001,0.09283052700000001,0.09067678300000001,0.110553382,0.097830052,0.100210216,0.096511632,0.095306263,0.09832729],\"y0\":\" \",\"yaxis\":\"y\",\"type\":\"box\"}],                        {\"template\":{\"data\":{\"histogram2dcontour\":[{\"type\":\"histogram2dcontour\",\"colorbar\":{\"outlinewidth\":0,\"ticks\":\"\"},\"colorscale\":[[0.0,\"#0d0887\"],[0.1111111111111111,\"#46039f\"],[0.2222222222222222,\"#7201a8\"],[0.3333333333333333,\"#9c179e\"],[0.4444444444444444,\"#bd3786\"],[0.5555555555555556,\"#d8576b\"],[0.6666666666666666,\"#ed7953\"],[0.7777777777777778,\"#fb9f3a\"],[0.8888888888888888,\"#fdca26\"],[1.0,\"#f0f921\"]]}],\"choropleth\":[{\"type\":\"choropleth\",\"colorbar\":{\"outlinewidth\":0,\"ticks\":\"\"}}],\"histogram2d\":[{\"type\":\"histogram2d\",\"colorbar\":{\"outlinewidth\":0,\"ticks\":\"\"},\"colorscale\":[[0.0,\"#0d0887\"],[0.1111111111111111,\"#46039f\"],[0.2222222222222222,\"#7201a8\"],[0.3333333333333333,\"#9c179e\"],[0.4444444444444444,\"#bd3786\"],[0.5555555555555556,\"#d8576b\"],[0.6666666666666666,\"#ed7953\"],[0.7777777777777778,\"#fb9f3a\"],[0.8888888888888888,\"#fdca26\"],[1.0,\"#f0f921\"]]}],\"heatmap\":[{\"type\":\"heatmap\",\"colorbar\":{\"outlinewidth\":0,\"ticks\":\"\"},\"colorscale\":[[0.0,\"#0d0887\"],[0.1111111111111111,\"#46039f\"],[0.2222222222222222,\"#7201a8\"],[0.3333333333333333,\"#9c179e\"],[0.4444444444444444,\"#bd3786\"],[0.5555555555555556,\"#d8576b\"],[0.6666666666666666,\"#ed7953\"],[0.7777777777777778,\"#fb9f3a\"],[0.8888888888888888,\"#fdca26\"],[1.0,\"#f0f921\"]]}],\"heatmapgl\":[{\"type\":\"heatmapgl\",\"colorbar\":{\"outlinewidth\":0,\"ticks\":\"\"},\"colorscale\":[[0.0,\"#0d0887\"],[0.1111111111111111,\"#46039f\"],[0.2222222222222222,\"#7201a8\"],[0.3333333333333333,\"#9c179e\"],[0.4444444444444444,\"#bd3786\"],[0.5555555555555556,\"#d8576b\"],[0.6666666666666666,\"#ed7953\"],[0.7777777777777778,\"#fb9f3a\"],[0.8888888888888888,\"#fdca26\"],[1.0,\"#f0f921\"]]}],\"contourcarpet\":[{\"type\":\"contourcarpet\",\"colorbar\":{\"outlinewidth\":0,\"ticks\":\"\"}}],\"contour\":[{\"type\":\"contour\",\"colorbar\":{\"outlinewidth\":0,\"ticks\":\"\"},\"colorscale\":[[0.0,\"#0d0887\"],[0.1111111111111111,\"#46039f\"],[0.2222222222222222,\"#7201a8\"],[0.3333333333333333,\"#9c179e\"],[0.4444444444444444,\"#bd3786\"],[0.5555555555555556,\"#d8576b\"],[0.6666666666666666,\"#ed7953\"],[0.7777777777777778,\"#fb9f3a\"],[0.8888888888888888,\"#fdca26\"],[1.0,\"#f0f921\"]]}],\"surface\":[{\"type\":\"surface\",\"colorbar\":{\"outlinewidth\":0,\"ticks\":\"\"},\"colorscale\":[[0.0,\"#0d0887\"],[0.1111111111111111,\"#46039f\"],[0.2222222222222222,\"#7201a8\"],[0.3333333333333333,\"#9c179e\"],[0.4444444444444444,\"#bd3786\"],[0.5555555555555556,\"#d8576b\"],[0.6666666666666666,\"#ed7953\"],[0.7777777777777778,\"#fb9f3a\"],[0.8888888888888888,\"#fdca26\"],[1.0,\"#f0f921\"]]}],\"mesh3d\":[{\"type\":\"mesh3d\",\"colorbar\":{\"outlinewidth\":0,\"ticks\":\"\"}}],\"scatter\":[{\"fillpattern\":{\"fillmode\":\"overlay\",\"size\":10,\"solidity\":0.2},\"type\":\"scatter\"}],\"parcoords\":[{\"type\":\"parcoords\",\"line\":{\"colorbar\":{\"outlinewidth\":0,\"ticks\":\"\"}}}],\"scatterpolargl\":[{\"type\":\"scatterpolargl\",\"marker\":{\"colorbar\":{\"outlinewidth\":0,\"ticks\":\"\"}}}],\"bar\":[{\"error_x\":{\"color\":\"#2a3f5f\"},\"error_y\":{\"color\":\"#2a3f5f\"},\"marker\":{\"line\":{\"color\":\"#E5ECF6\",\"width\":0.5},\"pattern\":{\"fillmode\":\"overlay\",\"size\":10,\"solidity\":0.2}},\"type\":\"bar\"}],\"scattergeo\":[{\"type\":\"scattergeo\",\"marker\":{\"colorbar\":{\"outlinewidth\":0,\"ticks\":\"\"}}}],\"scatterpolar\":[{\"type\":\"scatterpolar\",\"marker\":{\"colorbar\":{\"outlinewidth\":0,\"ticks\":\"\"}}}],\"histogram\":[{\"marker\":{\"pattern\":{\"fillmode\":\"overlay\",\"size\":10,\"solidity\":0.2}},\"type\":\"histogram\"}],\"scattergl\":[{\"type\":\"scattergl\",\"marker\":{\"colorbar\":{\"outlinewidth\":0,\"ticks\":\"\"}}}],\"scatter3d\":[{\"type\":\"scatter3d\",\"line\":{\"colorbar\":{\"outlinewidth\":0,\"ticks\":\"\"}},\"marker\":{\"colorbar\":{\"outlinewidth\":0,\"ticks\":\"\"}}}],\"scattermapbox\":[{\"type\":\"scattermapbox\",\"marker\":{\"colorbar\":{\"outlinewidth\":0,\"ticks\":\"\"}}}],\"scatterternary\":[{\"type\":\"scatterternary\",\"marker\":{\"colorbar\":{\"outlinewidth\":0,\"ticks\":\"\"}}}],\"scattercarpet\":[{\"type\":\"scattercarpet\",\"marker\":{\"colorbar\":{\"outlinewidth\":0,\"ticks\":\"\"}}}],\"carpet\":[{\"aaxis\":{\"endlinecolor\":\"#2a3f5f\",\"gridcolor\":\"white\",\"linecolor\":\"white\",\"minorgridcolor\":\"white\",\"startlinecolor\":\"#2a3f5f\"},\"baxis\":{\"endlinecolor\":\"#2a3f5f\",\"gridcolor\":\"white\",\"linecolor\":\"white\",\"minorgridcolor\":\"white\",\"startlinecolor\":\"#2a3f5f\"},\"type\":\"carpet\"}],\"table\":[{\"cells\":{\"fill\":{\"color\":\"#EBF0F8\"},\"line\":{\"color\":\"white\"}},\"header\":{\"fill\":{\"color\":\"#C8D4E3\"},\"line\":{\"color\":\"white\"}},\"type\":\"table\"}],\"barpolar\":[{\"marker\":{\"line\":{\"color\":\"#E5ECF6\",\"width\":0.5},\"pattern\":{\"fillmode\":\"overlay\",\"size\":10,\"solidity\":0.2}},\"type\":\"barpolar\"}],\"pie\":[{\"automargin\":true,\"type\":\"pie\"}]},\"layout\":{\"autotypenumbers\":\"strict\",\"colorway\":[\"#636efa\",\"#EF553B\",\"#00cc96\",\"#ab63fa\",\"#FFA15A\",\"#19d3f3\",\"#FF6692\",\"#B6E880\",\"#FF97FF\",\"#FECB52\"],\"font\":{\"color\":\"#2a3f5f\"},\"hovermode\":\"closest\",\"hoverlabel\":{\"align\":\"left\"},\"paper_bgcolor\":\"white\",\"plot_bgcolor\":\"#E5ECF6\",\"polar\":{\"bgcolor\":\"#E5ECF6\",\"angularaxis\":{\"gridcolor\":\"white\",\"linecolor\":\"white\",\"ticks\":\"\"},\"radialaxis\":{\"gridcolor\":\"white\",\"linecolor\":\"white\",\"ticks\":\"\"}},\"ternary\":{\"bgcolor\":\"#E5ECF6\",\"aaxis\":{\"gridcolor\":\"white\",\"linecolor\":\"white\",\"ticks\":\"\"},\"baxis\":{\"gridcolor\":\"white\",\"linecolor\":\"white\",\"ticks\":\"\"},\"caxis\":{\"gridcolor\":\"white\",\"linecolor\":\"white\",\"ticks\":\"\"}},\"coloraxis\":{\"colorbar\":{\"outlinewidth\":0,\"ticks\":\"\"}},\"colorscale\":{\"sequential\":[[0.0,\"#0d0887\"],[0.1111111111111111,\"#46039f\"],[0.2222222222222222,\"#7201a8\"],[0.3333333333333333,\"#9c179e\"],[0.4444444444444444,\"#bd3786\"],[0.5555555555555556,\"#d8576b\"],[0.6666666666666666,\"#ed7953\"],[0.7777777777777778,\"#fb9f3a\"],[0.8888888888888888,\"#fdca26\"],[1.0,\"#f0f921\"]],\"sequentialminus\":[[0.0,\"#0d0887\"],[0.1111111111111111,\"#46039f\"],[0.2222222222222222,\"#7201a8\"],[0.3333333333333333,\"#9c179e\"],[0.4444444444444444,\"#bd3786\"],[0.5555555555555556,\"#d8576b\"],[0.6666666666666666,\"#ed7953\"],[0.7777777777777778,\"#fb9f3a\"],[0.8888888888888888,\"#fdca26\"],[1.0,\"#f0f921\"]],\"diverging\":[[0,\"#8e0152\"],[0.1,\"#c51b7d\"],[0.2,\"#de77ae\"],[0.3,\"#f1b6da\"],[0.4,\"#fde0ef\"],[0.5,\"#f7f7f7\"],[0.6,\"#e6f5d0\"],[0.7,\"#b8e186\"],[0.8,\"#7fbc41\"],[0.9,\"#4d9221\"],[1,\"#276419\"]]},\"xaxis\":{\"gridcolor\":\"white\",\"linecolor\":\"white\",\"ticks\":\"\",\"title\":{\"standoff\":15},\"zerolinecolor\":\"white\",\"automargin\":true,\"zerolinewidth\":2},\"yaxis\":{\"gridcolor\":\"white\",\"linecolor\":\"white\",\"ticks\":\"\",\"title\":{\"standoff\":15},\"zerolinecolor\":\"white\",\"automargin\":true,\"zerolinewidth\":2},\"scene\":{\"xaxis\":{\"backgroundcolor\":\"#E5ECF6\",\"gridcolor\":\"white\",\"linecolor\":\"white\",\"showbackground\":true,\"ticks\":\"\",\"zerolinecolor\":\"white\",\"gridwidth\":2},\"yaxis\":{\"backgroundcolor\":\"#E5ECF6\",\"gridcolor\":\"white\",\"linecolor\":\"white\",\"showbackground\":true,\"ticks\":\"\",\"zerolinecolor\":\"white\",\"gridwidth\":2},\"zaxis\":{\"backgroundcolor\":\"#E5ECF6\",\"gridcolor\":\"white\",\"linecolor\":\"white\",\"showbackground\":true,\"ticks\":\"\",\"zerolinecolor\":\"white\",\"gridwidth\":2}},\"shapedefaults\":{\"line\":{\"color\":\"#2a3f5f\"}},\"annotationdefaults\":{\"arrowcolor\":\"#2a3f5f\",\"arrowhead\":0,\"arrowwidth\":1},\"geo\":{\"bgcolor\":\"white\",\"landcolor\":\"#E5ECF6\",\"subunitcolor\":\"white\",\"showland\":true,\"showlakes\":true,\"lakecolor\":\"white\"},\"title\":{\"x\":0.05},\"mapbox\":{\"style\":\"light\"}}},\"xaxis\":{\"anchor\":\"y\",\"domain\":[0.0,1.0],\"title\":{\"text\":\"engine\"}},\"yaxis\":{\"anchor\":\"x\",\"domain\":[0.0,1.0],\"title\":{\"text\":\"time taken\"},\"type\":\"log\"},\"legend\":{\"title\":{\"text\":\"filesize per chunk\"},\"tracegroupgap\":0},\"margin\":{\"t\":60},\"boxmode\":\"group\"},                        {\"responsive\": true}                    ).then(function(){\n",
       "                            \n",
       "var gd = document.getElementById('be72725d-d182-4034-98ea-2a769547310d');\n",
       "var x = new MutationObserver(function (mutations, observer) {{\n",
       "        var display = window.getComputedStyle(gd).display;\n",
       "        if (!display || display === 'none') {{\n",
       "            console.log([gd, 'removed!']);\n",
       "            Plotly.purge(gd);\n",
       "            observer.disconnect();\n",
       "        }}\n",
       "}});\n",
       "\n",
       "// Listen for the removal of the full notebook cells\n",
       "var notebookContainer = gd.closest('#notebook-container');\n",
       "if (notebookContainer) {{\n",
       "    x.observe(notebookContainer, {childList: true});\n",
       "}}\n",
       "\n",
       "// Listen for the clearing of the current output cell\n",
       "var outputEl = gd.closest('.output');\n",
       "if (outputEl) {{\n",
       "    x.observe(outputEl, {childList: true});\n",
       "}}\n",
       "\n",
       "                        })                };                });            </script>        </div>"
      ]
     },
     "metadata": {},
     "output_type": "display_data"
    },
    {
     "data": {
      "application/vnd.plotly.v1+json": {
       "config": {
        "plotlyServerURL": "https://plot.ly"
       },
       "data": [
        {
         "alignmentgroup": "True",
         "box": {
          "visible": false
         },
         "hovertemplate": "engine=zarr<br>time taken=%{x}<br>format=%{y}<extra></extra>",
         "legendgroup": "zarr",
         "marker": {
          "color": "#636efa"
         },
         "name": "zarr",
         "offsetgroup": "zarr",
         "orientation": "h",
         "scalegroup": "True",
         "showlegend": true,
         "type": "violin",
         "x": [
          1.254719685,
          1.248066141,
          1.292569566,
          1.314146394,
          1.313602982,
          1.289282074,
          1.254550035,
          1.266733049,
          1.267689895,
          1.260372463,
          0.47734869999999996,
          0.47810641600000003,
          0.475131742,
          0.49847422,
          0.471999887,
          0.49030078200000005,
          0.47879551000000004,
          0.479558588,
          0.47660526900000005,
          0.46878278,
          0.341167112,
          0.346485843,
          0.337719557,
          0.326252441,
          0.317186783,
          0.32556866900000003,
          0.322510964,
          0.325034704,
          0.352799583,
          0.32193485600000005,
          0.300894643,
          0.462857507,
          0.30194046700000005,
          0.299499148,
          0.30833920800000003,
          0.31830092,
          0.30179614600000004,
          0.309152392,
          0.31024292600000003,
          0.312736871,
          0.302416801,
          0.269407463,
          0.268864951,
          0.27021970500000003,
          0.26755000300000004,
          0.27700697700000004,
          0.270246684,
          0.278290395,
          0.27775366700000004,
          0.289305542,
          0.35860182500000004,
          0.404696704,
          0.6036628110000001,
          0.349247028,
          0.32979555400000005,
          0.327063043,
          0.341437916,
          0.329447303,
          0.359248818,
          0.332353106,
          0.726337961,
          0.523674849,
          0.480964775,
          0.46715677400000005,
          0.48670843700000005,
          0.47968150200000004,
          0.46848868800000004,
          0.468050658,
          0.481170835,
          0.485542856,
          0.8950659540000001,
          0.9446840860000001,
          0.94388729,
          0.8315148790000001,
          0.819262417,
          0.8176201470000001,
          0.817028666,
          0.819191114,
          0.811937299,
          0.8105739710000001
         ],
         "x0": " ",
         "xaxis": "x",
         "y": [
          "zarr-[512, 512, 512]-[512, 512, 1]",
          "zarr-[512, 512, 512]-[512, 512, 1]",
          "zarr-[512, 512, 512]-[512, 512, 1]",
          "zarr-[512, 512, 512]-[512, 512, 1]",
          "zarr-[512, 512, 512]-[512, 512, 1]",
          "zarr-[512, 512, 512]-[512, 512, 1]",
          "zarr-[512, 512, 512]-[512, 512, 1]",
          "zarr-[512, 512, 512]-[512, 512, 1]",
          "zarr-[512, 512, 512]-[512, 512, 1]",
          "zarr-[512, 512, 512]-[512, 512, 1]",
          "zarr-[512, 512, 512]-[512, 512, 8]",
          "zarr-[512, 512, 512]-[512, 512, 8]",
          "zarr-[512, 512, 512]-[512, 512, 8]",
          "zarr-[512, 512, 512]-[512, 512, 8]",
          "zarr-[512, 512, 512]-[512, 512, 8]",
          "zarr-[512, 512, 512]-[512, 512, 8]",
          "zarr-[512, 512, 512]-[512, 512, 8]",
          "zarr-[512, 512, 512]-[512, 512, 8]",
          "zarr-[512, 512, 512]-[512, 512, 8]",
          "zarr-[512, 512, 512]-[512, 512, 8]",
          "zarr-[512, 512, 512]-[512, 512, 16]",
          "zarr-[512, 512, 512]-[512, 512, 16]",
          "zarr-[512, 512, 512]-[512, 512, 16]",
          "zarr-[512, 512, 512]-[512, 512, 16]",
          "zarr-[512, 512, 512]-[512, 512, 16]",
          "zarr-[512, 512, 512]-[512, 512, 16]",
          "zarr-[512, 512, 512]-[512, 512, 16]",
          "zarr-[512, 512, 512]-[512, 512, 16]",
          "zarr-[512, 512, 512]-[512, 512, 16]",
          "zarr-[512, 512, 512]-[512, 512, 16]",
          "zarr-[512, 512, 512]-[512, 512, 32]",
          "zarr-[512, 512, 512]-[512, 512, 32]",
          "zarr-[512, 512, 512]-[512, 512, 32]",
          "zarr-[512, 512, 512]-[512, 512, 32]",
          "zarr-[512, 512, 512]-[512, 512, 32]",
          "zarr-[512, 512, 512]-[512, 512, 32]",
          "zarr-[512, 512, 512]-[512, 512, 32]",
          "zarr-[512, 512, 512]-[512, 512, 32]",
          "zarr-[512, 512, 512]-[512, 512, 32]",
          "zarr-[512, 512, 512]-[512, 512, 32]",
          "zarr-[512, 512, 512]-[512, 512, 64]",
          "zarr-[512, 512, 512]-[512, 512, 64]",
          "zarr-[512, 512, 512]-[512, 512, 64]",
          "zarr-[512, 512, 512]-[512, 512, 64]",
          "zarr-[512, 512, 512]-[512, 512, 64]",
          "zarr-[512, 512, 512]-[512, 512, 64]",
          "zarr-[512, 512, 512]-[512, 512, 64]",
          "zarr-[512, 512, 512]-[512, 512, 64]",
          "zarr-[512, 512, 512]-[512, 512, 64]",
          "zarr-[512, 512, 512]-[512, 512, 64]",
          "zarr-[512, 512, 512]-[512, 512, 128]",
          "zarr-[512, 512, 512]-[512, 512, 128]",
          "zarr-[512, 512, 512]-[512, 512, 128]",
          "zarr-[512, 512, 512]-[512, 512, 128]",
          "zarr-[512, 512, 512]-[512, 512, 128]",
          "zarr-[512, 512, 512]-[512, 512, 128]",
          "zarr-[512, 512, 512]-[512, 512, 128]",
          "zarr-[512, 512, 512]-[512, 512, 128]",
          "zarr-[512, 512, 512]-[512, 512, 128]",
          "zarr-[512, 512, 512]-[512, 512, 128]",
          "zarr-[512, 512, 512]-[512, 512, 256]",
          "zarr-[512, 512, 512]-[512, 512, 256]",
          "zarr-[512, 512, 512]-[512, 512, 256]",
          "zarr-[512, 512, 512]-[512, 512, 256]",
          "zarr-[512, 512, 512]-[512, 512, 256]",
          "zarr-[512, 512, 512]-[512, 512, 256]",
          "zarr-[512, 512, 512]-[512, 512, 256]",
          "zarr-[512, 512, 512]-[512, 512, 256]",
          "zarr-[512, 512, 512]-[512, 512, 256]",
          "zarr-[512, 512, 512]-[512, 512, 256]",
          "zarr-[512, 512, 512]-[512, 512, 512]",
          "zarr-[512, 512, 512]-[512, 512, 512]",
          "zarr-[512, 512, 512]-[512, 512, 512]",
          "zarr-[512, 512, 512]-[512, 512, 512]",
          "zarr-[512, 512, 512]-[512, 512, 512]",
          "zarr-[512, 512, 512]-[512, 512, 512]",
          "zarr-[512, 512, 512]-[512, 512, 512]",
          "zarr-[512, 512, 512]-[512, 512, 512]",
          "zarr-[512, 512, 512]-[512, 512, 512]",
          "zarr-[512, 512, 512]-[512, 512, 512]"
         ],
         "y0": " ",
         "yaxis": "y"
        },
        {
         "alignmentgroup": "True",
         "box": {
          "visible": false
         },
         "hovertemplate": "engine=netcdf4<br>time taken=%{x}<br>format=%{y}<extra></extra>",
         "legendgroup": "netcdf4",
         "marker": {
          "color": "#EF553B"
         },
         "name": "netcdf4",
         "offsetgroup": "netcdf4",
         "orientation": "h",
         "scalegroup": "True",
         "showlegend": true,
         "type": "violin",
         "x": [
          1.066638576,
          1.101389066,
          1.097299316,
          1.046411391,
          1.165832655,
          1.076762198,
          1.208166825,
          1.104800169,
          1.121934926,
          1.051151894,
          0.35543492200000004,
          0.36908632900000005,
          0.343790335,
          0.347241096,
          0.34522847100000004,
          0.340736661,
          0.34947300800000003,
          0.34388356600000003,
          0.34354955600000003,
          0.342198532,
          0.30870316800000003,
          0.32929330700000004,
          0.30866935900000003,
          0.310044934,
          0.327120401,
          0.325595063,
          0.318164857,
          0.320311499,
          0.31708172300000004,
          0.31712259200000004,
          0.284299354,
          0.309089053,
          0.284274168,
          0.275440571,
          0.278493058,
          0.28027144400000004,
          0.30230928300000004,
          0.28593648800000004,
          0.28593570700000004,
          0.287834986,
          0.8994026220000001,
          0.910529531,
          0.8986453980000001,
          0.8828881270000001,
          0.875781392,
          0.9091029700000001,
          0.8770661930000001,
          0.88689352,
          0.87807879,
          0.8827927480000001,
          0.527823544,
          0.5717007780000001,
          0.540869111,
          0.532881676,
          0.526184161,
          0.5494407290000001,
          0.548037165,
          0.570734611,
          0.5497473420000001,
          0.524087209,
          0.523326996,
          0.34771836300000003,
          0.315980998,
          0.344455308,
          0.35278539400000003,
          0.5349046350000001,
          0.697091731,
          0.348696324,
          0.313698507,
          0.31383571400000004,
          0.11527150400000001,
          0.141838884,
          0.12016710200000001,
          0.11868851100000001,
          0.11912513,
          0.117110691,
          0.11892630200000001,
          0.11607412,
          0.11663060200000001,
          0.11559393700000001
         ],
         "x0": " ",
         "xaxis": "x",
         "y": [
          "netcdf4-[512, 512, 512]-[512, 512, 1]",
          "netcdf4-[512, 512, 512]-[512, 512, 1]",
          "netcdf4-[512, 512, 512]-[512, 512, 1]",
          "netcdf4-[512, 512, 512]-[512, 512, 1]",
          "netcdf4-[512, 512, 512]-[512, 512, 1]",
          "netcdf4-[512, 512, 512]-[512, 512, 1]",
          "netcdf4-[512, 512, 512]-[512, 512, 1]",
          "netcdf4-[512, 512, 512]-[512, 512, 1]",
          "netcdf4-[512, 512, 512]-[512, 512, 1]",
          "netcdf4-[512, 512, 512]-[512, 512, 1]",
          "netcdf4-[512, 512, 512]-[512, 512, 8]",
          "netcdf4-[512, 512, 512]-[512, 512, 8]",
          "netcdf4-[512, 512, 512]-[512, 512, 8]",
          "netcdf4-[512, 512, 512]-[512, 512, 8]",
          "netcdf4-[512, 512, 512]-[512, 512, 8]",
          "netcdf4-[512, 512, 512]-[512, 512, 8]",
          "netcdf4-[512, 512, 512]-[512, 512, 8]",
          "netcdf4-[512, 512, 512]-[512, 512, 8]",
          "netcdf4-[512, 512, 512]-[512, 512, 8]",
          "netcdf4-[512, 512, 512]-[512, 512, 8]",
          "netcdf4-[512, 512, 512]-[512, 512, 16]",
          "netcdf4-[512, 512, 512]-[512, 512, 16]",
          "netcdf4-[512, 512, 512]-[512, 512, 16]",
          "netcdf4-[512, 512, 512]-[512, 512, 16]",
          "netcdf4-[512, 512, 512]-[512, 512, 16]",
          "netcdf4-[512, 512, 512]-[512, 512, 16]",
          "netcdf4-[512, 512, 512]-[512, 512, 16]",
          "netcdf4-[512, 512, 512]-[512, 512, 16]",
          "netcdf4-[512, 512, 512]-[512, 512, 16]",
          "netcdf4-[512, 512, 512]-[512, 512, 16]",
          "netcdf4-[512, 512, 512]-[512, 512, 32]",
          "netcdf4-[512, 512, 512]-[512, 512, 32]",
          "netcdf4-[512, 512, 512]-[512, 512, 32]",
          "netcdf4-[512, 512, 512]-[512, 512, 32]",
          "netcdf4-[512, 512, 512]-[512, 512, 32]",
          "netcdf4-[512, 512, 512]-[512, 512, 32]",
          "netcdf4-[512, 512, 512]-[512, 512, 32]",
          "netcdf4-[512, 512, 512]-[512, 512, 32]",
          "netcdf4-[512, 512, 512]-[512, 512, 32]",
          "netcdf4-[512, 512, 512]-[512, 512, 32]",
          "netcdf4-[512, 512, 512]-[512, 512, 64]",
          "netcdf4-[512, 512, 512]-[512, 512, 64]",
          "netcdf4-[512, 512, 512]-[512, 512, 64]",
          "netcdf4-[512, 512, 512]-[512, 512, 64]",
          "netcdf4-[512, 512, 512]-[512, 512, 64]",
          "netcdf4-[512, 512, 512]-[512, 512, 64]",
          "netcdf4-[512, 512, 512]-[512, 512, 64]",
          "netcdf4-[512, 512, 512]-[512, 512, 64]",
          "netcdf4-[512, 512, 512]-[512, 512, 64]",
          "netcdf4-[512, 512, 512]-[512, 512, 64]",
          "netcdf4-[512, 512, 512]-[512, 512, 128]",
          "netcdf4-[512, 512, 512]-[512, 512, 128]",
          "netcdf4-[512, 512, 512]-[512, 512, 128]",
          "netcdf4-[512, 512, 512]-[512, 512, 128]",
          "netcdf4-[512, 512, 512]-[512, 512, 128]",
          "netcdf4-[512, 512, 512]-[512, 512, 128]",
          "netcdf4-[512, 512, 512]-[512, 512, 128]",
          "netcdf4-[512, 512, 512]-[512, 512, 128]",
          "netcdf4-[512, 512, 512]-[512, 512, 128]",
          "netcdf4-[512, 512, 512]-[512, 512, 128]",
          "netcdf4-[512, 512, 512]-[512, 512, 256]",
          "netcdf4-[512, 512, 512]-[512, 512, 256]",
          "netcdf4-[512, 512, 512]-[512, 512, 256]",
          "netcdf4-[512, 512, 512]-[512, 512, 256]",
          "netcdf4-[512, 512, 512]-[512, 512, 256]",
          "netcdf4-[512, 512, 512]-[512, 512, 256]",
          "netcdf4-[512, 512, 512]-[512, 512, 256]",
          "netcdf4-[512, 512, 512]-[512, 512, 256]",
          "netcdf4-[512, 512, 512]-[512, 512, 256]",
          "netcdf4-[512, 512, 512]-[512, 512, 256]",
          "netcdf4-[512, 512, 512]-[512, 512, 512]",
          "netcdf4-[512, 512, 512]-[512, 512, 512]",
          "netcdf4-[512, 512, 512]-[512, 512, 512]",
          "netcdf4-[512, 512, 512]-[512, 512, 512]",
          "netcdf4-[512, 512, 512]-[512, 512, 512]",
          "netcdf4-[512, 512, 512]-[512, 512, 512]",
          "netcdf4-[512, 512, 512]-[512, 512, 512]",
          "netcdf4-[512, 512, 512]-[512, 512, 512]",
          "netcdf4-[512, 512, 512]-[512, 512, 512]",
          "netcdf4-[512, 512, 512]-[512, 512, 512]"
         ],
         "y0": " ",
         "yaxis": "y"
        },
        {
         "alignmentgroup": "True",
         "box": {
          "visible": false
         },
         "hovertemplate": "engine=hdf5<br>time taken=%{x}<br>format=%{y}<extra></extra>",
         "legendgroup": "hdf5",
         "marker": {
          "color": "#00cc96"
         },
         "name": "hdf5",
         "offsetgroup": "hdf5",
         "orientation": "h",
         "scalegroup": "True",
         "showlegend": true,
         "type": "violin",
         "x": [
          46.14103127,
          45.923445485,
          46.01607336,
          46.124263398,
          45.799555882,
          45.748027634,
          45.644547842,
          45.573779377,
          46.374598791,
          45.432376268,
          5.981869041,
          6.38684548,
          6.240656416,
          6.24766756,
          6.025542604,
          6.253911342,
          6.376845099,
          5.976641,
          6.032766631,
          6.027398905,
          3.189988007,
          3.1049804930000002,
          3.1164612,
          3.267687763,
          3.174135172,
          3.071354912,
          3.069019151,
          3.082908319,
          3.0678748750000002,
          3.0879366089999998,
          1.693819472,
          1.7279579260000002,
          1.693208435,
          1.688626962,
          1.6460844680000002,
          1.7795740150000001,
          1.612152327,
          1.602602136,
          1.6046489620000002,
          1.602822231,
          0.853270268,
          0.9284074010000001,
          0.87903606,
          0.846973504,
          0.8496726480000001,
          0.881298659,
          0.848622796,
          0.8538614250000001,
          0.844450825,
          0.844812871,
          0.5759470990000001,
          0.573102656,
          0.534317182,
          0.5741216100000001,
          0.5407160670000001,
          0.540359447,
          0.536311689,
          0.527317577,
          0.5020722910000001,
          0.47177409600000003,
          0.42915156800000004,
          0.36907727700000004,
          0.28373204,
          0.292041284,
          0.282439316,
          0.312224021,
          0.34645431200000004,
          0.291772024,
          0.28979580800000004,
          0.290126997,
          0.183353216,
          0.10336550600000001,
          0.09283052700000001,
          0.09067678300000001,
          0.110553382,
          0.097830052,
          0.100210216,
          0.096511632,
          0.095306263,
          0.09832729
         ],
         "x0": " ",
         "xaxis": "x",
         "y": [
          "hdf5-[512, 512, 512]-[512, 512, 1]",
          "hdf5-[512, 512, 512]-[512, 512, 1]",
          "hdf5-[512, 512, 512]-[512, 512, 1]",
          "hdf5-[512, 512, 512]-[512, 512, 1]",
          "hdf5-[512, 512, 512]-[512, 512, 1]",
          "hdf5-[512, 512, 512]-[512, 512, 1]",
          "hdf5-[512, 512, 512]-[512, 512, 1]",
          "hdf5-[512, 512, 512]-[512, 512, 1]",
          "hdf5-[512, 512, 512]-[512, 512, 1]",
          "hdf5-[512, 512, 512]-[512, 512, 1]",
          "hdf5-[512, 512, 512]-[512, 512, 8]",
          "hdf5-[512, 512, 512]-[512, 512, 8]",
          "hdf5-[512, 512, 512]-[512, 512, 8]",
          "hdf5-[512, 512, 512]-[512, 512, 8]",
          "hdf5-[512, 512, 512]-[512, 512, 8]",
          "hdf5-[512, 512, 512]-[512, 512, 8]",
          "hdf5-[512, 512, 512]-[512, 512, 8]",
          "hdf5-[512, 512, 512]-[512, 512, 8]",
          "hdf5-[512, 512, 512]-[512, 512, 8]",
          "hdf5-[512, 512, 512]-[512, 512, 8]",
          "hdf5-[512, 512, 512]-[512, 512, 16]",
          "hdf5-[512, 512, 512]-[512, 512, 16]",
          "hdf5-[512, 512, 512]-[512, 512, 16]",
          "hdf5-[512, 512, 512]-[512, 512, 16]",
          "hdf5-[512, 512, 512]-[512, 512, 16]",
          "hdf5-[512, 512, 512]-[512, 512, 16]",
          "hdf5-[512, 512, 512]-[512, 512, 16]",
          "hdf5-[512, 512, 512]-[512, 512, 16]",
          "hdf5-[512, 512, 512]-[512, 512, 16]",
          "hdf5-[512, 512, 512]-[512, 512, 16]",
          "hdf5-[512, 512, 512]-[512, 512, 32]",
          "hdf5-[512, 512, 512]-[512, 512, 32]",
          "hdf5-[512, 512, 512]-[512, 512, 32]",
          "hdf5-[512, 512, 512]-[512, 512, 32]",
          "hdf5-[512, 512, 512]-[512, 512, 32]",
          "hdf5-[512, 512, 512]-[512, 512, 32]",
          "hdf5-[512, 512, 512]-[512, 512, 32]",
          "hdf5-[512, 512, 512]-[512, 512, 32]",
          "hdf5-[512, 512, 512]-[512, 512, 32]",
          "hdf5-[512, 512, 512]-[512, 512, 32]",
          "hdf5-[512, 512, 512]-[512, 512, 64]",
          "hdf5-[512, 512, 512]-[512, 512, 64]",
          "hdf5-[512, 512, 512]-[512, 512, 64]",
          "hdf5-[512, 512, 512]-[512, 512, 64]",
          "hdf5-[512, 512, 512]-[512, 512, 64]",
          "hdf5-[512, 512, 512]-[512, 512, 64]",
          "hdf5-[512, 512, 512]-[512, 512, 64]",
          "hdf5-[512, 512, 512]-[512, 512, 64]",
          "hdf5-[512, 512, 512]-[512, 512, 64]",
          "hdf5-[512, 512, 512]-[512, 512, 64]",
          "hdf5-[512, 512, 512]-[512, 512, 128]",
          "hdf5-[512, 512, 512]-[512, 512, 128]",
          "hdf5-[512, 512, 512]-[512, 512, 128]",
          "hdf5-[512, 512, 512]-[512, 512, 128]",
          "hdf5-[512, 512, 512]-[512, 512, 128]",
          "hdf5-[512, 512, 512]-[512, 512, 128]",
          "hdf5-[512, 512, 512]-[512, 512, 128]",
          "hdf5-[512, 512, 512]-[512, 512, 128]",
          "hdf5-[512, 512, 512]-[512, 512, 128]",
          "hdf5-[512, 512, 512]-[512, 512, 128]",
          "hdf5-[512, 512, 512]-[512, 512, 256]",
          "hdf5-[512, 512, 512]-[512, 512, 256]",
          "hdf5-[512, 512, 512]-[512, 512, 256]",
          "hdf5-[512, 512, 512]-[512, 512, 256]",
          "hdf5-[512, 512, 512]-[512, 512, 256]",
          "hdf5-[512, 512, 512]-[512, 512, 256]",
          "hdf5-[512, 512, 512]-[512, 512, 256]",
          "hdf5-[512, 512, 512]-[512, 512, 256]",
          "hdf5-[512, 512, 512]-[512, 512, 256]",
          "hdf5-[512, 512, 512]-[512, 512, 256]",
          "hdf5-[512, 512, 512]-[512, 512, 512]",
          "hdf5-[512, 512, 512]-[512, 512, 512]",
          "hdf5-[512, 512, 512]-[512, 512, 512]",
          "hdf5-[512, 512, 512]-[512, 512, 512]",
          "hdf5-[512, 512, 512]-[512, 512, 512]",
          "hdf5-[512, 512, 512]-[512, 512, 512]",
          "hdf5-[512, 512, 512]-[512, 512, 512]",
          "hdf5-[512, 512, 512]-[512, 512, 512]",
          "hdf5-[512, 512, 512]-[512, 512, 512]",
          "hdf5-[512, 512, 512]-[512, 512, 512]"
         ],
         "y0": " ",
         "yaxis": "y"
        }
       ],
       "layout": {
        "legend": {
         "title": {
          "text": "engine"
         },
         "tracegroupgap": 0
        },
        "margin": {
         "t": 60
        },
        "template": {
         "data": {
          "bar": [
           {
            "error_x": {
             "color": "#2a3f5f"
            },
            "error_y": {
             "color": "#2a3f5f"
            },
            "marker": {
             "line": {
              "color": "#E5ECF6",
              "width": 0.5
             },
             "pattern": {
              "fillmode": "overlay",
              "size": 10,
              "solidity": 0.2
             }
            },
            "type": "bar"
           }
          ],
          "barpolar": [
           {
            "marker": {
             "line": {
              "color": "#E5ECF6",
              "width": 0.5
             },
             "pattern": {
              "fillmode": "overlay",
              "size": 10,
              "solidity": 0.2
             }
            },
            "type": "barpolar"
           }
          ],
          "carpet": [
           {
            "aaxis": {
             "endlinecolor": "#2a3f5f",
             "gridcolor": "white",
             "linecolor": "white",
             "minorgridcolor": "white",
             "startlinecolor": "#2a3f5f"
            },
            "baxis": {
             "endlinecolor": "#2a3f5f",
             "gridcolor": "white",
             "linecolor": "white",
             "minorgridcolor": "white",
             "startlinecolor": "#2a3f5f"
            },
            "type": "carpet"
           }
          ],
          "choropleth": [
           {
            "colorbar": {
             "outlinewidth": 0,
             "ticks": ""
            },
            "type": "choropleth"
           }
          ],
          "contour": [
           {
            "colorbar": {
             "outlinewidth": 0,
             "ticks": ""
            },
            "colorscale": [
             [
              0,
              "#0d0887"
             ],
             [
              0.1111111111111111,
              "#46039f"
             ],
             [
              0.2222222222222222,
              "#7201a8"
             ],
             [
              0.3333333333333333,
              "#9c179e"
             ],
             [
              0.4444444444444444,
              "#bd3786"
             ],
             [
              0.5555555555555556,
              "#d8576b"
             ],
             [
              0.6666666666666666,
              "#ed7953"
             ],
             [
              0.7777777777777778,
              "#fb9f3a"
             ],
             [
              0.8888888888888888,
              "#fdca26"
             ],
             [
              1,
              "#f0f921"
             ]
            ],
            "type": "contour"
           }
          ],
          "contourcarpet": [
           {
            "colorbar": {
             "outlinewidth": 0,
             "ticks": ""
            },
            "type": "contourcarpet"
           }
          ],
          "heatmap": [
           {
            "colorbar": {
             "outlinewidth": 0,
             "ticks": ""
            },
            "colorscale": [
             [
              0,
              "#0d0887"
             ],
             [
              0.1111111111111111,
              "#46039f"
             ],
             [
              0.2222222222222222,
              "#7201a8"
             ],
             [
              0.3333333333333333,
              "#9c179e"
             ],
             [
              0.4444444444444444,
              "#bd3786"
             ],
             [
              0.5555555555555556,
              "#d8576b"
             ],
             [
              0.6666666666666666,
              "#ed7953"
             ],
             [
              0.7777777777777778,
              "#fb9f3a"
             ],
             [
              0.8888888888888888,
              "#fdca26"
             ],
             [
              1,
              "#f0f921"
             ]
            ],
            "type": "heatmap"
           }
          ],
          "heatmapgl": [
           {
            "colorbar": {
             "outlinewidth": 0,
             "ticks": ""
            },
            "colorscale": [
             [
              0,
              "#0d0887"
             ],
             [
              0.1111111111111111,
              "#46039f"
             ],
             [
              0.2222222222222222,
              "#7201a8"
             ],
             [
              0.3333333333333333,
              "#9c179e"
             ],
             [
              0.4444444444444444,
              "#bd3786"
             ],
             [
              0.5555555555555556,
              "#d8576b"
             ],
             [
              0.6666666666666666,
              "#ed7953"
             ],
             [
              0.7777777777777778,
              "#fb9f3a"
             ],
             [
              0.8888888888888888,
              "#fdca26"
             ],
             [
              1,
              "#f0f921"
             ]
            ],
            "type": "heatmapgl"
           }
          ],
          "histogram": [
           {
            "marker": {
             "pattern": {
              "fillmode": "overlay",
              "size": 10,
              "solidity": 0.2
             }
            },
            "type": "histogram"
           }
          ],
          "histogram2d": [
           {
            "colorbar": {
             "outlinewidth": 0,
             "ticks": ""
            },
            "colorscale": [
             [
              0,
              "#0d0887"
             ],
             [
              0.1111111111111111,
              "#46039f"
             ],
             [
              0.2222222222222222,
              "#7201a8"
             ],
             [
              0.3333333333333333,
              "#9c179e"
             ],
             [
              0.4444444444444444,
              "#bd3786"
             ],
             [
              0.5555555555555556,
              "#d8576b"
             ],
             [
              0.6666666666666666,
              "#ed7953"
             ],
             [
              0.7777777777777778,
              "#fb9f3a"
             ],
             [
              0.8888888888888888,
              "#fdca26"
             ],
             [
              1,
              "#f0f921"
             ]
            ],
            "type": "histogram2d"
           }
          ],
          "histogram2dcontour": [
           {
            "colorbar": {
             "outlinewidth": 0,
             "ticks": ""
            },
            "colorscale": [
             [
              0,
              "#0d0887"
             ],
             [
              0.1111111111111111,
              "#46039f"
             ],
             [
              0.2222222222222222,
              "#7201a8"
             ],
             [
              0.3333333333333333,
              "#9c179e"
             ],
             [
              0.4444444444444444,
              "#bd3786"
             ],
             [
              0.5555555555555556,
              "#d8576b"
             ],
             [
              0.6666666666666666,
              "#ed7953"
             ],
             [
              0.7777777777777778,
              "#fb9f3a"
             ],
             [
              0.8888888888888888,
              "#fdca26"
             ],
             [
              1,
              "#f0f921"
             ]
            ],
            "type": "histogram2dcontour"
           }
          ],
          "mesh3d": [
           {
            "colorbar": {
             "outlinewidth": 0,
             "ticks": ""
            },
            "type": "mesh3d"
           }
          ],
          "parcoords": [
           {
            "line": {
             "colorbar": {
              "outlinewidth": 0,
              "ticks": ""
             }
            },
            "type": "parcoords"
           }
          ],
          "pie": [
           {
            "automargin": true,
            "type": "pie"
           }
          ],
          "scatter": [
           {
            "fillpattern": {
             "fillmode": "overlay",
             "size": 10,
             "solidity": 0.2
            },
            "type": "scatter"
           }
          ],
          "scatter3d": [
           {
            "line": {
             "colorbar": {
              "outlinewidth": 0,
              "ticks": ""
             }
            },
            "marker": {
             "colorbar": {
              "outlinewidth": 0,
              "ticks": ""
             }
            },
            "type": "scatter3d"
           }
          ],
          "scattercarpet": [
           {
            "marker": {
             "colorbar": {
              "outlinewidth": 0,
              "ticks": ""
             }
            },
            "type": "scattercarpet"
           }
          ],
          "scattergeo": [
           {
            "marker": {
             "colorbar": {
              "outlinewidth": 0,
              "ticks": ""
             }
            },
            "type": "scattergeo"
           }
          ],
          "scattergl": [
           {
            "marker": {
             "colorbar": {
              "outlinewidth": 0,
              "ticks": ""
             }
            },
            "type": "scattergl"
           }
          ],
          "scattermapbox": [
           {
            "marker": {
             "colorbar": {
              "outlinewidth": 0,
              "ticks": ""
             }
            },
            "type": "scattermapbox"
           }
          ],
          "scatterpolar": [
           {
            "marker": {
             "colorbar": {
              "outlinewidth": 0,
              "ticks": ""
             }
            },
            "type": "scatterpolar"
           }
          ],
          "scatterpolargl": [
           {
            "marker": {
             "colorbar": {
              "outlinewidth": 0,
              "ticks": ""
             }
            },
            "type": "scatterpolargl"
           }
          ],
          "scatterternary": [
           {
            "marker": {
             "colorbar": {
              "outlinewidth": 0,
              "ticks": ""
             }
            },
            "type": "scatterternary"
           }
          ],
          "surface": [
           {
            "colorbar": {
             "outlinewidth": 0,
             "ticks": ""
            },
            "colorscale": [
             [
              0,
              "#0d0887"
             ],
             [
              0.1111111111111111,
              "#46039f"
             ],
             [
              0.2222222222222222,
              "#7201a8"
             ],
             [
              0.3333333333333333,
              "#9c179e"
             ],
             [
              0.4444444444444444,
              "#bd3786"
             ],
             [
              0.5555555555555556,
              "#d8576b"
             ],
             [
              0.6666666666666666,
              "#ed7953"
             ],
             [
              0.7777777777777778,
              "#fb9f3a"
             ],
             [
              0.8888888888888888,
              "#fdca26"
             ],
             [
              1,
              "#f0f921"
             ]
            ],
            "type": "surface"
           }
          ],
          "table": [
           {
            "cells": {
             "fill": {
              "color": "#EBF0F8"
             },
             "line": {
              "color": "white"
             }
            },
            "header": {
             "fill": {
              "color": "#C8D4E3"
             },
             "line": {
              "color": "white"
             }
            },
            "type": "table"
           }
          ]
         },
         "layout": {
          "annotationdefaults": {
           "arrowcolor": "#2a3f5f",
           "arrowhead": 0,
           "arrowwidth": 1
          },
          "autotypenumbers": "strict",
          "coloraxis": {
           "colorbar": {
            "outlinewidth": 0,
            "ticks": ""
           }
          },
          "colorscale": {
           "diverging": [
            [
             0,
             "#8e0152"
            ],
            [
             0.1,
             "#c51b7d"
            ],
            [
             0.2,
             "#de77ae"
            ],
            [
             0.3,
             "#f1b6da"
            ],
            [
             0.4,
             "#fde0ef"
            ],
            [
             0.5,
             "#f7f7f7"
            ],
            [
             0.6,
             "#e6f5d0"
            ],
            [
             0.7,
             "#b8e186"
            ],
            [
             0.8,
             "#7fbc41"
            ],
            [
             0.9,
             "#4d9221"
            ],
            [
             1,
             "#276419"
            ]
           ],
           "sequential": [
            [
             0,
             "#0d0887"
            ],
            [
             0.1111111111111111,
             "#46039f"
            ],
            [
             0.2222222222222222,
             "#7201a8"
            ],
            [
             0.3333333333333333,
             "#9c179e"
            ],
            [
             0.4444444444444444,
             "#bd3786"
            ],
            [
             0.5555555555555556,
             "#d8576b"
            ],
            [
             0.6666666666666666,
             "#ed7953"
            ],
            [
             0.7777777777777778,
             "#fb9f3a"
            ],
            [
             0.8888888888888888,
             "#fdca26"
            ],
            [
             1,
             "#f0f921"
            ]
           ],
           "sequentialminus": [
            [
             0,
             "#0d0887"
            ],
            [
             0.1111111111111111,
             "#46039f"
            ],
            [
             0.2222222222222222,
             "#7201a8"
            ],
            [
             0.3333333333333333,
             "#9c179e"
            ],
            [
             0.4444444444444444,
             "#bd3786"
            ],
            [
             0.5555555555555556,
             "#d8576b"
            ],
            [
             0.6666666666666666,
             "#ed7953"
            ],
            [
             0.7777777777777778,
             "#fb9f3a"
            ],
            [
             0.8888888888888888,
             "#fdca26"
            ],
            [
             1,
             "#f0f921"
            ]
           ]
          },
          "colorway": [
           "#636efa",
           "#EF553B",
           "#00cc96",
           "#ab63fa",
           "#FFA15A",
           "#19d3f3",
           "#FF6692",
           "#B6E880",
           "#FF97FF",
           "#FECB52"
          ],
          "font": {
           "color": "#2a3f5f"
          },
          "geo": {
           "bgcolor": "white",
           "lakecolor": "white",
           "landcolor": "#E5ECF6",
           "showlakes": true,
           "showland": true,
           "subunitcolor": "white"
          },
          "hoverlabel": {
           "align": "left"
          },
          "hovermode": "closest",
          "mapbox": {
           "style": "light"
          },
          "paper_bgcolor": "white",
          "plot_bgcolor": "#E5ECF6",
          "polar": {
           "angularaxis": {
            "gridcolor": "white",
            "linecolor": "white",
            "ticks": ""
           },
           "bgcolor": "#E5ECF6",
           "radialaxis": {
            "gridcolor": "white",
            "linecolor": "white",
            "ticks": ""
           }
          },
          "scene": {
           "xaxis": {
            "backgroundcolor": "#E5ECF6",
            "gridcolor": "white",
            "gridwidth": 2,
            "linecolor": "white",
            "showbackground": true,
            "ticks": "",
            "zerolinecolor": "white"
           },
           "yaxis": {
            "backgroundcolor": "#E5ECF6",
            "gridcolor": "white",
            "gridwidth": 2,
            "linecolor": "white",
            "showbackground": true,
            "ticks": "",
            "zerolinecolor": "white"
           },
           "zaxis": {
            "backgroundcolor": "#E5ECF6",
            "gridcolor": "white",
            "gridwidth": 2,
            "linecolor": "white",
            "showbackground": true,
            "ticks": "",
            "zerolinecolor": "white"
           }
          },
          "shapedefaults": {
           "line": {
            "color": "#2a3f5f"
           }
          },
          "ternary": {
           "aaxis": {
            "gridcolor": "white",
            "linecolor": "white",
            "ticks": ""
           },
           "baxis": {
            "gridcolor": "white",
            "linecolor": "white",
            "ticks": ""
           },
           "bgcolor": "#E5ECF6",
           "caxis": {
            "gridcolor": "white",
            "linecolor": "white",
            "ticks": ""
           }
          },
          "title": {
           "x": 0.05
          },
          "xaxis": {
           "automargin": true,
           "gridcolor": "white",
           "linecolor": "white",
           "ticks": "",
           "title": {
            "standoff": 15
           },
           "zerolinecolor": "white",
           "zerolinewidth": 2
          },
          "yaxis": {
           "automargin": true,
           "gridcolor": "white",
           "linecolor": "white",
           "ticks": "",
           "title": {
            "standoff": 15
           },
           "zerolinecolor": "white",
           "zerolinewidth": 2
          }
         }
        },
        "violinmode": "group",
        "xaxis": {
         "anchor": "y",
         "domain": [
          0,
          1
         ],
         "title": {
          "text": "time taken"
         },
         "type": "log"
        },
        "yaxis": {
         "anchor": "x",
         "domain": [
          0,
          1
         ],
         "title": {
          "text": "format"
         }
        }
       }
      },
      "text/html": [
       "<div>                            <div id=\"51e5935d-c118-4c32-a5b6-8b06bc5f5b80\" class=\"plotly-graph-div\" style=\"height:525px; width:100%;\"></div>            <script type=\"text/javascript\">                require([\"plotly\"], function(Plotly) {                    window.PLOTLYENV=window.PLOTLYENV || {};                                    if (document.getElementById(\"51e5935d-c118-4c32-a5b6-8b06bc5f5b80\")) {                    Plotly.newPlot(                        \"51e5935d-c118-4c32-a5b6-8b06bc5f5b80\",                        [{\"alignmentgroup\":\"True\",\"box\":{\"visible\":false},\"hovertemplate\":\"engine=zarr\\u003cbr\\u003etime taken=%{x}\\u003cbr\\u003eformat=%{y}\\u003cextra\\u003e\\u003c\\u002fextra\\u003e\",\"legendgroup\":\"zarr\",\"marker\":{\"color\":\"#636efa\"},\"name\":\"zarr\",\"offsetgroup\":\"zarr\",\"orientation\":\"h\",\"scalegroup\":\"True\",\"showlegend\":true,\"x\":[1.254719685,1.248066141,1.292569566,1.314146394,1.313602982,1.289282074,1.254550035,1.266733049,1.267689895,1.260372463,0.47734869999999996,0.47810641600000003,0.475131742,0.49847422,0.471999887,0.49030078200000005,0.47879551000000004,0.479558588,0.47660526900000005,0.46878278,0.341167112,0.346485843,0.337719557,0.326252441,0.317186783,0.32556866900000003,0.322510964,0.325034704,0.352799583,0.32193485600000005,0.300894643,0.462857507,0.30194046700000005,0.299499148,0.30833920800000003,0.31830092,0.30179614600000004,0.309152392,0.31024292600000003,0.312736871,0.302416801,0.269407463,0.268864951,0.27021970500000003,0.26755000300000004,0.27700697700000004,0.270246684,0.278290395,0.27775366700000004,0.289305542,0.35860182500000004,0.404696704,0.6036628110000001,0.349247028,0.32979555400000005,0.327063043,0.341437916,0.329447303,0.359248818,0.332353106,0.726337961,0.523674849,0.480964775,0.46715677400000005,0.48670843700000005,0.47968150200000004,0.46848868800000004,0.468050658,0.481170835,0.485542856,0.8950659540000001,0.9446840860000001,0.94388729,0.8315148790000001,0.819262417,0.8176201470000001,0.817028666,0.819191114,0.811937299,0.8105739710000001],\"x0\":\" \",\"xaxis\":\"x\",\"y\":[\"zarr-[512, 512, 512]-[512, 512, 1]\",\"zarr-[512, 512, 512]-[512, 512, 1]\",\"zarr-[512, 512, 512]-[512, 512, 1]\",\"zarr-[512, 512, 512]-[512, 512, 1]\",\"zarr-[512, 512, 512]-[512, 512, 1]\",\"zarr-[512, 512, 512]-[512, 512, 1]\",\"zarr-[512, 512, 512]-[512, 512, 1]\",\"zarr-[512, 512, 512]-[512, 512, 1]\",\"zarr-[512, 512, 512]-[512, 512, 1]\",\"zarr-[512, 512, 512]-[512, 512, 1]\",\"zarr-[512, 512, 512]-[512, 512, 8]\",\"zarr-[512, 512, 512]-[512, 512, 8]\",\"zarr-[512, 512, 512]-[512, 512, 8]\",\"zarr-[512, 512, 512]-[512, 512, 8]\",\"zarr-[512, 512, 512]-[512, 512, 8]\",\"zarr-[512, 512, 512]-[512, 512, 8]\",\"zarr-[512, 512, 512]-[512, 512, 8]\",\"zarr-[512, 512, 512]-[512, 512, 8]\",\"zarr-[512, 512, 512]-[512, 512, 8]\",\"zarr-[512, 512, 512]-[512, 512, 8]\",\"zarr-[512, 512, 512]-[512, 512, 16]\",\"zarr-[512, 512, 512]-[512, 512, 16]\",\"zarr-[512, 512, 512]-[512, 512, 16]\",\"zarr-[512, 512, 512]-[512, 512, 16]\",\"zarr-[512, 512, 512]-[512, 512, 16]\",\"zarr-[512, 512, 512]-[512, 512, 16]\",\"zarr-[512, 512, 512]-[512, 512, 16]\",\"zarr-[512, 512, 512]-[512, 512, 16]\",\"zarr-[512, 512, 512]-[512, 512, 16]\",\"zarr-[512, 512, 512]-[512, 512, 16]\",\"zarr-[512, 512, 512]-[512, 512, 32]\",\"zarr-[512, 512, 512]-[512, 512, 32]\",\"zarr-[512, 512, 512]-[512, 512, 32]\",\"zarr-[512, 512, 512]-[512, 512, 32]\",\"zarr-[512, 512, 512]-[512, 512, 32]\",\"zarr-[512, 512, 512]-[512, 512, 32]\",\"zarr-[512, 512, 512]-[512, 512, 32]\",\"zarr-[512, 512, 512]-[512, 512, 32]\",\"zarr-[512, 512, 512]-[512, 512, 32]\",\"zarr-[512, 512, 512]-[512, 512, 32]\",\"zarr-[512, 512, 512]-[512, 512, 64]\",\"zarr-[512, 512, 512]-[512, 512, 64]\",\"zarr-[512, 512, 512]-[512, 512, 64]\",\"zarr-[512, 512, 512]-[512, 512, 64]\",\"zarr-[512, 512, 512]-[512, 512, 64]\",\"zarr-[512, 512, 512]-[512, 512, 64]\",\"zarr-[512, 512, 512]-[512, 512, 64]\",\"zarr-[512, 512, 512]-[512, 512, 64]\",\"zarr-[512, 512, 512]-[512, 512, 64]\",\"zarr-[512, 512, 512]-[512, 512, 64]\",\"zarr-[512, 512, 512]-[512, 512, 128]\",\"zarr-[512, 512, 512]-[512, 512, 128]\",\"zarr-[512, 512, 512]-[512, 512, 128]\",\"zarr-[512, 512, 512]-[512, 512, 128]\",\"zarr-[512, 512, 512]-[512, 512, 128]\",\"zarr-[512, 512, 512]-[512, 512, 128]\",\"zarr-[512, 512, 512]-[512, 512, 128]\",\"zarr-[512, 512, 512]-[512, 512, 128]\",\"zarr-[512, 512, 512]-[512, 512, 128]\",\"zarr-[512, 512, 512]-[512, 512, 128]\",\"zarr-[512, 512, 512]-[512, 512, 256]\",\"zarr-[512, 512, 512]-[512, 512, 256]\",\"zarr-[512, 512, 512]-[512, 512, 256]\",\"zarr-[512, 512, 512]-[512, 512, 256]\",\"zarr-[512, 512, 512]-[512, 512, 256]\",\"zarr-[512, 512, 512]-[512, 512, 256]\",\"zarr-[512, 512, 512]-[512, 512, 256]\",\"zarr-[512, 512, 512]-[512, 512, 256]\",\"zarr-[512, 512, 512]-[512, 512, 256]\",\"zarr-[512, 512, 512]-[512, 512, 256]\",\"zarr-[512, 512, 512]-[512, 512, 512]\",\"zarr-[512, 512, 512]-[512, 512, 512]\",\"zarr-[512, 512, 512]-[512, 512, 512]\",\"zarr-[512, 512, 512]-[512, 512, 512]\",\"zarr-[512, 512, 512]-[512, 512, 512]\",\"zarr-[512, 512, 512]-[512, 512, 512]\",\"zarr-[512, 512, 512]-[512, 512, 512]\",\"zarr-[512, 512, 512]-[512, 512, 512]\",\"zarr-[512, 512, 512]-[512, 512, 512]\",\"zarr-[512, 512, 512]-[512, 512, 512]\"],\"y0\":\" \",\"yaxis\":\"y\",\"type\":\"violin\"},{\"alignmentgroup\":\"True\",\"box\":{\"visible\":false},\"hovertemplate\":\"engine=netcdf4\\u003cbr\\u003etime taken=%{x}\\u003cbr\\u003eformat=%{y}\\u003cextra\\u003e\\u003c\\u002fextra\\u003e\",\"legendgroup\":\"netcdf4\",\"marker\":{\"color\":\"#EF553B\"},\"name\":\"netcdf4\",\"offsetgroup\":\"netcdf4\",\"orientation\":\"h\",\"scalegroup\":\"True\",\"showlegend\":true,\"x\":[1.066638576,1.101389066,1.097299316,1.046411391,1.165832655,1.076762198,1.208166825,1.104800169,1.121934926,1.051151894,0.35543492200000004,0.36908632900000005,0.343790335,0.347241096,0.34522847100000004,0.340736661,0.34947300800000003,0.34388356600000003,0.34354955600000003,0.342198532,0.30870316800000003,0.32929330700000004,0.30866935900000003,0.310044934,0.327120401,0.325595063,0.318164857,0.320311499,0.31708172300000004,0.31712259200000004,0.284299354,0.309089053,0.284274168,0.275440571,0.278493058,0.28027144400000004,0.30230928300000004,0.28593648800000004,0.28593570700000004,0.287834986,0.8994026220000001,0.910529531,0.8986453980000001,0.8828881270000001,0.875781392,0.9091029700000001,0.8770661930000001,0.88689352,0.87807879,0.8827927480000001,0.527823544,0.5717007780000001,0.540869111,0.532881676,0.526184161,0.5494407290000001,0.548037165,0.570734611,0.5497473420000001,0.524087209,0.523326996,0.34771836300000003,0.315980998,0.344455308,0.35278539400000003,0.5349046350000001,0.697091731,0.348696324,0.313698507,0.31383571400000004,0.11527150400000001,0.141838884,0.12016710200000001,0.11868851100000001,0.11912513,0.117110691,0.11892630200000001,0.11607412,0.11663060200000001,0.11559393700000001],\"x0\":\" \",\"xaxis\":\"x\",\"y\":[\"netcdf4-[512, 512, 512]-[512, 512, 1]\",\"netcdf4-[512, 512, 512]-[512, 512, 1]\",\"netcdf4-[512, 512, 512]-[512, 512, 1]\",\"netcdf4-[512, 512, 512]-[512, 512, 1]\",\"netcdf4-[512, 512, 512]-[512, 512, 1]\",\"netcdf4-[512, 512, 512]-[512, 512, 1]\",\"netcdf4-[512, 512, 512]-[512, 512, 1]\",\"netcdf4-[512, 512, 512]-[512, 512, 1]\",\"netcdf4-[512, 512, 512]-[512, 512, 1]\",\"netcdf4-[512, 512, 512]-[512, 512, 1]\",\"netcdf4-[512, 512, 512]-[512, 512, 8]\",\"netcdf4-[512, 512, 512]-[512, 512, 8]\",\"netcdf4-[512, 512, 512]-[512, 512, 8]\",\"netcdf4-[512, 512, 512]-[512, 512, 8]\",\"netcdf4-[512, 512, 512]-[512, 512, 8]\",\"netcdf4-[512, 512, 512]-[512, 512, 8]\",\"netcdf4-[512, 512, 512]-[512, 512, 8]\",\"netcdf4-[512, 512, 512]-[512, 512, 8]\",\"netcdf4-[512, 512, 512]-[512, 512, 8]\",\"netcdf4-[512, 512, 512]-[512, 512, 8]\",\"netcdf4-[512, 512, 512]-[512, 512, 16]\",\"netcdf4-[512, 512, 512]-[512, 512, 16]\",\"netcdf4-[512, 512, 512]-[512, 512, 16]\",\"netcdf4-[512, 512, 512]-[512, 512, 16]\",\"netcdf4-[512, 512, 512]-[512, 512, 16]\",\"netcdf4-[512, 512, 512]-[512, 512, 16]\",\"netcdf4-[512, 512, 512]-[512, 512, 16]\",\"netcdf4-[512, 512, 512]-[512, 512, 16]\",\"netcdf4-[512, 512, 512]-[512, 512, 16]\",\"netcdf4-[512, 512, 512]-[512, 512, 16]\",\"netcdf4-[512, 512, 512]-[512, 512, 32]\",\"netcdf4-[512, 512, 512]-[512, 512, 32]\",\"netcdf4-[512, 512, 512]-[512, 512, 32]\",\"netcdf4-[512, 512, 512]-[512, 512, 32]\",\"netcdf4-[512, 512, 512]-[512, 512, 32]\",\"netcdf4-[512, 512, 512]-[512, 512, 32]\",\"netcdf4-[512, 512, 512]-[512, 512, 32]\",\"netcdf4-[512, 512, 512]-[512, 512, 32]\",\"netcdf4-[512, 512, 512]-[512, 512, 32]\",\"netcdf4-[512, 512, 512]-[512, 512, 32]\",\"netcdf4-[512, 512, 512]-[512, 512, 64]\",\"netcdf4-[512, 512, 512]-[512, 512, 64]\",\"netcdf4-[512, 512, 512]-[512, 512, 64]\",\"netcdf4-[512, 512, 512]-[512, 512, 64]\",\"netcdf4-[512, 512, 512]-[512, 512, 64]\",\"netcdf4-[512, 512, 512]-[512, 512, 64]\",\"netcdf4-[512, 512, 512]-[512, 512, 64]\",\"netcdf4-[512, 512, 512]-[512, 512, 64]\",\"netcdf4-[512, 512, 512]-[512, 512, 64]\",\"netcdf4-[512, 512, 512]-[512, 512, 64]\",\"netcdf4-[512, 512, 512]-[512, 512, 128]\",\"netcdf4-[512, 512, 512]-[512, 512, 128]\",\"netcdf4-[512, 512, 512]-[512, 512, 128]\",\"netcdf4-[512, 512, 512]-[512, 512, 128]\",\"netcdf4-[512, 512, 512]-[512, 512, 128]\",\"netcdf4-[512, 512, 512]-[512, 512, 128]\",\"netcdf4-[512, 512, 512]-[512, 512, 128]\",\"netcdf4-[512, 512, 512]-[512, 512, 128]\",\"netcdf4-[512, 512, 512]-[512, 512, 128]\",\"netcdf4-[512, 512, 512]-[512, 512, 128]\",\"netcdf4-[512, 512, 512]-[512, 512, 256]\",\"netcdf4-[512, 512, 512]-[512, 512, 256]\",\"netcdf4-[512, 512, 512]-[512, 512, 256]\",\"netcdf4-[512, 512, 512]-[512, 512, 256]\",\"netcdf4-[512, 512, 512]-[512, 512, 256]\",\"netcdf4-[512, 512, 512]-[512, 512, 256]\",\"netcdf4-[512, 512, 512]-[512, 512, 256]\",\"netcdf4-[512, 512, 512]-[512, 512, 256]\",\"netcdf4-[512, 512, 512]-[512, 512, 256]\",\"netcdf4-[512, 512, 512]-[512, 512, 256]\",\"netcdf4-[512, 512, 512]-[512, 512, 512]\",\"netcdf4-[512, 512, 512]-[512, 512, 512]\",\"netcdf4-[512, 512, 512]-[512, 512, 512]\",\"netcdf4-[512, 512, 512]-[512, 512, 512]\",\"netcdf4-[512, 512, 512]-[512, 512, 512]\",\"netcdf4-[512, 512, 512]-[512, 512, 512]\",\"netcdf4-[512, 512, 512]-[512, 512, 512]\",\"netcdf4-[512, 512, 512]-[512, 512, 512]\",\"netcdf4-[512, 512, 512]-[512, 512, 512]\",\"netcdf4-[512, 512, 512]-[512, 512, 512]\"],\"y0\":\" \",\"yaxis\":\"y\",\"type\":\"violin\"},{\"alignmentgroup\":\"True\",\"box\":{\"visible\":false},\"hovertemplate\":\"engine=hdf5\\u003cbr\\u003etime taken=%{x}\\u003cbr\\u003eformat=%{y}\\u003cextra\\u003e\\u003c\\u002fextra\\u003e\",\"legendgroup\":\"hdf5\",\"marker\":{\"color\":\"#00cc96\"},\"name\":\"hdf5\",\"offsetgroup\":\"hdf5\",\"orientation\":\"h\",\"scalegroup\":\"True\",\"showlegend\":true,\"x\":[46.14103127,45.923445485,46.01607336,46.124263398,45.799555882,45.748027634,45.644547842,45.573779377,46.374598791,45.432376268,5.981869041,6.38684548,6.240656416,6.24766756,6.025542604,6.253911342,6.376845099,5.976641,6.032766631,6.027398905,3.189988007,3.1049804930000002,3.1164612,3.267687763,3.174135172,3.071354912,3.069019151,3.082908319,3.0678748750000002,3.0879366089999998,1.693819472,1.7279579260000002,1.693208435,1.688626962,1.6460844680000002,1.7795740150000001,1.612152327,1.602602136,1.6046489620000002,1.602822231,0.853270268,0.9284074010000001,0.87903606,0.846973504,0.8496726480000001,0.881298659,0.848622796,0.8538614250000001,0.844450825,0.844812871,0.5759470990000001,0.573102656,0.534317182,0.5741216100000001,0.5407160670000001,0.540359447,0.536311689,0.527317577,0.5020722910000001,0.47177409600000003,0.42915156800000004,0.36907727700000004,0.28373204,0.292041284,0.282439316,0.312224021,0.34645431200000004,0.291772024,0.28979580800000004,0.290126997,0.183353216,0.10336550600000001,0.09283052700000001,0.09067678300000001,0.110553382,0.097830052,0.100210216,0.096511632,0.095306263,0.09832729],\"x0\":\" \",\"xaxis\":\"x\",\"y\":[\"hdf5-[512, 512, 512]-[512, 512, 1]\",\"hdf5-[512, 512, 512]-[512, 512, 1]\",\"hdf5-[512, 512, 512]-[512, 512, 1]\",\"hdf5-[512, 512, 512]-[512, 512, 1]\",\"hdf5-[512, 512, 512]-[512, 512, 1]\",\"hdf5-[512, 512, 512]-[512, 512, 1]\",\"hdf5-[512, 512, 512]-[512, 512, 1]\",\"hdf5-[512, 512, 512]-[512, 512, 1]\",\"hdf5-[512, 512, 512]-[512, 512, 1]\",\"hdf5-[512, 512, 512]-[512, 512, 1]\",\"hdf5-[512, 512, 512]-[512, 512, 8]\",\"hdf5-[512, 512, 512]-[512, 512, 8]\",\"hdf5-[512, 512, 512]-[512, 512, 8]\",\"hdf5-[512, 512, 512]-[512, 512, 8]\",\"hdf5-[512, 512, 512]-[512, 512, 8]\",\"hdf5-[512, 512, 512]-[512, 512, 8]\",\"hdf5-[512, 512, 512]-[512, 512, 8]\",\"hdf5-[512, 512, 512]-[512, 512, 8]\",\"hdf5-[512, 512, 512]-[512, 512, 8]\",\"hdf5-[512, 512, 512]-[512, 512, 8]\",\"hdf5-[512, 512, 512]-[512, 512, 16]\",\"hdf5-[512, 512, 512]-[512, 512, 16]\",\"hdf5-[512, 512, 512]-[512, 512, 16]\",\"hdf5-[512, 512, 512]-[512, 512, 16]\",\"hdf5-[512, 512, 512]-[512, 512, 16]\",\"hdf5-[512, 512, 512]-[512, 512, 16]\",\"hdf5-[512, 512, 512]-[512, 512, 16]\",\"hdf5-[512, 512, 512]-[512, 512, 16]\",\"hdf5-[512, 512, 512]-[512, 512, 16]\",\"hdf5-[512, 512, 512]-[512, 512, 16]\",\"hdf5-[512, 512, 512]-[512, 512, 32]\",\"hdf5-[512, 512, 512]-[512, 512, 32]\",\"hdf5-[512, 512, 512]-[512, 512, 32]\",\"hdf5-[512, 512, 512]-[512, 512, 32]\",\"hdf5-[512, 512, 512]-[512, 512, 32]\",\"hdf5-[512, 512, 512]-[512, 512, 32]\",\"hdf5-[512, 512, 512]-[512, 512, 32]\",\"hdf5-[512, 512, 512]-[512, 512, 32]\",\"hdf5-[512, 512, 512]-[512, 512, 32]\",\"hdf5-[512, 512, 512]-[512, 512, 32]\",\"hdf5-[512, 512, 512]-[512, 512, 64]\",\"hdf5-[512, 512, 512]-[512, 512, 64]\",\"hdf5-[512, 512, 512]-[512, 512, 64]\",\"hdf5-[512, 512, 512]-[512, 512, 64]\",\"hdf5-[512, 512, 512]-[512, 512, 64]\",\"hdf5-[512, 512, 512]-[512, 512, 64]\",\"hdf5-[512, 512, 512]-[512, 512, 64]\",\"hdf5-[512, 512, 512]-[512, 512, 64]\",\"hdf5-[512, 512, 512]-[512, 512, 64]\",\"hdf5-[512, 512, 512]-[512, 512, 64]\",\"hdf5-[512, 512, 512]-[512, 512, 128]\",\"hdf5-[512, 512, 512]-[512, 512, 128]\",\"hdf5-[512, 512, 512]-[512, 512, 128]\",\"hdf5-[512, 512, 512]-[512, 512, 128]\",\"hdf5-[512, 512, 512]-[512, 512, 128]\",\"hdf5-[512, 512, 512]-[512, 512, 128]\",\"hdf5-[512, 512, 512]-[512, 512, 128]\",\"hdf5-[512, 512, 512]-[512, 512, 128]\",\"hdf5-[512, 512, 512]-[512, 512, 128]\",\"hdf5-[512, 512, 512]-[512, 512, 128]\",\"hdf5-[512, 512, 512]-[512, 512, 256]\",\"hdf5-[512, 512, 512]-[512, 512, 256]\",\"hdf5-[512, 512, 512]-[512, 512, 256]\",\"hdf5-[512, 512, 512]-[512, 512, 256]\",\"hdf5-[512, 512, 512]-[512, 512, 256]\",\"hdf5-[512, 512, 512]-[512, 512, 256]\",\"hdf5-[512, 512, 512]-[512, 512, 256]\",\"hdf5-[512, 512, 512]-[512, 512, 256]\",\"hdf5-[512, 512, 512]-[512, 512, 256]\",\"hdf5-[512, 512, 512]-[512, 512, 256]\",\"hdf5-[512, 512, 512]-[512, 512, 512]\",\"hdf5-[512, 512, 512]-[512, 512, 512]\",\"hdf5-[512, 512, 512]-[512, 512, 512]\",\"hdf5-[512, 512, 512]-[512, 512, 512]\",\"hdf5-[512, 512, 512]-[512, 512, 512]\",\"hdf5-[512, 512, 512]-[512, 512, 512]\",\"hdf5-[512, 512, 512]-[512, 512, 512]\",\"hdf5-[512, 512, 512]-[512, 512, 512]\",\"hdf5-[512, 512, 512]-[512, 512, 512]\",\"hdf5-[512, 512, 512]-[512, 512, 512]\"],\"y0\":\" \",\"yaxis\":\"y\",\"type\":\"violin\"}],                        {\"template\":{\"data\":{\"histogram2dcontour\":[{\"type\":\"histogram2dcontour\",\"colorbar\":{\"outlinewidth\":0,\"ticks\":\"\"},\"colorscale\":[[0.0,\"#0d0887\"],[0.1111111111111111,\"#46039f\"],[0.2222222222222222,\"#7201a8\"],[0.3333333333333333,\"#9c179e\"],[0.4444444444444444,\"#bd3786\"],[0.5555555555555556,\"#d8576b\"],[0.6666666666666666,\"#ed7953\"],[0.7777777777777778,\"#fb9f3a\"],[0.8888888888888888,\"#fdca26\"],[1.0,\"#f0f921\"]]}],\"choropleth\":[{\"type\":\"choropleth\",\"colorbar\":{\"outlinewidth\":0,\"ticks\":\"\"}}],\"histogram2d\":[{\"type\":\"histogram2d\",\"colorbar\":{\"outlinewidth\":0,\"ticks\":\"\"},\"colorscale\":[[0.0,\"#0d0887\"],[0.1111111111111111,\"#46039f\"],[0.2222222222222222,\"#7201a8\"],[0.3333333333333333,\"#9c179e\"],[0.4444444444444444,\"#bd3786\"],[0.5555555555555556,\"#d8576b\"],[0.6666666666666666,\"#ed7953\"],[0.7777777777777778,\"#fb9f3a\"],[0.8888888888888888,\"#fdca26\"],[1.0,\"#f0f921\"]]}],\"heatmap\":[{\"type\":\"heatmap\",\"colorbar\":{\"outlinewidth\":0,\"ticks\":\"\"},\"colorscale\":[[0.0,\"#0d0887\"],[0.1111111111111111,\"#46039f\"],[0.2222222222222222,\"#7201a8\"],[0.3333333333333333,\"#9c179e\"],[0.4444444444444444,\"#bd3786\"],[0.5555555555555556,\"#d8576b\"],[0.6666666666666666,\"#ed7953\"],[0.7777777777777778,\"#fb9f3a\"],[0.8888888888888888,\"#fdca26\"],[1.0,\"#f0f921\"]]}],\"heatmapgl\":[{\"type\":\"heatmapgl\",\"colorbar\":{\"outlinewidth\":0,\"ticks\":\"\"},\"colorscale\":[[0.0,\"#0d0887\"],[0.1111111111111111,\"#46039f\"],[0.2222222222222222,\"#7201a8\"],[0.3333333333333333,\"#9c179e\"],[0.4444444444444444,\"#bd3786\"],[0.5555555555555556,\"#d8576b\"],[0.6666666666666666,\"#ed7953\"],[0.7777777777777778,\"#fb9f3a\"],[0.8888888888888888,\"#fdca26\"],[1.0,\"#f0f921\"]]}],\"contourcarpet\":[{\"type\":\"contourcarpet\",\"colorbar\":{\"outlinewidth\":0,\"ticks\":\"\"}}],\"contour\":[{\"type\":\"contour\",\"colorbar\":{\"outlinewidth\":0,\"ticks\":\"\"},\"colorscale\":[[0.0,\"#0d0887\"],[0.1111111111111111,\"#46039f\"],[0.2222222222222222,\"#7201a8\"],[0.3333333333333333,\"#9c179e\"],[0.4444444444444444,\"#bd3786\"],[0.5555555555555556,\"#d8576b\"],[0.6666666666666666,\"#ed7953\"],[0.7777777777777778,\"#fb9f3a\"],[0.8888888888888888,\"#fdca26\"],[1.0,\"#f0f921\"]]}],\"surface\":[{\"type\":\"surface\",\"colorbar\":{\"outlinewidth\":0,\"ticks\":\"\"},\"colorscale\":[[0.0,\"#0d0887\"],[0.1111111111111111,\"#46039f\"],[0.2222222222222222,\"#7201a8\"],[0.3333333333333333,\"#9c179e\"],[0.4444444444444444,\"#bd3786\"],[0.5555555555555556,\"#d8576b\"],[0.6666666666666666,\"#ed7953\"],[0.7777777777777778,\"#fb9f3a\"],[0.8888888888888888,\"#fdca26\"],[1.0,\"#f0f921\"]]}],\"mesh3d\":[{\"type\":\"mesh3d\",\"colorbar\":{\"outlinewidth\":0,\"ticks\":\"\"}}],\"scatter\":[{\"fillpattern\":{\"fillmode\":\"overlay\",\"size\":10,\"solidity\":0.2},\"type\":\"scatter\"}],\"parcoords\":[{\"type\":\"parcoords\",\"line\":{\"colorbar\":{\"outlinewidth\":0,\"ticks\":\"\"}}}],\"scatterpolargl\":[{\"type\":\"scatterpolargl\",\"marker\":{\"colorbar\":{\"outlinewidth\":0,\"ticks\":\"\"}}}],\"bar\":[{\"error_x\":{\"color\":\"#2a3f5f\"},\"error_y\":{\"color\":\"#2a3f5f\"},\"marker\":{\"line\":{\"color\":\"#E5ECF6\",\"width\":0.5},\"pattern\":{\"fillmode\":\"overlay\",\"size\":10,\"solidity\":0.2}},\"type\":\"bar\"}],\"scattergeo\":[{\"type\":\"scattergeo\",\"marker\":{\"colorbar\":{\"outlinewidth\":0,\"ticks\":\"\"}}}],\"scatterpolar\":[{\"type\":\"scatterpolar\",\"marker\":{\"colorbar\":{\"outlinewidth\":0,\"ticks\":\"\"}}}],\"histogram\":[{\"marker\":{\"pattern\":{\"fillmode\":\"overlay\",\"size\":10,\"solidity\":0.2}},\"type\":\"histogram\"}],\"scattergl\":[{\"type\":\"scattergl\",\"marker\":{\"colorbar\":{\"outlinewidth\":0,\"ticks\":\"\"}}}],\"scatter3d\":[{\"type\":\"scatter3d\",\"line\":{\"colorbar\":{\"outlinewidth\":0,\"ticks\":\"\"}},\"marker\":{\"colorbar\":{\"outlinewidth\":0,\"ticks\":\"\"}}}],\"scattermapbox\":[{\"type\":\"scattermapbox\",\"marker\":{\"colorbar\":{\"outlinewidth\":0,\"ticks\":\"\"}}}],\"scatterternary\":[{\"type\":\"scatterternary\",\"marker\":{\"colorbar\":{\"outlinewidth\":0,\"ticks\":\"\"}}}],\"scattercarpet\":[{\"type\":\"scattercarpet\",\"marker\":{\"colorbar\":{\"outlinewidth\":0,\"ticks\":\"\"}}}],\"carpet\":[{\"aaxis\":{\"endlinecolor\":\"#2a3f5f\",\"gridcolor\":\"white\",\"linecolor\":\"white\",\"minorgridcolor\":\"white\",\"startlinecolor\":\"#2a3f5f\"},\"baxis\":{\"endlinecolor\":\"#2a3f5f\",\"gridcolor\":\"white\",\"linecolor\":\"white\",\"minorgridcolor\":\"white\",\"startlinecolor\":\"#2a3f5f\"},\"type\":\"carpet\"}],\"table\":[{\"cells\":{\"fill\":{\"color\":\"#EBF0F8\"},\"line\":{\"color\":\"white\"}},\"header\":{\"fill\":{\"color\":\"#C8D4E3\"},\"line\":{\"color\":\"white\"}},\"type\":\"table\"}],\"barpolar\":[{\"marker\":{\"line\":{\"color\":\"#E5ECF6\",\"width\":0.5},\"pattern\":{\"fillmode\":\"overlay\",\"size\":10,\"solidity\":0.2}},\"type\":\"barpolar\"}],\"pie\":[{\"automargin\":true,\"type\":\"pie\"}]},\"layout\":{\"autotypenumbers\":\"strict\",\"colorway\":[\"#636efa\",\"#EF553B\",\"#00cc96\",\"#ab63fa\",\"#FFA15A\",\"#19d3f3\",\"#FF6692\",\"#B6E880\",\"#FF97FF\",\"#FECB52\"],\"font\":{\"color\":\"#2a3f5f\"},\"hovermode\":\"closest\",\"hoverlabel\":{\"align\":\"left\"},\"paper_bgcolor\":\"white\",\"plot_bgcolor\":\"#E5ECF6\",\"polar\":{\"bgcolor\":\"#E5ECF6\",\"angularaxis\":{\"gridcolor\":\"white\",\"linecolor\":\"white\",\"ticks\":\"\"},\"radialaxis\":{\"gridcolor\":\"white\",\"linecolor\":\"white\",\"ticks\":\"\"}},\"ternary\":{\"bgcolor\":\"#E5ECF6\",\"aaxis\":{\"gridcolor\":\"white\",\"linecolor\":\"white\",\"ticks\":\"\"},\"baxis\":{\"gridcolor\":\"white\",\"linecolor\":\"white\",\"ticks\":\"\"},\"caxis\":{\"gridcolor\":\"white\",\"linecolor\":\"white\",\"ticks\":\"\"}},\"coloraxis\":{\"colorbar\":{\"outlinewidth\":0,\"ticks\":\"\"}},\"colorscale\":{\"sequential\":[[0.0,\"#0d0887\"],[0.1111111111111111,\"#46039f\"],[0.2222222222222222,\"#7201a8\"],[0.3333333333333333,\"#9c179e\"],[0.4444444444444444,\"#bd3786\"],[0.5555555555555556,\"#d8576b\"],[0.6666666666666666,\"#ed7953\"],[0.7777777777777778,\"#fb9f3a\"],[0.8888888888888888,\"#fdca26\"],[1.0,\"#f0f921\"]],\"sequentialminus\":[[0.0,\"#0d0887\"],[0.1111111111111111,\"#46039f\"],[0.2222222222222222,\"#7201a8\"],[0.3333333333333333,\"#9c179e\"],[0.4444444444444444,\"#bd3786\"],[0.5555555555555556,\"#d8576b\"],[0.6666666666666666,\"#ed7953\"],[0.7777777777777778,\"#fb9f3a\"],[0.8888888888888888,\"#fdca26\"],[1.0,\"#f0f921\"]],\"diverging\":[[0,\"#8e0152\"],[0.1,\"#c51b7d\"],[0.2,\"#de77ae\"],[0.3,\"#f1b6da\"],[0.4,\"#fde0ef\"],[0.5,\"#f7f7f7\"],[0.6,\"#e6f5d0\"],[0.7,\"#b8e186\"],[0.8,\"#7fbc41\"],[0.9,\"#4d9221\"],[1,\"#276419\"]]},\"xaxis\":{\"gridcolor\":\"white\",\"linecolor\":\"white\",\"ticks\":\"\",\"title\":{\"standoff\":15},\"zerolinecolor\":\"white\",\"automargin\":true,\"zerolinewidth\":2},\"yaxis\":{\"gridcolor\":\"white\",\"linecolor\":\"white\",\"ticks\":\"\",\"title\":{\"standoff\":15},\"zerolinecolor\":\"white\",\"automargin\":true,\"zerolinewidth\":2},\"scene\":{\"xaxis\":{\"backgroundcolor\":\"#E5ECF6\",\"gridcolor\":\"white\",\"linecolor\":\"white\",\"showbackground\":true,\"ticks\":\"\",\"zerolinecolor\":\"white\",\"gridwidth\":2},\"yaxis\":{\"backgroundcolor\":\"#E5ECF6\",\"gridcolor\":\"white\",\"linecolor\":\"white\",\"showbackground\":true,\"ticks\":\"\",\"zerolinecolor\":\"white\",\"gridwidth\":2},\"zaxis\":{\"backgroundcolor\":\"#E5ECF6\",\"gridcolor\":\"white\",\"linecolor\":\"white\",\"showbackground\":true,\"ticks\":\"\",\"zerolinecolor\":\"white\",\"gridwidth\":2}},\"shapedefaults\":{\"line\":{\"color\":\"#2a3f5f\"}},\"annotationdefaults\":{\"arrowcolor\":\"#2a3f5f\",\"arrowhead\":0,\"arrowwidth\":1},\"geo\":{\"bgcolor\":\"white\",\"landcolor\":\"#E5ECF6\",\"subunitcolor\":\"white\",\"showland\":true,\"showlakes\":true,\"lakecolor\":\"white\"},\"title\":{\"x\":0.05},\"mapbox\":{\"style\":\"light\"}}},\"xaxis\":{\"anchor\":\"y\",\"domain\":[0.0,1.0],\"title\":{\"text\":\"time taken\"},\"type\":\"log\"},\"yaxis\":{\"anchor\":\"x\",\"domain\":[0.0,1.0],\"title\":{\"text\":\"format\"}},\"legend\":{\"title\":{\"text\":\"engine\"},\"tracegroupgap\":0},\"margin\":{\"t\":60},\"violinmode\":\"group\"},                        {\"responsive\": true}                    ).then(function(){\n",
       "                            \n",
       "var gd = document.getElementById('51e5935d-c118-4c32-a5b6-8b06bc5f5b80');\n",
       "var x = new MutationObserver(function (mutations, observer) {{\n",
       "        var display = window.getComputedStyle(gd).display;\n",
       "        if (!display || display === 'none') {{\n",
       "            console.log([gd, 'removed!']);\n",
       "            Plotly.purge(gd);\n",
       "            observer.disconnect();\n",
       "        }}\n",
       "}});\n",
       "\n",
       "// Listen for the removal of the full notebook cells\n",
       "var notebookContainer = gd.closest('#notebook-container');\n",
       "if (notebookContainer) {{\n",
       "    x.observe(notebookContainer, {childList: true});\n",
       "}}\n",
       "\n",
       "// Listen for the clearing of the current output cell\n",
       "var outputEl = gd.closest('.output');\n",
       "if (outputEl) {{\n",
       "    x.observe(outputEl, {childList: true});\n",
       "}}\n",
       "\n",
       "                        })                };                });            </script>        </div>"
      ]
     },
     "metadata": {},
     "output_type": "display_data"
    },
    {
     "data": {
      "application/vnd.plotly.v1+json": {
       "config": {
        "plotlyServerURL": "https://plot.ly"
       },
       "data": [
        {
         "alignmentgroup": "True",
         "box": {
          "visible": false
         },
         "hovertemplate": "engine=zarr<br>time taken=%{x}<br>filesize per chunk=%{y}<extra></extra>",
         "legendgroup": "zarr",
         "marker": {
          "color": "#636efa"
         },
         "name": "zarr",
         "offsetgroup": "zarr",
         "orientation": "h",
         "scalegroup": "True",
         "showlegend": true,
         "type": "violin",
         "x": [
          1.254719685,
          1.248066141,
          1.292569566,
          1.314146394,
          1.313602982,
          1.289282074,
          1.254550035,
          1.266733049,
          1.267689895,
          1.260372463
         ],
         "x0": " ",
         "xaxis": "x",
         "y": [
          "2.0 MB",
          "2.0 MB",
          "2.0 MB",
          "2.0 MB",
          "2.0 MB",
          "2.0 MB",
          "2.0 MB",
          "2.0 MB",
          "2.0 MB",
          "2.0 MB"
         ],
         "y0": " ",
         "yaxis": "y"
        },
        {
         "alignmentgroup": "True",
         "box": {
          "visible": false
         },
         "hovertemplate": "engine=netcdf4<br>time taken=%{x}<br>filesize per chunk=%{y}<extra></extra>",
         "legendgroup": "netcdf4",
         "marker": {
          "color": "#EF553B"
         },
         "name": "netcdf4",
         "offsetgroup": "netcdf4",
         "orientation": "h",
         "scalegroup": "True",
         "showlegend": true,
         "type": "violin",
         "x": [
          1.066638576,
          1.101389066,
          1.097299316,
          1.046411391,
          1.165832655,
          1.076762198,
          1.208166825,
          1.104800169,
          1.121934926,
          1.051151894
         ],
         "x0": " ",
         "xaxis": "x",
         "y": [
          "2.0 MB",
          "2.0 MB",
          "2.0 MB",
          "2.0 MB",
          "2.0 MB",
          "2.0 MB",
          "2.0 MB",
          "2.0 MB",
          "2.0 MB",
          "2.0 MB"
         ],
         "y0": " ",
         "yaxis": "y"
        },
        {
         "alignmentgroup": "True",
         "box": {
          "visible": false
         },
         "hovertemplate": "engine=hdf5<br>time taken=%{x}<br>filesize per chunk=%{y}<extra></extra>",
         "legendgroup": "hdf5",
         "marker": {
          "color": "#00cc96"
         },
         "name": "hdf5",
         "offsetgroup": "hdf5",
         "orientation": "h",
         "scalegroup": "True",
         "showlegend": true,
         "type": "violin",
         "x": [
          46.14103127,
          45.923445485,
          46.01607336,
          46.124263398,
          45.799555882,
          45.748027634,
          45.644547842,
          45.573779377,
          46.374598791,
          45.432376268
         ],
         "x0": " ",
         "xaxis": "x",
         "y": [
          "2.0 MB",
          "2.0 MB",
          "2.0 MB",
          "2.0 MB",
          "2.0 MB",
          "2.0 MB",
          "2.0 MB",
          "2.0 MB",
          "2.0 MB",
          "2.0 MB"
         ],
         "y0": " ",
         "yaxis": "y"
        }
       ],
       "layout": {
        "legend": {
         "title": {
          "text": "engine"
         },
         "tracegroupgap": 0
        },
        "margin": {
         "t": 60
        },
        "template": {
         "data": {
          "bar": [
           {
            "error_x": {
             "color": "#2a3f5f"
            },
            "error_y": {
             "color": "#2a3f5f"
            },
            "marker": {
             "line": {
              "color": "#E5ECF6",
              "width": 0.5
             },
             "pattern": {
              "fillmode": "overlay",
              "size": 10,
              "solidity": 0.2
             }
            },
            "type": "bar"
           }
          ],
          "barpolar": [
           {
            "marker": {
             "line": {
              "color": "#E5ECF6",
              "width": 0.5
             },
             "pattern": {
              "fillmode": "overlay",
              "size": 10,
              "solidity": 0.2
             }
            },
            "type": "barpolar"
           }
          ],
          "carpet": [
           {
            "aaxis": {
             "endlinecolor": "#2a3f5f",
             "gridcolor": "white",
             "linecolor": "white",
             "minorgridcolor": "white",
             "startlinecolor": "#2a3f5f"
            },
            "baxis": {
             "endlinecolor": "#2a3f5f",
             "gridcolor": "white",
             "linecolor": "white",
             "minorgridcolor": "white",
             "startlinecolor": "#2a3f5f"
            },
            "type": "carpet"
           }
          ],
          "choropleth": [
           {
            "colorbar": {
             "outlinewidth": 0,
             "ticks": ""
            },
            "type": "choropleth"
           }
          ],
          "contour": [
           {
            "colorbar": {
             "outlinewidth": 0,
             "ticks": ""
            },
            "colorscale": [
             [
              0,
              "#0d0887"
             ],
             [
              0.1111111111111111,
              "#46039f"
             ],
             [
              0.2222222222222222,
              "#7201a8"
             ],
             [
              0.3333333333333333,
              "#9c179e"
             ],
             [
              0.4444444444444444,
              "#bd3786"
             ],
             [
              0.5555555555555556,
              "#d8576b"
             ],
             [
              0.6666666666666666,
              "#ed7953"
             ],
             [
              0.7777777777777778,
              "#fb9f3a"
             ],
             [
              0.8888888888888888,
              "#fdca26"
             ],
             [
              1,
              "#f0f921"
             ]
            ],
            "type": "contour"
           }
          ],
          "contourcarpet": [
           {
            "colorbar": {
             "outlinewidth": 0,
             "ticks": ""
            },
            "type": "contourcarpet"
           }
          ],
          "heatmap": [
           {
            "colorbar": {
             "outlinewidth": 0,
             "ticks": ""
            },
            "colorscale": [
             [
              0,
              "#0d0887"
             ],
             [
              0.1111111111111111,
              "#46039f"
             ],
             [
              0.2222222222222222,
              "#7201a8"
             ],
             [
              0.3333333333333333,
              "#9c179e"
             ],
             [
              0.4444444444444444,
              "#bd3786"
             ],
             [
              0.5555555555555556,
              "#d8576b"
             ],
             [
              0.6666666666666666,
              "#ed7953"
             ],
             [
              0.7777777777777778,
              "#fb9f3a"
             ],
             [
              0.8888888888888888,
              "#fdca26"
             ],
             [
              1,
              "#f0f921"
             ]
            ],
            "type": "heatmap"
           }
          ],
          "heatmapgl": [
           {
            "colorbar": {
             "outlinewidth": 0,
             "ticks": ""
            },
            "colorscale": [
             [
              0,
              "#0d0887"
             ],
             [
              0.1111111111111111,
              "#46039f"
             ],
             [
              0.2222222222222222,
              "#7201a8"
             ],
             [
              0.3333333333333333,
              "#9c179e"
             ],
             [
              0.4444444444444444,
              "#bd3786"
             ],
             [
              0.5555555555555556,
              "#d8576b"
             ],
             [
              0.6666666666666666,
              "#ed7953"
             ],
             [
              0.7777777777777778,
              "#fb9f3a"
             ],
             [
              0.8888888888888888,
              "#fdca26"
             ],
             [
              1,
              "#f0f921"
             ]
            ],
            "type": "heatmapgl"
           }
          ],
          "histogram": [
           {
            "marker": {
             "pattern": {
              "fillmode": "overlay",
              "size": 10,
              "solidity": 0.2
             }
            },
            "type": "histogram"
           }
          ],
          "histogram2d": [
           {
            "colorbar": {
             "outlinewidth": 0,
             "ticks": ""
            },
            "colorscale": [
             [
              0,
              "#0d0887"
             ],
             [
              0.1111111111111111,
              "#46039f"
             ],
             [
              0.2222222222222222,
              "#7201a8"
             ],
             [
              0.3333333333333333,
              "#9c179e"
             ],
             [
              0.4444444444444444,
              "#bd3786"
             ],
             [
              0.5555555555555556,
              "#d8576b"
             ],
             [
              0.6666666666666666,
              "#ed7953"
             ],
             [
              0.7777777777777778,
              "#fb9f3a"
             ],
             [
              0.8888888888888888,
              "#fdca26"
             ],
             [
              1,
              "#f0f921"
             ]
            ],
            "type": "histogram2d"
           }
          ],
          "histogram2dcontour": [
           {
            "colorbar": {
             "outlinewidth": 0,
             "ticks": ""
            },
            "colorscale": [
             [
              0,
              "#0d0887"
             ],
             [
              0.1111111111111111,
              "#46039f"
             ],
             [
              0.2222222222222222,
              "#7201a8"
             ],
             [
              0.3333333333333333,
              "#9c179e"
             ],
             [
              0.4444444444444444,
              "#bd3786"
             ],
             [
              0.5555555555555556,
              "#d8576b"
             ],
             [
              0.6666666666666666,
              "#ed7953"
             ],
             [
              0.7777777777777778,
              "#fb9f3a"
             ],
             [
              0.8888888888888888,
              "#fdca26"
             ],
             [
              1,
              "#f0f921"
             ]
            ],
            "type": "histogram2dcontour"
           }
          ],
          "mesh3d": [
           {
            "colorbar": {
             "outlinewidth": 0,
             "ticks": ""
            },
            "type": "mesh3d"
           }
          ],
          "parcoords": [
           {
            "line": {
             "colorbar": {
              "outlinewidth": 0,
              "ticks": ""
             }
            },
            "type": "parcoords"
           }
          ],
          "pie": [
           {
            "automargin": true,
            "type": "pie"
           }
          ],
          "scatter": [
           {
            "fillpattern": {
             "fillmode": "overlay",
             "size": 10,
             "solidity": 0.2
            },
            "type": "scatter"
           }
          ],
          "scatter3d": [
           {
            "line": {
             "colorbar": {
              "outlinewidth": 0,
              "ticks": ""
             }
            },
            "marker": {
             "colorbar": {
              "outlinewidth": 0,
              "ticks": ""
             }
            },
            "type": "scatter3d"
           }
          ],
          "scattercarpet": [
           {
            "marker": {
             "colorbar": {
              "outlinewidth": 0,
              "ticks": ""
             }
            },
            "type": "scattercarpet"
           }
          ],
          "scattergeo": [
           {
            "marker": {
             "colorbar": {
              "outlinewidth": 0,
              "ticks": ""
             }
            },
            "type": "scattergeo"
           }
          ],
          "scattergl": [
           {
            "marker": {
             "colorbar": {
              "outlinewidth": 0,
              "ticks": ""
             }
            },
            "type": "scattergl"
           }
          ],
          "scattermapbox": [
           {
            "marker": {
             "colorbar": {
              "outlinewidth": 0,
              "ticks": ""
             }
            },
            "type": "scattermapbox"
           }
          ],
          "scatterpolar": [
           {
            "marker": {
             "colorbar": {
              "outlinewidth": 0,
              "ticks": ""
             }
            },
            "type": "scatterpolar"
           }
          ],
          "scatterpolargl": [
           {
            "marker": {
             "colorbar": {
              "outlinewidth": 0,
              "ticks": ""
             }
            },
            "type": "scatterpolargl"
           }
          ],
          "scatterternary": [
           {
            "marker": {
             "colorbar": {
              "outlinewidth": 0,
              "ticks": ""
             }
            },
            "type": "scatterternary"
           }
          ],
          "surface": [
           {
            "colorbar": {
             "outlinewidth": 0,
             "ticks": ""
            },
            "colorscale": [
             [
              0,
              "#0d0887"
             ],
             [
              0.1111111111111111,
              "#46039f"
             ],
             [
              0.2222222222222222,
              "#7201a8"
             ],
             [
              0.3333333333333333,
              "#9c179e"
             ],
             [
              0.4444444444444444,
              "#bd3786"
             ],
             [
              0.5555555555555556,
              "#d8576b"
             ],
             [
              0.6666666666666666,
              "#ed7953"
             ],
             [
              0.7777777777777778,
              "#fb9f3a"
             ],
             [
              0.8888888888888888,
              "#fdca26"
             ],
             [
              1,
              "#f0f921"
             ]
            ],
            "type": "surface"
           }
          ],
          "table": [
           {
            "cells": {
             "fill": {
              "color": "#EBF0F8"
             },
             "line": {
              "color": "white"
             }
            },
            "header": {
             "fill": {
              "color": "#C8D4E3"
             },
             "line": {
              "color": "white"
             }
            },
            "type": "table"
           }
          ]
         },
         "layout": {
          "annotationdefaults": {
           "arrowcolor": "#2a3f5f",
           "arrowhead": 0,
           "arrowwidth": 1
          },
          "autotypenumbers": "strict",
          "coloraxis": {
           "colorbar": {
            "outlinewidth": 0,
            "ticks": ""
           }
          },
          "colorscale": {
           "diverging": [
            [
             0,
             "#8e0152"
            ],
            [
             0.1,
             "#c51b7d"
            ],
            [
             0.2,
             "#de77ae"
            ],
            [
             0.3,
             "#f1b6da"
            ],
            [
             0.4,
             "#fde0ef"
            ],
            [
             0.5,
             "#f7f7f7"
            ],
            [
             0.6,
             "#e6f5d0"
            ],
            [
             0.7,
             "#b8e186"
            ],
            [
             0.8,
             "#7fbc41"
            ],
            [
             0.9,
             "#4d9221"
            ],
            [
             1,
             "#276419"
            ]
           ],
           "sequential": [
            [
             0,
             "#0d0887"
            ],
            [
             0.1111111111111111,
             "#46039f"
            ],
            [
             0.2222222222222222,
             "#7201a8"
            ],
            [
             0.3333333333333333,
             "#9c179e"
            ],
            [
             0.4444444444444444,
             "#bd3786"
            ],
            [
             0.5555555555555556,
             "#d8576b"
            ],
            [
             0.6666666666666666,
             "#ed7953"
            ],
            [
             0.7777777777777778,
             "#fb9f3a"
            ],
            [
             0.8888888888888888,
             "#fdca26"
            ],
            [
             1,
             "#f0f921"
            ]
           ],
           "sequentialminus": [
            [
             0,
             "#0d0887"
            ],
            [
             0.1111111111111111,
             "#46039f"
            ],
            [
             0.2222222222222222,
             "#7201a8"
            ],
            [
             0.3333333333333333,
             "#9c179e"
            ],
            [
             0.4444444444444444,
             "#bd3786"
            ],
            [
             0.5555555555555556,
             "#d8576b"
            ],
            [
             0.6666666666666666,
             "#ed7953"
            ],
            [
             0.7777777777777778,
             "#fb9f3a"
            ],
            [
             0.8888888888888888,
             "#fdca26"
            ],
            [
             1,
             "#f0f921"
            ]
           ]
          },
          "colorway": [
           "#636efa",
           "#EF553B",
           "#00cc96",
           "#ab63fa",
           "#FFA15A",
           "#19d3f3",
           "#FF6692",
           "#B6E880",
           "#FF97FF",
           "#FECB52"
          ],
          "font": {
           "color": "#2a3f5f"
          },
          "geo": {
           "bgcolor": "white",
           "lakecolor": "white",
           "landcolor": "#E5ECF6",
           "showlakes": true,
           "showland": true,
           "subunitcolor": "white"
          },
          "hoverlabel": {
           "align": "left"
          },
          "hovermode": "closest",
          "mapbox": {
           "style": "light"
          },
          "paper_bgcolor": "white",
          "plot_bgcolor": "#E5ECF6",
          "polar": {
           "angularaxis": {
            "gridcolor": "white",
            "linecolor": "white",
            "ticks": ""
           },
           "bgcolor": "#E5ECF6",
           "radialaxis": {
            "gridcolor": "white",
            "linecolor": "white",
            "ticks": ""
           }
          },
          "scene": {
           "xaxis": {
            "backgroundcolor": "#E5ECF6",
            "gridcolor": "white",
            "gridwidth": 2,
            "linecolor": "white",
            "showbackground": true,
            "ticks": "",
            "zerolinecolor": "white"
           },
           "yaxis": {
            "backgroundcolor": "#E5ECF6",
            "gridcolor": "white",
            "gridwidth": 2,
            "linecolor": "white",
            "showbackground": true,
            "ticks": "",
            "zerolinecolor": "white"
           },
           "zaxis": {
            "backgroundcolor": "#E5ECF6",
            "gridcolor": "white",
            "gridwidth": 2,
            "linecolor": "white",
            "showbackground": true,
            "ticks": "",
            "zerolinecolor": "white"
           }
          },
          "shapedefaults": {
           "line": {
            "color": "#2a3f5f"
           }
          },
          "ternary": {
           "aaxis": {
            "gridcolor": "white",
            "linecolor": "white",
            "ticks": ""
           },
           "baxis": {
            "gridcolor": "white",
            "linecolor": "white",
            "ticks": ""
           },
           "bgcolor": "#E5ECF6",
           "caxis": {
            "gridcolor": "white",
            "linecolor": "white",
            "ticks": ""
           }
          },
          "title": {
           "x": 0.05
          },
          "xaxis": {
           "automargin": true,
           "gridcolor": "white",
           "linecolor": "white",
           "ticks": "",
           "title": {
            "standoff": 15
           },
           "zerolinecolor": "white",
           "zerolinewidth": 2
          },
          "yaxis": {
           "automargin": true,
           "gridcolor": "white",
           "linecolor": "white",
           "ticks": "",
           "title": {
            "standoff": 15
           },
           "zerolinecolor": "white",
           "zerolinewidth": 2
          }
         }
        },
        "violinmode": "group",
        "xaxis": {
         "anchor": "y",
         "domain": [
          0,
          1
         ],
         "title": {
          "text": "time taken"
         },
         "type": "log"
        },
        "yaxis": {
         "anchor": "x",
         "domain": [
          0,
          1
         ],
         "title": {
          "text": "filesize per chunk"
         }
        }
       }
      },
      "text/html": [
       "<div>                            <div id=\"5dd596fe-1003-47f8-a689-ca264e090062\" class=\"plotly-graph-div\" style=\"height:525px; width:100%;\"></div>            <script type=\"text/javascript\">                require([\"plotly\"], function(Plotly) {                    window.PLOTLYENV=window.PLOTLYENV || {};                                    if (document.getElementById(\"5dd596fe-1003-47f8-a689-ca264e090062\")) {                    Plotly.newPlot(                        \"5dd596fe-1003-47f8-a689-ca264e090062\",                        [{\"alignmentgroup\":\"True\",\"box\":{\"visible\":false},\"hovertemplate\":\"engine=zarr\\u003cbr\\u003etime taken=%{x}\\u003cbr\\u003efilesize per chunk=%{y}\\u003cextra\\u003e\\u003c\\u002fextra\\u003e\",\"legendgroup\":\"zarr\",\"marker\":{\"color\":\"#636efa\"},\"name\":\"zarr\",\"offsetgroup\":\"zarr\",\"orientation\":\"h\",\"scalegroup\":\"True\",\"showlegend\":true,\"x\":[1.254719685,1.248066141,1.292569566,1.314146394,1.313602982,1.289282074,1.254550035,1.266733049,1.267689895,1.260372463],\"x0\":\" \",\"xaxis\":\"x\",\"y\":[\"2.0 MB\",\"2.0 MB\",\"2.0 MB\",\"2.0 MB\",\"2.0 MB\",\"2.0 MB\",\"2.0 MB\",\"2.0 MB\",\"2.0 MB\",\"2.0 MB\"],\"y0\":\" \",\"yaxis\":\"y\",\"type\":\"violin\"},{\"alignmentgroup\":\"True\",\"box\":{\"visible\":false},\"hovertemplate\":\"engine=netcdf4\\u003cbr\\u003etime taken=%{x}\\u003cbr\\u003efilesize per chunk=%{y}\\u003cextra\\u003e\\u003c\\u002fextra\\u003e\",\"legendgroup\":\"netcdf4\",\"marker\":{\"color\":\"#EF553B\"},\"name\":\"netcdf4\",\"offsetgroup\":\"netcdf4\",\"orientation\":\"h\",\"scalegroup\":\"True\",\"showlegend\":true,\"x\":[1.066638576,1.101389066,1.097299316,1.046411391,1.165832655,1.076762198,1.208166825,1.104800169,1.121934926,1.051151894],\"x0\":\" \",\"xaxis\":\"x\",\"y\":[\"2.0 MB\",\"2.0 MB\",\"2.0 MB\",\"2.0 MB\",\"2.0 MB\",\"2.0 MB\",\"2.0 MB\",\"2.0 MB\",\"2.0 MB\",\"2.0 MB\"],\"y0\":\" \",\"yaxis\":\"y\",\"type\":\"violin\"},{\"alignmentgroup\":\"True\",\"box\":{\"visible\":false},\"hovertemplate\":\"engine=hdf5\\u003cbr\\u003etime taken=%{x}\\u003cbr\\u003efilesize per chunk=%{y}\\u003cextra\\u003e\\u003c\\u002fextra\\u003e\",\"legendgroup\":\"hdf5\",\"marker\":{\"color\":\"#00cc96\"},\"name\":\"hdf5\",\"offsetgroup\":\"hdf5\",\"orientation\":\"h\",\"scalegroup\":\"True\",\"showlegend\":true,\"x\":[46.14103127,45.923445485,46.01607336,46.124263398,45.799555882,45.748027634,45.644547842,45.573779377,46.374598791,45.432376268],\"x0\":\" \",\"xaxis\":\"x\",\"y\":[\"2.0 MB\",\"2.0 MB\",\"2.0 MB\",\"2.0 MB\",\"2.0 MB\",\"2.0 MB\",\"2.0 MB\",\"2.0 MB\",\"2.0 MB\",\"2.0 MB\"],\"y0\":\" \",\"yaxis\":\"y\",\"type\":\"violin\"}],                        {\"template\":{\"data\":{\"histogram2dcontour\":[{\"type\":\"histogram2dcontour\",\"colorbar\":{\"outlinewidth\":0,\"ticks\":\"\"},\"colorscale\":[[0.0,\"#0d0887\"],[0.1111111111111111,\"#46039f\"],[0.2222222222222222,\"#7201a8\"],[0.3333333333333333,\"#9c179e\"],[0.4444444444444444,\"#bd3786\"],[0.5555555555555556,\"#d8576b\"],[0.6666666666666666,\"#ed7953\"],[0.7777777777777778,\"#fb9f3a\"],[0.8888888888888888,\"#fdca26\"],[1.0,\"#f0f921\"]]}],\"choropleth\":[{\"type\":\"choropleth\",\"colorbar\":{\"outlinewidth\":0,\"ticks\":\"\"}}],\"histogram2d\":[{\"type\":\"histogram2d\",\"colorbar\":{\"outlinewidth\":0,\"ticks\":\"\"},\"colorscale\":[[0.0,\"#0d0887\"],[0.1111111111111111,\"#46039f\"],[0.2222222222222222,\"#7201a8\"],[0.3333333333333333,\"#9c179e\"],[0.4444444444444444,\"#bd3786\"],[0.5555555555555556,\"#d8576b\"],[0.6666666666666666,\"#ed7953\"],[0.7777777777777778,\"#fb9f3a\"],[0.8888888888888888,\"#fdca26\"],[1.0,\"#f0f921\"]]}],\"heatmap\":[{\"type\":\"heatmap\",\"colorbar\":{\"outlinewidth\":0,\"ticks\":\"\"},\"colorscale\":[[0.0,\"#0d0887\"],[0.1111111111111111,\"#46039f\"],[0.2222222222222222,\"#7201a8\"],[0.3333333333333333,\"#9c179e\"],[0.4444444444444444,\"#bd3786\"],[0.5555555555555556,\"#d8576b\"],[0.6666666666666666,\"#ed7953\"],[0.7777777777777778,\"#fb9f3a\"],[0.8888888888888888,\"#fdca26\"],[1.0,\"#f0f921\"]]}],\"heatmapgl\":[{\"type\":\"heatmapgl\",\"colorbar\":{\"outlinewidth\":0,\"ticks\":\"\"},\"colorscale\":[[0.0,\"#0d0887\"],[0.1111111111111111,\"#46039f\"],[0.2222222222222222,\"#7201a8\"],[0.3333333333333333,\"#9c179e\"],[0.4444444444444444,\"#bd3786\"],[0.5555555555555556,\"#d8576b\"],[0.6666666666666666,\"#ed7953\"],[0.7777777777777778,\"#fb9f3a\"],[0.8888888888888888,\"#fdca26\"],[1.0,\"#f0f921\"]]}],\"contourcarpet\":[{\"type\":\"contourcarpet\",\"colorbar\":{\"outlinewidth\":0,\"ticks\":\"\"}}],\"contour\":[{\"type\":\"contour\",\"colorbar\":{\"outlinewidth\":0,\"ticks\":\"\"},\"colorscale\":[[0.0,\"#0d0887\"],[0.1111111111111111,\"#46039f\"],[0.2222222222222222,\"#7201a8\"],[0.3333333333333333,\"#9c179e\"],[0.4444444444444444,\"#bd3786\"],[0.5555555555555556,\"#d8576b\"],[0.6666666666666666,\"#ed7953\"],[0.7777777777777778,\"#fb9f3a\"],[0.8888888888888888,\"#fdca26\"],[1.0,\"#f0f921\"]]}],\"surface\":[{\"type\":\"surface\",\"colorbar\":{\"outlinewidth\":0,\"ticks\":\"\"},\"colorscale\":[[0.0,\"#0d0887\"],[0.1111111111111111,\"#46039f\"],[0.2222222222222222,\"#7201a8\"],[0.3333333333333333,\"#9c179e\"],[0.4444444444444444,\"#bd3786\"],[0.5555555555555556,\"#d8576b\"],[0.6666666666666666,\"#ed7953\"],[0.7777777777777778,\"#fb9f3a\"],[0.8888888888888888,\"#fdca26\"],[1.0,\"#f0f921\"]]}],\"mesh3d\":[{\"type\":\"mesh3d\",\"colorbar\":{\"outlinewidth\":0,\"ticks\":\"\"}}],\"scatter\":[{\"fillpattern\":{\"fillmode\":\"overlay\",\"size\":10,\"solidity\":0.2},\"type\":\"scatter\"}],\"parcoords\":[{\"type\":\"parcoords\",\"line\":{\"colorbar\":{\"outlinewidth\":0,\"ticks\":\"\"}}}],\"scatterpolargl\":[{\"type\":\"scatterpolargl\",\"marker\":{\"colorbar\":{\"outlinewidth\":0,\"ticks\":\"\"}}}],\"bar\":[{\"error_x\":{\"color\":\"#2a3f5f\"},\"error_y\":{\"color\":\"#2a3f5f\"},\"marker\":{\"line\":{\"color\":\"#E5ECF6\",\"width\":0.5},\"pattern\":{\"fillmode\":\"overlay\",\"size\":10,\"solidity\":0.2}},\"type\":\"bar\"}],\"scattergeo\":[{\"type\":\"scattergeo\",\"marker\":{\"colorbar\":{\"outlinewidth\":0,\"ticks\":\"\"}}}],\"scatterpolar\":[{\"type\":\"scatterpolar\",\"marker\":{\"colorbar\":{\"outlinewidth\":0,\"ticks\":\"\"}}}],\"histogram\":[{\"marker\":{\"pattern\":{\"fillmode\":\"overlay\",\"size\":10,\"solidity\":0.2}},\"type\":\"histogram\"}],\"scattergl\":[{\"type\":\"scattergl\",\"marker\":{\"colorbar\":{\"outlinewidth\":0,\"ticks\":\"\"}}}],\"scatter3d\":[{\"type\":\"scatter3d\",\"line\":{\"colorbar\":{\"outlinewidth\":0,\"ticks\":\"\"}},\"marker\":{\"colorbar\":{\"outlinewidth\":0,\"ticks\":\"\"}}}],\"scattermapbox\":[{\"type\":\"scattermapbox\",\"marker\":{\"colorbar\":{\"outlinewidth\":0,\"ticks\":\"\"}}}],\"scatterternary\":[{\"type\":\"scatterternary\",\"marker\":{\"colorbar\":{\"outlinewidth\":0,\"ticks\":\"\"}}}],\"scattercarpet\":[{\"type\":\"scattercarpet\",\"marker\":{\"colorbar\":{\"outlinewidth\":0,\"ticks\":\"\"}}}],\"carpet\":[{\"aaxis\":{\"endlinecolor\":\"#2a3f5f\",\"gridcolor\":\"white\",\"linecolor\":\"white\",\"minorgridcolor\":\"white\",\"startlinecolor\":\"#2a3f5f\"},\"baxis\":{\"endlinecolor\":\"#2a3f5f\",\"gridcolor\":\"white\",\"linecolor\":\"white\",\"minorgridcolor\":\"white\",\"startlinecolor\":\"#2a3f5f\"},\"type\":\"carpet\"}],\"table\":[{\"cells\":{\"fill\":{\"color\":\"#EBF0F8\"},\"line\":{\"color\":\"white\"}},\"header\":{\"fill\":{\"color\":\"#C8D4E3\"},\"line\":{\"color\":\"white\"}},\"type\":\"table\"}],\"barpolar\":[{\"marker\":{\"line\":{\"color\":\"#E5ECF6\",\"width\":0.5},\"pattern\":{\"fillmode\":\"overlay\",\"size\":10,\"solidity\":0.2}},\"type\":\"barpolar\"}],\"pie\":[{\"automargin\":true,\"type\":\"pie\"}]},\"layout\":{\"autotypenumbers\":\"strict\",\"colorway\":[\"#636efa\",\"#EF553B\",\"#00cc96\",\"#ab63fa\",\"#FFA15A\",\"#19d3f3\",\"#FF6692\",\"#B6E880\",\"#FF97FF\",\"#FECB52\"],\"font\":{\"color\":\"#2a3f5f\"},\"hovermode\":\"closest\",\"hoverlabel\":{\"align\":\"left\"},\"paper_bgcolor\":\"white\",\"plot_bgcolor\":\"#E5ECF6\",\"polar\":{\"bgcolor\":\"#E5ECF6\",\"angularaxis\":{\"gridcolor\":\"white\",\"linecolor\":\"white\",\"ticks\":\"\"},\"radialaxis\":{\"gridcolor\":\"white\",\"linecolor\":\"white\",\"ticks\":\"\"}},\"ternary\":{\"bgcolor\":\"#E5ECF6\",\"aaxis\":{\"gridcolor\":\"white\",\"linecolor\":\"white\",\"ticks\":\"\"},\"baxis\":{\"gridcolor\":\"white\",\"linecolor\":\"white\",\"ticks\":\"\"},\"caxis\":{\"gridcolor\":\"white\",\"linecolor\":\"white\",\"ticks\":\"\"}},\"coloraxis\":{\"colorbar\":{\"outlinewidth\":0,\"ticks\":\"\"}},\"colorscale\":{\"sequential\":[[0.0,\"#0d0887\"],[0.1111111111111111,\"#46039f\"],[0.2222222222222222,\"#7201a8\"],[0.3333333333333333,\"#9c179e\"],[0.4444444444444444,\"#bd3786\"],[0.5555555555555556,\"#d8576b\"],[0.6666666666666666,\"#ed7953\"],[0.7777777777777778,\"#fb9f3a\"],[0.8888888888888888,\"#fdca26\"],[1.0,\"#f0f921\"]],\"sequentialminus\":[[0.0,\"#0d0887\"],[0.1111111111111111,\"#46039f\"],[0.2222222222222222,\"#7201a8\"],[0.3333333333333333,\"#9c179e\"],[0.4444444444444444,\"#bd3786\"],[0.5555555555555556,\"#d8576b\"],[0.6666666666666666,\"#ed7953\"],[0.7777777777777778,\"#fb9f3a\"],[0.8888888888888888,\"#fdca26\"],[1.0,\"#f0f921\"]],\"diverging\":[[0,\"#8e0152\"],[0.1,\"#c51b7d\"],[0.2,\"#de77ae\"],[0.3,\"#f1b6da\"],[0.4,\"#fde0ef\"],[0.5,\"#f7f7f7\"],[0.6,\"#e6f5d0\"],[0.7,\"#b8e186\"],[0.8,\"#7fbc41\"],[0.9,\"#4d9221\"],[1,\"#276419\"]]},\"xaxis\":{\"gridcolor\":\"white\",\"linecolor\":\"white\",\"ticks\":\"\",\"title\":{\"standoff\":15},\"zerolinecolor\":\"white\",\"automargin\":true,\"zerolinewidth\":2},\"yaxis\":{\"gridcolor\":\"white\",\"linecolor\":\"white\",\"ticks\":\"\",\"title\":{\"standoff\":15},\"zerolinecolor\":\"white\",\"automargin\":true,\"zerolinewidth\":2},\"scene\":{\"xaxis\":{\"backgroundcolor\":\"#E5ECF6\",\"gridcolor\":\"white\",\"linecolor\":\"white\",\"showbackground\":true,\"ticks\":\"\",\"zerolinecolor\":\"white\",\"gridwidth\":2},\"yaxis\":{\"backgroundcolor\":\"#E5ECF6\",\"gridcolor\":\"white\",\"linecolor\":\"white\",\"showbackground\":true,\"ticks\":\"\",\"zerolinecolor\":\"white\",\"gridwidth\":2},\"zaxis\":{\"backgroundcolor\":\"#E5ECF6\",\"gridcolor\":\"white\",\"linecolor\":\"white\",\"showbackground\":true,\"ticks\":\"\",\"zerolinecolor\":\"white\",\"gridwidth\":2}},\"shapedefaults\":{\"line\":{\"color\":\"#2a3f5f\"}},\"annotationdefaults\":{\"arrowcolor\":\"#2a3f5f\",\"arrowhead\":0,\"arrowwidth\":1},\"geo\":{\"bgcolor\":\"white\",\"landcolor\":\"#E5ECF6\",\"subunitcolor\":\"white\",\"showland\":true,\"showlakes\":true,\"lakecolor\":\"white\"},\"title\":{\"x\":0.05},\"mapbox\":{\"style\":\"light\"}}},\"xaxis\":{\"anchor\":\"y\",\"domain\":[0.0,1.0],\"title\":{\"text\":\"time taken\"},\"type\":\"log\"},\"yaxis\":{\"anchor\":\"x\",\"domain\":[0.0,1.0],\"title\":{\"text\":\"filesize per chunk\"}},\"legend\":{\"title\":{\"text\":\"engine\"},\"tracegroupgap\":0},\"margin\":{\"t\":60},\"violinmode\":\"group\"},                        {\"responsive\": true}                    ).then(function(){\n",
       "                            \n",
       "var gd = document.getElementById('5dd596fe-1003-47f8-a689-ca264e090062');\n",
       "var x = new MutationObserver(function (mutations, observer) {{\n",
       "        var display = window.getComputedStyle(gd).display;\n",
       "        if (!display || display === 'none') {{\n",
       "            console.log([gd, 'removed!']);\n",
       "            Plotly.purge(gd);\n",
       "            observer.disconnect();\n",
       "        }}\n",
       "}});\n",
       "\n",
       "// Listen for the removal of the full notebook cells\n",
       "var notebookContainer = gd.closest('#notebook-container');\n",
       "if (notebookContainer) {{\n",
       "    x.observe(notebookContainer, {childList: true});\n",
       "}}\n",
       "\n",
       "// Listen for the clearing of the current output cell\n",
       "var outputEl = gd.closest('.output');\n",
       "if (outputEl) {{\n",
       "    x.observe(outputEl, {childList: true});\n",
       "}}\n",
       "\n",
       "                        })                };                });            </script>        </div>"
      ]
     },
     "metadata": {},
     "output_type": "display_data"
    },
    {
     "data": {
      "application/vnd.plotly.v1+json": {
       "config": {
        "plotlyServerURL": "https://plot.ly"
       },
       "data": [
        {
         "alignmentgroup": "True",
         "box": {
          "visible": false
         },
         "hovertemplate": "engine=zarr<br>time taken=%{x}<br>filesize per chunk=%{y}<extra></extra>",
         "legendgroup": "zarr",
         "marker": {
          "color": "#636efa"
         },
         "name": "zarr",
         "offsetgroup": "zarr",
         "orientation": "h",
         "scalegroup": "True",
         "showlegend": true,
         "type": "violin",
         "x": [
          0.47734869999999996,
          0.47810641600000003,
          0.475131742,
          0.49847422,
          0.471999887,
          0.49030078200000005,
          0.47879551000000004,
          0.479558588,
          0.47660526900000005,
          0.46878278
         ],
         "x0": " ",
         "xaxis": "x",
         "y": [
          "16.0 MB",
          "16.0 MB",
          "16.0 MB",
          "16.0 MB",
          "16.0 MB",
          "16.0 MB",
          "16.0 MB",
          "16.0 MB",
          "16.0 MB",
          "16.0 MB"
         ],
         "y0": " ",
         "yaxis": "y"
        },
        {
         "alignmentgroup": "True",
         "box": {
          "visible": false
         },
         "hovertemplate": "engine=netcdf4<br>time taken=%{x}<br>filesize per chunk=%{y}<extra></extra>",
         "legendgroup": "netcdf4",
         "marker": {
          "color": "#EF553B"
         },
         "name": "netcdf4",
         "offsetgroup": "netcdf4",
         "orientation": "h",
         "scalegroup": "True",
         "showlegend": true,
         "type": "violin",
         "x": [
          0.35543492200000004,
          0.36908632900000005,
          0.343790335,
          0.347241096,
          0.34522847100000004,
          0.340736661,
          0.34947300800000003,
          0.34388356600000003,
          0.34354955600000003,
          0.342198532
         ],
         "x0": " ",
         "xaxis": "x",
         "y": [
          "16.0 MB",
          "16.0 MB",
          "16.0 MB",
          "16.0 MB",
          "16.0 MB",
          "16.0 MB",
          "16.0 MB",
          "16.0 MB",
          "16.0 MB",
          "16.0 MB"
         ],
         "y0": " ",
         "yaxis": "y"
        },
        {
         "alignmentgroup": "True",
         "box": {
          "visible": false
         },
         "hovertemplate": "engine=hdf5<br>time taken=%{x}<br>filesize per chunk=%{y}<extra></extra>",
         "legendgroup": "hdf5",
         "marker": {
          "color": "#00cc96"
         },
         "name": "hdf5",
         "offsetgroup": "hdf5",
         "orientation": "h",
         "scalegroup": "True",
         "showlegend": true,
         "type": "violin",
         "x": [
          5.981869041,
          6.38684548,
          6.240656416,
          6.24766756,
          6.025542604,
          6.253911342,
          6.376845099,
          5.976641,
          6.032766631,
          6.027398905
         ],
         "x0": " ",
         "xaxis": "x",
         "y": [
          "16.0 MB",
          "16.0 MB",
          "16.0 MB",
          "16.0 MB",
          "16.0 MB",
          "16.0 MB",
          "16.0 MB",
          "16.0 MB",
          "16.0 MB",
          "16.0 MB"
         ],
         "y0": " ",
         "yaxis": "y"
        }
       ],
       "layout": {
        "legend": {
         "title": {
          "text": "engine"
         },
         "tracegroupgap": 0
        },
        "margin": {
         "t": 60
        },
        "template": {
         "data": {
          "bar": [
           {
            "error_x": {
             "color": "#2a3f5f"
            },
            "error_y": {
             "color": "#2a3f5f"
            },
            "marker": {
             "line": {
              "color": "#E5ECF6",
              "width": 0.5
             },
             "pattern": {
              "fillmode": "overlay",
              "size": 10,
              "solidity": 0.2
             }
            },
            "type": "bar"
           }
          ],
          "barpolar": [
           {
            "marker": {
             "line": {
              "color": "#E5ECF6",
              "width": 0.5
             },
             "pattern": {
              "fillmode": "overlay",
              "size": 10,
              "solidity": 0.2
             }
            },
            "type": "barpolar"
           }
          ],
          "carpet": [
           {
            "aaxis": {
             "endlinecolor": "#2a3f5f",
             "gridcolor": "white",
             "linecolor": "white",
             "minorgridcolor": "white",
             "startlinecolor": "#2a3f5f"
            },
            "baxis": {
             "endlinecolor": "#2a3f5f",
             "gridcolor": "white",
             "linecolor": "white",
             "minorgridcolor": "white",
             "startlinecolor": "#2a3f5f"
            },
            "type": "carpet"
           }
          ],
          "choropleth": [
           {
            "colorbar": {
             "outlinewidth": 0,
             "ticks": ""
            },
            "type": "choropleth"
           }
          ],
          "contour": [
           {
            "colorbar": {
             "outlinewidth": 0,
             "ticks": ""
            },
            "colorscale": [
             [
              0,
              "#0d0887"
             ],
             [
              0.1111111111111111,
              "#46039f"
             ],
             [
              0.2222222222222222,
              "#7201a8"
             ],
             [
              0.3333333333333333,
              "#9c179e"
             ],
             [
              0.4444444444444444,
              "#bd3786"
             ],
             [
              0.5555555555555556,
              "#d8576b"
             ],
             [
              0.6666666666666666,
              "#ed7953"
             ],
             [
              0.7777777777777778,
              "#fb9f3a"
             ],
             [
              0.8888888888888888,
              "#fdca26"
             ],
             [
              1,
              "#f0f921"
             ]
            ],
            "type": "contour"
           }
          ],
          "contourcarpet": [
           {
            "colorbar": {
             "outlinewidth": 0,
             "ticks": ""
            },
            "type": "contourcarpet"
           }
          ],
          "heatmap": [
           {
            "colorbar": {
             "outlinewidth": 0,
             "ticks": ""
            },
            "colorscale": [
             [
              0,
              "#0d0887"
             ],
             [
              0.1111111111111111,
              "#46039f"
             ],
             [
              0.2222222222222222,
              "#7201a8"
             ],
             [
              0.3333333333333333,
              "#9c179e"
             ],
             [
              0.4444444444444444,
              "#bd3786"
             ],
             [
              0.5555555555555556,
              "#d8576b"
             ],
             [
              0.6666666666666666,
              "#ed7953"
             ],
             [
              0.7777777777777778,
              "#fb9f3a"
             ],
             [
              0.8888888888888888,
              "#fdca26"
             ],
             [
              1,
              "#f0f921"
             ]
            ],
            "type": "heatmap"
           }
          ],
          "heatmapgl": [
           {
            "colorbar": {
             "outlinewidth": 0,
             "ticks": ""
            },
            "colorscale": [
             [
              0,
              "#0d0887"
             ],
             [
              0.1111111111111111,
              "#46039f"
             ],
             [
              0.2222222222222222,
              "#7201a8"
             ],
             [
              0.3333333333333333,
              "#9c179e"
             ],
             [
              0.4444444444444444,
              "#bd3786"
             ],
             [
              0.5555555555555556,
              "#d8576b"
             ],
             [
              0.6666666666666666,
              "#ed7953"
             ],
             [
              0.7777777777777778,
              "#fb9f3a"
             ],
             [
              0.8888888888888888,
              "#fdca26"
             ],
             [
              1,
              "#f0f921"
             ]
            ],
            "type": "heatmapgl"
           }
          ],
          "histogram": [
           {
            "marker": {
             "pattern": {
              "fillmode": "overlay",
              "size": 10,
              "solidity": 0.2
             }
            },
            "type": "histogram"
           }
          ],
          "histogram2d": [
           {
            "colorbar": {
             "outlinewidth": 0,
             "ticks": ""
            },
            "colorscale": [
             [
              0,
              "#0d0887"
             ],
             [
              0.1111111111111111,
              "#46039f"
             ],
             [
              0.2222222222222222,
              "#7201a8"
             ],
             [
              0.3333333333333333,
              "#9c179e"
             ],
             [
              0.4444444444444444,
              "#bd3786"
             ],
             [
              0.5555555555555556,
              "#d8576b"
             ],
             [
              0.6666666666666666,
              "#ed7953"
             ],
             [
              0.7777777777777778,
              "#fb9f3a"
             ],
             [
              0.8888888888888888,
              "#fdca26"
             ],
             [
              1,
              "#f0f921"
             ]
            ],
            "type": "histogram2d"
           }
          ],
          "histogram2dcontour": [
           {
            "colorbar": {
             "outlinewidth": 0,
             "ticks": ""
            },
            "colorscale": [
             [
              0,
              "#0d0887"
             ],
             [
              0.1111111111111111,
              "#46039f"
             ],
             [
              0.2222222222222222,
              "#7201a8"
             ],
             [
              0.3333333333333333,
              "#9c179e"
             ],
             [
              0.4444444444444444,
              "#bd3786"
             ],
             [
              0.5555555555555556,
              "#d8576b"
             ],
             [
              0.6666666666666666,
              "#ed7953"
             ],
             [
              0.7777777777777778,
              "#fb9f3a"
             ],
             [
              0.8888888888888888,
              "#fdca26"
             ],
             [
              1,
              "#f0f921"
             ]
            ],
            "type": "histogram2dcontour"
           }
          ],
          "mesh3d": [
           {
            "colorbar": {
             "outlinewidth": 0,
             "ticks": ""
            },
            "type": "mesh3d"
           }
          ],
          "parcoords": [
           {
            "line": {
             "colorbar": {
              "outlinewidth": 0,
              "ticks": ""
             }
            },
            "type": "parcoords"
           }
          ],
          "pie": [
           {
            "automargin": true,
            "type": "pie"
           }
          ],
          "scatter": [
           {
            "fillpattern": {
             "fillmode": "overlay",
             "size": 10,
             "solidity": 0.2
            },
            "type": "scatter"
           }
          ],
          "scatter3d": [
           {
            "line": {
             "colorbar": {
              "outlinewidth": 0,
              "ticks": ""
             }
            },
            "marker": {
             "colorbar": {
              "outlinewidth": 0,
              "ticks": ""
             }
            },
            "type": "scatter3d"
           }
          ],
          "scattercarpet": [
           {
            "marker": {
             "colorbar": {
              "outlinewidth": 0,
              "ticks": ""
             }
            },
            "type": "scattercarpet"
           }
          ],
          "scattergeo": [
           {
            "marker": {
             "colorbar": {
              "outlinewidth": 0,
              "ticks": ""
             }
            },
            "type": "scattergeo"
           }
          ],
          "scattergl": [
           {
            "marker": {
             "colorbar": {
              "outlinewidth": 0,
              "ticks": ""
             }
            },
            "type": "scattergl"
           }
          ],
          "scattermapbox": [
           {
            "marker": {
             "colorbar": {
              "outlinewidth": 0,
              "ticks": ""
             }
            },
            "type": "scattermapbox"
           }
          ],
          "scatterpolar": [
           {
            "marker": {
             "colorbar": {
              "outlinewidth": 0,
              "ticks": ""
             }
            },
            "type": "scatterpolar"
           }
          ],
          "scatterpolargl": [
           {
            "marker": {
             "colorbar": {
              "outlinewidth": 0,
              "ticks": ""
             }
            },
            "type": "scatterpolargl"
           }
          ],
          "scatterternary": [
           {
            "marker": {
             "colorbar": {
              "outlinewidth": 0,
              "ticks": ""
             }
            },
            "type": "scatterternary"
           }
          ],
          "surface": [
           {
            "colorbar": {
             "outlinewidth": 0,
             "ticks": ""
            },
            "colorscale": [
             [
              0,
              "#0d0887"
             ],
             [
              0.1111111111111111,
              "#46039f"
             ],
             [
              0.2222222222222222,
              "#7201a8"
             ],
             [
              0.3333333333333333,
              "#9c179e"
             ],
             [
              0.4444444444444444,
              "#bd3786"
             ],
             [
              0.5555555555555556,
              "#d8576b"
             ],
             [
              0.6666666666666666,
              "#ed7953"
             ],
             [
              0.7777777777777778,
              "#fb9f3a"
             ],
             [
              0.8888888888888888,
              "#fdca26"
             ],
             [
              1,
              "#f0f921"
             ]
            ],
            "type": "surface"
           }
          ],
          "table": [
           {
            "cells": {
             "fill": {
              "color": "#EBF0F8"
             },
             "line": {
              "color": "white"
             }
            },
            "header": {
             "fill": {
              "color": "#C8D4E3"
             },
             "line": {
              "color": "white"
             }
            },
            "type": "table"
           }
          ]
         },
         "layout": {
          "annotationdefaults": {
           "arrowcolor": "#2a3f5f",
           "arrowhead": 0,
           "arrowwidth": 1
          },
          "autotypenumbers": "strict",
          "coloraxis": {
           "colorbar": {
            "outlinewidth": 0,
            "ticks": ""
           }
          },
          "colorscale": {
           "diverging": [
            [
             0,
             "#8e0152"
            ],
            [
             0.1,
             "#c51b7d"
            ],
            [
             0.2,
             "#de77ae"
            ],
            [
             0.3,
             "#f1b6da"
            ],
            [
             0.4,
             "#fde0ef"
            ],
            [
             0.5,
             "#f7f7f7"
            ],
            [
             0.6,
             "#e6f5d0"
            ],
            [
             0.7,
             "#b8e186"
            ],
            [
             0.8,
             "#7fbc41"
            ],
            [
             0.9,
             "#4d9221"
            ],
            [
             1,
             "#276419"
            ]
           ],
           "sequential": [
            [
             0,
             "#0d0887"
            ],
            [
             0.1111111111111111,
             "#46039f"
            ],
            [
             0.2222222222222222,
             "#7201a8"
            ],
            [
             0.3333333333333333,
             "#9c179e"
            ],
            [
             0.4444444444444444,
             "#bd3786"
            ],
            [
             0.5555555555555556,
             "#d8576b"
            ],
            [
             0.6666666666666666,
             "#ed7953"
            ],
            [
             0.7777777777777778,
             "#fb9f3a"
            ],
            [
             0.8888888888888888,
             "#fdca26"
            ],
            [
             1,
             "#f0f921"
            ]
           ],
           "sequentialminus": [
            [
             0,
             "#0d0887"
            ],
            [
             0.1111111111111111,
             "#46039f"
            ],
            [
             0.2222222222222222,
             "#7201a8"
            ],
            [
             0.3333333333333333,
             "#9c179e"
            ],
            [
             0.4444444444444444,
             "#bd3786"
            ],
            [
             0.5555555555555556,
             "#d8576b"
            ],
            [
             0.6666666666666666,
             "#ed7953"
            ],
            [
             0.7777777777777778,
             "#fb9f3a"
            ],
            [
             0.8888888888888888,
             "#fdca26"
            ],
            [
             1,
             "#f0f921"
            ]
           ]
          },
          "colorway": [
           "#636efa",
           "#EF553B",
           "#00cc96",
           "#ab63fa",
           "#FFA15A",
           "#19d3f3",
           "#FF6692",
           "#B6E880",
           "#FF97FF",
           "#FECB52"
          ],
          "font": {
           "color": "#2a3f5f"
          },
          "geo": {
           "bgcolor": "white",
           "lakecolor": "white",
           "landcolor": "#E5ECF6",
           "showlakes": true,
           "showland": true,
           "subunitcolor": "white"
          },
          "hoverlabel": {
           "align": "left"
          },
          "hovermode": "closest",
          "mapbox": {
           "style": "light"
          },
          "paper_bgcolor": "white",
          "plot_bgcolor": "#E5ECF6",
          "polar": {
           "angularaxis": {
            "gridcolor": "white",
            "linecolor": "white",
            "ticks": ""
           },
           "bgcolor": "#E5ECF6",
           "radialaxis": {
            "gridcolor": "white",
            "linecolor": "white",
            "ticks": ""
           }
          },
          "scene": {
           "xaxis": {
            "backgroundcolor": "#E5ECF6",
            "gridcolor": "white",
            "gridwidth": 2,
            "linecolor": "white",
            "showbackground": true,
            "ticks": "",
            "zerolinecolor": "white"
           },
           "yaxis": {
            "backgroundcolor": "#E5ECF6",
            "gridcolor": "white",
            "gridwidth": 2,
            "linecolor": "white",
            "showbackground": true,
            "ticks": "",
            "zerolinecolor": "white"
           },
           "zaxis": {
            "backgroundcolor": "#E5ECF6",
            "gridcolor": "white",
            "gridwidth": 2,
            "linecolor": "white",
            "showbackground": true,
            "ticks": "",
            "zerolinecolor": "white"
           }
          },
          "shapedefaults": {
           "line": {
            "color": "#2a3f5f"
           }
          },
          "ternary": {
           "aaxis": {
            "gridcolor": "white",
            "linecolor": "white",
            "ticks": ""
           },
           "baxis": {
            "gridcolor": "white",
            "linecolor": "white",
            "ticks": ""
           },
           "bgcolor": "#E5ECF6",
           "caxis": {
            "gridcolor": "white",
            "linecolor": "white",
            "ticks": ""
           }
          },
          "title": {
           "x": 0.05
          },
          "xaxis": {
           "automargin": true,
           "gridcolor": "white",
           "linecolor": "white",
           "ticks": "",
           "title": {
            "standoff": 15
           },
           "zerolinecolor": "white",
           "zerolinewidth": 2
          },
          "yaxis": {
           "automargin": true,
           "gridcolor": "white",
           "linecolor": "white",
           "ticks": "",
           "title": {
            "standoff": 15
           },
           "zerolinecolor": "white",
           "zerolinewidth": 2
          }
         }
        },
        "violinmode": "group",
        "xaxis": {
         "anchor": "y",
         "domain": [
          0,
          1
         ],
         "title": {
          "text": "time taken"
         },
         "type": "log"
        },
        "yaxis": {
         "anchor": "x",
         "domain": [
          0,
          1
         ],
         "title": {
          "text": "filesize per chunk"
         }
        }
       }
      },
      "text/html": [
       "<div>                            <div id=\"c102a0fa-7223-4462-a782-889b199b13d4\" class=\"plotly-graph-div\" style=\"height:525px; width:100%;\"></div>            <script type=\"text/javascript\">                require([\"plotly\"], function(Plotly) {                    window.PLOTLYENV=window.PLOTLYENV || {};                                    if (document.getElementById(\"c102a0fa-7223-4462-a782-889b199b13d4\")) {                    Plotly.newPlot(                        \"c102a0fa-7223-4462-a782-889b199b13d4\",                        [{\"alignmentgroup\":\"True\",\"box\":{\"visible\":false},\"hovertemplate\":\"engine=zarr\\u003cbr\\u003etime taken=%{x}\\u003cbr\\u003efilesize per chunk=%{y}\\u003cextra\\u003e\\u003c\\u002fextra\\u003e\",\"legendgroup\":\"zarr\",\"marker\":{\"color\":\"#636efa\"},\"name\":\"zarr\",\"offsetgroup\":\"zarr\",\"orientation\":\"h\",\"scalegroup\":\"True\",\"showlegend\":true,\"x\":[0.47734869999999996,0.47810641600000003,0.475131742,0.49847422,0.471999887,0.49030078200000005,0.47879551000000004,0.479558588,0.47660526900000005,0.46878278],\"x0\":\" \",\"xaxis\":\"x\",\"y\":[\"16.0 MB\",\"16.0 MB\",\"16.0 MB\",\"16.0 MB\",\"16.0 MB\",\"16.0 MB\",\"16.0 MB\",\"16.0 MB\",\"16.0 MB\",\"16.0 MB\"],\"y0\":\" \",\"yaxis\":\"y\",\"type\":\"violin\"},{\"alignmentgroup\":\"True\",\"box\":{\"visible\":false},\"hovertemplate\":\"engine=netcdf4\\u003cbr\\u003etime taken=%{x}\\u003cbr\\u003efilesize per chunk=%{y}\\u003cextra\\u003e\\u003c\\u002fextra\\u003e\",\"legendgroup\":\"netcdf4\",\"marker\":{\"color\":\"#EF553B\"},\"name\":\"netcdf4\",\"offsetgroup\":\"netcdf4\",\"orientation\":\"h\",\"scalegroup\":\"True\",\"showlegend\":true,\"x\":[0.35543492200000004,0.36908632900000005,0.343790335,0.347241096,0.34522847100000004,0.340736661,0.34947300800000003,0.34388356600000003,0.34354955600000003,0.342198532],\"x0\":\" \",\"xaxis\":\"x\",\"y\":[\"16.0 MB\",\"16.0 MB\",\"16.0 MB\",\"16.0 MB\",\"16.0 MB\",\"16.0 MB\",\"16.0 MB\",\"16.0 MB\",\"16.0 MB\",\"16.0 MB\"],\"y0\":\" \",\"yaxis\":\"y\",\"type\":\"violin\"},{\"alignmentgroup\":\"True\",\"box\":{\"visible\":false},\"hovertemplate\":\"engine=hdf5\\u003cbr\\u003etime taken=%{x}\\u003cbr\\u003efilesize per chunk=%{y}\\u003cextra\\u003e\\u003c\\u002fextra\\u003e\",\"legendgroup\":\"hdf5\",\"marker\":{\"color\":\"#00cc96\"},\"name\":\"hdf5\",\"offsetgroup\":\"hdf5\",\"orientation\":\"h\",\"scalegroup\":\"True\",\"showlegend\":true,\"x\":[5.981869041,6.38684548,6.240656416,6.24766756,6.025542604,6.253911342,6.376845099,5.976641,6.032766631,6.027398905],\"x0\":\" \",\"xaxis\":\"x\",\"y\":[\"16.0 MB\",\"16.0 MB\",\"16.0 MB\",\"16.0 MB\",\"16.0 MB\",\"16.0 MB\",\"16.0 MB\",\"16.0 MB\",\"16.0 MB\",\"16.0 MB\"],\"y0\":\" \",\"yaxis\":\"y\",\"type\":\"violin\"}],                        {\"template\":{\"data\":{\"histogram2dcontour\":[{\"type\":\"histogram2dcontour\",\"colorbar\":{\"outlinewidth\":0,\"ticks\":\"\"},\"colorscale\":[[0.0,\"#0d0887\"],[0.1111111111111111,\"#46039f\"],[0.2222222222222222,\"#7201a8\"],[0.3333333333333333,\"#9c179e\"],[0.4444444444444444,\"#bd3786\"],[0.5555555555555556,\"#d8576b\"],[0.6666666666666666,\"#ed7953\"],[0.7777777777777778,\"#fb9f3a\"],[0.8888888888888888,\"#fdca26\"],[1.0,\"#f0f921\"]]}],\"choropleth\":[{\"type\":\"choropleth\",\"colorbar\":{\"outlinewidth\":0,\"ticks\":\"\"}}],\"histogram2d\":[{\"type\":\"histogram2d\",\"colorbar\":{\"outlinewidth\":0,\"ticks\":\"\"},\"colorscale\":[[0.0,\"#0d0887\"],[0.1111111111111111,\"#46039f\"],[0.2222222222222222,\"#7201a8\"],[0.3333333333333333,\"#9c179e\"],[0.4444444444444444,\"#bd3786\"],[0.5555555555555556,\"#d8576b\"],[0.6666666666666666,\"#ed7953\"],[0.7777777777777778,\"#fb9f3a\"],[0.8888888888888888,\"#fdca26\"],[1.0,\"#f0f921\"]]}],\"heatmap\":[{\"type\":\"heatmap\",\"colorbar\":{\"outlinewidth\":0,\"ticks\":\"\"},\"colorscale\":[[0.0,\"#0d0887\"],[0.1111111111111111,\"#46039f\"],[0.2222222222222222,\"#7201a8\"],[0.3333333333333333,\"#9c179e\"],[0.4444444444444444,\"#bd3786\"],[0.5555555555555556,\"#d8576b\"],[0.6666666666666666,\"#ed7953\"],[0.7777777777777778,\"#fb9f3a\"],[0.8888888888888888,\"#fdca26\"],[1.0,\"#f0f921\"]]}],\"heatmapgl\":[{\"type\":\"heatmapgl\",\"colorbar\":{\"outlinewidth\":0,\"ticks\":\"\"},\"colorscale\":[[0.0,\"#0d0887\"],[0.1111111111111111,\"#46039f\"],[0.2222222222222222,\"#7201a8\"],[0.3333333333333333,\"#9c179e\"],[0.4444444444444444,\"#bd3786\"],[0.5555555555555556,\"#d8576b\"],[0.6666666666666666,\"#ed7953\"],[0.7777777777777778,\"#fb9f3a\"],[0.8888888888888888,\"#fdca26\"],[1.0,\"#f0f921\"]]}],\"contourcarpet\":[{\"type\":\"contourcarpet\",\"colorbar\":{\"outlinewidth\":0,\"ticks\":\"\"}}],\"contour\":[{\"type\":\"contour\",\"colorbar\":{\"outlinewidth\":0,\"ticks\":\"\"},\"colorscale\":[[0.0,\"#0d0887\"],[0.1111111111111111,\"#46039f\"],[0.2222222222222222,\"#7201a8\"],[0.3333333333333333,\"#9c179e\"],[0.4444444444444444,\"#bd3786\"],[0.5555555555555556,\"#d8576b\"],[0.6666666666666666,\"#ed7953\"],[0.7777777777777778,\"#fb9f3a\"],[0.8888888888888888,\"#fdca26\"],[1.0,\"#f0f921\"]]}],\"surface\":[{\"type\":\"surface\",\"colorbar\":{\"outlinewidth\":0,\"ticks\":\"\"},\"colorscale\":[[0.0,\"#0d0887\"],[0.1111111111111111,\"#46039f\"],[0.2222222222222222,\"#7201a8\"],[0.3333333333333333,\"#9c179e\"],[0.4444444444444444,\"#bd3786\"],[0.5555555555555556,\"#d8576b\"],[0.6666666666666666,\"#ed7953\"],[0.7777777777777778,\"#fb9f3a\"],[0.8888888888888888,\"#fdca26\"],[1.0,\"#f0f921\"]]}],\"mesh3d\":[{\"type\":\"mesh3d\",\"colorbar\":{\"outlinewidth\":0,\"ticks\":\"\"}}],\"scatter\":[{\"fillpattern\":{\"fillmode\":\"overlay\",\"size\":10,\"solidity\":0.2},\"type\":\"scatter\"}],\"parcoords\":[{\"type\":\"parcoords\",\"line\":{\"colorbar\":{\"outlinewidth\":0,\"ticks\":\"\"}}}],\"scatterpolargl\":[{\"type\":\"scatterpolargl\",\"marker\":{\"colorbar\":{\"outlinewidth\":0,\"ticks\":\"\"}}}],\"bar\":[{\"error_x\":{\"color\":\"#2a3f5f\"},\"error_y\":{\"color\":\"#2a3f5f\"},\"marker\":{\"line\":{\"color\":\"#E5ECF6\",\"width\":0.5},\"pattern\":{\"fillmode\":\"overlay\",\"size\":10,\"solidity\":0.2}},\"type\":\"bar\"}],\"scattergeo\":[{\"type\":\"scattergeo\",\"marker\":{\"colorbar\":{\"outlinewidth\":0,\"ticks\":\"\"}}}],\"scatterpolar\":[{\"type\":\"scatterpolar\",\"marker\":{\"colorbar\":{\"outlinewidth\":0,\"ticks\":\"\"}}}],\"histogram\":[{\"marker\":{\"pattern\":{\"fillmode\":\"overlay\",\"size\":10,\"solidity\":0.2}},\"type\":\"histogram\"}],\"scattergl\":[{\"type\":\"scattergl\",\"marker\":{\"colorbar\":{\"outlinewidth\":0,\"ticks\":\"\"}}}],\"scatter3d\":[{\"type\":\"scatter3d\",\"line\":{\"colorbar\":{\"outlinewidth\":0,\"ticks\":\"\"}},\"marker\":{\"colorbar\":{\"outlinewidth\":0,\"ticks\":\"\"}}}],\"scattermapbox\":[{\"type\":\"scattermapbox\",\"marker\":{\"colorbar\":{\"outlinewidth\":0,\"ticks\":\"\"}}}],\"scatterternary\":[{\"type\":\"scatterternary\",\"marker\":{\"colorbar\":{\"outlinewidth\":0,\"ticks\":\"\"}}}],\"scattercarpet\":[{\"type\":\"scattercarpet\",\"marker\":{\"colorbar\":{\"outlinewidth\":0,\"ticks\":\"\"}}}],\"carpet\":[{\"aaxis\":{\"endlinecolor\":\"#2a3f5f\",\"gridcolor\":\"white\",\"linecolor\":\"white\",\"minorgridcolor\":\"white\",\"startlinecolor\":\"#2a3f5f\"},\"baxis\":{\"endlinecolor\":\"#2a3f5f\",\"gridcolor\":\"white\",\"linecolor\":\"white\",\"minorgridcolor\":\"white\",\"startlinecolor\":\"#2a3f5f\"},\"type\":\"carpet\"}],\"table\":[{\"cells\":{\"fill\":{\"color\":\"#EBF0F8\"},\"line\":{\"color\":\"white\"}},\"header\":{\"fill\":{\"color\":\"#C8D4E3\"},\"line\":{\"color\":\"white\"}},\"type\":\"table\"}],\"barpolar\":[{\"marker\":{\"line\":{\"color\":\"#E5ECF6\",\"width\":0.5},\"pattern\":{\"fillmode\":\"overlay\",\"size\":10,\"solidity\":0.2}},\"type\":\"barpolar\"}],\"pie\":[{\"automargin\":true,\"type\":\"pie\"}]},\"layout\":{\"autotypenumbers\":\"strict\",\"colorway\":[\"#636efa\",\"#EF553B\",\"#00cc96\",\"#ab63fa\",\"#FFA15A\",\"#19d3f3\",\"#FF6692\",\"#B6E880\",\"#FF97FF\",\"#FECB52\"],\"font\":{\"color\":\"#2a3f5f\"},\"hovermode\":\"closest\",\"hoverlabel\":{\"align\":\"left\"},\"paper_bgcolor\":\"white\",\"plot_bgcolor\":\"#E5ECF6\",\"polar\":{\"bgcolor\":\"#E5ECF6\",\"angularaxis\":{\"gridcolor\":\"white\",\"linecolor\":\"white\",\"ticks\":\"\"},\"radialaxis\":{\"gridcolor\":\"white\",\"linecolor\":\"white\",\"ticks\":\"\"}},\"ternary\":{\"bgcolor\":\"#E5ECF6\",\"aaxis\":{\"gridcolor\":\"white\",\"linecolor\":\"white\",\"ticks\":\"\"},\"baxis\":{\"gridcolor\":\"white\",\"linecolor\":\"white\",\"ticks\":\"\"},\"caxis\":{\"gridcolor\":\"white\",\"linecolor\":\"white\",\"ticks\":\"\"}},\"coloraxis\":{\"colorbar\":{\"outlinewidth\":0,\"ticks\":\"\"}},\"colorscale\":{\"sequential\":[[0.0,\"#0d0887\"],[0.1111111111111111,\"#46039f\"],[0.2222222222222222,\"#7201a8\"],[0.3333333333333333,\"#9c179e\"],[0.4444444444444444,\"#bd3786\"],[0.5555555555555556,\"#d8576b\"],[0.6666666666666666,\"#ed7953\"],[0.7777777777777778,\"#fb9f3a\"],[0.8888888888888888,\"#fdca26\"],[1.0,\"#f0f921\"]],\"sequentialminus\":[[0.0,\"#0d0887\"],[0.1111111111111111,\"#46039f\"],[0.2222222222222222,\"#7201a8\"],[0.3333333333333333,\"#9c179e\"],[0.4444444444444444,\"#bd3786\"],[0.5555555555555556,\"#d8576b\"],[0.6666666666666666,\"#ed7953\"],[0.7777777777777778,\"#fb9f3a\"],[0.8888888888888888,\"#fdca26\"],[1.0,\"#f0f921\"]],\"diverging\":[[0,\"#8e0152\"],[0.1,\"#c51b7d\"],[0.2,\"#de77ae\"],[0.3,\"#f1b6da\"],[0.4,\"#fde0ef\"],[0.5,\"#f7f7f7\"],[0.6,\"#e6f5d0\"],[0.7,\"#b8e186\"],[0.8,\"#7fbc41\"],[0.9,\"#4d9221\"],[1,\"#276419\"]]},\"xaxis\":{\"gridcolor\":\"white\",\"linecolor\":\"white\",\"ticks\":\"\",\"title\":{\"standoff\":15},\"zerolinecolor\":\"white\",\"automargin\":true,\"zerolinewidth\":2},\"yaxis\":{\"gridcolor\":\"white\",\"linecolor\":\"white\",\"ticks\":\"\",\"title\":{\"standoff\":15},\"zerolinecolor\":\"white\",\"automargin\":true,\"zerolinewidth\":2},\"scene\":{\"xaxis\":{\"backgroundcolor\":\"#E5ECF6\",\"gridcolor\":\"white\",\"linecolor\":\"white\",\"showbackground\":true,\"ticks\":\"\",\"zerolinecolor\":\"white\",\"gridwidth\":2},\"yaxis\":{\"backgroundcolor\":\"#E5ECF6\",\"gridcolor\":\"white\",\"linecolor\":\"white\",\"showbackground\":true,\"ticks\":\"\",\"zerolinecolor\":\"white\",\"gridwidth\":2},\"zaxis\":{\"backgroundcolor\":\"#E5ECF6\",\"gridcolor\":\"white\",\"linecolor\":\"white\",\"showbackground\":true,\"ticks\":\"\",\"zerolinecolor\":\"white\",\"gridwidth\":2}},\"shapedefaults\":{\"line\":{\"color\":\"#2a3f5f\"}},\"annotationdefaults\":{\"arrowcolor\":\"#2a3f5f\",\"arrowhead\":0,\"arrowwidth\":1},\"geo\":{\"bgcolor\":\"white\",\"landcolor\":\"#E5ECF6\",\"subunitcolor\":\"white\",\"showland\":true,\"showlakes\":true,\"lakecolor\":\"white\"},\"title\":{\"x\":0.05},\"mapbox\":{\"style\":\"light\"}}},\"xaxis\":{\"anchor\":\"y\",\"domain\":[0.0,1.0],\"title\":{\"text\":\"time taken\"},\"type\":\"log\"},\"yaxis\":{\"anchor\":\"x\",\"domain\":[0.0,1.0],\"title\":{\"text\":\"filesize per chunk\"}},\"legend\":{\"title\":{\"text\":\"engine\"},\"tracegroupgap\":0},\"margin\":{\"t\":60},\"violinmode\":\"group\"},                        {\"responsive\": true}                    ).then(function(){\n",
       "                            \n",
       "var gd = document.getElementById('c102a0fa-7223-4462-a782-889b199b13d4');\n",
       "var x = new MutationObserver(function (mutations, observer) {{\n",
       "        var display = window.getComputedStyle(gd).display;\n",
       "        if (!display || display === 'none') {{\n",
       "            console.log([gd, 'removed!']);\n",
       "            Plotly.purge(gd);\n",
       "            observer.disconnect();\n",
       "        }}\n",
       "}});\n",
       "\n",
       "// Listen for the removal of the full notebook cells\n",
       "var notebookContainer = gd.closest('#notebook-container');\n",
       "if (notebookContainer) {{\n",
       "    x.observe(notebookContainer, {childList: true});\n",
       "}}\n",
       "\n",
       "// Listen for the clearing of the current output cell\n",
       "var outputEl = gd.closest('.output');\n",
       "if (outputEl) {{\n",
       "    x.observe(outputEl, {childList: true});\n",
       "}}\n",
       "\n",
       "                        })                };                });            </script>        </div>"
      ]
     },
     "metadata": {},
     "output_type": "display_data"
    },
    {
     "data": {
      "application/vnd.plotly.v1+json": {
       "config": {
        "plotlyServerURL": "https://plot.ly"
       },
       "data": [
        {
         "alignmentgroup": "True",
         "box": {
          "visible": false
         },
         "hovertemplate": "engine=zarr<br>time taken=%{x}<br>filesize per chunk=%{y}<extra></extra>",
         "legendgroup": "zarr",
         "marker": {
          "color": "#636efa"
         },
         "name": "zarr",
         "offsetgroup": "zarr",
         "orientation": "h",
         "scalegroup": "True",
         "showlegend": true,
         "type": "violin",
         "x": [
          0.341167112,
          0.346485843,
          0.337719557,
          0.326252441,
          0.317186783,
          0.32556866900000003,
          0.322510964,
          0.325034704,
          0.352799583,
          0.32193485600000005
         ],
         "x0": " ",
         "xaxis": "x",
         "y": [
          "32.0 MB",
          "32.0 MB",
          "32.0 MB",
          "32.0 MB",
          "32.0 MB",
          "32.0 MB",
          "32.0 MB",
          "32.0 MB",
          "32.0 MB",
          "32.0 MB"
         ],
         "y0": " ",
         "yaxis": "y"
        },
        {
         "alignmentgroup": "True",
         "box": {
          "visible": false
         },
         "hovertemplate": "engine=netcdf4<br>time taken=%{x}<br>filesize per chunk=%{y}<extra></extra>",
         "legendgroup": "netcdf4",
         "marker": {
          "color": "#EF553B"
         },
         "name": "netcdf4",
         "offsetgroup": "netcdf4",
         "orientation": "h",
         "scalegroup": "True",
         "showlegend": true,
         "type": "violin",
         "x": [
          0.30870316800000003,
          0.32929330700000004,
          0.30866935900000003,
          0.310044934,
          0.327120401,
          0.325595063,
          0.318164857,
          0.320311499,
          0.31708172300000004,
          0.31712259200000004
         ],
         "x0": " ",
         "xaxis": "x",
         "y": [
          "32.0 MB",
          "32.0 MB",
          "32.0 MB",
          "32.0 MB",
          "32.0 MB",
          "32.0 MB",
          "32.0 MB",
          "32.0 MB",
          "32.0 MB",
          "32.0 MB"
         ],
         "y0": " ",
         "yaxis": "y"
        },
        {
         "alignmentgroup": "True",
         "box": {
          "visible": false
         },
         "hovertemplate": "engine=hdf5<br>time taken=%{x}<br>filesize per chunk=%{y}<extra></extra>",
         "legendgroup": "hdf5",
         "marker": {
          "color": "#00cc96"
         },
         "name": "hdf5",
         "offsetgroup": "hdf5",
         "orientation": "h",
         "scalegroup": "True",
         "showlegend": true,
         "type": "violin",
         "x": [
          3.189988007,
          3.1049804930000002,
          3.1164612,
          3.267687763,
          3.174135172,
          3.071354912,
          3.069019151,
          3.082908319,
          3.0678748750000002,
          3.0879366089999998
         ],
         "x0": " ",
         "xaxis": "x",
         "y": [
          "32.0 MB",
          "32.0 MB",
          "32.0 MB",
          "32.0 MB",
          "32.0 MB",
          "32.0 MB",
          "32.0 MB",
          "32.0 MB",
          "32.0 MB",
          "32.0 MB"
         ],
         "y0": " ",
         "yaxis": "y"
        }
       ],
       "layout": {
        "legend": {
         "title": {
          "text": "engine"
         },
         "tracegroupgap": 0
        },
        "margin": {
         "t": 60
        },
        "template": {
         "data": {
          "bar": [
           {
            "error_x": {
             "color": "#2a3f5f"
            },
            "error_y": {
             "color": "#2a3f5f"
            },
            "marker": {
             "line": {
              "color": "#E5ECF6",
              "width": 0.5
             },
             "pattern": {
              "fillmode": "overlay",
              "size": 10,
              "solidity": 0.2
             }
            },
            "type": "bar"
           }
          ],
          "barpolar": [
           {
            "marker": {
             "line": {
              "color": "#E5ECF6",
              "width": 0.5
             },
             "pattern": {
              "fillmode": "overlay",
              "size": 10,
              "solidity": 0.2
             }
            },
            "type": "barpolar"
           }
          ],
          "carpet": [
           {
            "aaxis": {
             "endlinecolor": "#2a3f5f",
             "gridcolor": "white",
             "linecolor": "white",
             "minorgridcolor": "white",
             "startlinecolor": "#2a3f5f"
            },
            "baxis": {
             "endlinecolor": "#2a3f5f",
             "gridcolor": "white",
             "linecolor": "white",
             "minorgridcolor": "white",
             "startlinecolor": "#2a3f5f"
            },
            "type": "carpet"
           }
          ],
          "choropleth": [
           {
            "colorbar": {
             "outlinewidth": 0,
             "ticks": ""
            },
            "type": "choropleth"
           }
          ],
          "contour": [
           {
            "colorbar": {
             "outlinewidth": 0,
             "ticks": ""
            },
            "colorscale": [
             [
              0,
              "#0d0887"
             ],
             [
              0.1111111111111111,
              "#46039f"
             ],
             [
              0.2222222222222222,
              "#7201a8"
             ],
             [
              0.3333333333333333,
              "#9c179e"
             ],
             [
              0.4444444444444444,
              "#bd3786"
             ],
             [
              0.5555555555555556,
              "#d8576b"
             ],
             [
              0.6666666666666666,
              "#ed7953"
             ],
             [
              0.7777777777777778,
              "#fb9f3a"
             ],
             [
              0.8888888888888888,
              "#fdca26"
             ],
             [
              1,
              "#f0f921"
             ]
            ],
            "type": "contour"
           }
          ],
          "contourcarpet": [
           {
            "colorbar": {
             "outlinewidth": 0,
             "ticks": ""
            },
            "type": "contourcarpet"
           }
          ],
          "heatmap": [
           {
            "colorbar": {
             "outlinewidth": 0,
             "ticks": ""
            },
            "colorscale": [
             [
              0,
              "#0d0887"
             ],
             [
              0.1111111111111111,
              "#46039f"
             ],
             [
              0.2222222222222222,
              "#7201a8"
             ],
             [
              0.3333333333333333,
              "#9c179e"
             ],
             [
              0.4444444444444444,
              "#bd3786"
             ],
             [
              0.5555555555555556,
              "#d8576b"
             ],
             [
              0.6666666666666666,
              "#ed7953"
             ],
             [
              0.7777777777777778,
              "#fb9f3a"
             ],
             [
              0.8888888888888888,
              "#fdca26"
             ],
             [
              1,
              "#f0f921"
             ]
            ],
            "type": "heatmap"
           }
          ],
          "heatmapgl": [
           {
            "colorbar": {
             "outlinewidth": 0,
             "ticks": ""
            },
            "colorscale": [
             [
              0,
              "#0d0887"
             ],
             [
              0.1111111111111111,
              "#46039f"
             ],
             [
              0.2222222222222222,
              "#7201a8"
             ],
             [
              0.3333333333333333,
              "#9c179e"
             ],
             [
              0.4444444444444444,
              "#bd3786"
             ],
             [
              0.5555555555555556,
              "#d8576b"
             ],
             [
              0.6666666666666666,
              "#ed7953"
             ],
             [
              0.7777777777777778,
              "#fb9f3a"
             ],
             [
              0.8888888888888888,
              "#fdca26"
             ],
             [
              1,
              "#f0f921"
             ]
            ],
            "type": "heatmapgl"
           }
          ],
          "histogram": [
           {
            "marker": {
             "pattern": {
              "fillmode": "overlay",
              "size": 10,
              "solidity": 0.2
             }
            },
            "type": "histogram"
           }
          ],
          "histogram2d": [
           {
            "colorbar": {
             "outlinewidth": 0,
             "ticks": ""
            },
            "colorscale": [
             [
              0,
              "#0d0887"
             ],
             [
              0.1111111111111111,
              "#46039f"
             ],
             [
              0.2222222222222222,
              "#7201a8"
             ],
             [
              0.3333333333333333,
              "#9c179e"
             ],
             [
              0.4444444444444444,
              "#bd3786"
             ],
             [
              0.5555555555555556,
              "#d8576b"
             ],
             [
              0.6666666666666666,
              "#ed7953"
             ],
             [
              0.7777777777777778,
              "#fb9f3a"
             ],
             [
              0.8888888888888888,
              "#fdca26"
             ],
             [
              1,
              "#f0f921"
             ]
            ],
            "type": "histogram2d"
           }
          ],
          "histogram2dcontour": [
           {
            "colorbar": {
             "outlinewidth": 0,
             "ticks": ""
            },
            "colorscale": [
             [
              0,
              "#0d0887"
             ],
             [
              0.1111111111111111,
              "#46039f"
             ],
             [
              0.2222222222222222,
              "#7201a8"
             ],
             [
              0.3333333333333333,
              "#9c179e"
             ],
             [
              0.4444444444444444,
              "#bd3786"
             ],
             [
              0.5555555555555556,
              "#d8576b"
             ],
             [
              0.6666666666666666,
              "#ed7953"
             ],
             [
              0.7777777777777778,
              "#fb9f3a"
             ],
             [
              0.8888888888888888,
              "#fdca26"
             ],
             [
              1,
              "#f0f921"
             ]
            ],
            "type": "histogram2dcontour"
           }
          ],
          "mesh3d": [
           {
            "colorbar": {
             "outlinewidth": 0,
             "ticks": ""
            },
            "type": "mesh3d"
           }
          ],
          "parcoords": [
           {
            "line": {
             "colorbar": {
              "outlinewidth": 0,
              "ticks": ""
             }
            },
            "type": "parcoords"
           }
          ],
          "pie": [
           {
            "automargin": true,
            "type": "pie"
           }
          ],
          "scatter": [
           {
            "fillpattern": {
             "fillmode": "overlay",
             "size": 10,
             "solidity": 0.2
            },
            "type": "scatter"
           }
          ],
          "scatter3d": [
           {
            "line": {
             "colorbar": {
              "outlinewidth": 0,
              "ticks": ""
             }
            },
            "marker": {
             "colorbar": {
              "outlinewidth": 0,
              "ticks": ""
             }
            },
            "type": "scatter3d"
           }
          ],
          "scattercarpet": [
           {
            "marker": {
             "colorbar": {
              "outlinewidth": 0,
              "ticks": ""
             }
            },
            "type": "scattercarpet"
           }
          ],
          "scattergeo": [
           {
            "marker": {
             "colorbar": {
              "outlinewidth": 0,
              "ticks": ""
             }
            },
            "type": "scattergeo"
           }
          ],
          "scattergl": [
           {
            "marker": {
             "colorbar": {
              "outlinewidth": 0,
              "ticks": ""
             }
            },
            "type": "scattergl"
           }
          ],
          "scattermapbox": [
           {
            "marker": {
             "colorbar": {
              "outlinewidth": 0,
              "ticks": ""
             }
            },
            "type": "scattermapbox"
           }
          ],
          "scatterpolar": [
           {
            "marker": {
             "colorbar": {
              "outlinewidth": 0,
              "ticks": ""
             }
            },
            "type": "scatterpolar"
           }
          ],
          "scatterpolargl": [
           {
            "marker": {
             "colorbar": {
              "outlinewidth": 0,
              "ticks": ""
             }
            },
            "type": "scatterpolargl"
           }
          ],
          "scatterternary": [
           {
            "marker": {
             "colorbar": {
              "outlinewidth": 0,
              "ticks": ""
             }
            },
            "type": "scatterternary"
           }
          ],
          "surface": [
           {
            "colorbar": {
             "outlinewidth": 0,
             "ticks": ""
            },
            "colorscale": [
             [
              0,
              "#0d0887"
             ],
             [
              0.1111111111111111,
              "#46039f"
             ],
             [
              0.2222222222222222,
              "#7201a8"
             ],
             [
              0.3333333333333333,
              "#9c179e"
             ],
             [
              0.4444444444444444,
              "#bd3786"
             ],
             [
              0.5555555555555556,
              "#d8576b"
             ],
             [
              0.6666666666666666,
              "#ed7953"
             ],
             [
              0.7777777777777778,
              "#fb9f3a"
             ],
             [
              0.8888888888888888,
              "#fdca26"
             ],
             [
              1,
              "#f0f921"
             ]
            ],
            "type": "surface"
           }
          ],
          "table": [
           {
            "cells": {
             "fill": {
              "color": "#EBF0F8"
             },
             "line": {
              "color": "white"
             }
            },
            "header": {
             "fill": {
              "color": "#C8D4E3"
             },
             "line": {
              "color": "white"
             }
            },
            "type": "table"
           }
          ]
         },
         "layout": {
          "annotationdefaults": {
           "arrowcolor": "#2a3f5f",
           "arrowhead": 0,
           "arrowwidth": 1
          },
          "autotypenumbers": "strict",
          "coloraxis": {
           "colorbar": {
            "outlinewidth": 0,
            "ticks": ""
           }
          },
          "colorscale": {
           "diverging": [
            [
             0,
             "#8e0152"
            ],
            [
             0.1,
             "#c51b7d"
            ],
            [
             0.2,
             "#de77ae"
            ],
            [
             0.3,
             "#f1b6da"
            ],
            [
             0.4,
             "#fde0ef"
            ],
            [
             0.5,
             "#f7f7f7"
            ],
            [
             0.6,
             "#e6f5d0"
            ],
            [
             0.7,
             "#b8e186"
            ],
            [
             0.8,
             "#7fbc41"
            ],
            [
             0.9,
             "#4d9221"
            ],
            [
             1,
             "#276419"
            ]
           ],
           "sequential": [
            [
             0,
             "#0d0887"
            ],
            [
             0.1111111111111111,
             "#46039f"
            ],
            [
             0.2222222222222222,
             "#7201a8"
            ],
            [
             0.3333333333333333,
             "#9c179e"
            ],
            [
             0.4444444444444444,
             "#bd3786"
            ],
            [
             0.5555555555555556,
             "#d8576b"
            ],
            [
             0.6666666666666666,
             "#ed7953"
            ],
            [
             0.7777777777777778,
             "#fb9f3a"
            ],
            [
             0.8888888888888888,
             "#fdca26"
            ],
            [
             1,
             "#f0f921"
            ]
           ],
           "sequentialminus": [
            [
             0,
             "#0d0887"
            ],
            [
             0.1111111111111111,
             "#46039f"
            ],
            [
             0.2222222222222222,
             "#7201a8"
            ],
            [
             0.3333333333333333,
             "#9c179e"
            ],
            [
             0.4444444444444444,
             "#bd3786"
            ],
            [
             0.5555555555555556,
             "#d8576b"
            ],
            [
             0.6666666666666666,
             "#ed7953"
            ],
            [
             0.7777777777777778,
             "#fb9f3a"
            ],
            [
             0.8888888888888888,
             "#fdca26"
            ],
            [
             1,
             "#f0f921"
            ]
           ]
          },
          "colorway": [
           "#636efa",
           "#EF553B",
           "#00cc96",
           "#ab63fa",
           "#FFA15A",
           "#19d3f3",
           "#FF6692",
           "#B6E880",
           "#FF97FF",
           "#FECB52"
          ],
          "font": {
           "color": "#2a3f5f"
          },
          "geo": {
           "bgcolor": "white",
           "lakecolor": "white",
           "landcolor": "#E5ECF6",
           "showlakes": true,
           "showland": true,
           "subunitcolor": "white"
          },
          "hoverlabel": {
           "align": "left"
          },
          "hovermode": "closest",
          "mapbox": {
           "style": "light"
          },
          "paper_bgcolor": "white",
          "plot_bgcolor": "#E5ECF6",
          "polar": {
           "angularaxis": {
            "gridcolor": "white",
            "linecolor": "white",
            "ticks": ""
           },
           "bgcolor": "#E5ECF6",
           "radialaxis": {
            "gridcolor": "white",
            "linecolor": "white",
            "ticks": ""
           }
          },
          "scene": {
           "xaxis": {
            "backgroundcolor": "#E5ECF6",
            "gridcolor": "white",
            "gridwidth": 2,
            "linecolor": "white",
            "showbackground": true,
            "ticks": "",
            "zerolinecolor": "white"
           },
           "yaxis": {
            "backgroundcolor": "#E5ECF6",
            "gridcolor": "white",
            "gridwidth": 2,
            "linecolor": "white",
            "showbackground": true,
            "ticks": "",
            "zerolinecolor": "white"
           },
           "zaxis": {
            "backgroundcolor": "#E5ECF6",
            "gridcolor": "white",
            "gridwidth": 2,
            "linecolor": "white",
            "showbackground": true,
            "ticks": "",
            "zerolinecolor": "white"
           }
          },
          "shapedefaults": {
           "line": {
            "color": "#2a3f5f"
           }
          },
          "ternary": {
           "aaxis": {
            "gridcolor": "white",
            "linecolor": "white",
            "ticks": ""
           },
           "baxis": {
            "gridcolor": "white",
            "linecolor": "white",
            "ticks": ""
           },
           "bgcolor": "#E5ECF6",
           "caxis": {
            "gridcolor": "white",
            "linecolor": "white",
            "ticks": ""
           }
          },
          "title": {
           "x": 0.05
          },
          "xaxis": {
           "automargin": true,
           "gridcolor": "white",
           "linecolor": "white",
           "ticks": "",
           "title": {
            "standoff": 15
           },
           "zerolinecolor": "white",
           "zerolinewidth": 2
          },
          "yaxis": {
           "automargin": true,
           "gridcolor": "white",
           "linecolor": "white",
           "ticks": "",
           "title": {
            "standoff": 15
           },
           "zerolinecolor": "white",
           "zerolinewidth": 2
          }
         }
        },
        "violinmode": "group",
        "xaxis": {
         "anchor": "y",
         "domain": [
          0,
          1
         ],
         "title": {
          "text": "time taken"
         },
         "type": "log"
        },
        "yaxis": {
         "anchor": "x",
         "domain": [
          0,
          1
         ],
         "title": {
          "text": "filesize per chunk"
         }
        }
       }
      },
      "text/html": [
       "<div>                            <div id=\"916e78df-aacf-43f4-84cf-9769a114beb2\" class=\"plotly-graph-div\" style=\"height:525px; width:100%;\"></div>            <script type=\"text/javascript\">                require([\"plotly\"], function(Plotly) {                    window.PLOTLYENV=window.PLOTLYENV || {};                                    if (document.getElementById(\"916e78df-aacf-43f4-84cf-9769a114beb2\")) {                    Plotly.newPlot(                        \"916e78df-aacf-43f4-84cf-9769a114beb2\",                        [{\"alignmentgroup\":\"True\",\"box\":{\"visible\":false},\"hovertemplate\":\"engine=zarr\\u003cbr\\u003etime taken=%{x}\\u003cbr\\u003efilesize per chunk=%{y}\\u003cextra\\u003e\\u003c\\u002fextra\\u003e\",\"legendgroup\":\"zarr\",\"marker\":{\"color\":\"#636efa\"},\"name\":\"zarr\",\"offsetgroup\":\"zarr\",\"orientation\":\"h\",\"scalegroup\":\"True\",\"showlegend\":true,\"x\":[0.341167112,0.346485843,0.337719557,0.326252441,0.317186783,0.32556866900000003,0.322510964,0.325034704,0.352799583,0.32193485600000005],\"x0\":\" \",\"xaxis\":\"x\",\"y\":[\"32.0 MB\",\"32.0 MB\",\"32.0 MB\",\"32.0 MB\",\"32.0 MB\",\"32.0 MB\",\"32.0 MB\",\"32.0 MB\",\"32.0 MB\",\"32.0 MB\"],\"y0\":\" \",\"yaxis\":\"y\",\"type\":\"violin\"},{\"alignmentgroup\":\"True\",\"box\":{\"visible\":false},\"hovertemplate\":\"engine=netcdf4\\u003cbr\\u003etime taken=%{x}\\u003cbr\\u003efilesize per chunk=%{y}\\u003cextra\\u003e\\u003c\\u002fextra\\u003e\",\"legendgroup\":\"netcdf4\",\"marker\":{\"color\":\"#EF553B\"},\"name\":\"netcdf4\",\"offsetgroup\":\"netcdf4\",\"orientation\":\"h\",\"scalegroup\":\"True\",\"showlegend\":true,\"x\":[0.30870316800000003,0.32929330700000004,0.30866935900000003,0.310044934,0.327120401,0.325595063,0.318164857,0.320311499,0.31708172300000004,0.31712259200000004],\"x0\":\" \",\"xaxis\":\"x\",\"y\":[\"32.0 MB\",\"32.0 MB\",\"32.0 MB\",\"32.0 MB\",\"32.0 MB\",\"32.0 MB\",\"32.0 MB\",\"32.0 MB\",\"32.0 MB\",\"32.0 MB\"],\"y0\":\" \",\"yaxis\":\"y\",\"type\":\"violin\"},{\"alignmentgroup\":\"True\",\"box\":{\"visible\":false},\"hovertemplate\":\"engine=hdf5\\u003cbr\\u003etime taken=%{x}\\u003cbr\\u003efilesize per chunk=%{y}\\u003cextra\\u003e\\u003c\\u002fextra\\u003e\",\"legendgroup\":\"hdf5\",\"marker\":{\"color\":\"#00cc96\"},\"name\":\"hdf5\",\"offsetgroup\":\"hdf5\",\"orientation\":\"h\",\"scalegroup\":\"True\",\"showlegend\":true,\"x\":[3.189988007,3.1049804930000002,3.1164612,3.267687763,3.174135172,3.071354912,3.069019151,3.082908319,3.0678748750000002,3.0879366089999998],\"x0\":\" \",\"xaxis\":\"x\",\"y\":[\"32.0 MB\",\"32.0 MB\",\"32.0 MB\",\"32.0 MB\",\"32.0 MB\",\"32.0 MB\",\"32.0 MB\",\"32.0 MB\",\"32.0 MB\",\"32.0 MB\"],\"y0\":\" \",\"yaxis\":\"y\",\"type\":\"violin\"}],                        {\"template\":{\"data\":{\"histogram2dcontour\":[{\"type\":\"histogram2dcontour\",\"colorbar\":{\"outlinewidth\":0,\"ticks\":\"\"},\"colorscale\":[[0.0,\"#0d0887\"],[0.1111111111111111,\"#46039f\"],[0.2222222222222222,\"#7201a8\"],[0.3333333333333333,\"#9c179e\"],[0.4444444444444444,\"#bd3786\"],[0.5555555555555556,\"#d8576b\"],[0.6666666666666666,\"#ed7953\"],[0.7777777777777778,\"#fb9f3a\"],[0.8888888888888888,\"#fdca26\"],[1.0,\"#f0f921\"]]}],\"choropleth\":[{\"type\":\"choropleth\",\"colorbar\":{\"outlinewidth\":0,\"ticks\":\"\"}}],\"histogram2d\":[{\"type\":\"histogram2d\",\"colorbar\":{\"outlinewidth\":0,\"ticks\":\"\"},\"colorscale\":[[0.0,\"#0d0887\"],[0.1111111111111111,\"#46039f\"],[0.2222222222222222,\"#7201a8\"],[0.3333333333333333,\"#9c179e\"],[0.4444444444444444,\"#bd3786\"],[0.5555555555555556,\"#d8576b\"],[0.6666666666666666,\"#ed7953\"],[0.7777777777777778,\"#fb9f3a\"],[0.8888888888888888,\"#fdca26\"],[1.0,\"#f0f921\"]]}],\"heatmap\":[{\"type\":\"heatmap\",\"colorbar\":{\"outlinewidth\":0,\"ticks\":\"\"},\"colorscale\":[[0.0,\"#0d0887\"],[0.1111111111111111,\"#46039f\"],[0.2222222222222222,\"#7201a8\"],[0.3333333333333333,\"#9c179e\"],[0.4444444444444444,\"#bd3786\"],[0.5555555555555556,\"#d8576b\"],[0.6666666666666666,\"#ed7953\"],[0.7777777777777778,\"#fb9f3a\"],[0.8888888888888888,\"#fdca26\"],[1.0,\"#f0f921\"]]}],\"heatmapgl\":[{\"type\":\"heatmapgl\",\"colorbar\":{\"outlinewidth\":0,\"ticks\":\"\"},\"colorscale\":[[0.0,\"#0d0887\"],[0.1111111111111111,\"#46039f\"],[0.2222222222222222,\"#7201a8\"],[0.3333333333333333,\"#9c179e\"],[0.4444444444444444,\"#bd3786\"],[0.5555555555555556,\"#d8576b\"],[0.6666666666666666,\"#ed7953\"],[0.7777777777777778,\"#fb9f3a\"],[0.8888888888888888,\"#fdca26\"],[1.0,\"#f0f921\"]]}],\"contourcarpet\":[{\"type\":\"contourcarpet\",\"colorbar\":{\"outlinewidth\":0,\"ticks\":\"\"}}],\"contour\":[{\"type\":\"contour\",\"colorbar\":{\"outlinewidth\":0,\"ticks\":\"\"},\"colorscale\":[[0.0,\"#0d0887\"],[0.1111111111111111,\"#46039f\"],[0.2222222222222222,\"#7201a8\"],[0.3333333333333333,\"#9c179e\"],[0.4444444444444444,\"#bd3786\"],[0.5555555555555556,\"#d8576b\"],[0.6666666666666666,\"#ed7953\"],[0.7777777777777778,\"#fb9f3a\"],[0.8888888888888888,\"#fdca26\"],[1.0,\"#f0f921\"]]}],\"surface\":[{\"type\":\"surface\",\"colorbar\":{\"outlinewidth\":0,\"ticks\":\"\"},\"colorscale\":[[0.0,\"#0d0887\"],[0.1111111111111111,\"#46039f\"],[0.2222222222222222,\"#7201a8\"],[0.3333333333333333,\"#9c179e\"],[0.4444444444444444,\"#bd3786\"],[0.5555555555555556,\"#d8576b\"],[0.6666666666666666,\"#ed7953\"],[0.7777777777777778,\"#fb9f3a\"],[0.8888888888888888,\"#fdca26\"],[1.0,\"#f0f921\"]]}],\"mesh3d\":[{\"type\":\"mesh3d\",\"colorbar\":{\"outlinewidth\":0,\"ticks\":\"\"}}],\"scatter\":[{\"fillpattern\":{\"fillmode\":\"overlay\",\"size\":10,\"solidity\":0.2},\"type\":\"scatter\"}],\"parcoords\":[{\"type\":\"parcoords\",\"line\":{\"colorbar\":{\"outlinewidth\":0,\"ticks\":\"\"}}}],\"scatterpolargl\":[{\"type\":\"scatterpolargl\",\"marker\":{\"colorbar\":{\"outlinewidth\":0,\"ticks\":\"\"}}}],\"bar\":[{\"error_x\":{\"color\":\"#2a3f5f\"},\"error_y\":{\"color\":\"#2a3f5f\"},\"marker\":{\"line\":{\"color\":\"#E5ECF6\",\"width\":0.5},\"pattern\":{\"fillmode\":\"overlay\",\"size\":10,\"solidity\":0.2}},\"type\":\"bar\"}],\"scattergeo\":[{\"type\":\"scattergeo\",\"marker\":{\"colorbar\":{\"outlinewidth\":0,\"ticks\":\"\"}}}],\"scatterpolar\":[{\"type\":\"scatterpolar\",\"marker\":{\"colorbar\":{\"outlinewidth\":0,\"ticks\":\"\"}}}],\"histogram\":[{\"marker\":{\"pattern\":{\"fillmode\":\"overlay\",\"size\":10,\"solidity\":0.2}},\"type\":\"histogram\"}],\"scattergl\":[{\"type\":\"scattergl\",\"marker\":{\"colorbar\":{\"outlinewidth\":0,\"ticks\":\"\"}}}],\"scatter3d\":[{\"type\":\"scatter3d\",\"line\":{\"colorbar\":{\"outlinewidth\":0,\"ticks\":\"\"}},\"marker\":{\"colorbar\":{\"outlinewidth\":0,\"ticks\":\"\"}}}],\"scattermapbox\":[{\"type\":\"scattermapbox\",\"marker\":{\"colorbar\":{\"outlinewidth\":0,\"ticks\":\"\"}}}],\"scatterternary\":[{\"type\":\"scatterternary\",\"marker\":{\"colorbar\":{\"outlinewidth\":0,\"ticks\":\"\"}}}],\"scattercarpet\":[{\"type\":\"scattercarpet\",\"marker\":{\"colorbar\":{\"outlinewidth\":0,\"ticks\":\"\"}}}],\"carpet\":[{\"aaxis\":{\"endlinecolor\":\"#2a3f5f\",\"gridcolor\":\"white\",\"linecolor\":\"white\",\"minorgridcolor\":\"white\",\"startlinecolor\":\"#2a3f5f\"},\"baxis\":{\"endlinecolor\":\"#2a3f5f\",\"gridcolor\":\"white\",\"linecolor\":\"white\",\"minorgridcolor\":\"white\",\"startlinecolor\":\"#2a3f5f\"},\"type\":\"carpet\"}],\"table\":[{\"cells\":{\"fill\":{\"color\":\"#EBF0F8\"},\"line\":{\"color\":\"white\"}},\"header\":{\"fill\":{\"color\":\"#C8D4E3\"},\"line\":{\"color\":\"white\"}},\"type\":\"table\"}],\"barpolar\":[{\"marker\":{\"line\":{\"color\":\"#E5ECF6\",\"width\":0.5},\"pattern\":{\"fillmode\":\"overlay\",\"size\":10,\"solidity\":0.2}},\"type\":\"barpolar\"}],\"pie\":[{\"automargin\":true,\"type\":\"pie\"}]},\"layout\":{\"autotypenumbers\":\"strict\",\"colorway\":[\"#636efa\",\"#EF553B\",\"#00cc96\",\"#ab63fa\",\"#FFA15A\",\"#19d3f3\",\"#FF6692\",\"#B6E880\",\"#FF97FF\",\"#FECB52\"],\"font\":{\"color\":\"#2a3f5f\"},\"hovermode\":\"closest\",\"hoverlabel\":{\"align\":\"left\"},\"paper_bgcolor\":\"white\",\"plot_bgcolor\":\"#E5ECF6\",\"polar\":{\"bgcolor\":\"#E5ECF6\",\"angularaxis\":{\"gridcolor\":\"white\",\"linecolor\":\"white\",\"ticks\":\"\"},\"radialaxis\":{\"gridcolor\":\"white\",\"linecolor\":\"white\",\"ticks\":\"\"}},\"ternary\":{\"bgcolor\":\"#E5ECF6\",\"aaxis\":{\"gridcolor\":\"white\",\"linecolor\":\"white\",\"ticks\":\"\"},\"baxis\":{\"gridcolor\":\"white\",\"linecolor\":\"white\",\"ticks\":\"\"},\"caxis\":{\"gridcolor\":\"white\",\"linecolor\":\"white\",\"ticks\":\"\"}},\"coloraxis\":{\"colorbar\":{\"outlinewidth\":0,\"ticks\":\"\"}},\"colorscale\":{\"sequential\":[[0.0,\"#0d0887\"],[0.1111111111111111,\"#46039f\"],[0.2222222222222222,\"#7201a8\"],[0.3333333333333333,\"#9c179e\"],[0.4444444444444444,\"#bd3786\"],[0.5555555555555556,\"#d8576b\"],[0.6666666666666666,\"#ed7953\"],[0.7777777777777778,\"#fb9f3a\"],[0.8888888888888888,\"#fdca26\"],[1.0,\"#f0f921\"]],\"sequentialminus\":[[0.0,\"#0d0887\"],[0.1111111111111111,\"#46039f\"],[0.2222222222222222,\"#7201a8\"],[0.3333333333333333,\"#9c179e\"],[0.4444444444444444,\"#bd3786\"],[0.5555555555555556,\"#d8576b\"],[0.6666666666666666,\"#ed7953\"],[0.7777777777777778,\"#fb9f3a\"],[0.8888888888888888,\"#fdca26\"],[1.0,\"#f0f921\"]],\"diverging\":[[0,\"#8e0152\"],[0.1,\"#c51b7d\"],[0.2,\"#de77ae\"],[0.3,\"#f1b6da\"],[0.4,\"#fde0ef\"],[0.5,\"#f7f7f7\"],[0.6,\"#e6f5d0\"],[0.7,\"#b8e186\"],[0.8,\"#7fbc41\"],[0.9,\"#4d9221\"],[1,\"#276419\"]]},\"xaxis\":{\"gridcolor\":\"white\",\"linecolor\":\"white\",\"ticks\":\"\",\"title\":{\"standoff\":15},\"zerolinecolor\":\"white\",\"automargin\":true,\"zerolinewidth\":2},\"yaxis\":{\"gridcolor\":\"white\",\"linecolor\":\"white\",\"ticks\":\"\",\"title\":{\"standoff\":15},\"zerolinecolor\":\"white\",\"automargin\":true,\"zerolinewidth\":2},\"scene\":{\"xaxis\":{\"backgroundcolor\":\"#E5ECF6\",\"gridcolor\":\"white\",\"linecolor\":\"white\",\"showbackground\":true,\"ticks\":\"\",\"zerolinecolor\":\"white\",\"gridwidth\":2},\"yaxis\":{\"backgroundcolor\":\"#E5ECF6\",\"gridcolor\":\"white\",\"linecolor\":\"white\",\"showbackground\":true,\"ticks\":\"\",\"zerolinecolor\":\"white\",\"gridwidth\":2},\"zaxis\":{\"backgroundcolor\":\"#E5ECF6\",\"gridcolor\":\"white\",\"linecolor\":\"white\",\"showbackground\":true,\"ticks\":\"\",\"zerolinecolor\":\"white\",\"gridwidth\":2}},\"shapedefaults\":{\"line\":{\"color\":\"#2a3f5f\"}},\"annotationdefaults\":{\"arrowcolor\":\"#2a3f5f\",\"arrowhead\":0,\"arrowwidth\":1},\"geo\":{\"bgcolor\":\"white\",\"landcolor\":\"#E5ECF6\",\"subunitcolor\":\"white\",\"showland\":true,\"showlakes\":true,\"lakecolor\":\"white\"},\"title\":{\"x\":0.05},\"mapbox\":{\"style\":\"light\"}}},\"xaxis\":{\"anchor\":\"y\",\"domain\":[0.0,1.0],\"title\":{\"text\":\"time taken\"},\"type\":\"log\"},\"yaxis\":{\"anchor\":\"x\",\"domain\":[0.0,1.0],\"title\":{\"text\":\"filesize per chunk\"}},\"legend\":{\"title\":{\"text\":\"engine\"},\"tracegroupgap\":0},\"margin\":{\"t\":60},\"violinmode\":\"group\"},                        {\"responsive\": true}                    ).then(function(){\n",
       "                            \n",
       "var gd = document.getElementById('916e78df-aacf-43f4-84cf-9769a114beb2');\n",
       "var x = new MutationObserver(function (mutations, observer) {{\n",
       "        var display = window.getComputedStyle(gd).display;\n",
       "        if (!display || display === 'none') {{\n",
       "            console.log([gd, 'removed!']);\n",
       "            Plotly.purge(gd);\n",
       "            observer.disconnect();\n",
       "        }}\n",
       "}});\n",
       "\n",
       "// Listen for the removal of the full notebook cells\n",
       "var notebookContainer = gd.closest('#notebook-container');\n",
       "if (notebookContainer) {{\n",
       "    x.observe(notebookContainer, {childList: true});\n",
       "}}\n",
       "\n",
       "// Listen for the clearing of the current output cell\n",
       "var outputEl = gd.closest('.output');\n",
       "if (outputEl) {{\n",
       "    x.observe(outputEl, {childList: true});\n",
       "}}\n",
       "\n",
       "                        })                };                });            </script>        </div>"
      ]
     },
     "metadata": {},
     "output_type": "display_data"
    },
    {
     "data": {
      "application/vnd.plotly.v1+json": {
       "config": {
        "plotlyServerURL": "https://plot.ly"
       },
       "data": [
        {
         "alignmentgroup": "True",
         "box": {
          "visible": false
         },
         "hovertemplate": "engine=zarr<br>time taken=%{x}<br>filesize per chunk=%{y}<extra></extra>",
         "legendgroup": "zarr",
         "marker": {
          "color": "#636efa"
         },
         "name": "zarr",
         "offsetgroup": "zarr",
         "orientation": "h",
         "scalegroup": "True",
         "showlegend": true,
         "type": "violin",
         "x": [
          0.300894643,
          0.462857507,
          0.30194046700000005,
          0.299499148,
          0.30833920800000003,
          0.31830092,
          0.30179614600000004,
          0.309152392,
          0.31024292600000003,
          0.312736871
         ],
         "x0": " ",
         "xaxis": "x",
         "y": [
          "64.0 MB",
          "64.0 MB",
          "64.0 MB",
          "64.0 MB",
          "64.0 MB",
          "64.0 MB",
          "64.0 MB",
          "64.0 MB",
          "64.0 MB",
          "64.0 MB"
         ],
         "y0": " ",
         "yaxis": "y"
        },
        {
         "alignmentgroup": "True",
         "box": {
          "visible": false
         },
         "hovertemplate": "engine=netcdf4<br>time taken=%{x}<br>filesize per chunk=%{y}<extra></extra>",
         "legendgroup": "netcdf4",
         "marker": {
          "color": "#EF553B"
         },
         "name": "netcdf4",
         "offsetgroup": "netcdf4",
         "orientation": "h",
         "scalegroup": "True",
         "showlegend": true,
         "type": "violin",
         "x": [
          0.284299354,
          0.309089053,
          0.284274168,
          0.275440571,
          0.278493058,
          0.28027144400000004,
          0.30230928300000004,
          0.28593648800000004,
          0.28593570700000004,
          0.287834986
         ],
         "x0": " ",
         "xaxis": "x",
         "y": [
          "64.0 MB",
          "64.0 MB",
          "64.0 MB",
          "64.0 MB",
          "64.0 MB",
          "64.0 MB",
          "64.0 MB",
          "64.0 MB",
          "64.0 MB",
          "64.0 MB"
         ],
         "y0": " ",
         "yaxis": "y"
        },
        {
         "alignmentgroup": "True",
         "box": {
          "visible": false
         },
         "hovertemplate": "engine=hdf5<br>time taken=%{x}<br>filesize per chunk=%{y}<extra></extra>",
         "legendgroup": "hdf5",
         "marker": {
          "color": "#00cc96"
         },
         "name": "hdf5",
         "offsetgroup": "hdf5",
         "orientation": "h",
         "scalegroup": "True",
         "showlegend": true,
         "type": "violin",
         "x": [
          1.693819472,
          1.7279579260000002,
          1.693208435,
          1.688626962,
          1.6460844680000002,
          1.7795740150000001,
          1.612152327,
          1.602602136,
          1.6046489620000002,
          1.602822231
         ],
         "x0": " ",
         "xaxis": "x",
         "y": [
          "64.0 MB",
          "64.0 MB",
          "64.0 MB",
          "64.0 MB",
          "64.0 MB",
          "64.0 MB",
          "64.0 MB",
          "64.0 MB",
          "64.0 MB",
          "64.0 MB"
         ],
         "y0": " ",
         "yaxis": "y"
        }
       ],
       "layout": {
        "legend": {
         "title": {
          "text": "engine"
         },
         "tracegroupgap": 0
        },
        "margin": {
         "t": 60
        },
        "template": {
         "data": {
          "bar": [
           {
            "error_x": {
             "color": "#2a3f5f"
            },
            "error_y": {
             "color": "#2a3f5f"
            },
            "marker": {
             "line": {
              "color": "#E5ECF6",
              "width": 0.5
             },
             "pattern": {
              "fillmode": "overlay",
              "size": 10,
              "solidity": 0.2
             }
            },
            "type": "bar"
           }
          ],
          "barpolar": [
           {
            "marker": {
             "line": {
              "color": "#E5ECF6",
              "width": 0.5
             },
             "pattern": {
              "fillmode": "overlay",
              "size": 10,
              "solidity": 0.2
             }
            },
            "type": "barpolar"
           }
          ],
          "carpet": [
           {
            "aaxis": {
             "endlinecolor": "#2a3f5f",
             "gridcolor": "white",
             "linecolor": "white",
             "minorgridcolor": "white",
             "startlinecolor": "#2a3f5f"
            },
            "baxis": {
             "endlinecolor": "#2a3f5f",
             "gridcolor": "white",
             "linecolor": "white",
             "minorgridcolor": "white",
             "startlinecolor": "#2a3f5f"
            },
            "type": "carpet"
           }
          ],
          "choropleth": [
           {
            "colorbar": {
             "outlinewidth": 0,
             "ticks": ""
            },
            "type": "choropleth"
           }
          ],
          "contour": [
           {
            "colorbar": {
             "outlinewidth": 0,
             "ticks": ""
            },
            "colorscale": [
             [
              0,
              "#0d0887"
             ],
             [
              0.1111111111111111,
              "#46039f"
             ],
             [
              0.2222222222222222,
              "#7201a8"
             ],
             [
              0.3333333333333333,
              "#9c179e"
             ],
             [
              0.4444444444444444,
              "#bd3786"
             ],
             [
              0.5555555555555556,
              "#d8576b"
             ],
             [
              0.6666666666666666,
              "#ed7953"
             ],
             [
              0.7777777777777778,
              "#fb9f3a"
             ],
             [
              0.8888888888888888,
              "#fdca26"
             ],
             [
              1,
              "#f0f921"
             ]
            ],
            "type": "contour"
           }
          ],
          "contourcarpet": [
           {
            "colorbar": {
             "outlinewidth": 0,
             "ticks": ""
            },
            "type": "contourcarpet"
           }
          ],
          "heatmap": [
           {
            "colorbar": {
             "outlinewidth": 0,
             "ticks": ""
            },
            "colorscale": [
             [
              0,
              "#0d0887"
             ],
             [
              0.1111111111111111,
              "#46039f"
             ],
             [
              0.2222222222222222,
              "#7201a8"
             ],
             [
              0.3333333333333333,
              "#9c179e"
             ],
             [
              0.4444444444444444,
              "#bd3786"
             ],
             [
              0.5555555555555556,
              "#d8576b"
             ],
             [
              0.6666666666666666,
              "#ed7953"
             ],
             [
              0.7777777777777778,
              "#fb9f3a"
             ],
             [
              0.8888888888888888,
              "#fdca26"
             ],
             [
              1,
              "#f0f921"
             ]
            ],
            "type": "heatmap"
           }
          ],
          "heatmapgl": [
           {
            "colorbar": {
             "outlinewidth": 0,
             "ticks": ""
            },
            "colorscale": [
             [
              0,
              "#0d0887"
             ],
             [
              0.1111111111111111,
              "#46039f"
             ],
             [
              0.2222222222222222,
              "#7201a8"
             ],
             [
              0.3333333333333333,
              "#9c179e"
             ],
             [
              0.4444444444444444,
              "#bd3786"
             ],
             [
              0.5555555555555556,
              "#d8576b"
             ],
             [
              0.6666666666666666,
              "#ed7953"
             ],
             [
              0.7777777777777778,
              "#fb9f3a"
             ],
             [
              0.8888888888888888,
              "#fdca26"
             ],
             [
              1,
              "#f0f921"
             ]
            ],
            "type": "heatmapgl"
           }
          ],
          "histogram": [
           {
            "marker": {
             "pattern": {
              "fillmode": "overlay",
              "size": 10,
              "solidity": 0.2
             }
            },
            "type": "histogram"
           }
          ],
          "histogram2d": [
           {
            "colorbar": {
             "outlinewidth": 0,
             "ticks": ""
            },
            "colorscale": [
             [
              0,
              "#0d0887"
             ],
             [
              0.1111111111111111,
              "#46039f"
             ],
             [
              0.2222222222222222,
              "#7201a8"
             ],
             [
              0.3333333333333333,
              "#9c179e"
             ],
             [
              0.4444444444444444,
              "#bd3786"
             ],
             [
              0.5555555555555556,
              "#d8576b"
             ],
             [
              0.6666666666666666,
              "#ed7953"
             ],
             [
              0.7777777777777778,
              "#fb9f3a"
             ],
             [
              0.8888888888888888,
              "#fdca26"
             ],
             [
              1,
              "#f0f921"
             ]
            ],
            "type": "histogram2d"
           }
          ],
          "histogram2dcontour": [
           {
            "colorbar": {
             "outlinewidth": 0,
             "ticks": ""
            },
            "colorscale": [
             [
              0,
              "#0d0887"
             ],
             [
              0.1111111111111111,
              "#46039f"
             ],
             [
              0.2222222222222222,
              "#7201a8"
             ],
             [
              0.3333333333333333,
              "#9c179e"
             ],
             [
              0.4444444444444444,
              "#bd3786"
             ],
             [
              0.5555555555555556,
              "#d8576b"
             ],
             [
              0.6666666666666666,
              "#ed7953"
             ],
             [
              0.7777777777777778,
              "#fb9f3a"
             ],
             [
              0.8888888888888888,
              "#fdca26"
             ],
             [
              1,
              "#f0f921"
             ]
            ],
            "type": "histogram2dcontour"
           }
          ],
          "mesh3d": [
           {
            "colorbar": {
             "outlinewidth": 0,
             "ticks": ""
            },
            "type": "mesh3d"
           }
          ],
          "parcoords": [
           {
            "line": {
             "colorbar": {
              "outlinewidth": 0,
              "ticks": ""
             }
            },
            "type": "parcoords"
           }
          ],
          "pie": [
           {
            "automargin": true,
            "type": "pie"
           }
          ],
          "scatter": [
           {
            "fillpattern": {
             "fillmode": "overlay",
             "size": 10,
             "solidity": 0.2
            },
            "type": "scatter"
           }
          ],
          "scatter3d": [
           {
            "line": {
             "colorbar": {
              "outlinewidth": 0,
              "ticks": ""
             }
            },
            "marker": {
             "colorbar": {
              "outlinewidth": 0,
              "ticks": ""
             }
            },
            "type": "scatter3d"
           }
          ],
          "scattercarpet": [
           {
            "marker": {
             "colorbar": {
              "outlinewidth": 0,
              "ticks": ""
             }
            },
            "type": "scattercarpet"
           }
          ],
          "scattergeo": [
           {
            "marker": {
             "colorbar": {
              "outlinewidth": 0,
              "ticks": ""
             }
            },
            "type": "scattergeo"
           }
          ],
          "scattergl": [
           {
            "marker": {
             "colorbar": {
              "outlinewidth": 0,
              "ticks": ""
             }
            },
            "type": "scattergl"
           }
          ],
          "scattermapbox": [
           {
            "marker": {
             "colorbar": {
              "outlinewidth": 0,
              "ticks": ""
             }
            },
            "type": "scattermapbox"
           }
          ],
          "scatterpolar": [
           {
            "marker": {
             "colorbar": {
              "outlinewidth": 0,
              "ticks": ""
             }
            },
            "type": "scatterpolar"
           }
          ],
          "scatterpolargl": [
           {
            "marker": {
             "colorbar": {
              "outlinewidth": 0,
              "ticks": ""
             }
            },
            "type": "scatterpolargl"
           }
          ],
          "scatterternary": [
           {
            "marker": {
             "colorbar": {
              "outlinewidth": 0,
              "ticks": ""
             }
            },
            "type": "scatterternary"
           }
          ],
          "surface": [
           {
            "colorbar": {
             "outlinewidth": 0,
             "ticks": ""
            },
            "colorscale": [
             [
              0,
              "#0d0887"
             ],
             [
              0.1111111111111111,
              "#46039f"
             ],
             [
              0.2222222222222222,
              "#7201a8"
             ],
             [
              0.3333333333333333,
              "#9c179e"
             ],
             [
              0.4444444444444444,
              "#bd3786"
             ],
             [
              0.5555555555555556,
              "#d8576b"
             ],
             [
              0.6666666666666666,
              "#ed7953"
             ],
             [
              0.7777777777777778,
              "#fb9f3a"
             ],
             [
              0.8888888888888888,
              "#fdca26"
             ],
             [
              1,
              "#f0f921"
             ]
            ],
            "type": "surface"
           }
          ],
          "table": [
           {
            "cells": {
             "fill": {
              "color": "#EBF0F8"
             },
             "line": {
              "color": "white"
             }
            },
            "header": {
             "fill": {
              "color": "#C8D4E3"
             },
             "line": {
              "color": "white"
             }
            },
            "type": "table"
           }
          ]
         },
         "layout": {
          "annotationdefaults": {
           "arrowcolor": "#2a3f5f",
           "arrowhead": 0,
           "arrowwidth": 1
          },
          "autotypenumbers": "strict",
          "coloraxis": {
           "colorbar": {
            "outlinewidth": 0,
            "ticks": ""
           }
          },
          "colorscale": {
           "diverging": [
            [
             0,
             "#8e0152"
            ],
            [
             0.1,
             "#c51b7d"
            ],
            [
             0.2,
             "#de77ae"
            ],
            [
             0.3,
             "#f1b6da"
            ],
            [
             0.4,
             "#fde0ef"
            ],
            [
             0.5,
             "#f7f7f7"
            ],
            [
             0.6,
             "#e6f5d0"
            ],
            [
             0.7,
             "#b8e186"
            ],
            [
             0.8,
             "#7fbc41"
            ],
            [
             0.9,
             "#4d9221"
            ],
            [
             1,
             "#276419"
            ]
           ],
           "sequential": [
            [
             0,
             "#0d0887"
            ],
            [
             0.1111111111111111,
             "#46039f"
            ],
            [
             0.2222222222222222,
             "#7201a8"
            ],
            [
             0.3333333333333333,
             "#9c179e"
            ],
            [
             0.4444444444444444,
             "#bd3786"
            ],
            [
             0.5555555555555556,
             "#d8576b"
            ],
            [
             0.6666666666666666,
             "#ed7953"
            ],
            [
             0.7777777777777778,
             "#fb9f3a"
            ],
            [
             0.8888888888888888,
             "#fdca26"
            ],
            [
             1,
             "#f0f921"
            ]
           ],
           "sequentialminus": [
            [
             0,
             "#0d0887"
            ],
            [
             0.1111111111111111,
             "#46039f"
            ],
            [
             0.2222222222222222,
             "#7201a8"
            ],
            [
             0.3333333333333333,
             "#9c179e"
            ],
            [
             0.4444444444444444,
             "#bd3786"
            ],
            [
             0.5555555555555556,
             "#d8576b"
            ],
            [
             0.6666666666666666,
             "#ed7953"
            ],
            [
             0.7777777777777778,
             "#fb9f3a"
            ],
            [
             0.8888888888888888,
             "#fdca26"
            ],
            [
             1,
             "#f0f921"
            ]
           ]
          },
          "colorway": [
           "#636efa",
           "#EF553B",
           "#00cc96",
           "#ab63fa",
           "#FFA15A",
           "#19d3f3",
           "#FF6692",
           "#B6E880",
           "#FF97FF",
           "#FECB52"
          ],
          "font": {
           "color": "#2a3f5f"
          },
          "geo": {
           "bgcolor": "white",
           "lakecolor": "white",
           "landcolor": "#E5ECF6",
           "showlakes": true,
           "showland": true,
           "subunitcolor": "white"
          },
          "hoverlabel": {
           "align": "left"
          },
          "hovermode": "closest",
          "mapbox": {
           "style": "light"
          },
          "paper_bgcolor": "white",
          "plot_bgcolor": "#E5ECF6",
          "polar": {
           "angularaxis": {
            "gridcolor": "white",
            "linecolor": "white",
            "ticks": ""
           },
           "bgcolor": "#E5ECF6",
           "radialaxis": {
            "gridcolor": "white",
            "linecolor": "white",
            "ticks": ""
           }
          },
          "scene": {
           "xaxis": {
            "backgroundcolor": "#E5ECF6",
            "gridcolor": "white",
            "gridwidth": 2,
            "linecolor": "white",
            "showbackground": true,
            "ticks": "",
            "zerolinecolor": "white"
           },
           "yaxis": {
            "backgroundcolor": "#E5ECF6",
            "gridcolor": "white",
            "gridwidth": 2,
            "linecolor": "white",
            "showbackground": true,
            "ticks": "",
            "zerolinecolor": "white"
           },
           "zaxis": {
            "backgroundcolor": "#E5ECF6",
            "gridcolor": "white",
            "gridwidth": 2,
            "linecolor": "white",
            "showbackground": true,
            "ticks": "",
            "zerolinecolor": "white"
           }
          },
          "shapedefaults": {
           "line": {
            "color": "#2a3f5f"
           }
          },
          "ternary": {
           "aaxis": {
            "gridcolor": "white",
            "linecolor": "white",
            "ticks": ""
           },
           "baxis": {
            "gridcolor": "white",
            "linecolor": "white",
            "ticks": ""
           },
           "bgcolor": "#E5ECF6",
           "caxis": {
            "gridcolor": "white",
            "linecolor": "white",
            "ticks": ""
           }
          },
          "title": {
           "x": 0.05
          },
          "xaxis": {
           "automargin": true,
           "gridcolor": "white",
           "linecolor": "white",
           "ticks": "",
           "title": {
            "standoff": 15
           },
           "zerolinecolor": "white",
           "zerolinewidth": 2
          },
          "yaxis": {
           "automargin": true,
           "gridcolor": "white",
           "linecolor": "white",
           "ticks": "",
           "title": {
            "standoff": 15
           },
           "zerolinecolor": "white",
           "zerolinewidth": 2
          }
         }
        },
        "violinmode": "group",
        "xaxis": {
         "anchor": "y",
         "domain": [
          0,
          1
         ],
         "title": {
          "text": "time taken"
         },
         "type": "log"
        },
        "yaxis": {
         "anchor": "x",
         "domain": [
          0,
          1
         ],
         "title": {
          "text": "filesize per chunk"
         }
        }
       }
      },
      "text/html": [
       "<div>                            <div id=\"9589a1c9-1344-4adb-9198-451687b530e9\" class=\"plotly-graph-div\" style=\"height:525px; width:100%;\"></div>            <script type=\"text/javascript\">                require([\"plotly\"], function(Plotly) {                    window.PLOTLYENV=window.PLOTLYENV || {};                                    if (document.getElementById(\"9589a1c9-1344-4adb-9198-451687b530e9\")) {                    Plotly.newPlot(                        \"9589a1c9-1344-4adb-9198-451687b530e9\",                        [{\"alignmentgroup\":\"True\",\"box\":{\"visible\":false},\"hovertemplate\":\"engine=zarr\\u003cbr\\u003etime taken=%{x}\\u003cbr\\u003efilesize per chunk=%{y}\\u003cextra\\u003e\\u003c\\u002fextra\\u003e\",\"legendgroup\":\"zarr\",\"marker\":{\"color\":\"#636efa\"},\"name\":\"zarr\",\"offsetgroup\":\"zarr\",\"orientation\":\"h\",\"scalegroup\":\"True\",\"showlegend\":true,\"x\":[0.300894643,0.462857507,0.30194046700000005,0.299499148,0.30833920800000003,0.31830092,0.30179614600000004,0.309152392,0.31024292600000003,0.312736871],\"x0\":\" \",\"xaxis\":\"x\",\"y\":[\"64.0 MB\",\"64.0 MB\",\"64.0 MB\",\"64.0 MB\",\"64.0 MB\",\"64.0 MB\",\"64.0 MB\",\"64.0 MB\",\"64.0 MB\",\"64.0 MB\"],\"y0\":\" \",\"yaxis\":\"y\",\"type\":\"violin\"},{\"alignmentgroup\":\"True\",\"box\":{\"visible\":false},\"hovertemplate\":\"engine=netcdf4\\u003cbr\\u003etime taken=%{x}\\u003cbr\\u003efilesize per chunk=%{y}\\u003cextra\\u003e\\u003c\\u002fextra\\u003e\",\"legendgroup\":\"netcdf4\",\"marker\":{\"color\":\"#EF553B\"},\"name\":\"netcdf4\",\"offsetgroup\":\"netcdf4\",\"orientation\":\"h\",\"scalegroup\":\"True\",\"showlegend\":true,\"x\":[0.284299354,0.309089053,0.284274168,0.275440571,0.278493058,0.28027144400000004,0.30230928300000004,0.28593648800000004,0.28593570700000004,0.287834986],\"x0\":\" \",\"xaxis\":\"x\",\"y\":[\"64.0 MB\",\"64.0 MB\",\"64.0 MB\",\"64.0 MB\",\"64.0 MB\",\"64.0 MB\",\"64.0 MB\",\"64.0 MB\",\"64.0 MB\",\"64.0 MB\"],\"y0\":\" \",\"yaxis\":\"y\",\"type\":\"violin\"},{\"alignmentgroup\":\"True\",\"box\":{\"visible\":false},\"hovertemplate\":\"engine=hdf5\\u003cbr\\u003etime taken=%{x}\\u003cbr\\u003efilesize per chunk=%{y}\\u003cextra\\u003e\\u003c\\u002fextra\\u003e\",\"legendgroup\":\"hdf5\",\"marker\":{\"color\":\"#00cc96\"},\"name\":\"hdf5\",\"offsetgroup\":\"hdf5\",\"orientation\":\"h\",\"scalegroup\":\"True\",\"showlegend\":true,\"x\":[1.693819472,1.7279579260000002,1.693208435,1.688626962,1.6460844680000002,1.7795740150000001,1.612152327,1.602602136,1.6046489620000002,1.602822231],\"x0\":\" \",\"xaxis\":\"x\",\"y\":[\"64.0 MB\",\"64.0 MB\",\"64.0 MB\",\"64.0 MB\",\"64.0 MB\",\"64.0 MB\",\"64.0 MB\",\"64.0 MB\",\"64.0 MB\",\"64.0 MB\"],\"y0\":\" \",\"yaxis\":\"y\",\"type\":\"violin\"}],                        {\"template\":{\"data\":{\"histogram2dcontour\":[{\"type\":\"histogram2dcontour\",\"colorbar\":{\"outlinewidth\":0,\"ticks\":\"\"},\"colorscale\":[[0.0,\"#0d0887\"],[0.1111111111111111,\"#46039f\"],[0.2222222222222222,\"#7201a8\"],[0.3333333333333333,\"#9c179e\"],[0.4444444444444444,\"#bd3786\"],[0.5555555555555556,\"#d8576b\"],[0.6666666666666666,\"#ed7953\"],[0.7777777777777778,\"#fb9f3a\"],[0.8888888888888888,\"#fdca26\"],[1.0,\"#f0f921\"]]}],\"choropleth\":[{\"type\":\"choropleth\",\"colorbar\":{\"outlinewidth\":0,\"ticks\":\"\"}}],\"histogram2d\":[{\"type\":\"histogram2d\",\"colorbar\":{\"outlinewidth\":0,\"ticks\":\"\"},\"colorscale\":[[0.0,\"#0d0887\"],[0.1111111111111111,\"#46039f\"],[0.2222222222222222,\"#7201a8\"],[0.3333333333333333,\"#9c179e\"],[0.4444444444444444,\"#bd3786\"],[0.5555555555555556,\"#d8576b\"],[0.6666666666666666,\"#ed7953\"],[0.7777777777777778,\"#fb9f3a\"],[0.8888888888888888,\"#fdca26\"],[1.0,\"#f0f921\"]]}],\"heatmap\":[{\"type\":\"heatmap\",\"colorbar\":{\"outlinewidth\":0,\"ticks\":\"\"},\"colorscale\":[[0.0,\"#0d0887\"],[0.1111111111111111,\"#46039f\"],[0.2222222222222222,\"#7201a8\"],[0.3333333333333333,\"#9c179e\"],[0.4444444444444444,\"#bd3786\"],[0.5555555555555556,\"#d8576b\"],[0.6666666666666666,\"#ed7953\"],[0.7777777777777778,\"#fb9f3a\"],[0.8888888888888888,\"#fdca26\"],[1.0,\"#f0f921\"]]}],\"heatmapgl\":[{\"type\":\"heatmapgl\",\"colorbar\":{\"outlinewidth\":0,\"ticks\":\"\"},\"colorscale\":[[0.0,\"#0d0887\"],[0.1111111111111111,\"#46039f\"],[0.2222222222222222,\"#7201a8\"],[0.3333333333333333,\"#9c179e\"],[0.4444444444444444,\"#bd3786\"],[0.5555555555555556,\"#d8576b\"],[0.6666666666666666,\"#ed7953\"],[0.7777777777777778,\"#fb9f3a\"],[0.8888888888888888,\"#fdca26\"],[1.0,\"#f0f921\"]]}],\"contourcarpet\":[{\"type\":\"contourcarpet\",\"colorbar\":{\"outlinewidth\":0,\"ticks\":\"\"}}],\"contour\":[{\"type\":\"contour\",\"colorbar\":{\"outlinewidth\":0,\"ticks\":\"\"},\"colorscale\":[[0.0,\"#0d0887\"],[0.1111111111111111,\"#46039f\"],[0.2222222222222222,\"#7201a8\"],[0.3333333333333333,\"#9c179e\"],[0.4444444444444444,\"#bd3786\"],[0.5555555555555556,\"#d8576b\"],[0.6666666666666666,\"#ed7953\"],[0.7777777777777778,\"#fb9f3a\"],[0.8888888888888888,\"#fdca26\"],[1.0,\"#f0f921\"]]}],\"surface\":[{\"type\":\"surface\",\"colorbar\":{\"outlinewidth\":0,\"ticks\":\"\"},\"colorscale\":[[0.0,\"#0d0887\"],[0.1111111111111111,\"#46039f\"],[0.2222222222222222,\"#7201a8\"],[0.3333333333333333,\"#9c179e\"],[0.4444444444444444,\"#bd3786\"],[0.5555555555555556,\"#d8576b\"],[0.6666666666666666,\"#ed7953\"],[0.7777777777777778,\"#fb9f3a\"],[0.8888888888888888,\"#fdca26\"],[1.0,\"#f0f921\"]]}],\"mesh3d\":[{\"type\":\"mesh3d\",\"colorbar\":{\"outlinewidth\":0,\"ticks\":\"\"}}],\"scatter\":[{\"fillpattern\":{\"fillmode\":\"overlay\",\"size\":10,\"solidity\":0.2},\"type\":\"scatter\"}],\"parcoords\":[{\"type\":\"parcoords\",\"line\":{\"colorbar\":{\"outlinewidth\":0,\"ticks\":\"\"}}}],\"scatterpolargl\":[{\"type\":\"scatterpolargl\",\"marker\":{\"colorbar\":{\"outlinewidth\":0,\"ticks\":\"\"}}}],\"bar\":[{\"error_x\":{\"color\":\"#2a3f5f\"},\"error_y\":{\"color\":\"#2a3f5f\"},\"marker\":{\"line\":{\"color\":\"#E5ECF6\",\"width\":0.5},\"pattern\":{\"fillmode\":\"overlay\",\"size\":10,\"solidity\":0.2}},\"type\":\"bar\"}],\"scattergeo\":[{\"type\":\"scattergeo\",\"marker\":{\"colorbar\":{\"outlinewidth\":0,\"ticks\":\"\"}}}],\"scatterpolar\":[{\"type\":\"scatterpolar\",\"marker\":{\"colorbar\":{\"outlinewidth\":0,\"ticks\":\"\"}}}],\"histogram\":[{\"marker\":{\"pattern\":{\"fillmode\":\"overlay\",\"size\":10,\"solidity\":0.2}},\"type\":\"histogram\"}],\"scattergl\":[{\"type\":\"scattergl\",\"marker\":{\"colorbar\":{\"outlinewidth\":0,\"ticks\":\"\"}}}],\"scatter3d\":[{\"type\":\"scatter3d\",\"line\":{\"colorbar\":{\"outlinewidth\":0,\"ticks\":\"\"}},\"marker\":{\"colorbar\":{\"outlinewidth\":0,\"ticks\":\"\"}}}],\"scattermapbox\":[{\"type\":\"scattermapbox\",\"marker\":{\"colorbar\":{\"outlinewidth\":0,\"ticks\":\"\"}}}],\"scatterternary\":[{\"type\":\"scatterternary\",\"marker\":{\"colorbar\":{\"outlinewidth\":0,\"ticks\":\"\"}}}],\"scattercarpet\":[{\"type\":\"scattercarpet\",\"marker\":{\"colorbar\":{\"outlinewidth\":0,\"ticks\":\"\"}}}],\"carpet\":[{\"aaxis\":{\"endlinecolor\":\"#2a3f5f\",\"gridcolor\":\"white\",\"linecolor\":\"white\",\"minorgridcolor\":\"white\",\"startlinecolor\":\"#2a3f5f\"},\"baxis\":{\"endlinecolor\":\"#2a3f5f\",\"gridcolor\":\"white\",\"linecolor\":\"white\",\"minorgridcolor\":\"white\",\"startlinecolor\":\"#2a3f5f\"},\"type\":\"carpet\"}],\"table\":[{\"cells\":{\"fill\":{\"color\":\"#EBF0F8\"},\"line\":{\"color\":\"white\"}},\"header\":{\"fill\":{\"color\":\"#C8D4E3\"},\"line\":{\"color\":\"white\"}},\"type\":\"table\"}],\"barpolar\":[{\"marker\":{\"line\":{\"color\":\"#E5ECF6\",\"width\":0.5},\"pattern\":{\"fillmode\":\"overlay\",\"size\":10,\"solidity\":0.2}},\"type\":\"barpolar\"}],\"pie\":[{\"automargin\":true,\"type\":\"pie\"}]},\"layout\":{\"autotypenumbers\":\"strict\",\"colorway\":[\"#636efa\",\"#EF553B\",\"#00cc96\",\"#ab63fa\",\"#FFA15A\",\"#19d3f3\",\"#FF6692\",\"#B6E880\",\"#FF97FF\",\"#FECB52\"],\"font\":{\"color\":\"#2a3f5f\"},\"hovermode\":\"closest\",\"hoverlabel\":{\"align\":\"left\"},\"paper_bgcolor\":\"white\",\"plot_bgcolor\":\"#E5ECF6\",\"polar\":{\"bgcolor\":\"#E5ECF6\",\"angularaxis\":{\"gridcolor\":\"white\",\"linecolor\":\"white\",\"ticks\":\"\"},\"radialaxis\":{\"gridcolor\":\"white\",\"linecolor\":\"white\",\"ticks\":\"\"}},\"ternary\":{\"bgcolor\":\"#E5ECF6\",\"aaxis\":{\"gridcolor\":\"white\",\"linecolor\":\"white\",\"ticks\":\"\"},\"baxis\":{\"gridcolor\":\"white\",\"linecolor\":\"white\",\"ticks\":\"\"},\"caxis\":{\"gridcolor\":\"white\",\"linecolor\":\"white\",\"ticks\":\"\"}},\"coloraxis\":{\"colorbar\":{\"outlinewidth\":0,\"ticks\":\"\"}},\"colorscale\":{\"sequential\":[[0.0,\"#0d0887\"],[0.1111111111111111,\"#46039f\"],[0.2222222222222222,\"#7201a8\"],[0.3333333333333333,\"#9c179e\"],[0.4444444444444444,\"#bd3786\"],[0.5555555555555556,\"#d8576b\"],[0.6666666666666666,\"#ed7953\"],[0.7777777777777778,\"#fb9f3a\"],[0.8888888888888888,\"#fdca26\"],[1.0,\"#f0f921\"]],\"sequentialminus\":[[0.0,\"#0d0887\"],[0.1111111111111111,\"#46039f\"],[0.2222222222222222,\"#7201a8\"],[0.3333333333333333,\"#9c179e\"],[0.4444444444444444,\"#bd3786\"],[0.5555555555555556,\"#d8576b\"],[0.6666666666666666,\"#ed7953\"],[0.7777777777777778,\"#fb9f3a\"],[0.8888888888888888,\"#fdca26\"],[1.0,\"#f0f921\"]],\"diverging\":[[0,\"#8e0152\"],[0.1,\"#c51b7d\"],[0.2,\"#de77ae\"],[0.3,\"#f1b6da\"],[0.4,\"#fde0ef\"],[0.5,\"#f7f7f7\"],[0.6,\"#e6f5d0\"],[0.7,\"#b8e186\"],[0.8,\"#7fbc41\"],[0.9,\"#4d9221\"],[1,\"#276419\"]]},\"xaxis\":{\"gridcolor\":\"white\",\"linecolor\":\"white\",\"ticks\":\"\",\"title\":{\"standoff\":15},\"zerolinecolor\":\"white\",\"automargin\":true,\"zerolinewidth\":2},\"yaxis\":{\"gridcolor\":\"white\",\"linecolor\":\"white\",\"ticks\":\"\",\"title\":{\"standoff\":15},\"zerolinecolor\":\"white\",\"automargin\":true,\"zerolinewidth\":2},\"scene\":{\"xaxis\":{\"backgroundcolor\":\"#E5ECF6\",\"gridcolor\":\"white\",\"linecolor\":\"white\",\"showbackground\":true,\"ticks\":\"\",\"zerolinecolor\":\"white\",\"gridwidth\":2},\"yaxis\":{\"backgroundcolor\":\"#E5ECF6\",\"gridcolor\":\"white\",\"linecolor\":\"white\",\"showbackground\":true,\"ticks\":\"\",\"zerolinecolor\":\"white\",\"gridwidth\":2},\"zaxis\":{\"backgroundcolor\":\"#E5ECF6\",\"gridcolor\":\"white\",\"linecolor\":\"white\",\"showbackground\":true,\"ticks\":\"\",\"zerolinecolor\":\"white\",\"gridwidth\":2}},\"shapedefaults\":{\"line\":{\"color\":\"#2a3f5f\"}},\"annotationdefaults\":{\"arrowcolor\":\"#2a3f5f\",\"arrowhead\":0,\"arrowwidth\":1},\"geo\":{\"bgcolor\":\"white\",\"landcolor\":\"#E5ECF6\",\"subunitcolor\":\"white\",\"showland\":true,\"showlakes\":true,\"lakecolor\":\"white\"},\"title\":{\"x\":0.05},\"mapbox\":{\"style\":\"light\"}}},\"xaxis\":{\"anchor\":\"y\",\"domain\":[0.0,1.0],\"title\":{\"text\":\"time taken\"},\"type\":\"log\"},\"yaxis\":{\"anchor\":\"x\",\"domain\":[0.0,1.0],\"title\":{\"text\":\"filesize per chunk\"}},\"legend\":{\"title\":{\"text\":\"engine\"},\"tracegroupgap\":0},\"margin\":{\"t\":60},\"violinmode\":\"group\"},                        {\"responsive\": true}                    ).then(function(){\n",
       "                            \n",
       "var gd = document.getElementById('9589a1c9-1344-4adb-9198-451687b530e9');\n",
       "var x = new MutationObserver(function (mutations, observer) {{\n",
       "        var display = window.getComputedStyle(gd).display;\n",
       "        if (!display || display === 'none') {{\n",
       "            console.log([gd, 'removed!']);\n",
       "            Plotly.purge(gd);\n",
       "            observer.disconnect();\n",
       "        }}\n",
       "}});\n",
       "\n",
       "// Listen for the removal of the full notebook cells\n",
       "var notebookContainer = gd.closest('#notebook-container');\n",
       "if (notebookContainer) {{\n",
       "    x.observe(notebookContainer, {childList: true});\n",
       "}}\n",
       "\n",
       "// Listen for the clearing of the current output cell\n",
       "var outputEl = gd.closest('.output');\n",
       "if (outputEl) {{\n",
       "    x.observe(outputEl, {childList: true});\n",
       "}}\n",
       "\n",
       "                        })                };                });            </script>        </div>"
      ]
     },
     "metadata": {},
     "output_type": "display_data"
    },
    {
     "data": {
      "application/vnd.plotly.v1+json": {
       "config": {
        "plotlyServerURL": "https://plot.ly"
       },
       "data": [
        {
         "alignmentgroup": "True",
         "box": {
          "visible": false
         },
         "hovertemplate": "engine=zarr<br>time taken=%{x}<br>filesize per chunk=%{y}<extra></extra>",
         "legendgroup": "zarr",
         "marker": {
          "color": "#636efa"
         },
         "name": "zarr",
         "offsetgroup": "zarr",
         "orientation": "h",
         "scalegroup": "True",
         "showlegend": true,
         "type": "violin",
         "x": [
          0.302416801,
          0.269407463,
          0.268864951,
          0.27021970500000003,
          0.26755000300000004,
          0.27700697700000004,
          0.270246684,
          0.278290395,
          0.27775366700000004,
          0.289305542
         ],
         "x0": " ",
         "xaxis": "x",
         "y": [
          "128.0 MB",
          "128.0 MB",
          "128.0 MB",
          "128.0 MB",
          "128.0 MB",
          "128.0 MB",
          "128.0 MB",
          "128.0 MB",
          "128.0 MB",
          "128.0 MB"
         ],
         "y0": " ",
         "yaxis": "y"
        },
        {
         "alignmentgroup": "True",
         "box": {
          "visible": false
         },
         "hovertemplate": "engine=netcdf4<br>time taken=%{x}<br>filesize per chunk=%{y}<extra></extra>",
         "legendgroup": "netcdf4",
         "marker": {
          "color": "#EF553B"
         },
         "name": "netcdf4",
         "offsetgroup": "netcdf4",
         "orientation": "h",
         "scalegroup": "True",
         "showlegend": true,
         "type": "violin",
         "x": [
          0.8994026220000001,
          0.910529531,
          0.8986453980000001,
          0.8828881270000001,
          0.875781392,
          0.9091029700000001,
          0.8770661930000001,
          0.88689352,
          0.87807879,
          0.8827927480000001
         ],
         "x0": " ",
         "xaxis": "x",
         "y": [
          "128.0 MB",
          "128.0 MB",
          "128.0 MB",
          "128.0 MB",
          "128.0 MB",
          "128.0 MB",
          "128.0 MB",
          "128.0 MB",
          "128.0 MB",
          "128.0 MB"
         ],
         "y0": " ",
         "yaxis": "y"
        },
        {
         "alignmentgroup": "True",
         "box": {
          "visible": false
         },
         "hovertemplate": "engine=hdf5<br>time taken=%{x}<br>filesize per chunk=%{y}<extra></extra>",
         "legendgroup": "hdf5",
         "marker": {
          "color": "#00cc96"
         },
         "name": "hdf5",
         "offsetgroup": "hdf5",
         "orientation": "h",
         "scalegroup": "True",
         "showlegend": true,
         "type": "violin",
         "x": [
          0.853270268,
          0.9284074010000001,
          0.87903606,
          0.846973504,
          0.8496726480000001,
          0.881298659,
          0.848622796,
          0.8538614250000001,
          0.844450825,
          0.844812871
         ],
         "x0": " ",
         "xaxis": "x",
         "y": [
          "128.0 MB",
          "128.0 MB",
          "128.0 MB",
          "128.0 MB",
          "128.0 MB",
          "128.0 MB",
          "128.0 MB",
          "128.0 MB",
          "128.0 MB",
          "128.0 MB"
         ],
         "y0": " ",
         "yaxis": "y"
        }
       ],
       "layout": {
        "legend": {
         "title": {
          "text": "engine"
         },
         "tracegroupgap": 0
        },
        "margin": {
         "t": 60
        },
        "template": {
         "data": {
          "bar": [
           {
            "error_x": {
             "color": "#2a3f5f"
            },
            "error_y": {
             "color": "#2a3f5f"
            },
            "marker": {
             "line": {
              "color": "#E5ECF6",
              "width": 0.5
             },
             "pattern": {
              "fillmode": "overlay",
              "size": 10,
              "solidity": 0.2
             }
            },
            "type": "bar"
           }
          ],
          "barpolar": [
           {
            "marker": {
             "line": {
              "color": "#E5ECF6",
              "width": 0.5
             },
             "pattern": {
              "fillmode": "overlay",
              "size": 10,
              "solidity": 0.2
             }
            },
            "type": "barpolar"
           }
          ],
          "carpet": [
           {
            "aaxis": {
             "endlinecolor": "#2a3f5f",
             "gridcolor": "white",
             "linecolor": "white",
             "minorgridcolor": "white",
             "startlinecolor": "#2a3f5f"
            },
            "baxis": {
             "endlinecolor": "#2a3f5f",
             "gridcolor": "white",
             "linecolor": "white",
             "minorgridcolor": "white",
             "startlinecolor": "#2a3f5f"
            },
            "type": "carpet"
           }
          ],
          "choropleth": [
           {
            "colorbar": {
             "outlinewidth": 0,
             "ticks": ""
            },
            "type": "choropleth"
           }
          ],
          "contour": [
           {
            "colorbar": {
             "outlinewidth": 0,
             "ticks": ""
            },
            "colorscale": [
             [
              0,
              "#0d0887"
             ],
             [
              0.1111111111111111,
              "#46039f"
             ],
             [
              0.2222222222222222,
              "#7201a8"
             ],
             [
              0.3333333333333333,
              "#9c179e"
             ],
             [
              0.4444444444444444,
              "#bd3786"
             ],
             [
              0.5555555555555556,
              "#d8576b"
             ],
             [
              0.6666666666666666,
              "#ed7953"
             ],
             [
              0.7777777777777778,
              "#fb9f3a"
             ],
             [
              0.8888888888888888,
              "#fdca26"
             ],
             [
              1,
              "#f0f921"
             ]
            ],
            "type": "contour"
           }
          ],
          "contourcarpet": [
           {
            "colorbar": {
             "outlinewidth": 0,
             "ticks": ""
            },
            "type": "contourcarpet"
           }
          ],
          "heatmap": [
           {
            "colorbar": {
             "outlinewidth": 0,
             "ticks": ""
            },
            "colorscale": [
             [
              0,
              "#0d0887"
             ],
             [
              0.1111111111111111,
              "#46039f"
             ],
             [
              0.2222222222222222,
              "#7201a8"
             ],
             [
              0.3333333333333333,
              "#9c179e"
             ],
             [
              0.4444444444444444,
              "#bd3786"
             ],
             [
              0.5555555555555556,
              "#d8576b"
             ],
             [
              0.6666666666666666,
              "#ed7953"
             ],
             [
              0.7777777777777778,
              "#fb9f3a"
             ],
             [
              0.8888888888888888,
              "#fdca26"
             ],
             [
              1,
              "#f0f921"
             ]
            ],
            "type": "heatmap"
           }
          ],
          "heatmapgl": [
           {
            "colorbar": {
             "outlinewidth": 0,
             "ticks": ""
            },
            "colorscale": [
             [
              0,
              "#0d0887"
             ],
             [
              0.1111111111111111,
              "#46039f"
             ],
             [
              0.2222222222222222,
              "#7201a8"
             ],
             [
              0.3333333333333333,
              "#9c179e"
             ],
             [
              0.4444444444444444,
              "#bd3786"
             ],
             [
              0.5555555555555556,
              "#d8576b"
             ],
             [
              0.6666666666666666,
              "#ed7953"
             ],
             [
              0.7777777777777778,
              "#fb9f3a"
             ],
             [
              0.8888888888888888,
              "#fdca26"
             ],
             [
              1,
              "#f0f921"
             ]
            ],
            "type": "heatmapgl"
           }
          ],
          "histogram": [
           {
            "marker": {
             "pattern": {
              "fillmode": "overlay",
              "size": 10,
              "solidity": 0.2
             }
            },
            "type": "histogram"
           }
          ],
          "histogram2d": [
           {
            "colorbar": {
             "outlinewidth": 0,
             "ticks": ""
            },
            "colorscale": [
             [
              0,
              "#0d0887"
             ],
             [
              0.1111111111111111,
              "#46039f"
             ],
             [
              0.2222222222222222,
              "#7201a8"
             ],
             [
              0.3333333333333333,
              "#9c179e"
             ],
             [
              0.4444444444444444,
              "#bd3786"
             ],
             [
              0.5555555555555556,
              "#d8576b"
             ],
             [
              0.6666666666666666,
              "#ed7953"
             ],
             [
              0.7777777777777778,
              "#fb9f3a"
             ],
             [
              0.8888888888888888,
              "#fdca26"
             ],
             [
              1,
              "#f0f921"
             ]
            ],
            "type": "histogram2d"
           }
          ],
          "histogram2dcontour": [
           {
            "colorbar": {
             "outlinewidth": 0,
             "ticks": ""
            },
            "colorscale": [
             [
              0,
              "#0d0887"
             ],
             [
              0.1111111111111111,
              "#46039f"
             ],
             [
              0.2222222222222222,
              "#7201a8"
             ],
             [
              0.3333333333333333,
              "#9c179e"
             ],
             [
              0.4444444444444444,
              "#bd3786"
             ],
             [
              0.5555555555555556,
              "#d8576b"
             ],
             [
              0.6666666666666666,
              "#ed7953"
             ],
             [
              0.7777777777777778,
              "#fb9f3a"
             ],
             [
              0.8888888888888888,
              "#fdca26"
             ],
             [
              1,
              "#f0f921"
             ]
            ],
            "type": "histogram2dcontour"
           }
          ],
          "mesh3d": [
           {
            "colorbar": {
             "outlinewidth": 0,
             "ticks": ""
            },
            "type": "mesh3d"
           }
          ],
          "parcoords": [
           {
            "line": {
             "colorbar": {
              "outlinewidth": 0,
              "ticks": ""
             }
            },
            "type": "parcoords"
           }
          ],
          "pie": [
           {
            "automargin": true,
            "type": "pie"
           }
          ],
          "scatter": [
           {
            "fillpattern": {
             "fillmode": "overlay",
             "size": 10,
             "solidity": 0.2
            },
            "type": "scatter"
           }
          ],
          "scatter3d": [
           {
            "line": {
             "colorbar": {
              "outlinewidth": 0,
              "ticks": ""
             }
            },
            "marker": {
             "colorbar": {
              "outlinewidth": 0,
              "ticks": ""
             }
            },
            "type": "scatter3d"
           }
          ],
          "scattercarpet": [
           {
            "marker": {
             "colorbar": {
              "outlinewidth": 0,
              "ticks": ""
             }
            },
            "type": "scattercarpet"
           }
          ],
          "scattergeo": [
           {
            "marker": {
             "colorbar": {
              "outlinewidth": 0,
              "ticks": ""
             }
            },
            "type": "scattergeo"
           }
          ],
          "scattergl": [
           {
            "marker": {
             "colorbar": {
              "outlinewidth": 0,
              "ticks": ""
             }
            },
            "type": "scattergl"
           }
          ],
          "scattermapbox": [
           {
            "marker": {
             "colorbar": {
              "outlinewidth": 0,
              "ticks": ""
             }
            },
            "type": "scattermapbox"
           }
          ],
          "scatterpolar": [
           {
            "marker": {
             "colorbar": {
              "outlinewidth": 0,
              "ticks": ""
             }
            },
            "type": "scatterpolar"
           }
          ],
          "scatterpolargl": [
           {
            "marker": {
             "colorbar": {
              "outlinewidth": 0,
              "ticks": ""
             }
            },
            "type": "scatterpolargl"
           }
          ],
          "scatterternary": [
           {
            "marker": {
             "colorbar": {
              "outlinewidth": 0,
              "ticks": ""
             }
            },
            "type": "scatterternary"
           }
          ],
          "surface": [
           {
            "colorbar": {
             "outlinewidth": 0,
             "ticks": ""
            },
            "colorscale": [
             [
              0,
              "#0d0887"
             ],
             [
              0.1111111111111111,
              "#46039f"
             ],
             [
              0.2222222222222222,
              "#7201a8"
             ],
             [
              0.3333333333333333,
              "#9c179e"
             ],
             [
              0.4444444444444444,
              "#bd3786"
             ],
             [
              0.5555555555555556,
              "#d8576b"
             ],
             [
              0.6666666666666666,
              "#ed7953"
             ],
             [
              0.7777777777777778,
              "#fb9f3a"
             ],
             [
              0.8888888888888888,
              "#fdca26"
             ],
             [
              1,
              "#f0f921"
             ]
            ],
            "type": "surface"
           }
          ],
          "table": [
           {
            "cells": {
             "fill": {
              "color": "#EBF0F8"
             },
             "line": {
              "color": "white"
             }
            },
            "header": {
             "fill": {
              "color": "#C8D4E3"
             },
             "line": {
              "color": "white"
             }
            },
            "type": "table"
           }
          ]
         },
         "layout": {
          "annotationdefaults": {
           "arrowcolor": "#2a3f5f",
           "arrowhead": 0,
           "arrowwidth": 1
          },
          "autotypenumbers": "strict",
          "coloraxis": {
           "colorbar": {
            "outlinewidth": 0,
            "ticks": ""
           }
          },
          "colorscale": {
           "diverging": [
            [
             0,
             "#8e0152"
            ],
            [
             0.1,
             "#c51b7d"
            ],
            [
             0.2,
             "#de77ae"
            ],
            [
             0.3,
             "#f1b6da"
            ],
            [
             0.4,
             "#fde0ef"
            ],
            [
             0.5,
             "#f7f7f7"
            ],
            [
             0.6,
             "#e6f5d0"
            ],
            [
             0.7,
             "#b8e186"
            ],
            [
             0.8,
             "#7fbc41"
            ],
            [
             0.9,
             "#4d9221"
            ],
            [
             1,
             "#276419"
            ]
           ],
           "sequential": [
            [
             0,
             "#0d0887"
            ],
            [
             0.1111111111111111,
             "#46039f"
            ],
            [
             0.2222222222222222,
             "#7201a8"
            ],
            [
             0.3333333333333333,
             "#9c179e"
            ],
            [
             0.4444444444444444,
             "#bd3786"
            ],
            [
             0.5555555555555556,
             "#d8576b"
            ],
            [
             0.6666666666666666,
             "#ed7953"
            ],
            [
             0.7777777777777778,
             "#fb9f3a"
            ],
            [
             0.8888888888888888,
             "#fdca26"
            ],
            [
             1,
             "#f0f921"
            ]
           ],
           "sequentialminus": [
            [
             0,
             "#0d0887"
            ],
            [
             0.1111111111111111,
             "#46039f"
            ],
            [
             0.2222222222222222,
             "#7201a8"
            ],
            [
             0.3333333333333333,
             "#9c179e"
            ],
            [
             0.4444444444444444,
             "#bd3786"
            ],
            [
             0.5555555555555556,
             "#d8576b"
            ],
            [
             0.6666666666666666,
             "#ed7953"
            ],
            [
             0.7777777777777778,
             "#fb9f3a"
            ],
            [
             0.8888888888888888,
             "#fdca26"
            ],
            [
             1,
             "#f0f921"
            ]
           ]
          },
          "colorway": [
           "#636efa",
           "#EF553B",
           "#00cc96",
           "#ab63fa",
           "#FFA15A",
           "#19d3f3",
           "#FF6692",
           "#B6E880",
           "#FF97FF",
           "#FECB52"
          ],
          "font": {
           "color": "#2a3f5f"
          },
          "geo": {
           "bgcolor": "white",
           "lakecolor": "white",
           "landcolor": "#E5ECF6",
           "showlakes": true,
           "showland": true,
           "subunitcolor": "white"
          },
          "hoverlabel": {
           "align": "left"
          },
          "hovermode": "closest",
          "mapbox": {
           "style": "light"
          },
          "paper_bgcolor": "white",
          "plot_bgcolor": "#E5ECF6",
          "polar": {
           "angularaxis": {
            "gridcolor": "white",
            "linecolor": "white",
            "ticks": ""
           },
           "bgcolor": "#E5ECF6",
           "radialaxis": {
            "gridcolor": "white",
            "linecolor": "white",
            "ticks": ""
           }
          },
          "scene": {
           "xaxis": {
            "backgroundcolor": "#E5ECF6",
            "gridcolor": "white",
            "gridwidth": 2,
            "linecolor": "white",
            "showbackground": true,
            "ticks": "",
            "zerolinecolor": "white"
           },
           "yaxis": {
            "backgroundcolor": "#E5ECF6",
            "gridcolor": "white",
            "gridwidth": 2,
            "linecolor": "white",
            "showbackground": true,
            "ticks": "",
            "zerolinecolor": "white"
           },
           "zaxis": {
            "backgroundcolor": "#E5ECF6",
            "gridcolor": "white",
            "gridwidth": 2,
            "linecolor": "white",
            "showbackground": true,
            "ticks": "",
            "zerolinecolor": "white"
           }
          },
          "shapedefaults": {
           "line": {
            "color": "#2a3f5f"
           }
          },
          "ternary": {
           "aaxis": {
            "gridcolor": "white",
            "linecolor": "white",
            "ticks": ""
           },
           "baxis": {
            "gridcolor": "white",
            "linecolor": "white",
            "ticks": ""
           },
           "bgcolor": "#E5ECF6",
           "caxis": {
            "gridcolor": "white",
            "linecolor": "white",
            "ticks": ""
           }
          },
          "title": {
           "x": 0.05
          },
          "xaxis": {
           "automargin": true,
           "gridcolor": "white",
           "linecolor": "white",
           "ticks": "",
           "title": {
            "standoff": 15
           },
           "zerolinecolor": "white",
           "zerolinewidth": 2
          },
          "yaxis": {
           "automargin": true,
           "gridcolor": "white",
           "linecolor": "white",
           "ticks": "",
           "title": {
            "standoff": 15
           },
           "zerolinecolor": "white",
           "zerolinewidth": 2
          }
         }
        },
        "violinmode": "group",
        "xaxis": {
         "anchor": "y",
         "domain": [
          0,
          1
         ],
         "title": {
          "text": "time taken"
         },
         "type": "log"
        },
        "yaxis": {
         "anchor": "x",
         "domain": [
          0,
          1
         ],
         "title": {
          "text": "filesize per chunk"
         }
        }
       }
      },
      "text/html": [
       "<div>                            <div id=\"e0db58ba-34ff-4224-8e88-905eb26f0851\" class=\"plotly-graph-div\" style=\"height:525px; width:100%;\"></div>            <script type=\"text/javascript\">                require([\"plotly\"], function(Plotly) {                    window.PLOTLYENV=window.PLOTLYENV || {};                                    if (document.getElementById(\"e0db58ba-34ff-4224-8e88-905eb26f0851\")) {                    Plotly.newPlot(                        \"e0db58ba-34ff-4224-8e88-905eb26f0851\",                        [{\"alignmentgroup\":\"True\",\"box\":{\"visible\":false},\"hovertemplate\":\"engine=zarr\\u003cbr\\u003etime taken=%{x}\\u003cbr\\u003efilesize per chunk=%{y}\\u003cextra\\u003e\\u003c\\u002fextra\\u003e\",\"legendgroup\":\"zarr\",\"marker\":{\"color\":\"#636efa\"},\"name\":\"zarr\",\"offsetgroup\":\"zarr\",\"orientation\":\"h\",\"scalegroup\":\"True\",\"showlegend\":true,\"x\":[0.302416801,0.269407463,0.268864951,0.27021970500000003,0.26755000300000004,0.27700697700000004,0.270246684,0.278290395,0.27775366700000004,0.289305542],\"x0\":\" \",\"xaxis\":\"x\",\"y\":[\"128.0 MB\",\"128.0 MB\",\"128.0 MB\",\"128.0 MB\",\"128.0 MB\",\"128.0 MB\",\"128.0 MB\",\"128.0 MB\",\"128.0 MB\",\"128.0 MB\"],\"y0\":\" \",\"yaxis\":\"y\",\"type\":\"violin\"},{\"alignmentgroup\":\"True\",\"box\":{\"visible\":false},\"hovertemplate\":\"engine=netcdf4\\u003cbr\\u003etime taken=%{x}\\u003cbr\\u003efilesize per chunk=%{y}\\u003cextra\\u003e\\u003c\\u002fextra\\u003e\",\"legendgroup\":\"netcdf4\",\"marker\":{\"color\":\"#EF553B\"},\"name\":\"netcdf4\",\"offsetgroup\":\"netcdf4\",\"orientation\":\"h\",\"scalegroup\":\"True\",\"showlegend\":true,\"x\":[0.8994026220000001,0.910529531,0.8986453980000001,0.8828881270000001,0.875781392,0.9091029700000001,0.8770661930000001,0.88689352,0.87807879,0.8827927480000001],\"x0\":\" \",\"xaxis\":\"x\",\"y\":[\"128.0 MB\",\"128.0 MB\",\"128.0 MB\",\"128.0 MB\",\"128.0 MB\",\"128.0 MB\",\"128.0 MB\",\"128.0 MB\",\"128.0 MB\",\"128.0 MB\"],\"y0\":\" \",\"yaxis\":\"y\",\"type\":\"violin\"},{\"alignmentgroup\":\"True\",\"box\":{\"visible\":false},\"hovertemplate\":\"engine=hdf5\\u003cbr\\u003etime taken=%{x}\\u003cbr\\u003efilesize per chunk=%{y}\\u003cextra\\u003e\\u003c\\u002fextra\\u003e\",\"legendgroup\":\"hdf5\",\"marker\":{\"color\":\"#00cc96\"},\"name\":\"hdf5\",\"offsetgroup\":\"hdf5\",\"orientation\":\"h\",\"scalegroup\":\"True\",\"showlegend\":true,\"x\":[0.853270268,0.9284074010000001,0.87903606,0.846973504,0.8496726480000001,0.881298659,0.848622796,0.8538614250000001,0.844450825,0.844812871],\"x0\":\" \",\"xaxis\":\"x\",\"y\":[\"128.0 MB\",\"128.0 MB\",\"128.0 MB\",\"128.0 MB\",\"128.0 MB\",\"128.0 MB\",\"128.0 MB\",\"128.0 MB\",\"128.0 MB\",\"128.0 MB\"],\"y0\":\" \",\"yaxis\":\"y\",\"type\":\"violin\"}],                        {\"template\":{\"data\":{\"histogram2dcontour\":[{\"type\":\"histogram2dcontour\",\"colorbar\":{\"outlinewidth\":0,\"ticks\":\"\"},\"colorscale\":[[0.0,\"#0d0887\"],[0.1111111111111111,\"#46039f\"],[0.2222222222222222,\"#7201a8\"],[0.3333333333333333,\"#9c179e\"],[0.4444444444444444,\"#bd3786\"],[0.5555555555555556,\"#d8576b\"],[0.6666666666666666,\"#ed7953\"],[0.7777777777777778,\"#fb9f3a\"],[0.8888888888888888,\"#fdca26\"],[1.0,\"#f0f921\"]]}],\"choropleth\":[{\"type\":\"choropleth\",\"colorbar\":{\"outlinewidth\":0,\"ticks\":\"\"}}],\"histogram2d\":[{\"type\":\"histogram2d\",\"colorbar\":{\"outlinewidth\":0,\"ticks\":\"\"},\"colorscale\":[[0.0,\"#0d0887\"],[0.1111111111111111,\"#46039f\"],[0.2222222222222222,\"#7201a8\"],[0.3333333333333333,\"#9c179e\"],[0.4444444444444444,\"#bd3786\"],[0.5555555555555556,\"#d8576b\"],[0.6666666666666666,\"#ed7953\"],[0.7777777777777778,\"#fb9f3a\"],[0.8888888888888888,\"#fdca26\"],[1.0,\"#f0f921\"]]}],\"heatmap\":[{\"type\":\"heatmap\",\"colorbar\":{\"outlinewidth\":0,\"ticks\":\"\"},\"colorscale\":[[0.0,\"#0d0887\"],[0.1111111111111111,\"#46039f\"],[0.2222222222222222,\"#7201a8\"],[0.3333333333333333,\"#9c179e\"],[0.4444444444444444,\"#bd3786\"],[0.5555555555555556,\"#d8576b\"],[0.6666666666666666,\"#ed7953\"],[0.7777777777777778,\"#fb9f3a\"],[0.8888888888888888,\"#fdca26\"],[1.0,\"#f0f921\"]]}],\"heatmapgl\":[{\"type\":\"heatmapgl\",\"colorbar\":{\"outlinewidth\":0,\"ticks\":\"\"},\"colorscale\":[[0.0,\"#0d0887\"],[0.1111111111111111,\"#46039f\"],[0.2222222222222222,\"#7201a8\"],[0.3333333333333333,\"#9c179e\"],[0.4444444444444444,\"#bd3786\"],[0.5555555555555556,\"#d8576b\"],[0.6666666666666666,\"#ed7953\"],[0.7777777777777778,\"#fb9f3a\"],[0.8888888888888888,\"#fdca26\"],[1.0,\"#f0f921\"]]}],\"contourcarpet\":[{\"type\":\"contourcarpet\",\"colorbar\":{\"outlinewidth\":0,\"ticks\":\"\"}}],\"contour\":[{\"type\":\"contour\",\"colorbar\":{\"outlinewidth\":0,\"ticks\":\"\"},\"colorscale\":[[0.0,\"#0d0887\"],[0.1111111111111111,\"#46039f\"],[0.2222222222222222,\"#7201a8\"],[0.3333333333333333,\"#9c179e\"],[0.4444444444444444,\"#bd3786\"],[0.5555555555555556,\"#d8576b\"],[0.6666666666666666,\"#ed7953\"],[0.7777777777777778,\"#fb9f3a\"],[0.8888888888888888,\"#fdca26\"],[1.0,\"#f0f921\"]]}],\"surface\":[{\"type\":\"surface\",\"colorbar\":{\"outlinewidth\":0,\"ticks\":\"\"},\"colorscale\":[[0.0,\"#0d0887\"],[0.1111111111111111,\"#46039f\"],[0.2222222222222222,\"#7201a8\"],[0.3333333333333333,\"#9c179e\"],[0.4444444444444444,\"#bd3786\"],[0.5555555555555556,\"#d8576b\"],[0.6666666666666666,\"#ed7953\"],[0.7777777777777778,\"#fb9f3a\"],[0.8888888888888888,\"#fdca26\"],[1.0,\"#f0f921\"]]}],\"mesh3d\":[{\"type\":\"mesh3d\",\"colorbar\":{\"outlinewidth\":0,\"ticks\":\"\"}}],\"scatter\":[{\"fillpattern\":{\"fillmode\":\"overlay\",\"size\":10,\"solidity\":0.2},\"type\":\"scatter\"}],\"parcoords\":[{\"type\":\"parcoords\",\"line\":{\"colorbar\":{\"outlinewidth\":0,\"ticks\":\"\"}}}],\"scatterpolargl\":[{\"type\":\"scatterpolargl\",\"marker\":{\"colorbar\":{\"outlinewidth\":0,\"ticks\":\"\"}}}],\"bar\":[{\"error_x\":{\"color\":\"#2a3f5f\"},\"error_y\":{\"color\":\"#2a3f5f\"},\"marker\":{\"line\":{\"color\":\"#E5ECF6\",\"width\":0.5},\"pattern\":{\"fillmode\":\"overlay\",\"size\":10,\"solidity\":0.2}},\"type\":\"bar\"}],\"scattergeo\":[{\"type\":\"scattergeo\",\"marker\":{\"colorbar\":{\"outlinewidth\":0,\"ticks\":\"\"}}}],\"scatterpolar\":[{\"type\":\"scatterpolar\",\"marker\":{\"colorbar\":{\"outlinewidth\":0,\"ticks\":\"\"}}}],\"histogram\":[{\"marker\":{\"pattern\":{\"fillmode\":\"overlay\",\"size\":10,\"solidity\":0.2}},\"type\":\"histogram\"}],\"scattergl\":[{\"type\":\"scattergl\",\"marker\":{\"colorbar\":{\"outlinewidth\":0,\"ticks\":\"\"}}}],\"scatter3d\":[{\"type\":\"scatter3d\",\"line\":{\"colorbar\":{\"outlinewidth\":0,\"ticks\":\"\"}},\"marker\":{\"colorbar\":{\"outlinewidth\":0,\"ticks\":\"\"}}}],\"scattermapbox\":[{\"type\":\"scattermapbox\",\"marker\":{\"colorbar\":{\"outlinewidth\":0,\"ticks\":\"\"}}}],\"scatterternary\":[{\"type\":\"scatterternary\",\"marker\":{\"colorbar\":{\"outlinewidth\":0,\"ticks\":\"\"}}}],\"scattercarpet\":[{\"type\":\"scattercarpet\",\"marker\":{\"colorbar\":{\"outlinewidth\":0,\"ticks\":\"\"}}}],\"carpet\":[{\"aaxis\":{\"endlinecolor\":\"#2a3f5f\",\"gridcolor\":\"white\",\"linecolor\":\"white\",\"minorgridcolor\":\"white\",\"startlinecolor\":\"#2a3f5f\"},\"baxis\":{\"endlinecolor\":\"#2a3f5f\",\"gridcolor\":\"white\",\"linecolor\":\"white\",\"minorgridcolor\":\"white\",\"startlinecolor\":\"#2a3f5f\"},\"type\":\"carpet\"}],\"table\":[{\"cells\":{\"fill\":{\"color\":\"#EBF0F8\"},\"line\":{\"color\":\"white\"}},\"header\":{\"fill\":{\"color\":\"#C8D4E3\"},\"line\":{\"color\":\"white\"}},\"type\":\"table\"}],\"barpolar\":[{\"marker\":{\"line\":{\"color\":\"#E5ECF6\",\"width\":0.5},\"pattern\":{\"fillmode\":\"overlay\",\"size\":10,\"solidity\":0.2}},\"type\":\"barpolar\"}],\"pie\":[{\"automargin\":true,\"type\":\"pie\"}]},\"layout\":{\"autotypenumbers\":\"strict\",\"colorway\":[\"#636efa\",\"#EF553B\",\"#00cc96\",\"#ab63fa\",\"#FFA15A\",\"#19d3f3\",\"#FF6692\",\"#B6E880\",\"#FF97FF\",\"#FECB52\"],\"font\":{\"color\":\"#2a3f5f\"},\"hovermode\":\"closest\",\"hoverlabel\":{\"align\":\"left\"},\"paper_bgcolor\":\"white\",\"plot_bgcolor\":\"#E5ECF6\",\"polar\":{\"bgcolor\":\"#E5ECF6\",\"angularaxis\":{\"gridcolor\":\"white\",\"linecolor\":\"white\",\"ticks\":\"\"},\"radialaxis\":{\"gridcolor\":\"white\",\"linecolor\":\"white\",\"ticks\":\"\"}},\"ternary\":{\"bgcolor\":\"#E5ECF6\",\"aaxis\":{\"gridcolor\":\"white\",\"linecolor\":\"white\",\"ticks\":\"\"},\"baxis\":{\"gridcolor\":\"white\",\"linecolor\":\"white\",\"ticks\":\"\"},\"caxis\":{\"gridcolor\":\"white\",\"linecolor\":\"white\",\"ticks\":\"\"}},\"coloraxis\":{\"colorbar\":{\"outlinewidth\":0,\"ticks\":\"\"}},\"colorscale\":{\"sequential\":[[0.0,\"#0d0887\"],[0.1111111111111111,\"#46039f\"],[0.2222222222222222,\"#7201a8\"],[0.3333333333333333,\"#9c179e\"],[0.4444444444444444,\"#bd3786\"],[0.5555555555555556,\"#d8576b\"],[0.6666666666666666,\"#ed7953\"],[0.7777777777777778,\"#fb9f3a\"],[0.8888888888888888,\"#fdca26\"],[1.0,\"#f0f921\"]],\"sequentialminus\":[[0.0,\"#0d0887\"],[0.1111111111111111,\"#46039f\"],[0.2222222222222222,\"#7201a8\"],[0.3333333333333333,\"#9c179e\"],[0.4444444444444444,\"#bd3786\"],[0.5555555555555556,\"#d8576b\"],[0.6666666666666666,\"#ed7953\"],[0.7777777777777778,\"#fb9f3a\"],[0.8888888888888888,\"#fdca26\"],[1.0,\"#f0f921\"]],\"diverging\":[[0,\"#8e0152\"],[0.1,\"#c51b7d\"],[0.2,\"#de77ae\"],[0.3,\"#f1b6da\"],[0.4,\"#fde0ef\"],[0.5,\"#f7f7f7\"],[0.6,\"#e6f5d0\"],[0.7,\"#b8e186\"],[0.8,\"#7fbc41\"],[0.9,\"#4d9221\"],[1,\"#276419\"]]},\"xaxis\":{\"gridcolor\":\"white\",\"linecolor\":\"white\",\"ticks\":\"\",\"title\":{\"standoff\":15},\"zerolinecolor\":\"white\",\"automargin\":true,\"zerolinewidth\":2},\"yaxis\":{\"gridcolor\":\"white\",\"linecolor\":\"white\",\"ticks\":\"\",\"title\":{\"standoff\":15},\"zerolinecolor\":\"white\",\"automargin\":true,\"zerolinewidth\":2},\"scene\":{\"xaxis\":{\"backgroundcolor\":\"#E5ECF6\",\"gridcolor\":\"white\",\"linecolor\":\"white\",\"showbackground\":true,\"ticks\":\"\",\"zerolinecolor\":\"white\",\"gridwidth\":2},\"yaxis\":{\"backgroundcolor\":\"#E5ECF6\",\"gridcolor\":\"white\",\"linecolor\":\"white\",\"showbackground\":true,\"ticks\":\"\",\"zerolinecolor\":\"white\",\"gridwidth\":2},\"zaxis\":{\"backgroundcolor\":\"#E5ECF6\",\"gridcolor\":\"white\",\"linecolor\":\"white\",\"showbackground\":true,\"ticks\":\"\",\"zerolinecolor\":\"white\",\"gridwidth\":2}},\"shapedefaults\":{\"line\":{\"color\":\"#2a3f5f\"}},\"annotationdefaults\":{\"arrowcolor\":\"#2a3f5f\",\"arrowhead\":0,\"arrowwidth\":1},\"geo\":{\"bgcolor\":\"white\",\"landcolor\":\"#E5ECF6\",\"subunitcolor\":\"white\",\"showland\":true,\"showlakes\":true,\"lakecolor\":\"white\"},\"title\":{\"x\":0.05},\"mapbox\":{\"style\":\"light\"}}},\"xaxis\":{\"anchor\":\"y\",\"domain\":[0.0,1.0],\"title\":{\"text\":\"time taken\"},\"type\":\"log\"},\"yaxis\":{\"anchor\":\"x\",\"domain\":[0.0,1.0],\"title\":{\"text\":\"filesize per chunk\"}},\"legend\":{\"title\":{\"text\":\"engine\"},\"tracegroupgap\":0},\"margin\":{\"t\":60},\"violinmode\":\"group\"},                        {\"responsive\": true}                    ).then(function(){\n",
       "                            \n",
       "var gd = document.getElementById('e0db58ba-34ff-4224-8e88-905eb26f0851');\n",
       "var x = new MutationObserver(function (mutations, observer) {{\n",
       "        var display = window.getComputedStyle(gd).display;\n",
       "        if (!display || display === 'none') {{\n",
       "            console.log([gd, 'removed!']);\n",
       "            Plotly.purge(gd);\n",
       "            observer.disconnect();\n",
       "        }}\n",
       "}});\n",
       "\n",
       "// Listen for the removal of the full notebook cells\n",
       "var notebookContainer = gd.closest('#notebook-container');\n",
       "if (notebookContainer) {{\n",
       "    x.observe(notebookContainer, {childList: true});\n",
       "}}\n",
       "\n",
       "// Listen for the clearing of the current output cell\n",
       "var outputEl = gd.closest('.output');\n",
       "if (outputEl) {{\n",
       "    x.observe(outputEl, {childList: true});\n",
       "}}\n",
       "\n",
       "                        })                };                });            </script>        </div>"
      ]
     },
     "metadata": {},
     "output_type": "display_data"
    },
    {
     "data": {
      "application/vnd.plotly.v1+json": {
       "config": {
        "plotlyServerURL": "https://plot.ly"
       },
       "data": [
        {
         "alignmentgroup": "True",
         "box": {
          "visible": false
         },
         "hovertemplate": "engine=zarr<br>time taken=%{x}<br>filesize per chunk=%{y}<extra></extra>",
         "legendgroup": "zarr",
         "marker": {
          "color": "#636efa"
         },
         "name": "zarr",
         "offsetgroup": "zarr",
         "orientation": "h",
         "scalegroup": "True",
         "showlegend": true,
         "type": "violin",
         "x": [
          0.35860182500000004,
          0.404696704,
          0.6036628110000001,
          0.349247028,
          0.32979555400000005,
          0.327063043,
          0.341437916,
          0.329447303,
          0.359248818,
          0.332353106
         ],
         "x0": " ",
         "xaxis": "x",
         "y": [
          "256.0 MB",
          "256.0 MB",
          "256.0 MB",
          "256.0 MB",
          "256.0 MB",
          "256.0 MB",
          "256.0 MB",
          "256.0 MB",
          "256.0 MB",
          "256.0 MB"
         ],
         "y0": " ",
         "yaxis": "y"
        },
        {
         "alignmentgroup": "True",
         "box": {
          "visible": false
         },
         "hovertemplate": "engine=netcdf4<br>time taken=%{x}<br>filesize per chunk=%{y}<extra></extra>",
         "legendgroup": "netcdf4",
         "marker": {
          "color": "#EF553B"
         },
         "name": "netcdf4",
         "offsetgroup": "netcdf4",
         "orientation": "h",
         "scalegroup": "True",
         "showlegend": true,
         "type": "violin",
         "x": [
          0.527823544,
          0.5717007780000001,
          0.540869111,
          0.532881676,
          0.526184161,
          0.5494407290000001,
          0.548037165,
          0.570734611,
          0.5497473420000001,
          0.524087209
         ],
         "x0": " ",
         "xaxis": "x",
         "y": [
          "256.0 MB",
          "256.0 MB",
          "256.0 MB",
          "256.0 MB",
          "256.0 MB",
          "256.0 MB",
          "256.0 MB",
          "256.0 MB",
          "256.0 MB",
          "256.0 MB"
         ],
         "y0": " ",
         "yaxis": "y"
        },
        {
         "alignmentgroup": "True",
         "box": {
          "visible": false
         },
         "hovertemplate": "engine=hdf5<br>time taken=%{x}<br>filesize per chunk=%{y}<extra></extra>",
         "legendgroup": "hdf5",
         "marker": {
          "color": "#00cc96"
         },
         "name": "hdf5",
         "offsetgroup": "hdf5",
         "orientation": "h",
         "scalegroup": "True",
         "showlegend": true,
         "type": "violin",
         "x": [
          0.5759470990000001,
          0.573102656,
          0.534317182,
          0.5741216100000001,
          0.5407160670000001,
          0.540359447,
          0.536311689,
          0.527317577,
          0.5020722910000001,
          0.47177409600000003
         ],
         "x0": " ",
         "xaxis": "x",
         "y": [
          "256.0 MB",
          "256.0 MB",
          "256.0 MB",
          "256.0 MB",
          "256.0 MB",
          "256.0 MB",
          "256.0 MB",
          "256.0 MB",
          "256.0 MB",
          "256.0 MB"
         ],
         "y0": " ",
         "yaxis": "y"
        }
       ],
       "layout": {
        "legend": {
         "title": {
          "text": "engine"
         },
         "tracegroupgap": 0
        },
        "margin": {
         "t": 60
        },
        "template": {
         "data": {
          "bar": [
           {
            "error_x": {
             "color": "#2a3f5f"
            },
            "error_y": {
             "color": "#2a3f5f"
            },
            "marker": {
             "line": {
              "color": "#E5ECF6",
              "width": 0.5
             },
             "pattern": {
              "fillmode": "overlay",
              "size": 10,
              "solidity": 0.2
             }
            },
            "type": "bar"
           }
          ],
          "barpolar": [
           {
            "marker": {
             "line": {
              "color": "#E5ECF6",
              "width": 0.5
             },
             "pattern": {
              "fillmode": "overlay",
              "size": 10,
              "solidity": 0.2
             }
            },
            "type": "barpolar"
           }
          ],
          "carpet": [
           {
            "aaxis": {
             "endlinecolor": "#2a3f5f",
             "gridcolor": "white",
             "linecolor": "white",
             "minorgridcolor": "white",
             "startlinecolor": "#2a3f5f"
            },
            "baxis": {
             "endlinecolor": "#2a3f5f",
             "gridcolor": "white",
             "linecolor": "white",
             "minorgridcolor": "white",
             "startlinecolor": "#2a3f5f"
            },
            "type": "carpet"
           }
          ],
          "choropleth": [
           {
            "colorbar": {
             "outlinewidth": 0,
             "ticks": ""
            },
            "type": "choropleth"
           }
          ],
          "contour": [
           {
            "colorbar": {
             "outlinewidth": 0,
             "ticks": ""
            },
            "colorscale": [
             [
              0,
              "#0d0887"
             ],
             [
              0.1111111111111111,
              "#46039f"
             ],
             [
              0.2222222222222222,
              "#7201a8"
             ],
             [
              0.3333333333333333,
              "#9c179e"
             ],
             [
              0.4444444444444444,
              "#bd3786"
             ],
             [
              0.5555555555555556,
              "#d8576b"
             ],
             [
              0.6666666666666666,
              "#ed7953"
             ],
             [
              0.7777777777777778,
              "#fb9f3a"
             ],
             [
              0.8888888888888888,
              "#fdca26"
             ],
             [
              1,
              "#f0f921"
             ]
            ],
            "type": "contour"
           }
          ],
          "contourcarpet": [
           {
            "colorbar": {
             "outlinewidth": 0,
             "ticks": ""
            },
            "type": "contourcarpet"
           }
          ],
          "heatmap": [
           {
            "colorbar": {
             "outlinewidth": 0,
             "ticks": ""
            },
            "colorscale": [
             [
              0,
              "#0d0887"
             ],
             [
              0.1111111111111111,
              "#46039f"
             ],
             [
              0.2222222222222222,
              "#7201a8"
             ],
             [
              0.3333333333333333,
              "#9c179e"
             ],
             [
              0.4444444444444444,
              "#bd3786"
             ],
             [
              0.5555555555555556,
              "#d8576b"
             ],
             [
              0.6666666666666666,
              "#ed7953"
             ],
             [
              0.7777777777777778,
              "#fb9f3a"
             ],
             [
              0.8888888888888888,
              "#fdca26"
             ],
             [
              1,
              "#f0f921"
             ]
            ],
            "type": "heatmap"
           }
          ],
          "heatmapgl": [
           {
            "colorbar": {
             "outlinewidth": 0,
             "ticks": ""
            },
            "colorscale": [
             [
              0,
              "#0d0887"
             ],
             [
              0.1111111111111111,
              "#46039f"
             ],
             [
              0.2222222222222222,
              "#7201a8"
             ],
             [
              0.3333333333333333,
              "#9c179e"
             ],
             [
              0.4444444444444444,
              "#bd3786"
             ],
             [
              0.5555555555555556,
              "#d8576b"
             ],
             [
              0.6666666666666666,
              "#ed7953"
             ],
             [
              0.7777777777777778,
              "#fb9f3a"
             ],
             [
              0.8888888888888888,
              "#fdca26"
             ],
             [
              1,
              "#f0f921"
             ]
            ],
            "type": "heatmapgl"
           }
          ],
          "histogram": [
           {
            "marker": {
             "pattern": {
              "fillmode": "overlay",
              "size": 10,
              "solidity": 0.2
             }
            },
            "type": "histogram"
           }
          ],
          "histogram2d": [
           {
            "colorbar": {
             "outlinewidth": 0,
             "ticks": ""
            },
            "colorscale": [
             [
              0,
              "#0d0887"
             ],
             [
              0.1111111111111111,
              "#46039f"
             ],
             [
              0.2222222222222222,
              "#7201a8"
             ],
             [
              0.3333333333333333,
              "#9c179e"
             ],
             [
              0.4444444444444444,
              "#bd3786"
             ],
             [
              0.5555555555555556,
              "#d8576b"
             ],
             [
              0.6666666666666666,
              "#ed7953"
             ],
             [
              0.7777777777777778,
              "#fb9f3a"
             ],
             [
              0.8888888888888888,
              "#fdca26"
             ],
             [
              1,
              "#f0f921"
             ]
            ],
            "type": "histogram2d"
           }
          ],
          "histogram2dcontour": [
           {
            "colorbar": {
             "outlinewidth": 0,
             "ticks": ""
            },
            "colorscale": [
             [
              0,
              "#0d0887"
             ],
             [
              0.1111111111111111,
              "#46039f"
             ],
             [
              0.2222222222222222,
              "#7201a8"
             ],
             [
              0.3333333333333333,
              "#9c179e"
             ],
             [
              0.4444444444444444,
              "#bd3786"
             ],
             [
              0.5555555555555556,
              "#d8576b"
             ],
             [
              0.6666666666666666,
              "#ed7953"
             ],
             [
              0.7777777777777778,
              "#fb9f3a"
             ],
             [
              0.8888888888888888,
              "#fdca26"
             ],
             [
              1,
              "#f0f921"
             ]
            ],
            "type": "histogram2dcontour"
           }
          ],
          "mesh3d": [
           {
            "colorbar": {
             "outlinewidth": 0,
             "ticks": ""
            },
            "type": "mesh3d"
           }
          ],
          "parcoords": [
           {
            "line": {
             "colorbar": {
              "outlinewidth": 0,
              "ticks": ""
             }
            },
            "type": "parcoords"
           }
          ],
          "pie": [
           {
            "automargin": true,
            "type": "pie"
           }
          ],
          "scatter": [
           {
            "fillpattern": {
             "fillmode": "overlay",
             "size": 10,
             "solidity": 0.2
            },
            "type": "scatter"
           }
          ],
          "scatter3d": [
           {
            "line": {
             "colorbar": {
              "outlinewidth": 0,
              "ticks": ""
             }
            },
            "marker": {
             "colorbar": {
              "outlinewidth": 0,
              "ticks": ""
             }
            },
            "type": "scatter3d"
           }
          ],
          "scattercarpet": [
           {
            "marker": {
             "colorbar": {
              "outlinewidth": 0,
              "ticks": ""
             }
            },
            "type": "scattercarpet"
           }
          ],
          "scattergeo": [
           {
            "marker": {
             "colorbar": {
              "outlinewidth": 0,
              "ticks": ""
             }
            },
            "type": "scattergeo"
           }
          ],
          "scattergl": [
           {
            "marker": {
             "colorbar": {
              "outlinewidth": 0,
              "ticks": ""
             }
            },
            "type": "scattergl"
           }
          ],
          "scattermapbox": [
           {
            "marker": {
             "colorbar": {
              "outlinewidth": 0,
              "ticks": ""
             }
            },
            "type": "scattermapbox"
           }
          ],
          "scatterpolar": [
           {
            "marker": {
             "colorbar": {
              "outlinewidth": 0,
              "ticks": ""
             }
            },
            "type": "scatterpolar"
           }
          ],
          "scatterpolargl": [
           {
            "marker": {
             "colorbar": {
              "outlinewidth": 0,
              "ticks": ""
             }
            },
            "type": "scatterpolargl"
           }
          ],
          "scatterternary": [
           {
            "marker": {
             "colorbar": {
              "outlinewidth": 0,
              "ticks": ""
             }
            },
            "type": "scatterternary"
           }
          ],
          "surface": [
           {
            "colorbar": {
             "outlinewidth": 0,
             "ticks": ""
            },
            "colorscale": [
             [
              0,
              "#0d0887"
             ],
             [
              0.1111111111111111,
              "#46039f"
             ],
             [
              0.2222222222222222,
              "#7201a8"
             ],
             [
              0.3333333333333333,
              "#9c179e"
             ],
             [
              0.4444444444444444,
              "#bd3786"
             ],
             [
              0.5555555555555556,
              "#d8576b"
             ],
             [
              0.6666666666666666,
              "#ed7953"
             ],
             [
              0.7777777777777778,
              "#fb9f3a"
             ],
             [
              0.8888888888888888,
              "#fdca26"
             ],
             [
              1,
              "#f0f921"
             ]
            ],
            "type": "surface"
           }
          ],
          "table": [
           {
            "cells": {
             "fill": {
              "color": "#EBF0F8"
             },
             "line": {
              "color": "white"
             }
            },
            "header": {
             "fill": {
              "color": "#C8D4E3"
             },
             "line": {
              "color": "white"
             }
            },
            "type": "table"
           }
          ]
         },
         "layout": {
          "annotationdefaults": {
           "arrowcolor": "#2a3f5f",
           "arrowhead": 0,
           "arrowwidth": 1
          },
          "autotypenumbers": "strict",
          "coloraxis": {
           "colorbar": {
            "outlinewidth": 0,
            "ticks": ""
           }
          },
          "colorscale": {
           "diverging": [
            [
             0,
             "#8e0152"
            ],
            [
             0.1,
             "#c51b7d"
            ],
            [
             0.2,
             "#de77ae"
            ],
            [
             0.3,
             "#f1b6da"
            ],
            [
             0.4,
             "#fde0ef"
            ],
            [
             0.5,
             "#f7f7f7"
            ],
            [
             0.6,
             "#e6f5d0"
            ],
            [
             0.7,
             "#b8e186"
            ],
            [
             0.8,
             "#7fbc41"
            ],
            [
             0.9,
             "#4d9221"
            ],
            [
             1,
             "#276419"
            ]
           ],
           "sequential": [
            [
             0,
             "#0d0887"
            ],
            [
             0.1111111111111111,
             "#46039f"
            ],
            [
             0.2222222222222222,
             "#7201a8"
            ],
            [
             0.3333333333333333,
             "#9c179e"
            ],
            [
             0.4444444444444444,
             "#bd3786"
            ],
            [
             0.5555555555555556,
             "#d8576b"
            ],
            [
             0.6666666666666666,
             "#ed7953"
            ],
            [
             0.7777777777777778,
             "#fb9f3a"
            ],
            [
             0.8888888888888888,
             "#fdca26"
            ],
            [
             1,
             "#f0f921"
            ]
           ],
           "sequentialminus": [
            [
             0,
             "#0d0887"
            ],
            [
             0.1111111111111111,
             "#46039f"
            ],
            [
             0.2222222222222222,
             "#7201a8"
            ],
            [
             0.3333333333333333,
             "#9c179e"
            ],
            [
             0.4444444444444444,
             "#bd3786"
            ],
            [
             0.5555555555555556,
             "#d8576b"
            ],
            [
             0.6666666666666666,
             "#ed7953"
            ],
            [
             0.7777777777777778,
             "#fb9f3a"
            ],
            [
             0.8888888888888888,
             "#fdca26"
            ],
            [
             1,
             "#f0f921"
            ]
           ]
          },
          "colorway": [
           "#636efa",
           "#EF553B",
           "#00cc96",
           "#ab63fa",
           "#FFA15A",
           "#19d3f3",
           "#FF6692",
           "#B6E880",
           "#FF97FF",
           "#FECB52"
          ],
          "font": {
           "color": "#2a3f5f"
          },
          "geo": {
           "bgcolor": "white",
           "lakecolor": "white",
           "landcolor": "#E5ECF6",
           "showlakes": true,
           "showland": true,
           "subunitcolor": "white"
          },
          "hoverlabel": {
           "align": "left"
          },
          "hovermode": "closest",
          "mapbox": {
           "style": "light"
          },
          "paper_bgcolor": "white",
          "plot_bgcolor": "#E5ECF6",
          "polar": {
           "angularaxis": {
            "gridcolor": "white",
            "linecolor": "white",
            "ticks": ""
           },
           "bgcolor": "#E5ECF6",
           "radialaxis": {
            "gridcolor": "white",
            "linecolor": "white",
            "ticks": ""
           }
          },
          "scene": {
           "xaxis": {
            "backgroundcolor": "#E5ECF6",
            "gridcolor": "white",
            "gridwidth": 2,
            "linecolor": "white",
            "showbackground": true,
            "ticks": "",
            "zerolinecolor": "white"
           },
           "yaxis": {
            "backgroundcolor": "#E5ECF6",
            "gridcolor": "white",
            "gridwidth": 2,
            "linecolor": "white",
            "showbackground": true,
            "ticks": "",
            "zerolinecolor": "white"
           },
           "zaxis": {
            "backgroundcolor": "#E5ECF6",
            "gridcolor": "white",
            "gridwidth": 2,
            "linecolor": "white",
            "showbackground": true,
            "ticks": "",
            "zerolinecolor": "white"
           }
          },
          "shapedefaults": {
           "line": {
            "color": "#2a3f5f"
           }
          },
          "ternary": {
           "aaxis": {
            "gridcolor": "white",
            "linecolor": "white",
            "ticks": ""
           },
           "baxis": {
            "gridcolor": "white",
            "linecolor": "white",
            "ticks": ""
           },
           "bgcolor": "#E5ECF6",
           "caxis": {
            "gridcolor": "white",
            "linecolor": "white",
            "ticks": ""
           }
          },
          "title": {
           "x": 0.05
          },
          "xaxis": {
           "automargin": true,
           "gridcolor": "white",
           "linecolor": "white",
           "ticks": "",
           "title": {
            "standoff": 15
           },
           "zerolinecolor": "white",
           "zerolinewidth": 2
          },
          "yaxis": {
           "automargin": true,
           "gridcolor": "white",
           "linecolor": "white",
           "ticks": "",
           "title": {
            "standoff": 15
           },
           "zerolinecolor": "white",
           "zerolinewidth": 2
          }
         }
        },
        "violinmode": "group",
        "xaxis": {
         "anchor": "y",
         "domain": [
          0,
          1
         ],
         "title": {
          "text": "time taken"
         },
         "type": "log"
        },
        "yaxis": {
         "anchor": "x",
         "domain": [
          0,
          1
         ],
         "title": {
          "text": "filesize per chunk"
         }
        }
       }
      },
      "text/html": [
       "<div>                            <div id=\"c6394e88-6d76-46fa-b606-d0046cc55a75\" class=\"plotly-graph-div\" style=\"height:525px; width:100%;\"></div>            <script type=\"text/javascript\">                require([\"plotly\"], function(Plotly) {                    window.PLOTLYENV=window.PLOTLYENV || {};                                    if (document.getElementById(\"c6394e88-6d76-46fa-b606-d0046cc55a75\")) {                    Plotly.newPlot(                        \"c6394e88-6d76-46fa-b606-d0046cc55a75\",                        [{\"alignmentgroup\":\"True\",\"box\":{\"visible\":false},\"hovertemplate\":\"engine=zarr\\u003cbr\\u003etime taken=%{x}\\u003cbr\\u003efilesize per chunk=%{y}\\u003cextra\\u003e\\u003c\\u002fextra\\u003e\",\"legendgroup\":\"zarr\",\"marker\":{\"color\":\"#636efa\"},\"name\":\"zarr\",\"offsetgroup\":\"zarr\",\"orientation\":\"h\",\"scalegroup\":\"True\",\"showlegend\":true,\"x\":[0.35860182500000004,0.404696704,0.6036628110000001,0.349247028,0.32979555400000005,0.327063043,0.341437916,0.329447303,0.359248818,0.332353106],\"x0\":\" \",\"xaxis\":\"x\",\"y\":[\"256.0 MB\",\"256.0 MB\",\"256.0 MB\",\"256.0 MB\",\"256.0 MB\",\"256.0 MB\",\"256.0 MB\",\"256.0 MB\",\"256.0 MB\",\"256.0 MB\"],\"y0\":\" \",\"yaxis\":\"y\",\"type\":\"violin\"},{\"alignmentgroup\":\"True\",\"box\":{\"visible\":false},\"hovertemplate\":\"engine=netcdf4\\u003cbr\\u003etime taken=%{x}\\u003cbr\\u003efilesize per chunk=%{y}\\u003cextra\\u003e\\u003c\\u002fextra\\u003e\",\"legendgroup\":\"netcdf4\",\"marker\":{\"color\":\"#EF553B\"},\"name\":\"netcdf4\",\"offsetgroup\":\"netcdf4\",\"orientation\":\"h\",\"scalegroup\":\"True\",\"showlegend\":true,\"x\":[0.527823544,0.5717007780000001,0.540869111,0.532881676,0.526184161,0.5494407290000001,0.548037165,0.570734611,0.5497473420000001,0.524087209],\"x0\":\" \",\"xaxis\":\"x\",\"y\":[\"256.0 MB\",\"256.0 MB\",\"256.0 MB\",\"256.0 MB\",\"256.0 MB\",\"256.0 MB\",\"256.0 MB\",\"256.0 MB\",\"256.0 MB\",\"256.0 MB\"],\"y0\":\" \",\"yaxis\":\"y\",\"type\":\"violin\"},{\"alignmentgroup\":\"True\",\"box\":{\"visible\":false},\"hovertemplate\":\"engine=hdf5\\u003cbr\\u003etime taken=%{x}\\u003cbr\\u003efilesize per chunk=%{y}\\u003cextra\\u003e\\u003c\\u002fextra\\u003e\",\"legendgroup\":\"hdf5\",\"marker\":{\"color\":\"#00cc96\"},\"name\":\"hdf5\",\"offsetgroup\":\"hdf5\",\"orientation\":\"h\",\"scalegroup\":\"True\",\"showlegend\":true,\"x\":[0.5759470990000001,0.573102656,0.534317182,0.5741216100000001,0.5407160670000001,0.540359447,0.536311689,0.527317577,0.5020722910000001,0.47177409600000003],\"x0\":\" \",\"xaxis\":\"x\",\"y\":[\"256.0 MB\",\"256.0 MB\",\"256.0 MB\",\"256.0 MB\",\"256.0 MB\",\"256.0 MB\",\"256.0 MB\",\"256.0 MB\",\"256.0 MB\",\"256.0 MB\"],\"y0\":\" \",\"yaxis\":\"y\",\"type\":\"violin\"}],                        {\"template\":{\"data\":{\"histogram2dcontour\":[{\"type\":\"histogram2dcontour\",\"colorbar\":{\"outlinewidth\":0,\"ticks\":\"\"},\"colorscale\":[[0.0,\"#0d0887\"],[0.1111111111111111,\"#46039f\"],[0.2222222222222222,\"#7201a8\"],[0.3333333333333333,\"#9c179e\"],[0.4444444444444444,\"#bd3786\"],[0.5555555555555556,\"#d8576b\"],[0.6666666666666666,\"#ed7953\"],[0.7777777777777778,\"#fb9f3a\"],[0.8888888888888888,\"#fdca26\"],[1.0,\"#f0f921\"]]}],\"choropleth\":[{\"type\":\"choropleth\",\"colorbar\":{\"outlinewidth\":0,\"ticks\":\"\"}}],\"histogram2d\":[{\"type\":\"histogram2d\",\"colorbar\":{\"outlinewidth\":0,\"ticks\":\"\"},\"colorscale\":[[0.0,\"#0d0887\"],[0.1111111111111111,\"#46039f\"],[0.2222222222222222,\"#7201a8\"],[0.3333333333333333,\"#9c179e\"],[0.4444444444444444,\"#bd3786\"],[0.5555555555555556,\"#d8576b\"],[0.6666666666666666,\"#ed7953\"],[0.7777777777777778,\"#fb9f3a\"],[0.8888888888888888,\"#fdca26\"],[1.0,\"#f0f921\"]]}],\"heatmap\":[{\"type\":\"heatmap\",\"colorbar\":{\"outlinewidth\":0,\"ticks\":\"\"},\"colorscale\":[[0.0,\"#0d0887\"],[0.1111111111111111,\"#46039f\"],[0.2222222222222222,\"#7201a8\"],[0.3333333333333333,\"#9c179e\"],[0.4444444444444444,\"#bd3786\"],[0.5555555555555556,\"#d8576b\"],[0.6666666666666666,\"#ed7953\"],[0.7777777777777778,\"#fb9f3a\"],[0.8888888888888888,\"#fdca26\"],[1.0,\"#f0f921\"]]}],\"heatmapgl\":[{\"type\":\"heatmapgl\",\"colorbar\":{\"outlinewidth\":0,\"ticks\":\"\"},\"colorscale\":[[0.0,\"#0d0887\"],[0.1111111111111111,\"#46039f\"],[0.2222222222222222,\"#7201a8\"],[0.3333333333333333,\"#9c179e\"],[0.4444444444444444,\"#bd3786\"],[0.5555555555555556,\"#d8576b\"],[0.6666666666666666,\"#ed7953\"],[0.7777777777777778,\"#fb9f3a\"],[0.8888888888888888,\"#fdca26\"],[1.0,\"#f0f921\"]]}],\"contourcarpet\":[{\"type\":\"contourcarpet\",\"colorbar\":{\"outlinewidth\":0,\"ticks\":\"\"}}],\"contour\":[{\"type\":\"contour\",\"colorbar\":{\"outlinewidth\":0,\"ticks\":\"\"},\"colorscale\":[[0.0,\"#0d0887\"],[0.1111111111111111,\"#46039f\"],[0.2222222222222222,\"#7201a8\"],[0.3333333333333333,\"#9c179e\"],[0.4444444444444444,\"#bd3786\"],[0.5555555555555556,\"#d8576b\"],[0.6666666666666666,\"#ed7953\"],[0.7777777777777778,\"#fb9f3a\"],[0.8888888888888888,\"#fdca26\"],[1.0,\"#f0f921\"]]}],\"surface\":[{\"type\":\"surface\",\"colorbar\":{\"outlinewidth\":0,\"ticks\":\"\"},\"colorscale\":[[0.0,\"#0d0887\"],[0.1111111111111111,\"#46039f\"],[0.2222222222222222,\"#7201a8\"],[0.3333333333333333,\"#9c179e\"],[0.4444444444444444,\"#bd3786\"],[0.5555555555555556,\"#d8576b\"],[0.6666666666666666,\"#ed7953\"],[0.7777777777777778,\"#fb9f3a\"],[0.8888888888888888,\"#fdca26\"],[1.0,\"#f0f921\"]]}],\"mesh3d\":[{\"type\":\"mesh3d\",\"colorbar\":{\"outlinewidth\":0,\"ticks\":\"\"}}],\"scatter\":[{\"fillpattern\":{\"fillmode\":\"overlay\",\"size\":10,\"solidity\":0.2},\"type\":\"scatter\"}],\"parcoords\":[{\"type\":\"parcoords\",\"line\":{\"colorbar\":{\"outlinewidth\":0,\"ticks\":\"\"}}}],\"scatterpolargl\":[{\"type\":\"scatterpolargl\",\"marker\":{\"colorbar\":{\"outlinewidth\":0,\"ticks\":\"\"}}}],\"bar\":[{\"error_x\":{\"color\":\"#2a3f5f\"},\"error_y\":{\"color\":\"#2a3f5f\"},\"marker\":{\"line\":{\"color\":\"#E5ECF6\",\"width\":0.5},\"pattern\":{\"fillmode\":\"overlay\",\"size\":10,\"solidity\":0.2}},\"type\":\"bar\"}],\"scattergeo\":[{\"type\":\"scattergeo\",\"marker\":{\"colorbar\":{\"outlinewidth\":0,\"ticks\":\"\"}}}],\"scatterpolar\":[{\"type\":\"scatterpolar\",\"marker\":{\"colorbar\":{\"outlinewidth\":0,\"ticks\":\"\"}}}],\"histogram\":[{\"marker\":{\"pattern\":{\"fillmode\":\"overlay\",\"size\":10,\"solidity\":0.2}},\"type\":\"histogram\"}],\"scattergl\":[{\"type\":\"scattergl\",\"marker\":{\"colorbar\":{\"outlinewidth\":0,\"ticks\":\"\"}}}],\"scatter3d\":[{\"type\":\"scatter3d\",\"line\":{\"colorbar\":{\"outlinewidth\":0,\"ticks\":\"\"}},\"marker\":{\"colorbar\":{\"outlinewidth\":0,\"ticks\":\"\"}}}],\"scattermapbox\":[{\"type\":\"scattermapbox\",\"marker\":{\"colorbar\":{\"outlinewidth\":0,\"ticks\":\"\"}}}],\"scatterternary\":[{\"type\":\"scatterternary\",\"marker\":{\"colorbar\":{\"outlinewidth\":0,\"ticks\":\"\"}}}],\"scattercarpet\":[{\"type\":\"scattercarpet\",\"marker\":{\"colorbar\":{\"outlinewidth\":0,\"ticks\":\"\"}}}],\"carpet\":[{\"aaxis\":{\"endlinecolor\":\"#2a3f5f\",\"gridcolor\":\"white\",\"linecolor\":\"white\",\"minorgridcolor\":\"white\",\"startlinecolor\":\"#2a3f5f\"},\"baxis\":{\"endlinecolor\":\"#2a3f5f\",\"gridcolor\":\"white\",\"linecolor\":\"white\",\"minorgridcolor\":\"white\",\"startlinecolor\":\"#2a3f5f\"},\"type\":\"carpet\"}],\"table\":[{\"cells\":{\"fill\":{\"color\":\"#EBF0F8\"},\"line\":{\"color\":\"white\"}},\"header\":{\"fill\":{\"color\":\"#C8D4E3\"},\"line\":{\"color\":\"white\"}},\"type\":\"table\"}],\"barpolar\":[{\"marker\":{\"line\":{\"color\":\"#E5ECF6\",\"width\":0.5},\"pattern\":{\"fillmode\":\"overlay\",\"size\":10,\"solidity\":0.2}},\"type\":\"barpolar\"}],\"pie\":[{\"automargin\":true,\"type\":\"pie\"}]},\"layout\":{\"autotypenumbers\":\"strict\",\"colorway\":[\"#636efa\",\"#EF553B\",\"#00cc96\",\"#ab63fa\",\"#FFA15A\",\"#19d3f3\",\"#FF6692\",\"#B6E880\",\"#FF97FF\",\"#FECB52\"],\"font\":{\"color\":\"#2a3f5f\"},\"hovermode\":\"closest\",\"hoverlabel\":{\"align\":\"left\"},\"paper_bgcolor\":\"white\",\"plot_bgcolor\":\"#E5ECF6\",\"polar\":{\"bgcolor\":\"#E5ECF6\",\"angularaxis\":{\"gridcolor\":\"white\",\"linecolor\":\"white\",\"ticks\":\"\"},\"radialaxis\":{\"gridcolor\":\"white\",\"linecolor\":\"white\",\"ticks\":\"\"}},\"ternary\":{\"bgcolor\":\"#E5ECF6\",\"aaxis\":{\"gridcolor\":\"white\",\"linecolor\":\"white\",\"ticks\":\"\"},\"baxis\":{\"gridcolor\":\"white\",\"linecolor\":\"white\",\"ticks\":\"\"},\"caxis\":{\"gridcolor\":\"white\",\"linecolor\":\"white\",\"ticks\":\"\"}},\"coloraxis\":{\"colorbar\":{\"outlinewidth\":0,\"ticks\":\"\"}},\"colorscale\":{\"sequential\":[[0.0,\"#0d0887\"],[0.1111111111111111,\"#46039f\"],[0.2222222222222222,\"#7201a8\"],[0.3333333333333333,\"#9c179e\"],[0.4444444444444444,\"#bd3786\"],[0.5555555555555556,\"#d8576b\"],[0.6666666666666666,\"#ed7953\"],[0.7777777777777778,\"#fb9f3a\"],[0.8888888888888888,\"#fdca26\"],[1.0,\"#f0f921\"]],\"sequentialminus\":[[0.0,\"#0d0887\"],[0.1111111111111111,\"#46039f\"],[0.2222222222222222,\"#7201a8\"],[0.3333333333333333,\"#9c179e\"],[0.4444444444444444,\"#bd3786\"],[0.5555555555555556,\"#d8576b\"],[0.6666666666666666,\"#ed7953\"],[0.7777777777777778,\"#fb9f3a\"],[0.8888888888888888,\"#fdca26\"],[1.0,\"#f0f921\"]],\"diverging\":[[0,\"#8e0152\"],[0.1,\"#c51b7d\"],[0.2,\"#de77ae\"],[0.3,\"#f1b6da\"],[0.4,\"#fde0ef\"],[0.5,\"#f7f7f7\"],[0.6,\"#e6f5d0\"],[0.7,\"#b8e186\"],[0.8,\"#7fbc41\"],[0.9,\"#4d9221\"],[1,\"#276419\"]]},\"xaxis\":{\"gridcolor\":\"white\",\"linecolor\":\"white\",\"ticks\":\"\",\"title\":{\"standoff\":15},\"zerolinecolor\":\"white\",\"automargin\":true,\"zerolinewidth\":2},\"yaxis\":{\"gridcolor\":\"white\",\"linecolor\":\"white\",\"ticks\":\"\",\"title\":{\"standoff\":15},\"zerolinecolor\":\"white\",\"automargin\":true,\"zerolinewidth\":2},\"scene\":{\"xaxis\":{\"backgroundcolor\":\"#E5ECF6\",\"gridcolor\":\"white\",\"linecolor\":\"white\",\"showbackground\":true,\"ticks\":\"\",\"zerolinecolor\":\"white\",\"gridwidth\":2},\"yaxis\":{\"backgroundcolor\":\"#E5ECF6\",\"gridcolor\":\"white\",\"linecolor\":\"white\",\"showbackground\":true,\"ticks\":\"\",\"zerolinecolor\":\"white\",\"gridwidth\":2},\"zaxis\":{\"backgroundcolor\":\"#E5ECF6\",\"gridcolor\":\"white\",\"linecolor\":\"white\",\"showbackground\":true,\"ticks\":\"\",\"zerolinecolor\":\"white\",\"gridwidth\":2}},\"shapedefaults\":{\"line\":{\"color\":\"#2a3f5f\"}},\"annotationdefaults\":{\"arrowcolor\":\"#2a3f5f\",\"arrowhead\":0,\"arrowwidth\":1},\"geo\":{\"bgcolor\":\"white\",\"landcolor\":\"#E5ECF6\",\"subunitcolor\":\"white\",\"showland\":true,\"showlakes\":true,\"lakecolor\":\"white\"},\"title\":{\"x\":0.05},\"mapbox\":{\"style\":\"light\"}}},\"xaxis\":{\"anchor\":\"y\",\"domain\":[0.0,1.0],\"title\":{\"text\":\"time taken\"},\"type\":\"log\"},\"yaxis\":{\"anchor\":\"x\",\"domain\":[0.0,1.0],\"title\":{\"text\":\"filesize per chunk\"}},\"legend\":{\"title\":{\"text\":\"engine\"},\"tracegroupgap\":0},\"margin\":{\"t\":60},\"violinmode\":\"group\"},                        {\"responsive\": true}                    ).then(function(){\n",
       "                            \n",
       "var gd = document.getElementById('c6394e88-6d76-46fa-b606-d0046cc55a75');\n",
       "var x = new MutationObserver(function (mutations, observer) {{\n",
       "        var display = window.getComputedStyle(gd).display;\n",
       "        if (!display || display === 'none') {{\n",
       "            console.log([gd, 'removed!']);\n",
       "            Plotly.purge(gd);\n",
       "            observer.disconnect();\n",
       "        }}\n",
       "}});\n",
       "\n",
       "// Listen for the removal of the full notebook cells\n",
       "var notebookContainer = gd.closest('#notebook-container');\n",
       "if (notebookContainer) {{\n",
       "    x.observe(notebookContainer, {childList: true});\n",
       "}}\n",
       "\n",
       "// Listen for the clearing of the current output cell\n",
       "var outputEl = gd.closest('.output');\n",
       "if (outputEl) {{\n",
       "    x.observe(outputEl, {childList: true});\n",
       "}}\n",
       "\n",
       "                        })                };                });            </script>        </div>"
      ]
     },
     "metadata": {},
     "output_type": "display_data"
    },
    {
     "data": {
      "application/vnd.plotly.v1+json": {
       "config": {
        "plotlyServerURL": "https://plot.ly"
       },
       "data": [
        {
         "alignmentgroup": "True",
         "box": {
          "visible": false
         },
         "hovertemplate": "engine=zarr<br>time taken=%{x}<br>filesize per chunk=%{y}<extra></extra>",
         "legendgroup": "zarr",
         "marker": {
          "color": "#636efa"
         },
         "name": "zarr",
         "offsetgroup": "zarr",
         "orientation": "h",
         "scalegroup": "True",
         "showlegend": true,
         "type": "violin",
         "x": [
          0.726337961,
          0.523674849,
          0.480964775,
          0.46715677400000005,
          0.48670843700000005,
          0.47968150200000004,
          0.46848868800000004,
          0.468050658,
          0.481170835,
          0.485542856
         ],
         "x0": " ",
         "xaxis": "x",
         "y": [
          "512.0 MB",
          "512.0 MB",
          "512.0 MB",
          "512.0 MB",
          "512.0 MB",
          "512.0 MB",
          "512.0 MB",
          "512.0 MB",
          "512.0 MB",
          "512.0 MB"
         ],
         "y0": " ",
         "yaxis": "y"
        },
        {
         "alignmentgroup": "True",
         "box": {
          "visible": false
         },
         "hovertemplate": "engine=netcdf4<br>time taken=%{x}<br>filesize per chunk=%{y}<extra></extra>",
         "legendgroup": "netcdf4",
         "marker": {
          "color": "#EF553B"
         },
         "name": "netcdf4",
         "offsetgroup": "netcdf4",
         "orientation": "h",
         "scalegroup": "True",
         "showlegend": true,
         "type": "violin",
         "x": [
          0.523326996,
          0.34771836300000003,
          0.315980998,
          0.344455308,
          0.35278539400000003,
          0.5349046350000001,
          0.697091731,
          0.348696324,
          0.313698507,
          0.31383571400000004
         ],
         "x0": " ",
         "xaxis": "x",
         "y": [
          "512.0 MB",
          "512.0 MB",
          "512.0 MB",
          "512.0 MB",
          "512.0 MB",
          "512.0 MB",
          "512.0 MB",
          "512.0 MB",
          "512.0 MB",
          "512.0 MB"
         ],
         "y0": " ",
         "yaxis": "y"
        },
        {
         "alignmentgroup": "True",
         "box": {
          "visible": false
         },
         "hovertemplate": "engine=hdf5<br>time taken=%{x}<br>filesize per chunk=%{y}<extra></extra>",
         "legendgroup": "hdf5",
         "marker": {
          "color": "#00cc96"
         },
         "name": "hdf5",
         "offsetgroup": "hdf5",
         "orientation": "h",
         "scalegroup": "True",
         "showlegend": true,
         "type": "violin",
         "x": [
          0.42915156800000004,
          0.36907727700000004,
          0.28373204,
          0.292041284,
          0.282439316,
          0.312224021,
          0.34645431200000004,
          0.291772024,
          0.28979580800000004,
          0.290126997
         ],
         "x0": " ",
         "xaxis": "x",
         "y": [
          "512.0 MB",
          "512.0 MB",
          "512.0 MB",
          "512.0 MB",
          "512.0 MB",
          "512.0 MB",
          "512.0 MB",
          "512.0 MB",
          "512.0 MB",
          "512.0 MB"
         ],
         "y0": " ",
         "yaxis": "y"
        }
       ],
       "layout": {
        "legend": {
         "title": {
          "text": "engine"
         },
         "tracegroupgap": 0
        },
        "margin": {
         "t": 60
        },
        "template": {
         "data": {
          "bar": [
           {
            "error_x": {
             "color": "#2a3f5f"
            },
            "error_y": {
             "color": "#2a3f5f"
            },
            "marker": {
             "line": {
              "color": "#E5ECF6",
              "width": 0.5
             },
             "pattern": {
              "fillmode": "overlay",
              "size": 10,
              "solidity": 0.2
             }
            },
            "type": "bar"
           }
          ],
          "barpolar": [
           {
            "marker": {
             "line": {
              "color": "#E5ECF6",
              "width": 0.5
             },
             "pattern": {
              "fillmode": "overlay",
              "size": 10,
              "solidity": 0.2
             }
            },
            "type": "barpolar"
           }
          ],
          "carpet": [
           {
            "aaxis": {
             "endlinecolor": "#2a3f5f",
             "gridcolor": "white",
             "linecolor": "white",
             "minorgridcolor": "white",
             "startlinecolor": "#2a3f5f"
            },
            "baxis": {
             "endlinecolor": "#2a3f5f",
             "gridcolor": "white",
             "linecolor": "white",
             "minorgridcolor": "white",
             "startlinecolor": "#2a3f5f"
            },
            "type": "carpet"
           }
          ],
          "choropleth": [
           {
            "colorbar": {
             "outlinewidth": 0,
             "ticks": ""
            },
            "type": "choropleth"
           }
          ],
          "contour": [
           {
            "colorbar": {
             "outlinewidth": 0,
             "ticks": ""
            },
            "colorscale": [
             [
              0,
              "#0d0887"
             ],
             [
              0.1111111111111111,
              "#46039f"
             ],
             [
              0.2222222222222222,
              "#7201a8"
             ],
             [
              0.3333333333333333,
              "#9c179e"
             ],
             [
              0.4444444444444444,
              "#bd3786"
             ],
             [
              0.5555555555555556,
              "#d8576b"
             ],
             [
              0.6666666666666666,
              "#ed7953"
             ],
             [
              0.7777777777777778,
              "#fb9f3a"
             ],
             [
              0.8888888888888888,
              "#fdca26"
             ],
             [
              1,
              "#f0f921"
             ]
            ],
            "type": "contour"
           }
          ],
          "contourcarpet": [
           {
            "colorbar": {
             "outlinewidth": 0,
             "ticks": ""
            },
            "type": "contourcarpet"
           }
          ],
          "heatmap": [
           {
            "colorbar": {
             "outlinewidth": 0,
             "ticks": ""
            },
            "colorscale": [
             [
              0,
              "#0d0887"
             ],
             [
              0.1111111111111111,
              "#46039f"
             ],
             [
              0.2222222222222222,
              "#7201a8"
             ],
             [
              0.3333333333333333,
              "#9c179e"
             ],
             [
              0.4444444444444444,
              "#bd3786"
             ],
             [
              0.5555555555555556,
              "#d8576b"
             ],
             [
              0.6666666666666666,
              "#ed7953"
             ],
             [
              0.7777777777777778,
              "#fb9f3a"
             ],
             [
              0.8888888888888888,
              "#fdca26"
             ],
             [
              1,
              "#f0f921"
             ]
            ],
            "type": "heatmap"
           }
          ],
          "heatmapgl": [
           {
            "colorbar": {
             "outlinewidth": 0,
             "ticks": ""
            },
            "colorscale": [
             [
              0,
              "#0d0887"
             ],
             [
              0.1111111111111111,
              "#46039f"
             ],
             [
              0.2222222222222222,
              "#7201a8"
             ],
             [
              0.3333333333333333,
              "#9c179e"
             ],
             [
              0.4444444444444444,
              "#bd3786"
             ],
             [
              0.5555555555555556,
              "#d8576b"
             ],
             [
              0.6666666666666666,
              "#ed7953"
             ],
             [
              0.7777777777777778,
              "#fb9f3a"
             ],
             [
              0.8888888888888888,
              "#fdca26"
             ],
             [
              1,
              "#f0f921"
             ]
            ],
            "type": "heatmapgl"
           }
          ],
          "histogram": [
           {
            "marker": {
             "pattern": {
              "fillmode": "overlay",
              "size": 10,
              "solidity": 0.2
             }
            },
            "type": "histogram"
           }
          ],
          "histogram2d": [
           {
            "colorbar": {
             "outlinewidth": 0,
             "ticks": ""
            },
            "colorscale": [
             [
              0,
              "#0d0887"
             ],
             [
              0.1111111111111111,
              "#46039f"
             ],
             [
              0.2222222222222222,
              "#7201a8"
             ],
             [
              0.3333333333333333,
              "#9c179e"
             ],
             [
              0.4444444444444444,
              "#bd3786"
             ],
             [
              0.5555555555555556,
              "#d8576b"
             ],
             [
              0.6666666666666666,
              "#ed7953"
             ],
             [
              0.7777777777777778,
              "#fb9f3a"
             ],
             [
              0.8888888888888888,
              "#fdca26"
             ],
             [
              1,
              "#f0f921"
             ]
            ],
            "type": "histogram2d"
           }
          ],
          "histogram2dcontour": [
           {
            "colorbar": {
             "outlinewidth": 0,
             "ticks": ""
            },
            "colorscale": [
             [
              0,
              "#0d0887"
             ],
             [
              0.1111111111111111,
              "#46039f"
             ],
             [
              0.2222222222222222,
              "#7201a8"
             ],
             [
              0.3333333333333333,
              "#9c179e"
             ],
             [
              0.4444444444444444,
              "#bd3786"
             ],
             [
              0.5555555555555556,
              "#d8576b"
             ],
             [
              0.6666666666666666,
              "#ed7953"
             ],
             [
              0.7777777777777778,
              "#fb9f3a"
             ],
             [
              0.8888888888888888,
              "#fdca26"
             ],
             [
              1,
              "#f0f921"
             ]
            ],
            "type": "histogram2dcontour"
           }
          ],
          "mesh3d": [
           {
            "colorbar": {
             "outlinewidth": 0,
             "ticks": ""
            },
            "type": "mesh3d"
           }
          ],
          "parcoords": [
           {
            "line": {
             "colorbar": {
              "outlinewidth": 0,
              "ticks": ""
             }
            },
            "type": "parcoords"
           }
          ],
          "pie": [
           {
            "automargin": true,
            "type": "pie"
           }
          ],
          "scatter": [
           {
            "fillpattern": {
             "fillmode": "overlay",
             "size": 10,
             "solidity": 0.2
            },
            "type": "scatter"
           }
          ],
          "scatter3d": [
           {
            "line": {
             "colorbar": {
              "outlinewidth": 0,
              "ticks": ""
             }
            },
            "marker": {
             "colorbar": {
              "outlinewidth": 0,
              "ticks": ""
             }
            },
            "type": "scatter3d"
           }
          ],
          "scattercarpet": [
           {
            "marker": {
             "colorbar": {
              "outlinewidth": 0,
              "ticks": ""
             }
            },
            "type": "scattercarpet"
           }
          ],
          "scattergeo": [
           {
            "marker": {
             "colorbar": {
              "outlinewidth": 0,
              "ticks": ""
             }
            },
            "type": "scattergeo"
           }
          ],
          "scattergl": [
           {
            "marker": {
             "colorbar": {
              "outlinewidth": 0,
              "ticks": ""
             }
            },
            "type": "scattergl"
           }
          ],
          "scattermapbox": [
           {
            "marker": {
             "colorbar": {
              "outlinewidth": 0,
              "ticks": ""
             }
            },
            "type": "scattermapbox"
           }
          ],
          "scatterpolar": [
           {
            "marker": {
             "colorbar": {
              "outlinewidth": 0,
              "ticks": ""
             }
            },
            "type": "scatterpolar"
           }
          ],
          "scatterpolargl": [
           {
            "marker": {
             "colorbar": {
              "outlinewidth": 0,
              "ticks": ""
             }
            },
            "type": "scatterpolargl"
           }
          ],
          "scatterternary": [
           {
            "marker": {
             "colorbar": {
              "outlinewidth": 0,
              "ticks": ""
             }
            },
            "type": "scatterternary"
           }
          ],
          "surface": [
           {
            "colorbar": {
             "outlinewidth": 0,
             "ticks": ""
            },
            "colorscale": [
             [
              0,
              "#0d0887"
             ],
             [
              0.1111111111111111,
              "#46039f"
             ],
             [
              0.2222222222222222,
              "#7201a8"
             ],
             [
              0.3333333333333333,
              "#9c179e"
             ],
             [
              0.4444444444444444,
              "#bd3786"
             ],
             [
              0.5555555555555556,
              "#d8576b"
             ],
             [
              0.6666666666666666,
              "#ed7953"
             ],
             [
              0.7777777777777778,
              "#fb9f3a"
             ],
             [
              0.8888888888888888,
              "#fdca26"
             ],
             [
              1,
              "#f0f921"
             ]
            ],
            "type": "surface"
           }
          ],
          "table": [
           {
            "cells": {
             "fill": {
              "color": "#EBF0F8"
             },
             "line": {
              "color": "white"
             }
            },
            "header": {
             "fill": {
              "color": "#C8D4E3"
             },
             "line": {
              "color": "white"
             }
            },
            "type": "table"
           }
          ]
         },
         "layout": {
          "annotationdefaults": {
           "arrowcolor": "#2a3f5f",
           "arrowhead": 0,
           "arrowwidth": 1
          },
          "autotypenumbers": "strict",
          "coloraxis": {
           "colorbar": {
            "outlinewidth": 0,
            "ticks": ""
           }
          },
          "colorscale": {
           "diverging": [
            [
             0,
             "#8e0152"
            ],
            [
             0.1,
             "#c51b7d"
            ],
            [
             0.2,
             "#de77ae"
            ],
            [
             0.3,
             "#f1b6da"
            ],
            [
             0.4,
             "#fde0ef"
            ],
            [
             0.5,
             "#f7f7f7"
            ],
            [
             0.6,
             "#e6f5d0"
            ],
            [
             0.7,
             "#b8e186"
            ],
            [
             0.8,
             "#7fbc41"
            ],
            [
             0.9,
             "#4d9221"
            ],
            [
             1,
             "#276419"
            ]
           ],
           "sequential": [
            [
             0,
             "#0d0887"
            ],
            [
             0.1111111111111111,
             "#46039f"
            ],
            [
             0.2222222222222222,
             "#7201a8"
            ],
            [
             0.3333333333333333,
             "#9c179e"
            ],
            [
             0.4444444444444444,
             "#bd3786"
            ],
            [
             0.5555555555555556,
             "#d8576b"
            ],
            [
             0.6666666666666666,
             "#ed7953"
            ],
            [
             0.7777777777777778,
             "#fb9f3a"
            ],
            [
             0.8888888888888888,
             "#fdca26"
            ],
            [
             1,
             "#f0f921"
            ]
           ],
           "sequentialminus": [
            [
             0,
             "#0d0887"
            ],
            [
             0.1111111111111111,
             "#46039f"
            ],
            [
             0.2222222222222222,
             "#7201a8"
            ],
            [
             0.3333333333333333,
             "#9c179e"
            ],
            [
             0.4444444444444444,
             "#bd3786"
            ],
            [
             0.5555555555555556,
             "#d8576b"
            ],
            [
             0.6666666666666666,
             "#ed7953"
            ],
            [
             0.7777777777777778,
             "#fb9f3a"
            ],
            [
             0.8888888888888888,
             "#fdca26"
            ],
            [
             1,
             "#f0f921"
            ]
           ]
          },
          "colorway": [
           "#636efa",
           "#EF553B",
           "#00cc96",
           "#ab63fa",
           "#FFA15A",
           "#19d3f3",
           "#FF6692",
           "#B6E880",
           "#FF97FF",
           "#FECB52"
          ],
          "font": {
           "color": "#2a3f5f"
          },
          "geo": {
           "bgcolor": "white",
           "lakecolor": "white",
           "landcolor": "#E5ECF6",
           "showlakes": true,
           "showland": true,
           "subunitcolor": "white"
          },
          "hoverlabel": {
           "align": "left"
          },
          "hovermode": "closest",
          "mapbox": {
           "style": "light"
          },
          "paper_bgcolor": "white",
          "plot_bgcolor": "#E5ECF6",
          "polar": {
           "angularaxis": {
            "gridcolor": "white",
            "linecolor": "white",
            "ticks": ""
           },
           "bgcolor": "#E5ECF6",
           "radialaxis": {
            "gridcolor": "white",
            "linecolor": "white",
            "ticks": ""
           }
          },
          "scene": {
           "xaxis": {
            "backgroundcolor": "#E5ECF6",
            "gridcolor": "white",
            "gridwidth": 2,
            "linecolor": "white",
            "showbackground": true,
            "ticks": "",
            "zerolinecolor": "white"
           },
           "yaxis": {
            "backgroundcolor": "#E5ECF6",
            "gridcolor": "white",
            "gridwidth": 2,
            "linecolor": "white",
            "showbackground": true,
            "ticks": "",
            "zerolinecolor": "white"
           },
           "zaxis": {
            "backgroundcolor": "#E5ECF6",
            "gridcolor": "white",
            "gridwidth": 2,
            "linecolor": "white",
            "showbackground": true,
            "ticks": "",
            "zerolinecolor": "white"
           }
          },
          "shapedefaults": {
           "line": {
            "color": "#2a3f5f"
           }
          },
          "ternary": {
           "aaxis": {
            "gridcolor": "white",
            "linecolor": "white",
            "ticks": ""
           },
           "baxis": {
            "gridcolor": "white",
            "linecolor": "white",
            "ticks": ""
           },
           "bgcolor": "#E5ECF6",
           "caxis": {
            "gridcolor": "white",
            "linecolor": "white",
            "ticks": ""
           }
          },
          "title": {
           "x": 0.05
          },
          "xaxis": {
           "automargin": true,
           "gridcolor": "white",
           "linecolor": "white",
           "ticks": "",
           "title": {
            "standoff": 15
           },
           "zerolinecolor": "white",
           "zerolinewidth": 2
          },
          "yaxis": {
           "automargin": true,
           "gridcolor": "white",
           "linecolor": "white",
           "ticks": "",
           "title": {
            "standoff": 15
           },
           "zerolinecolor": "white",
           "zerolinewidth": 2
          }
         }
        },
        "violinmode": "group",
        "xaxis": {
         "anchor": "y",
         "domain": [
          0,
          1
         ],
         "title": {
          "text": "time taken"
         },
         "type": "log"
        },
        "yaxis": {
         "anchor": "x",
         "domain": [
          0,
          1
         ],
         "title": {
          "text": "filesize per chunk"
         }
        }
       }
      },
      "text/html": [
       "<div>                            <div id=\"f1116191-f397-471c-83e3-725c56befc28\" class=\"plotly-graph-div\" style=\"height:525px; width:100%;\"></div>            <script type=\"text/javascript\">                require([\"plotly\"], function(Plotly) {                    window.PLOTLYENV=window.PLOTLYENV || {};                                    if (document.getElementById(\"f1116191-f397-471c-83e3-725c56befc28\")) {                    Plotly.newPlot(                        \"f1116191-f397-471c-83e3-725c56befc28\",                        [{\"alignmentgroup\":\"True\",\"box\":{\"visible\":false},\"hovertemplate\":\"engine=zarr\\u003cbr\\u003etime taken=%{x}\\u003cbr\\u003efilesize per chunk=%{y}\\u003cextra\\u003e\\u003c\\u002fextra\\u003e\",\"legendgroup\":\"zarr\",\"marker\":{\"color\":\"#636efa\"},\"name\":\"zarr\",\"offsetgroup\":\"zarr\",\"orientation\":\"h\",\"scalegroup\":\"True\",\"showlegend\":true,\"x\":[0.726337961,0.523674849,0.480964775,0.46715677400000005,0.48670843700000005,0.47968150200000004,0.46848868800000004,0.468050658,0.481170835,0.485542856],\"x0\":\" \",\"xaxis\":\"x\",\"y\":[\"512.0 MB\",\"512.0 MB\",\"512.0 MB\",\"512.0 MB\",\"512.0 MB\",\"512.0 MB\",\"512.0 MB\",\"512.0 MB\",\"512.0 MB\",\"512.0 MB\"],\"y0\":\" \",\"yaxis\":\"y\",\"type\":\"violin\"},{\"alignmentgroup\":\"True\",\"box\":{\"visible\":false},\"hovertemplate\":\"engine=netcdf4\\u003cbr\\u003etime taken=%{x}\\u003cbr\\u003efilesize per chunk=%{y}\\u003cextra\\u003e\\u003c\\u002fextra\\u003e\",\"legendgroup\":\"netcdf4\",\"marker\":{\"color\":\"#EF553B\"},\"name\":\"netcdf4\",\"offsetgroup\":\"netcdf4\",\"orientation\":\"h\",\"scalegroup\":\"True\",\"showlegend\":true,\"x\":[0.523326996,0.34771836300000003,0.315980998,0.344455308,0.35278539400000003,0.5349046350000001,0.697091731,0.348696324,0.313698507,0.31383571400000004],\"x0\":\" \",\"xaxis\":\"x\",\"y\":[\"512.0 MB\",\"512.0 MB\",\"512.0 MB\",\"512.0 MB\",\"512.0 MB\",\"512.0 MB\",\"512.0 MB\",\"512.0 MB\",\"512.0 MB\",\"512.0 MB\"],\"y0\":\" \",\"yaxis\":\"y\",\"type\":\"violin\"},{\"alignmentgroup\":\"True\",\"box\":{\"visible\":false},\"hovertemplate\":\"engine=hdf5\\u003cbr\\u003etime taken=%{x}\\u003cbr\\u003efilesize per chunk=%{y}\\u003cextra\\u003e\\u003c\\u002fextra\\u003e\",\"legendgroup\":\"hdf5\",\"marker\":{\"color\":\"#00cc96\"},\"name\":\"hdf5\",\"offsetgroup\":\"hdf5\",\"orientation\":\"h\",\"scalegroup\":\"True\",\"showlegend\":true,\"x\":[0.42915156800000004,0.36907727700000004,0.28373204,0.292041284,0.282439316,0.312224021,0.34645431200000004,0.291772024,0.28979580800000004,0.290126997],\"x0\":\" \",\"xaxis\":\"x\",\"y\":[\"512.0 MB\",\"512.0 MB\",\"512.0 MB\",\"512.0 MB\",\"512.0 MB\",\"512.0 MB\",\"512.0 MB\",\"512.0 MB\",\"512.0 MB\",\"512.0 MB\"],\"y0\":\" \",\"yaxis\":\"y\",\"type\":\"violin\"}],                        {\"template\":{\"data\":{\"histogram2dcontour\":[{\"type\":\"histogram2dcontour\",\"colorbar\":{\"outlinewidth\":0,\"ticks\":\"\"},\"colorscale\":[[0.0,\"#0d0887\"],[0.1111111111111111,\"#46039f\"],[0.2222222222222222,\"#7201a8\"],[0.3333333333333333,\"#9c179e\"],[0.4444444444444444,\"#bd3786\"],[0.5555555555555556,\"#d8576b\"],[0.6666666666666666,\"#ed7953\"],[0.7777777777777778,\"#fb9f3a\"],[0.8888888888888888,\"#fdca26\"],[1.0,\"#f0f921\"]]}],\"choropleth\":[{\"type\":\"choropleth\",\"colorbar\":{\"outlinewidth\":0,\"ticks\":\"\"}}],\"histogram2d\":[{\"type\":\"histogram2d\",\"colorbar\":{\"outlinewidth\":0,\"ticks\":\"\"},\"colorscale\":[[0.0,\"#0d0887\"],[0.1111111111111111,\"#46039f\"],[0.2222222222222222,\"#7201a8\"],[0.3333333333333333,\"#9c179e\"],[0.4444444444444444,\"#bd3786\"],[0.5555555555555556,\"#d8576b\"],[0.6666666666666666,\"#ed7953\"],[0.7777777777777778,\"#fb9f3a\"],[0.8888888888888888,\"#fdca26\"],[1.0,\"#f0f921\"]]}],\"heatmap\":[{\"type\":\"heatmap\",\"colorbar\":{\"outlinewidth\":0,\"ticks\":\"\"},\"colorscale\":[[0.0,\"#0d0887\"],[0.1111111111111111,\"#46039f\"],[0.2222222222222222,\"#7201a8\"],[0.3333333333333333,\"#9c179e\"],[0.4444444444444444,\"#bd3786\"],[0.5555555555555556,\"#d8576b\"],[0.6666666666666666,\"#ed7953\"],[0.7777777777777778,\"#fb9f3a\"],[0.8888888888888888,\"#fdca26\"],[1.0,\"#f0f921\"]]}],\"heatmapgl\":[{\"type\":\"heatmapgl\",\"colorbar\":{\"outlinewidth\":0,\"ticks\":\"\"},\"colorscale\":[[0.0,\"#0d0887\"],[0.1111111111111111,\"#46039f\"],[0.2222222222222222,\"#7201a8\"],[0.3333333333333333,\"#9c179e\"],[0.4444444444444444,\"#bd3786\"],[0.5555555555555556,\"#d8576b\"],[0.6666666666666666,\"#ed7953\"],[0.7777777777777778,\"#fb9f3a\"],[0.8888888888888888,\"#fdca26\"],[1.0,\"#f0f921\"]]}],\"contourcarpet\":[{\"type\":\"contourcarpet\",\"colorbar\":{\"outlinewidth\":0,\"ticks\":\"\"}}],\"contour\":[{\"type\":\"contour\",\"colorbar\":{\"outlinewidth\":0,\"ticks\":\"\"},\"colorscale\":[[0.0,\"#0d0887\"],[0.1111111111111111,\"#46039f\"],[0.2222222222222222,\"#7201a8\"],[0.3333333333333333,\"#9c179e\"],[0.4444444444444444,\"#bd3786\"],[0.5555555555555556,\"#d8576b\"],[0.6666666666666666,\"#ed7953\"],[0.7777777777777778,\"#fb9f3a\"],[0.8888888888888888,\"#fdca26\"],[1.0,\"#f0f921\"]]}],\"surface\":[{\"type\":\"surface\",\"colorbar\":{\"outlinewidth\":0,\"ticks\":\"\"},\"colorscale\":[[0.0,\"#0d0887\"],[0.1111111111111111,\"#46039f\"],[0.2222222222222222,\"#7201a8\"],[0.3333333333333333,\"#9c179e\"],[0.4444444444444444,\"#bd3786\"],[0.5555555555555556,\"#d8576b\"],[0.6666666666666666,\"#ed7953\"],[0.7777777777777778,\"#fb9f3a\"],[0.8888888888888888,\"#fdca26\"],[1.0,\"#f0f921\"]]}],\"mesh3d\":[{\"type\":\"mesh3d\",\"colorbar\":{\"outlinewidth\":0,\"ticks\":\"\"}}],\"scatter\":[{\"fillpattern\":{\"fillmode\":\"overlay\",\"size\":10,\"solidity\":0.2},\"type\":\"scatter\"}],\"parcoords\":[{\"type\":\"parcoords\",\"line\":{\"colorbar\":{\"outlinewidth\":0,\"ticks\":\"\"}}}],\"scatterpolargl\":[{\"type\":\"scatterpolargl\",\"marker\":{\"colorbar\":{\"outlinewidth\":0,\"ticks\":\"\"}}}],\"bar\":[{\"error_x\":{\"color\":\"#2a3f5f\"},\"error_y\":{\"color\":\"#2a3f5f\"},\"marker\":{\"line\":{\"color\":\"#E5ECF6\",\"width\":0.5},\"pattern\":{\"fillmode\":\"overlay\",\"size\":10,\"solidity\":0.2}},\"type\":\"bar\"}],\"scattergeo\":[{\"type\":\"scattergeo\",\"marker\":{\"colorbar\":{\"outlinewidth\":0,\"ticks\":\"\"}}}],\"scatterpolar\":[{\"type\":\"scatterpolar\",\"marker\":{\"colorbar\":{\"outlinewidth\":0,\"ticks\":\"\"}}}],\"histogram\":[{\"marker\":{\"pattern\":{\"fillmode\":\"overlay\",\"size\":10,\"solidity\":0.2}},\"type\":\"histogram\"}],\"scattergl\":[{\"type\":\"scattergl\",\"marker\":{\"colorbar\":{\"outlinewidth\":0,\"ticks\":\"\"}}}],\"scatter3d\":[{\"type\":\"scatter3d\",\"line\":{\"colorbar\":{\"outlinewidth\":0,\"ticks\":\"\"}},\"marker\":{\"colorbar\":{\"outlinewidth\":0,\"ticks\":\"\"}}}],\"scattermapbox\":[{\"type\":\"scattermapbox\",\"marker\":{\"colorbar\":{\"outlinewidth\":0,\"ticks\":\"\"}}}],\"scatterternary\":[{\"type\":\"scatterternary\",\"marker\":{\"colorbar\":{\"outlinewidth\":0,\"ticks\":\"\"}}}],\"scattercarpet\":[{\"type\":\"scattercarpet\",\"marker\":{\"colorbar\":{\"outlinewidth\":0,\"ticks\":\"\"}}}],\"carpet\":[{\"aaxis\":{\"endlinecolor\":\"#2a3f5f\",\"gridcolor\":\"white\",\"linecolor\":\"white\",\"minorgridcolor\":\"white\",\"startlinecolor\":\"#2a3f5f\"},\"baxis\":{\"endlinecolor\":\"#2a3f5f\",\"gridcolor\":\"white\",\"linecolor\":\"white\",\"minorgridcolor\":\"white\",\"startlinecolor\":\"#2a3f5f\"},\"type\":\"carpet\"}],\"table\":[{\"cells\":{\"fill\":{\"color\":\"#EBF0F8\"},\"line\":{\"color\":\"white\"}},\"header\":{\"fill\":{\"color\":\"#C8D4E3\"},\"line\":{\"color\":\"white\"}},\"type\":\"table\"}],\"barpolar\":[{\"marker\":{\"line\":{\"color\":\"#E5ECF6\",\"width\":0.5},\"pattern\":{\"fillmode\":\"overlay\",\"size\":10,\"solidity\":0.2}},\"type\":\"barpolar\"}],\"pie\":[{\"automargin\":true,\"type\":\"pie\"}]},\"layout\":{\"autotypenumbers\":\"strict\",\"colorway\":[\"#636efa\",\"#EF553B\",\"#00cc96\",\"#ab63fa\",\"#FFA15A\",\"#19d3f3\",\"#FF6692\",\"#B6E880\",\"#FF97FF\",\"#FECB52\"],\"font\":{\"color\":\"#2a3f5f\"},\"hovermode\":\"closest\",\"hoverlabel\":{\"align\":\"left\"},\"paper_bgcolor\":\"white\",\"plot_bgcolor\":\"#E5ECF6\",\"polar\":{\"bgcolor\":\"#E5ECF6\",\"angularaxis\":{\"gridcolor\":\"white\",\"linecolor\":\"white\",\"ticks\":\"\"},\"radialaxis\":{\"gridcolor\":\"white\",\"linecolor\":\"white\",\"ticks\":\"\"}},\"ternary\":{\"bgcolor\":\"#E5ECF6\",\"aaxis\":{\"gridcolor\":\"white\",\"linecolor\":\"white\",\"ticks\":\"\"},\"baxis\":{\"gridcolor\":\"white\",\"linecolor\":\"white\",\"ticks\":\"\"},\"caxis\":{\"gridcolor\":\"white\",\"linecolor\":\"white\",\"ticks\":\"\"}},\"coloraxis\":{\"colorbar\":{\"outlinewidth\":0,\"ticks\":\"\"}},\"colorscale\":{\"sequential\":[[0.0,\"#0d0887\"],[0.1111111111111111,\"#46039f\"],[0.2222222222222222,\"#7201a8\"],[0.3333333333333333,\"#9c179e\"],[0.4444444444444444,\"#bd3786\"],[0.5555555555555556,\"#d8576b\"],[0.6666666666666666,\"#ed7953\"],[0.7777777777777778,\"#fb9f3a\"],[0.8888888888888888,\"#fdca26\"],[1.0,\"#f0f921\"]],\"sequentialminus\":[[0.0,\"#0d0887\"],[0.1111111111111111,\"#46039f\"],[0.2222222222222222,\"#7201a8\"],[0.3333333333333333,\"#9c179e\"],[0.4444444444444444,\"#bd3786\"],[0.5555555555555556,\"#d8576b\"],[0.6666666666666666,\"#ed7953\"],[0.7777777777777778,\"#fb9f3a\"],[0.8888888888888888,\"#fdca26\"],[1.0,\"#f0f921\"]],\"diverging\":[[0,\"#8e0152\"],[0.1,\"#c51b7d\"],[0.2,\"#de77ae\"],[0.3,\"#f1b6da\"],[0.4,\"#fde0ef\"],[0.5,\"#f7f7f7\"],[0.6,\"#e6f5d0\"],[0.7,\"#b8e186\"],[0.8,\"#7fbc41\"],[0.9,\"#4d9221\"],[1,\"#276419\"]]},\"xaxis\":{\"gridcolor\":\"white\",\"linecolor\":\"white\",\"ticks\":\"\",\"title\":{\"standoff\":15},\"zerolinecolor\":\"white\",\"automargin\":true,\"zerolinewidth\":2},\"yaxis\":{\"gridcolor\":\"white\",\"linecolor\":\"white\",\"ticks\":\"\",\"title\":{\"standoff\":15},\"zerolinecolor\":\"white\",\"automargin\":true,\"zerolinewidth\":2},\"scene\":{\"xaxis\":{\"backgroundcolor\":\"#E5ECF6\",\"gridcolor\":\"white\",\"linecolor\":\"white\",\"showbackground\":true,\"ticks\":\"\",\"zerolinecolor\":\"white\",\"gridwidth\":2},\"yaxis\":{\"backgroundcolor\":\"#E5ECF6\",\"gridcolor\":\"white\",\"linecolor\":\"white\",\"showbackground\":true,\"ticks\":\"\",\"zerolinecolor\":\"white\",\"gridwidth\":2},\"zaxis\":{\"backgroundcolor\":\"#E5ECF6\",\"gridcolor\":\"white\",\"linecolor\":\"white\",\"showbackground\":true,\"ticks\":\"\",\"zerolinecolor\":\"white\",\"gridwidth\":2}},\"shapedefaults\":{\"line\":{\"color\":\"#2a3f5f\"}},\"annotationdefaults\":{\"arrowcolor\":\"#2a3f5f\",\"arrowhead\":0,\"arrowwidth\":1},\"geo\":{\"bgcolor\":\"white\",\"landcolor\":\"#E5ECF6\",\"subunitcolor\":\"white\",\"showland\":true,\"showlakes\":true,\"lakecolor\":\"white\"},\"title\":{\"x\":0.05},\"mapbox\":{\"style\":\"light\"}}},\"xaxis\":{\"anchor\":\"y\",\"domain\":[0.0,1.0],\"title\":{\"text\":\"time taken\"},\"type\":\"log\"},\"yaxis\":{\"anchor\":\"x\",\"domain\":[0.0,1.0],\"title\":{\"text\":\"filesize per chunk\"}},\"legend\":{\"title\":{\"text\":\"engine\"},\"tracegroupgap\":0},\"margin\":{\"t\":60},\"violinmode\":\"group\"},                        {\"responsive\": true}                    ).then(function(){\n",
       "                            \n",
       "var gd = document.getElementById('f1116191-f397-471c-83e3-725c56befc28');\n",
       "var x = new MutationObserver(function (mutations, observer) {{\n",
       "        var display = window.getComputedStyle(gd).display;\n",
       "        if (!display || display === 'none') {{\n",
       "            console.log([gd, 'removed!']);\n",
       "            Plotly.purge(gd);\n",
       "            observer.disconnect();\n",
       "        }}\n",
       "}});\n",
       "\n",
       "// Listen for the removal of the full notebook cells\n",
       "var notebookContainer = gd.closest('#notebook-container');\n",
       "if (notebookContainer) {{\n",
       "    x.observe(notebookContainer, {childList: true});\n",
       "}}\n",
       "\n",
       "// Listen for the clearing of the current output cell\n",
       "var outputEl = gd.closest('.output');\n",
       "if (outputEl) {{\n",
       "    x.observe(outputEl, {childList: true});\n",
       "}}\n",
       "\n",
       "                        })                };                });            </script>        </div>"
      ]
     },
     "metadata": {},
     "output_type": "display_data"
    },
    {
     "data": {
      "application/vnd.plotly.v1+json": {
       "config": {
        "plotlyServerURL": "https://plot.ly"
       },
       "data": [
        {
         "alignmentgroup": "True",
         "box": {
          "visible": false
         },
         "hovertemplate": "engine=zarr<br>time taken=%{x}<br>filesize per chunk=%{y}<extra></extra>",
         "legendgroup": "zarr",
         "marker": {
          "color": "#636efa"
         },
         "name": "zarr",
         "offsetgroup": "zarr",
         "orientation": "h",
         "scalegroup": "True",
         "showlegend": true,
         "type": "violin",
         "x": [
          0.8950659540000001,
          0.9446840860000001,
          0.94388729,
          0.8315148790000001,
          0.819262417,
          0.8176201470000001,
          0.817028666,
          0.819191114,
          0.811937299,
          0.8105739710000001
         ],
         "x0": " ",
         "xaxis": "x",
         "y": [
          "1024.0 MB",
          "1024.0 MB",
          "1024.0 MB",
          "1024.0 MB",
          "1024.0 MB",
          "1024.0 MB",
          "1024.0 MB",
          "1024.0 MB",
          "1024.0 MB",
          "1024.0 MB"
         ],
         "y0": " ",
         "yaxis": "y"
        },
        {
         "alignmentgroup": "True",
         "box": {
          "visible": false
         },
         "hovertemplate": "engine=netcdf4<br>time taken=%{x}<br>filesize per chunk=%{y}<extra></extra>",
         "legendgroup": "netcdf4",
         "marker": {
          "color": "#EF553B"
         },
         "name": "netcdf4",
         "offsetgroup": "netcdf4",
         "orientation": "h",
         "scalegroup": "True",
         "showlegend": true,
         "type": "violin",
         "x": [
          0.11527150400000001,
          0.141838884,
          0.12016710200000001,
          0.11868851100000001,
          0.11912513,
          0.117110691,
          0.11892630200000001,
          0.11607412,
          0.11663060200000001,
          0.11559393700000001
         ],
         "x0": " ",
         "xaxis": "x",
         "y": [
          "1024.0 MB",
          "1024.0 MB",
          "1024.0 MB",
          "1024.0 MB",
          "1024.0 MB",
          "1024.0 MB",
          "1024.0 MB",
          "1024.0 MB",
          "1024.0 MB",
          "1024.0 MB"
         ],
         "y0": " ",
         "yaxis": "y"
        },
        {
         "alignmentgroup": "True",
         "box": {
          "visible": false
         },
         "hovertemplate": "engine=hdf5<br>time taken=%{x}<br>filesize per chunk=%{y}<extra></extra>",
         "legendgroup": "hdf5",
         "marker": {
          "color": "#00cc96"
         },
         "name": "hdf5",
         "offsetgroup": "hdf5",
         "orientation": "h",
         "scalegroup": "True",
         "showlegend": true,
         "type": "violin",
         "x": [
          0.183353216,
          0.10336550600000001,
          0.09283052700000001,
          0.09067678300000001,
          0.110553382,
          0.097830052,
          0.100210216,
          0.096511632,
          0.095306263,
          0.09832729
         ],
         "x0": " ",
         "xaxis": "x",
         "y": [
          "1024.0 MB",
          "1024.0 MB",
          "1024.0 MB",
          "1024.0 MB",
          "1024.0 MB",
          "1024.0 MB",
          "1024.0 MB",
          "1024.0 MB",
          "1024.0 MB",
          "1024.0 MB"
         ],
         "y0": " ",
         "yaxis": "y"
        }
       ],
       "layout": {
        "legend": {
         "title": {
          "text": "engine"
         },
         "tracegroupgap": 0
        },
        "margin": {
         "t": 60
        },
        "template": {
         "data": {
          "bar": [
           {
            "error_x": {
             "color": "#2a3f5f"
            },
            "error_y": {
             "color": "#2a3f5f"
            },
            "marker": {
             "line": {
              "color": "#E5ECF6",
              "width": 0.5
             },
             "pattern": {
              "fillmode": "overlay",
              "size": 10,
              "solidity": 0.2
             }
            },
            "type": "bar"
           }
          ],
          "barpolar": [
           {
            "marker": {
             "line": {
              "color": "#E5ECF6",
              "width": 0.5
             },
             "pattern": {
              "fillmode": "overlay",
              "size": 10,
              "solidity": 0.2
             }
            },
            "type": "barpolar"
           }
          ],
          "carpet": [
           {
            "aaxis": {
             "endlinecolor": "#2a3f5f",
             "gridcolor": "white",
             "linecolor": "white",
             "minorgridcolor": "white",
             "startlinecolor": "#2a3f5f"
            },
            "baxis": {
             "endlinecolor": "#2a3f5f",
             "gridcolor": "white",
             "linecolor": "white",
             "minorgridcolor": "white",
             "startlinecolor": "#2a3f5f"
            },
            "type": "carpet"
           }
          ],
          "choropleth": [
           {
            "colorbar": {
             "outlinewidth": 0,
             "ticks": ""
            },
            "type": "choropleth"
           }
          ],
          "contour": [
           {
            "colorbar": {
             "outlinewidth": 0,
             "ticks": ""
            },
            "colorscale": [
             [
              0,
              "#0d0887"
             ],
             [
              0.1111111111111111,
              "#46039f"
             ],
             [
              0.2222222222222222,
              "#7201a8"
             ],
             [
              0.3333333333333333,
              "#9c179e"
             ],
             [
              0.4444444444444444,
              "#bd3786"
             ],
             [
              0.5555555555555556,
              "#d8576b"
             ],
             [
              0.6666666666666666,
              "#ed7953"
             ],
             [
              0.7777777777777778,
              "#fb9f3a"
             ],
             [
              0.8888888888888888,
              "#fdca26"
             ],
             [
              1,
              "#f0f921"
             ]
            ],
            "type": "contour"
           }
          ],
          "contourcarpet": [
           {
            "colorbar": {
             "outlinewidth": 0,
             "ticks": ""
            },
            "type": "contourcarpet"
           }
          ],
          "heatmap": [
           {
            "colorbar": {
             "outlinewidth": 0,
             "ticks": ""
            },
            "colorscale": [
             [
              0,
              "#0d0887"
             ],
             [
              0.1111111111111111,
              "#46039f"
             ],
             [
              0.2222222222222222,
              "#7201a8"
             ],
             [
              0.3333333333333333,
              "#9c179e"
             ],
             [
              0.4444444444444444,
              "#bd3786"
             ],
             [
              0.5555555555555556,
              "#d8576b"
             ],
             [
              0.6666666666666666,
              "#ed7953"
             ],
             [
              0.7777777777777778,
              "#fb9f3a"
             ],
             [
              0.8888888888888888,
              "#fdca26"
             ],
             [
              1,
              "#f0f921"
             ]
            ],
            "type": "heatmap"
           }
          ],
          "heatmapgl": [
           {
            "colorbar": {
             "outlinewidth": 0,
             "ticks": ""
            },
            "colorscale": [
             [
              0,
              "#0d0887"
             ],
             [
              0.1111111111111111,
              "#46039f"
             ],
             [
              0.2222222222222222,
              "#7201a8"
             ],
             [
              0.3333333333333333,
              "#9c179e"
             ],
             [
              0.4444444444444444,
              "#bd3786"
             ],
             [
              0.5555555555555556,
              "#d8576b"
             ],
             [
              0.6666666666666666,
              "#ed7953"
             ],
             [
              0.7777777777777778,
              "#fb9f3a"
             ],
             [
              0.8888888888888888,
              "#fdca26"
             ],
             [
              1,
              "#f0f921"
             ]
            ],
            "type": "heatmapgl"
           }
          ],
          "histogram": [
           {
            "marker": {
             "pattern": {
              "fillmode": "overlay",
              "size": 10,
              "solidity": 0.2
             }
            },
            "type": "histogram"
           }
          ],
          "histogram2d": [
           {
            "colorbar": {
             "outlinewidth": 0,
             "ticks": ""
            },
            "colorscale": [
             [
              0,
              "#0d0887"
             ],
             [
              0.1111111111111111,
              "#46039f"
             ],
             [
              0.2222222222222222,
              "#7201a8"
             ],
             [
              0.3333333333333333,
              "#9c179e"
             ],
             [
              0.4444444444444444,
              "#bd3786"
             ],
             [
              0.5555555555555556,
              "#d8576b"
             ],
             [
              0.6666666666666666,
              "#ed7953"
             ],
             [
              0.7777777777777778,
              "#fb9f3a"
             ],
             [
              0.8888888888888888,
              "#fdca26"
             ],
             [
              1,
              "#f0f921"
             ]
            ],
            "type": "histogram2d"
           }
          ],
          "histogram2dcontour": [
           {
            "colorbar": {
             "outlinewidth": 0,
             "ticks": ""
            },
            "colorscale": [
             [
              0,
              "#0d0887"
             ],
             [
              0.1111111111111111,
              "#46039f"
             ],
             [
              0.2222222222222222,
              "#7201a8"
             ],
             [
              0.3333333333333333,
              "#9c179e"
             ],
             [
              0.4444444444444444,
              "#bd3786"
             ],
             [
              0.5555555555555556,
              "#d8576b"
             ],
             [
              0.6666666666666666,
              "#ed7953"
             ],
             [
              0.7777777777777778,
              "#fb9f3a"
             ],
             [
              0.8888888888888888,
              "#fdca26"
             ],
             [
              1,
              "#f0f921"
             ]
            ],
            "type": "histogram2dcontour"
           }
          ],
          "mesh3d": [
           {
            "colorbar": {
             "outlinewidth": 0,
             "ticks": ""
            },
            "type": "mesh3d"
           }
          ],
          "parcoords": [
           {
            "line": {
             "colorbar": {
              "outlinewidth": 0,
              "ticks": ""
             }
            },
            "type": "parcoords"
           }
          ],
          "pie": [
           {
            "automargin": true,
            "type": "pie"
           }
          ],
          "scatter": [
           {
            "fillpattern": {
             "fillmode": "overlay",
             "size": 10,
             "solidity": 0.2
            },
            "type": "scatter"
           }
          ],
          "scatter3d": [
           {
            "line": {
             "colorbar": {
              "outlinewidth": 0,
              "ticks": ""
             }
            },
            "marker": {
             "colorbar": {
              "outlinewidth": 0,
              "ticks": ""
             }
            },
            "type": "scatter3d"
           }
          ],
          "scattercarpet": [
           {
            "marker": {
             "colorbar": {
              "outlinewidth": 0,
              "ticks": ""
             }
            },
            "type": "scattercarpet"
           }
          ],
          "scattergeo": [
           {
            "marker": {
             "colorbar": {
              "outlinewidth": 0,
              "ticks": ""
             }
            },
            "type": "scattergeo"
           }
          ],
          "scattergl": [
           {
            "marker": {
             "colorbar": {
              "outlinewidth": 0,
              "ticks": ""
             }
            },
            "type": "scattergl"
           }
          ],
          "scattermapbox": [
           {
            "marker": {
             "colorbar": {
              "outlinewidth": 0,
              "ticks": ""
             }
            },
            "type": "scattermapbox"
           }
          ],
          "scatterpolar": [
           {
            "marker": {
             "colorbar": {
              "outlinewidth": 0,
              "ticks": ""
             }
            },
            "type": "scatterpolar"
           }
          ],
          "scatterpolargl": [
           {
            "marker": {
             "colorbar": {
              "outlinewidth": 0,
              "ticks": ""
             }
            },
            "type": "scatterpolargl"
           }
          ],
          "scatterternary": [
           {
            "marker": {
             "colorbar": {
              "outlinewidth": 0,
              "ticks": ""
             }
            },
            "type": "scatterternary"
           }
          ],
          "surface": [
           {
            "colorbar": {
             "outlinewidth": 0,
             "ticks": ""
            },
            "colorscale": [
             [
              0,
              "#0d0887"
             ],
             [
              0.1111111111111111,
              "#46039f"
             ],
             [
              0.2222222222222222,
              "#7201a8"
             ],
             [
              0.3333333333333333,
              "#9c179e"
             ],
             [
              0.4444444444444444,
              "#bd3786"
             ],
             [
              0.5555555555555556,
              "#d8576b"
             ],
             [
              0.6666666666666666,
              "#ed7953"
             ],
             [
              0.7777777777777778,
              "#fb9f3a"
             ],
             [
              0.8888888888888888,
              "#fdca26"
             ],
             [
              1,
              "#f0f921"
             ]
            ],
            "type": "surface"
           }
          ],
          "table": [
           {
            "cells": {
             "fill": {
              "color": "#EBF0F8"
             },
             "line": {
              "color": "white"
             }
            },
            "header": {
             "fill": {
              "color": "#C8D4E3"
             },
             "line": {
              "color": "white"
             }
            },
            "type": "table"
           }
          ]
         },
         "layout": {
          "annotationdefaults": {
           "arrowcolor": "#2a3f5f",
           "arrowhead": 0,
           "arrowwidth": 1
          },
          "autotypenumbers": "strict",
          "coloraxis": {
           "colorbar": {
            "outlinewidth": 0,
            "ticks": ""
           }
          },
          "colorscale": {
           "diverging": [
            [
             0,
             "#8e0152"
            ],
            [
             0.1,
             "#c51b7d"
            ],
            [
             0.2,
             "#de77ae"
            ],
            [
             0.3,
             "#f1b6da"
            ],
            [
             0.4,
             "#fde0ef"
            ],
            [
             0.5,
             "#f7f7f7"
            ],
            [
             0.6,
             "#e6f5d0"
            ],
            [
             0.7,
             "#b8e186"
            ],
            [
             0.8,
             "#7fbc41"
            ],
            [
             0.9,
             "#4d9221"
            ],
            [
             1,
             "#276419"
            ]
           ],
           "sequential": [
            [
             0,
             "#0d0887"
            ],
            [
             0.1111111111111111,
             "#46039f"
            ],
            [
             0.2222222222222222,
             "#7201a8"
            ],
            [
             0.3333333333333333,
             "#9c179e"
            ],
            [
             0.4444444444444444,
             "#bd3786"
            ],
            [
             0.5555555555555556,
             "#d8576b"
            ],
            [
             0.6666666666666666,
             "#ed7953"
            ],
            [
             0.7777777777777778,
             "#fb9f3a"
            ],
            [
             0.8888888888888888,
             "#fdca26"
            ],
            [
             1,
             "#f0f921"
            ]
           ],
           "sequentialminus": [
            [
             0,
             "#0d0887"
            ],
            [
             0.1111111111111111,
             "#46039f"
            ],
            [
             0.2222222222222222,
             "#7201a8"
            ],
            [
             0.3333333333333333,
             "#9c179e"
            ],
            [
             0.4444444444444444,
             "#bd3786"
            ],
            [
             0.5555555555555556,
             "#d8576b"
            ],
            [
             0.6666666666666666,
             "#ed7953"
            ],
            [
             0.7777777777777778,
             "#fb9f3a"
            ],
            [
             0.8888888888888888,
             "#fdca26"
            ],
            [
             1,
             "#f0f921"
            ]
           ]
          },
          "colorway": [
           "#636efa",
           "#EF553B",
           "#00cc96",
           "#ab63fa",
           "#FFA15A",
           "#19d3f3",
           "#FF6692",
           "#B6E880",
           "#FF97FF",
           "#FECB52"
          ],
          "font": {
           "color": "#2a3f5f"
          },
          "geo": {
           "bgcolor": "white",
           "lakecolor": "white",
           "landcolor": "#E5ECF6",
           "showlakes": true,
           "showland": true,
           "subunitcolor": "white"
          },
          "hoverlabel": {
           "align": "left"
          },
          "hovermode": "closest",
          "mapbox": {
           "style": "light"
          },
          "paper_bgcolor": "white",
          "plot_bgcolor": "#E5ECF6",
          "polar": {
           "angularaxis": {
            "gridcolor": "white",
            "linecolor": "white",
            "ticks": ""
           },
           "bgcolor": "#E5ECF6",
           "radialaxis": {
            "gridcolor": "white",
            "linecolor": "white",
            "ticks": ""
           }
          },
          "scene": {
           "xaxis": {
            "backgroundcolor": "#E5ECF6",
            "gridcolor": "white",
            "gridwidth": 2,
            "linecolor": "white",
            "showbackground": true,
            "ticks": "",
            "zerolinecolor": "white"
           },
           "yaxis": {
            "backgroundcolor": "#E5ECF6",
            "gridcolor": "white",
            "gridwidth": 2,
            "linecolor": "white",
            "showbackground": true,
            "ticks": "",
            "zerolinecolor": "white"
           },
           "zaxis": {
            "backgroundcolor": "#E5ECF6",
            "gridcolor": "white",
            "gridwidth": 2,
            "linecolor": "white",
            "showbackground": true,
            "ticks": "",
            "zerolinecolor": "white"
           }
          },
          "shapedefaults": {
           "line": {
            "color": "#2a3f5f"
           }
          },
          "ternary": {
           "aaxis": {
            "gridcolor": "white",
            "linecolor": "white",
            "ticks": ""
           },
           "baxis": {
            "gridcolor": "white",
            "linecolor": "white",
            "ticks": ""
           },
           "bgcolor": "#E5ECF6",
           "caxis": {
            "gridcolor": "white",
            "linecolor": "white",
            "ticks": ""
           }
          },
          "title": {
           "x": 0.05
          },
          "xaxis": {
           "automargin": true,
           "gridcolor": "white",
           "linecolor": "white",
           "ticks": "",
           "title": {
            "standoff": 15
           },
           "zerolinecolor": "white",
           "zerolinewidth": 2
          },
          "yaxis": {
           "automargin": true,
           "gridcolor": "white",
           "linecolor": "white",
           "ticks": "",
           "title": {
            "standoff": 15
           },
           "zerolinecolor": "white",
           "zerolinewidth": 2
          }
         }
        },
        "violinmode": "group",
        "xaxis": {
         "anchor": "y",
         "domain": [
          0,
          1
         ],
         "title": {
          "text": "time taken"
         },
         "type": "log"
        },
        "yaxis": {
         "anchor": "x",
         "domain": [
          0,
          1
         ],
         "title": {
          "text": "filesize per chunk"
         }
        }
       }
      },
      "text/html": [
       "<div>                            <div id=\"cc9adfa3-121c-4b01-8947-3553869601c6\" class=\"plotly-graph-div\" style=\"height:525px; width:100%;\"></div>            <script type=\"text/javascript\">                require([\"plotly\"], function(Plotly) {                    window.PLOTLYENV=window.PLOTLYENV || {};                                    if (document.getElementById(\"cc9adfa3-121c-4b01-8947-3553869601c6\")) {                    Plotly.newPlot(                        \"cc9adfa3-121c-4b01-8947-3553869601c6\",                        [{\"alignmentgroup\":\"True\",\"box\":{\"visible\":false},\"hovertemplate\":\"engine=zarr\\u003cbr\\u003etime taken=%{x}\\u003cbr\\u003efilesize per chunk=%{y}\\u003cextra\\u003e\\u003c\\u002fextra\\u003e\",\"legendgroup\":\"zarr\",\"marker\":{\"color\":\"#636efa\"},\"name\":\"zarr\",\"offsetgroup\":\"zarr\",\"orientation\":\"h\",\"scalegroup\":\"True\",\"showlegend\":true,\"x\":[0.8950659540000001,0.9446840860000001,0.94388729,0.8315148790000001,0.819262417,0.8176201470000001,0.817028666,0.819191114,0.811937299,0.8105739710000001],\"x0\":\" \",\"xaxis\":\"x\",\"y\":[\"1024.0 MB\",\"1024.0 MB\",\"1024.0 MB\",\"1024.0 MB\",\"1024.0 MB\",\"1024.0 MB\",\"1024.0 MB\",\"1024.0 MB\",\"1024.0 MB\",\"1024.0 MB\"],\"y0\":\" \",\"yaxis\":\"y\",\"type\":\"violin\"},{\"alignmentgroup\":\"True\",\"box\":{\"visible\":false},\"hovertemplate\":\"engine=netcdf4\\u003cbr\\u003etime taken=%{x}\\u003cbr\\u003efilesize per chunk=%{y}\\u003cextra\\u003e\\u003c\\u002fextra\\u003e\",\"legendgroup\":\"netcdf4\",\"marker\":{\"color\":\"#EF553B\"},\"name\":\"netcdf4\",\"offsetgroup\":\"netcdf4\",\"orientation\":\"h\",\"scalegroup\":\"True\",\"showlegend\":true,\"x\":[0.11527150400000001,0.141838884,0.12016710200000001,0.11868851100000001,0.11912513,0.117110691,0.11892630200000001,0.11607412,0.11663060200000001,0.11559393700000001],\"x0\":\" \",\"xaxis\":\"x\",\"y\":[\"1024.0 MB\",\"1024.0 MB\",\"1024.0 MB\",\"1024.0 MB\",\"1024.0 MB\",\"1024.0 MB\",\"1024.0 MB\",\"1024.0 MB\",\"1024.0 MB\",\"1024.0 MB\"],\"y0\":\" \",\"yaxis\":\"y\",\"type\":\"violin\"},{\"alignmentgroup\":\"True\",\"box\":{\"visible\":false},\"hovertemplate\":\"engine=hdf5\\u003cbr\\u003etime taken=%{x}\\u003cbr\\u003efilesize per chunk=%{y}\\u003cextra\\u003e\\u003c\\u002fextra\\u003e\",\"legendgroup\":\"hdf5\",\"marker\":{\"color\":\"#00cc96\"},\"name\":\"hdf5\",\"offsetgroup\":\"hdf5\",\"orientation\":\"h\",\"scalegroup\":\"True\",\"showlegend\":true,\"x\":[0.183353216,0.10336550600000001,0.09283052700000001,0.09067678300000001,0.110553382,0.097830052,0.100210216,0.096511632,0.095306263,0.09832729],\"x0\":\" \",\"xaxis\":\"x\",\"y\":[\"1024.0 MB\",\"1024.0 MB\",\"1024.0 MB\",\"1024.0 MB\",\"1024.0 MB\",\"1024.0 MB\",\"1024.0 MB\",\"1024.0 MB\",\"1024.0 MB\",\"1024.0 MB\"],\"y0\":\" \",\"yaxis\":\"y\",\"type\":\"violin\"}],                        {\"template\":{\"data\":{\"histogram2dcontour\":[{\"type\":\"histogram2dcontour\",\"colorbar\":{\"outlinewidth\":0,\"ticks\":\"\"},\"colorscale\":[[0.0,\"#0d0887\"],[0.1111111111111111,\"#46039f\"],[0.2222222222222222,\"#7201a8\"],[0.3333333333333333,\"#9c179e\"],[0.4444444444444444,\"#bd3786\"],[0.5555555555555556,\"#d8576b\"],[0.6666666666666666,\"#ed7953\"],[0.7777777777777778,\"#fb9f3a\"],[0.8888888888888888,\"#fdca26\"],[1.0,\"#f0f921\"]]}],\"choropleth\":[{\"type\":\"choropleth\",\"colorbar\":{\"outlinewidth\":0,\"ticks\":\"\"}}],\"histogram2d\":[{\"type\":\"histogram2d\",\"colorbar\":{\"outlinewidth\":0,\"ticks\":\"\"},\"colorscale\":[[0.0,\"#0d0887\"],[0.1111111111111111,\"#46039f\"],[0.2222222222222222,\"#7201a8\"],[0.3333333333333333,\"#9c179e\"],[0.4444444444444444,\"#bd3786\"],[0.5555555555555556,\"#d8576b\"],[0.6666666666666666,\"#ed7953\"],[0.7777777777777778,\"#fb9f3a\"],[0.8888888888888888,\"#fdca26\"],[1.0,\"#f0f921\"]]}],\"heatmap\":[{\"type\":\"heatmap\",\"colorbar\":{\"outlinewidth\":0,\"ticks\":\"\"},\"colorscale\":[[0.0,\"#0d0887\"],[0.1111111111111111,\"#46039f\"],[0.2222222222222222,\"#7201a8\"],[0.3333333333333333,\"#9c179e\"],[0.4444444444444444,\"#bd3786\"],[0.5555555555555556,\"#d8576b\"],[0.6666666666666666,\"#ed7953\"],[0.7777777777777778,\"#fb9f3a\"],[0.8888888888888888,\"#fdca26\"],[1.0,\"#f0f921\"]]}],\"heatmapgl\":[{\"type\":\"heatmapgl\",\"colorbar\":{\"outlinewidth\":0,\"ticks\":\"\"},\"colorscale\":[[0.0,\"#0d0887\"],[0.1111111111111111,\"#46039f\"],[0.2222222222222222,\"#7201a8\"],[0.3333333333333333,\"#9c179e\"],[0.4444444444444444,\"#bd3786\"],[0.5555555555555556,\"#d8576b\"],[0.6666666666666666,\"#ed7953\"],[0.7777777777777778,\"#fb9f3a\"],[0.8888888888888888,\"#fdca26\"],[1.0,\"#f0f921\"]]}],\"contourcarpet\":[{\"type\":\"contourcarpet\",\"colorbar\":{\"outlinewidth\":0,\"ticks\":\"\"}}],\"contour\":[{\"type\":\"contour\",\"colorbar\":{\"outlinewidth\":0,\"ticks\":\"\"},\"colorscale\":[[0.0,\"#0d0887\"],[0.1111111111111111,\"#46039f\"],[0.2222222222222222,\"#7201a8\"],[0.3333333333333333,\"#9c179e\"],[0.4444444444444444,\"#bd3786\"],[0.5555555555555556,\"#d8576b\"],[0.6666666666666666,\"#ed7953\"],[0.7777777777777778,\"#fb9f3a\"],[0.8888888888888888,\"#fdca26\"],[1.0,\"#f0f921\"]]}],\"surface\":[{\"type\":\"surface\",\"colorbar\":{\"outlinewidth\":0,\"ticks\":\"\"},\"colorscale\":[[0.0,\"#0d0887\"],[0.1111111111111111,\"#46039f\"],[0.2222222222222222,\"#7201a8\"],[0.3333333333333333,\"#9c179e\"],[0.4444444444444444,\"#bd3786\"],[0.5555555555555556,\"#d8576b\"],[0.6666666666666666,\"#ed7953\"],[0.7777777777777778,\"#fb9f3a\"],[0.8888888888888888,\"#fdca26\"],[1.0,\"#f0f921\"]]}],\"mesh3d\":[{\"type\":\"mesh3d\",\"colorbar\":{\"outlinewidth\":0,\"ticks\":\"\"}}],\"scatter\":[{\"fillpattern\":{\"fillmode\":\"overlay\",\"size\":10,\"solidity\":0.2},\"type\":\"scatter\"}],\"parcoords\":[{\"type\":\"parcoords\",\"line\":{\"colorbar\":{\"outlinewidth\":0,\"ticks\":\"\"}}}],\"scatterpolargl\":[{\"type\":\"scatterpolargl\",\"marker\":{\"colorbar\":{\"outlinewidth\":0,\"ticks\":\"\"}}}],\"bar\":[{\"error_x\":{\"color\":\"#2a3f5f\"},\"error_y\":{\"color\":\"#2a3f5f\"},\"marker\":{\"line\":{\"color\":\"#E5ECF6\",\"width\":0.5},\"pattern\":{\"fillmode\":\"overlay\",\"size\":10,\"solidity\":0.2}},\"type\":\"bar\"}],\"scattergeo\":[{\"type\":\"scattergeo\",\"marker\":{\"colorbar\":{\"outlinewidth\":0,\"ticks\":\"\"}}}],\"scatterpolar\":[{\"type\":\"scatterpolar\",\"marker\":{\"colorbar\":{\"outlinewidth\":0,\"ticks\":\"\"}}}],\"histogram\":[{\"marker\":{\"pattern\":{\"fillmode\":\"overlay\",\"size\":10,\"solidity\":0.2}},\"type\":\"histogram\"}],\"scattergl\":[{\"type\":\"scattergl\",\"marker\":{\"colorbar\":{\"outlinewidth\":0,\"ticks\":\"\"}}}],\"scatter3d\":[{\"type\":\"scatter3d\",\"line\":{\"colorbar\":{\"outlinewidth\":0,\"ticks\":\"\"}},\"marker\":{\"colorbar\":{\"outlinewidth\":0,\"ticks\":\"\"}}}],\"scattermapbox\":[{\"type\":\"scattermapbox\",\"marker\":{\"colorbar\":{\"outlinewidth\":0,\"ticks\":\"\"}}}],\"scatterternary\":[{\"type\":\"scatterternary\",\"marker\":{\"colorbar\":{\"outlinewidth\":0,\"ticks\":\"\"}}}],\"scattercarpet\":[{\"type\":\"scattercarpet\",\"marker\":{\"colorbar\":{\"outlinewidth\":0,\"ticks\":\"\"}}}],\"carpet\":[{\"aaxis\":{\"endlinecolor\":\"#2a3f5f\",\"gridcolor\":\"white\",\"linecolor\":\"white\",\"minorgridcolor\":\"white\",\"startlinecolor\":\"#2a3f5f\"},\"baxis\":{\"endlinecolor\":\"#2a3f5f\",\"gridcolor\":\"white\",\"linecolor\":\"white\",\"minorgridcolor\":\"white\",\"startlinecolor\":\"#2a3f5f\"},\"type\":\"carpet\"}],\"table\":[{\"cells\":{\"fill\":{\"color\":\"#EBF0F8\"},\"line\":{\"color\":\"white\"}},\"header\":{\"fill\":{\"color\":\"#C8D4E3\"},\"line\":{\"color\":\"white\"}},\"type\":\"table\"}],\"barpolar\":[{\"marker\":{\"line\":{\"color\":\"#E5ECF6\",\"width\":0.5},\"pattern\":{\"fillmode\":\"overlay\",\"size\":10,\"solidity\":0.2}},\"type\":\"barpolar\"}],\"pie\":[{\"automargin\":true,\"type\":\"pie\"}]},\"layout\":{\"autotypenumbers\":\"strict\",\"colorway\":[\"#636efa\",\"#EF553B\",\"#00cc96\",\"#ab63fa\",\"#FFA15A\",\"#19d3f3\",\"#FF6692\",\"#B6E880\",\"#FF97FF\",\"#FECB52\"],\"font\":{\"color\":\"#2a3f5f\"},\"hovermode\":\"closest\",\"hoverlabel\":{\"align\":\"left\"},\"paper_bgcolor\":\"white\",\"plot_bgcolor\":\"#E5ECF6\",\"polar\":{\"bgcolor\":\"#E5ECF6\",\"angularaxis\":{\"gridcolor\":\"white\",\"linecolor\":\"white\",\"ticks\":\"\"},\"radialaxis\":{\"gridcolor\":\"white\",\"linecolor\":\"white\",\"ticks\":\"\"}},\"ternary\":{\"bgcolor\":\"#E5ECF6\",\"aaxis\":{\"gridcolor\":\"white\",\"linecolor\":\"white\",\"ticks\":\"\"},\"baxis\":{\"gridcolor\":\"white\",\"linecolor\":\"white\",\"ticks\":\"\"},\"caxis\":{\"gridcolor\":\"white\",\"linecolor\":\"white\",\"ticks\":\"\"}},\"coloraxis\":{\"colorbar\":{\"outlinewidth\":0,\"ticks\":\"\"}},\"colorscale\":{\"sequential\":[[0.0,\"#0d0887\"],[0.1111111111111111,\"#46039f\"],[0.2222222222222222,\"#7201a8\"],[0.3333333333333333,\"#9c179e\"],[0.4444444444444444,\"#bd3786\"],[0.5555555555555556,\"#d8576b\"],[0.6666666666666666,\"#ed7953\"],[0.7777777777777778,\"#fb9f3a\"],[0.8888888888888888,\"#fdca26\"],[1.0,\"#f0f921\"]],\"sequentialminus\":[[0.0,\"#0d0887\"],[0.1111111111111111,\"#46039f\"],[0.2222222222222222,\"#7201a8\"],[0.3333333333333333,\"#9c179e\"],[0.4444444444444444,\"#bd3786\"],[0.5555555555555556,\"#d8576b\"],[0.6666666666666666,\"#ed7953\"],[0.7777777777777778,\"#fb9f3a\"],[0.8888888888888888,\"#fdca26\"],[1.0,\"#f0f921\"]],\"diverging\":[[0,\"#8e0152\"],[0.1,\"#c51b7d\"],[0.2,\"#de77ae\"],[0.3,\"#f1b6da\"],[0.4,\"#fde0ef\"],[0.5,\"#f7f7f7\"],[0.6,\"#e6f5d0\"],[0.7,\"#b8e186\"],[0.8,\"#7fbc41\"],[0.9,\"#4d9221\"],[1,\"#276419\"]]},\"xaxis\":{\"gridcolor\":\"white\",\"linecolor\":\"white\",\"ticks\":\"\",\"title\":{\"standoff\":15},\"zerolinecolor\":\"white\",\"automargin\":true,\"zerolinewidth\":2},\"yaxis\":{\"gridcolor\":\"white\",\"linecolor\":\"white\",\"ticks\":\"\",\"title\":{\"standoff\":15},\"zerolinecolor\":\"white\",\"automargin\":true,\"zerolinewidth\":2},\"scene\":{\"xaxis\":{\"backgroundcolor\":\"#E5ECF6\",\"gridcolor\":\"white\",\"linecolor\":\"white\",\"showbackground\":true,\"ticks\":\"\",\"zerolinecolor\":\"white\",\"gridwidth\":2},\"yaxis\":{\"backgroundcolor\":\"#E5ECF6\",\"gridcolor\":\"white\",\"linecolor\":\"white\",\"showbackground\":true,\"ticks\":\"\",\"zerolinecolor\":\"white\",\"gridwidth\":2},\"zaxis\":{\"backgroundcolor\":\"#E5ECF6\",\"gridcolor\":\"white\",\"linecolor\":\"white\",\"showbackground\":true,\"ticks\":\"\",\"zerolinecolor\":\"white\",\"gridwidth\":2}},\"shapedefaults\":{\"line\":{\"color\":\"#2a3f5f\"}},\"annotationdefaults\":{\"arrowcolor\":\"#2a3f5f\",\"arrowhead\":0,\"arrowwidth\":1},\"geo\":{\"bgcolor\":\"white\",\"landcolor\":\"#E5ECF6\",\"subunitcolor\":\"white\",\"showland\":true,\"showlakes\":true,\"lakecolor\":\"white\"},\"title\":{\"x\":0.05},\"mapbox\":{\"style\":\"light\"}}},\"xaxis\":{\"anchor\":\"y\",\"domain\":[0.0,1.0],\"title\":{\"text\":\"time taken\"},\"type\":\"log\"},\"yaxis\":{\"anchor\":\"x\",\"domain\":[0.0,1.0],\"title\":{\"text\":\"filesize per chunk\"}},\"legend\":{\"title\":{\"text\":\"engine\"},\"tracegroupgap\":0},\"margin\":{\"t\":60},\"violinmode\":\"group\"},                        {\"responsive\": true}                    ).then(function(){\n",
       "                            \n",
       "var gd = document.getElementById('cc9adfa3-121c-4b01-8947-3553869601c6');\n",
       "var x = new MutationObserver(function (mutations, observer) {{\n",
       "        var display = window.getComputedStyle(gd).display;\n",
       "        if (!display || display === 'none') {{\n",
       "            console.log([gd, 'removed!']);\n",
       "            Plotly.purge(gd);\n",
       "            observer.disconnect();\n",
       "        }}\n",
       "}});\n",
       "\n",
       "// Listen for the removal of the full notebook cells\n",
       "var notebookContainer = gd.closest('#notebook-container');\n",
       "if (notebookContainer) {{\n",
       "    x.observe(notebookContainer, {childList: true});\n",
       "}}\n",
       "\n",
       "// Listen for the clearing of the current output cell\n",
       "var outputEl = gd.closest('.output');\n",
       "if (outputEl) {{\n",
       "    x.observe(outputEl, {childList: true});\n",
       "}}\n",
       "\n",
       "                        })                };                });            </script>        </div>"
      ]
     },
     "metadata": {},
     "output_type": "display_data"
    }
   ],
   "source": [
    "import plotly.express as px \n",
    "import plotly.graph_objects as go\n",
    "import numpy as np\n",
    "\n",
    "#pd.options.plotting.backend = \"plotly\"\n",
    "\n",
    "df = df_bench \n",
    "\n",
    "filter = df[\"format\"].drop_duplicates(ignore_index=True)\n",
    "\n",
    "smth = pd.DataFrame()\n",
    "for format in filter:\n",
    "    mask = df[\"format\"].values == format\n",
    "    df_format = df[mask]\n",
    "    mean =  df_format[\"time taken\"].mean()\n",
    "    tmp = pd.DataFrame(data=[{\"mean time\": mean, \"format\": format, \"engine\": df_format[\"engine\"].iat[0], \"run\": df_format[\"run\"].iat[0], \"filesize per chunk\": df_format[\"filesize per chunk\"].iat[0]}])\n",
    "    smth = pd.concat([smth, tmp], ignore_index=True)\n",
    "\n",
    "fig = px.line(data_frame=smth, log_y=True, x=\"filesize per chunk\", y=\"mean time\", color=\"engine\", markers=True, hover_data=[\"format\"], title=\"loading complete dataset with varying chunksizes\")\n",
    "fig.show()\n",
    "\n",
    "fig =  fig = px.box(data_frame=df, log_y=True, x=\"engine\", y=\"time taken\", color=\"run\", hover_data=[\"format\"])\n",
    "fig.show()\n",
    "\n",
    "fig =  fig = px.box(data_frame=df, log_y=True, x=\"filesize per chunk\", y=\"time taken\", color=\"engine\", hover_data=[\"format\"], title=\"filesize per chunk\")\n",
    "fig.show()\n",
    "\n",
    "filter = df[\"engine\"].drop_duplicates(ignore_index=True)\n",
    "\n",
    "for engine in filter:\n",
    "    \n",
    "    mask = df[\"engine\"].values == engine\n",
    "    df_engine = df[mask]\n",
    "    fig =  fig = px.box(data_frame=df_engine, log_y=True, x=\"engine\", y=\"time taken\", color=\"filesize per chunk\",)\n",
    "    fig.show()\n",
    "\n",
    "\n",
    "filter = df[\"run\"].drop_duplicates(ignore_index=True)\n",
    "\n",
    "fig = px.violin(data_frame=df, log_x=True, x=\"time taken\", y=\"format\", color=\"engine\")\n",
    "fig.show()\n",
    "\n",
    "for engine in filter:\n",
    "    \n",
    "    mask = df[\"run\"].values == engine\n",
    "    fig = px.box(data_frame=df[mask], log_y=True, x=\"engine\", y=\"time taken\", color=\"filesize per chunk\", points=\"all\",)\n",
    "    #fig.show()\n",
    "    \n",
    "    fig = px.violin(data_frame=df[mask], log_x=True, x=\"time taken\", y=\"filesize per chunk\", color=\"engine\")\n",
    "    fig.show()"
   ]
  },
  {
   "cell_type": "code",
   "execution_count": 16,
   "id": "2c9f8b09",
   "metadata": {},
   "outputs": [],
   "source": [
    "%%script false --no-raise-error\n",
    "from mpi4py import MPI\n",
    "import numpy as np\n",
    "from netCDF4 import Dataset\n",
    "\n",
    "rank = MPI.COMM_WORLD.rank\n",
    "nc = Dataset('parallel_test.nc','w',parallel=True)\n",
    "d = nc.createDimension('dim',4)\n",
    "v = nc.createVariable('var', np.int64, 'dim')\n",
    "v[rank] = rank\n",
    "nc.close()"
   ]
  },
  {
   "cell_type": "code",
   "execution_count": null,
   "id": "aee7f3a8",
   "metadata": {},
   "outputs": [],
   "source": [
    "%%script false --no-raise-error\n",
    "import pandas as pd\n",
    "\n",
    "log = [0, 1, 2, 3, 4, 5, 6, 7]\n",
    "log2 = [7, 15, 154, 155, 566,7 ,8]\n",
    "\n",
    "df_test = pd.DataFrame()\n",
    "\n",
    "\n",
    "df_tmp = pd.DataFrame(data={\"time taken\": log, \"format\": f\"lol-{5}-{5}\", \"id\": 0})\n",
    "df_tmp2 = pd.DataFrame(data={\"time taken\": log2, \"format\": f\"lol-{6}-{6}\", \"id\": 1})\n",
    "\n",
    "df_test = pd.concat([df_test, df_tmp], ignore_index=True)\n",
    "df_test = pd.concat([df_test, df_tmp2], ignore_index=True)\n",
    "\n",
    "#print(df_test)\n",
    "\n",
    "filters = df_test[\"id\"].drop_duplicates(ignore_index=True)\n",
    "\n",
    "for id in filters:\n",
    "    \n",
    "    mask = df_test[\"id\"].values == id\n",
    "    some = df_test[mask]\n",
    "    \n",
    "    print(f\"value picked for {id} are {some}\")"
   ]
  }
 ],
 "metadata": {
  "kernelspec": {
   "display_name": ".venv",
   "language": "python",
   "name": "python3"
  },
  "language_info": {
   "codemirror_mode": {
    "name": "ipython",
    "version": 3
   },
   "file_extension": ".py",
   "mimetype": "text/x-python",
   "name": "python",
   "nbconvert_exporter": "python",
   "pygments_lexer": "ipython3",
   "version": "3.11.9"
  }
 },
 "nbformat": 4,
 "nbformat_minor": 5
}

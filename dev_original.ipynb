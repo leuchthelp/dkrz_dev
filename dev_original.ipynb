{
 "cells": [
  {
   "cell_type": "code",
   "execution_count": null,
   "id": "46c74f21",
   "metadata": {},
   "outputs": [
    {
     "data": {
      "text/plain": [
       "Type               : Array\n",
       "Zarr format        : 3\n",
       "Data type          : DataType.float64\n",
       "Shape              : (134217728,)\n",
       "Chunk shape        : (262144,)\n",
       "Order              : C\n",
       "Read-only          : False\n",
       "Store type         : LocalStore\n",
       "Filters            : ()\n",
       "Serializer         : BytesCodec(endian=<Endian.little: 'little'>)\n",
       "Compressors        : (ZstdCodec(level=0, checksum=False),)\n",
       "No. bytes          : 1073741824 (1.0G)\n",
       "No. bytes stored   : 1007889652\n",
       "Storage ratio      : 1.1\n",
       "Chunks Initialized : 0"
      ]
     },
     "execution_count": 3,
     "metadata": {},
     "output_type": "execute_result"
    }
   ],
   "source": [
    "import zarr\n",
    "import numpy as np\n",
    "\n",
    "root = zarr.create_group(store=\"c-stuff/data/datasets/test_dataset.zarr\", zarr_format=3, overwrite=True)\n",
    "\n",
    "x = root.create_array(name=\"X\", shape=(134217728), dtype=\"f8\", filters=None)\n",
    "x[:] = np.random.random_sample(134217728)\n",
    "\n",
    "root[\"X\"].info_complete()"
   ]
  },
  {
   "cell_type": "code",
   "execution_count": null,
   "id": "84ea4863",
   "metadata": {},
   "outputs": [
    {
     "data": {
      "text/plain": [
       "Type               : Array\n",
       "Zarr format        : 2\n",
       "Data type          : float64\n",
       "Shape              : (134217728,)\n",
       "Chunk shape        : (262144,)\n",
       "Order              : C\n",
       "Read-only          : False\n",
       "Store type         : LocalStore\n",
       "Filters            : ()\n",
       "Compressors        : (Blosc(cname='lz4', clevel=5, shuffle=SHUFFLE, blocksize=0),)\n",
       "No. bytes          : 1073741824 (1.0G)"
      ]
     },
     "execution_count": 20,
     "metadata": {},
     "output_type": "execute_result"
    }
   ],
   "source": [
    "root[\"X\"].info"
   ]
  },
  {
   "cell_type": "code",
   "execution_count": 23,
   "id": "1bef28f6",
   "metadata": {},
   "outputs": [
    {
     "data": {
      "text/plain": [
       "Type               : Array\n",
       "Zarr format        : 3\n",
       "Data type          : DataType.float32\n",
       "Shape              : (10,)\n",
       "Chunk shape        : (2,)\n",
       "Order              : C\n",
       "Read-only          : False\n",
       "Store type         : MemoryStore\n",
       "Filters            : ()\n",
       "Serializer         : BytesCodec(endian=<Endian.little: 'little'>)\n",
       "Compressors        : (ZstdCodec(level=0, checksum=False),)\n",
       "No. bytes          : 40"
      ]
     },
     "execution_count": 23,
     "metadata": {},
     "output_type": "execute_result"
    }
   ],
   "source": [
    "import zarr\n",
    "arr = zarr.create(shape=(10,), chunks=(2,), dtype=\"float32\")\n",
    "\n",
    "arr.info"
   ]
  },
  {
   "cell_type": "code",
   "execution_count": 2,
   "id": "bc4bfa9c",
   "metadata": {},
   "outputs": [],
   "source": [
    "import netCDF4\n",
    "import numpy as np\n",
    "\n",
    "root = netCDF4.Dataset(\"c-stuff/data/datasets/test_dataset.nc\", \"w\", format=\"NETCDF4\")\n",
    "root.createGroup(\"/\")\n",
    "root.createDimension(\"u\", 134217728)\n",
    "       \n",
    "x = root.createVariable(\"X\", \"f8\", \"u\")\n",
    "   \n",
    "x[:] = np.random.random_sample(134217728)\n",
    "\n",
    "root\n",
    "\n",
    "root.close()"
   ]
  },
  {
   "cell_type": "code",
   "execution_count": 1,
   "id": "7a637258",
   "metadata": {},
   "outputs": [],
   "source": [
    "import h5py\n",
    "import numpy as np\n",
    "\n",
    "root = h5py.File(\"c-stuff/data/datasets/test_dataset.h5\", \"w-\")\n",
    "x = root.create_dataset(\"X\", shape=(134217728), dtype=\"f8\")\n",
    "x[:] = np.random.random_sample(134217728)\n",
    "\n",
    "root\n",
    "\n",
    "root.close()"
   ]
  },
  {
   "cell_type": "code",
   "execution_count": 4,
   "id": "649c4b76",
   "metadata": {},
   "outputs": [],
   "source": [
    "import pandas as pd\n",
    "import numpy as np\n",
    "\n",
    "df_bench = pd.DataFrame()\n",
    "df_bench.insert(0, \"bench zarr\", ds_zarr.log)\n",
    "df_bench.insert(1, \"bench hdf5\", ds_hdf5.log)\n",
    "df_bench.insert(2, \"bench netcdf4\", ds_netcdf4.log)\n",
    "\n",
    "def filter_outliers(df) -> pd.DataFrame:\n",
    "    cols = df.select_dtypes('number').columns\n",
    "    df_sub = df.loc[:, cols]\n",
    "    \n",
    "    iqr = df_sub.quantile(0.75, numeric_only=False) - df_sub.quantile(0.25, numeric_only=False)\n",
    "    lim = np.abs((df_sub - df_sub.median()) / iqr) < 2.22\n",
    "    df.loc[:, cols] = df_sub.where(lim, np.nan)\n",
    "    df.dropna(inplace=True)\n",
    "    \n",
    "    return df\n",
    "\n",
    "if False:\n",
    "    \n",
    "    df_bench = filter_outliers(df_bench)"
   ]
  },
  {
   "cell_type": "code",
   "execution_count": null,
   "id": "af09a2f3",
   "metadata": {},
   "outputs": [],
   "source": [
    "import func.datastruct as ds\n",
    "\n",
    "form = {\"X\": ([512, 512, 512], [512, 512, 1]), \"Y\": ([10, 10], [2, 2])}\n",
    "\n",
    "ds_test = ds.Datastruct()\n",
    "ds_test.create(path=\"test.h5\", form=form, engine=\"hdf5\")"
   ]
  },
  {
   "cell_type": "code",
   "execution_count": null,
   "id": "f23fc3f6",
   "metadata": {},
   "outputs": [],
   "source": [
    "import func.datastruct as ds\n",
    "ds_test = ds.Datastruct()\n",
    "ds_test.open(mode=\"r+\", engine=\"hdf5\", path=\"test.h5\")\n",
    "print(ds_test.dataset[\"X\"][:])"
   ]
  },
  {
   "cell_type": "code",
   "execution_count": null,
   "id": "c4c20ce3",
   "metadata": {},
   "outputs": [],
   "source": [
    "import func.datastruct as ds\n",
    "\n",
    "form = {\"X\": ([512, 512, 512], [512, 512, 1]), \"Y\": ([10, 10], [2, 2])}\n",
    "\n",
    "\n",
    "ds_test = ds.Datastruct()\n",
    "ds_test.create(path=\"test.nc\", form=form, engine=\"netcdf4\")"
   ]
  },
  {
   "cell_type": "code",
   "execution_count": null,
   "id": "959d4519",
   "metadata": {},
   "outputs": [],
   "source": [
    "ds_test.open(mode=\"r+\", engine=\"netcdf4\", path=\"test.nc\")\n",
    "print(ds_test.dataset.variables[\"Y\"])"
   ]
  },
  {
   "cell_type": "code",
   "execution_count": 59,
   "id": "069c0b5c",
   "metadata": {},
   "outputs": [],
   "source": [
    "%%script false --no-raise-error\n",
    "import pandas as pd\n",
    "\n",
    "df_bench = pd.read_json(\"data/plotting/plotting_bench(1).json\")"
   ]
  },
  {
   "cell_type": "code",
   "execution_count": 26,
   "id": "b5e9077d",
   "metadata": {},
   "outputs": [],
   "source": [
    "#%%script false --no-raise-error\n",
    "import pandas as pd\n",
    "\n",
    "df_bench = pd.read_json(\"data/plotting/plotting_bench_variable.json\")\n",
    "df_prev = pd.read_json(\"data/plotting/plotting_previous.json\")"
   ]
  },
  {
   "cell_type": "code",
   "execution_count": 9,
   "id": "cc7ccdea",
   "metadata": {},
   "outputs": [
    {
     "data": {
      "application/vnd.plotly.v1+json": {
       "config": {
        "plotlyServerURL": "https://plot.ly"
       },
       "data": [
        {
         "alignmentgroup": "True",
         "customdata": [
          [
           "hdf5-c-134217728-134217728"
          ],
          [
           "hdf5-c-134217728-134217728"
          ],
          [
           "hdf5-c-134217728-134217728"
          ],
          [
           "hdf5-c-134217728-134217728"
          ],
          [
           "hdf5-c-134217728-134217728"
          ],
          [
           "hdf5-c-134217728-134217728"
          ],
          [
           "hdf5-c-134217728-134217728"
          ],
          [
           "hdf5-c-134217728-134217728"
          ],
          [
           "hdf5-c-134217728-134217728"
          ],
          [
           "hdf5-c-134217728-134217728"
          ],
          [
           "hdf5-c-134217728-134217728"
          ],
          [
           "hdf5-c-134217728-134217728"
          ],
          [
           "hdf5-c-134217728-134217728"
          ],
          [
           "hdf5-c-134217728-134217728"
          ],
          [
           "hdf5-c-134217728-134217728"
          ],
          [
           "hdf5-c-134217728-134217728"
          ],
          [
           "hdf5-c-134217728-134217728"
          ],
          [
           "hdf5-c-134217728-134217728"
          ],
          [
           "hdf5-c-134217728-134217728"
          ],
          [
           "hdf5-c-134217728-134217728"
          ],
          [
           "hdf5-c-134217728-134217728"
          ],
          [
           "hdf5-c-134217728-134217728"
          ],
          [
           "hdf5-c-134217728-134217728"
          ],
          [
           "hdf5-c-134217728-134217728"
          ],
          [
           "hdf5-c-134217728-134217728"
          ],
          [
           "hdf5-c-134217728-134217728"
          ],
          [
           "hdf5-c-134217728-134217728"
          ],
          [
           "hdf5-c-134217728-134217728"
          ],
          [
           "hdf5-c-134217728-134217728"
          ],
          [
           "hdf5-c-134217728-134217728"
          ],
          [
           "hdf5-c-134217728-134217728"
          ],
          [
           "hdf5-c-134217728-134217728"
          ],
          [
           "hdf5-c-134217728-134217728"
          ],
          [
           "hdf5-c-134217728-134217728"
          ],
          [
           "hdf5-c-134217728-134217728"
          ],
          [
           "hdf5-c-134217728-134217728"
          ],
          [
           "hdf5-c-134217728-134217728"
          ],
          [
           "hdf5-c-134217728-134217728"
          ],
          [
           "hdf5-c-134217728-134217728"
          ],
          [
           "hdf5-c-134217728-134217728"
          ],
          [
           "hdf5-c-134217728-134217728"
          ],
          [
           "hdf5-c-134217728-134217728"
          ],
          [
           "hdf5-c-134217728-134217728"
          ],
          [
           "hdf5-c-134217728-134217728"
          ],
          [
           "hdf5-c-134217728-134217728"
          ],
          [
           "hdf5-c-134217728-134217728"
          ],
          [
           "hdf5-c-134217728-134217728"
          ],
          [
           "hdf5-c-134217728-134217728"
          ],
          [
           "hdf5-c-134217728-134217728"
          ],
          [
           "hdf5-c-134217728-134217728"
          ],
          [
           "hdf5-async-134217728-134217728"
          ],
          [
           "hdf5-async-134217728-134217728"
          ],
          [
           "hdf5-async-134217728-134217728"
          ],
          [
           "hdf5-async-134217728-134217728"
          ],
          [
           "hdf5-async-134217728-134217728"
          ],
          [
           "hdf5-async-134217728-134217728"
          ],
          [
           "hdf5-async-134217728-134217728"
          ],
          [
           "hdf5-async-134217728-134217728"
          ],
          [
           "hdf5-async-134217728-134217728"
          ],
          [
           "hdf5-async-134217728-134217728"
          ],
          [
           "hdf5-async-134217728-134217728"
          ],
          [
           "hdf5-async-134217728-134217728"
          ],
          [
           "hdf5-async-134217728-134217728"
          ],
          [
           "hdf5-async-134217728-134217728"
          ],
          [
           "hdf5-async-134217728-134217728"
          ],
          [
           "hdf5-async-134217728-134217728"
          ],
          [
           "hdf5-async-134217728-134217728"
          ],
          [
           "hdf5-async-134217728-134217728"
          ],
          [
           "hdf5-async-134217728-134217728"
          ],
          [
           "hdf5-async-134217728-134217728"
          ],
          [
           "hdf5-async-134217728-134217728"
          ],
          [
           "hdf5-async-134217728-134217728"
          ],
          [
           "hdf5-async-134217728-134217728"
          ],
          [
           "hdf5-async-134217728-134217728"
          ],
          [
           "hdf5-async-134217728-134217728"
          ],
          [
           "hdf5-async-134217728-134217728"
          ],
          [
           "hdf5-async-134217728-134217728"
          ],
          [
           "hdf5-async-134217728-134217728"
          ],
          [
           "hdf5-async-134217728-134217728"
          ],
          [
           "hdf5-async-134217728-134217728"
          ],
          [
           "hdf5-async-134217728-134217728"
          ],
          [
           "hdf5-async-134217728-134217728"
          ],
          [
           "hdf5-async-134217728-134217728"
          ],
          [
           "hdf5-async-134217728-134217728"
          ],
          [
           "hdf5-async-134217728-134217728"
          ],
          [
           "hdf5-async-134217728-134217728"
          ],
          [
           "hdf5-async-134217728-134217728"
          ],
          [
           "hdf5-async-134217728-134217728"
          ],
          [
           "hdf5-async-134217728-134217728"
          ],
          [
           "hdf5-async-134217728-134217728"
          ],
          [
           "hdf5-async-134217728-134217728"
          ],
          [
           "hdf5-async-134217728-134217728"
          ],
          [
           "hdf5-async-134217728-134217728"
          ],
          [
           "hdf5-async-134217728-134217728"
          ],
          [
           "hdf5-async-134217728-134217728"
          ],
          [
           "hdf5-async-134217728-134217728"
          ],
          [
           "hdf5-async-134217728-134217728"
          ],
          [
           "hdf5-async-134217728-134217728"
          ],
          [
           "hdf5-async-134217728-134217728"
          ],
          [
           "hdf5-async-134217728-134217728"
          ],
          [
           "hdf5-parallel-134217728-134217728"
          ],
          [
           "hdf5-parallel-134217728-134217728"
          ],
          [
           "hdf5-parallel-134217728-134217728"
          ],
          [
           "hdf5-parallel-134217728-134217728"
          ],
          [
           "hdf5-parallel-134217728-134217728"
          ],
          [
           "hdf5-parallel-134217728-134217728"
          ],
          [
           "hdf5-parallel-134217728-134217728"
          ],
          [
           "hdf5-parallel-134217728-134217728"
          ],
          [
           "hdf5-parallel-134217728-134217728"
          ],
          [
           "hdf5-parallel-134217728-134217728"
          ],
          [
           "hdf5-parallel-134217728-134217728"
          ],
          [
           "hdf5-parallel-134217728-134217728"
          ],
          [
           "hdf5-parallel-134217728-134217728"
          ],
          [
           "hdf5-parallel-134217728-134217728"
          ],
          [
           "hdf5-parallel-134217728-134217728"
          ],
          [
           "hdf5-parallel-134217728-134217728"
          ],
          [
           "hdf5-parallel-134217728-134217728"
          ],
          [
           "hdf5-parallel-134217728-134217728"
          ],
          [
           "hdf5-parallel-134217728-134217728"
          ],
          [
           "hdf5-parallel-134217728-134217728"
          ],
          [
           "hdf5-parallel-134217728-134217728"
          ],
          [
           "hdf5-parallel-134217728-134217728"
          ],
          [
           "hdf5-parallel-134217728-134217728"
          ],
          [
           "hdf5-parallel-134217728-134217728"
          ],
          [
           "hdf5-parallel-134217728-134217728"
          ],
          [
           "hdf5-parallel-134217728-134217728"
          ],
          [
           "hdf5-parallel-134217728-134217728"
          ],
          [
           "hdf5-parallel-134217728-134217728"
          ],
          [
           "hdf5-parallel-134217728-134217728"
          ],
          [
           "hdf5-parallel-134217728-134217728"
          ],
          [
           "hdf5-parallel-134217728-134217728"
          ],
          [
           "hdf5-parallel-134217728-134217728"
          ],
          [
           "hdf5-parallel-134217728-134217728"
          ],
          [
           "hdf5-parallel-134217728-134217728"
          ],
          [
           "hdf5-parallel-134217728-134217728"
          ],
          [
           "hdf5-parallel-134217728-134217728"
          ],
          [
           "hdf5-parallel-134217728-134217728"
          ],
          [
           "hdf5-parallel-134217728-134217728"
          ],
          [
           "hdf5-parallel-134217728-134217728"
          ],
          [
           "hdf5-parallel-134217728-134217728"
          ],
          [
           "hdf5-parallel-134217728-134217728"
          ],
          [
           "hdf5-parallel-134217728-134217728"
          ],
          [
           "hdf5-parallel-134217728-134217728"
          ],
          [
           "hdf5-parallel-134217728-134217728"
          ],
          [
           "hdf5-parallel-134217728-134217728"
          ],
          [
           "hdf5-parallel-134217728-134217728"
          ],
          [
           "hdf5-parallel-134217728-134217728"
          ],
          [
           "hdf5-parallel-134217728-134217728"
          ],
          [
           "hdf5-parallel-134217728-134217728"
          ],
          [
           "hdf5-parallel-134217728-134217728"
          ],
          [
           "hdf5-async-parallel-134217728-134217728"
          ],
          [
           "hdf5-async-parallel-134217728-134217728"
          ],
          [
           "hdf5-async-parallel-134217728-134217728"
          ],
          [
           "hdf5-async-parallel-134217728-134217728"
          ],
          [
           "hdf5-async-parallel-134217728-134217728"
          ],
          [
           "hdf5-async-parallel-134217728-134217728"
          ],
          [
           "hdf5-async-parallel-134217728-134217728"
          ],
          [
           "hdf5-async-parallel-134217728-134217728"
          ],
          [
           "hdf5-async-parallel-134217728-134217728"
          ],
          [
           "hdf5-async-parallel-134217728-134217728"
          ],
          [
           "hdf5-async-parallel-134217728-134217728"
          ],
          [
           "hdf5-async-parallel-134217728-134217728"
          ],
          [
           "hdf5-async-parallel-134217728-134217728"
          ],
          [
           "hdf5-async-parallel-134217728-134217728"
          ],
          [
           "hdf5-async-parallel-134217728-134217728"
          ],
          [
           "hdf5-async-parallel-134217728-134217728"
          ],
          [
           "hdf5-async-parallel-134217728-134217728"
          ],
          [
           "hdf5-async-parallel-134217728-134217728"
          ],
          [
           "hdf5-async-parallel-134217728-134217728"
          ],
          [
           "hdf5-async-parallel-134217728-134217728"
          ],
          [
           "hdf5-async-parallel-134217728-134217728"
          ],
          [
           "hdf5-async-parallel-134217728-134217728"
          ],
          [
           "hdf5-async-parallel-134217728-134217728"
          ],
          [
           "hdf5-async-parallel-134217728-134217728"
          ],
          [
           "hdf5-async-parallel-134217728-134217728"
          ],
          [
           "hdf5-async-parallel-134217728-134217728"
          ],
          [
           "hdf5-async-parallel-134217728-134217728"
          ],
          [
           "hdf5-async-parallel-134217728-134217728"
          ],
          [
           "hdf5-async-parallel-134217728-134217728"
          ],
          [
           "hdf5-async-parallel-134217728-134217728"
          ],
          [
           "hdf5-async-parallel-134217728-134217728"
          ],
          [
           "hdf5-async-parallel-134217728-134217728"
          ],
          [
           "hdf5-async-parallel-134217728-134217728"
          ],
          [
           "hdf5-async-parallel-134217728-134217728"
          ],
          [
           "hdf5-async-parallel-134217728-134217728"
          ],
          [
           "hdf5-async-parallel-134217728-134217728"
          ],
          [
           "hdf5-async-parallel-134217728-134217728"
          ],
          [
           "hdf5-async-parallel-134217728-134217728"
          ],
          [
           "hdf5-async-parallel-134217728-134217728"
          ],
          [
           "hdf5-async-parallel-134217728-134217728"
          ],
          [
           "hdf5-async-parallel-134217728-134217728"
          ],
          [
           "hdf5-async-parallel-134217728-134217728"
          ],
          [
           "hdf5-async-parallel-134217728-134217728"
          ],
          [
           "hdf5-async-parallel-134217728-134217728"
          ],
          [
           "hdf5-async-parallel-134217728-134217728"
          ],
          [
           "hdf5-async-parallel-134217728-134217728"
          ],
          [
           "hdf5-async-parallel-134217728-134217728"
          ],
          [
           "hdf5-async-parallel-134217728-134217728"
          ],
          [
           "hdf5-async-parallel-134217728-134217728"
          ],
          [
           "hdf5-async-parallel-134217728-134217728"
          ],
          [
           "hdf5-subfiling-134217728-134217728"
          ],
          [
           "hdf5-subfiling-134217728-134217728"
          ],
          [
           "hdf5-subfiling-134217728-134217728"
          ],
          [
           "hdf5-subfiling-134217728-134217728"
          ],
          [
           "hdf5-subfiling-134217728-134217728"
          ],
          [
           "hdf5-subfiling-134217728-134217728"
          ],
          [
           "hdf5-subfiling-134217728-134217728"
          ],
          [
           "hdf5-subfiling-134217728-134217728"
          ],
          [
           "hdf5-subfiling-134217728-134217728"
          ],
          [
           "hdf5-subfiling-134217728-134217728"
          ],
          [
           "hdf5-subfiling-134217728-134217728"
          ],
          [
           "hdf5-subfiling-134217728-134217728"
          ],
          [
           "hdf5-subfiling-134217728-134217728"
          ],
          [
           "hdf5-subfiling-134217728-134217728"
          ],
          [
           "hdf5-subfiling-134217728-134217728"
          ],
          [
           "hdf5-subfiling-134217728-134217728"
          ],
          [
           "hdf5-subfiling-134217728-134217728"
          ],
          [
           "hdf5-subfiling-134217728-134217728"
          ],
          [
           "hdf5-subfiling-134217728-134217728"
          ],
          [
           "hdf5-subfiling-134217728-134217728"
          ],
          [
           "hdf5-subfiling-134217728-134217728"
          ],
          [
           "hdf5-subfiling-134217728-134217728"
          ],
          [
           "hdf5-subfiling-134217728-134217728"
          ],
          [
           "hdf5-subfiling-134217728-134217728"
          ],
          [
           "hdf5-subfiling-134217728-134217728"
          ],
          [
           "hdf5-subfiling-134217728-134217728"
          ],
          [
           "hdf5-subfiling-134217728-134217728"
          ],
          [
           "hdf5-subfiling-134217728-134217728"
          ],
          [
           "hdf5-subfiling-134217728-134217728"
          ],
          [
           "hdf5-subfiling-134217728-134217728"
          ],
          [
           "hdf5-subfiling-134217728-134217728"
          ],
          [
           "hdf5-subfiling-134217728-134217728"
          ],
          [
           "hdf5-subfiling-134217728-134217728"
          ],
          [
           "hdf5-subfiling-134217728-134217728"
          ],
          [
           "hdf5-subfiling-134217728-134217728"
          ],
          [
           "hdf5-subfiling-134217728-134217728"
          ],
          [
           "hdf5-subfiling-134217728-134217728"
          ],
          [
           "hdf5-subfiling-134217728-134217728"
          ],
          [
           "hdf5-subfiling-134217728-134217728"
          ],
          [
           "hdf5-subfiling-134217728-134217728"
          ],
          [
           "hdf5-subfiling-134217728-134217728"
          ],
          [
           "hdf5-subfiling-134217728-134217728"
          ],
          [
           "hdf5-subfiling-134217728-134217728"
          ],
          [
           "hdf5-subfiling-134217728-134217728"
          ],
          [
           "hdf5-subfiling-134217728-134217728"
          ],
          [
           "hdf5-subfiling-134217728-134217728"
          ],
          [
           "hdf5-subfiling-134217728-134217728"
          ],
          [
           "hdf5-subfiling-134217728-134217728"
          ],
          [
           "hdf5-subfiling-134217728-134217728"
          ],
          [
           "hdf5-subfiling-134217728-134217728"
          ]
         ],
         "hovertemplate": "run=1<br>engine=%{x}<br>time taken=%{y}<br>format=%{customdata[0]}<extra></extra>",
         "legendgroup": "1",
         "marker": {
          "color": "#636efa"
         },
         "name": "1",
         "notched": false,
         "offsetgroup": "1",
         "orientation": "v",
         "showlegend": true,
         "type": "box",
         "x": [
          "hdf5-c",
          "hdf5-c",
          "hdf5-c",
          "hdf5-c",
          "hdf5-c",
          "hdf5-c",
          "hdf5-c",
          "hdf5-c",
          "hdf5-c",
          "hdf5-c",
          "hdf5-c",
          "hdf5-c",
          "hdf5-c",
          "hdf5-c",
          "hdf5-c",
          "hdf5-c",
          "hdf5-c",
          "hdf5-c",
          "hdf5-c",
          "hdf5-c",
          "hdf5-c",
          "hdf5-c",
          "hdf5-c",
          "hdf5-c",
          "hdf5-c",
          "hdf5-c",
          "hdf5-c",
          "hdf5-c",
          "hdf5-c",
          "hdf5-c",
          "hdf5-c",
          "hdf5-c",
          "hdf5-c",
          "hdf5-c",
          "hdf5-c",
          "hdf5-c",
          "hdf5-c",
          "hdf5-c",
          "hdf5-c",
          "hdf5-c",
          "hdf5-c",
          "hdf5-c",
          "hdf5-c",
          "hdf5-c",
          "hdf5-c",
          "hdf5-c",
          "hdf5-c",
          "hdf5-c",
          "hdf5-c",
          "hdf5-c",
          "hdf5-async",
          "hdf5-async",
          "hdf5-async",
          "hdf5-async",
          "hdf5-async",
          "hdf5-async",
          "hdf5-async",
          "hdf5-async",
          "hdf5-async",
          "hdf5-async",
          "hdf5-async",
          "hdf5-async",
          "hdf5-async",
          "hdf5-async",
          "hdf5-async",
          "hdf5-async",
          "hdf5-async",
          "hdf5-async",
          "hdf5-async",
          "hdf5-async",
          "hdf5-async",
          "hdf5-async",
          "hdf5-async",
          "hdf5-async",
          "hdf5-async",
          "hdf5-async",
          "hdf5-async",
          "hdf5-async",
          "hdf5-async",
          "hdf5-async",
          "hdf5-async",
          "hdf5-async",
          "hdf5-async",
          "hdf5-async",
          "hdf5-async",
          "hdf5-async",
          "hdf5-async",
          "hdf5-async",
          "hdf5-async",
          "hdf5-async",
          "hdf5-async",
          "hdf5-async",
          "hdf5-async",
          "hdf5-async",
          "hdf5-async",
          "hdf5-async",
          "hdf5-async",
          "hdf5-async",
          "hdf5-async",
          "hdf5-async",
          "hdf5-parallel",
          "hdf5-parallel",
          "hdf5-parallel",
          "hdf5-parallel",
          "hdf5-parallel",
          "hdf5-parallel",
          "hdf5-parallel",
          "hdf5-parallel",
          "hdf5-parallel",
          "hdf5-parallel",
          "hdf5-parallel",
          "hdf5-parallel",
          "hdf5-parallel",
          "hdf5-parallel",
          "hdf5-parallel",
          "hdf5-parallel",
          "hdf5-parallel",
          "hdf5-parallel",
          "hdf5-parallel",
          "hdf5-parallel",
          "hdf5-parallel",
          "hdf5-parallel",
          "hdf5-parallel",
          "hdf5-parallel",
          "hdf5-parallel",
          "hdf5-parallel",
          "hdf5-parallel",
          "hdf5-parallel",
          "hdf5-parallel",
          "hdf5-parallel",
          "hdf5-parallel",
          "hdf5-parallel",
          "hdf5-parallel",
          "hdf5-parallel",
          "hdf5-parallel",
          "hdf5-parallel",
          "hdf5-parallel",
          "hdf5-parallel",
          "hdf5-parallel",
          "hdf5-parallel",
          "hdf5-parallel",
          "hdf5-parallel",
          "hdf5-parallel",
          "hdf5-parallel",
          "hdf5-parallel",
          "hdf5-parallel",
          "hdf5-parallel",
          "hdf5-parallel",
          "hdf5-parallel",
          "hdf5-parallel",
          "hdf5-async-parallel",
          "hdf5-async-parallel",
          "hdf5-async-parallel",
          "hdf5-async-parallel",
          "hdf5-async-parallel",
          "hdf5-async-parallel",
          "hdf5-async-parallel",
          "hdf5-async-parallel",
          "hdf5-async-parallel",
          "hdf5-async-parallel",
          "hdf5-async-parallel",
          "hdf5-async-parallel",
          "hdf5-async-parallel",
          "hdf5-async-parallel",
          "hdf5-async-parallel",
          "hdf5-async-parallel",
          "hdf5-async-parallel",
          "hdf5-async-parallel",
          "hdf5-async-parallel",
          "hdf5-async-parallel",
          "hdf5-async-parallel",
          "hdf5-async-parallel",
          "hdf5-async-parallel",
          "hdf5-async-parallel",
          "hdf5-async-parallel",
          "hdf5-async-parallel",
          "hdf5-async-parallel",
          "hdf5-async-parallel",
          "hdf5-async-parallel",
          "hdf5-async-parallel",
          "hdf5-async-parallel",
          "hdf5-async-parallel",
          "hdf5-async-parallel",
          "hdf5-async-parallel",
          "hdf5-async-parallel",
          "hdf5-async-parallel",
          "hdf5-async-parallel",
          "hdf5-async-parallel",
          "hdf5-async-parallel",
          "hdf5-async-parallel",
          "hdf5-async-parallel",
          "hdf5-async-parallel",
          "hdf5-async-parallel",
          "hdf5-async-parallel",
          "hdf5-async-parallel",
          "hdf5-async-parallel",
          "hdf5-async-parallel",
          "hdf5-async-parallel",
          "hdf5-async-parallel",
          "hdf5-async-parallel",
          "hdf5-subfiling",
          "hdf5-subfiling",
          "hdf5-subfiling",
          "hdf5-subfiling",
          "hdf5-subfiling",
          "hdf5-subfiling",
          "hdf5-subfiling",
          "hdf5-subfiling",
          "hdf5-subfiling",
          "hdf5-subfiling",
          "hdf5-subfiling",
          "hdf5-subfiling",
          "hdf5-subfiling",
          "hdf5-subfiling",
          "hdf5-subfiling",
          "hdf5-subfiling",
          "hdf5-subfiling",
          "hdf5-subfiling",
          "hdf5-subfiling",
          "hdf5-subfiling",
          "hdf5-subfiling",
          "hdf5-subfiling",
          "hdf5-subfiling",
          "hdf5-subfiling",
          "hdf5-subfiling",
          "hdf5-subfiling",
          "hdf5-subfiling",
          "hdf5-subfiling",
          "hdf5-subfiling",
          "hdf5-subfiling",
          "hdf5-subfiling",
          "hdf5-subfiling",
          "hdf5-subfiling",
          "hdf5-subfiling",
          "hdf5-subfiling",
          "hdf5-subfiling",
          "hdf5-subfiling",
          "hdf5-subfiling",
          "hdf5-subfiling",
          "hdf5-subfiling",
          "hdf5-subfiling",
          "hdf5-subfiling",
          "hdf5-subfiling",
          "hdf5-subfiling",
          "hdf5-subfiling",
          "hdf5-subfiling",
          "hdf5-subfiling",
          "hdf5-subfiling",
          "hdf5-subfiling",
          "hdf5-subfiling"
         ],
         "x0": " ",
         "xaxis": "x",
         "y": [
          0.447918,
          0.44825,
          0.380689,
          0.38049,
          0.378916,
          0.37926899999999997,
          0.465018,
          0.380418,
          0.382969,
          0.40673699999999996,
          0.36687,
          0.473809,
          0.383522,
          0.38537,
          0.371946,
          0.366846,
          0.44606999999999997,
          0.368054,
          0.42239899999999997,
          0.440665,
          0.42477299999999996,
          0.446451,
          0.392173,
          0.39643,
          0.38809,
          0.381843,
          0.40613,
          0.419239,
          0.381779,
          0.381725,
          0.381305,
          0.37116299999999997,
          0.40329699999999996,
          0.37939599999999996,
          0.382084,
          0.382787,
          0.37557799999999997,
          0.392489,
          0.375732,
          0.45542099999999996,
          0.391823,
          0.391879,
          0.406595,
          0.434328,
          0.38131,
          0.381305,
          0.386897,
          0.366204,
          0.42329,
          0.387441,
          0.538512,
          0.6291249999999999,
          0.557295,
          0.417248,
          0.522094,
          0.400202,
          0.43293299999999996,
          0.39141699999999996,
          0.38576499999999997,
          0.48694099999999996,
          0.372594,
          0.367735,
          0.365731,
          0.367027,
          0.393227,
          0.36647799999999997,
          0.383469,
          0.464261,
          0.38642499999999996,
          0.386312,
          0.423459,
          0.459342,
          0.36635,
          0.366841,
          0.397454,
          0.38842499999999996,
          0.38098499999999996,
          0.382534,
          0.381229,
          0.380755,
          0.420977,
          0.382154,
          0.38139599999999996,
          0.373368,
          0.36724,
          0.415048,
          0.432152,
          0.373533,
          0.36813399999999996,
          0.36736599999999997,
          0.36845,
          0.485473,
          0.57666,
          0.44884999999999997,
          0.459924,
          0.429882,
          0.37734999999999996,
          0.44893099999999997,
          0.45355199999999996,
          0.38159,
          0.130298,
          0.131529,
          0.128052,
          0.14374499999999998,
          0.125487,
          0.121191,
          0.12174199999999999,
          0.12201999999999999,
          0.125193,
          0.123016,
          0.126655,
          0.12253399999999999,
          0.126851,
          0.12017599999999999,
          0.11948099999999999,
          0.118767,
          0.118989,
          0.118407,
          0.11821999999999999,
          0.12490499999999999,
          0.11976099999999999,
          0.118424,
          0.119374,
          0.117369,
          0.11875799999999999,
          0.11795299999999999,
          0.11885599999999999,
          0.118388,
          0.118576,
          0.119464,
          0.119156,
          0.15856499999999998,
          0.16905499999999998,
          0.116937,
          0.11748499999999999,
          0.120643,
          0.136855,
          0.118961,
          0.12717599999999998,
          0.12463199999999999,
          0.126055,
          0.124345,
          0.12399099999999999,
          0.119154,
          0.12221,
          0.12180999999999999,
          0.122859,
          0.12048199999999999,
          0.122531,
          0.12261899999999999,
          0.501348,
          0.12578899999999998,
          0.14742,
          0.12199399999999999,
          0.126222,
          0.128292,
          0.12454,
          0.124319,
          0.126943,
          0.125196,
          0.123669,
          0.128706,
          0.124888,
          0.132186,
          0.12420099999999999,
          0.126355,
          0.134991,
          0.122031,
          0.119739,
          0.11977499999999999,
          0.120113,
          0.12037099999999999,
          0.120831,
          0.12117199999999999,
          0.12064899999999999,
          0.12178,
          0.12054999999999999,
          0.121375,
          0.119517,
          0.12041199999999999,
          0.121156,
          0.12049599999999999,
          0.119908,
          0.13149,
          0.12028,
          0.127291,
          0.126164,
          0.127211,
          0.129012,
          0.128463,
          0.126497,
          0.12711799999999998,
          0.12997999999999998,
          0.12753,
          0.128361,
          0.129928,
          0.12906099999999998,
          0.13117299999999998,
          0.12848099999999998,
          0.123013,
          0.729479,
          0.7448,
          0.649149,
          0.642154,
          0.666337,
          0.8109649999999999,
          0.6405109999999999,
          0.663308,
          0.657366,
          0.840065,
          0.746929,
          0.6564519999999999,
          0.7505839999999999,
          0.628164,
          0.688979,
          0.647542,
          0.577997,
          0.6368159999999999,
          0.657103,
          0.6513979999999999,
          0.609453,
          0.75886,
          0.621686,
          0.705849,
          0.632095,
          0.714247,
          0.722866,
          0.7710859999999999,
          0.66245,
          0.61749,
          0.800474,
          0.557211,
          0.843874,
          0.677572,
          0.633385,
          0.5859599999999999,
          0.659277,
          0.8657929999999999,
          0.723926,
          0.670562,
          0.586482,
          0.732696,
          0.785061,
          0.666253,
          0.70307,
          0.6748649999999999,
          0.6272,
          0.583735,
          0.745188,
          0.746429
         ],
         "y0": " ",
         "yaxis": "y"
        }
       ],
       "layout": {
        "boxmode": "group",
        "legend": {
         "title": {
          "text": "run"
         },
         "tracegroupgap": 0
        },
        "margin": {
         "t": 60
        },
        "template": {
         "data": {
          "bar": [
           {
            "error_x": {
             "color": "#2a3f5f"
            },
            "error_y": {
             "color": "#2a3f5f"
            },
            "marker": {
             "line": {
              "color": "#E5ECF6",
              "width": 0.5
             },
             "pattern": {
              "fillmode": "overlay",
              "size": 10,
              "solidity": 0.2
             }
            },
            "type": "bar"
           }
          ],
          "barpolar": [
           {
            "marker": {
             "line": {
              "color": "#E5ECF6",
              "width": 0.5
             },
             "pattern": {
              "fillmode": "overlay",
              "size": 10,
              "solidity": 0.2
             }
            },
            "type": "barpolar"
           }
          ],
          "carpet": [
           {
            "aaxis": {
             "endlinecolor": "#2a3f5f",
             "gridcolor": "white",
             "linecolor": "white",
             "minorgridcolor": "white",
             "startlinecolor": "#2a3f5f"
            },
            "baxis": {
             "endlinecolor": "#2a3f5f",
             "gridcolor": "white",
             "linecolor": "white",
             "minorgridcolor": "white",
             "startlinecolor": "#2a3f5f"
            },
            "type": "carpet"
           }
          ],
          "choropleth": [
           {
            "colorbar": {
             "outlinewidth": 0,
             "ticks": ""
            },
            "type": "choropleth"
           }
          ],
          "contour": [
           {
            "colorbar": {
             "outlinewidth": 0,
             "ticks": ""
            },
            "colorscale": [
             [
              0,
              "#0d0887"
             ],
             [
              0.1111111111111111,
              "#46039f"
             ],
             [
              0.2222222222222222,
              "#7201a8"
             ],
             [
              0.3333333333333333,
              "#9c179e"
             ],
             [
              0.4444444444444444,
              "#bd3786"
             ],
             [
              0.5555555555555556,
              "#d8576b"
             ],
             [
              0.6666666666666666,
              "#ed7953"
             ],
             [
              0.7777777777777778,
              "#fb9f3a"
             ],
             [
              0.8888888888888888,
              "#fdca26"
             ],
             [
              1,
              "#f0f921"
             ]
            ],
            "type": "contour"
           }
          ],
          "contourcarpet": [
           {
            "colorbar": {
             "outlinewidth": 0,
             "ticks": ""
            },
            "type": "contourcarpet"
           }
          ],
          "heatmap": [
           {
            "colorbar": {
             "outlinewidth": 0,
             "ticks": ""
            },
            "colorscale": [
             [
              0,
              "#0d0887"
             ],
             [
              0.1111111111111111,
              "#46039f"
             ],
             [
              0.2222222222222222,
              "#7201a8"
             ],
             [
              0.3333333333333333,
              "#9c179e"
             ],
             [
              0.4444444444444444,
              "#bd3786"
             ],
             [
              0.5555555555555556,
              "#d8576b"
             ],
             [
              0.6666666666666666,
              "#ed7953"
             ],
             [
              0.7777777777777778,
              "#fb9f3a"
             ],
             [
              0.8888888888888888,
              "#fdca26"
             ],
             [
              1,
              "#f0f921"
             ]
            ],
            "type": "heatmap"
           }
          ],
          "heatmapgl": [
           {
            "colorbar": {
             "outlinewidth": 0,
             "ticks": ""
            },
            "colorscale": [
             [
              0,
              "#0d0887"
             ],
             [
              0.1111111111111111,
              "#46039f"
             ],
             [
              0.2222222222222222,
              "#7201a8"
             ],
             [
              0.3333333333333333,
              "#9c179e"
             ],
             [
              0.4444444444444444,
              "#bd3786"
             ],
             [
              0.5555555555555556,
              "#d8576b"
             ],
             [
              0.6666666666666666,
              "#ed7953"
             ],
             [
              0.7777777777777778,
              "#fb9f3a"
             ],
             [
              0.8888888888888888,
              "#fdca26"
             ],
             [
              1,
              "#f0f921"
             ]
            ],
            "type": "heatmapgl"
           }
          ],
          "histogram": [
           {
            "marker": {
             "pattern": {
              "fillmode": "overlay",
              "size": 10,
              "solidity": 0.2
             }
            },
            "type": "histogram"
           }
          ],
          "histogram2d": [
           {
            "colorbar": {
             "outlinewidth": 0,
             "ticks": ""
            },
            "colorscale": [
             [
              0,
              "#0d0887"
             ],
             [
              0.1111111111111111,
              "#46039f"
             ],
             [
              0.2222222222222222,
              "#7201a8"
             ],
             [
              0.3333333333333333,
              "#9c179e"
             ],
             [
              0.4444444444444444,
              "#bd3786"
             ],
             [
              0.5555555555555556,
              "#d8576b"
             ],
             [
              0.6666666666666666,
              "#ed7953"
             ],
             [
              0.7777777777777778,
              "#fb9f3a"
             ],
             [
              0.8888888888888888,
              "#fdca26"
             ],
             [
              1,
              "#f0f921"
             ]
            ],
            "type": "histogram2d"
           }
          ],
          "histogram2dcontour": [
           {
            "colorbar": {
             "outlinewidth": 0,
             "ticks": ""
            },
            "colorscale": [
             [
              0,
              "#0d0887"
             ],
             [
              0.1111111111111111,
              "#46039f"
             ],
             [
              0.2222222222222222,
              "#7201a8"
             ],
             [
              0.3333333333333333,
              "#9c179e"
             ],
             [
              0.4444444444444444,
              "#bd3786"
             ],
             [
              0.5555555555555556,
              "#d8576b"
             ],
             [
              0.6666666666666666,
              "#ed7953"
             ],
             [
              0.7777777777777778,
              "#fb9f3a"
             ],
             [
              0.8888888888888888,
              "#fdca26"
             ],
             [
              1,
              "#f0f921"
             ]
            ],
            "type": "histogram2dcontour"
           }
          ],
          "mesh3d": [
           {
            "colorbar": {
             "outlinewidth": 0,
             "ticks": ""
            },
            "type": "mesh3d"
           }
          ],
          "parcoords": [
           {
            "line": {
             "colorbar": {
              "outlinewidth": 0,
              "ticks": ""
             }
            },
            "type": "parcoords"
           }
          ],
          "pie": [
           {
            "automargin": true,
            "type": "pie"
           }
          ],
          "scatter": [
           {
            "fillpattern": {
             "fillmode": "overlay",
             "size": 10,
             "solidity": 0.2
            },
            "type": "scatter"
           }
          ],
          "scatter3d": [
           {
            "line": {
             "colorbar": {
              "outlinewidth": 0,
              "ticks": ""
             }
            },
            "marker": {
             "colorbar": {
              "outlinewidth": 0,
              "ticks": ""
             }
            },
            "type": "scatter3d"
           }
          ],
          "scattercarpet": [
           {
            "marker": {
             "colorbar": {
              "outlinewidth": 0,
              "ticks": ""
             }
            },
            "type": "scattercarpet"
           }
          ],
          "scattergeo": [
           {
            "marker": {
             "colorbar": {
              "outlinewidth": 0,
              "ticks": ""
             }
            },
            "type": "scattergeo"
           }
          ],
          "scattergl": [
           {
            "marker": {
             "colorbar": {
              "outlinewidth": 0,
              "ticks": ""
             }
            },
            "type": "scattergl"
           }
          ],
          "scattermapbox": [
           {
            "marker": {
             "colorbar": {
              "outlinewidth": 0,
              "ticks": ""
             }
            },
            "type": "scattermapbox"
           }
          ],
          "scatterpolar": [
           {
            "marker": {
             "colorbar": {
              "outlinewidth": 0,
              "ticks": ""
             }
            },
            "type": "scatterpolar"
           }
          ],
          "scatterpolargl": [
           {
            "marker": {
             "colorbar": {
              "outlinewidth": 0,
              "ticks": ""
             }
            },
            "type": "scatterpolargl"
           }
          ],
          "scatterternary": [
           {
            "marker": {
             "colorbar": {
              "outlinewidth": 0,
              "ticks": ""
             }
            },
            "type": "scatterternary"
           }
          ],
          "surface": [
           {
            "colorbar": {
             "outlinewidth": 0,
             "ticks": ""
            },
            "colorscale": [
             [
              0,
              "#0d0887"
             ],
             [
              0.1111111111111111,
              "#46039f"
             ],
             [
              0.2222222222222222,
              "#7201a8"
             ],
             [
              0.3333333333333333,
              "#9c179e"
             ],
             [
              0.4444444444444444,
              "#bd3786"
             ],
             [
              0.5555555555555556,
              "#d8576b"
             ],
             [
              0.6666666666666666,
              "#ed7953"
             ],
             [
              0.7777777777777778,
              "#fb9f3a"
             ],
             [
              0.8888888888888888,
              "#fdca26"
             ],
             [
              1,
              "#f0f921"
             ]
            ],
            "type": "surface"
           }
          ],
          "table": [
           {
            "cells": {
             "fill": {
              "color": "#EBF0F8"
             },
             "line": {
              "color": "white"
             }
            },
            "header": {
             "fill": {
              "color": "#C8D4E3"
             },
             "line": {
              "color": "white"
             }
            },
            "type": "table"
           }
          ]
         },
         "layout": {
          "annotationdefaults": {
           "arrowcolor": "#2a3f5f",
           "arrowhead": 0,
           "arrowwidth": 1
          },
          "autotypenumbers": "strict",
          "coloraxis": {
           "colorbar": {
            "outlinewidth": 0,
            "ticks": ""
           }
          },
          "colorscale": {
           "diverging": [
            [
             0,
             "#8e0152"
            ],
            [
             0.1,
             "#c51b7d"
            ],
            [
             0.2,
             "#de77ae"
            ],
            [
             0.3,
             "#f1b6da"
            ],
            [
             0.4,
             "#fde0ef"
            ],
            [
             0.5,
             "#f7f7f7"
            ],
            [
             0.6,
             "#e6f5d0"
            ],
            [
             0.7,
             "#b8e186"
            ],
            [
             0.8,
             "#7fbc41"
            ],
            [
             0.9,
             "#4d9221"
            ],
            [
             1,
             "#276419"
            ]
           ],
           "sequential": [
            [
             0,
             "#0d0887"
            ],
            [
             0.1111111111111111,
             "#46039f"
            ],
            [
             0.2222222222222222,
             "#7201a8"
            ],
            [
             0.3333333333333333,
             "#9c179e"
            ],
            [
             0.4444444444444444,
             "#bd3786"
            ],
            [
             0.5555555555555556,
             "#d8576b"
            ],
            [
             0.6666666666666666,
             "#ed7953"
            ],
            [
             0.7777777777777778,
             "#fb9f3a"
            ],
            [
             0.8888888888888888,
             "#fdca26"
            ],
            [
             1,
             "#f0f921"
            ]
           ],
           "sequentialminus": [
            [
             0,
             "#0d0887"
            ],
            [
             0.1111111111111111,
             "#46039f"
            ],
            [
             0.2222222222222222,
             "#7201a8"
            ],
            [
             0.3333333333333333,
             "#9c179e"
            ],
            [
             0.4444444444444444,
             "#bd3786"
            ],
            [
             0.5555555555555556,
             "#d8576b"
            ],
            [
             0.6666666666666666,
             "#ed7953"
            ],
            [
             0.7777777777777778,
             "#fb9f3a"
            ],
            [
             0.8888888888888888,
             "#fdca26"
            ],
            [
             1,
             "#f0f921"
            ]
           ]
          },
          "colorway": [
           "#636efa",
           "#EF553B",
           "#00cc96",
           "#ab63fa",
           "#FFA15A",
           "#19d3f3",
           "#FF6692",
           "#B6E880",
           "#FF97FF",
           "#FECB52"
          ],
          "font": {
           "color": "#2a3f5f"
          },
          "geo": {
           "bgcolor": "white",
           "lakecolor": "white",
           "landcolor": "#E5ECF6",
           "showlakes": true,
           "showland": true,
           "subunitcolor": "white"
          },
          "hoverlabel": {
           "align": "left"
          },
          "hovermode": "closest",
          "mapbox": {
           "style": "light"
          },
          "paper_bgcolor": "white",
          "plot_bgcolor": "#E5ECF6",
          "polar": {
           "angularaxis": {
            "gridcolor": "white",
            "linecolor": "white",
            "ticks": ""
           },
           "bgcolor": "#E5ECF6",
           "radialaxis": {
            "gridcolor": "white",
            "linecolor": "white",
            "ticks": ""
           }
          },
          "scene": {
           "xaxis": {
            "backgroundcolor": "#E5ECF6",
            "gridcolor": "white",
            "gridwidth": 2,
            "linecolor": "white",
            "showbackground": true,
            "ticks": "",
            "zerolinecolor": "white"
           },
           "yaxis": {
            "backgroundcolor": "#E5ECF6",
            "gridcolor": "white",
            "gridwidth": 2,
            "linecolor": "white",
            "showbackground": true,
            "ticks": "",
            "zerolinecolor": "white"
           },
           "zaxis": {
            "backgroundcolor": "#E5ECF6",
            "gridcolor": "white",
            "gridwidth": 2,
            "linecolor": "white",
            "showbackground": true,
            "ticks": "",
            "zerolinecolor": "white"
           }
          },
          "shapedefaults": {
           "line": {
            "color": "#2a3f5f"
           }
          },
          "ternary": {
           "aaxis": {
            "gridcolor": "white",
            "linecolor": "white",
            "ticks": ""
           },
           "baxis": {
            "gridcolor": "white",
            "linecolor": "white",
            "ticks": ""
           },
           "bgcolor": "#E5ECF6",
           "caxis": {
            "gridcolor": "white",
            "linecolor": "white",
            "ticks": ""
           }
          },
          "title": {
           "x": 0.05
          },
          "xaxis": {
           "automargin": true,
           "gridcolor": "white",
           "linecolor": "white",
           "ticks": "",
           "title": {
            "standoff": 15
           },
           "zerolinecolor": "white",
           "zerolinewidth": 2
          },
          "yaxis": {
           "automargin": true,
           "gridcolor": "white",
           "linecolor": "white",
           "ticks": "",
           "title": {
            "standoff": 15
           },
           "zerolinecolor": "white",
           "zerolinewidth": 2
          }
         }
        },
        "xaxis": {
         "anchor": "y",
         "domain": [
          0,
          1
         ],
         "title": {
          "text": "engine"
         }
        },
        "yaxis": {
         "anchor": "x",
         "domain": [
          0,
          1
         ],
         "title": {
          "text": "time taken"
         },
         "type": "log"
        }
       }
      },
      "text/html": [
       "<div>                            <div id=\"892392ba-abe7-4e25-9289-a8b7cbc2bb55\" class=\"plotly-graph-div\" style=\"height:525px; width:100%;\"></div>            <script type=\"text/javascript\">                require([\"plotly\"], function(Plotly) {                    window.PLOTLYENV=window.PLOTLYENV || {};                                    if (document.getElementById(\"892392ba-abe7-4e25-9289-a8b7cbc2bb55\")) {                    Plotly.newPlot(                        \"892392ba-abe7-4e25-9289-a8b7cbc2bb55\",                        [{\"alignmentgroup\":\"True\",\"customdata\":[[\"hdf5-c-134217728-134217728\"],[\"hdf5-c-134217728-134217728\"],[\"hdf5-c-134217728-134217728\"],[\"hdf5-c-134217728-134217728\"],[\"hdf5-c-134217728-134217728\"],[\"hdf5-c-134217728-134217728\"],[\"hdf5-c-134217728-134217728\"],[\"hdf5-c-134217728-134217728\"],[\"hdf5-c-134217728-134217728\"],[\"hdf5-c-134217728-134217728\"],[\"hdf5-c-134217728-134217728\"],[\"hdf5-c-134217728-134217728\"],[\"hdf5-c-134217728-134217728\"],[\"hdf5-c-134217728-134217728\"],[\"hdf5-c-134217728-134217728\"],[\"hdf5-c-134217728-134217728\"],[\"hdf5-c-134217728-134217728\"],[\"hdf5-c-134217728-134217728\"],[\"hdf5-c-134217728-134217728\"],[\"hdf5-c-134217728-134217728\"],[\"hdf5-c-134217728-134217728\"],[\"hdf5-c-134217728-134217728\"],[\"hdf5-c-134217728-134217728\"],[\"hdf5-c-134217728-134217728\"],[\"hdf5-c-134217728-134217728\"],[\"hdf5-c-134217728-134217728\"],[\"hdf5-c-134217728-134217728\"],[\"hdf5-c-134217728-134217728\"],[\"hdf5-c-134217728-134217728\"],[\"hdf5-c-134217728-134217728\"],[\"hdf5-c-134217728-134217728\"],[\"hdf5-c-134217728-134217728\"],[\"hdf5-c-134217728-134217728\"],[\"hdf5-c-134217728-134217728\"],[\"hdf5-c-134217728-134217728\"],[\"hdf5-c-134217728-134217728\"],[\"hdf5-c-134217728-134217728\"],[\"hdf5-c-134217728-134217728\"],[\"hdf5-c-134217728-134217728\"],[\"hdf5-c-134217728-134217728\"],[\"hdf5-c-134217728-134217728\"],[\"hdf5-c-134217728-134217728\"],[\"hdf5-c-134217728-134217728\"],[\"hdf5-c-134217728-134217728\"],[\"hdf5-c-134217728-134217728\"],[\"hdf5-c-134217728-134217728\"],[\"hdf5-c-134217728-134217728\"],[\"hdf5-c-134217728-134217728\"],[\"hdf5-c-134217728-134217728\"],[\"hdf5-c-134217728-134217728\"],[\"hdf5-async-134217728-134217728\"],[\"hdf5-async-134217728-134217728\"],[\"hdf5-async-134217728-134217728\"],[\"hdf5-async-134217728-134217728\"],[\"hdf5-async-134217728-134217728\"],[\"hdf5-async-134217728-134217728\"],[\"hdf5-async-134217728-134217728\"],[\"hdf5-async-134217728-134217728\"],[\"hdf5-async-134217728-134217728\"],[\"hdf5-async-134217728-134217728\"],[\"hdf5-async-134217728-134217728\"],[\"hdf5-async-134217728-134217728\"],[\"hdf5-async-134217728-134217728\"],[\"hdf5-async-134217728-134217728\"],[\"hdf5-async-134217728-134217728\"],[\"hdf5-async-134217728-134217728\"],[\"hdf5-async-134217728-134217728\"],[\"hdf5-async-134217728-134217728\"],[\"hdf5-async-134217728-134217728\"],[\"hdf5-async-134217728-134217728\"],[\"hdf5-async-134217728-134217728\"],[\"hdf5-async-134217728-134217728\"],[\"hdf5-async-134217728-134217728\"],[\"hdf5-async-134217728-134217728\"],[\"hdf5-async-134217728-134217728\"],[\"hdf5-async-134217728-134217728\"],[\"hdf5-async-134217728-134217728\"],[\"hdf5-async-134217728-134217728\"],[\"hdf5-async-134217728-134217728\"],[\"hdf5-async-134217728-134217728\"],[\"hdf5-async-134217728-134217728\"],[\"hdf5-async-134217728-134217728\"],[\"hdf5-async-134217728-134217728\"],[\"hdf5-async-134217728-134217728\"],[\"hdf5-async-134217728-134217728\"],[\"hdf5-async-134217728-134217728\"],[\"hdf5-async-134217728-134217728\"],[\"hdf5-async-134217728-134217728\"],[\"hdf5-async-134217728-134217728\"],[\"hdf5-async-134217728-134217728\"],[\"hdf5-async-134217728-134217728\"],[\"hdf5-async-134217728-134217728\"],[\"hdf5-async-134217728-134217728\"],[\"hdf5-async-134217728-134217728\"],[\"hdf5-async-134217728-134217728\"],[\"hdf5-async-134217728-134217728\"],[\"hdf5-async-134217728-134217728\"],[\"hdf5-async-134217728-134217728\"],[\"hdf5-async-134217728-134217728\"],[\"hdf5-async-134217728-134217728\"],[\"hdf5-parallel-134217728-134217728\"],[\"hdf5-parallel-134217728-134217728\"],[\"hdf5-parallel-134217728-134217728\"],[\"hdf5-parallel-134217728-134217728\"],[\"hdf5-parallel-134217728-134217728\"],[\"hdf5-parallel-134217728-134217728\"],[\"hdf5-parallel-134217728-134217728\"],[\"hdf5-parallel-134217728-134217728\"],[\"hdf5-parallel-134217728-134217728\"],[\"hdf5-parallel-134217728-134217728\"],[\"hdf5-parallel-134217728-134217728\"],[\"hdf5-parallel-134217728-134217728\"],[\"hdf5-parallel-134217728-134217728\"],[\"hdf5-parallel-134217728-134217728\"],[\"hdf5-parallel-134217728-134217728\"],[\"hdf5-parallel-134217728-134217728\"],[\"hdf5-parallel-134217728-134217728\"],[\"hdf5-parallel-134217728-134217728\"],[\"hdf5-parallel-134217728-134217728\"],[\"hdf5-parallel-134217728-134217728\"],[\"hdf5-parallel-134217728-134217728\"],[\"hdf5-parallel-134217728-134217728\"],[\"hdf5-parallel-134217728-134217728\"],[\"hdf5-parallel-134217728-134217728\"],[\"hdf5-parallel-134217728-134217728\"],[\"hdf5-parallel-134217728-134217728\"],[\"hdf5-parallel-134217728-134217728\"],[\"hdf5-parallel-134217728-134217728\"],[\"hdf5-parallel-134217728-134217728\"],[\"hdf5-parallel-134217728-134217728\"],[\"hdf5-parallel-134217728-134217728\"],[\"hdf5-parallel-134217728-134217728\"],[\"hdf5-parallel-134217728-134217728\"],[\"hdf5-parallel-134217728-134217728\"],[\"hdf5-parallel-134217728-134217728\"],[\"hdf5-parallel-134217728-134217728\"],[\"hdf5-parallel-134217728-134217728\"],[\"hdf5-parallel-134217728-134217728\"],[\"hdf5-parallel-134217728-134217728\"],[\"hdf5-parallel-134217728-134217728\"],[\"hdf5-parallel-134217728-134217728\"],[\"hdf5-parallel-134217728-134217728\"],[\"hdf5-parallel-134217728-134217728\"],[\"hdf5-parallel-134217728-134217728\"],[\"hdf5-parallel-134217728-134217728\"],[\"hdf5-parallel-134217728-134217728\"],[\"hdf5-parallel-134217728-134217728\"],[\"hdf5-parallel-134217728-134217728\"],[\"hdf5-parallel-134217728-134217728\"],[\"hdf5-parallel-134217728-134217728\"],[\"hdf5-async-parallel-134217728-134217728\"],[\"hdf5-async-parallel-134217728-134217728\"],[\"hdf5-async-parallel-134217728-134217728\"],[\"hdf5-async-parallel-134217728-134217728\"],[\"hdf5-async-parallel-134217728-134217728\"],[\"hdf5-async-parallel-134217728-134217728\"],[\"hdf5-async-parallel-134217728-134217728\"],[\"hdf5-async-parallel-134217728-134217728\"],[\"hdf5-async-parallel-134217728-134217728\"],[\"hdf5-async-parallel-134217728-134217728\"],[\"hdf5-async-parallel-134217728-134217728\"],[\"hdf5-async-parallel-134217728-134217728\"],[\"hdf5-async-parallel-134217728-134217728\"],[\"hdf5-async-parallel-134217728-134217728\"],[\"hdf5-async-parallel-134217728-134217728\"],[\"hdf5-async-parallel-134217728-134217728\"],[\"hdf5-async-parallel-134217728-134217728\"],[\"hdf5-async-parallel-134217728-134217728\"],[\"hdf5-async-parallel-134217728-134217728\"],[\"hdf5-async-parallel-134217728-134217728\"],[\"hdf5-async-parallel-134217728-134217728\"],[\"hdf5-async-parallel-134217728-134217728\"],[\"hdf5-async-parallel-134217728-134217728\"],[\"hdf5-async-parallel-134217728-134217728\"],[\"hdf5-async-parallel-134217728-134217728\"],[\"hdf5-async-parallel-134217728-134217728\"],[\"hdf5-async-parallel-134217728-134217728\"],[\"hdf5-async-parallel-134217728-134217728\"],[\"hdf5-async-parallel-134217728-134217728\"],[\"hdf5-async-parallel-134217728-134217728\"],[\"hdf5-async-parallel-134217728-134217728\"],[\"hdf5-async-parallel-134217728-134217728\"],[\"hdf5-async-parallel-134217728-134217728\"],[\"hdf5-async-parallel-134217728-134217728\"],[\"hdf5-async-parallel-134217728-134217728\"],[\"hdf5-async-parallel-134217728-134217728\"],[\"hdf5-async-parallel-134217728-134217728\"],[\"hdf5-async-parallel-134217728-134217728\"],[\"hdf5-async-parallel-134217728-134217728\"],[\"hdf5-async-parallel-134217728-134217728\"],[\"hdf5-async-parallel-134217728-134217728\"],[\"hdf5-async-parallel-134217728-134217728\"],[\"hdf5-async-parallel-134217728-134217728\"],[\"hdf5-async-parallel-134217728-134217728\"],[\"hdf5-async-parallel-134217728-134217728\"],[\"hdf5-async-parallel-134217728-134217728\"],[\"hdf5-async-parallel-134217728-134217728\"],[\"hdf5-async-parallel-134217728-134217728\"],[\"hdf5-async-parallel-134217728-134217728\"],[\"hdf5-async-parallel-134217728-134217728\"],[\"hdf5-subfiling-134217728-134217728\"],[\"hdf5-subfiling-134217728-134217728\"],[\"hdf5-subfiling-134217728-134217728\"],[\"hdf5-subfiling-134217728-134217728\"],[\"hdf5-subfiling-134217728-134217728\"],[\"hdf5-subfiling-134217728-134217728\"],[\"hdf5-subfiling-134217728-134217728\"],[\"hdf5-subfiling-134217728-134217728\"],[\"hdf5-subfiling-134217728-134217728\"],[\"hdf5-subfiling-134217728-134217728\"],[\"hdf5-subfiling-134217728-134217728\"],[\"hdf5-subfiling-134217728-134217728\"],[\"hdf5-subfiling-134217728-134217728\"],[\"hdf5-subfiling-134217728-134217728\"],[\"hdf5-subfiling-134217728-134217728\"],[\"hdf5-subfiling-134217728-134217728\"],[\"hdf5-subfiling-134217728-134217728\"],[\"hdf5-subfiling-134217728-134217728\"],[\"hdf5-subfiling-134217728-134217728\"],[\"hdf5-subfiling-134217728-134217728\"],[\"hdf5-subfiling-134217728-134217728\"],[\"hdf5-subfiling-134217728-134217728\"],[\"hdf5-subfiling-134217728-134217728\"],[\"hdf5-subfiling-134217728-134217728\"],[\"hdf5-subfiling-134217728-134217728\"],[\"hdf5-subfiling-134217728-134217728\"],[\"hdf5-subfiling-134217728-134217728\"],[\"hdf5-subfiling-134217728-134217728\"],[\"hdf5-subfiling-134217728-134217728\"],[\"hdf5-subfiling-134217728-134217728\"],[\"hdf5-subfiling-134217728-134217728\"],[\"hdf5-subfiling-134217728-134217728\"],[\"hdf5-subfiling-134217728-134217728\"],[\"hdf5-subfiling-134217728-134217728\"],[\"hdf5-subfiling-134217728-134217728\"],[\"hdf5-subfiling-134217728-134217728\"],[\"hdf5-subfiling-134217728-134217728\"],[\"hdf5-subfiling-134217728-134217728\"],[\"hdf5-subfiling-134217728-134217728\"],[\"hdf5-subfiling-134217728-134217728\"],[\"hdf5-subfiling-134217728-134217728\"],[\"hdf5-subfiling-134217728-134217728\"],[\"hdf5-subfiling-134217728-134217728\"],[\"hdf5-subfiling-134217728-134217728\"],[\"hdf5-subfiling-134217728-134217728\"],[\"hdf5-subfiling-134217728-134217728\"],[\"hdf5-subfiling-134217728-134217728\"],[\"hdf5-subfiling-134217728-134217728\"],[\"hdf5-subfiling-134217728-134217728\"],[\"hdf5-subfiling-134217728-134217728\"]],\"hovertemplate\":\"run=1\\u003cbr\\u003eengine=%{x}\\u003cbr\\u003etime taken=%{y}\\u003cbr\\u003eformat=%{customdata[0]}\\u003cextra\\u003e\\u003c\\u002fextra\\u003e\",\"legendgroup\":\"1\",\"marker\":{\"color\":\"#636efa\"},\"name\":\"1\",\"notched\":false,\"offsetgroup\":\"1\",\"orientation\":\"v\",\"showlegend\":true,\"x\":[\"hdf5-c\",\"hdf5-c\",\"hdf5-c\",\"hdf5-c\",\"hdf5-c\",\"hdf5-c\",\"hdf5-c\",\"hdf5-c\",\"hdf5-c\",\"hdf5-c\",\"hdf5-c\",\"hdf5-c\",\"hdf5-c\",\"hdf5-c\",\"hdf5-c\",\"hdf5-c\",\"hdf5-c\",\"hdf5-c\",\"hdf5-c\",\"hdf5-c\",\"hdf5-c\",\"hdf5-c\",\"hdf5-c\",\"hdf5-c\",\"hdf5-c\",\"hdf5-c\",\"hdf5-c\",\"hdf5-c\",\"hdf5-c\",\"hdf5-c\",\"hdf5-c\",\"hdf5-c\",\"hdf5-c\",\"hdf5-c\",\"hdf5-c\",\"hdf5-c\",\"hdf5-c\",\"hdf5-c\",\"hdf5-c\",\"hdf5-c\",\"hdf5-c\",\"hdf5-c\",\"hdf5-c\",\"hdf5-c\",\"hdf5-c\",\"hdf5-c\",\"hdf5-c\",\"hdf5-c\",\"hdf5-c\",\"hdf5-c\",\"hdf5-async\",\"hdf5-async\",\"hdf5-async\",\"hdf5-async\",\"hdf5-async\",\"hdf5-async\",\"hdf5-async\",\"hdf5-async\",\"hdf5-async\",\"hdf5-async\",\"hdf5-async\",\"hdf5-async\",\"hdf5-async\",\"hdf5-async\",\"hdf5-async\",\"hdf5-async\",\"hdf5-async\",\"hdf5-async\",\"hdf5-async\",\"hdf5-async\",\"hdf5-async\",\"hdf5-async\",\"hdf5-async\",\"hdf5-async\",\"hdf5-async\",\"hdf5-async\",\"hdf5-async\",\"hdf5-async\",\"hdf5-async\",\"hdf5-async\",\"hdf5-async\",\"hdf5-async\",\"hdf5-async\",\"hdf5-async\",\"hdf5-async\",\"hdf5-async\",\"hdf5-async\",\"hdf5-async\",\"hdf5-async\",\"hdf5-async\",\"hdf5-async\",\"hdf5-async\",\"hdf5-async\",\"hdf5-async\",\"hdf5-async\",\"hdf5-async\",\"hdf5-async\",\"hdf5-async\",\"hdf5-async\",\"hdf5-async\",\"hdf5-parallel\",\"hdf5-parallel\",\"hdf5-parallel\",\"hdf5-parallel\",\"hdf5-parallel\",\"hdf5-parallel\",\"hdf5-parallel\",\"hdf5-parallel\",\"hdf5-parallel\",\"hdf5-parallel\",\"hdf5-parallel\",\"hdf5-parallel\",\"hdf5-parallel\",\"hdf5-parallel\",\"hdf5-parallel\",\"hdf5-parallel\",\"hdf5-parallel\",\"hdf5-parallel\",\"hdf5-parallel\",\"hdf5-parallel\",\"hdf5-parallel\",\"hdf5-parallel\",\"hdf5-parallel\",\"hdf5-parallel\",\"hdf5-parallel\",\"hdf5-parallel\",\"hdf5-parallel\",\"hdf5-parallel\",\"hdf5-parallel\",\"hdf5-parallel\",\"hdf5-parallel\",\"hdf5-parallel\",\"hdf5-parallel\",\"hdf5-parallel\",\"hdf5-parallel\",\"hdf5-parallel\",\"hdf5-parallel\",\"hdf5-parallel\",\"hdf5-parallel\",\"hdf5-parallel\",\"hdf5-parallel\",\"hdf5-parallel\",\"hdf5-parallel\",\"hdf5-parallel\",\"hdf5-parallel\",\"hdf5-parallel\",\"hdf5-parallel\",\"hdf5-parallel\",\"hdf5-parallel\",\"hdf5-parallel\",\"hdf5-async-parallel\",\"hdf5-async-parallel\",\"hdf5-async-parallel\",\"hdf5-async-parallel\",\"hdf5-async-parallel\",\"hdf5-async-parallel\",\"hdf5-async-parallel\",\"hdf5-async-parallel\",\"hdf5-async-parallel\",\"hdf5-async-parallel\",\"hdf5-async-parallel\",\"hdf5-async-parallel\",\"hdf5-async-parallel\",\"hdf5-async-parallel\",\"hdf5-async-parallel\",\"hdf5-async-parallel\",\"hdf5-async-parallel\",\"hdf5-async-parallel\",\"hdf5-async-parallel\",\"hdf5-async-parallel\",\"hdf5-async-parallel\",\"hdf5-async-parallel\",\"hdf5-async-parallel\",\"hdf5-async-parallel\",\"hdf5-async-parallel\",\"hdf5-async-parallel\",\"hdf5-async-parallel\",\"hdf5-async-parallel\",\"hdf5-async-parallel\",\"hdf5-async-parallel\",\"hdf5-async-parallel\",\"hdf5-async-parallel\",\"hdf5-async-parallel\",\"hdf5-async-parallel\",\"hdf5-async-parallel\",\"hdf5-async-parallel\",\"hdf5-async-parallel\",\"hdf5-async-parallel\",\"hdf5-async-parallel\",\"hdf5-async-parallel\",\"hdf5-async-parallel\",\"hdf5-async-parallel\",\"hdf5-async-parallel\",\"hdf5-async-parallel\",\"hdf5-async-parallel\",\"hdf5-async-parallel\",\"hdf5-async-parallel\",\"hdf5-async-parallel\",\"hdf5-async-parallel\",\"hdf5-async-parallel\",\"hdf5-subfiling\",\"hdf5-subfiling\",\"hdf5-subfiling\",\"hdf5-subfiling\",\"hdf5-subfiling\",\"hdf5-subfiling\",\"hdf5-subfiling\",\"hdf5-subfiling\",\"hdf5-subfiling\",\"hdf5-subfiling\",\"hdf5-subfiling\",\"hdf5-subfiling\",\"hdf5-subfiling\",\"hdf5-subfiling\",\"hdf5-subfiling\",\"hdf5-subfiling\",\"hdf5-subfiling\",\"hdf5-subfiling\",\"hdf5-subfiling\",\"hdf5-subfiling\",\"hdf5-subfiling\",\"hdf5-subfiling\",\"hdf5-subfiling\",\"hdf5-subfiling\",\"hdf5-subfiling\",\"hdf5-subfiling\",\"hdf5-subfiling\",\"hdf5-subfiling\",\"hdf5-subfiling\",\"hdf5-subfiling\",\"hdf5-subfiling\",\"hdf5-subfiling\",\"hdf5-subfiling\",\"hdf5-subfiling\",\"hdf5-subfiling\",\"hdf5-subfiling\",\"hdf5-subfiling\",\"hdf5-subfiling\",\"hdf5-subfiling\",\"hdf5-subfiling\",\"hdf5-subfiling\",\"hdf5-subfiling\",\"hdf5-subfiling\",\"hdf5-subfiling\",\"hdf5-subfiling\",\"hdf5-subfiling\",\"hdf5-subfiling\",\"hdf5-subfiling\",\"hdf5-subfiling\",\"hdf5-subfiling\"],\"x0\":\" \",\"xaxis\":\"x\",\"y\":[0.447918,0.44825,0.380689,0.38049,0.378916,0.37926899999999997,0.465018,0.380418,0.382969,0.40673699999999996,0.36687,0.473809,0.383522,0.38537,0.371946,0.366846,0.44606999999999997,0.368054,0.42239899999999997,0.440665,0.42477299999999996,0.446451,0.392173,0.39643,0.38809,0.381843,0.40613,0.419239,0.381779,0.381725,0.381305,0.37116299999999997,0.40329699999999996,0.37939599999999996,0.382084,0.382787,0.37557799999999997,0.392489,0.375732,0.45542099999999996,0.391823,0.391879,0.406595,0.434328,0.38131,0.381305,0.386897,0.366204,0.42329,0.387441,0.538512,0.6291249999999999,0.557295,0.417248,0.522094,0.400202,0.43293299999999996,0.39141699999999996,0.38576499999999997,0.48694099999999996,0.372594,0.367735,0.365731,0.367027,0.393227,0.36647799999999997,0.383469,0.464261,0.38642499999999996,0.386312,0.423459,0.459342,0.36635,0.366841,0.397454,0.38842499999999996,0.38098499999999996,0.382534,0.381229,0.380755,0.420977,0.382154,0.38139599999999996,0.373368,0.36724,0.415048,0.432152,0.373533,0.36813399999999996,0.36736599999999997,0.36845,0.485473,0.57666,0.44884999999999997,0.459924,0.429882,0.37734999999999996,0.44893099999999997,0.45355199999999996,0.38159,0.130298,0.131529,0.128052,0.14374499999999998,0.125487,0.121191,0.12174199999999999,0.12201999999999999,0.125193,0.123016,0.126655,0.12253399999999999,0.126851,0.12017599999999999,0.11948099999999999,0.118767,0.118989,0.118407,0.11821999999999999,0.12490499999999999,0.11976099999999999,0.118424,0.119374,0.117369,0.11875799999999999,0.11795299999999999,0.11885599999999999,0.118388,0.118576,0.119464,0.119156,0.15856499999999998,0.16905499999999998,0.116937,0.11748499999999999,0.120643,0.136855,0.118961,0.12717599999999998,0.12463199999999999,0.126055,0.124345,0.12399099999999999,0.119154,0.12221,0.12180999999999999,0.122859,0.12048199999999999,0.122531,0.12261899999999999,0.501348,0.12578899999999998,0.14742,0.12199399999999999,0.126222,0.128292,0.12454,0.124319,0.126943,0.125196,0.123669,0.128706,0.124888,0.132186,0.12420099999999999,0.126355,0.134991,0.122031,0.119739,0.11977499999999999,0.120113,0.12037099999999999,0.120831,0.12117199999999999,0.12064899999999999,0.12178,0.12054999999999999,0.121375,0.119517,0.12041199999999999,0.121156,0.12049599999999999,0.119908,0.13149,0.12028,0.127291,0.126164,0.127211,0.129012,0.128463,0.126497,0.12711799999999998,0.12997999999999998,0.12753,0.128361,0.129928,0.12906099999999998,0.13117299999999998,0.12848099999999998,0.123013,0.729479,0.7448,0.649149,0.642154,0.666337,0.8109649999999999,0.6405109999999999,0.663308,0.657366,0.840065,0.746929,0.6564519999999999,0.7505839999999999,0.628164,0.688979,0.647542,0.577997,0.6368159999999999,0.657103,0.6513979999999999,0.609453,0.75886,0.621686,0.705849,0.632095,0.714247,0.722866,0.7710859999999999,0.66245,0.61749,0.800474,0.557211,0.843874,0.677572,0.633385,0.5859599999999999,0.659277,0.8657929999999999,0.723926,0.670562,0.586482,0.732696,0.785061,0.666253,0.70307,0.6748649999999999,0.6272,0.583735,0.745188,0.746429],\"y0\":\" \",\"yaxis\":\"y\",\"type\":\"box\"}],                        {\"template\":{\"data\":{\"histogram2dcontour\":[{\"type\":\"histogram2dcontour\",\"colorbar\":{\"outlinewidth\":0,\"ticks\":\"\"},\"colorscale\":[[0.0,\"#0d0887\"],[0.1111111111111111,\"#46039f\"],[0.2222222222222222,\"#7201a8\"],[0.3333333333333333,\"#9c179e\"],[0.4444444444444444,\"#bd3786\"],[0.5555555555555556,\"#d8576b\"],[0.6666666666666666,\"#ed7953\"],[0.7777777777777778,\"#fb9f3a\"],[0.8888888888888888,\"#fdca26\"],[1.0,\"#f0f921\"]]}],\"choropleth\":[{\"type\":\"choropleth\",\"colorbar\":{\"outlinewidth\":0,\"ticks\":\"\"}}],\"histogram2d\":[{\"type\":\"histogram2d\",\"colorbar\":{\"outlinewidth\":0,\"ticks\":\"\"},\"colorscale\":[[0.0,\"#0d0887\"],[0.1111111111111111,\"#46039f\"],[0.2222222222222222,\"#7201a8\"],[0.3333333333333333,\"#9c179e\"],[0.4444444444444444,\"#bd3786\"],[0.5555555555555556,\"#d8576b\"],[0.6666666666666666,\"#ed7953\"],[0.7777777777777778,\"#fb9f3a\"],[0.8888888888888888,\"#fdca26\"],[1.0,\"#f0f921\"]]}],\"heatmap\":[{\"type\":\"heatmap\",\"colorbar\":{\"outlinewidth\":0,\"ticks\":\"\"},\"colorscale\":[[0.0,\"#0d0887\"],[0.1111111111111111,\"#46039f\"],[0.2222222222222222,\"#7201a8\"],[0.3333333333333333,\"#9c179e\"],[0.4444444444444444,\"#bd3786\"],[0.5555555555555556,\"#d8576b\"],[0.6666666666666666,\"#ed7953\"],[0.7777777777777778,\"#fb9f3a\"],[0.8888888888888888,\"#fdca26\"],[1.0,\"#f0f921\"]]}],\"heatmapgl\":[{\"type\":\"heatmapgl\",\"colorbar\":{\"outlinewidth\":0,\"ticks\":\"\"},\"colorscale\":[[0.0,\"#0d0887\"],[0.1111111111111111,\"#46039f\"],[0.2222222222222222,\"#7201a8\"],[0.3333333333333333,\"#9c179e\"],[0.4444444444444444,\"#bd3786\"],[0.5555555555555556,\"#d8576b\"],[0.6666666666666666,\"#ed7953\"],[0.7777777777777778,\"#fb9f3a\"],[0.8888888888888888,\"#fdca26\"],[1.0,\"#f0f921\"]]}],\"contourcarpet\":[{\"type\":\"contourcarpet\",\"colorbar\":{\"outlinewidth\":0,\"ticks\":\"\"}}],\"contour\":[{\"type\":\"contour\",\"colorbar\":{\"outlinewidth\":0,\"ticks\":\"\"},\"colorscale\":[[0.0,\"#0d0887\"],[0.1111111111111111,\"#46039f\"],[0.2222222222222222,\"#7201a8\"],[0.3333333333333333,\"#9c179e\"],[0.4444444444444444,\"#bd3786\"],[0.5555555555555556,\"#d8576b\"],[0.6666666666666666,\"#ed7953\"],[0.7777777777777778,\"#fb9f3a\"],[0.8888888888888888,\"#fdca26\"],[1.0,\"#f0f921\"]]}],\"surface\":[{\"type\":\"surface\",\"colorbar\":{\"outlinewidth\":0,\"ticks\":\"\"},\"colorscale\":[[0.0,\"#0d0887\"],[0.1111111111111111,\"#46039f\"],[0.2222222222222222,\"#7201a8\"],[0.3333333333333333,\"#9c179e\"],[0.4444444444444444,\"#bd3786\"],[0.5555555555555556,\"#d8576b\"],[0.6666666666666666,\"#ed7953\"],[0.7777777777777778,\"#fb9f3a\"],[0.8888888888888888,\"#fdca26\"],[1.0,\"#f0f921\"]]}],\"mesh3d\":[{\"type\":\"mesh3d\",\"colorbar\":{\"outlinewidth\":0,\"ticks\":\"\"}}],\"scatter\":[{\"fillpattern\":{\"fillmode\":\"overlay\",\"size\":10,\"solidity\":0.2},\"type\":\"scatter\"}],\"parcoords\":[{\"type\":\"parcoords\",\"line\":{\"colorbar\":{\"outlinewidth\":0,\"ticks\":\"\"}}}],\"scatterpolargl\":[{\"type\":\"scatterpolargl\",\"marker\":{\"colorbar\":{\"outlinewidth\":0,\"ticks\":\"\"}}}],\"bar\":[{\"error_x\":{\"color\":\"#2a3f5f\"},\"error_y\":{\"color\":\"#2a3f5f\"},\"marker\":{\"line\":{\"color\":\"#E5ECF6\",\"width\":0.5},\"pattern\":{\"fillmode\":\"overlay\",\"size\":10,\"solidity\":0.2}},\"type\":\"bar\"}],\"scattergeo\":[{\"type\":\"scattergeo\",\"marker\":{\"colorbar\":{\"outlinewidth\":0,\"ticks\":\"\"}}}],\"scatterpolar\":[{\"type\":\"scatterpolar\",\"marker\":{\"colorbar\":{\"outlinewidth\":0,\"ticks\":\"\"}}}],\"histogram\":[{\"marker\":{\"pattern\":{\"fillmode\":\"overlay\",\"size\":10,\"solidity\":0.2}},\"type\":\"histogram\"}],\"scattergl\":[{\"type\":\"scattergl\",\"marker\":{\"colorbar\":{\"outlinewidth\":0,\"ticks\":\"\"}}}],\"scatter3d\":[{\"type\":\"scatter3d\",\"line\":{\"colorbar\":{\"outlinewidth\":0,\"ticks\":\"\"}},\"marker\":{\"colorbar\":{\"outlinewidth\":0,\"ticks\":\"\"}}}],\"scattermapbox\":[{\"type\":\"scattermapbox\",\"marker\":{\"colorbar\":{\"outlinewidth\":0,\"ticks\":\"\"}}}],\"scatterternary\":[{\"type\":\"scatterternary\",\"marker\":{\"colorbar\":{\"outlinewidth\":0,\"ticks\":\"\"}}}],\"scattercarpet\":[{\"type\":\"scattercarpet\",\"marker\":{\"colorbar\":{\"outlinewidth\":0,\"ticks\":\"\"}}}],\"carpet\":[{\"aaxis\":{\"endlinecolor\":\"#2a3f5f\",\"gridcolor\":\"white\",\"linecolor\":\"white\",\"minorgridcolor\":\"white\",\"startlinecolor\":\"#2a3f5f\"},\"baxis\":{\"endlinecolor\":\"#2a3f5f\",\"gridcolor\":\"white\",\"linecolor\":\"white\",\"minorgridcolor\":\"white\",\"startlinecolor\":\"#2a3f5f\"},\"type\":\"carpet\"}],\"table\":[{\"cells\":{\"fill\":{\"color\":\"#EBF0F8\"},\"line\":{\"color\":\"white\"}},\"header\":{\"fill\":{\"color\":\"#C8D4E3\"},\"line\":{\"color\":\"white\"}},\"type\":\"table\"}],\"barpolar\":[{\"marker\":{\"line\":{\"color\":\"#E5ECF6\",\"width\":0.5},\"pattern\":{\"fillmode\":\"overlay\",\"size\":10,\"solidity\":0.2}},\"type\":\"barpolar\"}],\"pie\":[{\"automargin\":true,\"type\":\"pie\"}]},\"layout\":{\"autotypenumbers\":\"strict\",\"colorway\":[\"#636efa\",\"#EF553B\",\"#00cc96\",\"#ab63fa\",\"#FFA15A\",\"#19d3f3\",\"#FF6692\",\"#B6E880\",\"#FF97FF\",\"#FECB52\"],\"font\":{\"color\":\"#2a3f5f\"},\"hovermode\":\"closest\",\"hoverlabel\":{\"align\":\"left\"},\"paper_bgcolor\":\"white\",\"plot_bgcolor\":\"#E5ECF6\",\"polar\":{\"bgcolor\":\"#E5ECF6\",\"angularaxis\":{\"gridcolor\":\"white\",\"linecolor\":\"white\",\"ticks\":\"\"},\"radialaxis\":{\"gridcolor\":\"white\",\"linecolor\":\"white\",\"ticks\":\"\"}},\"ternary\":{\"bgcolor\":\"#E5ECF6\",\"aaxis\":{\"gridcolor\":\"white\",\"linecolor\":\"white\",\"ticks\":\"\"},\"baxis\":{\"gridcolor\":\"white\",\"linecolor\":\"white\",\"ticks\":\"\"},\"caxis\":{\"gridcolor\":\"white\",\"linecolor\":\"white\",\"ticks\":\"\"}},\"coloraxis\":{\"colorbar\":{\"outlinewidth\":0,\"ticks\":\"\"}},\"colorscale\":{\"sequential\":[[0.0,\"#0d0887\"],[0.1111111111111111,\"#46039f\"],[0.2222222222222222,\"#7201a8\"],[0.3333333333333333,\"#9c179e\"],[0.4444444444444444,\"#bd3786\"],[0.5555555555555556,\"#d8576b\"],[0.6666666666666666,\"#ed7953\"],[0.7777777777777778,\"#fb9f3a\"],[0.8888888888888888,\"#fdca26\"],[1.0,\"#f0f921\"]],\"sequentialminus\":[[0.0,\"#0d0887\"],[0.1111111111111111,\"#46039f\"],[0.2222222222222222,\"#7201a8\"],[0.3333333333333333,\"#9c179e\"],[0.4444444444444444,\"#bd3786\"],[0.5555555555555556,\"#d8576b\"],[0.6666666666666666,\"#ed7953\"],[0.7777777777777778,\"#fb9f3a\"],[0.8888888888888888,\"#fdca26\"],[1.0,\"#f0f921\"]],\"diverging\":[[0,\"#8e0152\"],[0.1,\"#c51b7d\"],[0.2,\"#de77ae\"],[0.3,\"#f1b6da\"],[0.4,\"#fde0ef\"],[0.5,\"#f7f7f7\"],[0.6,\"#e6f5d0\"],[0.7,\"#b8e186\"],[0.8,\"#7fbc41\"],[0.9,\"#4d9221\"],[1,\"#276419\"]]},\"xaxis\":{\"gridcolor\":\"white\",\"linecolor\":\"white\",\"ticks\":\"\",\"title\":{\"standoff\":15},\"zerolinecolor\":\"white\",\"automargin\":true,\"zerolinewidth\":2},\"yaxis\":{\"gridcolor\":\"white\",\"linecolor\":\"white\",\"ticks\":\"\",\"title\":{\"standoff\":15},\"zerolinecolor\":\"white\",\"automargin\":true,\"zerolinewidth\":2},\"scene\":{\"xaxis\":{\"backgroundcolor\":\"#E5ECF6\",\"gridcolor\":\"white\",\"linecolor\":\"white\",\"showbackground\":true,\"ticks\":\"\",\"zerolinecolor\":\"white\",\"gridwidth\":2},\"yaxis\":{\"backgroundcolor\":\"#E5ECF6\",\"gridcolor\":\"white\",\"linecolor\":\"white\",\"showbackground\":true,\"ticks\":\"\",\"zerolinecolor\":\"white\",\"gridwidth\":2},\"zaxis\":{\"backgroundcolor\":\"#E5ECF6\",\"gridcolor\":\"white\",\"linecolor\":\"white\",\"showbackground\":true,\"ticks\":\"\",\"zerolinecolor\":\"white\",\"gridwidth\":2}},\"shapedefaults\":{\"line\":{\"color\":\"#2a3f5f\"}},\"annotationdefaults\":{\"arrowcolor\":\"#2a3f5f\",\"arrowhead\":0,\"arrowwidth\":1},\"geo\":{\"bgcolor\":\"white\",\"landcolor\":\"#E5ECF6\",\"subunitcolor\":\"white\",\"showland\":true,\"showlakes\":true,\"lakecolor\":\"white\"},\"title\":{\"x\":0.05},\"mapbox\":{\"style\":\"light\"}}},\"xaxis\":{\"anchor\":\"y\",\"domain\":[0.0,1.0],\"title\":{\"text\":\"engine\"}},\"yaxis\":{\"anchor\":\"x\",\"domain\":[0.0,1.0],\"title\":{\"text\":\"time taken\"},\"type\":\"log\"},\"legend\":{\"title\":{\"text\":\"run\"},\"tracegroupgap\":0},\"margin\":{\"t\":60},\"boxmode\":\"group\"},                        {\"responsive\": true}                    ).then(function(){\n",
       "                            \n",
       "var gd = document.getElementById('892392ba-abe7-4e25-9289-a8b7cbc2bb55');\n",
       "var x = new MutationObserver(function (mutations, observer) {{\n",
       "        var display = window.getComputedStyle(gd).display;\n",
       "        if (!display || display === 'none') {{\n",
       "            console.log([gd, 'removed!']);\n",
       "            Plotly.purge(gd);\n",
       "            observer.disconnect();\n",
       "        }}\n",
       "}});\n",
       "\n",
       "// Listen for the removal of the full notebook cells\n",
       "var notebookContainer = gd.closest('#notebook-container');\n",
       "if (notebookContainer) {{\n",
       "    x.observe(notebookContainer, {childList: true});\n",
       "}}\n",
       "\n",
       "// Listen for the clearing of the current output cell\n",
       "var outputEl = gd.closest('.output');\n",
       "if (outputEl) {{\n",
       "    x.observe(outputEl, {childList: true});\n",
       "}}\n",
       "\n",
       "                        })                };                });            </script>        </div>"
      ]
     },
     "metadata": {},
     "output_type": "display_data"
    }
   ],
   "source": [
    "#%%script false --no-raise-error\n",
    "import pandas as pd\n",
    "\n",
    "import plotly.express as px\n",
    "\n",
    "df = pd.DataFrame()\n",
    "\n",
    "tmp = pd.read_json(\"/home/dev/dkrz_dev/c-stuff/test_hdf5-c.json\")\n",
    "df_hdf5_c = tmp[\"hdf5-c-read\"].tolist()\n",
    "\n",
    "tmp = pd.DataFrame(data={\"time taken\": df_hdf5_c, \"format\": f\"hdf5-c-134217728-134217728\", \"run\":1, \"engine\": \"hdf5-c\"})\n",
    "df = pd.concat([df, tmp], ignore_index=True) \n",
    "\n",
    "tmp = pd.read_json(\"/home/dev/dkrz_dev/c-stuff/test_hdf5-c_async.json\")\n",
    "df_hdf5_async = tmp[\"hdf5-c-async-read\"].tolist()\n",
    "\n",
    "tmp = pd.DataFrame(data={\"time taken\": df_hdf5_async, \"format\": f\"hdf5-async-134217728-134217728\", \"run\":1, \"engine\": \"hdf5-async\"})\n",
    "df = pd.concat([df, tmp], ignore_index=True) \n",
    "\n",
    "tmp = pd.read_json(\"/home/dev/dkrz_dev/c-stuff/test_hdf5-c_parallel.json\")\n",
    "df_hdf5_async = tmp[\"hdf5-c-read-parallel\"].tolist()\n",
    "\n",
    "tmp = pd.DataFrame(data={\"time taken\": df_hdf5_async, \"format\": f\"hdf5-parallel-134217728-134217728\", \"run\":1, \"engine\": \"hdf5-parallel\"})\n",
    "df = pd.concat([df, tmp], ignore_index=True) \n",
    "\n",
    "tmp = pd.read_json(\"/home/dev/dkrz_dev/c-stuff/test_hdf5-c_async_parallel.json\")\n",
    "df_hdf5_async = tmp[\"hdf5-c-async-read-parallel\"].tolist()\n",
    "\n",
    "tmp = pd.DataFrame(data={\"time taken\": df_hdf5_async, \"format\": f\"hdf5-async-parallel-134217728-134217728\", \"run\":1, \"engine\": \"hdf5-async-parallel\"})\n",
    "df = pd.concat([df, tmp], ignore_index=True) \n",
    "\n",
    "tmp = pd.read_json(\"/home/dev/dkrz_dev/c-stuff/test_hdf5_subfiling.json\")\n",
    "df_hdf5_subfiling = tmp[\"hdf5-subfiling-read\"].tolist()\n",
    "\n",
    "tmp = pd.DataFrame(data={\"time taken\": df_hdf5_subfiling, \"format\": f\"hdf5-subfiling-134217728-134217728\", \"run\":1, \"engine\": \"hdf5-subfiling\"})\n",
    "df = pd.concat([df, tmp], ignore_index=True) \n",
    "\n",
    "#tmp = pd.read_json(\"/home/dev/dkrz_dev/c-stuff/test_netcdf4.json\")\n",
    "#df_netcdf4_c = tmp[\"netcdf4-read\"].tolist()\n",
    "\n",
    "#tmp = pd.DataFrame(data={\"time taken\": df_netcdf4_c, \"format\": f\"netcdf4-c-134217728-134217728\", \"run\":1, \"engine\": \"netcdf4-c\"})\n",
    "#df = pd.concat([df, tmp], ignore_index=True) \n",
    "\n",
    "fig =  fig = px.box(data_frame=df, log_y=True, x=\"engine\", y=\"time taken\", color=\"run\", hover_data=[\"format\"])\n",
    "fig.show()\n"
   ]
  },
  {
   "cell_type": "code",
   "execution_count": 27,
   "id": "f827fcd7",
   "metadata": {},
   "outputs": [
    {
     "data": {
      "application/vnd.plotly.v1+json": {
       "config": {
        "plotlyServerURL": "https://plot.ly"
       },
       "data": [
        {
         "customdata": [
          [
           "zarr-[1536, 512, 512]-[1536, 512, 128]"
          ],
          [
           "zarr-[1536, 512, 512]-[1536, 512, 256]"
          ],
          [
           "zarr-[1536, 512, 512]-[1536, 512, 512]"
          ]
         ],
         "hovertemplate": "engine=zarr<br>filesize per chunk=%{x}<br>mean time=%{y}<br>format=%{customdata[0]}<extra></extra>",
         "legendgroup": "zarr",
         "line": {
          "color": "#636efa",
          "dash": "solid"
         },
         "marker": {
          "symbol": "circle"
         },
         "mode": "lines+markers",
         "name": "zarr",
         "orientation": "v",
         "showlegend": true,
         "type": "scatter",
         "x": [
          "768.0 MB",
          "1536.0 MB",
          "3072.0 MB"
         ],
         "xaxis": "x",
         "y": [
          1.1395209772,
          1.7036783252999999,
          2.5410769079
         ],
         "yaxis": "y"
        },
        {
         "customdata": [
          [
           "netcdf4-[1536, 512, 512]-[1536, 512, 128]"
          ],
          [
           "netcdf4-[1536, 512, 512]-[1536, 512, 256]"
          ],
          [
           "netcdf4-[1536, 512, 512]-[1536, 512, 512]"
          ]
         ],
         "hovertemplate": "engine=netcdf4<br>filesize per chunk=%{x}<br>mean time=%{y}<br>format=%{customdata[0]}<extra></extra>",
         "legendgroup": "netcdf4",
         "line": {
          "color": "#EF553B",
          "dash": "solid"
         },
         "marker": {
          "symbol": "circle"
         },
         "mode": "lines+markers",
         "name": "netcdf4",
         "orientation": "v",
         "showlegend": true,
         "type": "scatter",
         "x": [
          "768.0 MB",
          "1536.0 MB",
          "3072.0 MB"
         ],
         "xaxis": "x",
         "y": [
          1.7216243435000003,
          1.1831342985000002,
          0.4301736892
         ],
         "yaxis": "y"
        },
        {
         "customdata": [
          [
           "hdf5-[1536, 512, 512]-[1536, 512, 128]"
          ],
          [
           "hdf5-[1536, 512, 512]-[1536, 512, 256]"
          ],
          [
           "hdf5-[1536, 512, 512]-[1536, 512, 512]"
          ]
         ],
         "hovertemplate": "engine=hdf5<br>filesize per chunk=%{x}<br>mean time=%{y}<br>format=%{customdata[0]}<extra></extra>",
         "legendgroup": "hdf5",
         "line": {
          "color": "#00cc96",
          "dash": "solid"
         },
         "marker": {
          "symbol": "circle"
         },
         "mode": "lines+markers",
         "name": "hdf5",
         "orientation": "v",
         "showlegend": true,
         "type": "scatter",
         "x": [
          "768.0 MB",
          "1536.0 MB",
          "3072.0 MB"
         ],
         "xaxis": "x",
         "y": [
          1.6812188882,
          1.1269450736000002,
          0.3288439253
         ],
         "yaxis": "y"
        },
        {
         "customdata": [
          [
           "hdf5-c-402653184-402653184"
          ]
         ],
         "hovertemplate": "engine=hdf5-c<br>filesize per chunk=%{x}<br>mean time=%{y}<br>format=%{customdata[0]}<extra></extra>",
         "legendgroup": "hdf5-c",
         "line": {
          "color": "#ab63fa",
          "dash": "solid"
         },
         "marker": {
          "symbol": "circle"
         },
         "mode": "lines+markers",
         "name": "hdf5-c",
         "orientation": "v",
         "showlegend": true,
         "type": "scatter",
         "x": [
          "3072.0 MB"
         ],
         "xaxis": "x",
         "y": [
          0.40083250000000004
         ],
         "yaxis": "y"
        },
        {
         "customdata": [
          [
           "hdf5-subfiling-134217728-134217728"
          ]
         ],
         "hovertemplate": "engine=hdf5-subfiling<br>filesize per chunk=%{x}<br>mean time=%{y}<br>format=%{customdata[0]}<extra></extra>",
         "legendgroup": "hdf5-subfiling",
         "line": {
          "color": "#FFA15A",
          "dash": "solid"
         },
         "marker": {
          "symbol": "circle"
         },
         "mode": "lines+markers",
         "name": "hdf5-subfiling",
         "orientation": "v",
         "showlegend": true,
         "type": "scatter",
         "x": [
          "1024.0 MB"
         ],
         "xaxis": "x",
         "y": [
          0.2545808
         ],
         "yaxis": "y"
        },
        {
         "customdata": [
          [
           "hdf5-async-134217728-134217728"
          ]
         ],
         "hovertemplate": "engine=hdf5-async<br>filesize per chunk=%{x}<br>mean time=%{y}<br>format=%{customdata[0]}<extra></extra>",
         "legendgroup": "hdf5-async",
         "line": {
          "color": "#19d3f3",
          "dash": "solid"
         },
         "marker": {
          "symbol": "circle"
         },
         "mode": "lines+markers",
         "name": "hdf5-async",
         "orientation": "v",
         "showlegend": true,
         "type": "scatter",
         "x": [
          "1024.0 MB"
         ],
         "xaxis": "x",
         "y": [
          0.1775245
         ],
         "yaxis": "y"
        },
        {
         "customdata": [
          [
           "netcdf4-c-134217728-134217728"
          ]
         ],
         "hovertemplate": "engine=netcdf4-c<br>filesize per chunk=%{x}<br>mean time=%{y}<br>format=%{customdata[0]}<extra></extra>",
         "legendgroup": "netcdf4-c",
         "line": {
          "color": "#FF6692",
          "dash": "solid"
         },
         "marker": {
          "symbol": "circle"
         },
         "mode": "lines+markers",
         "name": "netcdf4-c",
         "orientation": "v",
         "showlegend": true,
         "type": "scatter",
         "x": [
          "1024.0 MB"
         ],
         "xaxis": "x",
         "y": [
          0.17994741
         ],
         "yaxis": "y"
        }
       ],
       "layout": {
        "legend": {
         "title": {
          "text": "engine"
         },
         "tracegroupgap": 0
        },
        "template": {
         "data": {
          "bar": [
           {
            "error_x": {
             "color": "#2a3f5f"
            },
            "error_y": {
             "color": "#2a3f5f"
            },
            "marker": {
             "line": {
              "color": "#E5ECF6",
              "width": 0.5
             },
             "pattern": {
              "fillmode": "overlay",
              "size": 10,
              "solidity": 0.2
             }
            },
            "type": "bar"
           }
          ],
          "barpolar": [
           {
            "marker": {
             "line": {
              "color": "#E5ECF6",
              "width": 0.5
             },
             "pattern": {
              "fillmode": "overlay",
              "size": 10,
              "solidity": 0.2
             }
            },
            "type": "barpolar"
           }
          ],
          "carpet": [
           {
            "aaxis": {
             "endlinecolor": "#2a3f5f",
             "gridcolor": "white",
             "linecolor": "white",
             "minorgridcolor": "white",
             "startlinecolor": "#2a3f5f"
            },
            "baxis": {
             "endlinecolor": "#2a3f5f",
             "gridcolor": "white",
             "linecolor": "white",
             "minorgridcolor": "white",
             "startlinecolor": "#2a3f5f"
            },
            "type": "carpet"
           }
          ],
          "choropleth": [
           {
            "colorbar": {
             "outlinewidth": 0,
             "ticks": ""
            },
            "type": "choropleth"
           }
          ],
          "contour": [
           {
            "colorbar": {
             "outlinewidth": 0,
             "ticks": ""
            },
            "colorscale": [
             [
              0,
              "#0d0887"
             ],
             [
              0.1111111111111111,
              "#46039f"
             ],
             [
              0.2222222222222222,
              "#7201a8"
             ],
             [
              0.3333333333333333,
              "#9c179e"
             ],
             [
              0.4444444444444444,
              "#bd3786"
             ],
             [
              0.5555555555555556,
              "#d8576b"
             ],
             [
              0.6666666666666666,
              "#ed7953"
             ],
             [
              0.7777777777777778,
              "#fb9f3a"
             ],
             [
              0.8888888888888888,
              "#fdca26"
             ],
             [
              1,
              "#f0f921"
             ]
            ],
            "type": "contour"
           }
          ],
          "contourcarpet": [
           {
            "colorbar": {
             "outlinewidth": 0,
             "ticks": ""
            },
            "type": "contourcarpet"
           }
          ],
          "heatmap": [
           {
            "colorbar": {
             "outlinewidth": 0,
             "ticks": ""
            },
            "colorscale": [
             [
              0,
              "#0d0887"
             ],
             [
              0.1111111111111111,
              "#46039f"
             ],
             [
              0.2222222222222222,
              "#7201a8"
             ],
             [
              0.3333333333333333,
              "#9c179e"
             ],
             [
              0.4444444444444444,
              "#bd3786"
             ],
             [
              0.5555555555555556,
              "#d8576b"
             ],
             [
              0.6666666666666666,
              "#ed7953"
             ],
             [
              0.7777777777777778,
              "#fb9f3a"
             ],
             [
              0.8888888888888888,
              "#fdca26"
             ],
             [
              1,
              "#f0f921"
             ]
            ],
            "type": "heatmap"
           }
          ],
          "heatmapgl": [
           {
            "colorbar": {
             "outlinewidth": 0,
             "ticks": ""
            },
            "colorscale": [
             [
              0,
              "#0d0887"
             ],
             [
              0.1111111111111111,
              "#46039f"
             ],
             [
              0.2222222222222222,
              "#7201a8"
             ],
             [
              0.3333333333333333,
              "#9c179e"
             ],
             [
              0.4444444444444444,
              "#bd3786"
             ],
             [
              0.5555555555555556,
              "#d8576b"
             ],
             [
              0.6666666666666666,
              "#ed7953"
             ],
             [
              0.7777777777777778,
              "#fb9f3a"
             ],
             [
              0.8888888888888888,
              "#fdca26"
             ],
             [
              1,
              "#f0f921"
             ]
            ],
            "type": "heatmapgl"
           }
          ],
          "histogram": [
           {
            "marker": {
             "pattern": {
              "fillmode": "overlay",
              "size": 10,
              "solidity": 0.2
             }
            },
            "type": "histogram"
           }
          ],
          "histogram2d": [
           {
            "colorbar": {
             "outlinewidth": 0,
             "ticks": ""
            },
            "colorscale": [
             [
              0,
              "#0d0887"
             ],
             [
              0.1111111111111111,
              "#46039f"
             ],
             [
              0.2222222222222222,
              "#7201a8"
             ],
             [
              0.3333333333333333,
              "#9c179e"
             ],
             [
              0.4444444444444444,
              "#bd3786"
             ],
             [
              0.5555555555555556,
              "#d8576b"
             ],
             [
              0.6666666666666666,
              "#ed7953"
             ],
             [
              0.7777777777777778,
              "#fb9f3a"
             ],
             [
              0.8888888888888888,
              "#fdca26"
             ],
             [
              1,
              "#f0f921"
             ]
            ],
            "type": "histogram2d"
           }
          ],
          "histogram2dcontour": [
           {
            "colorbar": {
             "outlinewidth": 0,
             "ticks": ""
            },
            "colorscale": [
             [
              0,
              "#0d0887"
             ],
             [
              0.1111111111111111,
              "#46039f"
             ],
             [
              0.2222222222222222,
              "#7201a8"
             ],
             [
              0.3333333333333333,
              "#9c179e"
             ],
             [
              0.4444444444444444,
              "#bd3786"
             ],
             [
              0.5555555555555556,
              "#d8576b"
             ],
             [
              0.6666666666666666,
              "#ed7953"
             ],
             [
              0.7777777777777778,
              "#fb9f3a"
             ],
             [
              0.8888888888888888,
              "#fdca26"
             ],
             [
              1,
              "#f0f921"
             ]
            ],
            "type": "histogram2dcontour"
           }
          ],
          "mesh3d": [
           {
            "colorbar": {
             "outlinewidth": 0,
             "ticks": ""
            },
            "type": "mesh3d"
           }
          ],
          "parcoords": [
           {
            "line": {
             "colorbar": {
              "outlinewidth": 0,
              "ticks": ""
             }
            },
            "type": "parcoords"
           }
          ],
          "pie": [
           {
            "automargin": true,
            "type": "pie"
           }
          ],
          "scatter": [
           {
            "fillpattern": {
             "fillmode": "overlay",
             "size": 10,
             "solidity": 0.2
            },
            "type": "scatter"
           }
          ],
          "scatter3d": [
           {
            "line": {
             "colorbar": {
              "outlinewidth": 0,
              "ticks": ""
             }
            },
            "marker": {
             "colorbar": {
              "outlinewidth": 0,
              "ticks": ""
             }
            },
            "type": "scatter3d"
           }
          ],
          "scattercarpet": [
           {
            "marker": {
             "colorbar": {
              "outlinewidth": 0,
              "ticks": ""
             }
            },
            "type": "scattercarpet"
           }
          ],
          "scattergeo": [
           {
            "marker": {
             "colorbar": {
              "outlinewidth": 0,
              "ticks": ""
             }
            },
            "type": "scattergeo"
           }
          ],
          "scattergl": [
           {
            "marker": {
             "colorbar": {
              "outlinewidth": 0,
              "ticks": ""
             }
            },
            "type": "scattergl"
           }
          ],
          "scattermapbox": [
           {
            "marker": {
             "colorbar": {
              "outlinewidth": 0,
              "ticks": ""
             }
            },
            "type": "scattermapbox"
           }
          ],
          "scatterpolar": [
           {
            "marker": {
             "colorbar": {
              "outlinewidth": 0,
              "ticks": ""
             }
            },
            "type": "scatterpolar"
           }
          ],
          "scatterpolargl": [
           {
            "marker": {
             "colorbar": {
              "outlinewidth": 0,
              "ticks": ""
             }
            },
            "type": "scatterpolargl"
           }
          ],
          "scatterternary": [
           {
            "marker": {
             "colorbar": {
              "outlinewidth": 0,
              "ticks": ""
             }
            },
            "type": "scatterternary"
           }
          ],
          "surface": [
           {
            "colorbar": {
             "outlinewidth": 0,
             "ticks": ""
            },
            "colorscale": [
             [
              0,
              "#0d0887"
             ],
             [
              0.1111111111111111,
              "#46039f"
             ],
             [
              0.2222222222222222,
              "#7201a8"
             ],
             [
              0.3333333333333333,
              "#9c179e"
             ],
             [
              0.4444444444444444,
              "#bd3786"
             ],
             [
              0.5555555555555556,
              "#d8576b"
             ],
             [
              0.6666666666666666,
              "#ed7953"
             ],
             [
              0.7777777777777778,
              "#fb9f3a"
             ],
             [
              0.8888888888888888,
              "#fdca26"
             ],
             [
              1,
              "#f0f921"
             ]
            ],
            "type": "surface"
           }
          ],
          "table": [
           {
            "cells": {
             "fill": {
              "color": "#EBF0F8"
             },
             "line": {
              "color": "white"
             }
            },
            "header": {
             "fill": {
              "color": "#C8D4E3"
             },
             "line": {
              "color": "white"
             }
            },
            "type": "table"
           }
          ]
         },
         "layout": {
          "annotationdefaults": {
           "arrowcolor": "#2a3f5f",
           "arrowhead": 0,
           "arrowwidth": 1
          },
          "autotypenumbers": "strict",
          "coloraxis": {
           "colorbar": {
            "outlinewidth": 0,
            "ticks": ""
           }
          },
          "colorscale": {
           "diverging": [
            [
             0,
             "#8e0152"
            ],
            [
             0.1,
             "#c51b7d"
            ],
            [
             0.2,
             "#de77ae"
            ],
            [
             0.3,
             "#f1b6da"
            ],
            [
             0.4,
             "#fde0ef"
            ],
            [
             0.5,
             "#f7f7f7"
            ],
            [
             0.6,
             "#e6f5d0"
            ],
            [
             0.7,
             "#b8e186"
            ],
            [
             0.8,
             "#7fbc41"
            ],
            [
             0.9,
             "#4d9221"
            ],
            [
             1,
             "#276419"
            ]
           ],
           "sequential": [
            [
             0,
             "#0d0887"
            ],
            [
             0.1111111111111111,
             "#46039f"
            ],
            [
             0.2222222222222222,
             "#7201a8"
            ],
            [
             0.3333333333333333,
             "#9c179e"
            ],
            [
             0.4444444444444444,
             "#bd3786"
            ],
            [
             0.5555555555555556,
             "#d8576b"
            ],
            [
             0.6666666666666666,
             "#ed7953"
            ],
            [
             0.7777777777777778,
             "#fb9f3a"
            ],
            [
             0.8888888888888888,
             "#fdca26"
            ],
            [
             1,
             "#f0f921"
            ]
           ],
           "sequentialminus": [
            [
             0,
             "#0d0887"
            ],
            [
             0.1111111111111111,
             "#46039f"
            ],
            [
             0.2222222222222222,
             "#7201a8"
            ],
            [
             0.3333333333333333,
             "#9c179e"
            ],
            [
             0.4444444444444444,
             "#bd3786"
            ],
            [
             0.5555555555555556,
             "#d8576b"
            ],
            [
             0.6666666666666666,
             "#ed7953"
            ],
            [
             0.7777777777777778,
             "#fb9f3a"
            ],
            [
             0.8888888888888888,
             "#fdca26"
            ],
            [
             1,
             "#f0f921"
            ]
           ]
          },
          "colorway": [
           "#636efa",
           "#EF553B",
           "#00cc96",
           "#ab63fa",
           "#FFA15A",
           "#19d3f3",
           "#FF6692",
           "#B6E880",
           "#FF97FF",
           "#FECB52"
          ],
          "font": {
           "color": "#2a3f5f"
          },
          "geo": {
           "bgcolor": "white",
           "lakecolor": "white",
           "landcolor": "#E5ECF6",
           "showlakes": true,
           "showland": true,
           "subunitcolor": "white"
          },
          "hoverlabel": {
           "align": "left"
          },
          "hovermode": "closest",
          "mapbox": {
           "style": "light"
          },
          "paper_bgcolor": "white",
          "plot_bgcolor": "#E5ECF6",
          "polar": {
           "angularaxis": {
            "gridcolor": "white",
            "linecolor": "white",
            "ticks": ""
           },
           "bgcolor": "#E5ECF6",
           "radialaxis": {
            "gridcolor": "white",
            "linecolor": "white",
            "ticks": ""
           }
          },
          "scene": {
           "xaxis": {
            "backgroundcolor": "#E5ECF6",
            "gridcolor": "white",
            "gridwidth": 2,
            "linecolor": "white",
            "showbackground": true,
            "ticks": "",
            "zerolinecolor": "white"
           },
           "yaxis": {
            "backgroundcolor": "#E5ECF6",
            "gridcolor": "white",
            "gridwidth": 2,
            "linecolor": "white",
            "showbackground": true,
            "ticks": "",
            "zerolinecolor": "white"
           },
           "zaxis": {
            "backgroundcolor": "#E5ECF6",
            "gridcolor": "white",
            "gridwidth": 2,
            "linecolor": "white",
            "showbackground": true,
            "ticks": "",
            "zerolinecolor": "white"
           }
          },
          "shapedefaults": {
           "line": {
            "color": "#2a3f5f"
           }
          },
          "ternary": {
           "aaxis": {
            "gridcolor": "white",
            "linecolor": "white",
            "ticks": ""
           },
           "baxis": {
            "gridcolor": "white",
            "linecolor": "white",
            "ticks": ""
           },
           "bgcolor": "#E5ECF6",
           "caxis": {
            "gridcolor": "white",
            "linecolor": "white",
            "ticks": ""
           }
          },
          "title": {
           "x": 0.05
          },
          "xaxis": {
           "automargin": true,
           "gridcolor": "white",
           "linecolor": "white",
           "ticks": "",
           "title": {
            "standoff": 15
           },
           "zerolinecolor": "white",
           "zerolinewidth": 2
          },
          "yaxis": {
           "automargin": true,
           "gridcolor": "white",
           "linecolor": "white",
           "ticks": "",
           "title": {
            "standoff": 15
           },
           "zerolinecolor": "white",
           "zerolinewidth": 2
          }
         }
        },
        "title": {
         "text": "loading complete dataset with varying chunksizes"
        },
        "xaxis": {
         "anchor": "y",
         "domain": [
          0,
          1
         ],
         "title": {
          "text": "filesize per chunk"
         }
        },
        "yaxis": {
         "anchor": "x",
         "domain": [
          0,
          1
         ],
         "title": {
          "text": "mean time"
         },
         "type": "log"
        }
       }
      },
      "text/html": [
       "<div>                            <div id=\"55643270-412a-44aa-a4d0-6f313c350d8d\" class=\"plotly-graph-div\" style=\"height:525px; width:100%;\"></div>            <script type=\"text/javascript\">                require([\"plotly\"], function(Plotly) {                    window.PLOTLYENV=window.PLOTLYENV || {};                                    if (document.getElementById(\"55643270-412a-44aa-a4d0-6f313c350d8d\")) {                    Plotly.newPlot(                        \"55643270-412a-44aa-a4d0-6f313c350d8d\",                        [{\"customdata\":[[\"zarr-[1536, 512, 512]-[1536, 512, 128]\"],[\"zarr-[1536, 512, 512]-[1536, 512, 256]\"],[\"zarr-[1536, 512, 512]-[1536, 512, 512]\"]],\"hovertemplate\":\"engine=zarr\\u003cbr\\u003efilesize per chunk=%{x}\\u003cbr\\u003emean time=%{y}\\u003cbr\\u003eformat=%{customdata[0]}\\u003cextra\\u003e\\u003c\\u002fextra\\u003e\",\"legendgroup\":\"zarr\",\"line\":{\"color\":\"#636efa\",\"dash\":\"solid\"},\"marker\":{\"symbol\":\"circle\"},\"mode\":\"lines+markers\",\"name\":\"zarr\",\"orientation\":\"v\",\"showlegend\":true,\"x\":[\"768.0 MB\",\"1536.0 MB\",\"3072.0 MB\"],\"xaxis\":\"x\",\"y\":[1.1395209772,1.7036783252999999,2.5410769079],\"yaxis\":\"y\",\"type\":\"scatter\"},{\"customdata\":[[\"netcdf4-[1536, 512, 512]-[1536, 512, 128]\"],[\"netcdf4-[1536, 512, 512]-[1536, 512, 256]\"],[\"netcdf4-[1536, 512, 512]-[1536, 512, 512]\"]],\"hovertemplate\":\"engine=netcdf4\\u003cbr\\u003efilesize per chunk=%{x}\\u003cbr\\u003emean time=%{y}\\u003cbr\\u003eformat=%{customdata[0]}\\u003cextra\\u003e\\u003c\\u002fextra\\u003e\",\"legendgroup\":\"netcdf4\",\"line\":{\"color\":\"#EF553B\",\"dash\":\"solid\"},\"marker\":{\"symbol\":\"circle\"},\"mode\":\"lines+markers\",\"name\":\"netcdf4\",\"orientation\":\"v\",\"showlegend\":true,\"x\":[\"768.0 MB\",\"1536.0 MB\",\"3072.0 MB\"],\"xaxis\":\"x\",\"y\":[1.7216243435000003,1.1831342985000002,0.4301736892],\"yaxis\":\"y\",\"type\":\"scatter\"},{\"customdata\":[[\"hdf5-[1536, 512, 512]-[1536, 512, 128]\"],[\"hdf5-[1536, 512, 512]-[1536, 512, 256]\"],[\"hdf5-[1536, 512, 512]-[1536, 512, 512]\"]],\"hovertemplate\":\"engine=hdf5\\u003cbr\\u003efilesize per chunk=%{x}\\u003cbr\\u003emean time=%{y}\\u003cbr\\u003eformat=%{customdata[0]}\\u003cextra\\u003e\\u003c\\u002fextra\\u003e\",\"legendgroup\":\"hdf5\",\"line\":{\"color\":\"#00cc96\",\"dash\":\"solid\"},\"marker\":{\"symbol\":\"circle\"},\"mode\":\"lines+markers\",\"name\":\"hdf5\",\"orientation\":\"v\",\"showlegend\":true,\"x\":[\"768.0 MB\",\"1536.0 MB\",\"3072.0 MB\"],\"xaxis\":\"x\",\"y\":[1.6812188882,1.1269450736000002,0.3288439253],\"yaxis\":\"y\",\"type\":\"scatter\"},{\"customdata\":[[\"hdf5-c-402653184-402653184\"]],\"hovertemplate\":\"engine=hdf5-c\\u003cbr\\u003efilesize per chunk=%{x}\\u003cbr\\u003emean time=%{y}\\u003cbr\\u003eformat=%{customdata[0]}\\u003cextra\\u003e\\u003c\\u002fextra\\u003e\",\"legendgroup\":\"hdf5-c\",\"line\":{\"color\":\"#ab63fa\",\"dash\":\"solid\"},\"marker\":{\"symbol\":\"circle\"},\"mode\":\"lines+markers\",\"name\":\"hdf5-c\",\"orientation\":\"v\",\"showlegend\":true,\"x\":[\"3072.0 MB\"],\"xaxis\":\"x\",\"y\":[0.40083250000000004],\"yaxis\":\"y\",\"type\":\"scatter\"},{\"customdata\":[[\"hdf5-subfiling-134217728-134217728\"]],\"hovertemplate\":\"engine=hdf5-subfiling\\u003cbr\\u003efilesize per chunk=%{x}\\u003cbr\\u003emean time=%{y}\\u003cbr\\u003eformat=%{customdata[0]}\\u003cextra\\u003e\\u003c\\u002fextra\\u003e\",\"legendgroup\":\"hdf5-subfiling\",\"line\":{\"color\":\"#FFA15A\",\"dash\":\"solid\"},\"marker\":{\"symbol\":\"circle\"},\"mode\":\"lines+markers\",\"name\":\"hdf5-subfiling\",\"orientation\":\"v\",\"showlegend\":true,\"x\":[\"1024.0 MB\"],\"xaxis\":\"x\",\"y\":[0.2545808],\"yaxis\":\"y\",\"type\":\"scatter\"},{\"customdata\":[[\"hdf5-async-134217728-134217728\"]],\"hovertemplate\":\"engine=hdf5-async\\u003cbr\\u003efilesize per chunk=%{x}\\u003cbr\\u003emean time=%{y}\\u003cbr\\u003eformat=%{customdata[0]}\\u003cextra\\u003e\\u003c\\u002fextra\\u003e\",\"legendgroup\":\"hdf5-async\",\"line\":{\"color\":\"#19d3f3\",\"dash\":\"solid\"},\"marker\":{\"symbol\":\"circle\"},\"mode\":\"lines+markers\",\"name\":\"hdf5-async\",\"orientation\":\"v\",\"showlegend\":true,\"x\":[\"1024.0 MB\"],\"xaxis\":\"x\",\"y\":[0.1775245],\"yaxis\":\"y\",\"type\":\"scatter\"},{\"customdata\":[[\"netcdf4-c-134217728-134217728\"]],\"hovertemplate\":\"engine=netcdf4-c\\u003cbr\\u003efilesize per chunk=%{x}\\u003cbr\\u003emean time=%{y}\\u003cbr\\u003eformat=%{customdata[0]}\\u003cextra\\u003e\\u003c\\u002fextra\\u003e\",\"legendgroup\":\"netcdf4-c\",\"line\":{\"color\":\"#FF6692\",\"dash\":\"solid\"},\"marker\":{\"symbol\":\"circle\"},\"mode\":\"lines+markers\",\"name\":\"netcdf4-c\",\"orientation\":\"v\",\"showlegend\":true,\"x\":[\"1024.0 MB\"],\"xaxis\":\"x\",\"y\":[0.17994741],\"yaxis\":\"y\",\"type\":\"scatter\"}],                        {\"template\":{\"data\":{\"histogram2dcontour\":[{\"type\":\"histogram2dcontour\",\"colorbar\":{\"outlinewidth\":0,\"ticks\":\"\"},\"colorscale\":[[0.0,\"#0d0887\"],[0.1111111111111111,\"#46039f\"],[0.2222222222222222,\"#7201a8\"],[0.3333333333333333,\"#9c179e\"],[0.4444444444444444,\"#bd3786\"],[0.5555555555555556,\"#d8576b\"],[0.6666666666666666,\"#ed7953\"],[0.7777777777777778,\"#fb9f3a\"],[0.8888888888888888,\"#fdca26\"],[1.0,\"#f0f921\"]]}],\"choropleth\":[{\"type\":\"choropleth\",\"colorbar\":{\"outlinewidth\":0,\"ticks\":\"\"}}],\"histogram2d\":[{\"type\":\"histogram2d\",\"colorbar\":{\"outlinewidth\":0,\"ticks\":\"\"},\"colorscale\":[[0.0,\"#0d0887\"],[0.1111111111111111,\"#46039f\"],[0.2222222222222222,\"#7201a8\"],[0.3333333333333333,\"#9c179e\"],[0.4444444444444444,\"#bd3786\"],[0.5555555555555556,\"#d8576b\"],[0.6666666666666666,\"#ed7953\"],[0.7777777777777778,\"#fb9f3a\"],[0.8888888888888888,\"#fdca26\"],[1.0,\"#f0f921\"]]}],\"heatmap\":[{\"type\":\"heatmap\",\"colorbar\":{\"outlinewidth\":0,\"ticks\":\"\"},\"colorscale\":[[0.0,\"#0d0887\"],[0.1111111111111111,\"#46039f\"],[0.2222222222222222,\"#7201a8\"],[0.3333333333333333,\"#9c179e\"],[0.4444444444444444,\"#bd3786\"],[0.5555555555555556,\"#d8576b\"],[0.6666666666666666,\"#ed7953\"],[0.7777777777777778,\"#fb9f3a\"],[0.8888888888888888,\"#fdca26\"],[1.0,\"#f0f921\"]]}],\"heatmapgl\":[{\"type\":\"heatmapgl\",\"colorbar\":{\"outlinewidth\":0,\"ticks\":\"\"},\"colorscale\":[[0.0,\"#0d0887\"],[0.1111111111111111,\"#46039f\"],[0.2222222222222222,\"#7201a8\"],[0.3333333333333333,\"#9c179e\"],[0.4444444444444444,\"#bd3786\"],[0.5555555555555556,\"#d8576b\"],[0.6666666666666666,\"#ed7953\"],[0.7777777777777778,\"#fb9f3a\"],[0.8888888888888888,\"#fdca26\"],[1.0,\"#f0f921\"]]}],\"contourcarpet\":[{\"type\":\"contourcarpet\",\"colorbar\":{\"outlinewidth\":0,\"ticks\":\"\"}}],\"contour\":[{\"type\":\"contour\",\"colorbar\":{\"outlinewidth\":0,\"ticks\":\"\"},\"colorscale\":[[0.0,\"#0d0887\"],[0.1111111111111111,\"#46039f\"],[0.2222222222222222,\"#7201a8\"],[0.3333333333333333,\"#9c179e\"],[0.4444444444444444,\"#bd3786\"],[0.5555555555555556,\"#d8576b\"],[0.6666666666666666,\"#ed7953\"],[0.7777777777777778,\"#fb9f3a\"],[0.8888888888888888,\"#fdca26\"],[1.0,\"#f0f921\"]]}],\"surface\":[{\"type\":\"surface\",\"colorbar\":{\"outlinewidth\":0,\"ticks\":\"\"},\"colorscale\":[[0.0,\"#0d0887\"],[0.1111111111111111,\"#46039f\"],[0.2222222222222222,\"#7201a8\"],[0.3333333333333333,\"#9c179e\"],[0.4444444444444444,\"#bd3786\"],[0.5555555555555556,\"#d8576b\"],[0.6666666666666666,\"#ed7953\"],[0.7777777777777778,\"#fb9f3a\"],[0.8888888888888888,\"#fdca26\"],[1.0,\"#f0f921\"]]}],\"mesh3d\":[{\"type\":\"mesh3d\",\"colorbar\":{\"outlinewidth\":0,\"ticks\":\"\"}}],\"scatter\":[{\"fillpattern\":{\"fillmode\":\"overlay\",\"size\":10,\"solidity\":0.2},\"type\":\"scatter\"}],\"parcoords\":[{\"type\":\"parcoords\",\"line\":{\"colorbar\":{\"outlinewidth\":0,\"ticks\":\"\"}}}],\"scatterpolargl\":[{\"type\":\"scatterpolargl\",\"marker\":{\"colorbar\":{\"outlinewidth\":0,\"ticks\":\"\"}}}],\"bar\":[{\"error_x\":{\"color\":\"#2a3f5f\"},\"error_y\":{\"color\":\"#2a3f5f\"},\"marker\":{\"line\":{\"color\":\"#E5ECF6\",\"width\":0.5},\"pattern\":{\"fillmode\":\"overlay\",\"size\":10,\"solidity\":0.2}},\"type\":\"bar\"}],\"scattergeo\":[{\"type\":\"scattergeo\",\"marker\":{\"colorbar\":{\"outlinewidth\":0,\"ticks\":\"\"}}}],\"scatterpolar\":[{\"type\":\"scatterpolar\",\"marker\":{\"colorbar\":{\"outlinewidth\":0,\"ticks\":\"\"}}}],\"histogram\":[{\"marker\":{\"pattern\":{\"fillmode\":\"overlay\",\"size\":10,\"solidity\":0.2}},\"type\":\"histogram\"}],\"scattergl\":[{\"type\":\"scattergl\",\"marker\":{\"colorbar\":{\"outlinewidth\":0,\"ticks\":\"\"}}}],\"scatter3d\":[{\"type\":\"scatter3d\",\"line\":{\"colorbar\":{\"outlinewidth\":0,\"ticks\":\"\"}},\"marker\":{\"colorbar\":{\"outlinewidth\":0,\"ticks\":\"\"}}}],\"scattermapbox\":[{\"type\":\"scattermapbox\",\"marker\":{\"colorbar\":{\"outlinewidth\":0,\"ticks\":\"\"}}}],\"scatterternary\":[{\"type\":\"scatterternary\",\"marker\":{\"colorbar\":{\"outlinewidth\":0,\"ticks\":\"\"}}}],\"scattercarpet\":[{\"type\":\"scattercarpet\",\"marker\":{\"colorbar\":{\"outlinewidth\":0,\"ticks\":\"\"}}}],\"carpet\":[{\"aaxis\":{\"endlinecolor\":\"#2a3f5f\",\"gridcolor\":\"white\",\"linecolor\":\"white\",\"minorgridcolor\":\"white\",\"startlinecolor\":\"#2a3f5f\"},\"baxis\":{\"endlinecolor\":\"#2a3f5f\",\"gridcolor\":\"white\",\"linecolor\":\"white\",\"minorgridcolor\":\"white\",\"startlinecolor\":\"#2a3f5f\"},\"type\":\"carpet\"}],\"table\":[{\"cells\":{\"fill\":{\"color\":\"#EBF0F8\"},\"line\":{\"color\":\"white\"}},\"header\":{\"fill\":{\"color\":\"#C8D4E3\"},\"line\":{\"color\":\"white\"}},\"type\":\"table\"}],\"barpolar\":[{\"marker\":{\"line\":{\"color\":\"#E5ECF6\",\"width\":0.5},\"pattern\":{\"fillmode\":\"overlay\",\"size\":10,\"solidity\":0.2}},\"type\":\"barpolar\"}],\"pie\":[{\"automargin\":true,\"type\":\"pie\"}]},\"layout\":{\"autotypenumbers\":\"strict\",\"colorway\":[\"#636efa\",\"#EF553B\",\"#00cc96\",\"#ab63fa\",\"#FFA15A\",\"#19d3f3\",\"#FF6692\",\"#B6E880\",\"#FF97FF\",\"#FECB52\"],\"font\":{\"color\":\"#2a3f5f\"},\"hovermode\":\"closest\",\"hoverlabel\":{\"align\":\"left\"},\"paper_bgcolor\":\"white\",\"plot_bgcolor\":\"#E5ECF6\",\"polar\":{\"bgcolor\":\"#E5ECF6\",\"angularaxis\":{\"gridcolor\":\"white\",\"linecolor\":\"white\",\"ticks\":\"\"},\"radialaxis\":{\"gridcolor\":\"white\",\"linecolor\":\"white\",\"ticks\":\"\"}},\"ternary\":{\"bgcolor\":\"#E5ECF6\",\"aaxis\":{\"gridcolor\":\"white\",\"linecolor\":\"white\",\"ticks\":\"\"},\"baxis\":{\"gridcolor\":\"white\",\"linecolor\":\"white\",\"ticks\":\"\"},\"caxis\":{\"gridcolor\":\"white\",\"linecolor\":\"white\",\"ticks\":\"\"}},\"coloraxis\":{\"colorbar\":{\"outlinewidth\":0,\"ticks\":\"\"}},\"colorscale\":{\"sequential\":[[0.0,\"#0d0887\"],[0.1111111111111111,\"#46039f\"],[0.2222222222222222,\"#7201a8\"],[0.3333333333333333,\"#9c179e\"],[0.4444444444444444,\"#bd3786\"],[0.5555555555555556,\"#d8576b\"],[0.6666666666666666,\"#ed7953\"],[0.7777777777777778,\"#fb9f3a\"],[0.8888888888888888,\"#fdca26\"],[1.0,\"#f0f921\"]],\"sequentialminus\":[[0.0,\"#0d0887\"],[0.1111111111111111,\"#46039f\"],[0.2222222222222222,\"#7201a8\"],[0.3333333333333333,\"#9c179e\"],[0.4444444444444444,\"#bd3786\"],[0.5555555555555556,\"#d8576b\"],[0.6666666666666666,\"#ed7953\"],[0.7777777777777778,\"#fb9f3a\"],[0.8888888888888888,\"#fdca26\"],[1.0,\"#f0f921\"]],\"diverging\":[[0,\"#8e0152\"],[0.1,\"#c51b7d\"],[0.2,\"#de77ae\"],[0.3,\"#f1b6da\"],[0.4,\"#fde0ef\"],[0.5,\"#f7f7f7\"],[0.6,\"#e6f5d0\"],[0.7,\"#b8e186\"],[0.8,\"#7fbc41\"],[0.9,\"#4d9221\"],[1,\"#276419\"]]},\"xaxis\":{\"gridcolor\":\"white\",\"linecolor\":\"white\",\"ticks\":\"\",\"title\":{\"standoff\":15},\"zerolinecolor\":\"white\",\"automargin\":true,\"zerolinewidth\":2},\"yaxis\":{\"gridcolor\":\"white\",\"linecolor\":\"white\",\"ticks\":\"\",\"title\":{\"standoff\":15},\"zerolinecolor\":\"white\",\"automargin\":true,\"zerolinewidth\":2},\"scene\":{\"xaxis\":{\"backgroundcolor\":\"#E5ECF6\",\"gridcolor\":\"white\",\"linecolor\":\"white\",\"showbackground\":true,\"ticks\":\"\",\"zerolinecolor\":\"white\",\"gridwidth\":2},\"yaxis\":{\"backgroundcolor\":\"#E5ECF6\",\"gridcolor\":\"white\",\"linecolor\":\"white\",\"showbackground\":true,\"ticks\":\"\",\"zerolinecolor\":\"white\",\"gridwidth\":2},\"zaxis\":{\"backgroundcolor\":\"#E5ECF6\",\"gridcolor\":\"white\",\"linecolor\":\"white\",\"showbackground\":true,\"ticks\":\"\",\"zerolinecolor\":\"white\",\"gridwidth\":2}},\"shapedefaults\":{\"line\":{\"color\":\"#2a3f5f\"}},\"annotationdefaults\":{\"arrowcolor\":\"#2a3f5f\",\"arrowhead\":0,\"arrowwidth\":1},\"geo\":{\"bgcolor\":\"white\",\"landcolor\":\"#E5ECF6\",\"subunitcolor\":\"white\",\"showland\":true,\"showlakes\":true,\"lakecolor\":\"white\"},\"title\":{\"x\":0.05},\"mapbox\":{\"style\":\"light\"}}},\"xaxis\":{\"anchor\":\"y\",\"domain\":[0.0,1.0],\"title\":{\"text\":\"filesize per chunk\"}},\"yaxis\":{\"anchor\":\"x\",\"domain\":[0.0,1.0],\"title\":{\"text\":\"mean time\"},\"type\":\"log\"},\"legend\":{\"title\":{\"text\":\"engine\"},\"tracegroupgap\":0},\"title\":{\"text\":\"loading complete dataset with varying chunksizes\"}},                        {\"responsive\": true}                    ).then(function(){\n",
       "                            \n",
       "var gd = document.getElementById('55643270-412a-44aa-a4d0-6f313c350d8d');\n",
       "var x = new MutationObserver(function (mutations, observer) {{\n",
       "        var display = window.getComputedStyle(gd).display;\n",
       "        if (!display || display === 'none') {{\n",
       "            console.log([gd, 'removed!']);\n",
       "            Plotly.purge(gd);\n",
       "            observer.disconnect();\n",
       "        }}\n",
       "}});\n",
       "\n",
       "// Listen for the removal of the full notebook cells\n",
       "var notebookContainer = gd.closest('#notebook-container');\n",
       "if (notebookContainer) {{\n",
       "    x.observe(notebookContainer, {childList: true});\n",
       "}}\n",
       "\n",
       "// Listen for the clearing of the current output cell\n",
       "var outputEl = gd.closest('.output');\n",
       "if (outputEl) {{\n",
       "    x.observe(outputEl, {childList: true});\n",
       "}}\n",
       "\n",
       "                        })                };                });            </script>        </div>"
      ]
     },
     "metadata": {},
     "output_type": "display_data"
    },
    {
     "data": {
      "application/vnd.plotly.v1+json": {
       "config": {
        "plotlyServerURL": "https://plot.ly"
       },
       "data": [
        {
         "customdata": [
          [
           "zarr-[402653184]-[100663296]"
          ],
          [
           "zarr-[402653184]-[201326592]"
          ],
          [
           "zarr-[402653184]-[402653184]"
          ]
         ],
         "hovertemplate": "engine=zarr<br>filesize per chunk=%{x}<br>mean time=%{y}<br>format=%{customdata[0]}<extra></extra>",
         "legendgroup": "zarr",
         "line": {
          "color": "#636efa",
          "dash": "solid"
         },
         "marker": {
          "symbol": "circle"
         },
         "mode": "lines+markers",
         "name": "zarr",
         "orientation": "v",
         "showlegend": true,
         "type": "scatter",
         "x": [
          "768.0 MB",
          "1536.0 MB",
          "3072.0 MB"
         ],
         "xaxis": "x",
         "y": [
          1.0867579974000001,
          1.6103398322,
          2.5390828670000003
         ],
         "yaxis": "y"
        },
        {
         "customdata": [
          [
           "netcdf4-[402653184]-[100663296]"
          ],
          [
           "netcdf4-[402653184]-[201326592]"
          ],
          [
           "netcdf4-[402653184]-[402653184]"
          ]
         ],
         "hovertemplate": "engine=netcdf4<br>filesize per chunk=%{x}<br>mean time=%{y}<br>format=%{customdata[0]}<extra></extra>",
         "legendgroup": "netcdf4",
         "line": {
          "color": "#EF553B",
          "dash": "solid"
         },
         "marker": {
          "symbol": "circle"
         },
         "mode": "lines+markers",
         "name": "netcdf4",
         "orientation": "v",
         "showlegend": true,
         "type": "scatter",
         "x": [
          "768.0 MB",
          "1536.0 MB",
          "3072.0 MB"
         ],
         "xaxis": "x",
         "y": [
          0.4473383097,
          0.4586506423,
          0.46766594580000015
         ],
         "yaxis": "y"
        },
        {
         "customdata": [
          [
           "hdf5-[402653184]-[100663296]"
          ],
          [
           "hdf5-[402653184]-[201326592]"
          ],
          [
           "hdf5-[402653184]-[402653184]"
          ]
         ],
         "hovertemplate": "engine=hdf5<br>filesize per chunk=%{x}<br>mean time=%{y}<br>format=%{customdata[0]}<extra></extra>",
         "legendgroup": "hdf5",
         "line": {
          "color": "#00cc96",
          "dash": "solid"
         },
         "marker": {
          "symbol": "circle"
         },
         "mode": "lines+markers",
         "name": "hdf5",
         "orientation": "v",
         "showlegend": true,
         "type": "scatter",
         "x": [
          "768.0 MB",
          "1536.0 MB",
          "3072.0 MB"
         ],
         "xaxis": "x",
         "y": [
          0.32873744330000004,
          0.36488389320000003,
          0.38590432610000003
         ],
         "yaxis": "y"
        },
        {
         "customdata": [
          [
           "hdf5-c-402653184-402653184"
          ]
         ],
         "hovertemplate": "engine=hdf5-c<br>filesize per chunk=%{x}<br>mean time=%{y}<br>format=%{customdata[0]}<extra></extra>",
         "legendgroup": "hdf5-c",
         "line": {
          "color": "#ab63fa",
          "dash": "solid"
         },
         "marker": {
          "symbol": "circle"
         },
         "mode": "lines+markers",
         "name": "hdf5-c",
         "orientation": "v",
         "showlegend": true,
         "type": "scatter",
         "x": [
          "3072.0 MB"
         ],
         "xaxis": "x",
         "y": [
          0.40083250000000004
         ],
         "yaxis": "y"
        },
        {
         "customdata": [
          [
           "hdf5-subfiling-134217728-134217728"
          ]
         ],
         "hovertemplate": "engine=hdf5-subfiling<br>filesize per chunk=%{x}<br>mean time=%{y}<br>format=%{customdata[0]}<extra></extra>",
         "legendgroup": "hdf5-subfiling",
         "line": {
          "color": "#FFA15A",
          "dash": "solid"
         },
         "marker": {
          "symbol": "circle"
         },
         "mode": "lines+markers",
         "name": "hdf5-subfiling",
         "orientation": "v",
         "showlegend": true,
         "type": "scatter",
         "x": [
          "1024.0 MB"
         ],
         "xaxis": "x",
         "y": [
          0.2545808
         ],
         "yaxis": "y"
        },
        {
         "customdata": [
          [
           "hdf5-async-134217728-134217728"
          ]
         ],
         "hovertemplate": "engine=hdf5-async<br>filesize per chunk=%{x}<br>mean time=%{y}<br>format=%{customdata[0]}<extra></extra>",
         "legendgroup": "hdf5-async",
         "line": {
          "color": "#19d3f3",
          "dash": "solid"
         },
         "marker": {
          "symbol": "circle"
         },
         "mode": "lines+markers",
         "name": "hdf5-async",
         "orientation": "v",
         "showlegend": true,
         "type": "scatter",
         "x": [
          "1024.0 MB"
         ],
         "xaxis": "x",
         "y": [
          0.1775245
         ],
         "yaxis": "y"
        },
        {
         "customdata": [
          [
           "netcdf4-c-134217728-134217728"
          ]
         ],
         "hovertemplate": "engine=netcdf4-c<br>filesize per chunk=%{x}<br>mean time=%{y}<br>format=%{customdata[0]}<extra></extra>",
         "legendgroup": "netcdf4-c",
         "line": {
          "color": "#FF6692",
          "dash": "solid"
         },
         "marker": {
          "symbol": "circle"
         },
         "mode": "lines+markers",
         "name": "netcdf4-c",
         "orientation": "v",
         "showlegend": true,
         "type": "scatter",
         "x": [
          "1024.0 MB"
         ],
         "xaxis": "x",
         "y": [
          0.17994741
         ],
         "yaxis": "y"
        }
       ],
       "layout": {
        "legend": {
         "title": {
          "text": "engine"
         },
         "tracegroupgap": 0
        },
        "template": {
         "data": {
          "bar": [
           {
            "error_x": {
             "color": "#2a3f5f"
            },
            "error_y": {
             "color": "#2a3f5f"
            },
            "marker": {
             "line": {
              "color": "#E5ECF6",
              "width": 0.5
             },
             "pattern": {
              "fillmode": "overlay",
              "size": 10,
              "solidity": 0.2
             }
            },
            "type": "bar"
           }
          ],
          "barpolar": [
           {
            "marker": {
             "line": {
              "color": "#E5ECF6",
              "width": 0.5
             },
             "pattern": {
              "fillmode": "overlay",
              "size": 10,
              "solidity": 0.2
             }
            },
            "type": "barpolar"
           }
          ],
          "carpet": [
           {
            "aaxis": {
             "endlinecolor": "#2a3f5f",
             "gridcolor": "white",
             "linecolor": "white",
             "minorgridcolor": "white",
             "startlinecolor": "#2a3f5f"
            },
            "baxis": {
             "endlinecolor": "#2a3f5f",
             "gridcolor": "white",
             "linecolor": "white",
             "minorgridcolor": "white",
             "startlinecolor": "#2a3f5f"
            },
            "type": "carpet"
           }
          ],
          "choropleth": [
           {
            "colorbar": {
             "outlinewidth": 0,
             "ticks": ""
            },
            "type": "choropleth"
           }
          ],
          "contour": [
           {
            "colorbar": {
             "outlinewidth": 0,
             "ticks": ""
            },
            "colorscale": [
             [
              0,
              "#0d0887"
             ],
             [
              0.1111111111111111,
              "#46039f"
             ],
             [
              0.2222222222222222,
              "#7201a8"
             ],
             [
              0.3333333333333333,
              "#9c179e"
             ],
             [
              0.4444444444444444,
              "#bd3786"
             ],
             [
              0.5555555555555556,
              "#d8576b"
             ],
             [
              0.6666666666666666,
              "#ed7953"
             ],
             [
              0.7777777777777778,
              "#fb9f3a"
             ],
             [
              0.8888888888888888,
              "#fdca26"
             ],
             [
              1,
              "#f0f921"
             ]
            ],
            "type": "contour"
           }
          ],
          "contourcarpet": [
           {
            "colorbar": {
             "outlinewidth": 0,
             "ticks": ""
            },
            "type": "contourcarpet"
           }
          ],
          "heatmap": [
           {
            "colorbar": {
             "outlinewidth": 0,
             "ticks": ""
            },
            "colorscale": [
             [
              0,
              "#0d0887"
             ],
             [
              0.1111111111111111,
              "#46039f"
             ],
             [
              0.2222222222222222,
              "#7201a8"
             ],
             [
              0.3333333333333333,
              "#9c179e"
             ],
             [
              0.4444444444444444,
              "#bd3786"
             ],
             [
              0.5555555555555556,
              "#d8576b"
             ],
             [
              0.6666666666666666,
              "#ed7953"
             ],
             [
              0.7777777777777778,
              "#fb9f3a"
             ],
             [
              0.8888888888888888,
              "#fdca26"
             ],
             [
              1,
              "#f0f921"
             ]
            ],
            "type": "heatmap"
           }
          ],
          "heatmapgl": [
           {
            "colorbar": {
             "outlinewidth": 0,
             "ticks": ""
            },
            "colorscale": [
             [
              0,
              "#0d0887"
             ],
             [
              0.1111111111111111,
              "#46039f"
             ],
             [
              0.2222222222222222,
              "#7201a8"
             ],
             [
              0.3333333333333333,
              "#9c179e"
             ],
             [
              0.4444444444444444,
              "#bd3786"
             ],
             [
              0.5555555555555556,
              "#d8576b"
             ],
             [
              0.6666666666666666,
              "#ed7953"
             ],
             [
              0.7777777777777778,
              "#fb9f3a"
             ],
             [
              0.8888888888888888,
              "#fdca26"
             ],
             [
              1,
              "#f0f921"
             ]
            ],
            "type": "heatmapgl"
           }
          ],
          "histogram": [
           {
            "marker": {
             "pattern": {
              "fillmode": "overlay",
              "size": 10,
              "solidity": 0.2
             }
            },
            "type": "histogram"
           }
          ],
          "histogram2d": [
           {
            "colorbar": {
             "outlinewidth": 0,
             "ticks": ""
            },
            "colorscale": [
             [
              0,
              "#0d0887"
             ],
             [
              0.1111111111111111,
              "#46039f"
             ],
             [
              0.2222222222222222,
              "#7201a8"
             ],
             [
              0.3333333333333333,
              "#9c179e"
             ],
             [
              0.4444444444444444,
              "#bd3786"
             ],
             [
              0.5555555555555556,
              "#d8576b"
             ],
             [
              0.6666666666666666,
              "#ed7953"
             ],
             [
              0.7777777777777778,
              "#fb9f3a"
             ],
             [
              0.8888888888888888,
              "#fdca26"
             ],
             [
              1,
              "#f0f921"
             ]
            ],
            "type": "histogram2d"
           }
          ],
          "histogram2dcontour": [
           {
            "colorbar": {
             "outlinewidth": 0,
             "ticks": ""
            },
            "colorscale": [
             [
              0,
              "#0d0887"
             ],
             [
              0.1111111111111111,
              "#46039f"
             ],
             [
              0.2222222222222222,
              "#7201a8"
             ],
             [
              0.3333333333333333,
              "#9c179e"
             ],
             [
              0.4444444444444444,
              "#bd3786"
             ],
             [
              0.5555555555555556,
              "#d8576b"
             ],
             [
              0.6666666666666666,
              "#ed7953"
             ],
             [
              0.7777777777777778,
              "#fb9f3a"
             ],
             [
              0.8888888888888888,
              "#fdca26"
             ],
             [
              1,
              "#f0f921"
             ]
            ],
            "type": "histogram2dcontour"
           }
          ],
          "mesh3d": [
           {
            "colorbar": {
             "outlinewidth": 0,
             "ticks": ""
            },
            "type": "mesh3d"
           }
          ],
          "parcoords": [
           {
            "line": {
             "colorbar": {
              "outlinewidth": 0,
              "ticks": ""
             }
            },
            "type": "parcoords"
           }
          ],
          "pie": [
           {
            "automargin": true,
            "type": "pie"
           }
          ],
          "scatter": [
           {
            "fillpattern": {
             "fillmode": "overlay",
             "size": 10,
             "solidity": 0.2
            },
            "type": "scatter"
           }
          ],
          "scatter3d": [
           {
            "line": {
             "colorbar": {
              "outlinewidth": 0,
              "ticks": ""
             }
            },
            "marker": {
             "colorbar": {
              "outlinewidth": 0,
              "ticks": ""
             }
            },
            "type": "scatter3d"
           }
          ],
          "scattercarpet": [
           {
            "marker": {
             "colorbar": {
              "outlinewidth": 0,
              "ticks": ""
             }
            },
            "type": "scattercarpet"
           }
          ],
          "scattergeo": [
           {
            "marker": {
             "colorbar": {
              "outlinewidth": 0,
              "ticks": ""
             }
            },
            "type": "scattergeo"
           }
          ],
          "scattergl": [
           {
            "marker": {
             "colorbar": {
              "outlinewidth": 0,
              "ticks": ""
             }
            },
            "type": "scattergl"
           }
          ],
          "scattermapbox": [
           {
            "marker": {
             "colorbar": {
              "outlinewidth": 0,
              "ticks": ""
             }
            },
            "type": "scattermapbox"
           }
          ],
          "scatterpolar": [
           {
            "marker": {
             "colorbar": {
              "outlinewidth": 0,
              "ticks": ""
             }
            },
            "type": "scatterpolar"
           }
          ],
          "scatterpolargl": [
           {
            "marker": {
             "colorbar": {
              "outlinewidth": 0,
              "ticks": ""
             }
            },
            "type": "scatterpolargl"
           }
          ],
          "scatterternary": [
           {
            "marker": {
             "colorbar": {
              "outlinewidth": 0,
              "ticks": ""
             }
            },
            "type": "scatterternary"
           }
          ],
          "surface": [
           {
            "colorbar": {
             "outlinewidth": 0,
             "ticks": ""
            },
            "colorscale": [
             [
              0,
              "#0d0887"
             ],
             [
              0.1111111111111111,
              "#46039f"
             ],
             [
              0.2222222222222222,
              "#7201a8"
             ],
             [
              0.3333333333333333,
              "#9c179e"
             ],
             [
              0.4444444444444444,
              "#bd3786"
             ],
             [
              0.5555555555555556,
              "#d8576b"
             ],
             [
              0.6666666666666666,
              "#ed7953"
             ],
             [
              0.7777777777777778,
              "#fb9f3a"
             ],
             [
              0.8888888888888888,
              "#fdca26"
             ],
             [
              1,
              "#f0f921"
             ]
            ],
            "type": "surface"
           }
          ],
          "table": [
           {
            "cells": {
             "fill": {
              "color": "#EBF0F8"
             },
             "line": {
              "color": "white"
             }
            },
            "header": {
             "fill": {
              "color": "#C8D4E3"
             },
             "line": {
              "color": "white"
             }
            },
            "type": "table"
           }
          ]
         },
         "layout": {
          "annotationdefaults": {
           "arrowcolor": "#2a3f5f",
           "arrowhead": 0,
           "arrowwidth": 1
          },
          "autotypenumbers": "strict",
          "coloraxis": {
           "colorbar": {
            "outlinewidth": 0,
            "ticks": ""
           }
          },
          "colorscale": {
           "diverging": [
            [
             0,
             "#8e0152"
            ],
            [
             0.1,
             "#c51b7d"
            ],
            [
             0.2,
             "#de77ae"
            ],
            [
             0.3,
             "#f1b6da"
            ],
            [
             0.4,
             "#fde0ef"
            ],
            [
             0.5,
             "#f7f7f7"
            ],
            [
             0.6,
             "#e6f5d0"
            ],
            [
             0.7,
             "#b8e186"
            ],
            [
             0.8,
             "#7fbc41"
            ],
            [
             0.9,
             "#4d9221"
            ],
            [
             1,
             "#276419"
            ]
           ],
           "sequential": [
            [
             0,
             "#0d0887"
            ],
            [
             0.1111111111111111,
             "#46039f"
            ],
            [
             0.2222222222222222,
             "#7201a8"
            ],
            [
             0.3333333333333333,
             "#9c179e"
            ],
            [
             0.4444444444444444,
             "#bd3786"
            ],
            [
             0.5555555555555556,
             "#d8576b"
            ],
            [
             0.6666666666666666,
             "#ed7953"
            ],
            [
             0.7777777777777778,
             "#fb9f3a"
            ],
            [
             0.8888888888888888,
             "#fdca26"
            ],
            [
             1,
             "#f0f921"
            ]
           ],
           "sequentialminus": [
            [
             0,
             "#0d0887"
            ],
            [
             0.1111111111111111,
             "#46039f"
            ],
            [
             0.2222222222222222,
             "#7201a8"
            ],
            [
             0.3333333333333333,
             "#9c179e"
            ],
            [
             0.4444444444444444,
             "#bd3786"
            ],
            [
             0.5555555555555556,
             "#d8576b"
            ],
            [
             0.6666666666666666,
             "#ed7953"
            ],
            [
             0.7777777777777778,
             "#fb9f3a"
            ],
            [
             0.8888888888888888,
             "#fdca26"
            ],
            [
             1,
             "#f0f921"
            ]
           ]
          },
          "colorway": [
           "#636efa",
           "#EF553B",
           "#00cc96",
           "#ab63fa",
           "#FFA15A",
           "#19d3f3",
           "#FF6692",
           "#B6E880",
           "#FF97FF",
           "#FECB52"
          ],
          "font": {
           "color": "#2a3f5f"
          },
          "geo": {
           "bgcolor": "white",
           "lakecolor": "white",
           "landcolor": "#E5ECF6",
           "showlakes": true,
           "showland": true,
           "subunitcolor": "white"
          },
          "hoverlabel": {
           "align": "left"
          },
          "hovermode": "closest",
          "mapbox": {
           "style": "light"
          },
          "paper_bgcolor": "white",
          "plot_bgcolor": "#E5ECF6",
          "polar": {
           "angularaxis": {
            "gridcolor": "white",
            "linecolor": "white",
            "ticks": ""
           },
           "bgcolor": "#E5ECF6",
           "radialaxis": {
            "gridcolor": "white",
            "linecolor": "white",
            "ticks": ""
           }
          },
          "scene": {
           "xaxis": {
            "backgroundcolor": "#E5ECF6",
            "gridcolor": "white",
            "gridwidth": 2,
            "linecolor": "white",
            "showbackground": true,
            "ticks": "",
            "zerolinecolor": "white"
           },
           "yaxis": {
            "backgroundcolor": "#E5ECF6",
            "gridcolor": "white",
            "gridwidth": 2,
            "linecolor": "white",
            "showbackground": true,
            "ticks": "",
            "zerolinecolor": "white"
           },
           "zaxis": {
            "backgroundcolor": "#E5ECF6",
            "gridcolor": "white",
            "gridwidth": 2,
            "linecolor": "white",
            "showbackground": true,
            "ticks": "",
            "zerolinecolor": "white"
           }
          },
          "shapedefaults": {
           "line": {
            "color": "#2a3f5f"
           }
          },
          "ternary": {
           "aaxis": {
            "gridcolor": "white",
            "linecolor": "white",
            "ticks": ""
           },
           "baxis": {
            "gridcolor": "white",
            "linecolor": "white",
            "ticks": ""
           },
           "bgcolor": "#E5ECF6",
           "caxis": {
            "gridcolor": "white",
            "linecolor": "white",
            "ticks": ""
           }
          },
          "title": {
           "x": 0.05
          },
          "xaxis": {
           "automargin": true,
           "gridcolor": "white",
           "linecolor": "white",
           "ticks": "",
           "title": {
            "standoff": 15
           },
           "zerolinecolor": "white",
           "zerolinewidth": 2
          },
          "yaxis": {
           "automargin": true,
           "gridcolor": "white",
           "linecolor": "white",
           "ticks": "",
           "title": {
            "standoff": 15
           },
           "zerolinecolor": "white",
           "zerolinewidth": 2
          }
         }
        },
        "title": {
         "text": "previous: loading complete dataset with varying chunksizes"
        },
        "xaxis": {
         "anchor": "y",
         "domain": [
          0,
          1
         ],
         "title": {
          "text": "filesize per chunk"
         }
        },
        "yaxis": {
         "anchor": "x",
         "domain": [
          0,
          1
         ],
         "title": {
          "text": "mean time"
         },
         "type": "log"
        }
       }
      },
      "text/html": [
       "<div>                            <div id=\"52862a28-3805-4962-9000-d2d58323771f\" class=\"plotly-graph-div\" style=\"height:525px; width:100%;\"></div>            <script type=\"text/javascript\">                require([\"plotly\"], function(Plotly) {                    window.PLOTLYENV=window.PLOTLYENV || {};                                    if (document.getElementById(\"52862a28-3805-4962-9000-d2d58323771f\")) {                    Plotly.newPlot(                        \"52862a28-3805-4962-9000-d2d58323771f\",                        [{\"customdata\":[[\"zarr-[402653184]-[100663296]\"],[\"zarr-[402653184]-[201326592]\"],[\"zarr-[402653184]-[402653184]\"]],\"hovertemplate\":\"engine=zarr\\u003cbr\\u003efilesize per chunk=%{x}\\u003cbr\\u003emean time=%{y}\\u003cbr\\u003eformat=%{customdata[0]}\\u003cextra\\u003e\\u003c\\u002fextra\\u003e\",\"legendgroup\":\"zarr\",\"line\":{\"color\":\"#636efa\",\"dash\":\"solid\"},\"marker\":{\"symbol\":\"circle\"},\"mode\":\"lines+markers\",\"name\":\"zarr\",\"orientation\":\"v\",\"showlegend\":true,\"x\":[\"768.0 MB\",\"1536.0 MB\",\"3072.0 MB\"],\"xaxis\":\"x\",\"y\":[1.0867579974000001,1.6103398322,2.5390828670000003],\"yaxis\":\"y\",\"type\":\"scatter\"},{\"customdata\":[[\"netcdf4-[402653184]-[100663296]\"],[\"netcdf4-[402653184]-[201326592]\"],[\"netcdf4-[402653184]-[402653184]\"]],\"hovertemplate\":\"engine=netcdf4\\u003cbr\\u003efilesize per chunk=%{x}\\u003cbr\\u003emean time=%{y}\\u003cbr\\u003eformat=%{customdata[0]}\\u003cextra\\u003e\\u003c\\u002fextra\\u003e\",\"legendgroup\":\"netcdf4\",\"line\":{\"color\":\"#EF553B\",\"dash\":\"solid\"},\"marker\":{\"symbol\":\"circle\"},\"mode\":\"lines+markers\",\"name\":\"netcdf4\",\"orientation\":\"v\",\"showlegend\":true,\"x\":[\"768.0 MB\",\"1536.0 MB\",\"3072.0 MB\"],\"xaxis\":\"x\",\"y\":[0.4473383097,0.4586506423,0.46766594580000015],\"yaxis\":\"y\",\"type\":\"scatter\"},{\"customdata\":[[\"hdf5-[402653184]-[100663296]\"],[\"hdf5-[402653184]-[201326592]\"],[\"hdf5-[402653184]-[402653184]\"]],\"hovertemplate\":\"engine=hdf5\\u003cbr\\u003efilesize per chunk=%{x}\\u003cbr\\u003emean time=%{y}\\u003cbr\\u003eformat=%{customdata[0]}\\u003cextra\\u003e\\u003c\\u002fextra\\u003e\",\"legendgroup\":\"hdf5\",\"line\":{\"color\":\"#00cc96\",\"dash\":\"solid\"},\"marker\":{\"symbol\":\"circle\"},\"mode\":\"lines+markers\",\"name\":\"hdf5\",\"orientation\":\"v\",\"showlegend\":true,\"x\":[\"768.0 MB\",\"1536.0 MB\",\"3072.0 MB\"],\"xaxis\":\"x\",\"y\":[0.32873744330000004,0.36488389320000003,0.38590432610000003],\"yaxis\":\"y\",\"type\":\"scatter\"},{\"customdata\":[[\"hdf5-c-402653184-402653184\"]],\"hovertemplate\":\"engine=hdf5-c\\u003cbr\\u003efilesize per chunk=%{x}\\u003cbr\\u003emean time=%{y}\\u003cbr\\u003eformat=%{customdata[0]}\\u003cextra\\u003e\\u003c\\u002fextra\\u003e\",\"legendgroup\":\"hdf5-c\",\"line\":{\"color\":\"#ab63fa\",\"dash\":\"solid\"},\"marker\":{\"symbol\":\"circle\"},\"mode\":\"lines+markers\",\"name\":\"hdf5-c\",\"orientation\":\"v\",\"showlegend\":true,\"x\":[\"3072.0 MB\"],\"xaxis\":\"x\",\"y\":[0.40083250000000004],\"yaxis\":\"y\",\"type\":\"scatter\"},{\"customdata\":[[\"hdf5-subfiling-134217728-134217728\"]],\"hovertemplate\":\"engine=hdf5-subfiling\\u003cbr\\u003efilesize per chunk=%{x}\\u003cbr\\u003emean time=%{y}\\u003cbr\\u003eformat=%{customdata[0]}\\u003cextra\\u003e\\u003c\\u002fextra\\u003e\",\"legendgroup\":\"hdf5-subfiling\",\"line\":{\"color\":\"#FFA15A\",\"dash\":\"solid\"},\"marker\":{\"symbol\":\"circle\"},\"mode\":\"lines+markers\",\"name\":\"hdf5-subfiling\",\"orientation\":\"v\",\"showlegend\":true,\"x\":[\"1024.0 MB\"],\"xaxis\":\"x\",\"y\":[0.2545808],\"yaxis\":\"y\",\"type\":\"scatter\"},{\"customdata\":[[\"hdf5-async-134217728-134217728\"]],\"hovertemplate\":\"engine=hdf5-async\\u003cbr\\u003efilesize per chunk=%{x}\\u003cbr\\u003emean time=%{y}\\u003cbr\\u003eformat=%{customdata[0]}\\u003cextra\\u003e\\u003c\\u002fextra\\u003e\",\"legendgroup\":\"hdf5-async\",\"line\":{\"color\":\"#19d3f3\",\"dash\":\"solid\"},\"marker\":{\"symbol\":\"circle\"},\"mode\":\"lines+markers\",\"name\":\"hdf5-async\",\"orientation\":\"v\",\"showlegend\":true,\"x\":[\"1024.0 MB\"],\"xaxis\":\"x\",\"y\":[0.1775245],\"yaxis\":\"y\",\"type\":\"scatter\"},{\"customdata\":[[\"netcdf4-c-134217728-134217728\"]],\"hovertemplate\":\"engine=netcdf4-c\\u003cbr\\u003efilesize per chunk=%{x}\\u003cbr\\u003emean time=%{y}\\u003cbr\\u003eformat=%{customdata[0]}\\u003cextra\\u003e\\u003c\\u002fextra\\u003e\",\"legendgroup\":\"netcdf4-c\",\"line\":{\"color\":\"#FF6692\",\"dash\":\"solid\"},\"marker\":{\"symbol\":\"circle\"},\"mode\":\"lines+markers\",\"name\":\"netcdf4-c\",\"orientation\":\"v\",\"showlegend\":true,\"x\":[\"1024.0 MB\"],\"xaxis\":\"x\",\"y\":[0.17994741],\"yaxis\":\"y\",\"type\":\"scatter\"}],                        {\"template\":{\"data\":{\"histogram2dcontour\":[{\"type\":\"histogram2dcontour\",\"colorbar\":{\"outlinewidth\":0,\"ticks\":\"\"},\"colorscale\":[[0.0,\"#0d0887\"],[0.1111111111111111,\"#46039f\"],[0.2222222222222222,\"#7201a8\"],[0.3333333333333333,\"#9c179e\"],[0.4444444444444444,\"#bd3786\"],[0.5555555555555556,\"#d8576b\"],[0.6666666666666666,\"#ed7953\"],[0.7777777777777778,\"#fb9f3a\"],[0.8888888888888888,\"#fdca26\"],[1.0,\"#f0f921\"]]}],\"choropleth\":[{\"type\":\"choropleth\",\"colorbar\":{\"outlinewidth\":0,\"ticks\":\"\"}}],\"histogram2d\":[{\"type\":\"histogram2d\",\"colorbar\":{\"outlinewidth\":0,\"ticks\":\"\"},\"colorscale\":[[0.0,\"#0d0887\"],[0.1111111111111111,\"#46039f\"],[0.2222222222222222,\"#7201a8\"],[0.3333333333333333,\"#9c179e\"],[0.4444444444444444,\"#bd3786\"],[0.5555555555555556,\"#d8576b\"],[0.6666666666666666,\"#ed7953\"],[0.7777777777777778,\"#fb9f3a\"],[0.8888888888888888,\"#fdca26\"],[1.0,\"#f0f921\"]]}],\"heatmap\":[{\"type\":\"heatmap\",\"colorbar\":{\"outlinewidth\":0,\"ticks\":\"\"},\"colorscale\":[[0.0,\"#0d0887\"],[0.1111111111111111,\"#46039f\"],[0.2222222222222222,\"#7201a8\"],[0.3333333333333333,\"#9c179e\"],[0.4444444444444444,\"#bd3786\"],[0.5555555555555556,\"#d8576b\"],[0.6666666666666666,\"#ed7953\"],[0.7777777777777778,\"#fb9f3a\"],[0.8888888888888888,\"#fdca26\"],[1.0,\"#f0f921\"]]}],\"heatmapgl\":[{\"type\":\"heatmapgl\",\"colorbar\":{\"outlinewidth\":0,\"ticks\":\"\"},\"colorscale\":[[0.0,\"#0d0887\"],[0.1111111111111111,\"#46039f\"],[0.2222222222222222,\"#7201a8\"],[0.3333333333333333,\"#9c179e\"],[0.4444444444444444,\"#bd3786\"],[0.5555555555555556,\"#d8576b\"],[0.6666666666666666,\"#ed7953\"],[0.7777777777777778,\"#fb9f3a\"],[0.8888888888888888,\"#fdca26\"],[1.0,\"#f0f921\"]]}],\"contourcarpet\":[{\"type\":\"contourcarpet\",\"colorbar\":{\"outlinewidth\":0,\"ticks\":\"\"}}],\"contour\":[{\"type\":\"contour\",\"colorbar\":{\"outlinewidth\":0,\"ticks\":\"\"},\"colorscale\":[[0.0,\"#0d0887\"],[0.1111111111111111,\"#46039f\"],[0.2222222222222222,\"#7201a8\"],[0.3333333333333333,\"#9c179e\"],[0.4444444444444444,\"#bd3786\"],[0.5555555555555556,\"#d8576b\"],[0.6666666666666666,\"#ed7953\"],[0.7777777777777778,\"#fb9f3a\"],[0.8888888888888888,\"#fdca26\"],[1.0,\"#f0f921\"]]}],\"surface\":[{\"type\":\"surface\",\"colorbar\":{\"outlinewidth\":0,\"ticks\":\"\"},\"colorscale\":[[0.0,\"#0d0887\"],[0.1111111111111111,\"#46039f\"],[0.2222222222222222,\"#7201a8\"],[0.3333333333333333,\"#9c179e\"],[0.4444444444444444,\"#bd3786\"],[0.5555555555555556,\"#d8576b\"],[0.6666666666666666,\"#ed7953\"],[0.7777777777777778,\"#fb9f3a\"],[0.8888888888888888,\"#fdca26\"],[1.0,\"#f0f921\"]]}],\"mesh3d\":[{\"type\":\"mesh3d\",\"colorbar\":{\"outlinewidth\":0,\"ticks\":\"\"}}],\"scatter\":[{\"fillpattern\":{\"fillmode\":\"overlay\",\"size\":10,\"solidity\":0.2},\"type\":\"scatter\"}],\"parcoords\":[{\"type\":\"parcoords\",\"line\":{\"colorbar\":{\"outlinewidth\":0,\"ticks\":\"\"}}}],\"scatterpolargl\":[{\"type\":\"scatterpolargl\",\"marker\":{\"colorbar\":{\"outlinewidth\":0,\"ticks\":\"\"}}}],\"bar\":[{\"error_x\":{\"color\":\"#2a3f5f\"},\"error_y\":{\"color\":\"#2a3f5f\"},\"marker\":{\"line\":{\"color\":\"#E5ECF6\",\"width\":0.5},\"pattern\":{\"fillmode\":\"overlay\",\"size\":10,\"solidity\":0.2}},\"type\":\"bar\"}],\"scattergeo\":[{\"type\":\"scattergeo\",\"marker\":{\"colorbar\":{\"outlinewidth\":0,\"ticks\":\"\"}}}],\"scatterpolar\":[{\"type\":\"scatterpolar\",\"marker\":{\"colorbar\":{\"outlinewidth\":0,\"ticks\":\"\"}}}],\"histogram\":[{\"marker\":{\"pattern\":{\"fillmode\":\"overlay\",\"size\":10,\"solidity\":0.2}},\"type\":\"histogram\"}],\"scattergl\":[{\"type\":\"scattergl\",\"marker\":{\"colorbar\":{\"outlinewidth\":0,\"ticks\":\"\"}}}],\"scatter3d\":[{\"type\":\"scatter3d\",\"line\":{\"colorbar\":{\"outlinewidth\":0,\"ticks\":\"\"}},\"marker\":{\"colorbar\":{\"outlinewidth\":0,\"ticks\":\"\"}}}],\"scattermapbox\":[{\"type\":\"scattermapbox\",\"marker\":{\"colorbar\":{\"outlinewidth\":0,\"ticks\":\"\"}}}],\"scatterternary\":[{\"type\":\"scatterternary\",\"marker\":{\"colorbar\":{\"outlinewidth\":0,\"ticks\":\"\"}}}],\"scattercarpet\":[{\"type\":\"scattercarpet\",\"marker\":{\"colorbar\":{\"outlinewidth\":0,\"ticks\":\"\"}}}],\"carpet\":[{\"aaxis\":{\"endlinecolor\":\"#2a3f5f\",\"gridcolor\":\"white\",\"linecolor\":\"white\",\"minorgridcolor\":\"white\",\"startlinecolor\":\"#2a3f5f\"},\"baxis\":{\"endlinecolor\":\"#2a3f5f\",\"gridcolor\":\"white\",\"linecolor\":\"white\",\"minorgridcolor\":\"white\",\"startlinecolor\":\"#2a3f5f\"},\"type\":\"carpet\"}],\"table\":[{\"cells\":{\"fill\":{\"color\":\"#EBF0F8\"},\"line\":{\"color\":\"white\"}},\"header\":{\"fill\":{\"color\":\"#C8D4E3\"},\"line\":{\"color\":\"white\"}},\"type\":\"table\"}],\"barpolar\":[{\"marker\":{\"line\":{\"color\":\"#E5ECF6\",\"width\":0.5},\"pattern\":{\"fillmode\":\"overlay\",\"size\":10,\"solidity\":0.2}},\"type\":\"barpolar\"}],\"pie\":[{\"automargin\":true,\"type\":\"pie\"}]},\"layout\":{\"autotypenumbers\":\"strict\",\"colorway\":[\"#636efa\",\"#EF553B\",\"#00cc96\",\"#ab63fa\",\"#FFA15A\",\"#19d3f3\",\"#FF6692\",\"#B6E880\",\"#FF97FF\",\"#FECB52\"],\"font\":{\"color\":\"#2a3f5f\"},\"hovermode\":\"closest\",\"hoverlabel\":{\"align\":\"left\"},\"paper_bgcolor\":\"white\",\"plot_bgcolor\":\"#E5ECF6\",\"polar\":{\"bgcolor\":\"#E5ECF6\",\"angularaxis\":{\"gridcolor\":\"white\",\"linecolor\":\"white\",\"ticks\":\"\"},\"radialaxis\":{\"gridcolor\":\"white\",\"linecolor\":\"white\",\"ticks\":\"\"}},\"ternary\":{\"bgcolor\":\"#E5ECF6\",\"aaxis\":{\"gridcolor\":\"white\",\"linecolor\":\"white\",\"ticks\":\"\"},\"baxis\":{\"gridcolor\":\"white\",\"linecolor\":\"white\",\"ticks\":\"\"},\"caxis\":{\"gridcolor\":\"white\",\"linecolor\":\"white\",\"ticks\":\"\"}},\"coloraxis\":{\"colorbar\":{\"outlinewidth\":0,\"ticks\":\"\"}},\"colorscale\":{\"sequential\":[[0.0,\"#0d0887\"],[0.1111111111111111,\"#46039f\"],[0.2222222222222222,\"#7201a8\"],[0.3333333333333333,\"#9c179e\"],[0.4444444444444444,\"#bd3786\"],[0.5555555555555556,\"#d8576b\"],[0.6666666666666666,\"#ed7953\"],[0.7777777777777778,\"#fb9f3a\"],[0.8888888888888888,\"#fdca26\"],[1.0,\"#f0f921\"]],\"sequentialminus\":[[0.0,\"#0d0887\"],[0.1111111111111111,\"#46039f\"],[0.2222222222222222,\"#7201a8\"],[0.3333333333333333,\"#9c179e\"],[0.4444444444444444,\"#bd3786\"],[0.5555555555555556,\"#d8576b\"],[0.6666666666666666,\"#ed7953\"],[0.7777777777777778,\"#fb9f3a\"],[0.8888888888888888,\"#fdca26\"],[1.0,\"#f0f921\"]],\"diverging\":[[0,\"#8e0152\"],[0.1,\"#c51b7d\"],[0.2,\"#de77ae\"],[0.3,\"#f1b6da\"],[0.4,\"#fde0ef\"],[0.5,\"#f7f7f7\"],[0.6,\"#e6f5d0\"],[0.7,\"#b8e186\"],[0.8,\"#7fbc41\"],[0.9,\"#4d9221\"],[1,\"#276419\"]]},\"xaxis\":{\"gridcolor\":\"white\",\"linecolor\":\"white\",\"ticks\":\"\",\"title\":{\"standoff\":15},\"zerolinecolor\":\"white\",\"automargin\":true,\"zerolinewidth\":2},\"yaxis\":{\"gridcolor\":\"white\",\"linecolor\":\"white\",\"ticks\":\"\",\"title\":{\"standoff\":15},\"zerolinecolor\":\"white\",\"automargin\":true,\"zerolinewidth\":2},\"scene\":{\"xaxis\":{\"backgroundcolor\":\"#E5ECF6\",\"gridcolor\":\"white\",\"linecolor\":\"white\",\"showbackground\":true,\"ticks\":\"\",\"zerolinecolor\":\"white\",\"gridwidth\":2},\"yaxis\":{\"backgroundcolor\":\"#E5ECF6\",\"gridcolor\":\"white\",\"linecolor\":\"white\",\"showbackground\":true,\"ticks\":\"\",\"zerolinecolor\":\"white\",\"gridwidth\":2},\"zaxis\":{\"backgroundcolor\":\"#E5ECF6\",\"gridcolor\":\"white\",\"linecolor\":\"white\",\"showbackground\":true,\"ticks\":\"\",\"zerolinecolor\":\"white\",\"gridwidth\":2}},\"shapedefaults\":{\"line\":{\"color\":\"#2a3f5f\"}},\"annotationdefaults\":{\"arrowcolor\":\"#2a3f5f\",\"arrowhead\":0,\"arrowwidth\":1},\"geo\":{\"bgcolor\":\"white\",\"landcolor\":\"#E5ECF6\",\"subunitcolor\":\"white\",\"showland\":true,\"showlakes\":true,\"lakecolor\":\"white\"},\"title\":{\"x\":0.05},\"mapbox\":{\"style\":\"light\"}}},\"xaxis\":{\"anchor\":\"y\",\"domain\":[0.0,1.0],\"title\":{\"text\":\"filesize per chunk\"}},\"yaxis\":{\"anchor\":\"x\",\"domain\":[0.0,1.0],\"title\":{\"text\":\"mean time\"},\"type\":\"log\"},\"legend\":{\"title\":{\"text\":\"engine\"},\"tracegroupgap\":0},\"title\":{\"text\":\"previous: loading complete dataset with varying chunksizes\"}},                        {\"responsive\": true}                    ).then(function(){\n",
       "                            \n",
       "var gd = document.getElementById('52862a28-3805-4962-9000-d2d58323771f');\n",
       "var x = new MutationObserver(function (mutations, observer) {{\n",
       "        var display = window.getComputedStyle(gd).display;\n",
       "        if (!display || display === 'none') {{\n",
       "            console.log([gd, 'removed!']);\n",
       "            Plotly.purge(gd);\n",
       "            observer.disconnect();\n",
       "        }}\n",
       "}});\n",
       "\n",
       "// Listen for the removal of the full notebook cells\n",
       "var notebookContainer = gd.closest('#notebook-container');\n",
       "if (notebookContainer) {{\n",
       "    x.observe(notebookContainer, {childList: true});\n",
       "}}\n",
       "\n",
       "// Listen for the clearing of the current output cell\n",
       "var outputEl = gd.closest('.output');\n",
       "if (outputEl) {{\n",
       "    x.observe(outputEl, {childList: true});\n",
       "}}\n",
       "\n",
       "                        })                };                });            </script>        </div>"
      ]
     },
     "metadata": {},
     "output_type": "display_data"
    },
    {
     "data": {
      "application/vnd.plotly.v1+json": {
       "config": {
        "plotlyServerURL": "https://plot.ly"
       },
       "data": [
        {
         "alignmentgroup": "True",
         "customdata": [
          [
           "zarr-[1536, 512, 512]-[1536, 512, 128]"
          ],
          [
           "zarr-[1536, 512, 512]-[1536, 512, 128]"
          ],
          [
           "zarr-[1536, 512, 512]-[1536, 512, 128]"
          ],
          [
           "zarr-[1536, 512, 512]-[1536, 512, 128]"
          ],
          [
           "zarr-[1536, 512, 512]-[1536, 512, 128]"
          ],
          [
           "zarr-[1536, 512, 512]-[1536, 512, 128]"
          ],
          [
           "zarr-[1536, 512, 512]-[1536, 512, 128]"
          ],
          [
           "zarr-[1536, 512, 512]-[1536, 512, 128]"
          ],
          [
           "zarr-[1536, 512, 512]-[1536, 512, 128]"
          ],
          [
           "zarr-[1536, 512, 512]-[1536, 512, 128]"
          ],
          [
           "netcdf4-[1536, 512, 512]-[1536, 512, 128]"
          ],
          [
           "netcdf4-[1536, 512, 512]-[1536, 512, 128]"
          ],
          [
           "netcdf4-[1536, 512, 512]-[1536, 512, 128]"
          ],
          [
           "netcdf4-[1536, 512, 512]-[1536, 512, 128]"
          ],
          [
           "netcdf4-[1536, 512, 512]-[1536, 512, 128]"
          ],
          [
           "netcdf4-[1536, 512, 512]-[1536, 512, 128]"
          ],
          [
           "netcdf4-[1536, 512, 512]-[1536, 512, 128]"
          ],
          [
           "netcdf4-[1536, 512, 512]-[1536, 512, 128]"
          ],
          [
           "netcdf4-[1536, 512, 512]-[1536, 512, 128]"
          ],
          [
           "netcdf4-[1536, 512, 512]-[1536, 512, 128]"
          ],
          [
           "hdf5-[1536, 512, 512]-[1536, 512, 128]"
          ],
          [
           "hdf5-[1536, 512, 512]-[1536, 512, 128]"
          ],
          [
           "hdf5-[1536, 512, 512]-[1536, 512, 128]"
          ],
          [
           "hdf5-[1536, 512, 512]-[1536, 512, 128]"
          ],
          [
           "hdf5-[1536, 512, 512]-[1536, 512, 128]"
          ],
          [
           "hdf5-[1536, 512, 512]-[1536, 512, 128]"
          ],
          [
           "hdf5-[1536, 512, 512]-[1536, 512, 128]"
          ],
          [
           "hdf5-[1536, 512, 512]-[1536, 512, 128]"
          ],
          [
           "hdf5-[1536, 512, 512]-[1536, 512, 128]"
          ],
          [
           "hdf5-[1536, 512, 512]-[1536, 512, 128]"
          ]
         ],
         "hovertemplate": "run=0<br>engine=%{x}<br>time taken=%{y}<br>format=%{customdata[0]}<extra></extra>",
         "legendgroup": "0",
         "marker": {
          "color": "#636efa"
         },
         "name": "0",
         "notched": false,
         "offsetgroup": "0",
         "orientation": "v",
         "showlegend": true,
         "type": "box",
         "x": [
          "zarr",
          "zarr",
          "zarr",
          "zarr",
          "zarr",
          "zarr",
          "zarr",
          "zarr",
          "zarr",
          "zarr",
          "netcdf4",
          "netcdf4",
          "netcdf4",
          "netcdf4",
          "netcdf4",
          "netcdf4",
          "netcdf4",
          "netcdf4",
          "netcdf4",
          "netcdf4",
          "hdf5",
          "hdf5",
          "hdf5",
          "hdf5",
          "hdf5",
          "hdf5",
          "hdf5",
          "hdf5",
          "hdf5",
          "hdf5"
         ],
         "x0": " ",
         "xaxis": "x",
         "y": [
          1.561470602,
          1.119593804,
          1.131029809,
          1.100024496,
          1.106562787,
          1.08532757,
          1.084824497,
          1.07139167,
          1.062812411,
          1.072172126,
          2.503007032,
          1.6436543110000001,
          1.575713818,
          1.693407204,
          1.7019631510000002,
          1.575951321,
          1.672457324,
          1.664683944,
          1.6092664540000001,
          1.576138876,
          3.6333989950000003,
          1.487018424,
          1.4578746,
          1.449845683,
          1.45085663,
          1.4668470980000001,
          1.45771918,
          1.505242134,
          1.449804507,
          1.453581631
         ],
         "y0": " ",
         "yaxis": "y"
        },
        {
         "alignmentgroup": "True",
         "customdata": [
          [
           "zarr-[1536, 512, 512]-[1536, 512, 256]"
          ],
          [
           "zarr-[1536, 512, 512]-[1536, 512, 256]"
          ],
          [
           "zarr-[1536, 512, 512]-[1536, 512, 256]"
          ],
          [
           "zarr-[1536, 512, 512]-[1536, 512, 256]"
          ],
          [
           "zarr-[1536, 512, 512]-[1536, 512, 256]"
          ],
          [
           "zarr-[1536, 512, 512]-[1536, 512, 256]"
          ],
          [
           "zarr-[1536, 512, 512]-[1536, 512, 256]"
          ],
          [
           "zarr-[1536, 512, 512]-[1536, 512, 256]"
          ],
          [
           "zarr-[1536, 512, 512]-[1536, 512, 256]"
          ],
          [
           "zarr-[1536, 512, 512]-[1536, 512, 256]"
          ],
          [
           "netcdf4-[1536, 512, 512]-[1536, 512, 256]"
          ],
          [
           "netcdf4-[1536, 512, 512]-[1536, 512, 256]"
          ],
          [
           "netcdf4-[1536, 512, 512]-[1536, 512, 256]"
          ],
          [
           "netcdf4-[1536, 512, 512]-[1536, 512, 256]"
          ],
          [
           "netcdf4-[1536, 512, 512]-[1536, 512, 256]"
          ],
          [
           "netcdf4-[1536, 512, 512]-[1536, 512, 256]"
          ],
          [
           "netcdf4-[1536, 512, 512]-[1536, 512, 256]"
          ],
          [
           "netcdf4-[1536, 512, 512]-[1536, 512, 256]"
          ],
          [
           "netcdf4-[1536, 512, 512]-[1536, 512, 256]"
          ],
          [
           "netcdf4-[1536, 512, 512]-[1536, 512, 256]"
          ],
          [
           "hdf5-[1536, 512, 512]-[1536, 512, 256]"
          ],
          [
           "hdf5-[1536, 512, 512]-[1536, 512, 256]"
          ],
          [
           "hdf5-[1536, 512, 512]-[1536, 512, 256]"
          ],
          [
           "hdf5-[1536, 512, 512]-[1536, 512, 256]"
          ],
          [
           "hdf5-[1536, 512, 512]-[1536, 512, 256]"
          ],
          [
           "hdf5-[1536, 512, 512]-[1536, 512, 256]"
          ],
          [
           "hdf5-[1536, 512, 512]-[1536, 512, 256]"
          ],
          [
           "hdf5-[1536, 512, 512]-[1536, 512, 256]"
          ],
          [
           "hdf5-[1536, 512, 512]-[1536, 512, 256]"
          ],
          [
           "hdf5-[1536, 512, 512]-[1536, 512, 256]"
          ]
         ],
         "hovertemplate": "run=1<br>engine=%{x}<br>time taken=%{y}<br>format=%{customdata[0]}<extra></extra>",
         "legendgroup": "1",
         "marker": {
          "color": "#EF553B"
         },
         "name": "1",
         "notched": false,
         "offsetgroup": "1",
         "orientation": "v",
         "showlegend": true,
         "type": "box",
         "x": [
          "zarr",
          "zarr",
          "zarr",
          "zarr",
          "zarr",
          "zarr",
          "zarr",
          "zarr",
          "zarr",
          "zarr",
          "netcdf4",
          "netcdf4",
          "netcdf4",
          "netcdf4",
          "netcdf4",
          "netcdf4",
          "netcdf4",
          "netcdf4",
          "netcdf4",
          "netcdf4",
          "hdf5",
          "hdf5",
          "hdf5",
          "hdf5",
          "hdf5",
          "hdf5",
          "hdf5",
          "hdf5",
          "hdf5",
          "hdf5"
         ],
         "x0": " ",
         "xaxis": "x",
         "y": [
          3.524663635,
          1.640390784,
          1.58037417,
          1.498136551,
          1.499260701,
          1.471429969,
          1.441589899,
          1.5037154799999999,
          1.440095022,
          1.437127042,
          3.125054425,
          0.996413096,
          0.962528853,
          0.953506285,
          0.9874306650000001,
          0.947477604,
          0.986009702,
          0.9486437510000001,
          0.9766967540000001,
          0.9475818500000001,
          3.120725102,
          0.985057551,
          0.9350957080000001,
          0.9270261150000001,
          0.886485327,
          0.9145776550000001,
          0.8758912310000001,
          0.87422285,
          0.87592463,
          0.8744445670000001
         ],
         "y0": " ",
         "yaxis": "y"
        },
        {
         "alignmentgroup": "True",
         "customdata": [
          [
           "zarr-[1536, 512, 512]-[1536, 512, 512]"
          ],
          [
           "zarr-[1536, 512, 512]-[1536, 512, 512]"
          ],
          [
           "zarr-[1536, 512, 512]-[1536, 512, 512]"
          ],
          [
           "zarr-[1536, 512, 512]-[1536, 512, 512]"
          ],
          [
           "zarr-[1536, 512, 512]-[1536, 512, 512]"
          ],
          [
           "zarr-[1536, 512, 512]-[1536, 512, 512]"
          ],
          [
           "zarr-[1536, 512, 512]-[1536, 512, 512]"
          ],
          [
           "zarr-[1536, 512, 512]-[1536, 512, 512]"
          ],
          [
           "zarr-[1536, 512, 512]-[1536, 512, 512]"
          ],
          [
           "zarr-[1536, 512, 512]-[1536, 512, 512]"
          ],
          [
           "netcdf4-[1536, 512, 512]-[1536, 512, 512]"
          ],
          [
           "netcdf4-[1536, 512, 512]-[1536, 512, 512]"
          ],
          [
           "netcdf4-[1536, 512, 512]-[1536, 512, 512]"
          ],
          [
           "netcdf4-[1536, 512, 512]-[1536, 512, 512]"
          ],
          [
           "netcdf4-[1536, 512, 512]-[1536, 512, 512]"
          ],
          [
           "netcdf4-[1536, 512, 512]-[1536, 512, 512]"
          ],
          [
           "netcdf4-[1536, 512, 512]-[1536, 512, 512]"
          ],
          [
           "netcdf4-[1536, 512, 512]-[1536, 512, 512]"
          ],
          [
           "netcdf4-[1536, 512, 512]-[1536, 512, 512]"
          ],
          [
           "netcdf4-[1536, 512, 512]-[1536, 512, 512]"
          ],
          [
           "hdf5-[1536, 512, 512]-[1536, 512, 512]"
          ],
          [
           "hdf5-[1536, 512, 512]-[1536, 512, 512]"
          ],
          [
           "hdf5-[1536, 512, 512]-[1536, 512, 512]"
          ],
          [
           "hdf5-[1536, 512, 512]-[1536, 512, 512]"
          ],
          [
           "hdf5-[1536, 512, 512]-[1536, 512, 512]"
          ],
          [
           "hdf5-[1536, 512, 512]-[1536, 512, 512]"
          ],
          [
           "hdf5-[1536, 512, 512]-[1536, 512, 512]"
          ],
          [
           "hdf5-[1536, 512, 512]-[1536, 512, 512]"
          ],
          [
           "hdf5-[1536, 512, 512]-[1536, 512, 512]"
          ],
          [
           "hdf5-[1536, 512, 512]-[1536, 512, 512]"
          ]
         ],
         "hovertemplate": "run=2<br>engine=%{x}<br>time taken=%{y}<br>format=%{customdata[0]}<extra></extra>",
         "legendgroup": "2",
         "marker": {
          "color": "#00cc96"
         },
         "name": "2",
         "notched": false,
         "offsetgroup": "2",
         "orientation": "v",
         "showlegend": true,
         "type": "box",
         "x": [
          "zarr",
          "zarr",
          "zarr",
          "zarr",
          "zarr",
          "zarr",
          "zarr",
          "zarr",
          "zarr",
          "zarr",
          "netcdf4",
          "netcdf4",
          "netcdf4",
          "netcdf4",
          "netcdf4",
          "netcdf4",
          "netcdf4",
          "netcdf4",
          "netcdf4",
          "netcdf4",
          "hdf5",
          "hdf5",
          "hdf5",
          "hdf5",
          "hdf5",
          "hdf5",
          "hdf5",
          "hdf5",
          "hdf5",
          "hdf5"
         ],
         "x0": " ",
         "xaxis": "x",
         "y": [
          4.696084097,
          2.482777822,
          2.385498438,
          2.281798491,
          2.308118287,
          2.266521942,
          2.249475183,
          2.2242104400000002,
          2.264185753,
          2.252098626,
          0.991430133,
          0.363354404,
          0.361270258,
          0.391785413,
          0.362657294,
          0.36500627300000005,
          0.371078183,
          0.36441432500000004,
          0.37061255,
          0.360128059,
          0.8343976740000001,
          0.30380218800000003,
          0.265694445,
          0.30102369500000004,
          0.262829486,
          0.27002368,
          0.264752193,
          0.262354666,
          0.26100444300000003,
          0.262556783
         ],
         "y0": " ",
         "yaxis": "y"
        },
        {
         "alignmentgroup": "True",
         "customdata": [
          [
           "hdf5-c-402653184-402653184"
          ],
          [
           "hdf5-c-402653184-402653184"
          ],
          [
           "hdf5-c-402653184-402653184"
          ],
          [
           "hdf5-c-402653184-402653184"
          ],
          [
           "hdf5-c-402653184-402653184"
          ],
          [
           "hdf5-c-402653184-402653184"
          ],
          [
           "hdf5-c-402653184-402653184"
          ],
          [
           "hdf5-c-402653184-402653184"
          ],
          [
           "hdf5-c-402653184-402653184"
          ],
          [
           "hdf5-c-402653184-402653184"
          ],
          [
           "hdf5-subfiling-134217728-134217728"
          ],
          [
           "hdf5-subfiling-134217728-134217728"
          ],
          [
           "hdf5-subfiling-134217728-134217728"
          ],
          [
           "hdf5-subfiling-134217728-134217728"
          ],
          [
           "hdf5-subfiling-134217728-134217728"
          ],
          [
           "hdf5-subfiling-134217728-134217728"
          ],
          [
           "hdf5-subfiling-134217728-134217728"
          ],
          [
           "hdf5-subfiling-134217728-134217728"
          ],
          [
           "hdf5-subfiling-134217728-134217728"
          ],
          [
           "hdf5-subfiling-134217728-134217728"
          ],
          [
           "hdf5-async-134217728-134217728"
          ],
          [
           "hdf5-async-134217728-134217728"
          ],
          [
           "hdf5-async-134217728-134217728"
          ],
          [
           "hdf5-async-134217728-134217728"
          ],
          [
           "hdf5-async-134217728-134217728"
          ],
          [
           "hdf5-async-134217728-134217728"
          ],
          [
           "hdf5-async-134217728-134217728"
          ],
          [
           "hdf5-async-134217728-134217728"
          ],
          [
           "hdf5-async-134217728-134217728"
          ],
          [
           "hdf5-async-134217728-134217728"
          ],
          [
           "netcdf4-c-134217728-134217728"
          ],
          [
           "netcdf4-c-134217728-134217728"
          ],
          [
           "netcdf4-c-134217728-134217728"
          ],
          [
           "netcdf4-c-134217728-134217728"
          ],
          [
           "netcdf4-c-134217728-134217728"
          ],
          [
           "netcdf4-c-134217728-134217728"
          ],
          [
           "netcdf4-c-134217728-134217728"
          ],
          [
           "netcdf4-c-134217728-134217728"
          ],
          [
           "netcdf4-c-134217728-134217728"
          ],
          [
           "netcdf4-c-134217728-134217728"
          ],
          [
           "netcdf4-c-134217728-134217728"
          ],
          [
           "netcdf4-c-134217728-134217728"
          ],
          [
           "netcdf4-c-134217728-134217728"
          ],
          [
           "netcdf4-c-134217728-134217728"
          ],
          [
           "netcdf4-c-134217728-134217728"
          ],
          [
           "netcdf4-c-134217728-134217728"
          ],
          [
           "netcdf4-c-134217728-134217728"
          ],
          [
           "netcdf4-c-134217728-134217728"
          ],
          [
           "netcdf4-c-134217728-134217728"
          ],
          [
           "netcdf4-c-134217728-134217728"
          ],
          [
           "netcdf4-c-134217728-134217728"
          ],
          [
           "netcdf4-c-134217728-134217728"
          ],
          [
           "netcdf4-c-134217728-134217728"
          ],
          [
           "netcdf4-c-134217728-134217728"
          ],
          [
           "netcdf4-c-134217728-134217728"
          ],
          [
           "netcdf4-c-134217728-134217728"
          ],
          [
           "netcdf4-c-134217728-134217728"
          ],
          [
           "netcdf4-c-134217728-134217728"
          ],
          [
           "netcdf4-c-134217728-134217728"
          ],
          [
           "netcdf4-c-134217728-134217728"
          ],
          [
           "netcdf4-c-134217728-134217728"
          ],
          [
           "netcdf4-c-134217728-134217728"
          ],
          [
           "netcdf4-c-134217728-134217728"
          ],
          [
           "netcdf4-c-134217728-134217728"
          ],
          [
           "netcdf4-c-134217728-134217728"
          ],
          [
           "netcdf4-c-134217728-134217728"
          ],
          [
           "netcdf4-c-134217728-134217728"
          ],
          [
           "netcdf4-c-134217728-134217728"
          ],
          [
           "netcdf4-c-134217728-134217728"
          ],
          [
           "netcdf4-c-134217728-134217728"
          ],
          [
           "netcdf4-c-134217728-134217728"
          ],
          [
           "netcdf4-c-134217728-134217728"
          ],
          [
           "netcdf4-c-134217728-134217728"
          ],
          [
           "netcdf4-c-134217728-134217728"
          ],
          [
           "netcdf4-c-134217728-134217728"
          ],
          [
           "netcdf4-c-134217728-134217728"
          ],
          [
           "netcdf4-c-134217728-134217728"
          ],
          [
           "netcdf4-c-134217728-134217728"
          ],
          [
           "netcdf4-c-134217728-134217728"
          ],
          [
           "netcdf4-c-134217728-134217728"
          ],
          [
           "netcdf4-c-134217728-134217728"
          ],
          [
           "netcdf4-c-134217728-134217728"
          ],
          [
           "netcdf4-c-134217728-134217728"
          ],
          [
           "netcdf4-c-134217728-134217728"
          ],
          [
           "netcdf4-c-134217728-134217728"
          ],
          [
           "netcdf4-c-134217728-134217728"
          ],
          [
           "netcdf4-c-134217728-134217728"
          ],
          [
           "netcdf4-c-134217728-134217728"
          ],
          [
           "netcdf4-c-134217728-134217728"
          ],
          [
           "netcdf4-c-134217728-134217728"
          ],
          [
           "netcdf4-c-134217728-134217728"
          ],
          [
           "netcdf4-c-134217728-134217728"
          ],
          [
           "netcdf4-c-134217728-134217728"
          ],
          [
           "netcdf4-c-134217728-134217728"
          ],
          [
           "netcdf4-c-134217728-134217728"
          ],
          [
           "netcdf4-c-134217728-134217728"
          ],
          [
           "netcdf4-c-134217728-134217728"
          ],
          [
           "netcdf4-c-134217728-134217728"
          ],
          [
           "netcdf4-c-134217728-134217728"
          ],
          [
           "netcdf4-c-134217728-134217728"
          ],
          [
           "netcdf4-c-134217728-134217728"
          ],
          [
           "netcdf4-c-134217728-134217728"
          ],
          [
           "netcdf4-c-134217728-134217728"
          ],
          [
           "netcdf4-c-134217728-134217728"
          ],
          [
           "netcdf4-c-134217728-134217728"
          ],
          [
           "netcdf4-c-134217728-134217728"
          ],
          [
           "netcdf4-c-134217728-134217728"
          ],
          [
           "netcdf4-c-134217728-134217728"
          ],
          [
           "netcdf4-c-134217728-134217728"
          ],
          [
           "netcdf4-c-134217728-134217728"
          ],
          [
           "netcdf4-c-134217728-134217728"
          ],
          [
           "netcdf4-c-134217728-134217728"
          ],
          [
           "netcdf4-c-134217728-134217728"
          ],
          [
           "netcdf4-c-134217728-134217728"
          ],
          [
           "netcdf4-c-134217728-134217728"
          ],
          [
           "netcdf4-c-134217728-134217728"
          ],
          [
           "netcdf4-c-134217728-134217728"
          ],
          [
           "netcdf4-c-134217728-134217728"
          ],
          [
           "netcdf4-c-134217728-134217728"
          ],
          [
           "netcdf4-c-134217728-134217728"
          ],
          [
           "netcdf4-c-134217728-134217728"
          ],
          [
           "netcdf4-c-134217728-134217728"
          ],
          [
           "netcdf4-c-134217728-134217728"
          ],
          [
           "netcdf4-c-134217728-134217728"
          ],
          [
           "netcdf4-c-134217728-134217728"
          ],
          [
           "netcdf4-c-134217728-134217728"
          ],
          [
           "netcdf4-c-134217728-134217728"
          ],
          [
           "netcdf4-c-134217728-134217728"
          ],
          [
           "netcdf4-c-134217728-134217728"
          ],
          [
           "netcdf4-c-134217728-134217728"
          ]
         ],
         "hovertemplate": "run=7<br>engine=%{x}<br>time taken=%{y}<br>format=%{customdata[0]}<extra></extra>",
         "legendgroup": "7",
         "marker": {
          "color": "#ab63fa"
         },
         "name": "7",
         "notched": false,
         "offsetgroup": "7",
         "orientation": "v",
         "showlegend": true,
         "type": "box",
         "x": [
          "hdf5-c",
          "hdf5-c",
          "hdf5-c",
          "hdf5-c",
          "hdf5-c",
          "hdf5-c",
          "hdf5-c",
          "hdf5-c",
          "hdf5-c",
          "hdf5-c",
          "hdf5-subfiling",
          "hdf5-subfiling",
          "hdf5-subfiling",
          "hdf5-subfiling",
          "hdf5-subfiling",
          "hdf5-subfiling",
          "hdf5-subfiling",
          "hdf5-subfiling",
          "hdf5-subfiling",
          "hdf5-subfiling",
          "hdf5-async",
          "hdf5-async",
          "hdf5-async",
          "hdf5-async",
          "hdf5-async",
          "hdf5-async",
          "hdf5-async",
          "hdf5-async",
          "hdf5-async",
          "hdf5-async",
          "netcdf4-c",
          "netcdf4-c",
          "netcdf4-c",
          "netcdf4-c",
          "netcdf4-c",
          "netcdf4-c",
          "netcdf4-c",
          "netcdf4-c",
          "netcdf4-c",
          "netcdf4-c",
          "netcdf4-c",
          "netcdf4-c",
          "netcdf4-c",
          "netcdf4-c",
          "netcdf4-c",
          "netcdf4-c",
          "netcdf4-c",
          "netcdf4-c",
          "netcdf4-c",
          "netcdf4-c",
          "netcdf4-c",
          "netcdf4-c",
          "netcdf4-c",
          "netcdf4-c",
          "netcdf4-c",
          "netcdf4-c",
          "netcdf4-c",
          "netcdf4-c",
          "netcdf4-c",
          "netcdf4-c",
          "netcdf4-c",
          "netcdf4-c",
          "netcdf4-c",
          "netcdf4-c",
          "netcdf4-c",
          "netcdf4-c",
          "netcdf4-c",
          "netcdf4-c",
          "netcdf4-c",
          "netcdf4-c",
          "netcdf4-c",
          "netcdf4-c",
          "netcdf4-c",
          "netcdf4-c",
          "netcdf4-c",
          "netcdf4-c",
          "netcdf4-c",
          "netcdf4-c",
          "netcdf4-c",
          "netcdf4-c",
          "netcdf4-c",
          "netcdf4-c",
          "netcdf4-c",
          "netcdf4-c",
          "netcdf4-c",
          "netcdf4-c",
          "netcdf4-c",
          "netcdf4-c",
          "netcdf4-c",
          "netcdf4-c",
          "netcdf4-c",
          "netcdf4-c",
          "netcdf4-c",
          "netcdf4-c",
          "netcdf4-c",
          "netcdf4-c",
          "netcdf4-c",
          "netcdf4-c",
          "netcdf4-c",
          "netcdf4-c",
          "netcdf4-c",
          "netcdf4-c",
          "netcdf4-c",
          "netcdf4-c",
          "netcdf4-c",
          "netcdf4-c",
          "netcdf4-c",
          "netcdf4-c",
          "netcdf4-c",
          "netcdf4-c",
          "netcdf4-c",
          "netcdf4-c",
          "netcdf4-c",
          "netcdf4-c",
          "netcdf4-c",
          "netcdf4-c",
          "netcdf4-c",
          "netcdf4-c",
          "netcdf4-c",
          "netcdf4-c",
          "netcdf4-c",
          "netcdf4-c",
          "netcdf4-c",
          "netcdf4-c",
          "netcdf4-c",
          "netcdf4-c",
          "netcdf4-c",
          "netcdf4-c",
          "netcdf4-c",
          "netcdf4-c"
         ],
         "x0": " ",
         "xaxis": "x",
         "y": [
          0.40457299999999996,
          0.47253199999999995,
          0.40116799999999997,
          0.401652,
          0.417379,
          0.375791,
          0.375793,
          0.38658499999999996,
          0.387801,
          0.385051,
          0.24542000000000003,
          0.35334699999999997,
          0.266121,
          0.23990399999999998,
          0.23974099999999998,
          0.241447,
          0.240508,
          0.240274,
          0.24043499999999998,
          0.238611,
          0.488818,
          0.15956199999999998,
          0.130557,
          0.128801,
          0.147416,
          0.134387,
          0.135026,
          0.130529,
          0.17788,
          0.142269,
          0.602101,
          0.261602,
          0.165743,
          0.160828,
          0.160964,
          0.162638,
          0.166608,
          0.16283,
          0.161029,
          0.162787,
          0.16119,
          0.165231,
          0.162049,
          0.228676,
          0.15734299999999998,
          0.156792,
          0.157254,
          0.174684,
          0.17216099999999998,
          0.17028000000000001,
          0.163677,
          0.164027,
          0.167008,
          0.16619799999999998,
          0.16371000000000002,
          0.249969,
          0.163681,
          0.194128,
          0.170982,
          0.167784,
          0.166202,
          0.158468,
          0.157573,
          0.157942,
          0.159853,
          0.163013,
          0.165434,
          0.250596,
          0.165705,
          0.165467,
          0.16472699999999998,
          0.16599000000000003,
          0.16185000000000002,
          0.161995,
          0.161858,
          0.161,
          0.161017,
          0.161511,
          0.16245199999999999,
          0.253677,
          0.16170099999999998,
          0.16125899999999999,
          0.161732,
          0.16175,
          0.162327,
          0.16173099999999999,
          0.161686,
          0.163355,
          0.166156,
          0.187822,
          0.17108099999999998,
          0.213359,
          0.279502,
          0.210704,
          0.23077199999999998,
          0.172618,
          0.168672,
          0.165784,
          0.16625,
          0.168162,
          0.164674,
          0.163358,
          0.164461,
          0.263136,
          0.168314,
          0.168706,
          0.166732,
          0.162468,
          0.163489,
          0.16236299999999998,
          0.160739,
          0.16452799999999998,
          0.161527,
          0.161993,
          0.163982,
          0.252378,
          0.16166000000000003,
          0.161906,
          0.164388,
          0.17304799999999998,
          0.16678199999999999,
          0.165329,
          0.16675,
          0.163158,
          0.161529,
          0.16248,
          0.173807,
          0.281233,
          0.186132,
          0.226984
         ],
         "y0": " ",
         "yaxis": "y"
        }
       ],
       "layout": {
        "boxmode": "group",
        "legend": {
         "title": {
          "text": "run"
         },
         "tracegroupgap": 0
        },
        "margin": {
         "t": 60
        },
        "template": {
         "data": {
          "bar": [
           {
            "error_x": {
             "color": "#2a3f5f"
            },
            "error_y": {
             "color": "#2a3f5f"
            },
            "marker": {
             "line": {
              "color": "#E5ECF6",
              "width": 0.5
             },
             "pattern": {
              "fillmode": "overlay",
              "size": 10,
              "solidity": 0.2
             }
            },
            "type": "bar"
           }
          ],
          "barpolar": [
           {
            "marker": {
             "line": {
              "color": "#E5ECF6",
              "width": 0.5
             },
             "pattern": {
              "fillmode": "overlay",
              "size": 10,
              "solidity": 0.2
             }
            },
            "type": "barpolar"
           }
          ],
          "carpet": [
           {
            "aaxis": {
             "endlinecolor": "#2a3f5f",
             "gridcolor": "white",
             "linecolor": "white",
             "minorgridcolor": "white",
             "startlinecolor": "#2a3f5f"
            },
            "baxis": {
             "endlinecolor": "#2a3f5f",
             "gridcolor": "white",
             "linecolor": "white",
             "minorgridcolor": "white",
             "startlinecolor": "#2a3f5f"
            },
            "type": "carpet"
           }
          ],
          "choropleth": [
           {
            "colorbar": {
             "outlinewidth": 0,
             "ticks": ""
            },
            "type": "choropleth"
           }
          ],
          "contour": [
           {
            "colorbar": {
             "outlinewidth": 0,
             "ticks": ""
            },
            "colorscale": [
             [
              0,
              "#0d0887"
             ],
             [
              0.1111111111111111,
              "#46039f"
             ],
             [
              0.2222222222222222,
              "#7201a8"
             ],
             [
              0.3333333333333333,
              "#9c179e"
             ],
             [
              0.4444444444444444,
              "#bd3786"
             ],
             [
              0.5555555555555556,
              "#d8576b"
             ],
             [
              0.6666666666666666,
              "#ed7953"
             ],
             [
              0.7777777777777778,
              "#fb9f3a"
             ],
             [
              0.8888888888888888,
              "#fdca26"
             ],
             [
              1,
              "#f0f921"
             ]
            ],
            "type": "contour"
           }
          ],
          "contourcarpet": [
           {
            "colorbar": {
             "outlinewidth": 0,
             "ticks": ""
            },
            "type": "contourcarpet"
           }
          ],
          "heatmap": [
           {
            "colorbar": {
             "outlinewidth": 0,
             "ticks": ""
            },
            "colorscale": [
             [
              0,
              "#0d0887"
             ],
             [
              0.1111111111111111,
              "#46039f"
             ],
             [
              0.2222222222222222,
              "#7201a8"
             ],
             [
              0.3333333333333333,
              "#9c179e"
             ],
             [
              0.4444444444444444,
              "#bd3786"
             ],
             [
              0.5555555555555556,
              "#d8576b"
             ],
             [
              0.6666666666666666,
              "#ed7953"
             ],
             [
              0.7777777777777778,
              "#fb9f3a"
             ],
             [
              0.8888888888888888,
              "#fdca26"
             ],
             [
              1,
              "#f0f921"
             ]
            ],
            "type": "heatmap"
           }
          ],
          "heatmapgl": [
           {
            "colorbar": {
             "outlinewidth": 0,
             "ticks": ""
            },
            "colorscale": [
             [
              0,
              "#0d0887"
             ],
             [
              0.1111111111111111,
              "#46039f"
             ],
             [
              0.2222222222222222,
              "#7201a8"
             ],
             [
              0.3333333333333333,
              "#9c179e"
             ],
             [
              0.4444444444444444,
              "#bd3786"
             ],
             [
              0.5555555555555556,
              "#d8576b"
             ],
             [
              0.6666666666666666,
              "#ed7953"
             ],
             [
              0.7777777777777778,
              "#fb9f3a"
             ],
             [
              0.8888888888888888,
              "#fdca26"
             ],
             [
              1,
              "#f0f921"
             ]
            ],
            "type": "heatmapgl"
           }
          ],
          "histogram": [
           {
            "marker": {
             "pattern": {
              "fillmode": "overlay",
              "size": 10,
              "solidity": 0.2
             }
            },
            "type": "histogram"
           }
          ],
          "histogram2d": [
           {
            "colorbar": {
             "outlinewidth": 0,
             "ticks": ""
            },
            "colorscale": [
             [
              0,
              "#0d0887"
             ],
             [
              0.1111111111111111,
              "#46039f"
             ],
             [
              0.2222222222222222,
              "#7201a8"
             ],
             [
              0.3333333333333333,
              "#9c179e"
             ],
             [
              0.4444444444444444,
              "#bd3786"
             ],
             [
              0.5555555555555556,
              "#d8576b"
             ],
             [
              0.6666666666666666,
              "#ed7953"
             ],
             [
              0.7777777777777778,
              "#fb9f3a"
             ],
             [
              0.8888888888888888,
              "#fdca26"
             ],
             [
              1,
              "#f0f921"
             ]
            ],
            "type": "histogram2d"
           }
          ],
          "histogram2dcontour": [
           {
            "colorbar": {
             "outlinewidth": 0,
             "ticks": ""
            },
            "colorscale": [
             [
              0,
              "#0d0887"
             ],
             [
              0.1111111111111111,
              "#46039f"
             ],
             [
              0.2222222222222222,
              "#7201a8"
             ],
             [
              0.3333333333333333,
              "#9c179e"
             ],
             [
              0.4444444444444444,
              "#bd3786"
             ],
             [
              0.5555555555555556,
              "#d8576b"
             ],
             [
              0.6666666666666666,
              "#ed7953"
             ],
             [
              0.7777777777777778,
              "#fb9f3a"
             ],
             [
              0.8888888888888888,
              "#fdca26"
             ],
             [
              1,
              "#f0f921"
             ]
            ],
            "type": "histogram2dcontour"
           }
          ],
          "mesh3d": [
           {
            "colorbar": {
             "outlinewidth": 0,
             "ticks": ""
            },
            "type": "mesh3d"
           }
          ],
          "parcoords": [
           {
            "line": {
             "colorbar": {
              "outlinewidth": 0,
              "ticks": ""
             }
            },
            "type": "parcoords"
           }
          ],
          "pie": [
           {
            "automargin": true,
            "type": "pie"
           }
          ],
          "scatter": [
           {
            "fillpattern": {
             "fillmode": "overlay",
             "size": 10,
             "solidity": 0.2
            },
            "type": "scatter"
           }
          ],
          "scatter3d": [
           {
            "line": {
             "colorbar": {
              "outlinewidth": 0,
              "ticks": ""
             }
            },
            "marker": {
             "colorbar": {
              "outlinewidth": 0,
              "ticks": ""
             }
            },
            "type": "scatter3d"
           }
          ],
          "scattercarpet": [
           {
            "marker": {
             "colorbar": {
              "outlinewidth": 0,
              "ticks": ""
             }
            },
            "type": "scattercarpet"
           }
          ],
          "scattergeo": [
           {
            "marker": {
             "colorbar": {
              "outlinewidth": 0,
              "ticks": ""
             }
            },
            "type": "scattergeo"
           }
          ],
          "scattergl": [
           {
            "marker": {
             "colorbar": {
              "outlinewidth": 0,
              "ticks": ""
             }
            },
            "type": "scattergl"
           }
          ],
          "scattermapbox": [
           {
            "marker": {
             "colorbar": {
              "outlinewidth": 0,
              "ticks": ""
             }
            },
            "type": "scattermapbox"
           }
          ],
          "scatterpolar": [
           {
            "marker": {
             "colorbar": {
              "outlinewidth": 0,
              "ticks": ""
             }
            },
            "type": "scatterpolar"
           }
          ],
          "scatterpolargl": [
           {
            "marker": {
             "colorbar": {
              "outlinewidth": 0,
              "ticks": ""
             }
            },
            "type": "scatterpolargl"
           }
          ],
          "scatterternary": [
           {
            "marker": {
             "colorbar": {
              "outlinewidth": 0,
              "ticks": ""
             }
            },
            "type": "scatterternary"
           }
          ],
          "surface": [
           {
            "colorbar": {
             "outlinewidth": 0,
             "ticks": ""
            },
            "colorscale": [
             [
              0,
              "#0d0887"
             ],
             [
              0.1111111111111111,
              "#46039f"
             ],
             [
              0.2222222222222222,
              "#7201a8"
             ],
             [
              0.3333333333333333,
              "#9c179e"
             ],
             [
              0.4444444444444444,
              "#bd3786"
             ],
             [
              0.5555555555555556,
              "#d8576b"
             ],
             [
              0.6666666666666666,
              "#ed7953"
             ],
             [
              0.7777777777777778,
              "#fb9f3a"
             ],
             [
              0.8888888888888888,
              "#fdca26"
             ],
             [
              1,
              "#f0f921"
             ]
            ],
            "type": "surface"
           }
          ],
          "table": [
           {
            "cells": {
             "fill": {
              "color": "#EBF0F8"
             },
             "line": {
              "color": "white"
             }
            },
            "header": {
             "fill": {
              "color": "#C8D4E3"
             },
             "line": {
              "color": "white"
             }
            },
            "type": "table"
           }
          ]
         },
         "layout": {
          "annotationdefaults": {
           "arrowcolor": "#2a3f5f",
           "arrowhead": 0,
           "arrowwidth": 1
          },
          "autotypenumbers": "strict",
          "coloraxis": {
           "colorbar": {
            "outlinewidth": 0,
            "ticks": ""
           }
          },
          "colorscale": {
           "diverging": [
            [
             0,
             "#8e0152"
            ],
            [
             0.1,
             "#c51b7d"
            ],
            [
             0.2,
             "#de77ae"
            ],
            [
             0.3,
             "#f1b6da"
            ],
            [
             0.4,
             "#fde0ef"
            ],
            [
             0.5,
             "#f7f7f7"
            ],
            [
             0.6,
             "#e6f5d0"
            ],
            [
             0.7,
             "#b8e186"
            ],
            [
             0.8,
             "#7fbc41"
            ],
            [
             0.9,
             "#4d9221"
            ],
            [
             1,
             "#276419"
            ]
           ],
           "sequential": [
            [
             0,
             "#0d0887"
            ],
            [
             0.1111111111111111,
             "#46039f"
            ],
            [
             0.2222222222222222,
             "#7201a8"
            ],
            [
             0.3333333333333333,
             "#9c179e"
            ],
            [
             0.4444444444444444,
             "#bd3786"
            ],
            [
             0.5555555555555556,
             "#d8576b"
            ],
            [
             0.6666666666666666,
             "#ed7953"
            ],
            [
             0.7777777777777778,
             "#fb9f3a"
            ],
            [
             0.8888888888888888,
             "#fdca26"
            ],
            [
             1,
             "#f0f921"
            ]
           ],
           "sequentialminus": [
            [
             0,
             "#0d0887"
            ],
            [
             0.1111111111111111,
             "#46039f"
            ],
            [
             0.2222222222222222,
             "#7201a8"
            ],
            [
             0.3333333333333333,
             "#9c179e"
            ],
            [
             0.4444444444444444,
             "#bd3786"
            ],
            [
             0.5555555555555556,
             "#d8576b"
            ],
            [
             0.6666666666666666,
             "#ed7953"
            ],
            [
             0.7777777777777778,
             "#fb9f3a"
            ],
            [
             0.8888888888888888,
             "#fdca26"
            ],
            [
             1,
             "#f0f921"
            ]
           ]
          },
          "colorway": [
           "#636efa",
           "#EF553B",
           "#00cc96",
           "#ab63fa",
           "#FFA15A",
           "#19d3f3",
           "#FF6692",
           "#B6E880",
           "#FF97FF",
           "#FECB52"
          ],
          "font": {
           "color": "#2a3f5f"
          },
          "geo": {
           "bgcolor": "white",
           "lakecolor": "white",
           "landcolor": "#E5ECF6",
           "showlakes": true,
           "showland": true,
           "subunitcolor": "white"
          },
          "hoverlabel": {
           "align": "left"
          },
          "hovermode": "closest",
          "mapbox": {
           "style": "light"
          },
          "paper_bgcolor": "white",
          "plot_bgcolor": "#E5ECF6",
          "polar": {
           "angularaxis": {
            "gridcolor": "white",
            "linecolor": "white",
            "ticks": ""
           },
           "bgcolor": "#E5ECF6",
           "radialaxis": {
            "gridcolor": "white",
            "linecolor": "white",
            "ticks": ""
           }
          },
          "scene": {
           "xaxis": {
            "backgroundcolor": "#E5ECF6",
            "gridcolor": "white",
            "gridwidth": 2,
            "linecolor": "white",
            "showbackground": true,
            "ticks": "",
            "zerolinecolor": "white"
           },
           "yaxis": {
            "backgroundcolor": "#E5ECF6",
            "gridcolor": "white",
            "gridwidth": 2,
            "linecolor": "white",
            "showbackground": true,
            "ticks": "",
            "zerolinecolor": "white"
           },
           "zaxis": {
            "backgroundcolor": "#E5ECF6",
            "gridcolor": "white",
            "gridwidth": 2,
            "linecolor": "white",
            "showbackground": true,
            "ticks": "",
            "zerolinecolor": "white"
           }
          },
          "shapedefaults": {
           "line": {
            "color": "#2a3f5f"
           }
          },
          "ternary": {
           "aaxis": {
            "gridcolor": "white",
            "linecolor": "white",
            "ticks": ""
           },
           "baxis": {
            "gridcolor": "white",
            "linecolor": "white",
            "ticks": ""
           },
           "bgcolor": "#E5ECF6",
           "caxis": {
            "gridcolor": "white",
            "linecolor": "white",
            "ticks": ""
           }
          },
          "title": {
           "x": 0.05
          },
          "xaxis": {
           "automargin": true,
           "gridcolor": "white",
           "linecolor": "white",
           "ticks": "",
           "title": {
            "standoff": 15
           },
           "zerolinecolor": "white",
           "zerolinewidth": 2
          },
          "yaxis": {
           "automargin": true,
           "gridcolor": "white",
           "linecolor": "white",
           "ticks": "",
           "title": {
            "standoff": 15
           },
           "zerolinecolor": "white",
           "zerolinewidth": 2
          }
         }
        },
        "xaxis": {
         "anchor": "y",
         "domain": [
          0,
          1
         ],
         "title": {
          "text": "engine"
         }
        },
        "yaxis": {
         "anchor": "x",
         "domain": [
          0,
          1
         ],
         "title": {
          "text": "time taken"
         },
         "type": "log"
        }
       }
      },
      "text/html": [
       "<div>                            <div id=\"eac65524-9473-4037-9329-0076d44045c6\" class=\"plotly-graph-div\" style=\"height:525px; width:100%;\"></div>            <script type=\"text/javascript\">                require([\"plotly\"], function(Plotly) {                    window.PLOTLYENV=window.PLOTLYENV || {};                                    if (document.getElementById(\"eac65524-9473-4037-9329-0076d44045c6\")) {                    Plotly.newPlot(                        \"eac65524-9473-4037-9329-0076d44045c6\",                        [{\"alignmentgroup\":\"True\",\"customdata\":[[\"zarr-[1536, 512, 512]-[1536, 512, 128]\"],[\"zarr-[1536, 512, 512]-[1536, 512, 128]\"],[\"zarr-[1536, 512, 512]-[1536, 512, 128]\"],[\"zarr-[1536, 512, 512]-[1536, 512, 128]\"],[\"zarr-[1536, 512, 512]-[1536, 512, 128]\"],[\"zarr-[1536, 512, 512]-[1536, 512, 128]\"],[\"zarr-[1536, 512, 512]-[1536, 512, 128]\"],[\"zarr-[1536, 512, 512]-[1536, 512, 128]\"],[\"zarr-[1536, 512, 512]-[1536, 512, 128]\"],[\"zarr-[1536, 512, 512]-[1536, 512, 128]\"],[\"netcdf4-[1536, 512, 512]-[1536, 512, 128]\"],[\"netcdf4-[1536, 512, 512]-[1536, 512, 128]\"],[\"netcdf4-[1536, 512, 512]-[1536, 512, 128]\"],[\"netcdf4-[1536, 512, 512]-[1536, 512, 128]\"],[\"netcdf4-[1536, 512, 512]-[1536, 512, 128]\"],[\"netcdf4-[1536, 512, 512]-[1536, 512, 128]\"],[\"netcdf4-[1536, 512, 512]-[1536, 512, 128]\"],[\"netcdf4-[1536, 512, 512]-[1536, 512, 128]\"],[\"netcdf4-[1536, 512, 512]-[1536, 512, 128]\"],[\"netcdf4-[1536, 512, 512]-[1536, 512, 128]\"],[\"hdf5-[1536, 512, 512]-[1536, 512, 128]\"],[\"hdf5-[1536, 512, 512]-[1536, 512, 128]\"],[\"hdf5-[1536, 512, 512]-[1536, 512, 128]\"],[\"hdf5-[1536, 512, 512]-[1536, 512, 128]\"],[\"hdf5-[1536, 512, 512]-[1536, 512, 128]\"],[\"hdf5-[1536, 512, 512]-[1536, 512, 128]\"],[\"hdf5-[1536, 512, 512]-[1536, 512, 128]\"],[\"hdf5-[1536, 512, 512]-[1536, 512, 128]\"],[\"hdf5-[1536, 512, 512]-[1536, 512, 128]\"],[\"hdf5-[1536, 512, 512]-[1536, 512, 128]\"]],\"hovertemplate\":\"run=0\\u003cbr\\u003eengine=%{x}\\u003cbr\\u003etime taken=%{y}\\u003cbr\\u003eformat=%{customdata[0]}\\u003cextra\\u003e\\u003c\\u002fextra\\u003e\",\"legendgroup\":\"0\",\"marker\":{\"color\":\"#636efa\"},\"name\":\"0\",\"notched\":false,\"offsetgroup\":\"0\",\"orientation\":\"v\",\"showlegend\":true,\"x\":[\"zarr\",\"zarr\",\"zarr\",\"zarr\",\"zarr\",\"zarr\",\"zarr\",\"zarr\",\"zarr\",\"zarr\",\"netcdf4\",\"netcdf4\",\"netcdf4\",\"netcdf4\",\"netcdf4\",\"netcdf4\",\"netcdf4\",\"netcdf4\",\"netcdf4\",\"netcdf4\",\"hdf5\",\"hdf5\",\"hdf5\",\"hdf5\",\"hdf5\",\"hdf5\",\"hdf5\",\"hdf5\",\"hdf5\",\"hdf5\"],\"x0\":\" \",\"xaxis\":\"x\",\"y\":[1.561470602,1.119593804,1.131029809,1.100024496,1.106562787,1.08532757,1.084824497,1.07139167,1.062812411,1.072172126,2.503007032,1.6436543110000001,1.575713818,1.693407204,1.7019631510000002,1.575951321,1.672457324,1.664683944,1.6092664540000001,1.576138876,3.6333989950000003,1.487018424,1.4578746,1.449845683,1.45085663,1.4668470980000001,1.45771918,1.505242134,1.449804507,1.453581631],\"y0\":\" \",\"yaxis\":\"y\",\"type\":\"box\"},{\"alignmentgroup\":\"True\",\"customdata\":[[\"zarr-[1536, 512, 512]-[1536, 512, 256]\"],[\"zarr-[1536, 512, 512]-[1536, 512, 256]\"],[\"zarr-[1536, 512, 512]-[1536, 512, 256]\"],[\"zarr-[1536, 512, 512]-[1536, 512, 256]\"],[\"zarr-[1536, 512, 512]-[1536, 512, 256]\"],[\"zarr-[1536, 512, 512]-[1536, 512, 256]\"],[\"zarr-[1536, 512, 512]-[1536, 512, 256]\"],[\"zarr-[1536, 512, 512]-[1536, 512, 256]\"],[\"zarr-[1536, 512, 512]-[1536, 512, 256]\"],[\"zarr-[1536, 512, 512]-[1536, 512, 256]\"],[\"netcdf4-[1536, 512, 512]-[1536, 512, 256]\"],[\"netcdf4-[1536, 512, 512]-[1536, 512, 256]\"],[\"netcdf4-[1536, 512, 512]-[1536, 512, 256]\"],[\"netcdf4-[1536, 512, 512]-[1536, 512, 256]\"],[\"netcdf4-[1536, 512, 512]-[1536, 512, 256]\"],[\"netcdf4-[1536, 512, 512]-[1536, 512, 256]\"],[\"netcdf4-[1536, 512, 512]-[1536, 512, 256]\"],[\"netcdf4-[1536, 512, 512]-[1536, 512, 256]\"],[\"netcdf4-[1536, 512, 512]-[1536, 512, 256]\"],[\"netcdf4-[1536, 512, 512]-[1536, 512, 256]\"],[\"hdf5-[1536, 512, 512]-[1536, 512, 256]\"],[\"hdf5-[1536, 512, 512]-[1536, 512, 256]\"],[\"hdf5-[1536, 512, 512]-[1536, 512, 256]\"],[\"hdf5-[1536, 512, 512]-[1536, 512, 256]\"],[\"hdf5-[1536, 512, 512]-[1536, 512, 256]\"],[\"hdf5-[1536, 512, 512]-[1536, 512, 256]\"],[\"hdf5-[1536, 512, 512]-[1536, 512, 256]\"],[\"hdf5-[1536, 512, 512]-[1536, 512, 256]\"],[\"hdf5-[1536, 512, 512]-[1536, 512, 256]\"],[\"hdf5-[1536, 512, 512]-[1536, 512, 256]\"]],\"hovertemplate\":\"run=1\\u003cbr\\u003eengine=%{x}\\u003cbr\\u003etime taken=%{y}\\u003cbr\\u003eformat=%{customdata[0]}\\u003cextra\\u003e\\u003c\\u002fextra\\u003e\",\"legendgroup\":\"1\",\"marker\":{\"color\":\"#EF553B\"},\"name\":\"1\",\"notched\":false,\"offsetgroup\":\"1\",\"orientation\":\"v\",\"showlegend\":true,\"x\":[\"zarr\",\"zarr\",\"zarr\",\"zarr\",\"zarr\",\"zarr\",\"zarr\",\"zarr\",\"zarr\",\"zarr\",\"netcdf4\",\"netcdf4\",\"netcdf4\",\"netcdf4\",\"netcdf4\",\"netcdf4\",\"netcdf4\",\"netcdf4\",\"netcdf4\",\"netcdf4\",\"hdf5\",\"hdf5\",\"hdf5\",\"hdf5\",\"hdf5\",\"hdf5\",\"hdf5\",\"hdf5\",\"hdf5\",\"hdf5\"],\"x0\":\" \",\"xaxis\":\"x\",\"y\":[3.524663635,1.640390784,1.58037417,1.498136551,1.499260701,1.471429969,1.441589899,1.5037154799999999,1.440095022,1.437127042,3.125054425,0.996413096,0.962528853,0.953506285,0.9874306650000001,0.947477604,0.986009702,0.9486437510000001,0.9766967540000001,0.9475818500000001,3.120725102,0.985057551,0.9350957080000001,0.9270261150000001,0.886485327,0.9145776550000001,0.8758912310000001,0.87422285,0.87592463,0.8744445670000001],\"y0\":\" \",\"yaxis\":\"y\",\"type\":\"box\"},{\"alignmentgroup\":\"True\",\"customdata\":[[\"zarr-[1536, 512, 512]-[1536, 512, 512]\"],[\"zarr-[1536, 512, 512]-[1536, 512, 512]\"],[\"zarr-[1536, 512, 512]-[1536, 512, 512]\"],[\"zarr-[1536, 512, 512]-[1536, 512, 512]\"],[\"zarr-[1536, 512, 512]-[1536, 512, 512]\"],[\"zarr-[1536, 512, 512]-[1536, 512, 512]\"],[\"zarr-[1536, 512, 512]-[1536, 512, 512]\"],[\"zarr-[1536, 512, 512]-[1536, 512, 512]\"],[\"zarr-[1536, 512, 512]-[1536, 512, 512]\"],[\"zarr-[1536, 512, 512]-[1536, 512, 512]\"],[\"netcdf4-[1536, 512, 512]-[1536, 512, 512]\"],[\"netcdf4-[1536, 512, 512]-[1536, 512, 512]\"],[\"netcdf4-[1536, 512, 512]-[1536, 512, 512]\"],[\"netcdf4-[1536, 512, 512]-[1536, 512, 512]\"],[\"netcdf4-[1536, 512, 512]-[1536, 512, 512]\"],[\"netcdf4-[1536, 512, 512]-[1536, 512, 512]\"],[\"netcdf4-[1536, 512, 512]-[1536, 512, 512]\"],[\"netcdf4-[1536, 512, 512]-[1536, 512, 512]\"],[\"netcdf4-[1536, 512, 512]-[1536, 512, 512]\"],[\"netcdf4-[1536, 512, 512]-[1536, 512, 512]\"],[\"hdf5-[1536, 512, 512]-[1536, 512, 512]\"],[\"hdf5-[1536, 512, 512]-[1536, 512, 512]\"],[\"hdf5-[1536, 512, 512]-[1536, 512, 512]\"],[\"hdf5-[1536, 512, 512]-[1536, 512, 512]\"],[\"hdf5-[1536, 512, 512]-[1536, 512, 512]\"],[\"hdf5-[1536, 512, 512]-[1536, 512, 512]\"],[\"hdf5-[1536, 512, 512]-[1536, 512, 512]\"],[\"hdf5-[1536, 512, 512]-[1536, 512, 512]\"],[\"hdf5-[1536, 512, 512]-[1536, 512, 512]\"],[\"hdf5-[1536, 512, 512]-[1536, 512, 512]\"]],\"hovertemplate\":\"run=2\\u003cbr\\u003eengine=%{x}\\u003cbr\\u003etime taken=%{y}\\u003cbr\\u003eformat=%{customdata[0]}\\u003cextra\\u003e\\u003c\\u002fextra\\u003e\",\"legendgroup\":\"2\",\"marker\":{\"color\":\"#00cc96\"},\"name\":\"2\",\"notched\":false,\"offsetgroup\":\"2\",\"orientation\":\"v\",\"showlegend\":true,\"x\":[\"zarr\",\"zarr\",\"zarr\",\"zarr\",\"zarr\",\"zarr\",\"zarr\",\"zarr\",\"zarr\",\"zarr\",\"netcdf4\",\"netcdf4\",\"netcdf4\",\"netcdf4\",\"netcdf4\",\"netcdf4\",\"netcdf4\",\"netcdf4\",\"netcdf4\",\"netcdf4\",\"hdf5\",\"hdf5\",\"hdf5\",\"hdf5\",\"hdf5\",\"hdf5\",\"hdf5\",\"hdf5\",\"hdf5\",\"hdf5\"],\"x0\":\" \",\"xaxis\":\"x\",\"y\":[4.696084097,2.482777822,2.385498438,2.281798491,2.308118287,2.266521942,2.249475183,2.2242104400000002,2.264185753,2.252098626,0.991430133,0.363354404,0.361270258,0.391785413,0.362657294,0.36500627300000005,0.371078183,0.36441432500000004,0.37061255,0.360128059,0.8343976740000001,0.30380218800000003,0.265694445,0.30102369500000004,0.262829486,0.27002368,0.264752193,0.262354666,0.26100444300000003,0.262556783],\"y0\":\" \",\"yaxis\":\"y\",\"type\":\"box\"},{\"alignmentgroup\":\"True\",\"customdata\":[[\"hdf5-c-402653184-402653184\"],[\"hdf5-c-402653184-402653184\"],[\"hdf5-c-402653184-402653184\"],[\"hdf5-c-402653184-402653184\"],[\"hdf5-c-402653184-402653184\"],[\"hdf5-c-402653184-402653184\"],[\"hdf5-c-402653184-402653184\"],[\"hdf5-c-402653184-402653184\"],[\"hdf5-c-402653184-402653184\"],[\"hdf5-c-402653184-402653184\"],[\"hdf5-subfiling-134217728-134217728\"],[\"hdf5-subfiling-134217728-134217728\"],[\"hdf5-subfiling-134217728-134217728\"],[\"hdf5-subfiling-134217728-134217728\"],[\"hdf5-subfiling-134217728-134217728\"],[\"hdf5-subfiling-134217728-134217728\"],[\"hdf5-subfiling-134217728-134217728\"],[\"hdf5-subfiling-134217728-134217728\"],[\"hdf5-subfiling-134217728-134217728\"],[\"hdf5-subfiling-134217728-134217728\"],[\"hdf5-async-134217728-134217728\"],[\"hdf5-async-134217728-134217728\"],[\"hdf5-async-134217728-134217728\"],[\"hdf5-async-134217728-134217728\"],[\"hdf5-async-134217728-134217728\"],[\"hdf5-async-134217728-134217728\"],[\"hdf5-async-134217728-134217728\"],[\"hdf5-async-134217728-134217728\"],[\"hdf5-async-134217728-134217728\"],[\"hdf5-async-134217728-134217728\"],[\"netcdf4-c-134217728-134217728\"],[\"netcdf4-c-134217728-134217728\"],[\"netcdf4-c-134217728-134217728\"],[\"netcdf4-c-134217728-134217728\"],[\"netcdf4-c-134217728-134217728\"],[\"netcdf4-c-134217728-134217728\"],[\"netcdf4-c-134217728-134217728\"],[\"netcdf4-c-134217728-134217728\"],[\"netcdf4-c-134217728-134217728\"],[\"netcdf4-c-134217728-134217728\"],[\"netcdf4-c-134217728-134217728\"],[\"netcdf4-c-134217728-134217728\"],[\"netcdf4-c-134217728-134217728\"],[\"netcdf4-c-134217728-134217728\"],[\"netcdf4-c-134217728-134217728\"],[\"netcdf4-c-134217728-134217728\"],[\"netcdf4-c-134217728-134217728\"],[\"netcdf4-c-134217728-134217728\"],[\"netcdf4-c-134217728-134217728\"],[\"netcdf4-c-134217728-134217728\"],[\"netcdf4-c-134217728-134217728\"],[\"netcdf4-c-134217728-134217728\"],[\"netcdf4-c-134217728-134217728\"],[\"netcdf4-c-134217728-134217728\"],[\"netcdf4-c-134217728-134217728\"],[\"netcdf4-c-134217728-134217728\"],[\"netcdf4-c-134217728-134217728\"],[\"netcdf4-c-134217728-134217728\"],[\"netcdf4-c-134217728-134217728\"],[\"netcdf4-c-134217728-134217728\"],[\"netcdf4-c-134217728-134217728\"],[\"netcdf4-c-134217728-134217728\"],[\"netcdf4-c-134217728-134217728\"],[\"netcdf4-c-134217728-134217728\"],[\"netcdf4-c-134217728-134217728\"],[\"netcdf4-c-134217728-134217728\"],[\"netcdf4-c-134217728-134217728\"],[\"netcdf4-c-134217728-134217728\"],[\"netcdf4-c-134217728-134217728\"],[\"netcdf4-c-134217728-134217728\"],[\"netcdf4-c-134217728-134217728\"],[\"netcdf4-c-134217728-134217728\"],[\"netcdf4-c-134217728-134217728\"],[\"netcdf4-c-134217728-134217728\"],[\"netcdf4-c-134217728-134217728\"],[\"netcdf4-c-134217728-134217728\"],[\"netcdf4-c-134217728-134217728\"],[\"netcdf4-c-134217728-134217728\"],[\"netcdf4-c-134217728-134217728\"],[\"netcdf4-c-134217728-134217728\"],[\"netcdf4-c-134217728-134217728\"],[\"netcdf4-c-134217728-134217728\"],[\"netcdf4-c-134217728-134217728\"],[\"netcdf4-c-134217728-134217728\"],[\"netcdf4-c-134217728-134217728\"],[\"netcdf4-c-134217728-134217728\"],[\"netcdf4-c-134217728-134217728\"],[\"netcdf4-c-134217728-134217728\"],[\"netcdf4-c-134217728-134217728\"],[\"netcdf4-c-134217728-134217728\"],[\"netcdf4-c-134217728-134217728\"],[\"netcdf4-c-134217728-134217728\"],[\"netcdf4-c-134217728-134217728\"],[\"netcdf4-c-134217728-134217728\"],[\"netcdf4-c-134217728-134217728\"],[\"netcdf4-c-134217728-134217728\"],[\"netcdf4-c-134217728-134217728\"],[\"netcdf4-c-134217728-134217728\"],[\"netcdf4-c-134217728-134217728\"],[\"netcdf4-c-134217728-134217728\"],[\"netcdf4-c-134217728-134217728\"],[\"netcdf4-c-134217728-134217728\"],[\"netcdf4-c-134217728-134217728\"],[\"netcdf4-c-134217728-134217728\"],[\"netcdf4-c-134217728-134217728\"],[\"netcdf4-c-134217728-134217728\"],[\"netcdf4-c-134217728-134217728\"],[\"netcdf4-c-134217728-134217728\"],[\"netcdf4-c-134217728-134217728\"],[\"netcdf4-c-134217728-134217728\"],[\"netcdf4-c-134217728-134217728\"],[\"netcdf4-c-134217728-134217728\"],[\"netcdf4-c-134217728-134217728\"],[\"netcdf4-c-134217728-134217728\"],[\"netcdf4-c-134217728-134217728\"],[\"netcdf4-c-134217728-134217728\"],[\"netcdf4-c-134217728-134217728\"],[\"netcdf4-c-134217728-134217728\"],[\"netcdf4-c-134217728-134217728\"],[\"netcdf4-c-134217728-134217728\"],[\"netcdf4-c-134217728-134217728\"],[\"netcdf4-c-134217728-134217728\"],[\"netcdf4-c-134217728-134217728\"],[\"netcdf4-c-134217728-134217728\"],[\"netcdf4-c-134217728-134217728\"],[\"netcdf4-c-134217728-134217728\"],[\"netcdf4-c-134217728-134217728\"],[\"netcdf4-c-134217728-134217728\"],[\"netcdf4-c-134217728-134217728\"],[\"netcdf4-c-134217728-134217728\"]],\"hovertemplate\":\"run=7\\u003cbr\\u003eengine=%{x}\\u003cbr\\u003etime taken=%{y}\\u003cbr\\u003eformat=%{customdata[0]}\\u003cextra\\u003e\\u003c\\u002fextra\\u003e\",\"legendgroup\":\"7\",\"marker\":{\"color\":\"#ab63fa\"},\"name\":\"7\",\"notched\":false,\"offsetgroup\":\"7\",\"orientation\":\"v\",\"showlegend\":true,\"x\":[\"hdf5-c\",\"hdf5-c\",\"hdf5-c\",\"hdf5-c\",\"hdf5-c\",\"hdf5-c\",\"hdf5-c\",\"hdf5-c\",\"hdf5-c\",\"hdf5-c\",\"hdf5-subfiling\",\"hdf5-subfiling\",\"hdf5-subfiling\",\"hdf5-subfiling\",\"hdf5-subfiling\",\"hdf5-subfiling\",\"hdf5-subfiling\",\"hdf5-subfiling\",\"hdf5-subfiling\",\"hdf5-subfiling\",\"hdf5-async\",\"hdf5-async\",\"hdf5-async\",\"hdf5-async\",\"hdf5-async\",\"hdf5-async\",\"hdf5-async\",\"hdf5-async\",\"hdf5-async\",\"hdf5-async\",\"netcdf4-c\",\"netcdf4-c\",\"netcdf4-c\",\"netcdf4-c\",\"netcdf4-c\",\"netcdf4-c\",\"netcdf4-c\",\"netcdf4-c\",\"netcdf4-c\",\"netcdf4-c\",\"netcdf4-c\",\"netcdf4-c\",\"netcdf4-c\",\"netcdf4-c\",\"netcdf4-c\",\"netcdf4-c\",\"netcdf4-c\",\"netcdf4-c\",\"netcdf4-c\",\"netcdf4-c\",\"netcdf4-c\",\"netcdf4-c\",\"netcdf4-c\",\"netcdf4-c\",\"netcdf4-c\",\"netcdf4-c\",\"netcdf4-c\",\"netcdf4-c\",\"netcdf4-c\",\"netcdf4-c\",\"netcdf4-c\",\"netcdf4-c\",\"netcdf4-c\",\"netcdf4-c\",\"netcdf4-c\",\"netcdf4-c\",\"netcdf4-c\",\"netcdf4-c\",\"netcdf4-c\",\"netcdf4-c\",\"netcdf4-c\",\"netcdf4-c\",\"netcdf4-c\",\"netcdf4-c\",\"netcdf4-c\",\"netcdf4-c\",\"netcdf4-c\",\"netcdf4-c\",\"netcdf4-c\",\"netcdf4-c\",\"netcdf4-c\",\"netcdf4-c\",\"netcdf4-c\",\"netcdf4-c\",\"netcdf4-c\",\"netcdf4-c\",\"netcdf4-c\",\"netcdf4-c\",\"netcdf4-c\",\"netcdf4-c\",\"netcdf4-c\",\"netcdf4-c\",\"netcdf4-c\",\"netcdf4-c\",\"netcdf4-c\",\"netcdf4-c\",\"netcdf4-c\",\"netcdf4-c\",\"netcdf4-c\",\"netcdf4-c\",\"netcdf4-c\",\"netcdf4-c\",\"netcdf4-c\",\"netcdf4-c\",\"netcdf4-c\",\"netcdf4-c\",\"netcdf4-c\",\"netcdf4-c\",\"netcdf4-c\",\"netcdf4-c\",\"netcdf4-c\",\"netcdf4-c\",\"netcdf4-c\",\"netcdf4-c\",\"netcdf4-c\",\"netcdf4-c\",\"netcdf4-c\",\"netcdf4-c\",\"netcdf4-c\",\"netcdf4-c\",\"netcdf4-c\",\"netcdf4-c\",\"netcdf4-c\",\"netcdf4-c\",\"netcdf4-c\",\"netcdf4-c\",\"netcdf4-c\",\"netcdf4-c\",\"netcdf4-c\",\"netcdf4-c\"],\"x0\":\" \",\"xaxis\":\"x\",\"y\":[0.40457299999999996,0.47253199999999995,0.40116799999999997,0.401652,0.417379,0.375791,0.375793,0.38658499999999996,0.387801,0.385051,0.24542000000000003,0.35334699999999997,0.266121,0.23990399999999998,0.23974099999999998,0.241447,0.240508,0.240274,0.24043499999999998,0.238611,0.488818,0.15956199999999998,0.130557,0.128801,0.147416,0.134387,0.135026,0.130529,0.17788,0.142269,0.602101,0.261602,0.165743,0.160828,0.160964,0.162638,0.166608,0.16283,0.161029,0.162787,0.16119,0.165231,0.162049,0.228676,0.15734299999999998,0.156792,0.157254,0.174684,0.17216099999999998,0.17028000000000001,0.163677,0.164027,0.167008,0.16619799999999998,0.16371000000000002,0.249969,0.163681,0.194128,0.170982,0.167784,0.166202,0.158468,0.157573,0.157942,0.159853,0.163013,0.165434,0.250596,0.165705,0.165467,0.16472699999999998,0.16599000000000003,0.16185000000000002,0.161995,0.161858,0.161,0.161017,0.161511,0.16245199999999999,0.253677,0.16170099999999998,0.16125899999999999,0.161732,0.16175,0.162327,0.16173099999999999,0.161686,0.163355,0.166156,0.187822,0.17108099999999998,0.213359,0.279502,0.210704,0.23077199999999998,0.172618,0.168672,0.165784,0.16625,0.168162,0.164674,0.163358,0.164461,0.263136,0.168314,0.168706,0.166732,0.162468,0.163489,0.16236299999999998,0.160739,0.16452799999999998,0.161527,0.161993,0.163982,0.252378,0.16166000000000003,0.161906,0.164388,0.17304799999999998,0.16678199999999999,0.165329,0.16675,0.163158,0.161529,0.16248,0.173807,0.281233,0.186132,0.226984],\"y0\":\" \",\"yaxis\":\"y\",\"type\":\"box\"}],                        {\"template\":{\"data\":{\"histogram2dcontour\":[{\"type\":\"histogram2dcontour\",\"colorbar\":{\"outlinewidth\":0,\"ticks\":\"\"},\"colorscale\":[[0.0,\"#0d0887\"],[0.1111111111111111,\"#46039f\"],[0.2222222222222222,\"#7201a8\"],[0.3333333333333333,\"#9c179e\"],[0.4444444444444444,\"#bd3786\"],[0.5555555555555556,\"#d8576b\"],[0.6666666666666666,\"#ed7953\"],[0.7777777777777778,\"#fb9f3a\"],[0.8888888888888888,\"#fdca26\"],[1.0,\"#f0f921\"]]}],\"choropleth\":[{\"type\":\"choropleth\",\"colorbar\":{\"outlinewidth\":0,\"ticks\":\"\"}}],\"histogram2d\":[{\"type\":\"histogram2d\",\"colorbar\":{\"outlinewidth\":0,\"ticks\":\"\"},\"colorscale\":[[0.0,\"#0d0887\"],[0.1111111111111111,\"#46039f\"],[0.2222222222222222,\"#7201a8\"],[0.3333333333333333,\"#9c179e\"],[0.4444444444444444,\"#bd3786\"],[0.5555555555555556,\"#d8576b\"],[0.6666666666666666,\"#ed7953\"],[0.7777777777777778,\"#fb9f3a\"],[0.8888888888888888,\"#fdca26\"],[1.0,\"#f0f921\"]]}],\"heatmap\":[{\"type\":\"heatmap\",\"colorbar\":{\"outlinewidth\":0,\"ticks\":\"\"},\"colorscale\":[[0.0,\"#0d0887\"],[0.1111111111111111,\"#46039f\"],[0.2222222222222222,\"#7201a8\"],[0.3333333333333333,\"#9c179e\"],[0.4444444444444444,\"#bd3786\"],[0.5555555555555556,\"#d8576b\"],[0.6666666666666666,\"#ed7953\"],[0.7777777777777778,\"#fb9f3a\"],[0.8888888888888888,\"#fdca26\"],[1.0,\"#f0f921\"]]}],\"heatmapgl\":[{\"type\":\"heatmapgl\",\"colorbar\":{\"outlinewidth\":0,\"ticks\":\"\"},\"colorscale\":[[0.0,\"#0d0887\"],[0.1111111111111111,\"#46039f\"],[0.2222222222222222,\"#7201a8\"],[0.3333333333333333,\"#9c179e\"],[0.4444444444444444,\"#bd3786\"],[0.5555555555555556,\"#d8576b\"],[0.6666666666666666,\"#ed7953\"],[0.7777777777777778,\"#fb9f3a\"],[0.8888888888888888,\"#fdca26\"],[1.0,\"#f0f921\"]]}],\"contourcarpet\":[{\"type\":\"contourcarpet\",\"colorbar\":{\"outlinewidth\":0,\"ticks\":\"\"}}],\"contour\":[{\"type\":\"contour\",\"colorbar\":{\"outlinewidth\":0,\"ticks\":\"\"},\"colorscale\":[[0.0,\"#0d0887\"],[0.1111111111111111,\"#46039f\"],[0.2222222222222222,\"#7201a8\"],[0.3333333333333333,\"#9c179e\"],[0.4444444444444444,\"#bd3786\"],[0.5555555555555556,\"#d8576b\"],[0.6666666666666666,\"#ed7953\"],[0.7777777777777778,\"#fb9f3a\"],[0.8888888888888888,\"#fdca26\"],[1.0,\"#f0f921\"]]}],\"surface\":[{\"type\":\"surface\",\"colorbar\":{\"outlinewidth\":0,\"ticks\":\"\"},\"colorscale\":[[0.0,\"#0d0887\"],[0.1111111111111111,\"#46039f\"],[0.2222222222222222,\"#7201a8\"],[0.3333333333333333,\"#9c179e\"],[0.4444444444444444,\"#bd3786\"],[0.5555555555555556,\"#d8576b\"],[0.6666666666666666,\"#ed7953\"],[0.7777777777777778,\"#fb9f3a\"],[0.8888888888888888,\"#fdca26\"],[1.0,\"#f0f921\"]]}],\"mesh3d\":[{\"type\":\"mesh3d\",\"colorbar\":{\"outlinewidth\":0,\"ticks\":\"\"}}],\"scatter\":[{\"fillpattern\":{\"fillmode\":\"overlay\",\"size\":10,\"solidity\":0.2},\"type\":\"scatter\"}],\"parcoords\":[{\"type\":\"parcoords\",\"line\":{\"colorbar\":{\"outlinewidth\":0,\"ticks\":\"\"}}}],\"scatterpolargl\":[{\"type\":\"scatterpolargl\",\"marker\":{\"colorbar\":{\"outlinewidth\":0,\"ticks\":\"\"}}}],\"bar\":[{\"error_x\":{\"color\":\"#2a3f5f\"},\"error_y\":{\"color\":\"#2a3f5f\"},\"marker\":{\"line\":{\"color\":\"#E5ECF6\",\"width\":0.5},\"pattern\":{\"fillmode\":\"overlay\",\"size\":10,\"solidity\":0.2}},\"type\":\"bar\"}],\"scattergeo\":[{\"type\":\"scattergeo\",\"marker\":{\"colorbar\":{\"outlinewidth\":0,\"ticks\":\"\"}}}],\"scatterpolar\":[{\"type\":\"scatterpolar\",\"marker\":{\"colorbar\":{\"outlinewidth\":0,\"ticks\":\"\"}}}],\"histogram\":[{\"marker\":{\"pattern\":{\"fillmode\":\"overlay\",\"size\":10,\"solidity\":0.2}},\"type\":\"histogram\"}],\"scattergl\":[{\"type\":\"scattergl\",\"marker\":{\"colorbar\":{\"outlinewidth\":0,\"ticks\":\"\"}}}],\"scatter3d\":[{\"type\":\"scatter3d\",\"line\":{\"colorbar\":{\"outlinewidth\":0,\"ticks\":\"\"}},\"marker\":{\"colorbar\":{\"outlinewidth\":0,\"ticks\":\"\"}}}],\"scattermapbox\":[{\"type\":\"scattermapbox\",\"marker\":{\"colorbar\":{\"outlinewidth\":0,\"ticks\":\"\"}}}],\"scatterternary\":[{\"type\":\"scatterternary\",\"marker\":{\"colorbar\":{\"outlinewidth\":0,\"ticks\":\"\"}}}],\"scattercarpet\":[{\"type\":\"scattercarpet\",\"marker\":{\"colorbar\":{\"outlinewidth\":0,\"ticks\":\"\"}}}],\"carpet\":[{\"aaxis\":{\"endlinecolor\":\"#2a3f5f\",\"gridcolor\":\"white\",\"linecolor\":\"white\",\"minorgridcolor\":\"white\",\"startlinecolor\":\"#2a3f5f\"},\"baxis\":{\"endlinecolor\":\"#2a3f5f\",\"gridcolor\":\"white\",\"linecolor\":\"white\",\"minorgridcolor\":\"white\",\"startlinecolor\":\"#2a3f5f\"},\"type\":\"carpet\"}],\"table\":[{\"cells\":{\"fill\":{\"color\":\"#EBF0F8\"},\"line\":{\"color\":\"white\"}},\"header\":{\"fill\":{\"color\":\"#C8D4E3\"},\"line\":{\"color\":\"white\"}},\"type\":\"table\"}],\"barpolar\":[{\"marker\":{\"line\":{\"color\":\"#E5ECF6\",\"width\":0.5},\"pattern\":{\"fillmode\":\"overlay\",\"size\":10,\"solidity\":0.2}},\"type\":\"barpolar\"}],\"pie\":[{\"automargin\":true,\"type\":\"pie\"}]},\"layout\":{\"autotypenumbers\":\"strict\",\"colorway\":[\"#636efa\",\"#EF553B\",\"#00cc96\",\"#ab63fa\",\"#FFA15A\",\"#19d3f3\",\"#FF6692\",\"#B6E880\",\"#FF97FF\",\"#FECB52\"],\"font\":{\"color\":\"#2a3f5f\"},\"hovermode\":\"closest\",\"hoverlabel\":{\"align\":\"left\"},\"paper_bgcolor\":\"white\",\"plot_bgcolor\":\"#E5ECF6\",\"polar\":{\"bgcolor\":\"#E5ECF6\",\"angularaxis\":{\"gridcolor\":\"white\",\"linecolor\":\"white\",\"ticks\":\"\"},\"radialaxis\":{\"gridcolor\":\"white\",\"linecolor\":\"white\",\"ticks\":\"\"}},\"ternary\":{\"bgcolor\":\"#E5ECF6\",\"aaxis\":{\"gridcolor\":\"white\",\"linecolor\":\"white\",\"ticks\":\"\"},\"baxis\":{\"gridcolor\":\"white\",\"linecolor\":\"white\",\"ticks\":\"\"},\"caxis\":{\"gridcolor\":\"white\",\"linecolor\":\"white\",\"ticks\":\"\"}},\"coloraxis\":{\"colorbar\":{\"outlinewidth\":0,\"ticks\":\"\"}},\"colorscale\":{\"sequential\":[[0.0,\"#0d0887\"],[0.1111111111111111,\"#46039f\"],[0.2222222222222222,\"#7201a8\"],[0.3333333333333333,\"#9c179e\"],[0.4444444444444444,\"#bd3786\"],[0.5555555555555556,\"#d8576b\"],[0.6666666666666666,\"#ed7953\"],[0.7777777777777778,\"#fb9f3a\"],[0.8888888888888888,\"#fdca26\"],[1.0,\"#f0f921\"]],\"sequentialminus\":[[0.0,\"#0d0887\"],[0.1111111111111111,\"#46039f\"],[0.2222222222222222,\"#7201a8\"],[0.3333333333333333,\"#9c179e\"],[0.4444444444444444,\"#bd3786\"],[0.5555555555555556,\"#d8576b\"],[0.6666666666666666,\"#ed7953\"],[0.7777777777777778,\"#fb9f3a\"],[0.8888888888888888,\"#fdca26\"],[1.0,\"#f0f921\"]],\"diverging\":[[0,\"#8e0152\"],[0.1,\"#c51b7d\"],[0.2,\"#de77ae\"],[0.3,\"#f1b6da\"],[0.4,\"#fde0ef\"],[0.5,\"#f7f7f7\"],[0.6,\"#e6f5d0\"],[0.7,\"#b8e186\"],[0.8,\"#7fbc41\"],[0.9,\"#4d9221\"],[1,\"#276419\"]]},\"xaxis\":{\"gridcolor\":\"white\",\"linecolor\":\"white\",\"ticks\":\"\",\"title\":{\"standoff\":15},\"zerolinecolor\":\"white\",\"automargin\":true,\"zerolinewidth\":2},\"yaxis\":{\"gridcolor\":\"white\",\"linecolor\":\"white\",\"ticks\":\"\",\"title\":{\"standoff\":15},\"zerolinecolor\":\"white\",\"automargin\":true,\"zerolinewidth\":2},\"scene\":{\"xaxis\":{\"backgroundcolor\":\"#E5ECF6\",\"gridcolor\":\"white\",\"linecolor\":\"white\",\"showbackground\":true,\"ticks\":\"\",\"zerolinecolor\":\"white\",\"gridwidth\":2},\"yaxis\":{\"backgroundcolor\":\"#E5ECF6\",\"gridcolor\":\"white\",\"linecolor\":\"white\",\"showbackground\":true,\"ticks\":\"\",\"zerolinecolor\":\"white\",\"gridwidth\":2},\"zaxis\":{\"backgroundcolor\":\"#E5ECF6\",\"gridcolor\":\"white\",\"linecolor\":\"white\",\"showbackground\":true,\"ticks\":\"\",\"zerolinecolor\":\"white\",\"gridwidth\":2}},\"shapedefaults\":{\"line\":{\"color\":\"#2a3f5f\"}},\"annotationdefaults\":{\"arrowcolor\":\"#2a3f5f\",\"arrowhead\":0,\"arrowwidth\":1},\"geo\":{\"bgcolor\":\"white\",\"landcolor\":\"#E5ECF6\",\"subunitcolor\":\"white\",\"showland\":true,\"showlakes\":true,\"lakecolor\":\"white\"},\"title\":{\"x\":0.05},\"mapbox\":{\"style\":\"light\"}}},\"xaxis\":{\"anchor\":\"y\",\"domain\":[0.0,1.0],\"title\":{\"text\":\"engine\"}},\"yaxis\":{\"anchor\":\"x\",\"domain\":[0.0,1.0],\"title\":{\"text\":\"time taken\"},\"type\":\"log\"},\"legend\":{\"title\":{\"text\":\"run\"},\"tracegroupgap\":0},\"margin\":{\"t\":60},\"boxmode\":\"group\"},                        {\"responsive\": true}                    ).then(function(){\n",
       "                            \n",
       "var gd = document.getElementById('eac65524-9473-4037-9329-0076d44045c6');\n",
       "var x = new MutationObserver(function (mutations, observer) {{\n",
       "        var display = window.getComputedStyle(gd).display;\n",
       "        if (!display || display === 'none') {{\n",
       "            console.log([gd, 'removed!']);\n",
       "            Plotly.purge(gd);\n",
       "            observer.disconnect();\n",
       "        }}\n",
       "}});\n",
       "\n",
       "// Listen for the removal of the full notebook cells\n",
       "var notebookContainer = gd.closest('#notebook-container');\n",
       "if (notebookContainer) {{\n",
       "    x.observe(notebookContainer, {childList: true});\n",
       "}}\n",
       "\n",
       "// Listen for the clearing of the current output cell\n",
       "var outputEl = gd.closest('.output');\n",
       "if (outputEl) {{\n",
       "    x.observe(outputEl, {childList: true});\n",
       "}}\n",
       "\n",
       "                        })                };                });            </script>        </div>"
      ]
     },
     "metadata": {},
     "output_type": "display_data"
    },
    {
     "data": {
      "application/vnd.plotly.v1+json": {
       "config": {
        "plotlyServerURL": "https://plot.ly"
       },
       "data": [
        {
         "alignmentgroup": "True",
         "customdata": [
          [
           "zarr-[402653184]-[100663296]"
          ],
          [
           "zarr-[402653184]-[100663296]"
          ],
          [
           "zarr-[402653184]-[100663296]"
          ],
          [
           "zarr-[402653184]-[100663296]"
          ],
          [
           "zarr-[402653184]-[100663296]"
          ],
          [
           "zarr-[402653184]-[100663296]"
          ],
          [
           "zarr-[402653184]-[100663296]"
          ],
          [
           "zarr-[402653184]-[100663296]"
          ],
          [
           "zarr-[402653184]-[100663296]"
          ],
          [
           "zarr-[402653184]-[100663296]"
          ],
          [
           "netcdf4-[402653184]-[100663296]"
          ],
          [
           "netcdf4-[402653184]-[100663296]"
          ],
          [
           "netcdf4-[402653184]-[100663296]"
          ],
          [
           "netcdf4-[402653184]-[100663296]"
          ],
          [
           "netcdf4-[402653184]-[100663296]"
          ],
          [
           "netcdf4-[402653184]-[100663296]"
          ],
          [
           "netcdf4-[402653184]-[100663296]"
          ],
          [
           "netcdf4-[402653184]-[100663296]"
          ],
          [
           "netcdf4-[402653184]-[100663296]"
          ],
          [
           "netcdf4-[402653184]-[100663296]"
          ],
          [
           "hdf5-[402653184]-[100663296]"
          ],
          [
           "hdf5-[402653184]-[100663296]"
          ],
          [
           "hdf5-[402653184]-[100663296]"
          ],
          [
           "hdf5-[402653184]-[100663296]"
          ],
          [
           "hdf5-[402653184]-[100663296]"
          ],
          [
           "hdf5-[402653184]-[100663296]"
          ],
          [
           "hdf5-[402653184]-[100663296]"
          ],
          [
           "hdf5-[402653184]-[100663296]"
          ],
          [
           "hdf5-[402653184]-[100663296]"
          ],
          [
           "hdf5-[402653184]-[100663296]"
          ]
         ],
         "hovertemplate": "run=0<br>engine=%{x}<br>time taken=%{y}<br>format=%{customdata[0]}<extra></extra>",
         "legendgroup": "0",
         "marker": {
          "color": "#636efa"
         },
         "name": "0",
         "notched": false,
         "offsetgroup": "0",
         "orientation": "v",
         "showlegend": true,
         "type": "box",
         "x": [
          "zarr",
          "zarr",
          "zarr",
          "zarr",
          "zarr",
          "zarr",
          "zarr",
          "zarr",
          "zarr",
          "zarr",
          "netcdf4",
          "netcdf4",
          "netcdf4",
          "netcdf4",
          "netcdf4",
          "netcdf4",
          "netcdf4",
          "netcdf4",
          "netcdf4",
          "netcdf4",
          "hdf5",
          "hdf5",
          "hdf5",
          "hdf5",
          "hdf5",
          "hdf5",
          "hdf5",
          "hdf5",
          "hdf5",
          "hdf5"
         ],
         "x0": " ",
         "xaxis": "x",
         "y": [
          1.2852244910000001,
          1.155481269,
          1.082253293,
          1.065130341,
          1.070564896,
          1.050202458,
          1.031522033,
          1.036140391,
          1.036209637,
          1.054851165,
          0.649276293,
          0.441432941,
          0.42523892100000005,
          0.445717951,
          0.415224882,
          0.417682308,
          0.415214996,
          0.41334700500000005,
          0.43637342,
          0.41387438,
          0.8371092330000001,
          0.283662049,
          0.268439158,
          0.292104549,
          0.265552881,
          0.271759662,
          0.269804066,
          0.26867992500000004,
          0.26608679700000004,
          0.264176113
         ],
         "y0": " ",
         "yaxis": "y"
        },
        {
         "alignmentgroup": "True",
         "customdata": [
          [
           "zarr-[402653184]-[201326592]"
          ],
          [
           "zarr-[402653184]-[201326592]"
          ],
          [
           "zarr-[402653184]-[201326592]"
          ],
          [
           "zarr-[402653184]-[201326592]"
          ],
          [
           "zarr-[402653184]-[201326592]"
          ],
          [
           "zarr-[402653184]-[201326592]"
          ],
          [
           "zarr-[402653184]-[201326592]"
          ],
          [
           "zarr-[402653184]-[201326592]"
          ],
          [
           "zarr-[402653184]-[201326592]"
          ],
          [
           "zarr-[402653184]-[201326592]"
          ],
          [
           "netcdf4-[402653184]-[201326592]"
          ],
          [
           "netcdf4-[402653184]-[201326592]"
          ],
          [
           "netcdf4-[402653184]-[201326592]"
          ],
          [
           "netcdf4-[402653184]-[201326592]"
          ],
          [
           "netcdf4-[402653184]-[201326592]"
          ],
          [
           "netcdf4-[402653184]-[201326592]"
          ],
          [
           "netcdf4-[402653184]-[201326592]"
          ],
          [
           "netcdf4-[402653184]-[201326592]"
          ],
          [
           "netcdf4-[402653184]-[201326592]"
          ],
          [
           "netcdf4-[402653184]-[201326592]"
          ],
          [
           "hdf5-[402653184]-[201326592]"
          ],
          [
           "hdf5-[402653184]-[201326592]"
          ],
          [
           "hdf5-[402653184]-[201326592]"
          ],
          [
           "hdf5-[402653184]-[201326592]"
          ],
          [
           "hdf5-[402653184]-[201326592]"
          ],
          [
           "hdf5-[402653184]-[201326592]"
          ],
          [
           "hdf5-[402653184]-[201326592]"
          ],
          [
           "hdf5-[402653184]-[201326592]"
          ],
          [
           "hdf5-[402653184]-[201326592]"
          ],
          [
           "hdf5-[402653184]-[201326592]"
          ]
         ],
         "hovertemplate": "run=1<br>engine=%{x}<br>time taken=%{y}<br>format=%{customdata[0]}<extra></extra>",
         "legendgroup": "1",
         "marker": {
          "color": "#EF553B"
         },
         "name": "1",
         "notched": false,
         "offsetgroup": "1",
         "orientation": "v",
         "showlegend": true,
         "type": "box",
         "x": [
          "zarr",
          "zarr",
          "zarr",
          "zarr",
          "zarr",
          "zarr",
          "zarr",
          "zarr",
          "zarr",
          "zarr",
          "netcdf4",
          "netcdf4",
          "netcdf4",
          "netcdf4",
          "netcdf4",
          "netcdf4",
          "netcdf4",
          "netcdf4",
          "netcdf4",
          "netcdf4",
          "hdf5",
          "hdf5",
          "hdf5",
          "hdf5",
          "hdf5",
          "hdf5",
          "hdf5",
          "hdf5",
          "hdf5",
          "hdf5"
         ],
         "x0": " ",
         "xaxis": "x",
         "y": [
          3.366545555,
          1.565833124,
          1.480275676,
          1.405102228,
          1.393267593,
          1.42936766,
          1.3739449160000001,
          1.355726818,
          1.384567536,
          1.3487672160000002,
          1.030952195,
          0.39133243100000004,
          0.413390519,
          0.42741585200000004,
          0.37988759800000005,
          0.382974085,
          0.380732436,
          0.380585616,
          0.41738392900000004,
          0.38185176200000004,
          0.9606201150000001,
          0.33341917800000004,
          0.314152812,
          0.283283783,
          0.282030911,
          0.28225097,
          0.304240881,
          0.29831718100000004,
          0.282815376,
          0.30770772500000004
         ],
         "y0": " ",
         "yaxis": "y"
        },
        {
         "alignmentgroup": "True",
         "customdata": [
          [
           "zarr-[402653184]-[402653184]"
          ],
          [
           "zarr-[402653184]-[402653184]"
          ],
          [
           "zarr-[402653184]-[402653184]"
          ],
          [
           "zarr-[402653184]-[402653184]"
          ],
          [
           "zarr-[402653184]-[402653184]"
          ],
          [
           "zarr-[402653184]-[402653184]"
          ],
          [
           "zarr-[402653184]-[402653184]"
          ],
          [
           "zarr-[402653184]-[402653184]"
          ],
          [
           "zarr-[402653184]-[402653184]"
          ],
          [
           "zarr-[402653184]-[402653184]"
          ],
          [
           "netcdf4-[402653184]-[402653184]"
          ],
          [
           "netcdf4-[402653184]-[402653184]"
          ],
          [
           "netcdf4-[402653184]-[402653184]"
          ],
          [
           "netcdf4-[402653184]-[402653184]"
          ],
          [
           "netcdf4-[402653184]-[402653184]"
          ],
          [
           "netcdf4-[402653184]-[402653184]"
          ],
          [
           "netcdf4-[402653184]-[402653184]"
          ],
          [
           "netcdf4-[402653184]-[402653184]"
          ],
          [
           "netcdf4-[402653184]-[402653184]"
          ],
          [
           "netcdf4-[402653184]-[402653184]"
          ],
          [
           "hdf5-[402653184]-[402653184]"
          ],
          [
           "hdf5-[402653184]-[402653184]"
          ],
          [
           "hdf5-[402653184]-[402653184]"
          ],
          [
           "hdf5-[402653184]-[402653184]"
          ],
          [
           "hdf5-[402653184]-[402653184]"
          ],
          [
           "hdf5-[402653184]-[402653184]"
          ],
          [
           "hdf5-[402653184]-[402653184]"
          ],
          [
           "hdf5-[402653184]-[402653184]"
          ],
          [
           "hdf5-[402653184]-[402653184]"
          ],
          [
           "hdf5-[402653184]-[402653184]"
          ]
         ],
         "hovertemplate": "run=2<br>engine=%{x}<br>time taken=%{y}<br>format=%{customdata[0]}<extra></extra>",
         "legendgroup": "2",
         "marker": {
          "color": "#00cc96"
         },
         "name": "2",
         "notched": false,
         "offsetgroup": "2",
         "orientation": "v",
         "showlegend": true,
         "type": "box",
         "x": [
          "zarr",
          "zarr",
          "zarr",
          "zarr",
          "zarr",
          "zarr",
          "zarr",
          "zarr",
          "zarr",
          "zarr",
          "netcdf4",
          "netcdf4",
          "netcdf4",
          "netcdf4",
          "netcdf4",
          "netcdf4",
          "netcdf4",
          "netcdf4",
          "netcdf4",
          "netcdf4",
          "hdf5",
          "hdf5",
          "hdf5",
          "hdf5",
          "hdf5",
          "hdf5",
          "hdf5",
          "hdf5",
          "hdf5",
          "hdf5"
         ],
         "x0": " ",
         "xaxis": "x",
         "y": [
          4.313937682,
          2.6488542930000003,
          2.411989228,
          2.268892381,
          2.375150635,
          2.266676084,
          2.286144031,
          2.287039485,
          2.2651129770000002,
          2.267031874,
          0.9880287390000001,
          0.413694704,
          0.378069778,
          0.399690113,
          0.412784976,
          0.411655932,
          0.405310781,
          0.40487775000000004,
          0.45106858200000005,
          0.41147810300000004,
          1.009676033,
          0.370412734,
          0.305443503,
          0.296670105,
          0.299697999,
          0.29419415,
          0.292740648,
          0.31586104600000003,
          0.35793729,
          0.316409753
         ],
         "y0": " ",
         "yaxis": "y"
        },
        {
         "alignmentgroup": "True",
         "customdata": [
          [
           "hdf5-c-402653184-402653184"
          ],
          [
           "hdf5-c-402653184-402653184"
          ],
          [
           "hdf5-c-402653184-402653184"
          ],
          [
           "hdf5-c-402653184-402653184"
          ],
          [
           "hdf5-c-402653184-402653184"
          ],
          [
           "hdf5-c-402653184-402653184"
          ],
          [
           "hdf5-c-402653184-402653184"
          ],
          [
           "hdf5-c-402653184-402653184"
          ],
          [
           "hdf5-c-402653184-402653184"
          ],
          [
           "hdf5-c-402653184-402653184"
          ],
          [
           "hdf5-subfiling-134217728-134217728"
          ],
          [
           "hdf5-subfiling-134217728-134217728"
          ],
          [
           "hdf5-subfiling-134217728-134217728"
          ],
          [
           "hdf5-subfiling-134217728-134217728"
          ],
          [
           "hdf5-subfiling-134217728-134217728"
          ],
          [
           "hdf5-subfiling-134217728-134217728"
          ],
          [
           "hdf5-subfiling-134217728-134217728"
          ],
          [
           "hdf5-subfiling-134217728-134217728"
          ],
          [
           "hdf5-subfiling-134217728-134217728"
          ],
          [
           "hdf5-subfiling-134217728-134217728"
          ],
          [
           "hdf5-async-134217728-134217728"
          ],
          [
           "hdf5-async-134217728-134217728"
          ],
          [
           "hdf5-async-134217728-134217728"
          ],
          [
           "hdf5-async-134217728-134217728"
          ],
          [
           "hdf5-async-134217728-134217728"
          ],
          [
           "hdf5-async-134217728-134217728"
          ],
          [
           "hdf5-async-134217728-134217728"
          ],
          [
           "hdf5-async-134217728-134217728"
          ],
          [
           "hdf5-async-134217728-134217728"
          ],
          [
           "hdf5-async-134217728-134217728"
          ],
          [
           "netcdf4-c-134217728-134217728"
          ],
          [
           "netcdf4-c-134217728-134217728"
          ],
          [
           "netcdf4-c-134217728-134217728"
          ],
          [
           "netcdf4-c-134217728-134217728"
          ],
          [
           "netcdf4-c-134217728-134217728"
          ],
          [
           "netcdf4-c-134217728-134217728"
          ],
          [
           "netcdf4-c-134217728-134217728"
          ],
          [
           "netcdf4-c-134217728-134217728"
          ],
          [
           "netcdf4-c-134217728-134217728"
          ],
          [
           "netcdf4-c-134217728-134217728"
          ],
          [
           "netcdf4-c-134217728-134217728"
          ],
          [
           "netcdf4-c-134217728-134217728"
          ],
          [
           "netcdf4-c-134217728-134217728"
          ],
          [
           "netcdf4-c-134217728-134217728"
          ],
          [
           "netcdf4-c-134217728-134217728"
          ],
          [
           "netcdf4-c-134217728-134217728"
          ],
          [
           "netcdf4-c-134217728-134217728"
          ],
          [
           "netcdf4-c-134217728-134217728"
          ],
          [
           "netcdf4-c-134217728-134217728"
          ],
          [
           "netcdf4-c-134217728-134217728"
          ],
          [
           "netcdf4-c-134217728-134217728"
          ],
          [
           "netcdf4-c-134217728-134217728"
          ],
          [
           "netcdf4-c-134217728-134217728"
          ],
          [
           "netcdf4-c-134217728-134217728"
          ],
          [
           "netcdf4-c-134217728-134217728"
          ],
          [
           "netcdf4-c-134217728-134217728"
          ],
          [
           "netcdf4-c-134217728-134217728"
          ],
          [
           "netcdf4-c-134217728-134217728"
          ],
          [
           "netcdf4-c-134217728-134217728"
          ],
          [
           "netcdf4-c-134217728-134217728"
          ],
          [
           "netcdf4-c-134217728-134217728"
          ],
          [
           "netcdf4-c-134217728-134217728"
          ],
          [
           "netcdf4-c-134217728-134217728"
          ],
          [
           "netcdf4-c-134217728-134217728"
          ],
          [
           "netcdf4-c-134217728-134217728"
          ],
          [
           "netcdf4-c-134217728-134217728"
          ],
          [
           "netcdf4-c-134217728-134217728"
          ],
          [
           "netcdf4-c-134217728-134217728"
          ],
          [
           "netcdf4-c-134217728-134217728"
          ],
          [
           "netcdf4-c-134217728-134217728"
          ],
          [
           "netcdf4-c-134217728-134217728"
          ],
          [
           "netcdf4-c-134217728-134217728"
          ],
          [
           "netcdf4-c-134217728-134217728"
          ],
          [
           "netcdf4-c-134217728-134217728"
          ],
          [
           "netcdf4-c-134217728-134217728"
          ],
          [
           "netcdf4-c-134217728-134217728"
          ],
          [
           "netcdf4-c-134217728-134217728"
          ],
          [
           "netcdf4-c-134217728-134217728"
          ],
          [
           "netcdf4-c-134217728-134217728"
          ],
          [
           "netcdf4-c-134217728-134217728"
          ],
          [
           "netcdf4-c-134217728-134217728"
          ],
          [
           "netcdf4-c-134217728-134217728"
          ],
          [
           "netcdf4-c-134217728-134217728"
          ],
          [
           "netcdf4-c-134217728-134217728"
          ],
          [
           "netcdf4-c-134217728-134217728"
          ],
          [
           "netcdf4-c-134217728-134217728"
          ],
          [
           "netcdf4-c-134217728-134217728"
          ],
          [
           "netcdf4-c-134217728-134217728"
          ],
          [
           "netcdf4-c-134217728-134217728"
          ],
          [
           "netcdf4-c-134217728-134217728"
          ],
          [
           "netcdf4-c-134217728-134217728"
          ],
          [
           "netcdf4-c-134217728-134217728"
          ],
          [
           "netcdf4-c-134217728-134217728"
          ],
          [
           "netcdf4-c-134217728-134217728"
          ],
          [
           "netcdf4-c-134217728-134217728"
          ],
          [
           "netcdf4-c-134217728-134217728"
          ],
          [
           "netcdf4-c-134217728-134217728"
          ],
          [
           "netcdf4-c-134217728-134217728"
          ],
          [
           "netcdf4-c-134217728-134217728"
          ],
          [
           "netcdf4-c-134217728-134217728"
          ],
          [
           "netcdf4-c-134217728-134217728"
          ],
          [
           "netcdf4-c-134217728-134217728"
          ],
          [
           "netcdf4-c-134217728-134217728"
          ],
          [
           "netcdf4-c-134217728-134217728"
          ],
          [
           "netcdf4-c-134217728-134217728"
          ],
          [
           "netcdf4-c-134217728-134217728"
          ],
          [
           "netcdf4-c-134217728-134217728"
          ],
          [
           "netcdf4-c-134217728-134217728"
          ],
          [
           "netcdf4-c-134217728-134217728"
          ],
          [
           "netcdf4-c-134217728-134217728"
          ],
          [
           "netcdf4-c-134217728-134217728"
          ],
          [
           "netcdf4-c-134217728-134217728"
          ],
          [
           "netcdf4-c-134217728-134217728"
          ],
          [
           "netcdf4-c-134217728-134217728"
          ],
          [
           "netcdf4-c-134217728-134217728"
          ],
          [
           "netcdf4-c-134217728-134217728"
          ],
          [
           "netcdf4-c-134217728-134217728"
          ],
          [
           "netcdf4-c-134217728-134217728"
          ],
          [
           "netcdf4-c-134217728-134217728"
          ],
          [
           "netcdf4-c-134217728-134217728"
          ],
          [
           "netcdf4-c-134217728-134217728"
          ],
          [
           "netcdf4-c-134217728-134217728"
          ],
          [
           "netcdf4-c-134217728-134217728"
          ],
          [
           "netcdf4-c-134217728-134217728"
          ],
          [
           "netcdf4-c-134217728-134217728"
          ],
          [
           "netcdf4-c-134217728-134217728"
          ],
          [
           "netcdf4-c-134217728-134217728"
          ],
          [
           "netcdf4-c-134217728-134217728"
          ],
          [
           "netcdf4-c-134217728-134217728"
          ],
          [
           "netcdf4-c-134217728-134217728"
          ]
         ],
         "hovertemplate": "run=7<br>engine=%{x}<br>time taken=%{y}<br>format=%{customdata[0]}<extra></extra>",
         "legendgroup": "7",
         "marker": {
          "color": "#ab63fa"
         },
         "name": "7",
         "notched": false,
         "offsetgroup": "7",
         "orientation": "v",
         "showlegend": true,
         "type": "box",
         "x": [
          "hdf5-c",
          "hdf5-c",
          "hdf5-c",
          "hdf5-c",
          "hdf5-c",
          "hdf5-c",
          "hdf5-c",
          "hdf5-c",
          "hdf5-c",
          "hdf5-c",
          "hdf5-subfiling",
          "hdf5-subfiling",
          "hdf5-subfiling",
          "hdf5-subfiling",
          "hdf5-subfiling",
          "hdf5-subfiling",
          "hdf5-subfiling",
          "hdf5-subfiling",
          "hdf5-subfiling",
          "hdf5-subfiling",
          "hdf5-async",
          "hdf5-async",
          "hdf5-async",
          "hdf5-async",
          "hdf5-async",
          "hdf5-async",
          "hdf5-async",
          "hdf5-async",
          "hdf5-async",
          "hdf5-async",
          "netcdf4-c",
          "netcdf4-c",
          "netcdf4-c",
          "netcdf4-c",
          "netcdf4-c",
          "netcdf4-c",
          "netcdf4-c",
          "netcdf4-c",
          "netcdf4-c",
          "netcdf4-c",
          "netcdf4-c",
          "netcdf4-c",
          "netcdf4-c",
          "netcdf4-c",
          "netcdf4-c",
          "netcdf4-c",
          "netcdf4-c",
          "netcdf4-c",
          "netcdf4-c",
          "netcdf4-c",
          "netcdf4-c",
          "netcdf4-c",
          "netcdf4-c",
          "netcdf4-c",
          "netcdf4-c",
          "netcdf4-c",
          "netcdf4-c",
          "netcdf4-c",
          "netcdf4-c",
          "netcdf4-c",
          "netcdf4-c",
          "netcdf4-c",
          "netcdf4-c",
          "netcdf4-c",
          "netcdf4-c",
          "netcdf4-c",
          "netcdf4-c",
          "netcdf4-c",
          "netcdf4-c",
          "netcdf4-c",
          "netcdf4-c",
          "netcdf4-c",
          "netcdf4-c",
          "netcdf4-c",
          "netcdf4-c",
          "netcdf4-c",
          "netcdf4-c",
          "netcdf4-c",
          "netcdf4-c",
          "netcdf4-c",
          "netcdf4-c",
          "netcdf4-c",
          "netcdf4-c",
          "netcdf4-c",
          "netcdf4-c",
          "netcdf4-c",
          "netcdf4-c",
          "netcdf4-c",
          "netcdf4-c",
          "netcdf4-c",
          "netcdf4-c",
          "netcdf4-c",
          "netcdf4-c",
          "netcdf4-c",
          "netcdf4-c",
          "netcdf4-c",
          "netcdf4-c",
          "netcdf4-c",
          "netcdf4-c",
          "netcdf4-c",
          "netcdf4-c",
          "netcdf4-c",
          "netcdf4-c",
          "netcdf4-c",
          "netcdf4-c",
          "netcdf4-c",
          "netcdf4-c",
          "netcdf4-c",
          "netcdf4-c",
          "netcdf4-c",
          "netcdf4-c",
          "netcdf4-c",
          "netcdf4-c",
          "netcdf4-c",
          "netcdf4-c",
          "netcdf4-c",
          "netcdf4-c",
          "netcdf4-c",
          "netcdf4-c",
          "netcdf4-c",
          "netcdf4-c",
          "netcdf4-c",
          "netcdf4-c",
          "netcdf4-c",
          "netcdf4-c",
          "netcdf4-c",
          "netcdf4-c",
          "netcdf4-c",
          "netcdf4-c",
          "netcdf4-c"
         ],
         "x0": " ",
         "xaxis": "x",
         "y": [
          0.40457299999999996,
          0.47253199999999995,
          0.40116799999999997,
          0.401652,
          0.417379,
          0.375791,
          0.375793,
          0.38658499999999996,
          0.387801,
          0.385051,
          0.24542000000000003,
          0.35334699999999997,
          0.266121,
          0.23990399999999998,
          0.23974099999999998,
          0.241447,
          0.240508,
          0.240274,
          0.24043499999999998,
          0.238611,
          0.488818,
          0.15956199999999998,
          0.130557,
          0.128801,
          0.147416,
          0.134387,
          0.135026,
          0.130529,
          0.17788,
          0.142269,
          0.602101,
          0.261602,
          0.165743,
          0.160828,
          0.160964,
          0.162638,
          0.166608,
          0.16283,
          0.161029,
          0.162787,
          0.16119,
          0.165231,
          0.162049,
          0.228676,
          0.15734299999999998,
          0.156792,
          0.157254,
          0.174684,
          0.17216099999999998,
          0.17028000000000001,
          0.163677,
          0.164027,
          0.167008,
          0.16619799999999998,
          0.16371000000000002,
          0.249969,
          0.163681,
          0.194128,
          0.170982,
          0.167784,
          0.166202,
          0.158468,
          0.157573,
          0.157942,
          0.159853,
          0.163013,
          0.165434,
          0.250596,
          0.165705,
          0.165467,
          0.16472699999999998,
          0.16599000000000003,
          0.16185000000000002,
          0.161995,
          0.161858,
          0.161,
          0.161017,
          0.161511,
          0.16245199999999999,
          0.253677,
          0.16170099999999998,
          0.16125899999999999,
          0.161732,
          0.16175,
          0.162327,
          0.16173099999999999,
          0.161686,
          0.163355,
          0.166156,
          0.187822,
          0.17108099999999998,
          0.213359,
          0.279502,
          0.210704,
          0.23077199999999998,
          0.172618,
          0.168672,
          0.165784,
          0.16625,
          0.168162,
          0.164674,
          0.163358,
          0.164461,
          0.263136,
          0.168314,
          0.168706,
          0.166732,
          0.162468,
          0.163489,
          0.16236299999999998,
          0.160739,
          0.16452799999999998,
          0.161527,
          0.161993,
          0.163982,
          0.252378,
          0.16166000000000003,
          0.161906,
          0.164388,
          0.17304799999999998,
          0.16678199999999999,
          0.165329,
          0.16675,
          0.163158,
          0.161529,
          0.16248,
          0.173807,
          0.281233,
          0.186132,
          0.226984
         ],
         "y0": " ",
         "yaxis": "y"
        }
       ],
       "layout": {
        "boxmode": "group",
        "legend": {
         "title": {
          "text": "run"
         },
         "tracegroupgap": 0
        },
        "margin": {
         "t": 60
        },
        "template": {
         "data": {
          "bar": [
           {
            "error_x": {
             "color": "#2a3f5f"
            },
            "error_y": {
             "color": "#2a3f5f"
            },
            "marker": {
             "line": {
              "color": "#E5ECF6",
              "width": 0.5
             },
             "pattern": {
              "fillmode": "overlay",
              "size": 10,
              "solidity": 0.2
             }
            },
            "type": "bar"
           }
          ],
          "barpolar": [
           {
            "marker": {
             "line": {
              "color": "#E5ECF6",
              "width": 0.5
             },
             "pattern": {
              "fillmode": "overlay",
              "size": 10,
              "solidity": 0.2
             }
            },
            "type": "barpolar"
           }
          ],
          "carpet": [
           {
            "aaxis": {
             "endlinecolor": "#2a3f5f",
             "gridcolor": "white",
             "linecolor": "white",
             "minorgridcolor": "white",
             "startlinecolor": "#2a3f5f"
            },
            "baxis": {
             "endlinecolor": "#2a3f5f",
             "gridcolor": "white",
             "linecolor": "white",
             "minorgridcolor": "white",
             "startlinecolor": "#2a3f5f"
            },
            "type": "carpet"
           }
          ],
          "choropleth": [
           {
            "colorbar": {
             "outlinewidth": 0,
             "ticks": ""
            },
            "type": "choropleth"
           }
          ],
          "contour": [
           {
            "colorbar": {
             "outlinewidth": 0,
             "ticks": ""
            },
            "colorscale": [
             [
              0,
              "#0d0887"
             ],
             [
              0.1111111111111111,
              "#46039f"
             ],
             [
              0.2222222222222222,
              "#7201a8"
             ],
             [
              0.3333333333333333,
              "#9c179e"
             ],
             [
              0.4444444444444444,
              "#bd3786"
             ],
             [
              0.5555555555555556,
              "#d8576b"
             ],
             [
              0.6666666666666666,
              "#ed7953"
             ],
             [
              0.7777777777777778,
              "#fb9f3a"
             ],
             [
              0.8888888888888888,
              "#fdca26"
             ],
             [
              1,
              "#f0f921"
             ]
            ],
            "type": "contour"
           }
          ],
          "contourcarpet": [
           {
            "colorbar": {
             "outlinewidth": 0,
             "ticks": ""
            },
            "type": "contourcarpet"
           }
          ],
          "heatmap": [
           {
            "colorbar": {
             "outlinewidth": 0,
             "ticks": ""
            },
            "colorscale": [
             [
              0,
              "#0d0887"
             ],
             [
              0.1111111111111111,
              "#46039f"
             ],
             [
              0.2222222222222222,
              "#7201a8"
             ],
             [
              0.3333333333333333,
              "#9c179e"
             ],
             [
              0.4444444444444444,
              "#bd3786"
             ],
             [
              0.5555555555555556,
              "#d8576b"
             ],
             [
              0.6666666666666666,
              "#ed7953"
             ],
             [
              0.7777777777777778,
              "#fb9f3a"
             ],
             [
              0.8888888888888888,
              "#fdca26"
             ],
             [
              1,
              "#f0f921"
             ]
            ],
            "type": "heatmap"
           }
          ],
          "heatmapgl": [
           {
            "colorbar": {
             "outlinewidth": 0,
             "ticks": ""
            },
            "colorscale": [
             [
              0,
              "#0d0887"
             ],
             [
              0.1111111111111111,
              "#46039f"
             ],
             [
              0.2222222222222222,
              "#7201a8"
             ],
             [
              0.3333333333333333,
              "#9c179e"
             ],
             [
              0.4444444444444444,
              "#bd3786"
             ],
             [
              0.5555555555555556,
              "#d8576b"
             ],
             [
              0.6666666666666666,
              "#ed7953"
             ],
             [
              0.7777777777777778,
              "#fb9f3a"
             ],
             [
              0.8888888888888888,
              "#fdca26"
             ],
             [
              1,
              "#f0f921"
             ]
            ],
            "type": "heatmapgl"
           }
          ],
          "histogram": [
           {
            "marker": {
             "pattern": {
              "fillmode": "overlay",
              "size": 10,
              "solidity": 0.2
             }
            },
            "type": "histogram"
           }
          ],
          "histogram2d": [
           {
            "colorbar": {
             "outlinewidth": 0,
             "ticks": ""
            },
            "colorscale": [
             [
              0,
              "#0d0887"
             ],
             [
              0.1111111111111111,
              "#46039f"
             ],
             [
              0.2222222222222222,
              "#7201a8"
             ],
             [
              0.3333333333333333,
              "#9c179e"
             ],
             [
              0.4444444444444444,
              "#bd3786"
             ],
             [
              0.5555555555555556,
              "#d8576b"
             ],
             [
              0.6666666666666666,
              "#ed7953"
             ],
             [
              0.7777777777777778,
              "#fb9f3a"
             ],
             [
              0.8888888888888888,
              "#fdca26"
             ],
             [
              1,
              "#f0f921"
             ]
            ],
            "type": "histogram2d"
           }
          ],
          "histogram2dcontour": [
           {
            "colorbar": {
             "outlinewidth": 0,
             "ticks": ""
            },
            "colorscale": [
             [
              0,
              "#0d0887"
             ],
             [
              0.1111111111111111,
              "#46039f"
             ],
             [
              0.2222222222222222,
              "#7201a8"
             ],
             [
              0.3333333333333333,
              "#9c179e"
             ],
             [
              0.4444444444444444,
              "#bd3786"
             ],
             [
              0.5555555555555556,
              "#d8576b"
             ],
             [
              0.6666666666666666,
              "#ed7953"
             ],
             [
              0.7777777777777778,
              "#fb9f3a"
             ],
             [
              0.8888888888888888,
              "#fdca26"
             ],
             [
              1,
              "#f0f921"
             ]
            ],
            "type": "histogram2dcontour"
           }
          ],
          "mesh3d": [
           {
            "colorbar": {
             "outlinewidth": 0,
             "ticks": ""
            },
            "type": "mesh3d"
           }
          ],
          "parcoords": [
           {
            "line": {
             "colorbar": {
              "outlinewidth": 0,
              "ticks": ""
             }
            },
            "type": "parcoords"
           }
          ],
          "pie": [
           {
            "automargin": true,
            "type": "pie"
           }
          ],
          "scatter": [
           {
            "fillpattern": {
             "fillmode": "overlay",
             "size": 10,
             "solidity": 0.2
            },
            "type": "scatter"
           }
          ],
          "scatter3d": [
           {
            "line": {
             "colorbar": {
              "outlinewidth": 0,
              "ticks": ""
             }
            },
            "marker": {
             "colorbar": {
              "outlinewidth": 0,
              "ticks": ""
             }
            },
            "type": "scatter3d"
           }
          ],
          "scattercarpet": [
           {
            "marker": {
             "colorbar": {
              "outlinewidth": 0,
              "ticks": ""
             }
            },
            "type": "scattercarpet"
           }
          ],
          "scattergeo": [
           {
            "marker": {
             "colorbar": {
              "outlinewidth": 0,
              "ticks": ""
             }
            },
            "type": "scattergeo"
           }
          ],
          "scattergl": [
           {
            "marker": {
             "colorbar": {
              "outlinewidth": 0,
              "ticks": ""
             }
            },
            "type": "scattergl"
           }
          ],
          "scattermapbox": [
           {
            "marker": {
             "colorbar": {
              "outlinewidth": 0,
              "ticks": ""
             }
            },
            "type": "scattermapbox"
           }
          ],
          "scatterpolar": [
           {
            "marker": {
             "colorbar": {
              "outlinewidth": 0,
              "ticks": ""
             }
            },
            "type": "scatterpolar"
           }
          ],
          "scatterpolargl": [
           {
            "marker": {
             "colorbar": {
              "outlinewidth": 0,
              "ticks": ""
             }
            },
            "type": "scatterpolargl"
           }
          ],
          "scatterternary": [
           {
            "marker": {
             "colorbar": {
              "outlinewidth": 0,
              "ticks": ""
             }
            },
            "type": "scatterternary"
           }
          ],
          "surface": [
           {
            "colorbar": {
             "outlinewidth": 0,
             "ticks": ""
            },
            "colorscale": [
             [
              0,
              "#0d0887"
             ],
             [
              0.1111111111111111,
              "#46039f"
             ],
             [
              0.2222222222222222,
              "#7201a8"
             ],
             [
              0.3333333333333333,
              "#9c179e"
             ],
             [
              0.4444444444444444,
              "#bd3786"
             ],
             [
              0.5555555555555556,
              "#d8576b"
             ],
             [
              0.6666666666666666,
              "#ed7953"
             ],
             [
              0.7777777777777778,
              "#fb9f3a"
             ],
             [
              0.8888888888888888,
              "#fdca26"
             ],
             [
              1,
              "#f0f921"
             ]
            ],
            "type": "surface"
           }
          ],
          "table": [
           {
            "cells": {
             "fill": {
              "color": "#EBF0F8"
             },
             "line": {
              "color": "white"
             }
            },
            "header": {
             "fill": {
              "color": "#C8D4E3"
             },
             "line": {
              "color": "white"
             }
            },
            "type": "table"
           }
          ]
         },
         "layout": {
          "annotationdefaults": {
           "arrowcolor": "#2a3f5f",
           "arrowhead": 0,
           "arrowwidth": 1
          },
          "autotypenumbers": "strict",
          "coloraxis": {
           "colorbar": {
            "outlinewidth": 0,
            "ticks": ""
           }
          },
          "colorscale": {
           "diverging": [
            [
             0,
             "#8e0152"
            ],
            [
             0.1,
             "#c51b7d"
            ],
            [
             0.2,
             "#de77ae"
            ],
            [
             0.3,
             "#f1b6da"
            ],
            [
             0.4,
             "#fde0ef"
            ],
            [
             0.5,
             "#f7f7f7"
            ],
            [
             0.6,
             "#e6f5d0"
            ],
            [
             0.7,
             "#b8e186"
            ],
            [
             0.8,
             "#7fbc41"
            ],
            [
             0.9,
             "#4d9221"
            ],
            [
             1,
             "#276419"
            ]
           ],
           "sequential": [
            [
             0,
             "#0d0887"
            ],
            [
             0.1111111111111111,
             "#46039f"
            ],
            [
             0.2222222222222222,
             "#7201a8"
            ],
            [
             0.3333333333333333,
             "#9c179e"
            ],
            [
             0.4444444444444444,
             "#bd3786"
            ],
            [
             0.5555555555555556,
             "#d8576b"
            ],
            [
             0.6666666666666666,
             "#ed7953"
            ],
            [
             0.7777777777777778,
             "#fb9f3a"
            ],
            [
             0.8888888888888888,
             "#fdca26"
            ],
            [
             1,
             "#f0f921"
            ]
           ],
           "sequentialminus": [
            [
             0,
             "#0d0887"
            ],
            [
             0.1111111111111111,
             "#46039f"
            ],
            [
             0.2222222222222222,
             "#7201a8"
            ],
            [
             0.3333333333333333,
             "#9c179e"
            ],
            [
             0.4444444444444444,
             "#bd3786"
            ],
            [
             0.5555555555555556,
             "#d8576b"
            ],
            [
             0.6666666666666666,
             "#ed7953"
            ],
            [
             0.7777777777777778,
             "#fb9f3a"
            ],
            [
             0.8888888888888888,
             "#fdca26"
            ],
            [
             1,
             "#f0f921"
            ]
           ]
          },
          "colorway": [
           "#636efa",
           "#EF553B",
           "#00cc96",
           "#ab63fa",
           "#FFA15A",
           "#19d3f3",
           "#FF6692",
           "#B6E880",
           "#FF97FF",
           "#FECB52"
          ],
          "font": {
           "color": "#2a3f5f"
          },
          "geo": {
           "bgcolor": "white",
           "lakecolor": "white",
           "landcolor": "#E5ECF6",
           "showlakes": true,
           "showland": true,
           "subunitcolor": "white"
          },
          "hoverlabel": {
           "align": "left"
          },
          "hovermode": "closest",
          "mapbox": {
           "style": "light"
          },
          "paper_bgcolor": "white",
          "plot_bgcolor": "#E5ECF6",
          "polar": {
           "angularaxis": {
            "gridcolor": "white",
            "linecolor": "white",
            "ticks": ""
           },
           "bgcolor": "#E5ECF6",
           "radialaxis": {
            "gridcolor": "white",
            "linecolor": "white",
            "ticks": ""
           }
          },
          "scene": {
           "xaxis": {
            "backgroundcolor": "#E5ECF6",
            "gridcolor": "white",
            "gridwidth": 2,
            "linecolor": "white",
            "showbackground": true,
            "ticks": "",
            "zerolinecolor": "white"
           },
           "yaxis": {
            "backgroundcolor": "#E5ECF6",
            "gridcolor": "white",
            "gridwidth": 2,
            "linecolor": "white",
            "showbackground": true,
            "ticks": "",
            "zerolinecolor": "white"
           },
           "zaxis": {
            "backgroundcolor": "#E5ECF6",
            "gridcolor": "white",
            "gridwidth": 2,
            "linecolor": "white",
            "showbackground": true,
            "ticks": "",
            "zerolinecolor": "white"
           }
          },
          "shapedefaults": {
           "line": {
            "color": "#2a3f5f"
           }
          },
          "ternary": {
           "aaxis": {
            "gridcolor": "white",
            "linecolor": "white",
            "ticks": ""
           },
           "baxis": {
            "gridcolor": "white",
            "linecolor": "white",
            "ticks": ""
           },
           "bgcolor": "#E5ECF6",
           "caxis": {
            "gridcolor": "white",
            "linecolor": "white",
            "ticks": ""
           }
          },
          "title": {
           "x": 0.05
          },
          "xaxis": {
           "automargin": true,
           "gridcolor": "white",
           "linecolor": "white",
           "ticks": "",
           "title": {
            "standoff": 15
           },
           "zerolinecolor": "white",
           "zerolinewidth": 2
          },
          "yaxis": {
           "automargin": true,
           "gridcolor": "white",
           "linecolor": "white",
           "ticks": "",
           "title": {
            "standoff": 15
           },
           "zerolinecolor": "white",
           "zerolinewidth": 2
          }
         }
        },
        "xaxis": {
         "anchor": "y",
         "domain": [
          0,
          1
         ],
         "title": {
          "text": "engine"
         }
        },
        "yaxis": {
         "anchor": "x",
         "domain": [
          0,
          1
         ],
         "title": {
          "text": "time taken"
         },
         "type": "log"
        }
       }
      },
      "text/html": [
       "<div>                            <div id=\"4d29715c-ad04-4893-b017-feb2372d167a\" class=\"plotly-graph-div\" style=\"height:525px; width:100%;\"></div>            <script type=\"text/javascript\">                require([\"plotly\"], function(Plotly) {                    window.PLOTLYENV=window.PLOTLYENV || {};                                    if (document.getElementById(\"4d29715c-ad04-4893-b017-feb2372d167a\")) {                    Plotly.newPlot(                        \"4d29715c-ad04-4893-b017-feb2372d167a\",                        [{\"alignmentgroup\":\"True\",\"customdata\":[[\"zarr-[402653184]-[100663296]\"],[\"zarr-[402653184]-[100663296]\"],[\"zarr-[402653184]-[100663296]\"],[\"zarr-[402653184]-[100663296]\"],[\"zarr-[402653184]-[100663296]\"],[\"zarr-[402653184]-[100663296]\"],[\"zarr-[402653184]-[100663296]\"],[\"zarr-[402653184]-[100663296]\"],[\"zarr-[402653184]-[100663296]\"],[\"zarr-[402653184]-[100663296]\"],[\"netcdf4-[402653184]-[100663296]\"],[\"netcdf4-[402653184]-[100663296]\"],[\"netcdf4-[402653184]-[100663296]\"],[\"netcdf4-[402653184]-[100663296]\"],[\"netcdf4-[402653184]-[100663296]\"],[\"netcdf4-[402653184]-[100663296]\"],[\"netcdf4-[402653184]-[100663296]\"],[\"netcdf4-[402653184]-[100663296]\"],[\"netcdf4-[402653184]-[100663296]\"],[\"netcdf4-[402653184]-[100663296]\"],[\"hdf5-[402653184]-[100663296]\"],[\"hdf5-[402653184]-[100663296]\"],[\"hdf5-[402653184]-[100663296]\"],[\"hdf5-[402653184]-[100663296]\"],[\"hdf5-[402653184]-[100663296]\"],[\"hdf5-[402653184]-[100663296]\"],[\"hdf5-[402653184]-[100663296]\"],[\"hdf5-[402653184]-[100663296]\"],[\"hdf5-[402653184]-[100663296]\"],[\"hdf5-[402653184]-[100663296]\"]],\"hovertemplate\":\"run=0\\u003cbr\\u003eengine=%{x}\\u003cbr\\u003etime taken=%{y}\\u003cbr\\u003eformat=%{customdata[0]}\\u003cextra\\u003e\\u003c\\u002fextra\\u003e\",\"legendgroup\":\"0\",\"marker\":{\"color\":\"#636efa\"},\"name\":\"0\",\"notched\":false,\"offsetgroup\":\"0\",\"orientation\":\"v\",\"showlegend\":true,\"x\":[\"zarr\",\"zarr\",\"zarr\",\"zarr\",\"zarr\",\"zarr\",\"zarr\",\"zarr\",\"zarr\",\"zarr\",\"netcdf4\",\"netcdf4\",\"netcdf4\",\"netcdf4\",\"netcdf4\",\"netcdf4\",\"netcdf4\",\"netcdf4\",\"netcdf4\",\"netcdf4\",\"hdf5\",\"hdf5\",\"hdf5\",\"hdf5\",\"hdf5\",\"hdf5\",\"hdf5\",\"hdf5\",\"hdf5\",\"hdf5\"],\"x0\":\" \",\"xaxis\":\"x\",\"y\":[1.2852244910000001,1.155481269,1.082253293,1.065130341,1.070564896,1.050202458,1.031522033,1.036140391,1.036209637,1.054851165,0.649276293,0.441432941,0.42523892100000005,0.445717951,0.415224882,0.417682308,0.415214996,0.41334700500000005,0.43637342,0.41387438,0.8371092330000001,0.283662049,0.268439158,0.292104549,0.265552881,0.271759662,0.269804066,0.26867992500000004,0.26608679700000004,0.264176113],\"y0\":\" \",\"yaxis\":\"y\",\"type\":\"box\"},{\"alignmentgroup\":\"True\",\"customdata\":[[\"zarr-[402653184]-[201326592]\"],[\"zarr-[402653184]-[201326592]\"],[\"zarr-[402653184]-[201326592]\"],[\"zarr-[402653184]-[201326592]\"],[\"zarr-[402653184]-[201326592]\"],[\"zarr-[402653184]-[201326592]\"],[\"zarr-[402653184]-[201326592]\"],[\"zarr-[402653184]-[201326592]\"],[\"zarr-[402653184]-[201326592]\"],[\"zarr-[402653184]-[201326592]\"],[\"netcdf4-[402653184]-[201326592]\"],[\"netcdf4-[402653184]-[201326592]\"],[\"netcdf4-[402653184]-[201326592]\"],[\"netcdf4-[402653184]-[201326592]\"],[\"netcdf4-[402653184]-[201326592]\"],[\"netcdf4-[402653184]-[201326592]\"],[\"netcdf4-[402653184]-[201326592]\"],[\"netcdf4-[402653184]-[201326592]\"],[\"netcdf4-[402653184]-[201326592]\"],[\"netcdf4-[402653184]-[201326592]\"],[\"hdf5-[402653184]-[201326592]\"],[\"hdf5-[402653184]-[201326592]\"],[\"hdf5-[402653184]-[201326592]\"],[\"hdf5-[402653184]-[201326592]\"],[\"hdf5-[402653184]-[201326592]\"],[\"hdf5-[402653184]-[201326592]\"],[\"hdf5-[402653184]-[201326592]\"],[\"hdf5-[402653184]-[201326592]\"],[\"hdf5-[402653184]-[201326592]\"],[\"hdf5-[402653184]-[201326592]\"]],\"hovertemplate\":\"run=1\\u003cbr\\u003eengine=%{x}\\u003cbr\\u003etime taken=%{y}\\u003cbr\\u003eformat=%{customdata[0]}\\u003cextra\\u003e\\u003c\\u002fextra\\u003e\",\"legendgroup\":\"1\",\"marker\":{\"color\":\"#EF553B\"},\"name\":\"1\",\"notched\":false,\"offsetgroup\":\"1\",\"orientation\":\"v\",\"showlegend\":true,\"x\":[\"zarr\",\"zarr\",\"zarr\",\"zarr\",\"zarr\",\"zarr\",\"zarr\",\"zarr\",\"zarr\",\"zarr\",\"netcdf4\",\"netcdf4\",\"netcdf4\",\"netcdf4\",\"netcdf4\",\"netcdf4\",\"netcdf4\",\"netcdf4\",\"netcdf4\",\"netcdf4\",\"hdf5\",\"hdf5\",\"hdf5\",\"hdf5\",\"hdf5\",\"hdf5\",\"hdf5\",\"hdf5\",\"hdf5\",\"hdf5\"],\"x0\":\" \",\"xaxis\":\"x\",\"y\":[3.366545555,1.565833124,1.480275676,1.405102228,1.393267593,1.42936766,1.3739449160000001,1.355726818,1.384567536,1.3487672160000002,1.030952195,0.39133243100000004,0.413390519,0.42741585200000004,0.37988759800000005,0.382974085,0.380732436,0.380585616,0.41738392900000004,0.38185176200000004,0.9606201150000001,0.33341917800000004,0.314152812,0.283283783,0.282030911,0.28225097,0.304240881,0.29831718100000004,0.282815376,0.30770772500000004],\"y0\":\" \",\"yaxis\":\"y\",\"type\":\"box\"},{\"alignmentgroup\":\"True\",\"customdata\":[[\"zarr-[402653184]-[402653184]\"],[\"zarr-[402653184]-[402653184]\"],[\"zarr-[402653184]-[402653184]\"],[\"zarr-[402653184]-[402653184]\"],[\"zarr-[402653184]-[402653184]\"],[\"zarr-[402653184]-[402653184]\"],[\"zarr-[402653184]-[402653184]\"],[\"zarr-[402653184]-[402653184]\"],[\"zarr-[402653184]-[402653184]\"],[\"zarr-[402653184]-[402653184]\"],[\"netcdf4-[402653184]-[402653184]\"],[\"netcdf4-[402653184]-[402653184]\"],[\"netcdf4-[402653184]-[402653184]\"],[\"netcdf4-[402653184]-[402653184]\"],[\"netcdf4-[402653184]-[402653184]\"],[\"netcdf4-[402653184]-[402653184]\"],[\"netcdf4-[402653184]-[402653184]\"],[\"netcdf4-[402653184]-[402653184]\"],[\"netcdf4-[402653184]-[402653184]\"],[\"netcdf4-[402653184]-[402653184]\"],[\"hdf5-[402653184]-[402653184]\"],[\"hdf5-[402653184]-[402653184]\"],[\"hdf5-[402653184]-[402653184]\"],[\"hdf5-[402653184]-[402653184]\"],[\"hdf5-[402653184]-[402653184]\"],[\"hdf5-[402653184]-[402653184]\"],[\"hdf5-[402653184]-[402653184]\"],[\"hdf5-[402653184]-[402653184]\"],[\"hdf5-[402653184]-[402653184]\"],[\"hdf5-[402653184]-[402653184]\"]],\"hovertemplate\":\"run=2\\u003cbr\\u003eengine=%{x}\\u003cbr\\u003etime taken=%{y}\\u003cbr\\u003eformat=%{customdata[0]}\\u003cextra\\u003e\\u003c\\u002fextra\\u003e\",\"legendgroup\":\"2\",\"marker\":{\"color\":\"#00cc96\"},\"name\":\"2\",\"notched\":false,\"offsetgroup\":\"2\",\"orientation\":\"v\",\"showlegend\":true,\"x\":[\"zarr\",\"zarr\",\"zarr\",\"zarr\",\"zarr\",\"zarr\",\"zarr\",\"zarr\",\"zarr\",\"zarr\",\"netcdf4\",\"netcdf4\",\"netcdf4\",\"netcdf4\",\"netcdf4\",\"netcdf4\",\"netcdf4\",\"netcdf4\",\"netcdf4\",\"netcdf4\",\"hdf5\",\"hdf5\",\"hdf5\",\"hdf5\",\"hdf5\",\"hdf5\",\"hdf5\",\"hdf5\",\"hdf5\",\"hdf5\"],\"x0\":\" \",\"xaxis\":\"x\",\"y\":[4.313937682,2.6488542930000003,2.411989228,2.268892381,2.375150635,2.266676084,2.286144031,2.287039485,2.2651129770000002,2.267031874,0.9880287390000001,0.413694704,0.378069778,0.399690113,0.412784976,0.411655932,0.405310781,0.40487775000000004,0.45106858200000005,0.41147810300000004,1.009676033,0.370412734,0.305443503,0.296670105,0.299697999,0.29419415,0.292740648,0.31586104600000003,0.35793729,0.316409753],\"y0\":\" \",\"yaxis\":\"y\",\"type\":\"box\"},{\"alignmentgroup\":\"True\",\"customdata\":[[\"hdf5-c-402653184-402653184\"],[\"hdf5-c-402653184-402653184\"],[\"hdf5-c-402653184-402653184\"],[\"hdf5-c-402653184-402653184\"],[\"hdf5-c-402653184-402653184\"],[\"hdf5-c-402653184-402653184\"],[\"hdf5-c-402653184-402653184\"],[\"hdf5-c-402653184-402653184\"],[\"hdf5-c-402653184-402653184\"],[\"hdf5-c-402653184-402653184\"],[\"hdf5-subfiling-134217728-134217728\"],[\"hdf5-subfiling-134217728-134217728\"],[\"hdf5-subfiling-134217728-134217728\"],[\"hdf5-subfiling-134217728-134217728\"],[\"hdf5-subfiling-134217728-134217728\"],[\"hdf5-subfiling-134217728-134217728\"],[\"hdf5-subfiling-134217728-134217728\"],[\"hdf5-subfiling-134217728-134217728\"],[\"hdf5-subfiling-134217728-134217728\"],[\"hdf5-subfiling-134217728-134217728\"],[\"hdf5-async-134217728-134217728\"],[\"hdf5-async-134217728-134217728\"],[\"hdf5-async-134217728-134217728\"],[\"hdf5-async-134217728-134217728\"],[\"hdf5-async-134217728-134217728\"],[\"hdf5-async-134217728-134217728\"],[\"hdf5-async-134217728-134217728\"],[\"hdf5-async-134217728-134217728\"],[\"hdf5-async-134217728-134217728\"],[\"hdf5-async-134217728-134217728\"],[\"netcdf4-c-134217728-134217728\"],[\"netcdf4-c-134217728-134217728\"],[\"netcdf4-c-134217728-134217728\"],[\"netcdf4-c-134217728-134217728\"],[\"netcdf4-c-134217728-134217728\"],[\"netcdf4-c-134217728-134217728\"],[\"netcdf4-c-134217728-134217728\"],[\"netcdf4-c-134217728-134217728\"],[\"netcdf4-c-134217728-134217728\"],[\"netcdf4-c-134217728-134217728\"],[\"netcdf4-c-134217728-134217728\"],[\"netcdf4-c-134217728-134217728\"],[\"netcdf4-c-134217728-134217728\"],[\"netcdf4-c-134217728-134217728\"],[\"netcdf4-c-134217728-134217728\"],[\"netcdf4-c-134217728-134217728\"],[\"netcdf4-c-134217728-134217728\"],[\"netcdf4-c-134217728-134217728\"],[\"netcdf4-c-134217728-134217728\"],[\"netcdf4-c-134217728-134217728\"],[\"netcdf4-c-134217728-134217728\"],[\"netcdf4-c-134217728-134217728\"],[\"netcdf4-c-134217728-134217728\"],[\"netcdf4-c-134217728-134217728\"],[\"netcdf4-c-134217728-134217728\"],[\"netcdf4-c-134217728-134217728\"],[\"netcdf4-c-134217728-134217728\"],[\"netcdf4-c-134217728-134217728\"],[\"netcdf4-c-134217728-134217728\"],[\"netcdf4-c-134217728-134217728\"],[\"netcdf4-c-134217728-134217728\"],[\"netcdf4-c-134217728-134217728\"],[\"netcdf4-c-134217728-134217728\"],[\"netcdf4-c-134217728-134217728\"],[\"netcdf4-c-134217728-134217728\"],[\"netcdf4-c-134217728-134217728\"],[\"netcdf4-c-134217728-134217728\"],[\"netcdf4-c-134217728-134217728\"],[\"netcdf4-c-134217728-134217728\"],[\"netcdf4-c-134217728-134217728\"],[\"netcdf4-c-134217728-134217728\"],[\"netcdf4-c-134217728-134217728\"],[\"netcdf4-c-134217728-134217728\"],[\"netcdf4-c-134217728-134217728\"],[\"netcdf4-c-134217728-134217728\"],[\"netcdf4-c-134217728-134217728\"],[\"netcdf4-c-134217728-134217728\"],[\"netcdf4-c-134217728-134217728\"],[\"netcdf4-c-134217728-134217728\"],[\"netcdf4-c-134217728-134217728\"],[\"netcdf4-c-134217728-134217728\"],[\"netcdf4-c-134217728-134217728\"],[\"netcdf4-c-134217728-134217728\"],[\"netcdf4-c-134217728-134217728\"],[\"netcdf4-c-134217728-134217728\"],[\"netcdf4-c-134217728-134217728\"],[\"netcdf4-c-134217728-134217728\"],[\"netcdf4-c-134217728-134217728\"],[\"netcdf4-c-134217728-134217728\"],[\"netcdf4-c-134217728-134217728\"],[\"netcdf4-c-134217728-134217728\"],[\"netcdf4-c-134217728-134217728\"],[\"netcdf4-c-134217728-134217728\"],[\"netcdf4-c-134217728-134217728\"],[\"netcdf4-c-134217728-134217728\"],[\"netcdf4-c-134217728-134217728\"],[\"netcdf4-c-134217728-134217728\"],[\"netcdf4-c-134217728-134217728\"],[\"netcdf4-c-134217728-134217728\"],[\"netcdf4-c-134217728-134217728\"],[\"netcdf4-c-134217728-134217728\"],[\"netcdf4-c-134217728-134217728\"],[\"netcdf4-c-134217728-134217728\"],[\"netcdf4-c-134217728-134217728\"],[\"netcdf4-c-134217728-134217728\"],[\"netcdf4-c-134217728-134217728\"],[\"netcdf4-c-134217728-134217728\"],[\"netcdf4-c-134217728-134217728\"],[\"netcdf4-c-134217728-134217728\"],[\"netcdf4-c-134217728-134217728\"],[\"netcdf4-c-134217728-134217728\"],[\"netcdf4-c-134217728-134217728\"],[\"netcdf4-c-134217728-134217728\"],[\"netcdf4-c-134217728-134217728\"],[\"netcdf4-c-134217728-134217728\"],[\"netcdf4-c-134217728-134217728\"],[\"netcdf4-c-134217728-134217728\"],[\"netcdf4-c-134217728-134217728\"],[\"netcdf4-c-134217728-134217728\"],[\"netcdf4-c-134217728-134217728\"],[\"netcdf4-c-134217728-134217728\"],[\"netcdf4-c-134217728-134217728\"],[\"netcdf4-c-134217728-134217728\"],[\"netcdf4-c-134217728-134217728\"],[\"netcdf4-c-134217728-134217728\"],[\"netcdf4-c-134217728-134217728\"],[\"netcdf4-c-134217728-134217728\"],[\"netcdf4-c-134217728-134217728\"],[\"netcdf4-c-134217728-134217728\"],[\"netcdf4-c-134217728-134217728\"]],\"hovertemplate\":\"run=7\\u003cbr\\u003eengine=%{x}\\u003cbr\\u003etime taken=%{y}\\u003cbr\\u003eformat=%{customdata[0]}\\u003cextra\\u003e\\u003c\\u002fextra\\u003e\",\"legendgroup\":\"7\",\"marker\":{\"color\":\"#ab63fa\"},\"name\":\"7\",\"notched\":false,\"offsetgroup\":\"7\",\"orientation\":\"v\",\"showlegend\":true,\"x\":[\"hdf5-c\",\"hdf5-c\",\"hdf5-c\",\"hdf5-c\",\"hdf5-c\",\"hdf5-c\",\"hdf5-c\",\"hdf5-c\",\"hdf5-c\",\"hdf5-c\",\"hdf5-subfiling\",\"hdf5-subfiling\",\"hdf5-subfiling\",\"hdf5-subfiling\",\"hdf5-subfiling\",\"hdf5-subfiling\",\"hdf5-subfiling\",\"hdf5-subfiling\",\"hdf5-subfiling\",\"hdf5-subfiling\",\"hdf5-async\",\"hdf5-async\",\"hdf5-async\",\"hdf5-async\",\"hdf5-async\",\"hdf5-async\",\"hdf5-async\",\"hdf5-async\",\"hdf5-async\",\"hdf5-async\",\"netcdf4-c\",\"netcdf4-c\",\"netcdf4-c\",\"netcdf4-c\",\"netcdf4-c\",\"netcdf4-c\",\"netcdf4-c\",\"netcdf4-c\",\"netcdf4-c\",\"netcdf4-c\",\"netcdf4-c\",\"netcdf4-c\",\"netcdf4-c\",\"netcdf4-c\",\"netcdf4-c\",\"netcdf4-c\",\"netcdf4-c\",\"netcdf4-c\",\"netcdf4-c\",\"netcdf4-c\",\"netcdf4-c\",\"netcdf4-c\",\"netcdf4-c\",\"netcdf4-c\",\"netcdf4-c\",\"netcdf4-c\",\"netcdf4-c\",\"netcdf4-c\",\"netcdf4-c\",\"netcdf4-c\",\"netcdf4-c\",\"netcdf4-c\",\"netcdf4-c\",\"netcdf4-c\",\"netcdf4-c\",\"netcdf4-c\",\"netcdf4-c\",\"netcdf4-c\",\"netcdf4-c\",\"netcdf4-c\",\"netcdf4-c\",\"netcdf4-c\",\"netcdf4-c\",\"netcdf4-c\",\"netcdf4-c\",\"netcdf4-c\",\"netcdf4-c\",\"netcdf4-c\",\"netcdf4-c\",\"netcdf4-c\",\"netcdf4-c\",\"netcdf4-c\",\"netcdf4-c\",\"netcdf4-c\",\"netcdf4-c\",\"netcdf4-c\",\"netcdf4-c\",\"netcdf4-c\",\"netcdf4-c\",\"netcdf4-c\",\"netcdf4-c\",\"netcdf4-c\",\"netcdf4-c\",\"netcdf4-c\",\"netcdf4-c\",\"netcdf4-c\",\"netcdf4-c\",\"netcdf4-c\",\"netcdf4-c\",\"netcdf4-c\",\"netcdf4-c\",\"netcdf4-c\",\"netcdf4-c\",\"netcdf4-c\",\"netcdf4-c\",\"netcdf4-c\",\"netcdf4-c\",\"netcdf4-c\",\"netcdf4-c\",\"netcdf4-c\",\"netcdf4-c\",\"netcdf4-c\",\"netcdf4-c\",\"netcdf4-c\",\"netcdf4-c\",\"netcdf4-c\",\"netcdf4-c\",\"netcdf4-c\",\"netcdf4-c\",\"netcdf4-c\",\"netcdf4-c\",\"netcdf4-c\",\"netcdf4-c\",\"netcdf4-c\",\"netcdf4-c\",\"netcdf4-c\",\"netcdf4-c\",\"netcdf4-c\",\"netcdf4-c\",\"netcdf4-c\"],\"x0\":\" \",\"xaxis\":\"x\",\"y\":[0.40457299999999996,0.47253199999999995,0.40116799999999997,0.401652,0.417379,0.375791,0.375793,0.38658499999999996,0.387801,0.385051,0.24542000000000003,0.35334699999999997,0.266121,0.23990399999999998,0.23974099999999998,0.241447,0.240508,0.240274,0.24043499999999998,0.238611,0.488818,0.15956199999999998,0.130557,0.128801,0.147416,0.134387,0.135026,0.130529,0.17788,0.142269,0.602101,0.261602,0.165743,0.160828,0.160964,0.162638,0.166608,0.16283,0.161029,0.162787,0.16119,0.165231,0.162049,0.228676,0.15734299999999998,0.156792,0.157254,0.174684,0.17216099999999998,0.17028000000000001,0.163677,0.164027,0.167008,0.16619799999999998,0.16371000000000002,0.249969,0.163681,0.194128,0.170982,0.167784,0.166202,0.158468,0.157573,0.157942,0.159853,0.163013,0.165434,0.250596,0.165705,0.165467,0.16472699999999998,0.16599000000000003,0.16185000000000002,0.161995,0.161858,0.161,0.161017,0.161511,0.16245199999999999,0.253677,0.16170099999999998,0.16125899999999999,0.161732,0.16175,0.162327,0.16173099999999999,0.161686,0.163355,0.166156,0.187822,0.17108099999999998,0.213359,0.279502,0.210704,0.23077199999999998,0.172618,0.168672,0.165784,0.16625,0.168162,0.164674,0.163358,0.164461,0.263136,0.168314,0.168706,0.166732,0.162468,0.163489,0.16236299999999998,0.160739,0.16452799999999998,0.161527,0.161993,0.163982,0.252378,0.16166000000000003,0.161906,0.164388,0.17304799999999998,0.16678199999999999,0.165329,0.16675,0.163158,0.161529,0.16248,0.173807,0.281233,0.186132,0.226984],\"y0\":\" \",\"yaxis\":\"y\",\"type\":\"box\"}],                        {\"template\":{\"data\":{\"histogram2dcontour\":[{\"type\":\"histogram2dcontour\",\"colorbar\":{\"outlinewidth\":0,\"ticks\":\"\"},\"colorscale\":[[0.0,\"#0d0887\"],[0.1111111111111111,\"#46039f\"],[0.2222222222222222,\"#7201a8\"],[0.3333333333333333,\"#9c179e\"],[0.4444444444444444,\"#bd3786\"],[0.5555555555555556,\"#d8576b\"],[0.6666666666666666,\"#ed7953\"],[0.7777777777777778,\"#fb9f3a\"],[0.8888888888888888,\"#fdca26\"],[1.0,\"#f0f921\"]]}],\"choropleth\":[{\"type\":\"choropleth\",\"colorbar\":{\"outlinewidth\":0,\"ticks\":\"\"}}],\"histogram2d\":[{\"type\":\"histogram2d\",\"colorbar\":{\"outlinewidth\":0,\"ticks\":\"\"},\"colorscale\":[[0.0,\"#0d0887\"],[0.1111111111111111,\"#46039f\"],[0.2222222222222222,\"#7201a8\"],[0.3333333333333333,\"#9c179e\"],[0.4444444444444444,\"#bd3786\"],[0.5555555555555556,\"#d8576b\"],[0.6666666666666666,\"#ed7953\"],[0.7777777777777778,\"#fb9f3a\"],[0.8888888888888888,\"#fdca26\"],[1.0,\"#f0f921\"]]}],\"heatmap\":[{\"type\":\"heatmap\",\"colorbar\":{\"outlinewidth\":0,\"ticks\":\"\"},\"colorscale\":[[0.0,\"#0d0887\"],[0.1111111111111111,\"#46039f\"],[0.2222222222222222,\"#7201a8\"],[0.3333333333333333,\"#9c179e\"],[0.4444444444444444,\"#bd3786\"],[0.5555555555555556,\"#d8576b\"],[0.6666666666666666,\"#ed7953\"],[0.7777777777777778,\"#fb9f3a\"],[0.8888888888888888,\"#fdca26\"],[1.0,\"#f0f921\"]]}],\"heatmapgl\":[{\"type\":\"heatmapgl\",\"colorbar\":{\"outlinewidth\":0,\"ticks\":\"\"},\"colorscale\":[[0.0,\"#0d0887\"],[0.1111111111111111,\"#46039f\"],[0.2222222222222222,\"#7201a8\"],[0.3333333333333333,\"#9c179e\"],[0.4444444444444444,\"#bd3786\"],[0.5555555555555556,\"#d8576b\"],[0.6666666666666666,\"#ed7953\"],[0.7777777777777778,\"#fb9f3a\"],[0.8888888888888888,\"#fdca26\"],[1.0,\"#f0f921\"]]}],\"contourcarpet\":[{\"type\":\"contourcarpet\",\"colorbar\":{\"outlinewidth\":0,\"ticks\":\"\"}}],\"contour\":[{\"type\":\"contour\",\"colorbar\":{\"outlinewidth\":0,\"ticks\":\"\"},\"colorscale\":[[0.0,\"#0d0887\"],[0.1111111111111111,\"#46039f\"],[0.2222222222222222,\"#7201a8\"],[0.3333333333333333,\"#9c179e\"],[0.4444444444444444,\"#bd3786\"],[0.5555555555555556,\"#d8576b\"],[0.6666666666666666,\"#ed7953\"],[0.7777777777777778,\"#fb9f3a\"],[0.8888888888888888,\"#fdca26\"],[1.0,\"#f0f921\"]]}],\"surface\":[{\"type\":\"surface\",\"colorbar\":{\"outlinewidth\":0,\"ticks\":\"\"},\"colorscale\":[[0.0,\"#0d0887\"],[0.1111111111111111,\"#46039f\"],[0.2222222222222222,\"#7201a8\"],[0.3333333333333333,\"#9c179e\"],[0.4444444444444444,\"#bd3786\"],[0.5555555555555556,\"#d8576b\"],[0.6666666666666666,\"#ed7953\"],[0.7777777777777778,\"#fb9f3a\"],[0.8888888888888888,\"#fdca26\"],[1.0,\"#f0f921\"]]}],\"mesh3d\":[{\"type\":\"mesh3d\",\"colorbar\":{\"outlinewidth\":0,\"ticks\":\"\"}}],\"scatter\":[{\"fillpattern\":{\"fillmode\":\"overlay\",\"size\":10,\"solidity\":0.2},\"type\":\"scatter\"}],\"parcoords\":[{\"type\":\"parcoords\",\"line\":{\"colorbar\":{\"outlinewidth\":0,\"ticks\":\"\"}}}],\"scatterpolargl\":[{\"type\":\"scatterpolargl\",\"marker\":{\"colorbar\":{\"outlinewidth\":0,\"ticks\":\"\"}}}],\"bar\":[{\"error_x\":{\"color\":\"#2a3f5f\"},\"error_y\":{\"color\":\"#2a3f5f\"},\"marker\":{\"line\":{\"color\":\"#E5ECF6\",\"width\":0.5},\"pattern\":{\"fillmode\":\"overlay\",\"size\":10,\"solidity\":0.2}},\"type\":\"bar\"}],\"scattergeo\":[{\"type\":\"scattergeo\",\"marker\":{\"colorbar\":{\"outlinewidth\":0,\"ticks\":\"\"}}}],\"scatterpolar\":[{\"type\":\"scatterpolar\",\"marker\":{\"colorbar\":{\"outlinewidth\":0,\"ticks\":\"\"}}}],\"histogram\":[{\"marker\":{\"pattern\":{\"fillmode\":\"overlay\",\"size\":10,\"solidity\":0.2}},\"type\":\"histogram\"}],\"scattergl\":[{\"type\":\"scattergl\",\"marker\":{\"colorbar\":{\"outlinewidth\":0,\"ticks\":\"\"}}}],\"scatter3d\":[{\"type\":\"scatter3d\",\"line\":{\"colorbar\":{\"outlinewidth\":0,\"ticks\":\"\"}},\"marker\":{\"colorbar\":{\"outlinewidth\":0,\"ticks\":\"\"}}}],\"scattermapbox\":[{\"type\":\"scattermapbox\",\"marker\":{\"colorbar\":{\"outlinewidth\":0,\"ticks\":\"\"}}}],\"scatterternary\":[{\"type\":\"scatterternary\",\"marker\":{\"colorbar\":{\"outlinewidth\":0,\"ticks\":\"\"}}}],\"scattercarpet\":[{\"type\":\"scattercarpet\",\"marker\":{\"colorbar\":{\"outlinewidth\":0,\"ticks\":\"\"}}}],\"carpet\":[{\"aaxis\":{\"endlinecolor\":\"#2a3f5f\",\"gridcolor\":\"white\",\"linecolor\":\"white\",\"minorgridcolor\":\"white\",\"startlinecolor\":\"#2a3f5f\"},\"baxis\":{\"endlinecolor\":\"#2a3f5f\",\"gridcolor\":\"white\",\"linecolor\":\"white\",\"minorgridcolor\":\"white\",\"startlinecolor\":\"#2a3f5f\"},\"type\":\"carpet\"}],\"table\":[{\"cells\":{\"fill\":{\"color\":\"#EBF0F8\"},\"line\":{\"color\":\"white\"}},\"header\":{\"fill\":{\"color\":\"#C8D4E3\"},\"line\":{\"color\":\"white\"}},\"type\":\"table\"}],\"barpolar\":[{\"marker\":{\"line\":{\"color\":\"#E5ECF6\",\"width\":0.5},\"pattern\":{\"fillmode\":\"overlay\",\"size\":10,\"solidity\":0.2}},\"type\":\"barpolar\"}],\"pie\":[{\"automargin\":true,\"type\":\"pie\"}]},\"layout\":{\"autotypenumbers\":\"strict\",\"colorway\":[\"#636efa\",\"#EF553B\",\"#00cc96\",\"#ab63fa\",\"#FFA15A\",\"#19d3f3\",\"#FF6692\",\"#B6E880\",\"#FF97FF\",\"#FECB52\"],\"font\":{\"color\":\"#2a3f5f\"},\"hovermode\":\"closest\",\"hoverlabel\":{\"align\":\"left\"},\"paper_bgcolor\":\"white\",\"plot_bgcolor\":\"#E5ECF6\",\"polar\":{\"bgcolor\":\"#E5ECF6\",\"angularaxis\":{\"gridcolor\":\"white\",\"linecolor\":\"white\",\"ticks\":\"\"},\"radialaxis\":{\"gridcolor\":\"white\",\"linecolor\":\"white\",\"ticks\":\"\"}},\"ternary\":{\"bgcolor\":\"#E5ECF6\",\"aaxis\":{\"gridcolor\":\"white\",\"linecolor\":\"white\",\"ticks\":\"\"},\"baxis\":{\"gridcolor\":\"white\",\"linecolor\":\"white\",\"ticks\":\"\"},\"caxis\":{\"gridcolor\":\"white\",\"linecolor\":\"white\",\"ticks\":\"\"}},\"coloraxis\":{\"colorbar\":{\"outlinewidth\":0,\"ticks\":\"\"}},\"colorscale\":{\"sequential\":[[0.0,\"#0d0887\"],[0.1111111111111111,\"#46039f\"],[0.2222222222222222,\"#7201a8\"],[0.3333333333333333,\"#9c179e\"],[0.4444444444444444,\"#bd3786\"],[0.5555555555555556,\"#d8576b\"],[0.6666666666666666,\"#ed7953\"],[0.7777777777777778,\"#fb9f3a\"],[0.8888888888888888,\"#fdca26\"],[1.0,\"#f0f921\"]],\"sequentialminus\":[[0.0,\"#0d0887\"],[0.1111111111111111,\"#46039f\"],[0.2222222222222222,\"#7201a8\"],[0.3333333333333333,\"#9c179e\"],[0.4444444444444444,\"#bd3786\"],[0.5555555555555556,\"#d8576b\"],[0.6666666666666666,\"#ed7953\"],[0.7777777777777778,\"#fb9f3a\"],[0.8888888888888888,\"#fdca26\"],[1.0,\"#f0f921\"]],\"diverging\":[[0,\"#8e0152\"],[0.1,\"#c51b7d\"],[0.2,\"#de77ae\"],[0.3,\"#f1b6da\"],[0.4,\"#fde0ef\"],[0.5,\"#f7f7f7\"],[0.6,\"#e6f5d0\"],[0.7,\"#b8e186\"],[0.8,\"#7fbc41\"],[0.9,\"#4d9221\"],[1,\"#276419\"]]},\"xaxis\":{\"gridcolor\":\"white\",\"linecolor\":\"white\",\"ticks\":\"\",\"title\":{\"standoff\":15},\"zerolinecolor\":\"white\",\"automargin\":true,\"zerolinewidth\":2},\"yaxis\":{\"gridcolor\":\"white\",\"linecolor\":\"white\",\"ticks\":\"\",\"title\":{\"standoff\":15},\"zerolinecolor\":\"white\",\"automargin\":true,\"zerolinewidth\":2},\"scene\":{\"xaxis\":{\"backgroundcolor\":\"#E5ECF6\",\"gridcolor\":\"white\",\"linecolor\":\"white\",\"showbackground\":true,\"ticks\":\"\",\"zerolinecolor\":\"white\",\"gridwidth\":2},\"yaxis\":{\"backgroundcolor\":\"#E5ECF6\",\"gridcolor\":\"white\",\"linecolor\":\"white\",\"showbackground\":true,\"ticks\":\"\",\"zerolinecolor\":\"white\",\"gridwidth\":2},\"zaxis\":{\"backgroundcolor\":\"#E5ECF6\",\"gridcolor\":\"white\",\"linecolor\":\"white\",\"showbackground\":true,\"ticks\":\"\",\"zerolinecolor\":\"white\",\"gridwidth\":2}},\"shapedefaults\":{\"line\":{\"color\":\"#2a3f5f\"}},\"annotationdefaults\":{\"arrowcolor\":\"#2a3f5f\",\"arrowhead\":0,\"arrowwidth\":1},\"geo\":{\"bgcolor\":\"white\",\"landcolor\":\"#E5ECF6\",\"subunitcolor\":\"white\",\"showland\":true,\"showlakes\":true,\"lakecolor\":\"white\"},\"title\":{\"x\":0.05},\"mapbox\":{\"style\":\"light\"}}},\"xaxis\":{\"anchor\":\"y\",\"domain\":[0.0,1.0],\"title\":{\"text\":\"engine\"}},\"yaxis\":{\"anchor\":\"x\",\"domain\":[0.0,1.0],\"title\":{\"text\":\"time taken\"},\"type\":\"log\"},\"legend\":{\"title\":{\"text\":\"run\"},\"tracegroupgap\":0},\"margin\":{\"t\":60},\"boxmode\":\"group\"},                        {\"responsive\": true}                    ).then(function(){\n",
       "                            \n",
       "var gd = document.getElementById('4d29715c-ad04-4893-b017-feb2372d167a');\n",
       "var x = new MutationObserver(function (mutations, observer) {{\n",
       "        var display = window.getComputedStyle(gd).display;\n",
       "        if (!display || display === 'none') {{\n",
       "            console.log([gd, 'removed!']);\n",
       "            Plotly.purge(gd);\n",
       "            observer.disconnect();\n",
       "        }}\n",
       "}});\n",
       "\n",
       "// Listen for the removal of the full notebook cells\n",
       "var notebookContainer = gd.closest('#notebook-container');\n",
       "if (notebookContainer) {{\n",
       "    x.observe(notebookContainer, {childList: true});\n",
       "}}\n",
       "\n",
       "// Listen for the clearing of the current output cell\n",
       "var outputEl = gd.closest('.output');\n",
       "if (outputEl) {{\n",
       "    x.observe(outputEl, {childList: true});\n",
       "}}\n",
       "\n",
       "                        })                };                });            </script>        </div>"
      ]
     },
     "metadata": {},
     "output_type": "display_data"
    },
    {
     "data": {
      "application/vnd.plotly.v1+json": {
       "config": {
        "plotlyServerURL": "https://plot.ly"
       },
       "data": [
        {
         "alignmentgroup": "True",
         "customdata": [
          [
           "zarr-[1536, 512, 512]-[1536, 512, 128]"
          ],
          [
           "zarr-[1536, 512, 512]-[1536, 512, 128]"
          ],
          [
           "zarr-[1536, 512, 512]-[1536, 512, 128]"
          ],
          [
           "zarr-[1536, 512, 512]-[1536, 512, 128]"
          ],
          [
           "zarr-[1536, 512, 512]-[1536, 512, 128]"
          ],
          [
           "zarr-[1536, 512, 512]-[1536, 512, 128]"
          ],
          [
           "zarr-[1536, 512, 512]-[1536, 512, 128]"
          ],
          [
           "zarr-[1536, 512, 512]-[1536, 512, 128]"
          ],
          [
           "zarr-[1536, 512, 512]-[1536, 512, 128]"
          ],
          [
           "zarr-[1536, 512, 512]-[1536, 512, 128]"
          ],
          [
           "zarr-[1536, 512, 512]-[1536, 512, 256]"
          ],
          [
           "zarr-[1536, 512, 512]-[1536, 512, 256]"
          ],
          [
           "zarr-[1536, 512, 512]-[1536, 512, 256]"
          ],
          [
           "zarr-[1536, 512, 512]-[1536, 512, 256]"
          ],
          [
           "zarr-[1536, 512, 512]-[1536, 512, 256]"
          ],
          [
           "zarr-[1536, 512, 512]-[1536, 512, 256]"
          ],
          [
           "zarr-[1536, 512, 512]-[1536, 512, 256]"
          ],
          [
           "zarr-[1536, 512, 512]-[1536, 512, 256]"
          ],
          [
           "zarr-[1536, 512, 512]-[1536, 512, 256]"
          ],
          [
           "zarr-[1536, 512, 512]-[1536, 512, 256]"
          ],
          [
           "zarr-[1536, 512, 512]-[1536, 512, 512]"
          ],
          [
           "zarr-[1536, 512, 512]-[1536, 512, 512]"
          ],
          [
           "zarr-[1536, 512, 512]-[1536, 512, 512]"
          ],
          [
           "zarr-[1536, 512, 512]-[1536, 512, 512]"
          ],
          [
           "zarr-[1536, 512, 512]-[1536, 512, 512]"
          ],
          [
           "zarr-[1536, 512, 512]-[1536, 512, 512]"
          ],
          [
           "zarr-[1536, 512, 512]-[1536, 512, 512]"
          ],
          [
           "zarr-[1536, 512, 512]-[1536, 512, 512]"
          ],
          [
           "zarr-[1536, 512, 512]-[1536, 512, 512]"
          ],
          [
           "zarr-[1536, 512, 512]-[1536, 512, 512]"
          ]
         ],
         "hovertemplate": "engine=zarr<br>filesize per chunk=%{x}<br>time taken=%{y}<br>format=%{customdata[0]}<extra></extra>",
         "legendgroup": "zarr",
         "marker": {
          "color": "#636efa"
         },
         "name": "zarr",
         "notched": false,
         "offsetgroup": "zarr",
         "orientation": "v",
         "showlegend": true,
         "type": "box",
         "x": [
          "768.0 MB",
          "768.0 MB",
          "768.0 MB",
          "768.0 MB",
          "768.0 MB",
          "768.0 MB",
          "768.0 MB",
          "768.0 MB",
          "768.0 MB",
          "768.0 MB",
          "1536.0 MB",
          "1536.0 MB",
          "1536.0 MB",
          "1536.0 MB",
          "1536.0 MB",
          "1536.0 MB",
          "1536.0 MB",
          "1536.0 MB",
          "1536.0 MB",
          "1536.0 MB",
          "3072.0 MB",
          "3072.0 MB",
          "3072.0 MB",
          "3072.0 MB",
          "3072.0 MB",
          "3072.0 MB",
          "3072.0 MB",
          "3072.0 MB",
          "3072.0 MB",
          "3072.0 MB"
         ],
         "x0": " ",
         "xaxis": "x",
         "y": [
          1.561470602,
          1.119593804,
          1.131029809,
          1.100024496,
          1.106562787,
          1.08532757,
          1.084824497,
          1.07139167,
          1.062812411,
          1.072172126,
          3.524663635,
          1.640390784,
          1.58037417,
          1.498136551,
          1.499260701,
          1.471429969,
          1.441589899,
          1.5037154799999999,
          1.440095022,
          1.437127042,
          4.696084097,
          2.482777822,
          2.385498438,
          2.281798491,
          2.308118287,
          2.266521942,
          2.249475183,
          2.2242104400000002,
          2.264185753,
          2.252098626
         ],
         "y0": " ",
         "yaxis": "y"
        },
        {
         "alignmentgroup": "True",
         "customdata": [
          [
           "netcdf4-[1536, 512, 512]-[1536, 512, 128]"
          ],
          [
           "netcdf4-[1536, 512, 512]-[1536, 512, 128]"
          ],
          [
           "netcdf4-[1536, 512, 512]-[1536, 512, 128]"
          ],
          [
           "netcdf4-[1536, 512, 512]-[1536, 512, 128]"
          ],
          [
           "netcdf4-[1536, 512, 512]-[1536, 512, 128]"
          ],
          [
           "netcdf4-[1536, 512, 512]-[1536, 512, 128]"
          ],
          [
           "netcdf4-[1536, 512, 512]-[1536, 512, 128]"
          ],
          [
           "netcdf4-[1536, 512, 512]-[1536, 512, 128]"
          ],
          [
           "netcdf4-[1536, 512, 512]-[1536, 512, 128]"
          ],
          [
           "netcdf4-[1536, 512, 512]-[1536, 512, 128]"
          ],
          [
           "netcdf4-[1536, 512, 512]-[1536, 512, 256]"
          ],
          [
           "netcdf4-[1536, 512, 512]-[1536, 512, 256]"
          ],
          [
           "netcdf4-[1536, 512, 512]-[1536, 512, 256]"
          ],
          [
           "netcdf4-[1536, 512, 512]-[1536, 512, 256]"
          ],
          [
           "netcdf4-[1536, 512, 512]-[1536, 512, 256]"
          ],
          [
           "netcdf4-[1536, 512, 512]-[1536, 512, 256]"
          ],
          [
           "netcdf4-[1536, 512, 512]-[1536, 512, 256]"
          ],
          [
           "netcdf4-[1536, 512, 512]-[1536, 512, 256]"
          ],
          [
           "netcdf4-[1536, 512, 512]-[1536, 512, 256]"
          ],
          [
           "netcdf4-[1536, 512, 512]-[1536, 512, 256]"
          ],
          [
           "netcdf4-[1536, 512, 512]-[1536, 512, 512]"
          ],
          [
           "netcdf4-[1536, 512, 512]-[1536, 512, 512]"
          ],
          [
           "netcdf4-[1536, 512, 512]-[1536, 512, 512]"
          ],
          [
           "netcdf4-[1536, 512, 512]-[1536, 512, 512]"
          ],
          [
           "netcdf4-[1536, 512, 512]-[1536, 512, 512]"
          ],
          [
           "netcdf4-[1536, 512, 512]-[1536, 512, 512]"
          ],
          [
           "netcdf4-[1536, 512, 512]-[1536, 512, 512]"
          ],
          [
           "netcdf4-[1536, 512, 512]-[1536, 512, 512]"
          ],
          [
           "netcdf4-[1536, 512, 512]-[1536, 512, 512]"
          ],
          [
           "netcdf4-[1536, 512, 512]-[1536, 512, 512]"
          ]
         ],
         "hovertemplate": "engine=netcdf4<br>filesize per chunk=%{x}<br>time taken=%{y}<br>format=%{customdata[0]}<extra></extra>",
         "legendgroup": "netcdf4",
         "marker": {
          "color": "#EF553B"
         },
         "name": "netcdf4",
         "notched": false,
         "offsetgroup": "netcdf4",
         "orientation": "v",
         "showlegend": true,
         "type": "box",
         "x": [
          "768.0 MB",
          "768.0 MB",
          "768.0 MB",
          "768.0 MB",
          "768.0 MB",
          "768.0 MB",
          "768.0 MB",
          "768.0 MB",
          "768.0 MB",
          "768.0 MB",
          "1536.0 MB",
          "1536.0 MB",
          "1536.0 MB",
          "1536.0 MB",
          "1536.0 MB",
          "1536.0 MB",
          "1536.0 MB",
          "1536.0 MB",
          "1536.0 MB",
          "1536.0 MB",
          "3072.0 MB",
          "3072.0 MB",
          "3072.0 MB",
          "3072.0 MB",
          "3072.0 MB",
          "3072.0 MB",
          "3072.0 MB",
          "3072.0 MB",
          "3072.0 MB",
          "3072.0 MB"
         ],
         "x0": " ",
         "xaxis": "x",
         "y": [
          2.503007032,
          1.6436543110000001,
          1.575713818,
          1.693407204,
          1.7019631510000002,
          1.575951321,
          1.672457324,
          1.664683944,
          1.6092664540000001,
          1.576138876,
          3.125054425,
          0.996413096,
          0.962528853,
          0.953506285,
          0.9874306650000001,
          0.947477604,
          0.986009702,
          0.9486437510000001,
          0.9766967540000001,
          0.9475818500000001,
          0.991430133,
          0.363354404,
          0.361270258,
          0.391785413,
          0.362657294,
          0.36500627300000005,
          0.371078183,
          0.36441432500000004,
          0.37061255,
          0.360128059
         ],
         "y0": " ",
         "yaxis": "y"
        },
        {
         "alignmentgroup": "True",
         "customdata": [
          [
           "hdf5-[1536, 512, 512]-[1536, 512, 128]"
          ],
          [
           "hdf5-[1536, 512, 512]-[1536, 512, 128]"
          ],
          [
           "hdf5-[1536, 512, 512]-[1536, 512, 128]"
          ],
          [
           "hdf5-[1536, 512, 512]-[1536, 512, 128]"
          ],
          [
           "hdf5-[1536, 512, 512]-[1536, 512, 128]"
          ],
          [
           "hdf5-[1536, 512, 512]-[1536, 512, 128]"
          ],
          [
           "hdf5-[1536, 512, 512]-[1536, 512, 128]"
          ],
          [
           "hdf5-[1536, 512, 512]-[1536, 512, 128]"
          ],
          [
           "hdf5-[1536, 512, 512]-[1536, 512, 128]"
          ],
          [
           "hdf5-[1536, 512, 512]-[1536, 512, 128]"
          ],
          [
           "hdf5-[1536, 512, 512]-[1536, 512, 256]"
          ],
          [
           "hdf5-[1536, 512, 512]-[1536, 512, 256]"
          ],
          [
           "hdf5-[1536, 512, 512]-[1536, 512, 256]"
          ],
          [
           "hdf5-[1536, 512, 512]-[1536, 512, 256]"
          ],
          [
           "hdf5-[1536, 512, 512]-[1536, 512, 256]"
          ],
          [
           "hdf5-[1536, 512, 512]-[1536, 512, 256]"
          ],
          [
           "hdf5-[1536, 512, 512]-[1536, 512, 256]"
          ],
          [
           "hdf5-[1536, 512, 512]-[1536, 512, 256]"
          ],
          [
           "hdf5-[1536, 512, 512]-[1536, 512, 256]"
          ],
          [
           "hdf5-[1536, 512, 512]-[1536, 512, 256]"
          ],
          [
           "hdf5-[1536, 512, 512]-[1536, 512, 512]"
          ],
          [
           "hdf5-[1536, 512, 512]-[1536, 512, 512]"
          ],
          [
           "hdf5-[1536, 512, 512]-[1536, 512, 512]"
          ],
          [
           "hdf5-[1536, 512, 512]-[1536, 512, 512]"
          ],
          [
           "hdf5-[1536, 512, 512]-[1536, 512, 512]"
          ],
          [
           "hdf5-[1536, 512, 512]-[1536, 512, 512]"
          ],
          [
           "hdf5-[1536, 512, 512]-[1536, 512, 512]"
          ],
          [
           "hdf5-[1536, 512, 512]-[1536, 512, 512]"
          ],
          [
           "hdf5-[1536, 512, 512]-[1536, 512, 512]"
          ],
          [
           "hdf5-[1536, 512, 512]-[1536, 512, 512]"
          ]
         ],
         "hovertemplate": "engine=hdf5<br>filesize per chunk=%{x}<br>time taken=%{y}<br>format=%{customdata[0]}<extra></extra>",
         "legendgroup": "hdf5",
         "marker": {
          "color": "#00cc96"
         },
         "name": "hdf5",
         "notched": false,
         "offsetgroup": "hdf5",
         "orientation": "v",
         "showlegend": true,
         "type": "box",
         "x": [
          "768.0 MB",
          "768.0 MB",
          "768.0 MB",
          "768.0 MB",
          "768.0 MB",
          "768.0 MB",
          "768.0 MB",
          "768.0 MB",
          "768.0 MB",
          "768.0 MB",
          "1536.0 MB",
          "1536.0 MB",
          "1536.0 MB",
          "1536.0 MB",
          "1536.0 MB",
          "1536.0 MB",
          "1536.0 MB",
          "1536.0 MB",
          "1536.0 MB",
          "1536.0 MB",
          "3072.0 MB",
          "3072.0 MB",
          "3072.0 MB",
          "3072.0 MB",
          "3072.0 MB",
          "3072.0 MB",
          "3072.0 MB",
          "3072.0 MB",
          "3072.0 MB",
          "3072.0 MB"
         ],
         "x0": " ",
         "xaxis": "x",
         "y": [
          3.6333989950000003,
          1.487018424,
          1.4578746,
          1.449845683,
          1.45085663,
          1.4668470980000001,
          1.45771918,
          1.505242134,
          1.449804507,
          1.453581631,
          3.120725102,
          0.985057551,
          0.9350957080000001,
          0.9270261150000001,
          0.886485327,
          0.9145776550000001,
          0.8758912310000001,
          0.87422285,
          0.87592463,
          0.8744445670000001,
          0.8343976740000001,
          0.30380218800000003,
          0.265694445,
          0.30102369500000004,
          0.262829486,
          0.27002368,
          0.264752193,
          0.262354666,
          0.26100444300000003,
          0.262556783
         ],
         "y0": " ",
         "yaxis": "y"
        },
        {
         "alignmentgroup": "True",
         "customdata": [
          [
           "hdf5-c-402653184-402653184"
          ],
          [
           "hdf5-c-402653184-402653184"
          ],
          [
           "hdf5-c-402653184-402653184"
          ],
          [
           "hdf5-c-402653184-402653184"
          ],
          [
           "hdf5-c-402653184-402653184"
          ],
          [
           "hdf5-c-402653184-402653184"
          ],
          [
           "hdf5-c-402653184-402653184"
          ],
          [
           "hdf5-c-402653184-402653184"
          ],
          [
           "hdf5-c-402653184-402653184"
          ],
          [
           "hdf5-c-402653184-402653184"
          ]
         ],
         "hovertemplate": "engine=hdf5-c<br>filesize per chunk=%{x}<br>time taken=%{y}<br>format=%{customdata[0]}<extra></extra>",
         "legendgroup": "hdf5-c",
         "marker": {
          "color": "#ab63fa"
         },
         "name": "hdf5-c",
         "notched": false,
         "offsetgroup": "hdf5-c",
         "orientation": "v",
         "showlegend": true,
         "type": "box",
         "x": [
          "3072.0 MB",
          "3072.0 MB",
          "3072.0 MB",
          "3072.0 MB",
          "3072.0 MB",
          "3072.0 MB",
          "3072.0 MB",
          "3072.0 MB",
          "3072.0 MB",
          "3072.0 MB"
         ],
         "x0": " ",
         "xaxis": "x",
         "y": [
          0.40457299999999996,
          0.47253199999999995,
          0.40116799999999997,
          0.401652,
          0.417379,
          0.375791,
          0.375793,
          0.38658499999999996,
          0.387801,
          0.385051
         ],
         "y0": " ",
         "yaxis": "y"
        },
        {
         "alignmentgroup": "True",
         "customdata": [
          [
           "hdf5-subfiling-134217728-134217728"
          ],
          [
           "hdf5-subfiling-134217728-134217728"
          ],
          [
           "hdf5-subfiling-134217728-134217728"
          ],
          [
           "hdf5-subfiling-134217728-134217728"
          ],
          [
           "hdf5-subfiling-134217728-134217728"
          ],
          [
           "hdf5-subfiling-134217728-134217728"
          ],
          [
           "hdf5-subfiling-134217728-134217728"
          ],
          [
           "hdf5-subfiling-134217728-134217728"
          ],
          [
           "hdf5-subfiling-134217728-134217728"
          ],
          [
           "hdf5-subfiling-134217728-134217728"
          ]
         ],
         "hovertemplate": "engine=hdf5-subfiling<br>filesize per chunk=%{x}<br>time taken=%{y}<br>format=%{customdata[0]}<extra></extra>",
         "legendgroup": "hdf5-subfiling",
         "marker": {
          "color": "#FFA15A"
         },
         "name": "hdf5-subfiling",
         "notched": false,
         "offsetgroup": "hdf5-subfiling",
         "orientation": "v",
         "showlegend": true,
         "type": "box",
         "x": [
          "1024.0 MB",
          "1024.0 MB",
          "1024.0 MB",
          "1024.0 MB",
          "1024.0 MB",
          "1024.0 MB",
          "1024.0 MB",
          "1024.0 MB",
          "1024.0 MB",
          "1024.0 MB"
         ],
         "x0": " ",
         "xaxis": "x",
         "y": [
          0.24542000000000003,
          0.35334699999999997,
          0.266121,
          0.23990399999999998,
          0.23974099999999998,
          0.241447,
          0.240508,
          0.240274,
          0.24043499999999998,
          0.238611
         ],
         "y0": " ",
         "yaxis": "y"
        },
        {
         "alignmentgroup": "True",
         "customdata": [
          [
           "hdf5-async-134217728-134217728"
          ],
          [
           "hdf5-async-134217728-134217728"
          ],
          [
           "hdf5-async-134217728-134217728"
          ],
          [
           "hdf5-async-134217728-134217728"
          ],
          [
           "hdf5-async-134217728-134217728"
          ],
          [
           "hdf5-async-134217728-134217728"
          ],
          [
           "hdf5-async-134217728-134217728"
          ],
          [
           "hdf5-async-134217728-134217728"
          ],
          [
           "hdf5-async-134217728-134217728"
          ],
          [
           "hdf5-async-134217728-134217728"
          ]
         ],
         "hovertemplate": "engine=hdf5-async<br>filesize per chunk=%{x}<br>time taken=%{y}<br>format=%{customdata[0]}<extra></extra>",
         "legendgroup": "hdf5-async",
         "marker": {
          "color": "#19d3f3"
         },
         "name": "hdf5-async",
         "notched": false,
         "offsetgroup": "hdf5-async",
         "orientation": "v",
         "showlegend": true,
         "type": "box",
         "x": [
          "1024.0 MB",
          "1024.0 MB",
          "1024.0 MB",
          "1024.0 MB",
          "1024.0 MB",
          "1024.0 MB",
          "1024.0 MB",
          "1024.0 MB",
          "1024.0 MB",
          "1024.0 MB"
         ],
         "x0": " ",
         "xaxis": "x",
         "y": [
          0.488818,
          0.15956199999999998,
          0.130557,
          0.128801,
          0.147416,
          0.134387,
          0.135026,
          0.130529,
          0.17788,
          0.142269
         ],
         "y0": " ",
         "yaxis": "y"
        },
        {
         "alignmentgroup": "True",
         "customdata": [
          [
           "netcdf4-c-134217728-134217728"
          ],
          [
           "netcdf4-c-134217728-134217728"
          ],
          [
           "netcdf4-c-134217728-134217728"
          ],
          [
           "netcdf4-c-134217728-134217728"
          ],
          [
           "netcdf4-c-134217728-134217728"
          ],
          [
           "netcdf4-c-134217728-134217728"
          ],
          [
           "netcdf4-c-134217728-134217728"
          ],
          [
           "netcdf4-c-134217728-134217728"
          ],
          [
           "netcdf4-c-134217728-134217728"
          ],
          [
           "netcdf4-c-134217728-134217728"
          ],
          [
           "netcdf4-c-134217728-134217728"
          ],
          [
           "netcdf4-c-134217728-134217728"
          ],
          [
           "netcdf4-c-134217728-134217728"
          ],
          [
           "netcdf4-c-134217728-134217728"
          ],
          [
           "netcdf4-c-134217728-134217728"
          ],
          [
           "netcdf4-c-134217728-134217728"
          ],
          [
           "netcdf4-c-134217728-134217728"
          ],
          [
           "netcdf4-c-134217728-134217728"
          ],
          [
           "netcdf4-c-134217728-134217728"
          ],
          [
           "netcdf4-c-134217728-134217728"
          ],
          [
           "netcdf4-c-134217728-134217728"
          ],
          [
           "netcdf4-c-134217728-134217728"
          ],
          [
           "netcdf4-c-134217728-134217728"
          ],
          [
           "netcdf4-c-134217728-134217728"
          ],
          [
           "netcdf4-c-134217728-134217728"
          ],
          [
           "netcdf4-c-134217728-134217728"
          ],
          [
           "netcdf4-c-134217728-134217728"
          ],
          [
           "netcdf4-c-134217728-134217728"
          ],
          [
           "netcdf4-c-134217728-134217728"
          ],
          [
           "netcdf4-c-134217728-134217728"
          ],
          [
           "netcdf4-c-134217728-134217728"
          ],
          [
           "netcdf4-c-134217728-134217728"
          ],
          [
           "netcdf4-c-134217728-134217728"
          ],
          [
           "netcdf4-c-134217728-134217728"
          ],
          [
           "netcdf4-c-134217728-134217728"
          ],
          [
           "netcdf4-c-134217728-134217728"
          ],
          [
           "netcdf4-c-134217728-134217728"
          ],
          [
           "netcdf4-c-134217728-134217728"
          ],
          [
           "netcdf4-c-134217728-134217728"
          ],
          [
           "netcdf4-c-134217728-134217728"
          ],
          [
           "netcdf4-c-134217728-134217728"
          ],
          [
           "netcdf4-c-134217728-134217728"
          ],
          [
           "netcdf4-c-134217728-134217728"
          ],
          [
           "netcdf4-c-134217728-134217728"
          ],
          [
           "netcdf4-c-134217728-134217728"
          ],
          [
           "netcdf4-c-134217728-134217728"
          ],
          [
           "netcdf4-c-134217728-134217728"
          ],
          [
           "netcdf4-c-134217728-134217728"
          ],
          [
           "netcdf4-c-134217728-134217728"
          ],
          [
           "netcdf4-c-134217728-134217728"
          ],
          [
           "netcdf4-c-134217728-134217728"
          ],
          [
           "netcdf4-c-134217728-134217728"
          ],
          [
           "netcdf4-c-134217728-134217728"
          ],
          [
           "netcdf4-c-134217728-134217728"
          ],
          [
           "netcdf4-c-134217728-134217728"
          ],
          [
           "netcdf4-c-134217728-134217728"
          ],
          [
           "netcdf4-c-134217728-134217728"
          ],
          [
           "netcdf4-c-134217728-134217728"
          ],
          [
           "netcdf4-c-134217728-134217728"
          ],
          [
           "netcdf4-c-134217728-134217728"
          ],
          [
           "netcdf4-c-134217728-134217728"
          ],
          [
           "netcdf4-c-134217728-134217728"
          ],
          [
           "netcdf4-c-134217728-134217728"
          ],
          [
           "netcdf4-c-134217728-134217728"
          ],
          [
           "netcdf4-c-134217728-134217728"
          ],
          [
           "netcdf4-c-134217728-134217728"
          ],
          [
           "netcdf4-c-134217728-134217728"
          ],
          [
           "netcdf4-c-134217728-134217728"
          ],
          [
           "netcdf4-c-134217728-134217728"
          ],
          [
           "netcdf4-c-134217728-134217728"
          ],
          [
           "netcdf4-c-134217728-134217728"
          ],
          [
           "netcdf4-c-134217728-134217728"
          ],
          [
           "netcdf4-c-134217728-134217728"
          ],
          [
           "netcdf4-c-134217728-134217728"
          ],
          [
           "netcdf4-c-134217728-134217728"
          ],
          [
           "netcdf4-c-134217728-134217728"
          ],
          [
           "netcdf4-c-134217728-134217728"
          ],
          [
           "netcdf4-c-134217728-134217728"
          ],
          [
           "netcdf4-c-134217728-134217728"
          ],
          [
           "netcdf4-c-134217728-134217728"
          ],
          [
           "netcdf4-c-134217728-134217728"
          ],
          [
           "netcdf4-c-134217728-134217728"
          ],
          [
           "netcdf4-c-134217728-134217728"
          ],
          [
           "netcdf4-c-134217728-134217728"
          ],
          [
           "netcdf4-c-134217728-134217728"
          ],
          [
           "netcdf4-c-134217728-134217728"
          ],
          [
           "netcdf4-c-134217728-134217728"
          ],
          [
           "netcdf4-c-134217728-134217728"
          ],
          [
           "netcdf4-c-134217728-134217728"
          ],
          [
           "netcdf4-c-134217728-134217728"
          ],
          [
           "netcdf4-c-134217728-134217728"
          ],
          [
           "netcdf4-c-134217728-134217728"
          ],
          [
           "netcdf4-c-134217728-134217728"
          ],
          [
           "netcdf4-c-134217728-134217728"
          ],
          [
           "netcdf4-c-134217728-134217728"
          ],
          [
           "netcdf4-c-134217728-134217728"
          ],
          [
           "netcdf4-c-134217728-134217728"
          ],
          [
           "netcdf4-c-134217728-134217728"
          ],
          [
           "netcdf4-c-134217728-134217728"
          ],
          [
           "netcdf4-c-134217728-134217728"
          ]
         ],
         "hovertemplate": "engine=netcdf4-c<br>filesize per chunk=%{x}<br>time taken=%{y}<br>format=%{customdata[0]}<extra></extra>",
         "legendgroup": "netcdf4-c",
         "marker": {
          "color": "#FF6692"
         },
         "name": "netcdf4-c",
         "notched": false,
         "offsetgroup": "netcdf4-c",
         "orientation": "v",
         "showlegend": true,
         "type": "box",
         "x": [
          "1024.0 MB",
          "1024.0 MB",
          "1024.0 MB",
          "1024.0 MB",
          "1024.0 MB",
          "1024.0 MB",
          "1024.0 MB",
          "1024.0 MB",
          "1024.0 MB",
          "1024.0 MB",
          "1024.0 MB",
          "1024.0 MB",
          "1024.0 MB",
          "1024.0 MB",
          "1024.0 MB",
          "1024.0 MB",
          "1024.0 MB",
          "1024.0 MB",
          "1024.0 MB",
          "1024.0 MB",
          "1024.0 MB",
          "1024.0 MB",
          "1024.0 MB",
          "1024.0 MB",
          "1024.0 MB",
          "1024.0 MB",
          "1024.0 MB",
          "1024.0 MB",
          "1024.0 MB",
          "1024.0 MB",
          "1024.0 MB",
          "1024.0 MB",
          "1024.0 MB",
          "1024.0 MB",
          "1024.0 MB",
          "1024.0 MB",
          "1024.0 MB",
          "1024.0 MB",
          "1024.0 MB",
          "1024.0 MB",
          "1024.0 MB",
          "1024.0 MB",
          "1024.0 MB",
          "1024.0 MB",
          "1024.0 MB",
          "1024.0 MB",
          "1024.0 MB",
          "1024.0 MB",
          "1024.0 MB",
          "1024.0 MB",
          "1024.0 MB",
          "1024.0 MB",
          "1024.0 MB",
          "1024.0 MB",
          "1024.0 MB",
          "1024.0 MB",
          "1024.0 MB",
          "1024.0 MB",
          "1024.0 MB",
          "1024.0 MB",
          "1024.0 MB",
          "1024.0 MB",
          "1024.0 MB",
          "1024.0 MB",
          "1024.0 MB",
          "1024.0 MB",
          "1024.0 MB",
          "1024.0 MB",
          "1024.0 MB",
          "1024.0 MB",
          "1024.0 MB",
          "1024.0 MB",
          "1024.0 MB",
          "1024.0 MB",
          "1024.0 MB",
          "1024.0 MB",
          "1024.0 MB",
          "1024.0 MB",
          "1024.0 MB",
          "1024.0 MB",
          "1024.0 MB",
          "1024.0 MB",
          "1024.0 MB",
          "1024.0 MB",
          "1024.0 MB",
          "1024.0 MB",
          "1024.0 MB",
          "1024.0 MB",
          "1024.0 MB",
          "1024.0 MB",
          "1024.0 MB",
          "1024.0 MB",
          "1024.0 MB",
          "1024.0 MB",
          "1024.0 MB",
          "1024.0 MB",
          "1024.0 MB",
          "1024.0 MB",
          "1024.0 MB",
          "1024.0 MB"
         ],
         "x0": " ",
         "xaxis": "x",
         "y": [
          0.602101,
          0.261602,
          0.165743,
          0.160828,
          0.160964,
          0.162638,
          0.166608,
          0.16283,
          0.161029,
          0.162787,
          0.16119,
          0.165231,
          0.162049,
          0.228676,
          0.15734299999999998,
          0.156792,
          0.157254,
          0.174684,
          0.17216099999999998,
          0.17028000000000001,
          0.163677,
          0.164027,
          0.167008,
          0.16619799999999998,
          0.16371000000000002,
          0.249969,
          0.163681,
          0.194128,
          0.170982,
          0.167784,
          0.166202,
          0.158468,
          0.157573,
          0.157942,
          0.159853,
          0.163013,
          0.165434,
          0.250596,
          0.165705,
          0.165467,
          0.16472699999999998,
          0.16599000000000003,
          0.16185000000000002,
          0.161995,
          0.161858,
          0.161,
          0.161017,
          0.161511,
          0.16245199999999999,
          0.253677,
          0.16170099999999998,
          0.16125899999999999,
          0.161732,
          0.16175,
          0.162327,
          0.16173099999999999,
          0.161686,
          0.163355,
          0.166156,
          0.187822,
          0.17108099999999998,
          0.213359,
          0.279502,
          0.210704,
          0.23077199999999998,
          0.172618,
          0.168672,
          0.165784,
          0.16625,
          0.168162,
          0.164674,
          0.163358,
          0.164461,
          0.263136,
          0.168314,
          0.168706,
          0.166732,
          0.162468,
          0.163489,
          0.16236299999999998,
          0.160739,
          0.16452799999999998,
          0.161527,
          0.161993,
          0.163982,
          0.252378,
          0.16166000000000003,
          0.161906,
          0.164388,
          0.17304799999999998,
          0.16678199999999999,
          0.165329,
          0.16675,
          0.163158,
          0.161529,
          0.16248,
          0.173807,
          0.281233,
          0.186132,
          0.226984
         ],
         "y0": " ",
         "yaxis": "y"
        }
       ],
       "layout": {
        "boxmode": "group",
        "legend": {
         "title": {
          "text": "engine"
         },
         "tracegroupgap": 0
        },
        "template": {
         "data": {
          "bar": [
           {
            "error_x": {
             "color": "#2a3f5f"
            },
            "error_y": {
             "color": "#2a3f5f"
            },
            "marker": {
             "line": {
              "color": "#E5ECF6",
              "width": 0.5
             },
             "pattern": {
              "fillmode": "overlay",
              "size": 10,
              "solidity": 0.2
             }
            },
            "type": "bar"
           }
          ],
          "barpolar": [
           {
            "marker": {
             "line": {
              "color": "#E5ECF6",
              "width": 0.5
             },
             "pattern": {
              "fillmode": "overlay",
              "size": 10,
              "solidity": 0.2
             }
            },
            "type": "barpolar"
           }
          ],
          "carpet": [
           {
            "aaxis": {
             "endlinecolor": "#2a3f5f",
             "gridcolor": "white",
             "linecolor": "white",
             "minorgridcolor": "white",
             "startlinecolor": "#2a3f5f"
            },
            "baxis": {
             "endlinecolor": "#2a3f5f",
             "gridcolor": "white",
             "linecolor": "white",
             "minorgridcolor": "white",
             "startlinecolor": "#2a3f5f"
            },
            "type": "carpet"
           }
          ],
          "choropleth": [
           {
            "colorbar": {
             "outlinewidth": 0,
             "ticks": ""
            },
            "type": "choropleth"
           }
          ],
          "contour": [
           {
            "colorbar": {
             "outlinewidth": 0,
             "ticks": ""
            },
            "colorscale": [
             [
              0,
              "#0d0887"
             ],
             [
              0.1111111111111111,
              "#46039f"
             ],
             [
              0.2222222222222222,
              "#7201a8"
             ],
             [
              0.3333333333333333,
              "#9c179e"
             ],
             [
              0.4444444444444444,
              "#bd3786"
             ],
             [
              0.5555555555555556,
              "#d8576b"
             ],
             [
              0.6666666666666666,
              "#ed7953"
             ],
             [
              0.7777777777777778,
              "#fb9f3a"
             ],
             [
              0.8888888888888888,
              "#fdca26"
             ],
             [
              1,
              "#f0f921"
             ]
            ],
            "type": "contour"
           }
          ],
          "contourcarpet": [
           {
            "colorbar": {
             "outlinewidth": 0,
             "ticks": ""
            },
            "type": "contourcarpet"
           }
          ],
          "heatmap": [
           {
            "colorbar": {
             "outlinewidth": 0,
             "ticks": ""
            },
            "colorscale": [
             [
              0,
              "#0d0887"
             ],
             [
              0.1111111111111111,
              "#46039f"
             ],
             [
              0.2222222222222222,
              "#7201a8"
             ],
             [
              0.3333333333333333,
              "#9c179e"
             ],
             [
              0.4444444444444444,
              "#bd3786"
             ],
             [
              0.5555555555555556,
              "#d8576b"
             ],
             [
              0.6666666666666666,
              "#ed7953"
             ],
             [
              0.7777777777777778,
              "#fb9f3a"
             ],
             [
              0.8888888888888888,
              "#fdca26"
             ],
             [
              1,
              "#f0f921"
             ]
            ],
            "type": "heatmap"
           }
          ],
          "heatmapgl": [
           {
            "colorbar": {
             "outlinewidth": 0,
             "ticks": ""
            },
            "colorscale": [
             [
              0,
              "#0d0887"
             ],
             [
              0.1111111111111111,
              "#46039f"
             ],
             [
              0.2222222222222222,
              "#7201a8"
             ],
             [
              0.3333333333333333,
              "#9c179e"
             ],
             [
              0.4444444444444444,
              "#bd3786"
             ],
             [
              0.5555555555555556,
              "#d8576b"
             ],
             [
              0.6666666666666666,
              "#ed7953"
             ],
             [
              0.7777777777777778,
              "#fb9f3a"
             ],
             [
              0.8888888888888888,
              "#fdca26"
             ],
             [
              1,
              "#f0f921"
             ]
            ],
            "type": "heatmapgl"
           }
          ],
          "histogram": [
           {
            "marker": {
             "pattern": {
              "fillmode": "overlay",
              "size": 10,
              "solidity": 0.2
             }
            },
            "type": "histogram"
           }
          ],
          "histogram2d": [
           {
            "colorbar": {
             "outlinewidth": 0,
             "ticks": ""
            },
            "colorscale": [
             [
              0,
              "#0d0887"
             ],
             [
              0.1111111111111111,
              "#46039f"
             ],
             [
              0.2222222222222222,
              "#7201a8"
             ],
             [
              0.3333333333333333,
              "#9c179e"
             ],
             [
              0.4444444444444444,
              "#bd3786"
             ],
             [
              0.5555555555555556,
              "#d8576b"
             ],
             [
              0.6666666666666666,
              "#ed7953"
             ],
             [
              0.7777777777777778,
              "#fb9f3a"
             ],
             [
              0.8888888888888888,
              "#fdca26"
             ],
             [
              1,
              "#f0f921"
             ]
            ],
            "type": "histogram2d"
           }
          ],
          "histogram2dcontour": [
           {
            "colorbar": {
             "outlinewidth": 0,
             "ticks": ""
            },
            "colorscale": [
             [
              0,
              "#0d0887"
             ],
             [
              0.1111111111111111,
              "#46039f"
             ],
             [
              0.2222222222222222,
              "#7201a8"
             ],
             [
              0.3333333333333333,
              "#9c179e"
             ],
             [
              0.4444444444444444,
              "#bd3786"
             ],
             [
              0.5555555555555556,
              "#d8576b"
             ],
             [
              0.6666666666666666,
              "#ed7953"
             ],
             [
              0.7777777777777778,
              "#fb9f3a"
             ],
             [
              0.8888888888888888,
              "#fdca26"
             ],
             [
              1,
              "#f0f921"
             ]
            ],
            "type": "histogram2dcontour"
           }
          ],
          "mesh3d": [
           {
            "colorbar": {
             "outlinewidth": 0,
             "ticks": ""
            },
            "type": "mesh3d"
           }
          ],
          "parcoords": [
           {
            "line": {
             "colorbar": {
              "outlinewidth": 0,
              "ticks": ""
             }
            },
            "type": "parcoords"
           }
          ],
          "pie": [
           {
            "automargin": true,
            "type": "pie"
           }
          ],
          "scatter": [
           {
            "fillpattern": {
             "fillmode": "overlay",
             "size": 10,
             "solidity": 0.2
            },
            "type": "scatter"
           }
          ],
          "scatter3d": [
           {
            "line": {
             "colorbar": {
              "outlinewidth": 0,
              "ticks": ""
             }
            },
            "marker": {
             "colorbar": {
              "outlinewidth": 0,
              "ticks": ""
             }
            },
            "type": "scatter3d"
           }
          ],
          "scattercarpet": [
           {
            "marker": {
             "colorbar": {
              "outlinewidth": 0,
              "ticks": ""
             }
            },
            "type": "scattercarpet"
           }
          ],
          "scattergeo": [
           {
            "marker": {
             "colorbar": {
              "outlinewidth": 0,
              "ticks": ""
             }
            },
            "type": "scattergeo"
           }
          ],
          "scattergl": [
           {
            "marker": {
             "colorbar": {
              "outlinewidth": 0,
              "ticks": ""
             }
            },
            "type": "scattergl"
           }
          ],
          "scattermapbox": [
           {
            "marker": {
             "colorbar": {
              "outlinewidth": 0,
              "ticks": ""
             }
            },
            "type": "scattermapbox"
           }
          ],
          "scatterpolar": [
           {
            "marker": {
             "colorbar": {
              "outlinewidth": 0,
              "ticks": ""
             }
            },
            "type": "scatterpolar"
           }
          ],
          "scatterpolargl": [
           {
            "marker": {
             "colorbar": {
              "outlinewidth": 0,
              "ticks": ""
             }
            },
            "type": "scatterpolargl"
           }
          ],
          "scatterternary": [
           {
            "marker": {
             "colorbar": {
              "outlinewidth": 0,
              "ticks": ""
             }
            },
            "type": "scatterternary"
           }
          ],
          "surface": [
           {
            "colorbar": {
             "outlinewidth": 0,
             "ticks": ""
            },
            "colorscale": [
             [
              0,
              "#0d0887"
             ],
             [
              0.1111111111111111,
              "#46039f"
             ],
             [
              0.2222222222222222,
              "#7201a8"
             ],
             [
              0.3333333333333333,
              "#9c179e"
             ],
             [
              0.4444444444444444,
              "#bd3786"
             ],
             [
              0.5555555555555556,
              "#d8576b"
             ],
             [
              0.6666666666666666,
              "#ed7953"
             ],
             [
              0.7777777777777778,
              "#fb9f3a"
             ],
             [
              0.8888888888888888,
              "#fdca26"
             ],
             [
              1,
              "#f0f921"
             ]
            ],
            "type": "surface"
           }
          ],
          "table": [
           {
            "cells": {
             "fill": {
              "color": "#EBF0F8"
             },
             "line": {
              "color": "white"
             }
            },
            "header": {
             "fill": {
              "color": "#C8D4E3"
             },
             "line": {
              "color": "white"
             }
            },
            "type": "table"
           }
          ]
         },
         "layout": {
          "annotationdefaults": {
           "arrowcolor": "#2a3f5f",
           "arrowhead": 0,
           "arrowwidth": 1
          },
          "autotypenumbers": "strict",
          "coloraxis": {
           "colorbar": {
            "outlinewidth": 0,
            "ticks": ""
           }
          },
          "colorscale": {
           "diverging": [
            [
             0,
             "#8e0152"
            ],
            [
             0.1,
             "#c51b7d"
            ],
            [
             0.2,
             "#de77ae"
            ],
            [
             0.3,
             "#f1b6da"
            ],
            [
             0.4,
             "#fde0ef"
            ],
            [
             0.5,
             "#f7f7f7"
            ],
            [
             0.6,
             "#e6f5d0"
            ],
            [
             0.7,
             "#b8e186"
            ],
            [
             0.8,
             "#7fbc41"
            ],
            [
             0.9,
             "#4d9221"
            ],
            [
             1,
             "#276419"
            ]
           ],
           "sequential": [
            [
             0,
             "#0d0887"
            ],
            [
             0.1111111111111111,
             "#46039f"
            ],
            [
             0.2222222222222222,
             "#7201a8"
            ],
            [
             0.3333333333333333,
             "#9c179e"
            ],
            [
             0.4444444444444444,
             "#bd3786"
            ],
            [
             0.5555555555555556,
             "#d8576b"
            ],
            [
             0.6666666666666666,
             "#ed7953"
            ],
            [
             0.7777777777777778,
             "#fb9f3a"
            ],
            [
             0.8888888888888888,
             "#fdca26"
            ],
            [
             1,
             "#f0f921"
            ]
           ],
           "sequentialminus": [
            [
             0,
             "#0d0887"
            ],
            [
             0.1111111111111111,
             "#46039f"
            ],
            [
             0.2222222222222222,
             "#7201a8"
            ],
            [
             0.3333333333333333,
             "#9c179e"
            ],
            [
             0.4444444444444444,
             "#bd3786"
            ],
            [
             0.5555555555555556,
             "#d8576b"
            ],
            [
             0.6666666666666666,
             "#ed7953"
            ],
            [
             0.7777777777777778,
             "#fb9f3a"
            ],
            [
             0.8888888888888888,
             "#fdca26"
            ],
            [
             1,
             "#f0f921"
            ]
           ]
          },
          "colorway": [
           "#636efa",
           "#EF553B",
           "#00cc96",
           "#ab63fa",
           "#FFA15A",
           "#19d3f3",
           "#FF6692",
           "#B6E880",
           "#FF97FF",
           "#FECB52"
          ],
          "font": {
           "color": "#2a3f5f"
          },
          "geo": {
           "bgcolor": "white",
           "lakecolor": "white",
           "landcolor": "#E5ECF6",
           "showlakes": true,
           "showland": true,
           "subunitcolor": "white"
          },
          "hoverlabel": {
           "align": "left"
          },
          "hovermode": "closest",
          "mapbox": {
           "style": "light"
          },
          "paper_bgcolor": "white",
          "plot_bgcolor": "#E5ECF6",
          "polar": {
           "angularaxis": {
            "gridcolor": "white",
            "linecolor": "white",
            "ticks": ""
           },
           "bgcolor": "#E5ECF6",
           "radialaxis": {
            "gridcolor": "white",
            "linecolor": "white",
            "ticks": ""
           }
          },
          "scene": {
           "xaxis": {
            "backgroundcolor": "#E5ECF6",
            "gridcolor": "white",
            "gridwidth": 2,
            "linecolor": "white",
            "showbackground": true,
            "ticks": "",
            "zerolinecolor": "white"
           },
           "yaxis": {
            "backgroundcolor": "#E5ECF6",
            "gridcolor": "white",
            "gridwidth": 2,
            "linecolor": "white",
            "showbackground": true,
            "ticks": "",
            "zerolinecolor": "white"
           },
           "zaxis": {
            "backgroundcolor": "#E5ECF6",
            "gridcolor": "white",
            "gridwidth": 2,
            "linecolor": "white",
            "showbackground": true,
            "ticks": "",
            "zerolinecolor": "white"
           }
          },
          "shapedefaults": {
           "line": {
            "color": "#2a3f5f"
           }
          },
          "ternary": {
           "aaxis": {
            "gridcolor": "white",
            "linecolor": "white",
            "ticks": ""
           },
           "baxis": {
            "gridcolor": "white",
            "linecolor": "white",
            "ticks": ""
           },
           "bgcolor": "#E5ECF6",
           "caxis": {
            "gridcolor": "white",
            "linecolor": "white",
            "ticks": ""
           }
          },
          "title": {
           "x": 0.05
          },
          "xaxis": {
           "automargin": true,
           "gridcolor": "white",
           "linecolor": "white",
           "ticks": "",
           "title": {
            "standoff": 15
           },
           "zerolinecolor": "white",
           "zerolinewidth": 2
          },
          "yaxis": {
           "automargin": true,
           "gridcolor": "white",
           "linecolor": "white",
           "ticks": "",
           "title": {
            "standoff": 15
           },
           "zerolinecolor": "white",
           "zerolinewidth": 2
          }
         }
        },
        "title": {
         "text": "filesize per chunk"
        },
        "xaxis": {
         "anchor": "y",
         "domain": [
          0,
          1
         ],
         "title": {
          "text": "filesize per chunk"
         }
        },
        "yaxis": {
         "anchor": "x",
         "domain": [
          0,
          1
         ],
         "title": {
          "text": "time taken"
         },
         "type": "log"
        }
       }
      },
      "text/html": [
       "<div>                            <div id=\"712722ff-960e-45d4-9c4f-abbcd342f4b8\" class=\"plotly-graph-div\" style=\"height:525px; width:100%;\"></div>            <script type=\"text/javascript\">                require([\"plotly\"], function(Plotly) {                    window.PLOTLYENV=window.PLOTLYENV || {};                                    if (document.getElementById(\"712722ff-960e-45d4-9c4f-abbcd342f4b8\")) {                    Plotly.newPlot(                        \"712722ff-960e-45d4-9c4f-abbcd342f4b8\",                        [{\"alignmentgroup\":\"True\",\"customdata\":[[\"zarr-[1536, 512, 512]-[1536, 512, 128]\"],[\"zarr-[1536, 512, 512]-[1536, 512, 128]\"],[\"zarr-[1536, 512, 512]-[1536, 512, 128]\"],[\"zarr-[1536, 512, 512]-[1536, 512, 128]\"],[\"zarr-[1536, 512, 512]-[1536, 512, 128]\"],[\"zarr-[1536, 512, 512]-[1536, 512, 128]\"],[\"zarr-[1536, 512, 512]-[1536, 512, 128]\"],[\"zarr-[1536, 512, 512]-[1536, 512, 128]\"],[\"zarr-[1536, 512, 512]-[1536, 512, 128]\"],[\"zarr-[1536, 512, 512]-[1536, 512, 128]\"],[\"zarr-[1536, 512, 512]-[1536, 512, 256]\"],[\"zarr-[1536, 512, 512]-[1536, 512, 256]\"],[\"zarr-[1536, 512, 512]-[1536, 512, 256]\"],[\"zarr-[1536, 512, 512]-[1536, 512, 256]\"],[\"zarr-[1536, 512, 512]-[1536, 512, 256]\"],[\"zarr-[1536, 512, 512]-[1536, 512, 256]\"],[\"zarr-[1536, 512, 512]-[1536, 512, 256]\"],[\"zarr-[1536, 512, 512]-[1536, 512, 256]\"],[\"zarr-[1536, 512, 512]-[1536, 512, 256]\"],[\"zarr-[1536, 512, 512]-[1536, 512, 256]\"],[\"zarr-[1536, 512, 512]-[1536, 512, 512]\"],[\"zarr-[1536, 512, 512]-[1536, 512, 512]\"],[\"zarr-[1536, 512, 512]-[1536, 512, 512]\"],[\"zarr-[1536, 512, 512]-[1536, 512, 512]\"],[\"zarr-[1536, 512, 512]-[1536, 512, 512]\"],[\"zarr-[1536, 512, 512]-[1536, 512, 512]\"],[\"zarr-[1536, 512, 512]-[1536, 512, 512]\"],[\"zarr-[1536, 512, 512]-[1536, 512, 512]\"],[\"zarr-[1536, 512, 512]-[1536, 512, 512]\"],[\"zarr-[1536, 512, 512]-[1536, 512, 512]\"]],\"hovertemplate\":\"engine=zarr\\u003cbr\\u003efilesize per chunk=%{x}\\u003cbr\\u003etime taken=%{y}\\u003cbr\\u003eformat=%{customdata[0]}\\u003cextra\\u003e\\u003c\\u002fextra\\u003e\",\"legendgroup\":\"zarr\",\"marker\":{\"color\":\"#636efa\"},\"name\":\"zarr\",\"notched\":false,\"offsetgroup\":\"zarr\",\"orientation\":\"v\",\"showlegend\":true,\"x\":[\"768.0 MB\",\"768.0 MB\",\"768.0 MB\",\"768.0 MB\",\"768.0 MB\",\"768.0 MB\",\"768.0 MB\",\"768.0 MB\",\"768.0 MB\",\"768.0 MB\",\"1536.0 MB\",\"1536.0 MB\",\"1536.0 MB\",\"1536.0 MB\",\"1536.0 MB\",\"1536.0 MB\",\"1536.0 MB\",\"1536.0 MB\",\"1536.0 MB\",\"1536.0 MB\",\"3072.0 MB\",\"3072.0 MB\",\"3072.0 MB\",\"3072.0 MB\",\"3072.0 MB\",\"3072.0 MB\",\"3072.0 MB\",\"3072.0 MB\",\"3072.0 MB\",\"3072.0 MB\"],\"x0\":\" \",\"xaxis\":\"x\",\"y\":[1.561470602,1.119593804,1.131029809,1.100024496,1.106562787,1.08532757,1.084824497,1.07139167,1.062812411,1.072172126,3.524663635,1.640390784,1.58037417,1.498136551,1.499260701,1.471429969,1.441589899,1.5037154799999999,1.440095022,1.437127042,4.696084097,2.482777822,2.385498438,2.281798491,2.308118287,2.266521942,2.249475183,2.2242104400000002,2.264185753,2.252098626],\"y0\":\" \",\"yaxis\":\"y\",\"type\":\"box\"},{\"alignmentgroup\":\"True\",\"customdata\":[[\"netcdf4-[1536, 512, 512]-[1536, 512, 128]\"],[\"netcdf4-[1536, 512, 512]-[1536, 512, 128]\"],[\"netcdf4-[1536, 512, 512]-[1536, 512, 128]\"],[\"netcdf4-[1536, 512, 512]-[1536, 512, 128]\"],[\"netcdf4-[1536, 512, 512]-[1536, 512, 128]\"],[\"netcdf4-[1536, 512, 512]-[1536, 512, 128]\"],[\"netcdf4-[1536, 512, 512]-[1536, 512, 128]\"],[\"netcdf4-[1536, 512, 512]-[1536, 512, 128]\"],[\"netcdf4-[1536, 512, 512]-[1536, 512, 128]\"],[\"netcdf4-[1536, 512, 512]-[1536, 512, 128]\"],[\"netcdf4-[1536, 512, 512]-[1536, 512, 256]\"],[\"netcdf4-[1536, 512, 512]-[1536, 512, 256]\"],[\"netcdf4-[1536, 512, 512]-[1536, 512, 256]\"],[\"netcdf4-[1536, 512, 512]-[1536, 512, 256]\"],[\"netcdf4-[1536, 512, 512]-[1536, 512, 256]\"],[\"netcdf4-[1536, 512, 512]-[1536, 512, 256]\"],[\"netcdf4-[1536, 512, 512]-[1536, 512, 256]\"],[\"netcdf4-[1536, 512, 512]-[1536, 512, 256]\"],[\"netcdf4-[1536, 512, 512]-[1536, 512, 256]\"],[\"netcdf4-[1536, 512, 512]-[1536, 512, 256]\"],[\"netcdf4-[1536, 512, 512]-[1536, 512, 512]\"],[\"netcdf4-[1536, 512, 512]-[1536, 512, 512]\"],[\"netcdf4-[1536, 512, 512]-[1536, 512, 512]\"],[\"netcdf4-[1536, 512, 512]-[1536, 512, 512]\"],[\"netcdf4-[1536, 512, 512]-[1536, 512, 512]\"],[\"netcdf4-[1536, 512, 512]-[1536, 512, 512]\"],[\"netcdf4-[1536, 512, 512]-[1536, 512, 512]\"],[\"netcdf4-[1536, 512, 512]-[1536, 512, 512]\"],[\"netcdf4-[1536, 512, 512]-[1536, 512, 512]\"],[\"netcdf4-[1536, 512, 512]-[1536, 512, 512]\"]],\"hovertemplate\":\"engine=netcdf4\\u003cbr\\u003efilesize per chunk=%{x}\\u003cbr\\u003etime taken=%{y}\\u003cbr\\u003eformat=%{customdata[0]}\\u003cextra\\u003e\\u003c\\u002fextra\\u003e\",\"legendgroup\":\"netcdf4\",\"marker\":{\"color\":\"#EF553B\"},\"name\":\"netcdf4\",\"notched\":false,\"offsetgroup\":\"netcdf4\",\"orientation\":\"v\",\"showlegend\":true,\"x\":[\"768.0 MB\",\"768.0 MB\",\"768.0 MB\",\"768.0 MB\",\"768.0 MB\",\"768.0 MB\",\"768.0 MB\",\"768.0 MB\",\"768.0 MB\",\"768.0 MB\",\"1536.0 MB\",\"1536.0 MB\",\"1536.0 MB\",\"1536.0 MB\",\"1536.0 MB\",\"1536.0 MB\",\"1536.0 MB\",\"1536.0 MB\",\"1536.0 MB\",\"1536.0 MB\",\"3072.0 MB\",\"3072.0 MB\",\"3072.0 MB\",\"3072.0 MB\",\"3072.0 MB\",\"3072.0 MB\",\"3072.0 MB\",\"3072.0 MB\",\"3072.0 MB\",\"3072.0 MB\"],\"x0\":\" \",\"xaxis\":\"x\",\"y\":[2.503007032,1.6436543110000001,1.575713818,1.693407204,1.7019631510000002,1.575951321,1.672457324,1.664683944,1.6092664540000001,1.576138876,3.125054425,0.996413096,0.962528853,0.953506285,0.9874306650000001,0.947477604,0.986009702,0.9486437510000001,0.9766967540000001,0.9475818500000001,0.991430133,0.363354404,0.361270258,0.391785413,0.362657294,0.36500627300000005,0.371078183,0.36441432500000004,0.37061255,0.360128059],\"y0\":\" \",\"yaxis\":\"y\",\"type\":\"box\"},{\"alignmentgroup\":\"True\",\"customdata\":[[\"hdf5-[1536, 512, 512]-[1536, 512, 128]\"],[\"hdf5-[1536, 512, 512]-[1536, 512, 128]\"],[\"hdf5-[1536, 512, 512]-[1536, 512, 128]\"],[\"hdf5-[1536, 512, 512]-[1536, 512, 128]\"],[\"hdf5-[1536, 512, 512]-[1536, 512, 128]\"],[\"hdf5-[1536, 512, 512]-[1536, 512, 128]\"],[\"hdf5-[1536, 512, 512]-[1536, 512, 128]\"],[\"hdf5-[1536, 512, 512]-[1536, 512, 128]\"],[\"hdf5-[1536, 512, 512]-[1536, 512, 128]\"],[\"hdf5-[1536, 512, 512]-[1536, 512, 128]\"],[\"hdf5-[1536, 512, 512]-[1536, 512, 256]\"],[\"hdf5-[1536, 512, 512]-[1536, 512, 256]\"],[\"hdf5-[1536, 512, 512]-[1536, 512, 256]\"],[\"hdf5-[1536, 512, 512]-[1536, 512, 256]\"],[\"hdf5-[1536, 512, 512]-[1536, 512, 256]\"],[\"hdf5-[1536, 512, 512]-[1536, 512, 256]\"],[\"hdf5-[1536, 512, 512]-[1536, 512, 256]\"],[\"hdf5-[1536, 512, 512]-[1536, 512, 256]\"],[\"hdf5-[1536, 512, 512]-[1536, 512, 256]\"],[\"hdf5-[1536, 512, 512]-[1536, 512, 256]\"],[\"hdf5-[1536, 512, 512]-[1536, 512, 512]\"],[\"hdf5-[1536, 512, 512]-[1536, 512, 512]\"],[\"hdf5-[1536, 512, 512]-[1536, 512, 512]\"],[\"hdf5-[1536, 512, 512]-[1536, 512, 512]\"],[\"hdf5-[1536, 512, 512]-[1536, 512, 512]\"],[\"hdf5-[1536, 512, 512]-[1536, 512, 512]\"],[\"hdf5-[1536, 512, 512]-[1536, 512, 512]\"],[\"hdf5-[1536, 512, 512]-[1536, 512, 512]\"],[\"hdf5-[1536, 512, 512]-[1536, 512, 512]\"],[\"hdf5-[1536, 512, 512]-[1536, 512, 512]\"]],\"hovertemplate\":\"engine=hdf5\\u003cbr\\u003efilesize per chunk=%{x}\\u003cbr\\u003etime taken=%{y}\\u003cbr\\u003eformat=%{customdata[0]}\\u003cextra\\u003e\\u003c\\u002fextra\\u003e\",\"legendgroup\":\"hdf5\",\"marker\":{\"color\":\"#00cc96\"},\"name\":\"hdf5\",\"notched\":false,\"offsetgroup\":\"hdf5\",\"orientation\":\"v\",\"showlegend\":true,\"x\":[\"768.0 MB\",\"768.0 MB\",\"768.0 MB\",\"768.0 MB\",\"768.0 MB\",\"768.0 MB\",\"768.0 MB\",\"768.0 MB\",\"768.0 MB\",\"768.0 MB\",\"1536.0 MB\",\"1536.0 MB\",\"1536.0 MB\",\"1536.0 MB\",\"1536.0 MB\",\"1536.0 MB\",\"1536.0 MB\",\"1536.0 MB\",\"1536.0 MB\",\"1536.0 MB\",\"3072.0 MB\",\"3072.0 MB\",\"3072.0 MB\",\"3072.0 MB\",\"3072.0 MB\",\"3072.0 MB\",\"3072.0 MB\",\"3072.0 MB\",\"3072.0 MB\",\"3072.0 MB\"],\"x0\":\" \",\"xaxis\":\"x\",\"y\":[3.6333989950000003,1.487018424,1.4578746,1.449845683,1.45085663,1.4668470980000001,1.45771918,1.505242134,1.449804507,1.453581631,3.120725102,0.985057551,0.9350957080000001,0.9270261150000001,0.886485327,0.9145776550000001,0.8758912310000001,0.87422285,0.87592463,0.8744445670000001,0.8343976740000001,0.30380218800000003,0.265694445,0.30102369500000004,0.262829486,0.27002368,0.264752193,0.262354666,0.26100444300000003,0.262556783],\"y0\":\" \",\"yaxis\":\"y\",\"type\":\"box\"},{\"alignmentgroup\":\"True\",\"customdata\":[[\"hdf5-c-402653184-402653184\"],[\"hdf5-c-402653184-402653184\"],[\"hdf5-c-402653184-402653184\"],[\"hdf5-c-402653184-402653184\"],[\"hdf5-c-402653184-402653184\"],[\"hdf5-c-402653184-402653184\"],[\"hdf5-c-402653184-402653184\"],[\"hdf5-c-402653184-402653184\"],[\"hdf5-c-402653184-402653184\"],[\"hdf5-c-402653184-402653184\"]],\"hovertemplate\":\"engine=hdf5-c\\u003cbr\\u003efilesize per chunk=%{x}\\u003cbr\\u003etime taken=%{y}\\u003cbr\\u003eformat=%{customdata[0]}\\u003cextra\\u003e\\u003c\\u002fextra\\u003e\",\"legendgroup\":\"hdf5-c\",\"marker\":{\"color\":\"#ab63fa\"},\"name\":\"hdf5-c\",\"notched\":false,\"offsetgroup\":\"hdf5-c\",\"orientation\":\"v\",\"showlegend\":true,\"x\":[\"3072.0 MB\",\"3072.0 MB\",\"3072.0 MB\",\"3072.0 MB\",\"3072.0 MB\",\"3072.0 MB\",\"3072.0 MB\",\"3072.0 MB\",\"3072.0 MB\",\"3072.0 MB\"],\"x0\":\" \",\"xaxis\":\"x\",\"y\":[0.40457299999999996,0.47253199999999995,0.40116799999999997,0.401652,0.417379,0.375791,0.375793,0.38658499999999996,0.387801,0.385051],\"y0\":\" \",\"yaxis\":\"y\",\"type\":\"box\"},{\"alignmentgroup\":\"True\",\"customdata\":[[\"hdf5-subfiling-134217728-134217728\"],[\"hdf5-subfiling-134217728-134217728\"],[\"hdf5-subfiling-134217728-134217728\"],[\"hdf5-subfiling-134217728-134217728\"],[\"hdf5-subfiling-134217728-134217728\"],[\"hdf5-subfiling-134217728-134217728\"],[\"hdf5-subfiling-134217728-134217728\"],[\"hdf5-subfiling-134217728-134217728\"],[\"hdf5-subfiling-134217728-134217728\"],[\"hdf5-subfiling-134217728-134217728\"]],\"hovertemplate\":\"engine=hdf5-subfiling\\u003cbr\\u003efilesize per chunk=%{x}\\u003cbr\\u003etime taken=%{y}\\u003cbr\\u003eformat=%{customdata[0]}\\u003cextra\\u003e\\u003c\\u002fextra\\u003e\",\"legendgroup\":\"hdf5-subfiling\",\"marker\":{\"color\":\"#FFA15A\"},\"name\":\"hdf5-subfiling\",\"notched\":false,\"offsetgroup\":\"hdf5-subfiling\",\"orientation\":\"v\",\"showlegend\":true,\"x\":[\"1024.0 MB\",\"1024.0 MB\",\"1024.0 MB\",\"1024.0 MB\",\"1024.0 MB\",\"1024.0 MB\",\"1024.0 MB\",\"1024.0 MB\",\"1024.0 MB\",\"1024.0 MB\"],\"x0\":\" \",\"xaxis\":\"x\",\"y\":[0.24542000000000003,0.35334699999999997,0.266121,0.23990399999999998,0.23974099999999998,0.241447,0.240508,0.240274,0.24043499999999998,0.238611],\"y0\":\" \",\"yaxis\":\"y\",\"type\":\"box\"},{\"alignmentgroup\":\"True\",\"customdata\":[[\"hdf5-async-134217728-134217728\"],[\"hdf5-async-134217728-134217728\"],[\"hdf5-async-134217728-134217728\"],[\"hdf5-async-134217728-134217728\"],[\"hdf5-async-134217728-134217728\"],[\"hdf5-async-134217728-134217728\"],[\"hdf5-async-134217728-134217728\"],[\"hdf5-async-134217728-134217728\"],[\"hdf5-async-134217728-134217728\"],[\"hdf5-async-134217728-134217728\"]],\"hovertemplate\":\"engine=hdf5-async\\u003cbr\\u003efilesize per chunk=%{x}\\u003cbr\\u003etime taken=%{y}\\u003cbr\\u003eformat=%{customdata[0]}\\u003cextra\\u003e\\u003c\\u002fextra\\u003e\",\"legendgroup\":\"hdf5-async\",\"marker\":{\"color\":\"#19d3f3\"},\"name\":\"hdf5-async\",\"notched\":false,\"offsetgroup\":\"hdf5-async\",\"orientation\":\"v\",\"showlegend\":true,\"x\":[\"1024.0 MB\",\"1024.0 MB\",\"1024.0 MB\",\"1024.0 MB\",\"1024.0 MB\",\"1024.0 MB\",\"1024.0 MB\",\"1024.0 MB\",\"1024.0 MB\",\"1024.0 MB\"],\"x0\":\" \",\"xaxis\":\"x\",\"y\":[0.488818,0.15956199999999998,0.130557,0.128801,0.147416,0.134387,0.135026,0.130529,0.17788,0.142269],\"y0\":\" \",\"yaxis\":\"y\",\"type\":\"box\"},{\"alignmentgroup\":\"True\",\"customdata\":[[\"netcdf4-c-134217728-134217728\"],[\"netcdf4-c-134217728-134217728\"],[\"netcdf4-c-134217728-134217728\"],[\"netcdf4-c-134217728-134217728\"],[\"netcdf4-c-134217728-134217728\"],[\"netcdf4-c-134217728-134217728\"],[\"netcdf4-c-134217728-134217728\"],[\"netcdf4-c-134217728-134217728\"],[\"netcdf4-c-134217728-134217728\"],[\"netcdf4-c-134217728-134217728\"],[\"netcdf4-c-134217728-134217728\"],[\"netcdf4-c-134217728-134217728\"],[\"netcdf4-c-134217728-134217728\"],[\"netcdf4-c-134217728-134217728\"],[\"netcdf4-c-134217728-134217728\"],[\"netcdf4-c-134217728-134217728\"],[\"netcdf4-c-134217728-134217728\"],[\"netcdf4-c-134217728-134217728\"],[\"netcdf4-c-134217728-134217728\"],[\"netcdf4-c-134217728-134217728\"],[\"netcdf4-c-134217728-134217728\"],[\"netcdf4-c-134217728-134217728\"],[\"netcdf4-c-134217728-134217728\"],[\"netcdf4-c-134217728-134217728\"],[\"netcdf4-c-134217728-134217728\"],[\"netcdf4-c-134217728-134217728\"],[\"netcdf4-c-134217728-134217728\"],[\"netcdf4-c-134217728-134217728\"],[\"netcdf4-c-134217728-134217728\"],[\"netcdf4-c-134217728-134217728\"],[\"netcdf4-c-134217728-134217728\"],[\"netcdf4-c-134217728-134217728\"],[\"netcdf4-c-134217728-134217728\"],[\"netcdf4-c-134217728-134217728\"],[\"netcdf4-c-134217728-134217728\"],[\"netcdf4-c-134217728-134217728\"],[\"netcdf4-c-134217728-134217728\"],[\"netcdf4-c-134217728-134217728\"],[\"netcdf4-c-134217728-134217728\"],[\"netcdf4-c-134217728-134217728\"],[\"netcdf4-c-134217728-134217728\"],[\"netcdf4-c-134217728-134217728\"],[\"netcdf4-c-134217728-134217728\"],[\"netcdf4-c-134217728-134217728\"],[\"netcdf4-c-134217728-134217728\"],[\"netcdf4-c-134217728-134217728\"],[\"netcdf4-c-134217728-134217728\"],[\"netcdf4-c-134217728-134217728\"],[\"netcdf4-c-134217728-134217728\"],[\"netcdf4-c-134217728-134217728\"],[\"netcdf4-c-134217728-134217728\"],[\"netcdf4-c-134217728-134217728\"],[\"netcdf4-c-134217728-134217728\"],[\"netcdf4-c-134217728-134217728\"],[\"netcdf4-c-134217728-134217728\"],[\"netcdf4-c-134217728-134217728\"],[\"netcdf4-c-134217728-134217728\"],[\"netcdf4-c-134217728-134217728\"],[\"netcdf4-c-134217728-134217728\"],[\"netcdf4-c-134217728-134217728\"],[\"netcdf4-c-134217728-134217728\"],[\"netcdf4-c-134217728-134217728\"],[\"netcdf4-c-134217728-134217728\"],[\"netcdf4-c-134217728-134217728\"],[\"netcdf4-c-134217728-134217728\"],[\"netcdf4-c-134217728-134217728\"],[\"netcdf4-c-134217728-134217728\"],[\"netcdf4-c-134217728-134217728\"],[\"netcdf4-c-134217728-134217728\"],[\"netcdf4-c-134217728-134217728\"],[\"netcdf4-c-134217728-134217728\"],[\"netcdf4-c-134217728-134217728\"],[\"netcdf4-c-134217728-134217728\"],[\"netcdf4-c-134217728-134217728\"],[\"netcdf4-c-134217728-134217728\"],[\"netcdf4-c-134217728-134217728\"],[\"netcdf4-c-134217728-134217728\"],[\"netcdf4-c-134217728-134217728\"],[\"netcdf4-c-134217728-134217728\"],[\"netcdf4-c-134217728-134217728\"],[\"netcdf4-c-134217728-134217728\"],[\"netcdf4-c-134217728-134217728\"],[\"netcdf4-c-134217728-134217728\"],[\"netcdf4-c-134217728-134217728\"],[\"netcdf4-c-134217728-134217728\"],[\"netcdf4-c-134217728-134217728\"],[\"netcdf4-c-134217728-134217728\"],[\"netcdf4-c-134217728-134217728\"],[\"netcdf4-c-134217728-134217728\"],[\"netcdf4-c-134217728-134217728\"],[\"netcdf4-c-134217728-134217728\"],[\"netcdf4-c-134217728-134217728\"],[\"netcdf4-c-134217728-134217728\"],[\"netcdf4-c-134217728-134217728\"],[\"netcdf4-c-134217728-134217728\"],[\"netcdf4-c-134217728-134217728\"],[\"netcdf4-c-134217728-134217728\"],[\"netcdf4-c-134217728-134217728\"],[\"netcdf4-c-134217728-134217728\"],[\"netcdf4-c-134217728-134217728\"]],\"hovertemplate\":\"engine=netcdf4-c\\u003cbr\\u003efilesize per chunk=%{x}\\u003cbr\\u003etime taken=%{y}\\u003cbr\\u003eformat=%{customdata[0]}\\u003cextra\\u003e\\u003c\\u002fextra\\u003e\",\"legendgroup\":\"netcdf4-c\",\"marker\":{\"color\":\"#FF6692\"},\"name\":\"netcdf4-c\",\"notched\":false,\"offsetgroup\":\"netcdf4-c\",\"orientation\":\"v\",\"showlegend\":true,\"x\":[\"1024.0 MB\",\"1024.0 MB\",\"1024.0 MB\",\"1024.0 MB\",\"1024.0 MB\",\"1024.0 MB\",\"1024.0 MB\",\"1024.0 MB\",\"1024.0 MB\",\"1024.0 MB\",\"1024.0 MB\",\"1024.0 MB\",\"1024.0 MB\",\"1024.0 MB\",\"1024.0 MB\",\"1024.0 MB\",\"1024.0 MB\",\"1024.0 MB\",\"1024.0 MB\",\"1024.0 MB\",\"1024.0 MB\",\"1024.0 MB\",\"1024.0 MB\",\"1024.0 MB\",\"1024.0 MB\",\"1024.0 MB\",\"1024.0 MB\",\"1024.0 MB\",\"1024.0 MB\",\"1024.0 MB\",\"1024.0 MB\",\"1024.0 MB\",\"1024.0 MB\",\"1024.0 MB\",\"1024.0 MB\",\"1024.0 MB\",\"1024.0 MB\",\"1024.0 MB\",\"1024.0 MB\",\"1024.0 MB\",\"1024.0 MB\",\"1024.0 MB\",\"1024.0 MB\",\"1024.0 MB\",\"1024.0 MB\",\"1024.0 MB\",\"1024.0 MB\",\"1024.0 MB\",\"1024.0 MB\",\"1024.0 MB\",\"1024.0 MB\",\"1024.0 MB\",\"1024.0 MB\",\"1024.0 MB\",\"1024.0 MB\",\"1024.0 MB\",\"1024.0 MB\",\"1024.0 MB\",\"1024.0 MB\",\"1024.0 MB\",\"1024.0 MB\",\"1024.0 MB\",\"1024.0 MB\",\"1024.0 MB\",\"1024.0 MB\",\"1024.0 MB\",\"1024.0 MB\",\"1024.0 MB\",\"1024.0 MB\",\"1024.0 MB\",\"1024.0 MB\",\"1024.0 MB\",\"1024.0 MB\",\"1024.0 MB\",\"1024.0 MB\",\"1024.0 MB\",\"1024.0 MB\",\"1024.0 MB\",\"1024.0 MB\",\"1024.0 MB\",\"1024.0 MB\",\"1024.0 MB\",\"1024.0 MB\",\"1024.0 MB\",\"1024.0 MB\",\"1024.0 MB\",\"1024.0 MB\",\"1024.0 MB\",\"1024.0 MB\",\"1024.0 MB\",\"1024.0 MB\",\"1024.0 MB\",\"1024.0 MB\",\"1024.0 MB\",\"1024.0 MB\",\"1024.0 MB\",\"1024.0 MB\",\"1024.0 MB\",\"1024.0 MB\",\"1024.0 MB\"],\"x0\":\" \",\"xaxis\":\"x\",\"y\":[0.602101,0.261602,0.165743,0.160828,0.160964,0.162638,0.166608,0.16283,0.161029,0.162787,0.16119,0.165231,0.162049,0.228676,0.15734299999999998,0.156792,0.157254,0.174684,0.17216099999999998,0.17028000000000001,0.163677,0.164027,0.167008,0.16619799999999998,0.16371000000000002,0.249969,0.163681,0.194128,0.170982,0.167784,0.166202,0.158468,0.157573,0.157942,0.159853,0.163013,0.165434,0.250596,0.165705,0.165467,0.16472699999999998,0.16599000000000003,0.16185000000000002,0.161995,0.161858,0.161,0.161017,0.161511,0.16245199999999999,0.253677,0.16170099999999998,0.16125899999999999,0.161732,0.16175,0.162327,0.16173099999999999,0.161686,0.163355,0.166156,0.187822,0.17108099999999998,0.213359,0.279502,0.210704,0.23077199999999998,0.172618,0.168672,0.165784,0.16625,0.168162,0.164674,0.163358,0.164461,0.263136,0.168314,0.168706,0.166732,0.162468,0.163489,0.16236299999999998,0.160739,0.16452799999999998,0.161527,0.161993,0.163982,0.252378,0.16166000000000003,0.161906,0.164388,0.17304799999999998,0.16678199999999999,0.165329,0.16675,0.163158,0.161529,0.16248,0.173807,0.281233,0.186132,0.226984],\"y0\":\" \",\"yaxis\":\"y\",\"type\":\"box\"}],                        {\"template\":{\"data\":{\"histogram2dcontour\":[{\"type\":\"histogram2dcontour\",\"colorbar\":{\"outlinewidth\":0,\"ticks\":\"\"},\"colorscale\":[[0.0,\"#0d0887\"],[0.1111111111111111,\"#46039f\"],[0.2222222222222222,\"#7201a8\"],[0.3333333333333333,\"#9c179e\"],[0.4444444444444444,\"#bd3786\"],[0.5555555555555556,\"#d8576b\"],[0.6666666666666666,\"#ed7953\"],[0.7777777777777778,\"#fb9f3a\"],[0.8888888888888888,\"#fdca26\"],[1.0,\"#f0f921\"]]}],\"choropleth\":[{\"type\":\"choropleth\",\"colorbar\":{\"outlinewidth\":0,\"ticks\":\"\"}}],\"histogram2d\":[{\"type\":\"histogram2d\",\"colorbar\":{\"outlinewidth\":0,\"ticks\":\"\"},\"colorscale\":[[0.0,\"#0d0887\"],[0.1111111111111111,\"#46039f\"],[0.2222222222222222,\"#7201a8\"],[0.3333333333333333,\"#9c179e\"],[0.4444444444444444,\"#bd3786\"],[0.5555555555555556,\"#d8576b\"],[0.6666666666666666,\"#ed7953\"],[0.7777777777777778,\"#fb9f3a\"],[0.8888888888888888,\"#fdca26\"],[1.0,\"#f0f921\"]]}],\"heatmap\":[{\"type\":\"heatmap\",\"colorbar\":{\"outlinewidth\":0,\"ticks\":\"\"},\"colorscale\":[[0.0,\"#0d0887\"],[0.1111111111111111,\"#46039f\"],[0.2222222222222222,\"#7201a8\"],[0.3333333333333333,\"#9c179e\"],[0.4444444444444444,\"#bd3786\"],[0.5555555555555556,\"#d8576b\"],[0.6666666666666666,\"#ed7953\"],[0.7777777777777778,\"#fb9f3a\"],[0.8888888888888888,\"#fdca26\"],[1.0,\"#f0f921\"]]}],\"heatmapgl\":[{\"type\":\"heatmapgl\",\"colorbar\":{\"outlinewidth\":0,\"ticks\":\"\"},\"colorscale\":[[0.0,\"#0d0887\"],[0.1111111111111111,\"#46039f\"],[0.2222222222222222,\"#7201a8\"],[0.3333333333333333,\"#9c179e\"],[0.4444444444444444,\"#bd3786\"],[0.5555555555555556,\"#d8576b\"],[0.6666666666666666,\"#ed7953\"],[0.7777777777777778,\"#fb9f3a\"],[0.8888888888888888,\"#fdca26\"],[1.0,\"#f0f921\"]]}],\"contourcarpet\":[{\"type\":\"contourcarpet\",\"colorbar\":{\"outlinewidth\":0,\"ticks\":\"\"}}],\"contour\":[{\"type\":\"contour\",\"colorbar\":{\"outlinewidth\":0,\"ticks\":\"\"},\"colorscale\":[[0.0,\"#0d0887\"],[0.1111111111111111,\"#46039f\"],[0.2222222222222222,\"#7201a8\"],[0.3333333333333333,\"#9c179e\"],[0.4444444444444444,\"#bd3786\"],[0.5555555555555556,\"#d8576b\"],[0.6666666666666666,\"#ed7953\"],[0.7777777777777778,\"#fb9f3a\"],[0.8888888888888888,\"#fdca26\"],[1.0,\"#f0f921\"]]}],\"surface\":[{\"type\":\"surface\",\"colorbar\":{\"outlinewidth\":0,\"ticks\":\"\"},\"colorscale\":[[0.0,\"#0d0887\"],[0.1111111111111111,\"#46039f\"],[0.2222222222222222,\"#7201a8\"],[0.3333333333333333,\"#9c179e\"],[0.4444444444444444,\"#bd3786\"],[0.5555555555555556,\"#d8576b\"],[0.6666666666666666,\"#ed7953\"],[0.7777777777777778,\"#fb9f3a\"],[0.8888888888888888,\"#fdca26\"],[1.0,\"#f0f921\"]]}],\"mesh3d\":[{\"type\":\"mesh3d\",\"colorbar\":{\"outlinewidth\":0,\"ticks\":\"\"}}],\"scatter\":[{\"fillpattern\":{\"fillmode\":\"overlay\",\"size\":10,\"solidity\":0.2},\"type\":\"scatter\"}],\"parcoords\":[{\"type\":\"parcoords\",\"line\":{\"colorbar\":{\"outlinewidth\":0,\"ticks\":\"\"}}}],\"scatterpolargl\":[{\"type\":\"scatterpolargl\",\"marker\":{\"colorbar\":{\"outlinewidth\":0,\"ticks\":\"\"}}}],\"bar\":[{\"error_x\":{\"color\":\"#2a3f5f\"},\"error_y\":{\"color\":\"#2a3f5f\"},\"marker\":{\"line\":{\"color\":\"#E5ECF6\",\"width\":0.5},\"pattern\":{\"fillmode\":\"overlay\",\"size\":10,\"solidity\":0.2}},\"type\":\"bar\"}],\"scattergeo\":[{\"type\":\"scattergeo\",\"marker\":{\"colorbar\":{\"outlinewidth\":0,\"ticks\":\"\"}}}],\"scatterpolar\":[{\"type\":\"scatterpolar\",\"marker\":{\"colorbar\":{\"outlinewidth\":0,\"ticks\":\"\"}}}],\"histogram\":[{\"marker\":{\"pattern\":{\"fillmode\":\"overlay\",\"size\":10,\"solidity\":0.2}},\"type\":\"histogram\"}],\"scattergl\":[{\"type\":\"scattergl\",\"marker\":{\"colorbar\":{\"outlinewidth\":0,\"ticks\":\"\"}}}],\"scatter3d\":[{\"type\":\"scatter3d\",\"line\":{\"colorbar\":{\"outlinewidth\":0,\"ticks\":\"\"}},\"marker\":{\"colorbar\":{\"outlinewidth\":0,\"ticks\":\"\"}}}],\"scattermapbox\":[{\"type\":\"scattermapbox\",\"marker\":{\"colorbar\":{\"outlinewidth\":0,\"ticks\":\"\"}}}],\"scatterternary\":[{\"type\":\"scatterternary\",\"marker\":{\"colorbar\":{\"outlinewidth\":0,\"ticks\":\"\"}}}],\"scattercarpet\":[{\"type\":\"scattercarpet\",\"marker\":{\"colorbar\":{\"outlinewidth\":0,\"ticks\":\"\"}}}],\"carpet\":[{\"aaxis\":{\"endlinecolor\":\"#2a3f5f\",\"gridcolor\":\"white\",\"linecolor\":\"white\",\"minorgridcolor\":\"white\",\"startlinecolor\":\"#2a3f5f\"},\"baxis\":{\"endlinecolor\":\"#2a3f5f\",\"gridcolor\":\"white\",\"linecolor\":\"white\",\"minorgridcolor\":\"white\",\"startlinecolor\":\"#2a3f5f\"},\"type\":\"carpet\"}],\"table\":[{\"cells\":{\"fill\":{\"color\":\"#EBF0F8\"},\"line\":{\"color\":\"white\"}},\"header\":{\"fill\":{\"color\":\"#C8D4E3\"},\"line\":{\"color\":\"white\"}},\"type\":\"table\"}],\"barpolar\":[{\"marker\":{\"line\":{\"color\":\"#E5ECF6\",\"width\":0.5},\"pattern\":{\"fillmode\":\"overlay\",\"size\":10,\"solidity\":0.2}},\"type\":\"barpolar\"}],\"pie\":[{\"automargin\":true,\"type\":\"pie\"}]},\"layout\":{\"autotypenumbers\":\"strict\",\"colorway\":[\"#636efa\",\"#EF553B\",\"#00cc96\",\"#ab63fa\",\"#FFA15A\",\"#19d3f3\",\"#FF6692\",\"#B6E880\",\"#FF97FF\",\"#FECB52\"],\"font\":{\"color\":\"#2a3f5f\"},\"hovermode\":\"closest\",\"hoverlabel\":{\"align\":\"left\"},\"paper_bgcolor\":\"white\",\"plot_bgcolor\":\"#E5ECF6\",\"polar\":{\"bgcolor\":\"#E5ECF6\",\"angularaxis\":{\"gridcolor\":\"white\",\"linecolor\":\"white\",\"ticks\":\"\"},\"radialaxis\":{\"gridcolor\":\"white\",\"linecolor\":\"white\",\"ticks\":\"\"}},\"ternary\":{\"bgcolor\":\"#E5ECF6\",\"aaxis\":{\"gridcolor\":\"white\",\"linecolor\":\"white\",\"ticks\":\"\"},\"baxis\":{\"gridcolor\":\"white\",\"linecolor\":\"white\",\"ticks\":\"\"},\"caxis\":{\"gridcolor\":\"white\",\"linecolor\":\"white\",\"ticks\":\"\"}},\"coloraxis\":{\"colorbar\":{\"outlinewidth\":0,\"ticks\":\"\"}},\"colorscale\":{\"sequential\":[[0.0,\"#0d0887\"],[0.1111111111111111,\"#46039f\"],[0.2222222222222222,\"#7201a8\"],[0.3333333333333333,\"#9c179e\"],[0.4444444444444444,\"#bd3786\"],[0.5555555555555556,\"#d8576b\"],[0.6666666666666666,\"#ed7953\"],[0.7777777777777778,\"#fb9f3a\"],[0.8888888888888888,\"#fdca26\"],[1.0,\"#f0f921\"]],\"sequentialminus\":[[0.0,\"#0d0887\"],[0.1111111111111111,\"#46039f\"],[0.2222222222222222,\"#7201a8\"],[0.3333333333333333,\"#9c179e\"],[0.4444444444444444,\"#bd3786\"],[0.5555555555555556,\"#d8576b\"],[0.6666666666666666,\"#ed7953\"],[0.7777777777777778,\"#fb9f3a\"],[0.8888888888888888,\"#fdca26\"],[1.0,\"#f0f921\"]],\"diverging\":[[0,\"#8e0152\"],[0.1,\"#c51b7d\"],[0.2,\"#de77ae\"],[0.3,\"#f1b6da\"],[0.4,\"#fde0ef\"],[0.5,\"#f7f7f7\"],[0.6,\"#e6f5d0\"],[0.7,\"#b8e186\"],[0.8,\"#7fbc41\"],[0.9,\"#4d9221\"],[1,\"#276419\"]]},\"xaxis\":{\"gridcolor\":\"white\",\"linecolor\":\"white\",\"ticks\":\"\",\"title\":{\"standoff\":15},\"zerolinecolor\":\"white\",\"automargin\":true,\"zerolinewidth\":2},\"yaxis\":{\"gridcolor\":\"white\",\"linecolor\":\"white\",\"ticks\":\"\",\"title\":{\"standoff\":15},\"zerolinecolor\":\"white\",\"automargin\":true,\"zerolinewidth\":2},\"scene\":{\"xaxis\":{\"backgroundcolor\":\"#E5ECF6\",\"gridcolor\":\"white\",\"linecolor\":\"white\",\"showbackground\":true,\"ticks\":\"\",\"zerolinecolor\":\"white\",\"gridwidth\":2},\"yaxis\":{\"backgroundcolor\":\"#E5ECF6\",\"gridcolor\":\"white\",\"linecolor\":\"white\",\"showbackground\":true,\"ticks\":\"\",\"zerolinecolor\":\"white\",\"gridwidth\":2},\"zaxis\":{\"backgroundcolor\":\"#E5ECF6\",\"gridcolor\":\"white\",\"linecolor\":\"white\",\"showbackground\":true,\"ticks\":\"\",\"zerolinecolor\":\"white\",\"gridwidth\":2}},\"shapedefaults\":{\"line\":{\"color\":\"#2a3f5f\"}},\"annotationdefaults\":{\"arrowcolor\":\"#2a3f5f\",\"arrowhead\":0,\"arrowwidth\":1},\"geo\":{\"bgcolor\":\"white\",\"landcolor\":\"#E5ECF6\",\"subunitcolor\":\"white\",\"showland\":true,\"showlakes\":true,\"lakecolor\":\"white\"},\"title\":{\"x\":0.05},\"mapbox\":{\"style\":\"light\"}}},\"xaxis\":{\"anchor\":\"y\",\"domain\":[0.0,1.0],\"title\":{\"text\":\"filesize per chunk\"}},\"yaxis\":{\"anchor\":\"x\",\"domain\":[0.0,1.0],\"title\":{\"text\":\"time taken\"},\"type\":\"log\"},\"legend\":{\"title\":{\"text\":\"engine\"},\"tracegroupgap\":0},\"title\":{\"text\":\"filesize per chunk\"},\"boxmode\":\"group\"},                        {\"responsive\": true}                    ).then(function(){\n",
       "                            \n",
       "var gd = document.getElementById('712722ff-960e-45d4-9c4f-abbcd342f4b8');\n",
       "var x = new MutationObserver(function (mutations, observer) {{\n",
       "        var display = window.getComputedStyle(gd).display;\n",
       "        if (!display || display === 'none') {{\n",
       "            console.log([gd, 'removed!']);\n",
       "            Plotly.purge(gd);\n",
       "            observer.disconnect();\n",
       "        }}\n",
       "}});\n",
       "\n",
       "// Listen for the removal of the full notebook cells\n",
       "var notebookContainer = gd.closest('#notebook-container');\n",
       "if (notebookContainer) {{\n",
       "    x.observe(notebookContainer, {childList: true});\n",
       "}}\n",
       "\n",
       "// Listen for the clearing of the current output cell\n",
       "var outputEl = gd.closest('.output');\n",
       "if (outputEl) {{\n",
       "    x.observe(outputEl, {childList: true});\n",
       "}}\n",
       "\n",
       "                        })                };                });            </script>        </div>"
      ]
     },
     "metadata": {},
     "output_type": "display_data"
    },
    {
     "data": {
      "application/vnd.plotly.v1+json": {
       "config": {
        "plotlyServerURL": "https://plot.ly"
       },
       "data": [
        {
         "alignmentgroup": "True",
         "customdata": [
          [
           "zarr-[402653184]-[100663296]"
          ],
          [
           "zarr-[402653184]-[100663296]"
          ],
          [
           "zarr-[402653184]-[100663296]"
          ],
          [
           "zarr-[402653184]-[100663296]"
          ],
          [
           "zarr-[402653184]-[100663296]"
          ],
          [
           "zarr-[402653184]-[100663296]"
          ],
          [
           "zarr-[402653184]-[100663296]"
          ],
          [
           "zarr-[402653184]-[100663296]"
          ],
          [
           "zarr-[402653184]-[100663296]"
          ],
          [
           "zarr-[402653184]-[100663296]"
          ],
          [
           "zarr-[402653184]-[201326592]"
          ],
          [
           "zarr-[402653184]-[201326592]"
          ],
          [
           "zarr-[402653184]-[201326592]"
          ],
          [
           "zarr-[402653184]-[201326592]"
          ],
          [
           "zarr-[402653184]-[201326592]"
          ],
          [
           "zarr-[402653184]-[201326592]"
          ],
          [
           "zarr-[402653184]-[201326592]"
          ],
          [
           "zarr-[402653184]-[201326592]"
          ],
          [
           "zarr-[402653184]-[201326592]"
          ],
          [
           "zarr-[402653184]-[201326592]"
          ],
          [
           "zarr-[402653184]-[402653184]"
          ],
          [
           "zarr-[402653184]-[402653184]"
          ],
          [
           "zarr-[402653184]-[402653184]"
          ],
          [
           "zarr-[402653184]-[402653184]"
          ],
          [
           "zarr-[402653184]-[402653184]"
          ],
          [
           "zarr-[402653184]-[402653184]"
          ],
          [
           "zarr-[402653184]-[402653184]"
          ],
          [
           "zarr-[402653184]-[402653184]"
          ],
          [
           "zarr-[402653184]-[402653184]"
          ],
          [
           "zarr-[402653184]-[402653184]"
          ]
         ],
         "hovertemplate": "engine=zarr<br>filesize per chunk=%{x}<br>time taken=%{y}<br>format=%{customdata[0]}<extra></extra>",
         "legendgroup": "zarr",
         "marker": {
          "color": "#636efa"
         },
         "name": "zarr",
         "notched": false,
         "offsetgroup": "zarr",
         "orientation": "v",
         "showlegend": true,
         "type": "box",
         "x": [
          "768.0 MB",
          "768.0 MB",
          "768.0 MB",
          "768.0 MB",
          "768.0 MB",
          "768.0 MB",
          "768.0 MB",
          "768.0 MB",
          "768.0 MB",
          "768.0 MB",
          "1536.0 MB",
          "1536.0 MB",
          "1536.0 MB",
          "1536.0 MB",
          "1536.0 MB",
          "1536.0 MB",
          "1536.0 MB",
          "1536.0 MB",
          "1536.0 MB",
          "1536.0 MB",
          "3072.0 MB",
          "3072.0 MB",
          "3072.0 MB",
          "3072.0 MB",
          "3072.0 MB",
          "3072.0 MB",
          "3072.0 MB",
          "3072.0 MB",
          "3072.0 MB",
          "3072.0 MB"
         ],
         "x0": " ",
         "xaxis": "x",
         "y": [
          1.2852244910000001,
          1.155481269,
          1.082253293,
          1.065130341,
          1.070564896,
          1.050202458,
          1.031522033,
          1.036140391,
          1.036209637,
          1.054851165,
          3.366545555,
          1.565833124,
          1.480275676,
          1.405102228,
          1.393267593,
          1.42936766,
          1.3739449160000001,
          1.355726818,
          1.384567536,
          1.3487672160000002,
          4.313937682,
          2.6488542930000003,
          2.411989228,
          2.268892381,
          2.375150635,
          2.266676084,
          2.286144031,
          2.287039485,
          2.2651129770000002,
          2.267031874
         ],
         "y0": " ",
         "yaxis": "y"
        },
        {
         "alignmentgroup": "True",
         "customdata": [
          [
           "netcdf4-[402653184]-[100663296]"
          ],
          [
           "netcdf4-[402653184]-[100663296]"
          ],
          [
           "netcdf4-[402653184]-[100663296]"
          ],
          [
           "netcdf4-[402653184]-[100663296]"
          ],
          [
           "netcdf4-[402653184]-[100663296]"
          ],
          [
           "netcdf4-[402653184]-[100663296]"
          ],
          [
           "netcdf4-[402653184]-[100663296]"
          ],
          [
           "netcdf4-[402653184]-[100663296]"
          ],
          [
           "netcdf4-[402653184]-[100663296]"
          ],
          [
           "netcdf4-[402653184]-[100663296]"
          ],
          [
           "netcdf4-[402653184]-[201326592]"
          ],
          [
           "netcdf4-[402653184]-[201326592]"
          ],
          [
           "netcdf4-[402653184]-[201326592]"
          ],
          [
           "netcdf4-[402653184]-[201326592]"
          ],
          [
           "netcdf4-[402653184]-[201326592]"
          ],
          [
           "netcdf4-[402653184]-[201326592]"
          ],
          [
           "netcdf4-[402653184]-[201326592]"
          ],
          [
           "netcdf4-[402653184]-[201326592]"
          ],
          [
           "netcdf4-[402653184]-[201326592]"
          ],
          [
           "netcdf4-[402653184]-[201326592]"
          ],
          [
           "netcdf4-[402653184]-[402653184]"
          ],
          [
           "netcdf4-[402653184]-[402653184]"
          ],
          [
           "netcdf4-[402653184]-[402653184]"
          ],
          [
           "netcdf4-[402653184]-[402653184]"
          ],
          [
           "netcdf4-[402653184]-[402653184]"
          ],
          [
           "netcdf4-[402653184]-[402653184]"
          ],
          [
           "netcdf4-[402653184]-[402653184]"
          ],
          [
           "netcdf4-[402653184]-[402653184]"
          ],
          [
           "netcdf4-[402653184]-[402653184]"
          ],
          [
           "netcdf4-[402653184]-[402653184]"
          ]
         ],
         "hovertemplate": "engine=netcdf4<br>filesize per chunk=%{x}<br>time taken=%{y}<br>format=%{customdata[0]}<extra></extra>",
         "legendgroup": "netcdf4",
         "marker": {
          "color": "#EF553B"
         },
         "name": "netcdf4",
         "notched": false,
         "offsetgroup": "netcdf4",
         "orientation": "v",
         "showlegend": true,
         "type": "box",
         "x": [
          "768.0 MB",
          "768.0 MB",
          "768.0 MB",
          "768.0 MB",
          "768.0 MB",
          "768.0 MB",
          "768.0 MB",
          "768.0 MB",
          "768.0 MB",
          "768.0 MB",
          "1536.0 MB",
          "1536.0 MB",
          "1536.0 MB",
          "1536.0 MB",
          "1536.0 MB",
          "1536.0 MB",
          "1536.0 MB",
          "1536.0 MB",
          "1536.0 MB",
          "1536.0 MB",
          "3072.0 MB",
          "3072.0 MB",
          "3072.0 MB",
          "3072.0 MB",
          "3072.0 MB",
          "3072.0 MB",
          "3072.0 MB",
          "3072.0 MB",
          "3072.0 MB",
          "3072.0 MB"
         ],
         "x0": " ",
         "xaxis": "x",
         "y": [
          0.649276293,
          0.441432941,
          0.42523892100000005,
          0.445717951,
          0.415224882,
          0.417682308,
          0.415214996,
          0.41334700500000005,
          0.43637342,
          0.41387438,
          1.030952195,
          0.39133243100000004,
          0.413390519,
          0.42741585200000004,
          0.37988759800000005,
          0.382974085,
          0.380732436,
          0.380585616,
          0.41738392900000004,
          0.38185176200000004,
          0.9880287390000001,
          0.413694704,
          0.378069778,
          0.399690113,
          0.412784976,
          0.411655932,
          0.405310781,
          0.40487775000000004,
          0.45106858200000005,
          0.41147810300000004
         ],
         "y0": " ",
         "yaxis": "y"
        },
        {
         "alignmentgroup": "True",
         "customdata": [
          [
           "hdf5-[402653184]-[100663296]"
          ],
          [
           "hdf5-[402653184]-[100663296]"
          ],
          [
           "hdf5-[402653184]-[100663296]"
          ],
          [
           "hdf5-[402653184]-[100663296]"
          ],
          [
           "hdf5-[402653184]-[100663296]"
          ],
          [
           "hdf5-[402653184]-[100663296]"
          ],
          [
           "hdf5-[402653184]-[100663296]"
          ],
          [
           "hdf5-[402653184]-[100663296]"
          ],
          [
           "hdf5-[402653184]-[100663296]"
          ],
          [
           "hdf5-[402653184]-[100663296]"
          ],
          [
           "hdf5-[402653184]-[201326592]"
          ],
          [
           "hdf5-[402653184]-[201326592]"
          ],
          [
           "hdf5-[402653184]-[201326592]"
          ],
          [
           "hdf5-[402653184]-[201326592]"
          ],
          [
           "hdf5-[402653184]-[201326592]"
          ],
          [
           "hdf5-[402653184]-[201326592]"
          ],
          [
           "hdf5-[402653184]-[201326592]"
          ],
          [
           "hdf5-[402653184]-[201326592]"
          ],
          [
           "hdf5-[402653184]-[201326592]"
          ],
          [
           "hdf5-[402653184]-[201326592]"
          ],
          [
           "hdf5-[402653184]-[402653184]"
          ],
          [
           "hdf5-[402653184]-[402653184]"
          ],
          [
           "hdf5-[402653184]-[402653184]"
          ],
          [
           "hdf5-[402653184]-[402653184]"
          ],
          [
           "hdf5-[402653184]-[402653184]"
          ],
          [
           "hdf5-[402653184]-[402653184]"
          ],
          [
           "hdf5-[402653184]-[402653184]"
          ],
          [
           "hdf5-[402653184]-[402653184]"
          ],
          [
           "hdf5-[402653184]-[402653184]"
          ],
          [
           "hdf5-[402653184]-[402653184]"
          ]
         ],
         "hovertemplate": "engine=hdf5<br>filesize per chunk=%{x}<br>time taken=%{y}<br>format=%{customdata[0]}<extra></extra>",
         "legendgroup": "hdf5",
         "marker": {
          "color": "#00cc96"
         },
         "name": "hdf5",
         "notched": false,
         "offsetgroup": "hdf5",
         "orientation": "v",
         "showlegend": true,
         "type": "box",
         "x": [
          "768.0 MB",
          "768.0 MB",
          "768.0 MB",
          "768.0 MB",
          "768.0 MB",
          "768.0 MB",
          "768.0 MB",
          "768.0 MB",
          "768.0 MB",
          "768.0 MB",
          "1536.0 MB",
          "1536.0 MB",
          "1536.0 MB",
          "1536.0 MB",
          "1536.0 MB",
          "1536.0 MB",
          "1536.0 MB",
          "1536.0 MB",
          "1536.0 MB",
          "1536.0 MB",
          "3072.0 MB",
          "3072.0 MB",
          "3072.0 MB",
          "3072.0 MB",
          "3072.0 MB",
          "3072.0 MB",
          "3072.0 MB",
          "3072.0 MB",
          "3072.0 MB",
          "3072.0 MB"
         ],
         "x0": " ",
         "xaxis": "x",
         "y": [
          0.8371092330000001,
          0.283662049,
          0.268439158,
          0.292104549,
          0.265552881,
          0.271759662,
          0.269804066,
          0.26867992500000004,
          0.26608679700000004,
          0.264176113,
          0.9606201150000001,
          0.33341917800000004,
          0.314152812,
          0.283283783,
          0.282030911,
          0.28225097,
          0.304240881,
          0.29831718100000004,
          0.282815376,
          0.30770772500000004,
          1.009676033,
          0.370412734,
          0.305443503,
          0.296670105,
          0.299697999,
          0.29419415,
          0.292740648,
          0.31586104600000003,
          0.35793729,
          0.316409753
         ],
         "y0": " ",
         "yaxis": "y"
        },
        {
         "alignmentgroup": "True",
         "customdata": [
          [
           "hdf5-c-402653184-402653184"
          ],
          [
           "hdf5-c-402653184-402653184"
          ],
          [
           "hdf5-c-402653184-402653184"
          ],
          [
           "hdf5-c-402653184-402653184"
          ],
          [
           "hdf5-c-402653184-402653184"
          ],
          [
           "hdf5-c-402653184-402653184"
          ],
          [
           "hdf5-c-402653184-402653184"
          ],
          [
           "hdf5-c-402653184-402653184"
          ],
          [
           "hdf5-c-402653184-402653184"
          ],
          [
           "hdf5-c-402653184-402653184"
          ]
         ],
         "hovertemplate": "engine=hdf5-c<br>filesize per chunk=%{x}<br>time taken=%{y}<br>format=%{customdata[0]}<extra></extra>",
         "legendgroup": "hdf5-c",
         "marker": {
          "color": "#ab63fa"
         },
         "name": "hdf5-c",
         "notched": false,
         "offsetgroup": "hdf5-c",
         "orientation": "v",
         "showlegend": true,
         "type": "box",
         "x": [
          "3072.0 MB",
          "3072.0 MB",
          "3072.0 MB",
          "3072.0 MB",
          "3072.0 MB",
          "3072.0 MB",
          "3072.0 MB",
          "3072.0 MB",
          "3072.0 MB",
          "3072.0 MB"
         ],
         "x0": " ",
         "xaxis": "x",
         "y": [
          0.40457299999999996,
          0.47253199999999995,
          0.40116799999999997,
          0.401652,
          0.417379,
          0.375791,
          0.375793,
          0.38658499999999996,
          0.387801,
          0.385051
         ],
         "y0": " ",
         "yaxis": "y"
        },
        {
         "alignmentgroup": "True",
         "customdata": [
          [
           "hdf5-subfiling-134217728-134217728"
          ],
          [
           "hdf5-subfiling-134217728-134217728"
          ],
          [
           "hdf5-subfiling-134217728-134217728"
          ],
          [
           "hdf5-subfiling-134217728-134217728"
          ],
          [
           "hdf5-subfiling-134217728-134217728"
          ],
          [
           "hdf5-subfiling-134217728-134217728"
          ],
          [
           "hdf5-subfiling-134217728-134217728"
          ],
          [
           "hdf5-subfiling-134217728-134217728"
          ],
          [
           "hdf5-subfiling-134217728-134217728"
          ],
          [
           "hdf5-subfiling-134217728-134217728"
          ]
         ],
         "hovertemplate": "engine=hdf5-subfiling<br>filesize per chunk=%{x}<br>time taken=%{y}<br>format=%{customdata[0]}<extra></extra>",
         "legendgroup": "hdf5-subfiling",
         "marker": {
          "color": "#FFA15A"
         },
         "name": "hdf5-subfiling",
         "notched": false,
         "offsetgroup": "hdf5-subfiling",
         "orientation": "v",
         "showlegend": true,
         "type": "box",
         "x": [
          "1024.0 MB",
          "1024.0 MB",
          "1024.0 MB",
          "1024.0 MB",
          "1024.0 MB",
          "1024.0 MB",
          "1024.0 MB",
          "1024.0 MB",
          "1024.0 MB",
          "1024.0 MB"
         ],
         "x0": " ",
         "xaxis": "x",
         "y": [
          0.24542000000000003,
          0.35334699999999997,
          0.266121,
          0.23990399999999998,
          0.23974099999999998,
          0.241447,
          0.240508,
          0.240274,
          0.24043499999999998,
          0.238611
         ],
         "y0": " ",
         "yaxis": "y"
        },
        {
         "alignmentgroup": "True",
         "customdata": [
          [
           "hdf5-async-134217728-134217728"
          ],
          [
           "hdf5-async-134217728-134217728"
          ],
          [
           "hdf5-async-134217728-134217728"
          ],
          [
           "hdf5-async-134217728-134217728"
          ],
          [
           "hdf5-async-134217728-134217728"
          ],
          [
           "hdf5-async-134217728-134217728"
          ],
          [
           "hdf5-async-134217728-134217728"
          ],
          [
           "hdf5-async-134217728-134217728"
          ],
          [
           "hdf5-async-134217728-134217728"
          ],
          [
           "hdf5-async-134217728-134217728"
          ]
         ],
         "hovertemplate": "engine=hdf5-async<br>filesize per chunk=%{x}<br>time taken=%{y}<br>format=%{customdata[0]}<extra></extra>",
         "legendgroup": "hdf5-async",
         "marker": {
          "color": "#19d3f3"
         },
         "name": "hdf5-async",
         "notched": false,
         "offsetgroup": "hdf5-async",
         "orientation": "v",
         "showlegend": true,
         "type": "box",
         "x": [
          "1024.0 MB",
          "1024.0 MB",
          "1024.0 MB",
          "1024.0 MB",
          "1024.0 MB",
          "1024.0 MB",
          "1024.0 MB",
          "1024.0 MB",
          "1024.0 MB",
          "1024.0 MB"
         ],
         "x0": " ",
         "xaxis": "x",
         "y": [
          0.488818,
          0.15956199999999998,
          0.130557,
          0.128801,
          0.147416,
          0.134387,
          0.135026,
          0.130529,
          0.17788,
          0.142269
         ],
         "y0": " ",
         "yaxis": "y"
        },
        {
         "alignmentgroup": "True",
         "customdata": [
          [
           "netcdf4-c-134217728-134217728"
          ],
          [
           "netcdf4-c-134217728-134217728"
          ],
          [
           "netcdf4-c-134217728-134217728"
          ],
          [
           "netcdf4-c-134217728-134217728"
          ],
          [
           "netcdf4-c-134217728-134217728"
          ],
          [
           "netcdf4-c-134217728-134217728"
          ],
          [
           "netcdf4-c-134217728-134217728"
          ],
          [
           "netcdf4-c-134217728-134217728"
          ],
          [
           "netcdf4-c-134217728-134217728"
          ],
          [
           "netcdf4-c-134217728-134217728"
          ],
          [
           "netcdf4-c-134217728-134217728"
          ],
          [
           "netcdf4-c-134217728-134217728"
          ],
          [
           "netcdf4-c-134217728-134217728"
          ],
          [
           "netcdf4-c-134217728-134217728"
          ],
          [
           "netcdf4-c-134217728-134217728"
          ],
          [
           "netcdf4-c-134217728-134217728"
          ],
          [
           "netcdf4-c-134217728-134217728"
          ],
          [
           "netcdf4-c-134217728-134217728"
          ],
          [
           "netcdf4-c-134217728-134217728"
          ],
          [
           "netcdf4-c-134217728-134217728"
          ],
          [
           "netcdf4-c-134217728-134217728"
          ],
          [
           "netcdf4-c-134217728-134217728"
          ],
          [
           "netcdf4-c-134217728-134217728"
          ],
          [
           "netcdf4-c-134217728-134217728"
          ],
          [
           "netcdf4-c-134217728-134217728"
          ],
          [
           "netcdf4-c-134217728-134217728"
          ],
          [
           "netcdf4-c-134217728-134217728"
          ],
          [
           "netcdf4-c-134217728-134217728"
          ],
          [
           "netcdf4-c-134217728-134217728"
          ],
          [
           "netcdf4-c-134217728-134217728"
          ],
          [
           "netcdf4-c-134217728-134217728"
          ],
          [
           "netcdf4-c-134217728-134217728"
          ],
          [
           "netcdf4-c-134217728-134217728"
          ],
          [
           "netcdf4-c-134217728-134217728"
          ],
          [
           "netcdf4-c-134217728-134217728"
          ],
          [
           "netcdf4-c-134217728-134217728"
          ],
          [
           "netcdf4-c-134217728-134217728"
          ],
          [
           "netcdf4-c-134217728-134217728"
          ],
          [
           "netcdf4-c-134217728-134217728"
          ],
          [
           "netcdf4-c-134217728-134217728"
          ],
          [
           "netcdf4-c-134217728-134217728"
          ],
          [
           "netcdf4-c-134217728-134217728"
          ],
          [
           "netcdf4-c-134217728-134217728"
          ],
          [
           "netcdf4-c-134217728-134217728"
          ],
          [
           "netcdf4-c-134217728-134217728"
          ],
          [
           "netcdf4-c-134217728-134217728"
          ],
          [
           "netcdf4-c-134217728-134217728"
          ],
          [
           "netcdf4-c-134217728-134217728"
          ],
          [
           "netcdf4-c-134217728-134217728"
          ],
          [
           "netcdf4-c-134217728-134217728"
          ],
          [
           "netcdf4-c-134217728-134217728"
          ],
          [
           "netcdf4-c-134217728-134217728"
          ],
          [
           "netcdf4-c-134217728-134217728"
          ],
          [
           "netcdf4-c-134217728-134217728"
          ],
          [
           "netcdf4-c-134217728-134217728"
          ],
          [
           "netcdf4-c-134217728-134217728"
          ],
          [
           "netcdf4-c-134217728-134217728"
          ],
          [
           "netcdf4-c-134217728-134217728"
          ],
          [
           "netcdf4-c-134217728-134217728"
          ],
          [
           "netcdf4-c-134217728-134217728"
          ],
          [
           "netcdf4-c-134217728-134217728"
          ],
          [
           "netcdf4-c-134217728-134217728"
          ],
          [
           "netcdf4-c-134217728-134217728"
          ],
          [
           "netcdf4-c-134217728-134217728"
          ],
          [
           "netcdf4-c-134217728-134217728"
          ],
          [
           "netcdf4-c-134217728-134217728"
          ],
          [
           "netcdf4-c-134217728-134217728"
          ],
          [
           "netcdf4-c-134217728-134217728"
          ],
          [
           "netcdf4-c-134217728-134217728"
          ],
          [
           "netcdf4-c-134217728-134217728"
          ],
          [
           "netcdf4-c-134217728-134217728"
          ],
          [
           "netcdf4-c-134217728-134217728"
          ],
          [
           "netcdf4-c-134217728-134217728"
          ],
          [
           "netcdf4-c-134217728-134217728"
          ],
          [
           "netcdf4-c-134217728-134217728"
          ],
          [
           "netcdf4-c-134217728-134217728"
          ],
          [
           "netcdf4-c-134217728-134217728"
          ],
          [
           "netcdf4-c-134217728-134217728"
          ],
          [
           "netcdf4-c-134217728-134217728"
          ],
          [
           "netcdf4-c-134217728-134217728"
          ],
          [
           "netcdf4-c-134217728-134217728"
          ],
          [
           "netcdf4-c-134217728-134217728"
          ],
          [
           "netcdf4-c-134217728-134217728"
          ],
          [
           "netcdf4-c-134217728-134217728"
          ],
          [
           "netcdf4-c-134217728-134217728"
          ],
          [
           "netcdf4-c-134217728-134217728"
          ],
          [
           "netcdf4-c-134217728-134217728"
          ],
          [
           "netcdf4-c-134217728-134217728"
          ],
          [
           "netcdf4-c-134217728-134217728"
          ],
          [
           "netcdf4-c-134217728-134217728"
          ],
          [
           "netcdf4-c-134217728-134217728"
          ],
          [
           "netcdf4-c-134217728-134217728"
          ],
          [
           "netcdf4-c-134217728-134217728"
          ],
          [
           "netcdf4-c-134217728-134217728"
          ],
          [
           "netcdf4-c-134217728-134217728"
          ],
          [
           "netcdf4-c-134217728-134217728"
          ],
          [
           "netcdf4-c-134217728-134217728"
          ],
          [
           "netcdf4-c-134217728-134217728"
          ],
          [
           "netcdf4-c-134217728-134217728"
          ],
          [
           "netcdf4-c-134217728-134217728"
          ]
         ],
         "hovertemplate": "engine=netcdf4-c<br>filesize per chunk=%{x}<br>time taken=%{y}<br>format=%{customdata[0]}<extra></extra>",
         "legendgroup": "netcdf4-c",
         "marker": {
          "color": "#FF6692"
         },
         "name": "netcdf4-c",
         "notched": false,
         "offsetgroup": "netcdf4-c",
         "orientation": "v",
         "showlegend": true,
         "type": "box",
         "x": [
          "1024.0 MB",
          "1024.0 MB",
          "1024.0 MB",
          "1024.0 MB",
          "1024.0 MB",
          "1024.0 MB",
          "1024.0 MB",
          "1024.0 MB",
          "1024.0 MB",
          "1024.0 MB",
          "1024.0 MB",
          "1024.0 MB",
          "1024.0 MB",
          "1024.0 MB",
          "1024.0 MB",
          "1024.0 MB",
          "1024.0 MB",
          "1024.0 MB",
          "1024.0 MB",
          "1024.0 MB",
          "1024.0 MB",
          "1024.0 MB",
          "1024.0 MB",
          "1024.0 MB",
          "1024.0 MB",
          "1024.0 MB",
          "1024.0 MB",
          "1024.0 MB",
          "1024.0 MB",
          "1024.0 MB",
          "1024.0 MB",
          "1024.0 MB",
          "1024.0 MB",
          "1024.0 MB",
          "1024.0 MB",
          "1024.0 MB",
          "1024.0 MB",
          "1024.0 MB",
          "1024.0 MB",
          "1024.0 MB",
          "1024.0 MB",
          "1024.0 MB",
          "1024.0 MB",
          "1024.0 MB",
          "1024.0 MB",
          "1024.0 MB",
          "1024.0 MB",
          "1024.0 MB",
          "1024.0 MB",
          "1024.0 MB",
          "1024.0 MB",
          "1024.0 MB",
          "1024.0 MB",
          "1024.0 MB",
          "1024.0 MB",
          "1024.0 MB",
          "1024.0 MB",
          "1024.0 MB",
          "1024.0 MB",
          "1024.0 MB",
          "1024.0 MB",
          "1024.0 MB",
          "1024.0 MB",
          "1024.0 MB",
          "1024.0 MB",
          "1024.0 MB",
          "1024.0 MB",
          "1024.0 MB",
          "1024.0 MB",
          "1024.0 MB",
          "1024.0 MB",
          "1024.0 MB",
          "1024.0 MB",
          "1024.0 MB",
          "1024.0 MB",
          "1024.0 MB",
          "1024.0 MB",
          "1024.0 MB",
          "1024.0 MB",
          "1024.0 MB",
          "1024.0 MB",
          "1024.0 MB",
          "1024.0 MB",
          "1024.0 MB",
          "1024.0 MB",
          "1024.0 MB",
          "1024.0 MB",
          "1024.0 MB",
          "1024.0 MB",
          "1024.0 MB",
          "1024.0 MB",
          "1024.0 MB",
          "1024.0 MB",
          "1024.0 MB",
          "1024.0 MB",
          "1024.0 MB",
          "1024.0 MB",
          "1024.0 MB",
          "1024.0 MB",
          "1024.0 MB"
         ],
         "x0": " ",
         "xaxis": "x",
         "y": [
          0.602101,
          0.261602,
          0.165743,
          0.160828,
          0.160964,
          0.162638,
          0.166608,
          0.16283,
          0.161029,
          0.162787,
          0.16119,
          0.165231,
          0.162049,
          0.228676,
          0.15734299999999998,
          0.156792,
          0.157254,
          0.174684,
          0.17216099999999998,
          0.17028000000000001,
          0.163677,
          0.164027,
          0.167008,
          0.16619799999999998,
          0.16371000000000002,
          0.249969,
          0.163681,
          0.194128,
          0.170982,
          0.167784,
          0.166202,
          0.158468,
          0.157573,
          0.157942,
          0.159853,
          0.163013,
          0.165434,
          0.250596,
          0.165705,
          0.165467,
          0.16472699999999998,
          0.16599000000000003,
          0.16185000000000002,
          0.161995,
          0.161858,
          0.161,
          0.161017,
          0.161511,
          0.16245199999999999,
          0.253677,
          0.16170099999999998,
          0.16125899999999999,
          0.161732,
          0.16175,
          0.162327,
          0.16173099999999999,
          0.161686,
          0.163355,
          0.166156,
          0.187822,
          0.17108099999999998,
          0.213359,
          0.279502,
          0.210704,
          0.23077199999999998,
          0.172618,
          0.168672,
          0.165784,
          0.16625,
          0.168162,
          0.164674,
          0.163358,
          0.164461,
          0.263136,
          0.168314,
          0.168706,
          0.166732,
          0.162468,
          0.163489,
          0.16236299999999998,
          0.160739,
          0.16452799999999998,
          0.161527,
          0.161993,
          0.163982,
          0.252378,
          0.16166000000000003,
          0.161906,
          0.164388,
          0.17304799999999998,
          0.16678199999999999,
          0.165329,
          0.16675,
          0.163158,
          0.161529,
          0.16248,
          0.173807,
          0.281233,
          0.186132,
          0.226984
         ],
         "y0": " ",
         "yaxis": "y"
        }
       ],
       "layout": {
        "boxmode": "group",
        "legend": {
         "title": {
          "text": "engine"
         },
         "tracegroupgap": 0
        },
        "template": {
         "data": {
          "bar": [
           {
            "error_x": {
             "color": "#2a3f5f"
            },
            "error_y": {
             "color": "#2a3f5f"
            },
            "marker": {
             "line": {
              "color": "#E5ECF6",
              "width": 0.5
             },
             "pattern": {
              "fillmode": "overlay",
              "size": 10,
              "solidity": 0.2
             }
            },
            "type": "bar"
           }
          ],
          "barpolar": [
           {
            "marker": {
             "line": {
              "color": "#E5ECF6",
              "width": 0.5
             },
             "pattern": {
              "fillmode": "overlay",
              "size": 10,
              "solidity": 0.2
             }
            },
            "type": "barpolar"
           }
          ],
          "carpet": [
           {
            "aaxis": {
             "endlinecolor": "#2a3f5f",
             "gridcolor": "white",
             "linecolor": "white",
             "minorgridcolor": "white",
             "startlinecolor": "#2a3f5f"
            },
            "baxis": {
             "endlinecolor": "#2a3f5f",
             "gridcolor": "white",
             "linecolor": "white",
             "minorgridcolor": "white",
             "startlinecolor": "#2a3f5f"
            },
            "type": "carpet"
           }
          ],
          "choropleth": [
           {
            "colorbar": {
             "outlinewidth": 0,
             "ticks": ""
            },
            "type": "choropleth"
           }
          ],
          "contour": [
           {
            "colorbar": {
             "outlinewidth": 0,
             "ticks": ""
            },
            "colorscale": [
             [
              0,
              "#0d0887"
             ],
             [
              0.1111111111111111,
              "#46039f"
             ],
             [
              0.2222222222222222,
              "#7201a8"
             ],
             [
              0.3333333333333333,
              "#9c179e"
             ],
             [
              0.4444444444444444,
              "#bd3786"
             ],
             [
              0.5555555555555556,
              "#d8576b"
             ],
             [
              0.6666666666666666,
              "#ed7953"
             ],
             [
              0.7777777777777778,
              "#fb9f3a"
             ],
             [
              0.8888888888888888,
              "#fdca26"
             ],
             [
              1,
              "#f0f921"
             ]
            ],
            "type": "contour"
           }
          ],
          "contourcarpet": [
           {
            "colorbar": {
             "outlinewidth": 0,
             "ticks": ""
            },
            "type": "contourcarpet"
           }
          ],
          "heatmap": [
           {
            "colorbar": {
             "outlinewidth": 0,
             "ticks": ""
            },
            "colorscale": [
             [
              0,
              "#0d0887"
             ],
             [
              0.1111111111111111,
              "#46039f"
             ],
             [
              0.2222222222222222,
              "#7201a8"
             ],
             [
              0.3333333333333333,
              "#9c179e"
             ],
             [
              0.4444444444444444,
              "#bd3786"
             ],
             [
              0.5555555555555556,
              "#d8576b"
             ],
             [
              0.6666666666666666,
              "#ed7953"
             ],
             [
              0.7777777777777778,
              "#fb9f3a"
             ],
             [
              0.8888888888888888,
              "#fdca26"
             ],
             [
              1,
              "#f0f921"
             ]
            ],
            "type": "heatmap"
           }
          ],
          "heatmapgl": [
           {
            "colorbar": {
             "outlinewidth": 0,
             "ticks": ""
            },
            "colorscale": [
             [
              0,
              "#0d0887"
             ],
             [
              0.1111111111111111,
              "#46039f"
             ],
             [
              0.2222222222222222,
              "#7201a8"
             ],
             [
              0.3333333333333333,
              "#9c179e"
             ],
             [
              0.4444444444444444,
              "#bd3786"
             ],
             [
              0.5555555555555556,
              "#d8576b"
             ],
             [
              0.6666666666666666,
              "#ed7953"
             ],
             [
              0.7777777777777778,
              "#fb9f3a"
             ],
             [
              0.8888888888888888,
              "#fdca26"
             ],
             [
              1,
              "#f0f921"
             ]
            ],
            "type": "heatmapgl"
           }
          ],
          "histogram": [
           {
            "marker": {
             "pattern": {
              "fillmode": "overlay",
              "size": 10,
              "solidity": 0.2
             }
            },
            "type": "histogram"
           }
          ],
          "histogram2d": [
           {
            "colorbar": {
             "outlinewidth": 0,
             "ticks": ""
            },
            "colorscale": [
             [
              0,
              "#0d0887"
             ],
             [
              0.1111111111111111,
              "#46039f"
             ],
             [
              0.2222222222222222,
              "#7201a8"
             ],
             [
              0.3333333333333333,
              "#9c179e"
             ],
             [
              0.4444444444444444,
              "#bd3786"
             ],
             [
              0.5555555555555556,
              "#d8576b"
             ],
             [
              0.6666666666666666,
              "#ed7953"
             ],
             [
              0.7777777777777778,
              "#fb9f3a"
             ],
             [
              0.8888888888888888,
              "#fdca26"
             ],
             [
              1,
              "#f0f921"
             ]
            ],
            "type": "histogram2d"
           }
          ],
          "histogram2dcontour": [
           {
            "colorbar": {
             "outlinewidth": 0,
             "ticks": ""
            },
            "colorscale": [
             [
              0,
              "#0d0887"
             ],
             [
              0.1111111111111111,
              "#46039f"
             ],
             [
              0.2222222222222222,
              "#7201a8"
             ],
             [
              0.3333333333333333,
              "#9c179e"
             ],
             [
              0.4444444444444444,
              "#bd3786"
             ],
             [
              0.5555555555555556,
              "#d8576b"
             ],
             [
              0.6666666666666666,
              "#ed7953"
             ],
             [
              0.7777777777777778,
              "#fb9f3a"
             ],
             [
              0.8888888888888888,
              "#fdca26"
             ],
             [
              1,
              "#f0f921"
             ]
            ],
            "type": "histogram2dcontour"
           }
          ],
          "mesh3d": [
           {
            "colorbar": {
             "outlinewidth": 0,
             "ticks": ""
            },
            "type": "mesh3d"
           }
          ],
          "parcoords": [
           {
            "line": {
             "colorbar": {
              "outlinewidth": 0,
              "ticks": ""
             }
            },
            "type": "parcoords"
           }
          ],
          "pie": [
           {
            "automargin": true,
            "type": "pie"
           }
          ],
          "scatter": [
           {
            "fillpattern": {
             "fillmode": "overlay",
             "size": 10,
             "solidity": 0.2
            },
            "type": "scatter"
           }
          ],
          "scatter3d": [
           {
            "line": {
             "colorbar": {
              "outlinewidth": 0,
              "ticks": ""
             }
            },
            "marker": {
             "colorbar": {
              "outlinewidth": 0,
              "ticks": ""
             }
            },
            "type": "scatter3d"
           }
          ],
          "scattercarpet": [
           {
            "marker": {
             "colorbar": {
              "outlinewidth": 0,
              "ticks": ""
             }
            },
            "type": "scattercarpet"
           }
          ],
          "scattergeo": [
           {
            "marker": {
             "colorbar": {
              "outlinewidth": 0,
              "ticks": ""
             }
            },
            "type": "scattergeo"
           }
          ],
          "scattergl": [
           {
            "marker": {
             "colorbar": {
              "outlinewidth": 0,
              "ticks": ""
             }
            },
            "type": "scattergl"
           }
          ],
          "scattermapbox": [
           {
            "marker": {
             "colorbar": {
              "outlinewidth": 0,
              "ticks": ""
             }
            },
            "type": "scattermapbox"
           }
          ],
          "scatterpolar": [
           {
            "marker": {
             "colorbar": {
              "outlinewidth": 0,
              "ticks": ""
             }
            },
            "type": "scatterpolar"
           }
          ],
          "scatterpolargl": [
           {
            "marker": {
             "colorbar": {
              "outlinewidth": 0,
              "ticks": ""
             }
            },
            "type": "scatterpolargl"
           }
          ],
          "scatterternary": [
           {
            "marker": {
             "colorbar": {
              "outlinewidth": 0,
              "ticks": ""
             }
            },
            "type": "scatterternary"
           }
          ],
          "surface": [
           {
            "colorbar": {
             "outlinewidth": 0,
             "ticks": ""
            },
            "colorscale": [
             [
              0,
              "#0d0887"
             ],
             [
              0.1111111111111111,
              "#46039f"
             ],
             [
              0.2222222222222222,
              "#7201a8"
             ],
             [
              0.3333333333333333,
              "#9c179e"
             ],
             [
              0.4444444444444444,
              "#bd3786"
             ],
             [
              0.5555555555555556,
              "#d8576b"
             ],
             [
              0.6666666666666666,
              "#ed7953"
             ],
             [
              0.7777777777777778,
              "#fb9f3a"
             ],
             [
              0.8888888888888888,
              "#fdca26"
             ],
             [
              1,
              "#f0f921"
             ]
            ],
            "type": "surface"
           }
          ],
          "table": [
           {
            "cells": {
             "fill": {
              "color": "#EBF0F8"
             },
             "line": {
              "color": "white"
             }
            },
            "header": {
             "fill": {
              "color": "#C8D4E3"
             },
             "line": {
              "color": "white"
             }
            },
            "type": "table"
           }
          ]
         },
         "layout": {
          "annotationdefaults": {
           "arrowcolor": "#2a3f5f",
           "arrowhead": 0,
           "arrowwidth": 1
          },
          "autotypenumbers": "strict",
          "coloraxis": {
           "colorbar": {
            "outlinewidth": 0,
            "ticks": ""
           }
          },
          "colorscale": {
           "diverging": [
            [
             0,
             "#8e0152"
            ],
            [
             0.1,
             "#c51b7d"
            ],
            [
             0.2,
             "#de77ae"
            ],
            [
             0.3,
             "#f1b6da"
            ],
            [
             0.4,
             "#fde0ef"
            ],
            [
             0.5,
             "#f7f7f7"
            ],
            [
             0.6,
             "#e6f5d0"
            ],
            [
             0.7,
             "#b8e186"
            ],
            [
             0.8,
             "#7fbc41"
            ],
            [
             0.9,
             "#4d9221"
            ],
            [
             1,
             "#276419"
            ]
           ],
           "sequential": [
            [
             0,
             "#0d0887"
            ],
            [
             0.1111111111111111,
             "#46039f"
            ],
            [
             0.2222222222222222,
             "#7201a8"
            ],
            [
             0.3333333333333333,
             "#9c179e"
            ],
            [
             0.4444444444444444,
             "#bd3786"
            ],
            [
             0.5555555555555556,
             "#d8576b"
            ],
            [
             0.6666666666666666,
             "#ed7953"
            ],
            [
             0.7777777777777778,
             "#fb9f3a"
            ],
            [
             0.8888888888888888,
             "#fdca26"
            ],
            [
             1,
             "#f0f921"
            ]
           ],
           "sequentialminus": [
            [
             0,
             "#0d0887"
            ],
            [
             0.1111111111111111,
             "#46039f"
            ],
            [
             0.2222222222222222,
             "#7201a8"
            ],
            [
             0.3333333333333333,
             "#9c179e"
            ],
            [
             0.4444444444444444,
             "#bd3786"
            ],
            [
             0.5555555555555556,
             "#d8576b"
            ],
            [
             0.6666666666666666,
             "#ed7953"
            ],
            [
             0.7777777777777778,
             "#fb9f3a"
            ],
            [
             0.8888888888888888,
             "#fdca26"
            ],
            [
             1,
             "#f0f921"
            ]
           ]
          },
          "colorway": [
           "#636efa",
           "#EF553B",
           "#00cc96",
           "#ab63fa",
           "#FFA15A",
           "#19d3f3",
           "#FF6692",
           "#B6E880",
           "#FF97FF",
           "#FECB52"
          ],
          "font": {
           "color": "#2a3f5f"
          },
          "geo": {
           "bgcolor": "white",
           "lakecolor": "white",
           "landcolor": "#E5ECF6",
           "showlakes": true,
           "showland": true,
           "subunitcolor": "white"
          },
          "hoverlabel": {
           "align": "left"
          },
          "hovermode": "closest",
          "mapbox": {
           "style": "light"
          },
          "paper_bgcolor": "white",
          "plot_bgcolor": "#E5ECF6",
          "polar": {
           "angularaxis": {
            "gridcolor": "white",
            "linecolor": "white",
            "ticks": ""
           },
           "bgcolor": "#E5ECF6",
           "radialaxis": {
            "gridcolor": "white",
            "linecolor": "white",
            "ticks": ""
           }
          },
          "scene": {
           "xaxis": {
            "backgroundcolor": "#E5ECF6",
            "gridcolor": "white",
            "gridwidth": 2,
            "linecolor": "white",
            "showbackground": true,
            "ticks": "",
            "zerolinecolor": "white"
           },
           "yaxis": {
            "backgroundcolor": "#E5ECF6",
            "gridcolor": "white",
            "gridwidth": 2,
            "linecolor": "white",
            "showbackground": true,
            "ticks": "",
            "zerolinecolor": "white"
           },
           "zaxis": {
            "backgroundcolor": "#E5ECF6",
            "gridcolor": "white",
            "gridwidth": 2,
            "linecolor": "white",
            "showbackground": true,
            "ticks": "",
            "zerolinecolor": "white"
           }
          },
          "shapedefaults": {
           "line": {
            "color": "#2a3f5f"
           }
          },
          "ternary": {
           "aaxis": {
            "gridcolor": "white",
            "linecolor": "white",
            "ticks": ""
           },
           "baxis": {
            "gridcolor": "white",
            "linecolor": "white",
            "ticks": ""
           },
           "bgcolor": "#E5ECF6",
           "caxis": {
            "gridcolor": "white",
            "linecolor": "white",
            "ticks": ""
           }
          },
          "title": {
           "x": 0.05
          },
          "xaxis": {
           "automargin": true,
           "gridcolor": "white",
           "linecolor": "white",
           "ticks": "",
           "title": {
            "standoff": 15
           },
           "zerolinecolor": "white",
           "zerolinewidth": 2
          },
          "yaxis": {
           "automargin": true,
           "gridcolor": "white",
           "linecolor": "white",
           "ticks": "",
           "title": {
            "standoff": 15
           },
           "zerolinecolor": "white",
           "zerolinewidth": 2
          }
         }
        },
        "title": {
         "text": "previous: filesize per chunk"
        },
        "xaxis": {
         "anchor": "y",
         "domain": [
          0,
          1
         ],
         "title": {
          "text": "filesize per chunk"
         }
        },
        "yaxis": {
         "anchor": "x",
         "domain": [
          0,
          1
         ],
         "title": {
          "text": "time taken"
         },
         "type": "log"
        }
       }
      },
      "text/html": [
       "<div>                            <div id=\"e1ecccc9-ed08-49a3-b8ed-05b39dcbca3c\" class=\"plotly-graph-div\" style=\"height:525px; width:100%;\"></div>            <script type=\"text/javascript\">                require([\"plotly\"], function(Plotly) {                    window.PLOTLYENV=window.PLOTLYENV || {};                                    if (document.getElementById(\"e1ecccc9-ed08-49a3-b8ed-05b39dcbca3c\")) {                    Plotly.newPlot(                        \"e1ecccc9-ed08-49a3-b8ed-05b39dcbca3c\",                        [{\"alignmentgroup\":\"True\",\"customdata\":[[\"zarr-[402653184]-[100663296]\"],[\"zarr-[402653184]-[100663296]\"],[\"zarr-[402653184]-[100663296]\"],[\"zarr-[402653184]-[100663296]\"],[\"zarr-[402653184]-[100663296]\"],[\"zarr-[402653184]-[100663296]\"],[\"zarr-[402653184]-[100663296]\"],[\"zarr-[402653184]-[100663296]\"],[\"zarr-[402653184]-[100663296]\"],[\"zarr-[402653184]-[100663296]\"],[\"zarr-[402653184]-[201326592]\"],[\"zarr-[402653184]-[201326592]\"],[\"zarr-[402653184]-[201326592]\"],[\"zarr-[402653184]-[201326592]\"],[\"zarr-[402653184]-[201326592]\"],[\"zarr-[402653184]-[201326592]\"],[\"zarr-[402653184]-[201326592]\"],[\"zarr-[402653184]-[201326592]\"],[\"zarr-[402653184]-[201326592]\"],[\"zarr-[402653184]-[201326592]\"],[\"zarr-[402653184]-[402653184]\"],[\"zarr-[402653184]-[402653184]\"],[\"zarr-[402653184]-[402653184]\"],[\"zarr-[402653184]-[402653184]\"],[\"zarr-[402653184]-[402653184]\"],[\"zarr-[402653184]-[402653184]\"],[\"zarr-[402653184]-[402653184]\"],[\"zarr-[402653184]-[402653184]\"],[\"zarr-[402653184]-[402653184]\"],[\"zarr-[402653184]-[402653184]\"]],\"hovertemplate\":\"engine=zarr\\u003cbr\\u003efilesize per chunk=%{x}\\u003cbr\\u003etime taken=%{y}\\u003cbr\\u003eformat=%{customdata[0]}\\u003cextra\\u003e\\u003c\\u002fextra\\u003e\",\"legendgroup\":\"zarr\",\"marker\":{\"color\":\"#636efa\"},\"name\":\"zarr\",\"notched\":false,\"offsetgroup\":\"zarr\",\"orientation\":\"v\",\"showlegend\":true,\"x\":[\"768.0 MB\",\"768.0 MB\",\"768.0 MB\",\"768.0 MB\",\"768.0 MB\",\"768.0 MB\",\"768.0 MB\",\"768.0 MB\",\"768.0 MB\",\"768.0 MB\",\"1536.0 MB\",\"1536.0 MB\",\"1536.0 MB\",\"1536.0 MB\",\"1536.0 MB\",\"1536.0 MB\",\"1536.0 MB\",\"1536.0 MB\",\"1536.0 MB\",\"1536.0 MB\",\"3072.0 MB\",\"3072.0 MB\",\"3072.0 MB\",\"3072.0 MB\",\"3072.0 MB\",\"3072.0 MB\",\"3072.0 MB\",\"3072.0 MB\",\"3072.0 MB\",\"3072.0 MB\"],\"x0\":\" \",\"xaxis\":\"x\",\"y\":[1.2852244910000001,1.155481269,1.082253293,1.065130341,1.070564896,1.050202458,1.031522033,1.036140391,1.036209637,1.054851165,3.366545555,1.565833124,1.480275676,1.405102228,1.393267593,1.42936766,1.3739449160000001,1.355726818,1.384567536,1.3487672160000002,4.313937682,2.6488542930000003,2.411989228,2.268892381,2.375150635,2.266676084,2.286144031,2.287039485,2.2651129770000002,2.267031874],\"y0\":\" \",\"yaxis\":\"y\",\"type\":\"box\"},{\"alignmentgroup\":\"True\",\"customdata\":[[\"netcdf4-[402653184]-[100663296]\"],[\"netcdf4-[402653184]-[100663296]\"],[\"netcdf4-[402653184]-[100663296]\"],[\"netcdf4-[402653184]-[100663296]\"],[\"netcdf4-[402653184]-[100663296]\"],[\"netcdf4-[402653184]-[100663296]\"],[\"netcdf4-[402653184]-[100663296]\"],[\"netcdf4-[402653184]-[100663296]\"],[\"netcdf4-[402653184]-[100663296]\"],[\"netcdf4-[402653184]-[100663296]\"],[\"netcdf4-[402653184]-[201326592]\"],[\"netcdf4-[402653184]-[201326592]\"],[\"netcdf4-[402653184]-[201326592]\"],[\"netcdf4-[402653184]-[201326592]\"],[\"netcdf4-[402653184]-[201326592]\"],[\"netcdf4-[402653184]-[201326592]\"],[\"netcdf4-[402653184]-[201326592]\"],[\"netcdf4-[402653184]-[201326592]\"],[\"netcdf4-[402653184]-[201326592]\"],[\"netcdf4-[402653184]-[201326592]\"],[\"netcdf4-[402653184]-[402653184]\"],[\"netcdf4-[402653184]-[402653184]\"],[\"netcdf4-[402653184]-[402653184]\"],[\"netcdf4-[402653184]-[402653184]\"],[\"netcdf4-[402653184]-[402653184]\"],[\"netcdf4-[402653184]-[402653184]\"],[\"netcdf4-[402653184]-[402653184]\"],[\"netcdf4-[402653184]-[402653184]\"],[\"netcdf4-[402653184]-[402653184]\"],[\"netcdf4-[402653184]-[402653184]\"]],\"hovertemplate\":\"engine=netcdf4\\u003cbr\\u003efilesize per chunk=%{x}\\u003cbr\\u003etime taken=%{y}\\u003cbr\\u003eformat=%{customdata[0]}\\u003cextra\\u003e\\u003c\\u002fextra\\u003e\",\"legendgroup\":\"netcdf4\",\"marker\":{\"color\":\"#EF553B\"},\"name\":\"netcdf4\",\"notched\":false,\"offsetgroup\":\"netcdf4\",\"orientation\":\"v\",\"showlegend\":true,\"x\":[\"768.0 MB\",\"768.0 MB\",\"768.0 MB\",\"768.0 MB\",\"768.0 MB\",\"768.0 MB\",\"768.0 MB\",\"768.0 MB\",\"768.0 MB\",\"768.0 MB\",\"1536.0 MB\",\"1536.0 MB\",\"1536.0 MB\",\"1536.0 MB\",\"1536.0 MB\",\"1536.0 MB\",\"1536.0 MB\",\"1536.0 MB\",\"1536.0 MB\",\"1536.0 MB\",\"3072.0 MB\",\"3072.0 MB\",\"3072.0 MB\",\"3072.0 MB\",\"3072.0 MB\",\"3072.0 MB\",\"3072.0 MB\",\"3072.0 MB\",\"3072.0 MB\",\"3072.0 MB\"],\"x0\":\" \",\"xaxis\":\"x\",\"y\":[0.649276293,0.441432941,0.42523892100000005,0.445717951,0.415224882,0.417682308,0.415214996,0.41334700500000005,0.43637342,0.41387438,1.030952195,0.39133243100000004,0.413390519,0.42741585200000004,0.37988759800000005,0.382974085,0.380732436,0.380585616,0.41738392900000004,0.38185176200000004,0.9880287390000001,0.413694704,0.378069778,0.399690113,0.412784976,0.411655932,0.405310781,0.40487775000000004,0.45106858200000005,0.41147810300000004],\"y0\":\" \",\"yaxis\":\"y\",\"type\":\"box\"},{\"alignmentgroup\":\"True\",\"customdata\":[[\"hdf5-[402653184]-[100663296]\"],[\"hdf5-[402653184]-[100663296]\"],[\"hdf5-[402653184]-[100663296]\"],[\"hdf5-[402653184]-[100663296]\"],[\"hdf5-[402653184]-[100663296]\"],[\"hdf5-[402653184]-[100663296]\"],[\"hdf5-[402653184]-[100663296]\"],[\"hdf5-[402653184]-[100663296]\"],[\"hdf5-[402653184]-[100663296]\"],[\"hdf5-[402653184]-[100663296]\"],[\"hdf5-[402653184]-[201326592]\"],[\"hdf5-[402653184]-[201326592]\"],[\"hdf5-[402653184]-[201326592]\"],[\"hdf5-[402653184]-[201326592]\"],[\"hdf5-[402653184]-[201326592]\"],[\"hdf5-[402653184]-[201326592]\"],[\"hdf5-[402653184]-[201326592]\"],[\"hdf5-[402653184]-[201326592]\"],[\"hdf5-[402653184]-[201326592]\"],[\"hdf5-[402653184]-[201326592]\"],[\"hdf5-[402653184]-[402653184]\"],[\"hdf5-[402653184]-[402653184]\"],[\"hdf5-[402653184]-[402653184]\"],[\"hdf5-[402653184]-[402653184]\"],[\"hdf5-[402653184]-[402653184]\"],[\"hdf5-[402653184]-[402653184]\"],[\"hdf5-[402653184]-[402653184]\"],[\"hdf5-[402653184]-[402653184]\"],[\"hdf5-[402653184]-[402653184]\"],[\"hdf5-[402653184]-[402653184]\"]],\"hovertemplate\":\"engine=hdf5\\u003cbr\\u003efilesize per chunk=%{x}\\u003cbr\\u003etime taken=%{y}\\u003cbr\\u003eformat=%{customdata[0]}\\u003cextra\\u003e\\u003c\\u002fextra\\u003e\",\"legendgroup\":\"hdf5\",\"marker\":{\"color\":\"#00cc96\"},\"name\":\"hdf5\",\"notched\":false,\"offsetgroup\":\"hdf5\",\"orientation\":\"v\",\"showlegend\":true,\"x\":[\"768.0 MB\",\"768.0 MB\",\"768.0 MB\",\"768.0 MB\",\"768.0 MB\",\"768.0 MB\",\"768.0 MB\",\"768.0 MB\",\"768.0 MB\",\"768.0 MB\",\"1536.0 MB\",\"1536.0 MB\",\"1536.0 MB\",\"1536.0 MB\",\"1536.0 MB\",\"1536.0 MB\",\"1536.0 MB\",\"1536.0 MB\",\"1536.0 MB\",\"1536.0 MB\",\"3072.0 MB\",\"3072.0 MB\",\"3072.0 MB\",\"3072.0 MB\",\"3072.0 MB\",\"3072.0 MB\",\"3072.0 MB\",\"3072.0 MB\",\"3072.0 MB\",\"3072.0 MB\"],\"x0\":\" \",\"xaxis\":\"x\",\"y\":[0.8371092330000001,0.283662049,0.268439158,0.292104549,0.265552881,0.271759662,0.269804066,0.26867992500000004,0.26608679700000004,0.264176113,0.9606201150000001,0.33341917800000004,0.314152812,0.283283783,0.282030911,0.28225097,0.304240881,0.29831718100000004,0.282815376,0.30770772500000004,1.009676033,0.370412734,0.305443503,0.296670105,0.299697999,0.29419415,0.292740648,0.31586104600000003,0.35793729,0.316409753],\"y0\":\" \",\"yaxis\":\"y\",\"type\":\"box\"},{\"alignmentgroup\":\"True\",\"customdata\":[[\"hdf5-c-402653184-402653184\"],[\"hdf5-c-402653184-402653184\"],[\"hdf5-c-402653184-402653184\"],[\"hdf5-c-402653184-402653184\"],[\"hdf5-c-402653184-402653184\"],[\"hdf5-c-402653184-402653184\"],[\"hdf5-c-402653184-402653184\"],[\"hdf5-c-402653184-402653184\"],[\"hdf5-c-402653184-402653184\"],[\"hdf5-c-402653184-402653184\"]],\"hovertemplate\":\"engine=hdf5-c\\u003cbr\\u003efilesize per chunk=%{x}\\u003cbr\\u003etime taken=%{y}\\u003cbr\\u003eformat=%{customdata[0]}\\u003cextra\\u003e\\u003c\\u002fextra\\u003e\",\"legendgroup\":\"hdf5-c\",\"marker\":{\"color\":\"#ab63fa\"},\"name\":\"hdf5-c\",\"notched\":false,\"offsetgroup\":\"hdf5-c\",\"orientation\":\"v\",\"showlegend\":true,\"x\":[\"3072.0 MB\",\"3072.0 MB\",\"3072.0 MB\",\"3072.0 MB\",\"3072.0 MB\",\"3072.0 MB\",\"3072.0 MB\",\"3072.0 MB\",\"3072.0 MB\",\"3072.0 MB\"],\"x0\":\" \",\"xaxis\":\"x\",\"y\":[0.40457299999999996,0.47253199999999995,0.40116799999999997,0.401652,0.417379,0.375791,0.375793,0.38658499999999996,0.387801,0.385051],\"y0\":\" \",\"yaxis\":\"y\",\"type\":\"box\"},{\"alignmentgroup\":\"True\",\"customdata\":[[\"hdf5-subfiling-134217728-134217728\"],[\"hdf5-subfiling-134217728-134217728\"],[\"hdf5-subfiling-134217728-134217728\"],[\"hdf5-subfiling-134217728-134217728\"],[\"hdf5-subfiling-134217728-134217728\"],[\"hdf5-subfiling-134217728-134217728\"],[\"hdf5-subfiling-134217728-134217728\"],[\"hdf5-subfiling-134217728-134217728\"],[\"hdf5-subfiling-134217728-134217728\"],[\"hdf5-subfiling-134217728-134217728\"]],\"hovertemplate\":\"engine=hdf5-subfiling\\u003cbr\\u003efilesize per chunk=%{x}\\u003cbr\\u003etime taken=%{y}\\u003cbr\\u003eformat=%{customdata[0]}\\u003cextra\\u003e\\u003c\\u002fextra\\u003e\",\"legendgroup\":\"hdf5-subfiling\",\"marker\":{\"color\":\"#FFA15A\"},\"name\":\"hdf5-subfiling\",\"notched\":false,\"offsetgroup\":\"hdf5-subfiling\",\"orientation\":\"v\",\"showlegend\":true,\"x\":[\"1024.0 MB\",\"1024.0 MB\",\"1024.0 MB\",\"1024.0 MB\",\"1024.0 MB\",\"1024.0 MB\",\"1024.0 MB\",\"1024.0 MB\",\"1024.0 MB\",\"1024.0 MB\"],\"x0\":\" \",\"xaxis\":\"x\",\"y\":[0.24542000000000003,0.35334699999999997,0.266121,0.23990399999999998,0.23974099999999998,0.241447,0.240508,0.240274,0.24043499999999998,0.238611],\"y0\":\" \",\"yaxis\":\"y\",\"type\":\"box\"},{\"alignmentgroup\":\"True\",\"customdata\":[[\"hdf5-async-134217728-134217728\"],[\"hdf5-async-134217728-134217728\"],[\"hdf5-async-134217728-134217728\"],[\"hdf5-async-134217728-134217728\"],[\"hdf5-async-134217728-134217728\"],[\"hdf5-async-134217728-134217728\"],[\"hdf5-async-134217728-134217728\"],[\"hdf5-async-134217728-134217728\"],[\"hdf5-async-134217728-134217728\"],[\"hdf5-async-134217728-134217728\"]],\"hovertemplate\":\"engine=hdf5-async\\u003cbr\\u003efilesize per chunk=%{x}\\u003cbr\\u003etime taken=%{y}\\u003cbr\\u003eformat=%{customdata[0]}\\u003cextra\\u003e\\u003c\\u002fextra\\u003e\",\"legendgroup\":\"hdf5-async\",\"marker\":{\"color\":\"#19d3f3\"},\"name\":\"hdf5-async\",\"notched\":false,\"offsetgroup\":\"hdf5-async\",\"orientation\":\"v\",\"showlegend\":true,\"x\":[\"1024.0 MB\",\"1024.0 MB\",\"1024.0 MB\",\"1024.0 MB\",\"1024.0 MB\",\"1024.0 MB\",\"1024.0 MB\",\"1024.0 MB\",\"1024.0 MB\",\"1024.0 MB\"],\"x0\":\" \",\"xaxis\":\"x\",\"y\":[0.488818,0.15956199999999998,0.130557,0.128801,0.147416,0.134387,0.135026,0.130529,0.17788,0.142269],\"y0\":\" \",\"yaxis\":\"y\",\"type\":\"box\"},{\"alignmentgroup\":\"True\",\"customdata\":[[\"netcdf4-c-134217728-134217728\"],[\"netcdf4-c-134217728-134217728\"],[\"netcdf4-c-134217728-134217728\"],[\"netcdf4-c-134217728-134217728\"],[\"netcdf4-c-134217728-134217728\"],[\"netcdf4-c-134217728-134217728\"],[\"netcdf4-c-134217728-134217728\"],[\"netcdf4-c-134217728-134217728\"],[\"netcdf4-c-134217728-134217728\"],[\"netcdf4-c-134217728-134217728\"],[\"netcdf4-c-134217728-134217728\"],[\"netcdf4-c-134217728-134217728\"],[\"netcdf4-c-134217728-134217728\"],[\"netcdf4-c-134217728-134217728\"],[\"netcdf4-c-134217728-134217728\"],[\"netcdf4-c-134217728-134217728\"],[\"netcdf4-c-134217728-134217728\"],[\"netcdf4-c-134217728-134217728\"],[\"netcdf4-c-134217728-134217728\"],[\"netcdf4-c-134217728-134217728\"],[\"netcdf4-c-134217728-134217728\"],[\"netcdf4-c-134217728-134217728\"],[\"netcdf4-c-134217728-134217728\"],[\"netcdf4-c-134217728-134217728\"],[\"netcdf4-c-134217728-134217728\"],[\"netcdf4-c-134217728-134217728\"],[\"netcdf4-c-134217728-134217728\"],[\"netcdf4-c-134217728-134217728\"],[\"netcdf4-c-134217728-134217728\"],[\"netcdf4-c-134217728-134217728\"],[\"netcdf4-c-134217728-134217728\"],[\"netcdf4-c-134217728-134217728\"],[\"netcdf4-c-134217728-134217728\"],[\"netcdf4-c-134217728-134217728\"],[\"netcdf4-c-134217728-134217728\"],[\"netcdf4-c-134217728-134217728\"],[\"netcdf4-c-134217728-134217728\"],[\"netcdf4-c-134217728-134217728\"],[\"netcdf4-c-134217728-134217728\"],[\"netcdf4-c-134217728-134217728\"],[\"netcdf4-c-134217728-134217728\"],[\"netcdf4-c-134217728-134217728\"],[\"netcdf4-c-134217728-134217728\"],[\"netcdf4-c-134217728-134217728\"],[\"netcdf4-c-134217728-134217728\"],[\"netcdf4-c-134217728-134217728\"],[\"netcdf4-c-134217728-134217728\"],[\"netcdf4-c-134217728-134217728\"],[\"netcdf4-c-134217728-134217728\"],[\"netcdf4-c-134217728-134217728\"],[\"netcdf4-c-134217728-134217728\"],[\"netcdf4-c-134217728-134217728\"],[\"netcdf4-c-134217728-134217728\"],[\"netcdf4-c-134217728-134217728\"],[\"netcdf4-c-134217728-134217728\"],[\"netcdf4-c-134217728-134217728\"],[\"netcdf4-c-134217728-134217728\"],[\"netcdf4-c-134217728-134217728\"],[\"netcdf4-c-134217728-134217728\"],[\"netcdf4-c-134217728-134217728\"],[\"netcdf4-c-134217728-134217728\"],[\"netcdf4-c-134217728-134217728\"],[\"netcdf4-c-134217728-134217728\"],[\"netcdf4-c-134217728-134217728\"],[\"netcdf4-c-134217728-134217728\"],[\"netcdf4-c-134217728-134217728\"],[\"netcdf4-c-134217728-134217728\"],[\"netcdf4-c-134217728-134217728\"],[\"netcdf4-c-134217728-134217728\"],[\"netcdf4-c-134217728-134217728\"],[\"netcdf4-c-134217728-134217728\"],[\"netcdf4-c-134217728-134217728\"],[\"netcdf4-c-134217728-134217728\"],[\"netcdf4-c-134217728-134217728\"],[\"netcdf4-c-134217728-134217728\"],[\"netcdf4-c-134217728-134217728\"],[\"netcdf4-c-134217728-134217728\"],[\"netcdf4-c-134217728-134217728\"],[\"netcdf4-c-134217728-134217728\"],[\"netcdf4-c-134217728-134217728\"],[\"netcdf4-c-134217728-134217728\"],[\"netcdf4-c-134217728-134217728\"],[\"netcdf4-c-134217728-134217728\"],[\"netcdf4-c-134217728-134217728\"],[\"netcdf4-c-134217728-134217728\"],[\"netcdf4-c-134217728-134217728\"],[\"netcdf4-c-134217728-134217728\"],[\"netcdf4-c-134217728-134217728\"],[\"netcdf4-c-134217728-134217728\"],[\"netcdf4-c-134217728-134217728\"],[\"netcdf4-c-134217728-134217728\"],[\"netcdf4-c-134217728-134217728\"],[\"netcdf4-c-134217728-134217728\"],[\"netcdf4-c-134217728-134217728\"],[\"netcdf4-c-134217728-134217728\"],[\"netcdf4-c-134217728-134217728\"],[\"netcdf4-c-134217728-134217728\"],[\"netcdf4-c-134217728-134217728\"],[\"netcdf4-c-134217728-134217728\"],[\"netcdf4-c-134217728-134217728\"]],\"hovertemplate\":\"engine=netcdf4-c\\u003cbr\\u003efilesize per chunk=%{x}\\u003cbr\\u003etime taken=%{y}\\u003cbr\\u003eformat=%{customdata[0]}\\u003cextra\\u003e\\u003c\\u002fextra\\u003e\",\"legendgroup\":\"netcdf4-c\",\"marker\":{\"color\":\"#FF6692\"},\"name\":\"netcdf4-c\",\"notched\":false,\"offsetgroup\":\"netcdf4-c\",\"orientation\":\"v\",\"showlegend\":true,\"x\":[\"1024.0 MB\",\"1024.0 MB\",\"1024.0 MB\",\"1024.0 MB\",\"1024.0 MB\",\"1024.0 MB\",\"1024.0 MB\",\"1024.0 MB\",\"1024.0 MB\",\"1024.0 MB\",\"1024.0 MB\",\"1024.0 MB\",\"1024.0 MB\",\"1024.0 MB\",\"1024.0 MB\",\"1024.0 MB\",\"1024.0 MB\",\"1024.0 MB\",\"1024.0 MB\",\"1024.0 MB\",\"1024.0 MB\",\"1024.0 MB\",\"1024.0 MB\",\"1024.0 MB\",\"1024.0 MB\",\"1024.0 MB\",\"1024.0 MB\",\"1024.0 MB\",\"1024.0 MB\",\"1024.0 MB\",\"1024.0 MB\",\"1024.0 MB\",\"1024.0 MB\",\"1024.0 MB\",\"1024.0 MB\",\"1024.0 MB\",\"1024.0 MB\",\"1024.0 MB\",\"1024.0 MB\",\"1024.0 MB\",\"1024.0 MB\",\"1024.0 MB\",\"1024.0 MB\",\"1024.0 MB\",\"1024.0 MB\",\"1024.0 MB\",\"1024.0 MB\",\"1024.0 MB\",\"1024.0 MB\",\"1024.0 MB\",\"1024.0 MB\",\"1024.0 MB\",\"1024.0 MB\",\"1024.0 MB\",\"1024.0 MB\",\"1024.0 MB\",\"1024.0 MB\",\"1024.0 MB\",\"1024.0 MB\",\"1024.0 MB\",\"1024.0 MB\",\"1024.0 MB\",\"1024.0 MB\",\"1024.0 MB\",\"1024.0 MB\",\"1024.0 MB\",\"1024.0 MB\",\"1024.0 MB\",\"1024.0 MB\",\"1024.0 MB\",\"1024.0 MB\",\"1024.0 MB\",\"1024.0 MB\",\"1024.0 MB\",\"1024.0 MB\",\"1024.0 MB\",\"1024.0 MB\",\"1024.0 MB\",\"1024.0 MB\",\"1024.0 MB\",\"1024.0 MB\",\"1024.0 MB\",\"1024.0 MB\",\"1024.0 MB\",\"1024.0 MB\",\"1024.0 MB\",\"1024.0 MB\",\"1024.0 MB\",\"1024.0 MB\",\"1024.0 MB\",\"1024.0 MB\",\"1024.0 MB\",\"1024.0 MB\",\"1024.0 MB\",\"1024.0 MB\",\"1024.0 MB\",\"1024.0 MB\",\"1024.0 MB\",\"1024.0 MB\",\"1024.0 MB\"],\"x0\":\" \",\"xaxis\":\"x\",\"y\":[0.602101,0.261602,0.165743,0.160828,0.160964,0.162638,0.166608,0.16283,0.161029,0.162787,0.16119,0.165231,0.162049,0.228676,0.15734299999999998,0.156792,0.157254,0.174684,0.17216099999999998,0.17028000000000001,0.163677,0.164027,0.167008,0.16619799999999998,0.16371000000000002,0.249969,0.163681,0.194128,0.170982,0.167784,0.166202,0.158468,0.157573,0.157942,0.159853,0.163013,0.165434,0.250596,0.165705,0.165467,0.16472699999999998,0.16599000000000003,0.16185000000000002,0.161995,0.161858,0.161,0.161017,0.161511,0.16245199999999999,0.253677,0.16170099999999998,0.16125899999999999,0.161732,0.16175,0.162327,0.16173099999999999,0.161686,0.163355,0.166156,0.187822,0.17108099999999998,0.213359,0.279502,0.210704,0.23077199999999998,0.172618,0.168672,0.165784,0.16625,0.168162,0.164674,0.163358,0.164461,0.263136,0.168314,0.168706,0.166732,0.162468,0.163489,0.16236299999999998,0.160739,0.16452799999999998,0.161527,0.161993,0.163982,0.252378,0.16166000000000003,0.161906,0.164388,0.17304799999999998,0.16678199999999999,0.165329,0.16675,0.163158,0.161529,0.16248,0.173807,0.281233,0.186132,0.226984],\"y0\":\" \",\"yaxis\":\"y\",\"type\":\"box\"}],                        {\"template\":{\"data\":{\"histogram2dcontour\":[{\"type\":\"histogram2dcontour\",\"colorbar\":{\"outlinewidth\":0,\"ticks\":\"\"},\"colorscale\":[[0.0,\"#0d0887\"],[0.1111111111111111,\"#46039f\"],[0.2222222222222222,\"#7201a8\"],[0.3333333333333333,\"#9c179e\"],[0.4444444444444444,\"#bd3786\"],[0.5555555555555556,\"#d8576b\"],[0.6666666666666666,\"#ed7953\"],[0.7777777777777778,\"#fb9f3a\"],[0.8888888888888888,\"#fdca26\"],[1.0,\"#f0f921\"]]}],\"choropleth\":[{\"type\":\"choropleth\",\"colorbar\":{\"outlinewidth\":0,\"ticks\":\"\"}}],\"histogram2d\":[{\"type\":\"histogram2d\",\"colorbar\":{\"outlinewidth\":0,\"ticks\":\"\"},\"colorscale\":[[0.0,\"#0d0887\"],[0.1111111111111111,\"#46039f\"],[0.2222222222222222,\"#7201a8\"],[0.3333333333333333,\"#9c179e\"],[0.4444444444444444,\"#bd3786\"],[0.5555555555555556,\"#d8576b\"],[0.6666666666666666,\"#ed7953\"],[0.7777777777777778,\"#fb9f3a\"],[0.8888888888888888,\"#fdca26\"],[1.0,\"#f0f921\"]]}],\"heatmap\":[{\"type\":\"heatmap\",\"colorbar\":{\"outlinewidth\":0,\"ticks\":\"\"},\"colorscale\":[[0.0,\"#0d0887\"],[0.1111111111111111,\"#46039f\"],[0.2222222222222222,\"#7201a8\"],[0.3333333333333333,\"#9c179e\"],[0.4444444444444444,\"#bd3786\"],[0.5555555555555556,\"#d8576b\"],[0.6666666666666666,\"#ed7953\"],[0.7777777777777778,\"#fb9f3a\"],[0.8888888888888888,\"#fdca26\"],[1.0,\"#f0f921\"]]}],\"heatmapgl\":[{\"type\":\"heatmapgl\",\"colorbar\":{\"outlinewidth\":0,\"ticks\":\"\"},\"colorscale\":[[0.0,\"#0d0887\"],[0.1111111111111111,\"#46039f\"],[0.2222222222222222,\"#7201a8\"],[0.3333333333333333,\"#9c179e\"],[0.4444444444444444,\"#bd3786\"],[0.5555555555555556,\"#d8576b\"],[0.6666666666666666,\"#ed7953\"],[0.7777777777777778,\"#fb9f3a\"],[0.8888888888888888,\"#fdca26\"],[1.0,\"#f0f921\"]]}],\"contourcarpet\":[{\"type\":\"contourcarpet\",\"colorbar\":{\"outlinewidth\":0,\"ticks\":\"\"}}],\"contour\":[{\"type\":\"contour\",\"colorbar\":{\"outlinewidth\":0,\"ticks\":\"\"},\"colorscale\":[[0.0,\"#0d0887\"],[0.1111111111111111,\"#46039f\"],[0.2222222222222222,\"#7201a8\"],[0.3333333333333333,\"#9c179e\"],[0.4444444444444444,\"#bd3786\"],[0.5555555555555556,\"#d8576b\"],[0.6666666666666666,\"#ed7953\"],[0.7777777777777778,\"#fb9f3a\"],[0.8888888888888888,\"#fdca26\"],[1.0,\"#f0f921\"]]}],\"surface\":[{\"type\":\"surface\",\"colorbar\":{\"outlinewidth\":0,\"ticks\":\"\"},\"colorscale\":[[0.0,\"#0d0887\"],[0.1111111111111111,\"#46039f\"],[0.2222222222222222,\"#7201a8\"],[0.3333333333333333,\"#9c179e\"],[0.4444444444444444,\"#bd3786\"],[0.5555555555555556,\"#d8576b\"],[0.6666666666666666,\"#ed7953\"],[0.7777777777777778,\"#fb9f3a\"],[0.8888888888888888,\"#fdca26\"],[1.0,\"#f0f921\"]]}],\"mesh3d\":[{\"type\":\"mesh3d\",\"colorbar\":{\"outlinewidth\":0,\"ticks\":\"\"}}],\"scatter\":[{\"fillpattern\":{\"fillmode\":\"overlay\",\"size\":10,\"solidity\":0.2},\"type\":\"scatter\"}],\"parcoords\":[{\"type\":\"parcoords\",\"line\":{\"colorbar\":{\"outlinewidth\":0,\"ticks\":\"\"}}}],\"scatterpolargl\":[{\"type\":\"scatterpolargl\",\"marker\":{\"colorbar\":{\"outlinewidth\":0,\"ticks\":\"\"}}}],\"bar\":[{\"error_x\":{\"color\":\"#2a3f5f\"},\"error_y\":{\"color\":\"#2a3f5f\"},\"marker\":{\"line\":{\"color\":\"#E5ECF6\",\"width\":0.5},\"pattern\":{\"fillmode\":\"overlay\",\"size\":10,\"solidity\":0.2}},\"type\":\"bar\"}],\"scattergeo\":[{\"type\":\"scattergeo\",\"marker\":{\"colorbar\":{\"outlinewidth\":0,\"ticks\":\"\"}}}],\"scatterpolar\":[{\"type\":\"scatterpolar\",\"marker\":{\"colorbar\":{\"outlinewidth\":0,\"ticks\":\"\"}}}],\"histogram\":[{\"marker\":{\"pattern\":{\"fillmode\":\"overlay\",\"size\":10,\"solidity\":0.2}},\"type\":\"histogram\"}],\"scattergl\":[{\"type\":\"scattergl\",\"marker\":{\"colorbar\":{\"outlinewidth\":0,\"ticks\":\"\"}}}],\"scatter3d\":[{\"type\":\"scatter3d\",\"line\":{\"colorbar\":{\"outlinewidth\":0,\"ticks\":\"\"}},\"marker\":{\"colorbar\":{\"outlinewidth\":0,\"ticks\":\"\"}}}],\"scattermapbox\":[{\"type\":\"scattermapbox\",\"marker\":{\"colorbar\":{\"outlinewidth\":0,\"ticks\":\"\"}}}],\"scatterternary\":[{\"type\":\"scatterternary\",\"marker\":{\"colorbar\":{\"outlinewidth\":0,\"ticks\":\"\"}}}],\"scattercarpet\":[{\"type\":\"scattercarpet\",\"marker\":{\"colorbar\":{\"outlinewidth\":0,\"ticks\":\"\"}}}],\"carpet\":[{\"aaxis\":{\"endlinecolor\":\"#2a3f5f\",\"gridcolor\":\"white\",\"linecolor\":\"white\",\"minorgridcolor\":\"white\",\"startlinecolor\":\"#2a3f5f\"},\"baxis\":{\"endlinecolor\":\"#2a3f5f\",\"gridcolor\":\"white\",\"linecolor\":\"white\",\"minorgridcolor\":\"white\",\"startlinecolor\":\"#2a3f5f\"},\"type\":\"carpet\"}],\"table\":[{\"cells\":{\"fill\":{\"color\":\"#EBF0F8\"},\"line\":{\"color\":\"white\"}},\"header\":{\"fill\":{\"color\":\"#C8D4E3\"},\"line\":{\"color\":\"white\"}},\"type\":\"table\"}],\"barpolar\":[{\"marker\":{\"line\":{\"color\":\"#E5ECF6\",\"width\":0.5},\"pattern\":{\"fillmode\":\"overlay\",\"size\":10,\"solidity\":0.2}},\"type\":\"barpolar\"}],\"pie\":[{\"automargin\":true,\"type\":\"pie\"}]},\"layout\":{\"autotypenumbers\":\"strict\",\"colorway\":[\"#636efa\",\"#EF553B\",\"#00cc96\",\"#ab63fa\",\"#FFA15A\",\"#19d3f3\",\"#FF6692\",\"#B6E880\",\"#FF97FF\",\"#FECB52\"],\"font\":{\"color\":\"#2a3f5f\"},\"hovermode\":\"closest\",\"hoverlabel\":{\"align\":\"left\"},\"paper_bgcolor\":\"white\",\"plot_bgcolor\":\"#E5ECF6\",\"polar\":{\"bgcolor\":\"#E5ECF6\",\"angularaxis\":{\"gridcolor\":\"white\",\"linecolor\":\"white\",\"ticks\":\"\"},\"radialaxis\":{\"gridcolor\":\"white\",\"linecolor\":\"white\",\"ticks\":\"\"}},\"ternary\":{\"bgcolor\":\"#E5ECF6\",\"aaxis\":{\"gridcolor\":\"white\",\"linecolor\":\"white\",\"ticks\":\"\"},\"baxis\":{\"gridcolor\":\"white\",\"linecolor\":\"white\",\"ticks\":\"\"},\"caxis\":{\"gridcolor\":\"white\",\"linecolor\":\"white\",\"ticks\":\"\"}},\"coloraxis\":{\"colorbar\":{\"outlinewidth\":0,\"ticks\":\"\"}},\"colorscale\":{\"sequential\":[[0.0,\"#0d0887\"],[0.1111111111111111,\"#46039f\"],[0.2222222222222222,\"#7201a8\"],[0.3333333333333333,\"#9c179e\"],[0.4444444444444444,\"#bd3786\"],[0.5555555555555556,\"#d8576b\"],[0.6666666666666666,\"#ed7953\"],[0.7777777777777778,\"#fb9f3a\"],[0.8888888888888888,\"#fdca26\"],[1.0,\"#f0f921\"]],\"sequentialminus\":[[0.0,\"#0d0887\"],[0.1111111111111111,\"#46039f\"],[0.2222222222222222,\"#7201a8\"],[0.3333333333333333,\"#9c179e\"],[0.4444444444444444,\"#bd3786\"],[0.5555555555555556,\"#d8576b\"],[0.6666666666666666,\"#ed7953\"],[0.7777777777777778,\"#fb9f3a\"],[0.8888888888888888,\"#fdca26\"],[1.0,\"#f0f921\"]],\"diverging\":[[0,\"#8e0152\"],[0.1,\"#c51b7d\"],[0.2,\"#de77ae\"],[0.3,\"#f1b6da\"],[0.4,\"#fde0ef\"],[0.5,\"#f7f7f7\"],[0.6,\"#e6f5d0\"],[0.7,\"#b8e186\"],[0.8,\"#7fbc41\"],[0.9,\"#4d9221\"],[1,\"#276419\"]]},\"xaxis\":{\"gridcolor\":\"white\",\"linecolor\":\"white\",\"ticks\":\"\",\"title\":{\"standoff\":15},\"zerolinecolor\":\"white\",\"automargin\":true,\"zerolinewidth\":2},\"yaxis\":{\"gridcolor\":\"white\",\"linecolor\":\"white\",\"ticks\":\"\",\"title\":{\"standoff\":15},\"zerolinecolor\":\"white\",\"automargin\":true,\"zerolinewidth\":2},\"scene\":{\"xaxis\":{\"backgroundcolor\":\"#E5ECF6\",\"gridcolor\":\"white\",\"linecolor\":\"white\",\"showbackground\":true,\"ticks\":\"\",\"zerolinecolor\":\"white\",\"gridwidth\":2},\"yaxis\":{\"backgroundcolor\":\"#E5ECF6\",\"gridcolor\":\"white\",\"linecolor\":\"white\",\"showbackground\":true,\"ticks\":\"\",\"zerolinecolor\":\"white\",\"gridwidth\":2},\"zaxis\":{\"backgroundcolor\":\"#E5ECF6\",\"gridcolor\":\"white\",\"linecolor\":\"white\",\"showbackground\":true,\"ticks\":\"\",\"zerolinecolor\":\"white\",\"gridwidth\":2}},\"shapedefaults\":{\"line\":{\"color\":\"#2a3f5f\"}},\"annotationdefaults\":{\"arrowcolor\":\"#2a3f5f\",\"arrowhead\":0,\"arrowwidth\":1},\"geo\":{\"bgcolor\":\"white\",\"landcolor\":\"#E5ECF6\",\"subunitcolor\":\"white\",\"showland\":true,\"showlakes\":true,\"lakecolor\":\"white\"},\"title\":{\"x\":0.05},\"mapbox\":{\"style\":\"light\"}}},\"xaxis\":{\"anchor\":\"y\",\"domain\":[0.0,1.0],\"title\":{\"text\":\"filesize per chunk\"}},\"yaxis\":{\"anchor\":\"x\",\"domain\":[0.0,1.0],\"title\":{\"text\":\"time taken\"},\"type\":\"log\"},\"legend\":{\"title\":{\"text\":\"engine\"},\"tracegroupgap\":0},\"title\":{\"text\":\"previous: filesize per chunk\"},\"boxmode\":\"group\"},                        {\"responsive\": true}                    ).then(function(){\n",
       "                            \n",
       "var gd = document.getElementById('e1ecccc9-ed08-49a3-b8ed-05b39dcbca3c');\n",
       "var x = new MutationObserver(function (mutations, observer) {{\n",
       "        var display = window.getComputedStyle(gd).display;\n",
       "        if (!display || display === 'none') {{\n",
       "            console.log([gd, 'removed!']);\n",
       "            Plotly.purge(gd);\n",
       "            observer.disconnect();\n",
       "        }}\n",
       "}});\n",
       "\n",
       "// Listen for the removal of the full notebook cells\n",
       "var notebookContainer = gd.closest('#notebook-container');\n",
       "if (notebookContainer) {{\n",
       "    x.observe(notebookContainer, {childList: true});\n",
       "}}\n",
       "\n",
       "// Listen for the clearing of the current output cell\n",
       "var outputEl = gd.closest('.output');\n",
       "if (outputEl) {{\n",
       "    x.observe(outputEl, {childList: true});\n",
       "}}\n",
       "\n",
       "                        })                };                });            </script>        </div>"
      ]
     },
     "metadata": {},
     "output_type": "display_data"
    },
    {
     "data": {
      "application/vnd.plotly.v1+json": {
       "config": {
        "plotlyServerURL": "https://plot.ly"
       },
       "data": [
        {
         "alignmentgroup": "True",
         "hovertemplate": "filesize per chunk=768.0 MB<br>engine=%{x}<br>time taken=%{y}<extra></extra>",
         "legendgroup": "768.0 MB",
         "marker": {
          "color": "#636efa"
         },
         "name": "768.0 MB",
         "notched": false,
         "offsetgroup": "768.0 MB",
         "orientation": "v",
         "showlegend": true,
         "type": "box",
         "x": [
          "zarr",
          "zarr",
          "zarr",
          "zarr",
          "zarr",
          "zarr",
          "zarr",
          "zarr",
          "zarr",
          "zarr"
         ],
         "x0": " ",
         "xaxis": "x",
         "y": [
          1.561470602,
          1.119593804,
          1.131029809,
          1.100024496,
          1.106562787,
          1.08532757,
          1.084824497,
          1.07139167,
          1.062812411,
          1.072172126
         ],
         "y0": " ",
         "yaxis": "y"
        },
        {
         "alignmentgroup": "True",
         "hovertemplate": "filesize per chunk=1536.0 MB<br>engine=%{x}<br>time taken=%{y}<extra></extra>",
         "legendgroup": "1536.0 MB",
         "marker": {
          "color": "#EF553B"
         },
         "name": "1536.0 MB",
         "notched": false,
         "offsetgroup": "1536.0 MB",
         "orientation": "v",
         "showlegend": true,
         "type": "box",
         "x": [
          "zarr",
          "zarr",
          "zarr",
          "zarr",
          "zarr",
          "zarr",
          "zarr",
          "zarr",
          "zarr",
          "zarr"
         ],
         "x0": " ",
         "xaxis": "x",
         "y": [
          3.524663635,
          1.640390784,
          1.58037417,
          1.498136551,
          1.499260701,
          1.471429969,
          1.441589899,
          1.5037154799999999,
          1.440095022,
          1.437127042
         ],
         "y0": " ",
         "yaxis": "y"
        },
        {
         "alignmentgroup": "True",
         "hovertemplate": "filesize per chunk=3072.0 MB<br>engine=%{x}<br>time taken=%{y}<extra></extra>",
         "legendgroup": "3072.0 MB",
         "marker": {
          "color": "#00cc96"
         },
         "name": "3072.0 MB",
         "notched": false,
         "offsetgroup": "3072.0 MB",
         "orientation": "v",
         "showlegend": true,
         "type": "box",
         "x": [
          "zarr",
          "zarr",
          "zarr",
          "zarr",
          "zarr",
          "zarr",
          "zarr",
          "zarr",
          "zarr",
          "zarr"
         ],
         "x0": " ",
         "xaxis": "x",
         "y": [
          4.696084097,
          2.482777822,
          2.385498438,
          2.281798491,
          2.308118287,
          2.266521942,
          2.249475183,
          2.2242104400000002,
          2.264185753,
          2.252098626
         ],
         "y0": " ",
         "yaxis": "y"
        }
       ],
       "layout": {
        "boxmode": "group",
        "legend": {
         "title": {
          "text": "filesize per chunk"
         },
         "tracegroupgap": 0
        },
        "margin": {
         "t": 60
        },
        "template": {
         "data": {
          "bar": [
           {
            "error_x": {
             "color": "#2a3f5f"
            },
            "error_y": {
             "color": "#2a3f5f"
            },
            "marker": {
             "line": {
              "color": "#E5ECF6",
              "width": 0.5
             },
             "pattern": {
              "fillmode": "overlay",
              "size": 10,
              "solidity": 0.2
             }
            },
            "type": "bar"
           }
          ],
          "barpolar": [
           {
            "marker": {
             "line": {
              "color": "#E5ECF6",
              "width": 0.5
             },
             "pattern": {
              "fillmode": "overlay",
              "size": 10,
              "solidity": 0.2
             }
            },
            "type": "barpolar"
           }
          ],
          "carpet": [
           {
            "aaxis": {
             "endlinecolor": "#2a3f5f",
             "gridcolor": "white",
             "linecolor": "white",
             "minorgridcolor": "white",
             "startlinecolor": "#2a3f5f"
            },
            "baxis": {
             "endlinecolor": "#2a3f5f",
             "gridcolor": "white",
             "linecolor": "white",
             "minorgridcolor": "white",
             "startlinecolor": "#2a3f5f"
            },
            "type": "carpet"
           }
          ],
          "choropleth": [
           {
            "colorbar": {
             "outlinewidth": 0,
             "ticks": ""
            },
            "type": "choropleth"
           }
          ],
          "contour": [
           {
            "colorbar": {
             "outlinewidth": 0,
             "ticks": ""
            },
            "colorscale": [
             [
              0,
              "#0d0887"
             ],
             [
              0.1111111111111111,
              "#46039f"
             ],
             [
              0.2222222222222222,
              "#7201a8"
             ],
             [
              0.3333333333333333,
              "#9c179e"
             ],
             [
              0.4444444444444444,
              "#bd3786"
             ],
             [
              0.5555555555555556,
              "#d8576b"
             ],
             [
              0.6666666666666666,
              "#ed7953"
             ],
             [
              0.7777777777777778,
              "#fb9f3a"
             ],
             [
              0.8888888888888888,
              "#fdca26"
             ],
             [
              1,
              "#f0f921"
             ]
            ],
            "type": "contour"
           }
          ],
          "contourcarpet": [
           {
            "colorbar": {
             "outlinewidth": 0,
             "ticks": ""
            },
            "type": "contourcarpet"
           }
          ],
          "heatmap": [
           {
            "colorbar": {
             "outlinewidth": 0,
             "ticks": ""
            },
            "colorscale": [
             [
              0,
              "#0d0887"
             ],
             [
              0.1111111111111111,
              "#46039f"
             ],
             [
              0.2222222222222222,
              "#7201a8"
             ],
             [
              0.3333333333333333,
              "#9c179e"
             ],
             [
              0.4444444444444444,
              "#bd3786"
             ],
             [
              0.5555555555555556,
              "#d8576b"
             ],
             [
              0.6666666666666666,
              "#ed7953"
             ],
             [
              0.7777777777777778,
              "#fb9f3a"
             ],
             [
              0.8888888888888888,
              "#fdca26"
             ],
             [
              1,
              "#f0f921"
             ]
            ],
            "type": "heatmap"
           }
          ],
          "heatmapgl": [
           {
            "colorbar": {
             "outlinewidth": 0,
             "ticks": ""
            },
            "colorscale": [
             [
              0,
              "#0d0887"
             ],
             [
              0.1111111111111111,
              "#46039f"
             ],
             [
              0.2222222222222222,
              "#7201a8"
             ],
             [
              0.3333333333333333,
              "#9c179e"
             ],
             [
              0.4444444444444444,
              "#bd3786"
             ],
             [
              0.5555555555555556,
              "#d8576b"
             ],
             [
              0.6666666666666666,
              "#ed7953"
             ],
             [
              0.7777777777777778,
              "#fb9f3a"
             ],
             [
              0.8888888888888888,
              "#fdca26"
             ],
             [
              1,
              "#f0f921"
             ]
            ],
            "type": "heatmapgl"
           }
          ],
          "histogram": [
           {
            "marker": {
             "pattern": {
              "fillmode": "overlay",
              "size": 10,
              "solidity": 0.2
             }
            },
            "type": "histogram"
           }
          ],
          "histogram2d": [
           {
            "colorbar": {
             "outlinewidth": 0,
             "ticks": ""
            },
            "colorscale": [
             [
              0,
              "#0d0887"
             ],
             [
              0.1111111111111111,
              "#46039f"
             ],
             [
              0.2222222222222222,
              "#7201a8"
             ],
             [
              0.3333333333333333,
              "#9c179e"
             ],
             [
              0.4444444444444444,
              "#bd3786"
             ],
             [
              0.5555555555555556,
              "#d8576b"
             ],
             [
              0.6666666666666666,
              "#ed7953"
             ],
             [
              0.7777777777777778,
              "#fb9f3a"
             ],
             [
              0.8888888888888888,
              "#fdca26"
             ],
             [
              1,
              "#f0f921"
             ]
            ],
            "type": "histogram2d"
           }
          ],
          "histogram2dcontour": [
           {
            "colorbar": {
             "outlinewidth": 0,
             "ticks": ""
            },
            "colorscale": [
             [
              0,
              "#0d0887"
             ],
             [
              0.1111111111111111,
              "#46039f"
             ],
             [
              0.2222222222222222,
              "#7201a8"
             ],
             [
              0.3333333333333333,
              "#9c179e"
             ],
             [
              0.4444444444444444,
              "#bd3786"
             ],
             [
              0.5555555555555556,
              "#d8576b"
             ],
             [
              0.6666666666666666,
              "#ed7953"
             ],
             [
              0.7777777777777778,
              "#fb9f3a"
             ],
             [
              0.8888888888888888,
              "#fdca26"
             ],
             [
              1,
              "#f0f921"
             ]
            ],
            "type": "histogram2dcontour"
           }
          ],
          "mesh3d": [
           {
            "colorbar": {
             "outlinewidth": 0,
             "ticks": ""
            },
            "type": "mesh3d"
           }
          ],
          "parcoords": [
           {
            "line": {
             "colorbar": {
              "outlinewidth": 0,
              "ticks": ""
             }
            },
            "type": "parcoords"
           }
          ],
          "pie": [
           {
            "automargin": true,
            "type": "pie"
           }
          ],
          "scatter": [
           {
            "fillpattern": {
             "fillmode": "overlay",
             "size": 10,
             "solidity": 0.2
            },
            "type": "scatter"
           }
          ],
          "scatter3d": [
           {
            "line": {
             "colorbar": {
              "outlinewidth": 0,
              "ticks": ""
             }
            },
            "marker": {
             "colorbar": {
              "outlinewidth": 0,
              "ticks": ""
             }
            },
            "type": "scatter3d"
           }
          ],
          "scattercarpet": [
           {
            "marker": {
             "colorbar": {
              "outlinewidth": 0,
              "ticks": ""
             }
            },
            "type": "scattercarpet"
           }
          ],
          "scattergeo": [
           {
            "marker": {
             "colorbar": {
              "outlinewidth": 0,
              "ticks": ""
             }
            },
            "type": "scattergeo"
           }
          ],
          "scattergl": [
           {
            "marker": {
             "colorbar": {
              "outlinewidth": 0,
              "ticks": ""
             }
            },
            "type": "scattergl"
           }
          ],
          "scattermapbox": [
           {
            "marker": {
             "colorbar": {
              "outlinewidth": 0,
              "ticks": ""
             }
            },
            "type": "scattermapbox"
           }
          ],
          "scatterpolar": [
           {
            "marker": {
             "colorbar": {
              "outlinewidth": 0,
              "ticks": ""
             }
            },
            "type": "scatterpolar"
           }
          ],
          "scatterpolargl": [
           {
            "marker": {
             "colorbar": {
              "outlinewidth": 0,
              "ticks": ""
             }
            },
            "type": "scatterpolargl"
           }
          ],
          "scatterternary": [
           {
            "marker": {
             "colorbar": {
              "outlinewidth": 0,
              "ticks": ""
             }
            },
            "type": "scatterternary"
           }
          ],
          "surface": [
           {
            "colorbar": {
             "outlinewidth": 0,
             "ticks": ""
            },
            "colorscale": [
             [
              0,
              "#0d0887"
             ],
             [
              0.1111111111111111,
              "#46039f"
             ],
             [
              0.2222222222222222,
              "#7201a8"
             ],
             [
              0.3333333333333333,
              "#9c179e"
             ],
             [
              0.4444444444444444,
              "#bd3786"
             ],
             [
              0.5555555555555556,
              "#d8576b"
             ],
             [
              0.6666666666666666,
              "#ed7953"
             ],
             [
              0.7777777777777778,
              "#fb9f3a"
             ],
             [
              0.8888888888888888,
              "#fdca26"
             ],
             [
              1,
              "#f0f921"
             ]
            ],
            "type": "surface"
           }
          ],
          "table": [
           {
            "cells": {
             "fill": {
              "color": "#EBF0F8"
             },
             "line": {
              "color": "white"
             }
            },
            "header": {
             "fill": {
              "color": "#C8D4E3"
             },
             "line": {
              "color": "white"
             }
            },
            "type": "table"
           }
          ]
         },
         "layout": {
          "annotationdefaults": {
           "arrowcolor": "#2a3f5f",
           "arrowhead": 0,
           "arrowwidth": 1
          },
          "autotypenumbers": "strict",
          "coloraxis": {
           "colorbar": {
            "outlinewidth": 0,
            "ticks": ""
           }
          },
          "colorscale": {
           "diverging": [
            [
             0,
             "#8e0152"
            ],
            [
             0.1,
             "#c51b7d"
            ],
            [
             0.2,
             "#de77ae"
            ],
            [
             0.3,
             "#f1b6da"
            ],
            [
             0.4,
             "#fde0ef"
            ],
            [
             0.5,
             "#f7f7f7"
            ],
            [
             0.6,
             "#e6f5d0"
            ],
            [
             0.7,
             "#b8e186"
            ],
            [
             0.8,
             "#7fbc41"
            ],
            [
             0.9,
             "#4d9221"
            ],
            [
             1,
             "#276419"
            ]
           ],
           "sequential": [
            [
             0,
             "#0d0887"
            ],
            [
             0.1111111111111111,
             "#46039f"
            ],
            [
             0.2222222222222222,
             "#7201a8"
            ],
            [
             0.3333333333333333,
             "#9c179e"
            ],
            [
             0.4444444444444444,
             "#bd3786"
            ],
            [
             0.5555555555555556,
             "#d8576b"
            ],
            [
             0.6666666666666666,
             "#ed7953"
            ],
            [
             0.7777777777777778,
             "#fb9f3a"
            ],
            [
             0.8888888888888888,
             "#fdca26"
            ],
            [
             1,
             "#f0f921"
            ]
           ],
           "sequentialminus": [
            [
             0,
             "#0d0887"
            ],
            [
             0.1111111111111111,
             "#46039f"
            ],
            [
             0.2222222222222222,
             "#7201a8"
            ],
            [
             0.3333333333333333,
             "#9c179e"
            ],
            [
             0.4444444444444444,
             "#bd3786"
            ],
            [
             0.5555555555555556,
             "#d8576b"
            ],
            [
             0.6666666666666666,
             "#ed7953"
            ],
            [
             0.7777777777777778,
             "#fb9f3a"
            ],
            [
             0.8888888888888888,
             "#fdca26"
            ],
            [
             1,
             "#f0f921"
            ]
           ]
          },
          "colorway": [
           "#636efa",
           "#EF553B",
           "#00cc96",
           "#ab63fa",
           "#FFA15A",
           "#19d3f3",
           "#FF6692",
           "#B6E880",
           "#FF97FF",
           "#FECB52"
          ],
          "font": {
           "color": "#2a3f5f"
          },
          "geo": {
           "bgcolor": "white",
           "lakecolor": "white",
           "landcolor": "#E5ECF6",
           "showlakes": true,
           "showland": true,
           "subunitcolor": "white"
          },
          "hoverlabel": {
           "align": "left"
          },
          "hovermode": "closest",
          "mapbox": {
           "style": "light"
          },
          "paper_bgcolor": "white",
          "plot_bgcolor": "#E5ECF6",
          "polar": {
           "angularaxis": {
            "gridcolor": "white",
            "linecolor": "white",
            "ticks": ""
           },
           "bgcolor": "#E5ECF6",
           "radialaxis": {
            "gridcolor": "white",
            "linecolor": "white",
            "ticks": ""
           }
          },
          "scene": {
           "xaxis": {
            "backgroundcolor": "#E5ECF6",
            "gridcolor": "white",
            "gridwidth": 2,
            "linecolor": "white",
            "showbackground": true,
            "ticks": "",
            "zerolinecolor": "white"
           },
           "yaxis": {
            "backgroundcolor": "#E5ECF6",
            "gridcolor": "white",
            "gridwidth": 2,
            "linecolor": "white",
            "showbackground": true,
            "ticks": "",
            "zerolinecolor": "white"
           },
           "zaxis": {
            "backgroundcolor": "#E5ECF6",
            "gridcolor": "white",
            "gridwidth": 2,
            "linecolor": "white",
            "showbackground": true,
            "ticks": "",
            "zerolinecolor": "white"
           }
          },
          "shapedefaults": {
           "line": {
            "color": "#2a3f5f"
           }
          },
          "ternary": {
           "aaxis": {
            "gridcolor": "white",
            "linecolor": "white",
            "ticks": ""
           },
           "baxis": {
            "gridcolor": "white",
            "linecolor": "white",
            "ticks": ""
           },
           "bgcolor": "#E5ECF6",
           "caxis": {
            "gridcolor": "white",
            "linecolor": "white",
            "ticks": ""
           }
          },
          "title": {
           "x": 0.05
          },
          "xaxis": {
           "automargin": true,
           "gridcolor": "white",
           "linecolor": "white",
           "ticks": "",
           "title": {
            "standoff": 15
           },
           "zerolinecolor": "white",
           "zerolinewidth": 2
          },
          "yaxis": {
           "automargin": true,
           "gridcolor": "white",
           "linecolor": "white",
           "ticks": "",
           "title": {
            "standoff": 15
           },
           "zerolinecolor": "white",
           "zerolinewidth": 2
          }
         }
        },
        "xaxis": {
         "anchor": "y",
         "domain": [
          0,
          1
         ],
         "title": {
          "text": "engine"
         }
        },
        "yaxis": {
         "anchor": "x",
         "domain": [
          0,
          1
         ],
         "title": {
          "text": "time taken"
         },
         "type": "log"
        }
       }
      },
      "text/html": [
       "<div>                            <div id=\"5a3608b3-fda1-459f-bbae-02ba151cdb06\" class=\"plotly-graph-div\" style=\"height:525px; width:100%;\"></div>            <script type=\"text/javascript\">                require([\"plotly\"], function(Plotly) {                    window.PLOTLYENV=window.PLOTLYENV || {};                                    if (document.getElementById(\"5a3608b3-fda1-459f-bbae-02ba151cdb06\")) {                    Plotly.newPlot(                        \"5a3608b3-fda1-459f-bbae-02ba151cdb06\",                        [{\"alignmentgroup\":\"True\",\"hovertemplate\":\"filesize per chunk=768.0 MB\\u003cbr\\u003eengine=%{x}\\u003cbr\\u003etime taken=%{y}\\u003cextra\\u003e\\u003c\\u002fextra\\u003e\",\"legendgroup\":\"768.0 MB\",\"marker\":{\"color\":\"#636efa\"},\"name\":\"768.0 MB\",\"notched\":false,\"offsetgroup\":\"768.0 MB\",\"orientation\":\"v\",\"showlegend\":true,\"x\":[\"zarr\",\"zarr\",\"zarr\",\"zarr\",\"zarr\",\"zarr\",\"zarr\",\"zarr\",\"zarr\",\"zarr\"],\"x0\":\" \",\"xaxis\":\"x\",\"y\":[1.561470602,1.119593804,1.131029809,1.100024496,1.106562787,1.08532757,1.084824497,1.07139167,1.062812411,1.072172126],\"y0\":\" \",\"yaxis\":\"y\",\"type\":\"box\"},{\"alignmentgroup\":\"True\",\"hovertemplate\":\"filesize per chunk=1536.0 MB\\u003cbr\\u003eengine=%{x}\\u003cbr\\u003etime taken=%{y}\\u003cextra\\u003e\\u003c\\u002fextra\\u003e\",\"legendgroup\":\"1536.0 MB\",\"marker\":{\"color\":\"#EF553B\"},\"name\":\"1536.0 MB\",\"notched\":false,\"offsetgroup\":\"1536.0 MB\",\"orientation\":\"v\",\"showlegend\":true,\"x\":[\"zarr\",\"zarr\",\"zarr\",\"zarr\",\"zarr\",\"zarr\",\"zarr\",\"zarr\",\"zarr\",\"zarr\"],\"x0\":\" \",\"xaxis\":\"x\",\"y\":[3.524663635,1.640390784,1.58037417,1.498136551,1.499260701,1.471429969,1.441589899,1.5037154799999999,1.440095022,1.437127042],\"y0\":\" \",\"yaxis\":\"y\",\"type\":\"box\"},{\"alignmentgroup\":\"True\",\"hovertemplate\":\"filesize per chunk=3072.0 MB\\u003cbr\\u003eengine=%{x}\\u003cbr\\u003etime taken=%{y}\\u003cextra\\u003e\\u003c\\u002fextra\\u003e\",\"legendgroup\":\"3072.0 MB\",\"marker\":{\"color\":\"#00cc96\"},\"name\":\"3072.0 MB\",\"notched\":false,\"offsetgroup\":\"3072.0 MB\",\"orientation\":\"v\",\"showlegend\":true,\"x\":[\"zarr\",\"zarr\",\"zarr\",\"zarr\",\"zarr\",\"zarr\",\"zarr\",\"zarr\",\"zarr\",\"zarr\"],\"x0\":\" \",\"xaxis\":\"x\",\"y\":[4.696084097,2.482777822,2.385498438,2.281798491,2.308118287,2.266521942,2.249475183,2.2242104400000002,2.264185753,2.252098626],\"y0\":\" \",\"yaxis\":\"y\",\"type\":\"box\"}],                        {\"template\":{\"data\":{\"histogram2dcontour\":[{\"type\":\"histogram2dcontour\",\"colorbar\":{\"outlinewidth\":0,\"ticks\":\"\"},\"colorscale\":[[0.0,\"#0d0887\"],[0.1111111111111111,\"#46039f\"],[0.2222222222222222,\"#7201a8\"],[0.3333333333333333,\"#9c179e\"],[0.4444444444444444,\"#bd3786\"],[0.5555555555555556,\"#d8576b\"],[0.6666666666666666,\"#ed7953\"],[0.7777777777777778,\"#fb9f3a\"],[0.8888888888888888,\"#fdca26\"],[1.0,\"#f0f921\"]]}],\"choropleth\":[{\"type\":\"choropleth\",\"colorbar\":{\"outlinewidth\":0,\"ticks\":\"\"}}],\"histogram2d\":[{\"type\":\"histogram2d\",\"colorbar\":{\"outlinewidth\":0,\"ticks\":\"\"},\"colorscale\":[[0.0,\"#0d0887\"],[0.1111111111111111,\"#46039f\"],[0.2222222222222222,\"#7201a8\"],[0.3333333333333333,\"#9c179e\"],[0.4444444444444444,\"#bd3786\"],[0.5555555555555556,\"#d8576b\"],[0.6666666666666666,\"#ed7953\"],[0.7777777777777778,\"#fb9f3a\"],[0.8888888888888888,\"#fdca26\"],[1.0,\"#f0f921\"]]}],\"heatmap\":[{\"type\":\"heatmap\",\"colorbar\":{\"outlinewidth\":0,\"ticks\":\"\"},\"colorscale\":[[0.0,\"#0d0887\"],[0.1111111111111111,\"#46039f\"],[0.2222222222222222,\"#7201a8\"],[0.3333333333333333,\"#9c179e\"],[0.4444444444444444,\"#bd3786\"],[0.5555555555555556,\"#d8576b\"],[0.6666666666666666,\"#ed7953\"],[0.7777777777777778,\"#fb9f3a\"],[0.8888888888888888,\"#fdca26\"],[1.0,\"#f0f921\"]]}],\"heatmapgl\":[{\"type\":\"heatmapgl\",\"colorbar\":{\"outlinewidth\":0,\"ticks\":\"\"},\"colorscale\":[[0.0,\"#0d0887\"],[0.1111111111111111,\"#46039f\"],[0.2222222222222222,\"#7201a8\"],[0.3333333333333333,\"#9c179e\"],[0.4444444444444444,\"#bd3786\"],[0.5555555555555556,\"#d8576b\"],[0.6666666666666666,\"#ed7953\"],[0.7777777777777778,\"#fb9f3a\"],[0.8888888888888888,\"#fdca26\"],[1.0,\"#f0f921\"]]}],\"contourcarpet\":[{\"type\":\"contourcarpet\",\"colorbar\":{\"outlinewidth\":0,\"ticks\":\"\"}}],\"contour\":[{\"type\":\"contour\",\"colorbar\":{\"outlinewidth\":0,\"ticks\":\"\"},\"colorscale\":[[0.0,\"#0d0887\"],[0.1111111111111111,\"#46039f\"],[0.2222222222222222,\"#7201a8\"],[0.3333333333333333,\"#9c179e\"],[0.4444444444444444,\"#bd3786\"],[0.5555555555555556,\"#d8576b\"],[0.6666666666666666,\"#ed7953\"],[0.7777777777777778,\"#fb9f3a\"],[0.8888888888888888,\"#fdca26\"],[1.0,\"#f0f921\"]]}],\"surface\":[{\"type\":\"surface\",\"colorbar\":{\"outlinewidth\":0,\"ticks\":\"\"},\"colorscale\":[[0.0,\"#0d0887\"],[0.1111111111111111,\"#46039f\"],[0.2222222222222222,\"#7201a8\"],[0.3333333333333333,\"#9c179e\"],[0.4444444444444444,\"#bd3786\"],[0.5555555555555556,\"#d8576b\"],[0.6666666666666666,\"#ed7953\"],[0.7777777777777778,\"#fb9f3a\"],[0.8888888888888888,\"#fdca26\"],[1.0,\"#f0f921\"]]}],\"mesh3d\":[{\"type\":\"mesh3d\",\"colorbar\":{\"outlinewidth\":0,\"ticks\":\"\"}}],\"scatter\":[{\"fillpattern\":{\"fillmode\":\"overlay\",\"size\":10,\"solidity\":0.2},\"type\":\"scatter\"}],\"parcoords\":[{\"type\":\"parcoords\",\"line\":{\"colorbar\":{\"outlinewidth\":0,\"ticks\":\"\"}}}],\"scatterpolargl\":[{\"type\":\"scatterpolargl\",\"marker\":{\"colorbar\":{\"outlinewidth\":0,\"ticks\":\"\"}}}],\"bar\":[{\"error_x\":{\"color\":\"#2a3f5f\"},\"error_y\":{\"color\":\"#2a3f5f\"},\"marker\":{\"line\":{\"color\":\"#E5ECF6\",\"width\":0.5},\"pattern\":{\"fillmode\":\"overlay\",\"size\":10,\"solidity\":0.2}},\"type\":\"bar\"}],\"scattergeo\":[{\"type\":\"scattergeo\",\"marker\":{\"colorbar\":{\"outlinewidth\":0,\"ticks\":\"\"}}}],\"scatterpolar\":[{\"type\":\"scatterpolar\",\"marker\":{\"colorbar\":{\"outlinewidth\":0,\"ticks\":\"\"}}}],\"histogram\":[{\"marker\":{\"pattern\":{\"fillmode\":\"overlay\",\"size\":10,\"solidity\":0.2}},\"type\":\"histogram\"}],\"scattergl\":[{\"type\":\"scattergl\",\"marker\":{\"colorbar\":{\"outlinewidth\":0,\"ticks\":\"\"}}}],\"scatter3d\":[{\"type\":\"scatter3d\",\"line\":{\"colorbar\":{\"outlinewidth\":0,\"ticks\":\"\"}},\"marker\":{\"colorbar\":{\"outlinewidth\":0,\"ticks\":\"\"}}}],\"scattermapbox\":[{\"type\":\"scattermapbox\",\"marker\":{\"colorbar\":{\"outlinewidth\":0,\"ticks\":\"\"}}}],\"scatterternary\":[{\"type\":\"scatterternary\",\"marker\":{\"colorbar\":{\"outlinewidth\":0,\"ticks\":\"\"}}}],\"scattercarpet\":[{\"type\":\"scattercarpet\",\"marker\":{\"colorbar\":{\"outlinewidth\":0,\"ticks\":\"\"}}}],\"carpet\":[{\"aaxis\":{\"endlinecolor\":\"#2a3f5f\",\"gridcolor\":\"white\",\"linecolor\":\"white\",\"minorgridcolor\":\"white\",\"startlinecolor\":\"#2a3f5f\"},\"baxis\":{\"endlinecolor\":\"#2a3f5f\",\"gridcolor\":\"white\",\"linecolor\":\"white\",\"minorgridcolor\":\"white\",\"startlinecolor\":\"#2a3f5f\"},\"type\":\"carpet\"}],\"table\":[{\"cells\":{\"fill\":{\"color\":\"#EBF0F8\"},\"line\":{\"color\":\"white\"}},\"header\":{\"fill\":{\"color\":\"#C8D4E3\"},\"line\":{\"color\":\"white\"}},\"type\":\"table\"}],\"barpolar\":[{\"marker\":{\"line\":{\"color\":\"#E5ECF6\",\"width\":0.5},\"pattern\":{\"fillmode\":\"overlay\",\"size\":10,\"solidity\":0.2}},\"type\":\"barpolar\"}],\"pie\":[{\"automargin\":true,\"type\":\"pie\"}]},\"layout\":{\"autotypenumbers\":\"strict\",\"colorway\":[\"#636efa\",\"#EF553B\",\"#00cc96\",\"#ab63fa\",\"#FFA15A\",\"#19d3f3\",\"#FF6692\",\"#B6E880\",\"#FF97FF\",\"#FECB52\"],\"font\":{\"color\":\"#2a3f5f\"},\"hovermode\":\"closest\",\"hoverlabel\":{\"align\":\"left\"},\"paper_bgcolor\":\"white\",\"plot_bgcolor\":\"#E5ECF6\",\"polar\":{\"bgcolor\":\"#E5ECF6\",\"angularaxis\":{\"gridcolor\":\"white\",\"linecolor\":\"white\",\"ticks\":\"\"},\"radialaxis\":{\"gridcolor\":\"white\",\"linecolor\":\"white\",\"ticks\":\"\"}},\"ternary\":{\"bgcolor\":\"#E5ECF6\",\"aaxis\":{\"gridcolor\":\"white\",\"linecolor\":\"white\",\"ticks\":\"\"},\"baxis\":{\"gridcolor\":\"white\",\"linecolor\":\"white\",\"ticks\":\"\"},\"caxis\":{\"gridcolor\":\"white\",\"linecolor\":\"white\",\"ticks\":\"\"}},\"coloraxis\":{\"colorbar\":{\"outlinewidth\":0,\"ticks\":\"\"}},\"colorscale\":{\"sequential\":[[0.0,\"#0d0887\"],[0.1111111111111111,\"#46039f\"],[0.2222222222222222,\"#7201a8\"],[0.3333333333333333,\"#9c179e\"],[0.4444444444444444,\"#bd3786\"],[0.5555555555555556,\"#d8576b\"],[0.6666666666666666,\"#ed7953\"],[0.7777777777777778,\"#fb9f3a\"],[0.8888888888888888,\"#fdca26\"],[1.0,\"#f0f921\"]],\"sequentialminus\":[[0.0,\"#0d0887\"],[0.1111111111111111,\"#46039f\"],[0.2222222222222222,\"#7201a8\"],[0.3333333333333333,\"#9c179e\"],[0.4444444444444444,\"#bd3786\"],[0.5555555555555556,\"#d8576b\"],[0.6666666666666666,\"#ed7953\"],[0.7777777777777778,\"#fb9f3a\"],[0.8888888888888888,\"#fdca26\"],[1.0,\"#f0f921\"]],\"diverging\":[[0,\"#8e0152\"],[0.1,\"#c51b7d\"],[0.2,\"#de77ae\"],[0.3,\"#f1b6da\"],[0.4,\"#fde0ef\"],[0.5,\"#f7f7f7\"],[0.6,\"#e6f5d0\"],[0.7,\"#b8e186\"],[0.8,\"#7fbc41\"],[0.9,\"#4d9221\"],[1,\"#276419\"]]},\"xaxis\":{\"gridcolor\":\"white\",\"linecolor\":\"white\",\"ticks\":\"\",\"title\":{\"standoff\":15},\"zerolinecolor\":\"white\",\"automargin\":true,\"zerolinewidth\":2},\"yaxis\":{\"gridcolor\":\"white\",\"linecolor\":\"white\",\"ticks\":\"\",\"title\":{\"standoff\":15},\"zerolinecolor\":\"white\",\"automargin\":true,\"zerolinewidth\":2},\"scene\":{\"xaxis\":{\"backgroundcolor\":\"#E5ECF6\",\"gridcolor\":\"white\",\"linecolor\":\"white\",\"showbackground\":true,\"ticks\":\"\",\"zerolinecolor\":\"white\",\"gridwidth\":2},\"yaxis\":{\"backgroundcolor\":\"#E5ECF6\",\"gridcolor\":\"white\",\"linecolor\":\"white\",\"showbackground\":true,\"ticks\":\"\",\"zerolinecolor\":\"white\",\"gridwidth\":2},\"zaxis\":{\"backgroundcolor\":\"#E5ECF6\",\"gridcolor\":\"white\",\"linecolor\":\"white\",\"showbackground\":true,\"ticks\":\"\",\"zerolinecolor\":\"white\",\"gridwidth\":2}},\"shapedefaults\":{\"line\":{\"color\":\"#2a3f5f\"}},\"annotationdefaults\":{\"arrowcolor\":\"#2a3f5f\",\"arrowhead\":0,\"arrowwidth\":1},\"geo\":{\"bgcolor\":\"white\",\"landcolor\":\"#E5ECF6\",\"subunitcolor\":\"white\",\"showland\":true,\"showlakes\":true,\"lakecolor\":\"white\"},\"title\":{\"x\":0.05},\"mapbox\":{\"style\":\"light\"}}},\"xaxis\":{\"anchor\":\"y\",\"domain\":[0.0,1.0],\"title\":{\"text\":\"engine\"}},\"yaxis\":{\"anchor\":\"x\",\"domain\":[0.0,1.0],\"title\":{\"text\":\"time taken\"},\"type\":\"log\"},\"legend\":{\"title\":{\"text\":\"filesize per chunk\"},\"tracegroupgap\":0},\"margin\":{\"t\":60},\"boxmode\":\"group\"},                        {\"responsive\": true}                    ).then(function(){\n",
       "                            \n",
       "var gd = document.getElementById('5a3608b3-fda1-459f-bbae-02ba151cdb06');\n",
       "var x = new MutationObserver(function (mutations, observer) {{\n",
       "        var display = window.getComputedStyle(gd).display;\n",
       "        if (!display || display === 'none') {{\n",
       "            console.log([gd, 'removed!']);\n",
       "            Plotly.purge(gd);\n",
       "            observer.disconnect();\n",
       "        }}\n",
       "}});\n",
       "\n",
       "// Listen for the removal of the full notebook cells\n",
       "var notebookContainer = gd.closest('#notebook-container');\n",
       "if (notebookContainer) {{\n",
       "    x.observe(notebookContainer, {childList: true});\n",
       "}}\n",
       "\n",
       "// Listen for the clearing of the current output cell\n",
       "var outputEl = gd.closest('.output');\n",
       "if (outputEl) {{\n",
       "    x.observe(outputEl, {childList: true});\n",
       "}}\n",
       "\n",
       "                        })                };                });            </script>        </div>"
      ]
     },
     "metadata": {},
     "output_type": "display_data"
    },
    {
     "data": {
      "application/vnd.plotly.v1+json": {
       "config": {
        "plotlyServerURL": "https://plot.ly"
       },
       "data": [
        {
         "alignmentgroup": "True",
         "hovertemplate": "filesize per chunk=768.0 MB<br>engine=%{x}<br>time taken=%{y}<extra></extra>",
         "legendgroup": "768.0 MB",
         "marker": {
          "color": "#636efa"
         },
         "name": "768.0 MB",
         "notched": false,
         "offsetgroup": "768.0 MB",
         "orientation": "v",
         "showlegend": true,
         "type": "box",
         "x": [
          "netcdf4",
          "netcdf4",
          "netcdf4",
          "netcdf4",
          "netcdf4",
          "netcdf4",
          "netcdf4",
          "netcdf4",
          "netcdf4",
          "netcdf4"
         ],
         "x0": " ",
         "xaxis": "x",
         "y": [
          2.503007032,
          1.6436543110000001,
          1.575713818,
          1.693407204,
          1.7019631510000002,
          1.575951321,
          1.672457324,
          1.664683944,
          1.6092664540000001,
          1.576138876
         ],
         "y0": " ",
         "yaxis": "y"
        },
        {
         "alignmentgroup": "True",
         "hovertemplate": "filesize per chunk=1536.0 MB<br>engine=%{x}<br>time taken=%{y}<extra></extra>",
         "legendgroup": "1536.0 MB",
         "marker": {
          "color": "#EF553B"
         },
         "name": "1536.0 MB",
         "notched": false,
         "offsetgroup": "1536.0 MB",
         "orientation": "v",
         "showlegend": true,
         "type": "box",
         "x": [
          "netcdf4",
          "netcdf4",
          "netcdf4",
          "netcdf4",
          "netcdf4",
          "netcdf4",
          "netcdf4",
          "netcdf4",
          "netcdf4",
          "netcdf4"
         ],
         "x0": " ",
         "xaxis": "x",
         "y": [
          3.125054425,
          0.996413096,
          0.962528853,
          0.953506285,
          0.9874306650000001,
          0.947477604,
          0.986009702,
          0.9486437510000001,
          0.9766967540000001,
          0.9475818500000001
         ],
         "y0": " ",
         "yaxis": "y"
        },
        {
         "alignmentgroup": "True",
         "hovertemplate": "filesize per chunk=3072.0 MB<br>engine=%{x}<br>time taken=%{y}<extra></extra>",
         "legendgroup": "3072.0 MB",
         "marker": {
          "color": "#00cc96"
         },
         "name": "3072.0 MB",
         "notched": false,
         "offsetgroup": "3072.0 MB",
         "orientation": "v",
         "showlegend": true,
         "type": "box",
         "x": [
          "netcdf4",
          "netcdf4",
          "netcdf4",
          "netcdf4",
          "netcdf4",
          "netcdf4",
          "netcdf4",
          "netcdf4",
          "netcdf4",
          "netcdf4"
         ],
         "x0": " ",
         "xaxis": "x",
         "y": [
          0.991430133,
          0.363354404,
          0.361270258,
          0.391785413,
          0.362657294,
          0.36500627300000005,
          0.371078183,
          0.36441432500000004,
          0.37061255,
          0.360128059
         ],
         "y0": " ",
         "yaxis": "y"
        }
       ],
       "layout": {
        "boxmode": "group",
        "legend": {
         "title": {
          "text": "filesize per chunk"
         },
         "tracegroupgap": 0
        },
        "margin": {
         "t": 60
        },
        "template": {
         "data": {
          "bar": [
           {
            "error_x": {
             "color": "#2a3f5f"
            },
            "error_y": {
             "color": "#2a3f5f"
            },
            "marker": {
             "line": {
              "color": "#E5ECF6",
              "width": 0.5
             },
             "pattern": {
              "fillmode": "overlay",
              "size": 10,
              "solidity": 0.2
             }
            },
            "type": "bar"
           }
          ],
          "barpolar": [
           {
            "marker": {
             "line": {
              "color": "#E5ECF6",
              "width": 0.5
             },
             "pattern": {
              "fillmode": "overlay",
              "size": 10,
              "solidity": 0.2
             }
            },
            "type": "barpolar"
           }
          ],
          "carpet": [
           {
            "aaxis": {
             "endlinecolor": "#2a3f5f",
             "gridcolor": "white",
             "linecolor": "white",
             "minorgridcolor": "white",
             "startlinecolor": "#2a3f5f"
            },
            "baxis": {
             "endlinecolor": "#2a3f5f",
             "gridcolor": "white",
             "linecolor": "white",
             "minorgridcolor": "white",
             "startlinecolor": "#2a3f5f"
            },
            "type": "carpet"
           }
          ],
          "choropleth": [
           {
            "colorbar": {
             "outlinewidth": 0,
             "ticks": ""
            },
            "type": "choropleth"
           }
          ],
          "contour": [
           {
            "colorbar": {
             "outlinewidth": 0,
             "ticks": ""
            },
            "colorscale": [
             [
              0,
              "#0d0887"
             ],
             [
              0.1111111111111111,
              "#46039f"
             ],
             [
              0.2222222222222222,
              "#7201a8"
             ],
             [
              0.3333333333333333,
              "#9c179e"
             ],
             [
              0.4444444444444444,
              "#bd3786"
             ],
             [
              0.5555555555555556,
              "#d8576b"
             ],
             [
              0.6666666666666666,
              "#ed7953"
             ],
             [
              0.7777777777777778,
              "#fb9f3a"
             ],
             [
              0.8888888888888888,
              "#fdca26"
             ],
             [
              1,
              "#f0f921"
             ]
            ],
            "type": "contour"
           }
          ],
          "contourcarpet": [
           {
            "colorbar": {
             "outlinewidth": 0,
             "ticks": ""
            },
            "type": "contourcarpet"
           }
          ],
          "heatmap": [
           {
            "colorbar": {
             "outlinewidth": 0,
             "ticks": ""
            },
            "colorscale": [
             [
              0,
              "#0d0887"
             ],
             [
              0.1111111111111111,
              "#46039f"
             ],
             [
              0.2222222222222222,
              "#7201a8"
             ],
             [
              0.3333333333333333,
              "#9c179e"
             ],
             [
              0.4444444444444444,
              "#bd3786"
             ],
             [
              0.5555555555555556,
              "#d8576b"
             ],
             [
              0.6666666666666666,
              "#ed7953"
             ],
             [
              0.7777777777777778,
              "#fb9f3a"
             ],
             [
              0.8888888888888888,
              "#fdca26"
             ],
             [
              1,
              "#f0f921"
             ]
            ],
            "type": "heatmap"
           }
          ],
          "heatmapgl": [
           {
            "colorbar": {
             "outlinewidth": 0,
             "ticks": ""
            },
            "colorscale": [
             [
              0,
              "#0d0887"
             ],
             [
              0.1111111111111111,
              "#46039f"
             ],
             [
              0.2222222222222222,
              "#7201a8"
             ],
             [
              0.3333333333333333,
              "#9c179e"
             ],
             [
              0.4444444444444444,
              "#bd3786"
             ],
             [
              0.5555555555555556,
              "#d8576b"
             ],
             [
              0.6666666666666666,
              "#ed7953"
             ],
             [
              0.7777777777777778,
              "#fb9f3a"
             ],
             [
              0.8888888888888888,
              "#fdca26"
             ],
             [
              1,
              "#f0f921"
             ]
            ],
            "type": "heatmapgl"
           }
          ],
          "histogram": [
           {
            "marker": {
             "pattern": {
              "fillmode": "overlay",
              "size": 10,
              "solidity": 0.2
             }
            },
            "type": "histogram"
           }
          ],
          "histogram2d": [
           {
            "colorbar": {
             "outlinewidth": 0,
             "ticks": ""
            },
            "colorscale": [
             [
              0,
              "#0d0887"
             ],
             [
              0.1111111111111111,
              "#46039f"
             ],
             [
              0.2222222222222222,
              "#7201a8"
             ],
             [
              0.3333333333333333,
              "#9c179e"
             ],
             [
              0.4444444444444444,
              "#bd3786"
             ],
             [
              0.5555555555555556,
              "#d8576b"
             ],
             [
              0.6666666666666666,
              "#ed7953"
             ],
             [
              0.7777777777777778,
              "#fb9f3a"
             ],
             [
              0.8888888888888888,
              "#fdca26"
             ],
             [
              1,
              "#f0f921"
             ]
            ],
            "type": "histogram2d"
           }
          ],
          "histogram2dcontour": [
           {
            "colorbar": {
             "outlinewidth": 0,
             "ticks": ""
            },
            "colorscale": [
             [
              0,
              "#0d0887"
             ],
             [
              0.1111111111111111,
              "#46039f"
             ],
             [
              0.2222222222222222,
              "#7201a8"
             ],
             [
              0.3333333333333333,
              "#9c179e"
             ],
             [
              0.4444444444444444,
              "#bd3786"
             ],
             [
              0.5555555555555556,
              "#d8576b"
             ],
             [
              0.6666666666666666,
              "#ed7953"
             ],
             [
              0.7777777777777778,
              "#fb9f3a"
             ],
             [
              0.8888888888888888,
              "#fdca26"
             ],
             [
              1,
              "#f0f921"
             ]
            ],
            "type": "histogram2dcontour"
           }
          ],
          "mesh3d": [
           {
            "colorbar": {
             "outlinewidth": 0,
             "ticks": ""
            },
            "type": "mesh3d"
           }
          ],
          "parcoords": [
           {
            "line": {
             "colorbar": {
              "outlinewidth": 0,
              "ticks": ""
             }
            },
            "type": "parcoords"
           }
          ],
          "pie": [
           {
            "automargin": true,
            "type": "pie"
           }
          ],
          "scatter": [
           {
            "fillpattern": {
             "fillmode": "overlay",
             "size": 10,
             "solidity": 0.2
            },
            "type": "scatter"
           }
          ],
          "scatter3d": [
           {
            "line": {
             "colorbar": {
              "outlinewidth": 0,
              "ticks": ""
             }
            },
            "marker": {
             "colorbar": {
              "outlinewidth": 0,
              "ticks": ""
             }
            },
            "type": "scatter3d"
           }
          ],
          "scattercarpet": [
           {
            "marker": {
             "colorbar": {
              "outlinewidth": 0,
              "ticks": ""
             }
            },
            "type": "scattercarpet"
           }
          ],
          "scattergeo": [
           {
            "marker": {
             "colorbar": {
              "outlinewidth": 0,
              "ticks": ""
             }
            },
            "type": "scattergeo"
           }
          ],
          "scattergl": [
           {
            "marker": {
             "colorbar": {
              "outlinewidth": 0,
              "ticks": ""
             }
            },
            "type": "scattergl"
           }
          ],
          "scattermapbox": [
           {
            "marker": {
             "colorbar": {
              "outlinewidth": 0,
              "ticks": ""
             }
            },
            "type": "scattermapbox"
           }
          ],
          "scatterpolar": [
           {
            "marker": {
             "colorbar": {
              "outlinewidth": 0,
              "ticks": ""
             }
            },
            "type": "scatterpolar"
           }
          ],
          "scatterpolargl": [
           {
            "marker": {
             "colorbar": {
              "outlinewidth": 0,
              "ticks": ""
             }
            },
            "type": "scatterpolargl"
           }
          ],
          "scatterternary": [
           {
            "marker": {
             "colorbar": {
              "outlinewidth": 0,
              "ticks": ""
             }
            },
            "type": "scatterternary"
           }
          ],
          "surface": [
           {
            "colorbar": {
             "outlinewidth": 0,
             "ticks": ""
            },
            "colorscale": [
             [
              0,
              "#0d0887"
             ],
             [
              0.1111111111111111,
              "#46039f"
             ],
             [
              0.2222222222222222,
              "#7201a8"
             ],
             [
              0.3333333333333333,
              "#9c179e"
             ],
             [
              0.4444444444444444,
              "#bd3786"
             ],
             [
              0.5555555555555556,
              "#d8576b"
             ],
             [
              0.6666666666666666,
              "#ed7953"
             ],
             [
              0.7777777777777778,
              "#fb9f3a"
             ],
             [
              0.8888888888888888,
              "#fdca26"
             ],
             [
              1,
              "#f0f921"
             ]
            ],
            "type": "surface"
           }
          ],
          "table": [
           {
            "cells": {
             "fill": {
              "color": "#EBF0F8"
             },
             "line": {
              "color": "white"
             }
            },
            "header": {
             "fill": {
              "color": "#C8D4E3"
             },
             "line": {
              "color": "white"
             }
            },
            "type": "table"
           }
          ]
         },
         "layout": {
          "annotationdefaults": {
           "arrowcolor": "#2a3f5f",
           "arrowhead": 0,
           "arrowwidth": 1
          },
          "autotypenumbers": "strict",
          "coloraxis": {
           "colorbar": {
            "outlinewidth": 0,
            "ticks": ""
           }
          },
          "colorscale": {
           "diverging": [
            [
             0,
             "#8e0152"
            ],
            [
             0.1,
             "#c51b7d"
            ],
            [
             0.2,
             "#de77ae"
            ],
            [
             0.3,
             "#f1b6da"
            ],
            [
             0.4,
             "#fde0ef"
            ],
            [
             0.5,
             "#f7f7f7"
            ],
            [
             0.6,
             "#e6f5d0"
            ],
            [
             0.7,
             "#b8e186"
            ],
            [
             0.8,
             "#7fbc41"
            ],
            [
             0.9,
             "#4d9221"
            ],
            [
             1,
             "#276419"
            ]
           ],
           "sequential": [
            [
             0,
             "#0d0887"
            ],
            [
             0.1111111111111111,
             "#46039f"
            ],
            [
             0.2222222222222222,
             "#7201a8"
            ],
            [
             0.3333333333333333,
             "#9c179e"
            ],
            [
             0.4444444444444444,
             "#bd3786"
            ],
            [
             0.5555555555555556,
             "#d8576b"
            ],
            [
             0.6666666666666666,
             "#ed7953"
            ],
            [
             0.7777777777777778,
             "#fb9f3a"
            ],
            [
             0.8888888888888888,
             "#fdca26"
            ],
            [
             1,
             "#f0f921"
            ]
           ],
           "sequentialminus": [
            [
             0,
             "#0d0887"
            ],
            [
             0.1111111111111111,
             "#46039f"
            ],
            [
             0.2222222222222222,
             "#7201a8"
            ],
            [
             0.3333333333333333,
             "#9c179e"
            ],
            [
             0.4444444444444444,
             "#bd3786"
            ],
            [
             0.5555555555555556,
             "#d8576b"
            ],
            [
             0.6666666666666666,
             "#ed7953"
            ],
            [
             0.7777777777777778,
             "#fb9f3a"
            ],
            [
             0.8888888888888888,
             "#fdca26"
            ],
            [
             1,
             "#f0f921"
            ]
           ]
          },
          "colorway": [
           "#636efa",
           "#EF553B",
           "#00cc96",
           "#ab63fa",
           "#FFA15A",
           "#19d3f3",
           "#FF6692",
           "#B6E880",
           "#FF97FF",
           "#FECB52"
          ],
          "font": {
           "color": "#2a3f5f"
          },
          "geo": {
           "bgcolor": "white",
           "lakecolor": "white",
           "landcolor": "#E5ECF6",
           "showlakes": true,
           "showland": true,
           "subunitcolor": "white"
          },
          "hoverlabel": {
           "align": "left"
          },
          "hovermode": "closest",
          "mapbox": {
           "style": "light"
          },
          "paper_bgcolor": "white",
          "plot_bgcolor": "#E5ECF6",
          "polar": {
           "angularaxis": {
            "gridcolor": "white",
            "linecolor": "white",
            "ticks": ""
           },
           "bgcolor": "#E5ECF6",
           "radialaxis": {
            "gridcolor": "white",
            "linecolor": "white",
            "ticks": ""
           }
          },
          "scene": {
           "xaxis": {
            "backgroundcolor": "#E5ECF6",
            "gridcolor": "white",
            "gridwidth": 2,
            "linecolor": "white",
            "showbackground": true,
            "ticks": "",
            "zerolinecolor": "white"
           },
           "yaxis": {
            "backgroundcolor": "#E5ECF6",
            "gridcolor": "white",
            "gridwidth": 2,
            "linecolor": "white",
            "showbackground": true,
            "ticks": "",
            "zerolinecolor": "white"
           },
           "zaxis": {
            "backgroundcolor": "#E5ECF6",
            "gridcolor": "white",
            "gridwidth": 2,
            "linecolor": "white",
            "showbackground": true,
            "ticks": "",
            "zerolinecolor": "white"
           }
          },
          "shapedefaults": {
           "line": {
            "color": "#2a3f5f"
           }
          },
          "ternary": {
           "aaxis": {
            "gridcolor": "white",
            "linecolor": "white",
            "ticks": ""
           },
           "baxis": {
            "gridcolor": "white",
            "linecolor": "white",
            "ticks": ""
           },
           "bgcolor": "#E5ECF6",
           "caxis": {
            "gridcolor": "white",
            "linecolor": "white",
            "ticks": ""
           }
          },
          "title": {
           "x": 0.05
          },
          "xaxis": {
           "automargin": true,
           "gridcolor": "white",
           "linecolor": "white",
           "ticks": "",
           "title": {
            "standoff": 15
           },
           "zerolinecolor": "white",
           "zerolinewidth": 2
          },
          "yaxis": {
           "automargin": true,
           "gridcolor": "white",
           "linecolor": "white",
           "ticks": "",
           "title": {
            "standoff": 15
           },
           "zerolinecolor": "white",
           "zerolinewidth": 2
          }
         }
        },
        "xaxis": {
         "anchor": "y",
         "domain": [
          0,
          1
         ],
         "title": {
          "text": "engine"
         }
        },
        "yaxis": {
         "anchor": "x",
         "domain": [
          0,
          1
         ],
         "title": {
          "text": "time taken"
         },
         "type": "log"
        }
       }
      },
      "text/html": [
       "<div>                            <div id=\"7f3c3b44-eaf0-40b4-a7ac-e91b98326cb5\" class=\"plotly-graph-div\" style=\"height:525px; width:100%;\"></div>            <script type=\"text/javascript\">                require([\"plotly\"], function(Plotly) {                    window.PLOTLYENV=window.PLOTLYENV || {};                                    if (document.getElementById(\"7f3c3b44-eaf0-40b4-a7ac-e91b98326cb5\")) {                    Plotly.newPlot(                        \"7f3c3b44-eaf0-40b4-a7ac-e91b98326cb5\",                        [{\"alignmentgroup\":\"True\",\"hovertemplate\":\"filesize per chunk=768.0 MB\\u003cbr\\u003eengine=%{x}\\u003cbr\\u003etime taken=%{y}\\u003cextra\\u003e\\u003c\\u002fextra\\u003e\",\"legendgroup\":\"768.0 MB\",\"marker\":{\"color\":\"#636efa\"},\"name\":\"768.0 MB\",\"notched\":false,\"offsetgroup\":\"768.0 MB\",\"orientation\":\"v\",\"showlegend\":true,\"x\":[\"netcdf4\",\"netcdf4\",\"netcdf4\",\"netcdf4\",\"netcdf4\",\"netcdf4\",\"netcdf4\",\"netcdf4\",\"netcdf4\",\"netcdf4\"],\"x0\":\" \",\"xaxis\":\"x\",\"y\":[2.503007032,1.6436543110000001,1.575713818,1.693407204,1.7019631510000002,1.575951321,1.672457324,1.664683944,1.6092664540000001,1.576138876],\"y0\":\" \",\"yaxis\":\"y\",\"type\":\"box\"},{\"alignmentgroup\":\"True\",\"hovertemplate\":\"filesize per chunk=1536.0 MB\\u003cbr\\u003eengine=%{x}\\u003cbr\\u003etime taken=%{y}\\u003cextra\\u003e\\u003c\\u002fextra\\u003e\",\"legendgroup\":\"1536.0 MB\",\"marker\":{\"color\":\"#EF553B\"},\"name\":\"1536.0 MB\",\"notched\":false,\"offsetgroup\":\"1536.0 MB\",\"orientation\":\"v\",\"showlegend\":true,\"x\":[\"netcdf4\",\"netcdf4\",\"netcdf4\",\"netcdf4\",\"netcdf4\",\"netcdf4\",\"netcdf4\",\"netcdf4\",\"netcdf4\",\"netcdf4\"],\"x0\":\" \",\"xaxis\":\"x\",\"y\":[3.125054425,0.996413096,0.962528853,0.953506285,0.9874306650000001,0.947477604,0.986009702,0.9486437510000001,0.9766967540000001,0.9475818500000001],\"y0\":\" \",\"yaxis\":\"y\",\"type\":\"box\"},{\"alignmentgroup\":\"True\",\"hovertemplate\":\"filesize per chunk=3072.0 MB\\u003cbr\\u003eengine=%{x}\\u003cbr\\u003etime taken=%{y}\\u003cextra\\u003e\\u003c\\u002fextra\\u003e\",\"legendgroup\":\"3072.0 MB\",\"marker\":{\"color\":\"#00cc96\"},\"name\":\"3072.0 MB\",\"notched\":false,\"offsetgroup\":\"3072.0 MB\",\"orientation\":\"v\",\"showlegend\":true,\"x\":[\"netcdf4\",\"netcdf4\",\"netcdf4\",\"netcdf4\",\"netcdf4\",\"netcdf4\",\"netcdf4\",\"netcdf4\",\"netcdf4\",\"netcdf4\"],\"x0\":\" \",\"xaxis\":\"x\",\"y\":[0.991430133,0.363354404,0.361270258,0.391785413,0.362657294,0.36500627300000005,0.371078183,0.36441432500000004,0.37061255,0.360128059],\"y0\":\" \",\"yaxis\":\"y\",\"type\":\"box\"}],                        {\"template\":{\"data\":{\"histogram2dcontour\":[{\"type\":\"histogram2dcontour\",\"colorbar\":{\"outlinewidth\":0,\"ticks\":\"\"},\"colorscale\":[[0.0,\"#0d0887\"],[0.1111111111111111,\"#46039f\"],[0.2222222222222222,\"#7201a8\"],[0.3333333333333333,\"#9c179e\"],[0.4444444444444444,\"#bd3786\"],[0.5555555555555556,\"#d8576b\"],[0.6666666666666666,\"#ed7953\"],[0.7777777777777778,\"#fb9f3a\"],[0.8888888888888888,\"#fdca26\"],[1.0,\"#f0f921\"]]}],\"choropleth\":[{\"type\":\"choropleth\",\"colorbar\":{\"outlinewidth\":0,\"ticks\":\"\"}}],\"histogram2d\":[{\"type\":\"histogram2d\",\"colorbar\":{\"outlinewidth\":0,\"ticks\":\"\"},\"colorscale\":[[0.0,\"#0d0887\"],[0.1111111111111111,\"#46039f\"],[0.2222222222222222,\"#7201a8\"],[0.3333333333333333,\"#9c179e\"],[0.4444444444444444,\"#bd3786\"],[0.5555555555555556,\"#d8576b\"],[0.6666666666666666,\"#ed7953\"],[0.7777777777777778,\"#fb9f3a\"],[0.8888888888888888,\"#fdca26\"],[1.0,\"#f0f921\"]]}],\"heatmap\":[{\"type\":\"heatmap\",\"colorbar\":{\"outlinewidth\":0,\"ticks\":\"\"},\"colorscale\":[[0.0,\"#0d0887\"],[0.1111111111111111,\"#46039f\"],[0.2222222222222222,\"#7201a8\"],[0.3333333333333333,\"#9c179e\"],[0.4444444444444444,\"#bd3786\"],[0.5555555555555556,\"#d8576b\"],[0.6666666666666666,\"#ed7953\"],[0.7777777777777778,\"#fb9f3a\"],[0.8888888888888888,\"#fdca26\"],[1.0,\"#f0f921\"]]}],\"heatmapgl\":[{\"type\":\"heatmapgl\",\"colorbar\":{\"outlinewidth\":0,\"ticks\":\"\"},\"colorscale\":[[0.0,\"#0d0887\"],[0.1111111111111111,\"#46039f\"],[0.2222222222222222,\"#7201a8\"],[0.3333333333333333,\"#9c179e\"],[0.4444444444444444,\"#bd3786\"],[0.5555555555555556,\"#d8576b\"],[0.6666666666666666,\"#ed7953\"],[0.7777777777777778,\"#fb9f3a\"],[0.8888888888888888,\"#fdca26\"],[1.0,\"#f0f921\"]]}],\"contourcarpet\":[{\"type\":\"contourcarpet\",\"colorbar\":{\"outlinewidth\":0,\"ticks\":\"\"}}],\"contour\":[{\"type\":\"contour\",\"colorbar\":{\"outlinewidth\":0,\"ticks\":\"\"},\"colorscale\":[[0.0,\"#0d0887\"],[0.1111111111111111,\"#46039f\"],[0.2222222222222222,\"#7201a8\"],[0.3333333333333333,\"#9c179e\"],[0.4444444444444444,\"#bd3786\"],[0.5555555555555556,\"#d8576b\"],[0.6666666666666666,\"#ed7953\"],[0.7777777777777778,\"#fb9f3a\"],[0.8888888888888888,\"#fdca26\"],[1.0,\"#f0f921\"]]}],\"surface\":[{\"type\":\"surface\",\"colorbar\":{\"outlinewidth\":0,\"ticks\":\"\"},\"colorscale\":[[0.0,\"#0d0887\"],[0.1111111111111111,\"#46039f\"],[0.2222222222222222,\"#7201a8\"],[0.3333333333333333,\"#9c179e\"],[0.4444444444444444,\"#bd3786\"],[0.5555555555555556,\"#d8576b\"],[0.6666666666666666,\"#ed7953\"],[0.7777777777777778,\"#fb9f3a\"],[0.8888888888888888,\"#fdca26\"],[1.0,\"#f0f921\"]]}],\"mesh3d\":[{\"type\":\"mesh3d\",\"colorbar\":{\"outlinewidth\":0,\"ticks\":\"\"}}],\"scatter\":[{\"fillpattern\":{\"fillmode\":\"overlay\",\"size\":10,\"solidity\":0.2},\"type\":\"scatter\"}],\"parcoords\":[{\"type\":\"parcoords\",\"line\":{\"colorbar\":{\"outlinewidth\":0,\"ticks\":\"\"}}}],\"scatterpolargl\":[{\"type\":\"scatterpolargl\",\"marker\":{\"colorbar\":{\"outlinewidth\":0,\"ticks\":\"\"}}}],\"bar\":[{\"error_x\":{\"color\":\"#2a3f5f\"},\"error_y\":{\"color\":\"#2a3f5f\"},\"marker\":{\"line\":{\"color\":\"#E5ECF6\",\"width\":0.5},\"pattern\":{\"fillmode\":\"overlay\",\"size\":10,\"solidity\":0.2}},\"type\":\"bar\"}],\"scattergeo\":[{\"type\":\"scattergeo\",\"marker\":{\"colorbar\":{\"outlinewidth\":0,\"ticks\":\"\"}}}],\"scatterpolar\":[{\"type\":\"scatterpolar\",\"marker\":{\"colorbar\":{\"outlinewidth\":0,\"ticks\":\"\"}}}],\"histogram\":[{\"marker\":{\"pattern\":{\"fillmode\":\"overlay\",\"size\":10,\"solidity\":0.2}},\"type\":\"histogram\"}],\"scattergl\":[{\"type\":\"scattergl\",\"marker\":{\"colorbar\":{\"outlinewidth\":0,\"ticks\":\"\"}}}],\"scatter3d\":[{\"type\":\"scatter3d\",\"line\":{\"colorbar\":{\"outlinewidth\":0,\"ticks\":\"\"}},\"marker\":{\"colorbar\":{\"outlinewidth\":0,\"ticks\":\"\"}}}],\"scattermapbox\":[{\"type\":\"scattermapbox\",\"marker\":{\"colorbar\":{\"outlinewidth\":0,\"ticks\":\"\"}}}],\"scatterternary\":[{\"type\":\"scatterternary\",\"marker\":{\"colorbar\":{\"outlinewidth\":0,\"ticks\":\"\"}}}],\"scattercarpet\":[{\"type\":\"scattercarpet\",\"marker\":{\"colorbar\":{\"outlinewidth\":0,\"ticks\":\"\"}}}],\"carpet\":[{\"aaxis\":{\"endlinecolor\":\"#2a3f5f\",\"gridcolor\":\"white\",\"linecolor\":\"white\",\"minorgridcolor\":\"white\",\"startlinecolor\":\"#2a3f5f\"},\"baxis\":{\"endlinecolor\":\"#2a3f5f\",\"gridcolor\":\"white\",\"linecolor\":\"white\",\"minorgridcolor\":\"white\",\"startlinecolor\":\"#2a3f5f\"},\"type\":\"carpet\"}],\"table\":[{\"cells\":{\"fill\":{\"color\":\"#EBF0F8\"},\"line\":{\"color\":\"white\"}},\"header\":{\"fill\":{\"color\":\"#C8D4E3\"},\"line\":{\"color\":\"white\"}},\"type\":\"table\"}],\"barpolar\":[{\"marker\":{\"line\":{\"color\":\"#E5ECF6\",\"width\":0.5},\"pattern\":{\"fillmode\":\"overlay\",\"size\":10,\"solidity\":0.2}},\"type\":\"barpolar\"}],\"pie\":[{\"automargin\":true,\"type\":\"pie\"}]},\"layout\":{\"autotypenumbers\":\"strict\",\"colorway\":[\"#636efa\",\"#EF553B\",\"#00cc96\",\"#ab63fa\",\"#FFA15A\",\"#19d3f3\",\"#FF6692\",\"#B6E880\",\"#FF97FF\",\"#FECB52\"],\"font\":{\"color\":\"#2a3f5f\"},\"hovermode\":\"closest\",\"hoverlabel\":{\"align\":\"left\"},\"paper_bgcolor\":\"white\",\"plot_bgcolor\":\"#E5ECF6\",\"polar\":{\"bgcolor\":\"#E5ECF6\",\"angularaxis\":{\"gridcolor\":\"white\",\"linecolor\":\"white\",\"ticks\":\"\"},\"radialaxis\":{\"gridcolor\":\"white\",\"linecolor\":\"white\",\"ticks\":\"\"}},\"ternary\":{\"bgcolor\":\"#E5ECF6\",\"aaxis\":{\"gridcolor\":\"white\",\"linecolor\":\"white\",\"ticks\":\"\"},\"baxis\":{\"gridcolor\":\"white\",\"linecolor\":\"white\",\"ticks\":\"\"},\"caxis\":{\"gridcolor\":\"white\",\"linecolor\":\"white\",\"ticks\":\"\"}},\"coloraxis\":{\"colorbar\":{\"outlinewidth\":0,\"ticks\":\"\"}},\"colorscale\":{\"sequential\":[[0.0,\"#0d0887\"],[0.1111111111111111,\"#46039f\"],[0.2222222222222222,\"#7201a8\"],[0.3333333333333333,\"#9c179e\"],[0.4444444444444444,\"#bd3786\"],[0.5555555555555556,\"#d8576b\"],[0.6666666666666666,\"#ed7953\"],[0.7777777777777778,\"#fb9f3a\"],[0.8888888888888888,\"#fdca26\"],[1.0,\"#f0f921\"]],\"sequentialminus\":[[0.0,\"#0d0887\"],[0.1111111111111111,\"#46039f\"],[0.2222222222222222,\"#7201a8\"],[0.3333333333333333,\"#9c179e\"],[0.4444444444444444,\"#bd3786\"],[0.5555555555555556,\"#d8576b\"],[0.6666666666666666,\"#ed7953\"],[0.7777777777777778,\"#fb9f3a\"],[0.8888888888888888,\"#fdca26\"],[1.0,\"#f0f921\"]],\"diverging\":[[0,\"#8e0152\"],[0.1,\"#c51b7d\"],[0.2,\"#de77ae\"],[0.3,\"#f1b6da\"],[0.4,\"#fde0ef\"],[0.5,\"#f7f7f7\"],[0.6,\"#e6f5d0\"],[0.7,\"#b8e186\"],[0.8,\"#7fbc41\"],[0.9,\"#4d9221\"],[1,\"#276419\"]]},\"xaxis\":{\"gridcolor\":\"white\",\"linecolor\":\"white\",\"ticks\":\"\",\"title\":{\"standoff\":15},\"zerolinecolor\":\"white\",\"automargin\":true,\"zerolinewidth\":2},\"yaxis\":{\"gridcolor\":\"white\",\"linecolor\":\"white\",\"ticks\":\"\",\"title\":{\"standoff\":15},\"zerolinecolor\":\"white\",\"automargin\":true,\"zerolinewidth\":2},\"scene\":{\"xaxis\":{\"backgroundcolor\":\"#E5ECF6\",\"gridcolor\":\"white\",\"linecolor\":\"white\",\"showbackground\":true,\"ticks\":\"\",\"zerolinecolor\":\"white\",\"gridwidth\":2},\"yaxis\":{\"backgroundcolor\":\"#E5ECF6\",\"gridcolor\":\"white\",\"linecolor\":\"white\",\"showbackground\":true,\"ticks\":\"\",\"zerolinecolor\":\"white\",\"gridwidth\":2},\"zaxis\":{\"backgroundcolor\":\"#E5ECF6\",\"gridcolor\":\"white\",\"linecolor\":\"white\",\"showbackground\":true,\"ticks\":\"\",\"zerolinecolor\":\"white\",\"gridwidth\":2}},\"shapedefaults\":{\"line\":{\"color\":\"#2a3f5f\"}},\"annotationdefaults\":{\"arrowcolor\":\"#2a3f5f\",\"arrowhead\":0,\"arrowwidth\":1},\"geo\":{\"bgcolor\":\"white\",\"landcolor\":\"#E5ECF6\",\"subunitcolor\":\"white\",\"showland\":true,\"showlakes\":true,\"lakecolor\":\"white\"},\"title\":{\"x\":0.05},\"mapbox\":{\"style\":\"light\"}}},\"xaxis\":{\"anchor\":\"y\",\"domain\":[0.0,1.0],\"title\":{\"text\":\"engine\"}},\"yaxis\":{\"anchor\":\"x\",\"domain\":[0.0,1.0],\"title\":{\"text\":\"time taken\"},\"type\":\"log\"},\"legend\":{\"title\":{\"text\":\"filesize per chunk\"},\"tracegroupgap\":0},\"margin\":{\"t\":60},\"boxmode\":\"group\"},                        {\"responsive\": true}                    ).then(function(){\n",
       "                            \n",
       "var gd = document.getElementById('7f3c3b44-eaf0-40b4-a7ac-e91b98326cb5');\n",
       "var x = new MutationObserver(function (mutations, observer) {{\n",
       "        var display = window.getComputedStyle(gd).display;\n",
       "        if (!display || display === 'none') {{\n",
       "            console.log([gd, 'removed!']);\n",
       "            Plotly.purge(gd);\n",
       "            observer.disconnect();\n",
       "        }}\n",
       "}});\n",
       "\n",
       "// Listen for the removal of the full notebook cells\n",
       "var notebookContainer = gd.closest('#notebook-container');\n",
       "if (notebookContainer) {{\n",
       "    x.observe(notebookContainer, {childList: true});\n",
       "}}\n",
       "\n",
       "// Listen for the clearing of the current output cell\n",
       "var outputEl = gd.closest('.output');\n",
       "if (outputEl) {{\n",
       "    x.observe(outputEl, {childList: true});\n",
       "}}\n",
       "\n",
       "                        })                };                });            </script>        </div>"
      ]
     },
     "metadata": {},
     "output_type": "display_data"
    },
    {
     "data": {
      "application/vnd.plotly.v1+json": {
       "config": {
        "plotlyServerURL": "https://plot.ly"
       },
       "data": [
        {
         "alignmentgroup": "True",
         "hovertemplate": "filesize per chunk=768.0 MB<br>engine=%{x}<br>time taken=%{y}<extra></extra>",
         "legendgroup": "768.0 MB",
         "marker": {
          "color": "#636efa"
         },
         "name": "768.0 MB",
         "notched": false,
         "offsetgroup": "768.0 MB",
         "orientation": "v",
         "showlegend": true,
         "type": "box",
         "x": [
          "hdf5",
          "hdf5",
          "hdf5",
          "hdf5",
          "hdf5",
          "hdf5",
          "hdf5",
          "hdf5",
          "hdf5",
          "hdf5"
         ],
         "x0": " ",
         "xaxis": "x",
         "y": [
          3.6333989950000003,
          1.487018424,
          1.4578746,
          1.449845683,
          1.45085663,
          1.4668470980000001,
          1.45771918,
          1.505242134,
          1.449804507,
          1.453581631
         ],
         "y0": " ",
         "yaxis": "y"
        },
        {
         "alignmentgroup": "True",
         "hovertemplate": "filesize per chunk=1536.0 MB<br>engine=%{x}<br>time taken=%{y}<extra></extra>",
         "legendgroup": "1536.0 MB",
         "marker": {
          "color": "#EF553B"
         },
         "name": "1536.0 MB",
         "notched": false,
         "offsetgroup": "1536.0 MB",
         "orientation": "v",
         "showlegend": true,
         "type": "box",
         "x": [
          "hdf5",
          "hdf5",
          "hdf5",
          "hdf5",
          "hdf5",
          "hdf5",
          "hdf5",
          "hdf5",
          "hdf5",
          "hdf5"
         ],
         "x0": " ",
         "xaxis": "x",
         "y": [
          3.120725102,
          0.985057551,
          0.9350957080000001,
          0.9270261150000001,
          0.886485327,
          0.9145776550000001,
          0.8758912310000001,
          0.87422285,
          0.87592463,
          0.8744445670000001
         ],
         "y0": " ",
         "yaxis": "y"
        },
        {
         "alignmentgroup": "True",
         "hovertemplate": "filesize per chunk=3072.0 MB<br>engine=%{x}<br>time taken=%{y}<extra></extra>",
         "legendgroup": "3072.0 MB",
         "marker": {
          "color": "#00cc96"
         },
         "name": "3072.0 MB",
         "notched": false,
         "offsetgroup": "3072.0 MB",
         "orientation": "v",
         "showlegend": true,
         "type": "box",
         "x": [
          "hdf5",
          "hdf5",
          "hdf5",
          "hdf5",
          "hdf5",
          "hdf5",
          "hdf5",
          "hdf5",
          "hdf5",
          "hdf5"
         ],
         "x0": " ",
         "xaxis": "x",
         "y": [
          0.8343976740000001,
          0.30380218800000003,
          0.265694445,
          0.30102369500000004,
          0.262829486,
          0.27002368,
          0.264752193,
          0.262354666,
          0.26100444300000003,
          0.262556783
         ],
         "y0": " ",
         "yaxis": "y"
        }
       ],
       "layout": {
        "boxmode": "group",
        "legend": {
         "title": {
          "text": "filesize per chunk"
         },
         "tracegroupgap": 0
        },
        "margin": {
         "t": 60
        },
        "template": {
         "data": {
          "bar": [
           {
            "error_x": {
             "color": "#2a3f5f"
            },
            "error_y": {
             "color": "#2a3f5f"
            },
            "marker": {
             "line": {
              "color": "#E5ECF6",
              "width": 0.5
             },
             "pattern": {
              "fillmode": "overlay",
              "size": 10,
              "solidity": 0.2
             }
            },
            "type": "bar"
           }
          ],
          "barpolar": [
           {
            "marker": {
             "line": {
              "color": "#E5ECF6",
              "width": 0.5
             },
             "pattern": {
              "fillmode": "overlay",
              "size": 10,
              "solidity": 0.2
             }
            },
            "type": "barpolar"
           }
          ],
          "carpet": [
           {
            "aaxis": {
             "endlinecolor": "#2a3f5f",
             "gridcolor": "white",
             "linecolor": "white",
             "minorgridcolor": "white",
             "startlinecolor": "#2a3f5f"
            },
            "baxis": {
             "endlinecolor": "#2a3f5f",
             "gridcolor": "white",
             "linecolor": "white",
             "minorgridcolor": "white",
             "startlinecolor": "#2a3f5f"
            },
            "type": "carpet"
           }
          ],
          "choropleth": [
           {
            "colorbar": {
             "outlinewidth": 0,
             "ticks": ""
            },
            "type": "choropleth"
           }
          ],
          "contour": [
           {
            "colorbar": {
             "outlinewidth": 0,
             "ticks": ""
            },
            "colorscale": [
             [
              0,
              "#0d0887"
             ],
             [
              0.1111111111111111,
              "#46039f"
             ],
             [
              0.2222222222222222,
              "#7201a8"
             ],
             [
              0.3333333333333333,
              "#9c179e"
             ],
             [
              0.4444444444444444,
              "#bd3786"
             ],
             [
              0.5555555555555556,
              "#d8576b"
             ],
             [
              0.6666666666666666,
              "#ed7953"
             ],
             [
              0.7777777777777778,
              "#fb9f3a"
             ],
             [
              0.8888888888888888,
              "#fdca26"
             ],
             [
              1,
              "#f0f921"
             ]
            ],
            "type": "contour"
           }
          ],
          "contourcarpet": [
           {
            "colorbar": {
             "outlinewidth": 0,
             "ticks": ""
            },
            "type": "contourcarpet"
           }
          ],
          "heatmap": [
           {
            "colorbar": {
             "outlinewidth": 0,
             "ticks": ""
            },
            "colorscale": [
             [
              0,
              "#0d0887"
             ],
             [
              0.1111111111111111,
              "#46039f"
             ],
             [
              0.2222222222222222,
              "#7201a8"
             ],
             [
              0.3333333333333333,
              "#9c179e"
             ],
             [
              0.4444444444444444,
              "#bd3786"
             ],
             [
              0.5555555555555556,
              "#d8576b"
             ],
             [
              0.6666666666666666,
              "#ed7953"
             ],
             [
              0.7777777777777778,
              "#fb9f3a"
             ],
             [
              0.8888888888888888,
              "#fdca26"
             ],
             [
              1,
              "#f0f921"
             ]
            ],
            "type": "heatmap"
           }
          ],
          "heatmapgl": [
           {
            "colorbar": {
             "outlinewidth": 0,
             "ticks": ""
            },
            "colorscale": [
             [
              0,
              "#0d0887"
             ],
             [
              0.1111111111111111,
              "#46039f"
             ],
             [
              0.2222222222222222,
              "#7201a8"
             ],
             [
              0.3333333333333333,
              "#9c179e"
             ],
             [
              0.4444444444444444,
              "#bd3786"
             ],
             [
              0.5555555555555556,
              "#d8576b"
             ],
             [
              0.6666666666666666,
              "#ed7953"
             ],
             [
              0.7777777777777778,
              "#fb9f3a"
             ],
             [
              0.8888888888888888,
              "#fdca26"
             ],
             [
              1,
              "#f0f921"
             ]
            ],
            "type": "heatmapgl"
           }
          ],
          "histogram": [
           {
            "marker": {
             "pattern": {
              "fillmode": "overlay",
              "size": 10,
              "solidity": 0.2
             }
            },
            "type": "histogram"
           }
          ],
          "histogram2d": [
           {
            "colorbar": {
             "outlinewidth": 0,
             "ticks": ""
            },
            "colorscale": [
             [
              0,
              "#0d0887"
             ],
             [
              0.1111111111111111,
              "#46039f"
             ],
             [
              0.2222222222222222,
              "#7201a8"
             ],
             [
              0.3333333333333333,
              "#9c179e"
             ],
             [
              0.4444444444444444,
              "#bd3786"
             ],
             [
              0.5555555555555556,
              "#d8576b"
             ],
             [
              0.6666666666666666,
              "#ed7953"
             ],
             [
              0.7777777777777778,
              "#fb9f3a"
             ],
             [
              0.8888888888888888,
              "#fdca26"
             ],
             [
              1,
              "#f0f921"
             ]
            ],
            "type": "histogram2d"
           }
          ],
          "histogram2dcontour": [
           {
            "colorbar": {
             "outlinewidth": 0,
             "ticks": ""
            },
            "colorscale": [
             [
              0,
              "#0d0887"
             ],
             [
              0.1111111111111111,
              "#46039f"
             ],
             [
              0.2222222222222222,
              "#7201a8"
             ],
             [
              0.3333333333333333,
              "#9c179e"
             ],
             [
              0.4444444444444444,
              "#bd3786"
             ],
             [
              0.5555555555555556,
              "#d8576b"
             ],
             [
              0.6666666666666666,
              "#ed7953"
             ],
             [
              0.7777777777777778,
              "#fb9f3a"
             ],
             [
              0.8888888888888888,
              "#fdca26"
             ],
             [
              1,
              "#f0f921"
             ]
            ],
            "type": "histogram2dcontour"
           }
          ],
          "mesh3d": [
           {
            "colorbar": {
             "outlinewidth": 0,
             "ticks": ""
            },
            "type": "mesh3d"
           }
          ],
          "parcoords": [
           {
            "line": {
             "colorbar": {
              "outlinewidth": 0,
              "ticks": ""
             }
            },
            "type": "parcoords"
           }
          ],
          "pie": [
           {
            "automargin": true,
            "type": "pie"
           }
          ],
          "scatter": [
           {
            "fillpattern": {
             "fillmode": "overlay",
             "size": 10,
             "solidity": 0.2
            },
            "type": "scatter"
           }
          ],
          "scatter3d": [
           {
            "line": {
             "colorbar": {
              "outlinewidth": 0,
              "ticks": ""
             }
            },
            "marker": {
             "colorbar": {
              "outlinewidth": 0,
              "ticks": ""
             }
            },
            "type": "scatter3d"
           }
          ],
          "scattercarpet": [
           {
            "marker": {
             "colorbar": {
              "outlinewidth": 0,
              "ticks": ""
             }
            },
            "type": "scattercarpet"
           }
          ],
          "scattergeo": [
           {
            "marker": {
             "colorbar": {
              "outlinewidth": 0,
              "ticks": ""
             }
            },
            "type": "scattergeo"
           }
          ],
          "scattergl": [
           {
            "marker": {
             "colorbar": {
              "outlinewidth": 0,
              "ticks": ""
             }
            },
            "type": "scattergl"
           }
          ],
          "scattermapbox": [
           {
            "marker": {
             "colorbar": {
              "outlinewidth": 0,
              "ticks": ""
             }
            },
            "type": "scattermapbox"
           }
          ],
          "scatterpolar": [
           {
            "marker": {
             "colorbar": {
              "outlinewidth": 0,
              "ticks": ""
             }
            },
            "type": "scatterpolar"
           }
          ],
          "scatterpolargl": [
           {
            "marker": {
             "colorbar": {
              "outlinewidth": 0,
              "ticks": ""
             }
            },
            "type": "scatterpolargl"
           }
          ],
          "scatterternary": [
           {
            "marker": {
             "colorbar": {
              "outlinewidth": 0,
              "ticks": ""
             }
            },
            "type": "scatterternary"
           }
          ],
          "surface": [
           {
            "colorbar": {
             "outlinewidth": 0,
             "ticks": ""
            },
            "colorscale": [
             [
              0,
              "#0d0887"
             ],
             [
              0.1111111111111111,
              "#46039f"
             ],
             [
              0.2222222222222222,
              "#7201a8"
             ],
             [
              0.3333333333333333,
              "#9c179e"
             ],
             [
              0.4444444444444444,
              "#bd3786"
             ],
             [
              0.5555555555555556,
              "#d8576b"
             ],
             [
              0.6666666666666666,
              "#ed7953"
             ],
             [
              0.7777777777777778,
              "#fb9f3a"
             ],
             [
              0.8888888888888888,
              "#fdca26"
             ],
             [
              1,
              "#f0f921"
             ]
            ],
            "type": "surface"
           }
          ],
          "table": [
           {
            "cells": {
             "fill": {
              "color": "#EBF0F8"
             },
             "line": {
              "color": "white"
             }
            },
            "header": {
             "fill": {
              "color": "#C8D4E3"
             },
             "line": {
              "color": "white"
             }
            },
            "type": "table"
           }
          ]
         },
         "layout": {
          "annotationdefaults": {
           "arrowcolor": "#2a3f5f",
           "arrowhead": 0,
           "arrowwidth": 1
          },
          "autotypenumbers": "strict",
          "coloraxis": {
           "colorbar": {
            "outlinewidth": 0,
            "ticks": ""
           }
          },
          "colorscale": {
           "diverging": [
            [
             0,
             "#8e0152"
            ],
            [
             0.1,
             "#c51b7d"
            ],
            [
             0.2,
             "#de77ae"
            ],
            [
             0.3,
             "#f1b6da"
            ],
            [
             0.4,
             "#fde0ef"
            ],
            [
             0.5,
             "#f7f7f7"
            ],
            [
             0.6,
             "#e6f5d0"
            ],
            [
             0.7,
             "#b8e186"
            ],
            [
             0.8,
             "#7fbc41"
            ],
            [
             0.9,
             "#4d9221"
            ],
            [
             1,
             "#276419"
            ]
           ],
           "sequential": [
            [
             0,
             "#0d0887"
            ],
            [
             0.1111111111111111,
             "#46039f"
            ],
            [
             0.2222222222222222,
             "#7201a8"
            ],
            [
             0.3333333333333333,
             "#9c179e"
            ],
            [
             0.4444444444444444,
             "#bd3786"
            ],
            [
             0.5555555555555556,
             "#d8576b"
            ],
            [
             0.6666666666666666,
             "#ed7953"
            ],
            [
             0.7777777777777778,
             "#fb9f3a"
            ],
            [
             0.8888888888888888,
             "#fdca26"
            ],
            [
             1,
             "#f0f921"
            ]
           ],
           "sequentialminus": [
            [
             0,
             "#0d0887"
            ],
            [
             0.1111111111111111,
             "#46039f"
            ],
            [
             0.2222222222222222,
             "#7201a8"
            ],
            [
             0.3333333333333333,
             "#9c179e"
            ],
            [
             0.4444444444444444,
             "#bd3786"
            ],
            [
             0.5555555555555556,
             "#d8576b"
            ],
            [
             0.6666666666666666,
             "#ed7953"
            ],
            [
             0.7777777777777778,
             "#fb9f3a"
            ],
            [
             0.8888888888888888,
             "#fdca26"
            ],
            [
             1,
             "#f0f921"
            ]
           ]
          },
          "colorway": [
           "#636efa",
           "#EF553B",
           "#00cc96",
           "#ab63fa",
           "#FFA15A",
           "#19d3f3",
           "#FF6692",
           "#B6E880",
           "#FF97FF",
           "#FECB52"
          ],
          "font": {
           "color": "#2a3f5f"
          },
          "geo": {
           "bgcolor": "white",
           "lakecolor": "white",
           "landcolor": "#E5ECF6",
           "showlakes": true,
           "showland": true,
           "subunitcolor": "white"
          },
          "hoverlabel": {
           "align": "left"
          },
          "hovermode": "closest",
          "mapbox": {
           "style": "light"
          },
          "paper_bgcolor": "white",
          "plot_bgcolor": "#E5ECF6",
          "polar": {
           "angularaxis": {
            "gridcolor": "white",
            "linecolor": "white",
            "ticks": ""
           },
           "bgcolor": "#E5ECF6",
           "radialaxis": {
            "gridcolor": "white",
            "linecolor": "white",
            "ticks": ""
           }
          },
          "scene": {
           "xaxis": {
            "backgroundcolor": "#E5ECF6",
            "gridcolor": "white",
            "gridwidth": 2,
            "linecolor": "white",
            "showbackground": true,
            "ticks": "",
            "zerolinecolor": "white"
           },
           "yaxis": {
            "backgroundcolor": "#E5ECF6",
            "gridcolor": "white",
            "gridwidth": 2,
            "linecolor": "white",
            "showbackground": true,
            "ticks": "",
            "zerolinecolor": "white"
           },
           "zaxis": {
            "backgroundcolor": "#E5ECF6",
            "gridcolor": "white",
            "gridwidth": 2,
            "linecolor": "white",
            "showbackground": true,
            "ticks": "",
            "zerolinecolor": "white"
           }
          },
          "shapedefaults": {
           "line": {
            "color": "#2a3f5f"
           }
          },
          "ternary": {
           "aaxis": {
            "gridcolor": "white",
            "linecolor": "white",
            "ticks": ""
           },
           "baxis": {
            "gridcolor": "white",
            "linecolor": "white",
            "ticks": ""
           },
           "bgcolor": "#E5ECF6",
           "caxis": {
            "gridcolor": "white",
            "linecolor": "white",
            "ticks": ""
           }
          },
          "title": {
           "x": 0.05
          },
          "xaxis": {
           "automargin": true,
           "gridcolor": "white",
           "linecolor": "white",
           "ticks": "",
           "title": {
            "standoff": 15
           },
           "zerolinecolor": "white",
           "zerolinewidth": 2
          },
          "yaxis": {
           "automargin": true,
           "gridcolor": "white",
           "linecolor": "white",
           "ticks": "",
           "title": {
            "standoff": 15
           },
           "zerolinecolor": "white",
           "zerolinewidth": 2
          }
         }
        },
        "xaxis": {
         "anchor": "y",
         "domain": [
          0,
          1
         ],
         "title": {
          "text": "engine"
         }
        },
        "yaxis": {
         "anchor": "x",
         "domain": [
          0,
          1
         ],
         "title": {
          "text": "time taken"
         },
         "type": "log"
        }
       }
      },
      "text/html": [
       "<div>                            <div id=\"88d36d46-66ca-4971-95ae-e4dae6622ed4\" class=\"plotly-graph-div\" style=\"height:525px; width:100%;\"></div>            <script type=\"text/javascript\">                require([\"plotly\"], function(Plotly) {                    window.PLOTLYENV=window.PLOTLYENV || {};                                    if (document.getElementById(\"88d36d46-66ca-4971-95ae-e4dae6622ed4\")) {                    Plotly.newPlot(                        \"88d36d46-66ca-4971-95ae-e4dae6622ed4\",                        [{\"alignmentgroup\":\"True\",\"hovertemplate\":\"filesize per chunk=768.0 MB\\u003cbr\\u003eengine=%{x}\\u003cbr\\u003etime taken=%{y}\\u003cextra\\u003e\\u003c\\u002fextra\\u003e\",\"legendgroup\":\"768.0 MB\",\"marker\":{\"color\":\"#636efa\"},\"name\":\"768.0 MB\",\"notched\":false,\"offsetgroup\":\"768.0 MB\",\"orientation\":\"v\",\"showlegend\":true,\"x\":[\"hdf5\",\"hdf5\",\"hdf5\",\"hdf5\",\"hdf5\",\"hdf5\",\"hdf5\",\"hdf5\",\"hdf5\",\"hdf5\"],\"x0\":\" \",\"xaxis\":\"x\",\"y\":[3.6333989950000003,1.487018424,1.4578746,1.449845683,1.45085663,1.4668470980000001,1.45771918,1.505242134,1.449804507,1.453581631],\"y0\":\" \",\"yaxis\":\"y\",\"type\":\"box\"},{\"alignmentgroup\":\"True\",\"hovertemplate\":\"filesize per chunk=1536.0 MB\\u003cbr\\u003eengine=%{x}\\u003cbr\\u003etime taken=%{y}\\u003cextra\\u003e\\u003c\\u002fextra\\u003e\",\"legendgroup\":\"1536.0 MB\",\"marker\":{\"color\":\"#EF553B\"},\"name\":\"1536.0 MB\",\"notched\":false,\"offsetgroup\":\"1536.0 MB\",\"orientation\":\"v\",\"showlegend\":true,\"x\":[\"hdf5\",\"hdf5\",\"hdf5\",\"hdf5\",\"hdf5\",\"hdf5\",\"hdf5\",\"hdf5\",\"hdf5\",\"hdf5\"],\"x0\":\" \",\"xaxis\":\"x\",\"y\":[3.120725102,0.985057551,0.9350957080000001,0.9270261150000001,0.886485327,0.9145776550000001,0.8758912310000001,0.87422285,0.87592463,0.8744445670000001],\"y0\":\" \",\"yaxis\":\"y\",\"type\":\"box\"},{\"alignmentgroup\":\"True\",\"hovertemplate\":\"filesize per chunk=3072.0 MB\\u003cbr\\u003eengine=%{x}\\u003cbr\\u003etime taken=%{y}\\u003cextra\\u003e\\u003c\\u002fextra\\u003e\",\"legendgroup\":\"3072.0 MB\",\"marker\":{\"color\":\"#00cc96\"},\"name\":\"3072.0 MB\",\"notched\":false,\"offsetgroup\":\"3072.0 MB\",\"orientation\":\"v\",\"showlegend\":true,\"x\":[\"hdf5\",\"hdf5\",\"hdf5\",\"hdf5\",\"hdf5\",\"hdf5\",\"hdf5\",\"hdf5\",\"hdf5\",\"hdf5\"],\"x0\":\" \",\"xaxis\":\"x\",\"y\":[0.8343976740000001,0.30380218800000003,0.265694445,0.30102369500000004,0.262829486,0.27002368,0.264752193,0.262354666,0.26100444300000003,0.262556783],\"y0\":\" \",\"yaxis\":\"y\",\"type\":\"box\"}],                        {\"template\":{\"data\":{\"histogram2dcontour\":[{\"type\":\"histogram2dcontour\",\"colorbar\":{\"outlinewidth\":0,\"ticks\":\"\"},\"colorscale\":[[0.0,\"#0d0887\"],[0.1111111111111111,\"#46039f\"],[0.2222222222222222,\"#7201a8\"],[0.3333333333333333,\"#9c179e\"],[0.4444444444444444,\"#bd3786\"],[0.5555555555555556,\"#d8576b\"],[0.6666666666666666,\"#ed7953\"],[0.7777777777777778,\"#fb9f3a\"],[0.8888888888888888,\"#fdca26\"],[1.0,\"#f0f921\"]]}],\"choropleth\":[{\"type\":\"choropleth\",\"colorbar\":{\"outlinewidth\":0,\"ticks\":\"\"}}],\"histogram2d\":[{\"type\":\"histogram2d\",\"colorbar\":{\"outlinewidth\":0,\"ticks\":\"\"},\"colorscale\":[[0.0,\"#0d0887\"],[0.1111111111111111,\"#46039f\"],[0.2222222222222222,\"#7201a8\"],[0.3333333333333333,\"#9c179e\"],[0.4444444444444444,\"#bd3786\"],[0.5555555555555556,\"#d8576b\"],[0.6666666666666666,\"#ed7953\"],[0.7777777777777778,\"#fb9f3a\"],[0.8888888888888888,\"#fdca26\"],[1.0,\"#f0f921\"]]}],\"heatmap\":[{\"type\":\"heatmap\",\"colorbar\":{\"outlinewidth\":0,\"ticks\":\"\"},\"colorscale\":[[0.0,\"#0d0887\"],[0.1111111111111111,\"#46039f\"],[0.2222222222222222,\"#7201a8\"],[0.3333333333333333,\"#9c179e\"],[0.4444444444444444,\"#bd3786\"],[0.5555555555555556,\"#d8576b\"],[0.6666666666666666,\"#ed7953\"],[0.7777777777777778,\"#fb9f3a\"],[0.8888888888888888,\"#fdca26\"],[1.0,\"#f0f921\"]]}],\"heatmapgl\":[{\"type\":\"heatmapgl\",\"colorbar\":{\"outlinewidth\":0,\"ticks\":\"\"},\"colorscale\":[[0.0,\"#0d0887\"],[0.1111111111111111,\"#46039f\"],[0.2222222222222222,\"#7201a8\"],[0.3333333333333333,\"#9c179e\"],[0.4444444444444444,\"#bd3786\"],[0.5555555555555556,\"#d8576b\"],[0.6666666666666666,\"#ed7953\"],[0.7777777777777778,\"#fb9f3a\"],[0.8888888888888888,\"#fdca26\"],[1.0,\"#f0f921\"]]}],\"contourcarpet\":[{\"type\":\"contourcarpet\",\"colorbar\":{\"outlinewidth\":0,\"ticks\":\"\"}}],\"contour\":[{\"type\":\"contour\",\"colorbar\":{\"outlinewidth\":0,\"ticks\":\"\"},\"colorscale\":[[0.0,\"#0d0887\"],[0.1111111111111111,\"#46039f\"],[0.2222222222222222,\"#7201a8\"],[0.3333333333333333,\"#9c179e\"],[0.4444444444444444,\"#bd3786\"],[0.5555555555555556,\"#d8576b\"],[0.6666666666666666,\"#ed7953\"],[0.7777777777777778,\"#fb9f3a\"],[0.8888888888888888,\"#fdca26\"],[1.0,\"#f0f921\"]]}],\"surface\":[{\"type\":\"surface\",\"colorbar\":{\"outlinewidth\":0,\"ticks\":\"\"},\"colorscale\":[[0.0,\"#0d0887\"],[0.1111111111111111,\"#46039f\"],[0.2222222222222222,\"#7201a8\"],[0.3333333333333333,\"#9c179e\"],[0.4444444444444444,\"#bd3786\"],[0.5555555555555556,\"#d8576b\"],[0.6666666666666666,\"#ed7953\"],[0.7777777777777778,\"#fb9f3a\"],[0.8888888888888888,\"#fdca26\"],[1.0,\"#f0f921\"]]}],\"mesh3d\":[{\"type\":\"mesh3d\",\"colorbar\":{\"outlinewidth\":0,\"ticks\":\"\"}}],\"scatter\":[{\"fillpattern\":{\"fillmode\":\"overlay\",\"size\":10,\"solidity\":0.2},\"type\":\"scatter\"}],\"parcoords\":[{\"type\":\"parcoords\",\"line\":{\"colorbar\":{\"outlinewidth\":0,\"ticks\":\"\"}}}],\"scatterpolargl\":[{\"type\":\"scatterpolargl\",\"marker\":{\"colorbar\":{\"outlinewidth\":0,\"ticks\":\"\"}}}],\"bar\":[{\"error_x\":{\"color\":\"#2a3f5f\"},\"error_y\":{\"color\":\"#2a3f5f\"},\"marker\":{\"line\":{\"color\":\"#E5ECF6\",\"width\":0.5},\"pattern\":{\"fillmode\":\"overlay\",\"size\":10,\"solidity\":0.2}},\"type\":\"bar\"}],\"scattergeo\":[{\"type\":\"scattergeo\",\"marker\":{\"colorbar\":{\"outlinewidth\":0,\"ticks\":\"\"}}}],\"scatterpolar\":[{\"type\":\"scatterpolar\",\"marker\":{\"colorbar\":{\"outlinewidth\":0,\"ticks\":\"\"}}}],\"histogram\":[{\"marker\":{\"pattern\":{\"fillmode\":\"overlay\",\"size\":10,\"solidity\":0.2}},\"type\":\"histogram\"}],\"scattergl\":[{\"type\":\"scattergl\",\"marker\":{\"colorbar\":{\"outlinewidth\":0,\"ticks\":\"\"}}}],\"scatter3d\":[{\"type\":\"scatter3d\",\"line\":{\"colorbar\":{\"outlinewidth\":0,\"ticks\":\"\"}},\"marker\":{\"colorbar\":{\"outlinewidth\":0,\"ticks\":\"\"}}}],\"scattermapbox\":[{\"type\":\"scattermapbox\",\"marker\":{\"colorbar\":{\"outlinewidth\":0,\"ticks\":\"\"}}}],\"scatterternary\":[{\"type\":\"scatterternary\",\"marker\":{\"colorbar\":{\"outlinewidth\":0,\"ticks\":\"\"}}}],\"scattercarpet\":[{\"type\":\"scattercarpet\",\"marker\":{\"colorbar\":{\"outlinewidth\":0,\"ticks\":\"\"}}}],\"carpet\":[{\"aaxis\":{\"endlinecolor\":\"#2a3f5f\",\"gridcolor\":\"white\",\"linecolor\":\"white\",\"minorgridcolor\":\"white\",\"startlinecolor\":\"#2a3f5f\"},\"baxis\":{\"endlinecolor\":\"#2a3f5f\",\"gridcolor\":\"white\",\"linecolor\":\"white\",\"minorgridcolor\":\"white\",\"startlinecolor\":\"#2a3f5f\"},\"type\":\"carpet\"}],\"table\":[{\"cells\":{\"fill\":{\"color\":\"#EBF0F8\"},\"line\":{\"color\":\"white\"}},\"header\":{\"fill\":{\"color\":\"#C8D4E3\"},\"line\":{\"color\":\"white\"}},\"type\":\"table\"}],\"barpolar\":[{\"marker\":{\"line\":{\"color\":\"#E5ECF6\",\"width\":0.5},\"pattern\":{\"fillmode\":\"overlay\",\"size\":10,\"solidity\":0.2}},\"type\":\"barpolar\"}],\"pie\":[{\"automargin\":true,\"type\":\"pie\"}]},\"layout\":{\"autotypenumbers\":\"strict\",\"colorway\":[\"#636efa\",\"#EF553B\",\"#00cc96\",\"#ab63fa\",\"#FFA15A\",\"#19d3f3\",\"#FF6692\",\"#B6E880\",\"#FF97FF\",\"#FECB52\"],\"font\":{\"color\":\"#2a3f5f\"},\"hovermode\":\"closest\",\"hoverlabel\":{\"align\":\"left\"},\"paper_bgcolor\":\"white\",\"plot_bgcolor\":\"#E5ECF6\",\"polar\":{\"bgcolor\":\"#E5ECF6\",\"angularaxis\":{\"gridcolor\":\"white\",\"linecolor\":\"white\",\"ticks\":\"\"},\"radialaxis\":{\"gridcolor\":\"white\",\"linecolor\":\"white\",\"ticks\":\"\"}},\"ternary\":{\"bgcolor\":\"#E5ECF6\",\"aaxis\":{\"gridcolor\":\"white\",\"linecolor\":\"white\",\"ticks\":\"\"},\"baxis\":{\"gridcolor\":\"white\",\"linecolor\":\"white\",\"ticks\":\"\"},\"caxis\":{\"gridcolor\":\"white\",\"linecolor\":\"white\",\"ticks\":\"\"}},\"coloraxis\":{\"colorbar\":{\"outlinewidth\":0,\"ticks\":\"\"}},\"colorscale\":{\"sequential\":[[0.0,\"#0d0887\"],[0.1111111111111111,\"#46039f\"],[0.2222222222222222,\"#7201a8\"],[0.3333333333333333,\"#9c179e\"],[0.4444444444444444,\"#bd3786\"],[0.5555555555555556,\"#d8576b\"],[0.6666666666666666,\"#ed7953\"],[0.7777777777777778,\"#fb9f3a\"],[0.8888888888888888,\"#fdca26\"],[1.0,\"#f0f921\"]],\"sequentialminus\":[[0.0,\"#0d0887\"],[0.1111111111111111,\"#46039f\"],[0.2222222222222222,\"#7201a8\"],[0.3333333333333333,\"#9c179e\"],[0.4444444444444444,\"#bd3786\"],[0.5555555555555556,\"#d8576b\"],[0.6666666666666666,\"#ed7953\"],[0.7777777777777778,\"#fb9f3a\"],[0.8888888888888888,\"#fdca26\"],[1.0,\"#f0f921\"]],\"diverging\":[[0,\"#8e0152\"],[0.1,\"#c51b7d\"],[0.2,\"#de77ae\"],[0.3,\"#f1b6da\"],[0.4,\"#fde0ef\"],[0.5,\"#f7f7f7\"],[0.6,\"#e6f5d0\"],[0.7,\"#b8e186\"],[0.8,\"#7fbc41\"],[0.9,\"#4d9221\"],[1,\"#276419\"]]},\"xaxis\":{\"gridcolor\":\"white\",\"linecolor\":\"white\",\"ticks\":\"\",\"title\":{\"standoff\":15},\"zerolinecolor\":\"white\",\"automargin\":true,\"zerolinewidth\":2},\"yaxis\":{\"gridcolor\":\"white\",\"linecolor\":\"white\",\"ticks\":\"\",\"title\":{\"standoff\":15},\"zerolinecolor\":\"white\",\"automargin\":true,\"zerolinewidth\":2},\"scene\":{\"xaxis\":{\"backgroundcolor\":\"#E5ECF6\",\"gridcolor\":\"white\",\"linecolor\":\"white\",\"showbackground\":true,\"ticks\":\"\",\"zerolinecolor\":\"white\",\"gridwidth\":2},\"yaxis\":{\"backgroundcolor\":\"#E5ECF6\",\"gridcolor\":\"white\",\"linecolor\":\"white\",\"showbackground\":true,\"ticks\":\"\",\"zerolinecolor\":\"white\",\"gridwidth\":2},\"zaxis\":{\"backgroundcolor\":\"#E5ECF6\",\"gridcolor\":\"white\",\"linecolor\":\"white\",\"showbackground\":true,\"ticks\":\"\",\"zerolinecolor\":\"white\",\"gridwidth\":2}},\"shapedefaults\":{\"line\":{\"color\":\"#2a3f5f\"}},\"annotationdefaults\":{\"arrowcolor\":\"#2a3f5f\",\"arrowhead\":0,\"arrowwidth\":1},\"geo\":{\"bgcolor\":\"white\",\"landcolor\":\"#E5ECF6\",\"subunitcolor\":\"white\",\"showland\":true,\"showlakes\":true,\"lakecolor\":\"white\"},\"title\":{\"x\":0.05},\"mapbox\":{\"style\":\"light\"}}},\"xaxis\":{\"anchor\":\"y\",\"domain\":[0.0,1.0],\"title\":{\"text\":\"engine\"}},\"yaxis\":{\"anchor\":\"x\",\"domain\":[0.0,1.0],\"title\":{\"text\":\"time taken\"},\"type\":\"log\"},\"legend\":{\"title\":{\"text\":\"filesize per chunk\"},\"tracegroupgap\":0},\"margin\":{\"t\":60},\"boxmode\":\"group\"},                        {\"responsive\": true}                    ).then(function(){\n",
       "                            \n",
       "var gd = document.getElementById('88d36d46-66ca-4971-95ae-e4dae6622ed4');\n",
       "var x = new MutationObserver(function (mutations, observer) {{\n",
       "        var display = window.getComputedStyle(gd).display;\n",
       "        if (!display || display === 'none') {{\n",
       "            console.log([gd, 'removed!']);\n",
       "            Plotly.purge(gd);\n",
       "            observer.disconnect();\n",
       "        }}\n",
       "}});\n",
       "\n",
       "// Listen for the removal of the full notebook cells\n",
       "var notebookContainer = gd.closest('#notebook-container');\n",
       "if (notebookContainer) {{\n",
       "    x.observe(notebookContainer, {childList: true});\n",
       "}}\n",
       "\n",
       "// Listen for the clearing of the current output cell\n",
       "var outputEl = gd.closest('.output');\n",
       "if (outputEl) {{\n",
       "    x.observe(outputEl, {childList: true});\n",
       "}}\n",
       "\n",
       "                        })                };                });            </script>        </div>"
      ]
     },
     "metadata": {},
     "output_type": "display_data"
    },
    {
     "data": {
      "application/vnd.plotly.v1+json": {
       "config": {
        "plotlyServerURL": "https://plot.ly"
       },
       "data": [
        {
         "alignmentgroup": "True",
         "hovertemplate": "filesize per chunk=3072.0 MB<br>engine=%{x}<br>time taken=%{y}<extra></extra>",
         "legendgroup": "3072.0 MB",
         "marker": {
          "color": "#636efa"
         },
         "name": "3072.0 MB",
         "notched": false,
         "offsetgroup": "3072.0 MB",
         "orientation": "v",
         "showlegend": true,
         "type": "box",
         "x": [
          "hdf5-c",
          "hdf5-c",
          "hdf5-c",
          "hdf5-c",
          "hdf5-c",
          "hdf5-c",
          "hdf5-c",
          "hdf5-c",
          "hdf5-c",
          "hdf5-c"
         ],
         "x0": " ",
         "xaxis": "x",
         "y": [
          0.40457299999999996,
          0.47253199999999995,
          0.40116799999999997,
          0.401652,
          0.417379,
          0.375791,
          0.375793,
          0.38658499999999996,
          0.387801,
          0.385051
         ],
         "y0": " ",
         "yaxis": "y"
        }
       ],
       "layout": {
        "boxmode": "group",
        "legend": {
         "title": {
          "text": "filesize per chunk"
         },
         "tracegroupgap": 0
        },
        "margin": {
         "t": 60
        },
        "template": {
         "data": {
          "bar": [
           {
            "error_x": {
             "color": "#2a3f5f"
            },
            "error_y": {
             "color": "#2a3f5f"
            },
            "marker": {
             "line": {
              "color": "#E5ECF6",
              "width": 0.5
             },
             "pattern": {
              "fillmode": "overlay",
              "size": 10,
              "solidity": 0.2
             }
            },
            "type": "bar"
           }
          ],
          "barpolar": [
           {
            "marker": {
             "line": {
              "color": "#E5ECF6",
              "width": 0.5
             },
             "pattern": {
              "fillmode": "overlay",
              "size": 10,
              "solidity": 0.2
             }
            },
            "type": "barpolar"
           }
          ],
          "carpet": [
           {
            "aaxis": {
             "endlinecolor": "#2a3f5f",
             "gridcolor": "white",
             "linecolor": "white",
             "minorgridcolor": "white",
             "startlinecolor": "#2a3f5f"
            },
            "baxis": {
             "endlinecolor": "#2a3f5f",
             "gridcolor": "white",
             "linecolor": "white",
             "minorgridcolor": "white",
             "startlinecolor": "#2a3f5f"
            },
            "type": "carpet"
           }
          ],
          "choropleth": [
           {
            "colorbar": {
             "outlinewidth": 0,
             "ticks": ""
            },
            "type": "choropleth"
           }
          ],
          "contour": [
           {
            "colorbar": {
             "outlinewidth": 0,
             "ticks": ""
            },
            "colorscale": [
             [
              0,
              "#0d0887"
             ],
             [
              0.1111111111111111,
              "#46039f"
             ],
             [
              0.2222222222222222,
              "#7201a8"
             ],
             [
              0.3333333333333333,
              "#9c179e"
             ],
             [
              0.4444444444444444,
              "#bd3786"
             ],
             [
              0.5555555555555556,
              "#d8576b"
             ],
             [
              0.6666666666666666,
              "#ed7953"
             ],
             [
              0.7777777777777778,
              "#fb9f3a"
             ],
             [
              0.8888888888888888,
              "#fdca26"
             ],
             [
              1,
              "#f0f921"
             ]
            ],
            "type": "contour"
           }
          ],
          "contourcarpet": [
           {
            "colorbar": {
             "outlinewidth": 0,
             "ticks": ""
            },
            "type": "contourcarpet"
           }
          ],
          "heatmap": [
           {
            "colorbar": {
             "outlinewidth": 0,
             "ticks": ""
            },
            "colorscale": [
             [
              0,
              "#0d0887"
             ],
             [
              0.1111111111111111,
              "#46039f"
             ],
             [
              0.2222222222222222,
              "#7201a8"
             ],
             [
              0.3333333333333333,
              "#9c179e"
             ],
             [
              0.4444444444444444,
              "#bd3786"
             ],
             [
              0.5555555555555556,
              "#d8576b"
             ],
             [
              0.6666666666666666,
              "#ed7953"
             ],
             [
              0.7777777777777778,
              "#fb9f3a"
             ],
             [
              0.8888888888888888,
              "#fdca26"
             ],
             [
              1,
              "#f0f921"
             ]
            ],
            "type": "heatmap"
           }
          ],
          "heatmapgl": [
           {
            "colorbar": {
             "outlinewidth": 0,
             "ticks": ""
            },
            "colorscale": [
             [
              0,
              "#0d0887"
             ],
             [
              0.1111111111111111,
              "#46039f"
             ],
             [
              0.2222222222222222,
              "#7201a8"
             ],
             [
              0.3333333333333333,
              "#9c179e"
             ],
             [
              0.4444444444444444,
              "#bd3786"
             ],
             [
              0.5555555555555556,
              "#d8576b"
             ],
             [
              0.6666666666666666,
              "#ed7953"
             ],
             [
              0.7777777777777778,
              "#fb9f3a"
             ],
             [
              0.8888888888888888,
              "#fdca26"
             ],
             [
              1,
              "#f0f921"
             ]
            ],
            "type": "heatmapgl"
           }
          ],
          "histogram": [
           {
            "marker": {
             "pattern": {
              "fillmode": "overlay",
              "size": 10,
              "solidity": 0.2
             }
            },
            "type": "histogram"
           }
          ],
          "histogram2d": [
           {
            "colorbar": {
             "outlinewidth": 0,
             "ticks": ""
            },
            "colorscale": [
             [
              0,
              "#0d0887"
             ],
             [
              0.1111111111111111,
              "#46039f"
             ],
             [
              0.2222222222222222,
              "#7201a8"
             ],
             [
              0.3333333333333333,
              "#9c179e"
             ],
             [
              0.4444444444444444,
              "#bd3786"
             ],
             [
              0.5555555555555556,
              "#d8576b"
             ],
             [
              0.6666666666666666,
              "#ed7953"
             ],
             [
              0.7777777777777778,
              "#fb9f3a"
             ],
             [
              0.8888888888888888,
              "#fdca26"
             ],
             [
              1,
              "#f0f921"
             ]
            ],
            "type": "histogram2d"
           }
          ],
          "histogram2dcontour": [
           {
            "colorbar": {
             "outlinewidth": 0,
             "ticks": ""
            },
            "colorscale": [
             [
              0,
              "#0d0887"
             ],
             [
              0.1111111111111111,
              "#46039f"
             ],
             [
              0.2222222222222222,
              "#7201a8"
             ],
             [
              0.3333333333333333,
              "#9c179e"
             ],
             [
              0.4444444444444444,
              "#bd3786"
             ],
             [
              0.5555555555555556,
              "#d8576b"
             ],
             [
              0.6666666666666666,
              "#ed7953"
             ],
             [
              0.7777777777777778,
              "#fb9f3a"
             ],
             [
              0.8888888888888888,
              "#fdca26"
             ],
             [
              1,
              "#f0f921"
             ]
            ],
            "type": "histogram2dcontour"
           }
          ],
          "mesh3d": [
           {
            "colorbar": {
             "outlinewidth": 0,
             "ticks": ""
            },
            "type": "mesh3d"
           }
          ],
          "parcoords": [
           {
            "line": {
             "colorbar": {
              "outlinewidth": 0,
              "ticks": ""
             }
            },
            "type": "parcoords"
           }
          ],
          "pie": [
           {
            "automargin": true,
            "type": "pie"
           }
          ],
          "scatter": [
           {
            "fillpattern": {
             "fillmode": "overlay",
             "size": 10,
             "solidity": 0.2
            },
            "type": "scatter"
           }
          ],
          "scatter3d": [
           {
            "line": {
             "colorbar": {
              "outlinewidth": 0,
              "ticks": ""
             }
            },
            "marker": {
             "colorbar": {
              "outlinewidth": 0,
              "ticks": ""
             }
            },
            "type": "scatter3d"
           }
          ],
          "scattercarpet": [
           {
            "marker": {
             "colorbar": {
              "outlinewidth": 0,
              "ticks": ""
             }
            },
            "type": "scattercarpet"
           }
          ],
          "scattergeo": [
           {
            "marker": {
             "colorbar": {
              "outlinewidth": 0,
              "ticks": ""
             }
            },
            "type": "scattergeo"
           }
          ],
          "scattergl": [
           {
            "marker": {
             "colorbar": {
              "outlinewidth": 0,
              "ticks": ""
             }
            },
            "type": "scattergl"
           }
          ],
          "scattermapbox": [
           {
            "marker": {
             "colorbar": {
              "outlinewidth": 0,
              "ticks": ""
             }
            },
            "type": "scattermapbox"
           }
          ],
          "scatterpolar": [
           {
            "marker": {
             "colorbar": {
              "outlinewidth": 0,
              "ticks": ""
             }
            },
            "type": "scatterpolar"
           }
          ],
          "scatterpolargl": [
           {
            "marker": {
             "colorbar": {
              "outlinewidth": 0,
              "ticks": ""
             }
            },
            "type": "scatterpolargl"
           }
          ],
          "scatterternary": [
           {
            "marker": {
             "colorbar": {
              "outlinewidth": 0,
              "ticks": ""
             }
            },
            "type": "scatterternary"
           }
          ],
          "surface": [
           {
            "colorbar": {
             "outlinewidth": 0,
             "ticks": ""
            },
            "colorscale": [
             [
              0,
              "#0d0887"
             ],
             [
              0.1111111111111111,
              "#46039f"
             ],
             [
              0.2222222222222222,
              "#7201a8"
             ],
             [
              0.3333333333333333,
              "#9c179e"
             ],
             [
              0.4444444444444444,
              "#bd3786"
             ],
             [
              0.5555555555555556,
              "#d8576b"
             ],
             [
              0.6666666666666666,
              "#ed7953"
             ],
             [
              0.7777777777777778,
              "#fb9f3a"
             ],
             [
              0.8888888888888888,
              "#fdca26"
             ],
             [
              1,
              "#f0f921"
             ]
            ],
            "type": "surface"
           }
          ],
          "table": [
           {
            "cells": {
             "fill": {
              "color": "#EBF0F8"
             },
             "line": {
              "color": "white"
             }
            },
            "header": {
             "fill": {
              "color": "#C8D4E3"
             },
             "line": {
              "color": "white"
             }
            },
            "type": "table"
           }
          ]
         },
         "layout": {
          "annotationdefaults": {
           "arrowcolor": "#2a3f5f",
           "arrowhead": 0,
           "arrowwidth": 1
          },
          "autotypenumbers": "strict",
          "coloraxis": {
           "colorbar": {
            "outlinewidth": 0,
            "ticks": ""
           }
          },
          "colorscale": {
           "diverging": [
            [
             0,
             "#8e0152"
            ],
            [
             0.1,
             "#c51b7d"
            ],
            [
             0.2,
             "#de77ae"
            ],
            [
             0.3,
             "#f1b6da"
            ],
            [
             0.4,
             "#fde0ef"
            ],
            [
             0.5,
             "#f7f7f7"
            ],
            [
             0.6,
             "#e6f5d0"
            ],
            [
             0.7,
             "#b8e186"
            ],
            [
             0.8,
             "#7fbc41"
            ],
            [
             0.9,
             "#4d9221"
            ],
            [
             1,
             "#276419"
            ]
           ],
           "sequential": [
            [
             0,
             "#0d0887"
            ],
            [
             0.1111111111111111,
             "#46039f"
            ],
            [
             0.2222222222222222,
             "#7201a8"
            ],
            [
             0.3333333333333333,
             "#9c179e"
            ],
            [
             0.4444444444444444,
             "#bd3786"
            ],
            [
             0.5555555555555556,
             "#d8576b"
            ],
            [
             0.6666666666666666,
             "#ed7953"
            ],
            [
             0.7777777777777778,
             "#fb9f3a"
            ],
            [
             0.8888888888888888,
             "#fdca26"
            ],
            [
             1,
             "#f0f921"
            ]
           ],
           "sequentialminus": [
            [
             0,
             "#0d0887"
            ],
            [
             0.1111111111111111,
             "#46039f"
            ],
            [
             0.2222222222222222,
             "#7201a8"
            ],
            [
             0.3333333333333333,
             "#9c179e"
            ],
            [
             0.4444444444444444,
             "#bd3786"
            ],
            [
             0.5555555555555556,
             "#d8576b"
            ],
            [
             0.6666666666666666,
             "#ed7953"
            ],
            [
             0.7777777777777778,
             "#fb9f3a"
            ],
            [
             0.8888888888888888,
             "#fdca26"
            ],
            [
             1,
             "#f0f921"
            ]
           ]
          },
          "colorway": [
           "#636efa",
           "#EF553B",
           "#00cc96",
           "#ab63fa",
           "#FFA15A",
           "#19d3f3",
           "#FF6692",
           "#B6E880",
           "#FF97FF",
           "#FECB52"
          ],
          "font": {
           "color": "#2a3f5f"
          },
          "geo": {
           "bgcolor": "white",
           "lakecolor": "white",
           "landcolor": "#E5ECF6",
           "showlakes": true,
           "showland": true,
           "subunitcolor": "white"
          },
          "hoverlabel": {
           "align": "left"
          },
          "hovermode": "closest",
          "mapbox": {
           "style": "light"
          },
          "paper_bgcolor": "white",
          "plot_bgcolor": "#E5ECF6",
          "polar": {
           "angularaxis": {
            "gridcolor": "white",
            "linecolor": "white",
            "ticks": ""
           },
           "bgcolor": "#E5ECF6",
           "radialaxis": {
            "gridcolor": "white",
            "linecolor": "white",
            "ticks": ""
           }
          },
          "scene": {
           "xaxis": {
            "backgroundcolor": "#E5ECF6",
            "gridcolor": "white",
            "gridwidth": 2,
            "linecolor": "white",
            "showbackground": true,
            "ticks": "",
            "zerolinecolor": "white"
           },
           "yaxis": {
            "backgroundcolor": "#E5ECF6",
            "gridcolor": "white",
            "gridwidth": 2,
            "linecolor": "white",
            "showbackground": true,
            "ticks": "",
            "zerolinecolor": "white"
           },
           "zaxis": {
            "backgroundcolor": "#E5ECF6",
            "gridcolor": "white",
            "gridwidth": 2,
            "linecolor": "white",
            "showbackground": true,
            "ticks": "",
            "zerolinecolor": "white"
           }
          },
          "shapedefaults": {
           "line": {
            "color": "#2a3f5f"
           }
          },
          "ternary": {
           "aaxis": {
            "gridcolor": "white",
            "linecolor": "white",
            "ticks": ""
           },
           "baxis": {
            "gridcolor": "white",
            "linecolor": "white",
            "ticks": ""
           },
           "bgcolor": "#E5ECF6",
           "caxis": {
            "gridcolor": "white",
            "linecolor": "white",
            "ticks": ""
           }
          },
          "title": {
           "x": 0.05
          },
          "xaxis": {
           "automargin": true,
           "gridcolor": "white",
           "linecolor": "white",
           "ticks": "",
           "title": {
            "standoff": 15
           },
           "zerolinecolor": "white",
           "zerolinewidth": 2
          },
          "yaxis": {
           "automargin": true,
           "gridcolor": "white",
           "linecolor": "white",
           "ticks": "",
           "title": {
            "standoff": 15
           },
           "zerolinecolor": "white",
           "zerolinewidth": 2
          }
         }
        },
        "xaxis": {
         "anchor": "y",
         "domain": [
          0,
          1
         ],
         "title": {
          "text": "engine"
         }
        },
        "yaxis": {
         "anchor": "x",
         "domain": [
          0,
          1
         ],
         "title": {
          "text": "time taken"
         },
         "type": "log"
        }
       }
      },
      "text/html": [
       "<div>                            <div id=\"0a90791a-ff16-4e41-ad77-3dd168656d51\" class=\"plotly-graph-div\" style=\"height:525px; width:100%;\"></div>            <script type=\"text/javascript\">                require([\"plotly\"], function(Plotly) {                    window.PLOTLYENV=window.PLOTLYENV || {};                                    if (document.getElementById(\"0a90791a-ff16-4e41-ad77-3dd168656d51\")) {                    Plotly.newPlot(                        \"0a90791a-ff16-4e41-ad77-3dd168656d51\",                        [{\"alignmentgroup\":\"True\",\"hovertemplate\":\"filesize per chunk=3072.0 MB\\u003cbr\\u003eengine=%{x}\\u003cbr\\u003etime taken=%{y}\\u003cextra\\u003e\\u003c\\u002fextra\\u003e\",\"legendgroup\":\"3072.0 MB\",\"marker\":{\"color\":\"#636efa\"},\"name\":\"3072.0 MB\",\"notched\":false,\"offsetgroup\":\"3072.0 MB\",\"orientation\":\"v\",\"showlegend\":true,\"x\":[\"hdf5-c\",\"hdf5-c\",\"hdf5-c\",\"hdf5-c\",\"hdf5-c\",\"hdf5-c\",\"hdf5-c\",\"hdf5-c\",\"hdf5-c\",\"hdf5-c\"],\"x0\":\" \",\"xaxis\":\"x\",\"y\":[0.40457299999999996,0.47253199999999995,0.40116799999999997,0.401652,0.417379,0.375791,0.375793,0.38658499999999996,0.387801,0.385051],\"y0\":\" \",\"yaxis\":\"y\",\"type\":\"box\"}],                        {\"template\":{\"data\":{\"histogram2dcontour\":[{\"type\":\"histogram2dcontour\",\"colorbar\":{\"outlinewidth\":0,\"ticks\":\"\"},\"colorscale\":[[0.0,\"#0d0887\"],[0.1111111111111111,\"#46039f\"],[0.2222222222222222,\"#7201a8\"],[0.3333333333333333,\"#9c179e\"],[0.4444444444444444,\"#bd3786\"],[0.5555555555555556,\"#d8576b\"],[0.6666666666666666,\"#ed7953\"],[0.7777777777777778,\"#fb9f3a\"],[0.8888888888888888,\"#fdca26\"],[1.0,\"#f0f921\"]]}],\"choropleth\":[{\"type\":\"choropleth\",\"colorbar\":{\"outlinewidth\":0,\"ticks\":\"\"}}],\"histogram2d\":[{\"type\":\"histogram2d\",\"colorbar\":{\"outlinewidth\":0,\"ticks\":\"\"},\"colorscale\":[[0.0,\"#0d0887\"],[0.1111111111111111,\"#46039f\"],[0.2222222222222222,\"#7201a8\"],[0.3333333333333333,\"#9c179e\"],[0.4444444444444444,\"#bd3786\"],[0.5555555555555556,\"#d8576b\"],[0.6666666666666666,\"#ed7953\"],[0.7777777777777778,\"#fb9f3a\"],[0.8888888888888888,\"#fdca26\"],[1.0,\"#f0f921\"]]}],\"heatmap\":[{\"type\":\"heatmap\",\"colorbar\":{\"outlinewidth\":0,\"ticks\":\"\"},\"colorscale\":[[0.0,\"#0d0887\"],[0.1111111111111111,\"#46039f\"],[0.2222222222222222,\"#7201a8\"],[0.3333333333333333,\"#9c179e\"],[0.4444444444444444,\"#bd3786\"],[0.5555555555555556,\"#d8576b\"],[0.6666666666666666,\"#ed7953\"],[0.7777777777777778,\"#fb9f3a\"],[0.8888888888888888,\"#fdca26\"],[1.0,\"#f0f921\"]]}],\"heatmapgl\":[{\"type\":\"heatmapgl\",\"colorbar\":{\"outlinewidth\":0,\"ticks\":\"\"},\"colorscale\":[[0.0,\"#0d0887\"],[0.1111111111111111,\"#46039f\"],[0.2222222222222222,\"#7201a8\"],[0.3333333333333333,\"#9c179e\"],[0.4444444444444444,\"#bd3786\"],[0.5555555555555556,\"#d8576b\"],[0.6666666666666666,\"#ed7953\"],[0.7777777777777778,\"#fb9f3a\"],[0.8888888888888888,\"#fdca26\"],[1.0,\"#f0f921\"]]}],\"contourcarpet\":[{\"type\":\"contourcarpet\",\"colorbar\":{\"outlinewidth\":0,\"ticks\":\"\"}}],\"contour\":[{\"type\":\"contour\",\"colorbar\":{\"outlinewidth\":0,\"ticks\":\"\"},\"colorscale\":[[0.0,\"#0d0887\"],[0.1111111111111111,\"#46039f\"],[0.2222222222222222,\"#7201a8\"],[0.3333333333333333,\"#9c179e\"],[0.4444444444444444,\"#bd3786\"],[0.5555555555555556,\"#d8576b\"],[0.6666666666666666,\"#ed7953\"],[0.7777777777777778,\"#fb9f3a\"],[0.8888888888888888,\"#fdca26\"],[1.0,\"#f0f921\"]]}],\"surface\":[{\"type\":\"surface\",\"colorbar\":{\"outlinewidth\":0,\"ticks\":\"\"},\"colorscale\":[[0.0,\"#0d0887\"],[0.1111111111111111,\"#46039f\"],[0.2222222222222222,\"#7201a8\"],[0.3333333333333333,\"#9c179e\"],[0.4444444444444444,\"#bd3786\"],[0.5555555555555556,\"#d8576b\"],[0.6666666666666666,\"#ed7953\"],[0.7777777777777778,\"#fb9f3a\"],[0.8888888888888888,\"#fdca26\"],[1.0,\"#f0f921\"]]}],\"mesh3d\":[{\"type\":\"mesh3d\",\"colorbar\":{\"outlinewidth\":0,\"ticks\":\"\"}}],\"scatter\":[{\"fillpattern\":{\"fillmode\":\"overlay\",\"size\":10,\"solidity\":0.2},\"type\":\"scatter\"}],\"parcoords\":[{\"type\":\"parcoords\",\"line\":{\"colorbar\":{\"outlinewidth\":0,\"ticks\":\"\"}}}],\"scatterpolargl\":[{\"type\":\"scatterpolargl\",\"marker\":{\"colorbar\":{\"outlinewidth\":0,\"ticks\":\"\"}}}],\"bar\":[{\"error_x\":{\"color\":\"#2a3f5f\"},\"error_y\":{\"color\":\"#2a3f5f\"},\"marker\":{\"line\":{\"color\":\"#E5ECF6\",\"width\":0.5},\"pattern\":{\"fillmode\":\"overlay\",\"size\":10,\"solidity\":0.2}},\"type\":\"bar\"}],\"scattergeo\":[{\"type\":\"scattergeo\",\"marker\":{\"colorbar\":{\"outlinewidth\":0,\"ticks\":\"\"}}}],\"scatterpolar\":[{\"type\":\"scatterpolar\",\"marker\":{\"colorbar\":{\"outlinewidth\":0,\"ticks\":\"\"}}}],\"histogram\":[{\"marker\":{\"pattern\":{\"fillmode\":\"overlay\",\"size\":10,\"solidity\":0.2}},\"type\":\"histogram\"}],\"scattergl\":[{\"type\":\"scattergl\",\"marker\":{\"colorbar\":{\"outlinewidth\":0,\"ticks\":\"\"}}}],\"scatter3d\":[{\"type\":\"scatter3d\",\"line\":{\"colorbar\":{\"outlinewidth\":0,\"ticks\":\"\"}},\"marker\":{\"colorbar\":{\"outlinewidth\":0,\"ticks\":\"\"}}}],\"scattermapbox\":[{\"type\":\"scattermapbox\",\"marker\":{\"colorbar\":{\"outlinewidth\":0,\"ticks\":\"\"}}}],\"scatterternary\":[{\"type\":\"scatterternary\",\"marker\":{\"colorbar\":{\"outlinewidth\":0,\"ticks\":\"\"}}}],\"scattercarpet\":[{\"type\":\"scattercarpet\",\"marker\":{\"colorbar\":{\"outlinewidth\":0,\"ticks\":\"\"}}}],\"carpet\":[{\"aaxis\":{\"endlinecolor\":\"#2a3f5f\",\"gridcolor\":\"white\",\"linecolor\":\"white\",\"minorgridcolor\":\"white\",\"startlinecolor\":\"#2a3f5f\"},\"baxis\":{\"endlinecolor\":\"#2a3f5f\",\"gridcolor\":\"white\",\"linecolor\":\"white\",\"minorgridcolor\":\"white\",\"startlinecolor\":\"#2a3f5f\"},\"type\":\"carpet\"}],\"table\":[{\"cells\":{\"fill\":{\"color\":\"#EBF0F8\"},\"line\":{\"color\":\"white\"}},\"header\":{\"fill\":{\"color\":\"#C8D4E3\"},\"line\":{\"color\":\"white\"}},\"type\":\"table\"}],\"barpolar\":[{\"marker\":{\"line\":{\"color\":\"#E5ECF6\",\"width\":0.5},\"pattern\":{\"fillmode\":\"overlay\",\"size\":10,\"solidity\":0.2}},\"type\":\"barpolar\"}],\"pie\":[{\"automargin\":true,\"type\":\"pie\"}]},\"layout\":{\"autotypenumbers\":\"strict\",\"colorway\":[\"#636efa\",\"#EF553B\",\"#00cc96\",\"#ab63fa\",\"#FFA15A\",\"#19d3f3\",\"#FF6692\",\"#B6E880\",\"#FF97FF\",\"#FECB52\"],\"font\":{\"color\":\"#2a3f5f\"},\"hovermode\":\"closest\",\"hoverlabel\":{\"align\":\"left\"},\"paper_bgcolor\":\"white\",\"plot_bgcolor\":\"#E5ECF6\",\"polar\":{\"bgcolor\":\"#E5ECF6\",\"angularaxis\":{\"gridcolor\":\"white\",\"linecolor\":\"white\",\"ticks\":\"\"},\"radialaxis\":{\"gridcolor\":\"white\",\"linecolor\":\"white\",\"ticks\":\"\"}},\"ternary\":{\"bgcolor\":\"#E5ECF6\",\"aaxis\":{\"gridcolor\":\"white\",\"linecolor\":\"white\",\"ticks\":\"\"},\"baxis\":{\"gridcolor\":\"white\",\"linecolor\":\"white\",\"ticks\":\"\"},\"caxis\":{\"gridcolor\":\"white\",\"linecolor\":\"white\",\"ticks\":\"\"}},\"coloraxis\":{\"colorbar\":{\"outlinewidth\":0,\"ticks\":\"\"}},\"colorscale\":{\"sequential\":[[0.0,\"#0d0887\"],[0.1111111111111111,\"#46039f\"],[0.2222222222222222,\"#7201a8\"],[0.3333333333333333,\"#9c179e\"],[0.4444444444444444,\"#bd3786\"],[0.5555555555555556,\"#d8576b\"],[0.6666666666666666,\"#ed7953\"],[0.7777777777777778,\"#fb9f3a\"],[0.8888888888888888,\"#fdca26\"],[1.0,\"#f0f921\"]],\"sequentialminus\":[[0.0,\"#0d0887\"],[0.1111111111111111,\"#46039f\"],[0.2222222222222222,\"#7201a8\"],[0.3333333333333333,\"#9c179e\"],[0.4444444444444444,\"#bd3786\"],[0.5555555555555556,\"#d8576b\"],[0.6666666666666666,\"#ed7953\"],[0.7777777777777778,\"#fb9f3a\"],[0.8888888888888888,\"#fdca26\"],[1.0,\"#f0f921\"]],\"diverging\":[[0,\"#8e0152\"],[0.1,\"#c51b7d\"],[0.2,\"#de77ae\"],[0.3,\"#f1b6da\"],[0.4,\"#fde0ef\"],[0.5,\"#f7f7f7\"],[0.6,\"#e6f5d0\"],[0.7,\"#b8e186\"],[0.8,\"#7fbc41\"],[0.9,\"#4d9221\"],[1,\"#276419\"]]},\"xaxis\":{\"gridcolor\":\"white\",\"linecolor\":\"white\",\"ticks\":\"\",\"title\":{\"standoff\":15},\"zerolinecolor\":\"white\",\"automargin\":true,\"zerolinewidth\":2},\"yaxis\":{\"gridcolor\":\"white\",\"linecolor\":\"white\",\"ticks\":\"\",\"title\":{\"standoff\":15},\"zerolinecolor\":\"white\",\"automargin\":true,\"zerolinewidth\":2},\"scene\":{\"xaxis\":{\"backgroundcolor\":\"#E5ECF6\",\"gridcolor\":\"white\",\"linecolor\":\"white\",\"showbackground\":true,\"ticks\":\"\",\"zerolinecolor\":\"white\",\"gridwidth\":2},\"yaxis\":{\"backgroundcolor\":\"#E5ECF6\",\"gridcolor\":\"white\",\"linecolor\":\"white\",\"showbackground\":true,\"ticks\":\"\",\"zerolinecolor\":\"white\",\"gridwidth\":2},\"zaxis\":{\"backgroundcolor\":\"#E5ECF6\",\"gridcolor\":\"white\",\"linecolor\":\"white\",\"showbackground\":true,\"ticks\":\"\",\"zerolinecolor\":\"white\",\"gridwidth\":2}},\"shapedefaults\":{\"line\":{\"color\":\"#2a3f5f\"}},\"annotationdefaults\":{\"arrowcolor\":\"#2a3f5f\",\"arrowhead\":0,\"arrowwidth\":1},\"geo\":{\"bgcolor\":\"white\",\"landcolor\":\"#E5ECF6\",\"subunitcolor\":\"white\",\"showland\":true,\"showlakes\":true,\"lakecolor\":\"white\"},\"title\":{\"x\":0.05},\"mapbox\":{\"style\":\"light\"}}},\"xaxis\":{\"anchor\":\"y\",\"domain\":[0.0,1.0],\"title\":{\"text\":\"engine\"}},\"yaxis\":{\"anchor\":\"x\",\"domain\":[0.0,1.0],\"title\":{\"text\":\"time taken\"},\"type\":\"log\"},\"legend\":{\"title\":{\"text\":\"filesize per chunk\"},\"tracegroupgap\":0},\"margin\":{\"t\":60},\"boxmode\":\"group\"},                        {\"responsive\": true}                    ).then(function(){\n",
       "                            \n",
       "var gd = document.getElementById('0a90791a-ff16-4e41-ad77-3dd168656d51');\n",
       "var x = new MutationObserver(function (mutations, observer) {{\n",
       "        var display = window.getComputedStyle(gd).display;\n",
       "        if (!display || display === 'none') {{\n",
       "            console.log([gd, 'removed!']);\n",
       "            Plotly.purge(gd);\n",
       "            observer.disconnect();\n",
       "        }}\n",
       "}});\n",
       "\n",
       "// Listen for the removal of the full notebook cells\n",
       "var notebookContainer = gd.closest('#notebook-container');\n",
       "if (notebookContainer) {{\n",
       "    x.observe(notebookContainer, {childList: true});\n",
       "}}\n",
       "\n",
       "// Listen for the clearing of the current output cell\n",
       "var outputEl = gd.closest('.output');\n",
       "if (outputEl) {{\n",
       "    x.observe(outputEl, {childList: true});\n",
       "}}\n",
       "\n",
       "                        })                };                });            </script>        </div>"
      ]
     },
     "metadata": {},
     "output_type": "display_data"
    },
    {
     "data": {
      "application/vnd.plotly.v1+json": {
       "config": {
        "plotlyServerURL": "https://plot.ly"
       },
       "data": [
        {
         "alignmentgroup": "True",
         "hovertemplate": "filesize per chunk=1024.0 MB<br>engine=%{x}<br>time taken=%{y}<extra></extra>",
         "legendgroup": "1024.0 MB",
         "marker": {
          "color": "#636efa"
         },
         "name": "1024.0 MB",
         "notched": false,
         "offsetgroup": "1024.0 MB",
         "orientation": "v",
         "showlegend": true,
         "type": "box",
         "x": [
          "hdf5-subfiling",
          "hdf5-subfiling",
          "hdf5-subfiling",
          "hdf5-subfiling",
          "hdf5-subfiling",
          "hdf5-subfiling",
          "hdf5-subfiling",
          "hdf5-subfiling",
          "hdf5-subfiling",
          "hdf5-subfiling"
         ],
         "x0": " ",
         "xaxis": "x",
         "y": [
          0.24542000000000003,
          0.35334699999999997,
          0.266121,
          0.23990399999999998,
          0.23974099999999998,
          0.241447,
          0.240508,
          0.240274,
          0.24043499999999998,
          0.238611
         ],
         "y0": " ",
         "yaxis": "y"
        }
       ],
       "layout": {
        "boxmode": "group",
        "legend": {
         "title": {
          "text": "filesize per chunk"
         },
         "tracegroupgap": 0
        },
        "margin": {
         "t": 60
        },
        "template": {
         "data": {
          "bar": [
           {
            "error_x": {
             "color": "#2a3f5f"
            },
            "error_y": {
             "color": "#2a3f5f"
            },
            "marker": {
             "line": {
              "color": "#E5ECF6",
              "width": 0.5
             },
             "pattern": {
              "fillmode": "overlay",
              "size": 10,
              "solidity": 0.2
             }
            },
            "type": "bar"
           }
          ],
          "barpolar": [
           {
            "marker": {
             "line": {
              "color": "#E5ECF6",
              "width": 0.5
             },
             "pattern": {
              "fillmode": "overlay",
              "size": 10,
              "solidity": 0.2
             }
            },
            "type": "barpolar"
           }
          ],
          "carpet": [
           {
            "aaxis": {
             "endlinecolor": "#2a3f5f",
             "gridcolor": "white",
             "linecolor": "white",
             "minorgridcolor": "white",
             "startlinecolor": "#2a3f5f"
            },
            "baxis": {
             "endlinecolor": "#2a3f5f",
             "gridcolor": "white",
             "linecolor": "white",
             "minorgridcolor": "white",
             "startlinecolor": "#2a3f5f"
            },
            "type": "carpet"
           }
          ],
          "choropleth": [
           {
            "colorbar": {
             "outlinewidth": 0,
             "ticks": ""
            },
            "type": "choropleth"
           }
          ],
          "contour": [
           {
            "colorbar": {
             "outlinewidth": 0,
             "ticks": ""
            },
            "colorscale": [
             [
              0,
              "#0d0887"
             ],
             [
              0.1111111111111111,
              "#46039f"
             ],
             [
              0.2222222222222222,
              "#7201a8"
             ],
             [
              0.3333333333333333,
              "#9c179e"
             ],
             [
              0.4444444444444444,
              "#bd3786"
             ],
             [
              0.5555555555555556,
              "#d8576b"
             ],
             [
              0.6666666666666666,
              "#ed7953"
             ],
             [
              0.7777777777777778,
              "#fb9f3a"
             ],
             [
              0.8888888888888888,
              "#fdca26"
             ],
             [
              1,
              "#f0f921"
             ]
            ],
            "type": "contour"
           }
          ],
          "contourcarpet": [
           {
            "colorbar": {
             "outlinewidth": 0,
             "ticks": ""
            },
            "type": "contourcarpet"
           }
          ],
          "heatmap": [
           {
            "colorbar": {
             "outlinewidth": 0,
             "ticks": ""
            },
            "colorscale": [
             [
              0,
              "#0d0887"
             ],
             [
              0.1111111111111111,
              "#46039f"
             ],
             [
              0.2222222222222222,
              "#7201a8"
             ],
             [
              0.3333333333333333,
              "#9c179e"
             ],
             [
              0.4444444444444444,
              "#bd3786"
             ],
             [
              0.5555555555555556,
              "#d8576b"
             ],
             [
              0.6666666666666666,
              "#ed7953"
             ],
             [
              0.7777777777777778,
              "#fb9f3a"
             ],
             [
              0.8888888888888888,
              "#fdca26"
             ],
             [
              1,
              "#f0f921"
             ]
            ],
            "type": "heatmap"
           }
          ],
          "heatmapgl": [
           {
            "colorbar": {
             "outlinewidth": 0,
             "ticks": ""
            },
            "colorscale": [
             [
              0,
              "#0d0887"
             ],
             [
              0.1111111111111111,
              "#46039f"
             ],
             [
              0.2222222222222222,
              "#7201a8"
             ],
             [
              0.3333333333333333,
              "#9c179e"
             ],
             [
              0.4444444444444444,
              "#bd3786"
             ],
             [
              0.5555555555555556,
              "#d8576b"
             ],
             [
              0.6666666666666666,
              "#ed7953"
             ],
             [
              0.7777777777777778,
              "#fb9f3a"
             ],
             [
              0.8888888888888888,
              "#fdca26"
             ],
             [
              1,
              "#f0f921"
             ]
            ],
            "type": "heatmapgl"
           }
          ],
          "histogram": [
           {
            "marker": {
             "pattern": {
              "fillmode": "overlay",
              "size": 10,
              "solidity": 0.2
             }
            },
            "type": "histogram"
           }
          ],
          "histogram2d": [
           {
            "colorbar": {
             "outlinewidth": 0,
             "ticks": ""
            },
            "colorscale": [
             [
              0,
              "#0d0887"
             ],
             [
              0.1111111111111111,
              "#46039f"
             ],
             [
              0.2222222222222222,
              "#7201a8"
             ],
             [
              0.3333333333333333,
              "#9c179e"
             ],
             [
              0.4444444444444444,
              "#bd3786"
             ],
             [
              0.5555555555555556,
              "#d8576b"
             ],
             [
              0.6666666666666666,
              "#ed7953"
             ],
             [
              0.7777777777777778,
              "#fb9f3a"
             ],
             [
              0.8888888888888888,
              "#fdca26"
             ],
             [
              1,
              "#f0f921"
             ]
            ],
            "type": "histogram2d"
           }
          ],
          "histogram2dcontour": [
           {
            "colorbar": {
             "outlinewidth": 0,
             "ticks": ""
            },
            "colorscale": [
             [
              0,
              "#0d0887"
             ],
             [
              0.1111111111111111,
              "#46039f"
             ],
             [
              0.2222222222222222,
              "#7201a8"
             ],
             [
              0.3333333333333333,
              "#9c179e"
             ],
             [
              0.4444444444444444,
              "#bd3786"
             ],
             [
              0.5555555555555556,
              "#d8576b"
             ],
             [
              0.6666666666666666,
              "#ed7953"
             ],
             [
              0.7777777777777778,
              "#fb9f3a"
             ],
             [
              0.8888888888888888,
              "#fdca26"
             ],
             [
              1,
              "#f0f921"
             ]
            ],
            "type": "histogram2dcontour"
           }
          ],
          "mesh3d": [
           {
            "colorbar": {
             "outlinewidth": 0,
             "ticks": ""
            },
            "type": "mesh3d"
           }
          ],
          "parcoords": [
           {
            "line": {
             "colorbar": {
              "outlinewidth": 0,
              "ticks": ""
             }
            },
            "type": "parcoords"
           }
          ],
          "pie": [
           {
            "automargin": true,
            "type": "pie"
           }
          ],
          "scatter": [
           {
            "fillpattern": {
             "fillmode": "overlay",
             "size": 10,
             "solidity": 0.2
            },
            "type": "scatter"
           }
          ],
          "scatter3d": [
           {
            "line": {
             "colorbar": {
              "outlinewidth": 0,
              "ticks": ""
             }
            },
            "marker": {
             "colorbar": {
              "outlinewidth": 0,
              "ticks": ""
             }
            },
            "type": "scatter3d"
           }
          ],
          "scattercarpet": [
           {
            "marker": {
             "colorbar": {
              "outlinewidth": 0,
              "ticks": ""
             }
            },
            "type": "scattercarpet"
           }
          ],
          "scattergeo": [
           {
            "marker": {
             "colorbar": {
              "outlinewidth": 0,
              "ticks": ""
             }
            },
            "type": "scattergeo"
           }
          ],
          "scattergl": [
           {
            "marker": {
             "colorbar": {
              "outlinewidth": 0,
              "ticks": ""
             }
            },
            "type": "scattergl"
           }
          ],
          "scattermapbox": [
           {
            "marker": {
             "colorbar": {
              "outlinewidth": 0,
              "ticks": ""
             }
            },
            "type": "scattermapbox"
           }
          ],
          "scatterpolar": [
           {
            "marker": {
             "colorbar": {
              "outlinewidth": 0,
              "ticks": ""
             }
            },
            "type": "scatterpolar"
           }
          ],
          "scatterpolargl": [
           {
            "marker": {
             "colorbar": {
              "outlinewidth": 0,
              "ticks": ""
             }
            },
            "type": "scatterpolargl"
           }
          ],
          "scatterternary": [
           {
            "marker": {
             "colorbar": {
              "outlinewidth": 0,
              "ticks": ""
             }
            },
            "type": "scatterternary"
           }
          ],
          "surface": [
           {
            "colorbar": {
             "outlinewidth": 0,
             "ticks": ""
            },
            "colorscale": [
             [
              0,
              "#0d0887"
             ],
             [
              0.1111111111111111,
              "#46039f"
             ],
             [
              0.2222222222222222,
              "#7201a8"
             ],
             [
              0.3333333333333333,
              "#9c179e"
             ],
             [
              0.4444444444444444,
              "#bd3786"
             ],
             [
              0.5555555555555556,
              "#d8576b"
             ],
             [
              0.6666666666666666,
              "#ed7953"
             ],
             [
              0.7777777777777778,
              "#fb9f3a"
             ],
             [
              0.8888888888888888,
              "#fdca26"
             ],
             [
              1,
              "#f0f921"
             ]
            ],
            "type": "surface"
           }
          ],
          "table": [
           {
            "cells": {
             "fill": {
              "color": "#EBF0F8"
             },
             "line": {
              "color": "white"
             }
            },
            "header": {
             "fill": {
              "color": "#C8D4E3"
             },
             "line": {
              "color": "white"
             }
            },
            "type": "table"
           }
          ]
         },
         "layout": {
          "annotationdefaults": {
           "arrowcolor": "#2a3f5f",
           "arrowhead": 0,
           "arrowwidth": 1
          },
          "autotypenumbers": "strict",
          "coloraxis": {
           "colorbar": {
            "outlinewidth": 0,
            "ticks": ""
           }
          },
          "colorscale": {
           "diverging": [
            [
             0,
             "#8e0152"
            ],
            [
             0.1,
             "#c51b7d"
            ],
            [
             0.2,
             "#de77ae"
            ],
            [
             0.3,
             "#f1b6da"
            ],
            [
             0.4,
             "#fde0ef"
            ],
            [
             0.5,
             "#f7f7f7"
            ],
            [
             0.6,
             "#e6f5d0"
            ],
            [
             0.7,
             "#b8e186"
            ],
            [
             0.8,
             "#7fbc41"
            ],
            [
             0.9,
             "#4d9221"
            ],
            [
             1,
             "#276419"
            ]
           ],
           "sequential": [
            [
             0,
             "#0d0887"
            ],
            [
             0.1111111111111111,
             "#46039f"
            ],
            [
             0.2222222222222222,
             "#7201a8"
            ],
            [
             0.3333333333333333,
             "#9c179e"
            ],
            [
             0.4444444444444444,
             "#bd3786"
            ],
            [
             0.5555555555555556,
             "#d8576b"
            ],
            [
             0.6666666666666666,
             "#ed7953"
            ],
            [
             0.7777777777777778,
             "#fb9f3a"
            ],
            [
             0.8888888888888888,
             "#fdca26"
            ],
            [
             1,
             "#f0f921"
            ]
           ],
           "sequentialminus": [
            [
             0,
             "#0d0887"
            ],
            [
             0.1111111111111111,
             "#46039f"
            ],
            [
             0.2222222222222222,
             "#7201a8"
            ],
            [
             0.3333333333333333,
             "#9c179e"
            ],
            [
             0.4444444444444444,
             "#bd3786"
            ],
            [
             0.5555555555555556,
             "#d8576b"
            ],
            [
             0.6666666666666666,
             "#ed7953"
            ],
            [
             0.7777777777777778,
             "#fb9f3a"
            ],
            [
             0.8888888888888888,
             "#fdca26"
            ],
            [
             1,
             "#f0f921"
            ]
           ]
          },
          "colorway": [
           "#636efa",
           "#EF553B",
           "#00cc96",
           "#ab63fa",
           "#FFA15A",
           "#19d3f3",
           "#FF6692",
           "#B6E880",
           "#FF97FF",
           "#FECB52"
          ],
          "font": {
           "color": "#2a3f5f"
          },
          "geo": {
           "bgcolor": "white",
           "lakecolor": "white",
           "landcolor": "#E5ECF6",
           "showlakes": true,
           "showland": true,
           "subunitcolor": "white"
          },
          "hoverlabel": {
           "align": "left"
          },
          "hovermode": "closest",
          "mapbox": {
           "style": "light"
          },
          "paper_bgcolor": "white",
          "plot_bgcolor": "#E5ECF6",
          "polar": {
           "angularaxis": {
            "gridcolor": "white",
            "linecolor": "white",
            "ticks": ""
           },
           "bgcolor": "#E5ECF6",
           "radialaxis": {
            "gridcolor": "white",
            "linecolor": "white",
            "ticks": ""
           }
          },
          "scene": {
           "xaxis": {
            "backgroundcolor": "#E5ECF6",
            "gridcolor": "white",
            "gridwidth": 2,
            "linecolor": "white",
            "showbackground": true,
            "ticks": "",
            "zerolinecolor": "white"
           },
           "yaxis": {
            "backgroundcolor": "#E5ECF6",
            "gridcolor": "white",
            "gridwidth": 2,
            "linecolor": "white",
            "showbackground": true,
            "ticks": "",
            "zerolinecolor": "white"
           },
           "zaxis": {
            "backgroundcolor": "#E5ECF6",
            "gridcolor": "white",
            "gridwidth": 2,
            "linecolor": "white",
            "showbackground": true,
            "ticks": "",
            "zerolinecolor": "white"
           }
          },
          "shapedefaults": {
           "line": {
            "color": "#2a3f5f"
           }
          },
          "ternary": {
           "aaxis": {
            "gridcolor": "white",
            "linecolor": "white",
            "ticks": ""
           },
           "baxis": {
            "gridcolor": "white",
            "linecolor": "white",
            "ticks": ""
           },
           "bgcolor": "#E5ECF6",
           "caxis": {
            "gridcolor": "white",
            "linecolor": "white",
            "ticks": ""
           }
          },
          "title": {
           "x": 0.05
          },
          "xaxis": {
           "automargin": true,
           "gridcolor": "white",
           "linecolor": "white",
           "ticks": "",
           "title": {
            "standoff": 15
           },
           "zerolinecolor": "white",
           "zerolinewidth": 2
          },
          "yaxis": {
           "automargin": true,
           "gridcolor": "white",
           "linecolor": "white",
           "ticks": "",
           "title": {
            "standoff": 15
           },
           "zerolinecolor": "white",
           "zerolinewidth": 2
          }
         }
        },
        "xaxis": {
         "anchor": "y",
         "domain": [
          0,
          1
         ],
         "title": {
          "text": "engine"
         }
        },
        "yaxis": {
         "anchor": "x",
         "domain": [
          0,
          1
         ],
         "title": {
          "text": "time taken"
         },
         "type": "log"
        }
       }
      },
      "text/html": [
       "<div>                            <div id=\"6612ce1f-bac3-46d1-b291-2e3034c34b6c\" class=\"plotly-graph-div\" style=\"height:525px; width:100%;\"></div>            <script type=\"text/javascript\">                require([\"plotly\"], function(Plotly) {                    window.PLOTLYENV=window.PLOTLYENV || {};                                    if (document.getElementById(\"6612ce1f-bac3-46d1-b291-2e3034c34b6c\")) {                    Plotly.newPlot(                        \"6612ce1f-bac3-46d1-b291-2e3034c34b6c\",                        [{\"alignmentgroup\":\"True\",\"hovertemplate\":\"filesize per chunk=1024.0 MB\\u003cbr\\u003eengine=%{x}\\u003cbr\\u003etime taken=%{y}\\u003cextra\\u003e\\u003c\\u002fextra\\u003e\",\"legendgroup\":\"1024.0 MB\",\"marker\":{\"color\":\"#636efa\"},\"name\":\"1024.0 MB\",\"notched\":false,\"offsetgroup\":\"1024.0 MB\",\"orientation\":\"v\",\"showlegend\":true,\"x\":[\"hdf5-subfiling\",\"hdf5-subfiling\",\"hdf5-subfiling\",\"hdf5-subfiling\",\"hdf5-subfiling\",\"hdf5-subfiling\",\"hdf5-subfiling\",\"hdf5-subfiling\",\"hdf5-subfiling\",\"hdf5-subfiling\"],\"x0\":\" \",\"xaxis\":\"x\",\"y\":[0.24542000000000003,0.35334699999999997,0.266121,0.23990399999999998,0.23974099999999998,0.241447,0.240508,0.240274,0.24043499999999998,0.238611],\"y0\":\" \",\"yaxis\":\"y\",\"type\":\"box\"}],                        {\"template\":{\"data\":{\"histogram2dcontour\":[{\"type\":\"histogram2dcontour\",\"colorbar\":{\"outlinewidth\":0,\"ticks\":\"\"},\"colorscale\":[[0.0,\"#0d0887\"],[0.1111111111111111,\"#46039f\"],[0.2222222222222222,\"#7201a8\"],[0.3333333333333333,\"#9c179e\"],[0.4444444444444444,\"#bd3786\"],[0.5555555555555556,\"#d8576b\"],[0.6666666666666666,\"#ed7953\"],[0.7777777777777778,\"#fb9f3a\"],[0.8888888888888888,\"#fdca26\"],[1.0,\"#f0f921\"]]}],\"choropleth\":[{\"type\":\"choropleth\",\"colorbar\":{\"outlinewidth\":0,\"ticks\":\"\"}}],\"histogram2d\":[{\"type\":\"histogram2d\",\"colorbar\":{\"outlinewidth\":0,\"ticks\":\"\"},\"colorscale\":[[0.0,\"#0d0887\"],[0.1111111111111111,\"#46039f\"],[0.2222222222222222,\"#7201a8\"],[0.3333333333333333,\"#9c179e\"],[0.4444444444444444,\"#bd3786\"],[0.5555555555555556,\"#d8576b\"],[0.6666666666666666,\"#ed7953\"],[0.7777777777777778,\"#fb9f3a\"],[0.8888888888888888,\"#fdca26\"],[1.0,\"#f0f921\"]]}],\"heatmap\":[{\"type\":\"heatmap\",\"colorbar\":{\"outlinewidth\":0,\"ticks\":\"\"},\"colorscale\":[[0.0,\"#0d0887\"],[0.1111111111111111,\"#46039f\"],[0.2222222222222222,\"#7201a8\"],[0.3333333333333333,\"#9c179e\"],[0.4444444444444444,\"#bd3786\"],[0.5555555555555556,\"#d8576b\"],[0.6666666666666666,\"#ed7953\"],[0.7777777777777778,\"#fb9f3a\"],[0.8888888888888888,\"#fdca26\"],[1.0,\"#f0f921\"]]}],\"heatmapgl\":[{\"type\":\"heatmapgl\",\"colorbar\":{\"outlinewidth\":0,\"ticks\":\"\"},\"colorscale\":[[0.0,\"#0d0887\"],[0.1111111111111111,\"#46039f\"],[0.2222222222222222,\"#7201a8\"],[0.3333333333333333,\"#9c179e\"],[0.4444444444444444,\"#bd3786\"],[0.5555555555555556,\"#d8576b\"],[0.6666666666666666,\"#ed7953\"],[0.7777777777777778,\"#fb9f3a\"],[0.8888888888888888,\"#fdca26\"],[1.0,\"#f0f921\"]]}],\"contourcarpet\":[{\"type\":\"contourcarpet\",\"colorbar\":{\"outlinewidth\":0,\"ticks\":\"\"}}],\"contour\":[{\"type\":\"contour\",\"colorbar\":{\"outlinewidth\":0,\"ticks\":\"\"},\"colorscale\":[[0.0,\"#0d0887\"],[0.1111111111111111,\"#46039f\"],[0.2222222222222222,\"#7201a8\"],[0.3333333333333333,\"#9c179e\"],[0.4444444444444444,\"#bd3786\"],[0.5555555555555556,\"#d8576b\"],[0.6666666666666666,\"#ed7953\"],[0.7777777777777778,\"#fb9f3a\"],[0.8888888888888888,\"#fdca26\"],[1.0,\"#f0f921\"]]}],\"surface\":[{\"type\":\"surface\",\"colorbar\":{\"outlinewidth\":0,\"ticks\":\"\"},\"colorscale\":[[0.0,\"#0d0887\"],[0.1111111111111111,\"#46039f\"],[0.2222222222222222,\"#7201a8\"],[0.3333333333333333,\"#9c179e\"],[0.4444444444444444,\"#bd3786\"],[0.5555555555555556,\"#d8576b\"],[0.6666666666666666,\"#ed7953\"],[0.7777777777777778,\"#fb9f3a\"],[0.8888888888888888,\"#fdca26\"],[1.0,\"#f0f921\"]]}],\"mesh3d\":[{\"type\":\"mesh3d\",\"colorbar\":{\"outlinewidth\":0,\"ticks\":\"\"}}],\"scatter\":[{\"fillpattern\":{\"fillmode\":\"overlay\",\"size\":10,\"solidity\":0.2},\"type\":\"scatter\"}],\"parcoords\":[{\"type\":\"parcoords\",\"line\":{\"colorbar\":{\"outlinewidth\":0,\"ticks\":\"\"}}}],\"scatterpolargl\":[{\"type\":\"scatterpolargl\",\"marker\":{\"colorbar\":{\"outlinewidth\":0,\"ticks\":\"\"}}}],\"bar\":[{\"error_x\":{\"color\":\"#2a3f5f\"},\"error_y\":{\"color\":\"#2a3f5f\"},\"marker\":{\"line\":{\"color\":\"#E5ECF6\",\"width\":0.5},\"pattern\":{\"fillmode\":\"overlay\",\"size\":10,\"solidity\":0.2}},\"type\":\"bar\"}],\"scattergeo\":[{\"type\":\"scattergeo\",\"marker\":{\"colorbar\":{\"outlinewidth\":0,\"ticks\":\"\"}}}],\"scatterpolar\":[{\"type\":\"scatterpolar\",\"marker\":{\"colorbar\":{\"outlinewidth\":0,\"ticks\":\"\"}}}],\"histogram\":[{\"marker\":{\"pattern\":{\"fillmode\":\"overlay\",\"size\":10,\"solidity\":0.2}},\"type\":\"histogram\"}],\"scattergl\":[{\"type\":\"scattergl\",\"marker\":{\"colorbar\":{\"outlinewidth\":0,\"ticks\":\"\"}}}],\"scatter3d\":[{\"type\":\"scatter3d\",\"line\":{\"colorbar\":{\"outlinewidth\":0,\"ticks\":\"\"}},\"marker\":{\"colorbar\":{\"outlinewidth\":0,\"ticks\":\"\"}}}],\"scattermapbox\":[{\"type\":\"scattermapbox\",\"marker\":{\"colorbar\":{\"outlinewidth\":0,\"ticks\":\"\"}}}],\"scatterternary\":[{\"type\":\"scatterternary\",\"marker\":{\"colorbar\":{\"outlinewidth\":0,\"ticks\":\"\"}}}],\"scattercarpet\":[{\"type\":\"scattercarpet\",\"marker\":{\"colorbar\":{\"outlinewidth\":0,\"ticks\":\"\"}}}],\"carpet\":[{\"aaxis\":{\"endlinecolor\":\"#2a3f5f\",\"gridcolor\":\"white\",\"linecolor\":\"white\",\"minorgridcolor\":\"white\",\"startlinecolor\":\"#2a3f5f\"},\"baxis\":{\"endlinecolor\":\"#2a3f5f\",\"gridcolor\":\"white\",\"linecolor\":\"white\",\"minorgridcolor\":\"white\",\"startlinecolor\":\"#2a3f5f\"},\"type\":\"carpet\"}],\"table\":[{\"cells\":{\"fill\":{\"color\":\"#EBF0F8\"},\"line\":{\"color\":\"white\"}},\"header\":{\"fill\":{\"color\":\"#C8D4E3\"},\"line\":{\"color\":\"white\"}},\"type\":\"table\"}],\"barpolar\":[{\"marker\":{\"line\":{\"color\":\"#E5ECF6\",\"width\":0.5},\"pattern\":{\"fillmode\":\"overlay\",\"size\":10,\"solidity\":0.2}},\"type\":\"barpolar\"}],\"pie\":[{\"automargin\":true,\"type\":\"pie\"}]},\"layout\":{\"autotypenumbers\":\"strict\",\"colorway\":[\"#636efa\",\"#EF553B\",\"#00cc96\",\"#ab63fa\",\"#FFA15A\",\"#19d3f3\",\"#FF6692\",\"#B6E880\",\"#FF97FF\",\"#FECB52\"],\"font\":{\"color\":\"#2a3f5f\"},\"hovermode\":\"closest\",\"hoverlabel\":{\"align\":\"left\"},\"paper_bgcolor\":\"white\",\"plot_bgcolor\":\"#E5ECF6\",\"polar\":{\"bgcolor\":\"#E5ECF6\",\"angularaxis\":{\"gridcolor\":\"white\",\"linecolor\":\"white\",\"ticks\":\"\"},\"radialaxis\":{\"gridcolor\":\"white\",\"linecolor\":\"white\",\"ticks\":\"\"}},\"ternary\":{\"bgcolor\":\"#E5ECF6\",\"aaxis\":{\"gridcolor\":\"white\",\"linecolor\":\"white\",\"ticks\":\"\"},\"baxis\":{\"gridcolor\":\"white\",\"linecolor\":\"white\",\"ticks\":\"\"},\"caxis\":{\"gridcolor\":\"white\",\"linecolor\":\"white\",\"ticks\":\"\"}},\"coloraxis\":{\"colorbar\":{\"outlinewidth\":0,\"ticks\":\"\"}},\"colorscale\":{\"sequential\":[[0.0,\"#0d0887\"],[0.1111111111111111,\"#46039f\"],[0.2222222222222222,\"#7201a8\"],[0.3333333333333333,\"#9c179e\"],[0.4444444444444444,\"#bd3786\"],[0.5555555555555556,\"#d8576b\"],[0.6666666666666666,\"#ed7953\"],[0.7777777777777778,\"#fb9f3a\"],[0.8888888888888888,\"#fdca26\"],[1.0,\"#f0f921\"]],\"sequentialminus\":[[0.0,\"#0d0887\"],[0.1111111111111111,\"#46039f\"],[0.2222222222222222,\"#7201a8\"],[0.3333333333333333,\"#9c179e\"],[0.4444444444444444,\"#bd3786\"],[0.5555555555555556,\"#d8576b\"],[0.6666666666666666,\"#ed7953\"],[0.7777777777777778,\"#fb9f3a\"],[0.8888888888888888,\"#fdca26\"],[1.0,\"#f0f921\"]],\"diverging\":[[0,\"#8e0152\"],[0.1,\"#c51b7d\"],[0.2,\"#de77ae\"],[0.3,\"#f1b6da\"],[0.4,\"#fde0ef\"],[0.5,\"#f7f7f7\"],[0.6,\"#e6f5d0\"],[0.7,\"#b8e186\"],[0.8,\"#7fbc41\"],[0.9,\"#4d9221\"],[1,\"#276419\"]]},\"xaxis\":{\"gridcolor\":\"white\",\"linecolor\":\"white\",\"ticks\":\"\",\"title\":{\"standoff\":15},\"zerolinecolor\":\"white\",\"automargin\":true,\"zerolinewidth\":2},\"yaxis\":{\"gridcolor\":\"white\",\"linecolor\":\"white\",\"ticks\":\"\",\"title\":{\"standoff\":15},\"zerolinecolor\":\"white\",\"automargin\":true,\"zerolinewidth\":2},\"scene\":{\"xaxis\":{\"backgroundcolor\":\"#E5ECF6\",\"gridcolor\":\"white\",\"linecolor\":\"white\",\"showbackground\":true,\"ticks\":\"\",\"zerolinecolor\":\"white\",\"gridwidth\":2},\"yaxis\":{\"backgroundcolor\":\"#E5ECF6\",\"gridcolor\":\"white\",\"linecolor\":\"white\",\"showbackground\":true,\"ticks\":\"\",\"zerolinecolor\":\"white\",\"gridwidth\":2},\"zaxis\":{\"backgroundcolor\":\"#E5ECF6\",\"gridcolor\":\"white\",\"linecolor\":\"white\",\"showbackground\":true,\"ticks\":\"\",\"zerolinecolor\":\"white\",\"gridwidth\":2}},\"shapedefaults\":{\"line\":{\"color\":\"#2a3f5f\"}},\"annotationdefaults\":{\"arrowcolor\":\"#2a3f5f\",\"arrowhead\":0,\"arrowwidth\":1},\"geo\":{\"bgcolor\":\"white\",\"landcolor\":\"#E5ECF6\",\"subunitcolor\":\"white\",\"showland\":true,\"showlakes\":true,\"lakecolor\":\"white\"},\"title\":{\"x\":0.05},\"mapbox\":{\"style\":\"light\"}}},\"xaxis\":{\"anchor\":\"y\",\"domain\":[0.0,1.0],\"title\":{\"text\":\"engine\"}},\"yaxis\":{\"anchor\":\"x\",\"domain\":[0.0,1.0],\"title\":{\"text\":\"time taken\"},\"type\":\"log\"},\"legend\":{\"title\":{\"text\":\"filesize per chunk\"},\"tracegroupgap\":0},\"margin\":{\"t\":60},\"boxmode\":\"group\"},                        {\"responsive\": true}                    ).then(function(){\n",
       "                            \n",
       "var gd = document.getElementById('6612ce1f-bac3-46d1-b291-2e3034c34b6c');\n",
       "var x = new MutationObserver(function (mutations, observer) {{\n",
       "        var display = window.getComputedStyle(gd).display;\n",
       "        if (!display || display === 'none') {{\n",
       "            console.log([gd, 'removed!']);\n",
       "            Plotly.purge(gd);\n",
       "            observer.disconnect();\n",
       "        }}\n",
       "}});\n",
       "\n",
       "// Listen for the removal of the full notebook cells\n",
       "var notebookContainer = gd.closest('#notebook-container');\n",
       "if (notebookContainer) {{\n",
       "    x.observe(notebookContainer, {childList: true});\n",
       "}}\n",
       "\n",
       "// Listen for the clearing of the current output cell\n",
       "var outputEl = gd.closest('.output');\n",
       "if (outputEl) {{\n",
       "    x.observe(outputEl, {childList: true});\n",
       "}}\n",
       "\n",
       "                        })                };                });            </script>        </div>"
      ]
     },
     "metadata": {},
     "output_type": "display_data"
    },
    {
     "data": {
      "application/vnd.plotly.v1+json": {
       "config": {
        "plotlyServerURL": "https://plot.ly"
       },
       "data": [
        {
         "alignmentgroup": "True",
         "hovertemplate": "filesize per chunk=1024.0 MB<br>engine=%{x}<br>time taken=%{y}<extra></extra>",
         "legendgroup": "1024.0 MB",
         "marker": {
          "color": "#636efa"
         },
         "name": "1024.0 MB",
         "notched": false,
         "offsetgroup": "1024.0 MB",
         "orientation": "v",
         "showlegend": true,
         "type": "box",
         "x": [
          "hdf5-async",
          "hdf5-async",
          "hdf5-async",
          "hdf5-async",
          "hdf5-async",
          "hdf5-async",
          "hdf5-async",
          "hdf5-async",
          "hdf5-async",
          "hdf5-async"
         ],
         "x0": " ",
         "xaxis": "x",
         "y": [
          0.488818,
          0.15956199999999998,
          0.130557,
          0.128801,
          0.147416,
          0.134387,
          0.135026,
          0.130529,
          0.17788,
          0.142269
         ],
         "y0": " ",
         "yaxis": "y"
        }
       ],
       "layout": {
        "boxmode": "group",
        "legend": {
         "title": {
          "text": "filesize per chunk"
         },
         "tracegroupgap": 0
        },
        "margin": {
         "t": 60
        },
        "template": {
         "data": {
          "bar": [
           {
            "error_x": {
             "color": "#2a3f5f"
            },
            "error_y": {
             "color": "#2a3f5f"
            },
            "marker": {
             "line": {
              "color": "#E5ECF6",
              "width": 0.5
             },
             "pattern": {
              "fillmode": "overlay",
              "size": 10,
              "solidity": 0.2
             }
            },
            "type": "bar"
           }
          ],
          "barpolar": [
           {
            "marker": {
             "line": {
              "color": "#E5ECF6",
              "width": 0.5
             },
             "pattern": {
              "fillmode": "overlay",
              "size": 10,
              "solidity": 0.2
             }
            },
            "type": "barpolar"
           }
          ],
          "carpet": [
           {
            "aaxis": {
             "endlinecolor": "#2a3f5f",
             "gridcolor": "white",
             "linecolor": "white",
             "minorgridcolor": "white",
             "startlinecolor": "#2a3f5f"
            },
            "baxis": {
             "endlinecolor": "#2a3f5f",
             "gridcolor": "white",
             "linecolor": "white",
             "minorgridcolor": "white",
             "startlinecolor": "#2a3f5f"
            },
            "type": "carpet"
           }
          ],
          "choropleth": [
           {
            "colorbar": {
             "outlinewidth": 0,
             "ticks": ""
            },
            "type": "choropleth"
           }
          ],
          "contour": [
           {
            "colorbar": {
             "outlinewidth": 0,
             "ticks": ""
            },
            "colorscale": [
             [
              0,
              "#0d0887"
             ],
             [
              0.1111111111111111,
              "#46039f"
             ],
             [
              0.2222222222222222,
              "#7201a8"
             ],
             [
              0.3333333333333333,
              "#9c179e"
             ],
             [
              0.4444444444444444,
              "#bd3786"
             ],
             [
              0.5555555555555556,
              "#d8576b"
             ],
             [
              0.6666666666666666,
              "#ed7953"
             ],
             [
              0.7777777777777778,
              "#fb9f3a"
             ],
             [
              0.8888888888888888,
              "#fdca26"
             ],
             [
              1,
              "#f0f921"
             ]
            ],
            "type": "contour"
           }
          ],
          "contourcarpet": [
           {
            "colorbar": {
             "outlinewidth": 0,
             "ticks": ""
            },
            "type": "contourcarpet"
           }
          ],
          "heatmap": [
           {
            "colorbar": {
             "outlinewidth": 0,
             "ticks": ""
            },
            "colorscale": [
             [
              0,
              "#0d0887"
             ],
             [
              0.1111111111111111,
              "#46039f"
             ],
             [
              0.2222222222222222,
              "#7201a8"
             ],
             [
              0.3333333333333333,
              "#9c179e"
             ],
             [
              0.4444444444444444,
              "#bd3786"
             ],
             [
              0.5555555555555556,
              "#d8576b"
             ],
             [
              0.6666666666666666,
              "#ed7953"
             ],
             [
              0.7777777777777778,
              "#fb9f3a"
             ],
             [
              0.8888888888888888,
              "#fdca26"
             ],
             [
              1,
              "#f0f921"
             ]
            ],
            "type": "heatmap"
           }
          ],
          "heatmapgl": [
           {
            "colorbar": {
             "outlinewidth": 0,
             "ticks": ""
            },
            "colorscale": [
             [
              0,
              "#0d0887"
             ],
             [
              0.1111111111111111,
              "#46039f"
             ],
             [
              0.2222222222222222,
              "#7201a8"
             ],
             [
              0.3333333333333333,
              "#9c179e"
             ],
             [
              0.4444444444444444,
              "#bd3786"
             ],
             [
              0.5555555555555556,
              "#d8576b"
             ],
             [
              0.6666666666666666,
              "#ed7953"
             ],
             [
              0.7777777777777778,
              "#fb9f3a"
             ],
             [
              0.8888888888888888,
              "#fdca26"
             ],
             [
              1,
              "#f0f921"
             ]
            ],
            "type": "heatmapgl"
           }
          ],
          "histogram": [
           {
            "marker": {
             "pattern": {
              "fillmode": "overlay",
              "size": 10,
              "solidity": 0.2
             }
            },
            "type": "histogram"
           }
          ],
          "histogram2d": [
           {
            "colorbar": {
             "outlinewidth": 0,
             "ticks": ""
            },
            "colorscale": [
             [
              0,
              "#0d0887"
             ],
             [
              0.1111111111111111,
              "#46039f"
             ],
             [
              0.2222222222222222,
              "#7201a8"
             ],
             [
              0.3333333333333333,
              "#9c179e"
             ],
             [
              0.4444444444444444,
              "#bd3786"
             ],
             [
              0.5555555555555556,
              "#d8576b"
             ],
             [
              0.6666666666666666,
              "#ed7953"
             ],
             [
              0.7777777777777778,
              "#fb9f3a"
             ],
             [
              0.8888888888888888,
              "#fdca26"
             ],
             [
              1,
              "#f0f921"
             ]
            ],
            "type": "histogram2d"
           }
          ],
          "histogram2dcontour": [
           {
            "colorbar": {
             "outlinewidth": 0,
             "ticks": ""
            },
            "colorscale": [
             [
              0,
              "#0d0887"
             ],
             [
              0.1111111111111111,
              "#46039f"
             ],
             [
              0.2222222222222222,
              "#7201a8"
             ],
             [
              0.3333333333333333,
              "#9c179e"
             ],
             [
              0.4444444444444444,
              "#bd3786"
             ],
             [
              0.5555555555555556,
              "#d8576b"
             ],
             [
              0.6666666666666666,
              "#ed7953"
             ],
             [
              0.7777777777777778,
              "#fb9f3a"
             ],
             [
              0.8888888888888888,
              "#fdca26"
             ],
             [
              1,
              "#f0f921"
             ]
            ],
            "type": "histogram2dcontour"
           }
          ],
          "mesh3d": [
           {
            "colorbar": {
             "outlinewidth": 0,
             "ticks": ""
            },
            "type": "mesh3d"
           }
          ],
          "parcoords": [
           {
            "line": {
             "colorbar": {
              "outlinewidth": 0,
              "ticks": ""
             }
            },
            "type": "parcoords"
           }
          ],
          "pie": [
           {
            "automargin": true,
            "type": "pie"
           }
          ],
          "scatter": [
           {
            "fillpattern": {
             "fillmode": "overlay",
             "size": 10,
             "solidity": 0.2
            },
            "type": "scatter"
           }
          ],
          "scatter3d": [
           {
            "line": {
             "colorbar": {
              "outlinewidth": 0,
              "ticks": ""
             }
            },
            "marker": {
             "colorbar": {
              "outlinewidth": 0,
              "ticks": ""
             }
            },
            "type": "scatter3d"
           }
          ],
          "scattercarpet": [
           {
            "marker": {
             "colorbar": {
              "outlinewidth": 0,
              "ticks": ""
             }
            },
            "type": "scattercarpet"
           }
          ],
          "scattergeo": [
           {
            "marker": {
             "colorbar": {
              "outlinewidth": 0,
              "ticks": ""
             }
            },
            "type": "scattergeo"
           }
          ],
          "scattergl": [
           {
            "marker": {
             "colorbar": {
              "outlinewidth": 0,
              "ticks": ""
             }
            },
            "type": "scattergl"
           }
          ],
          "scattermapbox": [
           {
            "marker": {
             "colorbar": {
              "outlinewidth": 0,
              "ticks": ""
             }
            },
            "type": "scattermapbox"
           }
          ],
          "scatterpolar": [
           {
            "marker": {
             "colorbar": {
              "outlinewidth": 0,
              "ticks": ""
             }
            },
            "type": "scatterpolar"
           }
          ],
          "scatterpolargl": [
           {
            "marker": {
             "colorbar": {
              "outlinewidth": 0,
              "ticks": ""
             }
            },
            "type": "scatterpolargl"
           }
          ],
          "scatterternary": [
           {
            "marker": {
             "colorbar": {
              "outlinewidth": 0,
              "ticks": ""
             }
            },
            "type": "scatterternary"
           }
          ],
          "surface": [
           {
            "colorbar": {
             "outlinewidth": 0,
             "ticks": ""
            },
            "colorscale": [
             [
              0,
              "#0d0887"
             ],
             [
              0.1111111111111111,
              "#46039f"
             ],
             [
              0.2222222222222222,
              "#7201a8"
             ],
             [
              0.3333333333333333,
              "#9c179e"
             ],
             [
              0.4444444444444444,
              "#bd3786"
             ],
             [
              0.5555555555555556,
              "#d8576b"
             ],
             [
              0.6666666666666666,
              "#ed7953"
             ],
             [
              0.7777777777777778,
              "#fb9f3a"
             ],
             [
              0.8888888888888888,
              "#fdca26"
             ],
             [
              1,
              "#f0f921"
             ]
            ],
            "type": "surface"
           }
          ],
          "table": [
           {
            "cells": {
             "fill": {
              "color": "#EBF0F8"
             },
             "line": {
              "color": "white"
             }
            },
            "header": {
             "fill": {
              "color": "#C8D4E3"
             },
             "line": {
              "color": "white"
             }
            },
            "type": "table"
           }
          ]
         },
         "layout": {
          "annotationdefaults": {
           "arrowcolor": "#2a3f5f",
           "arrowhead": 0,
           "arrowwidth": 1
          },
          "autotypenumbers": "strict",
          "coloraxis": {
           "colorbar": {
            "outlinewidth": 0,
            "ticks": ""
           }
          },
          "colorscale": {
           "diverging": [
            [
             0,
             "#8e0152"
            ],
            [
             0.1,
             "#c51b7d"
            ],
            [
             0.2,
             "#de77ae"
            ],
            [
             0.3,
             "#f1b6da"
            ],
            [
             0.4,
             "#fde0ef"
            ],
            [
             0.5,
             "#f7f7f7"
            ],
            [
             0.6,
             "#e6f5d0"
            ],
            [
             0.7,
             "#b8e186"
            ],
            [
             0.8,
             "#7fbc41"
            ],
            [
             0.9,
             "#4d9221"
            ],
            [
             1,
             "#276419"
            ]
           ],
           "sequential": [
            [
             0,
             "#0d0887"
            ],
            [
             0.1111111111111111,
             "#46039f"
            ],
            [
             0.2222222222222222,
             "#7201a8"
            ],
            [
             0.3333333333333333,
             "#9c179e"
            ],
            [
             0.4444444444444444,
             "#bd3786"
            ],
            [
             0.5555555555555556,
             "#d8576b"
            ],
            [
             0.6666666666666666,
             "#ed7953"
            ],
            [
             0.7777777777777778,
             "#fb9f3a"
            ],
            [
             0.8888888888888888,
             "#fdca26"
            ],
            [
             1,
             "#f0f921"
            ]
           ],
           "sequentialminus": [
            [
             0,
             "#0d0887"
            ],
            [
             0.1111111111111111,
             "#46039f"
            ],
            [
             0.2222222222222222,
             "#7201a8"
            ],
            [
             0.3333333333333333,
             "#9c179e"
            ],
            [
             0.4444444444444444,
             "#bd3786"
            ],
            [
             0.5555555555555556,
             "#d8576b"
            ],
            [
             0.6666666666666666,
             "#ed7953"
            ],
            [
             0.7777777777777778,
             "#fb9f3a"
            ],
            [
             0.8888888888888888,
             "#fdca26"
            ],
            [
             1,
             "#f0f921"
            ]
           ]
          },
          "colorway": [
           "#636efa",
           "#EF553B",
           "#00cc96",
           "#ab63fa",
           "#FFA15A",
           "#19d3f3",
           "#FF6692",
           "#B6E880",
           "#FF97FF",
           "#FECB52"
          ],
          "font": {
           "color": "#2a3f5f"
          },
          "geo": {
           "bgcolor": "white",
           "lakecolor": "white",
           "landcolor": "#E5ECF6",
           "showlakes": true,
           "showland": true,
           "subunitcolor": "white"
          },
          "hoverlabel": {
           "align": "left"
          },
          "hovermode": "closest",
          "mapbox": {
           "style": "light"
          },
          "paper_bgcolor": "white",
          "plot_bgcolor": "#E5ECF6",
          "polar": {
           "angularaxis": {
            "gridcolor": "white",
            "linecolor": "white",
            "ticks": ""
           },
           "bgcolor": "#E5ECF6",
           "radialaxis": {
            "gridcolor": "white",
            "linecolor": "white",
            "ticks": ""
           }
          },
          "scene": {
           "xaxis": {
            "backgroundcolor": "#E5ECF6",
            "gridcolor": "white",
            "gridwidth": 2,
            "linecolor": "white",
            "showbackground": true,
            "ticks": "",
            "zerolinecolor": "white"
           },
           "yaxis": {
            "backgroundcolor": "#E5ECF6",
            "gridcolor": "white",
            "gridwidth": 2,
            "linecolor": "white",
            "showbackground": true,
            "ticks": "",
            "zerolinecolor": "white"
           },
           "zaxis": {
            "backgroundcolor": "#E5ECF6",
            "gridcolor": "white",
            "gridwidth": 2,
            "linecolor": "white",
            "showbackground": true,
            "ticks": "",
            "zerolinecolor": "white"
           }
          },
          "shapedefaults": {
           "line": {
            "color": "#2a3f5f"
           }
          },
          "ternary": {
           "aaxis": {
            "gridcolor": "white",
            "linecolor": "white",
            "ticks": ""
           },
           "baxis": {
            "gridcolor": "white",
            "linecolor": "white",
            "ticks": ""
           },
           "bgcolor": "#E5ECF6",
           "caxis": {
            "gridcolor": "white",
            "linecolor": "white",
            "ticks": ""
           }
          },
          "title": {
           "x": 0.05
          },
          "xaxis": {
           "automargin": true,
           "gridcolor": "white",
           "linecolor": "white",
           "ticks": "",
           "title": {
            "standoff": 15
           },
           "zerolinecolor": "white",
           "zerolinewidth": 2
          },
          "yaxis": {
           "automargin": true,
           "gridcolor": "white",
           "linecolor": "white",
           "ticks": "",
           "title": {
            "standoff": 15
           },
           "zerolinecolor": "white",
           "zerolinewidth": 2
          }
         }
        },
        "xaxis": {
         "anchor": "y",
         "domain": [
          0,
          1
         ],
         "title": {
          "text": "engine"
         }
        },
        "yaxis": {
         "anchor": "x",
         "domain": [
          0,
          1
         ],
         "title": {
          "text": "time taken"
         },
         "type": "log"
        }
       }
      },
      "text/html": [
       "<div>                            <div id=\"0a01ecd9-f385-413b-956f-2381d13e874c\" class=\"plotly-graph-div\" style=\"height:525px; width:100%;\"></div>            <script type=\"text/javascript\">                require([\"plotly\"], function(Plotly) {                    window.PLOTLYENV=window.PLOTLYENV || {};                                    if (document.getElementById(\"0a01ecd9-f385-413b-956f-2381d13e874c\")) {                    Plotly.newPlot(                        \"0a01ecd9-f385-413b-956f-2381d13e874c\",                        [{\"alignmentgroup\":\"True\",\"hovertemplate\":\"filesize per chunk=1024.0 MB\\u003cbr\\u003eengine=%{x}\\u003cbr\\u003etime taken=%{y}\\u003cextra\\u003e\\u003c\\u002fextra\\u003e\",\"legendgroup\":\"1024.0 MB\",\"marker\":{\"color\":\"#636efa\"},\"name\":\"1024.0 MB\",\"notched\":false,\"offsetgroup\":\"1024.0 MB\",\"orientation\":\"v\",\"showlegend\":true,\"x\":[\"hdf5-async\",\"hdf5-async\",\"hdf5-async\",\"hdf5-async\",\"hdf5-async\",\"hdf5-async\",\"hdf5-async\",\"hdf5-async\",\"hdf5-async\",\"hdf5-async\"],\"x0\":\" \",\"xaxis\":\"x\",\"y\":[0.488818,0.15956199999999998,0.130557,0.128801,0.147416,0.134387,0.135026,0.130529,0.17788,0.142269],\"y0\":\" \",\"yaxis\":\"y\",\"type\":\"box\"}],                        {\"template\":{\"data\":{\"histogram2dcontour\":[{\"type\":\"histogram2dcontour\",\"colorbar\":{\"outlinewidth\":0,\"ticks\":\"\"},\"colorscale\":[[0.0,\"#0d0887\"],[0.1111111111111111,\"#46039f\"],[0.2222222222222222,\"#7201a8\"],[0.3333333333333333,\"#9c179e\"],[0.4444444444444444,\"#bd3786\"],[0.5555555555555556,\"#d8576b\"],[0.6666666666666666,\"#ed7953\"],[0.7777777777777778,\"#fb9f3a\"],[0.8888888888888888,\"#fdca26\"],[1.0,\"#f0f921\"]]}],\"choropleth\":[{\"type\":\"choropleth\",\"colorbar\":{\"outlinewidth\":0,\"ticks\":\"\"}}],\"histogram2d\":[{\"type\":\"histogram2d\",\"colorbar\":{\"outlinewidth\":0,\"ticks\":\"\"},\"colorscale\":[[0.0,\"#0d0887\"],[0.1111111111111111,\"#46039f\"],[0.2222222222222222,\"#7201a8\"],[0.3333333333333333,\"#9c179e\"],[0.4444444444444444,\"#bd3786\"],[0.5555555555555556,\"#d8576b\"],[0.6666666666666666,\"#ed7953\"],[0.7777777777777778,\"#fb9f3a\"],[0.8888888888888888,\"#fdca26\"],[1.0,\"#f0f921\"]]}],\"heatmap\":[{\"type\":\"heatmap\",\"colorbar\":{\"outlinewidth\":0,\"ticks\":\"\"},\"colorscale\":[[0.0,\"#0d0887\"],[0.1111111111111111,\"#46039f\"],[0.2222222222222222,\"#7201a8\"],[0.3333333333333333,\"#9c179e\"],[0.4444444444444444,\"#bd3786\"],[0.5555555555555556,\"#d8576b\"],[0.6666666666666666,\"#ed7953\"],[0.7777777777777778,\"#fb9f3a\"],[0.8888888888888888,\"#fdca26\"],[1.0,\"#f0f921\"]]}],\"heatmapgl\":[{\"type\":\"heatmapgl\",\"colorbar\":{\"outlinewidth\":0,\"ticks\":\"\"},\"colorscale\":[[0.0,\"#0d0887\"],[0.1111111111111111,\"#46039f\"],[0.2222222222222222,\"#7201a8\"],[0.3333333333333333,\"#9c179e\"],[0.4444444444444444,\"#bd3786\"],[0.5555555555555556,\"#d8576b\"],[0.6666666666666666,\"#ed7953\"],[0.7777777777777778,\"#fb9f3a\"],[0.8888888888888888,\"#fdca26\"],[1.0,\"#f0f921\"]]}],\"contourcarpet\":[{\"type\":\"contourcarpet\",\"colorbar\":{\"outlinewidth\":0,\"ticks\":\"\"}}],\"contour\":[{\"type\":\"contour\",\"colorbar\":{\"outlinewidth\":0,\"ticks\":\"\"},\"colorscale\":[[0.0,\"#0d0887\"],[0.1111111111111111,\"#46039f\"],[0.2222222222222222,\"#7201a8\"],[0.3333333333333333,\"#9c179e\"],[0.4444444444444444,\"#bd3786\"],[0.5555555555555556,\"#d8576b\"],[0.6666666666666666,\"#ed7953\"],[0.7777777777777778,\"#fb9f3a\"],[0.8888888888888888,\"#fdca26\"],[1.0,\"#f0f921\"]]}],\"surface\":[{\"type\":\"surface\",\"colorbar\":{\"outlinewidth\":0,\"ticks\":\"\"},\"colorscale\":[[0.0,\"#0d0887\"],[0.1111111111111111,\"#46039f\"],[0.2222222222222222,\"#7201a8\"],[0.3333333333333333,\"#9c179e\"],[0.4444444444444444,\"#bd3786\"],[0.5555555555555556,\"#d8576b\"],[0.6666666666666666,\"#ed7953\"],[0.7777777777777778,\"#fb9f3a\"],[0.8888888888888888,\"#fdca26\"],[1.0,\"#f0f921\"]]}],\"mesh3d\":[{\"type\":\"mesh3d\",\"colorbar\":{\"outlinewidth\":0,\"ticks\":\"\"}}],\"scatter\":[{\"fillpattern\":{\"fillmode\":\"overlay\",\"size\":10,\"solidity\":0.2},\"type\":\"scatter\"}],\"parcoords\":[{\"type\":\"parcoords\",\"line\":{\"colorbar\":{\"outlinewidth\":0,\"ticks\":\"\"}}}],\"scatterpolargl\":[{\"type\":\"scatterpolargl\",\"marker\":{\"colorbar\":{\"outlinewidth\":0,\"ticks\":\"\"}}}],\"bar\":[{\"error_x\":{\"color\":\"#2a3f5f\"},\"error_y\":{\"color\":\"#2a3f5f\"},\"marker\":{\"line\":{\"color\":\"#E5ECF6\",\"width\":0.5},\"pattern\":{\"fillmode\":\"overlay\",\"size\":10,\"solidity\":0.2}},\"type\":\"bar\"}],\"scattergeo\":[{\"type\":\"scattergeo\",\"marker\":{\"colorbar\":{\"outlinewidth\":0,\"ticks\":\"\"}}}],\"scatterpolar\":[{\"type\":\"scatterpolar\",\"marker\":{\"colorbar\":{\"outlinewidth\":0,\"ticks\":\"\"}}}],\"histogram\":[{\"marker\":{\"pattern\":{\"fillmode\":\"overlay\",\"size\":10,\"solidity\":0.2}},\"type\":\"histogram\"}],\"scattergl\":[{\"type\":\"scattergl\",\"marker\":{\"colorbar\":{\"outlinewidth\":0,\"ticks\":\"\"}}}],\"scatter3d\":[{\"type\":\"scatter3d\",\"line\":{\"colorbar\":{\"outlinewidth\":0,\"ticks\":\"\"}},\"marker\":{\"colorbar\":{\"outlinewidth\":0,\"ticks\":\"\"}}}],\"scattermapbox\":[{\"type\":\"scattermapbox\",\"marker\":{\"colorbar\":{\"outlinewidth\":0,\"ticks\":\"\"}}}],\"scatterternary\":[{\"type\":\"scatterternary\",\"marker\":{\"colorbar\":{\"outlinewidth\":0,\"ticks\":\"\"}}}],\"scattercarpet\":[{\"type\":\"scattercarpet\",\"marker\":{\"colorbar\":{\"outlinewidth\":0,\"ticks\":\"\"}}}],\"carpet\":[{\"aaxis\":{\"endlinecolor\":\"#2a3f5f\",\"gridcolor\":\"white\",\"linecolor\":\"white\",\"minorgridcolor\":\"white\",\"startlinecolor\":\"#2a3f5f\"},\"baxis\":{\"endlinecolor\":\"#2a3f5f\",\"gridcolor\":\"white\",\"linecolor\":\"white\",\"minorgridcolor\":\"white\",\"startlinecolor\":\"#2a3f5f\"},\"type\":\"carpet\"}],\"table\":[{\"cells\":{\"fill\":{\"color\":\"#EBF0F8\"},\"line\":{\"color\":\"white\"}},\"header\":{\"fill\":{\"color\":\"#C8D4E3\"},\"line\":{\"color\":\"white\"}},\"type\":\"table\"}],\"barpolar\":[{\"marker\":{\"line\":{\"color\":\"#E5ECF6\",\"width\":0.5},\"pattern\":{\"fillmode\":\"overlay\",\"size\":10,\"solidity\":0.2}},\"type\":\"barpolar\"}],\"pie\":[{\"automargin\":true,\"type\":\"pie\"}]},\"layout\":{\"autotypenumbers\":\"strict\",\"colorway\":[\"#636efa\",\"#EF553B\",\"#00cc96\",\"#ab63fa\",\"#FFA15A\",\"#19d3f3\",\"#FF6692\",\"#B6E880\",\"#FF97FF\",\"#FECB52\"],\"font\":{\"color\":\"#2a3f5f\"},\"hovermode\":\"closest\",\"hoverlabel\":{\"align\":\"left\"},\"paper_bgcolor\":\"white\",\"plot_bgcolor\":\"#E5ECF6\",\"polar\":{\"bgcolor\":\"#E5ECF6\",\"angularaxis\":{\"gridcolor\":\"white\",\"linecolor\":\"white\",\"ticks\":\"\"},\"radialaxis\":{\"gridcolor\":\"white\",\"linecolor\":\"white\",\"ticks\":\"\"}},\"ternary\":{\"bgcolor\":\"#E5ECF6\",\"aaxis\":{\"gridcolor\":\"white\",\"linecolor\":\"white\",\"ticks\":\"\"},\"baxis\":{\"gridcolor\":\"white\",\"linecolor\":\"white\",\"ticks\":\"\"},\"caxis\":{\"gridcolor\":\"white\",\"linecolor\":\"white\",\"ticks\":\"\"}},\"coloraxis\":{\"colorbar\":{\"outlinewidth\":0,\"ticks\":\"\"}},\"colorscale\":{\"sequential\":[[0.0,\"#0d0887\"],[0.1111111111111111,\"#46039f\"],[0.2222222222222222,\"#7201a8\"],[0.3333333333333333,\"#9c179e\"],[0.4444444444444444,\"#bd3786\"],[0.5555555555555556,\"#d8576b\"],[0.6666666666666666,\"#ed7953\"],[0.7777777777777778,\"#fb9f3a\"],[0.8888888888888888,\"#fdca26\"],[1.0,\"#f0f921\"]],\"sequentialminus\":[[0.0,\"#0d0887\"],[0.1111111111111111,\"#46039f\"],[0.2222222222222222,\"#7201a8\"],[0.3333333333333333,\"#9c179e\"],[0.4444444444444444,\"#bd3786\"],[0.5555555555555556,\"#d8576b\"],[0.6666666666666666,\"#ed7953\"],[0.7777777777777778,\"#fb9f3a\"],[0.8888888888888888,\"#fdca26\"],[1.0,\"#f0f921\"]],\"diverging\":[[0,\"#8e0152\"],[0.1,\"#c51b7d\"],[0.2,\"#de77ae\"],[0.3,\"#f1b6da\"],[0.4,\"#fde0ef\"],[0.5,\"#f7f7f7\"],[0.6,\"#e6f5d0\"],[0.7,\"#b8e186\"],[0.8,\"#7fbc41\"],[0.9,\"#4d9221\"],[1,\"#276419\"]]},\"xaxis\":{\"gridcolor\":\"white\",\"linecolor\":\"white\",\"ticks\":\"\",\"title\":{\"standoff\":15},\"zerolinecolor\":\"white\",\"automargin\":true,\"zerolinewidth\":2},\"yaxis\":{\"gridcolor\":\"white\",\"linecolor\":\"white\",\"ticks\":\"\",\"title\":{\"standoff\":15},\"zerolinecolor\":\"white\",\"automargin\":true,\"zerolinewidth\":2},\"scene\":{\"xaxis\":{\"backgroundcolor\":\"#E5ECF6\",\"gridcolor\":\"white\",\"linecolor\":\"white\",\"showbackground\":true,\"ticks\":\"\",\"zerolinecolor\":\"white\",\"gridwidth\":2},\"yaxis\":{\"backgroundcolor\":\"#E5ECF6\",\"gridcolor\":\"white\",\"linecolor\":\"white\",\"showbackground\":true,\"ticks\":\"\",\"zerolinecolor\":\"white\",\"gridwidth\":2},\"zaxis\":{\"backgroundcolor\":\"#E5ECF6\",\"gridcolor\":\"white\",\"linecolor\":\"white\",\"showbackground\":true,\"ticks\":\"\",\"zerolinecolor\":\"white\",\"gridwidth\":2}},\"shapedefaults\":{\"line\":{\"color\":\"#2a3f5f\"}},\"annotationdefaults\":{\"arrowcolor\":\"#2a3f5f\",\"arrowhead\":0,\"arrowwidth\":1},\"geo\":{\"bgcolor\":\"white\",\"landcolor\":\"#E5ECF6\",\"subunitcolor\":\"white\",\"showland\":true,\"showlakes\":true,\"lakecolor\":\"white\"},\"title\":{\"x\":0.05},\"mapbox\":{\"style\":\"light\"}}},\"xaxis\":{\"anchor\":\"y\",\"domain\":[0.0,1.0],\"title\":{\"text\":\"engine\"}},\"yaxis\":{\"anchor\":\"x\",\"domain\":[0.0,1.0],\"title\":{\"text\":\"time taken\"},\"type\":\"log\"},\"legend\":{\"title\":{\"text\":\"filesize per chunk\"},\"tracegroupgap\":0},\"margin\":{\"t\":60},\"boxmode\":\"group\"},                        {\"responsive\": true}                    ).then(function(){\n",
       "                            \n",
       "var gd = document.getElementById('0a01ecd9-f385-413b-956f-2381d13e874c');\n",
       "var x = new MutationObserver(function (mutations, observer) {{\n",
       "        var display = window.getComputedStyle(gd).display;\n",
       "        if (!display || display === 'none') {{\n",
       "            console.log([gd, 'removed!']);\n",
       "            Plotly.purge(gd);\n",
       "            observer.disconnect();\n",
       "        }}\n",
       "}});\n",
       "\n",
       "// Listen for the removal of the full notebook cells\n",
       "var notebookContainer = gd.closest('#notebook-container');\n",
       "if (notebookContainer) {{\n",
       "    x.observe(notebookContainer, {childList: true});\n",
       "}}\n",
       "\n",
       "// Listen for the clearing of the current output cell\n",
       "var outputEl = gd.closest('.output');\n",
       "if (outputEl) {{\n",
       "    x.observe(outputEl, {childList: true});\n",
       "}}\n",
       "\n",
       "                        })                };                });            </script>        </div>"
      ]
     },
     "metadata": {},
     "output_type": "display_data"
    },
    {
     "data": {
      "application/vnd.plotly.v1+json": {
       "config": {
        "plotlyServerURL": "https://plot.ly"
       },
       "data": [
        {
         "alignmentgroup": "True",
         "hovertemplate": "filesize per chunk=1024.0 MB<br>engine=%{x}<br>time taken=%{y}<extra></extra>",
         "legendgroup": "1024.0 MB",
         "marker": {
          "color": "#636efa"
         },
         "name": "1024.0 MB",
         "notched": false,
         "offsetgroup": "1024.0 MB",
         "orientation": "v",
         "showlegend": true,
         "type": "box",
         "x": [
          "netcdf4-c",
          "netcdf4-c",
          "netcdf4-c",
          "netcdf4-c",
          "netcdf4-c",
          "netcdf4-c",
          "netcdf4-c",
          "netcdf4-c",
          "netcdf4-c",
          "netcdf4-c",
          "netcdf4-c",
          "netcdf4-c",
          "netcdf4-c",
          "netcdf4-c",
          "netcdf4-c",
          "netcdf4-c",
          "netcdf4-c",
          "netcdf4-c",
          "netcdf4-c",
          "netcdf4-c",
          "netcdf4-c",
          "netcdf4-c",
          "netcdf4-c",
          "netcdf4-c",
          "netcdf4-c",
          "netcdf4-c",
          "netcdf4-c",
          "netcdf4-c",
          "netcdf4-c",
          "netcdf4-c",
          "netcdf4-c",
          "netcdf4-c",
          "netcdf4-c",
          "netcdf4-c",
          "netcdf4-c",
          "netcdf4-c",
          "netcdf4-c",
          "netcdf4-c",
          "netcdf4-c",
          "netcdf4-c",
          "netcdf4-c",
          "netcdf4-c",
          "netcdf4-c",
          "netcdf4-c",
          "netcdf4-c",
          "netcdf4-c",
          "netcdf4-c",
          "netcdf4-c",
          "netcdf4-c",
          "netcdf4-c",
          "netcdf4-c",
          "netcdf4-c",
          "netcdf4-c",
          "netcdf4-c",
          "netcdf4-c",
          "netcdf4-c",
          "netcdf4-c",
          "netcdf4-c",
          "netcdf4-c",
          "netcdf4-c",
          "netcdf4-c",
          "netcdf4-c",
          "netcdf4-c",
          "netcdf4-c",
          "netcdf4-c",
          "netcdf4-c",
          "netcdf4-c",
          "netcdf4-c",
          "netcdf4-c",
          "netcdf4-c",
          "netcdf4-c",
          "netcdf4-c",
          "netcdf4-c",
          "netcdf4-c",
          "netcdf4-c",
          "netcdf4-c",
          "netcdf4-c",
          "netcdf4-c",
          "netcdf4-c",
          "netcdf4-c",
          "netcdf4-c",
          "netcdf4-c",
          "netcdf4-c",
          "netcdf4-c",
          "netcdf4-c",
          "netcdf4-c",
          "netcdf4-c",
          "netcdf4-c",
          "netcdf4-c",
          "netcdf4-c",
          "netcdf4-c",
          "netcdf4-c",
          "netcdf4-c",
          "netcdf4-c",
          "netcdf4-c",
          "netcdf4-c",
          "netcdf4-c",
          "netcdf4-c",
          "netcdf4-c",
          "netcdf4-c"
         ],
         "x0": " ",
         "xaxis": "x",
         "y": [
          0.602101,
          0.261602,
          0.165743,
          0.160828,
          0.160964,
          0.162638,
          0.166608,
          0.16283,
          0.161029,
          0.162787,
          0.16119,
          0.165231,
          0.162049,
          0.228676,
          0.15734299999999998,
          0.156792,
          0.157254,
          0.174684,
          0.17216099999999998,
          0.17028000000000001,
          0.163677,
          0.164027,
          0.167008,
          0.16619799999999998,
          0.16371000000000002,
          0.249969,
          0.163681,
          0.194128,
          0.170982,
          0.167784,
          0.166202,
          0.158468,
          0.157573,
          0.157942,
          0.159853,
          0.163013,
          0.165434,
          0.250596,
          0.165705,
          0.165467,
          0.16472699999999998,
          0.16599000000000003,
          0.16185000000000002,
          0.161995,
          0.161858,
          0.161,
          0.161017,
          0.161511,
          0.16245199999999999,
          0.253677,
          0.16170099999999998,
          0.16125899999999999,
          0.161732,
          0.16175,
          0.162327,
          0.16173099999999999,
          0.161686,
          0.163355,
          0.166156,
          0.187822,
          0.17108099999999998,
          0.213359,
          0.279502,
          0.210704,
          0.23077199999999998,
          0.172618,
          0.168672,
          0.165784,
          0.16625,
          0.168162,
          0.164674,
          0.163358,
          0.164461,
          0.263136,
          0.168314,
          0.168706,
          0.166732,
          0.162468,
          0.163489,
          0.16236299999999998,
          0.160739,
          0.16452799999999998,
          0.161527,
          0.161993,
          0.163982,
          0.252378,
          0.16166000000000003,
          0.161906,
          0.164388,
          0.17304799999999998,
          0.16678199999999999,
          0.165329,
          0.16675,
          0.163158,
          0.161529,
          0.16248,
          0.173807,
          0.281233,
          0.186132,
          0.226984
         ],
         "y0": " ",
         "yaxis": "y"
        }
       ],
       "layout": {
        "boxmode": "group",
        "legend": {
         "title": {
          "text": "filesize per chunk"
         },
         "tracegroupgap": 0
        },
        "margin": {
         "t": 60
        },
        "template": {
         "data": {
          "bar": [
           {
            "error_x": {
             "color": "#2a3f5f"
            },
            "error_y": {
             "color": "#2a3f5f"
            },
            "marker": {
             "line": {
              "color": "#E5ECF6",
              "width": 0.5
             },
             "pattern": {
              "fillmode": "overlay",
              "size": 10,
              "solidity": 0.2
             }
            },
            "type": "bar"
           }
          ],
          "barpolar": [
           {
            "marker": {
             "line": {
              "color": "#E5ECF6",
              "width": 0.5
             },
             "pattern": {
              "fillmode": "overlay",
              "size": 10,
              "solidity": 0.2
             }
            },
            "type": "barpolar"
           }
          ],
          "carpet": [
           {
            "aaxis": {
             "endlinecolor": "#2a3f5f",
             "gridcolor": "white",
             "linecolor": "white",
             "minorgridcolor": "white",
             "startlinecolor": "#2a3f5f"
            },
            "baxis": {
             "endlinecolor": "#2a3f5f",
             "gridcolor": "white",
             "linecolor": "white",
             "minorgridcolor": "white",
             "startlinecolor": "#2a3f5f"
            },
            "type": "carpet"
           }
          ],
          "choropleth": [
           {
            "colorbar": {
             "outlinewidth": 0,
             "ticks": ""
            },
            "type": "choropleth"
           }
          ],
          "contour": [
           {
            "colorbar": {
             "outlinewidth": 0,
             "ticks": ""
            },
            "colorscale": [
             [
              0,
              "#0d0887"
             ],
             [
              0.1111111111111111,
              "#46039f"
             ],
             [
              0.2222222222222222,
              "#7201a8"
             ],
             [
              0.3333333333333333,
              "#9c179e"
             ],
             [
              0.4444444444444444,
              "#bd3786"
             ],
             [
              0.5555555555555556,
              "#d8576b"
             ],
             [
              0.6666666666666666,
              "#ed7953"
             ],
             [
              0.7777777777777778,
              "#fb9f3a"
             ],
             [
              0.8888888888888888,
              "#fdca26"
             ],
             [
              1,
              "#f0f921"
             ]
            ],
            "type": "contour"
           }
          ],
          "contourcarpet": [
           {
            "colorbar": {
             "outlinewidth": 0,
             "ticks": ""
            },
            "type": "contourcarpet"
           }
          ],
          "heatmap": [
           {
            "colorbar": {
             "outlinewidth": 0,
             "ticks": ""
            },
            "colorscale": [
             [
              0,
              "#0d0887"
             ],
             [
              0.1111111111111111,
              "#46039f"
             ],
             [
              0.2222222222222222,
              "#7201a8"
             ],
             [
              0.3333333333333333,
              "#9c179e"
             ],
             [
              0.4444444444444444,
              "#bd3786"
             ],
             [
              0.5555555555555556,
              "#d8576b"
             ],
             [
              0.6666666666666666,
              "#ed7953"
             ],
             [
              0.7777777777777778,
              "#fb9f3a"
             ],
             [
              0.8888888888888888,
              "#fdca26"
             ],
             [
              1,
              "#f0f921"
             ]
            ],
            "type": "heatmap"
           }
          ],
          "heatmapgl": [
           {
            "colorbar": {
             "outlinewidth": 0,
             "ticks": ""
            },
            "colorscale": [
             [
              0,
              "#0d0887"
             ],
             [
              0.1111111111111111,
              "#46039f"
             ],
             [
              0.2222222222222222,
              "#7201a8"
             ],
             [
              0.3333333333333333,
              "#9c179e"
             ],
             [
              0.4444444444444444,
              "#bd3786"
             ],
             [
              0.5555555555555556,
              "#d8576b"
             ],
             [
              0.6666666666666666,
              "#ed7953"
             ],
             [
              0.7777777777777778,
              "#fb9f3a"
             ],
             [
              0.8888888888888888,
              "#fdca26"
             ],
             [
              1,
              "#f0f921"
             ]
            ],
            "type": "heatmapgl"
           }
          ],
          "histogram": [
           {
            "marker": {
             "pattern": {
              "fillmode": "overlay",
              "size": 10,
              "solidity": 0.2
             }
            },
            "type": "histogram"
           }
          ],
          "histogram2d": [
           {
            "colorbar": {
             "outlinewidth": 0,
             "ticks": ""
            },
            "colorscale": [
             [
              0,
              "#0d0887"
             ],
             [
              0.1111111111111111,
              "#46039f"
             ],
             [
              0.2222222222222222,
              "#7201a8"
             ],
             [
              0.3333333333333333,
              "#9c179e"
             ],
             [
              0.4444444444444444,
              "#bd3786"
             ],
             [
              0.5555555555555556,
              "#d8576b"
             ],
             [
              0.6666666666666666,
              "#ed7953"
             ],
             [
              0.7777777777777778,
              "#fb9f3a"
             ],
             [
              0.8888888888888888,
              "#fdca26"
             ],
             [
              1,
              "#f0f921"
             ]
            ],
            "type": "histogram2d"
           }
          ],
          "histogram2dcontour": [
           {
            "colorbar": {
             "outlinewidth": 0,
             "ticks": ""
            },
            "colorscale": [
             [
              0,
              "#0d0887"
             ],
             [
              0.1111111111111111,
              "#46039f"
             ],
             [
              0.2222222222222222,
              "#7201a8"
             ],
             [
              0.3333333333333333,
              "#9c179e"
             ],
             [
              0.4444444444444444,
              "#bd3786"
             ],
             [
              0.5555555555555556,
              "#d8576b"
             ],
             [
              0.6666666666666666,
              "#ed7953"
             ],
             [
              0.7777777777777778,
              "#fb9f3a"
             ],
             [
              0.8888888888888888,
              "#fdca26"
             ],
             [
              1,
              "#f0f921"
             ]
            ],
            "type": "histogram2dcontour"
           }
          ],
          "mesh3d": [
           {
            "colorbar": {
             "outlinewidth": 0,
             "ticks": ""
            },
            "type": "mesh3d"
           }
          ],
          "parcoords": [
           {
            "line": {
             "colorbar": {
              "outlinewidth": 0,
              "ticks": ""
             }
            },
            "type": "parcoords"
           }
          ],
          "pie": [
           {
            "automargin": true,
            "type": "pie"
           }
          ],
          "scatter": [
           {
            "fillpattern": {
             "fillmode": "overlay",
             "size": 10,
             "solidity": 0.2
            },
            "type": "scatter"
           }
          ],
          "scatter3d": [
           {
            "line": {
             "colorbar": {
              "outlinewidth": 0,
              "ticks": ""
             }
            },
            "marker": {
             "colorbar": {
              "outlinewidth": 0,
              "ticks": ""
             }
            },
            "type": "scatter3d"
           }
          ],
          "scattercarpet": [
           {
            "marker": {
             "colorbar": {
              "outlinewidth": 0,
              "ticks": ""
             }
            },
            "type": "scattercarpet"
           }
          ],
          "scattergeo": [
           {
            "marker": {
             "colorbar": {
              "outlinewidth": 0,
              "ticks": ""
             }
            },
            "type": "scattergeo"
           }
          ],
          "scattergl": [
           {
            "marker": {
             "colorbar": {
              "outlinewidth": 0,
              "ticks": ""
             }
            },
            "type": "scattergl"
           }
          ],
          "scattermapbox": [
           {
            "marker": {
             "colorbar": {
              "outlinewidth": 0,
              "ticks": ""
             }
            },
            "type": "scattermapbox"
           }
          ],
          "scatterpolar": [
           {
            "marker": {
             "colorbar": {
              "outlinewidth": 0,
              "ticks": ""
             }
            },
            "type": "scatterpolar"
           }
          ],
          "scatterpolargl": [
           {
            "marker": {
             "colorbar": {
              "outlinewidth": 0,
              "ticks": ""
             }
            },
            "type": "scatterpolargl"
           }
          ],
          "scatterternary": [
           {
            "marker": {
             "colorbar": {
              "outlinewidth": 0,
              "ticks": ""
             }
            },
            "type": "scatterternary"
           }
          ],
          "surface": [
           {
            "colorbar": {
             "outlinewidth": 0,
             "ticks": ""
            },
            "colorscale": [
             [
              0,
              "#0d0887"
             ],
             [
              0.1111111111111111,
              "#46039f"
             ],
             [
              0.2222222222222222,
              "#7201a8"
             ],
             [
              0.3333333333333333,
              "#9c179e"
             ],
             [
              0.4444444444444444,
              "#bd3786"
             ],
             [
              0.5555555555555556,
              "#d8576b"
             ],
             [
              0.6666666666666666,
              "#ed7953"
             ],
             [
              0.7777777777777778,
              "#fb9f3a"
             ],
             [
              0.8888888888888888,
              "#fdca26"
             ],
             [
              1,
              "#f0f921"
             ]
            ],
            "type": "surface"
           }
          ],
          "table": [
           {
            "cells": {
             "fill": {
              "color": "#EBF0F8"
             },
             "line": {
              "color": "white"
             }
            },
            "header": {
             "fill": {
              "color": "#C8D4E3"
             },
             "line": {
              "color": "white"
             }
            },
            "type": "table"
           }
          ]
         },
         "layout": {
          "annotationdefaults": {
           "arrowcolor": "#2a3f5f",
           "arrowhead": 0,
           "arrowwidth": 1
          },
          "autotypenumbers": "strict",
          "coloraxis": {
           "colorbar": {
            "outlinewidth": 0,
            "ticks": ""
           }
          },
          "colorscale": {
           "diverging": [
            [
             0,
             "#8e0152"
            ],
            [
             0.1,
             "#c51b7d"
            ],
            [
             0.2,
             "#de77ae"
            ],
            [
             0.3,
             "#f1b6da"
            ],
            [
             0.4,
             "#fde0ef"
            ],
            [
             0.5,
             "#f7f7f7"
            ],
            [
             0.6,
             "#e6f5d0"
            ],
            [
             0.7,
             "#b8e186"
            ],
            [
             0.8,
             "#7fbc41"
            ],
            [
             0.9,
             "#4d9221"
            ],
            [
             1,
             "#276419"
            ]
           ],
           "sequential": [
            [
             0,
             "#0d0887"
            ],
            [
             0.1111111111111111,
             "#46039f"
            ],
            [
             0.2222222222222222,
             "#7201a8"
            ],
            [
             0.3333333333333333,
             "#9c179e"
            ],
            [
             0.4444444444444444,
             "#bd3786"
            ],
            [
             0.5555555555555556,
             "#d8576b"
            ],
            [
             0.6666666666666666,
             "#ed7953"
            ],
            [
             0.7777777777777778,
             "#fb9f3a"
            ],
            [
             0.8888888888888888,
             "#fdca26"
            ],
            [
             1,
             "#f0f921"
            ]
           ],
           "sequentialminus": [
            [
             0,
             "#0d0887"
            ],
            [
             0.1111111111111111,
             "#46039f"
            ],
            [
             0.2222222222222222,
             "#7201a8"
            ],
            [
             0.3333333333333333,
             "#9c179e"
            ],
            [
             0.4444444444444444,
             "#bd3786"
            ],
            [
             0.5555555555555556,
             "#d8576b"
            ],
            [
             0.6666666666666666,
             "#ed7953"
            ],
            [
             0.7777777777777778,
             "#fb9f3a"
            ],
            [
             0.8888888888888888,
             "#fdca26"
            ],
            [
             1,
             "#f0f921"
            ]
           ]
          },
          "colorway": [
           "#636efa",
           "#EF553B",
           "#00cc96",
           "#ab63fa",
           "#FFA15A",
           "#19d3f3",
           "#FF6692",
           "#B6E880",
           "#FF97FF",
           "#FECB52"
          ],
          "font": {
           "color": "#2a3f5f"
          },
          "geo": {
           "bgcolor": "white",
           "lakecolor": "white",
           "landcolor": "#E5ECF6",
           "showlakes": true,
           "showland": true,
           "subunitcolor": "white"
          },
          "hoverlabel": {
           "align": "left"
          },
          "hovermode": "closest",
          "mapbox": {
           "style": "light"
          },
          "paper_bgcolor": "white",
          "plot_bgcolor": "#E5ECF6",
          "polar": {
           "angularaxis": {
            "gridcolor": "white",
            "linecolor": "white",
            "ticks": ""
           },
           "bgcolor": "#E5ECF6",
           "radialaxis": {
            "gridcolor": "white",
            "linecolor": "white",
            "ticks": ""
           }
          },
          "scene": {
           "xaxis": {
            "backgroundcolor": "#E5ECF6",
            "gridcolor": "white",
            "gridwidth": 2,
            "linecolor": "white",
            "showbackground": true,
            "ticks": "",
            "zerolinecolor": "white"
           },
           "yaxis": {
            "backgroundcolor": "#E5ECF6",
            "gridcolor": "white",
            "gridwidth": 2,
            "linecolor": "white",
            "showbackground": true,
            "ticks": "",
            "zerolinecolor": "white"
           },
           "zaxis": {
            "backgroundcolor": "#E5ECF6",
            "gridcolor": "white",
            "gridwidth": 2,
            "linecolor": "white",
            "showbackground": true,
            "ticks": "",
            "zerolinecolor": "white"
           }
          },
          "shapedefaults": {
           "line": {
            "color": "#2a3f5f"
           }
          },
          "ternary": {
           "aaxis": {
            "gridcolor": "white",
            "linecolor": "white",
            "ticks": ""
           },
           "baxis": {
            "gridcolor": "white",
            "linecolor": "white",
            "ticks": ""
           },
           "bgcolor": "#E5ECF6",
           "caxis": {
            "gridcolor": "white",
            "linecolor": "white",
            "ticks": ""
           }
          },
          "title": {
           "x": 0.05
          },
          "xaxis": {
           "automargin": true,
           "gridcolor": "white",
           "linecolor": "white",
           "ticks": "",
           "title": {
            "standoff": 15
           },
           "zerolinecolor": "white",
           "zerolinewidth": 2
          },
          "yaxis": {
           "automargin": true,
           "gridcolor": "white",
           "linecolor": "white",
           "ticks": "",
           "title": {
            "standoff": 15
           },
           "zerolinecolor": "white",
           "zerolinewidth": 2
          }
         }
        },
        "xaxis": {
         "anchor": "y",
         "domain": [
          0,
          1
         ],
         "title": {
          "text": "engine"
         }
        },
        "yaxis": {
         "anchor": "x",
         "domain": [
          0,
          1
         ],
         "title": {
          "text": "time taken"
         },
         "type": "log"
        }
       }
      },
      "text/html": [
       "<div>                            <div id=\"9c36d0dc-3f58-417d-bf70-38f56ff5176f\" class=\"plotly-graph-div\" style=\"height:525px; width:100%;\"></div>            <script type=\"text/javascript\">                require([\"plotly\"], function(Plotly) {                    window.PLOTLYENV=window.PLOTLYENV || {};                                    if (document.getElementById(\"9c36d0dc-3f58-417d-bf70-38f56ff5176f\")) {                    Plotly.newPlot(                        \"9c36d0dc-3f58-417d-bf70-38f56ff5176f\",                        [{\"alignmentgroup\":\"True\",\"hovertemplate\":\"filesize per chunk=1024.0 MB\\u003cbr\\u003eengine=%{x}\\u003cbr\\u003etime taken=%{y}\\u003cextra\\u003e\\u003c\\u002fextra\\u003e\",\"legendgroup\":\"1024.0 MB\",\"marker\":{\"color\":\"#636efa\"},\"name\":\"1024.0 MB\",\"notched\":false,\"offsetgroup\":\"1024.0 MB\",\"orientation\":\"v\",\"showlegend\":true,\"x\":[\"netcdf4-c\",\"netcdf4-c\",\"netcdf4-c\",\"netcdf4-c\",\"netcdf4-c\",\"netcdf4-c\",\"netcdf4-c\",\"netcdf4-c\",\"netcdf4-c\",\"netcdf4-c\",\"netcdf4-c\",\"netcdf4-c\",\"netcdf4-c\",\"netcdf4-c\",\"netcdf4-c\",\"netcdf4-c\",\"netcdf4-c\",\"netcdf4-c\",\"netcdf4-c\",\"netcdf4-c\",\"netcdf4-c\",\"netcdf4-c\",\"netcdf4-c\",\"netcdf4-c\",\"netcdf4-c\",\"netcdf4-c\",\"netcdf4-c\",\"netcdf4-c\",\"netcdf4-c\",\"netcdf4-c\",\"netcdf4-c\",\"netcdf4-c\",\"netcdf4-c\",\"netcdf4-c\",\"netcdf4-c\",\"netcdf4-c\",\"netcdf4-c\",\"netcdf4-c\",\"netcdf4-c\",\"netcdf4-c\",\"netcdf4-c\",\"netcdf4-c\",\"netcdf4-c\",\"netcdf4-c\",\"netcdf4-c\",\"netcdf4-c\",\"netcdf4-c\",\"netcdf4-c\",\"netcdf4-c\",\"netcdf4-c\",\"netcdf4-c\",\"netcdf4-c\",\"netcdf4-c\",\"netcdf4-c\",\"netcdf4-c\",\"netcdf4-c\",\"netcdf4-c\",\"netcdf4-c\",\"netcdf4-c\",\"netcdf4-c\",\"netcdf4-c\",\"netcdf4-c\",\"netcdf4-c\",\"netcdf4-c\",\"netcdf4-c\",\"netcdf4-c\",\"netcdf4-c\",\"netcdf4-c\",\"netcdf4-c\",\"netcdf4-c\",\"netcdf4-c\",\"netcdf4-c\",\"netcdf4-c\",\"netcdf4-c\",\"netcdf4-c\",\"netcdf4-c\",\"netcdf4-c\",\"netcdf4-c\",\"netcdf4-c\",\"netcdf4-c\",\"netcdf4-c\",\"netcdf4-c\",\"netcdf4-c\",\"netcdf4-c\",\"netcdf4-c\",\"netcdf4-c\",\"netcdf4-c\",\"netcdf4-c\",\"netcdf4-c\",\"netcdf4-c\",\"netcdf4-c\",\"netcdf4-c\",\"netcdf4-c\",\"netcdf4-c\",\"netcdf4-c\",\"netcdf4-c\",\"netcdf4-c\",\"netcdf4-c\",\"netcdf4-c\",\"netcdf4-c\"],\"x0\":\" \",\"xaxis\":\"x\",\"y\":[0.602101,0.261602,0.165743,0.160828,0.160964,0.162638,0.166608,0.16283,0.161029,0.162787,0.16119,0.165231,0.162049,0.228676,0.15734299999999998,0.156792,0.157254,0.174684,0.17216099999999998,0.17028000000000001,0.163677,0.164027,0.167008,0.16619799999999998,0.16371000000000002,0.249969,0.163681,0.194128,0.170982,0.167784,0.166202,0.158468,0.157573,0.157942,0.159853,0.163013,0.165434,0.250596,0.165705,0.165467,0.16472699999999998,0.16599000000000003,0.16185000000000002,0.161995,0.161858,0.161,0.161017,0.161511,0.16245199999999999,0.253677,0.16170099999999998,0.16125899999999999,0.161732,0.16175,0.162327,0.16173099999999999,0.161686,0.163355,0.166156,0.187822,0.17108099999999998,0.213359,0.279502,0.210704,0.23077199999999998,0.172618,0.168672,0.165784,0.16625,0.168162,0.164674,0.163358,0.164461,0.263136,0.168314,0.168706,0.166732,0.162468,0.163489,0.16236299999999998,0.160739,0.16452799999999998,0.161527,0.161993,0.163982,0.252378,0.16166000000000003,0.161906,0.164388,0.17304799999999998,0.16678199999999999,0.165329,0.16675,0.163158,0.161529,0.16248,0.173807,0.281233,0.186132,0.226984],\"y0\":\" \",\"yaxis\":\"y\",\"type\":\"box\"}],                        {\"template\":{\"data\":{\"histogram2dcontour\":[{\"type\":\"histogram2dcontour\",\"colorbar\":{\"outlinewidth\":0,\"ticks\":\"\"},\"colorscale\":[[0.0,\"#0d0887\"],[0.1111111111111111,\"#46039f\"],[0.2222222222222222,\"#7201a8\"],[0.3333333333333333,\"#9c179e\"],[0.4444444444444444,\"#bd3786\"],[0.5555555555555556,\"#d8576b\"],[0.6666666666666666,\"#ed7953\"],[0.7777777777777778,\"#fb9f3a\"],[0.8888888888888888,\"#fdca26\"],[1.0,\"#f0f921\"]]}],\"choropleth\":[{\"type\":\"choropleth\",\"colorbar\":{\"outlinewidth\":0,\"ticks\":\"\"}}],\"histogram2d\":[{\"type\":\"histogram2d\",\"colorbar\":{\"outlinewidth\":0,\"ticks\":\"\"},\"colorscale\":[[0.0,\"#0d0887\"],[0.1111111111111111,\"#46039f\"],[0.2222222222222222,\"#7201a8\"],[0.3333333333333333,\"#9c179e\"],[0.4444444444444444,\"#bd3786\"],[0.5555555555555556,\"#d8576b\"],[0.6666666666666666,\"#ed7953\"],[0.7777777777777778,\"#fb9f3a\"],[0.8888888888888888,\"#fdca26\"],[1.0,\"#f0f921\"]]}],\"heatmap\":[{\"type\":\"heatmap\",\"colorbar\":{\"outlinewidth\":0,\"ticks\":\"\"},\"colorscale\":[[0.0,\"#0d0887\"],[0.1111111111111111,\"#46039f\"],[0.2222222222222222,\"#7201a8\"],[0.3333333333333333,\"#9c179e\"],[0.4444444444444444,\"#bd3786\"],[0.5555555555555556,\"#d8576b\"],[0.6666666666666666,\"#ed7953\"],[0.7777777777777778,\"#fb9f3a\"],[0.8888888888888888,\"#fdca26\"],[1.0,\"#f0f921\"]]}],\"heatmapgl\":[{\"type\":\"heatmapgl\",\"colorbar\":{\"outlinewidth\":0,\"ticks\":\"\"},\"colorscale\":[[0.0,\"#0d0887\"],[0.1111111111111111,\"#46039f\"],[0.2222222222222222,\"#7201a8\"],[0.3333333333333333,\"#9c179e\"],[0.4444444444444444,\"#bd3786\"],[0.5555555555555556,\"#d8576b\"],[0.6666666666666666,\"#ed7953\"],[0.7777777777777778,\"#fb9f3a\"],[0.8888888888888888,\"#fdca26\"],[1.0,\"#f0f921\"]]}],\"contourcarpet\":[{\"type\":\"contourcarpet\",\"colorbar\":{\"outlinewidth\":0,\"ticks\":\"\"}}],\"contour\":[{\"type\":\"contour\",\"colorbar\":{\"outlinewidth\":0,\"ticks\":\"\"},\"colorscale\":[[0.0,\"#0d0887\"],[0.1111111111111111,\"#46039f\"],[0.2222222222222222,\"#7201a8\"],[0.3333333333333333,\"#9c179e\"],[0.4444444444444444,\"#bd3786\"],[0.5555555555555556,\"#d8576b\"],[0.6666666666666666,\"#ed7953\"],[0.7777777777777778,\"#fb9f3a\"],[0.8888888888888888,\"#fdca26\"],[1.0,\"#f0f921\"]]}],\"surface\":[{\"type\":\"surface\",\"colorbar\":{\"outlinewidth\":0,\"ticks\":\"\"},\"colorscale\":[[0.0,\"#0d0887\"],[0.1111111111111111,\"#46039f\"],[0.2222222222222222,\"#7201a8\"],[0.3333333333333333,\"#9c179e\"],[0.4444444444444444,\"#bd3786\"],[0.5555555555555556,\"#d8576b\"],[0.6666666666666666,\"#ed7953\"],[0.7777777777777778,\"#fb9f3a\"],[0.8888888888888888,\"#fdca26\"],[1.0,\"#f0f921\"]]}],\"mesh3d\":[{\"type\":\"mesh3d\",\"colorbar\":{\"outlinewidth\":0,\"ticks\":\"\"}}],\"scatter\":[{\"fillpattern\":{\"fillmode\":\"overlay\",\"size\":10,\"solidity\":0.2},\"type\":\"scatter\"}],\"parcoords\":[{\"type\":\"parcoords\",\"line\":{\"colorbar\":{\"outlinewidth\":0,\"ticks\":\"\"}}}],\"scatterpolargl\":[{\"type\":\"scatterpolargl\",\"marker\":{\"colorbar\":{\"outlinewidth\":0,\"ticks\":\"\"}}}],\"bar\":[{\"error_x\":{\"color\":\"#2a3f5f\"},\"error_y\":{\"color\":\"#2a3f5f\"},\"marker\":{\"line\":{\"color\":\"#E5ECF6\",\"width\":0.5},\"pattern\":{\"fillmode\":\"overlay\",\"size\":10,\"solidity\":0.2}},\"type\":\"bar\"}],\"scattergeo\":[{\"type\":\"scattergeo\",\"marker\":{\"colorbar\":{\"outlinewidth\":0,\"ticks\":\"\"}}}],\"scatterpolar\":[{\"type\":\"scatterpolar\",\"marker\":{\"colorbar\":{\"outlinewidth\":0,\"ticks\":\"\"}}}],\"histogram\":[{\"marker\":{\"pattern\":{\"fillmode\":\"overlay\",\"size\":10,\"solidity\":0.2}},\"type\":\"histogram\"}],\"scattergl\":[{\"type\":\"scattergl\",\"marker\":{\"colorbar\":{\"outlinewidth\":0,\"ticks\":\"\"}}}],\"scatter3d\":[{\"type\":\"scatter3d\",\"line\":{\"colorbar\":{\"outlinewidth\":0,\"ticks\":\"\"}},\"marker\":{\"colorbar\":{\"outlinewidth\":0,\"ticks\":\"\"}}}],\"scattermapbox\":[{\"type\":\"scattermapbox\",\"marker\":{\"colorbar\":{\"outlinewidth\":0,\"ticks\":\"\"}}}],\"scatterternary\":[{\"type\":\"scatterternary\",\"marker\":{\"colorbar\":{\"outlinewidth\":0,\"ticks\":\"\"}}}],\"scattercarpet\":[{\"type\":\"scattercarpet\",\"marker\":{\"colorbar\":{\"outlinewidth\":0,\"ticks\":\"\"}}}],\"carpet\":[{\"aaxis\":{\"endlinecolor\":\"#2a3f5f\",\"gridcolor\":\"white\",\"linecolor\":\"white\",\"minorgridcolor\":\"white\",\"startlinecolor\":\"#2a3f5f\"},\"baxis\":{\"endlinecolor\":\"#2a3f5f\",\"gridcolor\":\"white\",\"linecolor\":\"white\",\"minorgridcolor\":\"white\",\"startlinecolor\":\"#2a3f5f\"},\"type\":\"carpet\"}],\"table\":[{\"cells\":{\"fill\":{\"color\":\"#EBF0F8\"},\"line\":{\"color\":\"white\"}},\"header\":{\"fill\":{\"color\":\"#C8D4E3\"},\"line\":{\"color\":\"white\"}},\"type\":\"table\"}],\"barpolar\":[{\"marker\":{\"line\":{\"color\":\"#E5ECF6\",\"width\":0.5},\"pattern\":{\"fillmode\":\"overlay\",\"size\":10,\"solidity\":0.2}},\"type\":\"barpolar\"}],\"pie\":[{\"automargin\":true,\"type\":\"pie\"}]},\"layout\":{\"autotypenumbers\":\"strict\",\"colorway\":[\"#636efa\",\"#EF553B\",\"#00cc96\",\"#ab63fa\",\"#FFA15A\",\"#19d3f3\",\"#FF6692\",\"#B6E880\",\"#FF97FF\",\"#FECB52\"],\"font\":{\"color\":\"#2a3f5f\"},\"hovermode\":\"closest\",\"hoverlabel\":{\"align\":\"left\"},\"paper_bgcolor\":\"white\",\"plot_bgcolor\":\"#E5ECF6\",\"polar\":{\"bgcolor\":\"#E5ECF6\",\"angularaxis\":{\"gridcolor\":\"white\",\"linecolor\":\"white\",\"ticks\":\"\"},\"radialaxis\":{\"gridcolor\":\"white\",\"linecolor\":\"white\",\"ticks\":\"\"}},\"ternary\":{\"bgcolor\":\"#E5ECF6\",\"aaxis\":{\"gridcolor\":\"white\",\"linecolor\":\"white\",\"ticks\":\"\"},\"baxis\":{\"gridcolor\":\"white\",\"linecolor\":\"white\",\"ticks\":\"\"},\"caxis\":{\"gridcolor\":\"white\",\"linecolor\":\"white\",\"ticks\":\"\"}},\"coloraxis\":{\"colorbar\":{\"outlinewidth\":0,\"ticks\":\"\"}},\"colorscale\":{\"sequential\":[[0.0,\"#0d0887\"],[0.1111111111111111,\"#46039f\"],[0.2222222222222222,\"#7201a8\"],[0.3333333333333333,\"#9c179e\"],[0.4444444444444444,\"#bd3786\"],[0.5555555555555556,\"#d8576b\"],[0.6666666666666666,\"#ed7953\"],[0.7777777777777778,\"#fb9f3a\"],[0.8888888888888888,\"#fdca26\"],[1.0,\"#f0f921\"]],\"sequentialminus\":[[0.0,\"#0d0887\"],[0.1111111111111111,\"#46039f\"],[0.2222222222222222,\"#7201a8\"],[0.3333333333333333,\"#9c179e\"],[0.4444444444444444,\"#bd3786\"],[0.5555555555555556,\"#d8576b\"],[0.6666666666666666,\"#ed7953\"],[0.7777777777777778,\"#fb9f3a\"],[0.8888888888888888,\"#fdca26\"],[1.0,\"#f0f921\"]],\"diverging\":[[0,\"#8e0152\"],[0.1,\"#c51b7d\"],[0.2,\"#de77ae\"],[0.3,\"#f1b6da\"],[0.4,\"#fde0ef\"],[0.5,\"#f7f7f7\"],[0.6,\"#e6f5d0\"],[0.7,\"#b8e186\"],[0.8,\"#7fbc41\"],[0.9,\"#4d9221\"],[1,\"#276419\"]]},\"xaxis\":{\"gridcolor\":\"white\",\"linecolor\":\"white\",\"ticks\":\"\",\"title\":{\"standoff\":15},\"zerolinecolor\":\"white\",\"automargin\":true,\"zerolinewidth\":2},\"yaxis\":{\"gridcolor\":\"white\",\"linecolor\":\"white\",\"ticks\":\"\",\"title\":{\"standoff\":15},\"zerolinecolor\":\"white\",\"automargin\":true,\"zerolinewidth\":2},\"scene\":{\"xaxis\":{\"backgroundcolor\":\"#E5ECF6\",\"gridcolor\":\"white\",\"linecolor\":\"white\",\"showbackground\":true,\"ticks\":\"\",\"zerolinecolor\":\"white\",\"gridwidth\":2},\"yaxis\":{\"backgroundcolor\":\"#E5ECF6\",\"gridcolor\":\"white\",\"linecolor\":\"white\",\"showbackground\":true,\"ticks\":\"\",\"zerolinecolor\":\"white\",\"gridwidth\":2},\"zaxis\":{\"backgroundcolor\":\"#E5ECF6\",\"gridcolor\":\"white\",\"linecolor\":\"white\",\"showbackground\":true,\"ticks\":\"\",\"zerolinecolor\":\"white\",\"gridwidth\":2}},\"shapedefaults\":{\"line\":{\"color\":\"#2a3f5f\"}},\"annotationdefaults\":{\"arrowcolor\":\"#2a3f5f\",\"arrowhead\":0,\"arrowwidth\":1},\"geo\":{\"bgcolor\":\"white\",\"landcolor\":\"#E5ECF6\",\"subunitcolor\":\"white\",\"showland\":true,\"showlakes\":true,\"lakecolor\":\"white\"},\"title\":{\"x\":0.05},\"mapbox\":{\"style\":\"light\"}}},\"xaxis\":{\"anchor\":\"y\",\"domain\":[0.0,1.0],\"title\":{\"text\":\"engine\"}},\"yaxis\":{\"anchor\":\"x\",\"domain\":[0.0,1.0],\"title\":{\"text\":\"time taken\"},\"type\":\"log\"},\"legend\":{\"title\":{\"text\":\"filesize per chunk\"},\"tracegroupgap\":0},\"margin\":{\"t\":60},\"boxmode\":\"group\"},                        {\"responsive\": true}                    ).then(function(){\n",
       "                            \n",
       "var gd = document.getElementById('9c36d0dc-3f58-417d-bf70-38f56ff5176f');\n",
       "var x = new MutationObserver(function (mutations, observer) {{\n",
       "        var display = window.getComputedStyle(gd).display;\n",
       "        if (!display || display === 'none') {{\n",
       "            console.log([gd, 'removed!']);\n",
       "            Plotly.purge(gd);\n",
       "            observer.disconnect();\n",
       "        }}\n",
       "}});\n",
       "\n",
       "// Listen for the removal of the full notebook cells\n",
       "var notebookContainer = gd.closest('#notebook-container');\n",
       "if (notebookContainer) {{\n",
       "    x.observe(notebookContainer, {childList: true});\n",
       "}}\n",
       "\n",
       "// Listen for the clearing of the current output cell\n",
       "var outputEl = gd.closest('.output');\n",
       "if (outputEl) {{\n",
       "    x.observe(outputEl, {childList: true});\n",
       "}}\n",
       "\n",
       "                        })                };                });            </script>        </div>"
      ]
     },
     "metadata": {},
     "output_type": "display_data"
    },
    {
     "data": {
      "application/vnd.plotly.v1+json": {
       "config": {
        "plotlyServerURL": "https://plot.ly"
       },
       "data": [
        {
         "alignmentgroup": "True",
         "box": {
          "visible": false
         },
         "hovertemplate": "engine=zarr<br>time taken=%{x}<br>format=%{y}<extra></extra>",
         "legendgroup": "zarr",
         "marker": {
          "color": "#636efa"
         },
         "name": "zarr",
         "offsetgroup": "zarr",
         "orientation": "h",
         "scalegroup": "True",
         "showlegend": true,
         "type": "violin",
         "x": [
          1.561470602,
          1.119593804,
          1.131029809,
          1.100024496,
          1.106562787,
          1.08532757,
          1.084824497,
          1.07139167,
          1.062812411,
          1.072172126,
          3.524663635,
          1.640390784,
          1.58037417,
          1.498136551,
          1.499260701,
          1.471429969,
          1.441589899,
          1.5037154799999999,
          1.440095022,
          1.437127042,
          4.696084097,
          2.482777822,
          2.385498438,
          2.281798491,
          2.308118287,
          2.266521942,
          2.249475183,
          2.2242104400000002,
          2.264185753,
          2.252098626
         ],
         "x0": " ",
         "xaxis": "x",
         "y": [
          "zarr-[1536, 512, 512]-[1536, 512, 128]",
          "zarr-[1536, 512, 512]-[1536, 512, 128]",
          "zarr-[1536, 512, 512]-[1536, 512, 128]",
          "zarr-[1536, 512, 512]-[1536, 512, 128]",
          "zarr-[1536, 512, 512]-[1536, 512, 128]",
          "zarr-[1536, 512, 512]-[1536, 512, 128]",
          "zarr-[1536, 512, 512]-[1536, 512, 128]",
          "zarr-[1536, 512, 512]-[1536, 512, 128]",
          "zarr-[1536, 512, 512]-[1536, 512, 128]",
          "zarr-[1536, 512, 512]-[1536, 512, 128]",
          "zarr-[1536, 512, 512]-[1536, 512, 256]",
          "zarr-[1536, 512, 512]-[1536, 512, 256]",
          "zarr-[1536, 512, 512]-[1536, 512, 256]",
          "zarr-[1536, 512, 512]-[1536, 512, 256]",
          "zarr-[1536, 512, 512]-[1536, 512, 256]",
          "zarr-[1536, 512, 512]-[1536, 512, 256]",
          "zarr-[1536, 512, 512]-[1536, 512, 256]",
          "zarr-[1536, 512, 512]-[1536, 512, 256]",
          "zarr-[1536, 512, 512]-[1536, 512, 256]",
          "zarr-[1536, 512, 512]-[1536, 512, 256]",
          "zarr-[1536, 512, 512]-[1536, 512, 512]",
          "zarr-[1536, 512, 512]-[1536, 512, 512]",
          "zarr-[1536, 512, 512]-[1536, 512, 512]",
          "zarr-[1536, 512, 512]-[1536, 512, 512]",
          "zarr-[1536, 512, 512]-[1536, 512, 512]",
          "zarr-[1536, 512, 512]-[1536, 512, 512]",
          "zarr-[1536, 512, 512]-[1536, 512, 512]",
          "zarr-[1536, 512, 512]-[1536, 512, 512]",
          "zarr-[1536, 512, 512]-[1536, 512, 512]",
          "zarr-[1536, 512, 512]-[1536, 512, 512]"
         ],
         "y0": " ",
         "yaxis": "y"
        },
        {
         "alignmentgroup": "True",
         "box": {
          "visible": false
         },
         "hovertemplate": "engine=netcdf4<br>time taken=%{x}<br>format=%{y}<extra></extra>",
         "legendgroup": "netcdf4",
         "marker": {
          "color": "#EF553B"
         },
         "name": "netcdf4",
         "offsetgroup": "netcdf4",
         "orientation": "h",
         "scalegroup": "True",
         "showlegend": true,
         "type": "violin",
         "x": [
          2.503007032,
          1.6436543110000001,
          1.575713818,
          1.693407204,
          1.7019631510000002,
          1.575951321,
          1.672457324,
          1.664683944,
          1.6092664540000001,
          1.576138876,
          3.125054425,
          0.996413096,
          0.962528853,
          0.953506285,
          0.9874306650000001,
          0.947477604,
          0.986009702,
          0.9486437510000001,
          0.9766967540000001,
          0.9475818500000001,
          0.991430133,
          0.363354404,
          0.361270258,
          0.391785413,
          0.362657294,
          0.36500627300000005,
          0.371078183,
          0.36441432500000004,
          0.37061255,
          0.360128059
         ],
         "x0": " ",
         "xaxis": "x",
         "y": [
          "netcdf4-[1536, 512, 512]-[1536, 512, 128]",
          "netcdf4-[1536, 512, 512]-[1536, 512, 128]",
          "netcdf4-[1536, 512, 512]-[1536, 512, 128]",
          "netcdf4-[1536, 512, 512]-[1536, 512, 128]",
          "netcdf4-[1536, 512, 512]-[1536, 512, 128]",
          "netcdf4-[1536, 512, 512]-[1536, 512, 128]",
          "netcdf4-[1536, 512, 512]-[1536, 512, 128]",
          "netcdf4-[1536, 512, 512]-[1536, 512, 128]",
          "netcdf4-[1536, 512, 512]-[1536, 512, 128]",
          "netcdf4-[1536, 512, 512]-[1536, 512, 128]",
          "netcdf4-[1536, 512, 512]-[1536, 512, 256]",
          "netcdf4-[1536, 512, 512]-[1536, 512, 256]",
          "netcdf4-[1536, 512, 512]-[1536, 512, 256]",
          "netcdf4-[1536, 512, 512]-[1536, 512, 256]",
          "netcdf4-[1536, 512, 512]-[1536, 512, 256]",
          "netcdf4-[1536, 512, 512]-[1536, 512, 256]",
          "netcdf4-[1536, 512, 512]-[1536, 512, 256]",
          "netcdf4-[1536, 512, 512]-[1536, 512, 256]",
          "netcdf4-[1536, 512, 512]-[1536, 512, 256]",
          "netcdf4-[1536, 512, 512]-[1536, 512, 256]",
          "netcdf4-[1536, 512, 512]-[1536, 512, 512]",
          "netcdf4-[1536, 512, 512]-[1536, 512, 512]",
          "netcdf4-[1536, 512, 512]-[1536, 512, 512]",
          "netcdf4-[1536, 512, 512]-[1536, 512, 512]",
          "netcdf4-[1536, 512, 512]-[1536, 512, 512]",
          "netcdf4-[1536, 512, 512]-[1536, 512, 512]",
          "netcdf4-[1536, 512, 512]-[1536, 512, 512]",
          "netcdf4-[1536, 512, 512]-[1536, 512, 512]",
          "netcdf4-[1536, 512, 512]-[1536, 512, 512]",
          "netcdf4-[1536, 512, 512]-[1536, 512, 512]"
         ],
         "y0": " ",
         "yaxis": "y"
        },
        {
         "alignmentgroup": "True",
         "box": {
          "visible": false
         },
         "hovertemplate": "engine=hdf5<br>time taken=%{x}<br>format=%{y}<extra></extra>",
         "legendgroup": "hdf5",
         "marker": {
          "color": "#00cc96"
         },
         "name": "hdf5",
         "offsetgroup": "hdf5",
         "orientation": "h",
         "scalegroup": "True",
         "showlegend": true,
         "type": "violin",
         "x": [
          3.6333989950000003,
          1.487018424,
          1.4578746,
          1.449845683,
          1.45085663,
          1.4668470980000001,
          1.45771918,
          1.505242134,
          1.449804507,
          1.453581631,
          3.120725102,
          0.985057551,
          0.9350957080000001,
          0.9270261150000001,
          0.886485327,
          0.9145776550000001,
          0.8758912310000001,
          0.87422285,
          0.87592463,
          0.8744445670000001,
          0.8343976740000001,
          0.30380218800000003,
          0.265694445,
          0.30102369500000004,
          0.262829486,
          0.27002368,
          0.264752193,
          0.262354666,
          0.26100444300000003,
          0.262556783
         ],
         "x0": " ",
         "xaxis": "x",
         "y": [
          "hdf5-[1536, 512, 512]-[1536, 512, 128]",
          "hdf5-[1536, 512, 512]-[1536, 512, 128]",
          "hdf5-[1536, 512, 512]-[1536, 512, 128]",
          "hdf5-[1536, 512, 512]-[1536, 512, 128]",
          "hdf5-[1536, 512, 512]-[1536, 512, 128]",
          "hdf5-[1536, 512, 512]-[1536, 512, 128]",
          "hdf5-[1536, 512, 512]-[1536, 512, 128]",
          "hdf5-[1536, 512, 512]-[1536, 512, 128]",
          "hdf5-[1536, 512, 512]-[1536, 512, 128]",
          "hdf5-[1536, 512, 512]-[1536, 512, 128]",
          "hdf5-[1536, 512, 512]-[1536, 512, 256]",
          "hdf5-[1536, 512, 512]-[1536, 512, 256]",
          "hdf5-[1536, 512, 512]-[1536, 512, 256]",
          "hdf5-[1536, 512, 512]-[1536, 512, 256]",
          "hdf5-[1536, 512, 512]-[1536, 512, 256]",
          "hdf5-[1536, 512, 512]-[1536, 512, 256]",
          "hdf5-[1536, 512, 512]-[1536, 512, 256]",
          "hdf5-[1536, 512, 512]-[1536, 512, 256]",
          "hdf5-[1536, 512, 512]-[1536, 512, 256]",
          "hdf5-[1536, 512, 512]-[1536, 512, 256]",
          "hdf5-[1536, 512, 512]-[1536, 512, 512]",
          "hdf5-[1536, 512, 512]-[1536, 512, 512]",
          "hdf5-[1536, 512, 512]-[1536, 512, 512]",
          "hdf5-[1536, 512, 512]-[1536, 512, 512]",
          "hdf5-[1536, 512, 512]-[1536, 512, 512]",
          "hdf5-[1536, 512, 512]-[1536, 512, 512]",
          "hdf5-[1536, 512, 512]-[1536, 512, 512]",
          "hdf5-[1536, 512, 512]-[1536, 512, 512]",
          "hdf5-[1536, 512, 512]-[1536, 512, 512]",
          "hdf5-[1536, 512, 512]-[1536, 512, 512]"
         ],
         "y0": " ",
         "yaxis": "y"
        },
        {
         "alignmentgroup": "True",
         "box": {
          "visible": false
         },
         "hovertemplate": "engine=hdf5-c<br>time taken=%{x}<br>format=%{y}<extra></extra>",
         "legendgroup": "hdf5-c",
         "marker": {
          "color": "#ab63fa"
         },
         "name": "hdf5-c",
         "offsetgroup": "hdf5-c",
         "orientation": "h",
         "scalegroup": "True",
         "showlegend": true,
         "type": "violin",
         "x": [
          0.40457299999999996,
          0.47253199999999995,
          0.40116799999999997,
          0.401652,
          0.417379,
          0.375791,
          0.375793,
          0.38658499999999996,
          0.387801,
          0.385051
         ],
         "x0": " ",
         "xaxis": "x",
         "y": [
          "hdf5-c-402653184-402653184",
          "hdf5-c-402653184-402653184",
          "hdf5-c-402653184-402653184",
          "hdf5-c-402653184-402653184",
          "hdf5-c-402653184-402653184",
          "hdf5-c-402653184-402653184",
          "hdf5-c-402653184-402653184",
          "hdf5-c-402653184-402653184",
          "hdf5-c-402653184-402653184",
          "hdf5-c-402653184-402653184"
         ],
         "y0": " ",
         "yaxis": "y"
        },
        {
         "alignmentgroup": "True",
         "box": {
          "visible": false
         },
         "hovertemplate": "engine=hdf5-subfiling<br>time taken=%{x}<br>format=%{y}<extra></extra>",
         "legendgroup": "hdf5-subfiling",
         "marker": {
          "color": "#FFA15A"
         },
         "name": "hdf5-subfiling",
         "offsetgroup": "hdf5-subfiling",
         "orientation": "h",
         "scalegroup": "True",
         "showlegend": true,
         "type": "violin",
         "x": [
          0.24542000000000003,
          0.35334699999999997,
          0.266121,
          0.23990399999999998,
          0.23974099999999998,
          0.241447,
          0.240508,
          0.240274,
          0.24043499999999998,
          0.238611
         ],
         "x0": " ",
         "xaxis": "x",
         "y": [
          "hdf5-subfiling-134217728-134217728",
          "hdf5-subfiling-134217728-134217728",
          "hdf5-subfiling-134217728-134217728",
          "hdf5-subfiling-134217728-134217728",
          "hdf5-subfiling-134217728-134217728",
          "hdf5-subfiling-134217728-134217728",
          "hdf5-subfiling-134217728-134217728",
          "hdf5-subfiling-134217728-134217728",
          "hdf5-subfiling-134217728-134217728",
          "hdf5-subfiling-134217728-134217728"
         ],
         "y0": " ",
         "yaxis": "y"
        },
        {
         "alignmentgroup": "True",
         "box": {
          "visible": false
         },
         "hovertemplate": "engine=hdf5-async<br>time taken=%{x}<br>format=%{y}<extra></extra>",
         "legendgroup": "hdf5-async",
         "marker": {
          "color": "#19d3f3"
         },
         "name": "hdf5-async",
         "offsetgroup": "hdf5-async",
         "orientation": "h",
         "scalegroup": "True",
         "showlegend": true,
         "type": "violin",
         "x": [
          0.488818,
          0.15956199999999998,
          0.130557,
          0.128801,
          0.147416,
          0.134387,
          0.135026,
          0.130529,
          0.17788,
          0.142269
         ],
         "x0": " ",
         "xaxis": "x",
         "y": [
          "hdf5-async-134217728-134217728",
          "hdf5-async-134217728-134217728",
          "hdf5-async-134217728-134217728",
          "hdf5-async-134217728-134217728",
          "hdf5-async-134217728-134217728",
          "hdf5-async-134217728-134217728",
          "hdf5-async-134217728-134217728",
          "hdf5-async-134217728-134217728",
          "hdf5-async-134217728-134217728",
          "hdf5-async-134217728-134217728"
         ],
         "y0": " ",
         "yaxis": "y"
        },
        {
         "alignmentgroup": "True",
         "box": {
          "visible": false
         },
         "hovertemplate": "engine=netcdf4-c<br>time taken=%{x}<br>format=%{y}<extra></extra>",
         "legendgroup": "netcdf4-c",
         "marker": {
          "color": "#FF6692"
         },
         "name": "netcdf4-c",
         "offsetgroup": "netcdf4-c",
         "orientation": "h",
         "scalegroup": "True",
         "showlegend": true,
         "type": "violin",
         "x": [
          0.602101,
          0.261602,
          0.165743,
          0.160828,
          0.160964,
          0.162638,
          0.166608,
          0.16283,
          0.161029,
          0.162787,
          0.16119,
          0.165231,
          0.162049,
          0.228676,
          0.15734299999999998,
          0.156792,
          0.157254,
          0.174684,
          0.17216099999999998,
          0.17028000000000001,
          0.163677,
          0.164027,
          0.167008,
          0.16619799999999998,
          0.16371000000000002,
          0.249969,
          0.163681,
          0.194128,
          0.170982,
          0.167784,
          0.166202,
          0.158468,
          0.157573,
          0.157942,
          0.159853,
          0.163013,
          0.165434,
          0.250596,
          0.165705,
          0.165467,
          0.16472699999999998,
          0.16599000000000003,
          0.16185000000000002,
          0.161995,
          0.161858,
          0.161,
          0.161017,
          0.161511,
          0.16245199999999999,
          0.253677,
          0.16170099999999998,
          0.16125899999999999,
          0.161732,
          0.16175,
          0.162327,
          0.16173099999999999,
          0.161686,
          0.163355,
          0.166156,
          0.187822,
          0.17108099999999998,
          0.213359,
          0.279502,
          0.210704,
          0.23077199999999998,
          0.172618,
          0.168672,
          0.165784,
          0.16625,
          0.168162,
          0.164674,
          0.163358,
          0.164461,
          0.263136,
          0.168314,
          0.168706,
          0.166732,
          0.162468,
          0.163489,
          0.16236299999999998,
          0.160739,
          0.16452799999999998,
          0.161527,
          0.161993,
          0.163982,
          0.252378,
          0.16166000000000003,
          0.161906,
          0.164388,
          0.17304799999999998,
          0.16678199999999999,
          0.165329,
          0.16675,
          0.163158,
          0.161529,
          0.16248,
          0.173807,
          0.281233,
          0.186132,
          0.226984
         ],
         "x0": " ",
         "xaxis": "x",
         "y": [
          "netcdf4-c-134217728-134217728",
          "netcdf4-c-134217728-134217728",
          "netcdf4-c-134217728-134217728",
          "netcdf4-c-134217728-134217728",
          "netcdf4-c-134217728-134217728",
          "netcdf4-c-134217728-134217728",
          "netcdf4-c-134217728-134217728",
          "netcdf4-c-134217728-134217728",
          "netcdf4-c-134217728-134217728",
          "netcdf4-c-134217728-134217728",
          "netcdf4-c-134217728-134217728",
          "netcdf4-c-134217728-134217728",
          "netcdf4-c-134217728-134217728",
          "netcdf4-c-134217728-134217728",
          "netcdf4-c-134217728-134217728",
          "netcdf4-c-134217728-134217728",
          "netcdf4-c-134217728-134217728",
          "netcdf4-c-134217728-134217728",
          "netcdf4-c-134217728-134217728",
          "netcdf4-c-134217728-134217728",
          "netcdf4-c-134217728-134217728",
          "netcdf4-c-134217728-134217728",
          "netcdf4-c-134217728-134217728",
          "netcdf4-c-134217728-134217728",
          "netcdf4-c-134217728-134217728",
          "netcdf4-c-134217728-134217728",
          "netcdf4-c-134217728-134217728",
          "netcdf4-c-134217728-134217728",
          "netcdf4-c-134217728-134217728",
          "netcdf4-c-134217728-134217728",
          "netcdf4-c-134217728-134217728",
          "netcdf4-c-134217728-134217728",
          "netcdf4-c-134217728-134217728",
          "netcdf4-c-134217728-134217728",
          "netcdf4-c-134217728-134217728",
          "netcdf4-c-134217728-134217728",
          "netcdf4-c-134217728-134217728",
          "netcdf4-c-134217728-134217728",
          "netcdf4-c-134217728-134217728",
          "netcdf4-c-134217728-134217728",
          "netcdf4-c-134217728-134217728",
          "netcdf4-c-134217728-134217728",
          "netcdf4-c-134217728-134217728",
          "netcdf4-c-134217728-134217728",
          "netcdf4-c-134217728-134217728",
          "netcdf4-c-134217728-134217728",
          "netcdf4-c-134217728-134217728",
          "netcdf4-c-134217728-134217728",
          "netcdf4-c-134217728-134217728",
          "netcdf4-c-134217728-134217728",
          "netcdf4-c-134217728-134217728",
          "netcdf4-c-134217728-134217728",
          "netcdf4-c-134217728-134217728",
          "netcdf4-c-134217728-134217728",
          "netcdf4-c-134217728-134217728",
          "netcdf4-c-134217728-134217728",
          "netcdf4-c-134217728-134217728",
          "netcdf4-c-134217728-134217728",
          "netcdf4-c-134217728-134217728",
          "netcdf4-c-134217728-134217728",
          "netcdf4-c-134217728-134217728",
          "netcdf4-c-134217728-134217728",
          "netcdf4-c-134217728-134217728",
          "netcdf4-c-134217728-134217728",
          "netcdf4-c-134217728-134217728",
          "netcdf4-c-134217728-134217728",
          "netcdf4-c-134217728-134217728",
          "netcdf4-c-134217728-134217728",
          "netcdf4-c-134217728-134217728",
          "netcdf4-c-134217728-134217728",
          "netcdf4-c-134217728-134217728",
          "netcdf4-c-134217728-134217728",
          "netcdf4-c-134217728-134217728",
          "netcdf4-c-134217728-134217728",
          "netcdf4-c-134217728-134217728",
          "netcdf4-c-134217728-134217728",
          "netcdf4-c-134217728-134217728",
          "netcdf4-c-134217728-134217728",
          "netcdf4-c-134217728-134217728",
          "netcdf4-c-134217728-134217728",
          "netcdf4-c-134217728-134217728",
          "netcdf4-c-134217728-134217728",
          "netcdf4-c-134217728-134217728",
          "netcdf4-c-134217728-134217728",
          "netcdf4-c-134217728-134217728",
          "netcdf4-c-134217728-134217728",
          "netcdf4-c-134217728-134217728",
          "netcdf4-c-134217728-134217728",
          "netcdf4-c-134217728-134217728",
          "netcdf4-c-134217728-134217728",
          "netcdf4-c-134217728-134217728",
          "netcdf4-c-134217728-134217728",
          "netcdf4-c-134217728-134217728",
          "netcdf4-c-134217728-134217728",
          "netcdf4-c-134217728-134217728",
          "netcdf4-c-134217728-134217728",
          "netcdf4-c-134217728-134217728",
          "netcdf4-c-134217728-134217728",
          "netcdf4-c-134217728-134217728",
          "netcdf4-c-134217728-134217728"
         ],
         "y0": " ",
         "yaxis": "y"
        }
       ],
       "layout": {
        "legend": {
         "title": {
          "text": "engine"
         },
         "tracegroupgap": 0
        },
        "margin": {
         "t": 60
        },
        "template": {
         "data": {
          "bar": [
           {
            "error_x": {
             "color": "#2a3f5f"
            },
            "error_y": {
             "color": "#2a3f5f"
            },
            "marker": {
             "line": {
              "color": "#E5ECF6",
              "width": 0.5
             },
             "pattern": {
              "fillmode": "overlay",
              "size": 10,
              "solidity": 0.2
             }
            },
            "type": "bar"
           }
          ],
          "barpolar": [
           {
            "marker": {
             "line": {
              "color": "#E5ECF6",
              "width": 0.5
             },
             "pattern": {
              "fillmode": "overlay",
              "size": 10,
              "solidity": 0.2
             }
            },
            "type": "barpolar"
           }
          ],
          "carpet": [
           {
            "aaxis": {
             "endlinecolor": "#2a3f5f",
             "gridcolor": "white",
             "linecolor": "white",
             "minorgridcolor": "white",
             "startlinecolor": "#2a3f5f"
            },
            "baxis": {
             "endlinecolor": "#2a3f5f",
             "gridcolor": "white",
             "linecolor": "white",
             "minorgridcolor": "white",
             "startlinecolor": "#2a3f5f"
            },
            "type": "carpet"
           }
          ],
          "choropleth": [
           {
            "colorbar": {
             "outlinewidth": 0,
             "ticks": ""
            },
            "type": "choropleth"
           }
          ],
          "contour": [
           {
            "colorbar": {
             "outlinewidth": 0,
             "ticks": ""
            },
            "colorscale": [
             [
              0,
              "#0d0887"
             ],
             [
              0.1111111111111111,
              "#46039f"
             ],
             [
              0.2222222222222222,
              "#7201a8"
             ],
             [
              0.3333333333333333,
              "#9c179e"
             ],
             [
              0.4444444444444444,
              "#bd3786"
             ],
             [
              0.5555555555555556,
              "#d8576b"
             ],
             [
              0.6666666666666666,
              "#ed7953"
             ],
             [
              0.7777777777777778,
              "#fb9f3a"
             ],
             [
              0.8888888888888888,
              "#fdca26"
             ],
             [
              1,
              "#f0f921"
             ]
            ],
            "type": "contour"
           }
          ],
          "contourcarpet": [
           {
            "colorbar": {
             "outlinewidth": 0,
             "ticks": ""
            },
            "type": "contourcarpet"
           }
          ],
          "heatmap": [
           {
            "colorbar": {
             "outlinewidth": 0,
             "ticks": ""
            },
            "colorscale": [
             [
              0,
              "#0d0887"
             ],
             [
              0.1111111111111111,
              "#46039f"
             ],
             [
              0.2222222222222222,
              "#7201a8"
             ],
             [
              0.3333333333333333,
              "#9c179e"
             ],
             [
              0.4444444444444444,
              "#bd3786"
             ],
             [
              0.5555555555555556,
              "#d8576b"
             ],
             [
              0.6666666666666666,
              "#ed7953"
             ],
             [
              0.7777777777777778,
              "#fb9f3a"
             ],
             [
              0.8888888888888888,
              "#fdca26"
             ],
             [
              1,
              "#f0f921"
             ]
            ],
            "type": "heatmap"
           }
          ],
          "heatmapgl": [
           {
            "colorbar": {
             "outlinewidth": 0,
             "ticks": ""
            },
            "colorscale": [
             [
              0,
              "#0d0887"
             ],
             [
              0.1111111111111111,
              "#46039f"
             ],
             [
              0.2222222222222222,
              "#7201a8"
             ],
             [
              0.3333333333333333,
              "#9c179e"
             ],
             [
              0.4444444444444444,
              "#bd3786"
             ],
             [
              0.5555555555555556,
              "#d8576b"
             ],
             [
              0.6666666666666666,
              "#ed7953"
             ],
             [
              0.7777777777777778,
              "#fb9f3a"
             ],
             [
              0.8888888888888888,
              "#fdca26"
             ],
             [
              1,
              "#f0f921"
             ]
            ],
            "type": "heatmapgl"
           }
          ],
          "histogram": [
           {
            "marker": {
             "pattern": {
              "fillmode": "overlay",
              "size": 10,
              "solidity": 0.2
             }
            },
            "type": "histogram"
           }
          ],
          "histogram2d": [
           {
            "colorbar": {
             "outlinewidth": 0,
             "ticks": ""
            },
            "colorscale": [
             [
              0,
              "#0d0887"
             ],
             [
              0.1111111111111111,
              "#46039f"
             ],
             [
              0.2222222222222222,
              "#7201a8"
             ],
             [
              0.3333333333333333,
              "#9c179e"
             ],
             [
              0.4444444444444444,
              "#bd3786"
             ],
             [
              0.5555555555555556,
              "#d8576b"
             ],
             [
              0.6666666666666666,
              "#ed7953"
             ],
             [
              0.7777777777777778,
              "#fb9f3a"
             ],
             [
              0.8888888888888888,
              "#fdca26"
             ],
             [
              1,
              "#f0f921"
             ]
            ],
            "type": "histogram2d"
           }
          ],
          "histogram2dcontour": [
           {
            "colorbar": {
             "outlinewidth": 0,
             "ticks": ""
            },
            "colorscale": [
             [
              0,
              "#0d0887"
             ],
             [
              0.1111111111111111,
              "#46039f"
             ],
             [
              0.2222222222222222,
              "#7201a8"
             ],
             [
              0.3333333333333333,
              "#9c179e"
             ],
             [
              0.4444444444444444,
              "#bd3786"
             ],
             [
              0.5555555555555556,
              "#d8576b"
             ],
             [
              0.6666666666666666,
              "#ed7953"
             ],
             [
              0.7777777777777778,
              "#fb9f3a"
             ],
             [
              0.8888888888888888,
              "#fdca26"
             ],
             [
              1,
              "#f0f921"
             ]
            ],
            "type": "histogram2dcontour"
           }
          ],
          "mesh3d": [
           {
            "colorbar": {
             "outlinewidth": 0,
             "ticks": ""
            },
            "type": "mesh3d"
           }
          ],
          "parcoords": [
           {
            "line": {
             "colorbar": {
              "outlinewidth": 0,
              "ticks": ""
             }
            },
            "type": "parcoords"
           }
          ],
          "pie": [
           {
            "automargin": true,
            "type": "pie"
           }
          ],
          "scatter": [
           {
            "fillpattern": {
             "fillmode": "overlay",
             "size": 10,
             "solidity": 0.2
            },
            "type": "scatter"
           }
          ],
          "scatter3d": [
           {
            "line": {
             "colorbar": {
              "outlinewidth": 0,
              "ticks": ""
             }
            },
            "marker": {
             "colorbar": {
              "outlinewidth": 0,
              "ticks": ""
             }
            },
            "type": "scatter3d"
           }
          ],
          "scattercarpet": [
           {
            "marker": {
             "colorbar": {
              "outlinewidth": 0,
              "ticks": ""
             }
            },
            "type": "scattercarpet"
           }
          ],
          "scattergeo": [
           {
            "marker": {
             "colorbar": {
              "outlinewidth": 0,
              "ticks": ""
             }
            },
            "type": "scattergeo"
           }
          ],
          "scattergl": [
           {
            "marker": {
             "colorbar": {
              "outlinewidth": 0,
              "ticks": ""
             }
            },
            "type": "scattergl"
           }
          ],
          "scattermapbox": [
           {
            "marker": {
             "colorbar": {
              "outlinewidth": 0,
              "ticks": ""
             }
            },
            "type": "scattermapbox"
           }
          ],
          "scatterpolar": [
           {
            "marker": {
             "colorbar": {
              "outlinewidth": 0,
              "ticks": ""
             }
            },
            "type": "scatterpolar"
           }
          ],
          "scatterpolargl": [
           {
            "marker": {
             "colorbar": {
              "outlinewidth": 0,
              "ticks": ""
             }
            },
            "type": "scatterpolargl"
           }
          ],
          "scatterternary": [
           {
            "marker": {
             "colorbar": {
              "outlinewidth": 0,
              "ticks": ""
             }
            },
            "type": "scatterternary"
           }
          ],
          "surface": [
           {
            "colorbar": {
             "outlinewidth": 0,
             "ticks": ""
            },
            "colorscale": [
             [
              0,
              "#0d0887"
             ],
             [
              0.1111111111111111,
              "#46039f"
             ],
             [
              0.2222222222222222,
              "#7201a8"
             ],
             [
              0.3333333333333333,
              "#9c179e"
             ],
             [
              0.4444444444444444,
              "#bd3786"
             ],
             [
              0.5555555555555556,
              "#d8576b"
             ],
             [
              0.6666666666666666,
              "#ed7953"
             ],
             [
              0.7777777777777778,
              "#fb9f3a"
             ],
             [
              0.8888888888888888,
              "#fdca26"
             ],
             [
              1,
              "#f0f921"
             ]
            ],
            "type": "surface"
           }
          ],
          "table": [
           {
            "cells": {
             "fill": {
              "color": "#EBF0F8"
             },
             "line": {
              "color": "white"
             }
            },
            "header": {
             "fill": {
              "color": "#C8D4E3"
             },
             "line": {
              "color": "white"
             }
            },
            "type": "table"
           }
          ]
         },
         "layout": {
          "annotationdefaults": {
           "arrowcolor": "#2a3f5f",
           "arrowhead": 0,
           "arrowwidth": 1
          },
          "autotypenumbers": "strict",
          "coloraxis": {
           "colorbar": {
            "outlinewidth": 0,
            "ticks": ""
           }
          },
          "colorscale": {
           "diverging": [
            [
             0,
             "#8e0152"
            ],
            [
             0.1,
             "#c51b7d"
            ],
            [
             0.2,
             "#de77ae"
            ],
            [
             0.3,
             "#f1b6da"
            ],
            [
             0.4,
             "#fde0ef"
            ],
            [
             0.5,
             "#f7f7f7"
            ],
            [
             0.6,
             "#e6f5d0"
            ],
            [
             0.7,
             "#b8e186"
            ],
            [
             0.8,
             "#7fbc41"
            ],
            [
             0.9,
             "#4d9221"
            ],
            [
             1,
             "#276419"
            ]
           ],
           "sequential": [
            [
             0,
             "#0d0887"
            ],
            [
             0.1111111111111111,
             "#46039f"
            ],
            [
             0.2222222222222222,
             "#7201a8"
            ],
            [
             0.3333333333333333,
             "#9c179e"
            ],
            [
             0.4444444444444444,
             "#bd3786"
            ],
            [
             0.5555555555555556,
             "#d8576b"
            ],
            [
             0.6666666666666666,
             "#ed7953"
            ],
            [
             0.7777777777777778,
             "#fb9f3a"
            ],
            [
             0.8888888888888888,
             "#fdca26"
            ],
            [
             1,
             "#f0f921"
            ]
           ],
           "sequentialminus": [
            [
             0,
             "#0d0887"
            ],
            [
             0.1111111111111111,
             "#46039f"
            ],
            [
             0.2222222222222222,
             "#7201a8"
            ],
            [
             0.3333333333333333,
             "#9c179e"
            ],
            [
             0.4444444444444444,
             "#bd3786"
            ],
            [
             0.5555555555555556,
             "#d8576b"
            ],
            [
             0.6666666666666666,
             "#ed7953"
            ],
            [
             0.7777777777777778,
             "#fb9f3a"
            ],
            [
             0.8888888888888888,
             "#fdca26"
            ],
            [
             1,
             "#f0f921"
            ]
           ]
          },
          "colorway": [
           "#636efa",
           "#EF553B",
           "#00cc96",
           "#ab63fa",
           "#FFA15A",
           "#19d3f3",
           "#FF6692",
           "#B6E880",
           "#FF97FF",
           "#FECB52"
          ],
          "font": {
           "color": "#2a3f5f"
          },
          "geo": {
           "bgcolor": "white",
           "lakecolor": "white",
           "landcolor": "#E5ECF6",
           "showlakes": true,
           "showland": true,
           "subunitcolor": "white"
          },
          "hoverlabel": {
           "align": "left"
          },
          "hovermode": "closest",
          "mapbox": {
           "style": "light"
          },
          "paper_bgcolor": "white",
          "plot_bgcolor": "#E5ECF6",
          "polar": {
           "angularaxis": {
            "gridcolor": "white",
            "linecolor": "white",
            "ticks": ""
           },
           "bgcolor": "#E5ECF6",
           "radialaxis": {
            "gridcolor": "white",
            "linecolor": "white",
            "ticks": ""
           }
          },
          "scene": {
           "xaxis": {
            "backgroundcolor": "#E5ECF6",
            "gridcolor": "white",
            "gridwidth": 2,
            "linecolor": "white",
            "showbackground": true,
            "ticks": "",
            "zerolinecolor": "white"
           },
           "yaxis": {
            "backgroundcolor": "#E5ECF6",
            "gridcolor": "white",
            "gridwidth": 2,
            "linecolor": "white",
            "showbackground": true,
            "ticks": "",
            "zerolinecolor": "white"
           },
           "zaxis": {
            "backgroundcolor": "#E5ECF6",
            "gridcolor": "white",
            "gridwidth": 2,
            "linecolor": "white",
            "showbackground": true,
            "ticks": "",
            "zerolinecolor": "white"
           }
          },
          "shapedefaults": {
           "line": {
            "color": "#2a3f5f"
           }
          },
          "ternary": {
           "aaxis": {
            "gridcolor": "white",
            "linecolor": "white",
            "ticks": ""
           },
           "baxis": {
            "gridcolor": "white",
            "linecolor": "white",
            "ticks": ""
           },
           "bgcolor": "#E5ECF6",
           "caxis": {
            "gridcolor": "white",
            "linecolor": "white",
            "ticks": ""
           }
          },
          "title": {
           "x": 0.05
          },
          "xaxis": {
           "automargin": true,
           "gridcolor": "white",
           "linecolor": "white",
           "ticks": "",
           "title": {
            "standoff": 15
           },
           "zerolinecolor": "white",
           "zerolinewidth": 2
          },
          "yaxis": {
           "automargin": true,
           "gridcolor": "white",
           "linecolor": "white",
           "ticks": "",
           "title": {
            "standoff": 15
           },
           "zerolinecolor": "white",
           "zerolinewidth": 2
          }
         }
        },
        "violinmode": "group",
        "xaxis": {
         "anchor": "y",
         "domain": [
          0,
          1
         ],
         "title": {
          "text": "time taken"
         },
         "type": "log"
        },
        "yaxis": {
         "anchor": "x",
         "domain": [
          0,
          1
         ],
         "title": {
          "text": "format"
         }
        }
       }
      },
      "text/html": [
       "<div>                            <div id=\"60c246b3-c60a-4175-bf56-0cfc87d2875a\" class=\"plotly-graph-div\" style=\"height:525px; width:100%;\"></div>            <script type=\"text/javascript\">                require([\"plotly\"], function(Plotly) {                    window.PLOTLYENV=window.PLOTLYENV || {};                                    if (document.getElementById(\"60c246b3-c60a-4175-bf56-0cfc87d2875a\")) {                    Plotly.newPlot(                        \"60c246b3-c60a-4175-bf56-0cfc87d2875a\",                        [{\"alignmentgroup\":\"True\",\"box\":{\"visible\":false},\"hovertemplate\":\"engine=zarr\\u003cbr\\u003etime taken=%{x}\\u003cbr\\u003eformat=%{y}\\u003cextra\\u003e\\u003c\\u002fextra\\u003e\",\"legendgroup\":\"zarr\",\"marker\":{\"color\":\"#636efa\"},\"name\":\"zarr\",\"offsetgroup\":\"zarr\",\"orientation\":\"h\",\"scalegroup\":\"True\",\"showlegend\":true,\"x\":[1.561470602,1.119593804,1.131029809,1.100024496,1.106562787,1.08532757,1.084824497,1.07139167,1.062812411,1.072172126,3.524663635,1.640390784,1.58037417,1.498136551,1.499260701,1.471429969,1.441589899,1.5037154799999999,1.440095022,1.437127042,4.696084097,2.482777822,2.385498438,2.281798491,2.308118287,2.266521942,2.249475183,2.2242104400000002,2.264185753,2.252098626],\"x0\":\" \",\"xaxis\":\"x\",\"y\":[\"zarr-[1536, 512, 512]-[1536, 512, 128]\",\"zarr-[1536, 512, 512]-[1536, 512, 128]\",\"zarr-[1536, 512, 512]-[1536, 512, 128]\",\"zarr-[1536, 512, 512]-[1536, 512, 128]\",\"zarr-[1536, 512, 512]-[1536, 512, 128]\",\"zarr-[1536, 512, 512]-[1536, 512, 128]\",\"zarr-[1536, 512, 512]-[1536, 512, 128]\",\"zarr-[1536, 512, 512]-[1536, 512, 128]\",\"zarr-[1536, 512, 512]-[1536, 512, 128]\",\"zarr-[1536, 512, 512]-[1536, 512, 128]\",\"zarr-[1536, 512, 512]-[1536, 512, 256]\",\"zarr-[1536, 512, 512]-[1536, 512, 256]\",\"zarr-[1536, 512, 512]-[1536, 512, 256]\",\"zarr-[1536, 512, 512]-[1536, 512, 256]\",\"zarr-[1536, 512, 512]-[1536, 512, 256]\",\"zarr-[1536, 512, 512]-[1536, 512, 256]\",\"zarr-[1536, 512, 512]-[1536, 512, 256]\",\"zarr-[1536, 512, 512]-[1536, 512, 256]\",\"zarr-[1536, 512, 512]-[1536, 512, 256]\",\"zarr-[1536, 512, 512]-[1536, 512, 256]\",\"zarr-[1536, 512, 512]-[1536, 512, 512]\",\"zarr-[1536, 512, 512]-[1536, 512, 512]\",\"zarr-[1536, 512, 512]-[1536, 512, 512]\",\"zarr-[1536, 512, 512]-[1536, 512, 512]\",\"zarr-[1536, 512, 512]-[1536, 512, 512]\",\"zarr-[1536, 512, 512]-[1536, 512, 512]\",\"zarr-[1536, 512, 512]-[1536, 512, 512]\",\"zarr-[1536, 512, 512]-[1536, 512, 512]\",\"zarr-[1536, 512, 512]-[1536, 512, 512]\",\"zarr-[1536, 512, 512]-[1536, 512, 512]\"],\"y0\":\" \",\"yaxis\":\"y\",\"type\":\"violin\"},{\"alignmentgroup\":\"True\",\"box\":{\"visible\":false},\"hovertemplate\":\"engine=netcdf4\\u003cbr\\u003etime taken=%{x}\\u003cbr\\u003eformat=%{y}\\u003cextra\\u003e\\u003c\\u002fextra\\u003e\",\"legendgroup\":\"netcdf4\",\"marker\":{\"color\":\"#EF553B\"},\"name\":\"netcdf4\",\"offsetgroup\":\"netcdf4\",\"orientation\":\"h\",\"scalegroup\":\"True\",\"showlegend\":true,\"x\":[2.503007032,1.6436543110000001,1.575713818,1.693407204,1.7019631510000002,1.575951321,1.672457324,1.664683944,1.6092664540000001,1.576138876,3.125054425,0.996413096,0.962528853,0.953506285,0.9874306650000001,0.947477604,0.986009702,0.9486437510000001,0.9766967540000001,0.9475818500000001,0.991430133,0.363354404,0.361270258,0.391785413,0.362657294,0.36500627300000005,0.371078183,0.36441432500000004,0.37061255,0.360128059],\"x0\":\" \",\"xaxis\":\"x\",\"y\":[\"netcdf4-[1536, 512, 512]-[1536, 512, 128]\",\"netcdf4-[1536, 512, 512]-[1536, 512, 128]\",\"netcdf4-[1536, 512, 512]-[1536, 512, 128]\",\"netcdf4-[1536, 512, 512]-[1536, 512, 128]\",\"netcdf4-[1536, 512, 512]-[1536, 512, 128]\",\"netcdf4-[1536, 512, 512]-[1536, 512, 128]\",\"netcdf4-[1536, 512, 512]-[1536, 512, 128]\",\"netcdf4-[1536, 512, 512]-[1536, 512, 128]\",\"netcdf4-[1536, 512, 512]-[1536, 512, 128]\",\"netcdf4-[1536, 512, 512]-[1536, 512, 128]\",\"netcdf4-[1536, 512, 512]-[1536, 512, 256]\",\"netcdf4-[1536, 512, 512]-[1536, 512, 256]\",\"netcdf4-[1536, 512, 512]-[1536, 512, 256]\",\"netcdf4-[1536, 512, 512]-[1536, 512, 256]\",\"netcdf4-[1536, 512, 512]-[1536, 512, 256]\",\"netcdf4-[1536, 512, 512]-[1536, 512, 256]\",\"netcdf4-[1536, 512, 512]-[1536, 512, 256]\",\"netcdf4-[1536, 512, 512]-[1536, 512, 256]\",\"netcdf4-[1536, 512, 512]-[1536, 512, 256]\",\"netcdf4-[1536, 512, 512]-[1536, 512, 256]\",\"netcdf4-[1536, 512, 512]-[1536, 512, 512]\",\"netcdf4-[1536, 512, 512]-[1536, 512, 512]\",\"netcdf4-[1536, 512, 512]-[1536, 512, 512]\",\"netcdf4-[1536, 512, 512]-[1536, 512, 512]\",\"netcdf4-[1536, 512, 512]-[1536, 512, 512]\",\"netcdf4-[1536, 512, 512]-[1536, 512, 512]\",\"netcdf4-[1536, 512, 512]-[1536, 512, 512]\",\"netcdf4-[1536, 512, 512]-[1536, 512, 512]\",\"netcdf4-[1536, 512, 512]-[1536, 512, 512]\",\"netcdf4-[1536, 512, 512]-[1536, 512, 512]\"],\"y0\":\" \",\"yaxis\":\"y\",\"type\":\"violin\"},{\"alignmentgroup\":\"True\",\"box\":{\"visible\":false},\"hovertemplate\":\"engine=hdf5\\u003cbr\\u003etime taken=%{x}\\u003cbr\\u003eformat=%{y}\\u003cextra\\u003e\\u003c\\u002fextra\\u003e\",\"legendgroup\":\"hdf5\",\"marker\":{\"color\":\"#00cc96\"},\"name\":\"hdf5\",\"offsetgroup\":\"hdf5\",\"orientation\":\"h\",\"scalegroup\":\"True\",\"showlegend\":true,\"x\":[3.6333989950000003,1.487018424,1.4578746,1.449845683,1.45085663,1.4668470980000001,1.45771918,1.505242134,1.449804507,1.453581631,3.120725102,0.985057551,0.9350957080000001,0.9270261150000001,0.886485327,0.9145776550000001,0.8758912310000001,0.87422285,0.87592463,0.8744445670000001,0.8343976740000001,0.30380218800000003,0.265694445,0.30102369500000004,0.262829486,0.27002368,0.264752193,0.262354666,0.26100444300000003,0.262556783],\"x0\":\" \",\"xaxis\":\"x\",\"y\":[\"hdf5-[1536, 512, 512]-[1536, 512, 128]\",\"hdf5-[1536, 512, 512]-[1536, 512, 128]\",\"hdf5-[1536, 512, 512]-[1536, 512, 128]\",\"hdf5-[1536, 512, 512]-[1536, 512, 128]\",\"hdf5-[1536, 512, 512]-[1536, 512, 128]\",\"hdf5-[1536, 512, 512]-[1536, 512, 128]\",\"hdf5-[1536, 512, 512]-[1536, 512, 128]\",\"hdf5-[1536, 512, 512]-[1536, 512, 128]\",\"hdf5-[1536, 512, 512]-[1536, 512, 128]\",\"hdf5-[1536, 512, 512]-[1536, 512, 128]\",\"hdf5-[1536, 512, 512]-[1536, 512, 256]\",\"hdf5-[1536, 512, 512]-[1536, 512, 256]\",\"hdf5-[1536, 512, 512]-[1536, 512, 256]\",\"hdf5-[1536, 512, 512]-[1536, 512, 256]\",\"hdf5-[1536, 512, 512]-[1536, 512, 256]\",\"hdf5-[1536, 512, 512]-[1536, 512, 256]\",\"hdf5-[1536, 512, 512]-[1536, 512, 256]\",\"hdf5-[1536, 512, 512]-[1536, 512, 256]\",\"hdf5-[1536, 512, 512]-[1536, 512, 256]\",\"hdf5-[1536, 512, 512]-[1536, 512, 256]\",\"hdf5-[1536, 512, 512]-[1536, 512, 512]\",\"hdf5-[1536, 512, 512]-[1536, 512, 512]\",\"hdf5-[1536, 512, 512]-[1536, 512, 512]\",\"hdf5-[1536, 512, 512]-[1536, 512, 512]\",\"hdf5-[1536, 512, 512]-[1536, 512, 512]\",\"hdf5-[1536, 512, 512]-[1536, 512, 512]\",\"hdf5-[1536, 512, 512]-[1536, 512, 512]\",\"hdf5-[1536, 512, 512]-[1536, 512, 512]\",\"hdf5-[1536, 512, 512]-[1536, 512, 512]\",\"hdf5-[1536, 512, 512]-[1536, 512, 512]\"],\"y0\":\" \",\"yaxis\":\"y\",\"type\":\"violin\"},{\"alignmentgroup\":\"True\",\"box\":{\"visible\":false},\"hovertemplate\":\"engine=hdf5-c\\u003cbr\\u003etime taken=%{x}\\u003cbr\\u003eformat=%{y}\\u003cextra\\u003e\\u003c\\u002fextra\\u003e\",\"legendgroup\":\"hdf5-c\",\"marker\":{\"color\":\"#ab63fa\"},\"name\":\"hdf5-c\",\"offsetgroup\":\"hdf5-c\",\"orientation\":\"h\",\"scalegroup\":\"True\",\"showlegend\":true,\"x\":[0.40457299999999996,0.47253199999999995,0.40116799999999997,0.401652,0.417379,0.375791,0.375793,0.38658499999999996,0.387801,0.385051],\"x0\":\" \",\"xaxis\":\"x\",\"y\":[\"hdf5-c-402653184-402653184\",\"hdf5-c-402653184-402653184\",\"hdf5-c-402653184-402653184\",\"hdf5-c-402653184-402653184\",\"hdf5-c-402653184-402653184\",\"hdf5-c-402653184-402653184\",\"hdf5-c-402653184-402653184\",\"hdf5-c-402653184-402653184\",\"hdf5-c-402653184-402653184\",\"hdf5-c-402653184-402653184\"],\"y0\":\" \",\"yaxis\":\"y\",\"type\":\"violin\"},{\"alignmentgroup\":\"True\",\"box\":{\"visible\":false},\"hovertemplate\":\"engine=hdf5-subfiling\\u003cbr\\u003etime taken=%{x}\\u003cbr\\u003eformat=%{y}\\u003cextra\\u003e\\u003c\\u002fextra\\u003e\",\"legendgroup\":\"hdf5-subfiling\",\"marker\":{\"color\":\"#FFA15A\"},\"name\":\"hdf5-subfiling\",\"offsetgroup\":\"hdf5-subfiling\",\"orientation\":\"h\",\"scalegroup\":\"True\",\"showlegend\":true,\"x\":[0.24542000000000003,0.35334699999999997,0.266121,0.23990399999999998,0.23974099999999998,0.241447,0.240508,0.240274,0.24043499999999998,0.238611],\"x0\":\" \",\"xaxis\":\"x\",\"y\":[\"hdf5-subfiling-134217728-134217728\",\"hdf5-subfiling-134217728-134217728\",\"hdf5-subfiling-134217728-134217728\",\"hdf5-subfiling-134217728-134217728\",\"hdf5-subfiling-134217728-134217728\",\"hdf5-subfiling-134217728-134217728\",\"hdf5-subfiling-134217728-134217728\",\"hdf5-subfiling-134217728-134217728\",\"hdf5-subfiling-134217728-134217728\",\"hdf5-subfiling-134217728-134217728\"],\"y0\":\" \",\"yaxis\":\"y\",\"type\":\"violin\"},{\"alignmentgroup\":\"True\",\"box\":{\"visible\":false},\"hovertemplate\":\"engine=hdf5-async\\u003cbr\\u003etime taken=%{x}\\u003cbr\\u003eformat=%{y}\\u003cextra\\u003e\\u003c\\u002fextra\\u003e\",\"legendgroup\":\"hdf5-async\",\"marker\":{\"color\":\"#19d3f3\"},\"name\":\"hdf5-async\",\"offsetgroup\":\"hdf5-async\",\"orientation\":\"h\",\"scalegroup\":\"True\",\"showlegend\":true,\"x\":[0.488818,0.15956199999999998,0.130557,0.128801,0.147416,0.134387,0.135026,0.130529,0.17788,0.142269],\"x0\":\" \",\"xaxis\":\"x\",\"y\":[\"hdf5-async-134217728-134217728\",\"hdf5-async-134217728-134217728\",\"hdf5-async-134217728-134217728\",\"hdf5-async-134217728-134217728\",\"hdf5-async-134217728-134217728\",\"hdf5-async-134217728-134217728\",\"hdf5-async-134217728-134217728\",\"hdf5-async-134217728-134217728\",\"hdf5-async-134217728-134217728\",\"hdf5-async-134217728-134217728\"],\"y0\":\" \",\"yaxis\":\"y\",\"type\":\"violin\"},{\"alignmentgroup\":\"True\",\"box\":{\"visible\":false},\"hovertemplate\":\"engine=netcdf4-c\\u003cbr\\u003etime taken=%{x}\\u003cbr\\u003eformat=%{y}\\u003cextra\\u003e\\u003c\\u002fextra\\u003e\",\"legendgroup\":\"netcdf4-c\",\"marker\":{\"color\":\"#FF6692\"},\"name\":\"netcdf4-c\",\"offsetgroup\":\"netcdf4-c\",\"orientation\":\"h\",\"scalegroup\":\"True\",\"showlegend\":true,\"x\":[0.602101,0.261602,0.165743,0.160828,0.160964,0.162638,0.166608,0.16283,0.161029,0.162787,0.16119,0.165231,0.162049,0.228676,0.15734299999999998,0.156792,0.157254,0.174684,0.17216099999999998,0.17028000000000001,0.163677,0.164027,0.167008,0.16619799999999998,0.16371000000000002,0.249969,0.163681,0.194128,0.170982,0.167784,0.166202,0.158468,0.157573,0.157942,0.159853,0.163013,0.165434,0.250596,0.165705,0.165467,0.16472699999999998,0.16599000000000003,0.16185000000000002,0.161995,0.161858,0.161,0.161017,0.161511,0.16245199999999999,0.253677,0.16170099999999998,0.16125899999999999,0.161732,0.16175,0.162327,0.16173099999999999,0.161686,0.163355,0.166156,0.187822,0.17108099999999998,0.213359,0.279502,0.210704,0.23077199999999998,0.172618,0.168672,0.165784,0.16625,0.168162,0.164674,0.163358,0.164461,0.263136,0.168314,0.168706,0.166732,0.162468,0.163489,0.16236299999999998,0.160739,0.16452799999999998,0.161527,0.161993,0.163982,0.252378,0.16166000000000003,0.161906,0.164388,0.17304799999999998,0.16678199999999999,0.165329,0.16675,0.163158,0.161529,0.16248,0.173807,0.281233,0.186132,0.226984],\"x0\":\" \",\"xaxis\":\"x\",\"y\":[\"netcdf4-c-134217728-134217728\",\"netcdf4-c-134217728-134217728\",\"netcdf4-c-134217728-134217728\",\"netcdf4-c-134217728-134217728\",\"netcdf4-c-134217728-134217728\",\"netcdf4-c-134217728-134217728\",\"netcdf4-c-134217728-134217728\",\"netcdf4-c-134217728-134217728\",\"netcdf4-c-134217728-134217728\",\"netcdf4-c-134217728-134217728\",\"netcdf4-c-134217728-134217728\",\"netcdf4-c-134217728-134217728\",\"netcdf4-c-134217728-134217728\",\"netcdf4-c-134217728-134217728\",\"netcdf4-c-134217728-134217728\",\"netcdf4-c-134217728-134217728\",\"netcdf4-c-134217728-134217728\",\"netcdf4-c-134217728-134217728\",\"netcdf4-c-134217728-134217728\",\"netcdf4-c-134217728-134217728\",\"netcdf4-c-134217728-134217728\",\"netcdf4-c-134217728-134217728\",\"netcdf4-c-134217728-134217728\",\"netcdf4-c-134217728-134217728\",\"netcdf4-c-134217728-134217728\",\"netcdf4-c-134217728-134217728\",\"netcdf4-c-134217728-134217728\",\"netcdf4-c-134217728-134217728\",\"netcdf4-c-134217728-134217728\",\"netcdf4-c-134217728-134217728\",\"netcdf4-c-134217728-134217728\",\"netcdf4-c-134217728-134217728\",\"netcdf4-c-134217728-134217728\",\"netcdf4-c-134217728-134217728\",\"netcdf4-c-134217728-134217728\",\"netcdf4-c-134217728-134217728\",\"netcdf4-c-134217728-134217728\",\"netcdf4-c-134217728-134217728\",\"netcdf4-c-134217728-134217728\",\"netcdf4-c-134217728-134217728\",\"netcdf4-c-134217728-134217728\",\"netcdf4-c-134217728-134217728\",\"netcdf4-c-134217728-134217728\",\"netcdf4-c-134217728-134217728\",\"netcdf4-c-134217728-134217728\",\"netcdf4-c-134217728-134217728\",\"netcdf4-c-134217728-134217728\",\"netcdf4-c-134217728-134217728\",\"netcdf4-c-134217728-134217728\",\"netcdf4-c-134217728-134217728\",\"netcdf4-c-134217728-134217728\",\"netcdf4-c-134217728-134217728\",\"netcdf4-c-134217728-134217728\",\"netcdf4-c-134217728-134217728\",\"netcdf4-c-134217728-134217728\",\"netcdf4-c-134217728-134217728\",\"netcdf4-c-134217728-134217728\",\"netcdf4-c-134217728-134217728\",\"netcdf4-c-134217728-134217728\",\"netcdf4-c-134217728-134217728\",\"netcdf4-c-134217728-134217728\",\"netcdf4-c-134217728-134217728\",\"netcdf4-c-134217728-134217728\",\"netcdf4-c-134217728-134217728\",\"netcdf4-c-134217728-134217728\",\"netcdf4-c-134217728-134217728\",\"netcdf4-c-134217728-134217728\",\"netcdf4-c-134217728-134217728\",\"netcdf4-c-134217728-134217728\",\"netcdf4-c-134217728-134217728\",\"netcdf4-c-134217728-134217728\",\"netcdf4-c-134217728-134217728\",\"netcdf4-c-134217728-134217728\",\"netcdf4-c-134217728-134217728\",\"netcdf4-c-134217728-134217728\",\"netcdf4-c-134217728-134217728\",\"netcdf4-c-134217728-134217728\",\"netcdf4-c-134217728-134217728\",\"netcdf4-c-134217728-134217728\",\"netcdf4-c-134217728-134217728\",\"netcdf4-c-134217728-134217728\",\"netcdf4-c-134217728-134217728\",\"netcdf4-c-134217728-134217728\",\"netcdf4-c-134217728-134217728\",\"netcdf4-c-134217728-134217728\",\"netcdf4-c-134217728-134217728\",\"netcdf4-c-134217728-134217728\",\"netcdf4-c-134217728-134217728\",\"netcdf4-c-134217728-134217728\",\"netcdf4-c-134217728-134217728\",\"netcdf4-c-134217728-134217728\",\"netcdf4-c-134217728-134217728\",\"netcdf4-c-134217728-134217728\",\"netcdf4-c-134217728-134217728\",\"netcdf4-c-134217728-134217728\",\"netcdf4-c-134217728-134217728\",\"netcdf4-c-134217728-134217728\",\"netcdf4-c-134217728-134217728\",\"netcdf4-c-134217728-134217728\",\"netcdf4-c-134217728-134217728\"],\"y0\":\" \",\"yaxis\":\"y\",\"type\":\"violin\"}],                        {\"template\":{\"data\":{\"histogram2dcontour\":[{\"type\":\"histogram2dcontour\",\"colorbar\":{\"outlinewidth\":0,\"ticks\":\"\"},\"colorscale\":[[0.0,\"#0d0887\"],[0.1111111111111111,\"#46039f\"],[0.2222222222222222,\"#7201a8\"],[0.3333333333333333,\"#9c179e\"],[0.4444444444444444,\"#bd3786\"],[0.5555555555555556,\"#d8576b\"],[0.6666666666666666,\"#ed7953\"],[0.7777777777777778,\"#fb9f3a\"],[0.8888888888888888,\"#fdca26\"],[1.0,\"#f0f921\"]]}],\"choropleth\":[{\"type\":\"choropleth\",\"colorbar\":{\"outlinewidth\":0,\"ticks\":\"\"}}],\"histogram2d\":[{\"type\":\"histogram2d\",\"colorbar\":{\"outlinewidth\":0,\"ticks\":\"\"},\"colorscale\":[[0.0,\"#0d0887\"],[0.1111111111111111,\"#46039f\"],[0.2222222222222222,\"#7201a8\"],[0.3333333333333333,\"#9c179e\"],[0.4444444444444444,\"#bd3786\"],[0.5555555555555556,\"#d8576b\"],[0.6666666666666666,\"#ed7953\"],[0.7777777777777778,\"#fb9f3a\"],[0.8888888888888888,\"#fdca26\"],[1.0,\"#f0f921\"]]}],\"heatmap\":[{\"type\":\"heatmap\",\"colorbar\":{\"outlinewidth\":0,\"ticks\":\"\"},\"colorscale\":[[0.0,\"#0d0887\"],[0.1111111111111111,\"#46039f\"],[0.2222222222222222,\"#7201a8\"],[0.3333333333333333,\"#9c179e\"],[0.4444444444444444,\"#bd3786\"],[0.5555555555555556,\"#d8576b\"],[0.6666666666666666,\"#ed7953\"],[0.7777777777777778,\"#fb9f3a\"],[0.8888888888888888,\"#fdca26\"],[1.0,\"#f0f921\"]]}],\"heatmapgl\":[{\"type\":\"heatmapgl\",\"colorbar\":{\"outlinewidth\":0,\"ticks\":\"\"},\"colorscale\":[[0.0,\"#0d0887\"],[0.1111111111111111,\"#46039f\"],[0.2222222222222222,\"#7201a8\"],[0.3333333333333333,\"#9c179e\"],[0.4444444444444444,\"#bd3786\"],[0.5555555555555556,\"#d8576b\"],[0.6666666666666666,\"#ed7953\"],[0.7777777777777778,\"#fb9f3a\"],[0.8888888888888888,\"#fdca26\"],[1.0,\"#f0f921\"]]}],\"contourcarpet\":[{\"type\":\"contourcarpet\",\"colorbar\":{\"outlinewidth\":0,\"ticks\":\"\"}}],\"contour\":[{\"type\":\"contour\",\"colorbar\":{\"outlinewidth\":0,\"ticks\":\"\"},\"colorscale\":[[0.0,\"#0d0887\"],[0.1111111111111111,\"#46039f\"],[0.2222222222222222,\"#7201a8\"],[0.3333333333333333,\"#9c179e\"],[0.4444444444444444,\"#bd3786\"],[0.5555555555555556,\"#d8576b\"],[0.6666666666666666,\"#ed7953\"],[0.7777777777777778,\"#fb9f3a\"],[0.8888888888888888,\"#fdca26\"],[1.0,\"#f0f921\"]]}],\"surface\":[{\"type\":\"surface\",\"colorbar\":{\"outlinewidth\":0,\"ticks\":\"\"},\"colorscale\":[[0.0,\"#0d0887\"],[0.1111111111111111,\"#46039f\"],[0.2222222222222222,\"#7201a8\"],[0.3333333333333333,\"#9c179e\"],[0.4444444444444444,\"#bd3786\"],[0.5555555555555556,\"#d8576b\"],[0.6666666666666666,\"#ed7953\"],[0.7777777777777778,\"#fb9f3a\"],[0.8888888888888888,\"#fdca26\"],[1.0,\"#f0f921\"]]}],\"mesh3d\":[{\"type\":\"mesh3d\",\"colorbar\":{\"outlinewidth\":0,\"ticks\":\"\"}}],\"scatter\":[{\"fillpattern\":{\"fillmode\":\"overlay\",\"size\":10,\"solidity\":0.2},\"type\":\"scatter\"}],\"parcoords\":[{\"type\":\"parcoords\",\"line\":{\"colorbar\":{\"outlinewidth\":0,\"ticks\":\"\"}}}],\"scatterpolargl\":[{\"type\":\"scatterpolargl\",\"marker\":{\"colorbar\":{\"outlinewidth\":0,\"ticks\":\"\"}}}],\"bar\":[{\"error_x\":{\"color\":\"#2a3f5f\"},\"error_y\":{\"color\":\"#2a3f5f\"},\"marker\":{\"line\":{\"color\":\"#E5ECF6\",\"width\":0.5},\"pattern\":{\"fillmode\":\"overlay\",\"size\":10,\"solidity\":0.2}},\"type\":\"bar\"}],\"scattergeo\":[{\"type\":\"scattergeo\",\"marker\":{\"colorbar\":{\"outlinewidth\":0,\"ticks\":\"\"}}}],\"scatterpolar\":[{\"type\":\"scatterpolar\",\"marker\":{\"colorbar\":{\"outlinewidth\":0,\"ticks\":\"\"}}}],\"histogram\":[{\"marker\":{\"pattern\":{\"fillmode\":\"overlay\",\"size\":10,\"solidity\":0.2}},\"type\":\"histogram\"}],\"scattergl\":[{\"type\":\"scattergl\",\"marker\":{\"colorbar\":{\"outlinewidth\":0,\"ticks\":\"\"}}}],\"scatter3d\":[{\"type\":\"scatter3d\",\"line\":{\"colorbar\":{\"outlinewidth\":0,\"ticks\":\"\"}},\"marker\":{\"colorbar\":{\"outlinewidth\":0,\"ticks\":\"\"}}}],\"scattermapbox\":[{\"type\":\"scattermapbox\",\"marker\":{\"colorbar\":{\"outlinewidth\":0,\"ticks\":\"\"}}}],\"scatterternary\":[{\"type\":\"scatterternary\",\"marker\":{\"colorbar\":{\"outlinewidth\":0,\"ticks\":\"\"}}}],\"scattercarpet\":[{\"type\":\"scattercarpet\",\"marker\":{\"colorbar\":{\"outlinewidth\":0,\"ticks\":\"\"}}}],\"carpet\":[{\"aaxis\":{\"endlinecolor\":\"#2a3f5f\",\"gridcolor\":\"white\",\"linecolor\":\"white\",\"minorgridcolor\":\"white\",\"startlinecolor\":\"#2a3f5f\"},\"baxis\":{\"endlinecolor\":\"#2a3f5f\",\"gridcolor\":\"white\",\"linecolor\":\"white\",\"minorgridcolor\":\"white\",\"startlinecolor\":\"#2a3f5f\"},\"type\":\"carpet\"}],\"table\":[{\"cells\":{\"fill\":{\"color\":\"#EBF0F8\"},\"line\":{\"color\":\"white\"}},\"header\":{\"fill\":{\"color\":\"#C8D4E3\"},\"line\":{\"color\":\"white\"}},\"type\":\"table\"}],\"barpolar\":[{\"marker\":{\"line\":{\"color\":\"#E5ECF6\",\"width\":0.5},\"pattern\":{\"fillmode\":\"overlay\",\"size\":10,\"solidity\":0.2}},\"type\":\"barpolar\"}],\"pie\":[{\"automargin\":true,\"type\":\"pie\"}]},\"layout\":{\"autotypenumbers\":\"strict\",\"colorway\":[\"#636efa\",\"#EF553B\",\"#00cc96\",\"#ab63fa\",\"#FFA15A\",\"#19d3f3\",\"#FF6692\",\"#B6E880\",\"#FF97FF\",\"#FECB52\"],\"font\":{\"color\":\"#2a3f5f\"},\"hovermode\":\"closest\",\"hoverlabel\":{\"align\":\"left\"},\"paper_bgcolor\":\"white\",\"plot_bgcolor\":\"#E5ECF6\",\"polar\":{\"bgcolor\":\"#E5ECF6\",\"angularaxis\":{\"gridcolor\":\"white\",\"linecolor\":\"white\",\"ticks\":\"\"},\"radialaxis\":{\"gridcolor\":\"white\",\"linecolor\":\"white\",\"ticks\":\"\"}},\"ternary\":{\"bgcolor\":\"#E5ECF6\",\"aaxis\":{\"gridcolor\":\"white\",\"linecolor\":\"white\",\"ticks\":\"\"},\"baxis\":{\"gridcolor\":\"white\",\"linecolor\":\"white\",\"ticks\":\"\"},\"caxis\":{\"gridcolor\":\"white\",\"linecolor\":\"white\",\"ticks\":\"\"}},\"coloraxis\":{\"colorbar\":{\"outlinewidth\":0,\"ticks\":\"\"}},\"colorscale\":{\"sequential\":[[0.0,\"#0d0887\"],[0.1111111111111111,\"#46039f\"],[0.2222222222222222,\"#7201a8\"],[0.3333333333333333,\"#9c179e\"],[0.4444444444444444,\"#bd3786\"],[0.5555555555555556,\"#d8576b\"],[0.6666666666666666,\"#ed7953\"],[0.7777777777777778,\"#fb9f3a\"],[0.8888888888888888,\"#fdca26\"],[1.0,\"#f0f921\"]],\"sequentialminus\":[[0.0,\"#0d0887\"],[0.1111111111111111,\"#46039f\"],[0.2222222222222222,\"#7201a8\"],[0.3333333333333333,\"#9c179e\"],[0.4444444444444444,\"#bd3786\"],[0.5555555555555556,\"#d8576b\"],[0.6666666666666666,\"#ed7953\"],[0.7777777777777778,\"#fb9f3a\"],[0.8888888888888888,\"#fdca26\"],[1.0,\"#f0f921\"]],\"diverging\":[[0,\"#8e0152\"],[0.1,\"#c51b7d\"],[0.2,\"#de77ae\"],[0.3,\"#f1b6da\"],[0.4,\"#fde0ef\"],[0.5,\"#f7f7f7\"],[0.6,\"#e6f5d0\"],[0.7,\"#b8e186\"],[0.8,\"#7fbc41\"],[0.9,\"#4d9221\"],[1,\"#276419\"]]},\"xaxis\":{\"gridcolor\":\"white\",\"linecolor\":\"white\",\"ticks\":\"\",\"title\":{\"standoff\":15},\"zerolinecolor\":\"white\",\"automargin\":true,\"zerolinewidth\":2},\"yaxis\":{\"gridcolor\":\"white\",\"linecolor\":\"white\",\"ticks\":\"\",\"title\":{\"standoff\":15},\"zerolinecolor\":\"white\",\"automargin\":true,\"zerolinewidth\":2},\"scene\":{\"xaxis\":{\"backgroundcolor\":\"#E5ECF6\",\"gridcolor\":\"white\",\"linecolor\":\"white\",\"showbackground\":true,\"ticks\":\"\",\"zerolinecolor\":\"white\",\"gridwidth\":2},\"yaxis\":{\"backgroundcolor\":\"#E5ECF6\",\"gridcolor\":\"white\",\"linecolor\":\"white\",\"showbackground\":true,\"ticks\":\"\",\"zerolinecolor\":\"white\",\"gridwidth\":2},\"zaxis\":{\"backgroundcolor\":\"#E5ECF6\",\"gridcolor\":\"white\",\"linecolor\":\"white\",\"showbackground\":true,\"ticks\":\"\",\"zerolinecolor\":\"white\",\"gridwidth\":2}},\"shapedefaults\":{\"line\":{\"color\":\"#2a3f5f\"}},\"annotationdefaults\":{\"arrowcolor\":\"#2a3f5f\",\"arrowhead\":0,\"arrowwidth\":1},\"geo\":{\"bgcolor\":\"white\",\"landcolor\":\"#E5ECF6\",\"subunitcolor\":\"white\",\"showland\":true,\"showlakes\":true,\"lakecolor\":\"white\"},\"title\":{\"x\":0.05},\"mapbox\":{\"style\":\"light\"}}},\"xaxis\":{\"anchor\":\"y\",\"domain\":[0.0,1.0],\"title\":{\"text\":\"time taken\"},\"type\":\"log\"},\"yaxis\":{\"anchor\":\"x\",\"domain\":[0.0,1.0],\"title\":{\"text\":\"format\"}},\"legend\":{\"title\":{\"text\":\"engine\"},\"tracegroupgap\":0},\"margin\":{\"t\":60},\"violinmode\":\"group\"},                        {\"responsive\": true}                    ).then(function(){\n",
       "                            \n",
       "var gd = document.getElementById('60c246b3-c60a-4175-bf56-0cfc87d2875a');\n",
       "var x = new MutationObserver(function (mutations, observer) {{\n",
       "        var display = window.getComputedStyle(gd).display;\n",
       "        if (!display || display === 'none') {{\n",
       "            console.log([gd, 'removed!']);\n",
       "            Plotly.purge(gd);\n",
       "            observer.disconnect();\n",
       "        }}\n",
       "}});\n",
       "\n",
       "// Listen for the removal of the full notebook cells\n",
       "var notebookContainer = gd.closest('#notebook-container');\n",
       "if (notebookContainer) {{\n",
       "    x.observe(notebookContainer, {childList: true});\n",
       "}}\n",
       "\n",
       "// Listen for the clearing of the current output cell\n",
       "var outputEl = gd.closest('.output');\n",
       "if (outputEl) {{\n",
       "    x.observe(outputEl, {childList: true});\n",
       "}}\n",
       "\n",
       "                        })                };                });            </script>        </div>"
      ]
     },
     "metadata": {},
     "output_type": "display_data"
    },
    {
     "data": {
      "application/vnd.plotly.v1+json": {
       "config": {
        "plotlyServerURL": "https://plot.ly"
       },
       "data": [
        {
         "alignmentgroup": "True",
         "box": {
          "visible": false
         },
         "hovertemplate": "engine=zarr<br>time taken=%{x}<br>filesize per chunk=%{y}<extra></extra>",
         "legendgroup": "zarr",
         "marker": {
          "color": "#636efa"
         },
         "name": "zarr",
         "offsetgroup": "zarr",
         "orientation": "h",
         "scalegroup": "True",
         "showlegend": true,
         "type": "violin",
         "x": [
          1.561470602,
          1.119593804,
          1.131029809,
          1.100024496,
          1.106562787,
          1.08532757,
          1.084824497,
          1.07139167,
          1.062812411,
          1.072172126
         ],
         "x0": " ",
         "xaxis": "x",
         "y": [
          "768.0 MB",
          "768.0 MB",
          "768.0 MB",
          "768.0 MB",
          "768.0 MB",
          "768.0 MB",
          "768.0 MB",
          "768.0 MB",
          "768.0 MB",
          "768.0 MB"
         ],
         "y0": " ",
         "yaxis": "y"
        },
        {
         "alignmentgroup": "True",
         "box": {
          "visible": false
         },
         "hovertemplate": "engine=netcdf4<br>time taken=%{x}<br>filesize per chunk=%{y}<extra></extra>",
         "legendgroup": "netcdf4",
         "marker": {
          "color": "#EF553B"
         },
         "name": "netcdf4",
         "offsetgroup": "netcdf4",
         "orientation": "h",
         "scalegroup": "True",
         "showlegend": true,
         "type": "violin",
         "x": [
          2.503007032,
          1.6436543110000001,
          1.575713818,
          1.693407204,
          1.7019631510000002,
          1.575951321,
          1.672457324,
          1.664683944,
          1.6092664540000001,
          1.576138876
         ],
         "x0": " ",
         "xaxis": "x",
         "y": [
          "768.0 MB",
          "768.0 MB",
          "768.0 MB",
          "768.0 MB",
          "768.0 MB",
          "768.0 MB",
          "768.0 MB",
          "768.0 MB",
          "768.0 MB",
          "768.0 MB"
         ],
         "y0": " ",
         "yaxis": "y"
        },
        {
         "alignmentgroup": "True",
         "box": {
          "visible": false
         },
         "hovertemplate": "engine=hdf5<br>time taken=%{x}<br>filesize per chunk=%{y}<extra></extra>",
         "legendgroup": "hdf5",
         "marker": {
          "color": "#00cc96"
         },
         "name": "hdf5",
         "offsetgroup": "hdf5",
         "orientation": "h",
         "scalegroup": "True",
         "showlegend": true,
         "type": "violin",
         "x": [
          3.6333989950000003,
          1.487018424,
          1.4578746,
          1.449845683,
          1.45085663,
          1.4668470980000001,
          1.45771918,
          1.505242134,
          1.449804507,
          1.453581631
         ],
         "x0": " ",
         "xaxis": "x",
         "y": [
          "768.0 MB",
          "768.0 MB",
          "768.0 MB",
          "768.0 MB",
          "768.0 MB",
          "768.0 MB",
          "768.0 MB",
          "768.0 MB",
          "768.0 MB",
          "768.0 MB"
         ],
         "y0": " ",
         "yaxis": "y"
        }
       ],
       "layout": {
        "legend": {
         "title": {
          "text": "engine"
         },
         "tracegroupgap": 0
        },
        "margin": {
         "t": 60
        },
        "template": {
         "data": {
          "bar": [
           {
            "error_x": {
             "color": "#2a3f5f"
            },
            "error_y": {
             "color": "#2a3f5f"
            },
            "marker": {
             "line": {
              "color": "#E5ECF6",
              "width": 0.5
             },
             "pattern": {
              "fillmode": "overlay",
              "size": 10,
              "solidity": 0.2
             }
            },
            "type": "bar"
           }
          ],
          "barpolar": [
           {
            "marker": {
             "line": {
              "color": "#E5ECF6",
              "width": 0.5
             },
             "pattern": {
              "fillmode": "overlay",
              "size": 10,
              "solidity": 0.2
             }
            },
            "type": "barpolar"
           }
          ],
          "carpet": [
           {
            "aaxis": {
             "endlinecolor": "#2a3f5f",
             "gridcolor": "white",
             "linecolor": "white",
             "minorgridcolor": "white",
             "startlinecolor": "#2a3f5f"
            },
            "baxis": {
             "endlinecolor": "#2a3f5f",
             "gridcolor": "white",
             "linecolor": "white",
             "minorgridcolor": "white",
             "startlinecolor": "#2a3f5f"
            },
            "type": "carpet"
           }
          ],
          "choropleth": [
           {
            "colorbar": {
             "outlinewidth": 0,
             "ticks": ""
            },
            "type": "choropleth"
           }
          ],
          "contour": [
           {
            "colorbar": {
             "outlinewidth": 0,
             "ticks": ""
            },
            "colorscale": [
             [
              0,
              "#0d0887"
             ],
             [
              0.1111111111111111,
              "#46039f"
             ],
             [
              0.2222222222222222,
              "#7201a8"
             ],
             [
              0.3333333333333333,
              "#9c179e"
             ],
             [
              0.4444444444444444,
              "#bd3786"
             ],
             [
              0.5555555555555556,
              "#d8576b"
             ],
             [
              0.6666666666666666,
              "#ed7953"
             ],
             [
              0.7777777777777778,
              "#fb9f3a"
             ],
             [
              0.8888888888888888,
              "#fdca26"
             ],
             [
              1,
              "#f0f921"
             ]
            ],
            "type": "contour"
           }
          ],
          "contourcarpet": [
           {
            "colorbar": {
             "outlinewidth": 0,
             "ticks": ""
            },
            "type": "contourcarpet"
           }
          ],
          "heatmap": [
           {
            "colorbar": {
             "outlinewidth": 0,
             "ticks": ""
            },
            "colorscale": [
             [
              0,
              "#0d0887"
             ],
             [
              0.1111111111111111,
              "#46039f"
             ],
             [
              0.2222222222222222,
              "#7201a8"
             ],
             [
              0.3333333333333333,
              "#9c179e"
             ],
             [
              0.4444444444444444,
              "#bd3786"
             ],
             [
              0.5555555555555556,
              "#d8576b"
             ],
             [
              0.6666666666666666,
              "#ed7953"
             ],
             [
              0.7777777777777778,
              "#fb9f3a"
             ],
             [
              0.8888888888888888,
              "#fdca26"
             ],
             [
              1,
              "#f0f921"
             ]
            ],
            "type": "heatmap"
           }
          ],
          "heatmapgl": [
           {
            "colorbar": {
             "outlinewidth": 0,
             "ticks": ""
            },
            "colorscale": [
             [
              0,
              "#0d0887"
             ],
             [
              0.1111111111111111,
              "#46039f"
             ],
             [
              0.2222222222222222,
              "#7201a8"
             ],
             [
              0.3333333333333333,
              "#9c179e"
             ],
             [
              0.4444444444444444,
              "#bd3786"
             ],
             [
              0.5555555555555556,
              "#d8576b"
             ],
             [
              0.6666666666666666,
              "#ed7953"
             ],
             [
              0.7777777777777778,
              "#fb9f3a"
             ],
             [
              0.8888888888888888,
              "#fdca26"
             ],
             [
              1,
              "#f0f921"
             ]
            ],
            "type": "heatmapgl"
           }
          ],
          "histogram": [
           {
            "marker": {
             "pattern": {
              "fillmode": "overlay",
              "size": 10,
              "solidity": 0.2
             }
            },
            "type": "histogram"
           }
          ],
          "histogram2d": [
           {
            "colorbar": {
             "outlinewidth": 0,
             "ticks": ""
            },
            "colorscale": [
             [
              0,
              "#0d0887"
             ],
             [
              0.1111111111111111,
              "#46039f"
             ],
             [
              0.2222222222222222,
              "#7201a8"
             ],
             [
              0.3333333333333333,
              "#9c179e"
             ],
             [
              0.4444444444444444,
              "#bd3786"
             ],
             [
              0.5555555555555556,
              "#d8576b"
             ],
             [
              0.6666666666666666,
              "#ed7953"
             ],
             [
              0.7777777777777778,
              "#fb9f3a"
             ],
             [
              0.8888888888888888,
              "#fdca26"
             ],
             [
              1,
              "#f0f921"
             ]
            ],
            "type": "histogram2d"
           }
          ],
          "histogram2dcontour": [
           {
            "colorbar": {
             "outlinewidth": 0,
             "ticks": ""
            },
            "colorscale": [
             [
              0,
              "#0d0887"
             ],
             [
              0.1111111111111111,
              "#46039f"
             ],
             [
              0.2222222222222222,
              "#7201a8"
             ],
             [
              0.3333333333333333,
              "#9c179e"
             ],
             [
              0.4444444444444444,
              "#bd3786"
             ],
             [
              0.5555555555555556,
              "#d8576b"
             ],
             [
              0.6666666666666666,
              "#ed7953"
             ],
             [
              0.7777777777777778,
              "#fb9f3a"
             ],
             [
              0.8888888888888888,
              "#fdca26"
             ],
             [
              1,
              "#f0f921"
             ]
            ],
            "type": "histogram2dcontour"
           }
          ],
          "mesh3d": [
           {
            "colorbar": {
             "outlinewidth": 0,
             "ticks": ""
            },
            "type": "mesh3d"
           }
          ],
          "parcoords": [
           {
            "line": {
             "colorbar": {
              "outlinewidth": 0,
              "ticks": ""
             }
            },
            "type": "parcoords"
           }
          ],
          "pie": [
           {
            "automargin": true,
            "type": "pie"
           }
          ],
          "scatter": [
           {
            "fillpattern": {
             "fillmode": "overlay",
             "size": 10,
             "solidity": 0.2
            },
            "type": "scatter"
           }
          ],
          "scatter3d": [
           {
            "line": {
             "colorbar": {
              "outlinewidth": 0,
              "ticks": ""
             }
            },
            "marker": {
             "colorbar": {
              "outlinewidth": 0,
              "ticks": ""
             }
            },
            "type": "scatter3d"
           }
          ],
          "scattercarpet": [
           {
            "marker": {
             "colorbar": {
              "outlinewidth": 0,
              "ticks": ""
             }
            },
            "type": "scattercarpet"
           }
          ],
          "scattergeo": [
           {
            "marker": {
             "colorbar": {
              "outlinewidth": 0,
              "ticks": ""
             }
            },
            "type": "scattergeo"
           }
          ],
          "scattergl": [
           {
            "marker": {
             "colorbar": {
              "outlinewidth": 0,
              "ticks": ""
             }
            },
            "type": "scattergl"
           }
          ],
          "scattermapbox": [
           {
            "marker": {
             "colorbar": {
              "outlinewidth": 0,
              "ticks": ""
             }
            },
            "type": "scattermapbox"
           }
          ],
          "scatterpolar": [
           {
            "marker": {
             "colorbar": {
              "outlinewidth": 0,
              "ticks": ""
             }
            },
            "type": "scatterpolar"
           }
          ],
          "scatterpolargl": [
           {
            "marker": {
             "colorbar": {
              "outlinewidth": 0,
              "ticks": ""
             }
            },
            "type": "scatterpolargl"
           }
          ],
          "scatterternary": [
           {
            "marker": {
             "colorbar": {
              "outlinewidth": 0,
              "ticks": ""
             }
            },
            "type": "scatterternary"
           }
          ],
          "surface": [
           {
            "colorbar": {
             "outlinewidth": 0,
             "ticks": ""
            },
            "colorscale": [
             [
              0,
              "#0d0887"
             ],
             [
              0.1111111111111111,
              "#46039f"
             ],
             [
              0.2222222222222222,
              "#7201a8"
             ],
             [
              0.3333333333333333,
              "#9c179e"
             ],
             [
              0.4444444444444444,
              "#bd3786"
             ],
             [
              0.5555555555555556,
              "#d8576b"
             ],
             [
              0.6666666666666666,
              "#ed7953"
             ],
             [
              0.7777777777777778,
              "#fb9f3a"
             ],
             [
              0.8888888888888888,
              "#fdca26"
             ],
             [
              1,
              "#f0f921"
             ]
            ],
            "type": "surface"
           }
          ],
          "table": [
           {
            "cells": {
             "fill": {
              "color": "#EBF0F8"
             },
             "line": {
              "color": "white"
             }
            },
            "header": {
             "fill": {
              "color": "#C8D4E3"
             },
             "line": {
              "color": "white"
             }
            },
            "type": "table"
           }
          ]
         },
         "layout": {
          "annotationdefaults": {
           "arrowcolor": "#2a3f5f",
           "arrowhead": 0,
           "arrowwidth": 1
          },
          "autotypenumbers": "strict",
          "coloraxis": {
           "colorbar": {
            "outlinewidth": 0,
            "ticks": ""
           }
          },
          "colorscale": {
           "diverging": [
            [
             0,
             "#8e0152"
            ],
            [
             0.1,
             "#c51b7d"
            ],
            [
             0.2,
             "#de77ae"
            ],
            [
             0.3,
             "#f1b6da"
            ],
            [
             0.4,
             "#fde0ef"
            ],
            [
             0.5,
             "#f7f7f7"
            ],
            [
             0.6,
             "#e6f5d0"
            ],
            [
             0.7,
             "#b8e186"
            ],
            [
             0.8,
             "#7fbc41"
            ],
            [
             0.9,
             "#4d9221"
            ],
            [
             1,
             "#276419"
            ]
           ],
           "sequential": [
            [
             0,
             "#0d0887"
            ],
            [
             0.1111111111111111,
             "#46039f"
            ],
            [
             0.2222222222222222,
             "#7201a8"
            ],
            [
             0.3333333333333333,
             "#9c179e"
            ],
            [
             0.4444444444444444,
             "#bd3786"
            ],
            [
             0.5555555555555556,
             "#d8576b"
            ],
            [
             0.6666666666666666,
             "#ed7953"
            ],
            [
             0.7777777777777778,
             "#fb9f3a"
            ],
            [
             0.8888888888888888,
             "#fdca26"
            ],
            [
             1,
             "#f0f921"
            ]
           ],
           "sequentialminus": [
            [
             0,
             "#0d0887"
            ],
            [
             0.1111111111111111,
             "#46039f"
            ],
            [
             0.2222222222222222,
             "#7201a8"
            ],
            [
             0.3333333333333333,
             "#9c179e"
            ],
            [
             0.4444444444444444,
             "#bd3786"
            ],
            [
             0.5555555555555556,
             "#d8576b"
            ],
            [
             0.6666666666666666,
             "#ed7953"
            ],
            [
             0.7777777777777778,
             "#fb9f3a"
            ],
            [
             0.8888888888888888,
             "#fdca26"
            ],
            [
             1,
             "#f0f921"
            ]
           ]
          },
          "colorway": [
           "#636efa",
           "#EF553B",
           "#00cc96",
           "#ab63fa",
           "#FFA15A",
           "#19d3f3",
           "#FF6692",
           "#B6E880",
           "#FF97FF",
           "#FECB52"
          ],
          "font": {
           "color": "#2a3f5f"
          },
          "geo": {
           "bgcolor": "white",
           "lakecolor": "white",
           "landcolor": "#E5ECF6",
           "showlakes": true,
           "showland": true,
           "subunitcolor": "white"
          },
          "hoverlabel": {
           "align": "left"
          },
          "hovermode": "closest",
          "mapbox": {
           "style": "light"
          },
          "paper_bgcolor": "white",
          "plot_bgcolor": "#E5ECF6",
          "polar": {
           "angularaxis": {
            "gridcolor": "white",
            "linecolor": "white",
            "ticks": ""
           },
           "bgcolor": "#E5ECF6",
           "radialaxis": {
            "gridcolor": "white",
            "linecolor": "white",
            "ticks": ""
           }
          },
          "scene": {
           "xaxis": {
            "backgroundcolor": "#E5ECF6",
            "gridcolor": "white",
            "gridwidth": 2,
            "linecolor": "white",
            "showbackground": true,
            "ticks": "",
            "zerolinecolor": "white"
           },
           "yaxis": {
            "backgroundcolor": "#E5ECF6",
            "gridcolor": "white",
            "gridwidth": 2,
            "linecolor": "white",
            "showbackground": true,
            "ticks": "",
            "zerolinecolor": "white"
           },
           "zaxis": {
            "backgroundcolor": "#E5ECF6",
            "gridcolor": "white",
            "gridwidth": 2,
            "linecolor": "white",
            "showbackground": true,
            "ticks": "",
            "zerolinecolor": "white"
           }
          },
          "shapedefaults": {
           "line": {
            "color": "#2a3f5f"
           }
          },
          "ternary": {
           "aaxis": {
            "gridcolor": "white",
            "linecolor": "white",
            "ticks": ""
           },
           "baxis": {
            "gridcolor": "white",
            "linecolor": "white",
            "ticks": ""
           },
           "bgcolor": "#E5ECF6",
           "caxis": {
            "gridcolor": "white",
            "linecolor": "white",
            "ticks": ""
           }
          },
          "title": {
           "x": 0.05
          },
          "xaxis": {
           "automargin": true,
           "gridcolor": "white",
           "linecolor": "white",
           "ticks": "",
           "title": {
            "standoff": 15
           },
           "zerolinecolor": "white",
           "zerolinewidth": 2
          },
          "yaxis": {
           "automargin": true,
           "gridcolor": "white",
           "linecolor": "white",
           "ticks": "",
           "title": {
            "standoff": 15
           },
           "zerolinecolor": "white",
           "zerolinewidth": 2
          }
         }
        },
        "violinmode": "group",
        "xaxis": {
         "anchor": "y",
         "domain": [
          0,
          1
         ],
         "title": {
          "text": "time taken"
         },
         "type": "log"
        },
        "yaxis": {
         "anchor": "x",
         "domain": [
          0,
          1
         ],
         "title": {
          "text": "filesize per chunk"
         }
        }
       }
      },
      "text/html": [
       "<div>                            <div id=\"63c66df6-4b94-4c33-b815-a597d4789b96\" class=\"plotly-graph-div\" style=\"height:525px; width:100%;\"></div>            <script type=\"text/javascript\">                require([\"plotly\"], function(Plotly) {                    window.PLOTLYENV=window.PLOTLYENV || {};                                    if (document.getElementById(\"63c66df6-4b94-4c33-b815-a597d4789b96\")) {                    Plotly.newPlot(                        \"63c66df6-4b94-4c33-b815-a597d4789b96\",                        [{\"alignmentgroup\":\"True\",\"box\":{\"visible\":false},\"hovertemplate\":\"engine=zarr\\u003cbr\\u003etime taken=%{x}\\u003cbr\\u003efilesize per chunk=%{y}\\u003cextra\\u003e\\u003c\\u002fextra\\u003e\",\"legendgroup\":\"zarr\",\"marker\":{\"color\":\"#636efa\"},\"name\":\"zarr\",\"offsetgroup\":\"zarr\",\"orientation\":\"h\",\"scalegroup\":\"True\",\"showlegend\":true,\"x\":[1.561470602,1.119593804,1.131029809,1.100024496,1.106562787,1.08532757,1.084824497,1.07139167,1.062812411,1.072172126],\"x0\":\" \",\"xaxis\":\"x\",\"y\":[\"768.0 MB\",\"768.0 MB\",\"768.0 MB\",\"768.0 MB\",\"768.0 MB\",\"768.0 MB\",\"768.0 MB\",\"768.0 MB\",\"768.0 MB\",\"768.0 MB\"],\"y0\":\" \",\"yaxis\":\"y\",\"type\":\"violin\"},{\"alignmentgroup\":\"True\",\"box\":{\"visible\":false},\"hovertemplate\":\"engine=netcdf4\\u003cbr\\u003etime taken=%{x}\\u003cbr\\u003efilesize per chunk=%{y}\\u003cextra\\u003e\\u003c\\u002fextra\\u003e\",\"legendgroup\":\"netcdf4\",\"marker\":{\"color\":\"#EF553B\"},\"name\":\"netcdf4\",\"offsetgroup\":\"netcdf4\",\"orientation\":\"h\",\"scalegroup\":\"True\",\"showlegend\":true,\"x\":[2.503007032,1.6436543110000001,1.575713818,1.693407204,1.7019631510000002,1.575951321,1.672457324,1.664683944,1.6092664540000001,1.576138876],\"x0\":\" \",\"xaxis\":\"x\",\"y\":[\"768.0 MB\",\"768.0 MB\",\"768.0 MB\",\"768.0 MB\",\"768.0 MB\",\"768.0 MB\",\"768.0 MB\",\"768.0 MB\",\"768.0 MB\",\"768.0 MB\"],\"y0\":\" \",\"yaxis\":\"y\",\"type\":\"violin\"},{\"alignmentgroup\":\"True\",\"box\":{\"visible\":false},\"hovertemplate\":\"engine=hdf5\\u003cbr\\u003etime taken=%{x}\\u003cbr\\u003efilesize per chunk=%{y}\\u003cextra\\u003e\\u003c\\u002fextra\\u003e\",\"legendgroup\":\"hdf5\",\"marker\":{\"color\":\"#00cc96\"},\"name\":\"hdf5\",\"offsetgroup\":\"hdf5\",\"orientation\":\"h\",\"scalegroup\":\"True\",\"showlegend\":true,\"x\":[3.6333989950000003,1.487018424,1.4578746,1.449845683,1.45085663,1.4668470980000001,1.45771918,1.505242134,1.449804507,1.453581631],\"x0\":\" \",\"xaxis\":\"x\",\"y\":[\"768.0 MB\",\"768.0 MB\",\"768.0 MB\",\"768.0 MB\",\"768.0 MB\",\"768.0 MB\",\"768.0 MB\",\"768.0 MB\",\"768.0 MB\",\"768.0 MB\"],\"y0\":\" \",\"yaxis\":\"y\",\"type\":\"violin\"}],                        {\"template\":{\"data\":{\"histogram2dcontour\":[{\"type\":\"histogram2dcontour\",\"colorbar\":{\"outlinewidth\":0,\"ticks\":\"\"},\"colorscale\":[[0.0,\"#0d0887\"],[0.1111111111111111,\"#46039f\"],[0.2222222222222222,\"#7201a8\"],[0.3333333333333333,\"#9c179e\"],[0.4444444444444444,\"#bd3786\"],[0.5555555555555556,\"#d8576b\"],[0.6666666666666666,\"#ed7953\"],[0.7777777777777778,\"#fb9f3a\"],[0.8888888888888888,\"#fdca26\"],[1.0,\"#f0f921\"]]}],\"choropleth\":[{\"type\":\"choropleth\",\"colorbar\":{\"outlinewidth\":0,\"ticks\":\"\"}}],\"histogram2d\":[{\"type\":\"histogram2d\",\"colorbar\":{\"outlinewidth\":0,\"ticks\":\"\"},\"colorscale\":[[0.0,\"#0d0887\"],[0.1111111111111111,\"#46039f\"],[0.2222222222222222,\"#7201a8\"],[0.3333333333333333,\"#9c179e\"],[0.4444444444444444,\"#bd3786\"],[0.5555555555555556,\"#d8576b\"],[0.6666666666666666,\"#ed7953\"],[0.7777777777777778,\"#fb9f3a\"],[0.8888888888888888,\"#fdca26\"],[1.0,\"#f0f921\"]]}],\"heatmap\":[{\"type\":\"heatmap\",\"colorbar\":{\"outlinewidth\":0,\"ticks\":\"\"},\"colorscale\":[[0.0,\"#0d0887\"],[0.1111111111111111,\"#46039f\"],[0.2222222222222222,\"#7201a8\"],[0.3333333333333333,\"#9c179e\"],[0.4444444444444444,\"#bd3786\"],[0.5555555555555556,\"#d8576b\"],[0.6666666666666666,\"#ed7953\"],[0.7777777777777778,\"#fb9f3a\"],[0.8888888888888888,\"#fdca26\"],[1.0,\"#f0f921\"]]}],\"heatmapgl\":[{\"type\":\"heatmapgl\",\"colorbar\":{\"outlinewidth\":0,\"ticks\":\"\"},\"colorscale\":[[0.0,\"#0d0887\"],[0.1111111111111111,\"#46039f\"],[0.2222222222222222,\"#7201a8\"],[0.3333333333333333,\"#9c179e\"],[0.4444444444444444,\"#bd3786\"],[0.5555555555555556,\"#d8576b\"],[0.6666666666666666,\"#ed7953\"],[0.7777777777777778,\"#fb9f3a\"],[0.8888888888888888,\"#fdca26\"],[1.0,\"#f0f921\"]]}],\"contourcarpet\":[{\"type\":\"contourcarpet\",\"colorbar\":{\"outlinewidth\":0,\"ticks\":\"\"}}],\"contour\":[{\"type\":\"contour\",\"colorbar\":{\"outlinewidth\":0,\"ticks\":\"\"},\"colorscale\":[[0.0,\"#0d0887\"],[0.1111111111111111,\"#46039f\"],[0.2222222222222222,\"#7201a8\"],[0.3333333333333333,\"#9c179e\"],[0.4444444444444444,\"#bd3786\"],[0.5555555555555556,\"#d8576b\"],[0.6666666666666666,\"#ed7953\"],[0.7777777777777778,\"#fb9f3a\"],[0.8888888888888888,\"#fdca26\"],[1.0,\"#f0f921\"]]}],\"surface\":[{\"type\":\"surface\",\"colorbar\":{\"outlinewidth\":0,\"ticks\":\"\"},\"colorscale\":[[0.0,\"#0d0887\"],[0.1111111111111111,\"#46039f\"],[0.2222222222222222,\"#7201a8\"],[0.3333333333333333,\"#9c179e\"],[0.4444444444444444,\"#bd3786\"],[0.5555555555555556,\"#d8576b\"],[0.6666666666666666,\"#ed7953\"],[0.7777777777777778,\"#fb9f3a\"],[0.8888888888888888,\"#fdca26\"],[1.0,\"#f0f921\"]]}],\"mesh3d\":[{\"type\":\"mesh3d\",\"colorbar\":{\"outlinewidth\":0,\"ticks\":\"\"}}],\"scatter\":[{\"fillpattern\":{\"fillmode\":\"overlay\",\"size\":10,\"solidity\":0.2},\"type\":\"scatter\"}],\"parcoords\":[{\"type\":\"parcoords\",\"line\":{\"colorbar\":{\"outlinewidth\":0,\"ticks\":\"\"}}}],\"scatterpolargl\":[{\"type\":\"scatterpolargl\",\"marker\":{\"colorbar\":{\"outlinewidth\":0,\"ticks\":\"\"}}}],\"bar\":[{\"error_x\":{\"color\":\"#2a3f5f\"},\"error_y\":{\"color\":\"#2a3f5f\"},\"marker\":{\"line\":{\"color\":\"#E5ECF6\",\"width\":0.5},\"pattern\":{\"fillmode\":\"overlay\",\"size\":10,\"solidity\":0.2}},\"type\":\"bar\"}],\"scattergeo\":[{\"type\":\"scattergeo\",\"marker\":{\"colorbar\":{\"outlinewidth\":0,\"ticks\":\"\"}}}],\"scatterpolar\":[{\"type\":\"scatterpolar\",\"marker\":{\"colorbar\":{\"outlinewidth\":0,\"ticks\":\"\"}}}],\"histogram\":[{\"marker\":{\"pattern\":{\"fillmode\":\"overlay\",\"size\":10,\"solidity\":0.2}},\"type\":\"histogram\"}],\"scattergl\":[{\"type\":\"scattergl\",\"marker\":{\"colorbar\":{\"outlinewidth\":0,\"ticks\":\"\"}}}],\"scatter3d\":[{\"type\":\"scatter3d\",\"line\":{\"colorbar\":{\"outlinewidth\":0,\"ticks\":\"\"}},\"marker\":{\"colorbar\":{\"outlinewidth\":0,\"ticks\":\"\"}}}],\"scattermapbox\":[{\"type\":\"scattermapbox\",\"marker\":{\"colorbar\":{\"outlinewidth\":0,\"ticks\":\"\"}}}],\"scatterternary\":[{\"type\":\"scatterternary\",\"marker\":{\"colorbar\":{\"outlinewidth\":0,\"ticks\":\"\"}}}],\"scattercarpet\":[{\"type\":\"scattercarpet\",\"marker\":{\"colorbar\":{\"outlinewidth\":0,\"ticks\":\"\"}}}],\"carpet\":[{\"aaxis\":{\"endlinecolor\":\"#2a3f5f\",\"gridcolor\":\"white\",\"linecolor\":\"white\",\"minorgridcolor\":\"white\",\"startlinecolor\":\"#2a3f5f\"},\"baxis\":{\"endlinecolor\":\"#2a3f5f\",\"gridcolor\":\"white\",\"linecolor\":\"white\",\"minorgridcolor\":\"white\",\"startlinecolor\":\"#2a3f5f\"},\"type\":\"carpet\"}],\"table\":[{\"cells\":{\"fill\":{\"color\":\"#EBF0F8\"},\"line\":{\"color\":\"white\"}},\"header\":{\"fill\":{\"color\":\"#C8D4E3\"},\"line\":{\"color\":\"white\"}},\"type\":\"table\"}],\"barpolar\":[{\"marker\":{\"line\":{\"color\":\"#E5ECF6\",\"width\":0.5},\"pattern\":{\"fillmode\":\"overlay\",\"size\":10,\"solidity\":0.2}},\"type\":\"barpolar\"}],\"pie\":[{\"automargin\":true,\"type\":\"pie\"}]},\"layout\":{\"autotypenumbers\":\"strict\",\"colorway\":[\"#636efa\",\"#EF553B\",\"#00cc96\",\"#ab63fa\",\"#FFA15A\",\"#19d3f3\",\"#FF6692\",\"#B6E880\",\"#FF97FF\",\"#FECB52\"],\"font\":{\"color\":\"#2a3f5f\"},\"hovermode\":\"closest\",\"hoverlabel\":{\"align\":\"left\"},\"paper_bgcolor\":\"white\",\"plot_bgcolor\":\"#E5ECF6\",\"polar\":{\"bgcolor\":\"#E5ECF6\",\"angularaxis\":{\"gridcolor\":\"white\",\"linecolor\":\"white\",\"ticks\":\"\"},\"radialaxis\":{\"gridcolor\":\"white\",\"linecolor\":\"white\",\"ticks\":\"\"}},\"ternary\":{\"bgcolor\":\"#E5ECF6\",\"aaxis\":{\"gridcolor\":\"white\",\"linecolor\":\"white\",\"ticks\":\"\"},\"baxis\":{\"gridcolor\":\"white\",\"linecolor\":\"white\",\"ticks\":\"\"},\"caxis\":{\"gridcolor\":\"white\",\"linecolor\":\"white\",\"ticks\":\"\"}},\"coloraxis\":{\"colorbar\":{\"outlinewidth\":0,\"ticks\":\"\"}},\"colorscale\":{\"sequential\":[[0.0,\"#0d0887\"],[0.1111111111111111,\"#46039f\"],[0.2222222222222222,\"#7201a8\"],[0.3333333333333333,\"#9c179e\"],[0.4444444444444444,\"#bd3786\"],[0.5555555555555556,\"#d8576b\"],[0.6666666666666666,\"#ed7953\"],[0.7777777777777778,\"#fb9f3a\"],[0.8888888888888888,\"#fdca26\"],[1.0,\"#f0f921\"]],\"sequentialminus\":[[0.0,\"#0d0887\"],[0.1111111111111111,\"#46039f\"],[0.2222222222222222,\"#7201a8\"],[0.3333333333333333,\"#9c179e\"],[0.4444444444444444,\"#bd3786\"],[0.5555555555555556,\"#d8576b\"],[0.6666666666666666,\"#ed7953\"],[0.7777777777777778,\"#fb9f3a\"],[0.8888888888888888,\"#fdca26\"],[1.0,\"#f0f921\"]],\"diverging\":[[0,\"#8e0152\"],[0.1,\"#c51b7d\"],[0.2,\"#de77ae\"],[0.3,\"#f1b6da\"],[0.4,\"#fde0ef\"],[0.5,\"#f7f7f7\"],[0.6,\"#e6f5d0\"],[0.7,\"#b8e186\"],[0.8,\"#7fbc41\"],[0.9,\"#4d9221\"],[1,\"#276419\"]]},\"xaxis\":{\"gridcolor\":\"white\",\"linecolor\":\"white\",\"ticks\":\"\",\"title\":{\"standoff\":15},\"zerolinecolor\":\"white\",\"automargin\":true,\"zerolinewidth\":2},\"yaxis\":{\"gridcolor\":\"white\",\"linecolor\":\"white\",\"ticks\":\"\",\"title\":{\"standoff\":15},\"zerolinecolor\":\"white\",\"automargin\":true,\"zerolinewidth\":2},\"scene\":{\"xaxis\":{\"backgroundcolor\":\"#E5ECF6\",\"gridcolor\":\"white\",\"linecolor\":\"white\",\"showbackground\":true,\"ticks\":\"\",\"zerolinecolor\":\"white\",\"gridwidth\":2},\"yaxis\":{\"backgroundcolor\":\"#E5ECF6\",\"gridcolor\":\"white\",\"linecolor\":\"white\",\"showbackground\":true,\"ticks\":\"\",\"zerolinecolor\":\"white\",\"gridwidth\":2},\"zaxis\":{\"backgroundcolor\":\"#E5ECF6\",\"gridcolor\":\"white\",\"linecolor\":\"white\",\"showbackground\":true,\"ticks\":\"\",\"zerolinecolor\":\"white\",\"gridwidth\":2}},\"shapedefaults\":{\"line\":{\"color\":\"#2a3f5f\"}},\"annotationdefaults\":{\"arrowcolor\":\"#2a3f5f\",\"arrowhead\":0,\"arrowwidth\":1},\"geo\":{\"bgcolor\":\"white\",\"landcolor\":\"#E5ECF6\",\"subunitcolor\":\"white\",\"showland\":true,\"showlakes\":true,\"lakecolor\":\"white\"},\"title\":{\"x\":0.05},\"mapbox\":{\"style\":\"light\"}}},\"xaxis\":{\"anchor\":\"y\",\"domain\":[0.0,1.0],\"title\":{\"text\":\"time taken\"},\"type\":\"log\"},\"yaxis\":{\"anchor\":\"x\",\"domain\":[0.0,1.0],\"title\":{\"text\":\"filesize per chunk\"}},\"legend\":{\"title\":{\"text\":\"engine\"},\"tracegroupgap\":0},\"margin\":{\"t\":60},\"violinmode\":\"group\"},                        {\"responsive\": true}                    ).then(function(){\n",
       "                            \n",
       "var gd = document.getElementById('63c66df6-4b94-4c33-b815-a597d4789b96');\n",
       "var x = new MutationObserver(function (mutations, observer) {{\n",
       "        var display = window.getComputedStyle(gd).display;\n",
       "        if (!display || display === 'none') {{\n",
       "            console.log([gd, 'removed!']);\n",
       "            Plotly.purge(gd);\n",
       "            observer.disconnect();\n",
       "        }}\n",
       "}});\n",
       "\n",
       "// Listen for the removal of the full notebook cells\n",
       "var notebookContainer = gd.closest('#notebook-container');\n",
       "if (notebookContainer) {{\n",
       "    x.observe(notebookContainer, {childList: true});\n",
       "}}\n",
       "\n",
       "// Listen for the clearing of the current output cell\n",
       "var outputEl = gd.closest('.output');\n",
       "if (outputEl) {{\n",
       "    x.observe(outputEl, {childList: true});\n",
       "}}\n",
       "\n",
       "                        })                };                });            </script>        </div>"
      ]
     },
     "metadata": {},
     "output_type": "display_data"
    },
    {
     "data": {
      "application/vnd.plotly.v1+json": {
       "config": {
        "plotlyServerURL": "https://plot.ly"
       },
       "data": [
        {
         "alignmentgroup": "True",
         "box": {
          "visible": false
         },
         "hovertemplate": "engine=zarr<br>time taken=%{x}<br>filesize per chunk=%{y}<extra></extra>",
         "legendgroup": "zarr",
         "marker": {
          "color": "#636efa"
         },
         "name": "zarr",
         "offsetgroup": "zarr",
         "orientation": "h",
         "scalegroup": "True",
         "showlegend": true,
         "type": "violin",
         "x": [
          3.524663635,
          1.640390784,
          1.58037417,
          1.498136551,
          1.499260701,
          1.471429969,
          1.441589899,
          1.5037154799999999,
          1.440095022,
          1.437127042
         ],
         "x0": " ",
         "xaxis": "x",
         "y": [
          "1536.0 MB",
          "1536.0 MB",
          "1536.0 MB",
          "1536.0 MB",
          "1536.0 MB",
          "1536.0 MB",
          "1536.0 MB",
          "1536.0 MB",
          "1536.0 MB",
          "1536.0 MB"
         ],
         "y0": " ",
         "yaxis": "y"
        },
        {
         "alignmentgroup": "True",
         "box": {
          "visible": false
         },
         "hovertemplate": "engine=netcdf4<br>time taken=%{x}<br>filesize per chunk=%{y}<extra></extra>",
         "legendgroup": "netcdf4",
         "marker": {
          "color": "#EF553B"
         },
         "name": "netcdf4",
         "offsetgroup": "netcdf4",
         "orientation": "h",
         "scalegroup": "True",
         "showlegend": true,
         "type": "violin",
         "x": [
          3.125054425,
          0.996413096,
          0.962528853,
          0.953506285,
          0.9874306650000001,
          0.947477604,
          0.986009702,
          0.9486437510000001,
          0.9766967540000001,
          0.9475818500000001
         ],
         "x0": " ",
         "xaxis": "x",
         "y": [
          "1536.0 MB",
          "1536.0 MB",
          "1536.0 MB",
          "1536.0 MB",
          "1536.0 MB",
          "1536.0 MB",
          "1536.0 MB",
          "1536.0 MB",
          "1536.0 MB",
          "1536.0 MB"
         ],
         "y0": " ",
         "yaxis": "y"
        },
        {
         "alignmentgroup": "True",
         "box": {
          "visible": false
         },
         "hovertemplate": "engine=hdf5<br>time taken=%{x}<br>filesize per chunk=%{y}<extra></extra>",
         "legendgroup": "hdf5",
         "marker": {
          "color": "#00cc96"
         },
         "name": "hdf5",
         "offsetgroup": "hdf5",
         "orientation": "h",
         "scalegroup": "True",
         "showlegend": true,
         "type": "violin",
         "x": [
          3.120725102,
          0.985057551,
          0.9350957080000001,
          0.9270261150000001,
          0.886485327,
          0.9145776550000001,
          0.8758912310000001,
          0.87422285,
          0.87592463,
          0.8744445670000001
         ],
         "x0": " ",
         "xaxis": "x",
         "y": [
          "1536.0 MB",
          "1536.0 MB",
          "1536.0 MB",
          "1536.0 MB",
          "1536.0 MB",
          "1536.0 MB",
          "1536.0 MB",
          "1536.0 MB",
          "1536.0 MB",
          "1536.0 MB"
         ],
         "y0": " ",
         "yaxis": "y"
        }
       ],
       "layout": {
        "legend": {
         "title": {
          "text": "engine"
         },
         "tracegroupgap": 0
        },
        "margin": {
         "t": 60
        },
        "template": {
         "data": {
          "bar": [
           {
            "error_x": {
             "color": "#2a3f5f"
            },
            "error_y": {
             "color": "#2a3f5f"
            },
            "marker": {
             "line": {
              "color": "#E5ECF6",
              "width": 0.5
             },
             "pattern": {
              "fillmode": "overlay",
              "size": 10,
              "solidity": 0.2
             }
            },
            "type": "bar"
           }
          ],
          "barpolar": [
           {
            "marker": {
             "line": {
              "color": "#E5ECF6",
              "width": 0.5
             },
             "pattern": {
              "fillmode": "overlay",
              "size": 10,
              "solidity": 0.2
             }
            },
            "type": "barpolar"
           }
          ],
          "carpet": [
           {
            "aaxis": {
             "endlinecolor": "#2a3f5f",
             "gridcolor": "white",
             "linecolor": "white",
             "minorgridcolor": "white",
             "startlinecolor": "#2a3f5f"
            },
            "baxis": {
             "endlinecolor": "#2a3f5f",
             "gridcolor": "white",
             "linecolor": "white",
             "minorgridcolor": "white",
             "startlinecolor": "#2a3f5f"
            },
            "type": "carpet"
           }
          ],
          "choropleth": [
           {
            "colorbar": {
             "outlinewidth": 0,
             "ticks": ""
            },
            "type": "choropleth"
           }
          ],
          "contour": [
           {
            "colorbar": {
             "outlinewidth": 0,
             "ticks": ""
            },
            "colorscale": [
             [
              0,
              "#0d0887"
             ],
             [
              0.1111111111111111,
              "#46039f"
             ],
             [
              0.2222222222222222,
              "#7201a8"
             ],
             [
              0.3333333333333333,
              "#9c179e"
             ],
             [
              0.4444444444444444,
              "#bd3786"
             ],
             [
              0.5555555555555556,
              "#d8576b"
             ],
             [
              0.6666666666666666,
              "#ed7953"
             ],
             [
              0.7777777777777778,
              "#fb9f3a"
             ],
             [
              0.8888888888888888,
              "#fdca26"
             ],
             [
              1,
              "#f0f921"
             ]
            ],
            "type": "contour"
           }
          ],
          "contourcarpet": [
           {
            "colorbar": {
             "outlinewidth": 0,
             "ticks": ""
            },
            "type": "contourcarpet"
           }
          ],
          "heatmap": [
           {
            "colorbar": {
             "outlinewidth": 0,
             "ticks": ""
            },
            "colorscale": [
             [
              0,
              "#0d0887"
             ],
             [
              0.1111111111111111,
              "#46039f"
             ],
             [
              0.2222222222222222,
              "#7201a8"
             ],
             [
              0.3333333333333333,
              "#9c179e"
             ],
             [
              0.4444444444444444,
              "#bd3786"
             ],
             [
              0.5555555555555556,
              "#d8576b"
             ],
             [
              0.6666666666666666,
              "#ed7953"
             ],
             [
              0.7777777777777778,
              "#fb9f3a"
             ],
             [
              0.8888888888888888,
              "#fdca26"
             ],
             [
              1,
              "#f0f921"
             ]
            ],
            "type": "heatmap"
           }
          ],
          "heatmapgl": [
           {
            "colorbar": {
             "outlinewidth": 0,
             "ticks": ""
            },
            "colorscale": [
             [
              0,
              "#0d0887"
             ],
             [
              0.1111111111111111,
              "#46039f"
             ],
             [
              0.2222222222222222,
              "#7201a8"
             ],
             [
              0.3333333333333333,
              "#9c179e"
             ],
             [
              0.4444444444444444,
              "#bd3786"
             ],
             [
              0.5555555555555556,
              "#d8576b"
             ],
             [
              0.6666666666666666,
              "#ed7953"
             ],
             [
              0.7777777777777778,
              "#fb9f3a"
             ],
             [
              0.8888888888888888,
              "#fdca26"
             ],
             [
              1,
              "#f0f921"
             ]
            ],
            "type": "heatmapgl"
           }
          ],
          "histogram": [
           {
            "marker": {
             "pattern": {
              "fillmode": "overlay",
              "size": 10,
              "solidity": 0.2
             }
            },
            "type": "histogram"
           }
          ],
          "histogram2d": [
           {
            "colorbar": {
             "outlinewidth": 0,
             "ticks": ""
            },
            "colorscale": [
             [
              0,
              "#0d0887"
             ],
             [
              0.1111111111111111,
              "#46039f"
             ],
             [
              0.2222222222222222,
              "#7201a8"
             ],
             [
              0.3333333333333333,
              "#9c179e"
             ],
             [
              0.4444444444444444,
              "#bd3786"
             ],
             [
              0.5555555555555556,
              "#d8576b"
             ],
             [
              0.6666666666666666,
              "#ed7953"
             ],
             [
              0.7777777777777778,
              "#fb9f3a"
             ],
             [
              0.8888888888888888,
              "#fdca26"
             ],
             [
              1,
              "#f0f921"
             ]
            ],
            "type": "histogram2d"
           }
          ],
          "histogram2dcontour": [
           {
            "colorbar": {
             "outlinewidth": 0,
             "ticks": ""
            },
            "colorscale": [
             [
              0,
              "#0d0887"
             ],
             [
              0.1111111111111111,
              "#46039f"
             ],
             [
              0.2222222222222222,
              "#7201a8"
             ],
             [
              0.3333333333333333,
              "#9c179e"
             ],
             [
              0.4444444444444444,
              "#bd3786"
             ],
             [
              0.5555555555555556,
              "#d8576b"
             ],
             [
              0.6666666666666666,
              "#ed7953"
             ],
             [
              0.7777777777777778,
              "#fb9f3a"
             ],
             [
              0.8888888888888888,
              "#fdca26"
             ],
             [
              1,
              "#f0f921"
             ]
            ],
            "type": "histogram2dcontour"
           }
          ],
          "mesh3d": [
           {
            "colorbar": {
             "outlinewidth": 0,
             "ticks": ""
            },
            "type": "mesh3d"
           }
          ],
          "parcoords": [
           {
            "line": {
             "colorbar": {
              "outlinewidth": 0,
              "ticks": ""
             }
            },
            "type": "parcoords"
           }
          ],
          "pie": [
           {
            "automargin": true,
            "type": "pie"
           }
          ],
          "scatter": [
           {
            "fillpattern": {
             "fillmode": "overlay",
             "size": 10,
             "solidity": 0.2
            },
            "type": "scatter"
           }
          ],
          "scatter3d": [
           {
            "line": {
             "colorbar": {
              "outlinewidth": 0,
              "ticks": ""
             }
            },
            "marker": {
             "colorbar": {
              "outlinewidth": 0,
              "ticks": ""
             }
            },
            "type": "scatter3d"
           }
          ],
          "scattercarpet": [
           {
            "marker": {
             "colorbar": {
              "outlinewidth": 0,
              "ticks": ""
             }
            },
            "type": "scattercarpet"
           }
          ],
          "scattergeo": [
           {
            "marker": {
             "colorbar": {
              "outlinewidth": 0,
              "ticks": ""
             }
            },
            "type": "scattergeo"
           }
          ],
          "scattergl": [
           {
            "marker": {
             "colorbar": {
              "outlinewidth": 0,
              "ticks": ""
             }
            },
            "type": "scattergl"
           }
          ],
          "scattermapbox": [
           {
            "marker": {
             "colorbar": {
              "outlinewidth": 0,
              "ticks": ""
             }
            },
            "type": "scattermapbox"
           }
          ],
          "scatterpolar": [
           {
            "marker": {
             "colorbar": {
              "outlinewidth": 0,
              "ticks": ""
             }
            },
            "type": "scatterpolar"
           }
          ],
          "scatterpolargl": [
           {
            "marker": {
             "colorbar": {
              "outlinewidth": 0,
              "ticks": ""
             }
            },
            "type": "scatterpolargl"
           }
          ],
          "scatterternary": [
           {
            "marker": {
             "colorbar": {
              "outlinewidth": 0,
              "ticks": ""
             }
            },
            "type": "scatterternary"
           }
          ],
          "surface": [
           {
            "colorbar": {
             "outlinewidth": 0,
             "ticks": ""
            },
            "colorscale": [
             [
              0,
              "#0d0887"
             ],
             [
              0.1111111111111111,
              "#46039f"
             ],
             [
              0.2222222222222222,
              "#7201a8"
             ],
             [
              0.3333333333333333,
              "#9c179e"
             ],
             [
              0.4444444444444444,
              "#bd3786"
             ],
             [
              0.5555555555555556,
              "#d8576b"
             ],
             [
              0.6666666666666666,
              "#ed7953"
             ],
             [
              0.7777777777777778,
              "#fb9f3a"
             ],
             [
              0.8888888888888888,
              "#fdca26"
             ],
             [
              1,
              "#f0f921"
             ]
            ],
            "type": "surface"
           }
          ],
          "table": [
           {
            "cells": {
             "fill": {
              "color": "#EBF0F8"
             },
             "line": {
              "color": "white"
             }
            },
            "header": {
             "fill": {
              "color": "#C8D4E3"
             },
             "line": {
              "color": "white"
             }
            },
            "type": "table"
           }
          ]
         },
         "layout": {
          "annotationdefaults": {
           "arrowcolor": "#2a3f5f",
           "arrowhead": 0,
           "arrowwidth": 1
          },
          "autotypenumbers": "strict",
          "coloraxis": {
           "colorbar": {
            "outlinewidth": 0,
            "ticks": ""
           }
          },
          "colorscale": {
           "diverging": [
            [
             0,
             "#8e0152"
            ],
            [
             0.1,
             "#c51b7d"
            ],
            [
             0.2,
             "#de77ae"
            ],
            [
             0.3,
             "#f1b6da"
            ],
            [
             0.4,
             "#fde0ef"
            ],
            [
             0.5,
             "#f7f7f7"
            ],
            [
             0.6,
             "#e6f5d0"
            ],
            [
             0.7,
             "#b8e186"
            ],
            [
             0.8,
             "#7fbc41"
            ],
            [
             0.9,
             "#4d9221"
            ],
            [
             1,
             "#276419"
            ]
           ],
           "sequential": [
            [
             0,
             "#0d0887"
            ],
            [
             0.1111111111111111,
             "#46039f"
            ],
            [
             0.2222222222222222,
             "#7201a8"
            ],
            [
             0.3333333333333333,
             "#9c179e"
            ],
            [
             0.4444444444444444,
             "#bd3786"
            ],
            [
             0.5555555555555556,
             "#d8576b"
            ],
            [
             0.6666666666666666,
             "#ed7953"
            ],
            [
             0.7777777777777778,
             "#fb9f3a"
            ],
            [
             0.8888888888888888,
             "#fdca26"
            ],
            [
             1,
             "#f0f921"
            ]
           ],
           "sequentialminus": [
            [
             0,
             "#0d0887"
            ],
            [
             0.1111111111111111,
             "#46039f"
            ],
            [
             0.2222222222222222,
             "#7201a8"
            ],
            [
             0.3333333333333333,
             "#9c179e"
            ],
            [
             0.4444444444444444,
             "#bd3786"
            ],
            [
             0.5555555555555556,
             "#d8576b"
            ],
            [
             0.6666666666666666,
             "#ed7953"
            ],
            [
             0.7777777777777778,
             "#fb9f3a"
            ],
            [
             0.8888888888888888,
             "#fdca26"
            ],
            [
             1,
             "#f0f921"
            ]
           ]
          },
          "colorway": [
           "#636efa",
           "#EF553B",
           "#00cc96",
           "#ab63fa",
           "#FFA15A",
           "#19d3f3",
           "#FF6692",
           "#B6E880",
           "#FF97FF",
           "#FECB52"
          ],
          "font": {
           "color": "#2a3f5f"
          },
          "geo": {
           "bgcolor": "white",
           "lakecolor": "white",
           "landcolor": "#E5ECF6",
           "showlakes": true,
           "showland": true,
           "subunitcolor": "white"
          },
          "hoverlabel": {
           "align": "left"
          },
          "hovermode": "closest",
          "mapbox": {
           "style": "light"
          },
          "paper_bgcolor": "white",
          "plot_bgcolor": "#E5ECF6",
          "polar": {
           "angularaxis": {
            "gridcolor": "white",
            "linecolor": "white",
            "ticks": ""
           },
           "bgcolor": "#E5ECF6",
           "radialaxis": {
            "gridcolor": "white",
            "linecolor": "white",
            "ticks": ""
           }
          },
          "scene": {
           "xaxis": {
            "backgroundcolor": "#E5ECF6",
            "gridcolor": "white",
            "gridwidth": 2,
            "linecolor": "white",
            "showbackground": true,
            "ticks": "",
            "zerolinecolor": "white"
           },
           "yaxis": {
            "backgroundcolor": "#E5ECF6",
            "gridcolor": "white",
            "gridwidth": 2,
            "linecolor": "white",
            "showbackground": true,
            "ticks": "",
            "zerolinecolor": "white"
           },
           "zaxis": {
            "backgroundcolor": "#E5ECF6",
            "gridcolor": "white",
            "gridwidth": 2,
            "linecolor": "white",
            "showbackground": true,
            "ticks": "",
            "zerolinecolor": "white"
           }
          },
          "shapedefaults": {
           "line": {
            "color": "#2a3f5f"
           }
          },
          "ternary": {
           "aaxis": {
            "gridcolor": "white",
            "linecolor": "white",
            "ticks": ""
           },
           "baxis": {
            "gridcolor": "white",
            "linecolor": "white",
            "ticks": ""
           },
           "bgcolor": "#E5ECF6",
           "caxis": {
            "gridcolor": "white",
            "linecolor": "white",
            "ticks": ""
           }
          },
          "title": {
           "x": 0.05
          },
          "xaxis": {
           "automargin": true,
           "gridcolor": "white",
           "linecolor": "white",
           "ticks": "",
           "title": {
            "standoff": 15
           },
           "zerolinecolor": "white",
           "zerolinewidth": 2
          },
          "yaxis": {
           "automargin": true,
           "gridcolor": "white",
           "linecolor": "white",
           "ticks": "",
           "title": {
            "standoff": 15
           },
           "zerolinecolor": "white",
           "zerolinewidth": 2
          }
         }
        },
        "violinmode": "group",
        "xaxis": {
         "anchor": "y",
         "domain": [
          0,
          1
         ],
         "title": {
          "text": "time taken"
         },
         "type": "log"
        },
        "yaxis": {
         "anchor": "x",
         "domain": [
          0,
          1
         ],
         "title": {
          "text": "filesize per chunk"
         }
        }
       }
      },
      "text/html": [
       "<div>                            <div id=\"1ab4d761-88ce-4222-9b75-71c538606762\" class=\"plotly-graph-div\" style=\"height:525px; width:100%;\"></div>            <script type=\"text/javascript\">                require([\"plotly\"], function(Plotly) {                    window.PLOTLYENV=window.PLOTLYENV || {};                                    if (document.getElementById(\"1ab4d761-88ce-4222-9b75-71c538606762\")) {                    Plotly.newPlot(                        \"1ab4d761-88ce-4222-9b75-71c538606762\",                        [{\"alignmentgroup\":\"True\",\"box\":{\"visible\":false},\"hovertemplate\":\"engine=zarr\\u003cbr\\u003etime taken=%{x}\\u003cbr\\u003efilesize per chunk=%{y}\\u003cextra\\u003e\\u003c\\u002fextra\\u003e\",\"legendgroup\":\"zarr\",\"marker\":{\"color\":\"#636efa\"},\"name\":\"zarr\",\"offsetgroup\":\"zarr\",\"orientation\":\"h\",\"scalegroup\":\"True\",\"showlegend\":true,\"x\":[3.524663635,1.640390784,1.58037417,1.498136551,1.499260701,1.471429969,1.441589899,1.5037154799999999,1.440095022,1.437127042],\"x0\":\" \",\"xaxis\":\"x\",\"y\":[\"1536.0 MB\",\"1536.0 MB\",\"1536.0 MB\",\"1536.0 MB\",\"1536.0 MB\",\"1536.0 MB\",\"1536.0 MB\",\"1536.0 MB\",\"1536.0 MB\",\"1536.0 MB\"],\"y0\":\" \",\"yaxis\":\"y\",\"type\":\"violin\"},{\"alignmentgroup\":\"True\",\"box\":{\"visible\":false},\"hovertemplate\":\"engine=netcdf4\\u003cbr\\u003etime taken=%{x}\\u003cbr\\u003efilesize per chunk=%{y}\\u003cextra\\u003e\\u003c\\u002fextra\\u003e\",\"legendgroup\":\"netcdf4\",\"marker\":{\"color\":\"#EF553B\"},\"name\":\"netcdf4\",\"offsetgroup\":\"netcdf4\",\"orientation\":\"h\",\"scalegroup\":\"True\",\"showlegend\":true,\"x\":[3.125054425,0.996413096,0.962528853,0.953506285,0.9874306650000001,0.947477604,0.986009702,0.9486437510000001,0.9766967540000001,0.9475818500000001],\"x0\":\" \",\"xaxis\":\"x\",\"y\":[\"1536.0 MB\",\"1536.0 MB\",\"1536.0 MB\",\"1536.0 MB\",\"1536.0 MB\",\"1536.0 MB\",\"1536.0 MB\",\"1536.0 MB\",\"1536.0 MB\",\"1536.0 MB\"],\"y0\":\" \",\"yaxis\":\"y\",\"type\":\"violin\"},{\"alignmentgroup\":\"True\",\"box\":{\"visible\":false},\"hovertemplate\":\"engine=hdf5\\u003cbr\\u003etime taken=%{x}\\u003cbr\\u003efilesize per chunk=%{y}\\u003cextra\\u003e\\u003c\\u002fextra\\u003e\",\"legendgroup\":\"hdf5\",\"marker\":{\"color\":\"#00cc96\"},\"name\":\"hdf5\",\"offsetgroup\":\"hdf5\",\"orientation\":\"h\",\"scalegroup\":\"True\",\"showlegend\":true,\"x\":[3.120725102,0.985057551,0.9350957080000001,0.9270261150000001,0.886485327,0.9145776550000001,0.8758912310000001,0.87422285,0.87592463,0.8744445670000001],\"x0\":\" \",\"xaxis\":\"x\",\"y\":[\"1536.0 MB\",\"1536.0 MB\",\"1536.0 MB\",\"1536.0 MB\",\"1536.0 MB\",\"1536.0 MB\",\"1536.0 MB\",\"1536.0 MB\",\"1536.0 MB\",\"1536.0 MB\"],\"y0\":\" \",\"yaxis\":\"y\",\"type\":\"violin\"}],                        {\"template\":{\"data\":{\"histogram2dcontour\":[{\"type\":\"histogram2dcontour\",\"colorbar\":{\"outlinewidth\":0,\"ticks\":\"\"},\"colorscale\":[[0.0,\"#0d0887\"],[0.1111111111111111,\"#46039f\"],[0.2222222222222222,\"#7201a8\"],[0.3333333333333333,\"#9c179e\"],[0.4444444444444444,\"#bd3786\"],[0.5555555555555556,\"#d8576b\"],[0.6666666666666666,\"#ed7953\"],[0.7777777777777778,\"#fb9f3a\"],[0.8888888888888888,\"#fdca26\"],[1.0,\"#f0f921\"]]}],\"choropleth\":[{\"type\":\"choropleth\",\"colorbar\":{\"outlinewidth\":0,\"ticks\":\"\"}}],\"histogram2d\":[{\"type\":\"histogram2d\",\"colorbar\":{\"outlinewidth\":0,\"ticks\":\"\"},\"colorscale\":[[0.0,\"#0d0887\"],[0.1111111111111111,\"#46039f\"],[0.2222222222222222,\"#7201a8\"],[0.3333333333333333,\"#9c179e\"],[0.4444444444444444,\"#bd3786\"],[0.5555555555555556,\"#d8576b\"],[0.6666666666666666,\"#ed7953\"],[0.7777777777777778,\"#fb9f3a\"],[0.8888888888888888,\"#fdca26\"],[1.0,\"#f0f921\"]]}],\"heatmap\":[{\"type\":\"heatmap\",\"colorbar\":{\"outlinewidth\":0,\"ticks\":\"\"},\"colorscale\":[[0.0,\"#0d0887\"],[0.1111111111111111,\"#46039f\"],[0.2222222222222222,\"#7201a8\"],[0.3333333333333333,\"#9c179e\"],[0.4444444444444444,\"#bd3786\"],[0.5555555555555556,\"#d8576b\"],[0.6666666666666666,\"#ed7953\"],[0.7777777777777778,\"#fb9f3a\"],[0.8888888888888888,\"#fdca26\"],[1.0,\"#f0f921\"]]}],\"heatmapgl\":[{\"type\":\"heatmapgl\",\"colorbar\":{\"outlinewidth\":0,\"ticks\":\"\"},\"colorscale\":[[0.0,\"#0d0887\"],[0.1111111111111111,\"#46039f\"],[0.2222222222222222,\"#7201a8\"],[0.3333333333333333,\"#9c179e\"],[0.4444444444444444,\"#bd3786\"],[0.5555555555555556,\"#d8576b\"],[0.6666666666666666,\"#ed7953\"],[0.7777777777777778,\"#fb9f3a\"],[0.8888888888888888,\"#fdca26\"],[1.0,\"#f0f921\"]]}],\"contourcarpet\":[{\"type\":\"contourcarpet\",\"colorbar\":{\"outlinewidth\":0,\"ticks\":\"\"}}],\"contour\":[{\"type\":\"contour\",\"colorbar\":{\"outlinewidth\":0,\"ticks\":\"\"},\"colorscale\":[[0.0,\"#0d0887\"],[0.1111111111111111,\"#46039f\"],[0.2222222222222222,\"#7201a8\"],[0.3333333333333333,\"#9c179e\"],[0.4444444444444444,\"#bd3786\"],[0.5555555555555556,\"#d8576b\"],[0.6666666666666666,\"#ed7953\"],[0.7777777777777778,\"#fb9f3a\"],[0.8888888888888888,\"#fdca26\"],[1.0,\"#f0f921\"]]}],\"surface\":[{\"type\":\"surface\",\"colorbar\":{\"outlinewidth\":0,\"ticks\":\"\"},\"colorscale\":[[0.0,\"#0d0887\"],[0.1111111111111111,\"#46039f\"],[0.2222222222222222,\"#7201a8\"],[0.3333333333333333,\"#9c179e\"],[0.4444444444444444,\"#bd3786\"],[0.5555555555555556,\"#d8576b\"],[0.6666666666666666,\"#ed7953\"],[0.7777777777777778,\"#fb9f3a\"],[0.8888888888888888,\"#fdca26\"],[1.0,\"#f0f921\"]]}],\"mesh3d\":[{\"type\":\"mesh3d\",\"colorbar\":{\"outlinewidth\":0,\"ticks\":\"\"}}],\"scatter\":[{\"fillpattern\":{\"fillmode\":\"overlay\",\"size\":10,\"solidity\":0.2},\"type\":\"scatter\"}],\"parcoords\":[{\"type\":\"parcoords\",\"line\":{\"colorbar\":{\"outlinewidth\":0,\"ticks\":\"\"}}}],\"scatterpolargl\":[{\"type\":\"scatterpolargl\",\"marker\":{\"colorbar\":{\"outlinewidth\":0,\"ticks\":\"\"}}}],\"bar\":[{\"error_x\":{\"color\":\"#2a3f5f\"},\"error_y\":{\"color\":\"#2a3f5f\"},\"marker\":{\"line\":{\"color\":\"#E5ECF6\",\"width\":0.5},\"pattern\":{\"fillmode\":\"overlay\",\"size\":10,\"solidity\":0.2}},\"type\":\"bar\"}],\"scattergeo\":[{\"type\":\"scattergeo\",\"marker\":{\"colorbar\":{\"outlinewidth\":0,\"ticks\":\"\"}}}],\"scatterpolar\":[{\"type\":\"scatterpolar\",\"marker\":{\"colorbar\":{\"outlinewidth\":0,\"ticks\":\"\"}}}],\"histogram\":[{\"marker\":{\"pattern\":{\"fillmode\":\"overlay\",\"size\":10,\"solidity\":0.2}},\"type\":\"histogram\"}],\"scattergl\":[{\"type\":\"scattergl\",\"marker\":{\"colorbar\":{\"outlinewidth\":0,\"ticks\":\"\"}}}],\"scatter3d\":[{\"type\":\"scatter3d\",\"line\":{\"colorbar\":{\"outlinewidth\":0,\"ticks\":\"\"}},\"marker\":{\"colorbar\":{\"outlinewidth\":0,\"ticks\":\"\"}}}],\"scattermapbox\":[{\"type\":\"scattermapbox\",\"marker\":{\"colorbar\":{\"outlinewidth\":0,\"ticks\":\"\"}}}],\"scatterternary\":[{\"type\":\"scatterternary\",\"marker\":{\"colorbar\":{\"outlinewidth\":0,\"ticks\":\"\"}}}],\"scattercarpet\":[{\"type\":\"scattercarpet\",\"marker\":{\"colorbar\":{\"outlinewidth\":0,\"ticks\":\"\"}}}],\"carpet\":[{\"aaxis\":{\"endlinecolor\":\"#2a3f5f\",\"gridcolor\":\"white\",\"linecolor\":\"white\",\"minorgridcolor\":\"white\",\"startlinecolor\":\"#2a3f5f\"},\"baxis\":{\"endlinecolor\":\"#2a3f5f\",\"gridcolor\":\"white\",\"linecolor\":\"white\",\"minorgridcolor\":\"white\",\"startlinecolor\":\"#2a3f5f\"},\"type\":\"carpet\"}],\"table\":[{\"cells\":{\"fill\":{\"color\":\"#EBF0F8\"},\"line\":{\"color\":\"white\"}},\"header\":{\"fill\":{\"color\":\"#C8D4E3\"},\"line\":{\"color\":\"white\"}},\"type\":\"table\"}],\"barpolar\":[{\"marker\":{\"line\":{\"color\":\"#E5ECF6\",\"width\":0.5},\"pattern\":{\"fillmode\":\"overlay\",\"size\":10,\"solidity\":0.2}},\"type\":\"barpolar\"}],\"pie\":[{\"automargin\":true,\"type\":\"pie\"}]},\"layout\":{\"autotypenumbers\":\"strict\",\"colorway\":[\"#636efa\",\"#EF553B\",\"#00cc96\",\"#ab63fa\",\"#FFA15A\",\"#19d3f3\",\"#FF6692\",\"#B6E880\",\"#FF97FF\",\"#FECB52\"],\"font\":{\"color\":\"#2a3f5f\"},\"hovermode\":\"closest\",\"hoverlabel\":{\"align\":\"left\"},\"paper_bgcolor\":\"white\",\"plot_bgcolor\":\"#E5ECF6\",\"polar\":{\"bgcolor\":\"#E5ECF6\",\"angularaxis\":{\"gridcolor\":\"white\",\"linecolor\":\"white\",\"ticks\":\"\"},\"radialaxis\":{\"gridcolor\":\"white\",\"linecolor\":\"white\",\"ticks\":\"\"}},\"ternary\":{\"bgcolor\":\"#E5ECF6\",\"aaxis\":{\"gridcolor\":\"white\",\"linecolor\":\"white\",\"ticks\":\"\"},\"baxis\":{\"gridcolor\":\"white\",\"linecolor\":\"white\",\"ticks\":\"\"},\"caxis\":{\"gridcolor\":\"white\",\"linecolor\":\"white\",\"ticks\":\"\"}},\"coloraxis\":{\"colorbar\":{\"outlinewidth\":0,\"ticks\":\"\"}},\"colorscale\":{\"sequential\":[[0.0,\"#0d0887\"],[0.1111111111111111,\"#46039f\"],[0.2222222222222222,\"#7201a8\"],[0.3333333333333333,\"#9c179e\"],[0.4444444444444444,\"#bd3786\"],[0.5555555555555556,\"#d8576b\"],[0.6666666666666666,\"#ed7953\"],[0.7777777777777778,\"#fb9f3a\"],[0.8888888888888888,\"#fdca26\"],[1.0,\"#f0f921\"]],\"sequentialminus\":[[0.0,\"#0d0887\"],[0.1111111111111111,\"#46039f\"],[0.2222222222222222,\"#7201a8\"],[0.3333333333333333,\"#9c179e\"],[0.4444444444444444,\"#bd3786\"],[0.5555555555555556,\"#d8576b\"],[0.6666666666666666,\"#ed7953\"],[0.7777777777777778,\"#fb9f3a\"],[0.8888888888888888,\"#fdca26\"],[1.0,\"#f0f921\"]],\"diverging\":[[0,\"#8e0152\"],[0.1,\"#c51b7d\"],[0.2,\"#de77ae\"],[0.3,\"#f1b6da\"],[0.4,\"#fde0ef\"],[0.5,\"#f7f7f7\"],[0.6,\"#e6f5d0\"],[0.7,\"#b8e186\"],[0.8,\"#7fbc41\"],[0.9,\"#4d9221\"],[1,\"#276419\"]]},\"xaxis\":{\"gridcolor\":\"white\",\"linecolor\":\"white\",\"ticks\":\"\",\"title\":{\"standoff\":15},\"zerolinecolor\":\"white\",\"automargin\":true,\"zerolinewidth\":2},\"yaxis\":{\"gridcolor\":\"white\",\"linecolor\":\"white\",\"ticks\":\"\",\"title\":{\"standoff\":15},\"zerolinecolor\":\"white\",\"automargin\":true,\"zerolinewidth\":2},\"scene\":{\"xaxis\":{\"backgroundcolor\":\"#E5ECF6\",\"gridcolor\":\"white\",\"linecolor\":\"white\",\"showbackground\":true,\"ticks\":\"\",\"zerolinecolor\":\"white\",\"gridwidth\":2},\"yaxis\":{\"backgroundcolor\":\"#E5ECF6\",\"gridcolor\":\"white\",\"linecolor\":\"white\",\"showbackground\":true,\"ticks\":\"\",\"zerolinecolor\":\"white\",\"gridwidth\":2},\"zaxis\":{\"backgroundcolor\":\"#E5ECF6\",\"gridcolor\":\"white\",\"linecolor\":\"white\",\"showbackground\":true,\"ticks\":\"\",\"zerolinecolor\":\"white\",\"gridwidth\":2}},\"shapedefaults\":{\"line\":{\"color\":\"#2a3f5f\"}},\"annotationdefaults\":{\"arrowcolor\":\"#2a3f5f\",\"arrowhead\":0,\"arrowwidth\":1},\"geo\":{\"bgcolor\":\"white\",\"landcolor\":\"#E5ECF6\",\"subunitcolor\":\"white\",\"showland\":true,\"showlakes\":true,\"lakecolor\":\"white\"},\"title\":{\"x\":0.05},\"mapbox\":{\"style\":\"light\"}}},\"xaxis\":{\"anchor\":\"y\",\"domain\":[0.0,1.0],\"title\":{\"text\":\"time taken\"},\"type\":\"log\"},\"yaxis\":{\"anchor\":\"x\",\"domain\":[0.0,1.0],\"title\":{\"text\":\"filesize per chunk\"}},\"legend\":{\"title\":{\"text\":\"engine\"},\"tracegroupgap\":0},\"margin\":{\"t\":60},\"violinmode\":\"group\"},                        {\"responsive\": true}                    ).then(function(){\n",
       "                            \n",
       "var gd = document.getElementById('1ab4d761-88ce-4222-9b75-71c538606762');\n",
       "var x = new MutationObserver(function (mutations, observer) {{\n",
       "        var display = window.getComputedStyle(gd).display;\n",
       "        if (!display || display === 'none') {{\n",
       "            console.log([gd, 'removed!']);\n",
       "            Plotly.purge(gd);\n",
       "            observer.disconnect();\n",
       "        }}\n",
       "}});\n",
       "\n",
       "// Listen for the removal of the full notebook cells\n",
       "var notebookContainer = gd.closest('#notebook-container');\n",
       "if (notebookContainer) {{\n",
       "    x.observe(notebookContainer, {childList: true});\n",
       "}}\n",
       "\n",
       "// Listen for the clearing of the current output cell\n",
       "var outputEl = gd.closest('.output');\n",
       "if (outputEl) {{\n",
       "    x.observe(outputEl, {childList: true});\n",
       "}}\n",
       "\n",
       "                        })                };                });            </script>        </div>"
      ]
     },
     "metadata": {},
     "output_type": "display_data"
    },
    {
     "data": {
      "application/vnd.plotly.v1+json": {
       "config": {
        "plotlyServerURL": "https://plot.ly"
       },
       "data": [
        {
         "alignmentgroup": "True",
         "box": {
          "visible": false
         },
         "hovertemplate": "engine=zarr<br>time taken=%{x}<br>filesize per chunk=%{y}<extra></extra>",
         "legendgroup": "zarr",
         "marker": {
          "color": "#636efa"
         },
         "name": "zarr",
         "offsetgroup": "zarr",
         "orientation": "h",
         "scalegroup": "True",
         "showlegend": true,
         "type": "violin",
         "x": [
          4.696084097,
          2.482777822,
          2.385498438,
          2.281798491,
          2.308118287,
          2.266521942,
          2.249475183,
          2.2242104400000002,
          2.264185753,
          2.252098626
         ],
         "x0": " ",
         "xaxis": "x",
         "y": [
          "3072.0 MB",
          "3072.0 MB",
          "3072.0 MB",
          "3072.0 MB",
          "3072.0 MB",
          "3072.0 MB",
          "3072.0 MB",
          "3072.0 MB",
          "3072.0 MB",
          "3072.0 MB"
         ],
         "y0": " ",
         "yaxis": "y"
        },
        {
         "alignmentgroup": "True",
         "box": {
          "visible": false
         },
         "hovertemplate": "engine=netcdf4<br>time taken=%{x}<br>filesize per chunk=%{y}<extra></extra>",
         "legendgroup": "netcdf4",
         "marker": {
          "color": "#EF553B"
         },
         "name": "netcdf4",
         "offsetgroup": "netcdf4",
         "orientation": "h",
         "scalegroup": "True",
         "showlegend": true,
         "type": "violin",
         "x": [
          0.991430133,
          0.363354404,
          0.361270258,
          0.391785413,
          0.362657294,
          0.36500627300000005,
          0.371078183,
          0.36441432500000004,
          0.37061255,
          0.360128059
         ],
         "x0": " ",
         "xaxis": "x",
         "y": [
          "3072.0 MB",
          "3072.0 MB",
          "3072.0 MB",
          "3072.0 MB",
          "3072.0 MB",
          "3072.0 MB",
          "3072.0 MB",
          "3072.0 MB",
          "3072.0 MB",
          "3072.0 MB"
         ],
         "y0": " ",
         "yaxis": "y"
        },
        {
         "alignmentgroup": "True",
         "box": {
          "visible": false
         },
         "hovertemplate": "engine=hdf5<br>time taken=%{x}<br>filesize per chunk=%{y}<extra></extra>",
         "legendgroup": "hdf5",
         "marker": {
          "color": "#00cc96"
         },
         "name": "hdf5",
         "offsetgroup": "hdf5",
         "orientation": "h",
         "scalegroup": "True",
         "showlegend": true,
         "type": "violin",
         "x": [
          0.8343976740000001,
          0.30380218800000003,
          0.265694445,
          0.30102369500000004,
          0.262829486,
          0.27002368,
          0.264752193,
          0.262354666,
          0.26100444300000003,
          0.262556783
         ],
         "x0": " ",
         "xaxis": "x",
         "y": [
          "3072.0 MB",
          "3072.0 MB",
          "3072.0 MB",
          "3072.0 MB",
          "3072.0 MB",
          "3072.0 MB",
          "3072.0 MB",
          "3072.0 MB",
          "3072.0 MB",
          "3072.0 MB"
         ],
         "y0": " ",
         "yaxis": "y"
        }
       ],
       "layout": {
        "legend": {
         "title": {
          "text": "engine"
         },
         "tracegroupgap": 0
        },
        "margin": {
         "t": 60
        },
        "template": {
         "data": {
          "bar": [
           {
            "error_x": {
             "color": "#2a3f5f"
            },
            "error_y": {
             "color": "#2a3f5f"
            },
            "marker": {
             "line": {
              "color": "#E5ECF6",
              "width": 0.5
             },
             "pattern": {
              "fillmode": "overlay",
              "size": 10,
              "solidity": 0.2
             }
            },
            "type": "bar"
           }
          ],
          "barpolar": [
           {
            "marker": {
             "line": {
              "color": "#E5ECF6",
              "width": 0.5
             },
             "pattern": {
              "fillmode": "overlay",
              "size": 10,
              "solidity": 0.2
             }
            },
            "type": "barpolar"
           }
          ],
          "carpet": [
           {
            "aaxis": {
             "endlinecolor": "#2a3f5f",
             "gridcolor": "white",
             "linecolor": "white",
             "minorgridcolor": "white",
             "startlinecolor": "#2a3f5f"
            },
            "baxis": {
             "endlinecolor": "#2a3f5f",
             "gridcolor": "white",
             "linecolor": "white",
             "minorgridcolor": "white",
             "startlinecolor": "#2a3f5f"
            },
            "type": "carpet"
           }
          ],
          "choropleth": [
           {
            "colorbar": {
             "outlinewidth": 0,
             "ticks": ""
            },
            "type": "choropleth"
           }
          ],
          "contour": [
           {
            "colorbar": {
             "outlinewidth": 0,
             "ticks": ""
            },
            "colorscale": [
             [
              0,
              "#0d0887"
             ],
             [
              0.1111111111111111,
              "#46039f"
             ],
             [
              0.2222222222222222,
              "#7201a8"
             ],
             [
              0.3333333333333333,
              "#9c179e"
             ],
             [
              0.4444444444444444,
              "#bd3786"
             ],
             [
              0.5555555555555556,
              "#d8576b"
             ],
             [
              0.6666666666666666,
              "#ed7953"
             ],
             [
              0.7777777777777778,
              "#fb9f3a"
             ],
             [
              0.8888888888888888,
              "#fdca26"
             ],
             [
              1,
              "#f0f921"
             ]
            ],
            "type": "contour"
           }
          ],
          "contourcarpet": [
           {
            "colorbar": {
             "outlinewidth": 0,
             "ticks": ""
            },
            "type": "contourcarpet"
           }
          ],
          "heatmap": [
           {
            "colorbar": {
             "outlinewidth": 0,
             "ticks": ""
            },
            "colorscale": [
             [
              0,
              "#0d0887"
             ],
             [
              0.1111111111111111,
              "#46039f"
             ],
             [
              0.2222222222222222,
              "#7201a8"
             ],
             [
              0.3333333333333333,
              "#9c179e"
             ],
             [
              0.4444444444444444,
              "#bd3786"
             ],
             [
              0.5555555555555556,
              "#d8576b"
             ],
             [
              0.6666666666666666,
              "#ed7953"
             ],
             [
              0.7777777777777778,
              "#fb9f3a"
             ],
             [
              0.8888888888888888,
              "#fdca26"
             ],
             [
              1,
              "#f0f921"
             ]
            ],
            "type": "heatmap"
           }
          ],
          "heatmapgl": [
           {
            "colorbar": {
             "outlinewidth": 0,
             "ticks": ""
            },
            "colorscale": [
             [
              0,
              "#0d0887"
             ],
             [
              0.1111111111111111,
              "#46039f"
             ],
             [
              0.2222222222222222,
              "#7201a8"
             ],
             [
              0.3333333333333333,
              "#9c179e"
             ],
             [
              0.4444444444444444,
              "#bd3786"
             ],
             [
              0.5555555555555556,
              "#d8576b"
             ],
             [
              0.6666666666666666,
              "#ed7953"
             ],
             [
              0.7777777777777778,
              "#fb9f3a"
             ],
             [
              0.8888888888888888,
              "#fdca26"
             ],
             [
              1,
              "#f0f921"
             ]
            ],
            "type": "heatmapgl"
           }
          ],
          "histogram": [
           {
            "marker": {
             "pattern": {
              "fillmode": "overlay",
              "size": 10,
              "solidity": 0.2
             }
            },
            "type": "histogram"
           }
          ],
          "histogram2d": [
           {
            "colorbar": {
             "outlinewidth": 0,
             "ticks": ""
            },
            "colorscale": [
             [
              0,
              "#0d0887"
             ],
             [
              0.1111111111111111,
              "#46039f"
             ],
             [
              0.2222222222222222,
              "#7201a8"
             ],
             [
              0.3333333333333333,
              "#9c179e"
             ],
             [
              0.4444444444444444,
              "#bd3786"
             ],
             [
              0.5555555555555556,
              "#d8576b"
             ],
             [
              0.6666666666666666,
              "#ed7953"
             ],
             [
              0.7777777777777778,
              "#fb9f3a"
             ],
             [
              0.8888888888888888,
              "#fdca26"
             ],
             [
              1,
              "#f0f921"
             ]
            ],
            "type": "histogram2d"
           }
          ],
          "histogram2dcontour": [
           {
            "colorbar": {
             "outlinewidth": 0,
             "ticks": ""
            },
            "colorscale": [
             [
              0,
              "#0d0887"
             ],
             [
              0.1111111111111111,
              "#46039f"
             ],
             [
              0.2222222222222222,
              "#7201a8"
             ],
             [
              0.3333333333333333,
              "#9c179e"
             ],
             [
              0.4444444444444444,
              "#bd3786"
             ],
             [
              0.5555555555555556,
              "#d8576b"
             ],
             [
              0.6666666666666666,
              "#ed7953"
             ],
             [
              0.7777777777777778,
              "#fb9f3a"
             ],
             [
              0.8888888888888888,
              "#fdca26"
             ],
             [
              1,
              "#f0f921"
             ]
            ],
            "type": "histogram2dcontour"
           }
          ],
          "mesh3d": [
           {
            "colorbar": {
             "outlinewidth": 0,
             "ticks": ""
            },
            "type": "mesh3d"
           }
          ],
          "parcoords": [
           {
            "line": {
             "colorbar": {
              "outlinewidth": 0,
              "ticks": ""
             }
            },
            "type": "parcoords"
           }
          ],
          "pie": [
           {
            "automargin": true,
            "type": "pie"
           }
          ],
          "scatter": [
           {
            "fillpattern": {
             "fillmode": "overlay",
             "size": 10,
             "solidity": 0.2
            },
            "type": "scatter"
           }
          ],
          "scatter3d": [
           {
            "line": {
             "colorbar": {
              "outlinewidth": 0,
              "ticks": ""
             }
            },
            "marker": {
             "colorbar": {
              "outlinewidth": 0,
              "ticks": ""
             }
            },
            "type": "scatter3d"
           }
          ],
          "scattercarpet": [
           {
            "marker": {
             "colorbar": {
              "outlinewidth": 0,
              "ticks": ""
             }
            },
            "type": "scattercarpet"
           }
          ],
          "scattergeo": [
           {
            "marker": {
             "colorbar": {
              "outlinewidth": 0,
              "ticks": ""
             }
            },
            "type": "scattergeo"
           }
          ],
          "scattergl": [
           {
            "marker": {
             "colorbar": {
              "outlinewidth": 0,
              "ticks": ""
             }
            },
            "type": "scattergl"
           }
          ],
          "scattermapbox": [
           {
            "marker": {
             "colorbar": {
              "outlinewidth": 0,
              "ticks": ""
             }
            },
            "type": "scattermapbox"
           }
          ],
          "scatterpolar": [
           {
            "marker": {
             "colorbar": {
              "outlinewidth": 0,
              "ticks": ""
             }
            },
            "type": "scatterpolar"
           }
          ],
          "scatterpolargl": [
           {
            "marker": {
             "colorbar": {
              "outlinewidth": 0,
              "ticks": ""
             }
            },
            "type": "scatterpolargl"
           }
          ],
          "scatterternary": [
           {
            "marker": {
             "colorbar": {
              "outlinewidth": 0,
              "ticks": ""
             }
            },
            "type": "scatterternary"
           }
          ],
          "surface": [
           {
            "colorbar": {
             "outlinewidth": 0,
             "ticks": ""
            },
            "colorscale": [
             [
              0,
              "#0d0887"
             ],
             [
              0.1111111111111111,
              "#46039f"
             ],
             [
              0.2222222222222222,
              "#7201a8"
             ],
             [
              0.3333333333333333,
              "#9c179e"
             ],
             [
              0.4444444444444444,
              "#bd3786"
             ],
             [
              0.5555555555555556,
              "#d8576b"
             ],
             [
              0.6666666666666666,
              "#ed7953"
             ],
             [
              0.7777777777777778,
              "#fb9f3a"
             ],
             [
              0.8888888888888888,
              "#fdca26"
             ],
             [
              1,
              "#f0f921"
             ]
            ],
            "type": "surface"
           }
          ],
          "table": [
           {
            "cells": {
             "fill": {
              "color": "#EBF0F8"
             },
             "line": {
              "color": "white"
             }
            },
            "header": {
             "fill": {
              "color": "#C8D4E3"
             },
             "line": {
              "color": "white"
             }
            },
            "type": "table"
           }
          ]
         },
         "layout": {
          "annotationdefaults": {
           "arrowcolor": "#2a3f5f",
           "arrowhead": 0,
           "arrowwidth": 1
          },
          "autotypenumbers": "strict",
          "coloraxis": {
           "colorbar": {
            "outlinewidth": 0,
            "ticks": ""
           }
          },
          "colorscale": {
           "diverging": [
            [
             0,
             "#8e0152"
            ],
            [
             0.1,
             "#c51b7d"
            ],
            [
             0.2,
             "#de77ae"
            ],
            [
             0.3,
             "#f1b6da"
            ],
            [
             0.4,
             "#fde0ef"
            ],
            [
             0.5,
             "#f7f7f7"
            ],
            [
             0.6,
             "#e6f5d0"
            ],
            [
             0.7,
             "#b8e186"
            ],
            [
             0.8,
             "#7fbc41"
            ],
            [
             0.9,
             "#4d9221"
            ],
            [
             1,
             "#276419"
            ]
           ],
           "sequential": [
            [
             0,
             "#0d0887"
            ],
            [
             0.1111111111111111,
             "#46039f"
            ],
            [
             0.2222222222222222,
             "#7201a8"
            ],
            [
             0.3333333333333333,
             "#9c179e"
            ],
            [
             0.4444444444444444,
             "#bd3786"
            ],
            [
             0.5555555555555556,
             "#d8576b"
            ],
            [
             0.6666666666666666,
             "#ed7953"
            ],
            [
             0.7777777777777778,
             "#fb9f3a"
            ],
            [
             0.8888888888888888,
             "#fdca26"
            ],
            [
             1,
             "#f0f921"
            ]
           ],
           "sequentialminus": [
            [
             0,
             "#0d0887"
            ],
            [
             0.1111111111111111,
             "#46039f"
            ],
            [
             0.2222222222222222,
             "#7201a8"
            ],
            [
             0.3333333333333333,
             "#9c179e"
            ],
            [
             0.4444444444444444,
             "#bd3786"
            ],
            [
             0.5555555555555556,
             "#d8576b"
            ],
            [
             0.6666666666666666,
             "#ed7953"
            ],
            [
             0.7777777777777778,
             "#fb9f3a"
            ],
            [
             0.8888888888888888,
             "#fdca26"
            ],
            [
             1,
             "#f0f921"
            ]
           ]
          },
          "colorway": [
           "#636efa",
           "#EF553B",
           "#00cc96",
           "#ab63fa",
           "#FFA15A",
           "#19d3f3",
           "#FF6692",
           "#B6E880",
           "#FF97FF",
           "#FECB52"
          ],
          "font": {
           "color": "#2a3f5f"
          },
          "geo": {
           "bgcolor": "white",
           "lakecolor": "white",
           "landcolor": "#E5ECF6",
           "showlakes": true,
           "showland": true,
           "subunitcolor": "white"
          },
          "hoverlabel": {
           "align": "left"
          },
          "hovermode": "closest",
          "mapbox": {
           "style": "light"
          },
          "paper_bgcolor": "white",
          "plot_bgcolor": "#E5ECF6",
          "polar": {
           "angularaxis": {
            "gridcolor": "white",
            "linecolor": "white",
            "ticks": ""
           },
           "bgcolor": "#E5ECF6",
           "radialaxis": {
            "gridcolor": "white",
            "linecolor": "white",
            "ticks": ""
           }
          },
          "scene": {
           "xaxis": {
            "backgroundcolor": "#E5ECF6",
            "gridcolor": "white",
            "gridwidth": 2,
            "linecolor": "white",
            "showbackground": true,
            "ticks": "",
            "zerolinecolor": "white"
           },
           "yaxis": {
            "backgroundcolor": "#E5ECF6",
            "gridcolor": "white",
            "gridwidth": 2,
            "linecolor": "white",
            "showbackground": true,
            "ticks": "",
            "zerolinecolor": "white"
           },
           "zaxis": {
            "backgroundcolor": "#E5ECF6",
            "gridcolor": "white",
            "gridwidth": 2,
            "linecolor": "white",
            "showbackground": true,
            "ticks": "",
            "zerolinecolor": "white"
           }
          },
          "shapedefaults": {
           "line": {
            "color": "#2a3f5f"
           }
          },
          "ternary": {
           "aaxis": {
            "gridcolor": "white",
            "linecolor": "white",
            "ticks": ""
           },
           "baxis": {
            "gridcolor": "white",
            "linecolor": "white",
            "ticks": ""
           },
           "bgcolor": "#E5ECF6",
           "caxis": {
            "gridcolor": "white",
            "linecolor": "white",
            "ticks": ""
           }
          },
          "title": {
           "x": 0.05
          },
          "xaxis": {
           "automargin": true,
           "gridcolor": "white",
           "linecolor": "white",
           "ticks": "",
           "title": {
            "standoff": 15
           },
           "zerolinecolor": "white",
           "zerolinewidth": 2
          },
          "yaxis": {
           "automargin": true,
           "gridcolor": "white",
           "linecolor": "white",
           "ticks": "",
           "title": {
            "standoff": 15
           },
           "zerolinecolor": "white",
           "zerolinewidth": 2
          }
         }
        },
        "violinmode": "group",
        "xaxis": {
         "anchor": "y",
         "domain": [
          0,
          1
         ],
         "title": {
          "text": "time taken"
         },
         "type": "log"
        },
        "yaxis": {
         "anchor": "x",
         "domain": [
          0,
          1
         ],
         "title": {
          "text": "filesize per chunk"
         }
        }
       }
      },
      "text/html": [
       "<div>                            <div id=\"39ecd66d-937e-4759-8bba-67d4cffee47c\" class=\"plotly-graph-div\" style=\"height:525px; width:100%;\"></div>            <script type=\"text/javascript\">                require([\"plotly\"], function(Plotly) {                    window.PLOTLYENV=window.PLOTLYENV || {};                                    if (document.getElementById(\"39ecd66d-937e-4759-8bba-67d4cffee47c\")) {                    Plotly.newPlot(                        \"39ecd66d-937e-4759-8bba-67d4cffee47c\",                        [{\"alignmentgroup\":\"True\",\"box\":{\"visible\":false},\"hovertemplate\":\"engine=zarr\\u003cbr\\u003etime taken=%{x}\\u003cbr\\u003efilesize per chunk=%{y}\\u003cextra\\u003e\\u003c\\u002fextra\\u003e\",\"legendgroup\":\"zarr\",\"marker\":{\"color\":\"#636efa\"},\"name\":\"zarr\",\"offsetgroup\":\"zarr\",\"orientation\":\"h\",\"scalegroup\":\"True\",\"showlegend\":true,\"x\":[4.696084097,2.482777822,2.385498438,2.281798491,2.308118287,2.266521942,2.249475183,2.2242104400000002,2.264185753,2.252098626],\"x0\":\" \",\"xaxis\":\"x\",\"y\":[\"3072.0 MB\",\"3072.0 MB\",\"3072.0 MB\",\"3072.0 MB\",\"3072.0 MB\",\"3072.0 MB\",\"3072.0 MB\",\"3072.0 MB\",\"3072.0 MB\",\"3072.0 MB\"],\"y0\":\" \",\"yaxis\":\"y\",\"type\":\"violin\"},{\"alignmentgroup\":\"True\",\"box\":{\"visible\":false},\"hovertemplate\":\"engine=netcdf4\\u003cbr\\u003etime taken=%{x}\\u003cbr\\u003efilesize per chunk=%{y}\\u003cextra\\u003e\\u003c\\u002fextra\\u003e\",\"legendgroup\":\"netcdf4\",\"marker\":{\"color\":\"#EF553B\"},\"name\":\"netcdf4\",\"offsetgroup\":\"netcdf4\",\"orientation\":\"h\",\"scalegroup\":\"True\",\"showlegend\":true,\"x\":[0.991430133,0.363354404,0.361270258,0.391785413,0.362657294,0.36500627300000005,0.371078183,0.36441432500000004,0.37061255,0.360128059],\"x0\":\" \",\"xaxis\":\"x\",\"y\":[\"3072.0 MB\",\"3072.0 MB\",\"3072.0 MB\",\"3072.0 MB\",\"3072.0 MB\",\"3072.0 MB\",\"3072.0 MB\",\"3072.0 MB\",\"3072.0 MB\",\"3072.0 MB\"],\"y0\":\" \",\"yaxis\":\"y\",\"type\":\"violin\"},{\"alignmentgroup\":\"True\",\"box\":{\"visible\":false},\"hovertemplate\":\"engine=hdf5\\u003cbr\\u003etime taken=%{x}\\u003cbr\\u003efilesize per chunk=%{y}\\u003cextra\\u003e\\u003c\\u002fextra\\u003e\",\"legendgroup\":\"hdf5\",\"marker\":{\"color\":\"#00cc96\"},\"name\":\"hdf5\",\"offsetgroup\":\"hdf5\",\"orientation\":\"h\",\"scalegroup\":\"True\",\"showlegend\":true,\"x\":[0.8343976740000001,0.30380218800000003,0.265694445,0.30102369500000004,0.262829486,0.27002368,0.264752193,0.262354666,0.26100444300000003,0.262556783],\"x0\":\" \",\"xaxis\":\"x\",\"y\":[\"3072.0 MB\",\"3072.0 MB\",\"3072.0 MB\",\"3072.0 MB\",\"3072.0 MB\",\"3072.0 MB\",\"3072.0 MB\",\"3072.0 MB\",\"3072.0 MB\",\"3072.0 MB\"],\"y0\":\" \",\"yaxis\":\"y\",\"type\":\"violin\"}],                        {\"template\":{\"data\":{\"histogram2dcontour\":[{\"type\":\"histogram2dcontour\",\"colorbar\":{\"outlinewidth\":0,\"ticks\":\"\"},\"colorscale\":[[0.0,\"#0d0887\"],[0.1111111111111111,\"#46039f\"],[0.2222222222222222,\"#7201a8\"],[0.3333333333333333,\"#9c179e\"],[0.4444444444444444,\"#bd3786\"],[0.5555555555555556,\"#d8576b\"],[0.6666666666666666,\"#ed7953\"],[0.7777777777777778,\"#fb9f3a\"],[0.8888888888888888,\"#fdca26\"],[1.0,\"#f0f921\"]]}],\"choropleth\":[{\"type\":\"choropleth\",\"colorbar\":{\"outlinewidth\":0,\"ticks\":\"\"}}],\"histogram2d\":[{\"type\":\"histogram2d\",\"colorbar\":{\"outlinewidth\":0,\"ticks\":\"\"},\"colorscale\":[[0.0,\"#0d0887\"],[0.1111111111111111,\"#46039f\"],[0.2222222222222222,\"#7201a8\"],[0.3333333333333333,\"#9c179e\"],[0.4444444444444444,\"#bd3786\"],[0.5555555555555556,\"#d8576b\"],[0.6666666666666666,\"#ed7953\"],[0.7777777777777778,\"#fb9f3a\"],[0.8888888888888888,\"#fdca26\"],[1.0,\"#f0f921\"]]}],\"heatmap\":[{\"type\":\"heatmap\",\"colorbar\":{\"outlinewidth\":0,\"ticks\":\"\"},\"colorscale\":[[0.0,\"#0d0887\"],[0.1111111111111111,\"#46039f\"],[0.2222222222222222,\"#7201a8\"],[0.3333333333333333,\"#9c179e\"],[0.4444444444444444,\"#bd3786\"],[0.5555555555555556,\"#d8576b\"],[0.6666666666666666,\"#ed7953\"],[0.7777777777777778,\"#fb9f3a\"],[0.8888888888888888,\"#fdca26\"],[1.0,\"#f0f921\"]]}],\"heatmapgl\":[{\"type\":\"heatmapgl\",\"colorbar\":{\"outlinewidth\":0,\"ticks\":\"\"},\"colorscale\":[[0.0,\"#0d0887\"],[0.1111111111111111,\"#46039f\"],[0.2222222222222222,\"#7201a8\"],[0.3333333333333333,\"#9c179e\"],[0.4444444444444444,\"#bd3786\"],[0.5555555555555556,\"#d8576b\"],[0.6666666666666666,\"#ed7953\"],[0.7777777777777778,\"#fb9f3a\"],[0.8888888888888888,\"#fdca26\"],[1.0,\"#f0f921\"]]}],\"contourcarpet\":[{\"type\":\"contourcarpet\",\"colorbar\":{\"outlinewidth\":0,\"ticks\":\"\"}}],\"contour\":[{\"type\":\"contour\",\"colorbar\":{\"outlinewidth\":0,\"ticks\":\"\"},\"colorscale\":[[0.0,\"#0d0887\"],[0.1111111111111111,\"#46039f\"],[0.2222222222222222,\"#7201a8\"],[0.3333333333333333,\"#9c179e\"],[0.4444444444444444,\"#bd3786\"],[0.5555555555555556,\"#d8576b\"],[0.6666666666666666,\"#ed7953\"],[0.7777777777777778,\"#fb9f3a\"],[0.8888888888888888,\"#fdca26\"],[1.0,\"#f0f921\"]]}],\"surface\":[{\"type\":\"surface\",\"colorbar\":{\"outlinewidth\":0,\"ticks\":\"\"},\"colorscale\":[[0.0,\"#0d0887\"],[0.1111111111111111,\"#46039f\"],[0.2222222222222222,\"#7201a8\"],[0.3333333333333333,\"#9c179e\"],[0.4444444444444444,\"#bd3786\"],[0.5555555555555556,\"#d8576b\"],[0.6666666666666666,\"#ed7953\"],[0.7777777777777778,\"#fb9f3a\"],[0.8888888888888888,\"#fdca26\"],[1.0,\"#f0f921\"]]}],\"mesh3d\":[{\"type\":\"mesh3d\",\"colorbar\":{\"outlinewidth\":0,\"ticks\":\"\"}}],\"scatter\":[{\"fillpattern\":{\"fillmode\":\"overlay\",\"size\":10,\"solidity\":0.2},\"type\":\"scatter\"}],\"parcoords\":[{\"type\":\"parcoords\",\"line\":{\"colorbar\":{\"outlinewidth\":0,\"ticks\":\"\"}}}],\"scatterpolargl\":[{\"type\":\"scatterpolargl\",\"marker\":{\"colorbar\":{\"outlinewidth\":0,\"ticks\":\"\"}}}],\"bar\":[{\"error_x\":{\"color\":\"#2a3f5f\"},\"error_y\":{\"color\":\"#2a3f5f\"},\"marker\":{\"line\":{\"color\":\"#E5ECF6\",\"width\":0.5},\"pattern\":{\"fillmode\":\"overlay\",\"size\":10,\"solidity\":0.2}},\"type\":\"bar\"}],\"scattergeo\":[{\"type\":\"scattergeo\",\"marker\":{\"colorbar\":{\"outlinewidth\":0,\"ticks\":\"\"}}}],\"scatterpolar\":[{\"type\":\"scatterpolar\",\"marker\":{\"colorbar\":{\"outlinewidth\":0,\"ticks\":\"\"}}}],\"histogram\":[{\"marker\":{\"pattern\":{\"fillmode\":\"overlay\",\"size\":10,\"solidity\":0.2}},\"type\":\"histogram\"}],\"scattergl\":[{\"type\":\"scattergl\",\"marker\":{\"colorbar\":{\"outlinewidth\":0,\"ticks\":\"\"}}}],\"scatter3d\":[{\"type\":\"scatter3d\",\"line\":{\"colorbar\":{\"outlinewidth\":0,\"ticks\":\"\"}},\"marker\":{\"colorbar\":{\"outlinewidth\":0,\"ticks\":\"\"}}}],\"scattermapbox\":[{\"type\":\"scattermapbox\",\"marker\":{\"colorbar\":{\"outlinewidth\":0,\"ticks\":\"\"}}}],\"scatterternary\":[{\"type\":\"scatterternary\",\"marker\":{\"colorbar\":{\"outlinewidth\":0,\"ticks\":\"\"}}}],\"scattercarpet\":[{\"type\":\"scattercarpet\",\"marker\":{\"colorbar\":{\"outlinewidth\":0,\"ticks\":\"\"}}}],\"carpet\":[{\"aaxis\":{\"endlinecolor\":\"#2a3f5f\",\"gridcolor\":\"white\",\"linecolor\":\"white\",\"minorgridcolor\":\"white\",\"startlinecolor\":\"#2a3f5f\"},\"baxis\":{\"endlinecolor\":\"#2a3f5f\",\"gridcolor\":\"white\",\"linecolor\":\"white\",\"minorgridcolor\":\"white\",\"startlinecolor\":\"#2a3f5f\"},\"type\":\"carpet\"}],\"table\":[{\"cells\":{\"fill\":{\"color\":\"#EBF0F8\"},\"line\":{\"color\":\"white\"}},\"header\":{\"fill\":{\"color\":\"#C8D4E3\"},\"line\":{\"color\":\"white\"}},\"type\":\"table\"}],\"barpolar\":[{\"marker\":{\"line\":{\"color\":\"#E5ECF6\",\"width\":0.5},\"pattern\":{\"fillmode\":\"overlay\",\"size\":10,\"solidity\":0.2}},\"type\":\"barpolar\"}],\"pie\":[{\"automargin\":true,\"type\":\"pie\"}]},\"layout\":{\"autotypenumbers\":\"strict\",\"colorway\":[\"#636efa\",\"#EF553B\",\"#00cc96\",\"#ab63fa\",\"#FFA15A\",\"#19d3f3\",\"#FF6692\",\"#B6E880\",\"#FF97FF\",\"#FECB52\"],\"font\":{\"color\":\"#2a3f5f\"},\"hovermode\":\"closest\",\"hoverlabel\":{\"align\":\"left\"},\"paper_bgcolor\":\"white\",\"plot_bgcolor\":\"#E5ECF6\",\"polar\":{\"bgcolor\":\"#E5ECF6\",\"angularaxis\":{\"gridcolor\":\"white\",\"linecolor\":\"white\",\"ticks\":\"\"},\"radialaxis\":{\"gridcolor\":\"white\",\"linecolor\":\"white\",\"ticks\":\"\"}},\"ternary\":{\"bgcolor\":\"#E5ECF6\",\"aaxis\":{\"gridcolor\":\"white\",\"linecolor\":\"white\",\"ticks\":\"\"},\"baxis\":{\"gridcolor\":\"white\",\"linecolor\":\"white\",\"ticks\":\"\"},\"caxis\":{\"gridcolor\":\"white\",\"linecolor\":\"white\",\"ticks\":\"\"}},\"coloraxis\":{\"colorbar\":{\"outlinewidth\":0,\"ticks\":\"\"}},\"colorscale\":{\"sequential\":[[0.0,\"#0d0887\"],[0.1111111111111111,\"#46039f\"],[0.2222222222222222,\"#7201a8\"],[0.3333333333333333,\"#9c179e\"],[0.4444444444444444,\"#bd3786\"],[0.5555555555555556,\"#d8576b\"],[0.6666666666666666,\"#ed7953\"],[0.7777777777777778,\"#fb9f3a\"],[0.8888888888888888,\"#fdca26\"],[1.0,\"#f0f921\"]],\"sequentialminus\":[[0.0,\"#0d0887\"],[0.1111111111111111,\"#46039f\"],[0.2222222222222222,\"#7201a8\"],[0.3333333333333333,\"#9c179e\"],[0.4444444444444444,\"#bd3786\"],[0.5555555555555556,\"#d8576b\"],[0.6666666666666666,\"#ed7953\"],[0.7777777777777778,\"#fb9f3a\"],[0.8888888888888888,\"#fdca26\"],[1.0,\"#f0f921\"]],\"diverging\":[[0,\"#8e0152\"],[0.1,\"#c51b7d\"],[0.2,\"#de77ae\"],[0.3,\"#f1b6da\"],[0.4,\"#fde0ef\"],[0.5,\"#f7f7f7\"],[0.6,\"#e6f5d0\"],[0.7,\"#b8e186\"],[0.8,\"#7fbc41\"],[0.9,\"#4d9221\"],[1,\"#276419\"]]},\"xaxis\":{\"gridcolor\":\"white\",\"linecolor\":\"white\",\"ticks\":\"\",\"title\":{\"standoff\":15},\"zerolinecolor\":\"white\",\"automargin\":true,\"zerolinewidth\":2},\"yaxis\":{\"gridcolor\":\"white\",\"linecolor\":\"white\",\"ticks\":\"\",\"title\":{\"standoff\":15},\"zerolinecolor\":\"white\",\"automargin\":true,\"zerolinewidth\":2},\"scene\":{\"xaxis\":{\"backgroundcolor\":\"#E5ECF6\",\"gridcolor\":\"white\",\"linecolor\":\"white\",\"showbackground\":true,\"ticks\":\"\",\"zerolinecolor\":\"white\",\"gridwidth\":2},\"yaxis\":{\"backgroundcolor\":\"#E5ECF6\",\"gridcolor\":\"white\",\"linecolor\":\"white\",\"showbackground\":true,\"ticks\":\"\",\"zerolinecolor\":\"white\",\"gridwidth\":2},\"zaxis\":{\"backgroundcolor\":\"#E5ECF6\",\"gridcolor\":\"white\",\"linecolor\":\"white\",\"showbackground\":true,\"ticks\":\"\",\"zerolinecolor\":\"white\",\"gridwidth\":2}},\"shapedefaults\":{\"line\":{\"color\":\"#2a3f5f\"}},\"annotationdefaults\":{\"arrowcolor\":\"#2a3f5f\",\"arrowhead\":0,\"arrowwidth\":1},\"geo\":{\"bgcolor\":\"white\",\"landcolor\":\"#E5ECF6\",\"subunitcolor\":\"white\",\"showland\":true,\"showlakes\":true,\"lakecolor\":\"white\"},\"title\":{\"x\":0.05},\"mapbox\":{\"style\":\"light\"}}},\"xaxis\":{\"anchor\":\"y\",\"domain\":[0.0,1.0],\"title\":{\"text\":\"time taken\"},\"type\":\"log\"},\"yaxis\":{\"anchor\":\"x\",\"domain\":[0.0,1.0],\"title\":{\"text\":\"filesize per chunk\"}},\"legend\":{\"title\":{\"text\":\"engine\"},\"tracegroupgap\":0},\"margin\":{\"t\":60},\"violinmode\":\"group\"},                        {\"responsive\": true}                    ).then(function(){\n",
       "                            \n",
       "var gd = document.getElementById('39ecd66d-937e-4759-8bba-67d4cffee47c');\n",
       "var x = new MutationObserver(function (mutations, observer) {{\n",
       "        var display = window.getComputedStyle(gd).display;\n",
       "        if (!display || display === 'none') {{\n",
       "            console.log([gd, 'removed!']);\n",
       "            Plotly.purge(gd);\n",
       "            observer.disconnect();\n",
       "        }}\n",
       "}});\n",
       "\n",
       "// Listen for the removal of the full notebook cells\n",
       "var notebookContainer = gd.closest('#notebook-container');\n",
       "if (notebookContainer) {{\n",
       "    x.observe(notebookContainer, {childList: true});\n",
       "}}\n",
       "\n",
       "// Listen for the clearing of the current output cell\n",
       "var outputEl = gd.closest('.output');\n",
       "if (outputEl) {{\n",
       "    x.observe(outputEl, {childList: true});\n",
       "}}\n",
       "\n",
       "                        })                };                });            </script>        </div>"
      ]
     },
     "metadata": {},
     "output_type": "display_data"
    },
    {
     "data": {
      "application/vnd.plotly.v1+json": {
       "config": {
        "plotlyServerURL": "https://plot.ly"
       },
       "data": [
        {
         "alignmentgroup": "True",
         "box": {
          "visible": false
         },
         "hovertemplate": "engine=hdf5-c<br>time taken=%{x}<br>filesize per chunk=%{y}<extra></extra>",
         "legendgroup": "hdf5-c",
         "marker": {
          "color": "#636efa"
         },
         "name": "hdf5-c",
         "offsetgroup": "hdf5-c",
         "orientation": "h",
         "scalegroup": "True",
         "showlegend": true,
         "type": "violin",
         "x": [
          0.40457299999999996,
          0.47253199999999995,
          0.40116799999999997,
          0.401652,
          0.417379,
          0.375791,
          0.375793,
          0.38658499999999996,
          0.387801,
          0.385051
         ],
         "x0": " ",
         "xaxis": "x",
         "y": [
          "3072.0 MB",
          "3072.0 MB",
          "3072.0 MB",
          "3072.0 MB",
          "3072.0 MB",
          "3072.0 MB",
          "3072.0 MB",
          "3072.0 MB",
          "3072.0 MB",
          "3072.0 MB"
         ],
         "y0": " ",
         "yaxis": "y"
        },
        {
         "alignmentgroup": "True",
         "box": {
          "visible": false
         },
         "hovertemplate": "engine=hdf5-subfiling<br>time taken=%{x}<br>filesize per chunk=%{y}<extra></extra>",
         "legendgroup": "hdf5-subfiling",
         "marker": {
          "color": "#EF553B"
         },
         "name": "hdf5-subfiling",
         "offsetgroup": "hdf5-subfiling",
         "orientation": "h",
         "scalegroup": "True",
         "showlegend": true,
         "type": "violin",
         "x": [
          0.24542000000000003,
          0.35334699999999997,
          0.266121,
          0.23990399999999998,
          0.23974099999999998,
          0.241447,
          0.240508,
          0.240274,
          0.24043499999999998,
          0.238611
         ],
         "x0": " ",
         "xaxis": "x",
         "y": [
          "1024.0 MB",
          "1024.0 MB",
          "1024.0 MB",
          "1024.0 MB",
          "1024.0 MB",
          "1024.0 MB",
          "1024.0 MB",
          "1024.0 MB",
          "1024.0 MB",
          "1024.0 MB"
         ],
         "y0": " ",
         "yaxis": "y"
        },
        {
         "alignmentgroup": "True",
         "box": {
          "visible": false
         },
         "hovertemplate": "engine=hdf5-async<br>time taken=%{x}<br>filesize per chunk=%{y}<extra></extra>",
         "legendgroup": "hdf5-async",
         "marker": {
          "color": "#00cc96"
         },
         "name": "hdf5-async",
         "offsetgroup": "hdf5-async",
         "orientation": "h",
         "scalegroup": "True",
         "showlegend": true,
         "type": "violin",
         "x": [
          0.488818,
          0.15956199999999998,
          0.130557,
          0.128801,
          0.147416,
          0.134387,
          0.135026,
          0.130529,
          0.17788,
          0.142269
         ],
         "x0": " ",
         "xaxis": "x",
         "y": [
          "1024.0 MB",
          "1024.0 MB",
          "1024.0 MB",
          "1024.0 MB",
          "1024.0 MB",
          "1024.0 MB",
          "1024.0 MB",
          "1024.0 MB",
          "1024.0 MB",
          "1024.0 MB"
         ],
         "y0": " ",
         "yaxis": "y"
        },
        {
         "alignmentgroup": "True",
         "box": {
          "visible": false
         },
         "hovertemplate": "engine=netcdf4-c<br>time taken=%{x}<br>filesize per chunk=%{y}<extra></extra>",
         "legendgroup": "netcdf4-c",
         "marker": {
          "color": "#ab63fa"
         },
         "name": "netcdf4-c",
         "offsetgroup": "netcdf4-c",
         "orientation": "h",
         "scalegroup": "True",
         "showlegend": true,
         "type": "violin",
         "x": [
          0.602101,
          0.261602,
          0.165743,
          0.160828,
          0.160964,
          0.162638,
          0.166608,
          0.16283,
          0.161029,
          0.162787,
          0.16119,
          0.165231,
          0.162049,
          0.228676,
          0.15734299999999998,
          0.156792,
          0.157254,
          0.174684,
          0.17216099999999998,
          0.17028000000000001,
          0.163677,
          0.164027,
          0.167008,
          0.16619799999999998,
          0.16371000000000002,
          0.249969,
          0.163681,
          0.194128,
          0.170982,
          0.167784,
          0.166202,
          0.158468,
          0.157573,
          0.157942,
          0.159853,
          0.163013,
          0.165434,
          0.250596,
          0.165705,
          0.165467,
          0.16472699999999998,
          0.16599000000000003,
          0.16185000000000002,
          0.161995,
          0.161858,
          0.161,
          0.161017,
          0.161511,
          0.16245199999999999,
          0.253677,
          0.16170099999999998,
          0.16125899999999999,
          0.161732,
          0.16175,
          0.162327,
          0.16173099999999999,
          0.161686,
          0.163355,
          0.166156,
          0.187822,
          0.17108099999999998,
          0.213359,
          0.279502,
          0.210704,
          0.23077199999999998,
          0.172618,
          0.168672,
          0.165784,
          0.16625,
          0.168162,
          0.164674,
          0.163358,
          0.164461,
          0.263136,
          0.168314,
          0.168706,
          0.166732,
          0.162468,
          0.163489,
          0.16236299999999998,
          0.160739,
          0.16452799999999998,
          0.161527,
          0.161993,
          0.163982,
          0.252378,
          0.16166000000000003,
          0.161906,
          0.164388,
          0.17304799999999998,
          0.16678199999999999,
          0.165329,
          0.16675,
          0.163158,
          0.161529,
          0.16248,
          0.173807,
          0.281233,
          0.186132,
          0.226984
         ],
         "x0": " ",
         "xaxis": "x",
         "y": [
          "1024.0 MB",
          "1024.0 MB",
          "1024.0 MB",
          "1024.0 MB",
          "1024.0 MB",
          "1024.0 MB",
          "1024.0 MB",
          "1024.0 MB",
          "1024.0 MB",
          "1024.0 MB",
          "1024.0 MB",
          "1024.0 MB",
          "1024.0 MB",
          "1024.0 MB",
          "1024.0 MB",
          "1024.0 MB",
          "1024.0 MB",
          "1024.0 MB",
          "1024.0 MB",
          "1024.0 MB",
          "1024.0 MB",
          "1024.0 MB",
          "1024.0 MB",
          "1024.0 MB",
          "1024.0 MB",
          "1024.0 MB",
          "1024.0 MB",
          "1024.0 MB",
          "1024.0 MB",
          "1024.0 MB",
          "1024.0 MB",
          "1024.0 MB",
          "1024.0 MB",
          "1024.0 MB",
          "1024.0 MB",
          "1024.0 MB",
          "1024.0 MB",
          "1024.0 MB",
          "1024.0 MB",
          "1024.0 MB",
          "1024.0 MB",
          "1024.0 MB",
          "1024.0 MB",
          "1024.0 MB",
          "1024.0 MB",
          "1024.0 MB",
          "1024.0 MB",
          "1024.0 MB",
          "1024.0 MB",
          "1024.0 MB",
          "1024.0 MB",
          "1024.0 MB",
          "1024.0 MB",
          "1024.0 MB",
          "1024.0 MB",
          "1024.0 MB",
          "1024.0 MB",
          "1024.0 MB",
          "1024.0 MB",
          "1024.0 MB",
          "1024.0 MB",
          "1024.0 MB",
          "1024.0 MB",
          "1024.0 MB",
          "1024.0 MB",
          "1024.0 MB",
          "1024.0 MB",
          "1024.0 MB",
          "1024.0 MB",
          "1024.0 MB",
          "1024.0 MB",
          "1024.0 MB",
          "1024.0 MB",
          "1024.0 MB",
          "1024.0 MB",
          "1024.0 MB",
          "1024.0 MB",
          "1024.0 MB",
          "1024.0 MB",
          "1024.0 MB",
          "1024.0 MB",
          "1024.0 MB",
          "1024.0 MB",
          "1024.0 MB",
          "1024.0 MB",
          "1024.0 MB",
          "1024.0 MB",
          "1024.0 MB",
          "1024.0 MB",
          "1024.0 MB",
          "1024.0 MB",
          "1024.0 MB",
          "1024.0 MB",
          "1024.0 MB",
          "1024.0 MB",
          "1024.0 MB",
          "1024.0 MB",
          "1024.0 MB",
          "1024.0 MB",
          "1024.0 MB"
         ],
         "y0": " ",
         "yaxis": "y"
        }
       ],
       "layout": {
        "legend": {
         "title": {
          "text": "engine"
         },
         "tracegroupgap": 0
        },
        "margin": {
         "t": 60
        },
        "template": {
         "data": {
          "bar": [
           {
            "error_x": {
             "color": "#2a3f5f"
            },
            "error_y": {
             "color": "#2a3f5f"
            },
            "marker": {
             "line": {
              "color": "#E5ECF6",
              "width": 0.5
             },
             "pattern": {
              "fillmode": "overlay",
              "size": 10,
              "solidity": 0.2
             }
            },
            "type": "bar"
           }
          ],
          "barpolar": [
           {
            "marker": {
             "line": {
              "color": "#E5ECF6",
              "width": 0.5
             },
             "pattern": {
              "fillmode": "overlay",
              "size": 10,
              "solidity": 0.2
             }
            },
            "type": "barpolar"
           }
          ],
          "carpet": [
           {
            "aaxis": {
             "endlinecolor": "#2a3f5f",
             "gridcolor": "white",
             "linecolor": "white",
             "minorgridcolor": "white",
             "startlinecolor": "#2a3f5f"
            },
            "baxis": {
             "endlinecolor": "#2a3f5f",
             "gridcolor": "white",
             "linecolor": "white",
             "minorgridcolor": "white",
             "startlinecolor": "#2a3f5f"
            },
            "type": "carpet"
           }
          ],
          "choropleth": [
           {
            "colorbar": {
             "outlinewidth": 0,
             "ticks": ""
            },
            "type": "choropleth"
           }
          ],
          "contour": [
           {
            "colorbar": {
             "outlinewidth": 0,
             "ticks": ""
            },
            "colorscale": [
             [
              0,
              "#0d0887"
             ],
             [
              0.1111111111111111,
              "#46039f"
             ],
             [
              0.2222222222222222,
              "#7201a8"
             ],
             [
              0.3333333333333333,
              "#9c179e"
             ],
             [
              0.4444444444444444,
              "#bd3786"
             ],
             [
              0.5555555555555556,
              "#d8576b"
             ],
             [
              0.6666666666666666,
              "#ed7953"
             ],
             [
              0.7777777777777778,
              "#fb9f3a"
             ],
             [
              0.8888888888888888,
              "#fdca26"
             ],
             [
              1,
              "#f0f921"
             ]
            ],
            "type": "contour"
           }
          ],
          "contourcarpet": [
           {
            "colorbar": {
             "outlinewidth": 0,
             "ticks": ""
            },
            "type": "contourcarpet"
           }
          ],
          "heatmap": [
           {
            "colorbar": {
             "outlinewidth": 0,
             "ticks": ""
            },
            "colorscale": [
             [
              0,
              "#0d0887"
             ],
             [
              0.1111111111111111,
              "#46039f"
             ],
             [
              0.2222222222222222,
              "#7201a8"
             ],
             [
              0.3333333333333333,
              "#9c179e"
             ],
             [
              0.4444444444444444,
              "#bd3786"
             ],
             [
              0.5555555555555556,
              "#d8576b"
             ],
             [
              0.6666666666666666,
              "#ed7953"
             ],
             [
              0.7777777777777778,
              "#fb9f3a"
             ],
             [
              0.8888888888888888,
              "#fdca26"
             ],
             [
              1,
              "#f0f921"
             ]
            ],
            "type": "heatmap"
           }
          ],
          "heatmapgl": [
           {
            "colorbar": {
             "outlinewidth": 0,
             "ticks": ""
            },
            "colorscale": [
             [
              0,
              "#0d0887"
             ],
             [
              0.1111111111111111,
              "#46039f"
             ],
             [
              0.2222222222222222,
              "#7201a8"
             ],
             [
              0.3333333333333333,
              "#9c179e"
             ],
             [
              0.4444444444444444,
              "#bd3786"
             ],
             [
              0.5555555555555556,
              "#d8576b"
             ],
             [
              0.6666666666666666,
              "#ed7953"
             ],
             [
              0.7777777777777778,
              "#fb9f3a"
             ],
             [
              0.8888888888888888,
              "#fdca26"
             ],
             [
              1,
              "#f0f921"
             ]
            ],
            "type": "heatmapgl"
           }
          ],
          "histogram": [
           {
            "marker": {
             "pattern": {
              "fillmode": "overlay",
              "size": 10,
              "solidity": 0.2
             }
            },
            "type": "histogram"
           }
          ],
          "histogram2d": [
           {
            "colorbar": {
             "outlinewidth": 0,
             "ticks": ""
            },
            "colorscale": [
             [
              0,
              "#0d0887"
             ],
             [
              0.1111111111111111,
              "#46039f"
             ],
             [
              0.2222222222222222,
              "#7201a8"
             ],
             [
              0.3333333333333333,
              "#9c179e"
             ],
             [
              0.4444444444444444,
              "#bd3786"
             ],
             [
              0.5555555555555556,
              "#d8576b"
             ],
             [
              0.6666666666666666,
              "#ed7953"
             ],
             [
              0.7777777777777778,
              "#fb9f3a"
             ],
             [
              0.8888888888888888,
              "#fdca26"
             ],
             [
              1,
              "#f0f921"
             ]
            ],
            "type": "histogram2d"
           }
          ],
          "histogram2dcontour": [
           {
            "colorbar": {
             "outlinewidth": 0,
             "ticks": ""
            },
            "colorscale": [
             [
              0,
              "#0d0887"
             ],
             [
              0.1111111111111111,
              "#46039f"
             ],
             [
              0.2222222222222222,
              "#7201a8"
             ],
             [
              0.3333333333333333,
              "#9c179e"
             ],
             [
              0.4444444444444444,
              "#bd3786"
             ],
             [
              0.5555555555555556,
              "#d8576b"
             ],
             [
              0.6666666666666666,
              "#ed7953"
             ],
             [
              0.7777777777777778,
              "#fb9f3a"
             ],
             [
              0.8888888888888888,
              "#fdca26"
             ],
             [
              1,
              "#f0f921"
             ]
            ],
            "type": "histogram2dcontour"
           }
          ],
          "mesh3d": [
           {
            "colorbar": {
             "outlinewidth": 0,
             "ticks": ""
            },
            "type": "mesh3d"
           }
          ],
          "parcoords": [
           {
            "line": {
             "colorbar": {
              "outlinewidth": 0,
              "ticks": ""
             }
            },
            "type": "parcoords"
           }
          ],
          "pie": [
           {
            "automargin": true,
            "type": "pie"
           }
          ],
          "scatter": [
           {
            "fillpattern": {
             "fillmode": "overlay",
             "size": 10,
             "solidity": 0.2
            },
            "type": "scatter"
           }
          ],
          "scatter3d": [
           {
            "line": {
             "colorbar": {
              "outlinewidth": 0,
              "ticks": ""
             }
            },
            "marker": {
             "colorbar": {
              "outlinewidth": 0,
              "ticks": ""
             }
            },
            "type": "scatter3d"
           }
          ],
          "scattercarpet": [
           {
            "marker": {
             "colorbar": {
              "outlinewidth": 0,
              "ticks": ""
             }
            },
            "type": "scattercarpet"
           }
          ],
          "scattergeo": [
           {
            "marker": {
             "colorbar": {
              "outlinewidth": 0,
              "ticks": ""
             }
            },
            "type": "scattergeo"
           }
          ],
          "scattergl": [
           {
            "marker": {
             "colorbar": {
              "outlinewidth": 0,
              "ticks": ""
             }
            },
            "type": "scattergl"
           }
          ],
          "scattermapbox": [
           {
            "marker": {
             "colorbar": {
              "outlinewidth": 0,
              "ticks": ""
             }
            },
            "type": "scattermapbox"
           }
          ],
          "scatterpolar": [
           {
            "marker": {
             "colorbar": {
              "outlinewidth": 0,
              "ticks": ""
             }
            },
            "type": "scatterpolar"
           }
          ],
          "scatterpolargl": [
           {
            "marker": {
             "colorbar": {
              "outlinewidth": 0,
              "ticks": ""
             }
            },
            "type": "scatterpolargl"
           }
          ],
          "scatterternary": [
           {
            "marker": {
             "colorbar": {
              "outlinewidth": 0,
              "ticks": ""
             }
            },
            "type": "scatterternary"
           }
          ],
          "surface": [
           {
            "colorbar": {
             "outlinewidth": 0,
             "ticks": ""
            },
            "colorscale": [
             [
              0,
              "#0d0887"
             ],
             [
              0.1111111111111111,
              "#46039f"
             ],
             [
              0.2222222222222222,
              "#7201a8"
             ],
             [
              0.3333333333333333,
              "#9c179e"
             ],
             [
              0.4444444444444444,
              "#bd3786"
             ],
             [
              0.5555555555555556,
              "#d8576b"
             ],
             [
              0.6666666666666666,
              "#ed7953"
             ],
             [
              0.7777777777777778,
              "#fb9f3a"
             ],
             [
              0.8888888888888888,
              "#fdca26"
             ],
             [
              1,
              "#f0f921"
             ]
            ],
            "type": "surface"
           }
          ],
          "table": [
           {
            "cells": {
             "fill": {
              "color": "#EBF0F8"
             },
             "line": {
              "color": "white"
             }
            },
            "header": {
             "fill": {
              "color": "#C8D4E3"
             },
             "line": {
              "color": "white"
             }
            },
            "type": "table"
           }
          ]
         },
         "layout": {
          "annotationdefaults": {
           "arrowcolor": "#2a3f5f",
           "arrowhead": 0,
           "arrowwidth": 1
          },
          "autotypenumbers": "strict",
          "coloraxis": {
           "colorbar": {
            "outlinewidth": 0,
            "ticks": ""
           }
          },
          "colorscale": {
           "diverging": [
            [
             0,
             "#8e0152"
            ],
            [
             0.1,
             "#c51b7d"
            ],
            [
             0.2,
             "#de77ae"
            ],
            [
             0.3,
             "#f1b6da"
            ],
            [
             0.4,
             "#fde0ef"
            ],
            [
             0.5,
             "#f7f7f7"
            ],
            [
             0.6,
             "#e6f5d0"
            ],
            [
             0.7,
             "#b8e186"
            ],
            [
             0.8,
             "#7fbc41"
            ],
            [
             0.9,
             "#4d9221"
            ],
            [
             1,
             "#276419"
            ]
           ],
           "sequential": [
            [
             0,
             "#0d0887"
            ],
            [
             0.1111111111111111,
             "#46039f"
            ],
            [
             0.2222222222222222,
             "#7201a8"
            ],
            [
             0.3333333333333333,
             "#9c179e"
            ],
            [
             0.4444444444444444,
             "#bd3786"
            ],
            [
             0.5555555555555556,
             "#d8576b"
            ],
            [
             0.6666666666666666,
             "#ed7953"
            ],
            [
             0.7777777777777778,
             "#fb9f3a"
            ],
            [
             0.8888888888888888,
             "#fdca26"
            ],
            [
             1,
             "#f0f921"
            ]
           ],
           "sequentialminus": [
            [
             0,
             "#0d0887"
            ],
            [
             0.1111111111111111,
             "#46039f"
            ],
            [
             0.2222222222222222,
             "#7201a8"
            ],
            [
             0.3333333333333333,
             "#9c179e"
            ],
            [
             0.4444444444444444,
             "#bd3786"
            ],
            [
             0.5555555555555556,
             "#d8576b"
            ],
            [
             0.6666666666666666,
             "#ed7953"
            ],
            [
             0.7777777777777778,
             "#fb9f3a"
            ],
            [
             0.8888888888888888,
             "#fdca26"
            ],
            [
             1,
             "#f0f921"
            ]
           ]
          },
          "colorway": [
           "#636efa",
           "#EF553B",
           "#00cc96",
           "#ab63fa",
           "#FFA15A",
           "#19d3f3",
           "#FF6692",
           "#B6E880",
           "#FF97FF",
           "#FECB52"
          ],
          "font": {
           "color": "#2a3f5f"
          },
          "geo": {
           "bgcolor": "white",
           "lakecolor": "white",
           "landcolor": "#E5ECF6",
           "showlakes": true,
           "showland": true,
           "subunitcolor": "white"
          },
          "hoverlabel": {
           "align": "left"
          },
          "hovermode": "closest",
          "mapbox": {
           "style": "light"
          },
          "paper_bgcolor": "white",
          "plot_bgcolor": "#E5ECF6",
          "polar": {
           "angularaxis": {
            "gridcolor": "white",
            "linecolor": "white",
            "ticks": ""
           },
           "bgcolor": "#E5ECF6",
           "radialaxis": {
            "gridcolor": "white",
            "linecolor": "white",
            "ticks": ""
           }
          },
          "scene": {
           "xaxis": {
            "backgroundcolor": "#E5ECF6",
            "gridcolor": "white",
            "gridwidth": 2,
            "linecolor": "white",
            "showbackground": true,
            "ticks": "",
            "zerolinecolor": "white"
           },
           "yaxis": {
            "backgroundcolor": "#E5ECF6",
            "gridcolor": "white",
            "gridwidth": 2,
            "linecolor": "white",
            "showbackground": true,
            "ticks": "",
            "zerolinecolor": "white"
           },
           "zaxis": {
            "backgroundcolor": "#E5ECF6",
            "gridcolor": "white",
            "gridwidth": 2,
            "linecolor": "white",
            "showbackground": true,
            "ticks": "",
            "zerolinecolor": "white"
           }
          },
          "shapedefaults": {
           "line": {
            "color": "#2a3f5f"
           }
          },
          "ternary": {
           "aaxis": {
            "gridcolor": "white",
            "linecolor": "white",
            "ticks": ""
           },
           "baxis": {
            "gridcolor": "white",
            "linecolor": "white",
            "ticks": ""
           },
           "bgcolor": "#E5ECF6",
           "caxis": {
            "gridcolor": "white",
            "linecolor": "white",
            "ticks": ""
           }
          },
          "title": {
           "x": 0.05
          },
          "xaxis": {
           "automargin": true,
           "gridcolor": "white",
           "linecolor": "white",
           "ticks": "",
           "title": {
            "standoff": 15
           },
           "zerolinecolor": "white",
           "zerolinewidth": 2
          },
          "yaxis": {
           "automargin": true,
           "gridcolor": "white",
           "linecolor": "white",
           "ticks": "",
           "title": {
            "standoff": 15
           },
           "zerolinecolor": "white",
           "zerolinewidth": 2
          }
         }
        },
        "violinmode": "group",
        "xaxis": {
         "anchor": "y",
         "domain": [
          0,
          1
         ],
         "title": {
          "text": "time taken"
         },
         "type": "log"
        },
        "yaxis": {
         "anchor": "x",
         "domain": [
          0,
          1
         ],
         "title": {
          "text": "filesize per chunk"
         }
        }
       }
      },
      "text/html": [
       "<div>                            <div id=\"7c19352d-2d9e-4d5d-9547-b99f13e2ea46\" class=\"plotly-graph-div\" style=\"height:525px; width:100%;\"></div>            <script type=\"text/javascript\">                require([\"plotly\"], function(Plotly) {                    window.PLOTLYENV=window.PLOTLYENV || {};                                    if (document.getElementById(\"7c19352d-2d9e-4d5d-9547-b99f13e2ea46\")) {                    Plotly.newPlot(                        \"7c19352d-2d9e-4d5d-9547-b99f13e2ea46\",                        [{\"alignmentgroup\":\"True\",\"box\":{\"visible\":false},\"hovertemplate\":\"engine=hdf5-c\\u003cbr\\u003etime taken=%{x}\\u003cbr\\u003efilesize per chunk=%{y}\\u003cextra\\u003e\\u003c\\u002fextra\\u003e\",\"legendgroup\":\"hdf5-c\",\"marker\":{\"color\":\"#636efa\"},\"name\":\"hdf5-c\",\"offsetgroup\":\"hdf5-c\",\"orientation\":\"h\",\"scalegroup\":\"True\",\"showlegend\":true,\"x\":[0.40457299999999996,0.47253199999999995,0.40116799999999997,0.401652,0.417379,0.375791,0.375793,0.38658499999999996,0.387801,0.385051],\"x0\":\" \",\"xaxis\":\"x\",\"y\":[\"3072.0 MB\",\"3072.0 MB\",\"3072.0 MB\",\"3072.0 MB\",\"3072.0 MB\",\"3072.0 MB\",\"3072.0 MB\",\"3072.0 MB\",\"3072.0 MB\",\"3072.0 MB\"],\"y0\":\" \",\"yaxis\":\"y\",\"type\":\"violin\"},{\"alignmentgroup\":\"True\",\"box\":{\"visible\":false},\"hovertemplate\":\"engine=hdf5-subfiling\\u003cbr\\u003etime taken=%{x}\\u003cbr\\u003efilesize per chunk=%{y}\\u003cextra\\u003e\\u003c\\u002fextra\\u003e\",\"legendgroup\":\"hdf5-subfiling\",\"marker\":{\"color\":\"#EF553B\"},\"name\":\"hdf5-subfiling\",\"offsetgroup\":\"hdf5-subfiling\",\"orientation\":\"h\",\"scalegroup\":\"True\",\"showlegend\":true,\"x\":[0.24542000000000003,0.35334699999999997,0.266121,0.23990399999999998,0.23974099999999998,0.241447,0.240508,0.240274,0.24043499999999998,0.238611],\"x0\":\" \",\"xaxis\":\"x\",\"y\":[\"1024.0 MB\",\"1024.0 MB\",\"1024.0 MB\",\"1024.0 MB\",\"1024.0 MB\",\"1024.0 MB\",\"1024.0 MB\",\"1024.0 MB\",\"1024.0 MB\",\"1024.0 MB\"],\"y0\":\" \",\"yaxis\":\"y\",\"type\":\"violin\"},{\"alignmentgroup\":\"True\",\"box\":{\"visible\":false},\"hovertemplate\":\"engine=hdf5-async\\u003cbr\\u003etime taken=%{x}\\u003cbr\\u003efilesize per chunk=%{y}\\u003cextra\\u003e\\u003c\\u002fextra\\u003e\",\"legendgroup\":\"hdf5-async\",\"marker\":{\"color\":\"#00cc96\"},\"name\":\"hdf5-async\",\"offsetgroup\":\"hdf5-async\",\"orientation\":\"h\",\"scalegroup\":\"True\",\"showlegend\":true,\"x\":[0.488818,0.15956199999999998,0.130557,0.128801,0.147416,0.134387,0.135026,0.130529,0.17788,0.142269],\"x0\":\" \",\"xaxis\":\"x\",\"y\":[\"1024.0 MB\",\"1024.0 MB\",\"1024.0 MB\",\"1024.0 MB\",\"1024.0 MB\",\"1024.0 MB\",\"1024.0 MB\",\"1024.0 MB\",\"1024.0 MB\",\"1024.0 MB\"],\"y0\":\" \",\"yaxis\":\"y\",\"type\":\"violin\"},{\"alignmentgroup\":\"True\",\"box\":{\"visible\":false},\"hovertemplate\":\"engine=netcdf4-c\\u003cbr\\u003etime taken=%{x}\\u003cbr\\u003efilesize per chunk=%{y}\\u003cextra\\u003e\\u003c\\u002fextra\\u003e\",\"legendgroup\":\"netcdf4-c\",\"marker\":{\"color\":\"#ab63fa\"},\"name\":\"netcdf4-c\",\"offsetgroup\":\"netcdf4-c\",\"orientation\":\"h\",\"scalegroup\":\"True\",\"showlegend\":true,\"x\":[0.602101,0.261602,0.165743,0.160828,0.160964,0.162638,0.166608,0.16283,0.161029,0.162787,0.16119,0.165231,0.162049,0.228676,0.15734299999999998,0.156792,0.157254,0.174684,0.17216099999999998,0.17028000000000001,0.163677,0.164027,0.167008,0.16619799999999998,0.16371000000000002,0.249969,0.163681,0.194128,0.170982,0.167784,0.166202,0.158468,0.157573,0.157942,0.159853,0.163013,0.165434,0.250596,0.165705,0.165467,0.16472699999999998,0.16599000000000003,0.16185000000000002,0.161995,0.161858,0.161,0.161017,0.161511,0.16245199999999999,0.253677,0.16170099999999998,0.16125899999999999,0.161732,0.16175,0.162327,0.16173099999999999,0.161686,0.163355,0.166156,0.187822,0.17108099999999998,0.213359,0.279502,0.210704,0.23077199999999998,0.172618,0.168672,0.165784,0.16625,0.168162,0.164674,0.163358,0.164461,0.263136,0.168314,0.168706,0.166732,0.162468,0.163489,0.16236299999999998,0.160739,0.16452799999999998,0.161527,0.161993,0.163982,0.252378,0.16166000000000003,0.161906,0.164388,0.17304799999999998,0.16678199999999999,0.165329,0.16675,0.163158,0.161529,0.16248,0.173807,0.281233,0.186132,0.226984],\"x0\":\" \",\"xaxis\":\"x\",\"y\":[\"1024.0 MB\",\"1024.0 MB\",\"1024.0 MB\",\"1024.0 MB\",\"1024.0 MB\",\"1024.0 MB\",\"1024.0 MB\",\"1024.0 MB\",\"1024.0 MB\",\"1024.0 MB\",\"1024.0 MB\",\"1024.0 MB\",\"1024.0 MB\",\"1024.0 MB\",\"1024.0 MB\",\"1024.0 MB\",\"1024.0 MB\",\"1024.0 MB\",\"1024.0 MB\",\"1024.0 MB\",\"1024.0 MB\",\"1024.0 MB\",\"1024.0 MB\",\"1024.0 MB\",\"1024.0 MB\",\"1024.0 MB\",\"1024.0 MB\",\"1024.0 MB\",\"1024.0 MB\",\"1024.0 MB\",\"1024.0 MB\",\"1024.0 MB\",\"1024.0 MB\",\"1024.0 MB\",\"1024.0 MB\",\"1024.0 MB\",\"1024.0 MB\",\"1024.0 MB\",\"1024.0 MB\",\"1024.0 MB\",\"1024.0 MB\",\"1024.0 MB\",\"1024.0 MB\",\"1024.0 MB\",\"1024.0 MB\",\"1024.0 MB\",\"1024.0 MB\",\"1024.0 MB\",\"1024.0 MB\",\"1024.0 MB\",\"1024.0 MB\",\"1024.0 MB\",\"1024.0 MB\",\"1024.0 MB\",\"1024.0 MB\",\"1024.0 MB\",\"1024.0 MB\",\"1024.0 MB\",\"1024.0 MB\",\"1024.0 MB\",\"1024.0 MB\",\"1024.0 MB\",\"1024.0 MB\",\"1024.0 MB\",\"1024.0 MB\",\"1024.0 MB\",\"1024.0 MB\",\"1024.0 MB\",\"1024.0 MB\",\"1024.0 MB\",\"1024.0 MB\",\"1024.0 MB\",\"1024.0 MB\",\"1024.0 MB\",\"1024.0 MB\",\"1024.0 MB\",\"1024.0 MB\",\"1024.0 MB\",\"1024.0 MB\",\"1024.0 MB\",\"1024.0 MB\",\"1024.0 MB\",\"1024.0 MB\",\"1024.0 MB\",\"1024.0 MB\",\"1024.0 MB\",\"1024.0 MB\",\"1024.0 MB\",\"1024.0 MB\",\"1024.0 MB\",\"1024.0 MB\",\"1024.0 MB\",\"1024.0 MB\",\"1024.0 MB\",\"1024.0 MB\",\"1024.0 MB\",\"1024.0 MB\",\"1024.0 MB\",\"1024.0 MB\",\"1024.0 MB\"],\"y0\":\" \",\"yaxis\":\"y\",\"type\":\"violin\"}],                        {\"template\":{\"data\":{\"histogram2dcontour\":[{\"type\":\"histogram2dcontour\",\"colorbar\":{\"outlinewidth\":0,\"ticks\":\"\"},\"colorscale\":[[0.0,\"#0d0887\"],[0.1111111111111111,\"#46039f\"],[0.2222222222222222,\"#7201a8\"],[0.3333333333333333,\"#9c179e\"],[0.4444444444444444,\"#bd3786\"],[0.5555555555555556,\"#d8576b\"],[0.6666666666666666,\"#ed7953\"],[0.7777777777777778,\"#fb9f3a\"],[0.8888888888888888,\"#fdca26\"],[1.0,\"#f0f921\"]]}],\"choropleth\":[{\"type\":\"choropleth\",\"colorbar\":{\"outlinewidth\":0,\"ticks\":\"\"}}],\"histogram2d\":[{\"type\":\"histogram2d\",\"colorbar\":{\"outlinewidth\":0,\"ticks\":\"\"},\"colorscale\":[[0.0,\"#0d0887\"],[0.1111111111111111,\"#46039f\"],[0.2222222222222222,\"#7201a8\"],[0.3333333333333333,\"#9c179e\"],[0.4444444444444444,\"#bd3786\"],[0.5555555555555556,\"#d8576b\"],[0.6666666666666666,\"#ed7953\"],[0.7777777777777778,\"#fb9f3a\"],[0.8888888888888888,\"#fdca26\"],[1.0,\"#f0f921\"]]}],\"heatmap\":[{\"type\":\"heatmap\",\"colorbar\":{\"outlinewidth\":0,\"ticks\":\"\"},\"colorscale\":[[0.0,\"#0d0887\"],[0.1111111111111111,\"#46039f\"],[0.2222222222222222,\"#7201a8\"],[0.3333333333333333,\"#9c179e\"],[0.4444444444444444,\"#bd3786\"],[0.5555555555555556,\"#d8576b\"],[0.6666666666666666,\"#ed7953\"],[0.7777777777777778,\"#fb9f3a\"],[0.8888888888888888,\"#fdca26\"],[1.0,\"#f0f921\"]]}],\"heatmapgl\":[{\"type\":\"heatmapgl\",\"colorbar\":{\"outlinewidth\":0,\"ticks\":\"\"},\"colorscale\":[[0.0,\"#0d0887\"],[0.1111111111111111,\"#46039f\"],[0.2222222222222222,\"#7201a8\"],[0.3333333333333333,\"#9c179e\"],[0.4444444444444444,\"#bd3786\"],[0.5555555555555556,\"#d8576b\"],[0.6666666666666666,\"#ed7953\"],[0.7777777777777778,\"#fb9f3a\"],[0.8888888888888888,\"#fdca26\"],[1.0,\"#f0f921\"]]}],\"contourcarpet\":[{\"type\":\"contourcarpet\",\"colorbar\":{\"outlinewidth\":0,\"ticks\":\"\"}}],\"contour\":[{\"type\":\"contour\",\"colorbar\":{\"outlinewidth\":0,\"ticks\":\"\"},\"colorscale\":[[0.0,\"#0d0887\"],[0.1111111111111111,\"#46039f\"],[0.2222222222222222,\"#7201a8\"],[0.3333333333333333,\"#9c179e\"],[0.4444444444444444,\"#bd3786\"],[0.5555555555555556,\"#d8576b\"],[0.6666666666666666,\"#ed7953\"],[0.7777777777777778,\"#fb9f3a\"],[0.8888888888888888,\"#fdca26\"],[1.0,\"#f0f921\"]]}],\"surface\":[{\"type\":\"surface\",\"colorbar\":{\"outlinewidth\":0,\"ticks\":\"\"},\"colorscale\":[[0.0,\"#0d0887\"],[0.1111111111111111,\"#46039f\"],[0.2222222222222222,\"#7201a8\"],[0.3333333333333333,\"#9c179e\"],[0.4444444444444444,\"#bd3786\"],[0.5555555555555556,\"#d8576b\"],[0.6666666666666666,\"#ed7953\"],[0.7777777777777778,\"#fb9f3a\"],[0.8888888888888888,\"#fdca26\"],[1.0,\"#f0f921\"]]}],\"mesh3d\":[{\"type\":\"mesh3d\",\"colorbar\":{\"outlinewidth\":0,\"ticks\":\"\"}}],\"scatter\":[{\"fillpattern\":{\"fillmode\":\"overlay\",\"size\":10,\"solidity\":0.2},\"type\":\"scatter\"}],\"parcoords\":[{\"type\":\"parcoords\",\"line\":{\"colorbar\":{\"outlinewidth\":0,\"ticks\":\"\"}}}],\"scatterpolargl\":[{\"type\":\"scatterpolargl\",\"marker\":{\"colorbar\":{\"outlinewidth\":0,\"ticks\":\"\"}}}],\"bar\":[{\"error_x\":{\"color\":\"#2a3f5f\"},\"error_y\":{\"color\":\"#2a3f5f\"},\"marker\":{\"line\":{\"color\":\"#E5ECF6\",\"width\":0.5},\"pattern\":{\"fillmode\":\"overlay\",\"size\":10,\"solidity\":0.2}},\"type\":\"bar\"}],\"scattergeo\":[{\"type\":\"scattergeo\",\"marker\":{\"colorbar\":{\"outlinewidth\":0,\"ticks\":\"\"}}}],\"scatterpolar\":[{\"type\":\"scatterpolar\",\"marker\":{\"colorbar\":{\"outlinewidth\":0,\"ticks\":\"\"}}}],\"histogram\":[{\"marker\":{\"pattern\":{\"fillmode\":\"overlay\",\"size\":10,\"solidity\":0.2}},\"type\":\"histogram\"}],\"scattergl\":[{\"type\":\"scattergl\",\"marker\":{\"colorbar\":{\"outlinewidth\":0,\"ticks\":\"\"}}}],\"scatter3d\":[{\"type\":\"scatter3d\",\"line\":{\"colorbar\":{\"outlinewidth\":0,\"ticks\":\"\"}},\"marker\":{\"colorbar\":{\"outlinewidth\":0,\"ticks\":\"\"}}}],\"scattermapbox\":[{\"type\":\"scattermapbox\",\"marker\":{\"colorbar\":{\"outlinewidth\":0,\"ticks\":\"\"}}}],\"scatterternary\":[{\"type\":\"scatterternary\",\"marker\":{\"colorbar\":{\"outlinewidth\":0,\"ticks\":\"\"}}}],\"scattercarpet\":[{\"type\":\"scattercarpet\",\"marker\":{\"colorbar\":{\"outlinewidth\":0,\"ticks\":\"\"}}}],\"carpet\":[{\"aaxis\":{\"endlinecolor\":\"#2a3f5f\",\"gridcolor\":\"white\",\"linecolor\":\"white\",\"minorgridcolor\":\"white\",\"startlinecolor\":\"#2a3f5f\"},\"baxis\":{\"endlinecolor\":\"#2a3f5f\",\"gridcolor\":\"white\",\"linecolor\":\"white\",\"minorgridcolor\":\"white\",\"startlinecolor\":\"#2a3f5f\"},\"type\":\"carpet\"}],\"table\":[{\"cells\":{\"fill\":{\"color\":\"#EBF0F8\"},\"line\":{\"color\":\"white\"}},\"header\":{\"fill\":{\"color\":\"#C8D4E3\"},\"line\":{\"color\":\"white\"}},\"type\":\"table\"}],\"barpolar\":[{\"marker\":{\"line\":{\"color\":\"#E5ECF6\",\"width\":0.5},\"pattern\":{\"fillmode\":\"overlay\",\"size\":10,\"solidity\":0.2}},\"type\":\"barpolar\"}],\"pie\":[{\"automargin\":true,\"type\":\"pie\"}]},\"layout\":{\"autotypenumbers\":\"strict\",\"colorway\":[\"#636efa\",\"#EF553B\",\"#00cc96\",\"#ab63fa\",\"#FFA15A\",\"#19d3f3\",\"#FF6692\",\"#B6E880\",\"#FF97FF\",\"#FECB52\"],\"font\":{\"color\":\"#2a3f5f\"},\"hovermode\":\"closest\",\"hoverlabel\":{\"align\":\"left\"},\"paper_bgcolor\":\"white\",\"plot_bgcolor\":\"#E5ECF6\",\"polar\":{\"bgcolor\":\"#E5ECF6\",\"angularaxis\":{\"gridcolor\":\"white\",\"linecolor\":\"white\",\"ticks\":\"\"},\"radialaxis\":{\"gridcolor\":\"white\",\"linecolor\":\"white\",\"ticks\":\"\"}},\"ternary\":{\"bgcolor\":\"#E5ECF6\",\"aaxis\":{\"gridcolor\":\"white\",\"linecolor\":\"white\",\"ticks\":\"\"},\"baxis\":{\"gridcolor\":\"white\",\"linecolor\":\"white\",\"ticks\":\"\"},\"caxis\":{\"gridcolor\":\"white\",\"linecolor\":\"white\",\"ticks\":\"\"}},\"coloraxis\":{\"colorbar\":{\"outlinewidth\":0,\"ticks\":\"\"}},\"colorscale\":{\"sequential\":[[0.0,\"#0d0887\"],[0.1111111111111111,\"#46039f\"],[0.2222222222222222,\"#7201a8\"],[0.3333333333333333,\"#9c179e\"],[0.4444444444444444,\"#bd3786\"],[0.5555555555555556,\"#d8576b\"],[0.6666666666666666,\"#ed7953\"],[0.7777777777777778,\"#fb9f3a\"],[0.8888888888888888,\"#fdca26\"],[1.0,\"#f0f921\"]],\"sequentialminus\":[[0.0,\"#0d0887\"],[0.1111111111111111,\"#46039f\"],[0.2222222222222222,\"#7201a8\"],[0.3333333333333333,\"#9c179e\"],[0.4444444444444444,\"#bd3786\"],[0.5555555555555556,\"#d8576b\"],[0.6666666666666666,\"#ed7953\"],[0.7777777777777778,\"#fb9f3a\"],[0.8888888888888888,\"#fdca26\"],[1.0,\"#f0f921\"]],\"diverging\":[[0,\"#8e0152\"],[0.1,\"#c51b7d\"],[0.2,\"#de77ae\"],[0.3,\"#f1b6da\"],[0.4,\"#fde0ef\"],[0.5,\"#f7f7f7\"],[0.6,\"#e6f5d0\"],[0.7,\"#b8e186\"],[0.8,\"#7fbc41\"],[0.9,\"#4d9221\"],[1,\"#276419\"]]},\"xaxis\":{\"gridcolor\":\"white\",\"linecolor\":\"white\",\"ticks\":\"\",\"title\":{\"standoff\":15},\"zerolinecolor\":\"white\",\"automargin\":true,\"zerolinewidth\":2},\"yaxis\":{\"gridcolor\":\"white\",\"linecolor\":\"white\",\"ticks\":\"\",\"title\":{\"standoff\":15},\"zerolinecolor\":\"white\",\"automargin\":true,\"zerolinewidth\":2},\"scene\":{\"xaxis\":{\"backgroundcolor\":\"#E5ECF6\",\"gridcolor\":\"white\",\"linecolor\":\"white\",\"showbackground\":true,\"ticks\":\"\",\"zerolinecolor\":\"white\",\"gridwidth\":2},\"yaxis\":{\"backgroundcolor\":\"#E5ECF6\",\"gridcolor\":\"white\",\"linecolor\":\"white\",\"showbackground\":true,\"ticks\":\"\",\"zerolinecolor\":\"white\",\"gridwidth\":2},\"zaxis\":{\"backgroundcolor\":\"#E5ECF6\",\"gridcolor\":\"white\",\"linecolor\":\"white\",\"showbackground\":true,\"ticks\":\"\",\"zerolinecolor\":\"white\",\"gridwidth\":2}},\"shapedefaults\":{\"line\":{\"color\":\"#2a3f5f\"}},\"annotationdefaults\":{\"arrowcolor\":\"#2a3f5f\",\"arrowhead\":0,\"arrowwidth\":1},\"geo\":{\"bgcolor\":\"white\",\"landcolor\":\"#E5ECF6\",\"subunitcolor\":\"white\",\"showland\":true,\"showlakes\":true,\"lakecolor\":\"white\"},\"title\":{\"x\":0.05},\"mapbox\":{\"style\":\"light\"}}},\"xaxis\":{\"anchor\":\"y\",\"domain\":[0.0,1.0],\"title\":{\"text\":\"time taken\"},\"type\":\"log\"},\"yaxis\":{\"anchor\":\"x\",\"domain\":[0.0,1.0],\"title\":{\"text\":\"filesize per chunk\"}},\"legend\":{\"title\":{\"text\":\"engine\"},\"tracegroupgap\":0},\"margin\":{\"t\":60},\"violinmode\":\"group\"},                        {\"responsive\": true}                    ).then(function(){\n",
       "                            \n",
       "var gd = document.getElementById('7c19352d-2d9e-4d5d-9547-b99f13e2ea46');\n",
       "var x = new MutationObserver(function (mutations, observer) {{\n",
       "        var display = window.getComputedStyle(gd).display;\n",
       "        if (!display || display === 'none') {{\n",
       "            console.log([gd, 'removed!']);\n",
       "            Plotly.purge(gd);\n",
       "            observer.disconnect();\n",
       "        }}\n",
       "}});\n",
       "\n",
       "// Listen for the removal of the full notebook cells\n",
       "var notebookContainer = gd.closest('#notebook-container');\n",
       "if (notebookContainer) {{\n",
       "    x.observe(notebookContainer, {childList: true});\n",
       "}}\n",
       "\n",
       "// Listen for the clearing of the current output cell\n",
       "var outputEl = gd.closest('.output');\n",
       "if (outputEl) {{\n",
       "    x.observe(outputEl, {childList: true});\n",
       "}}\n",
       "\n",
       "                        })                };                });            </script>        </div>"
      ]
     },
     "metadata": {},
     "output_type": "display_data"
    }
   ],
   "source": [
    "import plotly.express as px \n",
    "import plotly.graph_objects as go\n",
    "import numpy as np\n",
    "\n",
    "#pd.options.plotting.backend = \"plotly\"\n",
    "\n",
    "plot_previous = True\n",
    "save_previous = True\n",
    "\n",
    "df = df_bench \n",
    "\n",
    "\n",
    "# plot development in time taken by chunksize\n",
    "filter = df[\"format\"].drop_duplicates(ignore_index=True)\n",
    "smth = pd.DataFrame()\n",
    "for format in filter:\n",
    "    mask = df[\"format\"].values == format\n",
    "    df_format = df[mask]\n",
    "    mean =  df_format[\"time taken\"].mean()\n",
    "    tmp = pd.DataFrame(data=[{\"mean time\": mean, \"format\": format, \"engine\": df_format[\"engine\"].iat[0], \"run\": df_format[\"run\"].iat[0], \"filesize per chunk\": df_format[\"filesize per chunk\"].iat[0]}])\n",
    "    smth = pd.concat([smth, tmp], ignore_index=True)\n",
    "\n",
    "if plot_previous:\n",
    "    filter = df_prev[\"format\"].drop_duplicates(ignore_index=True)  \n",
    "    prev_smth = pd.DataFrame()\n",
    "    for format in filter:\n",
    "        mask = df_prev[\"format\"].values == format\n",
    "        df_format = df_prev[mask]\n",
    "        mean =  df_format[\"time taken\"].mean()\n",
    "        tmp = pd.DataFrame(data=[{\"mean time\": mean, \"format\": format, \"engine\": df_format[\"engine\"].iat[0], \"run\": df_format[\"run\"].iat[0], \"filesize per chunk\": df_format[\"filesize per chunk\"].iat[0]}])\n",
    "        prev_smth = pd.concat([prev_smth, tmp], ignore_index=True)\n",
    "\n",
    "fig = px.line(data_frame=smth, log_y=True, x=\"filesize per chunk\", y=\"mean time\", color=\"engine\", markers=True, hover_data=[\"format\"], title=\"loading complete dataset with varying chunksizes\")\n",
    "fig.show()\n",
    "\n",
    "if plot_previous:\n",
    "    fig = px.line(data_frame=prev_smth, log_y=True, x=\"filesize per chunk\", y=\"mean time\", color=\"engine\", markers=True, hover_data=[\"format\"], title=\"previous: loading complete dataset with varying chunksizes\")\n",
    "    fig.show()\n",
    "\n",
    "# plot runs by engine\n",
    "fig = px.box(data_frame=df, log_y=True, x=\"engine\", y=\"time taken\", color=\"run\", hover_data=[\"format\"])\n",
    "fig.show()\n",
    "\n",
    "if plot_previous:\n",
    "    fig = px.box(data_frame=df_prev, log_y=True, x=\"engine\", y=\"time taken\", color=\"run\", hover_data=[\"format\"])\n",
    "    fig.show()\n",
    "\n",
    "# plot formats by chunksize\n",
    "fig = px.box(data_frame=df, log_y=True, x=\"filesize per chunk\", y=\"time taken\", color=\"engine\", hover_data=[\"format\"], title=\"filesize per chunk\")\n",
    "fig.show()\n",
    "\n",
    "if plot_previous:\n",
    "    fig =  fig = px.box(data_frame=df_prev, log_y=True, x=\"filesize per chunk\", y=\"time taken\", color=\"engine\", hover_data=[\"format\"], title=\"previous: filesize per chunk\")\n",
    "    fig.show()\n",
    "\n",
    "filter = df[\"engine\"].drop_duplicates(ignore_index=True)\n",
    "\n",
    "for engine in filter:\n",
    "    \n",
    "    mask = df[\"engine\"].values == engine\n",
    "    df_engine = df[mask]\n",
    "    fig =  fig = px.box(data_frame=df_engine, log_y=True, x=\"engine\", y=\"time taken\", color=\"filesize per chunk\",)\n",
    "    fig.show()\n",
    "\n",
    "\n",
    "filter = df[\"run\"].drop_duplicates(ignore_index=True)\n",
    "\n",
    "fig = px.violin(data_frame=df, log_x=True, x=\"time taken\", y=\"format\", color=\"engine\")\n",
    "fig.show()\n",
    "\n",
    "for engine in filter:\n",
    "    \n",
    "    mask = df[\"run\"].values == engine\n",
    "    fig = px.box(data_frame=df[mask], log_y=True, x=\"engine\", y=\"time taken\", color=\"filesize per chunk\", points=\"all\",)\n",
    "    #fig.show()\n",
    "    \n",
    "    fig = px.violin(data_frame=df[mask], log_x=True, x=\"time taken\", y=\"filesize per chunk\", color=\"engine\")\n",
    "    fig.show()\n",
    "    \n",
    "\n",
    "if save_previous:\n",
    "    df.to_json(\"data/plotting/plotting_previous.json\")"
   ]
  },
  {
   "cell_type": "code",
   "execution_count": 16,
   "id": "2c9f8b09",
   "metadata": {},
   "outputs": [],
   "source": [
    "%%script false --no-raise-error\n",
    "from mpi4py import MPI\n",
    "import numpy as np\n",
    "from netCDF4 import Dataset\n",
    "\n",
    "rank = MPI.COMM_WORLD.rank\n",
    "nc = Dataset('parallel_test.nc','w',parallel=True)\n",
    "d = nc.createDimension('dim',4)\n",
    "v = nc.createVariable('var', np.int64, 'dim')\n",
    "v[rank] = rank\n",
    "nc.close()"
   ]
  },
  {
   "cell_type": "code",
   "execution_count": null,
   "id": "aee7f3a8",
   "metadata": {},
   "outputs": [],
   "source": [
    "%%script false --no-raise-error\n",
    "import pandas as pd\n",
    "\n",
    "log = [0, 1, 2, 3, 4, 5, 6, 7]\n",
    "log2 = [7, 15, 154, 155, 566,7 ,8]\n",
    "\n",
    "df_test = pd.DataFrame()\n",
    "\n",
    "\n",
    "df_tmp = pd.DataFrame(data={\"time taken\": log, \"format\": f\"lol-{5}-{5}\", \"id\": 0})\n",
    "df_tmp2 = pd.DataFrame(data={\"time taken\": log2, \"format\": f\"lol-{6}-{6}\", \"id\": 1})\n",
    "\n",
    "df_test = pd.concat([df_test, df_tmp], ignore_index=True)\n",
    "df_test = pd.concat([df_test, df_tmp2], ignore_index=True)\n",
    "\n",
    "#print(df_test)\n",
    "\n",
    "filters = df_test[\"id\"].drop_duplicates(ignore_index=True)\n",
    "\n",
    "for id in filters:\n",
    "    \n",
    "    mask = df_test[\"id\"].values == id\n",
    "    some = df_test[mask]\n",
    "    \n",
    "    print(f\"value picked for {id} are {some}\")"
   ]
  }
 ],
 "metadata": {
  "kernelspec": {
   "display_name": ".venv",
   "language": "python",
   "name": "python3"
  },
  "language_info": {
   "codemirror_mode": {
    "name": "ipython",
    "version": 3
   },
   "file_extension": ".py",
   "mimetype": "text/x-python",
   "name": "python",
   "nbconvert_exporter": "python",
   "pygments_lexer": "ipython3",
   "version": "3.11.9"
  }
 },
 "nbformat": 4,
 "nbformat_minor": 5
}

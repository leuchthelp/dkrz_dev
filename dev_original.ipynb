{
 "cells": [
  {
   "cell_type": "code",
   "execution_count": 10,
   "id": "c6729ccd",
   "metadata": {},
   "outputs": [
    {
     "data": {
      "text/plain": [
       "<func.datastruct.Datastruct at 0x7facd36d21d0>"
      ]
     },
     "execution_count": 10,
     "metadata": {},
     "output_type": "execute_result"
    }
   ],
   "source": [
    "import func.datastruct as ds\n",
    "\n",
    "ds_zarr = ds.Datastruct()\n",
    "ds_hdf5 = ds.Datastruct()\n",
    "ds_netcdf4 = ds.Datastruct()\n",
    "#new.create(path=\"data/test_dataset.zarr\", shape=(512, 512, 512), chunks=(512, 512, 8), mode=\"r+\", engine=\"zarr\")\n",
    "\n",
    "ds_zarr.create(path=\"data/datasets/test_dataset.zarr\", shape=(512, 512, 512), chunks=(512, 512, 8), engine=\"zarr\")\n",
    "ds_hdf5.create(path=\"data/datasets/test_dataset.h5\", shape=(512, 512, 512), chunks=(512, 512, 8), engine=\"hdf5\")\n",
    "ds_netcdf4.create(path=\"data/datasets/test_dataset.nc\", shape=(512, 512, 512), chunks=(512, 512, 8), engine=\"netcdf4\")\n",
    "\n"
   ]
  },
  {
   "cell_type": "code",
   "execution_count": 1,
   "id": "2ef21c3b",
   "metadata": {},
   "outputs": [
    {
     "data": {
      "text/plain": [
       "<class 'netCDF4._netCDF4.Variable'>\n",
       "float64 X(u, v, w)\n",
       "unlimited dimensions: \n",
       "current shape = (512, 512, 512)\n",
       "filling on, default _FillValue of 9.969209968386869e+36 used"
      ]
     },
     "execution_count": 1,
     "metadata": {},
     "output_type": "execute_result"
    }
   ],
   "source": [
    "\n",
    "import func.datastruct as ds\n",
    "\n",
    "ds_zarr = ds.Datastruct()\n",
    "ds_zarr.open(mode=\"r+\", engine=\"zarr\", path=\"data/datasets/test_dataset.zarr\")\n",
    "\n",
    "#print(ds_zarr.dataset[\"X\"].info_complete())\n",
    "#print(ds_zarr.dataset.tree())\n",
    "\n",
    "ds_netcdf4 = ds.Datastruct()\n",
    "ds_netcdf4.open(mode=\"r+\", engine=\"netcdf4\", path=\"data/datasets/test_dataset.nc\")\n",
    "\n",
    "#print(ds_netcdf4.dataset)\n",
    "\n",
    "#ds_hdf5 = ds.Datastruct()\n",
    "#ds_hdf5.open(mode=\"r+\", engine=\"hdf5\", path=\"data/datasets/test_dataset.h5\")\n",
    "\n",
    "#print(ds_hdf5.dataset)\n",
    "\n",
    "#ds_zarr.read(pattern=\"header\", variable=\"X\")\n",
    "ds_netcdf4.read(pattern=\"header\", variable=\"X\")\n",
    "#ds_hdf5.read(pattern=\"header\", variable=\"X\")"
   ]
  }
 ],
 "metadata": {
  "kernelspec": {
   "display_name": ".venv",
   "language": "python",
   "name": "python3"
  },
  "language_info": {
   "codemirror_mode": {
    "name": "ipython",
    "version": 3
   },
   "file_extension": ".py",
   "mimetype": "text/x-python",
   "name": "python",
   "nbconvert_exporter": "python",
   "pygments_lexer": "ipython3",
   "version": "3.11.9"
  }
 },
 "nbformat": 4,
 "nbformat_minor": 5
}

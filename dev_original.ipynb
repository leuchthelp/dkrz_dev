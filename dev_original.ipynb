{
 "cells": [
  {
   "cell_type": "code",
   "execution_count": null,
   "id": "496e5d1d",
   "metadata": {},
   "outputs": [],
   "source": [
    "import zarr\n",
    "import numpy as np\n",
    "\n",
    "path = \"c-stuff/data/datasets/test_dataset.zarr\"\n",
    "shape = (134217728)\n",
    "variable = \"X\"\n",
    "dtype = \"f8\"\n",
    "\n",
    "root = zarr.create_group(store=path, zarr_format=2, overwrite=True)\n",
    "x = root.create_array(name=variable, shape=shape, dtype=dtype)\n",
    "x[:] = np.random.random_sample(shape)"
   ]
  },
  {
   "cell_type": "code",
   "execution_count": 1,
   "id": "d044902c",
   "metadata": {},
   "outputs": [],
   "source": [
    "#%%script false --no-raise-error\n",
    "import pandas as pd\n",
    "\n",
    "df_bench = pd.read_json(\"data/plotting/plotting_bench_c.json\")"
   ]
  },
  {
   "cell_type": "code",
   "execution_count": 3,
   "id": "2c2991fa",
   "metadata": {},
   "outputs": [],
   "source": [
    "#%%script false --no-raise-error\n",
    "import pandas as pd\n",
    "\n",
    "df_bench = pd.read_json(\"data/plotting/plotting_bench_python.json\")"
   ]
  },
  {
   "cell_type": "code",
   "execution_count": 1,
   "id": "620e54dd",
   "metadata": {},
   "outputs": [],
   "source": [
    "#%%script false --no-raise-error\n",
    "import pandas as pd\n",
    "\n",
    "df_bench = pd.read_json(\"data/plotting/plotting_bench_variable(1).json\")"
   ]
  },
  {
   "cell_type": "code",
   "execution_count": 1,
   "id": "b5e9077d",
   "metadata": {},
   "outputs": [],
   "source": [
    "#%%script false --no-raise-error\n",
    "import pandas as pd\n",
    "\n",
    "df_bench = pd.read_json(\"data/plotting/plotting_bench_variable.json\")\n",
    "df_prev = pd.read_json(\"data/plotting/plotting_previous.json\")"
   ]
  },
  {
   "cell_type": "code",
   "execution_count": 4,
   "id": "f827fcd7",
   "metadata": {},
   "outputs": [],
   "source": [
    "import plotly.express as px \n",
    "import numpy as np\n",
    "\n",
    "df = df_bench \n",
    "\n",
    "\n",
    "# plot development in time taken by chunksize\n",
    "filter = df[\"format\"].drop_duplicates(ignore_index=True)\n",
    "smth = pd.DataFrame()\n",
    "for format in filter:\n",
    "    mask = df[\"format\"].values == format\n",
    "    df_format = df[mask]\n",
    "    \n",
    "    mean =  df_format[\"time taken\"].mean()\n",
    "    str_filesize = df_format[\"total filesize\"].iat[0]\n",
    "    filesize = float(str_filesize.split()[0])\n",
    "    unit = f\"{str_filesize.split()[1]}/s\"\n",
    "\n",
    "    data_rate = filesize / mean\n",
    "    \n",
    "    tmp = pd.DataFrame(data=[{\"mean time\": mean, \"format\": format, \"engine\": df_format[\"engine\"].iat[0], \"run\": df_format[\"run\"].iat[0], \"total filesize\": df_format[\"total filesize\"].iat[0], \"data rate\": data_rate, \"unit\":unit}])\n",
    "    smth = pd.concat([smth, tmp], ignore_index=True)\n",
    "\n",
    "fig = px.line(data_frame=smth, log_y=True, x=\"total filesize\", y=\"mean time\", color=\"engine\", markers=True, hover_data=[\"format\"], title=\"average time in seconds (s)\")\n",
    "fig.show()\n",
    "fig.write_image(\"images/python-line-total-filesize.svg\", width=900, height=500, scale=1)\n",
    "\n",
    "unit = smth[\"unit\"].iat[0]\n",
    "fig = px.bar(data_frame=smth, x=\"total filesize\", y=\"data rate\", color=\"engine\", barmode='group', hover_data=[\"format\"], title=f\"data rate in {unit}\")\n",
    "fig.show()\n",
    "fig.write_image(\"images/python-box-datarate.svg\", width=900, height=500, scale=1)\n",
    "\n",
    "# plot runs by engine\n",
    "fig = px.box(data_frame=df, log_y=True, x=\"engine\", y=\"time taken\", color=\"run\", hover_data=[\"format\", \"filesize per chunk\"])\n",
    "fig.show()\n",
    "\n",
    "# plot formats by chunksize\n",
    "fig = px.box(data_frame=df, log_y=True, x=\"total filesize\", y=\"time taken\", color=\"engine\", hover_data=[\"format\", \"filesize per chunk\"], title=\"total filesize\")\n",
    "fig.show()\n",
    "\n",
    "filter = df[\"engine\"].drop_duplicates(ignore_index=True)\n",
    "\n",
    "for engine in filter:\n",
    "    \n",
    "    mask = df[\"engine\"].values == engine\n",
    "    df_engine = df[mask]\n",
    "    fig =  fig = px.box(data_frame=df_engine, log_y=True, x=\"engine\", y=\"time taken\", color=\"total filesize\",)\n",
    "    fig.show()\n",
    "\n",
    "\n",
    "filter = df[\"run\"].drop_duplicates(ignore_index=True)\n",
    "\n",
    "fig = px.violin(data_frame=df, log_x=True, x=\"time taken\", y=\"format\", color=\"engine\")\n",
    "fig.show()\n",
    "\n",
    "for engine in filter:\n",
    "    \n",
    "    mask = df[\"run\"].values == engine\n",
    "    fig = px.box(data_frame=df[mask], log_y=True, x=\"engine\", y=\"time taken\", color=\"total filesize\", points=\"all\",)\n",
    "    #fig.show()\n",
    "    \n",
    "    fig = px.violin(data_frame=df[mask], log_x=True, x=\"time taken\", y=\"total filesize\", color=\"engine\")\n",
    "    fig.show()\n"
   ]
  }
 ],
 "metadata": {
  "kernelspec": {
   "display_name": "local-venv-kernel",
   "language": "python",
   "name": "local-venv-kernel"
  },
  "language_info": {
   "codemirror_mode": {
    "name": "ipython",
    "version": 3
   },
   "file_extension": ".py",
   "mimetype": "text/x-python",
   "name": "python",
   "nbconvert_exporter": "python",
   "pygments_lexer": "ipython3",
   "version": "3.11.9"
  }
 },
 "nbformat": 4,
 "nbformat_minor": 5
}

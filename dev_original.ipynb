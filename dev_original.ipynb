{
 "cells": [
  {
   "cell_type": "code",
   "execution_count": null,
   "id": "c6729ccd",
   "metadata": {},
   "outputs": [
    {
     "data": {
      "text/plain": [
       "<func.datastruct.Datastruct at 0x7f4f8363ec90>"
      ]
     },
     "execution_count": 2,
     "metadata": {},
     "output_type": "execute_result"
    }
   ],
   "source": [
    "import func.datastruct as ds\n",
    "\n",
    "ds_zarr = ds.Datastruct()\n",
    "ds_hdf5 = ds.Datastruct()\n",
    "ds_netcdf4 = ds.Datastruct()\n",
    "#new.create(path=\"data/test_dataset.zarr\", shape=(512, 512, 512), chunks=(512, 512, 8), mode=\"r+\", engine=\"zarr\")\n",
    "\n",
    "ds_zarr.create(path=\"data/datasets/test_dataset.zarr\", shape=(512, 512, 512), chunks=(512, 512, 8), engine=\"zarr\")\n",
    "ds_hdf5.create(path=\"data/datasets/test_dataset.h5\", shape=(512, 512, 512), chunks=(512, 512, 8), engine=\"hdf5\")\n",
    "ds_netcdf4.create(path=\"data/datasets/test_dataset.nc\", shape=(512, 512, 512), chunks=(512, 512, 8), engine=\"netcdf4\")\n",
    "\n"
   ]
  },
  {
   "cell_type": "code",
   "execution_count": 5,
   "id": "2ef21c3b",
   "metadata": {},
   "outputs": [
    {
     "data": {
      "text/plain": [
       "<Group file://data/test_dataset.zarr>"
      ]
     },
     "execution_count": 5,
     "metadata": {},
     "output_type": "execute_result"
    }
   ],
   "source": [
    "\n",
    "ds_zarr.open(\"r+\")\n",
    "\n",
    "ds_zarr.dataset"
   ]
  }
 ],
 "metadata": {
  "kernelspec": {
   "display_name": ".venv",
   "language": "python",
   "name": "python3"
  },
  "language_info": {
   "codemirror_mode": {
    "name": "ipython",
    "version": 3
   },
   "file_extension": ".py",
   "mimetype": "text/x-python",
   "name": "python",
   "nbconvert_exporter": "python",
   "pygments_lexer": "ipython3",
   "version": "3.11.9"
  }
 },
 "nbformat": 4,
 "nbformat_minor": 5
}

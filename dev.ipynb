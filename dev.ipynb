{
 "cells": [
  {
   "cell_type": "code",
   "execution_count": 1,
   "id": "initial_id",
   "metadata": {
    "ExecuteTime": {
     "end_time": "2024-11-07T10:06:19.818632Z",
     "start_time": "2024-11-07T10:06:19.816309Z"
    }
   },
   "outputs": [],
   "source": [
    "from netCDF4 import Dataset\n",
    "import zarr, h5py, fsspec\n",
    "import xarray as xr\n",
    "import os.path\n",
    "from mpi4py import MPI\n",
    "\n"
   ]
  },
  {
   "cell_type": "code",
   "execution_count": 2,
   "id": "3d441978f431651b",
   "metadata": {
    "ExecuteTime": {
     "end_time": "2024-11-07T10:06:24.270989Z",
     "start_time": "2024-11-07T10:06:24.266269Z"
    }
   },
   "outputs": [],
   "source": [
    "%%script false --no-raise-error\n",
    "if __name__ == '__main__':\n",
    "    #Todo read up on hdf5, zarr, netcdf, xarray, mpi, lustre, ceph\n",
    "    # and check back with dkrz their structure, code conventions, datasets\n",
    "\n",
    "    # Todo setup test cases proactively to ensure proper comparability and best practice\n",
    "\n",
    "    #Todo use netcdf dataset for testing (for now) should already bet hdf5\n",
    "    dest_hdf = Dataset(\"data/source.nc\", \"w\", format=\"NETCDF4\")\n",
    "    print(dest_hdf.data_model)\n",
    "    dest_hdf.close()\n",
    "\n",
    "    #Todo import netcdf data through hdf5 to zarr (for now)\n",
    "    dest_zarr = zarr.open_group('data/example2.zarr', mode='w')\n",
    "    zarr.copy_all(dest_hdf, dest_zarr)\n",
    "    dest_zarr.tree()\n",
    "\n",
    "    #Todo conversion to netcdf\n",
    "\n",
    "    #for hdf5 nothing needs to be done\n",
    "\n",
    "    #for zarr (wip). netcdf is developing its own implementation\n",
    "    # but that isn't available yet so I will work on something myself in the meantime\n",
    "\n",
    "    #Todo setup Lustre and Ceph (need info on that)\n",
    "\n",
    "    #Todo setup benchmark (prob compression, filesize, access-time, r/w-time) for sequential access\n",
    "\n",
    "    #Todo setup benchmark for parallel access\n",
    "\n",
    "    #Todo setup benchmark for random access\n",
    "\n",
    "    #Todo setup benchmark for parallel with subfileing and async / I/O\n"
   ]
  },
  {
   "cell_type": "code",
   "execution_count": 3,
   "id": "316211b7bd13977d",
   "metadata": {
    "ExecuteTime": {
     "end_time": "2024-11-07T10:06:33.237088Z",
     "start_time": "2024-11-07T10:06:27.742801Z"
    }
   },
   "outputs": [
    {
     "name": "stderr",
     "output_type": "stream",
     "text": [
      "2024-11-07 11:11:35.781298: I tensorflow/core/util/port.cc:153] oneDNN custom operations are on. You may see slightly different numerical results due to floating-point round-off errors from different computation orders. To turn them off, set the environment variable `TF_ENABLE_ONEDNN_OPTS=0`.\n",
      "2024-11-07 11:11:35.781828: I external/local_xla/xla/tsl/cuda/cudart_stub.cc:32] Could not find cuda drivers on your machine, GPU will not be used.\n",
      "2024-11-07 11:11:35.783411: I external/local_xla/xla/tsl/cuda/cudart_stub.cc:32] Could not find cuda drivers on your machine, GPU will not be used.\n",
      "2024-11-07 11:11:35.788098: E external/local_xla/xla/stream_executor/cuda/cuda_fft.cc:477] Unable to register cuFFT factory: Attempting to register factory for plugin cuFFT when one has already been registered\n",
      "WARNING: All log messages before absl::InitializeLog() is called are written to STDERR\n",
      "E0000 00:00:1730974295.795513    5078 cuda_dnn.cc:8310] Unable to register cuDNN factory: Attempting to register factory for plugin cuDNN when one has already been registered\n",
      "E0000 00:00:1730974295.797708    5078 cuda_blas.cc:1418] Unable to register cuBLAS factory: Attempting to register factory for plugin cuBLAS when one has already been registered\n",
      "2024-11-07 11:11:35.806280: I tensorflow/core/platform/cpu_feature_guard.cc:210] This TensorFlow binary is optimized to use available CPU instructions in performance-critical operations.\n",
      "To enable the following instructions: AVX2 AVX512F AVX512_VNNI AVX512_BF16 FMA, in other operations, rebuild TensorFlow with the appropriate compiler flags.\n"
     ]
    }
   ],
   "source": [
    "from keras.datasets import cifar10\n",
    "import numpy as np\n",
    "import h5py\n",
    "\n",
    "(x_img_train, y_label_train), (x_img_test, y_label_test) = cifar10.load_data()\n",
    "\n",
    "# create HDF5 file\n",
    "with h5py.File('data/test_ds.hdf5', 'w') as hf:\n",
    "    dset_x_train = hf.create_dataset('x_train', data=x_img_train, shape=(50000, 32, 32, 3), compression='gzip', chunks=True)\n",
    "    dset_y_train = hf.create_dataset('y_train', data=y_label_train, shape=(50000, 1), compression='gzip', chunks=True)\n",
    "    dset_x_test = hf.create_dataset('x_test', data=x_img_test, shape=(10000, 32, 32, 3), compression='gzip', chunks=True)\n",
    "    dset_y_test = hf.create_dataset('y_test', data=y_label_test, shape=(10000, 1), compression='gzip', chunks=True)"
   ]
  },
  {
   "cell_type": "code",
   "execution_count": 4,
   "id": "f93924c7b041d484",
   "metadata": {
    "ExecuteTime": {
     "end_time": "2024-11-07T10:06:46.023619Z",
     "start_time": "2024-11-07T10:06:45.677187Z"
    }
   },
   "outputs": [],
   "source": [
    "#Todo prepare dataset for testing\n",
    "\n",
    "# filepath_zarr = 'https://power-datastore.s3.amazonaws.com/v9/climatology/power_901_climatology_meteorology_utc.zarr'\n",
    "# \n",
    "# filepath_mapped_zarr = fsspec.get_mapper(filepath_zarr)\n",
    "\n",
    "ds = xr.open_dataset(\"data/test_ds.hdf5\", engine=\"h5netcdf\", phony_dims=\"access\")\n",
    "\n",
    "ds.to_netcdf('data/test_dataset.nc', mode=\"w\")\n",
    "\n",
    "ds.to_zarr(\"data/test_dataset.zarr\", mode=\"w\")\n",
    "\n",
    "filepath_mapped_zarr = 'data/test_dataset.zarr'\n",
    "\n",
    "filepath_nc = 'data/test_dataset.nc'\n",
    "\n"
   ]
  },
  {
   "cell_type": "code",
   "execution_count": 21,
   "id": "3ff585ad6e144f61",
   "metadata": {},
   "outputs": [
    {
     "name": "stdout",
     "output_type": "stream",
     "text": [
      "CPU times: user 1.63 ms, sys: 110 μs, total: 1.74 ms\n",
      "Wall time: 1.45 ms\n"
     ]
    }
   ],
   "source": [
    "%%time \n",
    "ds_zarr = xr.open_zarr(filepath_mapped_zarr, consolidated=True)\n"
   ]
  },
  {
   "cell_type": "code",
   "execution_count": 22,
   "id": "d37e8dda5b5ccdb5",
   "metadata": {},
   "outputs": [
    {
     "name": "stdout",
     "output_type": "stream",
     "text": [
      "CPU times: user 285 ms, sys: 80 ms, total: 365 ms\n",
      "Wall time: 339 ms\n"
     ]
    }
   ],
   "source": [
    "%%time \n",
    "max_var = ds_zarr[\"x_train\"].max().compute()\n"
   ]
  },
  {
   "cell_type": "code",
   "execution_count": 23,
   "id": "3a1222041420b736",
   "metadata": {},
   "outputs": [
    {
     "name": "stdout",
     "output_type": "stream",
     "text": [
      "CPU times: user 6.98 ms, sys: 497 μs, total: 7.48 ms\n",
      "Wall time: 6.93 ms\n"
     ]
    }
   ],
   "source": [
    "%%time\n",
    "ds_hdf5 = xr.open_dataset(filename_or_obj=filepath_nc, engine=\"h5netcdf\")\n"
   ]
  },
  {
   "cell_type": "code",
   "execution_count": 24,
   "id": "fcd381f7ab539d1c",
   "metadata": {},
   "outputs": [
    {
     "name": "stdout",
     "output_type": "stream",
     "text": [
      "CPU times: user 827 ms, sys: 1.71 ms, total: 829 ms\n",
      "Wall time: 800 ms\n"
     ]
    }
   ],
   "source": [
    "%%time\n",
    "max_var = ds_hdf5[\"x_train\"].max().compute()"
   ]
  },
  {
   "cell_type": "code",
   "execution_count": 4,
   "id": "b605cf91-8b72-4cd3-a34f-19c3a085cbfa",
   "metadata": {},
   "outputs": [
    {
     "ename": "OSError",
     "evalue": "[Errno -101] NetCDF: HDF error: '/home/test/dkrz_dev/data/4f6e0dccfcfe4f76f1e64f187cc0551c.nc'",
     "output_type": "error",
     "traceback": [
      "\u001B[0;31m---------------------------------------------------------------------------\u001B[0m",
      "\u001B[0;31mKeyError\u001B[0m                                  Traceback (most recent call last)",
      "File \u001B[0;32m~/dkrz_dev/venv/lib/python3.12/site-packages/xarray/backends/file_manager.py:211\u001B[0m, in \u001B[0;36mCachingFileManager._acquire_with_cache_info\u001B[0;34m(self, needs_lock)\u001B[0m\n\u001B[1;32m    210\u001B[0m \u001B[38;5;28;01mtry\u001B[39;00m:\n\u001B[0;32m--> 211\u001B[0m     file \u001B[38;5;241m=\u001B[39m \u001B[38;5;28;43mself\u001B[39;49m\u001B[38;5;241;43m.\u001B[39;49m\u001B[43m_cache\u001B[49m\u001B[43m[\u001B[49m\u001B[38;5;28;43mself\u001B[39;49m\u001B[38;5;241;43m.\u001B[39;49m\u001B[43m_key\u001B[49m\u001B[43m]\u001B[49m\n\u001B[1;32m    212\u001B[0m \u001B[38;5;28;01mexcept\u001B[39;00m \u001B[38;5;167;01mKeyError\u001B[39;00m:\n",
      "File \u001B[0;32m~/dkrz_dev/venv/lib/python3.12/site-packages/xarray/backends/lru_cache.py:56\u001B[0m, in \u001B[0;36mLRUCache.__getitem__\u001B[0;34m(self, key)\u001B[0m\n\u001B[1;32m     55\u001B[0m \u001B[38;5;28;01mwith\u001B[39;00m \u001B[38;5;28mself\u001B[39m\u001B[38;5;241m.\u001B[39m_lock:\n\u001B[0;32m---> 56\u001B[0m     value \u001B[38;5;241m=\u001B[39m \u001B[38;5;28;43mself\u001B[39;49m\u001B[38;5;241;43m.\u001B[39;49m\u001B[43m_cache\u001B[49m\u001B[43m[\u001B[49m\u001B[43mkey\u001B[49m\u001B[43m]\u001B[49m\n\u001B[1;32m     57\u001B[0m     \u001B[38;5;28mself\u001B[39m\u001B[38;5;241m.\u001B[39m_cache\u001B[38;5;241m.\u001B[39mmove_to_end(key)\n",
      "\u001B[0;31mKeyError\u001B[0m: [<class 'netCDF4._netCDF4.Dataset'>, ('/home/test/dkrz_dev/data/4f6e0dccfcfe4f76f1e64f187cc0551c.nc',), 'r', (('clobber', True), ('diskless', False), ('format', 'NETCDF4'), ('persist', False)), '18bf23b7-4a12-47c2-8402-0211e6c8f1af']",
      "\nDuring handling of the above exception, another exception occurred:\n",
      "\u001B[0;31mOSError\u001B[0m                                   Traceback (most recent call last)",
      "Cell \u001B[0;32mIn[4], line 2\u001B[0m\n\u001B[1;32m      1\u001B[0m \u001B[38;5;28;01mimport\u001B[39;00m \u001B[38;5;21;01mxarray\u001B[39;00m \u001B[38;5;28;01mas\u001B[39;00m \u001B[38;5;21;01mxr\u001B[39;00m\n\u001B[0;32m----> 2\u001B[0m ds1 \u001B[38;5;241m=\u001B[39m \u001B[43mxr\u001B[49m\u001B[38;5;241;43m.\u001B[39;49m\u001B[43mopen_dataset\u001B[49m\u001B[43m(\u001B[49m\u001B[43mfilename_or_obj\u001B[49m\u001B[38;5;241;43m=\u001B[39;49m\u001B[38;5;124;43m\"\u001B[39;49m\u001B[38;5;124;43mdata/4f6e0dccfcfe4f76f1e64f187cc0551c.nc\u001B[39;49m\u001B[38;5;124;43m\"\u001B[39;49m\u001B[43m,\u001B[49m\u001B[43m \u001B[49m\u001B[43mengine\u001B[49m\u001B[38;5;241;43m=\u001B[39;49m\u001B[38;5;124;43m\"\u001B[39;49m\u001B[38;5;124;43mnetcdf4\u001B[39;49m\u001B[38;5;124;43m\"\u001B[39;49m\u001B[43m)\u001B[49m\n",
      "File \u001B[0;32m~/dkrz_dev/venv/lib/python3.12/site-packages/xarray/backends/api.py:671\u001B[0m, in \u001B[0;36mopen_dataset\u001B[0;34m(filename_or_obj, engine, chunks, cache, decode_cf, mask_and_scale, decode_times, decode_timedelta, use_cftime, concat_characters, decode_coords, drop_variables, inline_array, chunked_array_type, from_array_kwargs, backend_kwargs, **kwargs)\u001B[0m\n\u001B[1;32m    659\u001B[0m decoders \u001B[38;5;241m=\u001B[39m _resolve_decoders_kwargs(\n\u001B[1;32m    660\u001B[0m     decode_cf,\n\u001B[1;32m    661\u001B[0m     open_backend_dataset_parameters\u001B[38;5;241m=\u001B[39mbackend\u001B[38;5;241m.\u001B[39mopen_dataset_parameters,\n\u001B[0;32m   (...)\u001B[0m\n\u001B[1;32m    667\u001B[0m     decode_coords\u001B[38;5;241m=\u001B[39mdecode_coords,\n\u001B[1;32m    668\u001B[0m )\n\u001B[1;32m    670\u001B[0m overwrite_encoded_chunks \u001B[38;5;241m=\u001B[39m kwargs\u001B[38;5;241m.\u001B[39mpop(\u001B[38;5;124m\"\u001B[39m\u001B[38;5;124moverwrite_encoded_chunks\u001B[39m\u001B[38;5;124m\"\u001B[39m, \u001B[38;5;28;01mNone\u001B[39;00m)\n\u001B[0;32m--> 671\u001B[0m backend_ds \u001B[38;5;241m=\u001B[39m \u001B[43mbackend\u001B[49m\u001B[38;5;241;43m.\u001B[39;49m\u001B[43mopen_dataset\u001B[49m\u001B[43m(\u001B[49m\n\u001B[1;32m    672\u001B[0m \u001B[43m    \u001B[49m\u001B[43mfilename_or_obj\u001B[49m\u001B[43m,\u001B[49m\n\u001B[1;32m    673\u001B[0m \u001B[43m    \u001B[49m\u001B[43mdrop_variables\u001B[49m\u001B[38;5;241;43m=\u001B[39;49m\u001B[43mdrop_variables\u001B[49m\u001B[43m,\u001B[49m\n\u001B[1;32m    674\u001B[0m \u001B[43m    \u001B[49m\u001B[38;5;241;43m*\u001B[39;49m\u001B[38;5;241;43m*\u001B[39;49m\u001B[43mdecoders\u001B[49m\u001B[43m,\u001B[49m\n\u001B[1;32m    675\u001B[0m \u001B[43m    \u001B[49m\u001B[38;5;241;43m*\u001B[39;49m\u001B[38;5;241;43m*\u001B[39;49m\u001B[43mkwargs\u001B[49m\u001B[43m,\u001B[49m\n\u001B[1;32m    676\u001B[0m \u001B[43m\u001B[49m\u001B[43m)\u001B[49m\n\u001B[1;32m    677\u001B[0m ds \u001B[38;5;241m=\u001B[39m _dataset_from_backend_dataset(\n\u001B[1;32m    678\u001B[0m     backend_ds,\n\u001B[1;32m    679\u001B[0m     filename_or_obj,\n\u001B[0;32m   (...)\u001B[0m\n\u001B[1;32m    689\u001B[0m     \u001B[38;5;241m*\u001B[39m\u001B[38;5;241m*\u001B[39mkwargs,\n\u001B[1;32m    690\u001B[0m )\n\u001B[1;32m    691\u001B[0m \u001B[38;5;28;01mreturn\u001B[39;00m ds\n",
      "File \u001B[0;32m~/dkrz_dev/venv/lib/python3.12/site-packages/xarray/backends/netCDF4_.py:666\u001B[0m, in \u001B[0;36mNetCDF4BackendEntrypoint.open_dataset\u001B[0;34m(self, filename_or_obj, mask_and_scale, decode_times, concat_characters, decode_coords, drop_variables, use_cftime, decode_timedelta, group, mode, format, clobber, diskless, persist, auto_complex, lock, autoclose)\u001B[0m\n\u001B[1;32m    644\u001B[0m \u001B[38;5;28;01mdef\u001B[39;00m \u001B[38;5;21mopen_dataset\u001B[39m(  \u001B[38;5;66;03m# type: ignore[override]  # allow LSP violation, not supporting **kwargs\u001B[39;00m\n\u001B[1;32m    645\u001B[0m     \u001B[38;5;28mself\u001B[39m,\n\u001B[1;32m    646\u001B[0m     filename_or_obj: \u001B[38;5;28mstr\u001B[39m \u001B[38;5;241m|\u001B[39m os\u001B[38;5;241m.\u001B[39mPathLike[Any] \u001B[38;5;241m|\u001B[39m BufferedIOBase \u001B[38;5;241m|\u001B[39m AbstractDataStore,\n\u001B[0;32m   (...)\u001B[0m\n\u001B[1;32m    663\u001B[0m     autoclose\u001B[38;5;241m=\u001B[39m\u001B[38;5;28;01mFalse\u001B[39;00m,\n\u001B[1;32m    664\u001B[0m ) \u001B[38;5;241m-\u001B[39m\u001B[38;5;241m>\u001B[39m Dataset:\n\u001B[1;32m    665\u001B[0m     filename_or_obj \u001B[38;5;241m=\u001B[39m _normalize_path(filename_or_obj)\n\u001B[0;32m--> 666\u001B[0m     store \u001B[38;5;241m=\u001B[39m \u001B[43mNetCDF4DataStore\u001B[49m\u001B[38;5;241;43m.\u001B[39;49m\u001B[43mopen\u001B[49m\u001B[43m(\u001B[49m\n\u001B[1;32m    667\u001B[0m \u001B[43m        \u001B[49m\u001B[43mfilename_or_obj\u001B[49m\u001B[43m,\u001B[49m\n\u001B[1;32m    668\u001B[0m \u001B[43m        \u001B[49m\u001B[43mmode\u001B[49m\u001B[38;5;241;43m=\u001B[39;49m\u001B[43mmode\u001B[49m\u001B[43m,\u001B[49m\n\u001B[1;32m    669\u001B[0m \u001B[43m        \u001B[49m\u001B[38;5;28;43mformat\u001B[39;49m\u001B[38;5;241;43m=\u001B[39;49m\u001B[38;5;28;43mformat\u001B[39;49m\u001B[43m,\u001B[49m\n\u001B[1;32m    670\u001B[0m \u001B[43m        \u001B[49m\u001B[43mgroup\u001B[49m\u001B[38;5;241;43m=\u001B[39;49m\u001B[43mgroup\u001B[49m\u001B[43m,\u001B[49m\n\u001B[1;32m    671\u001B[0m \u001B[43m        \u001B[49m\u001B[43mclobber\u001B[49m\u001B[38;5;241;43m=\u001B[39;49m\u001B[43mclobber\u001B[49m\u001B[43m,\u001B[49m\n\u001B[1;32m    672\u001B[0m \u001B[43m        \u001B[49m\u001B[43mdiskless\u001B[49m\u001B[38;5;241;43m=\u001B[39;49m\u001B[43mdiskless\u001B[49m\u001B[43m,\u001B[49m\n\u001B[1;32m    673\u001B[0m \u001B[43m        \u001B[49m\u001B[43mpersist\u001B[49m\u001B[38;5;241;43m=\u001B[39;49m\u001B[43mpersist\u001B[49m\u001B[43m,\u001B[49m\n\u001B[1;32m    674\u001B[0m \u001B[43m        \u001B[49m\u001B[43mauto_complex\u001B[49m\u001B[38;5;241;43m=\u001B[39;49m\u001B[43mauto_complex\u001B[49m\u001B[43m,\u001B[49m\n\u001B[1;32m    675\u001B[0m \u001B[43m        \u001B[49m\u001B[43mlock\u001B[49m\u001B[38;5;241;43m=\u001B[39;49m\u001B[43mlock\u001B[49m\u001B[43m,\u001B[49m\n\u001B[1;32m    676\u001B[0m \u001B[43m        \u001B[49m\u001B[43mautoclose\u001B[49m\u001B[38;5;241;43m=\u001B[39;49m\u001B[43mautoclose\u001B[49m\u001B[43m,\u001B[49m\n\u001B[1;32m    677\u001B[0m \u001B[43m    \u001B[49m\u001B[43m)\u001B[49m\n\u001B[1;32m    679\u001B[0m     store_entrypoint \u001B[38;5;241m=\u001B[39m StoreBackendEntrypoint()\n\u001B[1;32m    680\u001B[0m     \u001B[38;5;28;01mwith\u001B[39;00m close_on_error(store):\n",
      "File \u001B[0;32m~/dkrz_dev/venv/lib/python3.12/site-packages/xarray/backends/netCDF4_.py:453\u001B[0m, in \u001B[0;36mNetCDF4DataStore.open\u001B[0;34m(cls, filename, mode, format, group, clobber, diskless, persist, auto_complex, lock, lock_maker, autoclose)\u001B[0m\n\u001B[1;32m    449\u001B[0m     kwargs[\u001B[38;5;124m\"\u001B[39m\u001B[38;5;124mauto_complex\u001B[39m\u001B[38;5;124m\"\u001B[39m] \u001B[38;5;241m=\u001B[39m auto_complex\n\u001B[1;32m    450\u001B[0m manager \u001B[38;5;241m=\u001B[39m CachingFileManager(\n\u001B[1;32m    451\u001B[0m     netCDF4\u001B[38;5;241m.\u001B[39mDataset, filename, mode\u001B[38;5;241m=\u001B[39mmode, kwargs\u001B[38;5;241m=\u001B[39mkwargs\n\u001B[1;32m    452\u001B[0m )\n\u001B[0;32m--> 453\u001B[0m \u001B[38;5;28;01mreturn\u001B[39;00m \u001B[38;5;28;43mcls\u001B[39;49m\u001B[43m(\u001B[49m\u001B[43mmanager\u001B[49m\u001B[43m,\u001B[49m\u001B[43m \u001B[49m\u001B[43mgroup\u001B[49m\u001B[38;5;241;43m=\u001B[39;49m\u001B[43mgroup\u001B[49m\u001B[43m,\u001B[49m\u001B[43m \u001B[49m\u001B[43mmode\u001B[49m\u001B[38;5;241;43m=\u001B[39;49m\u001B[43mmode\u001B[49m\u001B[43m,\u001B[49m\u001B[43m \u001B[49m\u001B[43mlock\u001B[49m\u001B[38;5;241;43m=\u001B[39;49m\u001B[43mlock\u001B[49m\u001B[43m,\u001B[49m\u001B[43m \u001B[49m\u001B[43mautoclose\u001B[49m\u001B[38;5;241;43m=\u001B[39;49m\u001B[43mautoclose\u001B[49m\u001B[43m)\u001B[49m\n",
      "File \u001B[0;32m~/dkrz_dev/venv/lib/python3.12/site-packages/xarray/backends/netCDF4_.py:394\u001B[0m, in \u001B[0;36mNetCDF4DataStore.__init__\u001B[0;34m(self, manager, group, mode, lock, autoclose)\u001B[0m\n\u001B[1;32m    392\u001B[0m \u001B[38;5;28mself\u001B[39m\u001B[38;5;241m.\u001B[39m_group \u001B[38;5;241m=\u001B[39m group\n\u001B[1;32m    393\u001B[0m \u001B[38;5;28mself\u001B[39m\u001B[38;5;241m.\u001B[39m_mode \u001B[38;5;241m=\u001B[39m mode\n\u001B[0;32m--> 394\u001B[0m \u001B[38;5;28mself\u001B[39m\u001B[38;5;241m.\u001B[39mformat \u001B[38;5;241m=\u001B[39m \u001B[38;5;28;43mself\u001B[39;49m\u001B[38;5;241;43m.\u001B[39;49m\u001B[43mds\u001B[49m\u001B[38;5;241m.\u001B[39mdata_model\n\u001B[1;32m    395\u001B[0m \u001B[38;5;28mself\u001B[39m\u001B[38;5;241m.\u001B[39m_filename \u001B[38;5;241m=\u001B[39m \u001B[38;5;28mself\u001B[39m\u001B[38;5;241m.\u001B[39mds\u001B[38;5;241m.\u001B[39mfilepath()\n\u001B[1;32m    396\u001B[0m \u001B[38;5;28mself\u001B[39m\u001B[38;5;241m.\u001B[39mis_remote \u001B[38;5;241m=\u001B[39m is_remote_uri(\u001B[38;5;28mself\u001B[39m\u001B[38;5;241m.\u001B[39m_filename)\n",
      "File \u001B[0;32m~/dkrz_dev/venv/lib/python3.12/site-packages/xarray/backends/netCDF4_.py:462\u001B[0m, in \u001B[0;36mNetCDF4DataStore.ds\u001B[0;34m(self)\u001B[0m\n\u001B[1;32m    460\u001B[0m \u001B[38;5;129m@property\u001B[39m\n\u001B[1;32m    461\u001B[0m \u001B[38;5;28;01mdef\u001B[39;00m \u001B[38;5;21mds\u001B[39m(\u001B[38;5;28mself\u001B[39m):\n\u001B[0;32m--> 462\u001B[0m     \u001B[38;5;28;01mreturn\u001B[39;00m \u001B[38;5;28;43mself\u001B[39;49m\u001B[38;5;241;43m.\u001B[39;49m\u001B[43m_acquire\u001B[49m\u001B[43m(\u001B[49m\u001B[43m)\u001B[49m\n",
      "File \u001B[0;32m~/dkrz_dev/venv/lib/python3.12/site-packages/xarray/backends/netCDF4_.py:456\u001B[0m, in \u001B[0;36mNetCDF4DataStore._acquire\u001B[0;34m(self, needs_lock)\u001B[0m\n\u001B[1;32m    455\u001B[0m \u001B[38;5;28;01mdef\u001B[39;00m \u001B[38;5;21m_acquire\u001B[39m(\u001B[38;5;28mself\u001B[39m, needs_lock\u001B[38;5;241m=\u001B[39m\u001B[38;5;28;01mTrue\u001B[39;00m):\n\u001B[0;32m--> 456\u001B[0m \u001B[43m    \u001B[49m\u001B[38;5;28;43;01mwith\u001B[39;49;00m\u001B[43m \u001B[49m\u001B[38;5;28;43mself\u001B[39;49m\u001B[38;5;241;43m.\u001B[39;49m\u001B[43m_manager\u001B[49m\u001B[38;5;241;43m.\u001B[39;49m\u001B[43macquire_context\u001B[49m\u001B[43m(\u001B[49m\u001B[43mneeds_lock\u001B[49m\u001B[43m)\u001B[49m\u001B[43m \u001B[49m\u001B[38;5;28;43;01mas\u001B[39;49;00m\u001B[43m \u001B[49m\u001B[43mroot\u001B[49m\u001B[43m:\u001B[49m\n\u001B[1;32m    457\u001B[0m \u001B[43m        \u001B[49m\u001B[43mds\u001B[49m\u001B[43m \u001B[49m\u001B[38;5;241;43m=\u001B[39;49m\u001B[43m \u001B[49m\u001B[43m_nc4_require_group\u001B[49m\u001B[43m(\u001B[49m\u001B[43mroot\u001B[49m\u001B[43m,\u001B[49m\u001B[43m \u001B[49m\u001B[38;5;28;43mself\u001B[39;49m\u001B[38;5;241;43m.\u001B[39;49m\u001B[43m_group\u001B[49m\u001B[43m,\u001B[49m\u001B[43m \u001B[49m\u001B[38;5;28;43mself\u001B[39;49m\u001B[38;5;241;43m.\u001B[39;49m\u001B[43m_mode\u001B[49m\u001B[43m)\u001B[49m\n\u001B[1;32m    458\u001B[0m     \u001B[38;5;28;01mreturn\u001B[39;00m ds\n",
      "File \u001B[0;32m/usr/lib/python3.12/contextlib.py:137\u001B[0m, in \u001B[0;36m_GeneratorContextManager.__enter__\u001B[0;34m(self)\u001B[0m\n\u001B[1;32m    135\u001B[0m \u001B[38;5;28;01mdel\u001B[39;00m \u001B[38;5;28mself\u001B[39m\u001B[38;5;241m.\u001B[39margs, \u001B[38;5;28mself\u001B[39m\u001B[38;5;241m.\u001B[39mkwds, \u001B[38;5;28mself\u001B[39m\u001B[38;5;241m.\u001B[39mfunc\n\u001B[1;32m    136\u001B[0m \u001B[38;5;28;01mtry\u001B[39;00m:\n\u001B[0;32m--> 137\u001B[0m     \u001B[38;5;28;01mreturn\u001B[39;00m \u001B[38;5;28;43mnext\u001B[39;49m\u001B[43m(\u001B[49m\u001B[38;5;28;43mself\u001B[39;49m\u001B[38;5;241;43m.\u001B[39;49m\u001B[43mgen\u001B[49m\u001B[43m)\u001B[49m\n\u001B[1;32m    138\u001B[0m \u001B[38;5;28;01mexcept\u001B[39;00m \u001B[38;5;167;01mStopIteration\u001B[39;00m:\n\u001B[1;32m    139\u001B[0m     \u001B[38;5;28;01mraise\u001B[39;00m \u001B[38;5;167;01mRuntimeError\u001B[39;00m(\u001B[38;5;124m\"\u001B[39m\u001B[38;5;124mgenerator didn\u001B[39m\u001B[38;5;124m'\u001B[39m\u001B[38;5;124mt yield\u001B[39m\u001B[38;5;124m\"\u001B[39m) \u001B[38;5;28;01mfrom\u001B[39;00m \u001B[38;5;28;01mNone\u001B[39;00m\n",
      "File \u001B[0;32m~/dkrz_dev/venv/lib/python3.12/site-packages/xarray/backends/file_manager.py:199\u001B[0m, in \u001B[0;36mCachingFileManager.acquire_context\u001B[0;34m(self, needs_lock)\u001B[0m\n\u001B[1;32m    196\u001B[0m \u001B[38;5;129m@contextlib\u001B[39m\u001B[38;5;241m.\u001B[39mcontextmanager\n\u001B[1;32m    197\u001B[0m \u001B[38;5;28;01mdef\u001B[39;00m \u001B[38;5;21macquire_context\u001B[39m(\u001B[38;5;28mself\u001B[39m, needs_lock\u001B[38;5;241m=\u001B[39m\u001B[38;5;28;01mTrue\u001B[39;00m):\n\u001B[1;32m    198\u001B[0m \u001B[38;5;250m    \u001B[39m\u001B[38;5;124;03m\"\"\"Context manager for acquiring a file.\"\"\"\u001B[39;00m\n\u001B[0;32m--> 199\u001B[0m     file, cached \u001B[38;5;241m=\u001B[39m \u001B[38;5;28;43mself\u001B[39;49m\u001B[38;5;241;43m.\u001B[39;49m\u001B[43m_acquire_with_cache_info\u001B[49m\u001B[43m(\u001B[49m\u001B[43mneeds_lock\u001B[49m\u001B[43m)\u001B[49m\n\u001B[1;32m    200\u001B[0m     \u001B[38;5;28;01mtry\u001B[39;00m:\n\u001B[1;32m    201\u001B[0m         \u001B[38;5;28;01myield\u001B[39;00m file\n",
      "File \u001B[0;32m~/dkrz_dev/venv/lib/python3.12/site-packages/xarray/backends/file_manager.py:217\u001B[0m, in \u001B[0;36mCachingFileManager._acquire_with_cache_info\u001B[0;34m(self, needs_lock)\u001B[0m\n\u001B[1;32m    215\u001B[0m     kwargs \u001B[38;5;241m=\u001B[39m kwargs\u001B[38;5;241m.\u001B[39mcopy()\n\u001B[1;32m    216\u001B[0m     kwargs[\u001B[38;5;124m\"\u001B[39m\u001B[38;5;124mmode\u001B[39m\u001B[38;5;124m\"\u001B[39m] \u001B[38;5;241m=\u001B[39m \u001B[38;5;28mself\u001B[39m\u001B[38;5;241m.\u001B[39m_mode\n\u001B[0;32m--> 217\u001B[0m file \u001B[38;5;241m=\u001B[39m \u001B[38;5;28;43mself\u001B[39;49m\u001B[38;5;241;43m.\u001B[39;49m\u001B[43m_opener\u001B[49m\u001B[43m(\u001B[49m\u001B[38;5;241;43m*\u001B[39;49m\u001B[38;5;28;43mself\u001B[39;49m\u001B[38;5;241;43m.\u001B[39;49m\u001B[43m_args\u001B[49m\u001B[43m,\u001B[49m\u001B[43m \u001B[49m\u001B[38;5;241;43m*\u001B[39;49m\u001B[38;5;241;43m*\u001B[39;49m\u001B[43mkwargs\u001B[49m\u001B[43m)\u001B[49m\n\u001B[1;32m    218\u001B[0m \u001B[38;5;28;01mif\u001B[39;00m \u001B[38;5;28mself\u001B[39m\u001B[38;5;241m.\u001B[39m_mode \u001B[38;5;241m==\u001B[39m \u001B[38;5;124m\"\u001B[39m\u001B[38;5;124mw\u001B[39m\u001B[38;5;124m\"\u001B[39m:\n\u001B[1;32m    219\u001B[0m     \u001B[38;5;66;03m# ensure file doesn't get overridden when opened again\u001B[39;00m\n\u001B[1;32m    220\u001B[0m     \u001B[38;5;28mself\u001B[39m\u001B[38;5;241m.\u001B[39m_mode \u001B[38;5;241m=\u001B[39m \u001B[38;5;124m\"\u001B[39m\u001B[38;5;124ma\u001B[39m\u001B[38;5;124m\"\u001B[39m\n",
      "File \u001B[0;32msrc/netCDF4/_netCDF4.pyx:2521\u001B[0m, in \u001B[0;36mnetCDF4._netCDF4.Dataset.__init__\u001B[0;34m()\u001B[0m\n",
      "File \u001B[0;32msrc/netCDF4/_netCDF4.pyx:2158\u001B[0m, in \u001B[0;36mnetCDF4._netCDF4._ensure_nc_success\u001B[0;34m()\u001B[0m\n",
      "\u001B[0;31mOSError\u001B[0m: [Errno -101] NetCDF: HDF error: '/home/test/dkrz_dev/data/4f6e0dccfcfe4f76f1e64f187cc0551c.nc'"
     ]
    }
   ],
   "source": [
    "import xarray as xr\n",
    "ds1 = xr.open_dataset(filename_or_obj=\"data/4f6e0dccfcfe4f76f1e64f187cc0551c.nc\", engine=\"netcdf4\")"
   ]
  },
  {
   "cell_type": "code",
   "execution_count": null,
   "id": "442c16c0-c4e1-499c-b6c0-98cd3a9c2787",
   "metadata": {},
   "outputs": [],
   "source": []
  }
 ],
 "metadata": {
  "kernelspec": {
   "display_name": "Python 3 (ipykernel)",
   "language": "python",
   "name": "python3"
  },
  "language_info": {
   "codemirror_mode": {
    "name": "ipython",
    "version": 3
   },
   "file_extension": ".py",
   "mimetype": "text/x-python",
   "name": "python",
   "nbconvert_exporter": "python",
   "pygments_lexer": "ipython3",
   "version": "3.12.3"
  }
 },
 "nbformat": 4,
 "nbformat_minor": 5
}

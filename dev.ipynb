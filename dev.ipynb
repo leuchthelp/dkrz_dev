{
 "cells": [
  {
   "cell_type": "code",
   "execution_count": 3,
   "id": "3d441978f431651b",
   "metadata": {
    "ExecuteTime": {
     "end_time": "2024-12-12T16:27:49.636653Z",
     "start_time": "2024-12-12T16:27:49.571404Z"
    }
   },
   "outputs": [],
   "source": [
    "%%script false --no-raise-error\n",
    "import zarr\n",
    "from netCDF4 import Dataset\n",
    "if __name__ == '__main__':\n",
    "    #Todo read up on hdf5, zarr, netcdf, xarray, mpi, lustre, ceph\n",
    "    # and check back with dkrz their structure, code conventions, datasets\n",
    "\n",
    "    # Todo setup test cases proactively to ensure proper comparability and best practice\n",
    "\n",
    "    #Todo use netcdf dataset for testing (for now) should already bet hdf5\n",
    "    dest_hdf = Dataset(\"data/source.nc\", \"w\", format=\"NETCDF4\")\n",
    "    print(dest_hdf.data_model)\n",
    "    dest_hdf.close()\n",
    "\n",
    "    #Todo import netcdf data through hdf5 to zarr (for now)\n",
    "    dest_zarr = zarr.open_group('data/example2.zarr', mode='w')\n",
    "    zarr.copy_all(dest_hdf, dest_zarr)\n",
    "    dest_zarr.tree()\n",
    "\n",
    "    #Todo conversion to netcdf\n",
    "\n",
    "    #for hdf5 nothing needs to be done\n",
    "\n",
    "    #for zarr (wip). netcdf is developing its own implementation\n",
    "    # but that isn't available yet so I will work on something myself in the meantime\n",
    "\n",
    "    #Todo setup Lustre and Ceph (need info on that)\n",
    "\n",
    "    #Todo setup benchmark (prob compression, filesize, access-time, r/w-time) for sequential access\n",
    "\n",
    "    #Todo setup benchmark for parallel access\n",
    "\n",
    "    #Todo setup benchmark for random access\n",
    "\n",
    "    #Todo setup benchmark for parallel with subfileing and async / I/O\n"
   ]
  },
  {
   "cell_type": "code",
   "execution_count": 4,
   "id": "316211b7bd13977d",
   "metadata": {
    "ExecuteTime": {
     "end_time": "2024-12-12T16:27:49.652330Z",
     "start_time": "2024-12-12T16:27:49.648971Z"
    }
   },
   "outputs": [],
   "source": [
    "%%script false --no-raise-error\n",
    "from mpi4py import MPI\n",
    "import numpy as np\n",
    "import h5py\n",
    "\n",
    "rank = MPI.COMM_WORLD.rank\n",
    "\n",
    "# create HDF5 file\n",
    "with h5py.File('data/test_ds.hdf5', 'w', driver=\"mpio\", comm=MPI.COMM_WORLD) as hf:\n",
    "    u = hf.create_dataset(\"u\", data=np.random.rand(1_000_000, 10, 10, 1), shape=(1_000_000, 10, 10, 1), compression=\"gzip\", chunks=True)\n",
    "    v = hf.create_dataset(\"v\", data=np.random.rand(1_000_000, 10, 10, 1), shape=(1_000_000, 10, 10, 1), compression=\"gzip\", chunks=True)\n",
    "    w = hf.create_dataset(\"w\", data=np.random.rand(1_000_000, 10, 10, 1), shape=(1_000_000, 10, 10, 1), compression=\"gzip\", chunks=True)\n",
    "    x = hf.create_dataset(\"x\", data=np.random.rand(1_000_000, 10, 10, 1), shape=(1_000_000, 10, 10, 1), compression=\"gzip\", chunks=True)\n",
    "    y = hf.create_dataset(\"y\", data=np.random.rand(1_000_000, 10, 10, 1), shape=(1_000_000, 10, 10, 1), compression=\"gzip\", chunks=True)\n",
    "\n",
    "hf.close()   "
   ]
  },
  {
   "cell_type": "code",
   "execution_count": 20,
   "id": "f93924c7b041d484",
   "metadata": {
    "ExecuteTime": {
     "start_time": "2024-12-12T16:27:49.713786Z"
    },
    "jupyter": {
     "is_executing": true
    }
   },
   "outputs": [
    {
     "name": "stdout",
     "output_type": "stream",
     "text": [
      "CPU times: user 6.55 s, sys: 8.33 s, total: 14.9 s\n",
      "Wall time: 13.7 s\n"
     ]
    },
    {
     "data": {
      "text/plain": [
       "<xarray.backends.zarr.ZarrStore at 0x7fdc12d9fd40>"
      ]
     },
     "execution_count": 20,
     "metadata": {},
     "output_type": "execute_result"
    }
   ],
   "source": [
    "%%time\n",
    "import xarray as xr\n",
    "import numpy as np\n",
    "\n",
    "u = np.random.rand(1_000_000, 10, 10, 1)\n",
    "v = np.random.rand(1_000_000, 10, 10, 1)\n",
    "w = np.random.rand(1_000_000, 10, 10, 1)\n",
    "x = np.random.rand(1_000_000, 10, 10, 1)\n",
    "y = np.random.rand(1_000_000, 10, 10, 1)\n",
    "z = np.random.rand(1_000_000, 10, 10, 1)\n",
    "\n",
    "ds = xr.Dataset(data_vars=dict(\n",
    "                            u=([\"1\",\"2\",\"3\",\"4\"], u),\n",
    "                            v=([\"1\",\"2\",\"3\",\"4\"], v),\n",
    "                            w=([\"1\",\"2\",\"3\",\"4\"], w),\n",
    "                            x=([\"1\",\"2\",\"3\",\"4\"], x),\n",
    "                            y=([\"1\",\"2\",\"3\",\"4\"], y),\n",
    "                            z=([\"1\",\"2\",\"3\",\"4\"], z)\n",
    "                            ))\n",
    "\n",
    "ds.to_netcdf('data/test_dataset.nc', mode=\"w\")\n",
    "\n",
    "ds.to_netcdf('data/test_dataset.h5', mode=\"w\", engine=\"h5netcdf\")\n",
    "\n",
    "ds.to_zarr(\"data/test_dataset.zarr\", mode=\"w\")\n",
    "\n"
   ]
  },
  {
   "cell_type": "code",
   "execution_count": 11,
   "id": "bf1d363d",
   "metadata": {},
   "outputs": [],
   "source": [
    "#dataset creation for plotting\n",
    "import numpy as np\n",
    "\n",
    "plotting_zarr = []\n",
    "plotting_hdf5 = []\n",
    "plotting_netcdf4 = []\n"
   ]
  },
  {
   "cell_type": "code",
   "execution_count": 16,
   "id": "3ff585ad6e144f61",
   "metadata": {},
   "outputs": [
    {
     "name": "stdout",
     "output_type": "stream",
     "text": [
      "CPU times: user 1.18 ms, sys: 411 μs, total: 1.59 ms\n",
      "Wall time: 1.22 ms\n"
     ]
    }
   ],
   "source": [
    "%%time \n",
    "import xarray as xr\n",
    "import time\n",
    "\n",
    "start_time = time.time()\n",
    "ds_zarr = xr.open_zarr('data/test_dataset.zarr', consolidated=True)\n",
    "plotting_zarr.append(time.time() - start_time)"
   ]
  },
  {
   "cell_type": "code",
   "execution_count": 4,
   "id": "d37e8dda5b5ccdb5",
   "metadata": {},
   "outputs": [
    {
     "name": "stdout",
     "output_type": "stream",
     "text": [
      "CPU times: user 633 ms, sys: 372 ms, total: 1 s\n",
      "Wall time: 1.14 s\n"
     ]
    }
   ],
   "source": [
    "%%time \n",
    "import xarray as xr\n",
    "import time\n",
    "\n",
    "start_time = time.time()\n",
    "max_var = ds_zarr[\"x\"].max().compute()\n",
    "plotting_zarr.append(time.time() - start_time)\n"
   ]
  },
  {
   "cell_type": "code",
   "execution_count": 5,
   "id": "3a1222041420b736",
   "metadata": {},
   "outputs": [
    {
     "name": "stdout",
     "output_type": "stream",
     "text": [
      "CPU times: user 26.3 ms, sys: 0 ns, total: 26.3 ms\n",
      "Wall time: 68.6 ms\n"
     ]
    }
   ],
   "source": [
    "%%time\n",
    "import xarray as xr\n",
    "import time\n",
    "\n",
    "start_time = time.time()\n",
    "ds_netcdf4 = xr.open_dataset(filename_or_obj=\"data/test_dataset.nc\", engine=\"h5netcdf\")\n",
    "plotting_netcdf4.append(time.time() - start_time)\n"
   ]
  },
  {
   "cell_type": "code",
   "execution_count": 6,
   "id": "fcd381f7ab539d1c",
   "metadata": {},
   "outputs": [
    {
     "name": "stdout",
     "output_type": "stream",
     "text": [
      "CPU times: user 0 ns, sys: 209 ms, total: 209 ms\n",
      "Wall time: 266 ms\n"
     ]
    }
   ],
   "source": [
    "%%time\n",
    "import xarray as xr\n",
    "import time\n",
    "\n",
    "start_time = time.time()\n",
    "max_var = ds_netcdf4[\"x\"].max().compute()\n",
    "plotting_netcdf4.append(time.time() - start_time)"
   ]
  },
  {
   "cell_type": "code",
   "execution_count": 7,
   "id": "475db753",
   "metadata": {},
   "outputs": [
    {
     "name": "stdout",
     "output_type": "stream",
     "text": [
      "CPU times: user 0 ns, sys: 10.3 ms, total: 10.3 ms\n",
      "Wall time: 9.79 ms\n"
     ]
    }
   ],
   "source": [
    "%%time\n",
    "import xarray as xr\n",
    "import time\n",
    "\n",
    "start_time = time.time()\n",
    "ds_hdf5 = xr.open_dataset(filename_or_obj=\"data/test_dataset.h5\", engine=\"h5netcdf\")\n",
    "plotting_hdf5.append(time.time() - start_time)"
   ]
  },
  {
   "cell_type": "code",
   "execution_count": 8,
   "id": "42ec8fca",
   "metadata": {},
   "outputs": [
    {
     "name": "stdout",
     "output_type": "stream",
     "text": [
      "CPU times: user 0 ns, sys: 199 ms, total: 199 ms\n",
      "Wall time: 272 ms\n"
     ]
    }
   ],
   "source": [
    "%%time\n",
    "import xarray as xr\n",
    "import time\n",
    "\n",
    "start_time = time.time()\n",
    "max_var = ds_hdf5[\"x\"].max().compute()\n",
    "plotting_hdf5.append(time.time() - start_time)"
   ]
  }
 ],
 "metadata": {
  "kernelspec": {
   "display_name": "Python 3",
   "language": "python",
   "name": "python3"
  },
  "language_info": {
   "codemirror_mode": {
    "name": "ipython",
    "version": 3
   },
   "file_extension": ".py",
   "mimetype": "text/x-python",
   "name": "python",
   "nbconvert_exporter": "python",
   "pygments_lexer": "ipython3",
   "version": "3.10.12"
  }
 },
 "nbformat": 4,
 "nbformat_minor": 5
}

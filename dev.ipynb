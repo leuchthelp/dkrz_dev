{
 "cells": [
  {
   "cell_type": "code",
   "execution_count": 1,
   "id": "initial_id",
   "metadata": {
    "ExecuteTime": {
     "end_time": "2024-11-04T18:03:48.202236Z",
     "start_time": "2024-11-04T18:03:48.173746Z"
    }
   },
   "outputs": [],
   "source": [
    "from netCDF4 import Dataset\n",
    "import zarr, h5py, fsspec\n",
    "import xarray as xr\n",
    "import os.path\n",
    "from mpi4py import MPI\n",
    "\n"
   ]
  },
  {
   "cell_type": "code",
   "execution_count": 2,
   "id": "3d441978f431651b",
   "metadata": {},
   "outputs": [],
   "source": [
    "%%script false --no-raise-error\n",
    "if __name__ == '__main__':\n",
    "\n",
    "    #Todo read up on hdf5, zarr, netcdf, xarray, mpi, lustre, ceph\n",
    "    # and check back with dkrz their structure, code conventions, datasets\n",
    "\n",
    "    # Todo setup test cases proactively to ensure proper comparability and best practice\n",
    "\n",
    "    #Todo use netcdf dataset for testing (for now) should already bet hdf5\n",
    "    dest_hdf = Dataset(\"data/source.nc\", \"w\", format=\"NETCDF4\")\n",
    "    print(dest_hdf.data_model)\n",
    "    dest_hdf.close()\n",
    "\n",
    "    #Todo import netcdf data through hdf5 to zarr (for now)\n",
    "    dest_zarr = zarr.open_group('data/example2.zarr', mode='w')\n",
    "    zarr.copy_all(dest_hdf, dest_zarr)\n",
    "    dest_zarr.tree()\n",
    "\n",
    "    #Todo conversion to netcdf\n",
    "\n",
    "    #for hdf5 nothing needs to be done\n",
    "\n",
    "    #for zarr (wip). netcdf is developing its own implementation\n",
    "    # but that isn't available yet so I will work on something myself in the meantime\n",
    "\n",
    "    #Todo setup Lustre and Ceph (need info on that)\n",
    "\n",
    "    #Todo setup benchmark (prob compression, filesize, access-time, r/w-time) for sequential access\n",
    "\n",
    "    #Todo setup benchmark for parallel access\n",
    "\n",
    "    #Todo setup benchmark for random access\n",
    "\n",
    "    #Todo setup benchmark for parallel with subfileing and async / I/O\n"
   ]
  },
  {
   "cell_type": "code",
   "execution_count": 3,
   "id": "f93924c7b041d484",
   "metadata": {
    "ExecuteTime": {
     "end_time": "2024-11-04T16:01:45.582377Z",
     "start_time": "2024-11-04T16:01:45.469175Z"
    }
   },
   "outputs": [
    {
     "ename": "OSError",
     "evalue": "Unable to synchronously open file (truncated file: eof = 4718592000, sblock->base_addr = 0, stored_eof = 4732838184)",
     "output_type": "error",
     "traceback": [
      "\u001B[0;31m---------------------------------------------------------------------------\u001B[0m",
      "\u001B[0;31mKeyError\u001B[0m                                  Traceback (most recent call last)",
      "File \u001B[0;32m~/dkrz_dev/venv/lib/python3.12/site-packages/xarray/backends/file_manager.py:211\u001B[0m, in \u001B[0;36mCachingFileManager._acquire_with_cache_info\u001B[0;34m(self, needs_lock)\u001B[0m\n\u001B[1;32m    210\u001B[0m \u001B[38;5;28;01mtry\u001B[39;00m:\n\u001B[0;32m--> 211\u001B[0m     file \u001B[38;5;241m=\u001B[39m \u001B[38;5;28;43mself\u001B[39;49m\u001B[38;5;241;43m.\u001B[39;49m\u001B[43m_cache\u001B[49m\u001B[43m[\u001B[49m\u001B[38;5;28;43mself\u001B[39;49m\u001B[38;5;241;43m.\u001B[39;49m\u001B[43m_key\u001B[49m\u001B[43m]\u001B[49m\n\u001B[1;32m    212\u001B[0m \u001B[38;5;28;01mexcept\u001B[39;00m \u001B[38;5;167;01mKeyError\u001B[39;00m:\n",
      "File \u001B[0;32m~/dkrz_dev/venv/lib/python3.12/site-packages/xarray/backends/lru_cache.py:56\u001B[0m, in \u001B[0;36mLRUCache.__getitem__\u001B[0;34m(self, key)\u001B[0m\n\u001B[1;32m     55\u001B[0m \u001B[38;5;28;01mwith\u001B[39;00m \u001B[38;5;28mself\u001B[39m\u001B[38;5;241m.\u001B[39m_lock:\n\u001B[0;32m---> 56\u001B[0m     value \u001B[38;5;241m=\u001B[39m \u001B[38;5;28;43mself\u001B[39;49m\u001B[38;5;241;43m.\u001B[39;49m\u001B[43m_cache\u001B[49m\u001B[43m[\u001B[49m\u001B[43mkey\u001B[49m\u001B[43m]\u001B[49m\n\u001B[1;32m     57\u001B[0m     \u001B[38;5;28mself\u001B[39m\u001B[38;5;241m.\u001B[39m_cache\u001B[38;5;241m.\u001B[39mmove_to_end(key)\n",
      "\u001B[0;31mKeyError\u001B[0m: [<class 'h5netcdf.core.File'>, ('/home/test/dkrz_dev/data/benchmark_ds.nc',), 'r', (('decode_vlen_strings', True), ('driver', None), ('invalid_netcdf', None)), '6b9aa8f5-0a59-4b7a-af98-80ee76f3cdc8']",
      "\nDuring handling of the above exception, another exception occurred:\n",
      "\u001B[0;31mOSError\u001B[0m                                   Traceback (most recent call last)",
      "Cell \u001B[0;32mIn[3], line 7\u001B[0m\n\u001B[1;32m      1\u001B[0m \u001B[38;5;66;03m#Todo prepare dataset for testing\u001B[39;00m\n\u001B[1;32m      2\u001B[0m \n\u001B[1;32m      3\u001B[0m \u001B[38;5;66;03m# filepath_zarr = 'https://power-datastore.s3.amazonaws.com/v9/climatology/power_901_climatology_meteorology_utc.zarr'\u001B[39;00m\n\u001B[1;32m      4\u001B[0m \u001B[38;5;66;03m# \u001B[39;00m\n\u001B[1;32m      5\u001B[0m \u001B[38;5;66;03m# filepath_mapped_zarr = fsspec.get_mapper(filepath_zarr)\u001B[39;00m\n\u001B[0;32m----> 7\u001B[0m ds \u001B[38;5;241m=\u001B[39m \u001B[43mxr\u001B[49m\u001B[38;5;241;43m.\u001B[39;49m\u001B[43mopen_dataset\u001B[49m\u001B[43m(\u001B[49m\u001B[43mfilename_or_obj\u001B[49m\u001B[38;5;241;43m=\u001B[39;49m\u001B[38;5;124;43m'\u001B[39;49m\u001B[38;5;124;43m/home/test/dkrz_dev/data/benchmark_ds.nc\u001B[39;49m\u001B[38;5;124;43m'\u001B[39;49m\u001B[43m,\u001B[49m\u001B[43m \u001B[49m\u001B[43mengine\u001B[49m\u001B[38;5;241;43m=\u001B[39;49m\u001B[38;5;124;43m\"\u001B[39;49m\u001B[38;5;124;43mh5netcdf\u001B[39;49m\u001B[38;5;124;43m\"\u001B[39;49m\u001B[43m)\u001B[49m \n\u001B[1;32m      9\u001B[0m ds\u001B[38;5;241m.\u001B[39mto_zarr(\u001B[38;5;124m'\u001B[39m\u001B[38;5;124mtest_dataset.zarr\u001B[39m\u001B[38;5;124m'\u001B[39m, mode\u001B[38;5;241m=\u001B[39m\u001B[38;5;124m\"\u001B[39m\u001B[38;5;124mw\u001B[39m\u001B[38;5;124m\"\u001B[39m)\n\u001B[1;32m     11\u001B[0m filepath_mapped_zarr \u001B[38;5;241m=\u001B[39m \u001B[38;5;124m'\u001B[39m\u001B[38;5;124mtest_dataset.zarr\u001B[39m\u001B[38;5;124m'\u001B[39m\n",
      "File \u001B[0;32m~/dkrz_dev/venv/lib/python3.12/site-packages/xarray/backends/api.py:671\u001B[0m, in \u001B[0;36mopen_dataset\u001B[0;34m(filename_or_obj, engine, chunks, cache, decode_cf, mask_and_scale, decode_times, decode_timedelta, use_cftime, concat_characters, decode_coords, drop_variables, inline_array, chunked_array_type, from_array_kwargs, backend_kwargs, **kwargs)\u001B[0m\n\u001B[1;32m    659\u001B[0m decoders \u001B[38;5;241m=\u001B[39m _resolve_decoders_kwargs(\n\u001B[1;32m    660\u001B[0m     decode_cf,\n\u001B[1;32m    661\u001B[0m     open_backend_dataset_parameters\u001B[38;5;241m=\u001B[39mbackend\u001B[38;5;241m.\u001B[39mopen_dataset_parameters,\n\u001B[0;32m   (...)\u001B[0m\n\u001B[1;32m    667\u001B[0m     decode_coords\u001B[38;5;241m=\u001B[39mdecode_coords,\n\u001B[1;32m    668\u001B[0m )\n\u001B[1;32m    670\u001B[0m overwrite_encoded_chunks \u001B[38;5;241m=\u001B[39m kwargs\u001B[38;5;241m.\u001B[39mpop(\u001B[38;5;124m\"\u001B[39m\u001B[38;5;124moverwrite_encoded_chunks\u001B[39m\u001B[38;5;124m\"\u001B[39m, \u001B[38;5;28;01mNone\u001B[39;00m)\n\u001B[0;32m--> 671\u001B[0m backend_ds \u001B[38;5;241m=\u001B[39m \u001B[43mbackend\u001B[49m\u001B[38;5;241;43m.\u001B[39;49m\u001B[43mopen_dataset\u001B[49m\u001B[43m(\u001B[49m\n\u001B[1;32m    672\u001B[0m \u001B[43m    \u001B[49m\u001B[43mfilename_or_obj\u001B[49m\u001B[43m,\u001B[49m\n\u001B[1;32m    673\u001B[0m \u001B[43m    \u001B[49m\u001B[43mdrop_variables\u001B[49m\u001B[38;5;241;43m=\u001B[39;49m\u001B[43mdrop_variables\u001B[49m\u001B[43m,\u001B[49m\n\u001B[1;32m    674\u001B[0m \u001B[43m    \u001B[49m\u001B[38;5;241;43m*\u001B[39;49m\u001B[38;5;241;43m*\u001B[39;49m\u001B[43mdecoders\u001B[49m\u001B[43m,\u001B[49m\n\u001B[1;32m    675\u001B[0m \u001B[43m    \u001B[49m\u001B[38;5;241;43m*\u001B[39;49m\u001B[38;5;241;43m*\u001B[39;49m\u001B[43mkwargs\u001B[49m\u001B[43m,\u001B[49m\n\u001B[1;32m    676\u001B[0m \u001B[43m\u001B[49m\u001B[43m)\u001B[49m\n\u001B[1;32m    677\u001B[0m ds \u001B[38;5;241m=\u001B[39m _dataset_from_backend_dataset(\n\u001B[1;32m    678\u001B[0m     backend_ds,\n\u001B[1;32m    679\u001B[0m     filename_or_obj,\n\u001B[0;32m   (...)\u001B[0m\n\u001B[1;32m    689\u001B[0m     \u001B[38;5;241m*\u001B[39m\u001B[38;5;241m*\u001B[39mkwargs,\n\u001B[1;32m    690\u001B[0m )\n\u001B[1;32m    691\u001B[0m \u001B[38;5;28;01mreturn\u001B[39;00m ds\n",
      "File \u001B[0;32m~/dkrz_dev/venv/lib/python3.12/site-packages/xarray/backends/h5netcdf_.py:431\u001B[0m, in \u001B[0;36mH5netcdfBackendEntrypoint.open_dataset\u001B[0;34m(self, filename_or_obj, mask_and_scale, decode_times, concat_characters, decode_coords, drop_variables, use_cftime, decode_timedelta, format, group, lock, invalid_netcdf, phony_dims, decode_vlen_strings, driver, driver_kwds)\u001B[0m\n\u001B[1;32m    410\u001B[0m \u001B[38;5;28;01mdef\u001B[39;00m \u001B[38;5;21mopen_dataset\u001B[39m(  \u001B[38;5;66;03m# type: ignore[override]  # allow LSP violation, not supporting **kwargs\u001B[39;00m\n\u001B[1;32m    411\u001B[0m     \u001B[38;5;28mself\u001B[39m,\n\u001B[1;32m    412\u001B[0m     filename_or_obj: \u001B[38;5;28mstr\u001B[39m \u001B[38;5;241m|\u001B[39m os\u001B[38;5;241m.\u001B[39mPathLike[Any] \u001B[38;5;241m|\u001B[39m BufferedIOBase \u001B[38;5;241m|\u001B[39m AbstractDataStore,\n\u001B[0;32m   (...)\u001B[0m\n\u001B[1;32m    428\u001B[0m     driver_kwds\u001B[38;5;241m=\u001B[39m\u001B[38;5;28;01mNone\u001B[39;00m,\n\u001B[1;32m    429\u001B[0m ) \u001B[38;5;241m-\u001B[39m\u001B[38;5;241m>\u001B[39m Dataset:\n\u001B[1;32m    430\u001B[0m     filename_or_obj \u001B[38;5;241m=\u001B[39m _normalize_path(filename_or_obj)\n\u001B[0;32m--> 431\u001B[0m     store \u001B[38;5;241m=\u001B[39m \u001B[43mH5NetCDFStore\u001B[49m\u001B[38;5;241;43m.\u001B[39;49m\u001B[43mopen\u001B[49m\u001B[43m(\u001B[49m\n\u001B[1;32m    432\u001B[0m \u001B[43m        \u001B[49m\u001B[43mfilename_or_obj\u001B[49m\u001B[43m,\u001B[49m\n\u001B[1;32m    433\u001B[0m \u001B[43m        \u001B[49m\u001B[38;5;28;43mformat\u001B[39;49m\u001B[38;5;241;43m=\u001B[39;49m\u001B[38;5;28;43mformat\u001B[39;49m\u001B[43m,\u001B[49m\n\u001B[1;32m    434\u001B[0m \u001B[43m        \u001B[49m\u001B[43mgroup\u001B[49m\u001B[38;5;241;43m=\u001B[39;49m\u001B[43mgroup\u001B[49m\u001B[43m,\u001B[49m\n\u001B[1;32m    435\u001B[0m \u001B[43m        \u001B[49m\u001B[43mlock\u001B[49m\u001B[38;5;241;43m=\u001B[39;49m\u001B[43mlock\u001B[49m\u001B[43m,\u001B[49m\n\u001B[1;32m    436\u001B[0m \u001B[43m        \u001B[49m\u001B[43minvalid_netcdf\u001B[49m\u001B[38;5;241;43m=\u001B[39;49m\u001B[43minvalid_netcdf\u001B[49m\u001B[43m,\u001B[49m\n\u001B[1;32m    437\u001B[0m \u001B[43m        \u001B[49m\u001B[43mphony_dims\u001B[49m\u001B[38;5;241;43m=\u001B[39;49m\u001B[43mphony_dims\u001B[49m\u001B[43m,\u001B[49m\n\u001B[1;32m    438\u001B[0m \u001B[43m        \u001B[49m\u001B[43mdecode_vlen_strings\u001B[49m\u001B[38;5;241;43m=\u001B[39;49m\u001B[43mdecode_vlen_strings\u001B[49m\u001B[43m,\u001B[49m\n\u001B[1;32m    439\u001B[0m \u001B[43m        \u001B[49m\u001B[43mdriver\u001B[49m\u001B[38;5;241;43m=\u001B[39;49m\u001B[43mdriver\u001B[49m\u001B[43m,\u001B[49m\n\u001B[1;32m    440\u001B[0m \u001B[43m        \u001B[49m\u001B[43mdriver_kwds\u001B[49m\u001B[38;5;241;43m=\u001B[39;49m\u001B[43mdriver_kwds\u001B[49m\u001B[43m,\u001B[49m\n\u001B[1;32m    441\u001B[0m \u001B[43m    \u001B[49m\u001B[43m)\u001B[49m\n\u001B[1;32m    443\u001B[0m     store_entrypoint \u001B[38;5;241m=\u001B[39m StoreBackendEntrypoint()\n\u001B[1;32m    445\u001B[0m     ds \u001B[38;5;241m=\u001B[39m store_entrypoint\u001B[38;5;241m.\u001B[39mopen_dataset(\n\u001B[1;32m    446\u001B[0m         store,\n\u001B[1;32m    447\u001B[0m         mask_and_scale\u001B[38;5;241m=\u001B[39mmask_and_scale,\n\u001B[0;32m   (...)\u001B[0m\n\u001B[1;32m    453\u001B[0m         decode_timedelta\u001B[38;5;241m=\u001B[39mdecode_timedelta,\n\u001B[1;32m    454\u001B[0m     )\n",
      "File \u001B[0;32m~/dkrz_dev/venv/lib/python3.12/site-packages/xarray/backends/h5netcdf_.py:188\u001B[0m, in \u001B[0;36mH5NetCDFStore.open\u001B[0;34m(cls, filename, mode, format, group, lock, autoclose, invalid_netcdf, phony_dims, decode_vlen_strings, driver, driver_kwds)\u001B[0m\n\u001B[1;32m    185\u001B[0m         lock \u001B[38;5;241m=\u001B[39m combine_locks([HDF5_LOCK, get_write_lock(filename)])\n\u001B[1;32m    187\u001B[0m manager \u001B[38;5;241m=\u001B[39m CachingFileManager(h5netcdf\u001B[38;5;241m.\u001B[39mFile, filename, mode\u001B[38;5;241m=\u001B[39mmode, kwargs\u001B[38;5;241m=\u001B[39mkwargs)\n\u001B[0;32m--> 188\u001B[0m \u001B[38;5;28;01mreturn\u001B[39;00m \u001B[38;5;28;43mcls\u001B[39;49m\u001B[43m(\u001B[49m\u001B[43mmanager\u001B[49m\u001B[43m,\u001B[49m\u001B[43m \u001B[49m\u001B[43mgroup\u001B[49m\u001B[38;5;241;43m=\u001B[39;49m\u001B[43mgroup\u001B[49m\u001B[43m,\u001B[49m\u001B[43m \u001B[49m\u001B[43mmode\u001B[49m\u001B[38;5;241;43m=\u001B[39;49m\u001B[43mmode\u001B[49m\u001B[43m,\u001B[49m\u001B[43m \u001B[49m\u001B[43mlock\u001B[49m\u001B[38;5;241;43m=\u001B[39;49m\u001B[43mlock\u001B[49m\u001B[43m,\u001B[49m\u001B[43m \u001B[49m\u001B[43mautoclose\u001B[49m\u001B[38;5;241;43m=\u001B[39;49m\u001B[43mautoclose\u001B[49m\u001B[43m)\u001B[49m\n",
      "File \u001B[0;32m~/dkrz_dev/venv/lib/python3.12/site-packages/xarray/backends/h5netcdf_.py:134\u001B[0m, in \u001B[0;36mH5NetCDFStore.__init__\u001B[0;34m(self, manager, group, mode, lock, autoclose)\u001B[0m\n\u001B[1;32m    131\u001B[0m \u001B[38;5;28mself\u001B[39m\u001B[38;5;241m.\u001B[39mformat \u001B[38;5;241m=\u001B[39m \u001B[38;5;28;01mNone\u001B[39;00m\n\u001B[1;32m    132\u001B[0m \u001B[38;5;66;03m# todo: utilizing find_root_and_group seems a bit clunky\u001B[39;00m\n\u001B[1;32m    133\u001B[0m \u001B[38;5;66;03m#  making filename available on h5netcdf.Group seems better\u001B[39;00m\n\u001B[0;32m--> 134\u001B[0m \u001B[38;5;28mself\u001B[39m\u001B[38;5;241m.\u001B[39m_filename \u001B[38;5;241m=\u001B[39m find_root_and_group(\u001B[38;5;28;43mself\u001B[39;49m\u001B[38;5;241;43m.\u001B[39;49m\u001B[43mds\u001B[49m)[\u001B[38;5;241m0\u001B[39m]\u001B[38;5;241m.\u001B[39mfilename\n\u001B[1;32m    135\u001B[0m \u001B[38;5;28mself\u001B[39m\u001B[38;5;241m.\u001B[39mis_remote \u001B[38;5;241m=\u001B[39m is_remote_uri(\u001B[38;5;28mself\u001B[39m\u001B[38;5;241m.\u001B[39m_filename)\n\u001B[1;32m    136\u001B[0m \u001B[38;5;28mself\u001B[39m\u001B[38;5;241m.\u001B[39mlock \u001B[38;5;241m=\u001B[39m ensure_lock(lock)\n",
      "File \u001B[0;32m~/dkrz_dev/venv/lib/python3.12/site-packages/xarray/backends/h5netcdf_.py:199\u001B[0m, in \u001B[0;36mH5NetCDFStore.ds\u001B[0;34m(self)\u001B[0m\n\u001B[1;32m    197\u001B[0m \u001B[38;5;129m@property\u001B[39m\n\u001B[1;32m    198\u001B[0m \u001B[38;5;28;01mdef\u001B[39;00m \u001B[38;5;21mds\u001B[39m(\u001B[38;5;28mself\u001B[39m):\n\u001B[0;32m--> 199\u001B[0m     \u001B[38;5;28;01mreturn\u001B[39;00m \u001B[38;5;28;43mself\u001B[39;49m\u001B[38;5;241;43m.\u001B[39;49m\u001B[43m_acquire\u001B[49m\u001B[43m(\u001B[49m\u001B[43m)\u001B[49m\n",
      "File \u001B[0;32m~/dkrz_dev/venv/lib/python3.12/site-packages/xarray/backends/h5netcdf_.py:191\u001B[0m, in \u001B[0;36mH5NetCDFStore._acquire\u001B[0;34m(self, needs_lock)\u001B[0m\n\u001B[1;32m    190\u001B[0m \u001B[38;5;28;01mdef\u001B[39;00m \u001B[38;5;21m_acquire\u001B[39m(\u001B[38;5;28mself\u001B[39m, needs_lock\u001B[38;5;241m=\u001B[39m\u001B[38;5;28;01mTrue\u001B[39;00m):\n\u001B[0;32m--> 191\u001B[0m \u001B[43m    \u001B[49m\u001B[38;5;28;43;01mwith\u001B[39;49;00m\u001B[43m \u001B[49m\u001B[38;5;28;43mself\u001B[39;49m\u001B[38;5;241;43m.\u001B[39;49m\u001B[43m_manager\u001B[49m\u001B[38;5;241;43m.\u001B[39;49m\u001B[43macquire_context\u001B[49m\u001B[43m(\u001B[49m\u001B[43mneeds_lock\u001B[49m\u001B[43m)\u001B[49m\u001B[43m \u001B[49m\u001B[38;5;28;43;01mas\u001B[39;49;00m\u001B[43m \u001B[49m\u001B[43mroot\u001B[49m\u001B[43m:\u001B[49m\n\u001B[1;32m    192\u001B[0m \u001B[43m        \u001B[49m\u001B[43mds\u001B[49m\u001B[43m \u001B[49m\u001B[38;5;241;43m=\u001B[39;49m\u001B[43m \u001B[49m\u001B[43m_nc4_require_group\u001B[49m\u001B[43m(\u001B[49m\n\u001B[1;32m    193\u001B[0m \u001B[43m            \u001B[49m\u001B[43mroot\u001B[49m\u001B[43m,\u001B[49m\u001B[43m \u001B[49m\u001B[38;5;28;43mself\u001B[39;49m\u001B[38;5;241;43m.\u001B[39;49m\u001B[43m_group\u001B[49m\u001B[43m,\u001B[49m\u001B[43m \u001B[49m\u001B[38;5;28;43mself\u001B[39;49m\u001B[38;5;241;43m.\u001B[39;49m\u001B[43m_mode\u001B[49m\u001B[43m,\u001B[49m\u001B[43m \u001B[49m\u001B[43mcreate_group\u001B[49m\u001B[38;5;241;43m=\u001B[39;49m\u001B[43m_h5netcdf_create_group\u001B[49m\n\u001B[1;32m    194\u001B[0m \u001B[43m        \u001B[49m\u001B[43m)\u001B[49m\n\u001B[1;32m    195\u001B[0m     \u001B[38;5;28;01mreturn\u001B[39;00m ds\n",
      "File \u001B[0;32m/usr/lib/python3.12/contextlib.py:137\u001B[0m, in \u001B[0;36m_GeneratorContextManager.__enter__\u001B[0;34m(self)\u001B[0m\n\u001B[1;32m    135\u001B[0m \u001B[38;5;28;01mdel\u001B[39;00m \u001B[38;5;28mself\u001B[39m\u001B[38;5;241m.\u001B[39margs, \u001B[38;5;28mself\u001B[39m\u001B[38;5;241m.\u001B[39mkwds, \u001B[38;5;28mself\u001B[39m\u001B[38;5;241m.\u001B[39mfunc\n\u001B[1;32m    136\u001B[0m \u001B[38;5;28;01mtry\u001B[39;00m:\n\u001B[0;32m--> 137\u001B[0m     \u001B[38;5;28;01mreturn\u001B[39;00m \u001B[38;5;28;43mnext\u001B[39;49m\u001B[43m(\u001B[49m\u001B[38;5;28;43mself\u001B[39;49m\u001B[38;5;241;43m.\u001B[39;49m\u001B[43mgen\u001B[49m\u001B[43m)\u001B[49m\n\u001B[1;32m    138\u001B[0m \u001B[38;5;28;01mexcept\u001B[39;00m \u001B[38;5;167;01mStopIteration\u001B[39;00m:\n\u001B[1;32m    139\u001B[0m     \u001B[38;5;28;01mraise\u001B[39;00m \u001B[38;5;167;01mRuntimeError\u001B[39;00m(\u001B[38;5;124m\"\u001B[39m\u001B[38;5;124mgenerator didn\u001B[39m\u001B[38;5;124m'\u001B[39m\u001B[38;5;124mt yield\u001B[39m\u001B[38;5;124m\"\u001B[39m) \u001B[38;5;28;01mfrom\u001B[39;00m \u001B[38;5;28;01mNone\u001B[39;00m\n",
      "File \u001B[0;32m~/dkrz_dev/venv/lib/python3.12/site-packages/xarray/backends/file_manager.py:199\u001B[0m, in \u001B[0;36mCachingFileManager.acquire_context\u001B[0;34m(self, needs_lock)\u001B[0m\n\u001B[1;32m    196\u001B[0m \u001B[38;5;129m@contextlib\u001B[39m\u001B[38;5;241m.\u001B[39mcontextmanager\n\u001B[1;32m    197\u001B[0m \u001B[38;5;28;01mdef\u001B[39;00m \u001B[38;5;21macquire_context\u001B[39m(\u001B[38;5;28mself\u001B[39m, needs_lock\u001B[38;5;241m=\u001B[39m\u001B[38;5;28;01mTrue\u001B[39;00m):\n\u001B[1;32m    198\u001B[0m \u001B[38;5;250m    \u001B[39m\u001B[38;5;124;03m\"\"\"Context manager for acquiring a file.\"\"\"\u001B[39;00m\n\u001B[0;32m--> 199\u001B[0m     file, cached \u001B[38;5;241m=\u001B[39m \u001B[38;5;28;43mself\u001B[39;49m\u001B[38;5;241;43m.\u001B[39;49m\u001B[43m_acquire_with_cache_info\u001B[49m\u001B[43m(\u001B[49m\u001B[43mneeds_lock\u001B[49m\u001B[43m)\u001B[49m\n\u001B[1;32m    200\u001B[0m     \u001B[38;5;28;01mtry\u001B[39;00m:\n\u001B[1;32m    201\u001B[0m         \u001B[38;5;28;01myield\u001B[39;00m file\n",
      "File \u001B[0;32m~/dkrz_dev/venv/lib/python3.12/site-packages/xarray/backends/file_manager.py:217\u001B[0m, in \u001B[0;36mCachingFileManager._acquire_with_cache_info\u001B[0;34m(self, needs_lock)\u001B[0m\n\u001B[1;32m    215\u001B[0m     kwargs \u001B[38;5;241m=\u001B[39m kwargs\u001B[38;5;241m.\u001B[39mcopy()\n\u001B[1;32m    216\u001B[0m     kwargs[\u001B[38;5;124m\"\u001B[39m\u001B[38;5;124mmode\u001B[39m\u001B[38;5;124m\"\u001B[39m] \u001B[38;5;241m=\u001B[39m \u001B[38;5;28mself\u001B[39m\u001B[38;5;241m.\u001B[39m_mode\n\u001B[0;32m--> 217\u001B[0m file \u001B[38;5;241m=\u001B[39m \u001B[38;5;28;43mself\u001B[39;49m\u001B[38;5;241;43m.\u001B[39;49m\u001B[43m_opener\u001B[49m\u001B[43m(\u001B[49m\u001B[38;5;241;43m*\u001B[39;49m\u001B[38;5;28;43mself\u001B[39;49m\u001B[38;5;241;43m.\u001B[39;49m\u001B[43m_args\u001B[49m\u001B[43m,\u001B[49m\u001B[43m \u001B[49m\u001B[38;5;241;43m*\u001B[39;49m\u001B[38;5;241;43m*\u001B[39;49m\u001B[43mkwargs\u001B[49m\u001B[43m)\u001B[49m\n\u001B[1;32m    218\u001B[0m \u001B[38;5;28;01mif\u001B[39;00m \u001B[38;5;28mself\u001B[39m\u001B[38;5;241m.\u001B[39m_mode \u001B[38;5;241m==\u001B[39m \u001B[38;5;124m\"\u001B[39m\u001B[38;5;124mw\u001B[39m\u001B[38;5;124m\"\u001B[39m:\n\u001B[1;32m    219\u001B[0m     \u001B[38;5;66;03m# ensure file doesn't get overridden when opened again\u001B[39;00m\n\u001B[1;32m    220\u001B[0m     \u001B[38;5;28mself\u001B[39m\u001B[38;5;241m.\u001B[39m_mode \u001B[38;5;241m=\u001B[39m \u001B[38;5;124m\"\u001B[39m\u001B[38;5;124ma\u001B[39m\u001B[38;5;124m\"\u001B[39m\n",
      "File \u001B[0;32m~/dkrz_dev/venv/lib/python3.12/site-packages/h5netcdf/core.py:1522\u001B[0m, in \u001B[0;36mFile.__init__\u001B[0;34m(self, path, mode, invalid_netcdf, phony_dims, **kwargs)\u001B[0m\n\u001B[1;32m   1520\u001B[0m         \u001B[38;5;28mself\u001B[39m\u001B[38;5;241m.\u001B[39m_preexisting_file \u001B[38;5;241m=\u001B[39m os\u001B[38;5;241m.\u001B[39mpath\u001B[38;5;241m.\u001B[39mexists(path) \u001B[38;5;129;01mand\u001B[39;00m mode \u001B[38;5;241m!=\u001B[39m \u001B[38;5;124m\"\u001B[39m\u001B[38;5;124mw\u001B[39m\u001B[38;5;124m\"\u001B[39m\n\u001B[1;32m   1521\u001B[0m         \u001B[38;5;28mself\u001B[39m\u001B[38;5;241m.\u001B[39m_h5py \u001B[38;5;241m=\u001B[39m h5py\n\u001B[0;32m-> 1522\u001B[0m         \u001B[38;5;28mself\u001B[39m\u001B[38;5;241m.\u001B[39m_h5file \u001B[38;5;241m=\u001B[39m \u001B[38;5;28;43mself\u001B[39;49m\u001B[38;5;241;43m.\u001B[39;49m\u001B[43m_h5py\u001B[49m\u001B[38;5;241;43m.\u001B[39;49m\u001B[43mFile\u001B[49m\u001B[43m(\u001B[49m\n\u001B[1;32m   1523\u001B[0m \u001B[43m            \u001B[49m\u001B[43mpath\u001B[49m\u001B[43m,\u001B[49m\u001B[43m \u001B[49m\u001B[43mmode\u001B[49m\u001B[43m,\u001B[49m\u001B[43m \u001B[49m\u001B[43mtrack_order\u001B[49m\u001B[38;5;241;43m=\u001B[39;49m\u001B[43mtrack_order\u001B[49m\u001B[43m,\u001B[49m\u001B[43m \u001B[49m\u001B[38;5;241;43m*\u001B[39;49m\u001B[38;5;241;43m*\u001B[39;49m\u001B[43mkwargs\u001B[49m\n\u001B[1;32m   1524\u001B[0m \u001B[43m        \u001B[49m\u001B[43m)\u001B[49m\n\u001B[1;32m   1525\u001B[0m \u001B[38;5;28;01melif\u001B[39;00m \u001B[38;5;28misinstance\u001B[39m(path, h5py\u001B[38;5;241m.\u001B[39mFile):\n\u001B[1;32m   1526\u001B[0m     \u001B[38;5;28mself\u001B[39m\u001B[38;5;241m.\u001B[39m_preexisting_file \u001B[38;5;241m=\u001B[39m mode \u001B[38;5;129;01min\u001B[39;00m {\u001B[38;5;124m\"\u001B[39m\u001B[38;5;124mr\u001B[39m\u001B[38;5;124m\"\u001B[39m, \u001B[38;5;124m\"\u001B[39m\u001B[38;5;124mr+\u001B[39m\u001B[38;5;124m\"\u001B[39m, \u001B[38;5;124m\"\u001B[39m\u001B[38;5;124ma\u001B[39m\u001B[38;5;124m\"\u001B[39m}\n",
      "File \u001B[0;32m~/dkrz_dev/venv/lib/python3.12/site-packages/h5py/_hl/files.py:561\u001B[0m, in \u001B[0;36mFile.__init__\u001B[0;34m(self, name, mode, driver, libver, userblock_size, swmr, rdcc_nslots, rdcc_nbytes, rdcc_w0, track_order, fs_strategy, fs_persist, fs_threshold, fs_page_size, page_buf_size, min_meta_keep, min_raw_keep, locking, alignment_threshold, alignment_interval, meta_block_size, **kwds)\u001B[0m\n\u001B[1;32m    552\u001B[0m     fapl \u001B[38;5;241m=\u001B[39m make_fapl(driver, libver, rdcc_nslots, rdcc_nbytes, rdcc_w0,\n\u001B[1;32m    553\u001B[0m                      locking, page_buf_size, min_meta_keep, min_raw_keep,\n\u001B[1;32m    554\u001B[0m                      alignment_threshold\u001B[38;5;241m=\u001B[39malignment_threshold,\n\u001B[1;32m    555\u001B[0m                      alignment_interval\u001B[38;5;241m=\u001B[39malignment_interval,\n\u001B[1;32m    556\u001B[0m                      meta_block_size\u001B[38;5;241m=\u001B[39mmeta_block_size,\n\u001B[1;32m    557\u001B[0m                      \u001B[38;5;241m*\u001B[39m\u001B[38;5;241m*\u001B[39mkwds)\n\u001B[1;32m    558\u001B[0m     fcpl \u001B[38;5;241m=\u001B[39m make_fcpl(track_order\u001B[38;5;241m=\u001B[39mtrack_order, fs_strategy\u001B[38;5;241m=\u001B[39mfs_strategy,\n\u001B[1;32m    559\u001B[0m                      fs_persist\u001B[38;5;241m=\u001B[39mfs_persist, fs_threshold\u001B[38;5;241m=\u001B[39mfs_threshold,\n\u001B[1;32m    560\u001B[0m                      fs_page_size\u001B[38;5;241m=\u001B[39mfs_page_size)\n\u001B[0;32m--> 561\u001B[0m     fid \u001B[38;5;241m=\u001B[39m \u001B[43mmake_fid\u001B[49m\u001B[43m(\u001B[49m\u001B[43mname\u001B[49m\u001B[43m,\u001B[49m\u001B[43m \u001B[49m\u001B[43mmode\u001B[49m\u001B[43m,\u001B[49m\u001B[43m \u001B[49m\u001B[43muserblock_size\u001B[49m\u001B[43m,\u001B[49m\u001B[43m \u001B[49m\u001B[43mfapl\u001B[49m\u001B[43m,\u001B[49m\u001B[43m \u001B[49m\u001B[43mfcpl\u001B[49m\u001B[43m,\u001B[49m\u001B[43m \u001B[49m\u001B[43mswmr\u001B[49m\u001B[38;5;241;43m=\u001B[39;49m\u001B[43mswmr\u001B[49m\u001B[43m)\u001B[49m\n\u001B[1;32m    563\u001B[0m \u001B[38;5;28;01mif\u001B[39;00m \u001B[38;5;28misinstance\u001B[39m(libver, \u001B[38;5;28mtuple\u001B[39m):\n\u001B[1;32m    564\u001B[0m     \u001B[38;5;28mself\u001B[39m\u001B[38;5;241m.\u001B[39m_libver \u001B[38;5;241m=\u001B[39m libver\n",
      "File \u001B[0;32m~/dkrz_dev/venv/lib/python3.12/site-packages/h5py/_hl/files.py:235\u001B[0m, in \u001B[0;36mmake_fid\u001B[0;34m(name, mode, userblock_size, fapl, fcpl, swmr)\u001B[0m\n\u001B[1;32m    233\u001B[0m     \u001B[38;5;28;01mif\u001B[39;00m swmr \u001B[38;5;129;01mand\u001B[39;00m swmr_support:\n\u001B[1;32m    234\u001B[0m         flags \u001B[38;5;241m|\u001B[39m\u001B[38;5;241m=\u001B[39m h5f\u001B[38;5;241m.\u001B[39mACC_SWMR_READ\n\u001B[0;32m--> 235\u001B[0m     fid \u001B[38;5;241m=\u001B[39m \u001B[43mh5f\u001B[49m\u001B[38;5;241;43m.\u001B[39;49m\u001B[43mopen\u001B[49m\u001B[43m(\u001B[49m\u001B[43mname\u001B[49m\u001B[43m,\u001B[49m\u001B[43m \u001B[49m\u001B[43mflags\u001B[49m\u001B[43m,\u001B[49m\u001B[43m \u001B[49m\u001B[43mfapl\u001B[49m\u001B[38;5;241;43m=\u001B[39;49m\u001B[43mfapl\u001B[49m\u001B[43m)\u001B[49m\n\u001B[1;32m    236\u001B[0m \u001B[38;5;28;01melif\u001B[39;00m mode \u001B[38;5;241m==\u001B[39m \u001B[38;5;124m'\u001B[39m\u001B[38;5;124mr+\u001B[39m\u001B[38;5;124m'\u001B[39m:\n\u001B[1;32m    237\u001B[0m     fid \u001B[38;5;241m=\u001B[39m h5f\u001B[38;5;241m.\u001B[39mopen(name, h5f\u001B[38;5;241m.\u001B[39mACC_RDWR, fapl\u001B[38;5;241m=\u001B[39mfapl)\n",
      "File \u001B[0;32mh5py/_objects.pyx:54\u001B[0m, in \u001B[0;36mh5py._objects.with_phil.wrapper\u001B[0;34m()\u001B[0m\n",
      "File \u001B[0;32mh5py/_objects.pyx:55\u001B[0m, in \u001B[0;36mh5py._objects.with_phil.wrapper\u001B[0;34m()\u001B[0m\n",
      "File \u001B[0;32mh5py/h5f.pyx:102\u001B[0m, in \u001B[0;36mh5py.h5f.open\u001B[0;34m()\u001B[0m\n",
      "\u001B[0;31mOSError\u001B[0m: Unable to synchronously open file (truncated file: eof = 4718592000, sblock->base_addr = 0, stored_eof = 4732838184)"
     ]
    }
   ],
   "source": [
    "#Todo prepare dataset for testing\n",
    "\n",
    "# filepath_zarr = 'https://power-datastore.s3.amazonaws.com/v9/climatology/power_901_climatology_meteorology_utc.zarr'\n",
    "# \n",
    "# filepath_mapped_zarr = fsspec.get_mapper(filepath_zarr)\n",
    "\n",
    "ds = xr.open_dataset(filename_or_obj='benchmark_ds.nc', engine=\"h5netcdf\") \n",
    "\n",
    "ds.to_zarr('test_dataset.zarr', mode=\"w\")\n",
    "           \n",
    "filepath_mapped_zarr = 'test_dataset.zarr'\n",
    "\n",
    "filepath_nc = \"benchmark_ds.nc\"\n"
   ]
  },
  {
   "cell_type": "code",
   "execution_count": null,
   "id": "3ff585ad6e144f61",
   "metadata": {
    "ExecuteTime": {
     "end_time": "2024-11-04T16:03:58.844768Z",
     "start_time": "2024-11-04T16:03:54.829764Z"
    }
   },
   "outputs": [],
   "source": [
    "%%time \n",
    "ds_zarr = xr.open_zarr(filepath_mapped_zarr, consolidated=True)\n"
   ]
  },
  {
   "cell_type": "code",
   "execution_count": null,
   "id": "d37e8dda5b5ccdb5",
   "metadata": {
    "ExecuteTime": {
     "end_time": "2024-11-04T16:07:23.619732Z",
     "start_time": "2024-11-04T16:07:23.457203Z"
    }
   },
   "outputs": [],
   "source": [
    "%%time \n",
    "max_var = ds_zarr[\"AIRMASS\"].max().compute()\n"
   ]
  },
  {
   "cell_type": "code",
   "execution_count": null,
   "id": "3a1222041420b736",
   "metadata": {
    "ExecuteTime": {
     "end_time": "2024-11-04T16:06:16.585530Z",
     "start_time": "2024-11-04T16:06:16.340868Z"
    }
   },
   "outputs": [],
   "source": [
    "%%time\n",
    "ds_hdf5 = xr.open_dataset(filename_or_obj=filepath_nc, engine=\"h5netcdf\")\n"
   ]
  },
  {
   "cell_type": "code",
   "execution_count": null,
   "id": "fcd381f7ab539d1c",
   "metadata": {},
   "outputs": [],
   "source": [
    "%%time\n",
    "max_var = ds_hdf5[\"AIRMASS\"].max().compute()"
   ]
  },
  {
   "cell_type": "code",
   "execution_count": null,
   "id": "030e03c0-d137-42f9-a144-ea0d33584d0c",
   "metadata": {},
   "outputs": [],
   "source": []
  }
 ],
 "metadata": {
  "kernelspec": {
   "display_name": "Python 3 (ipykernel)",
   "language": "python",
   "name": "python3"
  },
  "language_info": {
   "codemirror_mode": {
    "name": "ipython",
    "version": 3
   },
   "file_extension": ".py",
   "mimetype": "text/x-python",
   "name": "python",
   "nbconvert_exporter": "python",
   "pygments_lexer": "ipython3",
   "version": "3.12.3"
  }
 },
 "nbformat": 4,
 "nbformat_minor": 5
}
